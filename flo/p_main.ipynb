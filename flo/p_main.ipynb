{
 "cells": [
  {
   "attachments": {},
   "cell_type": "markdown",
   "metadata": {},
   "source": [
    "<div align=\"center\"> \n",
    "\n",
    "**hopa1029, klfl1012**\n",
    "\n",
    "<img src=\"s_purple.png\" alt=\"drawing\" width=\"2000\" height= 200/>\n"
   ]
  },
  {
   "attachments": {},
   "cell_type": "markdown",
   "metadata": {},
   "source": [
    "<div align=\"left\">\n",
    "\n",
    "# Übungsblatt 2 - Personalabteilung\n",
    "__________________________________________________________________________________________________________________________________________________________________________________________________________________\n",
    "\n",
    "**DSCB310 – Datenanalyse und Business Intelligence 1**  \n",
    "\n",
    "Wintersemester 22/23"
   ]
  },
  {
   "attachments": {},
   "cell_type": "markdown",
   "metadata": {},
   "source": [
    "##### Gliederung des Notebooks:"
   ]
  },
  {
   "attachments": {},
   "cell_type": "markdown",
   "metadata": {},
   "source": [
    "1. Ziel der Datenanaylse für die Personalabteilung\n",
    "   \n",
    "2. Fragestellungen:\n",
    "\n",
    "   - P1: Prüfen Sie, ob ein Zusammenhang zwischen dem Trinkgeldgeben und dem Vorhandensein eines der folgenden Produkte in einer Bestellung existiert: 24852, 24964, 2120\n",
    "  \n",
    "   - P2: Lassen sich regionale Unterschiede im Trinkgeldverhalten erkennen?\n",
    "  \n",
    "   - P3: Welche Attribute einer Bestellung wirken sich auf das Trinkgeldverhalten aus?\n",
    "  \n",
    "   - P4: Spielt die Vergangenheit eines Users eine Rolle in Hinblick auf die Trinkgeldwahrscheinlichkeit, oder kommt es nur auf Inhalt und Parameter der aktuellen Bestellung an?\n",
    "  \n",
    "3. Zusätzliche Fragestellungen"
   ]
  },
  {
   "attachments": {},
   "cell_type": "markdown",
   "metadata": {},
   "source": [
    "##### Imports, Datensatz und Funktionen: "
   ]
  },
  {
   "attachments": {},
   "cell_type": "markdown",
   "metadata": {},
   "source": [
    "**Imports:**"
   ]
  },
  {
   "cell_type": "code",
   "execution_count": 156,
   "metadata": {},
   "outputs": [],
   "source": [
    "import pandas as pd\n",
    "import numpy as np\n",
    "\n",
    "import plotly.express as px\n",
    "import plotly.graph_objects as go\n",
    "from plotly.subplots import make_subplots\n",
    "\n",
    "from urllib.request import urlopen\n",
    "import json\n",
    "import ssl\n",
    "ssl._create_default_https_context = ssl._create_unverified_context\n",
    "\n",
    "from sklearn.model_selection import train_test_split\n",
    "from sklearn.tree import DecisionTreeClassifier\n",
    "from sklearn.model_selection import GridSearchCV\n",
    "from sklearn.metrics import accuracy_score, recall_score, precision_score\n",
    "from sklearn.ensemble import HistGradientBoostingClassifier\n",
    "from sklearn.pipeline import make_pipeline"
   ]
  },
  {
   "attachments": {},
   "cell_type": "markdown",
   "metadata": {},
   "source": [
    "**Datensatz:**"
   ]
  },
  {
   "cell_type": "code",
   "execution_count": 157,
   "metadata": {},
   "outputs": [],
   "source": [
    "df = pd.read_parquet(\"DSCB310 - UE2 - Shopping Carts.parquet\")"
   ]
  },
  {
   "cell_type": "code",
   "execution_count": 158,
   "metadata": {},
   "outputs": [
    {
     "data": {
      "text/html": [
       "<div>\n",
       "<style scoped>\n",
       "    .dataframe tbody tr th:only-of-type {\n",
       "        vertical-align: middle;\n",
       "    }\n",
       "\n",
       "    .dataframe tbody tr th {\n",
       "        vertical-align: top;\n",
       "    }\n",
       "\n",
       "    .dataframe thead th {\n",
       "        text-align: right;\n",
       "    }\n",
       "</style>\n",
       "<table border=\"1\" class=\"dataframe\">\n",
       "  <thead>\n",
       "    <tr style=\"text-align: right;\">\n",
       "      <th></th>\n",
       "      <th>order_id</th>\n",
       "      <th>product_id</th>\n",
       "      <th>add_to_cart_order</th>\n",
       "      <th>reordered</th>\n",
       "      <th>user_id</th>\n",
       "      <th>order_number</th>\n",
       "      <th>order_dow</th>\n",
       "      <th>order_hour_of_day</th>\n",
       "      <th>days_since_prior_order</th>\n",
       "      <th>tip</th>\n",
       "      <th>product_name</th>\n",
       "      <th>aisle_id</th>\n",
       "      <th>department_id</th>\n",
       "      <th>department</th>\n",
       "      <th>aisle</th>\n",
       "      <th>county</th>\n",
       "    </tr>\n",
       "  </thead>\n",
       "  <tbody>\n",
       "    <tr>\n",
       "      <th>0</th>\n",
       "      <td>1</td>\n",
       "      <td>13176</td>\n",
       "      <td>6</td>\n",
       "      <td>0</td>\n",
       "      <td>112108</td>\n",
       "      <td>4</td>\n",
       "      <td>4</td>\n",
       "      <td>10</td>\n",
       "      <td>9.0</td>\n",
       "      <td>1</td>\n",
       "      <td>Bag of Organic Bananas</td>\n",
       "      <td>24</td>\n",
       "      <td>4</td>\n",
       "      <td>produce</td>\n",
       "      <td>fresh fruits</td>\n",
       "      <td>Inyo</td>\n",
       "    </tr>\n",
       "    <tr>\n",
       "      <th>1</th>\n",
       "      <td>1</td>\n",
       "      <td>11109</td>\n",
       "      <td>2</td>\n",
       "      <td>1</td>\n",
       "      <td>112108</td>\n",
       "      <td>4</td>\n",
       "      <td>4</td>\n",
       "      <td>10</td>\n",
       "      <td>9.0</td>\n",
       "      <td>1</td>\n",
       "      <td>Organic 4% Milk Fat Whole Milk Cottage Cheese</td>\n",
       "      <td>108</td>\n",
       "      <td>16</td>\n",
       "      <td>dairy eggs</td>\n",
       "      <td>other creams cheeses</td>\n",
       "      <td>Inyo</td>\n",
       "    </tr>\n",
       "    <tr>\n",
       "      <th>2</th>\n",
       "      <td>1</td>\n",
       "      <td>10246</td>\n",
       "      <td>3</td>\n",
       "      <td>0</td>\n",
       "      <td>112108</td>\n",
       "      <td>4</td>\n",
       "      <td>4</td>\n",
       "      <td>10</td>\n",
       "      <td>9.0</td>\n",
       "      <td>1</td>\n",
       "      <td>Organic Celery Hearts</td>\n",
       "      <td>83</td>\n",
       "      <td>4</td>\n",
       "      <td>produce</td>\n",
       "      <td>fresh vegetables</td>\n",
       "      <td>Inyo</td>\n",
       "    </tr>\n",
       "    <tr>\n",
       "      <th>3</th>\n",
       "      <td>1</td>\n",
       "      <td>22035</td>\n",
       "      <td>8</td>\n",
       "      <td>1</td>\n",
       "      <td>112108</td>\n",
       "      <td>4</td>\n",
       "      <td>4</td>\n",
       "      <td>10</td>\n",
       "      <td>9.0</td>\n",
       "      <td>1</td>\n",
       "      <td>Organic Whole String Cheese</td>\n",
       "      <td>21</td>\n",
       "      <td>16</td>\n",
       "      <td>dairy eggs</td>\n",
       "      <td>packaged cheese</td>\n",
       "      <td>Inyo</td>\n",
       "    </tr>\n",
       "    <tr>\n",
       "      <th>4</th>\n",
       "      <td>1</td>\n",
       "      <td>49683</td>\n",
       "      <td>4</td>\n",
       "      <td>0</td>\n",
       "      <td>112108</td>\n",
       "      <td>4</td>\n",
       "      <td>4</td>\n",
       "      <td>10</td>\n",
       "      <td>9.0</td>\n",
       "      <td>1</td>\n",
       "      <td>Cucumber Kirby</td>\n",
       "      <td>83</td>\n",
       "      <td>4</td>\n",
       "      <td>produce</td>\n",
       "      <td>fresh vegetables</td>\n",
       "      <td>Inyo</td>\n",
       "    </tr>\n",
       "  </tbody>\n",
       "</table>\n",
       "</div>"
      ],
      "text/plain": [
       "   order_id  product_id  add_to_cart_order  reordered  user_id  order_number  \\\n",
       "0         1       13176                  6          0   112108             4   \n",
       "1         1       11109                  2          1   112108             4   \n",
       "2         1       10246                  3          0   112108             4   \n",
       "3         1       22035                  8          1   112108             4   \n",
       "4         1       49683                  4          0   112108             4   \n",
       "\n",
       "   order_dow  order_hour_of_day  days_since_prior_order  tip  \\\n",
       "0          4                 10                     9.0    1   \n",
       "1          4                 10                     9.0    1   \n",
       "2          4                 10                     9.0    1   \n",
       "3          4                 10                     9.0    1   \n",
       "4          4                 10                     9.0    1   \n",
       "\n",
       "                                    product_name  aisle_id  department_id  \\\n",
       "0                         Bag of Organic Bananas        24              4   \n",
       "1  Organic 4% Milk Fat Whole Milk Cottage Cheese       108             16   \n",
       "2                          Organic Celery Hearts        83              4   \n",
       "3                    Organic Whole String Cheese        21             16   \n",
       "4                                 Cucumber Kirby        83              4   \n",
       "\n",
       "   department                 aisle county  \n",
       "0     produce          fresh fruits   Inyo  \n",
       "1  dairy eggs  other creams cheeses   Inyo  \n",
       "2     produce      fresh vegetables   Inyo  \n",
       "3  dairy eggs       packaged cheese   Inyo  \n",
       "4     produce      fresh vegetables   Inyo  "
      ]
     },
     "execution_count": 158,
     "metadata": {},
     "output_type": "execute_result"
    }
   ],
   "source": [
    "df.reset_index(drop= True).head()"
   ]
  },
  {
   "attachments": {},
   "cell_type": "markdown",
   "metadata": {},
   "source": [
    "**Funktionen:**"
   ]
  },
  {
   "cell_type": "code",
   "execution_count": null,
   "metadata": {},
   "outputs": [],
   "source": [
    "# Einheitliche Print Funktion zur Rückgabe von accuracy, recall und precision des verwendeten Modells\n",
    "\n",
    "def print_evaluation(pipeline_or_model: str, X_train, X_test, y_train, y_test, y_train_pred, y_test_pred):\n",
    "    accurary_train = accuracy_score(y_train, y_train_pred)\n",
    "    recall_train = recall_score(y_train, y_train_pred)\n",
    "    precision_train = precision_score(y_train, y_train_pred)\n",
    "\n",
    "    accurary_test = accuracy_score(y_test, y_test_pred)\n",
    "    recall_test = recall_score(y_test, y_test_pred)\n",
    "    precision_test = precision_score(y_test, y_test_pred)\n",
    "    \n",
    "    print(\n",
    "        f\"{pipeline_or_model} Evaluation:\\n\"\n",
    "        f\"{'':6} {'ACC':>10} | {'REC':>14} | {'PRE':>10} | {'rows':>8} | {'columns':>8}\\n\"\n",
    "        f\"{'Train':6} {accurary_train:10.5f} | {recall_train:14.5f} | {precision_train:10.5f} | {X_train.shape[0]:8} | {X_train.shape[1]:8}\\n\"\n",
    "        f\"{'Test':6} {accurary_test:10.5f} | {recall_test:14.5f} | {precision_test:10.5f} | {X_test.shape[0]:8} | {X_test.shape[1]:8}\\n\"\n",
    "    )"
   ]
  },
  {
   "attachments": {},
   "cell_type": "markdown",
   "metadata": {},
   "source": [
    "## 1. Ziel der Datenanalyse für die Personalabteilung:"
   ]
  },
  {
   "attachments": {},
   "cell_type": "markdown",
   "metadata": {},
   "source": [
    "- Nachvollziehbare und systematische Muster bei der Trinkgeldvergabe finden\n",
    "\n",
    "- Wovon die Wahrscheinlichkeit, bei einer Bestellung Trinkgeld zu erhalten, abhängt\n",
    "\n",
    "-> Damit die Chancengleichheit der Fahrer verbessert wird, indem sie entweder vom Unternehmen extra entlohnt werden oder die vielversprechenden und weniger aussichtsreichen Fahrten gleichmäßig auf die Fahrer verteilt werden können."
   ]
  },
  {
   "attachments": {},
   "cell_type": "markdown",
   "metadata": {},
   "source": [
    "## 2. Fragestellungen:"
   ]
  },
  {
   "attachments": {},
   "cell_type": "markdown",
   "metadata": {},
   "source": [
    "### **P1:** Prüfen Sie, ob ein Zusammenhang zwischen dem Trinkgeldgeben und dem Vorhandensein eines der folgenden Produkte in einer Bestellung existiert: 24852, 24964, 2120:"
   ]
  },
  {
   "cell_type": "code",
   "execution_count": null,
   "metadata": {},
   "outputs": [],
   "source": [
    "df_tip = df.copy()"
   ]
  },
  {
   "cell_type": "code",
   "execution_count": null,
   "metadata": {},
   "outputs": [],
   "source": [
    "df_tip.loc[df_tip.product_id.isin([24852, 24964, 2120])].product_name.unique()"
   ]
  },
  {
   "attachments": {},
   "cell_type": "markdown",
   "metadata": {},
   "source": [
    "##### Bestellungen mit Organic Garlic"
   ]
  },
  {
   "cell_type": "code",
   "execution_count": null,
   "metadata": {},
   "outputs": [],
   "source": [
    "df_tip_1 = df.copy()"
   ]
  },
  {
   "cell_type": "code",
   "execution_count": null,
   "metadata": {},
   "outputs": [],
   "source": [
    "df_tip_1[\"p1_products_in_order\"] = 0\n",
    "df_tip_1.loc[df_tip_1.product_id.isin([24852]), \"p1_products_in_order\"] = 1"
   ]
  },
  {
   "attachments": {},
   "cell_type": "markdown",
   "metadata": {},
   "source": [
    "**Bestellungen die das Produkt Organic Garlic enthalten haben eine höhere Wahrscheinlichkeit einen Tipp zu erhalten**  "
   ]
  },
  {
   "cell_type": "code",
   "execution_count": null,
   "metadata": {},
   "outputs": [],
   "source": [
    "pd.crosstab(df_tip_1.p1_products_in_order, df.tip, margins= True, normalize= \"index\")"
   ]
  },
  {
   "cell_type": "markdown",
   "metadata": {},
   "source": [
    "**Testen ob Unabhängig / Abhängig:**"
   ]
  },
  {
   "attachments": {},
   "cell_type": "markdown",
   "metadata": {},
   "source": [
    "- H0: (Nullhypothese) Die beiden Variablen sind unabhängig.\n",
    "- H1: (alternative Hypothese) Die beiden Variablen sind nicht unabhängig."
   ]
  },
  {
   "cell_type": "code",
   "execution_count": null,
   "metadata": {},
   "outputs": [],
   "source": [
    "pd.crosstab(df_tip_1.p1_products_in_order, df.tip, margins= True)"
   ]
  },
  {
   "cell_type": "code",
   "execution_count": null,
   "metadata": {},
   "outputs": [],
   "source": [
    "import scipy.stats as stats\n",
    "\n",
    "data = pd.crosstab(df_tip_1.p1_products_in_order, df.tip)\n",
    "\n",
    "stats.chi2_contingency(data)"
   ]
  },
  {
   "attachments": {},
   "cell_type": "markdown",
   "metadata": {},
   "source": [
    "Da der p-Wert des Tests weniger als 0.05 beträgt wird die Nullhypothese abgelehnt, es gilt H1."
   ]
  },
  {
   "cell_type": "code",
   "execution_count": null,
   "metadata": {},
   "outputs": [],
   "source": [
    "pd.crosstab(df_tip_1.p1_products_in_order, df.tip, margins= True, normalize= \"all\")"
   ]
  },
  {
   "cell_type": "code",
   "execution_count": null,
   "metadata": {},
   "outputs": [],
   "source": [
    "# hji = hi * hj\n",
    "pd.crosstab(df_tip_1.p1_products_in_order, df.tip, margins= True, normalize= \"all\").iloc[1, 1:2].values[0] == 0.006693 * \t0.007841"
   ]
  },
  {
   "attachments": {},
   "cell_type": "markdown",
   "metadata": {},
   "source": [
    "##### Bestellungen mit Banana"
   ]
  },
  {
   "cell_type": "code",
   "execution_count": null,
   "metadata": {},
   "outputs": [],
   "source": [
    "df_tip_2 = df.copy()"
   ]
  },
  {
   "cell_type": "code",
   "execution_count": null,
   "metadata": {},
   "outputs": [],
   "source": [
    "df_tip_2[\"p1_products_in_order\"] = 0\n",
    "df_tip_2.loc[df_tip_2.product_id.isin([24964]), \"p1_products_in_order\"] = 1"
   ]
  },
  {
   "attachments": {},
   "cell_type": "markdown",
   "metadata": {},
   "source": [
    "**Bestellungen die das Produkt Banana enthalten haben eine höhere Wahrscheinlichkeit einen Tipp zu erhalten**  "
   ]
  },
  {
   "cell_type": "code",
   "execution_count": null,
   "metadata": {},
   "outputs": [],
   "source": [
    "pd.crosstab(df_tip_2.p1_products_in_order, df.tip, margins= True, normalize= \"index\")"
   ]
  },
  {
   "attachments": {},
   "cell_type": "markdown",
   "metadata": {},
   "source": [
    "**Testen ob Unabhängig / Abhängig:**"
   ]
  },
  {
   "attachments": {},
   "cell_type": "markdown",
   "metadata": {},
   "source": [
    "- H0: (Nullhypothese) Die beiden Variablen sind unabhängig.\n",
    "- H1: (alternative Hypothese) Die beiden Variablen sind nicht unabhängig."
   ]
  },
  {
   "cell_type": "code",
   "execution_count": null,
   "metadata": {},
   "outputs": [],
   "source": [
    "pd.crosstab(df_tip_2.p1_products_in_order, df.tip, margins= True)"
   ]
  },
  {
   "cell_type": "code",
   "execution_count": null,
   "metadata": {},
   "outputs": [],
   "source": [
    "import scipy.stats as stats\n",
    "\n",
    "data = pd.crosstab(df_tip_2.p1_products_in_order, df.tip)\n",
    "\n",
    "stats.chi2_contingency(data)"
   ]
  },
  {
   "attachments": {},
   "cell_type": "markdown",
   "metadata": {},
   "source": [
    "Da der p-Wert des Tests weniger als 0.05 beträgt wird die Nullhypothese abgelehnt, es gilt H1."
   ]
  },
  {
   "cell_type": "code",
   "execution_count": null,
   "metadata": {},
   "outputs": [],
   "source": [
    "pd.crosstab(df_tip_2.p1_products_in_order, df.tip, margins= True, normalize= \"all\")"
   ]
  },
  {
   "cell_type": "code",
   "execution_count": null,
   "metadata": {},
   "outputs": [],
   "source": [
    "# hji = hi * hj\n",
    "pd.crosstab(df_tip_2.p1_products_in_order, df.tip, margins= True, normalize= \"all\").iloc[1, 1:2].values[0] == 0.447496 * 0.018123"
   ]
  },
  {
   "attachments": {},
   "cell_type": "markdown",
   "metadata": {},
   "source": [
    "##### Bestellungen mit Sauvignon Blanc"
   ]
  },
  {
   "cell_type": "code",
   "execution_count": null,
   "metadata": {},
   "outputs": [],
   "source": [
    "df_tip_3 = df.copy()"
   ]
  },
  {
   "cell_type": "code",
   "execution_count": null,
   "metadata": {},
   "outputs": [],
   "source": [
    "df_tip_3[\"p1_products_in_order\"] = 0\n",
    "df_tip_3.loc[df_tip_3.product_id.isin([2120]), \"p1_products_in_order\"] = 1"
   ]
  },
  {
   "attachments": {},
   "cell_type": "markdown",
   "metadata": {},
   "source": [
    "**Bestellungen die das Produkt Sauvignon Blanc enthalten haben eine höhere Wahrscheinlichkeit einen Tipp zu erhalten**  "
   ]
  },
  {
   "cell_type": "code",
   "execution_count": null,
   "metadata": {},
   "outputs": [],
   "source": [
    "pd.crosstab(df_tip_3.p1_products_in_order, df.tip, margins= True, normalize= \"index\")"
   ]
  },
  {
   "attachments": {},
   "cell_type": "markdown",
   "metadata": {},
   "source": [
    "**Testen ob Unabhängig / Abhängig:**"
   ]
  },
  {
   "attachments": {},
   "cell_type": "markdown",
   "metadata": {},
   "source": [
    "- H0: (Nullhypothese) Die beiden Variablen sind unabhängig.\n",
    "- H1: (alternative Hypothese) Die beiden Variablen sind nicht unabhängig."
   ]
  },
  {
   "cell_type": "code",
   "execution_count": null,
   "metadata": {},
   "outputs": [],
   "source": [
    "pd.crosstab(df_tip_3.p1_products_in_order, df.tip, margins= True)"
   ]
  },
  {
   "cell_type": "code",
   "execution_count": null,
   "metadata": {},
   "outputs": [],
   "source": [
    "import scipy.stats as stats\n",
    "\n",
    "data = pd.crosstab(df_tip_3.p1_products_in_order, df.tip)\n",
    "\n",
    "stats.chi2_contingency(data)"
   ]
  },
  {
   "attachments": {},
   "cell_type": "markdown",
   "metadata": {},
   "source": [
    "Da der p-Wert des Tests weniger als 0.05 beträgt wird die Nullhypothese abgelehnt, es gilt H1."
   ]
  },
  {
   "cell_type": "code",
   "execution_count": null,
   "metadata": {},
   "outputs": [],
   "source": [
    "pd.crosstab(df_tip_3.p1_products_in_order, df.tip, margins= True, normalize= \"all\")"
   ]
  },
  {
   "cell_type": "code",
   "execution_count": null,
   "metadata": {},
   "outputs": [],
   "source": [
    "# hji = hi * hj\n",
    "pd.crosstab(df_tip_3.p1_products_in_order, df.tip, margins= True, normalize= \"all\").iloc[1, 1:2].values[0] == 0.447496 * 0.018123"
   ]
  },
  {
   "cell_type": "markdown",
   "metadata": {},
   "source": [
    "##### Bestellungen mit Organic Garlic, Banana und Sauvignon Blanc"
   ]
  },
  {
   "cell_type": "code",
   "execution_count": null,
   "metadata": {},
   "outputs": [],
   "source": [
    "df_tip[\"p1_products_in_order\"] = 0\n",
    "df_tip.loc[df_tip.product_id.isin([24852, 24964, 2120]), \"p1_products_in_order\"] = 1"
   ]
  },
  {
   "attachments": {},
   "cell_type": "markdown",
   "metadata": {},
   "source": [
    "**Bestellungen die die Produkte Organic Garlic, Banana und Sauvignon Blanc enthalten haben eine höhere Wahrscheinlichkeit einen Tipp zu erhalten**  "
   ]
  },
  {
   "cell_type": "code",
   "execution_count": null,
   "metadata": {},
   "outputs": [],
   "source": [
    "pd.crosstab(df_tip.p1_products_in_order, df.tip, margins= True, normalize= \"index\")"
   ]
  },
  {
   "attachments": {},
   "cell_type": "markdown",
   "metadata": {},
   "source": [
    "**Testen ob Unabhängig / Abhängig:**"
   ]
  },
  {
   "attachments": {},
   "cell_type": "markdown",
   "metadata": {},
   "source": [
    "- H0: (Nullhypothese) Die beiden Variablen sind unabhängig.\n",
    "- H1: (alternative Hypothese) Die beiden Variablen sind nicht unabhängig."
   ]
  },
  {
   "cell_type": "code",
   "execution_count": null,
   "metadata": {},
   "outputs": [],
   "source": [
    "pd.crosstab(df_tip.p1_products_in_order, df.tip, margins= True)"
   ]
  },
  {
   "cell_type": "code",
   "execution_count": null,
   "metadata": {},
   "outputs": [],
   "source": [
    "import scipy.stats as stats\n",
    "\n",
    "data = pd.crosstab(df_tip.p1_products_in_order, df.tip)\n",
    "\n",
    "stats.chi2_contingency(data)"
   ]
  },
  {
   "attachments": {},
   "cell_type": "markdown",
   "metadata": {},
   "source": [
    "Da der p-Wert des Tests weniger als 0.05 beträgt wird die Nullhypothese abgelehnt, es gilt H1."
   ]
  },
  {
   "cell_type": "code",
   "execution_count": null,
   "metadata": {},
   "outputs": [],
   "source": [
    "pd.crosstab(df_tip.p1_products_in_order, df.tip, margins= True, normalize= \"all\")"
   ]
  },
  {
   "cell_type": "code",
   "execution_count": null,
   "metadata": {},
   "outputs": [],
   "source": [
    "# hji = hi * hj\n",
    "pd.crosstab(df_tip.p1_products_in_order, df.tip, margins= True, normalize= \"all\").iloc[1, 1:2].values[0] == 0.447496 * 0.018123"
   ]
  },
  {
   "attachments": {},
   "cell_type": "markdown",
   "metadata": {},
   "source": [
    "0.447496 * 0.018123 = 0.00811 != 0.009454\n",
    "\n",
    "**Dadurch ist gezeigt, dass die Tippwahrscheinlichkeit der Bestellungen davon abhängig ist, ob sie die Produkte: Organic Garlic, Banana und Sauvignon Blanc enthält.**  \n",
    "**Die Bestelungen die die Produkte enthalten, erhalten statistisch gesehen mehr Trinkgeld.** \n",
    "\n"
   ]
  },
  {
   "attachments": {},
   "cell_type": "markdown",
   "metadata": {},
   "source": [
    "### **P2:** Lassen sich regionale Unterschiede im Trinkgeldverhalten erkennen?"
   ]
  },
  {
   "cell_type": "code",
   "execution_count": null,
   "metadata": {},
   "outputs": [],
   "source": [
    "df_p2 = df.copy()"
   ]
  },
  {
   "attachments": {},
   "cell_type": "markdown",
   "metadata": {},
   "source": [
    "- Durchschnittliche Wahrscheinlichkeit das eine Bestellung Trinkgeld erhält, pro County berechnen"
   ]
  },
  {
   "cell_type": "code",
   "execution_count": null,
   "metadata": {},
   "outputs": [],
   "source": [
    "df_county_tip1 = df_p2.groupby([\"county\", \"order_id\"]).agg(tip = (\"tip\", \"mean\")).reset_index()\n",
    "df_county_tip2 = df_county_tip1.groupby(\"county\").agg(tip = (\"tip\", \"mean\"), orders= (\"order_id\", \"count\")).sort_values(by= \"tip\", ascending= False).reset_index()\n",
    "df_county_tip2[\"orders\"] = df_county_tip2.orders / df_county_tip2.orders.sum()"
   ]
  },
  {
   "cell_type": "code",
   "execution_count": null,
   "metadata": {},
   "outputs": [],
   "source": [
    "df_county_tip2.head(10)"
   ]
  },
  {
   "attachments": {},
   "cell_type": "markdown",
   "metadata": {},
   "source": [
    "**Plotten der Tippwahrscheinlichkeit pro County:**"
   ]
  },
  {
   "cell_type": "code",
   "execution_count": null,
   "metadata": {},
   "outputs": [],
   "source": [
    "# Plot P2: Tippwahrscheinlichkeit pro County\n",
    "\n",
    "fig1 = make_subplots(cols= 1, rows= 2, shared_xaxes= True, shared_yaxes= False, vertical_spacing= 0)\n",
    "\n",
    "for county in df_county_tip2.county:\n",
    "\n",
    " if df_county_tip2[df_county_tip2.county == county].tip.values >= 0.5:\n",
    "  color = px.colors.sequential.Purpor[5]\n",
    "  text= df_county_tip2.loc[df_county_tip2.county == county].tip.values.round(3)\n",
    "\n",
    "  fig1.add_trace(\n",
    "   go.Bar(\n",
    "    x= df_county_tip2.loc[df_county_tip2.county == county].county,\n",
    "    y= df_county_tip2.loc[df_county_tip2.county == county].tip,\n",
    "    name= f\"{county}: {(df_county_tip2.loc[df_county_tip2.county == county].tip.values[0] * 100).round(2)}%\",\n",
    "    showlegend= True,\n",
    "    marker= dict(color= color),\n",
    "    width= 0.8,\n",
    "    text= text,\n",
    "    base= 0,\n",
    "    legendgroup= f\"{county}\",\n",
    "    hovertemplate = f\"<b>{county}</b><br><br>\" +\n",
    "                \"Tipp: %{y}<br>\" +\n",
    "                \"<extra></extra>\"\n",
    "   ),\n",
    "   col= 1,\n",
    "   row= 1\n",
    "  )\n",
    "\n",
    "  fig1.add_trace(\n",
    "   go.Bar(\n",
    "    x= df_county_tip2.loc[df_county_tip2.county == county].county,\n",
    "    y= df_county_tip2.loc[df_county_tip2.county == county].orders,\n",
    "    name= f\"Orders: {(df_county_tip2.loc[df_county_tip2.county == county].orders.values[0] * 100).round(3)}%\",\n",
    "    base = -df_county_tip2.loc[df_county_tip2.county == county].orders,\n",
    "    showlegend= True,\n",
    "    marker= dict(color= color),\n",
    "    width= 0.8,\n",
    "    legendgroup= f\"{county}\",\n",
    "    hovertemplate = f\"<b>{county}</b><br><br>\" +\n",
    "                \"Orders: %{base}<br>\" +\n",
    "                \"<extra></extra>\"\n",
    "   ),\n",
    "   col= 1,\n",
    "   row= 2\n",
    "  )\n",
    "\n",
    " elif 0.4 < df_county_tip2.loc[df_county_tip2.county == county].tip.values < 0.5:\n",
    "  color= px.colors.sequential.Greys[3]\n",
    "\n",
    "  fig1.add_trace(\n",
    "   go.Bar(\n",
    "    x= df_county_tip2.loc[df_county_tip2.county == county].county,\n",
    "    y= df_county_tip2.loc[df_county_tip2.county == county].tip,\n",
    "    name= f\"{county}: {(df_county_tip2.loc[df_county_tip2.county == county].tip.values[0] * 100).round(2)}%\",\n",
    "    showlegend= True,\n",
    "    marker= dict(color= color),\n",
    "    width= 0.8,\n",
    "    base= 0,\n",
    "    legendgroup= f\"{county}\",\n",
    "    hovertemplate = f\"<b>{county}</b><br><br>\" +\n",
    "                \"Tipp: %{y}<br>\" +\n",
    "                \"<extra></extra>\"\n",
    "   ),\n",
    "   col= 1,\n",
    "   row= 1\n",
    "  )\n",
    "\n",
    "  fig1.add_trace(\n",
    "   go.Bar(\n",
    "    x= df_county_tip2.loc[df_county_tip2.county == county].county,\n",
    "    y= df_county_tip2.loc[df_county_tip2.county == county].orders,\n",
    "    name= f\"Orders: {(df_county_tip2.loc[df_county_tip2.county == county].orders.values[0] * 100).round(3)}%\",\n",
    "    base = -df_county_tip2.loc[df_county_tip2.county == county].orders,\n",
    "    showlegend= True,\n",
    "    marker= dict(color= color),\n",
    "    width= 0.8,\n",
    "    legendgroup= f\"{county}\",\n",
    "    hovertemplate = f\"<b>{county}</b><br><br>\" +\n",
    "                \"Orders: %{base}<br>\" +\n",
    "                \"<extra></extra>\"\n",
    "   ),\n",
    "   col= 1,\n",
    "   row= 2\n",
    "  )\n",
    "\n",
    " elif 0.3 < df_county_tip2.loc[df_county_tip2.county == county].tip.values < 0.4:\n",
    "  color= px.colors.sequential.Greys[2]\n",
    "\n",
    "  fig1.add_trace(\n",
    "   go.Bar(\n",
    "    x= df_county_tip2.loc[df_county_tip2.county == county].county,\n",
    "    y= df_county_tip2.loc[df_county_tip2.county == county].tip,\n",
    "    name= f\"{county}: {(df_county_tip2.loc[df_county_tip2.county == county].tip.values[0] * 100).round(2)}%\",\n",
    "    showlegend= True,\n",
    "    marker= dict(color= color),\n",
    "    width= 0.8,\n",
    "    base= 0,\n",
    "    legendgroup= f\"{county}\",\n",
    "    hovertemplate = f\"<b>{county}</b><br><br>\" +\n",
    "                \"Tipp: %{y}<br>\" +\n",
    "                \"<extra></extra>\"\n",
    "   ),\n",
    "   col= 1,\n",
    "   row= 1\n",
    "  )\n",
    "\n",
    "  fig1.add_trace(\n",
    "   go.Bar(\n",
    "    x= df_county_tip2.loc[df_county_tip2.county == county].county,\n",
    "    y= df_county_tip2.loc[df_county_tip2.county == county].orders,\n",
    "    name= f\"Orders: {(df_county_tip2.loc[df_county_tip2.county == county].orders.values[0] * 100).round(3)}%\",\n",
    "    base = -df_county_tip2.loc[df_county_tip2.county == county].orders,\n",
    "    showlegend= True,\n",
    "    marker= dict(color= color),\n",
    "    width= 0.8,\n",
    "    legendgroup= f\"{county}\",\n",
    "    hovertemplate = f\"<b>{county}</b><br><br>\" +\n",
    "                \"Orders: %{base}<br>\" +\n",
    "                \"<extra></extra>\"\n",
    "   ),\n",
    "   col= 1,\n",
    "   row= 2\n",
    "  )\n",
    "\n",
    " elif 0.2 < df_county_tip2.loc[df_county_tip2.county == county].tip.values < 0.3:\n",
    "  color= px.colors.sequential.Greys[1]\n",
    "  text= df_county_tip2.loc[df_county_tip2.county == county].tip.values.round(3)\n",
    "\n",
    "  fig1.add_trace(\n",
    "   go.Bar(\n",
    "    x= df_county_tip2.loc[df_county_tip2.county == county].county,\n",
    "    y= df_county_tip2.loc[df_county_tip2.county == county].tip,\n",
    "    name= f\"{county}: {(df_county_tip2.loc[df_county_tip2.county == county].tip.values[0] * 100).round(2)}%\",\n",
    "    showlegend= True,\n",
    "    marker= dict(color= color),\n",
    "    width= 0.8,\n",
    "    text= text,\n",
    "    base= 0,\n",
    "    legendgroup= f\"{county}\",\n",
    "    hovertemplate = f\"<b>{county}</b><br><br>\" +\n",
    "                \"Tipp: %{y}<br>\" +\n",
    "                \"<extra></extra>\"\n",
    "   ),\n",
    "   col= 1,\n",
    "   row= 1\n",
    "  )\n",
    "\n",
    "  fig1.add_trace(\n",
    "   go.Bar(\n",
    "    x= df_county_tip2.loc[df_county_tip2.county == county].county,\n",
    "    y= df_county_tip2.loc[df_county_tip2.county == county].orders,\n",
    "    name= f\"Orders: {(df_county_tip2.loc[df_county_tip2.county == county].orders.values[0] * 100).round(3)}%\",\n",
    "    base = -df_county_tip2.loc[df_county_tip2.county == county].orders,\n",
    "    showlegend= True,\n",
    "    marker= dict(color= color),\n",
    "    width= 0.8,\n",
    "    legendgroup= f\"{county}\",\n",
    "    hovertemplate = f\"<b>{county}</b><br><br>\" +\n",
    "                \"Orders: %{base}<br>\" +\n",
    "                \"<extra></extra>\"\n",
    "   ),\n",
    "   col= 1,\n",
    "   row= 2\n",
    "  )\n",
    "\n",
    "fig1.add_hline(\n",
    " y= 0.5,\n",
    " opacity= 0.3,\n",
    " line_dash= \"solid\",\n",
    " annotation_text= 0.5,\n",
    " annotation_position= \"top right\",\n",
    " line_color= px.colors.sequential.Greys[7],\n",
    " annotation_font_color= px.colors.sequential.Greys[7],\n",
    " annotation_font_size= 12,\n",
    " layer= \"below\",\n",
    " col= 1,\n",
    " row= 1\n",
    ")\n",
    "\n",
    "fig1.add_hline(\n",
    " y= 0.3,\n",
    " opacity= 0.3,\n",
    " line_dash= \"solid\",\n",
    " annotation_text= 0.3,\n",
    " annotation_position= \"top right\",\n",
    " line_color= px.colors.sequential.Greys[7],\n",
    " annotation_font_color= px.colors.sequential.Greys[7],\n",
    " annotation_font_size= 12,\n",
    " layer= \"below\",\n",
    " col= 1,\n",
    " row= 1\n",
    ")\n",
    "\n",
    "fig1.add_hline(\n",
    " y= -0.05,\n",
    " opacity= 0.3,\n",
    " line_dash= \"solid\",\n",
    " annotation_text= -0.05,\n",
    " annotation_position= \"top right\",\n",
    " line_color= px.colors.sequential.Greys[7],\n",
    " annotation_font_color= px.colors.sequential.Greys[7],\n",
    " annotation_font_size= 12,\n",
    " layer= \"below\",\n",
    " col= 1,\n",
    " row= 2\n",
    ")\n",
    "\n",
    "fig1.add_hline(\n",
    " y= -0.03,\n",
    " opacity= 0.3,\n",
    " line_dash= \"solid\",\n",
    " annotation_text= -0.03,\n",
    " annotation_position= \"top right\",\n",
    " line_color= px.colors.sequential.Greys[7],\n",
    " annotation_font_color= px.colors.sequential.Greys[7],\n",
    " annotation_font_size= 12,\n",
    " layer= \"below\",\n",
    " col= 1,\n",
    " row= 2\n",
    ")\n",
    "\n",
    "fig1.add_hline(\n",
    " y= 0,\n",
    " opacity= 0.2,\n",
    " line_dash= \"solid\",\n",
    " line_color= \"black\",\n",
    " col= 1,\n",
    " row= 1\n",
    ")\n",
    "\n",
    "fig1.add_hline(\n",
    " y= 0,\n",
    " opacity= 0.2,\n",
    " line_dash= \"solid\",\n",
    " line_color= \"black\",\n",
    " col= 1,\n",
    " row= 2\n",
    ")\n",
    "\n",
    "fig1.add_vline(\n",
    " x= -1,\n",
    " opacity= 0.8,\n",
    " line_dash= \"solid\",\n",
    " line_color= \"black\",\n",
    " layer= \"below\",\n",
    " col= 1,\n",
    " row= 2\n",
    ")\n",
    "\n",
    "fig1.add_vline(\n",
    " x= -1,\n",
    " opacity= 0.8,\n",
    " line_dash= \"solid\",\n",
    " line_color= \"black\",\n",
    " layer= \"below\",\n",
    " col= 1,\n",
    " row= 1\n",
    ")\n",
    "\n",
    "fig1.add_hline(\n",
    " y= -0.075,\n",
    " opacity= 0.8,\n",
    " line_dash= \"solid\",\n",
    " line_color= \"black\",\n",
    " col= 1,\n",
    " row= 2\n",
    ")\n",
    "\n",
    "fig1.update_annotations(opacity= 0.8)\n",
    "fig1.update_layout(title= dict(text= \"<b>Regionale Unterschiede im Trinkgeldverhalten</b>\", font_size= 20, xanchor= \"center\", yanchor= \"top\", y=0.935, x=0.475), legend_title_text = \"<b>Counties</b>\", height= 700)\n",
    "fig1.update_xaxes(title_text=\"<b>Counties</b>\", ticks= \"outside\", col= 1, row= 2, showline= True)\n",
    "fig1.update_xaxes(showline= False, col= 1, row= 1)\n",
    "fig1.update_yaxes(title_text=\"<b>Tipp Wshk.</b>\", ticks= \"outside\", showgrid= True, gridcolor= \"grey\", col= 1, row= 1, tickvals= [0, 0.1, 0.2, 0.3, 0.4, 0.5], showline= False)\n",
    "fig1.update_yaxes(title_text=\"<b>Order Anteil</b>\", ticks= \"outside\", showgrid= True, gridcolor= \"grey\", col= 1, row= 2, tickvals= [0, -0.01, -0.03, -0.05, -0.07])\n",
    "fig1.update_layout(plot_bgcolor= \"white\", xaxis= dict(linecolor= \"black\"), yaxis= dict(linecolor= \"black\"))\n",
    "fig1.show()"
   ]
  },
  {
   "cell_type": "code",
   "execution_count": null,
   "metadata": {},
   "outputs": [],
   "source": [
    "with urlopen('https://raw.githubusercontent.com/plotly/datasets/master/geojson-counties-fips.json') as response:\n",
    "    geojsn = json.load(response)"
   ]
  },
  {
   "cell_type": "code",
   "execution_count": null,
   "metadata": {},
   "outputs": [],
   "source": [
    "a = geojsn[\"features\"].__len__()\n",
    "for i in range(a,0,-1):\n",
    "    if geojsn[\"features\"][i-1][\"properties\"][\"STATE\"] != \"06\":\n",
    "        geojsn[\"features\"].pop(i-1)"
   ]
  },
  {
   "cell_type": "code",
   "execution_count": null,
   "metadata": {},
   "outputs": [],
   "source": [
    "# Plot P2: Regionale Unterschiede im Tippverhalten Map\n",
    "\n",
    "colorscales = [(0,px.colors.sequential.Greys[0]),\n",
    "                (0.3, px.colors.sequential.Greys[2]),\n",
    "                (0.6, px.colors.sequential.Purp[3]),\n",
    "                (0.8, px.colors.sequential.Purp[5]),\n",
    "                (1,px.colors.sequential.Purpor[5])]\n",
    "\n",
    "\n",
    "fig = make_subplots(cols= 1, rows= 3, specs = [[dict(type= \"choroplethmapbox\", rowspan= 2)],[dict(type= \"choroplethmapbox\", rowspan= 2)], [dict(type= \"table\")]], vertical_spacing = 0.03, shared_xaxes= True)\n",
    "\n",
    "fig.add_trace(\n",
    "    go.Choroplethmapbox(\n",
    "        geojson= geojsn,\n",
    "        featureidkey= \"properties.NAME\",\n",
    "        locations= df_county_tip2.county,\n",
    "        z= df_county_tip2.tip,\n",
    "        showlegend=False,\n",
    "        showscale=True,\n",
    "        marker= dict(line= dict(width= 0.2, color= \"black\"), opacity= 1),\n",
    "        colorscale = colorscales\n",
    "    ),\n",
    "    col= 1,\n",
    "    row= 1\n",
    ")\n",
    "\n",
    "fig.add_trace(\n",
    "    go.Table(\n",
    "        columnorder= [1, 2, 3, 4, 5],\n",
    "        columnwidth= [1, 1, 1, 1, 1],\n",
    "        header= dict(\n",
    "            values= list(df_county_tip2.columns),\n",
    "            fill_color= px.colors.sequential.Purp[3],\n",
    "            line_color= px.colors.sequential.Greys[4],\n",
    "            font= dict(color= \"white\", size=15),\n",
    "            height= 35\n",
    "        ),\n",
    "        cells= dict(\n",
    "            values= df_county_tip2.round(3).T.values,\n",
    "            line_color= px.colors.sequential.Greys[4],\n",
    "            fill_color= \"white\",\n",
    "            font= dict(color= \"black\", size=13),\n",
    "            align= \"center\",\n",
    "            height= 30\n",
    "        )\n",
    "    ),\n",
    "    col= 1,\n",
    "    row= 3\n",
    ")\n",
    "\n",
    "fig.update_layout(mapbox_style=\"carto-positron\",\n",
    "                    mapbox_zoom= 4.3,\n",
    "                    mapbox_center = {\"lat\": 37, \"lon\": -120},\n",
    "                    height= 700,\n",
    "                    title= dict(text= \"<b>Regionale Unterschiede im Trinkgeldverhalten</b>\",\n",
    "                                font_size= 20,\n",
    "                                y= 0.99,\n",
    "                                x= 0.45\n",
    "                            )\n",
    "                )\n",
    "fig.update_layout(margin={\"r\":0,\"t\":0,\"l\":0,\"b\":0})\n",
    "fig.show()"
   ]
  },
  {
   "attachments": {},
   "cell_type": "markdown",
   "metadata": {},
   "source": [
    "- Trinkgeldwahrscheinlichkeit bewegt sich im Bereich von 28.2% in Tulare bis 53.1% in San Diego\n",
    "\n",
    "- Placer und Trinity haben 0.0076% und 0.0305% zu geringen Anteil am Bestelldatensatz, weshalb sie für Aussagen nicht berücksichtig werden"
   ]
  },
  {
   "attachments": {},
   "cell_type": "markdown",
   "metadata": {},
   "source": [
    "### **P3:** Welche Attribute einer Bestellung wirken sich auf das Trinkgeldverhalten aus?"
   ]
  },
  {
   "cell_type": "code",
   "execution_count": 160,
   "metadata": {},
   "outputs": [],
   "source": [
    "df_p3 = df.copy()"
   ]
  },
  {
   "attachments": {},
   "cell_type": "markdown",
   "metadata": {},
   "source": [
    "#### Korrelationsanalyse"
   ]
  },
  {
   "cell_type": "code",
   "execution_count": null,
   "metadata": {},
   "outputs": [],
   "source": [
    "df_p3[[\"product_id\", \"add_to_cart_order\",\t\"reordered\",\t\"order_number\",\t\"order_dow\",\t\"order_hour_of_day\",\t\"days_since_prior_order\",\t\"product_name\",\t\"aisle_id\",\t\"department_id\",\t\"county\", \"tip\"]].corr()"
   ]
  },
  {
   "attachments": {},
   "cell_type": "markdown",
   "metadata": {},
   "source": [
    "- Werte sind alle < 0.15, daher lässt sich über die Korrelation keine ausreichendere Aussage zu der Frage treffen  "
   ]
  },
  {
   "cell_type": "markdown",
   "metadata": {},
   "source": [
    "#### Machine Learning Modell und Feature Importance:"
   ]
  },
  {
   "attachments": {},
   "cell_type": "markdown",
   "metadata": {},
   "source": [
    "- Da mit der Korrelation keine richtige Aussage getroffen werden konnte, wird anhand der Feature Importance eines Modelles versucht die Attribute zu finden, die die Trinkgeldwahrscheinlichkeit am stärsten beeinflussen\n",
    "  \n",
    "- Dabei werden nur 10% des gesamt Datensatz verwendet, um Rechenzeit einzusparen\n",
    "  \n",
    "- Anschließend wird ein Entscheidungsbaum auf diesem Sample trainiert und die Feature Importance der einzelene Attribute des Datensatzes bestimmt und diese dann genauer analysiert"
   ]
  },
  {
   "attachments": {},
   "cell_type": "markdown",
   "metadata": {},
   "source": [
    "##### Preprocessing"
   ]
  },
  {
   "cell_type": "code",
   "execution_count": null,
   "metadata": {},
   "outputs": [],
   "source": [
    "df_ml = df_p3.reset_index(drop= True)"
   ]
  },
  {
   "attachments": {},
   "cell_type": "markdown",
   "metadata": {},
   "source": [
    "**Sampling des Datensatzes auf 10% um Rechenzeit zu ersparen**"
   ]
  },
  {
   "cell_type": "code",
   "execution_count": null,
   "metadata": {},
   "outputs": [],
   "source": [
    "df_sample = df_ml.sample(frac= 0.1)"
   ]
  },
  {
   "cell_type": "code",
   "execution_count": null,
   "metadata": {},
   "outputs": [],
   "source": [
    "df_classifier = df_sample.copy()"
   ]
  },
  {
   "attachments": {},
   "cell_type": "markdown",
   "metadata": {},
   "source": [
    "**One Hot Encoding der Spalten County und days_since_prior_order zum weiterverarbeiten**"
   ]
  },
  {
   "cell_type": "code",
   "execution_count": null,
   "metadata": {},
   "outputs": [],
   "source": [
    "df_classifier = pd.get_dummies(df_classifier, columns= [\"county\", \"days_since_prior_order\"], dummy_na= True)"
   ]
  },
  {
   "cell_type": "code",
   "execution_count": null,
   "metadata": {},
   "outputs": [],
   "source": [
    "X = df_classifier.drop([\"product_name\", \"department\", \"aisle\", \"tip\"], axis= 1)\n",
    "y = df_classifier[\"tip\"]"
   ]
  },
  {
   "cell_type": "code",
   "execution_count": null,
   "metadata": {},
   "outputs": [],
   "source": [
    "X_train, X_test, y_train, y_test = train_test_split(X, y, test_size= 0.2, random_state=0)"
   ]
  },
  {
   "attachments": {},
   "cell_type": "markdown",
   "metadata": {},
   "source": [
    "##### **DTC**"
   ]
  },
  {
   "attachments": {},
   "cell_type": "markdown",
   "metadata": {},
   "source": [
    "- Mittels einer 5-Fachen Kreuzvalidierung und Hyperparametertuning wird die beste Kombination aus Baumtiefe (max_depth) und minimaler Anzahl an benötigter Beispiele für einen Split (min_samples) gesucht:"
   ]
  },
  {
   "cell_type": "code",
   "execution_count": null,
   "metadata": {},
   "outputs": [],
   "source": [
    "gs_crss_dtc = GridSearchCV(\n",
    " estimator= DecisionTreeClassifier(),\n",
    " param_grid= dict(min_samples_split= [2, 10, 20, 50, 100], max_depth= [1, 3, 5, 9], random_state= [0]),\n",
    " scoring= \"accuracy\",\n",
    " n_jobs= -1\n",
    ").fit(X_train, y_train)\n",
    "\n",
    "print(f\"Best param: {gs_crss_dtc.best_params_} with acc: {gs_crss_dtc.best_score_}\")"
   ]
  },
  {
   "cell_type": "code",
   "execution_count": null,
   "metadata": {},
   "outputs": [],
   "source": [
    "best_dtc = DecisionTreeClassifier(max_depth= 9, min_samples_split= 2, random_state= 0).fit(X_train, y_train)\n",
    "\n",
    "y_best_train_pred = best_dtc.predict(X_train)\n",
    "y_best_test_pred = best_dtc.predict(X_test)\n",
    "\n",
    "print_evaluation(\"DTC\", X_train, X_test, y_train, y_test, y_best_train_pred, y_best_test_pred)"
   ]
  },
  {
   "cell_type": "code",
   "execution_count": null,
   "metadata": {},
   "outputs": [],
   "source": [
    "feature_importances = pd.DataFrame.from_dict(dict(zip(X.columns, best_dtc.feature_importances_)), orient= \"index\", columns= [\"feature_importance\"])\n",
    "\n",
    "df_feature_imp = feature_importances.reset_index().rename(columns= {\"index\": \"feature\"})"
   ]
  },
  {
   "cell_type": "code",
   "execution_count": null,
   "metadata": {},
   "outputs": [],
   "source": [
    "df_feature_imp = df_feature_imp.sort_values(by= \"feature_importance\", ascending= True).tail(9)\n",
    "df_feature_imp"
   ]
  },
  {
   "cell_type": "code",
   "execution_count": null,
   "metadata": {},
   "outputs": [],
   "source": [
    "# P3 Plot: Feature Importance\n",
    "\n",
    "fig = go.Figure()\n",
    "\n",
    "\n",
    "for feature in df_feature_imp.feature.unique():\n",
    "\n",
    " if df_feature_imp.loc[df_feature_imp.feature == feature].feature_importance.values >= 0.1:\n",
    "  color= px.colors.sequential.Purpor[5]\n",
    "\n",
    "  fig.add_trace(\n",
    "   go.Bar(\n",
    "    x= df_feature_imp.loc[df_feature_imp.feature == feature].feature_importance,\n",
    "    y= df_feature_imp.loc[df_feature_imp.feature == feature].feature,\n",
    "    marker= dict(color= color),\n",
    "    orientation = \"h\",\n",
    "    text= df_feature_imp.loc[df_feature_imp.feature == feature].feature_importance.round(2),\n",
    "    showlegend= False,\n",
    "    width= 0.8,\n",
    "    hovertemplate= f\"<b>{feature}</b><br><br>\" +\n",
    "                   \"feature_importance: %{x}<br>\" +\n",
    "                   \"<extra></extra>\"\n",
    "    )\n",
    "  )\n",
    " else:\n",
    "  color= px.colors.sequential.Greys[3]\n",
    "\n",
    "  fig.add_trace(\n",
    "   go.Bar(\n",
    "    x= df_feature_imp.loc[df_feature_imp.feature == feature].feature_importance,\n",
    "    y= df_feature_imp.loc[df_feature_imp.feature == feature].feature,\n",
    "    marker= dict(color= color),\n",
    "    orientation = \"h\",\n",
    "    text= df_feature_imp.loc[df_feature_imp.feature == feature].feature_importance.round(3),\n",
    "    showlegend= False,\n",
    "    width= 0.8,\n",
    "    hovertemplate= f\"<b>{feature}</b><br><br>\" +\n",
    "                   \"feature_importance: %{x}<br>\" +\n",
    "                   \"<extra></extra>\"\n",
    "    )\n",
    "  )\n",
    "\n",
    "fig.update_layout(title= dict(text= \"<b>Feature Importance der Attribute</b>\", font_size= 20, xanchor= \"center\", yanchor= \"top\", y=0.935, x=0.475), height= 600)\n",
    "fig.update_xaxes(title_text=\"<b>Importance</b>\", ticks= \"outside\")\n",
    "fig.update_xaxes(showline= True)\n",
    "fig.update_yaxes(title_text=\"<b>Feature</b>\", ticks= \"outside\", showgrid= True, gridcolor= \"grey\", showline= True)\n",
    "fig.update_layout(plot_bgcolor= \"white\", xaxis= dict(linecolor= \"black\"), yaxis= dict(linecolor= \"black\"))\n",
    "fig.show()"
   ]
  },
  {
   "attachments": {},
   "cell_type": "markdown",
   "metadata": {},
   "source": [
    "#### Attribut: order_dow"
   ]
  },
  {
   "attachments": {},
   "cell_type": "markdown",
   "metadata": {},
   "source": [
    "- Gruppieren der Bestelldaten nach Wochentagen und anschließend berechnen der Trinkgeldwahrscheinlichkeit  "
   ]
  },
  {
   "cell_type": "code",
   "execution_count": 161,
   "metadata": {},
   "outputs": [
    {
     "data": {
      "text/html": [
       "<div>\n",
       "<style scoped>\n",
       "    .dataframe tbody tr th:only-of-type {\n",
       "        vertical-align: middle;\n",
       "    }\n",
       "\n",
       "    .dataframe tbody tr th {\n",
       "        vertical-align: top;\n",
       "    }\n",
       "\n",
       "    .dataframe thead th {\n",
       "        text-align: right;\n",
       "    }\n",
       "</style>\n",
       "<table border=\"1\" class=\"dataframe\">\n",
       "  <thead>\n",
       "    <tr style=\"text-align: right;\">\n",
       "      <th></th>\n",
       "      <th>order_dow</th>\n",
       "      <th>order_id</th>\n",
       "      <th>tip_orders_per_day</th>\n",
       "    </tr>\n",
       "  </thead>\n",
       "  <tbody>\n",
       "    <tr>\n",
       "      <th>0</th>\n",
       "      <td>0</td>\n",
       "      <td>4</td>\n",
       "      <td>1.0</td>\n",
       "    </tr>\n",
       "    <tr>\n",
       "      <th>1</th>\n",
       "      <td>0</td>\n",
       "      <td>6</td>\n",
       "      <td>0.0</td>\n",
       "    </tr>\n",
       "    <tr>\n",
       "      <th>2</th>\n",
       "      <td>0</td>\n",
       "      <td>9</td>\n",
       "      <td>1.0</td>\n",
       "    </tr>\n",
       "    <tr>\n",
       "      <th>3</th>\n",
       "      <td>0</td>\n",
       "      <td>10</td>\n",
       "      <td>0.0</td>\n",
       "    </tr>\n",
       "    <tr>\n",
       "      <th>4</th>\n",
       "      <td>0</td>\n",
       "      <td>19</td>\n",
       "      <td>1.0</td>\n",
       "    </tr>\n",
       "  </tbody>\n",
       "</table>\n",
       "</div>"
      ],
      "text/plain": [
       "   order_dow  order_id  tip_orders_per_day\n",
       "0          0         4                 1.0\n",
       "1          0         6                 0.0\n",
       "2          0         9                 1.0\n",
       "3          0        10                 0.0\n",
       "4          0        19                 1.0"
      ]
     },
     "execution_count": 161,
     "metadata": {},
     "output_type": "execute_result"
    }
   ],
   "source": [
    "df1 = df_p3.groupby([\"order_dow\", \"order_id\"], as_index= False).agg(tip_orders_per_day = (\"tip\", \"mean\"))\n",
    "df1.head()"
   ]
  },
  {
   "cell_type": "code",
   "execution_count": 162,
   "metadata": {},
   "outputs": [
    {
     "data": {
      "text/html": [
       "<div>\n",
       "<style scoped>\n",
       "    .dataframe tbody tr th:only-of-type {\n",
       "        vertical-align: middle;\n",
       "    }\n",
       "\n",
       "    .dataframe tbody tr th {\n",
       "        vertical-align: top;\n",
       "    }\n",
       "\n",
       "    .dataframe thead th {\n",
       "        text-align: right;\n",
       "    }\n",
       "</style>\n",
       "<table border=\"1\" class=\"dataframe\">\n",
       "  <thead>\n",
       "    <tr style=\"text-align: right;\">\n",
       "      <th></th>\n",
       "      <th>order_dow</th>\n",
       "      <th>tip</th>\n",
       "      <th>orders</th>\n",
       "      <th>tip_norm</th>\n",
       "      <th>orders_norm</th>\n",
       "    </tr>\n",
       "  </thead>\n",
       "  <tbody>\n",
       "    <tr>\n",
       "      <th>0</th>\n",
       "      <td>0</td>\n",
       "      <td>53749.0</td>\n",
       "      <td>106842</td>\n",
       "      <td>0.503070</td>\n",
       "      <td>0.176041</td>\n",
       "    </tr>\n",
       "    <tr>\n",
       "      <th>1</th>\n",
       "      <td>1</td>\n",
       "      <td>54928.0</td>\n",
       "      <td>104713</td>\n",
       "      <td>0.524558</td>\n",
       "      <td>0.172533</td>\n",
       "    </tr>\n",
       "    <tr>\n",
       "      <th>2</th>\n",
       "      <td>2</td>\n",
       "      <td>30614.0</td>\n",
       "      <td>83177</td>\n",
       "      <td>0.368058</td>\n",
       "      <td>0.137049</td>\n",
       "    </tr>\n",
       "    <tr>\n",
       "      <th>3</th>\n",
       "      <td>3</td>\n",
       "      <td>27884.0</td>\n",
       "      <td>77329</td>\n",
       "      <td>0.360589</td>\n",
       "      <td>0.127413</td>\n",
       "    </tr>\n",
       "    <tr>\n",
       "      <th>4</th>\n",
       "      <td>4</td>\n",
       "      <td>27780.0</td>\n",
       "      <td>75323</td>\n",
       "      <td>0.368812</td>\n",
       "      <td>0.124108</td>\n",
       "    </tr>\n",
       "  </tbody>\n",
       "</table>\n",
       "</div>"
      ],
      "text/plain": [
       "   order_dow      tip  orders  tip_norm  orders_norm\n",
       "0          0  53749.0  106842  0.503070     0.176041\n",
       "1          1  54928.0  104713  0.524558     0.172533\n",
       "2          2  30614.0   83177  0.368058     0.137049\n",
       "3          3  27884.0   77329  0.360589     0.127413\n",
       "4          4  27780.0   75323  0.368812     0.124108"
      ]
     },
     "execution_count": 162,
     "metadata": {},
     "output_type": "execute_result"
    }
   ],
   "source": [
    "df_order_dow= df1.groupby(\"order_dow\", as_index= False).agg(tip = (\"tip_orders_per_day\",\"sum\"), orders= (\"order_id\", \"nunique\"))\n",
    "df_order_dow[\"tip_norm\"] = df_order_dow.tip / df_order_dow.orders\n",
    "df_order_dow[\"orders_norm\"] = df_order_dow.orders / df_order_dow.orders.sum()\n",
    "df_order_dow.head()"
   ]
  },
  {
   "cell_type": "code",
   "execution_count": 163,
   "metadata": {},
   "outputs": [
    {
     "data": {
      "text/html": [
       "<div>\n",
       "<style scoped>\n",
       "    .dataframe tbody tr th:only-of-type {\n",
       "        vertical-align: middle;\n",
       "    }\n",
       "\n",
       "    .dataframe tbody tr th {\n",
       "        vertical-align: top;\n",
       "    }\n",
       "\n",
       "    .dataframe thead th {\n",
       "        text-align: right;\n",
       "    }\n",
       "</style>\n",
       "<table border=\"1\" class=\"dataframe\">\n",
       "  <thead>\n",
       "    <tr style=\"text-align: right;\">\n",
       "      <th></th>\n",
       "      <th>order_dow</th>\n",
       "      <th>tip</th>\n",
       "      <th>orders</th>\n",
       "      <th>tip_norm</th>\n",
       "      <th>orders_norm</th>\n",
       "      <th>order_dow_day</th>\n",
       "    </tr>\n",
       "  </thead>\n",
       "  <tbody>\n",
       "    <tr>\n",
       "      <th>0</th>\n",
       "      <td>0</td>\n",
       "      <td>53749.0</td>\n",
       "      <td>106842</td>\n",
       "      <td>0.503070</td>\n",
       "      <td>0.176041</td>\n",
       "      <td>Montag</td>\n",
       "    </tr>\n",
       "    <tr>\n",
       "      <th>1</th>\n",
       "      <td>1</td>\n",
       "      <td>54928.0</td>\n",
       "      <td>104713</td>\n",
       "      <td>0.524558</td>\n",
       "      <td>0.172533</td>\n",
       "      <td>Dienstag</td>\n",
       "    </tr>\n",
       "    <tr>\n",
       "      <th>2</th>\n",
       "      <td>2</td>\n",
       "      <td>30614.0</td>\n",
       "      <td>83177</td>\n",
       "      <td>0.368058</td>\n",
       "      <td>0.137049</td>\n",
       "      <td>Mittwoch</td>\n",
       "    </tr>\n",
       "    <tr>\n",
       "      <th>3</th>\n",
       "      <td>3</td>\n",
       "      <td>27884.0</td>\n",
       "      <td>77329</td>\n",
       "      <td>0.360589</td>\n",
       "      <td>0.127413</td>\n",
       "      <td>Donnerstag</td>\n",
       "    </tr>\n",
       "    <tr>\n",
       "      <th>4</th>\n",
       "      <td>4</td>\n",
       "      <td>27780.0</td>\n",
       "      <td>75323</td>\n",
       "      <td>0.368812</td>\n",
       "      <td>0.124108</td>\n",
       "      <td>Freitag</td>\n",
       "    </tr>\n",
       "  </tbody>\n",
       "</table>\n",
       "</div>"
      ],
      "text/plain": [
       "   order_dow      tip  orders  tip_norm  orders_norm order_dow_day\n",
       "0          0  53749.0  106842  0.503070     0.176041        Montag\n",
       "1          1  54928.0  104713  0.524558     0.172533      Dienstag\n",
       "2          2  30614.0   83177  0.368058     0.137049      Mittwoch\n",
       "3          3  27884.0   77329  0.360589     0.127413    Donnerstag\n",
       "4          4  27780.0   75323  0.368812     0.124108       Freitag"
      ]
     },
     "execution_count": 163,
     "metadata": {},
     "output_type": "execute_result"
    }
   ],
   "source": [
    "df_order_dow[\"order_dow_day\"] = [\"Montag\", \"Dienstag\", \"Mittwoch\", \"Donnerstag\", \"Freitag\", \"Samstag\", \"Sonntag\"]\n",
    "df_order_dow.head()"
   ]
  },
  {
   "attachments": {},
   "cell_type": "markdown",
   "metadata": {},
   "source": [
    "**Plotten der Tippwahrscheinlichkeit pro Wochentag**"
   ]
  },
  {
   "cell_type": "code",
   "execution_count": 189,
   "metadata": {},
   "outputs": [
    {
     "data": {
      "application/vnd.plotly.v1+json": {
       "config": {
        "plotlyServerURL": "https://plot.ly"
       },
       "data": [
        {
         "cells": {
          "align": "center",
          "fill": {
           "color": "white"
          },
          "font": {
           "color": "black",
           "size": 13
          },
          "height": 30,
          "line": {
           "color": "rgb(217,217,217)"
          },
          "values": [
           [
            0,
            1,
            2,
            3,
            4,
            5,
            6
           ],
           [
            53749,
            54928,
            30614,
            27884,
            27780,
            30188,
            28234
           ],
           [
            106842,
            104713,
            83177,
            77329,
            75323,
            80360,
            79171
           ],
           [
            0.503,
            0.525,
            0.368,
            0.361,
            0.369,
            0.376,
            0.357
           ],
           [
            0.176,
            0.173,
            0.137,
            0.127,
            0.124,
            0.132,
            0.13
           ],
           [
            "Montag",
            "Dienstag",
            "Mittwoch",
            "Donnerstag",
            "Freitag",
            "Samstag",
            "Sonntag"
           ]
          ]
         },
         "columnorder": [
          1,
          2,
          3,
          4,
          5
         ],
         "columnwidth": [
          1,
          1,
          1,
          1,
          1
         ],
         "domain": {
          "x": [
           0,
           1
          ],
          "y": [
           0.55,
           1
          ]
         },
         "header": {
          "fill": {
           "color": "rgb(131, 75, 160)"
          },
          "font": {
           "color": "white",
           "size": 15
          },
          "height": 35,
          "line": {
           "color": "rgb(217,217,217)"
          },
          "values": [
           "order_dow",
           "tip",
           "orders",
           "tip_norm",
           "orders_norm",
           "order_dow_day"
          ]
         },
         "type": "table"
        },
        {
         "base": 0,
         "hovertemplate": "<b>Montag</b><br><br>Tipp: %{y}<br><extra></extra>",
         "legendgroup": "0",
         "legendgrouptitle": {
          "text": "0: Montag"
         },
         "marker": {
          "color": "rgb(131, 75, 160)"
         },
         "name": "Tipp: 50.3%",
         "showlegend": true,
         "text": [
          0.503
         ],
         "type": "bar",
         "width": 0.8,
         "x": [
          0
         ],
         "xaxis": "x",
         "y": [
          0.503
         ],
         "yaxis": "y"
        },
        {
         "base": 0,
         "hovertemplate": "<b>Dienstag</b><br><br>Tipp: %{y}<br><extra></extra>",
         "legendgroup": "1",
         "legendgrouptitle": {
          "text": "1: Dienstag"
         },
         "marker": {
          "color": "rgb(131, 75, 160)"
         },
         "name": "Tipp: 52.5%",
         "showlegend": true,
         "text": [
          0.525
         ],
         "type": "bar",
         "width": 0.8,
         "x": [
          1
         ],
         "xaxis": "x",
         "y": [
          0.525
         ],
         "yaxis": "y"
        },
        {
         "base": 0,
         "hovertemplate": "<b>Mittwoch</b><br><br>Tipp: %{y}<br><extra></extra>",
         "legendgroup": "2",
         "legendgrouptitle": {
          "text": "2: Mittwoch"
         },
         "marker": {
          "color": "rgb(217,217,217)"
         },
         "name": "Tipp: 36.8%",
         "showlegend": true,
         "type": "bar",
         "width": 0.8,
         "x": [
          2
         ],
         "xaxis": "x",
         "y": [
          0.368
         ],
         "yaxis": "y"
        },
        {
         "base": 0,
         "hovertemplate": "<b>Donnerstag</b><br><br>Tipp: %{y}<br><extra></extra>",
         "legendgroup": "3",
         "legendgrouptitle": {
          "text": "3: Donnerstag"
         },
         "marker": {
          "color": "rgb(217,217,217)"
         },
         "name": "Tipp: 36.1%",
         "showlegend": true,
         "type": "bar",
         "width": 0.8,
         "x": [
          3
         ],
         "xaxis": "x",
         "y": [
          0.361
         ],
         "yaxis": "y"
        },
        {
         "base": 0,
         "hovertemplate": "<b>Freitag</b><br><br>Tipp: %{y}<br><extra></extra>",
         "legendgroup": "4",
         "legendgrouptitle": {
          "text": "4: Freitag"
         },
         "marker": {
          "color": "rgb(217,217,217)"
         },
         "name": "Tipp: 36.9%",
         "showlegend": true,
         "type": "bar",
         "width": 0.8,
         "x": [
          4
         ],
         "xaxis": "x",
         "y": [
          0.369
         ],
         "yaxis": "y"
        },
        {
         "base": 0,
         "hovertemplate": "<b>Samstag</b><br><br>Tipp: %{y}<br><extra></extra>",
         "legendgroup": "5",
         "legendgrouptitle": {
          "text": "5: Samstag"
         },
         "marker": {
          "color": "rgb(217,217,217)"
         },
         "name": "Tipp: 37.6%",
         "showlegend": true,
         "type": "bar",
         "width": 0.8,
         "x": [
          5
         ],
         "xaxis": "x",
         "y": [
          0.376
         ],
         "yaxis": "y"
        },
        {
         "base": 0,
         "hovertemplate": "<b>Sonntag</b><br><br>Tipp: %{y}<br><extra></extra>",
         "legendgroup": "6",
         "legendgrouptitle": {
          "text": "6: Sonntag"
         },
         "marker": {
          "color": "rgb(217,217,217)"
         },
         "name": "Tipp: 35.7%",
         "showlegend": true,
         "type": "bar",
         "width": 0.8,
         "x": [
          6
         ],
         "xaxis": "x",
         "y": [
          0.357
         ],
         "yaxis": "y"
        }
       ],
       "layout": {
        "height": 780,
        "legend": {
         "title": {
          "text": "<b>Tage</b>"
         }
        },
        "plot_bgcolor": "white",
        "template": {
         "data": {
          "bar": [
           {
            "error_x": {
             "color": "#2a3f5f"
            },
            "error_y": {
             "color": "#2a3f5f"
            },
            "marker": {
             "line": {
              "color": "#E5ECF6",
              "width": 0.5
             },
             "pattern": {
              "fillmode": "overlay",
              "size": 10,
              "solidity": 0.2
             }
            },
            "type": "bar"
           }
          ],
          "barpolar": [
           {
            "marker": {
             "line": {
              "color": "#E5ECF6",
              "width": 0.5
             },
             "pattern": {
              "fillmode": "overlay",
              "size": 10,
              "solidity": 0.2
             }
            },
            "type": "barpolar"
           }
          ],
          "carpet": [
           {
            "aaxis": {
             "endlinecolor": "#2a3f5f",
             "gridcolor": "white",
             "linecolor": "white",
             "minorgridcolor": "white",
             "startlinecolor": "#2a3f5f"
            },
            "baxis": {
             "endlinecolor": "#2a3f5f",
             "gridcolor": "white",
             "linecolor": "white",
             "minorgridcolor": "white",
             "startlinecolor": "#2a3f5f"
            },
            "type": "carpet"
           }
          ],
          "choropleth": [
           {
            "colorbar": {
             "outlinewidth": 0,
             "ticks": ""
            },
            "type": "choropleth"
           }
          ],
          "contour": [
           {
            "colorbar": {
             "outlinewidth": 0,
             "ticks": ""
            },
            "colorscale": [
             [
              0,
              "#0d0887"
             ],
             [
              0.1111111111111111,
              "#46039f"
             ],
             [
              0.2222222222222222,
              "#7201a8"
             ],
             [
              0.3333333333333333,
              "#9c179e"
             ],
             [
              0.4444444444444444,
              "#bd3786"
             ],
             [
              0.5555555555555556,
              "#d8576b"
             ],
             [
              0.6666666666666666,
              "#ed7953"
             ],
             [
              0.7777777777777778,
              "#fb9f3a"
             ],
             [
              0.8888888888888888,
              "#fdca26"
             ],
             [
              1,
              "#f0f921"
             ]
            ],
            "type": "contour"
           }
          ],
          "contourcarpet": [
           {
            "colorbar": {
             "outlinewidth": 0,
             "ticks": ""
            },
            "type": "contourcarpet"
           }
          ],
          "heatmap": [
           {
            "colorbar": {
             "outlinewidth": 0,
             "ticks": ""
            },
            "colorscale": [
             [
              0,
              "#0d0887"
             ],
             [
              0.1111111111111111,
              "#46039f"
             ],
             [
              0.2222222222222222,
              "#7201a8"
             ],
             [
              0.3333333333333333,
              "#9c179e"
             ],
             [
              0.4444444444444444,
              "#bd3786"
             ],
             [
              0.5555555555555556,
              "#d8576b"
             ],
             [
              0.6666666666666666,
              "#ed7953"
             ],
             [
              0.7777777777777778,
              "#fb9f3a"
             ],
             [
              0.8888888888888888,
              "#fdca26"
             ],
             [
              1,
              "#f0f921"
             ]
            ],
            "type": "heatmap"
           }
          ],
          "heatmapgl": [
           {
            "colorbar": {
             "outlinewidth": 0,
             "ticks": ""
            },
            "colorscale": [
             [
              0,
              "#0d0887"
             ],
             [
              0.1111111111111111,
              "#46039f"
             ],
             [
              0.2222222222222222,
              "#7201a8"
             ],
             [
              0.3333333333333333,
              "#9c179e"
             ],
             [
              0.4444444444444444,
              "#bd3786"
             ],
             [
              0.5555555555555556,
              "#d8576b"
             ],
             [
              0.6666666666666666,
              "#ed7953"
             ],
             [
              0.7777777777777778,
              "#fb9f3a"
             ],
             [
              0.8888888888888888,
              "#fdca26"
             ],
             [
              1,
              "#f0f921"
             ]
            ],
            "type": "heatmapgl"
           }
          ],
          "histogram": [
           {
            "marker": {
             "pattern": {
              "fillmode": "overlay",
              "size": 10,
              "solidity": 0.2
             }
            },
            "type": "histogram"
           }
          ],
          "histogram2d": [
           {
            "colorbar": {
             "outlinewidth": 0,
             "ticks": ""
            },
            "colorscale": [
             [
              0,
              "#0d0887"
             ],
             [
              0.1111111111111111,
              "#46039f"
             ],
             [
              0.2222222222222222,
              "#7201a8"
             ],
             [
              0.3333333333333333,
              "#9c179e"
             ],
             [
              0.4444444444444444,
              "#bd3786"
             ],
             [
              0.5555555555555556,
              "#d8576b"
             ],
             [
              0.6666666666666666,
              "#ed7953"
             ],
             [
              0.7777777777777778,
              "#fb9f3a"
             ],
             [
              0.8888888888888888,
              "#fdca26"
             ],
             [
              1,
              "#f0f921"
             ]
            ],
            "type": "histogram2d"
           }
          ],
          "histogram2dcontour": [
           {
            "colorbar": {
             "outlinewidth": 0,
             "ticks": ""
            },
            "colorscale": [
             [
              0,
              "#0d0887"
             ],
             [
              0.1111111111111111,
              "#46039f"
             ],
             [
              0.2222222222222222,
              "#7201a8"
             ],
             [
              0.3333333333333333,
              "#9c179e"
             ],
             [
              0.4444444444444444,
              "#bd3786"
             ],
             [
              0.5555555555555556,
              "#d8576b"
             ],
             [
              0.6666666666666666,
              "#ed7953"
             ],
             [
              0.7777777777777778,
              "#fb9f3a"
             ],
             [
              0.8888888888888888,
              "#fdca26"
             ],
             [
              1,
              "#f0f921"
             ]
            ],
            "type": "histogram2dcontour"
           }
          ],
          "mesh3d": [
           {
            "colorbar": {
             "outlinewidth": 0,
             "ticks": ""
            },
            "type": "mesh3d"
           }
          ],
          "parcoords": [
           {
            "line": {
             "colorbar": {
              "outlinewidth": 0,
              "ticks": ""
             }
            },
            "type": "parcoords"
           }
          ],
          "pie": [
           {
            "automargin": true,
            "type": "pie"
           }
          ],
          "scatter": [
           {
            "fillpattern": {
             "fillmode": "overlay",
             "size": 10,
             "solidity": 0.2
            },
            "type": "scatter"
           }
          ],
          "scatter3d": [
           {
            "line": {
             "colorbar": {
              "outlinewidth": 0,
              "ticks": ""
             }
            },
            "marker": {
             "colorbar": {
              "outlinewidth": 0,
              "ticks": ""
             }
            },
            "type": "scatter3d"
           }
          ],
          "scattercarpet": [
           {
            "marker": {
             "colorbar": {
              "outlinewidth": 0,
              "ticks": ""
             }
            },
            "type": "scattercarpet"
           }
          ],
          "scattergeo": [
           {
            "marker": {
             "colorbar": {
              "outlinewidth": 0,
              "ticks": ""
             }
            },
            "type": "scattergeo"
           }
          ],
          "scattergl": [
           {
            "marker": {
             "colorbar": {
              "outlinewidth": 0,
              "ticks": ""
             }
            },
            "type": "scattergl"
           }
          ],
          "scattermapbox": [
           {
            "marker": {
             "colorbar": {
              "outlinewidth": 0,
              "ticks": ""
             }
            },
            "type": "scattermapbox"
           }
          ],
          "scatterpolar": [
           {
            "marker": {
             "colorbar": {
              "outlinewidth": 0,
              "ticks": ""
             }
            },
            "type": "scatterpolar"
           }
          ],
          "scatterpolargl": [
           {
            "marker": {
             "colorbar": {
              "outlinewidth": 0,
              "ticks": ""
             }
            },
            "type": "scatterpolargl"
           }
          ],
          "scatterternary": [
           {
            "marker": {
             "colorbar": {
              "outlinewidth": 0,
              "ticks": ""
             }
            },
            "type": "scatterternary"
           }
          ],
          "surface": [
           {
            "colorbar": {
             "outlinewidth": 0,
             "ticks": ""
            },
            "colorscale": [
             [
              0,
              "#0d0887"
             ],
             [
              0.1111111111111111,
              "#46039f"
             ],
             [
              0.2222222222222222,
              "#7201a8"
             ],
             [
              0.3333333333333333,
              "#9c179e"
             ],
             [
              0.4444444444444444,
              "#bd3786"
             ],
             [
              0.5555555555555556,
              "#d8576b"
             ],
             [
              0.6666666666666666,
              "#ed7953"
             ],
             [
              0.7777777777777778,
              "#fb9f3a"
             ],
             [
              0.8888888888888888,
              "#fdca26"
             ],
             [
              1,
              "#f0f921"
             ]
            ],
            "type": "surface"
           }
          ],
          "table": [
           {
            "cells": {
             "fill": {
              "color": "#EBF0F8"
             },
             "line": {
              "color": "white"
             }
            },
            "header": {
             "fill": {
              "color": "#C8D4E3"
             },
             "line": {
              "color": "white"
             }
            },
            "type": "table"
           }
          ]
         },
         "layout": {
          "annotationdefaults": {
           "arrowcolor": "#2a3f5f",
           "arrowhead": 0,
           "arrowwidth": 1
          },
          "autotypenumbers": "strict",
          "coloraxis": {
           "colorbar": {
            "outlinewidth": 0,
            "ticks": ""
           }
          },
          "colorscale": {
           "diverging": [
            [
             0,
             "#8e0152"
            ],
            [
             0.1,
             "#c51b7d"
            ],
            [
             0.2,
             "#de77ae"
            ],
            [
             0.3,
             "#f1b6da"
            ],
            [
             0.4,
             "#fde0ef"
            ],
            [
             0.5,
             "#f7f7f7"
            ],
            [
             0.6,
             "#e6f5d0"
            ],
            [
             0.7,
             "#b8e186"
            ],
            [
             0.8,
             "#7fbc41"
            ],
            [
             0.9,
             "#4d9221"
            ],
            [
             1,
             "#276419"
            ]
           ],
           "sequential": [
            [
             0,
             "#0d0887"
            ],
            [
             0.1111111111111111,
             "#46039f"
            ],
            [
             0.2222222222222222,
             "#7201a8"
            ],
            [
             0.3333333333333333,
             "#9c179e"
            ],
            [
             0.4444444444444444,
             "#bd3786"
            ],
            [
             0.5555555555555556,
             "#d8576b"
            ],
            [
             0.6666666666666666,
             "#ed7953"
            ],
            [
             0.7777777777777778,
             "#fb9f3a"
            ],
            [
             0.8888888888888888,
             "#fdca26"
            ],
            [
             1,
             "#f0f921"
            ]
           ],
           "sequentialminus": [
            [
             0,
             "#0d0887"
            ],
            [
             0.1111111111111111,
             "#46039f"
            ],
            [
             0.2222222222222222,
             "#7201a8"
            ],
            [
             0.3333333333333333,
             "#9c179e"
            ],
            [
             0.4444444444444444,
             "#bd3786"
            ],
            [
             0.5555555555555556,
             "#d8576b"
            ],
            [
             0.6666666666666666,
             "#ed7953"
            ],
            [
             0.7777777777777778,
             "#fb9f3a"
            ],
            [
             0.8888888888888888,
             "#fdca26"
            ],
            [
             1,
             "#f0f921"
            ]
           ]
          },
          "colorway": [
           "#636efa",
           "#EF553B",
           "#00cc96",
           "#ab63fa",
           "#FFA15A",
           "#19d3f3",
           "#FF6692",
           "#B6E880",
           "#FF97FF",
           "#FECB52"
          ],
          "font": {
           "color": "#2a3f5f"
          },
          "geo": {
           "bgcolor": "white",
           "lakecolor": "white",
           "landcolor": "#E5ECF6",
           "showlakes": true,
           "showland": true,
           "subunitcolor": "white"
          },
          "hoverlabel": {
           "align": "left"
          },
          "hovermode": "closest",
          "mapbox": {
           "style": "light"
          },
          "paper_bgcolor": "white",
          "plot_bgcolor": "#E5ECF6",
          "polar": {
           "angularaxis": {
            "gridcolor": "white",
            "linecolor": "white",
            "ticks": ""
           },
           "bgcolor": "#E5ECF6",
           "radialaxis": {
            "gridcolor": "white",
            "linecolor": "white",
            "ticks": ""
           }
          },
          "scene": {
           "xaxis": {
            "backgroundcolor": "#E5ECF6",
            "gridcolor": "white",
            "gridwidth": 2,
            "linecolor": "white",
            "showbackground": true,
            "ticks": "",
            "zerolinecolor": "white"
           },
           "yaxis": {
            "backgroundcolor": "#E5ECF6",
            "gridcolor": "white",
            "gridwidth": 2,
            "linecolor": "white",
            "showbackground": true,
            "ticks": "",
            "zerolinecolor": "white"
           },
           "zaxis": {
            "backgroundcolor": "#E5ECF6",
            "gridcolor": "white",
            "gridwidth": 2,
            "linecolor": "white",
            "showbackground": true,
            "ticks": "",
            "zerolinecolor": "white"
           }
          },
          "shapedefaults": {
           "line": {
            "color": "#2a3f5f"
           }
          },
          "ternary": {
           "aaxis": {
            "gridcolor": "white",
            "linecolor": "white",
            "ticks": ""
           },
           "baxis": {
            "gridcolor": "white",
            "linecolor": "white",
            "ticks": ""
           },
           "bgcolor": "#E5ECF6",
           "caxis": {
            "gridcolor": "white",
            "linecolor": "white",
            "ticks": ""
           }
          },
          "title": {
           "x": 0.05
          },
          "xaxis": {
           "automargin": true,
           "gridcolor": "white",
           "linecolor": "white",
           "ticks": "",
           "title": {
            "standoff": 15
           },
           "zerolinecolor": "white",
           "zerolinewidth": 2
          },
          "yaxis": {
           "automargin": true,
           "gridcolor": "white",
           "linecolor": "white",
           "ticks": "",
           "title": {
            "standoff": 15
           },
           "zerolinecolor": "white",
           "zerolinewidth": 2
          }
         }
        },
        "title": {
         "font": {
          "size": 20
         },
         "text": "<b>Tippwahrscheinlichkeit nach Wochentagen</b>",
         "x": 0.475,
         "xanchor": "center",
         "y": 0.935,
         "yanchor": "top"
        },
        "xaxis": {
         "anchor": "y",
         "domain": [
          0,
          1
         ],
         "linecolor": "black",
         "ticks": "outside",
         "title": {
          "text": "<b>Tage</b>"
         }
        },
        "yaxis": {
         "anchor": "x",
         "domain": [
          0,
          0.45
         ],
         "gridcolor": "grey",
         "linecolor": "black",
         "showgrid": true,
         "ticks": "outside",
         "tickvals": [
          0.1,
          0.3,
          0.5
         ],
         "title": {
          "text": "<b>Tipp Wshk.</b>"
         }
        }
       }
      }
     },
     "metadata": {},
     "output_type": "display_data"
    }
   ],
   "source": [
    "# Plot P3: Order_dow\n",
    "\n",
    "df_order_dow[\"tip_norm\"] = df_order_dow.tip_norm.round(3)\n",
    "df_order_dow[\"orders_norm\"] = df_order_dow.orders_norm.round(3)\n",
    "\n",
    "fig = make_subplots(cols= 1, rows=2, specs= [[dict(type= \"table\")], [dict(type= \"bar\")]], vertical_spacing= 0.1)\n",
    "\n",
    "fig.add_trace(\n",
    "  go.Table(\n",
    "    columnorder= [1, 2, 3, 4, 5],\n",
    "    columnwidth= [1, 1, 1, 1, 1],\n",
    "    header=dict(\n",
    "        values=list(df_order_dow.columns),\n",
    "        fill_color= px.colors.sequential.Purpor[5],\n",
    "        line_color= px.colors.sequential.Greys[2],\n",
    "        font= dict(color= \"white\", size=15),\n",
    "        height= 35\n",
    "        ),\n",
    "    cells=dict(\n",
    "        values=df_order_dow.T.values,\n",
    "        fill_color= \"white\",\n",
    "        line_color= px.colors.sequential.Greys[2],\n",
    "        font= dict(color= \"black\", size=13),\n",
    "        align= \"center\",\n",
    "        height= 30\n",
    "        )\n",
    "    ),\n",
    "    col= 1,\n",
    "    row= 1\n",
    ")\n",
    "\n",
    "for order_dow in df_order_dow.order_dow:\n",
    "\n",
    " if df_order_dow[df_order_dow.order_dow == order_dow].tip_norm.values >= 0.5:\n",
    "  color = px.colors.sequential.Purpor[5]\n",
    "  text= df_order_dow.loc[df_order_dow.order_dow == order_dow].tip_norm.values.round(3)\n",
    "\n",
    "  fig.add_trace(\n",
    "   go.Bar(\n",
    "    x= df_order_dow.loc[df_order_dow.order_dow == order_dow].order_dow,\n",
    "    y= df_order_dow.loc[df_order_dow.order_dow == order_dow].tip_norm,\n",
    "    name= f\"Tipp: {(df_order_dow.loc[df_order_dow.order_dow == order_dow].tip_norm.values[0] * 100).round(2)}%\",\n",
    "    showlegend= True,\n",
    "    marker= dict(color= color),\n",
    "    width= 0.8,\n",
    "    text= text,\n",
    "    base= 0,\n",
    "    legendgroup= f\"{order_dow}\",\n",
    "    legendgrouptitle_text = f\"{order_dow}: {df_order_dow.loc[df_order_dow.order_dow == order_dow].order_dow_day.values[0]}\",\n",
    "    hovertemplate = f\"<b>{df_order_dow.loc[df_order_dow.order_dow == order_dow].order_dow_day.values[0]}</b><br><br>\" +\n",
    "                \"Tipp: %{y}<br>\" +\n",
    "                \"<extra></extra>\"\n",
    "   ),\n",
    "   col= 1,\n",
    "   row= 2\n",
    "  )\n",
    "\n",
    " else:\n",
    "  color= px.colors.sequential.Greys[2]\n",
    "\n",
    "  fig.add_trace(\n",
    "   go.Bar(\n",
    "    x= df_order_dow.loc[df_order_dow.order_dow == order_dow].order_dow,\n",
    "    y= df_order_dow.loc[df_order_dow.order_dow == order_dow].tip_norm,\n",
    "    name= f\"Tipp: {(df_order_dow.loc[df_order_dow.order_dow == order_dow].tip_norm.values[0] * 100).round(2)}%\",\n",
    "    showlegend= True,\n",
    "    marker= dict(color= color),\n",
    "    width= 0.8,\n",
    "    base= 0,\n",
    "    legendgroup= f\"{order_dow}\",\n",
    "    legendgrouptitle_text = f\"{order_dow}: {df_order_dow.loc[df_order_dow.order_dow == order_dow].order_dow_day.values[0]}\",\n",
    "    hovertemplate = f\"<b>{df_order_dow.loc[df_order_dow.order_dow == order_dow].order_dow_day.values[0]}</b><br><br>\" +\n",
    "                \"Tipp: %{y}<br>\" +\n",
    "                \"<extra></extra>\"\n",
    "   ),\n",
    "   col= 1,\n",
    "   row= 2\n",
    "  )\n",
    "\n",
    "\n",
    "fig.update_layout(title= dict(text= \"<b>Tippwahrscheinlichkeit nach Wochentagen</b>\", font_size= 20, xanchor= \"center\", yanchor= \"top\", y=0.935, x=0.475), legend_title_text = \"<b>Tage</b>\", height= 780)\n",
    "fig.update_xaxes(title_text=\"<b>Tage</b>\", ticks= \"outside\", col= 1, row= 2)\n",
    "fig.update_yaxes(title_text=\"<b>Tipp Wshk.</b>\", ticks= \"outside\", showgrid= True, gridcolor= \"grey\", col= 1, row= 2, tickvals= [0.1, 0.3, 0.5])\n",
    "fig.update_layout(plot_bgcolor= \"white\", xaxis= dict(linecolor= \"black\"), yaxis= dict(linecolor= \"black\"))\n",
    "fig.show()"
   ]
  },
  {
   "attachments": {},
   "cell_type": "markdown",
   "metadata": {},
   "source": [
    "- Die Trinkgeldwahrscheinlichkeit ist am Montagen 50.3% und Dienstagen 52.5% am höchstens\n",
    "\n",
    "- Im Schnitt ist es damit ca. 14% wahrscheinlicher Trinkgeld an Montagen und Dienstagen zu erhalten, als an den restlichen Wochentagen\n"
   ]
  },
  {
   "attachments": {},
   "cell_type": "markdown",
   "metadata": {},
   "source": [
    "#### Attribut: order_number"
   ]
  },
  {
   "attachments": {},
   "cell_type": "markdown",
   "metadata": {},
   "source": [
    "- Gruppieren der Bestellungen nach order_number pro User und berechnen der Trinkgeldwahrscheinlichkeit für Intervalle der Bestellungsanzahl "
   ]
  },
  {
   "cell_type": "code",
   "execution_count": 169,
   "metadata": {},
   "outputs": [],
   "source": [
    "df_order_number1= df_p3.groupby([\"user_id\", \"order_id\", \"order_number\"], as_index= False).agg(tip= (\"tip\", \"mean\")).sort_values(by= [\"user_id\", \"order_number\"])"
   ]
  },
  {
   "cell_type": "code",
   "execution_count": 170,
   "metadata": {},
   "outputs": [],
   "source": [
    "df_order_number2 = df_order_number1.groupby(\"user_id\", as_index= False).agg(order_id_max = (\"order_number\", \"max\"), tip= (\"tip\", \"sum\"), orders= (\"order_id\", \"nunique\"))"
   ]
  },
  {
   "cell_type": "code",
   "execution_count": 171,
   "metadata": {},
   "outputs": [
    {
     "data": {
      "text/html": [
       "<div>\n",
       "<style scoped>\n",
       "    .dataframe tbody tr th:only-of-type {\n",
       "        vertical-align: middle;\n",
       "    }\n",
       "\n",
       "    .dataframe tbody tr th {\n",
       "        vertical-align: top;\n",
       "    }\n",
       "\n",
       "    .dataframe thead th {\n",
       "        text-align: right;\n",
       "    }\n",
       "</style>\n",
       "<table border=\"1\" class=\"dataframe\">\n",
       "  <thead>\n",
       "    <tr style=\"text-align: right;\">\n",
       "      <th></th>\n",
       "      <th>user_id</th>\n",
       "      <th>order_id_max</th>\n",
       "      <th>tip</th>\n",
       "      <th>orders</th>\n",
       "      <th>order_number_cut</th>\n",
       "    </tr>\n",
       "  </thead>\n",
       "  <tbody>\n",
       "    <tr>\n",
       "      <th>0</th>\n",
       "      <td>3</td>\n",
       "      <td>12</td>\n",
       "      <td>10.0</td>\n",
       "      <td>12</td>\n",
       "      <td>(10, 20]</td>\n",
       "    </tr>\n",
       "    <tr>\n",
       "      <th>1</th>\n",
       "      <td>7</td>\n",
       "      <td>21</td>\n",
       "      <td>12.0</td>\n",
       "      <td>21</td>\n",
       "      <td>(20, 30]</td>\n",
       "    </tr>\n",
       "    <tr>\n",
       "      <th>2</th>\n",
       "      <td>14</td>\n",
       "      <td>14</td>\n",
       "      <td>8.0</td>\n",
       "      <td>14</td>\n",
       "      <td>(10, 20]</td>\n",
       "    </tr>\n",
       "    <tr>\n",
       "      <th>3</th>\n",
       "      <td>23</td>\n",
       "      <td>5</td>\n",
       "      <td>0.0</td>\n",
       "      <td>5</td>\n",
       "      <td>(0, 10]</td>\n",
       "    </tr>\n",
       "    <tr>\n",
       "      <th>4</th>\n",
       "      <td>25</td>\n",
       "      <td>3</td>\n",
       "      <td>2.0</td>\n",
       "      <td>3</td>\n",
       "      <td>(0, 10]</td>\n",
       "    </tr>\n",
       "  </tbody>\n",
       "</table>\n",
       "</div>"
      ],
      "text/plain": [
       "   user_id  order_id_max   tip  orders order_number_cut\n",
       "0        3            12  10.0      12         (10, 20]\n",
       "1        7            21  12.0      21         (20, 30]\n",
       "2       14            14   8.0      14         (10, 20]\n",
       "3       23             5   0.0       5          (0, 10]\n",
       "4       25             3   2.0       3          (0, 10]"
      ]
     },
     "execution_count": 171,
     "metadata": {},
     "output_type": "execute_result"
    }
   ],
   "source": [
    "df_order_number2 = df_order_number1.groupby(\"user_id\", as_index= False).agg(order_id_max = (\"order_number\", \"max\"), tip= (\"tip\", \"sum\"), orders= (\"order_id\", \"nunique\"))\n",
    "\n",
    "order_bins = [0, 10, 20, 30, 40, 50, 60, 70, 80, 90, 100]\n",
    "df_order_number2[\"order_number_cut\"] = pd.cut(df_order_number2[\"order_id_max\"], bins= order_bins, include_lowest= False)\n",
    "df_order_number2.head()"
   ]
  },
  {
   "cell_type": "code",
   "execution_count": 172,
   "metadata": {},
   "outputs": [
    {
     "data": {
      "text/html": [
       "<div>\n",
       "<style scoped>\n",
       "    .dataframe tbody tr th:only-of-type {\n",
       "        vertical-align: middle;\n",
       "    }\n",
       "\n",
       "    .dataframe tbody tr th {\n",
       "        vertical-align: top;\n",
       "    }\n",
       "\n",
       "    .dataframe thead th {\n",
       "        text-align: right;\n",
       "    }\n",
       "</style>\n",
       "<table border=\"1\" class=\"dataframe\">\n",
       "  <thead>\n",
       "    <tr style=\"text-align: right;\">\n",
       "      <th></th>\n",
       "      <th>order_number_cut</th>\n",
       "      <th>users</th>\n",
       "      <th>order_max</th>\n",
       "      <th>tip</th>\n",
       "      <th>orders</th>\n",
       "      <th>tip_norm</th>\n",
       "      <th>orders_norm</th>\n",
       "    </tr>\n",
       "  </thead>\n",
       "  <tbody>\n",
       "    <tr>\n",
       "      <th>0</th>\n",
       "      <td>(0, 10]</td>\n",
       "      <td>19369</td>\n",
       "      <td>8</td>\n",
       "      <td>32250.0</td>\n",
       "      <td>118378</td>\n",
       "      <td>0.272</td>\n",
       "      <td>0.195</td>\n",
       "    </tr>\n",
       "    <tr>\n",
       "      <th>1</th>\n",
       "      <td>(10, 20]</td>\n",
       "      <td>8959</td>\n",
       "      <td>10</td>\n",
       "      <td>47207.0</td>\n",
       "      <td>131584</td>\n",
       "      <td>0.359</td>\n",
       "      <td>0.217</td>\n",
       "    </tr>\n",
       "    <tr>\n",
       "      <th>2</th>\n",
       "      <td>(20, 30]</td>\n",
       "      <td>3859</td>\n",
       "      <td>10</td>\n",
       "      <td>43187.0</td>\n",
       "      <td>95863</td>\n",
       "      <td>0.451</td>\n",
       "      <td>0.158</td>\n",
       "    </tr>\n",
       "    <tr>\n",
       "      <th>3</th>\n",
       "      <td>(30, 40]</td>\n",
       "      <td>2011</td>\n",
       "      <td>10</td>\n",
       "      <td>36084.0</td>\n",
       "      <td>70337</td>\n",
       "      <td>0.513</td>\n",
       "      <td>0.116</td>\n",
       "    </tr>\n",
       "    <tr>\n",
       "      <th>4</th>\n",
       "      <td>(40, 50]</td>\n",
       "      <td>1249</td>\n",
       "      <td>10</td>\n",
       "      <td>30464.0</td>\n",
       "      <td>56223</td>\n",
       "      <td>0.542</td>\n",
       "      <td>0.093</td>\n",
       "    </tr>\n",
       "  </tbody>\n",
       "</table>\n",
       "</div>"
      ],
      "text/plain": [
       "  order_number_cut  users  order_max      tip  orders  tip_norm  orders_norm\n",
       "0          (0, 10]  19369          8  32250.0  118378     0.272        0.195\n",
       "1         (10, 20]   8959         10  47207.0  131584     0.359        0.217\n",
       "2         (20, 30]   3859         10  43187.0   95863     0.451        0.158\n",
       "3         (30, 40]   2011         10  36084.0   70337     0.513        0.116\n",
       "4         (40, 50]   1249         10  30464.0   56223     0.542        0.093"
      ]
     },
     "execution_count": 172,
     "metadata": {},
     "output_type": "execute_result"
    }
   ],
   "source": [
    "df_order_number3 = df_order_number2.groupby(\"order_number_cut\", as_index= False).agg(users= (\"user_id\", \"nunique\"), order_max= (\"order_id_max\", \"nunique\"), tip= (\"tip\", \"sum\"), orders= (\"orders\", \"sum\"))\n",
    "df_order_number3[\"tip_norm\"] = (df_order_number3.tip / df_order_number3.orders).round(3)\n",
    "df_order_number3[\"orders_norm\"] = (df_order_number3.orders / df_order_number3.orders.sum()).round(3)\n",
    "df_order_number3[\"order_number_cut\"] = df_order_number3.order_number_cut.astype(\"str\")\n",
    "df_order_number3.head()"
   ]
  },
  {
   "attachments": {},
   "cell_type": "markdown",
   "metadata": {},
   "source": [
    "**Plotten Trinkgeldwahrscheinlichkeit nach Bestellungsanzahl pro User**"
   ]
  },
  {
   "cell_type": "code",
   "execution_count": 217,
   "metadata": {},
   "outputs": [
    {
     "data": {
      "application/vnd.plotly.v1+json": {
       "config": {
        "plotlyServerURL": "https://plot.ly"
       },
       "data": [
        {
         "cells": {
          "align": "center",
          "fill": {
           "color": "white"
          },
          "font": {
           "color": "black",
           "size": 13
          },
          "height": 30,
          "line": {
           "color": "rgb(217,217,217)"
          },
          "values": [
           [
            "(0, 10]",
            "(10, 20]",
            "(20, 30]",
            "(30, 40]",
            "(40, 50]",
            "(50, 60]",
            "(60, 70]",
            "(70, 80]",
            "(80, 90]",
            "(90, 100]"
           ],
           [
            19369,
            8959,
            3859,
            2011,
            1249,
            740,
            433,
            248,
            147,
            352
           ],
           [
            8,
            10,
            10,
            10,
            10,
            10,
            10,
            10,
            10,
            10
           ],
           [
            32250,
            47207,
            43187,
            36084,
            30464,
            21540,
            14159,
            8533,
            6139,
            13814
           ],
           [
            118378,
            131584,
            95863,
            70337,
            56223,
            40602,
            28111,
            18689,
            12513,
            34615
           ],
           [
            0.272,
            0.359,
            0.451,
            0.513,
            0.542,
            0.531,
            0.504,
            0.457,
            0.491,
            0.399
           ],
           [
            0.195,
            0.217,
            0.158,
            0.116,
            0.093,
            0.067,
            0.046,
            0.031,
            0.021,
            0.057
           ]
          ]
         },
         "columnorder": [
          1,
          2,
          3,
          4,
          5,
          6,
          7
         ],
         "columnwidth": [
          1,
          1,
          1,
          1,
          1,
          1,
          1
         ],
         "domain": {
          "x": [
           0,
           1
          ],
          "y": [
           0.5349999999999999,
           0.9999999999999999
          ]
         },
         "header": {
          "fill": {
           "color": "rgb(131, 75, 160)"
          },
          "font": {
           "color": "white",
           "size": 15
          },
          "height": 35,
          "line": {
           "color": "rgb(217,217,217)"
          },
          "values": [
           "order_number_cut",
           "users",
           "order_max",
           "tip",
           "orders",
           "tip_norm",
           "orders_norm"
          ]
         },
         "type": "table"
        },
        {
         "hovertemplate": "<b>(0, 10]</b><br><br>Tipp: %{y:.0%}<br><extra></extra>",
         "legendgroup": "(0, 10]",
         "legendgrouptitle": {
          "text": "(0, 10]"
         },
         "marker": {
          "color": "rgb(189,189,189)"
         },
         "name": "Tipp: 27.2%",
         "showlegend": true,
         "type": "bar",
         "width": 0.8,
         "x": [
          "(0, 10]"
         ],
         "y": [
          0.272
         ]
        },
        {
         "hovertemplate": "<b>(10, 20]</b><br><br>Tipp: %{y:.0%}<br><extra></extra>",
         "legendgroup": "(10, 20]",
         "legendgrouptitle": {
          "text": "(10, 20]"
         },
         "marker": {
          "color": "rgb(189,189,189)"
         },
         "name": "Tipp: 35.9%",
         "showlegend": true,
         "type": "bar",
         "width": 0.8,
         "x": [
          "(10, 20]"
         ],
         "y": [
          0.359
         ]
        },
        {
         "hovertemplate": "<b>(20, 30]</b><br><br>Tipp: %{y:.0%}<br><extra></extra>",
         "legendgroup": "(20, 30]",
         "legendgrouptitle": {
          "text": "(20, 30]"
         },
         "marker": {
          "color": "rgb(189,189,189)"
         },
         "name": "Tipp: 45.1%",
         "showlegend": true,
         "type": "bar",
         "width": 0.8,
         "x": [
          "(20, 30]"
         ],
         "y": [
          0.451
         ]
        },
        {
         "hovertemplate": "<b>(30, 40]</b><br><br>Tipp: %{y:.0%}<br><extra></extra>",
         "legendgroup": "(30, 40]",
         "legendgrouptitle": {
          "text": "(30, 40]"
         },
         "marker": {
          "color": "rgb(131, 75, 160)"
         },
         "name": "Tipp: 51.3%",
         "showlegend": true,
         "type": "bar",
         "width": 0.8,
         "x": [
          "(30, 40]"
         ],
         "y": [
          0.513
         ]
        },
        {
         "hovertemplate": "<b>(40, 50]</b><br><br>Tipp: %{y:.0%}<br><extra></extra>",
         "legendgroup": "(40, 50]",
         "legendgrouptitle": {
          "text": "(40, 50]"
         },
         "marker": {
          "color": "rgb(131, 75, 160)"
         },
         "name": "Tipp: 54.2%",
         "showlegend": true,
         "type": "bar",
         "width": 0.8,
         "x": [
          "(40, 50]"
         ],
         "y": [
          0.542
         ]
        },
        {
         "hovertemplate": "<b>(50, 60]</b><br><br>Tipp: %{y:.0%}<br><extra></extra>",
         "legendgroup": "(50, 60]",
         "legendgrouptitle": {
          "text": "(50, 60]"
         },
         "marker": {
          "color": "rgb(131, 75, 160)"
         },
         "name": "Tipp: 53.1%",
         "showlegend": true,
         "type": "bar",
         "width": 0.8,
         "x": [
          "(50, 60]"
         ],
         "y": [
          0.531
         ]
        },
        {
         "hovertemplate": "<b>(60, 70]</b><br><br>Tipp: %{y:.0%}<br><extra></extra>",
         "legendgroup": "(60, 70]",
         "legendgrouptitle": {
          "text": "(60, 70]"
         },
         "marker": {
          "color": "rgb(131, 75, 160)"
         },
         "name": "Tipp: 50.4%",
         "showlegend": true,
         "type": "bar",
         "width": 0.8,
         "x": [
          "(60, 70]"
         ],
         "y": [
          0.504
         ]
        },
        {
         "hovertemplate": "<b>(70, 80]</b><br><br>Tipp: %{y:.0%}<br><extra></extra>",
         "legendgroup": "(70, 80]",
         "legendgrouptitle": {
          "text": "(70, 80]"
         },
         "marker": {
          "color": "rgb(189,189,189)"
         },
         "name": "Tipp: 45.7%",
         "showlegend": true,
         "type": "bar",
         "width": 0.8,
         "x": [
          "(70, 80]"
         ],
         "y": [
          0.457
         ]
        },
        {
         "hovertemplate": "<b>(80, 90]</b><br><br>Tipp: %{y:.0%}<br><extra></extra>",
         "legendgroup": "(80, 90]",
         "legendgrouptitle": {
          "text": "(80, 90]"
         },
         "marker": {
          "color": "rgb(189,189,189)"
         },
         "name": "Tipp: 49.1%",
         "showlegend": true,
         "type": "bar",
         "width": 0.8,
         "x": [
          "(80, 90]"
         ],
         "y": [
          0.491
         ]
        },
        {
         "hovertemplate": "<b>(90, 100]</b><br><br>Tipp: %{y:.0%}<br><extra></extra>",
         "legendgroup": "(90, 100]",
         "legendgrouptitle": {
          "text": "(90, 100]"
         },
         "marker": {
          "color": "rgb(189,189,189)"
         },
         "name": "Tipp: 39.9%",
         "showlegend": true,
         "type": "bar",
         "width": 0.8,
         "x": [
          "(90, 100]"
         ],
         "y": [
          0.399
         ]
        }
       ],
       "layout": {
        "height": 800,
        "legend": {
         "title": {
          "text": "<b>Bestellungen</b>"
         }
        },
        "plot_bgcolor": "white",
        "template": {
         "data": {
          "bar": [
           {
            "error_x": {
             "color": "#2a3f5f"
            },
            "error_y": {
             "color": "#2a3f5f"
            },
            "marker": {
             "line": {
              "color": "#E5ECF6",
              "width": 0.5
             },
             "pattern": {
              "fillmode": "overlay",
              "size": 10,
              "solidity": 0.2
             }
            },
            "type": "bar"
           }
          ],
          "barpolar": [
           {
            "marker": {
             "line": {
              "color": "#E5ECF6",
              "width": 0.5
             },
             "pattern": {
              "fillmode": "overlay",
              "size": 10,
              "solidity": 0.2
             }
            },
            "type": "barpolar"
           }
          ],
          "carpet": [
           {
            "aaxis": {
             "endlinecolor": "#2a3f5f",
             "gridcolor": "white",
             "linecolor": "white",
             "minorgridcolor": "white",
             "startlinecolor": "#2a3f5f"
            },
            "baxis": {
             "endlinecolor": "#2a3f5f",
             "gridcolor": "white",
             "linecolor": "white",
             "minorgridcolor": "white",
             "startlinecolor": "#2a3f5f"
            },
            "type": "carpet"
           }
          ],
          "choropleth": [
           {
            "colorbar": {
             "outlinewidth": 0,
             "ticks": ""
            },
            "type": "choropleth"
           }
          ],
          "contour": [
           {
            "colorbar": {
             "outlinewidth": 0,
             "ticks": ""
            },
            "colorscale": [
             [
              0,
              "#0d0887"
             ],
             [
              0.1111111111111111,
              "#46039f"
             ],
             [
              0.2222222222222222,
              "#7201a8"
             ],
             [
              0.3333333333333333,
              "#9c179e"
             ],
             [
              0.4444444444444444,
              "#bd3786"
             ],
             [
              0.5555555555555556,
              "#d8576b"
             ],
             [
              0.6666666666666666,
              "#ed7953"
             ],
             [
              0.7777777777777778,
              "#fb9f3a"
             ],
             [
              0.8888888888888888,
              "#fdca26"
             ],
             [
              1,
              "#f0f921"
             ]
            ],
            "type": "contour"
           }
          ],
          "contourcarpet": [
           {
            "colorbar": {
             "outlinewidth": 0,
             "ticks": ""
            },
            "type": "contourcarpet"
           }
          ],
          "heatmap": [
           {
            "colorbar": {
             "outlinewidth": 0,
             "ticks": ""
            },
            "colorscale": [
             [
              0,
              "#0d0887"
             ],
             [
              0.1111111111111111,
              "#46039f"
             ],
             [
              0.2222222222222222,
              "#7201a8"
             ],
             [
              0.3333333333333333,
              "#9c179e"
             ],
             [
              0.4444444444444444,
              "#bd3786"
             ],
             [
              0.5555555555555556,
              "#d8576b"
             ],
             [
              0.6666666666666666,
              "#ed7953"
             ],
             [
              0.7777777777777778,
              "#fb9f3a"
             ],
             [
              0.8888888888888888,
              "#fdca26"
             ],
             [
              1,
              "#f0f921"
             ]
            ],
            "type": "heatmap"
           }
          ],
          "heatmapgl": [
           {
            "colorbar": {
             "outlinewidth": 0,
             "ticks": ""
            },
            "colorscale": [
             [
              0,
              "#0d0887"
             ],
             [
              0.1111111111111111,
              "#46039f"
             ],
             [
              0.2222222222222222,
              "#7201a8"
             ],
             [
              0.3333333333333333,
              "#9c179e"
             ],
             [
              0.4444444444444444,
              "#bd3786"
             ],
             [
              0.5555555555555556,
              "#d8576b"
             ],
             [
              0.6666666666666666,
              "#ed7953"
             ],
             [
              0.7777777777777778,
              "#fb9f3a"
             ],
             [
              0.8888888888888888,
              "#fdca26"
             ],
             [
              1,
              "#f0f921"
             ]
            ],
            "type": "heatmapgl"
           }
          ],
          "histogram": [
           {
            "marker": {
             "pattern": {
              "fillmode": "overlay",
              "size": 10,
              "solidity": 0.2
             }
            },
            "type": "histogram"
           }
          ],
          "histogram2d": [
           {
            "colorbar": {
             "outlinewidth": 0,
             "ticks": ""
            },
            "colorscale": [
             [
              0,
              "#0d0887"
             ],
             [
              0.1111111111111111,
              "#46039f"
             ],
             [
              0.2222222222222222,
              "#7201a8"
             ],
             [
              0.3333333333333333,
              "#9c179e"
             ],
             [
              0.4444444444444444,
              "#bd3786"
             ],
             [
              0.5555555555555556,
              "#d8576b"
             ],
             [
              0.6666666666666666,
              "#ed7953"
             ],
             [
              0.7777777777777778,
              "#fb9f3a"
             ],
             [
              0.8888888888888888,
              "#fdca26"
             ],
             [
              1,
              "#f0f921"
             ]
            ],
            "type": "histogram2d"
           }
          ],
          "histogram2dcontour": [
           {
            "colorbar": {
             "outlinewidth": 0,
             "ticks": ""
            },
            "colorscale": [
             [
              0,
              "#0d0887"
             ],
             [
              0.1111111111111111,
              "#46039f"
             ],
             [
              0.2222222222222222,
              "#7201a8"
             ],
             [
              0.3333333333333333,
              "#9c179e"
             ],
             [
              0.4444444444444444,
              "#bd3786"
             ],
             [
              0.5555555555555556,
              "#d8576b"
             ],
             [
              0.6666666666666666,
              "#ed7953"
             ],
             [
              0.7777777777777778,
              "#fb9f3a"
             ],
             [
              0.8888888888888888,
              "#fdca26"
             ],
             [
              1,
              "#f0f921"
             ]
            ],
            "type": "histogram2dcontour"
           }
          ],
          "mesh3d": [
           {
            "colorbar": {
             "outlinewidth": 0,
             "ticks": ""
            },
            "type": "mesh3d"
           }
          ],
          "parcoords": [
           {
            "line": {
             "colorbar": {
              "outlinewidth": 0,
              "ticks": ""
             }
            },
            "type": "parcoords"
           }
          ],
          "pie": [
           {
            "automargin": true,
            "type": "pie"
           }
          ],
          "scatter": [
           {
            "fillpattern": {
             "fillmode": "overlay",
             "size": 10,
             "solidity": 0.2
            },
            "type": "scatter"
           }
          ],
          "scatter3d": [
           {
            "line": {
             "colorbar": {
              "outlinewidth": 0,
              "ticks": ""
             }
            },
            "marker": {
             "colorbar": {
              "outlinewidth": 0,
              "ticks": ""
             }
            },
            "type": "scatter3d"
           }
          ],
          "scattercarpet": [
           {
            "marker": {
             "colorbar": {
              "outlinewidth": 0,
              "ticks": ""
             }
            },
            "type": "scattercarpet"
           }
          ],
          "scattergeo": [
           {
            "marker": {
             "colorbar": {
              "outlinewidth": 0,
              "ticks": ""
             }
            },
            "type": "scattergeo"
           }
          ],
          "scattergl": [
           {
            "marker": {
             "colorbar": {
              "outlinewidth": 0,
              "ticks": ""
             }
            },
            "type": "scattergl"
           }
          ],
          "scattermapbox": [
           {
            "marker": {
             "colorbar": {
              "outlinewidth": 0,
              "ticks": ""
             }
            },
            "type": "scattermapbox"
           }
          ],
          "scatterpolar": [
           {
            "marker": {
             "colorbar": {
              "outlinewidth": 0,
              "ticks": ""
             }
            },
            "type": "scatterpolar"
           }
          ],
          "scatterpolargl": [
           {
            "marker": {
             "colorbar": {
              "outlinewidth": 0,
              "ticks": ""
             }
            },
            "type": "scatterpolargl"
           }
          ],
          "scatterternary": [
           {
            "marker": {
             "colorbar": {
              "outlinewidth": 0,
              "ticks": ""
             }
            },
            "type": "scatterternary"
           }
          ],
          "surface": [
           {
            "colorbar": {
             "outlinewidth": 0,
             "ticks": ""
            },
            "colorscale": [
             [
              0,
              "#0d0887"
             ],
             [
              0.1111111111111111,
              "#46039f"
             ],
             [
              0.2222222222222222,
              "#7201a8"
             ],
             [
              0.3333333333333333,
              "#9c179e"
             ],
             [
              0.4444444444444444,
              "#bd3786"
             ],
             [
              0.5555555555555556,
              "#d8576b"
             ],
             [
              0.6666666666666666,
              "#ed7953"
             ],
             [
              0.7777777777777778,
              "#fb9f3a"
             ],
             [
              0.8888888888888888,
              "#fdca26"
             ],
             [
              1,
              "#f0f921"
             ]
            ],
            "type": "surface"
           }
          ],
          "table": [
           {
            "cells": {
             "fill": {
              "color": "#EBF0F8"
             },
             "line": {
              "color": "white"
             }
            },
            "header": {
             "fill": {
              "color": "#C8D4E3"
             },
             "line": {
              "color": "white"
             }
            },
            "type": "table"
           }
          ]
         },
         "layout": {
          "annotationdefaults": {
           "arrowcolor": "#2a3f5f",
           "arrowhead": 0,
           "arrowwidth": 1
          },
          "autotypenumbers": "strict",
          "coloraxis": {
           "colorbar": {
            "outlinewidth": 0,
            "ticks": ""
           }
          },
          "colorscale": {
           "diverging": [
            [
             0,
             "#8e0152"
            ],
            [
             0.1,
             "#c51b7d"
            ],
            [
             0.2,
             "#de77ae"
            ],
            [
             0.3,
             "#f1b6da"
            ],
            [
             0.4,
             "#fde0ef"
            ],
            [
             0.5,
             "#f7f7f7"
            ],
            [
             0.6,
             "#e6f5d0"
            ],
            [
             0.7,
             "#b8e186"
            ],
            [
             0.8,
             "#7fbc41"
            ],
            [
             0.9,
             "#4d9221"
            ],
            [
             1,
             "#276419"
            ]
           ],
           "sequential": [
            [
             0,
             "#0d0887"
            ],
            [
             0.1111111111111111,
             "#46039f"
            ],
            [
             0.2222222222222222,
             "#7201a8"
            ],
            [
             0.3333333333333333,
             "#9c179e"
            ],
            [
             0.4444444444444444,
             "#bd3786"
            ],
            [
             0.5555555555555556,
             "#d8576b"
            ],
            [
             0.6666666666666666,
             "#ed7953"
            ],
            [
             0.7777777777777778,
             "#fb9f3a"
            ],
            [
             0.8888888888888888,
             "#fdca26"
            ],
            [
             1,
             "#f0f921"
            ]
           ],
           "sequentialminus": [
            [
             0,
             "#0d0887"
            ],
            [
             0.1111111111111111,
             "#46039f"
            ],
            [
             0.2222222222222222,
             "#7201a8"
            ],
            [
             0.3333333333333333,
             "#9c179e"
            ],
            [
             0.4444444444444444,
             "#bd3786"
            ],
            [
             0.5555555555555556,
             "#d8576b"
            ],
            [
             0.6666666666666666,
             "#ed7953"
            ],
            [
             0.7777777777777778,
             "#fb9f3a"
            ],
            [
             0.8888888888888888,
             "#fdca26"
            ],
            [
             1,
             "#f0f921"
            ]
           ]
          },
          "colorway": [
           "#636efa",
           "#EF553B",
           "#00cc96",
           "#ab63fa",
           "#FFA15A",
           "#19d3f3",
           "#FF6692",
           "#B6E880",
           "#FF97FF",
           "#FECB52"
          ],
          "font": {
           "color": "#2a3f5f"
          },
          "geo": {
           "bgcolor": "white",
           "lakecolor": "white",
           "landcolor": "#E5ECF6",
           "showlakes": true,
           "showland": true,
           "subunitcolor": "white"
          },
          "hoverlabel": {
           "align": "left"
          },
          "hovermode": "closest",
          "mapbox": {
           "style": "light"
          },
          "paper_bgcolor": "white",
          "plot_bgcolor": "#E5ECF6",
          "polar": {
           "angularaxis": {
            "gridcolor": "white",
            "linecolor": "white",
            "ticks": ""
           },
           "bgcolor": "#E5ECF6",
           "radialaxis": {
            "gridcolor": "white",
            "linecolor": "white",
            "ticks": ""
           }
          },
          "scene": {
           "xaxis": {
            "backgroundcolor": "#E5ECF6",
            "gridcolor": "white",
            "gridwidth": 2,
            "linecolor": "white",
            "showbackground": true,
            "ticks": "",
            "zerolinecolor": "white"
           },
           "yaxis": {
            "backgroundcolor": "#E5ECF6",
            "gridcolor": "white",
            "gridwidth": 2,
            "linecolor": "white",
            "showbackground": true,
            "ticks": "",
            "zerolinecolor": "white"
           },
           "zaxis": {
            "backgroundcolor": "#E5ECF6",
            "gridcolor": "white",
            "gridwidth": 2,
            "linecolor": "white",
            "showbackground": true,
            "ticks": "",
            "zerolinecolor": "white"
           }
          },
          "shapedefaults": {
           "line": {
            "color": "#2a3f5f"
           }
          },
          "ternary": {
           "aaxis": {
            "gridcolor": "white",
            "linecolor": "white",
            "ticks": ""
           },
           "baxis": {
            "gridcolor": "white",
            "linecolor": "white",
            "ticks": ""
           },
           "bgcolor": "#E5ECF6",
           "caxis": {
            "gridcolor": "white",
            "linecolor": "white",
            "ticks": ""
           }
          },
          "title": {
           "x": 0.05
          },
          "xaxis": {
           "automargin": true,
           "gridcolor": "white",
           "linecolor": "white",
           "ticks": "",
           "title": {
            "standoff": 15
           },
           "zerolinecolor": "white",
           "zerolinewidth": 2
          },
          "yaxis": {
           "automargin": true,
           "gridcolor": "white",
           "linecolor": "white",
           "ticks": "",
           "title": {
            "standoff": 15
           },
           "zerolinecolor": "white",
           "zerolinewidth": 2
          }
         }
        },
        "title": {
         "font": {
          "size": 20
         },
         "text": "<b>Tippwahrscheinlichkeit nach Bestellungsanzahl pro User</b>",
         "x": 0.475,
         "xanchor": "center",
         "y": 0.935,
         "yanchor": "top"
        },
        "xaxis": {
         "anchor": "y",
         "domain": [
          0,
          1
         ],
         "linecolor": "black",
         "showline": true,
         "ticks": "outside",
         "title": {
          "text": "<b>Bestellungsanzahl in Intervallen</b>"
         }
        },
        "yaxis": {
         "anchor": "x",
         "domain": [
          0,
          0.46499999999999997
         ],
         "gridcolor": "grey",
         "linecolor": "black",
         "showgrid": true,
         "showline": true,
         "ticks": "outside",
         "tickvals": [
          0,
          0.25,
          0.5,
          0.75
         ],
         "title": {
          "text": "<b>Tipp Wshk.</b>"
         }
        }
       }
      }
     },
     "metadata": {},
     "output_type": "display_data"
    }
   ],
   "source": [
    "# Plot P3: order_number \n",
    "\n",
    "fig = make_subplots(cols= 1, rows=2, specs= [[dict(type= \"table\")], [dict(type= \"bar\")]], vertical_spacing= 0.07)\n",
    "\n",
    "fig.add_trace(\n",
    "  go.Table(\n",
    "    columnorder= [1, 2, 3, 4, 5, 6, 7],\n",
    "    columnwidth= [1, 1, 1, 1, 1, 1, 1],\n",
    "    header=dict(\n",
    "        values= list(df_order_number3.columns),\n",
    "        fill_color= px.colors.sequential.Purpor[5],\n",
    "        line_color= px.colors.sequential.Greys[2],\n",
    "        font= dict(color= \"white\", size=15),\n",
    "        height= 35\n",
    "        ),\n",
    "    cells=dict(\n",
    "        values= df_order_number3.T.values,\n",
    "        fill_color= \"white\",\n",
    "        line_color= px.colors.sequential.Greys[2],\n",
    "        font= dict(color= \"black\", size=13),\n",
    "        align= \"center\",\n",
    "        height= 30\n",
    "        )\n",
    "    ),\n",
    "    col= 1,\n",
    "    row= 1\n",
    ")\n",
    "\n",
    "\n",
    "for interval in df_order_number3.order_number_cut.unique():\n",
    "\n",
    " if 0.5 <= df_order_number3.loc[df_order_number3.order_number_cut == interval].tip_norm.values:\n",
    "  color = px.colors.sequential.Purpor[5]\n",
    "\n",
    "  fig.add_trace(\n",
    "   go.Bar(\n",
    "    x= df_order_number3.loc[df_order_number3.order_number_cut == interval].order_number_cut.values,\n",
    "    y= df_order_number3.loc[df_order_number3.order_number_cut == interval].tip_norm.values,\n",
    "    name= f\"Tipp: {(df_order_number3.loc[df_order_number3.order_number_cut == interval].tip_norm.values[0] * 100).round(2)}%\",\n",
    "    showlegend= True,\n",
    "    marker= dict(color= color),\n",
    "    width= 0.8,\n",
    "    legendgroup= f\"{interval}\",\n",
    "    legendgrouptitle_text = f\"{interval}\",\n",
    "    hovertemplate = f\"<b>{interval}</b><br><br>\" +\n",
    "        \"Tipp: %{y:.0%}<br>\" +\n",
    "        \"<extra></extra>\",\n",
    "   ),\n",
    "  )\n",
    "\n",
    " else:\n",
    "  color = px.colors.sequential.Greys[3]\n",
    "\n",
    "  fig.add_trace(\n",
    "   go.Bar(\n",
    "    x= df_order_number3.loc[df_order_number3.order_number_cut == interval].order_number_cut.values,\n",
    "    y= df_order_number3.loc[df_order_number3.order_number_cut == interval].tip_norm.values,\n",
    "    name= f\"Tipp: {(df_order_number3.loc[df_order_number3.order_number_cut == interval].tip_norm.values[0] * 100).round(2)}%\",\n",
    "    showlegend= True,\n",
    "    marker= dict(color= color),\n",
    "    width= 0.8,\n",
    "    legendgroup= f\"{interval}\",\n",
    "    legendgrouptitle_text = f\"{interval}\",\n",
    "    hovertemplate = f\"<b>{interval}</b><br><br>\" +\n",
    "        \"Tipp: %{y:.0%}<br>\" +\n",
    "        \"<extra></extra>\",\n",
    "   ),\n",
    "  )\n",
    "\n",
    "fig.update_layout(title= dict(text= \"<b>Tippwahrscheinlichkeit nach Bestellungsanzahl pro User</b>\", font_size= 20, xanchor= \"center\", yanchor= \"top\", y=0.935, x=0.475), legend_title_text = \"<b>Bestellungen</b>\", height= 800)\n",
    "fig.update_xaxes(title_text=\"<b>Bestellungsanzahl in Intervallen</b>\", ticks= \"outside\", col= 1, row= 2, showline= True)\n",
    "fig.update_yaxes(title_text=\"<b>Tipp Wshk.</b>\", ticks= \"outside\", showgrid= True, gridcolor= \"grey\", col= 1, row= 2, showline= True, tickvals= [0, 0.25, 0.5, 0.75])\n",
    "fig.update_layout(plot_bgcolor= \"white\", xaxis= dict(linecolor= \"black\"), yaxis= dict(linecolor= \"black\"))\n",
    "\n",
    "fig.show()"
   ]
  },
  {
   "attachments": {},
   "cell_type": "markdown",
   "metadata": {},
   "source": [
    "- Bestellungen von Usern mit einer Bestellungsanzahl von 40 - 60 Bestellungen haben mit rund 54% die höchste Trinkgeldwahrscheinlichkeit"
   ]
  },
  {
   "attachments": {},
   "cell_type": "markdown",
   "metadata": {},
   "source": [
    "#### Attribut: order_hour_of_day"
   ]
  },
  {
   "attachments": {},
   "cell_type": "markdown",
   "metadata": {},
   "source": [
    "- Gruppieren der Bestelldaten nach Tagesstunden und berechnen der Trinkgeldwahrscheinlichkeit "
   ]
  },
  {
   "cell_type": "code",
   "execution_count": 195,
   "metadata": {},
   "outputs": [
    {
     "data": {
      "text/html": [
       "<div>\n",
       "<style scoped>\n",
       "    .dataframe tbody tr th:only-of-type {\n",
       "        vertical-align: middle;\n",
       "    }\n",
       "\n",
       "    .dataframe tbody tr th {\n",
       "        vertical-align: top;\n",
       "    }\n",
       "\n",
       "    .dataframe thead th {\n",
       "        text-align: right;\n",
       "    }\n",
       "</style>\n",
       "<table border=\"1\" class=\"dataframe\">\n",
       "  <thead>\n",
       "    <tr style=\"text-align: right;\">\n",
       "      <th></th>\n",
       "      <th>order_hour_of_day</th>\n",
       "      <th>orders</th>\n",
       "      <th>tip</th>\n",
       "      <th>tip_norm</th>\n",
       "      <th>orders_norm</th>\n",
       "    </tr>\n",
       "  </thead>\n",
       "  <tbody>\n",
       "    <tr>\n",
       "      <th>0</th>\n",
       "      <td>0</td>\n",
       "      <td>4072</td>\n",
       "      <td>2079.0</td>\n",
       "      <td>0.510560</td>\n",
       "      <td>0.006709</td>\n",
       "    </tr>\n",
       "    <tr>\n",
       "      <th>1</th>\n",
       "      <td>1</td>\n",
       "      <td>2219</td>\n",
       "      <td>1125.0</td>\n",
       "      <td>0.506985</td>\n",
       "      <td>0.003656</td>\n",
       "    </tr>\n",
       "    <tr>\n",
       "      <th>2</th>\n",
       "      <td>2</td>\n",
       "      <td>1340</td>\n",
       "      <td>694.0</td>\n",
       "      <td>0.517910</td>\n",
       "      <td>0.002208</td>\n",
       "    </tr>\n",
       "    <tr>\n",
       "      <th>3</th>\n",
       "      <td>3</td>\n",
       "      <td>956</td>\n",
       "      <td>477.0</td>\n",
       "      <td>0.498954</td>\n",
       "      <td>0.001575</td>\n",
       "    </tr>\n",
       "    <tr>\n",
       "      <th>4</th>\n",
       "      <td>4</td>\n",
       "      <td>986</td>\n",
       "      <td>510.0</td>\n",
       "      <td>0.517241</td>\n",
       "      <td>0.001625</td>\n",
       "    </tr>\n",
       "  </tbody>\n",
       "</table>\n",
       "</div>"
      ],
      "text/plain": [
       "   order_hour_of_day  orders     tip  tip_norm  orders_norm\n",
       "0                  0    4072  2079.0  0.510560     0.006709\n",
       "1                  1    2219  1125.0  0.506985     0.003656\n",
       "2                  2    1340   694.0  0.517910     0.002208\n",
       "3                  3     956   477.0  0.498954     0.001575\n",
       "4                  4     986   510.0  0.517241     0.001625"
      ]
     },
     "execution_count": 195,
     "metadata": {},
     "output_type": "execute_result"
    }
   ],
   "source": [
    "df_h = df_p3.groupby([\"order_hour_of_day\", \"order_id\"], as_index= False).agg(tip= (\"tip\", \"mean\"))\n",
    "df_hour = df_h.groupby([\"order_hour_of_day\"], as_index= False).agg(orders= (\"order_id\", \"nunique\"), tip= (\"tip\", \"sum\"))\n",
    "df_hour[\"tip_norm\"] = df_hour.tip / df_hour.orders\n",
    "df_hour[\"orders_norm\"] = df_hour.orders / df_hour.orders.sum()\n",
    "df_hour.head()"
   ]
  },
  {
   "attachments": {},
   "cell_type": "markdown",
   "metadata": {},
   "source": [
    "**Plotten der Tippwahrscheinlichkeit pro Stunde**"
   ]
  },
  {
   "cell_type": "code",
   "execution_count": 214,
   "metadata": {},
   "outputs": [
    {
     "data": {
      "application/vnd.plotly.v1+json": {
       "config": {
        "plotlyServerURL": "https://plot.ly"
       },
       "data": [
        {
         "base": 0,
         "hovertemplate": "<b>0.00 Uhr</b><br><br>Tipp: %{y}<br><extra></extra>",
         "legendgroup": "0",
         "legendgrouptitle": {
          "text": "0.00 Uhr"
         },
         "marker": {
          "color": "rgb(131, 75, 160)"
         },
         "name": "Tipp: 51.06%",
         "showlegend": true,
         "text": [
          0.511
         ],
         "type": "bar",
         "width": 0.8,
         "x": [
          0
         ],
         "xaxis": "x",
         "y": [
          0.5105599214145383
         ],
         "yaxis": "y"
        },
        {
         "base": [
          -0.006709341505812181
         ],
         "hovertemplate": "<b>0.00 Uhr</b><br><br>Orders: %{base}<br><extra></extra>",
         "legendgroup": "0",
         "marker": {
          "color": "rgb(131, 75, 160)"
         },
         "name": "Orders: 0.671%",
         "showlegend": true,
         "type": "bar",
         "width": 0.8,
         "x": [
          0
         ],
         "xaxis": "x2",
         "y": [
          0.006709341505812181
         ],
         "yaxis": "y2"
        },
        {
         "base": 0,
         "hovertemplate": "<b>1.00 Uhr</b><br><br>Tipp: %{y}<br><extra></extra>",
         "legendgroup": "1",
         "legendgrouptitle": {
          "text": "1.00 Uhr"
         },
         "marker": {
          "color": "rgb(131, 75, 160)"
         },
         "name": "Tipp: 50.7%",
         "showlegend": true,
         "text": [
          0.507
         ],
         "type": "bar",
         "width": 0.8,
         "x": [
          1
         ],
         "xaxis": "x",
         "y": [
          0.5069851284362326
         ],
         "yaxis": "y"
        },
        {
         "base": [
          -0.0036561956781427382
         ],
         "hovertemplate": "<b>1.00 Uhr</b><br><br>Orders: %{base}<br><extra></extra>",
         "legendgroup": "1",
         "marker": {
          "color": "rgb(131, 75, 160)"
         },
         "name": "Orders: 0.366%",
         "showlegend": true,
         "type": "bar",
         "width": 0.8,
         "x": [
          1
         ],
         "xaxis": "x2",
         "y": [
          0.0036561956781427382
         ],
         "yaxis": "y2"
        },
        {
         "base": 0,
         "hovertemplate": "<b>2.00 Uhr</b><br><br>Tipp: %{y}<br><extra></extra>",
         "legendgroup": "2",
         "legendgrouptitle": {
          "text": "2.00 Uhr"
         },
         "marker": {
          "color": "rgb(131, 75, 160)"
         },
         "name": "Tipp: 51.79%",
         "showlegend": true,
         "text": [
          0.518
         ],
         "type": "bar",
         "width": 0.8,
         "x": [
          2
         ],
         "xaxis": "x",
         "y": [
          0.517910447761194
         ],
         "yaxis": "y"
        },
        {
         "base": [
          -0.0022078874306945785
         ],
         "hovertemplate": "<b>2.00 Uhr</b><br><br>Orders: %{base}<br><extra></extra>",
         "legendgroup": "2",
         "marker": {
          "color": "rgb(131, 75, 160)"
         },
         "name": "Orders: 0.221%",
         "showlegend": true,
         "type": "bar",
         "width": 0.8,
         "x": [
          2
         ],
         "xaxis": "x2",
         "y": [
          0.0022078874306945785
         ],
         "yaxis": "y2"
        },
        {
         "base": 0,
         "hovertemplate": "<b>3.00 Uhr</b><br><br>Tipp: %{y}<br><extra></extra>",
         "legendgroup": "3",
         "legendgrouptitle": {
          "text": "3.00 Uhr"
         },
         "marker": {
          "color": "rgb(189,189,189)"
         },
         "name": "Tipp: 49.9%",
         "showlegend": true,
         "type": "bar",
         "width": 0.8,
         "x": [
          3
         ],
         "xaxis": "x",
         "y": [
          0.4989539748953975
         ],
         "yaxis": "y"
        },
        {
         "base": [
          -0.001575179390853744
         ],
         "hovertemplate": "<b>3.00 Uhr</b><br><br>Orders: %{base}<br><extra></extra>",
         "legendgroup": "3",
         "marker": {
          "color": "rgb(189,189,189)"
         },
         "name": "Orders: 0.158%",
         "showlegend": true,
         "type": "bar",
         "width": 0.8,
         "x": [
          3
         ],
         "xaxis": "x2",
         "y": [
          0.001575179390853744
         ],
         "yaxis": "y2"
        },
        {
         "base": 0,
         "hovertemplate": "<b>4.00 Uhr</b><br><br>Tipp: %{y}<br><extra></extra>",
         "legendgroup": "4",
         "legendgrouptitle": {
          "text": "4.00 Uhr"
         },
         "marker": {
          "color": "rgb(131, 75, 160)"
         },
         "name": "Tipp: 51.72%",
         "showlegend": true,
         "text": [
          0.517
         ],
         "type": "bar",
         "width": 0.8,
         "x": [
          4
         ],
         "xaxis": "x",
         "y": [
          0.5172413793103449
         ],
         "yaxis": "y"
        },
        {
         "base": [
          -0.001624609706466309
         ],
         "hovertemplate": "<b>4.00 Uhr</b><br><br>Orders: %{base}<br><extra></extra>",
         "legendgroup": "4",
         "marker": {
          "color": "rgb(131, 75, 160)"
         },
         "name": "Orders: 0.162%",
         "showlegend": true,
         "type": "bar",
         "width": 0.8,
         "x": [
          4
         ],
         "xaxis": "x2",
         "y": [
          0.001624609706466309
         ],
         "yaxis": "y2"
        },
        {
         "base": 0,
         "hovertemplate": "<b>5.00 Uhr</b><br><br>Tipp: %{y}<br><extra></extra>",
         "legendgroup": "5",
         "legendgrouptitle": {
          "text": "5.00 Uhr"
         },
         "marker": {
          "color": "rgb(217,217,217)"
         },
         "name": "Tipp: 37.65%",
         "showlegend": true,
         "type": "bar",
         "width": 0.8,
         "x": [
          5
         ],
         "xaxis": "x",
         "y": [
          0.3765206812652068
         ],
         "yaxis": "y"
        },
        {
         "base": [
          -0.002708781295568572
         ],
         "hovertemplate": "<b>5.00 Uhr</b><br><br>Orders: %{base}<br><extra></extra>",
         "legendgroup": "5",
         "marker": {
          "color": "rgb(217,217,217)"
         },
         "name": "Orders: 0.271%",
         "showlegend": true,
         "type": "bar",
         "width": 0.8,
         "x": [
          5
         ],
         "xaxis": "x2",
         "y": [
          0.002708781295568572
         ],
         "yaxis": "y2"
        },
        {
         "base": 0,
         "hovertemplate": "<b>6.00 Uhr</b><br><br>Tipp: %{y}<br><extra></extra>",
         "legendgroup": "6",
         "legendgrouptitle": {
          "text": "6.00 Uhr"
         },
         "marker": {
          "color": "rgb(217,217,217)"
         },
         "name": "Tipp: 39.3%",
         "showlegend": true,
         "type": "bar",
         "width": 0.8,
         "x": [
          6
         ],
         "xaxis": "x",
         "y": [
          0.3929683208203626
         ],
         "yaxis": "y"
        },
        {
         "base": [
          -0.00899796511867395
         ],
         "hovertemplate": "<b>6.00 Uhr</b><br><br>Orders: %{base}<br><extra></extra>",
         "legendgroup": "6",
         "marker": {
          "color": "rgb(217,217,217)"
         },
         "name": "Orders: 0.9%",
         "showlegend": true,
         "type": "bar",
         "width": 0.8,
         "x": [
          6
         ],
         "xaxis": "x2",
         "y": [
          0.00899796511867395
         ],
         "yaxis": "y2"
        },
        {
         "base": 0,
         "hovertemplate": "<b>7.00 Uhr</b><br><br>Tipp: %{y}<br><extra></extra>",
         "legendgroup": "7",
         "legendgrouptitle": {
          "text": "7.00 Uhr"
         },
         "marker": {
          "color": "rgb(189,189,189)"
         },
         "name": "Tipp: 40.76%",
         "showlegend": true,
         "type": "bar",
         "width": 0.8,
         "x": [
          7
         ],
         "xaxis": "x",
         "y": [
          0.40759835512183146
         ],
         "yaxis": "y"
        },
        {
         "base": [
          -0.026845604409184154
         ],
         "hovertemplate": "<b>7.00 Uhr</b><br><br>Orders: %{base}<br><extra></extra>",
         "legendgroup": "7",
         "marker": {
          "color": "rgb(189,189,189)"
         },
         "name": "Orders: 2.685%",
         "showlegend": true,
         "type": "bar",
         "width": 0.8,
         "x": [
          7
         ],
         "xaxis": "x2",
         "y": [
          0.026845604409184154
         ],
         "yaxis": "y2"
        },
        {
         "base": 0,
         "hovertemplate": "<b>8.00 Uhr</b><br><br>Tipp: %{y}<br><extra></extra>",
         "legendgroup": "8",
         "legendgrouptitle": {
          "text": "8.00 Uhr"
         },
         "marker": {
          "color": "rgb(189,189,189)"
         },
         "name": "Tipp: 42.11%",
         "showlegend": true,
         "type": "bar",
         "width": 0.8,
         "x": [
          8
         ],
         "xaxis": "x",
         "y": [
          0.42110716865010833
         ],
         "yaxis": "y"
        },
        {
         "base": [
          -0.052473575377112114
         ],
         "hovertemplate": "<b>8.00 Uhr</b><br><br>Orders: %{base}<br><extra></extra>",
         "legendgroup": "8",
         "marker": {
          "color": "rgb(189,189,189)"
         },
         "name": "Orders: 5.247%",
         "showlegend": true,
         "type": "bar",
         "width": 0.8,
         "x": [
          8
         ],
         "xaxis": "x2",
         "y": [
          0.052473575377112114
         ],
         "yaxis": "y2"
        },
        {
         "base": 0,
         "hovertemplate": "<b>9.00 Uhr</b><br><br>Tipp: %{y}<br><extra></extra>",
         "legendgroup": "9",
         "legendgrouptitle": {
          "text": "9.00 Uhr"
         },
         "marker": {
          "color": "rgb(189,189,189)"
         },
         "name": "Tipp: 42.65%",
         "showlegend": true,
         "type": "bar",
         "width": 0.8,
         "x": [
          9
         ],
         "xaxis": "x",
         "y": [
          0.4264783065080476
         ],
         "yaxis": "y"
        },
        {
         "base": [
          -0.07534498241104602
         ],
         "hovertemplate": "<b>9.00 Uhr</b><br><br>Orders: %{base}<br><extra></extra>",
         "legendgroup": "9",
         "marker": {
          "color": "rgb(189,189,189)"
         },
         "name": "Orders: 7.534%",
         "showlegend": true,
         "type": "bar",
         "width": 0.8,
         "x": [
          9
         ],
         "xaxis": "x2",
         "y": [
          0.07534498241104602
         ],
         "yaxis": "y2"
        },
        {
         "base": 0,
         "hovertemplate": "<b>10.00 Uhr</b><br><br>Tipp: %{y}<br><extra></extra>",
         "legendgroup": "10",
         "legendgrouptitle": {
          "text": "10.00 Uhr"
         },
         "marker": {
          "color": "rgb(189,189,189)"
         },
         "name": "Tipp: 42.19%",
         "showlegend": true,
         "type": "bar",
         "width": 0.8,
         "x": [
          10
         ],
         "xaxis": "x",
         "y": [
          0.42193352059925093
         ],
         "yaxis": "y"
        },
        {
         "base": [
          -0.08446652331875139
         ],
         "hovertemplate": "<b>10.00 Uhr</b><br><br>Orders: %{base}<br><extra></extra>",
         "legendgroup": "10",
         "marker": {
          "color": "rgb(189,189,189)"
         },
         "name": "Orders: 8.447%",
         "showlegend": true,
         "type": "bar",
         "width": 0.8,
         "x": [
          10
         ],
         "xaxis": "x2",
         "y": [
          0.08446652331875139
         ],
         "yaxis": "y2"
        },
        {
         "base": 0,
         "hovertemplate": "<b>11.00 Uhr</b><br><br>Tipp: %{y}<br><extra></extra>",
         "legendgroup": "11",
         "legendgrouptitle": {
          "text": "11.00 Uhr"
         },
         "marker": {
          "color": "rgb(189,189,189)"
         },
         "name": "Tipp: 40.59%",
         "showlegend": true,
         "type": "bar",
         "width": 0.8,
         "x": [
          11
         ],
         "xaxis": "x",
         "y": [
          0.4059307745710602
         ],
         "yaxis": "y"
        },
        {
         "base": [
          -0.0830676453869158
         ],
         "hovertemplate": "<b>11.00 Uhr</b><br><br>Orders: %{base}<br><extra></extra>",
         "legendgroup": "11",
         "marker": {
          "color": "rgb(189,189,189)"
         },
         "name": "Orders: 8.307%",
         "showlegend": true,
         "type": "bar",
         "width": 0.8,
         "x": [
          11
         ],
         "xaxis": "x2",
         "y": [
          0.0830676453869158
         ],
         "yaxis": "y2"
        },
        {
         "base": 0,
         "hovertemplate": "<b>12.00 Uhr</b><br><br>Tipp: %{y}<br><extra></extra>",
         "legendgroup": "12",
         "legendgrouptitle": {
          "text": "12.00 Uhr"
         },
         "marker": {
          "color": "rgb(189,189,189)"
         },
         "name": "Tipp: 40.04%",
         "showlegend": true,
         "type": "bar",
         "width": 0.8,
         "x": [
          12
         ],
         "xaxis": "x",
         "y": [
          0.40044151932162825
         ],
         "yaxis": "y"
        },
        {
         "base": [
          -0.0798612655808474
         ],
         "hovertemplate": "<b>12.00 Uhr</b><br><br>Orders: %{base}<br><extra></extra>",
         "legendgroup": "12",
         "marker": {
          "color": "rgb(189,189,189)"
         },
         "name": "Orders: 7.986%",
         "showlegend": true,
         "type": "bar",
         "width": 0.8,
         "x": [
          12
         ],
         "xaxis": "x2",
         "y": [
          0.0798612655808474
         ],
         "yaxis": "y2"
        },
        {
         "base": 0,
         "hovertemplate": "<b>13.00 Uhr</b><br><br>Tipp: %{y}<br><extra></extra>",
         "legendgroup": "13",
         "legendgrouptitle": {
          "text": "13.00 Uhr"
         },
         "marker": {
          "color": "rgb(217,217,217)"
         },
         "name": "Tipp: 39.4%",
         "showlegend": true,
         "type": "bar",
         "width": 0.8,
         "x": [
          13
         ],
         "xaxis": "x",
         "y": [
          0.39401886639017647
         ],
         "yaxis": "y"
        },
        {
         "base": [
          -0.08104594547836189
         ],
         "hovertemplate": "<b>13.00 Uhr</b><br><br>Orders: %{base}<br><extra></extra>",
         "legendgroup": "13",
         "marker": {
          "color": "rgb(217,217,217)"
         },
         "name": "Orders: 8.105%",
         "showlegend": true,
         "type": "bar",
         "width": 0.8,
         "x": [
          13
         ],
         "xaxis": "x2",
         "y": [
          0.08104594547836189
         ],
         "yaxis": "y2"
        },
        {
         "base": 0,
         "hovertemplate": "<b>14.00 Uhr</b><br><br>Tipp: %{y}<br><extra></extra>",
         "legendgroup": "14",
         "legendgrouptitle": {
          "text": "14.00 Uhr"
         },
         "marker": {
          "color": "rgb(217,217,217)"
         },
         "name": "Tipp: 39.29%",
         "showlegend": true,
         "type": "bar",
         "width": 0.8,
         "x": [
          14
         ],
         "xaxis": "x",
         "y": [
          0.3929295972682535
         ],
         "yaxis": "y"
        },
        {
         "base": [
          -0.08202960875905192
         ],
         "hovertemplate": "<b>14.00 Uhr</b><br><br>Orders: %{base}<br><extra></extra>",
         "legendgroup": "14",
         "marker": {
          "color": "rgb(217,217,217)"
         },
         "name": "Orders: 8.203%",
         "showlegend": true,
         "type": "bar",
         "width": 0.8,
         "x": [
          14
         ],
         "xaxis": "x2",
         "y": [
          0.08202960875905192
         ],
         "yaxis": "y2"
        },
        {
         "base": 0,
         "hovertemplate": "<b>15.00 Uhr</b><br><br>Tipp: %{y}<br><extra></extra>",
         "legendgroup": "15",
         "legendgrouptitle": {
          "text": "15.00 Uhr"
         },
         "marker": {
          "color": "rgb(217,217,217)"
         },
         "name": "Tipp: 39.2%",
         "showlegend": true,
         "type": "bar",
         "width": 0.8,
         "x": [
          15
         ],
         "xaxis": "x",
         "y": [
          0.39199872553119464
         ],
         "yaxis": "y"
        },
        {
         "base": [
          -0.08274140530387286
         ],
         "hovertemplate": "<b>15.00 Uhr</b><br><br>Orders: %{base}<br><extra></extra>",
         "legendgroup": "15",
         "marker": {
          "color": "rgb(217,217,217)"
         },
         "name": "Orders: 8.274%",
         "showlegend": true,
         "type": "bar",
         "width": 0.8,
         "x": [
          15
         ],
         "xaxis": "x2",
         "y": [
          0.08274140530387286
         ],
         "yaxis": "y2"
        },
        {
         "base": 0,
         "hovertemplate": "<b>16.00 Uhr</b><br><br>Tipp: %{y}<br><extra></extra>",
         "legendgroup": "16",
         "legendgrouptitle": {
          "text": "16.00 Uhr"
         },
         "marker": {
          "color": "rgb(217,217,217)"
         },
         "name": "Tipp: 38.62%",
         "showlegend": true,
         "type": "bar",
         "width": 0.8,
         "x": [
          16
         ],
         "xaxis": "x",
         "y": [
          0.3862086123608318
         ],
         "yaxis": "y"
        },
        {
         "base": [
          -0.07947241376469522
         ],
         "hovertemplate": "<b>16.00 Uhr</b><br><br>Orders: %{base}<br><extra></extra>",
         "legendgroup": "16",
         "marker": {
          "color": "rgb(217,217,217)"
         },
         "name": "Orders: 7.947%",
         "showlegend": true,
         "type": "bar",
         "width": 0.8,
         "x": [
          16
         ],
         "xaxis": "x2",
         "y": [
          0.07947241376469522
         ],
         "yaxis": "y2"
        },
        {
         "base": 0,
         "hovertemplate": "<b>17.00 Uhr</b><br><br>Tipp: %{y}<br><extra></extra>",
         "legendgroup": "17",
         "legendgrouptitle": {
          "text": "17.00 Uhr"
         },
         "marker": {
          "color": "rgb(217,217,217)"
         },
         "name": "Tipp: 38.16%",
         "showlegend": true,
         "type": "bar",
         "width": 0.8,
         "x": [
          17
         ],
         "xaxis": "x",
         "y": [
          0.3815641364459453
         ],
         "yaxis": "y"
        },
        {
         "base": [
          -0.0673339759274363
         ],
         "hovertemplate": "<b>17.00 Uhr</b><br><br>Orders: %{base}<br><extra></extra>",
         "legendgroup": "17",
         "marker": {
          "color": "rgb(217,217,217)"
         },
         "name": "Orders: 6.733%",
         "showlegend": true,
         "type": "bar",
         "width": 0.8,
         "x": [
          17
         ],
         "xaxis": "x2",
         "y": [
          0.0673339759274363
         ],
         "yaxis": "y2"
        },
        {
         "base": 0,
         "hovertemplate": "<b>18.00 Uhr</b><br><br>Tipp: %{y}<br><extra></extra>",
         "legendgroup": "18",
         "legendgrouptitle": {
          "text": "18.00 Uhr"
         },
         "marker": {
          "color": "rgb(217,217,217)"
         },
         "name": "Tipp: 37.46%",
         "showlegend": true,
         "type": "bar",
         "width": 0.8,
         "x": [
          18
         ],
         "xaxis": "x",
         "y": [
          0.37458400098607175
         ],
         "yaxis": "y"
        },
        {
         "base": [
          -0.05347042007529885
         ],
         "hovertemplate": "<b>18.00 Uhr</b><br><br>Orders: %{base}<br><extra></extra>",
         "legendgroup": "18",
         "marker": {
          "color": "rgb(217,217,217)"
         },
         "name": "Orders: 5.347%",
         "showlegend": true,
         "type": "bar",
         "width": 0.8,
         "x": [
          18
         ],
         "xaxis": "x2",
         "y": [
          0.05347042007529885
         ],
         "yaxis": "y2"
        },
        {
         "base": 0,
         "hovertemplate": "<b>19.00 Uhr</b><br><br>Tipp: %{y}<br><extra></extra>",
         "legendgroup": "19",
         "legendgrouptitle": {
          "text": "19.00 Uhr"
         },
         "marker": {
          "color": "rgb(131, 75, 160)"
         },
         "name": "Tipp: 51.17%",
         "showlegend": true,
         "text": [
          0.512
         ],
         "type": "bar",
         "width": 0.8,
         "x": [
          19
         ],
         "xaxis": "x",
         "y": [
          0.5116744763506749
         ],
         "yaxis": "y"
        },
        {
         "base": [
          -0.041140851684338
         ],
         "hovertemplate": "<b>19.00 Uhr</b><br><br>Orders: %{base}<br><extra></extra>",
         "legendgroup": "19",
         "marker": {
          "color": "rgb(131, 75, 160)"
         },
         "name": "Orders: 4.114%",
         "showlegend": true,
         "type": "bar",
         "width": 0.8,
         "x": [
          19
         ],
         "xaxis": "x2",
         "y": [
          0.041140851684338
         ],
         "yaxis": "y2"
        },
        {
         "base": 0,
         "hovertemplate": "<b>20.00 Uhr</b><br><br>Tipp: %{y}<br><extra></extra>",
         "legendgroup": "20",
         "legendgrouptitle": {
          "text": "20.00 Uhr"
         },
         "marker": {
          "color": "rgb(131, 75, 160)"
         },
         "name": "Tipp: 52.39%",
         "showlegend": true,
         "text": [
          0.524
         ],
         "type": "bar",
         "width": 0.8,
         "x": [
          20
         ],
         "xaxis": "x",
         "y": [
          0.5239129254655013
         ],
         "yaxis": "y"
        },
        {
         "base": [
          -0.03035186146330211
         ],
         "hovertemplate": "<b>20.00 Uhr</b><br><br>Orders: %{base}<br><extra></extra>",
         "legendgroup": "20",
         "marker": {
          "color": "rgb(131, 75, 160)"
         },
         "name": "Orders: 3.035%",
         "showlegend": true,
         "type": "bar",
         "width": 0.8,
         "x": [
          20
         ],
         "xaxis": "x2",
         "y": [
          0.03035186146330211
         ],
         "yaxis": "y2"
        },
        {
         "base": 0,
         "hovertemplate": "<b>21.00 Uhr</b><br><br>Tipp: %{y}<br><extra></extra>",
         "legendgroup": "21",
         "legendgrouptitle": {
          "text": "21.00 Uhr"
         },
         "marker": {
          "color": "rgb(131, 75, 160)"
         },
         "name": "Tipp: 54.64%",
         "showlegend": true,
         "text": [
          0.546
         ],
         "type": "bar",
         "width": 0.8,
         "x": [
          21
         ],
         "xaxis": "x",
         "y": [
          0.5464422667234767
         ],
         "yaxis": "y"
        },
        {
         "base": [
          -0.023202590148538097
         ],
         "hovertemplate": "<b>21.00 Uhr</b><br><br>Orders: %{base}<br><extra></extra>",
         "legendgroup": "21",
         "marker": {
          "color": "rgb(131, 75, 160)"
         },
         "name": "Orders: 2.32%",
         "showlegend": true,
         "type": "bar",
         "width": 0.8,
         "x": [
          21
         ],
         "xaxis": "x2",
         "y": [
          0.023202590148538097
         ],
         "yaxis": "y2"
        },
        {
         "base": 0,
         "hovertemplate": "<b>22.00 Uhr</b><br><br>Tipp: %{y}<br><extra></extra>",
         "legendgroup": "22",
         "legendgrouptitle": {
          "text": "22.00 Uhr"
         },
         "marker": {
          "color": "rgb(131, 75, 160)"
         },
         "name": "Tipp: 53.63%",
         "showlegend": true,
         "text": [
          0.536
         ],
         "type": "bar",
         "width": 0.8,
         "x": [
          22
         ],
         "xaxis": "x",
         "y": [
          0.5362939996352362
         ],
         "yaxis": "y"
        },
        {
         "base": [
          -0.01806842803357966
         ],
         "hovertemplate": "<b>22.00 Uhr</b><br><br>Orders: %{base}<br><extra></extra>",
         "legendgroup": "22",
         "marker": {
          "color": "rgb(131, 75, 160)"
         },
         "name": "Orders: 1.807%",
         "showlegend": true,
         "type": "bar",
         "width": 0.8,
         "x": [
          22
         ],
         "xaxis": "x2",
         "y": [
          0.01806842803357966
         ],
         "yaxis": "y2"
        },
        {
         "base": 0,
         "hovertemplate": "<b>23.00 Uhr</b><br><br>Tipp: %{y}<br><extra></extra>",
         "legendgroup": "23",
         "legendgrouptitle": {
          "text": "23.00 Uhr"
         },
         "marker": {
          "color": "rgb(131, 75, 160)"
         },
         "name": "Tipp: 51.99%",
         "showlegend": true,
         "text": [
          0.52
         ],
         "type": "bar",
         "width": 0.8,
         "x": [
          23
         ],
         "xaxis": "x",
         "y": [
          0.5198807157057654
         ],
         "yaxis": "y"
        },
        {
         "base": [
          -0.011602942751456135
         ],
         "hovertemplate": "<b>23.00 Uhr</b><br><br>Orders: %{base}<br><extra></extra>",
         "legendgroup": "23",
         "marker": {
          "color": "rgb(131, 75, 160)"
         },
         "name": "Orders: 1.16%",
         "showlegend": true,
         "type": "bar",
         "width": 0.8,
         "x": [
          23
         ],
         "xaxis": "x2",
         "y": [
          0.011602942751456135
         ],
         "yaxis": "y2"
        }
       ],
       "layout": {
        "height": 700,
        "legend": {
         "title": {
          "text": "<b>Tagesstunde</b>"
         }
        },
        "plot_bgcolor": "white",
        "shapes": [
         {
          "line": {
           "color": "grey",
           "dash": "solid"
          },
          "opacity": 0.3,
          "type": "line",
          "x0": 0,
          "x1": 1,
          "xref": "x domain",
          "y0": 0,
          "y1": 0,
          "yref": "y"
         },
         {
          "line": {
           "color": "grey",
           "dash": "solid"
          },
          "opacity": 0.3,
          "type": "line",
          "x0": 0,
          "x1": 1,
          "xref": "x2 domain",
          "y0": 0,
          "y1": 0,
          "yref": "y2"
         },
         {
          "line": {
           "color": "black",
           "dash": "solid"
          },
          "opacity": 0.8,
          "type": "line",
          "x0": -1,
          "x1": -1,
          "xref": "x2",
          "y0": 0,
          "y1": 1,
          "yref": "y2 domain"
         },
         {
          "line": {
           "color": "black",
           "dash": "solid"
          },
          "opacity": 0.8,
          "type": "line",
          "x0": -1,
          "x1": -1,
          "xref": "x",
          "y0": 0,
          "y1": 1,
          "yref": "y domain"
         },
         {
          "line": {
           "color": "black",
           "dash": "solid"
          },
          "opacity": 0.8,
          "type": "line",
          "x0": 0,
          "x1": 1,
          "xref": "x2 domain",
          "y0": -0.1,
          "y1": -0.1,
          "yref": "y2"
         }
        ],
        "template": {
         "data": {
          "bar": [
           {
            "error_x": {
             "color": "#2a3f5f"
            },
            "error_y": {
             "color": "#2a3f5f"
            },
            "marker": {
             "line": {
              "color": "#E5ECF6",
              "width": 0.5
             },
             "pattern": {
              "fillmode": "overlay",
              "size": 10,
              "solidity": 0.2
             }
            },
            "type": "bar"
           }
          ],
          "barpolar": [
           {
            "marker": {
             "line": {
              "color": "#E5ECF6",
              "width": 0.5
             },
             "pattern": {
              "fillmode": "overlay",
              "size": 10,
              "solidity": 0.2
             }
            },
            "type": "barpolar"
           }
          ],
          "carpet": [
           {
            "aaxis": {
             "endlinecolor": "#2a3f5f",
             "gridcolor": "white",
             "linecolor": "white",
             "minorgridcolor": "white",
             "startlinecolor": "#2a3f5f"
            },
            "baxis": {
             "endlinecolor": "#2a3f5f",
             "gridcolor": "white",
             "linecolor": "white",
             "minorgridcolor": "white",
             "startlinecolor": "#2a3f5f"
            },
            "type": "carpet"
           }
          ],
          "choropleth": [
           {
            "colorbar": {
             "outlinewidth": 0,
             "ticks": ""
            },
            "type": "choropleth"
           }
          ],
          "contour": [
           {
            "colorbar": {
             "outlinewidth": 0,
             "ticks": ""
            },
            "colorscale": [
             [
              0,
              "#0d0887"
             ],
             [
              0.1111111111111111,
              "#46039f"
             ],
             [
              0.2222222222222222,
              "#7201a8"
             ],
             [
              0.3333333333333333,
              "#9c179e"
             ],
             [
              0.4444444444444444,
              "#bd3786"
             ],
             [
              0.5555555555555556,
              "#d8576b"
             ],
             [
              0.6666666666666666,
              "#ed7953"
             ],
             [
              0.7777777777777778,
              "#fb9f3a"
             ],
             [
              0.8888888888888888,
              "#fdca26"
             ],
             [
              1,
              "#f0f921"
             ]
            ],
            "type": "contour"
           }
          ],
          "contourcarpet": [
           {
            "colorbar": {
             "outlinewidth": 0,
             "ticks": ""
            },
            "type": "contourcarpet"
           }
          ],
          "heatmap": [
           {
            "colorbar": {
             "outlinewidth": 0,
             "ticks": ""
            },
            "colorscale": [
             [
              0,
              "#0d0887"
             ],
             [
              0.1111111111111111,
              "#46039f"
             ],
             [
              0.2222222222222222,
              "#7201a8"
             ],
             [
              0.3333333333333333,
              "#9c179e"
             ],
             [
              0.4444444444444444,
              "#bd3786"
             ],
             [
              0.5555555555555556,
              "#d8576b"
             ],
             [
              0.6666666666666666,
              "#ed7953"
             ],
             [
              0.7777777777777778,
              "#fb9f3a"
             ],
             [
              0.8888888888888888,
              "#fdca26"
             ],
             [
              1,
              "#f0f921"
             ]
            ],
            "type": "heatmap"
           }
          ],
          "heatmapgl": [
           {
            "colorbar": {
             "outlinewidth": 0,
             "ticks": ""
            },
            "colorscale": [
             [
              0,
              "#0d0887"
             ],
             [
              0.1111111111111111,
              "#46039f"
             ],
             [
              0.2222222222222222,
              "#7201a8"
             ],
             [
              0.3333333333333333,
              "#9c179e"
             ],
             [
              0.4444444444444444,
              "#bd3786"
             ],
             [
              0.5555555555555556,
              "#d8576b"
             ],
             [
              0.6666666666666666,
              "#ed7953"
             ],
             [
              0.7777777777777778,
              "#fb9f3a"
             ],
             [
              0.8888888888888888,
              "#fdca26"
             ],
             [
              1,
              "#f0f921"
             ]
            ],
            "type": "heatmapgl"
           }
          ],
          "histogram": [
           {
            "marker": {
             "pattern": {
              "fillmode": "overlay",
              "size": 10,
              "solidity": 0.2
             }
            },
            "type": "histogram"
           }
          ],
          "histogram2d": [
           {
            "colorbar": {
             "outlinewidth": 0,
             "ticks": ""
            },
            "colorscale": [
             [
              0,
              "#0d0887"
             ],
             [
              0.1111111111111111,
              "#46039f"
             ],
             [
              0.2222222222222222,
              "#7201a8"
             ],
             [
              0.3333333333333333,
              "#9c179e"
             ],
             [
              0.4444444444444444,
              "#bd3786"
             ],
             [
              0.5555555555555556,
              "#d8576b"
             ],
             [
              0.6666666666666666,
              "#ed7953"
             ],
             [
              0.7777777777777778,
              "#fb9f3a"
             ],
             [
              0.8888888888888888,
              "#fdca26"
             ],
             [
              1,
              "#f0f921"
             ]
            ],
            "type": "histogram2d"
           }
          ],
          "histogram2dcontour": [
           {
            "colorbar": {
             "outlinewidth": 0,
             "ticks": ""
            },
            "colorscale": [
             [
              0,
              "#0d0887"
             ],
             [
              0.1111111111111111,
              "#46039f"
             ],
             [
              0.2222222222222222,
              "#7201a8"
             ],
             [
              0.3333333333333333,
              "#9c179e"
             ],
             [
              0.4444444444444444,
              "#bd3786"
             ],
             [
              0.5555555555555556,
              "#d8576b"
             ],
             [
              0.6666666666666666,
              "#ed7953"
             ],
             [
              0.7777777777777778,
              "#fb9f3a"
             ],
             [
              0.8888888888888888,
              "#fdca26"
             ],
             [
              1,
              "#f0f921"
             ]
            ],
            "type": "histogram2dcontour"
           }
          ],
          "mesh3d": [
           {
            "colorbar": {
             "outlinewidth": 0,
             "ticks": ""
            },
            "type": "mesh3d"
           }
          ],
          "parcoords": [
           {
            "line": {
             "colorbar": {
              "outlinewidth": 0,
              "ticks": ""
             }
            },
            "type": "parcoords"
           }
          ],
          "pie": [
           {
            "automargin": true,
            "type": "pie"
           }
          ],
          "scatter": [
           {
            "fillpattern": {
             "fillmode": "overlay",
             "size": 10,
             "solidity": 0.2
            },
            "type": "scatter"
           }
          ],
          "scatter3d": [
           {
            "line": {
             "colorbar": {
              "outlinewidth": 0,
              "ticks": ""
             }
            },
            "marker": {
             "colorbar": {
              "outlinewidth": 0,
              "ticks": ""
             }
            },
            "type": "scatter3d"
           }
          ],
          "scattercarpet": [
           {
            "marker": {
             "colorbar": {
              "outlinewidth": 0,
              "ticks": ""
             }
            },
            "type": "scattercarpet"
           }
          ],
          "scattergeo": [
           {
            "marker": {
             "colorbar": {
              "outlinewidth": 0,
              "ticks": ""
             }
            },
            "type": "scattergeo"
           }
          ],
          "scattergl": [
           {
            "marker": {
             "colorbar": {
              "outlinewidth": 0,
              "ticks": ""
             }
            },
            "type": "scattergl"
           }
          ],
          "scattermapbox": [
           {
            "marker": {
             "colorbar": {
              "outlinewidth": 0,
              "ticks": ""
             }
            },
            "type": "scattermapbox"
           }
          ],
          "scatterpolar": [
           {
            "marker": {
             "colorbar": {
              "outlinewidth": 0,
              "ticks": ""
             }
            },
            "type": "scatterpolar"
           }
          ],
          "scatterpolargl": [
           {
            "marker": {
             "colorbar": {
              "outlinewidth": 0,
              "ticks": ""
             }
            },
            "type": "scatterpolargl"
           }
          ],
          "scatterternary": [
           {
            "marker": {
             "colorbar": {
              "outlinewidth": 0,
              "ticks": ""
             }
            },
            "type": "scatterternary"
           }
          ],
          "surface": [
           {
            "colorbar": {
             "outlinewidth": 0,
             "ticks": ""
            },
            "colorscale": [
             [
              0,
              "#0d0887"
             ],
             [
              0.1111111111111111,
              "#46039f"
             ],
             [
              0.2222222222222222,
              "#7201a8"
             ],
             [
              0.3333333333333333,
              "#9c179e"
             ],
             [
              0.4444444444444444,
              "#bd3786"
             ],
             [
              0.5555555555555556,
              "#d8576b"
             ],
             [
              0.6666666666666666,
              "#ed7953"
             ],
             [
              0.7777777777777778,
              "#fb9f3a"
             ],
             [
              0.8888888888888888,
              "#fdca26"
             ],
             [
              1,
              "#f0f921"
             ]
            ],
            "type": "surface"
           }
          ],
          "table": [
           {
            "cells": {
             "fill": {
              "color": "#EBF0F8"
             },
             "line": {
              "color": "white"
             }
            },
            "header": {
             "fill": {
              "color": "#C8D4E3"
             },
             "line": {
              "color": "white"
             }
            },
            "type": "table"
           }
          ]
         },
         "layout": {
          "annotationdefaults": {
           "arrowcolor": "#2a3f5f",
           "arrowhead": 0,
           "arrowwidth": 1
          },
          "autotypenumbers": "strict",
          "coloraxis": {
           "colorbar": {
            "outlinewidth": 0,
            "ticks": ""
           }
          },
          "colorscale": {
           "diverging": [
            [
             0,
             "#8e0152"
            ],
            [
             0.1,
             "#c51b7d"
            ],
            [
             0.2,
             "#de77ae"
            ],
            [
             0.3,
             "#f1b6da"
            ],
            [
             0.4,
             "#fde0ef"
            ],
            [
             0.5,
             "#f7f7f7"
            ],
            [
             0.6,
             "#e6f5d0"
            ],
            [
             0.7,
             "#b8e186"
            ],
            [
             0.8,
             "#7fbc41"
            ],
            [
             0.9,
             "#4d9221"
            ],
            [
             1,
             "#276419"
            ]
           ],
           "sequential": [
            [
             0,
             "#0d0887"
            ],
            [
             0.1111111111111111,
             "#46039f"
            ],
            [
             0.2222222222222222,
             "#7201a8"
            ],
            [
             0.3333333333333333,
             "#9c179e"
            ],
            [
             0.4444444444444444,
             "#bd3786"
            ],
            [
             0.5555555555555556,
             "#d8576b"
            ],
            [
             0.6666666666666666,
             "#ed7953"
            ],
            [
             0.7777777777777778,
             "#fb9f3a"
            ],
            [
             0.8888888888888888,
             "#fdca26"
            ],
            [
             1,
             "#f0f921"
            ]
           ],
           "sequentialminus": [
            [
             0,
             "#0d0887"
            ],
            [
             0.1111111111111111,
             "#46039f"
            ],
            [
             0.2222222222222222,
             "#7201a8"
            ],
            [
             0.3333333333333333,
             "#9c179e"
            ],
            [
             0.4444444444444444,
             "#bd3786"
            ],
            [
             0.5555555555555556,
             "#d8576b"
            ],
            [
             0.6666666666666666,
             "#ed7953"
            ],
            [
             0.7777777777777778,
             "#fb9f3a"
            ],
            [
             0.8888888888888888,
             "#fdca26"
            ],
            [
             1,
             "#f0f921"
            ]
           ]
          },
          "colorway": [
           "#636efa",
           "#EF553B",
           "#00cc96",
           "#ab63fa",
           "#FFA15A",
           "#19d3f3",
           "#FF6692",
           "#B6E880",
           "#FF97FF",
           "#FECB52"
          ],
          "font": {
           "color": "#2a3f5f"
          },
          "geo": {
           "bgcolor": "white",
           "lakecolor": "white",
           "landcolor": "#E5ECF6",
           "showlakes": true,
           "showland": true,
           "subunitcolor": "white"
          },
          "hoverlabel": {
           "align": "left"
          },
          "hovermode": "closest",
          "mapbox": {
           "style": "light"
          },
          "paper_bgcolor": "white",
          "plot_bgcolor": "#E5ECF6",
          "polar": {
           "angularaxis": {
            "gridcolor": "white",
            "linecolor": "white",
            "ticks": ""
           },
           "bgcolor": "#E5ECF6",
           "radialaxis": {
            "gridcolor": "white",
            "linecolor": "white",
            "ticks": ""
           }
          },
          "scene": {
           "xaxis": {
            "backgroundcolor": "#E5ECF6",
            "gridcolor": "white",
            "gridwidth": 2,
            "linecolor": "white",
            "showbackground": true,
            "ticks": "",
            "zerolinecolor": "white"
           },
           "yaxis": {
            "backgroundcolor": "#E5ECF6",
            "gridcolor": "white",
            "gridwidth": 2,
            "linecolor": "white",
            "showbackground": true,
            "ticks": "",
            "zerolinecolor": "white"
           },
           "zaxis": {
            "backgroundcolor": "#E5ECF6",
            "gridcolor": "white",
            "gridwidth": 2,
            "linecolor": "white",
            "showbackground": true,
            "ticks": "",
            "zerolinecolor": "white"
           }
          },
          "shapedefaults": {
           "line": {
            "color": "#2a3f5f"
           }
          },
          "ternary": {
           "aaxis": {
            "gridcolor": "white",
            "linecolor": "white",
            "ticks": ""
           },
           "baxis": {
            "gridcolor": "white",
            "linecolor": "white",
            "ticks": ""
           },
           "bgcolor": "#E5ECF6",
           "caxis": {
            "gridcolor": "white",
            "linecolor": "white",
            "ticks": ""
           }
          },
          "title": {
           "x": 0.05
          },
          "xaxis": {
           "automargin": true,
           "gridcolor": "white",
           "linecolor": "white",
           "ticks": "",
           "title": {
            "standoff": 15
           },
           "zerolinecolor": "white",
           "zerolinewidth": 2
          },
          "yaxis": {
           "automargin": true,
           "gridcolor": "white",
           "linecolor": "white",
           "ticks": "",
           "title": {
            "standoff": 15
           },
           "zerolinecolor": "white",
           "zerolinewidth": 2
          }
         }
        },
        "title": {
         "font": {
          "size": 20
         },
         "text": "<b>Tippwahrscheinlichkeit nach Tagesstunden</b>",
         "x": 0.475,
         "xanchor": "center",
         "y": 0.935,
         "yanchor": "top"
        },
        "xaxis": {
         "anchor": "y",
         "domain": [
          0,
          1
         ],
         "linecolor": "black",
         "matches": "x2",
         "showline": false,
         "showticklabels": false
        },
        "xaxis2": {
         "anchor": "y2",
         "domain": [
          0,
          1
         ],
         "ticks": "outside",
         "title": {
          "text": "<b>Stunden</b>"
         }
        },
        "yaxis": {
         "anchor": "x",
         "domain": [
          0.5,
          1
         ],
         "gridcolor": "grey",
         "linecolor": "black",
         "showgrid": true,
         "showline": false,
         "ticks": "outside",
         "title": {
          "text": "<b>Tipp Wshk.</b>"
         }
        },
        "yaxis2": {
         "anchor": "x2",
         "domain": [
          0,
          0.5
         ],
         "gridcolor": "grey",
         "showgrid": true,
         "ticks": "outside",
         "tickvals": [
          0,
          -0.025,
          -0.05,
          -0.075,
          -0.1
         ],
         "title": {
          "text": "<b>Order Anteil</b>"
         }
        }
       }
      }
     },
     "metadata": {},
     "output_type": "display_data"
    }
   ],
   "source": [
    "# Plot P3: Order_hour_of_day\n",
    "\n",
    "fig1 = make_subplots(cols= 1, rows= 2, shared_xaxes= True, shared_yaxes= False, vertical_spacing= 0)\n",
    "\n",
    "for order_hour_of_day in df_hour.order_hour_of_day:\n",
    "\n",
    " if df_hour[df_hour.order_hour_of_day == order_hour_of_day].tip_norm.values >= 0.5:\n",
    "  color = px.colors.sequential.Purpor[5]\n",
    "  text= df_hour.loc[df_hour.order_hour_of_day == order_hour_of_day].tip_norm.values.round(3)\n",
    "\n",
    "  fig1.add_trace(\n",
    "   go.Bar(\n",
    "    x= df_hour.loc[df_hour.order_hour_of_day == order_hour_of_day].order_hour_of_day,\n",
    "    y= df_hour.loc[df_hour.order_hour_of_day == order_hour_of_day].tip_norm,\n",
    "    name= f\"Tipp: {(df_hour.loc[df_hour.order_hour_of_day == order_hour_of_day].tip_norm.values[0] * 100).round(2)}%\",\n",
    "    showlegend= True,\n",
    "    marker= dict(color= color),\n",
    "    width= 0.8,\n",
    "    text= text,\n",
    "    base= 0,\n",
    "    legendgroup= f\"{order_hour_of_day}\",\n",
    "    legendgrouptitle_text = f\"{order_hour_of_day}.00 Uhr\",\n",
    "    hovertemplate = f\"<b>{df_hour.loc[df_hour.order_hour_of_day == order_hour_of_day].order_hour_of_day.values[0]}.00 Uhr</b><br><br>\" +\n",
    "                \"Tipp: %{y}<br>\" +\n",
    "                \"<extra></extra>\"\n",
    "   ),\n",
    "   col= 1,\n",
    "   row= 1\n",
    "  )\n",
    "\n",
    "  fig1.add_trace(\n",
    "   go.Bar(\n",
    "    x= df_hour.loc[df_hour.order_hour_of_day == order_hour_of_day].order_hour_of_day,\n",
    "    y= df_hour.loc[df_hour.order_hour_of_day == order_hour_of_day].orders_norm,\n",
    "    name= f\"Orders: {(df_hour.loc[df_hour.order_hour_of_day == order_hour_of_day].orders_norm.values[0] * 100).round(3)}%\",\n",
    "    base = -df_hour.loc[df_hour.order_hour_of_day == order_hour_of_day].orders_norm,\n",
    "    showlegend= True,\n",
    "    marker= dict(color= color),\n",
    "    width= 0.8,\n",
    "    legendgroup= f\"{order_hour_of_day}\",\n",
    "    hovertemplate = f\"<b>{df_hour.loc[df_hour.order_hour_of_day == order_hour_of_day].order_hour_of_day.values[0]}.00 Uhr</b><br><br>\" +\n",
    "                \"Orders: %{base}<br>\" +\n",
    "                \"<extra></extra>\"\n",
    "   ),\n",
    "   col= 1,\n",
    "   row= 2\n",
    "  )\n",
    "\n",
    " elif 0.4 < df_hour.loc[df_hour.order_hour_of_day == order_hour_of_day].tip_norm.values < 0.5:\n",
    "  color= px.colors.sequential.Greys[3]\n",
    "\n",
    "  fig1.add_trace(\n",
    "   go.Bar(\n",
    "    x= df_hour.loc[df_hour.order_hour_of_day == order_hour_of_day].order_hour_of_day,\n",
    "    y= df_hour.loc[df_hour.order_hour_of_day == order_hour_of_day].tip_norm,\n",
    "    name= f\"Tipp: {(df_hour.loc[df_hour.order_hour_of_day == order_hour_of_day].tip_norm.values[0] * 100).round(2)}%\",\n",
    "    showlegend= True,\n",
    "    marker= dict(color= color),\n",
    "    width= 0.8,\n",
    "    base= 0,\n",
    "    legendgroup= f\"{order_hour_of_day}\",\n",
    "    legendgrouptitle_text = f\"{order_hour_of_day}.00 Uhr\",\n",
    "    hovertemplate = f\"<b>{df_hour.loc[df_hour.order_hour_of_day == order_hour_of_day].order_hour_of_day.values[0]}.00 Uhr</b><br><br>\" +\n",
    "                \"Tipp: %{y}<br>\" +\n",
    "                \"<extra></extra>\"\n",
    "   ),\n",
    "   col= 1,\n",
    "   row= 1\n",
    "  )\n",
    "\n",
    "  fig1.add_trace(\n",
    "   go.Bar(\n",
    "    x= df_hour.loc[df_hour.order_hour_of_day == order_hour_of_day].order_hour_of_day,\n",
    "    y= df_hour.loc[df_hour.order_hour_of_day == order_hour_of_day].orders_norm,\n",
    "    name= f\"Orders: {(df_hour.loc[df_hour.order_hour_of_day == order_hour_of_day].orders_norm.values[0] * 100).round(3)}%\",\n",
    "    base = -df_hour.loc[df_hour.order_hour_of_day == order_hour_of_day].orders_norm,\n",
    "    showlegend= True,\n",
    "    marker= dict(color= color),\n",
    "    width= 0.8,\n",
    "    legendgroup= f\"{order_hour_of_day}\",\n",
    "    hovertemplate = f\"<b>{df_hour.loc[df_hour.order_hour_of_day == order_hour_of_day].order_hour_of_day.values[0]}.00 Uhr</b><br><br>\" +\n",
    "                \"Orders: %{base}<br>\" +\n",
    "                \"<extra></extra>\"\n",
    "   ),\n",
    "   col= 1,\n",
    "   row= 2\n",
    "  )\n",
    "\n",
    " elif 0.3 < df_hour.loc[df_hour.order_hour_of_day == order_hour_of_day].tip_norm.values < 0.4:\n",
    "  color= px.colors.sequential.Greys[2]\n",
    "\n",
    "  fig1.add_trace(\n",
    "   go.Bar(\n",
    "    x= df_hour.loc[df_hour.order_hour_of_day == order_hour_of_day].order_hour_of_day,\n",
    "    y= df_hour.loc[df_hour.order_hour_of_day == order_hour_of_day].tip_norm,\n",
    "    name= f\"Tipp: {(df_hour.loc[df_hour.order_hour_of_day == order_hour_of_day].tip_norm.values[0] * 100).round(2)}%\",\n",
    "    showlegend= True,\n",
    "    marker= dict(color= color),\n",
    "    width= 0.8,\n",
    "    base= 0,\n",
    "    legendgroup= f\"{order_hour_of_day}\",\n",
    "    legendgrouptitle_text = f\"{order_hour_of_day}.00 Uhr\",\n",
    "    hovertemplate = f\"<b>{df_hour.loc[df_hour.order_hour_of_day == order_hour_of_day].order_hour_of_day.values[0]}.00 Uhr</b><br><br>\" +\n",
    "                \"Tipp: %{y}<br>\" +\n",
    "                \"<extra></extra>\"\n",
    "   ),\n",
    "   col= 1,\n",
    "   row= 1\n",
    "  )\n",
    "\n",
    "  fig1.add_trace(\n",
    "   go.Bar(\n",
    "    x= df_hour.loc[df_hour.order_hour_of_day == order_hour_of_day].order_hour_of_day,\n",
    "    y= df_hour.loc[df_hour.order_hour_of_day == order_hour_of_day].orders_norm,\n",
    "    name= f\"Orders: {(df_hour.loc[df_hour.order_hour_of_day == order_hour_of_day].orders_norm.values[0] * 100).round(3)}%\",\n",
    "    base = -df_hour.loc[df_hour.order_hour_of_day == order_hour_of_day].orders_norm,\n",
    "    showlegend= True,\n",
    "    marker= dict(color= color),\n",
    "    width= 0.8,\n",
    "    legendgroup= f\"{order_hour_of_day}\",\n",
    "    hovertemplate = f\"<b>{df_hour.loc[df_hour.order_hour_of_day == order_hour_of_day].order_hour_of_day.values[0]}.00 Uhr</b><br><br>\" +\n",
    "                \"Orders: %{base}<br>\" +\n",
    "                \"<extra></extra>\"\n",
    "   ),\n",
    "   col= 1,\n",
    "   row= 2\n",
    "  )\n",
    "\n",
    "fig1.add_hline(\n",
    " y= 0,\n",
    " opacity= 0.3,\n",
    " line_dash= \"solid\",\n",
    " line_color= \"grey\",\n",
    " col= 1,\n",
    " row= 1\n",
    ")\n",
    "\n",
    "fig1.add_hline(\n",
    " y= 0,\n",
    " opacity= 0.3,\n",
    " line_dash= \"solid\",\n",
    " line_color= \"grey\",\n",
    " col= 1,\n",
    " row= 2\n",
    ")\n",
    "\n",
    "fig1.add_vline(\n",
    " x= -1,\n",
    " opacity= 0.8,\n",
    " line_dash= \"solid\",\n",
    " line_color= \"black\",\n",
    " col= 1,\n",
    " row= 2\n",
    ")\n",
    "\n",
    "fig1.add_vline(\n",
    " x= -1,\n",
    " opacity= 0.8,\n",
    " line_dash= \"solid\",\n",
    " line_color= \"black\",\n",
    " col= 1,\n",
    " row= 1\n",
    ")\n",
    "\n",
    "fig1.add_hline(\n",
    " y= -0.1,\n",
    " opacity= 0.8,\n",
    " line_dash= \"solid\",\n",
    " line_color= \"black\",\n",
    " col= 1,\n",
    " row= 2\n",
    ")\n",
    "\n",
    "fig1.update_annotations(opacity= 0.8)\n",
    "fig1.update_layout(title= dict(text= \"<b>Tippwahrscheinlichkeit nach Tagesstunden</b>\", font_size= 20, xanchor= \"center\", yanchor= \"top\", y=0.935, x=0.475), legend_title_text = \"<b>Tagesstunde</b>\", height= 700)\n",
    "fig1.update_xaxes(title_text=\"<b>Stunden</b>\", ticks= \"outside\", col= 1, row= 2)\n",
    "fig1.update_xaxes(showline= False, col= 1, row= 1)\n",
    "fig1.update_yaxes(title_text=\"<b>Tipp Wshk.</b>\", ticks= \"outside\", showgrid= True, gridcolor= \"grey\", col= 1, row= 1, showline= False)\n",
    "fig1.update_yaxes(title_text=\"<b>Order Anteil</b>\", ticks= \"outside\", showgrid= True, gridcolor= \"grey\", col= 1, row= 2, tickvals= [0, -0.025, -0.05, -0.075, -0.1])\n",
    "fig1.update_layout(plot_bgcolor= \"white\", xaxis= dict(linecolor= \"black\"), yaxis= dict(linecolor= \"black\"))\n",
    "fig1.show()"
   ]
  },
  {
   "cell_type": "code",
   "execution_count": 313,
   "metadata": {},
   "outputs": [
    {
     "data": {
      "application/vnd.plotly.v1+json": {
       "config": {
        "plotlyServerURL": "https://plot.ly"
       },
       "data": [
        {
         "fill": "tozeroy",
         "hoverinfo": "y",
         "marker": {
          "color": "rgb(150,150,150)",
          "size": 4
         },
         "mode": "lines+markers",
         "name": "Bestellungen",
         "type": "scatter",
         "x": [
          0,
          1,
          2,
          3,
          4,
          5,
          6,
          7,
          8,
          9,
          10,
          11,
          12,
          13,
          14,
          15,
          16,
          17,
          18,
          19,
          20,
          21,
          22,
          23
         ],
         "xaxis": "x",
         "y": [
          0.006709341505812181,
          0.0036561956781427382,
          0.0022078874306945785,
          0.001575179390853744,
          0.001624609706466309,
          0.002708781295568572,
          0.00899796511867395,
          0.026845604409184154,
          0.052473575377112114,
          0.07534498241104602,
          0.08446652331875139,
          0.0830676453869158,
          0.0798612655808474,
          0.08104594547836189,
          0.08202960875905192,
          0.08274140530387286,
          0.07947241376469522,
          0.0673339759274363,
          0.05347042007529885,
          0.041140851684338,
          0.03035186146330211,
          0.023202590148538097,
          0.01806842803357966,
          0.011602942751456135
         ],
         "yaxis": "y2"
        },
        {
         "base": 0,
         "hovertemplate": "<b>0</b><br><br>Tipp: %{y}<br><extra></extra>",
         "legendgroup": "0",
         "legendgrouptitle": {
          "text": "0"
         },
         "marker": {
          "color": "rgb(131, 75, 160)"
         },
         "name": "Tipp: 51.06%",
         "showlegend": true,
         "text": [
          0.51
         ],
         "type": "bar",
         "width": 0.8,
         "x": [
          0
         ],
         "xaxis": "x",
         "y": [
          0.5105599214145383
         ],
         "yaxis": "y"
        },
        {
         "base": 0,
         "hovertemplate": "<b>1</b><br><br>Tipp: %{y}<br><extra></extra>",
         "legendgroup": "1",
         "legendgrouptitle": {
          "text": "1"
         },
         "marker": {
          "color": "rgb(131, 75, 160)"
         },
         "name": "Tipp: 50.7%",
         "showlegend": true,
         "text": [
          0.51
         ],
         "type": "bar",
         "width": 0.8,
         "x": [
          1
         ],
         "xaxis": "x",
         "y": [
          0.5069851284362326
         ],
         "yaxis": "y"
        },
        {
         "base": 0,
         "hovertemplate": "<b>2</b><br><br>Tipp: %{y}<br><extra></extra>",
         "legendgroup": "2",
         "legendgrouptitle": {
          "text": "2"
         },
         "marker": {
          "color": "rgb(131, 75, 160)"
         },
         "name": "Tipp: 51.79%",
         "showlegend": true,
         "text": [
          0.52
         ],
         "type": "bar",
         "width": 0.8,
         "x": [
          2
         ],
         "xaxis": "x",
         "y": [
          0.517910447761194
         ],
         "yaxis": "y"
        },
        {
         "base": 0,
         "hovertemplate": "<b>3</b><br><br>Tipp: %{y}<br><extra></extra>",
         "legendgroup": "3",
         "legendgrouptitle": {
          "text": "3"
         },
         "marker": {
          "color": "rgb(189,189,189)"
         },
         "name": "Tipp: 49.9%",
         "showlegend": true,
         "type": "bar",
         "width": 0.8,
         "x": [
          3
         ],
         "xaxis": "x",
         "y": [
          0.4989539748953975
         ],
         "yaxis": "y"
        },
        {
         "base": 0,
         "hovertemplate": "<b>4</b><br><br>Tipp: %{y}<br><extra></extra>",
         "legendgroup": "4",
         "legendgrouptitle": {
          "text": "4"
         },
         "marker": {
          "color": "rgb(131, 75, 160)"
         },
         "name": "Tipp: 51.72%",
         "showlegend": true,
         "text": [
          0.52
         ],
         "type": "bar",
         "width": 0.8,
         "x": [
          4
         ],
         "xaxis": "x",
         "y": [
          0.5172413793103449
         ],
         "yaxis": "y"
        },
        {
         "base": 0,
         "hovertemplate": "<b>5</b><br><br>Tipp: %{y}<br><extra></extra>",
         "legendgroup": "5",
         "legendgrouptitle": {
          "text": "5"
         },
         "marker": {
          "color": "rgb(217,217,217)"
         },
         "name": "Tipp: 37.65%",
         "showlegend": true,
         "type": "bar",
         "width": 0.8,
         "x": [
          5
         ],
         "xaxis": "x",
         "y": [
          0.3765206812652068
         ],
         "yaxis": "y"
        },
        {
         "base": 0,
         "hovertemplate": "<b>6</b><br><br>Tipp: %{y}<br><extra></extra>",
         "legendgroup": "6",
         "legendgrouptitle": {
          "text": "6"
         },
         "marker": {
          "color": "rgb(217,217,217)"
         },
         "name": "Tipp: 39.3%",
         "showlegend": true,
         "type": "bar",
         "width": 0.8,
         "x": [
          6
         ],
         "xaxis": "x",
         "y": [
          0.3929683208203626
         ],
         "yaxis": "y"
        },
        {
         "base": 0,
         "hovertemplate": "<b>7</b><br><br>Tipp: %{y}<br><extra></extra>",
         "legendgroup": "7",
         "legendgrouptitle": {
          "text": "7"
         },
         "marker": {
          "color": "rgb(189,189,189)"
         },
         "name": "Tipp: 40.76%",
         "showlegend": true,
         "type": "bar",
         "width": 0.8,
         "x": [
          7
         ],
         "xaxis": "x",
         "y": [
          0.40759835512183146
         ],
         "yaxis": "y"
        },
        {
         "base": 0,
         "hovertemplate": "<b>8</b><br><br>Tipp: %{y}<br><extra></extra>",
         "legendgroup": "8",
         "legendgrouptitle": {
          "text": "8"
         },
         "marker": {
          "color": "rgb(189,189,189)"
         },
         "name": "Tipp: 42.11%",
         "showlegend": true,
         "type": "bar",
         "width": 0.8,
         "x": [
          8
         ],
         "xaxis": "x",
         "y": [
          0.42110716865010833
         ],
         "yaxis": "y"
        },
        {
         "base": 0,
         "hovertemplate": "<b>9</b><br><br>Tipp: %{y}<br><extra></extra>",
         "legendgroup": "9",
         "legendgrouptitle": {
          "text": "9"
         },
         "marker": {
          "color": "rgb(189,189,189)"
         },
         "name": "Tipp: 42.65%",
         "showlegend": true,
         "type": "bar",
         "width": 0.8,
         "x": [
          9
         ],
         "xaxis": "x",
         "y": [
          0.4264783065080476
         ],
         "yaxis": "y"
        },
        {
         "base": 0,
         "hovertemplate": "<b>10</b><br><br>Tipp: %{y}<br><extra></extra>",
         "legendgroup": "10",
         "legendgrouptitle": {
          "text": "10"
         },
         "marker": {
          "color": "rgb(189,189,189)"
         },
         "name": "Tipp: 42.19%",
         "showlegend": true,
         "type": "bar",
         "width": 0.8,
         "x": [
          10
         ],
         "xaxis": "x",
         "y": [
          0.42193352059925093
         ],
         "yaxis": "y"
        },
        {
         "base": 0,
         "hovertemplate": "<b>11</b><br><br>Tipp: %{y}<br><extra></extra>",
         "legendgroup": "11",
         "legendgrouptitle": {
          "text": "11"
         },
         "marker": {
          "color": "rgb(189,189,189)"
         },
         "name": "Tipp: 40.59%",
         "showlegend": true,
         "type": "bar",
         "width": 0.8,
         "x": [
          11
         ],
         "xaxis": "x",
         "y": [
          0.4059307745710602
         ],
         "yaxis": "y"
        },
        {
         "base": 0,
         "hovertemplate": "<b>12</b><br><br>Tipp: %{y}<br><extra></extra>",
         "legendgroup": "12",
         "legendgrouptitle": {
          "text": "12"
         },
         "marker": {
          "color": "rgb(189,189,189)"
         },
         "name": "Tipp: 40.04%",
         "showlegend": true,
         "type": "bar",
         "width": 0.8,
         "x": [
          12
         ],
         "xaxis": "x",
         "y": [
          0.40044151932162825
         ],
         "yaxis": "y"
        },
        {
         "base": 0,
         "hovertemplate": "<b>13</b><br><br>Tipp: %{y}<br><extra></extra>",
         "legendgroup": "13",
         "legendgrouptitle": {
          "text": "13"
         },
         "marker": {
          "color": "rgb(217,217,217)"
         },
         "name": "Tipp: 39.4%",
         "showlegend": true,
         "type": "bar",
         "width": 0.8,
         "x": [
          13
         ],
         "xaxis": "x",
         "y": [
          0.39401886639017647
         ],
         "yaxis": "y"
        },
        {
         "base": 0,
         "hovertemplate": "<b>14</b><br><br>Tipp: %{y}<br><extra></extra>",
         "legendgroup": "14",
         "legendgrouptitle": {
          "text": "14"
         },
         "marker": {
          "color": "rgb(217,217,217)"
         },
         "name": "Tipp: 39.29%",
         "showlegend": true,
         "type": "bar",
         "width": 0.8,
         "x": [
          14
         ],
         "xaxis": "x",
         "y": [
          0.3929295972682535
         ],
         "yaxis": "y"
        },
        {
         "base": 0,
         "hovertemplate": "<b>15</b><br><br>Tipp: %{y}<br><extra></extra>",
         "legendgroup": "15",
         "legendgrouptitle": {
          "text": "15"
         },
         "marker": {
          "color": "rgb(217,217,217)"
         },
         "name": "Tipp: 39.2%",
         "showlegend": true,
         "type": "bar",
         "width": 0.8,
         "x": [
          15
         ],
         "xaxis": "x",
         "y": [
          0.39199872553119464
         ],
         "yaxis": "y"
        },
        {
         "base": 0,
         "hovertemplate": "<b>16</b><br><br>Tipp: %{y}<br><extra></extra>",
         "legendgroup": "16",
         "legendgrouptitle": {
          "text": "16"
         },
         "marker": {
          "color": "rgb(217,217,217)"
         },
         "name": "Tipp: 38.62%",
         "showlegend": true,
         "type": "bar",
         "width": 0.8,
         "x": [
          16
         ],
         "xaxis": "x",
         "y": [
          0.3862086123608318
         ],
         "yaxis": "y"
        },
        {
         "base": 0,
         "hovertemplate": "<b>17</b><br><br>Tipp: %{y}<br><extra></extra>",
         "legendgroup": "17",
         "legendgrouptitle": {
          "text": "17"
         },
         "marker": {
          "color": "rgb(217,217,217)"
         },
         "name": "Tipp: 38.16%",
         "showlegend": true,
         "type": "bar",
         "width": 0.8,
         "x": [
          17
         ],
         "xaxis": "x",
         "y": [
          0.3815641364459453
         ],
         "yaxis": "y"
        },
        {
         "base": 0,
         "hovertemplate": "<b>18</b><br><br>Tipp: %{y}<br><extra></extra>",
         "legendgroup": "18",
         "legendgrouptitle": {
          "text": "18"
         },
         "marker": {
          "color": "rgb(217,217,217)"
         },
         "name": "Tipp: 37.46%",
         "showlegend": true,
         "type": "bar",
         "width": 0.8,
         "x": [
          18
         ],
         "xaxis": "x",
         "y": [
          0.37458400098607175
         ],
         "yaxis": "y"
        },
        {
         "base": 0,
         "hovertemplate": "<b>19</b><br><br>Tipp: %{y}<br><extra></extra>",
         "legendgroup": "19",
         "legendgrouptitle": {
          "text": "19"
         },
         "marker": {
          "color": "rgb(131, 75, 160)"
         },
         "name": "Tipp: 51.17%",
         "showlegend": true,
         "text": [
          0.51
         ],
         "type": "bar",
         "width": 0.8,
         "x": [
          19
         ],
         "xaxis": "x",
         "y": [
          0.5116744763506749
         ],
         "yaxis": "y"
        },
        {
         "base": 0,
         "hovertemplate": "<b>20</b><br><br>Tipp: %{y}<br><extra></extra>",
         "legendgroup": "20",
         "legendgrouptitle": {
          "text": "20"
         },
         "marker": {
          "color": "rgb(131, 75, 160)"
         },
         "name": "Tipp: 52.39%",
         "showlegend": true,
         "text": [
          0.52
         ],
         "type": "bar",
         "width": 0.8,
         "x": [
          20
         ],
         "xaxis": "x",
         "y": [
          0.5239129254655013
         ],
         "yaxis": "y"
        },
        {
         "base": 0,
         "hovertemplate": "<b>21</b><br><br>Tipp: %{y}<br><extra></extra>",
         "legendgroup": "21",
         "legendgrouptitle": {
          "text": "21"
         },
         "marker": {
          "color": "rgb(131, 75, 160)"
         },
         "name": "Tipp: 54.64%",
         "showlegend": true,
         "text": [
          0.55
         ],
         "type": "bar",
         "width": 0.8,
         "x": [
          21
         ],
         "xaxis": "x",
         "y": [
          0.5464422667234767
         ],
         "yaxis": "y"
        },
        {
         "base": 0,
         "hovertemplate": "<b>22</b><br><br>Tipp: %{y}<br><extra></extra>",
         "legendgroup": "22",
         "legendgrouptitle": {
          "text": "22"
         },
         "marker": {
          "color": "rgb(131, 75, 160)"
         },
         "name": "Tipp: 53.63%",
         "showlegend": true,
         "text": [
          0.54
         ],
         "type": "bar",
         "width": 0.8,
         "x": [
          22
         ],
         "xaxis": "x",
         "y": [
          0.5362939996352362
         ],
         "yaxis": "y"
        },
        {
         "base": 0,
         "hovertemplate": "<b>23</b><br><br>Tipp: %{y}<br><extra></extra>",
         "legendgroup": "23",
         "legendgrouptitle": {
          "text": "23"
         },
         "marker": {
          "color": "rgb(131, 75, 160)"
         },
         "name": "Tipp: 51.99%",
         "showlegend": true,
         "text": [
          0.52
         ],
         "type": "bar",
         "width": 0.8,
         "x": [
          23
         ],
         "xaxis": "x",
         "y": [
          0.5198807157057654
         ],
         "yaxis": "y"
        }
       ],
       "layout": {
        "height": 570,
        "legend": {
         "title": {
          "text": "<b>Tage</b>"
         }
        },
        "plot_bgcolor": "white",
        "template": {
         "data": {
          "bar": [
           {
            "error_x": {
             "color": "#2a3f5f"
            },
            "error_y": {
             "color": "#2a3f5f"
            },
            "marker": {
             "line": {
              "color": "#E5ECF6",
              "width": 0.5
             },
             "pattern": {
              "fillmode": "overlay",
              "size": 10,
              "solidity": 0.2
             }
            },
            "type": "bar"
           }
          ],
          "barpolar": [
           {
            "marker": {
             "line": {
              "color": "#E5ECF6",
              "width": 0.5
             },
             "pattern": {
              "fillmode": "overlay",
              "size": 10,
              "solidity": 0.2
             }
            },
            "type": "barpolar"
           }
          ],
          "carpet": [
           {
            "aaxis": {
             "endlinecolor": "#2a3f5f",
             "gridcolor": "white",
             "linecolor": "white",
             "minorgridcolor": "white",
             "startlinecolor": "#2a3f5f"
            },
            "baxis": {
             "endlinecolor": "#2a3f5f",
             "gridcolor": "white",
             "linecolor": "white",
             "minorgridcolor": "white",
             "startlinecolor": "#2a3f5f"
            },
            "type": "carpet"
           }
          ],
          "choropleth": [
           {
            "colorbar": {
             "outlinewidth": 0,
             "ticks": ""
            },
            "type": "choropleth"
           }
          ],
          "contour": [
           {
            "colorbar": {
             "outlinewidth": 0,
             "ticks": ""
            },
            "colorscale": [
             [
              0,
              "#0d0887"
             ],
             [
              0.1111111111111111,
              "#46039f"
             ],
             [
              0.2222222222222222,
              "#7201a8"
             ],
             [
              0.3333333333333333,
              "#9c179e"
             ],
             [
              0.4444444444444444,
              "#bd3786"
             ],
             [
              0.5555555555555556,
              "#d8576b"
             ],
             [
              0.6666666666666666,
              "#ed7953"
             ],
             [
              0.7777777777777778,
              "#fb9f3a"
             ],
             [
              0.8888888888888888,
              "#fdca26"
             ],
             [
              1,
              "#f0f921"
             ]
            ],
            "type": "contour"
           }
          ],
          "contourcarpet": [
           {
            "colorbar": {
             "outlinewidth": 0,
             "ticks": ""
            },
            "type": "contourcarpet"
           }
          ],
          "heatmap": [
           {
            "colorbar": {
             "outlinewidth": 0,
             "ticks": ""
            },
            "colorscale": [
             [
              0,
              "#0d0887"
             ],
             [
              0.1111111111111111,
              "#46039f"
             ],
             [
              0.2222222222222222,
              "#7201a8"
             ],
             [
              0.3333333333333333,
              "#9c179e"
             ],
             [
              0.4444444444444444,
              "#bd3786"
             ],
             [
              0.5555555555555556,
              "#d8576b"
             ],
             [
              0.6666666666666666,
              "#ed7953"
             ],
             [
              0.7777777777777778,
              "#fb9f3a"
             ],
             [
              0.8888888888888888,
              "#fdca26"
             ],
             [
              1,
              "#f0f921"
             ]
            ],
            "type": "heatmap"
           }
          ],
          "heatmapgl": [
           {
            "colorbar": {
             "outlinewidth": 0,
             "ticks": ""
            },
            "colorscale": [
             [
              0,
              "#0d0887"
             ],
             [
              0.1111111111111111,
              "#46039f"
             ],
             [
              0.2222222222222222,
              "#7201a8"
             ],
             [
              0.3333333333333333,
              "#9c179e"
             ],
             [
              0.4444444444444444,
              "#bd3786"
             ],
             [
              0.5555555555555556,
              "#d8576b"
             ],
             [
              0.6666666666666666,
              "#ed7953"
             ],
             [
              0.7777777777777778,
              "#fb9f3a"
             ],
             [
              0.8888888888888888,
              "#fdca26"
             ],
             [
              1,
              "#f0f921"
             ]
            ],
            "type": "heatmapgl"
           }
          ],
          "histogram": [
           {
            "marker": {
             "pattern": {
              "fillmode": "overlay",
              "size": 10,
              "solidity": 0.2
             }
            },
            "type": "histogram"
           }
          ],
          "histogram2d": [
           {
            "colorbar": {
             "outlinewidth": 0,
             "ticks": ""
            },
            "colorscale": [
             [
              0,
              "#0d0887"
             ],
             [
              0.1111111111111111,
              "#46039f"
             ],
             [
              0.2222222222222222,
              "#7201a8"
             ],
             [
              0.3333333333333333,
              "#9c179e"
             ],
             [
              0.4444444444444444,
              "#bd3786"
             ],
             [
              0.5555555555555556,
              "#d8576b"
             ],
             [
              0.6666666666666666,
              "#ed7953"
             ],
             [
              0.7777777777777778,
              "#fb9f3a"
             ],
             [
              0.8888888888888888,
              "#fdca26"
             ],
             [
              1,
              "#f0f921"
             ]
            ],
            "type": "histogram2d"
           }
          ],
          "histogram2dcontour": [
           {
            "colorbar": {
             "outlinewidth": 0,
             "ticks": ""
            },
            "colorscale": [
             [
              0,
              "#0d0887"
             ],
             [
              0.1111111111111111,
              "#46039f"
             ],
             [
              0.2222222222222222,
              "#7201a8"
             ],
             [
              0.3333333333333333,
              "#9c179e"
             ],
             [
              0.4444444444444444,
              "#bd3786"
             ],
             [
              0.5555555555555556,
              "#d8576b"
             ],
             [
              0.6666666666666666,
              "#ed7953"
             ],
             [
              0.7777777777777778,
              "#fb9f3a"
             ],
             [
              0.8888888888888888,
              "#fdca26"
             ],
             [
              1,
              "#f0f921"
             ]
            ],
            "type": "histogram2dcontour"
           }
          ],
          "mesh3d": [
           {
            "colorbar": {
             "outlinewidth": 0,
             "ticks": ""
            },
            "type": "mesh3d"
           }
          ],
          "parcoords": [
           {
            "line": {
             "colorbar": {
              "outlinewidth": 0,
              "ticks": ""
             }
            },
            "type": "parcoords"
           }
          ],
          "pie": [
           {
            "automargin": true,
            "type": "pie"
           }
          ],
          "scatter": [
           {
            "fillpattern": {
             "fillmode": "overlay",
             "size": 10,
             "solidity": 0.2
            },
            "type": "scatter"
           }
          ],
          "scatter3d": [
           {
            "line": {
             "colorbar": {
              "outlinewidth": 0,
              "ticks": ""
             }
            },
            "marker": {
             "colorbar": {
              "outlinewidth": 0,
              "ticks": ""
             }
            },
            "type": "scatter3d"
           }
          ],
          "scattercarpet": [
           {
            "marker": {
             "colorbar": {
              "outlinewidth": 0,
              "ticks": ""
             }
            },
            "type": "scattercarpet"
           }
          ],
          "scattergeo": [
           {
            "marker": {
             "colorbar": {
              "outlinewidth": 0,
              "ticks": ""
             }
            },
            "type": "scattergeo"
           }
          ],
          "scattergl": [
           {
            "marker": {
             "colorbar": {
              "outlinewidth": 0,
              "ticks": ""
             }
            },
            "type": "scattergl"
           }
          ],
          "scattermapbox": [
           {
            "marker": {
             "colorbar": {
              "outlinewidth": 0,
              "ticks": ""
             }
            },
            "type": "scattermapbox"
           }
          ],
          "scatterpolar": [
           {
            "marker": {
             "colorbar": {
              "outlinewidth": 0,
              "ticks": ""
             }
            },
            "type": "scatterpolar"
           }
          ],
          "scatterpolargl": [
           {
            "marker": {
             "colorbar": {
              "outlinewidth": 0,
              "ticks": ""
             }
            },
            "type": "scatterpolargl"
           }
          ],
          "scatterternary": [
           {
            "marker": {
             "colorbar": {
              "outlinewidth": 0,
              "ticks": ""
             }
            },
            "type": "scatterternary"
           }
          ],
          "surface": [
           {
            "colorbar": {
             "outlinewidth": 0,
             "ticks": ""
            },
            "colorscale": [
             [
              0,
              "#0d0887"
             ],
             [
              0.1111111111111111,
              "#46039f"
             ],
             [
              0.2222222222222222,
              "#7201a8"
             ],
             [
              0.3333333333333333,
              "#9c179e"
             ],
             [
              0.4444444444444444,
              "#bd3786"
             ],
             [
              0.5555555555555556,
              "#d8576b"
             ],
             [
              0.6666666666666666,
              "#ed7953"
             ],
             [
              0.7777777777777778,
              "#fb9f3a"
             ],
             [
              0.8888888888888888,
              "#fdca26"
             ],
             [
              1,
              "#f0f921"
             ]
            ],
            "type": "surface"
           }
          ],
          "table": [
           {
            "cells": {
             "fill": {
              "color": "#EBF0F8"
             },
             "line": {
              "color": "white"
             }
            },
            "header": {
             "fill": {
              "color": "#C8D4E3"
             },
             "line": {
              "color": "white"
             }
            },
            "type": "table"
           }
          ]
         },
         "layout": {
          "annotationdefaults": {
           "arrowcolor": "#2a3f5f",
           "arrowhead": 0,
           "arrowwidth": 1
          },
          "autotypenumbers": "strict",
          "coloraxis": {
           "colorbar": {
            "outlinewidth": 0,
            "ticks": ""
           }
          },
          "colorscale": {
           "diverging": [
            [
             0,
             "#8e0152"
            ],
            [
             0.1,
             "#c51b7d"
            ],
            [
             0.2,
             "#de77ae"
            ],
            [
             0.3,
             "#f1b6da"
            ],
            [
             0.4,
             "#fde0ef"
            ],
            [
             0.5,
             "#f7f7f7"
            ],
            [
             0.6,
             "#e6f5d0"
            ],
            [
             0.7,
             "#b8e186"
            ],
            [
             0.8,
             "#7fbc41"
            ],
            [
             0.9,
             "#4d9221"
            ],
            [
             1,
             "#276419"
            ]
           ],
           "sequential": [
            [
             0,
             "#0d0887"
            ],
            [
             0.1111111111111111,
             "#46039f"
            ],
            [
             0.2222222222222222,
             "#7201a8"
            ],
            [
             0.3333333333333333,
             "#9c179e"
            ],
            [
             0.4444444444444444,
             "#bd3786"
            ],
            [
             0.5555555555555556,
             "#d8576b"
            ],
            [
             0.6666666666666666,
             "#ed7953"
            ],
            [
             0.7777777777777778,
             "#fb9f3a"
            ],
            [
             0.8888888888888888,
             "#fdca26"
            ],
            [
             1,
             "#f0f921"
            ]
           ],
           "sequentialminus": [
            [
             0,
             "#0d0887"
            ],
            [
             0.1111111111111111,
             "#46039f"
            ],
            [
             0.2222222222222222,
             "#7201a8"
            ],
            [
             0.3333333333333333,
             "#9c179e"
            ],
            [
             0.4444444444444444,
             "#bd3786"
            ],
            [
             0.5555555555555556,
             "#d8576b"
            ],
            [
             0.6666666666666666,
             "#ed7953"
            ],
            [
             0.7777777777777778,
             "#fb9f3a"
            ],
            [
             0.8888888888888888,
             "#fdca26"
            ],
            [
             1,
             "#f0f921"
            ]
           ]
          },
          "colorway": [
           "#636efa",
           "#EF553B",
           "#00cc96",
           "#ab63fa",
           "#FFA15A",
           "#19d3f3",
           "#FF6692",
           "#B6E880",
           "#FF97FF",
           "#FECB52"
          ],
          "font": {
           "color": "#2a3f5f"
          },
          "geo": {
           "bgcolor": "white",
           "lakecolor": "white",
           "landcolor": "#E5ECF6",
           "showlakes": true,
           "showland": true,
           "subunitcolor": "white"
          },
          "hoverlabel": {
           "align": "left"
          },
          "hovermode": "closest",
          "mapbox": {
           "style": "light"
          },
          "paper_bgcolor": "white",
          "plot_bgcolor": "#E5ECF6",
          "polar": {
           "angularaxis": {
            "gridcolor": "white",
            "linecolor": "white",
            "ticks": ""
           },
           "bgcolor": "#E5ECF6",
           "radialaxis": {
            "gridcolor": "white",
            "linecolor": "white",
            "ticks": ""
           }
          },
          "scene": {
           "xaxis": {
            "backgroundcolor": "#E5ECF6",
            "gridcolor": "white",
            "gridwidth": 2,
            "linecolor": "white",
            "showbackground": true,
            "ticks": "",
            "zerolinecolor": "white"
           },
           "yaxis": {
            "backgroundcolor": "#E5ECF6",
            "gridcolor": "white",
            "gridwidth": 2,
            "linecolor": "white",
            "showbackground": true,
            "ticks": "",
            "zerolinecolor": "white"
           },
           "zaxis": {
            "backgroundcolor": "#E5ECF6",
            "gridcolor": "white",
            "gridwidth": 2,
            "linecolor": "white",
            "showbackground": true,
            "ticks": "",
            "zerolinecolor": "white"
           }
          },
          "shapedefaults": {
           "line": {
            "color": "#2a3f5f"
           }
          },
          "ternary": {
           "aaxis": {
            "gridcolor": "white",
            "linecolor": "white",
            "ticks": ""
           },
           "baxis": {
            "gridcolor": "white",
            "linecolor": "white",
            "ticks": ""
           },
           "bgcolor": "#E5ECF6",
           "caxis": {
            "gridcolor": "white",
            "linecolor": "white",
            "ticks": ""
           }
          },
          "title": {
           "x": 0.05
          },
          "xaxis": {
           "automargin": true,
           "gridcolor": "white",
           "linecolor": "white",
           "ticks": "",
           "title": {
            "standoff": 15
           },
           "zerolinecolor": "white",
           "zerolinewidth": 2
          },
          "yaxis": {
           "automargin": true,
           "gridcolor": "white",
           "linecolor": "white",
           "ticks": "",
           "title": {
            "standoff": 15
           },
           "zerolinecolor": "white",
           "zerolinewidth": 2
          }
         }
        },
        "title": {
         "font": {
          "size": 20
         },
         "text": "<b>Tippwahrscheinlichkeit von Bestellungen mit Tagen seit der letzten Bestellungen</b>",
         "x": 0.475,
         "xanchor": "center",
         "y": 0.935,
         "yanchor": "top"
        },
        "xaxis": {
         "anchor": "y",
         "domain": [
          0,
          0.94
         ],
         "linecolor": "black",
         "ticks": "outside",
         "title": {
          "text": "<b>Tage</b>"
         }
        },
        "yaxis": {
         "anchor": "x",
         "domain": [
          0,
          1
         ],
         "gridcolor": "rgb(240,240,240)",
         "linecolor": "black",
         "showgrid": true,
         "ticks": "outside",
         "title": {
          "text": "<b>Tipp Wshk.</b>"
         }
        },
        "yaxis2": {
         "anchor": "x",
         "gridcolor": "rgb(240,240,240)",
         "linecolor": "black",
         "overlaying": "y",
         "showgrid": false,
         "showline": true,
         "side": "right",
         "ticks": "outside",
         "title": {
          "text": "<b>Orders</b>"
         }
        }
       }
      }
     },
     "metadata": {},
     "output_type": "display_data"
    }
   ],
   "source": [
    "fig = make_subplots(specs=[[{\"secondary_y\": True}]])\n",
    "\n",
    "fig.add_trace(\n",
    "  go.Scatter(\n",
    "    x= df_hour.order_hour_of_day,\n",
    "    y= df_hour.orders_norm,\n",
    "    mode= \"lines+markers\", \n",
    "    marker= dict(color= px.colors.sequential.Greys[4], size= 4),\n",
    "    name= \"Bestellungen\",\n",
    "    fill= \"tozeroy\",\n",
    "    hoverinfo = \"y\",\n",
    "  ),\n",
    "  secondary_y= True\n",
    ")\n",
    "\n",
    "\n",
    "for hour in df_hour.order_hour_of_day:\n",
    "\n",
    " if df_hour[df_hour.order_hour_of_day == hour].tip_norm.values >= 0.5:\n",
    "  color = px.colors.sequential.Purpor[5]\n",
    "  text= df_hour.loc[df_hour.order_hour_of_day == hour].tip_norm.values.round(2)\n",
    "\n",
    "  fig.add_trace(\n",
    "   go.Bar(\n",
    "    x= df_hour.loc[df_hour.order_hour_of_day == hour].order_hour_of_day,\n",
    "    y= df_hour.loc[df_hour.order_hour_of_day == hour].tip_norm,\n",
    "    name= f\"Tipp: {(df_hour.loc[df_hour.order_hour_of_day == hour].tip_norm.values[0] * 100).round(2)}%\",\n",
    "    showlegend= True,\n",
    "    marker= dict(color= color),\n",
    "    width= 0.8,\n",
    "    text= text,\n",
    "    base= 0,\n",
    "    legendgroup= f\"{hour}\",\n",
    "    legendgrouptitle_text= f\"{int(hour)}\",\n",
    "    hovertemplate = f\"<b>{df_hour.loc[df_hour.order_hour_of_day == hour].order_hour_of_day.values[0]}</b><br><br>\" +\n",
    "                \"Tipp: %{y}<br>\" +\n",
    "                \"<extra></extra>\"\n",
    "   ),\n",
    "   secondary_y= False\n",
    "  )\n",
    "\n",
    " elif 0.4 < df_hour.loc[df_hour.order_hour_of_day == hour].tip_norm.values < 0.5:\n",
    "  color= px.colors.sequential.Greys[3]\n",
    "\n",
    "  fig.add_trace(\n",
    "   go.Bar(\n",
    "    x= df_hour.loc[df_hour.order_hour_of_day == hour].order_hour_of_day,\n",
    "    y= df_hour.loc[df_hour.order_hour_of_day == hour].tip_norm,\n",
    "    name= f\"Tipp: {(df_hour.loc[df_hour.order_hour_of_day == hour].tip_norm.values[0] * 100).round(2)}%\",\n",
    "    showlegend= True,\n",
    "    marker= dict(color= color),\n",
    "    width= 0.8,\n",
    "    base= 0,\n",
    "    legendgroup= f\"{hour}\",\n",
    "    legendgrouptitle_text= f\"{int(hour)}\",\n",
    "    hovertemplate = f\"<b>{df_hour.loc[df_hour.order_hour_of_day == hour].order_hour_of_day.values[0]}</b><br><br>\" +\n",
    "                \"Tipp: %{y}<br>\" +\n",
    "                \"<extra></extra>\"\n",
    "   ),\n",
    "   secondary_y= False\n",
    "  )\n",
    "\n",
    " elif 0.3 < df_hour.loc[df_hour.order_hour_of_day == hour].tip_norm.values < 0.4:\n",
    "  color= px.colors.sequential.Greys[2]\n",
    "\n",
    "  fig.add_trace(\n",
    "   go.Bar(\n",
    "    x= df_hour.loc[df_hour.order_hour_of_day == hour].order_hour_of_day,\n",
    "    y= df_hour.loc[df_hour.order_hour_of_day == hour].tip_norm,\n",
    "    name= f\"Tipp: {(df_hour.loc[df_hour.order_hour_of_day == hour].tip_norm.values[0] * 100).round(2)}%\",\n",
    "    showlegend= True,\n",
    "    marker= dict(color= color),\n",
    "    width= 0.8,\n",
    "    base= 0,\n",
    "    legendgroup= f\"{hour}\",\n",
    "    legendgrouptitle_text= f\"{int(hour)}\",\n",
    "    hovertemplate = f\"<b>{df_hour.loc[df_hour.order_hour_of_day == hour].order_hour_of_day.values[0]}</b><br><br>\" +\n",
    "                \"Tipp: %{y}<br>\" +\n",
    "                \"<extra></extra>\"\n",
    "   ),\n",
    "   secondary_y= False\n",
    "  )\n",
    "\n",
    " elif 0.2 < df_hour.loc[df_hour.order_hour_of_day == hour].tip_norm.values < 0.3:\n",
    "  color= px.colors.sequential.Greys[1]\n",
    "  text= df_hour.loc[df_hour.order_hour_of_day == hour].tip_norm.values.round(2)\n",
    "\n",
    "  fig.add_trace(\n",
    "   go.Bar(\n",
    "    x= df_hour.loc[df_hour.order_hour_of_day == hour].order_hour_of_day,\n",
    "    y= df_hour.loc[df_hour.order_hour_of_day == hour].tip_norm,\n",
    "    name= f\"Tipp: {(df_hour.loc[df_hour.order_hour_of_day == hour].tip_norm.values[0] * 100).round(2)}%\",\n",
    "    showlegend= True,\n",
    "    marker= dict(color= color),\n",
    "    width= 0.8,\n",
    "    text= text,\n",
    "    base= 0,\n",
    "    legendgroup= f\"{hour}\",\n",
    "    legendgrouptitle_text= f\"{int(hour)}\",\n",
    "    hovertemplate = f\"<b>{df_hour.loc[df_hour.order_hour_of_day == hour].order_hour_of_day.values[0]}</b><br><br>\" +\n",
    "                \"Tipp: %{y}<br>\" +\n",
    "                \"<extra></extra>\"\n",
    "   ),\n",
    "   secondary_y= False\n",
    "  )\n",
    "\n",
    "\n",
    "fig.update_layout(title= dict(text= \"<b>Tippwahrscheinlichkeit von Bestellungen mit Tagen seit der letzten Bestellungen</b>\", font_size= 20, xanchor= \"center\", yanchor= \"top\", y=0.935, x=0.475), legend_title_text = \"<b>Tage</b>\", height= 570)\n",
    "fig.update_xaxes(title_text=\"<b>Tage</b>\", ticks= \"outside\")\n",
    "fig.update_yaxes(title_text=\"<b>Tipp Wshk.</b>\", ticks= \"outside\", showgrid= True, gridcolor= px.colors.sequential.Greys[1])\n",
    "fig.update_yaxes(title_text=\"<b>Orders</b>\", ticks= \"outside\", showgrid= False, secondary_y= True, showline= True, linecolor= \"black\")\n",
    "fig.update_layout(plot_bgcolor= \"white\", xaxis= dict(linecolor= \"black\"), yaxis= dict(linecolor= \"black\"))\n",
    "fig.show()"
   ]
  },
  {
   "attachments": {},
   "cell_type": "markdown",
   "metadata": {},
   "source": [
    "- Im Zeitraum von 5 bis 18 Uhr liegt die Trinkgeldwahrscheinlichtkeit ausnahmslos unterhalb von 50%\n",
    " \n",
    "- Außerhalb der \"normalen\" Arbeitszeit, von 19 bis 4 Uhr, liegt die Trinkgeldwahrscheinlichkeit außer aum 4 Uhr immer über 50%\n",
    " \n",
    "- Bestellungen die um 21 zugestellt wurden haben mit 54.6% die höchste Wahrscheinlichkeit Trinkgeld zu erhalten "
   ]
  },
  {
   "attachments": {},
   "cell_type": "markdown",
   "metadata": {},
   "source": [
    "#### Attribut: days_since_prior_order"
   ]
  },
  {
   "attachments": {},
   "cell_type": "markdown",
   "metadata": {},
   "source": [
    "- Gruppieren der Bestelldaten nach days_since_prior_order und berechnen der Tippwahrscheinlichkeit"
   ]
  },
  {
   "cell_type": "code",
   "execution_count": 218,
   "metadata": {},
   "outputs": [
    {
     "data": {
      "text/html": [
       "<div>\n",
       "<style scoped>\n",
       "    .dataframe tbody tr th:only-of-type {\n",
       "        vertical-align: middle;\n",
       "    }\n",
       "\n",
       "    .dataframe tbody tr th {\n",
       "        vertical-align: top;\n",
       "    }\n",
       "\n",
       "    .dataframe thead th {\n",
       "        text-align: right;\n",
       "    }\n",
       "</style>\n",
       "<table border=\"1\" class=\"dataframe\">\n",
       "  <thead>\n",
       "    <tr style=\"text-align: right;\">\n",
       "      <th></th>\n",
       "      <th>days_since_prior_order</th>\n",
       "      <th>tip</th>\n",
       "      <th>orders</th>\n",
       "      <th>tip_norm</th>\n",
       "      <th>orders_norm</th>\n",
       "    </tr>\n",
       "  </thead>\n",
       "  <tbody>\n",
       "    <tr>\n",
       "      <th>0</th>\n",
       "      <td>0.0</td>\n",
       "      <td>5159.0</td>\n",
       "      <td>12005</td>\n",
       "      <td>0.429738</td>\n",
       "      <td>0.021078</td>\n",
       "    </tr>\n",
       "    <tr>\n",
       "      <th>1</th>\n",
       "      <td>1.0</td>\n",
       "      <td>10188.0</td>\n",
       "      <td>26178</td>\n",
       "      <td>0.389182</td>\n",
       "      <td>0.045963</td>\n",
       "    </tr>\n",
       "    <tr>\n",
       "      <th>2</th>\n",
       "      <td>2.0</td>\n",
       "      <td>14490.0</td>\n",
       "      <td>34983</td>\n",
       "      <td>0.414201</td>\n",
       "      <td>0.061422</td>\n",
       "    </tr>\n",
       "    <tr>\n",
       "      <th>3</th>\n",
       "      <td>3.0</td>\n",
       "      <td>17048.0</td>\n",
       "      <td>38541</td>\n",
       "      <td>0.442334</td>\n",
       "      <td>0.067669</td>\n",
       "    </tr>\n",
       "    <tr>\n",
       "      <th>4</th>\n",
       "      <td>4.0</td>\n",
       "      <td>18052.0</td>\n",
       "      <td>39479</td>\n",
       "      <td>0.457256</td>\n",
       "      <td>0.069316</td>\n",
       "    </tr>\n",
       "  </tbody>\n",
       "</table>\n",
       "</div>"
      ],
      "text/plain": [
       "   days_since_prior_order      tip  orders  tip_norm  orders_norm\n",
       "0                     0.0   5159.0   12005  0.429738     0.021078\n",
       "1                     1.0  10188.0   26178  0.389182     0.045963\n",
       "2                     2.0  14490.0   34983  0.414201     0.061422\n",
       "3                     3.0  17048.0   38541  0.442334     0.067669\n",
       "4                     4.0  18052.0   39479  0.457256     0.069316"
      ]
     },
     "execution_count": 218,
     "metadata": {},
     "output_type": "execute_result"
    }
   ],
   "source": [
    "df_days = df_p3.groupby([\"days_since_prior_order\", \"order_id\"], as_index=False).agg(tip_mean= (\"tip\", \"mean\"))\n",
    "df_days_since_prior_order= df_days.groupby(\"days_since_prior_order\", as_index= False).agg(tip= (\"tip_mean\", \"sum\"), orders= (\"order_id\", \"nunique\"))\n",
    "df_days_since_prior_order[\"tip_norm\"] = df_days_since_prior_order.tip / df_days_since_prior_order.orders\n",
    "df_days_since_prior_order[\"orders_norm\"] = df_days_since_prior_order.orders / df_days_since_prior_order.orders.sum()\n",
    "df_days_since_prior_order.head()"
   ]
  },
  {
   "attachments": {},
   "cell_type": "markdown",
   "metadata": {},
   "source": [
    "**Plotten der Trinkgeldwahrscheinlichkeit anhand wie viele Tage die vorherige Bestellungen zurückliegt**"
   ]
  },
  {
   "cell_type": "code",
   "execution_count": 223,
   "metadata": {},
   "outputs": [
    {
     "data": {
      "application/vnd.plotly.v1+json": {
       "config": {
        "plotlyServerURL": "https://plot.ly"
       },
       "data": [
        {
         "base": 0,
         "hovertemplate": "<b>0.0</b><br><br>Tipp: %{y}<br><extra></extra>",
         "legendgroup": "0.0",
         "marker": {
          "color": "rgb(189,189,189)"
         },
         "name": "0: 42.97%",
         "showlegend": true,
         "type": "bar",
         "width": 0.8,
         "x": [
          0
         ],
         "xaxis": "x",
         "y": [
          0.42973760932944605
         ],
         "yaxis": "y"
        },
        {
         "base": [
          -0.021078118086623077
         ],
         "hovertemplate": "<b>0.0</b><br><br>Tipp: %{y}<br><extra></extra>",
         "legendgroup": "0.0",
         "marker": {
          "color": "rgb(189,189,189)"
         },
         "name": "Orders: 2.108%",
         "showlegend": true,
         "type": "bar",
         "width": 0.8,
         "x": [
          0
         ],
         "xaxis": "x2",
         "y": [
          0.021078118086623077
         ],
         "yaxis": "y2"
        },
        {
         "base": 0,
         "hovertemplate": "<b>1.0</b><br><br>Tipp: %{y}<br><extra></extra>",
         "legendgroup": "1.0",
         "marker": {
          "color": "rgb(217,217,217)"
         },
         "name": "1: 38.92%",
         "showlegend": true,
         "type": "bar",
         "width": 0.8,
         "x": [
          1
         ],
         "xaxis": "x",
         "y": [
          0.38918175567270225
         ],
         "yaxis": "y"
        },
        {
         "base": [
          -0.045962763454528856
         ],
         "hovertemplate": "<b>1.0</b><br><br>Tipp: %{y}<br><extra></extra>",
         "legendgroup": "1.0",
         "marker": {
          "color": "rgb(217,217,217)"
         },
         "name": "Orders: 4.596%",
         "showlegend": true,
         "type": "bar",
         "width": 0.8,
         "x": [
          1
         ],
         "xaxis": "x2",
         "y": [
          0.045962763454528856
         ],
         "yaxis": "y2"
        },
        {
         "base": 0,
         "hovertemplate": "<b>2.0</b><br><br>Tipp: %{y}<br><extra></extra>",
         "legendgroup": "2.0",
         "marker": {
          "color": "rgb(189,189,189)"
         },
         "name": "2: 41.42%",
         "showlegend": true,
         "type": "bar",
         "width": 0.8,
         "x": [
          2
         ],
         "xaxis": "x",
         "y": [
          0.41420118343195267
         ],
         "yaxis": "y"
        },
        {
         "base": [
          -0.061422391089074144
         ],
         "hovertemplate": "<b>2.0</b><br><br>Tipp: %{y}<br><extra></extra>",
         "legendgroup": "2.0",
         "marker": {
          "color": "rgb(189,189,189)"
         },
         "name": "Orders: 6.142%",
         "showlegend": true,
         "type": "bar",
         "width": 0.8,
         "x": [
          2
         ],
         "xaxis": "x2",
         "y": [
          0.061422391089074144
         ],
         "yaxis": "y2"
        },
        {
         "base": 0,
         "hovertemplate": "<b>3.0</b><br><br>Tipp: %{y}<br><extra></extra>",
         "legendgroup": "3.0",
         "marker": {
          "color": "rgb(189,189,189)"
         },
         "name": "3: 44.23%",
         "showlegend": true,
         "type": "bar",
         "width": 0.8,
         "x": [
          3
         ],
         "xaxis": "x",
         "y": [
          0.44233413767157054
         ],
         "yaxis": "y"
        },
        {
         "base": [
          -0.06766945016047814
         ],
         "hovertemplate": "<b>3.0</b><br><br>Tipp: %{y}<br><extra></extra>",
         "legendgroup": "3.0",
         "marker": {
          "color": "rgb(189,189,189)"
         },
         "name": "Orders: 6.767%",
         "showlegend": true,
         "type": "bar",
         "width": 0.8,
         "x": [
          3
         ],
         "xaxis": "x2",
         "y": [
          0.06766945016047814
         ],
         "yaxis": "y2"
        },
        {
         "base": 0,
         "hovertemplate": "<b>4.0</b><br><br>Tipp: %{y}<br><extra></extra>",
         "legendgroup": "4.0",
         "marker": {
          "color": "rgb(189,189,189)"
         },
         "name": "4: 45.73%",
         "showlegend": true,
         "type": "bar",
         "width": 0.8,
         "x": [
          4
         ],
         "xaxis": "x",
         "y": [
          0.4572557562248284
         ],
         "yaxis": "y"
        },
        {
         "base": [
          -0.06931637017424344
         ],
         "hovertemplate": "<b>4.0</b><br><br>Tipp: %{y}<br><extra></extra>",
         "legendgroup": "4.0",
         "marker": {
          "color": "rgb(189,189,189)"
         },
         "name": "Orders: 6.932%",
         "showlegend": true,
         "type": "bar",
         "width": 0.8,
         "x": [
          4
         ],
         "xaxis": "x2",
         "y": [
          0.06931637017424344
         ],
         "yaxis": "y2"
        },
        {
         "base": 0,
         "hovertemplate": "<b>5.0</b><br><br>Tipp: %{y}<br><extra></extra>",
         "legendgroup": "5.0",
         "marker": {
          "color": "rgb(189,189,189)"
         },
         "name": "5: 46.82%",
         "showlegend": true,
         "type": "bar",
         "width": 0.8,
         "x": [
          5
         ],
         "xaxis": "x",
         "y": [
          0.4682124745124693
         ],
         "yaxis": "y"
        },
        {
         "base": [
          -0.06716554179805741
         ],
         "hovertemplate": "<b>5.0</b><br><br>Tipp: %{y}<br><extra></extra>",
         "legendgroup": "5.0",
         "marker": {
          "color": "rgb(189,189,189)"
         },
         "name": "Orders: 6.717%",
         "showlegend": true,
         "type": "bar",
         "width": 0.8,
         "x": [
          5
         ],
         "xaxis": "x2",
         "y": [
          0.06716554179805741
         ],
         "yaxis": "y2"
        },
        {
         "base": 0,
         "hovertemplate": "<b>6.0</b><br><br>Tipp: %{y}<br><extra></extra>",
         "legendgroup": "6.0",
         "marker": {
          "color": "rgb(189,189,189)"
         },
         "name": "6: 49.41%",
         "showlegend": true,
         "type": "bar",
         "width": 0.8,
         "x": [
          6
         ],
         "xaxis": "x",
         "y": [
          0.4941204084027696
         ],
         "yaxis": "y"
        },
        {
         "base": [
          -0.07480493303461692
         ],
         "hovertemplate": "<b>6.0</b><br><br>Tipp: %{y}<br><extra></extra>",
         "legendgroup": "6.0",
         "marker": {
          "color": "rgb(189,189,189)"
         },
         "name": "Orders: 7.48%",
         "showlegend": true,
         "type": "bar",
         "width": 0.8,
         "x": [
          6
         ],
         "xaxis": "x2",
         "y": [
          0.07480493303461692
         ],
         "yaxis": "y2"
        },
        {
         "base": 0,
         "hovertemplate": "<b>7.0</b><br><br>Tipp: %{y}<br><extra></extra>",
         "legendgroup": "7.0",
         "marker": {
          "color": "rgb(131, 75, 160)"
         },
         "name": "7: 54.86%",
         "showlegend": true,
         "text": [
          0.55
         ],
         "type": "bar",
         "width": 0.8,
         "x": [
          7
         ],
         "xaxis": "x",
         "y": [
          0.5486086773673512
         ],
         "yaxis": "y"
        },
        {
         "base": [
          -0.10019875409974226
         ],
         "hovertemplate": "<b>7.0</b><br><br>Tipp: %{y}<br><extra></extra>",
         "legendgroup": "7.0",
         "marker": {
          "color": "rgb(131, 75, 160)"
         },
         "name": "Orders: 10.02%",
         "showlegend": true,
         "type": "bar",
         "width": 0.8,
         "x": [
          7
         ],
         "xaxis": "x2",
         "y": [
          0.10019875409974226
         ],
         "yaxis": "y2"
        },
        {
         "base": 0,
         "hovertemplate": "<b>8.0</b><br><br>Tipp: %{y}<br><extra></extra>",
         "legendgroup": "8.0",
         "marker": {
          "color": "rgb(189,189,189)"
         },
         "name": "8: 48.98%",
         "showlegend": true,
         "type": "bar",
         "width": 0.8,
         "x": [
          8
         ],
         "xaxis": "x",
         "y": [
          0.4898185173792679
         ],
         "yaxis": "y"
        },
        {
         "base": [
          -0.057080351436577775
         ],
         "hovertemplate": "<b>8.0</b><br><br>Tipp: %{y}<br><extra></extra>",
         "legendgroup": "8.0",
         "marker": {
          "color": "rgb(189,189,189)"
         },
         "name": "Orders: 5.708%",
         "showlegend": true,
         "type": "bar",
         "width": 0.8,
         "x": [
          8
         ],
         "xaxis": "x2",
         "y": [
          0.057080351436577775
         ],
         "yaxis": "y2"
        },
        {
         "base": 0,
         "hovertemplate": "<b>9.0</b><br><br>Tipp: %{y}<br><extra></extra>",
         "legendgroup": "9.0",
         "marker": {
          "color": "rgb(189,189,189)"
         },
         "name": "9: 44.78%",
         "showlegend": true,
         "type": "bar",
         "width": 0.8,
         "x": [
          9
         ],
         "xaxis": "x",
         "y": [
          0.4478062114142985
         ],
         "yaxis": "y"
        },
        {
         "base": [
          -0.03725585903207456
         ],
         "hovertemplate": "<b>9.0</b><br><br>Tipp: %{y}<br><extra></extra>",
         "legendgroup": "9.0",
         "marker": {
          "color": "rgb(189,189,189)"
         },
         "name": "Orders: 3.726%",
         "showlegend": true,
         "type": "bar",
         "width": 0.8,
         "x": [
          9
         ],
         "xaxis": "x2",
         "y": [
          0.03725585903207456
         ],
         "yaxis": "y2"
        },
        {
         "base": 0,
         "hovertemplate": "<b>10.0</b><br><br>Tipp: %{y}<br><extra></extra>",
         "legendgroup": "10.0",
         "marker": {
          "color": "rgb(189,189,189)"
         },
         "name": "10: 44.09%",
         "showlegend": true,
         "type": "bar",
         "width": 0.8,
         "x": [
          10
         ],
         "xaxis": "x",
         "y": [
          0.4409472068028818
         ],
         "yaxis": "y"
        },
        {
         "base": [
          -0.029732349161089144
         ],
         "hovertemplate": "<b>10.0</b><br><br>Tipp: %{y}<br><extra></extra>",
         "legendgroup": "10.0",
         "marker": {
          "color": "rgb(189,189,189)"
         },
         "name": "Orders: 2.973%",
         "showlegend": true,
         "type": "bar",
         "width": 0.8,
         "x": [
          10
         ],
         "xaxis": "x2",
         "y": [
          0.029732349161089144
         ],
         "yaxis": "y2"
        },
        {
         "base": 0,
         "hovertemplate": "<b>11.0</b><br><br>Tipp: %{y}<br><extra></extra>",
         "legendgroup": "11.0",
         "marker": {
          "color": "rgb(189,189,189)"
         },
         "name": "11: 42.77%",
         "showlegend": true,
         "type": "bar",
         "width": 0.8,
         "x": [
          11
         ],
         "xaxis": "x",
         "y": [
          0.42770875268966474
         ],
         "yaxis": "y"
        },
        {
         "base": [
          -0.025295497482213967
         ],
         "hovertemplate": "<b>11.0</b><br><br>Tipp: %{y}<br><extra></extra>",
         "legendgroup": "11.0",
         "marker": {
          "color": "rgb(189,189,189)"
         },
         "name": "Orders: 2.53%",
         "showlegend": true,
         "type": "bar",
         "width": 0.8,
         "x": [
          11
         ],
         "xaxis": "x2",
         "y": [
          0.025295497482213967
         ],
         "yaxis": "y2"
        },
        {
         "base": 0,
         "hovertemplate": "<b>12.0</b><br><br>Tipp: %{y}<br><extra></extra>",
         "legendgroup": "12.0",
         "marker": {
          "color": "rgb(189,189,189)"
         },
         "name": "12: 42.21%",
         "showlegend": true,
         "type": "bar",
         "width": 0.8,
         "x": [
          12
         ],
         "xaxis": "x",
         "y": [
          0.42211757780884407
         ],
         "yaxis": "y"
        },
        {
         "base": [
          -0.02386278241693413
         ],
         "hovertemplate": "<b>12.0</b><br><br>Tipp: %{y}<br><extra></extra>",
         "legendgroup": "12.0",
         "marker": {
          "color": "rgb(189,189,189)"
         },
         "name": "Orders: 2.386%",
         "showlegend": true,
         "type": "bar",
         "width": 0.8,
         "x": [
          12
         ],
         "xaxis": "x2",
         "y": [
          0.02386278241693413
         ],
         "yaxis": "y2"
        },
        {
         "base": 0,
         "hovertemplate": "<b>13.0</b><br><br>Tipp: %{y}<br><extra></extra>",
         "legendgroup": "13.0",
         "marker": {
          "color": "rgb(189,189,189)"
         },
         "name": "13: 41.45%",
         "showlegend": true,
         "type": "bar",
         "width": 0.8,
         "x": [
          13
         ],
         "xaxis": "x",
         "y": [
          0.4145091693635383
         ],
         "yaxis": "y"
        },
        {
         "base": [
          -0.02604170324538055
         ],
         "hovertemplate": "<b>13.0</b><br><br>Tipp: %{y}<br><extra></extra>",
         "legendgroup": "13.0",
         "marker": {
          "color": "rgb(189,189,189)"
         },
         "name": "Orders: 2.604%",
         "showlegend": true,
         "type": "bar",
         "width": 0.8,
         "x": [
          13
         ],
         "xaxis": "x2",
         "y": [
          0.02604170324538055
         ],
         "yaxis": "y2"
        },
        {
         "base": 0,
         "hovertemplate": "<b>14.0</b><br><br>Tipp: %{y}<br><extra></extra>",
         "legendgroup": "14.0",
         "marker": {
          "color": "rgb(189,189,189)"
         },
         "name": "14: 45.25%",
         "showlegend": true,
         "type": "bar",
         "width": 0.8,
         "x": [
          14
         ],
         "xaxis": "x",
         "y": [
          0.4525236681418408
         ],
         "yaxis": "y"
        },
        {
         "base": [
          -0.031342397831262685
         ],
         "hovertemplate": "<b>14.0</b><br><br>Tipp: %{y}<br><extra></extra>",
         "legendgroup": "14.0",
         "marker": {
          "color": "rgb(189,189,189)"
         },
         "name": "Orders: 3.134%",
         "showlegend": true,
         "type": "bar",
         "width": 0.8,
         "x": [
          14
         ],
         "xaxis": "x2",
         "y": [
          0.031342397831262685
         ],
         "yaxis": "y2"
        },
        {
         "base": 0,
         "hovertemplate": "<b>15.0</b><br><br>Tipp: %{y}<br><extra></extra>",
         "legendgroup": "15.0",
         "marker": {
          "color": "rgb(217,217,217)"
         },
         "name": "15: 39.66%",
         "showlegend": true,
         "type": "bar",
         "width": 0.8,
         "x": [
          15
         ],
         "xaxis": "x",
         "y": [
          0.39657827202737383
         ],
         "yaxis": "y"
        },
        {
         "base": [
          -0.02052504793274667
         ],
         "hovertemplate": "<b>15.0</b><br><br>Tipp: %{y}<br><extra></extra>",
         "legendgroup": "15.0",
         "marker": {
          "color": "rgb(217,217,217)"
         },
         "name": "Orders: 2.053%",
         "showlegend": true,
         "type": "bar",
         "width": 0.8,
         "x": [
          15
         ],
         "xaxis": "x2",
         "y": [
          0.02052504793274667
         ],
         "yaxis": "y2"
        },
        {
         "base": 0,
         "hovertemplate": "<b>16.0</b><br><br>Tipp: %{y}<br><extra></extra>",
         "legendgroup": "16.0",
         "marker": {
          "color": "rgb(217,217,217)"
         },
         "name": "16: 36.51%",
         "showlegend": true,
         "type": "bar",
         "width": 0.8,
         "x": [
          16
         ],
         "xaxis": "x",
         "y": [
          0.3650869254584425
         ],
         "yaxis": "y"
        },
        {
         "base": [
          -0.014745025880171644
         ],
         "hovertemplate": "<b>16.0</b><br><br>Tipp: %{y}<br><extra></extra>",
         "legendgroup": "16.0",
         "marker": {
          "color": "rgb(217,217,217)"
         },
         "name": "Orders: 1.475%",
         "showlegend": true,
         "type": "bar",
         "width": 0.8,
         "x": [
          16
         ],
         "xaxis": "x2",
         "y": [
          0.014745025880171644
         ],
         "yaxis": "y2"
        },
        {
         "base": 0,
         "hovertemplate": "<b>17.0</b><br><br>Tipp: %{y}<br><extra></extra>",
         "legendgroup": "17.0",
         "marker": {
          "color": "rgb(217,217,217)"
         },
         "name": "17: 36.77%",
         "showlegend": true,
         "type": "bar",
         "width": 0.8,
         "x": [
          17
         ],
         "xaxis": "x",
         "y": [
          0.36768249468462083
         ],
         "yaxis": "y"
        },
        {
         "base": [
          -0.012387015668565248
         ],
         "hovertemplate": "<b>17.0</b><br><br>Tipp: %{y}<br><extra></extra>",
         "legendgroup": "17.0",
         "marker": {
          "color": "rgb(217,217,217)"
         },
         "name": "Orders: 1.239%",
         "showlegend": true,
         "type": "bar",
         "width": 0.8,
         "x": [
          17
         ],
         "xaxis": "x2",
         "y": [
          0.012387015668565248
         ],
         "yaxis": "y2"
        },
        {
         "base": 0,
         "hovertemplate": "<b>18.0</b><br><br>Tipp: %{y}<br><extra></extra>",
         "legendgroup": "18.0",
         "marker": {
          "color": "rgb(217,217,217)"
         },
         "name": "18: 36.91%",
         "showlegend": true,
         "type": "bar",
         "width": 0.8,
         "x": [
          18
         ],
         "xaxis": "x",
         "y": [
          0.36908517350157727
         ],
         "yaxis": "y"
        },
        {
         "base": [
          -0.011131634208179118
         ],
         "hovertemplate": "<b>18.0</b><br><br>Tipp: %{y}<br><extra></extra>",
         "legendgroup": "18.0",
         "marker": {
          "color": "rgb(217,217,217)"
         },
         "name": "Orders: 1.113%",
         "showlegend": true,
         "type": "bar",
         "width": 0.8,
         "x": [
          18
         ],
         "xaxis": "x2",
         "y": [
          0.011131634208179118
         ],
         "yaxis": "y2"
        },
        {
         "base": 0,
         "hovertemplate": "<b>19.0</b><br><br>Tipp: %{y}<br><extra></extra>",
         "legendgroup": "19.0",
         "marker": {
          "color": "rgb(217,217,217)"
         },
         "name": "19: 36.19%",
         "showlegend": true,
         "type": "bar",
         "width": 0.8,
         "x": [
          19
         ],
         "xaxis": "x",
         "y": [
          0.3619111037123356
         ],
         "yaxis": "y"
        },
        {
         "base": [
          -0.010546960045509772
         ],
         "hovertemplate": "<b>19.0</b><br><br>Tipp: %{y}<br><extra></extra>",
         "legendgroup": "19.0",
         "marker": {
          "color": "rgb(217,217,217)"
         },
         "name": "Orders: 1.055%",
         "showlegend": true,
         "type": "bar",
         "width": 0.8,
         "x": [
          19
         ],
         "xaxis": "x2",
         "y": [
          0.010546960045509772
         ],
         "yaxis": "y2"
        },
        {
         "base": 0,
         "hovertemplate": "<b>20.0</b><br><br>Tipp: %{y}<br><extra></extra>",
         "legendgroup": "20.0",
         "marker": {
          "color": "rgb(217,217,217)"
         },
         "name": "20: 35.63%",
         "showlegend": true,
         "type": "bar",
         "width": 0.8,
         "x": [
          20
         ],
         "xaxis": "x",
         "y": [
          0.35632855890090614
         ],
         "yaxis": "y"
        },
        {
         "base": [
          -0.01201303489784882
         ],
         "hovertemplate": "<b>20.0</b><br><br>Tipp: %{y}<br><extra></extra>",
         "legendgroup": "20.0",
         "marker": {
          "color": "rgb(217,217,217)"
         },
         "name": "Orders: 1.201%",
         "showlegend": true,
         "type": "bar",
         "width": 0.8,
         "x": [
          20
         ],
         "xaxis": "x2",
         "y": [
          0.01201303489784882
         ],
         "yaxis": "y2"
        },
        {
         "base": 0,
         "hovertemplate": "<b>21.0</b><br><br>Tipp: %{y}<br><extra></extra>",
         "legendgroup": "21.0",
         "marker": {
          "color": "rgb(217,217,217)"
         },
         "name": "21: 38.01%",
         "showlegend": true,
         "type": "bar",
         "width": 0.8,
         "x": [
          21
         ],
         "xaxis": "x",
         "y": [
          0.380125786163522
         ],
         "yaxis": "y"
        },
        {
         "base": [
          -0.013958437216880755
         ],
         "hovertemplate": "<b>21.0</b><br><br>Tipp: %{y}<br><extra></extra>",
         "legendgroup": "21.0",
         "marker": {
          "color": "rgb(217,217,217)"
         },
         "name": "Orders: 1.396%",
         "showlegend": true,
         "type": "bar",
         "width": 0.8,
         "x": [
          21
         ],
         "xaxis": "x2",
         "y": [
          0.013958437216880755
         ],
         "yaxis": "y2"
        },
        {
         "base": 0,
         "hovertemplate": "<b>22.0</b><br><br>Tipp: %{y}<br><extra></extra>",
         "legendgroup": "22.0",
         "marker": {
          "color": "rgb(217,217,217)"
         },
         "name": "22: 36.06%",
         "showlegend": true,
         "type": "bar",
         "width": 0.8,
         "x": [
          22
         ],
         "xaxis": "x",
         "y": [
          0.3606178977272727
         ],
         "yaxis": "y"
        },
        {
         "base": [
          -0.009888543195656907
         ],
         "hovertemplate": "<b>22.0</b><br><br>Tipp: %{y}<br><extra></extra>",
         "legendgroup": "22.0",
         "marker": {
          "color": "rgb(217,217,217)"
         },
         "name": "Orders: 0.989%",
         "showlegend": true,
         "type": "bar",
         "width": 0.8,
         "x": [
          22
         ],
         "xaxis": "x2",
         "y": [
          0.009888543195656907
         ],
         "yaxis": "y2"
        },
        {
         "base": 0,
         "hovertemplate": "<b>23.0</b><br><br>Tipp: %{y}<br><extra></extra>",
         "legendgroup": "23.0",
         "marker": {
          "color": "rgb(217,217,217)"
         },
         "name": "23: 31.87%",
         "showlegend": true,
         "type": "bar",
         "width": 0.8,
         "x": [
          23
         ],
         "xaxis": "x",
         "y": [
          0.31870452945318
         ],
         "yaxis": "y"
        },
        {
         "base": [
          -0.0074813711925948295
         ],
         "hovertemplate": "<b>23.0</b><br><br>Tipp: %{y}<br><extra></extra>",
         "legendgroup": "23.0",
         "marker": {
          "color": "rgb(217,217,217)"
         },
         "name": "Orders: 0.748%",
         "showlegend": true,
         "type": "bar",
         "width": 0.8,
         "x": [
          23
         ],
         "xaxis": "x2",
         "y": [
          0.0074813711925948295
         ],
         "yaxis": "y2"
        },
        {
         "base": 0,
         "hovertemplate": "<b>24.0</b><br><br>Tipp: %{y}<br><extra></extra>",
         "legendgroup": "24.0",
         "marker": {
          "color": "rgb(217,217,217)"
         },
         "name": "24: 31.62%",
         "showlegend": true,
         "type": "bar",
         "width": 0.8,
         "x": [
          24
         ],
         "xaxis": "x",
         "y": [
          0.3161867486720716
         ],
         "yaxis": "y"
        },
        {
         "base": [
          -0.006280418858463203
         ],
         "hovertemplate": "<b>24.0</b><br><br>Tipp: %{y}<br><extra></extra>",
         "legendgroup": "24.0",
         "marker": {
          "color": "rgb(217,217,217)"
         },
         "name": "Orders: 0.628%",
         "showlegend": true,
         "type": "bar",
         "width": 0.8,
         "x": [
          24
         ],
         "xaxis": "x2",
         "y": [
          0.006280418858463203
         ],
         "yaxis": "y2"
        },
        {
         "base": 0,
         "hovertemplate": "<b>25.0</b><br><br>Tipp: %{y}<br><extra></extra>",
         "legendgroup": "25.0",
         "marker": {
          "color": "rgb(217,217,217)"
         },
         "name": "25: 30.44%",
         "showlegend": true,
         "type": "bar",
         "width": 0.8,
         "x": [
          25
         ],
         "xaxis": "x",
         "y": [
          0.30440060698027316
         ],
         "yaxis": "y"
        },
        {
         "base": [
          -0.005785289387373847
         ],
         "hovertemplate": "<b>25.0</b><br><br>Tipp: %{y}<br><extra></extra>",
         "legendgroup": "25.0",
         "marker": {
          "color": "rgb(217,217,217)"
         },
         "name": "Orders: 0.579%",
         "showlegend": true,
         "type": "bar",
         "width": 0.8,
         "x": [
          25
         ],
         "xaxis": "x2",
         "y": [
          0.005785289387373847
         ],
         "yaxis": "y2"
        },
        {
         "base": 0,
         "hovertemplate": "<b>26.0</b><br><br>Tipp: %{y}<br><extra></extra>",
         "legendgroup": "26.0",
         "marker": {
          "color": "rgb(217,217,217)"
         },
         "name": "26: 30.35%",
         "showlegend": true,
         "type": "bar",
         "width": 0.8,
         "x": [
          26
         ],
         "xaxis": "x",
         "y": [
          0.30354483169496577
         ],
         "yaxis": "y"
        },
        {
         "base": [
          -0.005894147639882855
         ],
         "hovertemplate": "<b>26.0</b><br><br>Tipp: %{y}<br><extra></extra>",
         "legendgroup": "26.0",
         "marker": {
          "color": "rgb(217,217,217)"
         },
         "name": "Orders: 0.589%",
         "showlegend": true,
         "type": "bar",
         "width": 0.8,
         "x": [
          26
         ],
         "xaxis": "x2",
         "y": [
          0.005894147639882855
         ],
         "yaxis": "y2"
        },
        {
         "base": 0,
         "hovertemplate": "<b>27.0</b><br><br>Tipp: %{y}<br><extra></extra>",
         "legendgroup": "27.0",
         "marker": {
          "color": "rgb(217,217,217)"
         },
         "name": "27: 30.92%",
         "showlegend": true,
         "type": "bar",
         "width": 0.8,
         "x": [
          27
         ],
         "xaxis": "x",
         "y": [
          0.30915637860082307
         ],
         "yaxis": "y"
        },
        {
         "base": [
          -0.006826465899274513
         ],
         "hovertemplate": "<b>27.0</b><br><br>Tipp: %{y}<br><extra></extra>",
         "legendgroup": "27.0",
         "marker": {
          "color": "rgb(217,217,217)"
         },
         "name": "Orders: 0.683%",
         "showlegend": true,
         "type": "bar",
         "width": 0.8,
         "x": [
          27
         ],
         "xaxis": "x2",
         "y": [
          0.006826465899274513
         ],
         "yaxis": "y2"
        },
        {
         "base": 0,
         "hovertemplate": "<b>28.0</b><br><br>Tipp: %{y}<br><extra></extra>",
         "legendgroup": "28.0",
         "marker": {
          "color": "rgb(217,217,217)"
         },
         "name": "28: 33.09%",
         "showlegend": true,
         "type": "bar",
         "width": 0.8,
         "x": [
          28
         ],
         "xaxis": "x",
         "y": [
          0.330938292476754
         ],
         "yaxis": "y"
        },
        {
         "base": [
          -0.008308342756010029
         ],
         "hovertemplate": "<b>28.0</b><br><br>Tipp: %{y}<br><extra></extra>",
         "legendgroup": "28.0",
         "marker": {
          "color": "rgb(217,217,217)"
         },
         "name": "Orders: 0.831%",
         "showlegend": true,
         "type": "bar",
         "width": 0.8,
         "x": [
          28
         ],
         "xaxis": "x2",
         "y": [
          0.008308342756010029
         ],
         "yaxis": "y2"
        },
        {
         "base": 0,
         "hovertemplate": "<b>29.0</b><br><br>Tipp: %{y}<br><extra></extra>",
         "legendgroup": "29.0",
         "marker": {
          "color": "rgb(240,240,240)"
         },
         "name": "29: 28.96%",
         "showlegend": true,
         "text": [
          0.29
         ],
         "type": "bar",
         "width": 0.8,
         "x": [
          29
         ],
         "xaxis": "x",
         "y": [
          0.28958210712183635
         ],
         "yaxis": "y"
        },
        {
         "base": [
          -0.005966134548800101
         ],
         "hovertemplate": "<b>29.0</b><br><br>Tipp: %{y}<br><extra></extra>",
         "legendgroup": "29.0",
         "marker": {
          "color": "rgb(240,240,240)"
         },
         "name": "Orders: 0.597%",
         "showlegend": true,
         "type": "bar",
         "width": 0.8,
         "x": [
          29
         ],
         "xaxis": "x2",
         "y": [
          0.005966134548800101
         ],
         "yaxis": "y2"
        },
        {
         "base": 0,
         "hovertemplate": "<b>30.0</b><br><br>Tipp: %{y}<br><extra></extra>",
         "legendgroup": "30.0",
         "marker": {
          "color": "rgb(240,240,240)"
         },
         "name": "30: 24.75%",
         "showlegend": true,
         "text": [
          0.25
         ],
         "type": "bar",
         "width": 0.8,
         "x": [
          30
         ],
         "xaxis": "x",
         "y": [
          0.24752269862292361
         ],
         "yaxis": "y"
        },
        {
         "base": [
          -0.11003286816914465
         ],
         "hovertemplate": "<b>30.0</b><br><br>Tipp: %{y}<br><extra></extra>",
         "legendgroup": "30.0",
         "marker": {
          "color": "rgb(240,240,240)"
         },
         "name": "Orders: 11.003%",
         "showlegend": true,
         "type": "bar",
         "width": 0.8,
         "x": [
          30
         ],
         "xaxis": "x2",
         "y": [
          0.11003286816914465
         ],
         "yaxis": "y2"
        }
       ],
       "layout": {
        "height": 700,
        "legend": {
         "title": {
          "text": "<b>Tage</b>"
         }
        },
        "plot_bgcolor": "white",
        "shapes": [
         {
          "line": {
           "color": "grey",
           "dash": "solid"
          },
          "opacity": 0.3,
          "type": "line",
          "x0": 0,
          "x1": 1,
          "xref": "x domain",
          "y0": 0,
          "y1": 0,
          "yref": "y"
         },
         {
          "line": {
           "color": "grey",
           "dash": "solid"
          },
          "opacity": 0.3,
          "type": "line",
          "x0": 0,
          "x1": 1,
          "xref": "x2 domain",
          "y0": 0,
          "y1": 0,
          "yref": "y2"
         },
         {
          "line": {
           "color": "black",
           "dash": "solid"
          },
          "opacity": 0.8,
          "type": "line",
          "x0": -0.5,
          "x1": -0.5,
          "xref": "x2",
          "y0": 0,
          "y1": 1,
          "yref": "y2 domain"
         },
         {
          "line": {
           "color": "black",
           "dash": "solid"
          },
          "opacity": 0.8,
          "type": "line",
          "x0": -0.5,
          "x1": -0.5,
          "xref": "x",
          "y0": 0,
          "y1": 1,
          "yref": "y domain"
         },
         {
          "line": {
           "color": "black",
           "dash": "solid"
          },
          "opacity": 0.8,
          "type": "line",
          "x0": 0,
          "x1": 1,
          "xref": "x2 domain",
          "y0": -0.18,
          "y1": -0.18,
          "yref": "y2"
         }
        ],
        "template": {
         "data": {
          "bar": [
           {
            "error_x": {
             "color": "#2a3f5f"
            },
            "error_y": {
             "color": "#2a3f5f"
            },
            "marker": {
             "line": {
              "color": "#E5ECF6",
              "width": 0.5
             },
             "pattern": {
              "fillmode": "overlay",
              "size": 10,
              "solidity": 0.2
             }
            },
            "type": "bar"
           }
          ],
          "barpolar": [
           {
            "marker": {
             "line": {
              "color": "#E5ECF6",
              "width": 0.5
             },
             "pattern": {
              "fillmode": "overlay",
              "size": 10,
              "solidity": 0.2
             }
            },
            "type": "barpolar"
           }
          ],
          "carpet": [
           {
            "aaxis": {
             "endlinecolor": "#2a3f5f",
             "gridcolor": "white",
             "linecolor": "white",
             "minorgridcolor": "white",
             "startlinecolor": "#2a3f5f"
            },
            "baxis": {
             "endlinecolor": "#2a3f5f",
             "gridcolor": "white",
             "linecolor": "white",
             "minorgridcolor": "white",
             "startlinecolor": "#2a3f5f"
            },
            "type": "carpet"
           }
          ],
          "choropleth": [
           {
            "colorbar": {
             "outlinewidth": 0,
             "ticks": ""
            },
            "type": "choropleth"
           }
          ],
          "contour": [
           {
            "colorbar": {
             "outlinewidth": 0,
             "ticks": ""
            },
            "colorscale": [
             [
              0,
              "#0d0887"
             ],
             [
              0.1111111111111111,
              "#46039f"
             ],
             [
              0.2222222222222222,
              "#7201a8"
             ],
             [
              0.3333333333333333,
              "#9c179e"
             ],
             [
              0.4444444444444444,
              "#bd3786"
             ],
             [
              0.5555555555555556,
              "#d8576b"
             ],
             [
              0.6666666666666666,
              "#ed7953"
             ],
             [
              0.7777777777777778,
              "#fb9f3a"
             ],
             [
              0.8888888888888888,
              "#fdca26"
             ],
             [
              1,
              "#f0f921"
             ]
            ],
            "type": "contour"
           }
          ],
          "contourcarpet": [
           {
            "colorbar": {
             "outlinewidth": 0,
             "ticks": ""
            },
            "type": "contourcarpet"
           }
          ],
          "heatmap": [
           {
            "colorbar": {
             "outlinewidth": 0,
             "ticks": ""
            },
            "colorscale": [
             [
              0,
              "#0d0887"
             ],
             [
              0.1111111111111111,
              "#46039f"
             ],
             [
              0.2222222222222222,
              "#7201a8"
             ],
             [
              0.3333333333333333,
              "#9c179e"
             ],
             [
              0.4444444444444444,
              "#bd3786"
             ],
             [
              0.5555555555555556,
              "#d8576b"
             ],
             [
              0.6666666666666666,
              "#ed7953"
             ],
             [
              0.7777777777777778,
              "#fb9f3a"
             ],
             [
              0.8888888888888888,
              "#fdca26"
             ],
             [
              1,
              "#f0f921"
             ]
            ],
            "type": "heatmap"
           }
          ],
          "heatmapgl": [
           {
            "colorbar": {
             "outlinewidth": 0,
             "ticks": ""
            },
            "colorscale": [
             [
              0,
              "#0d0887"
             ],
             [
              0.1111111111111111,
              "#46039f"
             ],
             [
              0.2222222222222222,
              "#7201a8"
             ],
             [
              0.3333333333333333,
              "#9c179e"
             ],
             [
              0.4444444444444444,
              "#bd3786"
             ],
             [
              0.5555555555555556,
              "#d8576b"
             ],
             [
              0.6666666666666666,
              "#ed7953"
             ],
             [
              0.7777777777777778,
              "#fb9f3a"
             ],
             [
              0.8888888888888888,
              "#fdca26"
             ],
             [
              1,
              "#f0f921"
             ]
            ],
            "type": "heatmapgl"
           }
          ],
          "histogram": [
           {
            "marker": {
             "pattern": {
              "fillmode": "overlay",
              "size": 10,
              "solidity": 0.2
             }
            },
            "type": "histogram"
           }
          ],
          "histogram2d": [
           {
            "colorbar": {
             "outlinewidth": 0,
             "ticks": ""
            },
            "colorscale": [
             [
              0,
              "#0d0887"
             ],
             [
              0.1111111111111111,
              "#46039f"
             ],
             [
              0.2222222222222222,
              "#7201a8"
             ],
             [
              0.3333333333333333,
              "#9c179e"
             ],
             [
              0.4444444444444444,
              "#bd3786"
             ],
             [
              0.5555555555555556,
              "#d8576b"
             ],
             [
              0.6666666666666666,
              "#ed7953"
             ],
             [
              0.7777777777777778,
              "#fb9f3a"
             ],
             [
              0.8888888888888888,
              "#fdca26"
             ],
             [
              1,
              "#f0f921"
             ]
            ],
            "type": "histogram2d"
           }
          ],
          "histogram2dcontour": [
           {
            "colorbar": {
             "outlinewidth": 0,
             "ticks": ""
            },
            "colorscale": [
             [
              0,
              "#0d0887"
             ],
             [
              0.1111111111111111,
              "#46039f"
             ],
             [
              0.2222222222222222,
              "#7201a8"
             ],
             [
              0.3333333333333333,
              "#9c179e"
             ],
             [
              0.4444444444444444,
              "#bd3786"
             ],
             [
              0.5555555555555556,
              "#d8576b"
             ],
             [
              0.6666666666666666,
              "#ed7953"
             ],
             [
              0.7777777777777778,
              "#fb9f3a"
             ],
             [
              0.8888888888888888,
              "#fdca26"
             ],
             [
              1,
              "#f0f921"
             ]
            ],
            "type": "histogram2dcontour"
           }
          ],
          "mesh3d": [
           {
            "colorbar": {
             "outlinewidth": 0,
             "ticks": ""
            },
            "type": "mesh3d"
           }
          ],
          "parcoords": [
           {
            "line": {
             "colorbar": {
              "outlinewidth": 0,
              "ticks": ""
             }
            },
            "type": "parcoords"
           }
          ],
          "pie": [
           {
            "automargin": true,
            "type": "pie"
           }
          ],
          "scatter": [
           {
            "fillpattern": {
             "fillmode": "overlay",
             "size": 10,
             "solidity": 0.2
            },
            "type": "scatter"
           }
          ],
          "scatter3d": [
           {
            "line": {
             "colorbar": {
              "outlinewidth": 0,
              "ticks": ""
             }
            },
            "marker": {
             "colorbar": {
              "outlinewidth": 0,
              "ticks": ""
             }
            },
            "type": "scatter3d"
           }
          ],
          "scattercarpet": [
           {
            "marker": {
             "colorbar": {
              "outlinewidth": 0,
              "ticks": ""
             }
            },
            "type": "scattercarpet"
           }
          ],
          "scattergeo": [
           {
            "marker": {
             "colorbar": {
              "outlinewidth": 0,
              "ticks": ""
             }
            },
            "type": "scattergeo"
           }
          ],
          "scattergl": [
           {
            "marker": {
             "colorbar": {
              "outlinewidth": 0,
              "ticks": ""
             }
            },
            "type": "scattergl"
           }
          ],
          "scattermapbox": [
           {
            "marker": {
             "colorbar": {
              "outlinewidth": 0,
              "ticks": ""
             }
            },
            "type": "scattermapbox"
           }
          ],
          "scatterpolar": [
           {
            "marker": {
             "colorbar": {
              "outlinewidth": 0,
              "ticks": ""
             }
            },
            "type": "scatterpolar"
           }
          ],
          "scatterpolargl": [
           {
            "marker": {
             "colorbar": {
              "outlinewidth": 0,
              "ticks": ""
             }
            },
            "type": "scatterpolargl"
           }
          ],
          "scatterternary": [
           {
            "marker": {
             "colorbar": {
              "outlinewidth": 0,
              "ticks": ""
             }
            },
            "type": "scatterternary"
           }
          ],
          "surface": [
           {
            "colorbar": {
             "outlinewidth": 0,
             "ticks": ""
            },
            "colorscale": [
             [
              0,
              "#0d0887"
             ],
             [
              0.1111111111111111,
              "#46039f"
             ],
             [
              0.2222222222222222,
              "#7201a8"
             ],
             [
              0.3333333333333333,
              "#9c179e"
             ],
             [
              0.4444444444444444,
              "#bd3786"
             ],
             [
              0.5555555555555556,
              "#d8576b"
             ],
             [
              0.6666666666666666,
              "#ed7953"
             ],
             [
              0.7777777777777778,
              "#fb9f3a"
             ],
             [
              0.8888888888888888,
              "#fdca26"
             ],
             [
              1,
              "#f0f921"
             ]
            ],
            "type": "surface"
           }
          ],
          "table": [
           {
            "cells": {
             "fill": {
              "color": "#EBF0F8"
             },
             "line": {
              "color": "white"
             }
            },
            "header": {
             "fill": {
              "color": "#C8D4E3"
             },
             "line": {
              "color": "white"
             }
            },
            "type": "table"
           }
          ]
         },
         "layout": {
          "annotationdefaults": {
           "arrowcolor": "#2a3f5f",
           "arrowhead": 0,
           "arrowwidth": 1
          },
          "autotypenumbers": "strict",
          "coloraxis": {
           "colorbar": {
            "outlinewidth": 0,
            "ticks": ""
           }
          },
          "colorscale": {
           "diverging": [
            [
             0,
             "#8e0152"
            ],
            [
             0.1,
             "#c51b7d"
            ],
            [
             0.2,
             "#de77ae"
            ],
            [
             0.3,
             "#f1b6da"
            ],
            [
             0.4,
             "#fde0ef"
            ],
            [
             0.5,
             "#f7f7f7"
            ],
            [
             0.6,
             "#e6f5d0"
            ],
            [
             0.7,
             "#b8e186"
            ],
            [
             0.8,
             "#7fbc41"
            ],
            [
             0.9,
             "#4d9221"
            ],
            [
             1,
             "#276419"
            ]
           ],
           "sequential": [
            [
             0,
             "#0d0887"
            ],
            [
             0.1111111111111111,
             "#46039f"
            ],
            [
             0.2222222222222222,
             "#7201a8"
            ],
            [
             0.3333333333333333,
             "#9c179e"
            ],
            [
             0.4444444444444444,
             "#bd3786"
            ],
            [
             0.5555555555555556,
             "#d8576b"
            ],
            [
             0.6666666666666666,
             "#ed7953"
            ],
            [
             0.7777777777777778,
             "#fb9f3a"
            ],
            [
             0.8888888888888888,
             "#fdca26"
            ],
            [
             1,
             "#f0f921"
            ]
           ],
           "sequentialminus": [
            [
             0,
             "#0d0887"
            ],
            [
             0.1111111111111111,
             "#46039f"
            ],
            [
             0.2222222222222222,
             "#7201a8"
            ],
            [
             0.3333333333333333,
             "#9c179e"
            ],
            [
             0.4444444444444444,
             "#bd3786"
            ],
            [
             0.5555555555555556,
             "#d8576b"
            ],
            [
             0.6666666666666666,
             "#ed7953"
            ],
            [
             0.7777777777777778,
             "#fb9f3a"
            ],
            [
             0.8888888888888888,
             "#fdca26"
            ],
            [
             1,
             "#f0f921"
            ]
           ]
          },
          "colorway": [
           "#636efa",
           "#EF553B",
           "#00cc96",
           "#ab63fa",
           "#FFA15A",
           "#19d3f3",
           "#FF6692",
           "#B6E880",
           "#FF97FF",
           "#FECB52"
          ],
          "font": {
           "color": "#2a3f5f"
          },
          "geo": {
           "bgcolor": "white",
           "lakecolor": "white",
           "landcolor": "#E5ECF6",
           "showlakes": true,
           "showland": true,
           "subunitcolor": "white"
          },
          "hoverlabel": {
           "align": "left"
          },
          "hovermode": "closest",
          "mapbox": {
           "style": "light"
          },
          "paper_bgcolor": "white",
          "plot_bgcolor": "#E5ECF6",
          "polar": {
           "angularaxis": {
            "gridcolor": "white",
            "linecolor": "white",
            "ticks": ""
           },
           "bgcolor": "#E5ECF6",
           "radialaxis": {
            "gridcolor": "white",
            "linecolor": "white",
            "ticks": ""
           }
          },
          "scene": {
           "xaxis": {
            "backgroundcolor": "#E5ECF6",
            "gridcolor": "white",
            "gridwidth": 2,
            "linecolor": "white",
            "showbackground": true,
            "ticks": "",
            "zerolinecolor": "white"
           },
           "yaxis": {
            "backgroundcolor": "#E5ECF6",
            "gridcolor": "white",
            "gridwidth": 2,
            "linecolor": "white",
            "showbackground": true,
            "ticks": "",
            "zerolinecolor": "white"
           },
           "zaxis": {
            "backgroundcolor": "#E5ECF6",
            "gridcolor": "white",
            "gridwidth": 2,
            "linecolor": "white",
            "showbackground": true,
            "ticks": "",
            "zerolinecolor": "white"
           }
          },
          "shapedefaults": {
           "line": {
            "color": "#2a3f5f"
           }
          },
          "ternary": {
           "aaxis": {
            "gridcolor": "white",
            "linecolor": "white",
            "ticks": ""
           },
           "baxis": {
            "gridcolor": "white",
            "linecolor": "white",
            "ticks": ""
           },
           "bgcolor": "#E5ECF6",
           "caxis": {
            "gridcolor": "white",
            "linecolor": "white",
            "ticks": ""
           }
          },
          "title": {
           "x": 0.05
          },
          "xaxis": {
           "automargin": true,
           "gridcolor": "white",
           "linecolor": "white",
           "ticks": "",
           "title": {
            "standoff": 15
           },
           "zerolinecolor": "white",
           "zerolinewidth": 2
          },
          "yaxis": {
           "automargin": true,
           "gridcolor": "white",
           "linecolor": "white",
           "ticks": "",
           "title": {
            "standoff": 15
           },
           "zerolinecolor": "white",
           "zerolinewidth": 2
          }
         }
        },
        "title": {
         "font": {
          "size": 20
         },
         "text": "<b>Tippwahrscheinlichkeit von Bestellungen mit Tagen seit der letzten Bestellungen</b>",
         "x": 0.475,
         "xanchor": "center",
         "y": 0.935,
         "yanchor": "top"
        },
        "xaxis": {
         "anchor": "y",
         "domain": [
          0,
          1
         ],
         "linecolor": "black",
         "matches": "x2",
         "showline": false,
         "showticklabels": false
        },
        "xaxis2": {
         "anchor": "y2",
         "domain": [
          0,
          1
         ],
         "ticks": "outside",
         "title": {
          "text": "<b>Tage</b>"
         }
        },
        "yaxis": {
         "anchor": "x",
         "domain": [
          0.5,
          1
         ],
         "gridcolor": "grey",
         "linecolor": "black",
         "showgrid": true,
         "showline": false,
         "ticks": "outside",
         "title": {
          "text": "<b>Tipp Wshk.</b>"
         }
        },
        "yaxis2": {
         "anchor": "x2",
         "domain": [
          0,
          0.5
         ],
         "gridcolor": "grey",
         "showgrid": true,
         "ticks": "outside",
         "title": {
          "text": "<b>Order Anteil</b>"
         }
        }
       }
      }
     },
     "metadata": {},
     "output_type": "display_data"
    }
   ],
   "source": [
    "# Plot P3: Days_since_prior_order\n",
    "fig1 = make_subplots(cols= 1, rows= 2, shared_xaxes= True, shared_yaxes= False, vertical_spacing= 0)\n",
    "\n",
    "for days_since_prior_order in df_days_since_prior_order.days_since_prior_order:\n",
    "\n",
    " if df_days_since_prior_order[df_days_since_prior_order.days_since_prior_order == days_since_prior_order].tip_norm.values >= 0.5:\n",
    "  color = px.colors.sequential.Purpor[5]\n",
    "  text= df_days_since_prior_order.loc[df_days_since_prior_order.days_since_prior_order == days_since_prior_order].tip_norm.values.round(2)\n",
    "\n",
    "  fig1.add_trace(\n",
    "   go.Bar(\n",
    "    x= df_days_since_prior_order.loc[df_days_since_prior_order.days_since_prior_order == days_since_prior_order].days_since_prior_order,\n",
    "    y= df_days_since_prior_order.loc[df_days_since_prior_order.days_since_prior_order == days_since_prior_order].tip_norm,\n",
    "    name= f\"{int(days_since_prior_order)}: {(df_days_since_prior_order.loc[df_days_since_prior_order.days_since_prior_order == days_since_prior_order].tip_norm.values[0] * 100).round(2)}%\",\n",
    "    showlegend= True,\n",
    "    marker= dict(color= color),\n",
    "    width= 0.8,\n",
    "    text= text,\n",
    "    base= 0,\n",
    "    legendgroup= f\"{days_since_prior_order}\",\n",
    "    hovertemplate = f\"<b>{df_days_since_prior_order.loc[df_days_since_prior_order.days_since_prior_order == days_since_prior_order].days_since_prior_order.values[0]}</b><br><br>\" +\n",
    "                \"Tipp: %{y}<br>\" +\n",
    "                \"<extra></extra>\"\n",
    "   ),\n",
    "   col= 1,\n",
    "   row= 1\n",
    "  )\n",
    "\n",
    "  fig1.add_trace(\n",
    "   go.Bar(\n",
    "    x= df_days_since_prior_order.loc[df_days_since_prior_order.days_since_prior_order == days_since_prior_order].days_since_prior_order,\n",
    "    y= df_days_since_prior_order.loc[df_days_since_prior_order.days_since_prior_order == days_since_prior_order].orders_norm,\n",
    "    name= f\"Orders: {(df_days_since_prior_order.loc[df_days_since_prior_order.days_since_prior_order == days_since_prior_order].orders_norm.values[0] * 100).round(3)}%\",\n",
    "    base = -df_days_since_prior_order.loc[df_days_since_prior_order.days_since_prior_order == days_since_prior_order].orders_norm,\n",
    "    showlegend= True,\n",
    "    marker= dict(color= color),\n",
    "    width= 0.8,\n",
    "    legendgroup= f\"{days_since_prior_order}\",\n",
    "    hovertemplate = f\"<b>{df_days_since_prior_order.loc[df_days_since_prior_order.days_since_prior_order == days_since_prior_order].days_since_prior_order.values[0]}</b><br><br>\" +\n",
    "                \"Tipp: %{y}<br>\" +\n",
    "                \"<extra></extra>\"\n",
    "   ),\n",
    "   col= 1,\n",
    "   row= 2\n",
    "  )\n",
    "\n",
    " elif 0.4 < df_days_since_prior_order.loc[df_days_since_prior_order.days_since_prior_order == days_since_prior_order].tip_norm.values < 0.5:\n",
    "  color= px.colors.sequential.Greys[3]\n",
    "\n",
    "  fig1.add_trace(\n",
    "   go.Bar(\n",
    "    x= df_days_since_prior_order.loc[df_days_since_prior_order.days_since_prior_order == days_since_prior_order].days_since_prior_order,\n",
    "    y= df_days_since_prior_order.loc[df_days_since_prior_order.days_since_prior_order == days_since_prior_order].tip_norm,\n",
    "    name= f\"{int(days_since_prior_order)}: {(df_days_since_prior_order.loc[df_days_since_prior_order.days_since_prior_order == days_since_prior_order].tip_norm.values[0] * 100).round(2)}%\",\n",
    "    showlegend= True,\n",
    "    marker= dict(color= color),\n",
    "    width= 0.8,\n",
    "    base= 0,\n",
    "    legendgroup= f\"{days_since_prior_order}\",\n",
    "    hovertemplate = f\"<b>{df_days_since_prior_order.loc[df_days_since_prior_order.days_since_prior_order == days_since_prior_order].days_since_prior_order.values[0]}</b><br><br>\" +\n",
    "                \"Tipp: %{y}<br>\" +\n",
    "                \"<extra></extra>\"\n",
    "   ),\n",
    "   col= 1,\n",
    "   row= 1\n",
    "  )\n",
    "\n",
    "  fig1.add_trace(\n",
    "   go.Bar(\n",
    "    x= df_days_since_prior_order.loc[df_days_since_prior_order.days_since_prior_order == days_since_prior_order].days_since_prior_order,\n",
    "    y= df_days_since_prior_order.loc[df_days_since_prior_order.days_since_prior_order == days_since_prior_order].orders_norm,\n",
    "    name= f\"Orders: {(df_days_since_prior_order.loc[df_days_since_prior_order.days_since_prior_order == days_since_prior_order].orders_norm.values[0] * 100).round(3)}%\",\n",
    "    base = -df_days_since_prior_order.loc[df_days_since_prior_order.days_since_prior_order == days_since_prior_order].orders_norm,\n",
    "    showlegend= True,\n",
    "    marker= dict(color= color),\n",
    "    width= 0.8,\n",
    "    legendgroup= f\"{days_since_prior_order}\",\n",
    "    hovertemplate = f\"<b>{df_days_since_prior_order.loc[df_days_since_prior_order.days_since_prior_order == days_since_prior_order].days_since_prior_order.values[0]}</b><br><br>\" +\n",
    "                \"Tipp: %{y}<br>\" +\n",
    "                \"<extra></extra>\"\n",
    "   ),\n",
    "   col= 1,\n",
    "   row= 2\n",
    "  )\n",
    "\n",
    " elif 0.3 < df_days_since_prior_order.loc[df_days_since_prior_order.days_since_prior_order == days_since_prior_order].tip_norm.values < 0.4:\n",
    "  color= px.colors.sequential.Greys[2]\n",
    "\n",
    "  fig1.add_trace(\n",
    "   go.Bar(\n",
    "    x= df_days_since_prior_order.loc[df_days_since_prior_order.days_since_prior_order == days_since_prior_order].days_since_prior_order,\n",
    "    y= df_days_since_prior_order.loc[df_days_since_prior_order.days_since_prior_order == days_since_prior_order].tip_norm,\n",
    "    name= f\"{int(days_since_prior_order)}: {(df_days_since_prior_order.loc[df_days_since_prior_order.days_since_prior_order == days_since_prior_order].tip_norm.values[0] * 100).round(2)}%\",\n",
    "    showlegend= True,\n",
    "    marker= dict(color= color),\n",
    "    width= 0.8,\n",
    "    base= 0,\n",
    "    legendgroup= f\"{days_since_prior_order}\",\n",
    "    hovertemplate = f\"<b>{df_days_since_prior_order.loc[df_days_since_prior_order.days_since_prior_order == days_since_prior_order].days_since_prior_order.values[0]}</b><br><br>\" +\n",
    "                \"Tipp: %{y}<br>\" +\n",
    "                \"<extra></extra>\"\n",
    "   ),\n",
    "   col= 1,\n",
    "   row= 1\n",
    "  )\n",
    "\n",
    "  fig1.add_trace(\n",
    "   go.Bar(\n",
    "    x= df_days_since_prior_order.loc[df_days_since_prior_order.days_since_prior_order == days_since_prior_order].days_since_prior_order,\n",
    "    y= df_days_since_prior_order.loc[df_days_since_prior_order.days_since_prior_order == days_since_prior_order].orders_norm,\n",
    "    name= f\"Orders: {(df_days_since_prior_order.loc[df_days_since_prior_order.days_since_prior_order == days_since_prior_order].orders_norm.values[0] * 100).round(3)}%\",\n",
    "    base = -df_days_since_prior_order.loc[df_days_since_prior_order.days_since_prior_order == days_since_prior_order].orders_norm,\n",
    "    showlegend= True,\n",
    "    marker= dict(color= color),\n",
    "    width= 0.8,\n",
    "    legendgroup= f\"{days_since_prior_order}\",\n",
    "    hovertemplate = f\"<b>{df_days_since_prior_order.loc[df_days_since_prior_order.days_since_prior_order == days_since_prior_order].days_since_prior_order.values[0]}</b><br><br>\" +\n",
    "                \"Tipp: %{y}<br>\" +\n",
    "                \"<extra></extra>\"\n",
    "   ),\n",
    "   col= 1,\n",
    "   row= 2\n",
    "  )\n",
    "\n",
    " elif 0.2 < df_days_since_prior_order.loc[df_days_since_prior_order.days_since_prior_order == days_since_prior_order].tip_norm.values < 0.3:\n",
    "  color= px.colors.sequential.Greys[1]\n",
    "  text= df_days_since_prior_order.loc[df_days_since_prior_order.days_since_prior_order == days_since_prior_order].tip_norm.values.round(2)\n",
    "\n",
    "  fig1.add_trace(\n",
    "   go.Bar(\n",
    "    x= df_days_since_prior_order.loc[df_days_since_prior_order.days_since_prior_order == days_since_prior_order].days_since_prior_order,\n",
    "    y= df_days_since_prior_order.loc[df_days_since_prior_order.days_since_prior_order == days_since_prior_order].tip_norm,\n",
    "    name= f\"{int(days_since_prior_order)}: {(df_days_since_prior_order.loc[df_days_since_prior_order.days_since_prior_order == days_since_prior_order].tip_norm.values[0] * 100).round(2)}%\",\n",
    "    showlegend= True,\n",
    "    marker= dict(color= color),\n",
    "    width= 0.8,\n",
    "    text= text,\n",
    "    base= 0,\n",
    "    legendgroup= f\"{days_since_prior_order}\",\n",
    "    hovertemplate = f\"<b>{df_days_since_prior_order.loc[df_days_since_prior_order.days_since_prior_order == days_since_prior_order].days_since_prior_order.values[0]}</b><br><br>\" +\n",
    "                \"Tipp: %{y}<br>\" +\n",
    "                \"<extra></extra>\"\n",
    "   ),\n",
    "   col= 1,\n",
    "   row= 1\n",
    "  )\n",
    "\n",
    "  fig1.add_trace(\n",
    "   go.Bar(\n",
    "    x= df_days_since_prior_order.loc[df_days_since_prior_order.days_since_prior_order == days_since_prior_order].days_since_prior_order,\n",
    "    y= df_days_since_prior_order.loc[df_days_since_prior_order.days_since_prior_order == days_since_prior_order].orders_norm,\n",
    "    name= f\"Orders: {(df_days_since_prior_order.loc[df_days_since_prior_order.days_since_prior_order == days_since_prior_order].orders_norm.values[0] * 100).round(3)}%\",\n",
    "    base = -df_days_since_prior_order.loc[df_days_since_prior_order.days_since_prior_order == days_since_prior_order].orders_norm,\n",
    "    showlegend= True,\n",
    "    marker= dict(color= color),\n",
    "    width= 0.8,\n",
    "    legendgroup= f\"{days_since_prior_order}\",\n",
    "    hovertemplate = f\"<b>{df_days_since_prior_order.loc[df_days_since_prior_order.days_since_prior_order == days_since_prior_order].days_since_prior_order.values[0]}</b><br><br>\" +\n",
    "                \"Tipp: %{y}<br>\" +\n",
    "                \"<extra></extra>\"\n",
    "   ),\n",
    "   col= 1,\n",
    "   row= 2\n",
    "  )\n",
    "\n",
    "\n",
    "fig1.add_hline(\n",
    " y= 0,\n",
    " opacity= 0.3,\n",
    " line_dash= \"solid\",\n",
    " line_color= \"grey\",\n",
    " col= 1,\n",
    " row= 1\n",
    ")\n",
    "\n",
    "fig1.add_hline(\n",
    " y= 0,\n",
    " opacity= 0.3,\n",
    " line_dash= \"solid\",\n",
    " line_color= \"grey\",\n",
    " col= 1,\n",
    " row= 2\n",
    ")\n",
    "\n",
    "fig1.add_vline(\n",
    " x= -0.5,\n",
    " opacity= 0.8,\n",
    " line_dash= \"solid\",\n",
    " line_color= \"black\",\n",
    " col= 1,\n",
    " row= 2\n",
    ")\n",
    "\n",
    "fig1.add_vline(\n",
    " x= -0.5,\n",
    " opacity= 0.8,\n",
    " line_dash= \"solid\",\n",
    " line_color= \"black\",\n",
    " col= 1,\n",
    " row= 1\n",
    ")\n",
    "\n",
    "fig1.add_hline(\n",
    " y= -0.18,\n",
    " opacity= 0.8,\n",
    " line_dash= \"solid\",\n",
    " line_color= \"black\",\n",
    " col= 1,\n",
    " row= 2\n",
    ")\n",
    "\n",
    "fig1.update_annotations(opacity= 0.8)\n",
    "fig1.update_layout(title= dict(text= \"<b>Tippwahrscheinlichkeit von Bestellungen mit Tagen seit der letzten Bestellungen</b>\", font_size= 20, xanchor= \"center\", yanchor= \"top\", y=0.935, x=0.475), legend_title_text = \"<b>Tage</b>\", height= 700)\n",
    "fig1.update_xaxes(title_text=\"<b>Tage</b>\", ticks= \"outside\", col= 1, row= 2)\n",
    "fig1.update_xaxes(showline= False, col= 1, row= 1)\n",
    "fig1.update_yaxes(title_text=\"<b>Tipp Wshk.</b>\", ticks= \"outside\", showgrid= True, gridcolor= \"grey\", col= 1, row= 1, showline= False)\n",
    "fig1.update_yaxes(title_text=\"<b>Order Anteil</b>\", ticks= \"outside\", showgrid= True, gridcolor= \"grey\", col= 1, row= 2)\n",
    "fig1.update_layout(plot_bgcolor= \"white\", xaxis= dict(linecolor= \"black\"), yaxis= dict(linecolor= \"black\"))\n",
    "fig1.show()"
   ]
  },
  {
   "cell_type": "code",
   "execution_count": 310,
   "metadata": {},
   "outputs": [
    {
     "data": {
      "application/vnd.plotly.v1+json": {
       "config": {
        "plotlyServerURL": "https://plot.ly"
       },
       "data": [
        {
         "fill": "tozeroy",
         "hoverinfo": "y",
         "marker": {
          "color": "rgb(150,150,150)",
          "size": 4
         },
         "mode": "lines+markers",
         "name": "Bestellungen",
         "type": "scatter",
         "x": [
          0,
          1,
          2,
          3,
          4,
          5,
          6,
          7,
          8,
          9,
          10,
          11,
          12,
          13,
          14,
          15,
          16,
          17,
          18,
          19,
          20,
          21,
          22,
          23,
          24,
          25,
          26,
          27,
          28,
          29,
          30
         ],
         "xaxis": "x",
         "y": [
          0.021078118086623077,
          0.045962763454528856,
          0.061422391089074144,
          0.06766945016047814,
          0.06931637017424344,
          0.06716554179805741,
          0.07480493303461692,
          0.10019875409974226,
          0.057080351436577775,
          0.03725585903207456,
          0.029732349161089144,
          0.025295497482213967,
          0.02386278241693413,
          0.02604170324538055,
          0.031342397831262685,
          0.02052504793274667,
          0.014745025880171644,
          0.012387015668565248,
          0.011131634208179118,
          0.010546960045509772,
          0.01201303489784882,
          0.013958437216880755,
          0.009888543195656907,
          0.0074813711925948295,
          0.006280418858463203,
          0.005785289387373847,
          0.005894147639882855,
          0.006826465899274513,
          0.008308342756010029,
          0.005966134548800101,
          0.11003286816914465
         ],
         "yaxis": "y2"
        },
        {
         "base": 0,
         "hovertemplate": "<b>0.0</b><br><br>Tipp: %{y}<br><extra></extra>",
         "legendgroup": "0.0",
         "legendgrouptitle": {
          "text": "0"
         },
         "marker": {
          "color": "rgb(189,189,189)"
         },
         "name": "Tipp: 42.97%",
         "showlegend": true,
         "type": "bar",
         "width": 0.8,
         "x": [
          0
         ],
         "xaxis": "x",
         "y": [
          0.42973760932944605
         ],
         "yaxis": "y"
        },
        {
         "base": 0,
         "hovertemplate": "<b>1.0</b><br><br>Tipp: %{y}<br><extra></extra>",
         "legendgroup": "1.0",
         "legendgrouptitle": {
          "text": "1"
         },
         "marker": {
          "color": "rgb(217,217,217)"
         },
         "name": "Tipp: 38.92%",
         "showlegend": true,
         "type": "bar",
         "width": 0.8,
         "x": [
          1
         ],
         "xaxis": "x",
         "y": [
          0.38918175567270225
         ],
         "yaxis": "y"
        },
        {
         "base": 0,
         "hovertemplate": "<b>2.0</b><br><br>Tipp: %{y}<br><extra></extra>",
         "legendgroup": "2.0",
         "legendgrouptitle": {
          "text": "2"
         },
         "marker": {
          "color": "rgb(189,189,189)"
         },
         "name": "Tipp: 41.42%",
         "showlegend": true,
         "type": "bar",
         "width": 0.8,
         "x": [
          2
         ],
         "xaxis": "x",
         "y": [
          0.41420118343195267
         ],
         "yaxis": "y"
        },
        {
         "base": 0,
         "hovertemplate": "<b>3.0</b><br><br>Tipp: %{y}<br><extra></extra>",
         "legendgroup": "3.0",
         "legendgrouptitle": {
          "text": "3"
         },
         "marker": {
          "color": "rgb(189,189,189)"
         },
         "name": "Tipp: 44.23%",
         "showlegend": true,
         "type": "bar",
         "width": 0.8,
         "x": [
          3
         ],
         "xaxis": "x",
         "y": [
          0.44233413767157054
         ],
         "yaxis": "y"
        },
        {
         "base": 0,
         "hovertemplate": "<b>4.0</b><br><br>Tipp: %{y}<br><extra></extra>",
         "legendgroup": "4.0",
         "legendgrouptitle": {
          "text": "4"
         },
         "marker": {
          "color": "rgb(189,189,189)"
         },
         "name": "Tipp: 45.73%",
         "showlegend": true,
         "type": "bar",
         "width": 0.8,
         "x": [
          4
         ],
         "xaxis": "x",
         "y": [
          0.4572557562248284
         ],
         "yaxis": "y"
        },
        {
         "base": 0,
         "hovertemplate": "<b>5.0</b><br><br>Tipp: %{y}<br><extra></extra>",
         "legendgroup": "5.0",
         "legendgrouptitle": {
          "text": "5"
         },
         "marker": {
          "color": "rgb(189,189,189)"
         },
         "name": "Tipp: 46.82%",
         "showlegend": true,
         "type": "bar",
         "width": 0.8,
         "x": [
          5
         ],
         "xaxis": "x",
         "y": [
          0.4682124745124693
         ],
         "yaxis": "y"
        },
        {
         "base": 0,
         "hovertemplate": "<b>6.0</b><br><br>Tipp: %{y}<br><extra></extra>",
         "legendgroup": "6.0",
         "legendgrouptitle": {
          "text": "6"
         },
         "marker": {
          "color": "rgb(189,189,189)"
         },
         "name": "Tipp: 49.41%",
         "showlegend": true,
         "type": "bar",
         "width": 0.8,
         "x": [
          6
         ],
         "xaxis": "x",
         "y": [
          0.4941204084027696
         ],
         "yaxis": "y"
        },
        {
         "base": 0,
         "hovertemplate": "<b>7.0</b><br><br>Tipp: %{y}<br><extra></extra>",
         "legendgroup": "7.0",
         "legendgrouptitle": {
          "text": "7"
         },
         "marker": {
          "color": "rgb(131, 75, 160)"
         },
         "name": "Tipp: 54.86%",
         "showlegend": true,
         "text": [
          0.55
         ],
         "type": "bar",
         "width": 0.8,
         "x": [
          7
         ],
         "xaxis": "x",
         "y": [
          0.5486086773673512
         ],
         "yaxis": "y"
        },
        {
         "base": 0,
         "hovertemplate": "<b>8.0</b><br><br>Tipp: %{y}<br><extra></extra>",
         "legendgroup": "8.0",
         "legendgrouptitle": {
          "text": "8"
         },
         "marker": {
          "color": "rgb(189,189,189)"
         },
         "name": "Tipp: 48.98%",
         "showlegend": true,
         "type": "bar",
         "width": 0.8,
         "x": [
          8
         ],
         "xaxis": "x",
         "y": [
          0.4898185173792679
         ],
         "yaxis": "y"
        },
        {
         "base": 0,
         "hovertemplate": "<b>9.0</b><br><br>Tipp: %{y}<br><extra></extra>",
         "legendgroup": "9.0",
         "legendgrouptitle": {
          "text": "9"
         },
         "marker": {
          "color": "rgb(189,189,189)"
         },
         "name": "Tipp: 44.78%",
         "showlegend": true,
         "type": "bar",
         "width": 0.8,
         "x": [
          9
         ],
         "xaxis": "x",
         "y": [
          0.4478062114142985
         ],
         "yaxis": "y"
        },
        {
         "base": 0,
         "hovertemplate": "<b>10.0</b><br><br>Tipp: %{y}<br><extra></extra>",
         "legendgroup": "10.0",
         "legendgrouptitle": {
          "text": "10"
         },
         "marker": {
          "color": "rgb(189,189,189)"
         },
         "name": "Tipp: 44.09%",
         "showlegend": true,
         "type": "bar",
         "width": 0.8,
         "x": [
          10
         ],
         "xaxis": "x",
         "y": [
          0.4409472068028818
         ],
         "yaxis": "y"
        },
        {
         "base": 0,
         "hovertemplate": "<b>11.0</b><br><br>Tipp: %{y}<br><extra></extra>",
         "legendgroup": "11.0",
         "legendgrouptitle": {
          "text": "11"
         },
         "marker": {
          "color": "rgb(189,189,189)"
         },
         "name": "Tipp: 42.77%",
         "showlegend": true,
         "type": "bar",
         "width": 0.8,
         "x": [
          11
         ],
         "xaxis": "x",
         "y": [
          0.42770875268966474
         ],
         "yaxis": "y"
        },
        {
         "base": 0,
         "hovertemplate": "<b>12.0</b><br><br>Tipp: %{y}<br><extra></extra>",
         "legendgroup": "12.0",
         "legendgrouptitle": {
          "text": "12"
         },
         "marker": {
          "color": "rgb(189,189,189)"
         },
         "name": "Tipp: 42.21%",
         "showlegend": true,
         "type": "bar",
         "width": 0.8,
         "x": [
          12
         ],
         "xaxis": "x",
         "y": [
          0.42211757780884407
         ],
         "yaxis": "y"
        },
        {
         "base": 0,
         "hovertemplate": "<b>13.0</b><br><br>Tipp: %{y}<br><extra></extra>",
         "legendgroup": "13.0",
         "legendgrouptitle": {
          "text": "13"
         },
         "marker": {
          "color": "rgb(189,189,189)"
         },
         "name": "Tipp: 41.45%",
         "showlegend": true,
         "type": "bar",
         "width": 0.8,
         "x": [
          13
         ],
         "xaxis": "x",
         "y": [
          0.4145091693635383
         ],
         "yaxis": "y"
        },
        {
         "base": 0,
         "hovertemplate": "<b>14.0</b><br><br>Tipp: %{y}<br><extra></extra>",
         "legendgroup": "14.0",
         "legendgrouptitle": {
          "text": "14"
         },
         "marker": {
          "color": "rgb(189,189,189)"
         },
         "name": "Tipp: 45.25%",
         "showlegend": true,
         "type": "bar",
         "width": 0.8,
         "x": [
          14
         ],
         "xaxis": "x",
         "y": [
          0.4525236681418408
         ],
         "yaxis": "y"
        },
        {
         "base": 0,
         "hovertemplate": "<b>15.0</b><br><br>Tipp: %{y}<br><extra></extra>",
         "legendgroup": "15.0",
         "legendgrouptitle": {
          "text": "15"
         },
         "marker": {
          "color": "rgb(217,217,217)"
         },
         "name": "Tipp: 39.66%",
         "showlegend": true,
         "type": "bar",
         "width": 0.8,
         "x": [
          15
         ],
         "xaxis": "x",
         "y": [
          0.39657827202737383
         ],
         "yaxis": "y"
        },
        {
         "base": 0,
         "hovertemplate": "<b>16.0</b><br><br>Tipp: %{y}<br><extra></extra>",
         "legendgroup": "16.0",
         "legendgrouptitle": {
          "text": "16"
         },
         "marker": {
          "color": "rgb(217,217,217)"
         },
         "name": "Tipp: 36.51%",
         "showlegend": true,
         "type": "bar",
         "width": 0.8,
         "x": [
          16
         ],
         "xaxis": "x",
         "y": [
          0.3650869254584425
         ],
         "yaxis": "y"
        },
        {
         "base": 0,
         "hovertemplate": "<b>17.0</b><br><br>Tipp: %{y}<br><extra></extra>",
         "legendgroup": "17.0",
         "legendgrouptitle": {
          "text": "17"
         },
         "marker": {
          "color": "rgb(217,217,217)"
         },
         "name": "Tipp: 36.77%",
         "showlegend": true,
         "type": "bar",
         "width": 0.8,
         "x": [
          17
         ],
         "xaxis": "x",
         "y": [
          0.36768249468462083
         ],
         "yaxis": "y"
        },
        {
         "base": 0,
         "hovertemplate": "<b>18.0</b><br><br>Tipp: %{y}<br><extra></extra>",
         "legendgroup": "18.0",
         "legendgrouptitle": {
          "text": "18"
         },
         "marker": {
          "color": "rgb(217,217,217)"
         },
         "name": "Tipp: 36.91%",
         "showlegend": true,
         "type": "bar",
         "width": 0.8,
         "x": [
          18
         ],
         "xaxis": "x",
         "y": [
          0.36908517350157727
         ],
         "yaxis": "y"
        },
        {
         "base": 0,
         "hovertemplate": "<b>19.0</b><br><br>Tipp: %{y}<br><extra></extra>",
         "legendgroup": "19.0",
         "legendgrouptitle": {
          "text": "19"
         },
         "marker": {
          "color": "rgb(217,217,217)"
         },
         "name": "Tipp: 36.19%",
         "showlegend": true,
         "type": "bar",
         "width": 0.8,
         "x": [
          19
         ],
         "xaxis": "x",
         "y": [
          0.3619111037123356
         ],
         "yaxis": "y"
        },
        {
         "base": 0,
         "hovertemplate": "<b>20.0</b><br><br>Tipp: %{y}<br><extra></extra>",
         "legendgroup": "20.0",
         "legendgrouptitle": {
          "text": "20"
         },
         "marker": {
          "color": "rgb(217,217,217)"
         },
         "name": "Tipp: 35.63%",
         "showlegend": true,
         "type": "bar",
         "width": 0.8,
         "x": [
          20
         ],
         "xaxis": "x",
         "y": [
          0.35632855890090614
         ],
         "yaxis": "y"
        },
        {
         "base": 0,
         "hovertemplate": "<b>21.0</b><br><br>Tipp: %{y}<br><extra></extra>",
         "legendgroup": "21.0",
         "legendgrouptitle": {
          "text": "21"
         },
         "marker": {
          "color": "rgb(217,217,217)"
         },
         "name": "Tipp: 38.01%",
         "showlegend": true,
         "type": "bar",
         "width": 0.8,
         "x": [
          21
         ],
         "xaxis": "x",
         "y": [
          0.380125786163522
         ],
         "yaxis": "y"
        },
        {
         "base": 0,
         "hovertemplate": "<b>22.0</b><br><br>Tipp: %{y}<br><extra></extra>",
         "legendgroup": "22.0",
         "legendgrouptitle": {
          "text": "22"
         },
         "marker": {
          "color": "rgb(217,217,217)"
         },
         "name": "Tipp: 36.06%",
         "showlegend": true,
         "type": "bar",
         "width": 0.8,
         "x": [
          22
         ],
         "xaxis": "x",
         "y": [
          0.3606178977272727
         ],
         "yaxis": "y"
        },
        {
         "base": 0,
         "hovertemplate": "<b>23.0</b><br><br>Tipp: %{y}<br><extra></extra>",
         "legendgroup": "23.0",
         "legendgrouptitle": {
          "text": "23"
         },
         "marker": {
          "color": "rgb(217,217,217)"
         },
         "name": "Tipp: 31.87%",
         "showlegend": true,
         "type": "bar",
         "width": 0.8,
         "x": [
          23
         ],
         "xaxis": "x",
         "y": [
          0.31870452945318
         ],
         "yaxis": "y"
        },
        {
         "base": 0,
         "hovertemplate": "<b>24.0</b><br><br>Tipp: %{y}<br><extra></extra>",
         "legendgroup": "24.0",
         "legendgrouptitle": {
          "text": "24"
         },
         "marker": {
          "color": "rgb(217,217,217)"
         },
         "name": "Tipp: 31.62%",
         "showlegend": true,
         "type": "bar",
         "width": 0.8,
         "x": [
          24
         ],
         "xaxis": "x",
         "y": [
          0.3161867486720716
         ],
         "yaxis": "y"
        },
        {
         "base": 0,
         "hovertemplate": "<b>25.0</b><br><br>Tipp: %{y}<br><extra></extra>",
         "legendgroup": "25.0",
         "legendgrouptitle": {
          "text": "25"
         },
         "marker": {
          "color": "rgb(217,217,217)"
         },
         "name": "Tipp: 30.44%",
         "showlegend": true,
         "type": "bar",
         "width": 0.8,
         "x": [
          25
         ],
         "xaxis": "x",
         "y": [
          0.30440060698027316
         ],
         "yaxis": "y"
        },
        {
         "base": 0,
         "hovertemplate": "<b>26.0</b><br><br>Tipp: %{y}<br><extra></extra>",
         "legendgroup": "26.0",
         "legendgrouptitle": {
          "text": "26"
         },
         "marker": {
          "color": "rgb(217,217,217)"
         },
         "name": "Tipp: 30.35%",
         "showlegend": true,
         "type": "bar",
         "width": 0.8,
         "x": [
          26
         ],
         "xaxis": "x",
         "y": [
          0.30354483169496577
         ],
         "yaxis": "y"
        },
        {
         "base": 0,
         "hovertemplate": "<b>27.0</b><br><br>Tipp: %{y}<br><extra></extra>",
         "legendgroup": "27.0",
         "legendgrouptitle": {
          "text": "27"
         },
         "marker": {
          "color": "rgb(217,217,217)"
         },
         "name": "Tipp: 30.92%",
         "showlegend": true,
         "type": "bar",
         "width": 0.8,
         "x": [
          27
         ],
         "xaxis": "x",
         "y": [
          0.30915637860082307
         ],
         "yaxis": "y"
        },
        {
         "base": 0,
         "hovertemplate": "<b>28.0</b><br><br>Tipp: %{y}<br><extra></extra>",
         "legendgroup": "28.0",
         "legendgrouptitle": {
          "text": "28"
         },
         "marker": {
          "color": "rgb(217,217,217)"
         },
         "name": "Tipp: 33.09%",
         "showlegend": true,
         "type": "bar",
         "width": 0.8,
         "x": [
          28
         ],
         "xaxis": "x",
         "y": [
          0.330938292476754
         ],
         "yaxis": "y"
        },
        {
         "base": 0,
         "hovertemplate": "<b>29.0</b><br><br>Tipp: %{y}<br><extra></extra>",
         "legendgroup": "29.0",
         "legendgrouptitle": {
          "text": "29"
         },
         "marker": {
          "color": "rgb(240,240,240)"
         },
         "name": "Tipp: 28.96%",
         "showlegend": true,
         "text": [
          0.29
         ],
         "type": "bar",
         "width": 0.8,
         "x": [
          29
         ],
         "xaxis": "x",
         "y": [
          0.28958210712183635
         ],
         "yaxis": "y"
        },
        {
         "base": 0,
         "hovertemplate": "<b>30.0</b><br><br>Tipp: %{y}<br><extra></extra>",
         "legendgroup": "30.0",
         "legendgrouptitle": {
          "text": "30"
         },
         "marker": {
          "color": "rgb(240,240,240)"
         },
         "name": "Tipp: 24.75%",
         "showlegend": true,
         "text": [
          0.25
         ],
         "type": "bar",
         "width": 0.8,
         "x": [
          30
         ],
         "xaxis": "x",
         "y": [
          0.24752269862292361
         ],
         "yaxis": "y"
        }
       ],
       "layout": {
        "height": 570,
        "legend": {
         "title": {
          "text": "<b>Tage</b>"
         }
        },
        "plot_bgcolor": "white",
        "template": {
         "data": {
          "bar": [
           {
            "error_x": {
             "color": "#2a3f5f"
            },
            "error_y": {
             "color": "#2a3f5f"
            },
            "marker": {
             "line": {
              "color": "#E5ECF6",
              "width": 0.5
             },
             "pattern": {
              "fillmode": "overlay",
              "size": 10,
              "solidity": 0.2
             }
            },
            "type": "bar"
           }
          ],
          "barpolar": [
           {
            "marker": {
             "line": {
              "color": "#E5ECF6",
              "width": 0.5
             },
             "pattern": {
              "fillmode": "overlay",
              "size": 10,
              "solidity": 0.2
             }
            },
            "type": "barpolar"
           }
          ],
          "carpet": [
           {
            "aaxis": {
             "endlinecolor": "#2a3f5f",
             "gridcolor": "white",
             "linecolor": "white",
             "minorgridcolor": "white",
             "startlinecolor": "#2a3f5f"
            },
            "baxis": {
             "endlinecolor": "#2a3f5f",
             "gridcolor": "white",
             "linecolor": "white",
             "minorgridcolor": "white",
             "startlinecolor": "#2a3f5f"
            },
            "type": "carpet"
           }
          ],
          "choropleth": [
           {
            "colorbar": {
             "outlinewidth": 0,
             "ticks": ""
            },
            "type": "choropleth"
           }
          ],
          "contour": [
           {
            "colorbar": {
             "outlinewidth": 0,
             "ticks": ""
            },
            "colorscale": [
             [
              0,
              "#0d0887"
             ],
             [
              0.1111111111111111,
              "#46039f"
             ],
             [
              0.2222222222222222,
              "#7201a8"
             ],
             [
              0.3333333333333333,
              "#9c179e"
             ],
             [
              0.4444444444444444,
              "#bd3786"
             ],
             [
              0.5555555555555556,
              "#d8576b"
             ],
             [
              0.6666666666666666,
              "#ed7953"
             ],
             [
              0.7777777777777778,
              "#fb9f3a"
             ],
             [
              0.8888888888888888,
              "#fdca26"
             ],
             [
              1,
              "#f0f921"
             ]
            ],
            "type": "contour"
           }
          ],
          "contourcarpet": [
           {
            "colorbar": {
             "outlinewidth": 0,
             "ticks": ""
            },
            "type": "contourcarpet"
           }
          ],
          "heatmap": [
           {
            "colorbar": {
             "outlinewidth": 0,
             "ticks": ""
            },
            "colorscale": [
             [
              0,
              "#0d0887"
             ],
             [
              0.1111111111111111,
              "#46039f"
             ],
             [
              0.2222222222222222,
              "#7201a8"
             ],
             [
              0.3333333333333333,
              "#9c179e"
             ],
             [
              0.4444444444444444,
              "#bd3786"
             ],
             [
              0.5555555555555556,
              "#d8576b"
             ],
             [
              0.6666666666666666,
              "#ed7953"
             ],
             [
              0.7777777777777778,
              "#fb9f3a"
             ],
             [
              0.8888888888888888,
              "#fdca26"
             ],
             [
              1,
              "#f0f921"
             ]
            ],
            "type": "heatmap"
           }
          ],
          "heatmapgl": [
           {
            "colorbar": {
             "outlinewidth": 0,
             "ticks": ""
            },
            "colorscale": [
             [
              0,
              "#0d0887"
             ],
             [
              0.1111111111111111,
              "#46039f"
             ],
             [
              0.2222222222222222,
              "#7201a8"
             ],
             [
              0.3333333333333333,
              "#9c179e"
             ],
             [
              0.4444444444444444,
              "#bd3786"
             ],
             [
              0.5555555555555556,
              "#d8576b"
             ],
             [
              0.6666666666666666,
              "#ed7953"
             ],
             [
              0.7777777777777778,
              "#fb9f3a"
             ],
             [
              0.8888888888888888,
              "#fdca26"
             ],
             [
              1,
              "#f0f921"
             ]
            ],
            "type": "heatmapgl"
           }
          ],
          "histogram": [
           {
            "marker": {
             "pattern": {
              "fillmode": "overlay",
              "size": 10,
              "solidity": 0.2
             }
            },
            "type": "histogram"
           }
          ],
          "histogram2d": [
           {
            "colorbar": {
             "outlinewidth": 0,
             "ticks": ""
            },
            "colorscale": [
             [
              0,
              "#0d0887"
             ],
             [
              0.1111111111111111,
              "#46039f"
             ],
             [
              0.2222222222222222,
              "#7201a8"
             ],
             [
              0.3333333333333333,
              "#9c179e"
             ],
             [
              0.4444444444444444,
              "#bd3786"
             ],
             [
              0.5555555555555556,
              "#d8576b"
             ],
             [
              0.6666666666666666,
              "#ed7953"
             ],
             [
              0.7777777777777778,
              "#fb9f3a"
             ],
             [
              0.8888888888888888,
              "#fdca26"
             ],
             [
              1,
              "#f0f921"
             ]
            ],
            "type": "histogram2d"
           }
          ],
          "histogram2dcontour": [
           {
            "colorbar": {
             "outlinewidth": 0,
             "ticks": ""
            },
            "colorscale": [
             [
              0,
              "#0d0887"
             ],
             [
              0.1111111111111111,
              "#46039f"
             ],
             [
              0.2222222222222222,
              "#7201a8"
             ],
             [
              0.3333333333333333,
              "#9c179e"
             ],
             [
              0.4444444444444444,
              "#bd3786"
             ],
             [
              0.5555555555555556,
              "#d8576b"
             ],
             [
              0.6666666666666666,
              "#ed7953"
             ],
             [
              0.7777777777777778,
              "#fb9f3a"
             ],
             [
              0.8888888888888888,
              "#fdca26"
             ],
             [
              1,
              "#f0f921"
             ]
            ],
            "type": "histogram2dcontour"
           }
          ],
          "mesh3d": [
           {
            "colorbar": {
             "outlinewidth": 0,
             "ticks": ""
            },
            "type": "mesh3d"
           }
          ],
          "parcoords": [
           {
            "line": {
             "colorbar": {
              "outlinewidth": 0,
              "ticks": ""
             }
            },
            "type": "parcoords"
           }
          ],
          "pie": [
           {
            "automargin": true,
            "type": "pie"
           }
          ],
          "scatter": [
           {
            "fillpattern": {
             "fillmode": "overlay",
             "size": 10,
             "solidity": 0.2
            },
            "type": "scatter"
           }
          ],
          "scatter3d": [
           {
            "line": {
             "colorbar": {
              "outlinewidth": 0,
              "ticks": ""
             }
            },
            "marker": {
             "colorbar": {
              "outlinewidth": 0,
              "ticks": ""
             }
            },
            "type": "scatter3d"
           }
          ],
          "scattercarpet": [
           {
            "marker": {
             "colorbar": {
              "outlinewidth": 0,
              "ticks": ""
             }
            },
            "type": "scattercarpet"
           }
          ],
          "scattergeo": [
           {
            "marker": {
             "colorbar": {
              "outlinewidth": 0,
              "ticks": ""
             }
            },
            "type": "scattergeo"
           }
          ],
          "scattergl": [
           {
            "marker": {
             "colorbar": {
              "outlinewidth": 0,
              "ticks": ""
             }
            },
            "type": "scattergl"
           }
          ],
          "scattermapbox": [
           {
            "marker": {
             "colorbar": {
              "outlinewidth": 0,
              "ticks": ""
             }
            },
            "type": "scattermapbox"
           }
          ],
          "scatterpolar": [
           {
            "marker": {
             "colorbar": {
              "outlinewidth": 0,
              "ticks": ""
             }
            },
            "type": "scatterpolar"
           }
          ],
          "scatterpolargl": [
           {
            "marker": {
             "colorbar": {
              "outlinewidth": 0,
              "ticks": ""
             }
            },
            "type": "scatterpolargl"
           }
          ],
          "scatterternary": [
           {
            "marker": {
             "colorbar": {
              "outlinewidth": 0,
              "ticks": ""
             }
            },
            "type": "scatterternary"
           }
          ],
          "surface": [
           {
            "colorbar": {
             "outlinewidth": 0,
             "ticks": ""
            },
            "colorscale": [
             [
              0,
              "#0d0887"
             ],
             [
              0.1111111111111111,
              "#46039f"
             ],
             [
              0.2222222222222222,
              "#7201a8"
             ],
             [
              0.3333333333333333,
              "#9c179e"
             ],
             [
              0.4444444444444444,
              "#bd3786"
             ],
             [
              0.5555555555555556,
              "#d8576b"
             ],
             [
              0.6666666666666666,
              "#ed7953"
             ],
             [
              0.7777777777777778,
              "#fb9f3a"
             ],
             [
              0.8888888888888888,
              "#fdca26"
             ],
             [
              1,
              "#f0f921"
             ]
            ],
            "type": "surface"
           }
          ],
          "table": [
           {
            "cells": {
             "fill": {
              "color": "#EBF0F8"
             },
             "line": {
              "color": "white"
             }
            },
            "header": {
             "fill": {
              "color": "#C8D4E3"
             },
             "line": {
              "color": "white"
             }
            },
            "type": "table"
           }
          ]
         },
         "layout": {
          "annotationdefaults": {
           "arrowcolor": "#2a3f5f",
           "arrowhead": 0,
           "arrowwidth": 1
          },
          "autotypenumbers": "strict",
          "coloraxis": {
           "colorbar": {
            "outlinewidth": 0,
            "ticks": ""
           }
          },
          "colorscale": {
           "diverging": [
            [
             0,
             "#8e0152"
            ],
            [
             0.1,
             "#c51b7d"
            ],
            [
             0.2,
             "#de77ae"
            ],
            [
             0.3,
             "#f1b6da"
            ],
            [
             0.4,
             "#fde0ef"
            ],
            [
             0.5,
             "#f7f7f7"
            ],
            [
             0.6,
             "#e6f5d0"
            ],
            [
             0.7,
             "#b8e186"
            ],
            [
             0.8,
             "#7fbc41"
            ],
            [
             0.9,
             "#4d9221"
            ],
            [
             1,
             "#276419"
            ]
           ],
           "sequential": [
            [
             0,
             "#0d0887"
            ],
            [
             0.1111111111111111,
             "#46039f"
            ],
            [
             0.2222222222222222,
             "#7201a8"
            ],
            [
             0.3333333333333333,
             "#9c179e"
            ],
            [
             0.4444444444444444,
             "#bd3786"
            ],
            [
             0.5555555555555556,
             "#d8576b"
            ],
            [
             0.6666666666666666,
             "#ed7953"
            ],
            [
             0.7777777777777778,
             "#fb9f3a"
            ],
            [
             0.8888888888888888,
             "#fdca26"
            ],
            [
             1,
             "#f0f921"
            ]
           ],
           "sequentialminus": [
            [
             0,
             "#0d0887"
            ],
            [
             0.1111111111111111,
             "#46039f"
            ],
            [
             0.2222222222222222,
             "#7201a8"
            ],
            [
             0.3333333333333333,
             "#9c179e"
            ],
            [
             0.4444444444444444,
             "#bd3786"
            ],
            [
             0.5555555555555556,
             "#d8576b"
            ],
            [
             0.6666666666666666,
             "#ed7953"
            ],
            [
             0.7777777777777778,
             "#fb9f3a"
            ],
            [
             0.8888888888888888,
             "#fdca26"
            ],
            [
             1,
             "#f0f921"
            ]
           ]
          },
          "colorway": [
           "#636efa",
           "#EF553B",
           "#00cc96",
           "#ab63fa",
           "#FFA15A",
           "#19d3f3",
           "#FF6692",
           "#B6E880",
           "#FF97FF",
           "#FECB52"
          ],
          "font": {
           "color": "#2a3f5f"
          },
          "geo": {
           "bgcolor": "white",
           "lakecolor": "white",
           "landcolor": "#E5ECF6",
           "showlakes": true,
           "showland": true,
           "subunitcolor": "white"
          },
          "hoverlabel": {
           "align": "left"
          },
          "hovermode": "closest",
          "mapbox": {
           "style": "light"
          },
          "paper_bgcolor": "white",
          "plot_bgcolor": "#E5ECF6",
          "polar": {
           "angularaxis": {
            "gridcolor": "white",
            "linecolor": "white",
            "ticks": ""
           },
           "bgcolor": "#E5ECF6",
           "radialaxis": {
            "gridcolor": "white",
            "linecolor": "white",
            "ticks": ""
           }
          },
          "scene": {
           "xaxis": {
            "backgroundcolor": "#E5ECF6",
            "gridcolor": "white",
            "gridwidth": 2,
            "linecolor": "white",
            "showbackground": true,
            "ticks": "",
            "zerolinecolor": "white"
           },
           "yaxis": {
            "backgroundcolor": "#E5ECF6",
            "gridcolor": "white",
            "gridwidth": 2,
            "linecolor": "white",
            "showbackground": true,
            "ticks": "",
            "zerolinecolor": "white"
           },
           "zaxis": {
            "backgroundcolor": "#E5ECF6",
            "gridcolor": "white",
            "gridwidth": 2,
            "linecolor": "white",
            "showbackground": true,
            "ticks": "",
            "zerolinecolor": "white"
           }
          },
          "shapedefaults": {
           "line": {
            "color": "#2a3f5f"
           }
          },
          "ternary": {
           "aaxis": {
            "gridcolor": "white",
            "linecolor": "white",
            "ticks": ""
           },
           "baxis": {
            "gridcolor": "white",
            "linecolor": "white",
            "ticks": ""
           },
           "bgcolor": "#E5ECF6",
           "caxis": {
            "gridcolor": "white",
            "linecolor": "white",
            "ticks": ""
           }
          },
          "title": {
           "x": 0.05
          },
          "xaxis": {
           "automargin": true,
           "gridcolor": "white",
           "linecolor": "white",
           "ticks": "",
           "title": {
            "standoff": 15
           },
           "zerolinecolor": "white",
           "zerolinewidth": 2
          },
          "yaxis": {
           "automargin": true,
           "gridcolor": "white",
           "linecolor": "white",
           "ticks": "",
           "title": {
            "standoff": 15
           },
           "zerolinecolor": "white",
           "zerolinewidth": 2
          }
         }
        },
        "title": {
         "font": {
          "size": 20
         },
         "text": "<b>Tippwahrscheinlichkeit von Bestellungen mit Tagen seit der letzten Bestellungen</b>",
         "x": 0.475,
         "xanchor": "center",
         "y": 0.935,
         "yanchor": "top"
        },
        "xaxis": {
         "anchor": "y",
         "domain": [
          0,
          0.94
         ],
         "linecolor": "black",
         "ticks": "outside",
         "title": {
          "text": "<b>Tage</b>"
         }
        },
        "yaxis": {
         "anchor": "x",
         "domain": [
          0,
          1
         ],
         "gridcolor": "rgb(240,240,240)",
         "linecolor": "black",
         "showgrid": true,
         "ticks": "outside",
         "title": {
          "text": "<b>Tipp Wshk.</b>"
         }
        },
        "yaxis2": {
         "anchor": "x",
         "gridcolor": "rgb(240,240,240)",
         "linecolor": "black",
         "overlaying": "y",
         "showgrid": false,
         "showline": true,
         "side": "right",
         "ticks": "outside",
         "title": {
          "text": "<b>Orders</b>"
         }
        }
       }
      }
     },
     "metadata": {},
     "output_type": "display_data"
    }
   ],
   "source": [
    "fig = make_subplots(specs=[[{\"secondary_y\": True}]])\n",
    "\n",
    "fig.add_trace(\n",
    "  go.Scatter(\n",
    "    x= df_days_since_prior_order.days_since_prior_order,\n",
    "    y= df_days_since_prior_order.orders_norm,\n",
    "    mode= \"lines+markers\", \n",
    "    marker= dict(color= px.colors.sequential.Greys[4], size= 4),\n",
    "    name= \"Bestellungen\",\n",
    "    fill= \"tozeroy\",\n",
    "    hoverinfo = \"y\",\n",
    "  ),\n",
    "  secondary_y= True\n",
    ")\n",
    "\n",
    "\n",
    "for days_since_prior_order in df_days_since_prior_order.days_since_prior_order:\n",
    "\n",
    " if df_days_since_prior_order[df_days_since_prior_order.days_since_prior_order == days_since_prior_order].tip_norm.values >= 0.5:\n",
    "  color = px.colors.sequential.Purpor[5]\n",
    "  text= df_days_since_prior_order.loc[df_days_since_prior_order.days_since_prior_order == days_since_prior_order].tip_norm.values.round(2)\n",
    "\n",
    "  fig.add_trace(\n",
    "   go.Bar(\n",
    "    x= df_days_since_prior_order.loc[df_days_since_prior_order.days_since_prior_order == days_since_prior_order].days_since_prior_order,\n",
    "    y= df_days_since_prior_order.loc[df_days_since_prior_order.days_since_prior_order == days_since_prior_order].tip_norm,\n",
    "    name= f\"Tipp: {(df_days_since_prior_order.loc[df_days_since_prior_order.days_since_prior_order == days_since_prior_order].tip_norm.values[0] * 100).round(2)}%\",\n",
    "    showlegend= True,\n",
    "    marker= dict(color= color),\n",
    "    width= 0.8,\n",
    "    text= text,\n",
    "    base= 0,\n",
    "    legendgroup= f\"{days_since_prior_order}\",\n",
    "    legendgrouptitle_text= f\"{int(days_since_prior_order)}\",\n",
    "    hovertemplate = f\"<b>{df_days_since_prior_order.loc[df_days_since_prior_order.days_since_prior_order == days_since_prior_order].days_since_prior_order.values[0]}</b><br><br>\" +\n",
    "                \"Tipp: %{y}<br>\" +\n",
    "                \"<extra></extra>\"\n",
    "   ),\n",
    "   secondary_y= False\n",
    "  )\n",
    "\n",
    " elif 0.4 < df_days_since_prior_order.loc[df_days_since_prior_order.days_since_prior_order == days_since_prior_order].tip_norm.values < 0.5:\n",
    "  color= px.colors.sequential.Greys[3]\n",
    "\n",
    "  fig.add_trace(\n",
    "   go.Bar(\n",
    "    x= df_days_since_prior_order.loc[df_days_since_prior_order.days_since_prior_order == days_since_prior_order].days_since_prior_order,\n",
    "    y= df_days_since_prior_order.loc[df_days_since_prior_order.days_since_prior_order == days_since_prior_order].tip_norm,\n",
    "    name= f\"Tipp: {(df_days_since_prior_order.loc[df_days_since_prior_order.days_since_prior_order == days_since_prior_order].tip_norm.values[0] * 100).round(2)}%\",\n",
    "    showlegend= True,\n",
    "    marker= dict(color= color),\n",
    "    width= 0.8,\n",
    "    base= 0,\n",
    "    legendgroup= f\"{days_since_prior_order}\",\n",
    "    legendgrouptitle_text= f\"{int(days_since_prior_order)}\",\n",
    "    hovertemplate = f\"<b>{df_days_since_prior_order.loc[df_days_since_prior_order.days_since_prior_order == days_since_prior_order].days_since_prior_order.values[0]}</b><br><br>\" +\n",
    "                \"Tipp: %{y}<br>\" +\n",
    "                \"<extra></extra>\"\n",
    "   ),\n",
    "   secondary_y= False\n",
    "  )\n",
    "\n",
    " elif 0.3 < df_days_since_prior_order.loc[df_days_since_prior_order.days_since_prior_order == days_since_prior_order].tip_norm.values < 0.4:\n",
    "  color= px.colors.sequential.Greys[2]\n",
    "\n",
    "  fig.add_trace(\n",
    "   go.Bar(\n",
    "    x= df_days_since_prior_order.loc[df_days_since_prior_order.days_since_prior_order == days_since_prior_order].days_since_prior_order,\n",
    "    y= df_days_since_prior_order.loc[df_days_since_prior_order.days_since_prior_order == days_since_prior_order].tip_norm,\n",
    "    name= f\"Tipp: {(df_days_since_prior_order.loc[df_days_since_prior_order.days_since_prior_order == days_since_prior_order].tip_norm.values[0] * 100).round(2)}%\",\n",
    "    showlegend= True,\n",
    "    marker= dict(color= color),\n",
    "    width= 0.8,\n",
    "    base= 0,\n",
    "    legendgroup= f\"{days_since_prior_order}\",\n",
    "    legendgrouptitle_text= f\"{int(days_since_prior_order)}\",\n",
    "    hovertemplate = f\"<b>{df_days_since_prior_order.loc[df_days_since_prior_order.days_since_prior_order == days_since_prior_order].days_since_prior_order.values[0]}</b><br><br>\" +\n",
    "                \"Tipp: %{y}<br>\" +\n",
    "                \"<extra></extra>\"\n",
    "   ),\n",
    "   secondary_y= False\n",
    "  )\n",
    "\n",
    " elif 0.2 < df_days_since_prior_order.loc[df_days_since_prior_order.days_since_prior_order == days_since_prior_order].tip_norm.values < 0.3:\n",
    "  color= px.colors.sequential.Greys[1]\n",
    "  text= df_days_since_prior_order.loc[df_days_since_prior_order.days_since_prior_order == days_since_prior_order].tip_norm.values.round(2)\n",
    "\n",
    "  fig.add_trace(\n",
    "   go.Bar(\n",
    "    x= df_days_since_prior_order.loc[df_days_since_prior_order.days_since_prior_order == days_since_prior_order].days_since_prior_order,\n",
    "    y= df_days_since_prior_order.loc[df_days_since_prior_order.days_since_prior_order == days_since_prior_order].tip_norm,\n",
    "    name= f\"Tipp: {(df_days_since_prior_order.loc[df_days_since_prior_order.days_since_prior_order == days_since_prior_order].tip_norm.values[0] * 100).round(2)}%\",\n",
    "    showlegend= True,\n",
    "    marker= dict(color= color),\n",
    "    width= 0.8,\n",
    "    text= text,\n",
    "    base= 0,\n",
    "    legendgroup= f\"{days_since_prior_order}\",\n",
    "    legendgrouptitle_text= f\"{int(days_since_prior_order)}\",\n",
    "    hovertemplate = f\"<b>{df_days_since_prior_order.loc[df_days_since_prior_order.days_since_prior_order == days_since_prior_order].days_since_prior_order.values[0]}</b><br><br>\" +\n",
    "                \"Tipp: %{y}<br>\" +\n",
    "                \"<extra></extra>\"\n",
    "   ),\n",
    "   secondary_y= False\n",
    "  )\n",
    "\n",
    "\n",
    "fig.update_layout(title= dict(text= \"<b>Tippwahrscheinlichkeit von Bestellungen mit Tagen seit der letzten Bestellungen</b>\", font_size= 20, xanchor= \"center\", yanchor= \"top\", y=0.935, x=0.475), legend_title_text = \"<b>Tage</b>\", height= 570)\n",
    "fig.update_xaxes(title_text=\"<b>Tage</b>\", ticks= \"outside\")\n",
    "fig.update_yaxes(title_text=\"<b>Tipp Wshk.</b>\", ticks= \"outside\", showgrid= True, gridcolor= px.colors.sequential.Greys[1])\n",
    "fig.update_yaxes(title_text=\"<b>Orders</b>\", ticks= \"outside\", showgrid= False, secondary_y= True, showline= True, linecolor= \"black\")\n",
    "fig.update_layout(plot_bgcolor= \"white\", xaxis= dict(linecolor= \"black\"), yaxis= dict(linecolor= \"black\"))\n",
    "fig.show()"
   ]
  },
  {
   "attachments": {},
   "cell_type": "markdown",
   "metadata": {},
   "source": [
    "- Bestellungen die 7 Tage nach der vorherigen erfolgen haben die höchste Trinkgeldwahrscheinlichkeit\n",
    "\n",
    "- Die Tippwahrscheinlichtkeit sinkt je mit der Anzahl an Tagen die zwischen den Bestellungen liegen, steigt jedoch periodisch alle 7 Tage wieder leicht an "
   ]
  },
  {
   "attachments": {},
   "cell_type": "markdown",
   "metadata": {},
   "source": [
    "#### Attribut: department"
   ]
  },
  {
   "attachments": {},
   "cell_type": "markdown",
   "metadata": {},
   "source": [
    "- Gruppieren der Produkte jeder Bestellung nachedem aus welchem department sie stammen   "
   ]
  },
  {
   "cell_type": "code",
   "execution_count": null,
   "metadata": {},
   "outputs": [],
   "source": [
    "df_dep = df_p3.groupby([\"department\", \"order_id\"], as_index= False).agg(tip_mean= (\"tip\", \"mean\"), all= (\"order_id\", \"count\"))\n",
    "df_dep1 = df_dep.groupby(\"department\", as_index= False).agg(tip = (\"tip_mean\", \"sum\"), orders= (\"order_id\", \"nunique\"))\n",
    "df_dep1[\"tip_norm\"] = df_dep1.tip / df_dep1.orders\n",
    "df_dep1[\"orders_norm\"] = df_dep1.orders / df_dep1.orders.sum()\n",
    "df_dep2 = df_dep1.sort_values(by= \"tip_norm\", ascending= False)"
   ]
  },
  {
   "cell_type": "code",
   "execution_count": null,
   "metadata": {},
   "outputs": [],
   "source": [
    "df_dep2.head()"
   ]
  },
  {
   "attachments": {},
   "cell_type": "markdown",
   "metadata": {},
   "source": [
    "**Plotten der Trinkgeldwahrscheinlichkeit der Departments**"
   ]
  },
  {
   "cell_type": "code",
   "execution_count": null,
   "metadata": {},
   "outputs": [],
   "source": [
    "# Plot P3: Department\n",
    "\n",
    "fig1 = make_subplots(cols= 1, rows= 2, shared_xaxes= True, shared_yaxes= False, vertical_spacing= 0)\n",
    "\n",
    "for department in df_dep2.department:\n",
    "\n",
    " if df_dep2[df_dep2.department == department].tip_norm.values >= 0.5:\n",
    "  color = px.colors.sequential.Purpor[5]\n",
    "  text= df_dep2.loc[df_dep2.department == department].tip_norm.values.round(3)\n",
    "\n",
    "  fig1.add_trace(\n",
    "   go.Bar(\n",
    "    x= df_dep2.loc[df_dep2.department == department].department,\n",
    "    y= df_dep2.loc[df_dep2.department == department].tip_norm,\n",
    "    name= f\"Tipp: {(df_dep2.loc[df_dep2.department == department].tip_norm.values[0] * 100).round(2)}%\",\n",
    "    showlegend= True,\n",
    "    marker= dict(color= color),\n",
    "    width= 0.8,\n",
    "    text= text,\n",
    "    base= 0,\n",
    "    legendgroup= f\"{department}\",\n",
    "    legendgrouptitle_text = f\"{department}\",\n",
    "    hovertemplate = f\"<b>{df_dep2.loc[df_dep2.department == department].department.values[0]}</b><br><br>\" +\n",
    "                \"Tipp: %{y}<br>\" +\n",
    "                \"<extra></extra>\"\n",
    "   ),\n",
    "   col= 1,\n",
    "   row= 1\n",
    "  )\n",
    "\n",
    "  fig1.add_trace(\n",
    "   go.Bar(\n",
    "    x= df_dep2.loc[df_dep2.department == department].department,\n",
    "    y= df_dep2.loc[df_dep2.department == department].orders_norm,\n",
    "    name= f\"Orders: {(df_dep2.loc[df_dep2.department == department].orders_norm.values[0] * 100).round(3)}%\",\n",
    "    base = -df_dep2.loc[df_dep2.department == department].orders_norm,\n",
    "    showlegend= True,\n",
    "    marker= dict(color= color),\n",
    "    width= 0.8,\n",
    "    legendgroup= f\"{department}\",\n",
    "    legendgrouptitle_text = f\"{department}\",\n",
    "    hovertemplate = f\"<b>{df_dep2.loc[df_dep2.department == department].department.values[0]}</b><br><br>\" +\n",
    "                \"Orders: %{base}<br>\" +\n",
    "                \"<extra></extra>\"\n",
    "   ),\n",
    "   col= 1,\n",
    "   row= 2\n",
    "  )\n",
    "\n",
    " elif 0.4 < df_dep2.loc[df_dep2.department == department].tip_norm.values < 0.5:\n",
    "  color= px.colors.sequential.Greys[3]\n",
    "\n",
    "  fig1.add_trace(\n",
    "   go.Bar(\n",
    "    x= df_dep2.loc[df_dep2.department == department].department,\n",
    "    y= df_dep2.loc[df_dep2.department == department].tip_norm,\n",
    "    name= f\"Tipp: {(df_dep2.loc[df_dep2.department == department].tip_norm.values[0] * 100).round(2)}%\",\n",
    "    showlegend= True,\n",
    "    marker= dict(color= color),\n",
    "    width= 0.8,\n",
    "    base= 0,\n",
    "    legendgroup= f\"{department}\",\n",
    "    legendgrouptitle_text = f\"{department}\",\n",
    "    hovertemplate = f\"<b>{df_dep2.loc[df_dep2.department == department].department.values[0]}</b><br><br>\" +\n",
    "                \"Tipp: %{y}<br>\" +\n",
    "                \"<extra></extra>\"\n",
    "   ),\n",
    "   col= 1,\n",
    "   row= 1\n",
    "  )\n",
    "\n",
    "  fig1.add_trace(\n",
    "   go.Bar(\n",
    "    x= df_dep2.loc[df_dep2.department == department].department,\n",
    "    y= df_dep2.loc[df_dep2.department == department].orders_norm,\n",
    "    name= f\"Orders: {(df_dep2.loc[df_dep2.department == department].orders_norm.values[0] * 100).round(3)}%\",\n",
    "    base = -df_dep2.loc[df_dep2.department == department].orders_norm,\n",
    "    showlegend= True,\n",
    "    marker= dict(color= color),\n",
    "    width= 0.8,\n",
    "    legendgroup= f\"{department}\",\n",
    "    legendgrouptitle_text = f\"{department}\",\n",
    "    hovertemplate = f\"<b>{df_dep2.loc[df_dep2.department == department].department.values[0]}</b><br><br>\" +\n",
    "                \"Orders: %{base}<br>\" +\n",
    "                \"<extra></extra>\"\n",
    "   ),\n",
    "   col= 1,\n",
    "   row= 2\n",
    "  )\n",
    "\n",
    " elif 0.3 < df_dep2.loc[df_dep2.department == department].tip_norm.values < 0.4:\n",
    "  color= px.colors.sequential.Greys[2]\n",
    "\n",
    "  fig1.add_trace(\n",
    "   go.Bar(\n",
    "    x= df_dep2.loc[df_dep2.department == department].department,\n",
    "    y= df_dep2.loc[df_dep2.department == department].tip_norm,\n",
    "    name= f\"Tipp: {(df_dep2.loc[df_dep2.department == department].tip_norm.values[0] * 100).round(2)}%\",\n",
    "    showlegend= True,\n",
    "    marker= dict(color= color),\n",
    "    width= 0.8,\n",
    "    base= 0,\n",
    "    legendgroup= f\"{department}\",\n",
    "    legendgrouptitle_text = f\"{department}\",\n",
    "    hovertemplate = f\"<b>{df_dep2.loc[df_dep2.department == department].department.values[0]}</b><br><br>\" +\n",
    "                \"Tipp: %{y}<br>\" +\n",
    "                \"<extra></extra>\"\n",
    "   ),\n",
    "   col= 1,\n",
    "   row= 1\n",
    "  )\n",
    "\n",
    "  fig1.add_trace(\n",
    "   go.Bar(\n",
    "    x= df_dep2.loc[df_dep2.department == department].department,\n",
    "    y= df_dep2.loc[df_dep2.department == department].orders_norm,\n",
    "    name= f\"Orders: {(df_dep2.loc[df_dep2.department == department].orders_norm.values[0] * 100).round(3)}%\",\n",
    "    base = -df_dep2.loc[df_dep2.department == department].orders_norm,\n",
    "    showlegend= True,\n",
    "    marker= dict(color= color),\n",
    "    width= 0.8,\n",
    "    legendgroup= f\"{department}\",\n",
    "    legendgrouptitle_text = f\"{department}\",\n",
    "    hovertemplate = f\"<b>{df_dep2.loc[df_dep2.department == department].department.values[0]}</b><br><br>\" +\n",
    "                \"Orders: %{base}<br>\" +\n",
    "                \"<extra></extra>\"\n",
    "   ),\n",
    "   col= 1,\n",
    "   row= 2\n",
    "  )\n",
    "\n",
    "fig1.add_hline(\n",
    " y= 0,\n",
    " opacity= 0.3,\n",
    " line_dash= \"solid\",\n",
    " line_color= \"grey\",\n",
    " col= 1,\n",
    " row= 1\n",
    ")\n",
    "\n",
    "fig1.add_hline(\n",
    " y= 0,\n",
    " opacity= 0.3,\n",
    " line_dash= \"solid\",\n",
    " line_color= \"grey\",\n",
    " col= 1,\n",
    " row= 2\n",
    ")\n",
    "\n",
    "fig1.add_vline(\n",
    " x= -1,\n",
    " opacity= 0.8,\n",
    " line_dash= \"solid\",\n",
    " line_color= \"black\",\n",
    " col= 1,\n",
    " row= 2\n",
    ")\n",
    "\n",
    "fig1.add_vline(\n",
    " x= -1,\n",
    " opacity= 0.8,\n",
    " line_dash= \"solid\",\n",
    " line_color= \"black\",\n",
    " col= 1,\n",
    " row= 1\n",
    ")\n",
    "\n",
    "fig1.add_hline(\n",
    " y= -0.18,\n",
    " opacity= 0.8,\n",
    " line_dash= \"solid\",\n",
    " line_color= \"black\",\n",
    " col= 1,\n",
    " row= 2\n",
    ")\n",
    "\n",
    "fig1.update_annotations(opacity= 0.8)\n",
    "fig1.update_layout(title= dict(text= \"<b>Tippwahrscheinlichkeit der Departments</b>\", font_size= 20, xanchor= \"center\", yanchor= \"top\", y=0.935, x=0.475), legend_title_text = \"<b>Departments</b>\", height= 700)\n",
    "fig1.update_xaxes(title_text=\"<b>Departments</b>\", ticks= \"outside\", col= 1, row= 2)\n",
    "fig1.update_xaxes(showline= False, col= 1, row= 1)\n",
    "fig1.update_yaxes(title_text=\"<b>Tipp Wshk.</b>\", ticks= \"outside\", showgrid= True, gridcolor= \"grey\", col= 1, row= 1, showline= False)\n",
    "fig1.update_yaxes(title_text=\"<b>Order Anteil</b>\", ticks= \"outside\", showgrid= True, gridcolor= \"grey\", col= 1, row= 2)\n",
    "fig1.update_layout(plot_bgcolor= \"white\", xaxis= dict(linecolor= \"black\"), yaxis= dict(linecolor= \"black\"))\n",
    "fig1.show()"
   ]
  },
  {
   "attachments": {},
   "cell_type": "markdown",
   "metadata": {},
   "source": [
    "- Bestellungen die Produkte aus den Departments alcohol, breakfast, babies, bulk und snacks enthalten haben eine Trinkgeldwahrscheinlichkeit > 50%"
   ]
  },
  {
   "attachments": {},
   "cell_type": "markdown",
   "metadata": {},
   "source": [
    "#### Attribut: add_to_cart_order"
   ]
  },
  {
   "attachments": {},
   "cell_type": "markdown",
   "metadata": {},
   "source": [
    "- Gruppieren der Bestellungen nach ihrer Bestellgröße und anschließend unterteilen in Intervalle"
   ]
  },
  {
   "cell_type": "code",
   "execution_count": null,
   "metadata": {},
   "outputs": [],
   "source": [
    "df_1 = df.groupby([\"order_id\"], as_index= False).agg(order_size= (\"add_to_cart_order\", \"max\"), tip= (\"tip\", \"mean\"))\n",
    "df_2 = df_1.groupby([\"order_size\"], as_index= False).agg(tip= (\"tip\", \"sum\"), orders= (\"order_id\", \"nunique\"))\n",
    "df_2[\"tip_norm\"] = df_2.tip / df_2.orders\n",
    "df_2[\"orders_norm\"] = df_2.orders / df_2.orders.sum()\n",
    "df_2.head()"
   ]
  },
  {
   "cell_type": "code",
   "execution_count": null,
   "metadata": {},
   "outputs": [],
   "source": [
    "ordersize_bins = [1, 5, 10, 15, 20, 25, 30, 35, 150]\n",
    "df_2[\"order_size_cut\"] = pd.cut(df_2[\"order_size\"], bins= ordersize_bins, include_lowest= True)"
   ]
  },
  {
   "cell_type": "code",
   "execution_count": null,
   "metadata": {},
   "outputs": [],
   "source": [
    "df_2_cut = df_2.groupby([\"order_size_cut\"], as_index= False).agg(tip= (\"tip\", \"sum\"), tip_norm= (\"tip_norm\", \"mean\"), orders= (\"orders\", \"sum\"),)\n",
    "df_2_cut[\"orders_norm\"] = (df_2_cut.orders / df_2_cut.orders.sum()).round(5)\n",
    "df_2_cut[\"tip_norm\"] = df_2_cut.tip_norm.round(3)\n",
    "df_2_cut[\"order_size_cut\"] = df_2_cut.order_size_cut.astype(\"str\")\n",
    "df_2_cut"
   ]
  },
  {
   "attachments": {},
   "cell_type": "markdown",
   "metadata": {},
   "source": [
    "**Plotten der Trinkgeldwahrscheinlichkeit anhand der Bestellgröße**"
   ]
  },
  {
   "cell_type": "code",
   "execution_count": null,
   "metadata": {},
   "outputs": [],
   "source": [
    "# Plot P3: Order_size\n",
    "\n",
    "fig = make_subplots(cols= 1, rows=2, specs= [[dict(type= \"table\")], [dict(type= \"bar\")]], vertical_spacing= 0.03)\n",
    "\n",
    "fig.add_trace(\n",
    "  go.Table(\n",
    "    columnorder= [1, 2, 3, 4, 5],\n",
    "    columnwidth= [1, 1, 1, 1, 1],\n",
    "    header=dict(\n",
    "        values= list(df_2_cut.columns),\n",
    "        fill_color= px.colors.sequential.Purpor[5],\n",
    "        line_color= px.colors.sequential.Greys[2],\n",
    "        font= dict(color= \"white\", size=15),\n",
    "        height= 35\n",
    "        ),\n",
    "    cells=dict(\n",
    "        values= df_2_cut.T.values,\n",
    "        fill_color= \"white\",\n",
    "        line_color= px.colors.sequential.Greys[2],\n",
    "        font= dict(color= \"black\", size=13),\n",
    "        align= \"center\",\n",
    "        height= 30\n",
    "        )\n",
    "    ),\n",
    "    col= 1,\n",
    "    row= 1\n",
    ")\n",
    "\n",
    "\n",
    "for interval in df_2_cut.order_size_cut.unique():\n",
    "\n",
    " if df_2_cut.loc[df_2_cut.order_size_cut == interval].tip_norm.values >= 0.5:\n",
    "  color = px.colors.sequential.Purpor[5]\n",
    "  text= df_2_cut.loc[df_2_cut.order_size_cut == interval].tip_norm.values\n",
    "\n",
    "  fig.add_trace(\n",
    "   go.Bar(\n",
    "    x= df_2_cut.loc[df_2_cut.order_size_cut == interval].order_size_cut.values,\n",
    "    y= df_2_cut.loc[df_2_cut.order_size_cut == interval].tip_norm.values,\n",
    "    name= f\"Tipp: {(df_2_cut.loc[df_2_cut.order_size_cut == interval].tip_norm.values[0] * 100).round(2)}%\",\n",
    "    showlegend= True,\n",
    "    marker= dict(color= color),\n",
    "    width= 0.8,\n",
    "    text = text,\n",
    "    legendgroup= f\"{interval}\",\n",
    "    legendgrouptitle_text = f\"{interval}\",\n",
    "    hovertemplate = f\"<b>{interval}</b><br><br>\" +\n",
    "        \"Tipp: %{y:.0%}<br>\" +\n",
    "        \"<extra></extra>\",\n",
    "   ),\n",
    "  )\n",
    "\n",
    " else:\n",
    "  color = px.colors.sequential.Greys[3]\n",
    "\n",
    "  fig.add_trace(\n",
    "   go.Bar(\n",
    "    x= df_2_cut.loc[df_2_cut.order_size_cut == interval].order_size_cut.values,\n",
    "    y= df_2_cut.loc[df_2_cut.order_size_cut == interval].tip_norm.values,\n",
    "    name= f\"Tipp: {(df_2_cut.loc[df_2_cut.order_size_cut == interval].tip_norm.values[0] * 100).round(2)}%\",\n",
    "    showlegend= True,\n",
    "    marker= dict(color= color),\n",
    "    width= 0.8,\n",
    "    legendgroup= f\"{interval}\",\n",
    "    legendgrouptitle_text = f\"{interval}\",\n",
    "    hovertemplate = f\"<b>{interval}</b><br><br>\" +\n",
    "        \"Tipp: %{y:.0%}<br>\" +\n",
    "        \"<extra></extra>\",\n",
    "   ),\n",
    "  )\n",
    "\n",
    "\n",
    "fig.update_layout(title= dict(text= \"<b>Tippwahrscheinlichkeit jeder Bestellungsgröße</b>\", font_size= 20, xanchor= \"center\", yanchor= \"top\", y=0.935, x=0.475), legend_title_text = \"<b>Bestellgröße</b>\", height= 800)\n",
    "fig.update_xaxes(title_text=\"<b>Bestellgröße in Intervallen</b>\", ticks= \"outside\", col= 1, row= 2, showline= True)\n",
    "fig.update_yaxes(title_text=\"<b>Tipp Wshk.</b>\", ticks= \"outside\", showgrid= True, gridcolor= \"grey\", col= 1, row= 2, showline= True, tickvals= [0, 0.25, 0.5, 0.75])\n",
    "fig.update_layout(plot_bgcolor= \"white\", xaxis= dict(linecolor= \"black\"), yaxis= dict(linecolor= \"black\"))\n",
    "\n",
    "fig.show()"
   ]
  },
  {
   "attachments": {},
   "cell_type": "markdown",
   "metadata": {},
   "source": [
    "- Bestellungen mit ab einer Bestellgröße von >25 haben eine Trinkgeldwahrscheinlichkeit von >= 50%\n",
    "\n",
    "- Das Maximum der Trinkgeldwahrscheinlichkeit liegt bei  Bestellungen mit einer Bestellgröße von 35 bis 150 Produkten, dabei sei gesagt, dass Intervall größer ist, da in diesem sich nur 0.1% der Bestelldaten befinden"
   ]
  },
  {
   "attachments": {},
   "cell_type": "markdown",
   "metadata": {},
   "source": [
    "### **P4:** Spielt die Vergangenheit eines Users eine Rolle in Hinblick auf die Trinkgeldwahrscheinlichkeit, oder kommt es nur auf Inhalt und Parameter der aktuellen Bestellung an?"
   ]
  },
  {
   "attachments": {},
   "cell_type": "markdown",
   "metadata": {},
   "source": [
    "- Gruppieren der Bestellungen nach User und identifizierend der aktuellen Bestellung pro User\n",
    "\n",
    "- User Trinkgeldwahrscheinlichkeit aus ihrer Bestellhistorie berechnen und mit der Trinkgeldgabe ihrer aktuellen Bestellung vergleichen "
   ]
  },
  {
   "attachments": {},
   "cell_type": "markdown",
   "metadata": {},
   "source": [
    "##### Preprocessing"
   ]
  },
  {
   "cell_type": "code",
   "execution_count": null,
   "metadata": {},
   "outputs": [],
   "source": [
    "df_user_hist = df.copy()"
   ]
  },
  {
   "cell_type": "code",
   "execution_count": null,
   "metadata": {},
   "outputs": [],
   "source": [
    "df_user_hist = df_user_hist.sort_values(by= [\"user_id\", \"order_number\"], ascending= True)\n",
    "df_user = df_user_hist.groupby(\"user_id\", as_index= False).agg(orders = (\"order_id\", \"unique\"), reordered= (\"reordered\", \"mean\"), tip= (\"tip\", \"mean\"), order_number= (\"order_number\", \"unique\"))\n",
    "df_user.head()"
   ]
  },
  {
   "cell_type": "code",
   "execution_count": null,
   "metadata": {},
   "outputs": [],
   "source": [
    "last_orders = []\n",
    "\n",
    "for ind, order in enumerate(df_user.orders):\n",
    " last_orders.append(df_user.orders[ind][-1])\n",
    "\n",
    "df_user_hist.drop(df_user_hist.loc[df_user_hist.order_id.isin(last_orders)].index, inplace= True)"
   ]
  },
  {
   "cell_type": "code",
   "execution_count": null,
   "metadata": {},
   "outputs": [],
   "source": [
    "df_userh = df_user_hist.groupby(\"user_id\", as_index= False).agg(orders = (\"order_id\", \"nunique\"), reordered= (\"reordered\", \"mean\"), tip= (\"tip\", \"mean\"))\n",
    "df_userh.head()"
   ]
  },
  {
   "cell_type": "code",
   "execution_count": null,
   "metadata": {},
   "outputs": [],
   "source": [
    "df_last_order = df.loc[df.order_id.isin(last_orders)].groupby(\"user_id\").agg(tip_last_order= (\"tip\", \"max\"), last_order_id = (\"order_id\", \"max\")).reset_index()\n",
    "df_last_order.head()"
   ]
  },
  {
   "cell_type": "code",
   "execution_count": null,
   "metadata": {},
   "outputs": [],
   "source": [
    "df_userh = df_userh.merge(df_last_order, how= \"right\", on= \"user_id\")\n",
    "df_userh.head()"
   ]
  },
  {
   "attachments": {},
   "cell_type": "markdown",
   "metadata": {},
   "source": [
    "##### Analyse"
   ]
  },
  {
   "attachments": {},
   "cell_type": "markdown",
   "metadata": {},
   "source": [
    "**Bestellungen bei welcher der user eine tip_wshk von >= 0.5 hat verglichen mit seiner letzten/aktuellen Bestellung**\n",
    "\n",
    "\n",
    "Unter der Annahme, dass wenn die tip_wshk eines users in der historie >= 0.5 ist, tendiert er eher dazu zu tippen bei seiner letzten/aktuellen Bestellung"
   ]
  },
  {
   "attachments": {},
   "cell_type": "markdown",
   "metadata": {},
   "source": [
    "**trifft zu:**"
   ]
  },
  {
   "cell_type": "code",
   "execution_count": null,
   "metadata": {},
   "outputs": [],
   "source": [
    "df_userh.loc[(df_userh.tip >= 0.5) & (df_userh.tip_last_order == 1)].head()"
   ]
  },
  {
   "cell_type": "code",
   "execution_count": null,
   "metadata": {},
   "outputs": [],
   "source": [
    "case1_true = 7685 / 37367\n",
    "case1_true"
   ]
  },
  {
   "attachments": {},
   "cell_type": "markdown",
   "metadata": {},
   "source": [
    "**trifft nicht zu:**"
   ]
  },
  {
   "cell_type": "code",
   "execution_count": null,
   "metadata": {},
   "outputs": [],
   "source": [
    "df_userh.loc[(df_userh.tip >= 0.5) & (df_userh.tip_last_order == 0)].head() "
   ]
  },
  {
   "cell_type": "code",
   "execution_count": null,
   "metadata": {},
   "outputs": [],
   "source": [
    "case1_false = 4181 / 37367\n",
    "case1_false"
   ]
  },
  {
   "attachments": {},
   "cell_type": "markdown",
   "metadata": {},
   "source": [
    "**Bestellungen bei welcher der user eine tip_wshk von < 0.5 hat verglichen mit seiner letzten/aktuellen Bestellung**\n",
    "\n",
    "Unter der Annahme, dass wenn die tip_wshk eines users in der historie < 0.5 ist, tendiert er eher dazu nicht zu tippen bei seiner letzten/aktuellen Bestellung"
   ]
  },
  {
   "attachments": {},
   "cell_type": "markdown",
   "metadata": {},
   "source": [
    "**trifft zu:**"
   ]
  },
  {
   "cell_type": "code",
   "execution_count": null,
   "metadata": {},
   "outputs": [],
   "source": [
    "df_userh.loc[(df_userh.tip < 0.5) & (df_userh.tip_last_order == 0)].head()"
   ]
  },
  {
   "cell_type": "code",
   "execution_count": null,
   "metadata": {},
   "outputs": [],
   "source": [
    "case2_true = 20635 / 37367\n",
    "case2_true"
   ]
  },
  {
   "attachments": {},
   "cell_type": "markdown",
   "metadata": {},
   "source": [
    "**trifft nicht zu:**"
   ]
  },
  {
   "cell_type": "code",
   "execution_count": null,
   "metadata": {},
   "outputs": [],
   "source": [
    "df_userh.loc[(df_userh.tip < 0.5) & (df_userh.tip_last_order == 1)].head() "
   ]
  },
  {
   "cell_type": "code",
   "execution_count": null,
   "metadata": {},
   "outputs": [],
   "source": [
    "case2_false = 4866 / 37367\n",
    "case2_false"
   ]
  },
  {
   "cell_type": "code",
   "execution_count": null,
   "metadata": {},
   "outputs": [],
   "source": [
    "print(f\"Wahrscheinlichkeit Trifft zu: {case1_true + case2_true}, Wahrscheinlichlkeit Trifft nicht zu: {case1_false + case2_false}\")"
   ]
  },
  {
   "attachments": {},
   "cell_type": "markdown",
   "metadata": {},
   "source": [
    "##### Preprocessing und Feature Importance "
   ]
  },
  {
   "attachments": {},
   "cell_type": "markdown",
   "metadata": {},
   "source": [
    "- Um zu belegen das die Vergangenheit eines Users die Trinkgeldwahrscheinlichkeit seiner aktuellen Bestellung beeinlfusst wird der Dataframe in zwei Datensätze unterteilt.   \n",
    "\n",
    "- Im Ersten sind alle Bestellung der Historie eines Users und im Zweiten befinden sich nur die aktuellen Bestellungen eines Users.  \n",
    "\n",
    "- Das Feature user_tip_ratio wird erstellt, welches die Tippwahrscheinlichkeit jedes Users bis Zeitpunkt seiner aktuellen Bestellung angibt.    \n",
    "\n",
    "- Auf dem ersten Datensatz wird nun ein Entscheidungsbaum als Classifier trainiert der die Wahrscheinlichkeit, dass eine Bestellung einen Tipp erhält, (tip: 0/1) auf dem zweiten Datensatz (die aktuellen Bestellungen) versucht hervorzusagen. "
   ]
  },
  {
   "cell_type": "code",
   "execution_count": null,
   "metadata": {},
   "outputs": [],
   "source": [
    "# Funktion für die Print-Ausgabe des Classifiers\n",
    "\n",
    "def print_evaluation(pipeline_or_model: str, X_train, X_test, y_train, y_test, y_train_pred, y_test_pred):\n",
    "    accurary_train = accuracy_score(y_train, y_train_pred)\n",
    "    recall_train = recall_score(y_train, y_train_pred)\n",
    "    precision_train = precision_score(y_train, y_train_pred)\n",
    "\n",
    "    accurary_test = accuracy_score(y_test, y_test_pred)\n",
    "    recall_test = recall_score(y_test, y_test_pred)\n",
    "    precision_test = precision_score(y_test, y_test_pred)\n",
    "    \n",
    "    print(\n",
    "        f\"{pipeline_or_model} Evaluation:\\n\"\n",
    "        f\"{'':6} {'ACC':>10} | {'REC':>14} | {'PRE':>10} | {'rows':>8} | {'columns':>8}\\n\"\n",
    "        f\"{'Train':6} {accurary_train:10.5f} | {recall_train:14.5f} | {precision_train:10.5f} | {X_train.shape[0]:8} | {X_train.shape[1]:8}\\n\"\n",
    "        f\"{'Test':6} {accurary_test:10.5f} | {recall_test:14.5f} | {precision_test:10.5f} | {X_test.shape[0]:8} | {X_test.shape[1]:8}\\n\"\n",
    "    )"
   ]
  },
  {
   "attachments": {},
   "cell_type": "markdown",
   "metadata": {},
   "source": [
    "**Bestimmen der letzten/aktuellen Bestellung eines Users**"
   ]
  },
  {
   "cell_type": "code",
   "execution_count": null,
   "metadata": {},
   "outputs": [],
   "source": [
    "df_userhh = df.copy()\n",
    "\n",
    "df_userhh1 = df_userhh.sample(frac= 0.1)\n",
    "\n",
    "df_userhh2 = df_userhh1.sort_values(by= [\"user_id\", \"order_number\"], ascending= True)\n",
    "df_userh1 = df_userhh2.groupby(\"user_id\", as_index= False).agg(orders = (\"order_id\", \"unique\"), tip= (\"tip\", \"mean\"), order_number= (\"order_number\", \"unique\"))\n",
    "\n",
    "last_orders = []\n",
    "for ind, order in enumerate(df_userh1.orders):\n",
    " last_orders.append(df_userh1.orders[ind][-1])"
   ]
  },
  {
   "attachments": {},
   "cell_type": "markdown",
   "metadata": {},
   "source": [
    "**Aufteilen des Dataframes in Bestellungen aus der Vergangenheit und aktuelle Bestellungen**"
   ]
  },
  {
   "cell_type": "code",
   "execution_count": null,
   "metadata": {},
   "outputs": [],
   "source": [
    "df1 = df_userhh1.copy()"
   ]
  },
  {
   "cell_type": "code",
   "execution_count": null,
   "metadata": {},
   "outputs": [],
   "source": [
    "df_last_orders = df1.loc[df1.order_id.isin(last_orders)]"
   ]
  },
  {
   "cell_type": "code",
   "execution_count": null,
   "metadata": {},
   "outputs": [],
   "source": [
    "df1.drop(df1.loc[df1.order_id.isin(last_orders)].index, inplace= True)\n",
    "df_tip = df1.groupby([\"user_id\"], as_index= False).agg(user_tip_ratio = (\"tip\", \"mean\"))\n",
    "df_tip.head()"
   ]
  },
  {
   "attachments": {},
   "cell_type": "markdown",
   "metadata": {},
   "source": [
    "**Zusammenstellen des Trainings und Testdatensatzes**"
   ]
  },
  {
   "cell_type": "code",
   "execution_count": null,
   "metadata": {},
   "outputs": [],
   "source": [
    "df1 = df1.merge(df_tip, on= \"user_id\", how= \"right\")\n",
    "df_last_orders = df_last_orders.merge(df_tip, on= \"user_id\", how= \"right\")"
   ]
  },
  {
   "attachments": {},
   "cell_type": "markdown",
   "metadata": {},
   "source": [
    "**Trainingsdatensatz (Bestellungen vor der aktuelle Bestellung des Users):**"
   ]
  },
  {
   "cell_type": "code",
   "execution_count": null,
   "metadata": {},
   "outputs": [],
   "source": [
    "df1"
   ]
  },
  {
   "attachments": {},
   "cell_type": "markdown",
   "metadata": {},
   "source": [
    "**Testdatensatz (aktuelle Bestellungen eines Users):**"
   ]
  },
  {
   "cell_type": "code",
   "execution_count": null,
   "metadata": {},
   "outputs": [],
   "source": [
    "df_last_orders"
   ]
  },
  {
   "attachments": {},
   "cell_type": "markdown",
   "metadata": {},
   "source": [
    "**One Hot Encoding der Spalte days_since_prior_order, da NAN-Values**"
   ]
  },
  {
   "attachments": {},
   "cell_type": "markdown",
   "metadata": {},
   "source": [
    "- müssen geändert werden da die Methode DeecisionTreeClassifier nicht mit NAN-Werten umgehen kann"
   ]
  },
  {
   "cell_type": "code",
   "execution_count": null,
   "metadata": {},
   "outputs": [],
   "source": [
    "df_train = pd.get_dummies(df1, columns= [\"county\", \"days_since_prior_order\"], dummy_na= True)"
   ]
  },
  {
   "cell_type": "code",
   "execution_count": null,
   "metadata": {},
   "outputs": [],
   "source": [
    "df_test = pd.get_dummies(df_last_orders, columns= [\"county\", \"days_since_prior_order\"], dummy_na= True)"
   ]
  },
  {
   "attachments": {},
   "cell_type": "markdown",
   "metadata": {},
   "source": [
    "##### Entscheidungsbaum und Feature Importance"
   ]
  },
  {
   "attachments": {},
   "cell_type": "markdown",
   "metadata": {},
   "source": [
    "- Trainings- und Testdatensplit"
   ]
  },
  {
   "cell_type": "code",
   "execution_count": null,
   "metadata": {},
   "outputs": [],
   "source": [
    "df_train.drop([\"product_name\", \"department\", \"aisle\"], axis= 1, inplace= True)\n",
    "df_test.drop([\"product_name\", \"department\", \"aisle\"], axis= 1, inplace= True)"
   ]
  },
  {
   "cell_type": "code",
   "execution_count": null,
   "metadata": {},
   "outputs": [],
   "source": [
    "features_Xtrain = df_train.columns.to_list()\n",
    "features_Xtrain.remove(\"tip\")"
   ]
  },
  {
   "cell_type": "code",
   "execution_count": null,
   "metadata": {},
   "outputs": [],
   "source": [
    "features_Xtest = df_test.columns.to_list()\n",
    "features_Xtest.remove(\"tip\")"
   ]
  },
  {
   "cell_type": "code",
   "execution_count": null,
   "metadata": {},
   "outputs": [],
   "source": [
    "X_train, y_train = df_train[features_Xtrain], df_train[\"tip\"]"
   ]
  },
  {
   "cell_type": "code",
   "execution_count": null,
   "metadata": {},
   "outputs": [],
   "source": [
    "X_test, y_test = df_test[features_Xtest], df_test.pop(\"tip\")"
   ]
  },
  {
   "attachments": {},
   "cell_type": "markdown",
   "metadata": {},
   "source": [
    "- Mittels einer 5-fachen Kreuzvaliedierung und Hyperparameteroptimierung wird die Beste Kombination zwischen Baumtiefe (max_depth) und minimaler Anzahl an benötigter Beispiele für einen Split (min_samples_split) gesucht"
   ]
  },
  {
   "cell_type": "code",
   "execution_count": null,
   "metadata": {},
   "outputs": [],
   "source": [
    "gs_crossv = GridSearchCV(\n",
    " estimator= DecisionTreeClassifier(),\n",
    " param_grid= dict(min_samples_split= [2, 10, 20, 50, 100], max_depth= [1, 3, 6], random_state= [0]),\n",
    " scoring = \"accuracy\",\n",
    " n_jobs= -1,\n",
    " cv= 5\n",
    ").fit(X_train, y_train)\n",
    "\n",
    "print(f\"Best parameters: {gs_crossv.best_params_}, with score: {gs_crossv.best_score_}\")"
   ]
  },
  {
   "cell_type": "code",
   "execution_count": null,
   "metadata": {},
   "outputs": [],
   "source": [
    "dtc2 = DecisionTreeClassifier(min_samples_split= 2, max_depth= 6, random_state= 0).fit(X_train, y_train)\n",
    "\n",
    "y_pred_train_best_dtc2 = dtc2.predict(X_train)\n",
    "y_pred_test_best_dtc2 = dtc2.predict(X_test)\n",
    "\n",
    "print_evaluation(\"DTC\", X_train, X_test, y_train, y_test, y_pred_train_best_dtc2, y_pred_test_best_dtc2)"
   ]
  },
  {
   "attachments": {},
   "cell_type": "markdown",
   "metadata": {},
   "source": [
    "**Das Modell schneidet in der Evaluation besser ab, als das Basismodell ohne Feature Engineering in P3**"
   ]
  },
  {
   "cell_type": "code",
   "execution_count": null,
   "metadata": {},
   "outputs": [],
   "source": [
    "print(f\"Feature Importance: {dict(zip(X_train.columns, dtc2.feature_importances_))}\")"
   ]
  },
  {
   "cell_type": "code",
   "execution_count": null,
   "metadata": {},
   "outputs": [],
   "source": [
    "feature_importances_p4 = pd.DataFrame.from_dict(dict(zip(X_train.columns, dtc2.feature_importances_)), orient= \"index\", columns= [\"feature_importance\"])\n",
    "\n",
    "feature_importances_sorted = feature_importances_p4.sort_values(by= \"feature_importance\", ascending= True).tail(9)\n",
    "df_feature_imp_p4 = feature_importances_sorted.reset_index().rename(columns= {\"index\": \"feature\"})"
   ]
  },
  {
   "cell_type": "code",
   "execution_count": null,
   "metadata": {},
   "outputs": [],
   "source": [
    "df_feature_imp_p4"
   ]
  },
  {
   "cell_type": "code",
   "execution_count": null,
   "metadata": {},
   "outputs": [],
   "source": [
    "# P3 Plot: Feature Importance\n",
    "\n",
    "fig = go.Figure()\n",
    "\n",
    "\n",
    "for feature in df_feature_imp_p4.feature.unique():\n",
    "\n",
    " if df_feature_imp_p4.loc[df_feature_imp_p4.feature == feature].feature_importance.values >= 0.1:\n",
    "  color= px.colors.sequential.Purpor[5]\n",
    "\n",
    "  fig.add_trace(\n",
    "   go.Bar(\n",
    "    x= df_feature_imp_p4.loc[df_feature_imp_p4.feature == feature].feature_importance,\n",
    "    y= df_feature_imp_p4.loc[df_feature_imp_p4.feature == feature].feature,\n",
    "    marker= dict(color= color),\n",
    "    orientation = \"h\",\n",
    "    text= df_feature_imp_p4.loc[df_feature_imp_p4.feature == feature].feature_importance.round(2),\n",
    "    showlegend= False,\n",
    "    width= 0.8,\n",
    "    hovertemplate= f\"<b>{feature}</b><br><br>\" +\n",
    "                   \"feature_importance: %{x}<br>\" +\n",
    "                   \"<extra></extra>\"\n",
    "    )\n",
    "  )\n",
    " else:\n",
    "  color= px.colors.sequential.Greys[3]\n",
    "\n",
    "  fig.add_trace(\n",
    "   go.Bar(\n",
    "    x= df_feature_imp_p4.loc[df_feature_imp_p4.feature == feature].feature_importance,\n",
    "    y= df_feature_imp_p4.loc[df_feature_imp_p4.feature == feature].feature,\n",
    "    marker= dict(color= color),\n",
    "    orientation = \"h\",\n",
    "    text= df_feature_imp_p4.loc[df_feature_imp_p4.feature == feature].feature_importance.round(3),\n",
    "    showlegend= False,\n",
    "    width= 0.8,\n",
    "    hovertemplate= f\"<b>{feature}</b><br><br>\" +\n",
    "                   \"feature_importance: %{x}<br>\" +\n",
    "                   \"<extra></extra>\"\n",
    "    )\n",
    "  )\n",
    "\n",
    "fig.update_layout(title= dict(text= \"<b>Feature Importance der Attribute</b>\", font_size= 20, xanchor= \"center\", yanchor= \"top\", y=0.935, x=0.475), height= 600)\n",
    "fig.update_xaxes(title_text=\"<b>Importance</b>\", ticks= \"outside\")\n",
    "fig.update_xaxes(showline= True)\n",
    "fig.update_yaxes(title_text=\"<b>Feature</b>\", ticks= \"outside\", showgrid= True, gridcolor= \"grey\", showline= True)\n",
    "fig.update_layout(plot_bgcolor= \"white\", xaxis= dict(linecolor= \"black\"), yaxis= dict(linecolor= \"black\"))\n",
    "fig.show()"
   ]
  },
  {
   "attachments": {},
   "cell_type": "markdown",
   "metadata": {},
   "source": [
    "- feature_importance von user_tip_ratio mit 0.9379 am höchsten\n",
    " \n",
    "- **damit ist die Tip-Historie eines Users auschschlaggebend für die Tippwahrscheinlichkeit bei seiner aktuellen Bestellung** "
   ]
  },
  {
   "attachments": {},
   "cell_type": "markdown",
   "metadata": {},
   "source": [
    "## 3. Zusätzliche Fragestellungen:"
   ]
  },
  {
   "attachments": {},
   "cell_type": "markdown",
   "metadata": {},
   "source": [
    "#### Machine Learning Modell:"
   ]
  },
  {
   "attachments": {},
   "cell_type": "markdown",
   "metadata": {},
   "source": [
    "##### Preprocessing und Feature Engineering:"
   ]
  },
  {
   "cell_type": "code",
   "execution_count": null,
   "metadata": {},
   "outputs": [],
   "source": [
    "df_g = df.copy()"
   ]
  },
  {
   "attachments": {},
   "cell_type": "markdown",
   "metadata": {},
   "source": [
    "**Nan-values, welche in der Spalte days_since_prior_orders auftreten wenn es die erste Bestellung eines Kunden ist, für die Methode Decision Tree Classifier mit 0 auffüllen**"
   ]
  },
  {
   "cell_type": "code",
   "execution_count": null,
   "metadata": {},
   "outputs": [],
   "source": [
    "df = df_g.reset_index(drop= True)"
   ]
  },
  {
   "attachments": {},
   "cell_type": "markdown",
   "metadata": {},
   "source": [
    "**Sampling des Datensatzes um Rechenzeit zu sparen**"
   ]
  },
  {
   "cell_type": "code",
   "execution_count": null,
   "metadata": {},
   "outputs": [],
   "source": [
    "df_sample = df.sample(frac= 0.1)"
   ]
  },
  {
   "attachments": {},
   "cell_type": "markdown",
   "metadata": {},
   "source": [
    "**Erzeugen des Features user_tip_raito**"
   ]
  },
  {
   "cell_type": "code",
   "execution_count": null,
   "metadata": {},
   "outputs": [],
   "source": [
    "df_tip = df_sample.groupby([\"user_id\", \"order_id\", \"order_number\"], as_index= False).agg(tip = (\"tip\", \"mean\")).sort_values(by= [\"user_id\", \"order_number\"], ascending= True)\n",
    "df_tip[\"tip_cumsum\"] = df_tip.groupby(\"user_id\", as_index= False)[\"tip\"].cumsum()\n",
    "df_tip[\"user_tip_ratio\"] = df_tip.tip_cumsum / df_tip.order_number\n",
    "\n",
    "df_tip_merge = df_tip[[\"user_id\", \"order_id\", \"order_number\", \"user_tip_ratio\"]]\n",
    "df_sample = df_sample.merge(df_tip_merge, on = [\"user_id\", \"order_id\", \"order_number\"], how= \"right\")"
   ]
  },
  {
   "cell_type": "code",
   "execution_count": null,
   "metadata": {},
   "outputs": [],
   "source": [
    "df_classifier = df_sample.copy()"
   ]
  },
  {
   "attachments": {},
   "cell_type": "markdown",
   "metadata": {},
   "source": [
    "**One-Hot-Encoding der Spalte County**"
   ]
  },
  {
   "cell_type": "code",
   "execution_count": null,
   "metadata": {},
   "outputs": [],
   "source": [
    "df_classifier_dtc = pd.get_dummies(df_classifier, columns= [\"county\", \"days_since_prior_order\"], dummy_na= True)"
   ]
  },
  {
   "cell_type": "code",
   "execution_count": null,
   "metadata": {},
   "outputs": [],
   "source": [
    "df_classifier_ghbc = pd.get_dummies(df_classifier, columns= [\"county\"])"
   ]
  },
  {
   "cell_type": "code",
   "execution_count": null,
   "metadata": {},
   "outputs": [],
   "source": [
    "X_dtc = df_classifier_dtc.drop([\"product_name\", \"department\", \"aisle\", \"tip\"], axis= 1)\n",
    "y_dtc = df_classifier_dtc[\"tip\"]\n",
    "\n",
    "X_ghbc = df_classifier_ghbc.drop([\"product_name\", \"department\", \"aisle\", \"tip\"], axis= 1)\n",
    "y_ghbc = df_classifier_dtc[\"tip\"]"
   ]
  },
  {
   "cell_type": "code",
   "execution_count": null,
   "metadata": {},
   "outputs": [],
   "source": [
    "X_train_d, X_test_d, y_train_d, y_test_d = train_test_split(X_dtc, y_dtc, test_size= 0.2, random_state=0)"
   ]
  },
  {
   "cell_type": "code",
   "execution_count": null,
   "metadata": {},
   "outputs": [],
   "source": [
    "X_train_h, X_test_h, y_train_h, y_test_h = train_test_split(X_ghbc, y_ghbc, test_size= 0.2, random_state=0)"
   ]
  },
  {
   "attachments": {},
   "cell_type": "markdown",
   "metadata": {},
   "source": [
    "##### **HGBC**"
   ]
  },
  {
   "cell_type": "code",
   "execution_count": null,
   "metadata": {},
   "outputs": [],
   "source": [
    "gs_crss_hgbc = GridSearchCV(\n",
    " estimator= HistGradientBoostingClassifier(),\n",
    " param_grid= dict(max_iter= [100], learning_rate= [0.001, 0.01, 0.1], max_depth= [1,3,5,9], random_state= [0]),\n",
    " scoring= \"accuracy\",\n",
    " n_jobs= -1\n",
    ").fit(X_train_h, y_train_h)\n",
    "\n",
    "print(f\"Best param: {gs_crss_hgbc.best_params_} with acc: {gs_crss_hgbc.best_score_}\")"
   ]
  },
  {
   "cell_type": "code",
   "execution_count": null,
   "metadata": {},
   "outputs": [],
   "source": [
    "best_hgbc = HistGradientBoostingClassifier(learning_rate= 0.1, max_depth= 9, max_iter= 100, random_state= 0).fit(X_train_h, y_train_h)\n",
    "\n",
    "y_best_train_pred = best_hgbc.predict(X_train_h)\n",
    "y_best_test_pred = best_hgbc.predict(X_test_h)\n",
    "\n",
    "print_evaluation(\"HGBC\", X_train_h, X_test_h, y_train_h, y_test_h, y_best_train_pred, y_best_test_pred)"
   ]
  },
  {
   "attachments": {},
   "cell_type": "markdown",
   "metadata": {},
   "source": [
    "##### **DTC**"
   ]
  },
  {
   "cell_type": "code",
   "execution_count": null,
   "metadata": {},
   "outputs": [],
   "source": [
    "gs_crss_dtc = GridSearchCV(\n",
    " estimator= DecisionTreeClassifier(),\n",
    " param_grid= dict(min_samples_split= [2, 10, 20, 50, 100], max_depth= [1, 3, 5, 9], random_state= [0]),\n",
    " scoring= \"accuracy\",\n",
    " n_jobs= -1\n",
    ").fit(X_train_d, y_train_d)\n",
    "\n",
    "print(f\"Best param: {gs_crss_dtc.best_params_} with acc: {gs_crss_dtc.best_score_}\")"
   ]
  },
  {
   "cell_type": "code",
   "execution_count": null,
   "metadata": {},
   "outputs": [],
   "source": [
    "best_dtc = DecisionTreeClassifier(max_depth= 9, min_samples_split= 2, random_state= 0).fit(X_train_d, y_train_d)\n",
    "\n",
    "y_best_train_pred = best_dtc.predict(X_train_d)\n",
    "y_best_test_pred = best_dtc.predict(X_test_d)\n",
    "\n",
    "print_evaluation(\"DTC\", X_train_d, X_test_d, y_train_d, y_test_d, y_best_train_pred, y_best_test_pred)"
   ]
  }
 ],
 "metadata": {
  "kernelspec": {
   "display_name": "Python 3",
   "language": "python",
   "name": "python3"
  },
  "language_info": {
   "codemirror_mode": {
    "name": "ipython",
    "version": 3
   },
   "file_extension": ".py",
   "mimetype": "text/x-python",
   "name": "python",
   "nbconvert_exporter": "python",
   "pygments_lexer": "ipython3",
   "version": "3.9.7"
  },
  "orig_nbformat": 4,
  "vscode": {
   "interpreter": {
    "hash": "aee8b7b246df8f9039afb4144a1f6fd8d2ca17a180786b69acc140d282b71a49"
   }
  }
 },
 "nbformat": 4,
 "nbformat_minor": 2
}
