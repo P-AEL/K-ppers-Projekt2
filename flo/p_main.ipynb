{
 "cells": [
  {
   "attachments": {},
   "cell_type": "markdown",
   "metadata": {},
   "source": [
    "<div align=\"center\"> \n",
    "\n",
    "**hopa1029, klfl1012**\n",
    "\n",
    "<img src=\"s_purple.png\" alt=\"drawing\" width=\"2000\" height= 200/>\n"
   ]
  },
  {
   "attachments": {},
   "cell_type": "markdown",
   "metadata": {},
   "source": [
    "<div align=\"left\">\n",
    "\n",
    "# Übungsblatt 2 - Personalabteilung\n",
    "__________________________________________________________________________________________________________________________________________________________________________________________________________________\n",
    "\n",
    "**DSCB310 – Datenanalyse und Business Intelligence 1**  \n",
    "\n",
    "Wintersemester 22/23"
   ]
  },
  {
   "attachments": {},
   "cell_type": "markdown",
   "metadata": {},
   "source": [
    "##### Gliederung des Notebooks:"
   ]
  },
  {
   "attachments": {},
   "cell_type": "markdown",
   "metadata": {},
   "source": [
    "1. Ziel der Datenanaylse für die Personalabteilung\n",
    "   \n",
    "2. Fragestellungen:\n",
    "\n",
    "   - P1: Prüfen Sie, ob ein Zusammenhang zwischen dem Trinkgeldgeben und dem Vorhandensein eines der folgenden Produkte in einer Bestellung existiert: 24852, 24964, 2120\n",
    "  \n",
    "   - P2: Lassen sich regionale Unterschiede im Trinkgeldverhalten erkennen?\n",
    "  \n",
    "   - P3: Welche Attribute einer Bestellung wirken sich auf das Trinkgeldverhalten aus?\n",
    "  \n",
    "   - P4: Spielt die Vergangenheit eines Users eine Rolle in Hinblick auf die Trinkgeldwahrscheinlichkeit, oder kommt es nur auf Inhalt und Parameter der aktuellen Bestellung an?\n",
    "  \n",
    "3. Zusätzliche Fragestellungen"
   ]
  },
  {
   "attachments": {},
   "cell_type": "markdown",
   "metadata": {},
   "source": [
    "##### Imports und Datensatz: "
   ]
  },
  {
   "attachments": {},
   "cell_type": "markdown",
   "metadata": {},
   "source": [
    "**Imports:**"
   ]
  },
  {
   "cell_type": "code",
   "execution_count": 53,
   "metadata": {},
   "outputs": [],
   "source": [
    "import pandas as pd\n",
    "import numpy as np\n",
    "\n",
    "import plotly.express as px\n",
    "import plotly.graph_objects as go\n",
    "from plotly.subplots import make_subplots\n",
    "\n",
    "from sklearn.tree import DecisionTreeClassifier\n",
    "from sklearn.model_selection import GridSearchCV\n",
    "from sklearn.metrics import accuracy_score, recall_score, precision_score"
   ]
  },
  {
   "attachments": {},
   "cell_type": "markdown",
   "metadata": {},
   "source": [
    "**Datensatz:**"
   ]
  },
  {
   "attachments": {},
   "cell_type": "markdown",
   "metadata": {},
   "source": [
    "-- erklärung der einzelnen attribute --"
   ]
  },
  {
   "cell_type": "code",
   "execution_count": 3,
   "metadata": {},
   "outputs": [],
   "source": [
    "df = pd.read_parquet(\"DSCB310 - UE2 - Shopping Carts.parquet\")"
   ]
  },
  {
   "cell_type": "code",
   "execution_count": 6,
   "metadata": {},
   "outputs": [
    {
     "data": {
      "text/html": [
       "<div>\n",
       "<style scoped>\n",
       "    .dataframe tbody tr th:only-of-type {\n",
       "        vertical-align: middle;\n",
       "    }\n",
       "\n",
       "    .dataframe tbody tr th {\n",
       "        vertical-align: top;\n",
       "    }\n",
       "\n",
       "    .dataframe thead th {\n",
       "        text-align: right;\n",
       "    }\n",
       "</style>\n",
       "<table border=\"1\" class=\"dataframe\">\n",
       "  <thead>\n",
       "    <tr style=\"text-align: right;\">\n",
       "      <th></th>\n",
       "      <th>order_id</th>\n",
       "      <th>product_id</th>\n",
       "      <th>add_to_cart_order</th>\n",
       "      <th>reordered</th>\n",
       "      <th>user_id</th>\n",
       "      <th>order_number</th>\n",
       "      <th>order_dow</th>\n",
       "      <th>order_hour_of_day</th>\n",
       "      <th>days_since_prior_order</th>\n",
       "      <th>tip</th>\n",
       "      <th>product_name</th>\n",
       "      <th>aisle_id</th>\n",
       "      <th>department_id</th>\n",
       "      <th>department</th>\n",
       "      <th>aisle</th>\n",
       "      <th>county</th>\n",
       "    </tr>\n",
       "  </thead>\n",
       "  <tbody>\n",
       "    <tr>\n",
       "      <th>0</th>\n",
       "      <td>1</td>\n",
       "      <td>13176</td>\n",
       "      <td>6</td>\n",
       "      <td>0</td>\n",
       "      <td>112108</td>\n",
       "      <td>4</td>\n",
       "      <td>4</td>\n",
       "      <td>10</td>\n",
       "      <td>9.0</td>\n",
       "      <td>1</td>\n",
       "      <td>Bag of Organic Bananas</td>\n",
       "      <td>24</td>\n",
       "      <td>4</td>\n",
       "      <td>produce</td>\n",
       "      <td>fresh fruits</td>\n",
       "      <td>Inyo</td>\n",
       "    </tr>\n",
       "    <tr>\n",
       "      <th>1</th>\n",
       "      <td>1</td>\n",
       "      <td>11109</td>\n",
       "      <td>2</td>\n",
       "      <td>1</td>\n",
       "      <td>112108</td>\n",
       "      <td>4</td>\n",
       "      <td>4</td>\n",
       "      <td>10</td>\n",
       "      <td>9.0</td>\n",
       "      <td>1</td>\n",
       "      <td>Organic 4% Milk Fat Whole Milk Cottage Cheese</td>\n",
       "      <td>108</td>\n",
       "      <td>16</td>\n",
       "      <td>dairy eggs</td>\n",
       "      <td>other creams cheeses</td>\n",
       "      <td>Inyo</td>\n",
       "    </tr>\n",
       "    <tr>\n",
       "      <th>2</th>\n",
       "      <td>1</td>\n",
       "      <td>10246</td>\n",
       "      <td>3</td>\n",
       "      <td>0</td>\n",
       "      <td>112108</td>\n",
       "      <td>4</td>\n",
       "      <td>4</td>\n",
       "      <td>10</td>\n",
       "      <td>9.0</td>\n",
       "      <td>1</td>\n",
       "      <td>Organic Celery Hearts</td>\n",
       "      <td>83</td>\n",
       "      <td>4</td>\n",
       "      <td>produce</td>\n",
       "      <td>fresh vegetables</td>\n",
       "      <td>Inyo</td>\n",
       "    </tr>\n",
       "    <tr>\n",
       "      <th>3</th>\n",
       "      <td>1</td>\n",
       "      <td>22035</td>\n",
       "      <td>8</td>\n",
       "      <td>1</td>\n",
       "      <td>112108</td>\n",
       "      <td>4</td>\n",
       "      <td>4</td>\n",
       "      <td>10</td>\n",
       "      <td>9.0</td>\n",
       "      <td>1</td>\n",
       "      <td>Organic Whole String Cheese</td>\n",
       "      <td>21</td>\n",
       "      <td>16</td>\n",
       "      <td>dairy eggs</td>\n",
       "      <td>packaged cheese</td>\n",
       "      <td>Inyo</td>\n",
       "    </tr>\n",
       "    <tr>\n",
       "      <th>4</th>\n",
       "      <td>1</td>\n",
       "      <td>49683</td>\n",
       "      <td>4</td>\n",
       "      <td>0</td>\n",
       "      <td>112108</td>\n",
       "      <td>4</td>\n",
       "      <td>4</td>\n",
       "      <td>10</td>\n",
       "      <td>9.0</td>\n",
       "      <td>1</td>\n",
       "      <td>Cucumber Kirby</td>\n",
       "      <td>83</td>\n",
       "      <td>4</td>\n",
       "      <td>produce</td>\n",
       "      <td>fresh vegetables</td>\n",
       "      <td>Inyo</td>\n",
       "    </tr>\n",
       "  </tbody>\n",
       "</table>\n",
       "</div>"
      ],
      "text/plain": [
       "   order_id  product_id  add_to_cart_order  reordered  user_id  order_number  \\\n",
       "0         1       13176                  6          0   112108             4   \n",
       "1         1       11109                  2          1   112108             4   \n",
       "2         1       10246                  3          0   112108             4   \n",
       "3         1       22035                  8          1   112108             4   \n",
       "4         1       49683                  4          0   112108             4   \n",
       "\n",
       "   order_dow  order_hour_of_day  days_since_prior_order  tip  \\\n",
       "0          4                 10                     9.0    1   \n",
       "1          4                 10                     9.0    1   \n",
       "2          4                 10                     9.0    1   \n",
       "3          4                 10                     9.0    1   \n",
       "4          4                 10                     9.0    1   \n",
       "\n",
       "                                    product_name  aisle_id  department_id  \\\n",
       "0                         Bag of Organic Bananas        24              4   \n",
       "1  Organic 4% Milk Fat Whole Milk Cottage Cheese       108             16   \n",
       "2                          Organic Celery Hearts        83              4   \n",
       "3                    Organic Whole String Cheese        21             16   \n",
       "4                                 Cucumber Kirby        83              4   \n",
       "\n",
       "   department                 aisle county  \n",
       "0     produce          fresh fruits   Inyo  \n",
       "1  dairy eggs  other creams cheeses   Inyo  \n",
       "2     produce      fresh vegetables   Inyo  \n",
       "3  dairy eggs       packaged cheese   Inyo  \n",
       "4     produce      fresh vegetables   Inyo  "
      ]
     },
     "execution_count": 6,
     "metadata": {},
     "output_type": "execute_result"
    }
   ],
   "source": [
    "df.reset_index(drop= True).head()"
   ]
  },
  {
   "attachments": {},
   "cell_type": "markdown",
   "metadata": {},
   "source": [
    "## 1. Ziel der Datenanalyse für die Personalabteilung:"
   ]
  },
  {
   "attachments": {},
   "cell_type": "markdown",
   "metadata": {},
   "source": [
    "- Nachvollziehbare und systematische Muster bei der Trinkgeldvergabe finden\n",
    "- Wovon die Wahrscheinlichkeit, bei einer Bestellung Trinkgeld zu erhalten, abhängt\n",
    "\n",
    "-> Damit die Chancengleichheit der Fahrer verbessert wird, indem sie entweder vom Unternehmen extra entlohnt werden oder die vielversprechenden und weniger aussichtsreichen Fahrten gleichmäßig auf die Fahrer verteilt werden können."
   ]
  },
  {
   "attachments": {},
   "cell_type": "markdown",
   "metadata": {},
   "source": [
    "## 2. Fragestellungen:"
   ]
  },
  {
   "attachments": {},
   "cell_type": "markdown",
   "metadata": {},
   "source": [
    "#### **P1:** Prüfen Sie, ob ein Zusammenhang zwischen dem Trinkgeldgeben und dem Vorhandensein eines der folgenden Produkte in einer Bestellung existiert: 24852, 24964, 2120:"
   ]
  },
  {
   "cell_type": "code",
   "execution_count": 67,
   "metadata": {},
   "outputs": [],
   "source": [
    "df_tip = df.copy()"
   ]
  },
  {
   "cell_type": "code",
   "execution_count": 88,
   "metadata": {},
   "outputs": [
    {
     "data": {
      "text/plain": [
       "array(['Organic Garlic', 'Banana', 'Sauvignon Blanc'], dtype=object)"
      ]
     },
     "execution_count": 88,
     "metadata": {},
     "output_type": "execute_result"
    }
   ],
   "source": [
    "df_tip.loc[df_tip.product_id.isin([24852, 24964, 2120])].product_name.unique()"
   ]
  },
  {
   "cell_type": "code",
   "execution_count": 68,
   "metadata": {},
   "outputs": [],
   "source": [
    "df_tip[\"p1_products_in_order\"] = 0\n",
    "df_tip.loc[df_tip.product_id.isin([24852, 24964, 2120]), \"p1_products_in_order\"] = 1"
   ]
  },
  {
   "attachments": {},
   "cell_type": "markdown",
   "metadata": {},
   "source": [
    "**Bestellungen die die Produkte Organic Garlic, Banana und Sauvignon Blanc enthalten haben eine höhere Wahrscheinlichkeit einen Tipp zu erhalten**  "
   ]
  },
  {
   "cell_type": "code",
   "execution_count": 69,
   "metadata": {},
   "outputs": [
    {
     "data": {
      "text/html": [
       "<div>\n",
       "<style scoped>\n",
       "    .dataframe tbody tr th:only-of-type {\n",
       "        vertical-align: middle;\n",
       "    }\n",
       "\n",
       "    .dataframe tbody tr th {\n",
       "        vertical-align: top;\n",
       "    }\n",
       "\n",
       "    .dataframe thead th {\n",
       "        text-align: right;\n",
       "    }\n",
       "</style>\n",
       "<table border=\"1\" class=\"dataframe\">\n",
       "  <thead>\n",
       "    <tr style=\"text-align: right;\">\n",
       "      <th>tip</th>\n",
       "      <th>0</th>\n",
       "      <th>1</th>\n",
       "    </tr>\n",
       "    <tr>\n",
       "      <th>p1_products_in_order</th>\n",
       "      <th></th>\n",
       "      <th></th>\n",
       "    </tr>\n",
       "  </thead>\n",
       "  <tbody>\n",
       "    <tr>\n",
       "      <th>0</th>\n",
       "      <td>0.553872</td>\n",
       "      <td>0.446128</td>\n",
       "    </tr>\n",
       "    <tr>\n",
       "      <th>1</th>\n",
       "      <td>0.478357</td>\n",
       "      <td>0.521643</td>\n",
       "    </tr>\n",
       "    <tr>\n",
       "      <th>All</th>\n",
       "      <td>0.552504</td>\n",
       "      <td>0.447496</td>\n",
       "    </tr>\n",
       "  </tbody>\n",
       "</table>\n",
       "</div>"
      ],
      "text/plain": [
       "tip                          0         1\n",
       "p1_products_in_order                    \n",
       "0                     0.553872  0.446128\n",
       "1                     0.478357  0.521643\n",
       "All                   0.552504  0.447496"
      ]
     },
     "execution_count": 69,
     "metadata": {},
     "output_type": "execute_result"
    }
   ],
   "source": [
    "pd.crosstab(df_tip.p1_products_in_order, df.tip, margins= True, normalize= \"index\")"
   ]
  },
  {
   "attachments": {},
   "cell_type": "markdown",
   "metadata": {},
   "source": [
    "**Testen ob Unabhängig / Abhängig:**"
   ]
  },
  {
   "attachments": {},
   "cell_type": "markdown",
   "metadata": {},
   "source": [
    "- H0: (Nullhypothese) Die beiden Variablen sind unabhängig.\n",
    "- H1: (alternative Hypothese) Die beiden Variablen sind nicht unabhängig."
   ]
  },
  {
   "cell_type": "code",
   "execution_count": null,
   "metadata": {},
   "outputs": [
    {
     "data": {
      "text/html": [
       "<div>\n",
       "<style scoped>\n",
       "    .dataframe tbody tr th:only-of-type {\n",
       "        vertical-align: middle;\n",
       "    }\n",
       "\n",
       "    .dataframe tbody tr th {\n",
       "        vertical-align: top;\n",
       "    }\n",
       "\n",
       "    .dataframe thead th {\n",
       "        text-align: right;\n",
       "    }\n",
       "</style>\n",
       "<table border=\"1\" class=\"dataframe\">\n",
       "  <thead>\n",
       "    <tr style=\"text-align: right;\">\n",
       "      <th>tip</th>\n",
       "      <th>0</th>\n",
       "      <th>1</th>\n",
       "      <th>All</th>\n",
       "    </tr>\n",
       "    <tr>\n",
       "      <th>p1_products_in_order</th>\n",
       "      <th></th>\n",
       "      <th></th>\n",
       "      <th></th>\n",
       "    </tr>\n",
       "  </thead>\n",
       "  <tbody>\n",
       "    <tr>\n",
       "      <th>0</th>\n",
       "      <td>3335155</td>\n",
       "      <td>2686369</td>\n",
       "      <td>6021524</td>\n",
       "    </tr>\n",
       "    <tr>\n",
       "      <th>1</th>\n",
       "      <td>53167</td>\n",
       "      <td>57978</td>\n",
       "      <td>111145</td>\n",
       "    </tr>\n",
       "    <tr>\n",
       "      <th>All</th>\n",
       "      <td>3388322</td>\n",
       "      <td>2744347</td>\n",
       "      <td>6132669</td>\n",
       "    </tr>\n",
       "  </tbody>\n",
       "</table>\n",
       "</div>"
      ],
      "text/plain": [
       "tip                         0        1      All\n",
       "p1_products_in_order                           \n",
       "0                     3335155  2686369  6021524\n",
       "1                       53167    57978   111145\n",
       "All                   3388322  2744347  6132669"
      ]
     },
     "metadata": {},
     "output_type": "display_data"
    }
   ],
   "source": [
    "pd.crosstab(df_tip.p1_products_in_order, df.tip, margins= True)"
   ]
  },
  {
   "cell_type": "code",
   "execution_count": null,
   "metadata": {},
   "outputs": [
    {
     "data": {
      "text/plain": [
       "(2516.7353829996982,\n",
       " 0.0,\n",
       " 1,\n",
       " array([[3326913.98194294, 2694610.01805706],\n",
       "        [  61408.01805706,   49736.98194294]]))"
      ]
     },
     "metadata": {},
     "output_type": "display_data"
    }
   ],
   "source": [
    "import scipy.stats as stats\n",
    "\n",
    "data = pd.crosstab(df_tip.p1_products_in_order, df.tip)\n",
    "\n",
    "stats.chi2_contingency(data)"
   ]
  },
  {
   "attachments": {},
   "cell_type": "markdown",
   "metadata": {},
   "source": [
    "Da der p-Wert des Tests weniger als 0.05 beträgt wird die Nullhypothese abgelehnt, es gilt H1."
   ]
  },
  {
   "cell_type": "code",
   "execution_count": null,
   "metadata": {},
   "outputs": [
    {
     "data": {
      "text/html": [
       "<div>\n",
       "<style scoped>\n",
       "    .dataframe tbody tr th:only-of-type {\n",
       "        vertical-align: middle;\n",
       "    }\n",
       "\n",
       "    .dataframe tbody tr th {\n",
       "        vertical-align: top;\n",
       "    }\n",
       "\n",
       "    .dataframe thead th {\n",
       "        text-align: right;\n",
       "    }\n",
       "</style>\n",
       "<table border=\"1\" class=\"dataframe\">\n",
       "  <thead>\n",
       "    <tr style=\"text-align: right;\">\n",
       "      <th>tip</th>\n",
       "      <th>0</th>\n",
       "      <th>1</th>\n",
       "      <th>All</th>\n",
       "    </tr>\n",
       "    <tr>\n",
       "      <th>p1_products_in_order</th>\n",
       "      <th></th>\n",
       "      <th></th>\n",
       "      <th></th>\n",
       "    </tr>\n",
       "  </thead>\n",
       "  <tbody>\n",
       "    <tr>\n",
       "      <th>0</th>\n",
       "      <td>0.543834</td>\n",
       "      <td>0.438042</td>\n",
       "      <td>0.981877</td>\n",
       "    </tr>\n",
       "    <tr>\n",
       "      <th>1</th>\n",
       "      <td>0.008669</td>\n",
       "      <td>0.009454</td>\n",
       "      <td>0.018123</td>\n",
       "    </tr>\n",
       "    <tr>\n",
       "      <th>All</th>\n",
       "      <td>0.552504</td>\n",
       "      <td>0.447496</td>\n",
       "      <td>1.000000</td>\n",
       "    </tr>\n",
       "  </tbody>\n",
       "</table>\n",
       "</div>"
      ],
      "text/plain": [
       "tip                          0         1       All\n",
       "p1_products_in_order                              \n",
       "0                     0.543834  0.438042  0.981877\n",
       "1                     0.008669  0.009454  0.018123\n",
       "All                   0.552504  0.447496  1.000000"
      ]
     },
     "metadata": {},
     "output_type": "display_data"
    }
   ],
   "source": [
    "pd.crosstab(df_tip.p1_products_in_order, df.tip, margins= True, normalize= \"all\")"
   ]
  },
  {
   "cell_type": "code",
   "execution_count": 79,
   "metadata": {},
   "outputs": [
    {
     "data": {
      "text/plain": [
       "False"
      ]
     },
     "execution_count": 79,
     "metadata": {},
     "output_type": "execute_result"
    }
   ],
   "source": [
    "# hji = hi * hj\n",
    "pd.crosstab(df_tip.p1_products_in_order, df.tip, margins= True, normalize= \"all\").iloc[1, 1:2].values[0] == 0.447496 * 0.018123"
   ]
  },
  {
   "attachments": {},
   "cell_type": "markdown",
   "metadata": {},
   "source": [
    "0.447496 * 0.018123 = 0.00811 != 0.009454\n",
    "\n",
    "**Dadurch ist gezeigt, dass die Tippwahrscheinlichkeit der Bestellungen davon abhängig ist, ob sie die Produkte: Organic Garlic, Banana und Sauvignon Blanc enthält.**  \n",
    "**Die Bestelungen die die Produkte enthalten, erhalten statistisch gesehen mehr Trinkgeld.** \n",
    "\n"
   ]
  },
  {
   "attachments": {},
   "cell_type": "markdown",
   "metadata": {},
   "source": [
    "#### **P2:** Lassen sich regionale Unterschiede im Trinkgeldverhalten erkennen?"
   ]
  },
  {
   "cell_type": "code",
   "execution_count": 7,
   "metadata": {},
   "outputs": [],
   "source": [
    "df_p2 = df.copy()"
   ]
  },
  {
   "attachments": {},
   "cell_type": "markdown",
   "metadata": {},
   "source": [
    "**Durchschnittliche Wahrscheinlichkeit das eine Bestellung Trinkgeld erhält, pro County berechnet:**"
   ]
  },
  {
   "cell_type": "code",
   "execution_count": 8,
   "metadata": {},
   "outputs": [],
   "source": [
    "df_county_tip1 = df_p2.groupby([\"county\", \"order_id\"]).agg(tip = (\"tip\", \"mean\")).reset_index()\n",
    "df_county_tip2 = df_county_tip1.groupby(\"county\").agg(tip = (\"tip\", \"mean\"), orders= (\"order_id\", \"count\")).sort_values(by= \"tip\", ascending= False).reset_index()\n",
    "df_county_tip2[\"orders\"] = (df_county_tip2.orders / df_county_tip2.orders.sum())"
   ]
  },
  {
   "cell_type": "code",
   "execution_count": 12,
   "metadata": {},
   "outputs": [
    {
     "data": {
      "text/html": [
       "<div>\n",
       "<style scoped>\n",
       "    .dataframe tbody tr th:only-of-type {\n",
       "        vertical-align: middle;\n",
       "    }\n",
       "\n",
       "    .dataframe tbody tr th {\n",
       "        vertical-align: top;\n",
       "    }\n",
       "\n",
       "    .dataframe thead th {\n",
       "        text-align: right;\n",
       "    }\n",
       "</style>\n",
       "<table border=\"1\" class=\"dataframe\">\n",
       "  <thead>\n",
       "    <tr style=\"text-align: right;\">\n",
       "      <th></th>\n",
       "      <th>county</th>\n",
       "      <th>tip</th>\n",
       "      <th>orders</th>\n",
       "    </tr>\n",
       "  </thead>\n",
       "  <tbody>\n",
       "    <tr>\n",
       "      <th>0</th>\n",
       "      <td>San Diego</td>\n",
       "      <td>0.530895</td>\n",
       "      <td>0.003920</td>\n",
       "    </tr>\n",
       "    <tr>\n",
       "      <th>1</th>\n",
       "      <td>Santa Barbara</td>\n",
       "      <td>0.507548</td>\n",
       "      <td>0.023030</td>\n",
       "    </tr>\n",
       "    <tr>\n",
       "      <th>2</th>\n",
       "      <td>Lassen</td>\n",
       "      <td>0.502494</td>\n",
       "      <td>0.003964</td>\n",
       "    </tr>\n",
       "    <tr>\n",
       "      <th>3</th>\n",
       "      <td>Del Norte</td>\n",
       "      <td>0.501239</td>\n",
       "      <td>0.003323</td>\n",
       "    </tr>\n",
       "    <tr>\n",
       "      <th>4</th>\n",
       "      <td>Modoc</td>\n",
       "      <td>0.492131</td>\n",
       "      <td>0.015599</td>\n",
       "    </tr>\n",
       "    <tr>\n",
       "      <th>5</th>\n",
       "      <td>Tuolumne</td>\n",
       "      <td>0.483859</td>\n",
       "      <td>0.004287</td>\n",
       "    </tr>\n",
       "    <tr>\n",
       "      <th>6</th>\n",
       "      <td>San Benito</td>\n",
       "      <td>0.475038</td>\n",
       "      <td>0.012046</td>\n",
       "    </tr>\n",
       "    <tr>\n",
       "      <th>7</th>\n",
       "      <td>Shasta</td>\n",
       "      <td>0.466202</td>\n",
       "      <td>0.006143</td>\n",
       "    </tr>\n",
       "    <tr>\n",
       "      <th>8</th>\n",
       "      <td>El Dorado</td>\n",
       "      <td>0.465879</td>\n",
       "      <td>0.002511</td>\n",
       "    </tr>\n",
       "    <tr>\n",
       "      <th>9</th>\n",
       "      <td>San Francisco</td>\n",
       "      <td>0.462101</td>\n",
       "      <td>0.021173</td>\n",
       "    </tr>\n",
       "  </tbody>\n",
       "</table>\n",
       "</div>"
      ],
      "text/plain": [
       "          county       tip    orders\n",
       "0      San Diego  0.530895  0.003920\n",
       "1  Santa Barbara  0.507548  0.023030\n",
       "2         Lassen  0.502494  0.003964\n",
       "3      Del Norte  0.501239  0.003323\n",
       "4          Modoc  0.492131  0.015599\n",
       "5       Tuolumne  0.483859  0.004287\n",
       "6     San Benito  0.475038  0.012046\n",
       "7         Shasta  0.466202  0.006143\n",
       "8      El Dorado  0.465879  0.002511\n",
       "9  San Francisco  0.462101  0.021173"
      ]
     },
     "execution_count": 12,
     "metadata": {},
     "output_type": "execute_result"
    }
   ],
   "source": [
    "df_county_tip2.head(10)"
   ]
  },
  {
   "attachments": {},
   "cell_type": "markdown",
   "metadata": {},
   "source": [
    "**Plotten der Tippwahrscheinlichkeit pro County:**"
   ]
  },
  {
   "cell_type": "code",
   "execution_count": 101,
   "metadata": {},
   "outputs": [
    {
     "data": {
      "application/vnd.plotly.v1+json": {
       "config": {
        "plotlyServerURL": "https://plot.ly"
       },
       "data": [
        {
         "base": 0,
         "legendgroup": "San Diego",
         "marker": {
          "color": "rgb(131, 75, 160)"
         },
         "name": "San Diego: 53.09%",
         "showlegend": true,
         "text": [
          0.531
         ],
         "type": "bar",
         "width": 0.8,
         "x": [
          "San Diego"
         ],
         "xaxis": "x",
         "y": [
          0.5308953341740227
         ],
         "yaxis": "y"
        },
        {
         "base": [
          -0.003919824028076419
         ],
         "legendgroup": "San Diego",
         "marker": {
          "color": "rgb(131, 75, 160)"
         },
         "name": "Orders: 0.392%",
         "showlegend": true,
         "type": "bar",
         "width": 0.8,
         "x": [
          "San Diego"
         ],
         "xaxis": "x2",
         "y": [
          0.003919824028076419
         ],
         "yaxis": "y2"
        },
        {
         "base": 0,
         "legendgroup": "Santa Barbara",
         "marker": {
          "color": "rgb(131, 75, 160)"
         },
         "name": "Santa Barbara: 50.75%",
         "showlegend": true,
         "text": [
          0.508
         ],
         "type": "bar",
         "width": 0.8,
         "x": [
          "Santa Barbara"
         ],
         "xaxis": "x",
         "y": [
          0.5075481147599628
         ],
         "yaxis": "y"
        },
        {
         "base": [
          -0.02302958404389412
         ],
         "legendgroup": "Santa Barbara",
         "marker": {
          "color": "rgb(131, 75, 160)"
         },
         "name": "Orders: 2.303%",
         "showlegend": true,
         "type": "bar",
         "width": 0.8,
         "x": [
          "Santa Barbara"
         ],
         "xaxis": "x2",
         "y": [
          0.02302958404389412
         ],
         "yaxis": "y2"
        },
        {
         "base": 0,
         "legendgroup": "Lassen",
         "marker": {
          "color": "rgb(131, 75, 160)"
         },
         "name": "Lassen: 50.25%",
         "showlegend": true,
         "text": [
          0.502
         ],
         "type": "bar",
         "width": 0.8,
         "x": [
          "Lassen"
         ],
         "xaxis": "x",
         "y": [
          0.5024937655860349
         ],
         "yaxis": "y"
        },
        {
         "base": [
          -0.003964311312127728
         ],
         "legendgroup": "Lassen",
         "marker": {
          "color": "rgb(131, 75, 160)"
         },
         "name": "Orders: 0.396%",
         "showlegend": true,
         "type": "bar",
         "width": 0.8,
         "x": [
          "Lassen"
         ],
         "xaxis": "x2",
         "y": [
          0.003964311312127728
         ],
         "yaxis": "y2"
        },
        {
         "base": 0,
         "legendgroup": "Del Norte",
         "marker": {
          "color": "rgb(131, 75, 160)"
         },
         "name": "Del Norte: 50.12%",
         "showlegend": true,
         "text": [
          0.501
         ],
         "type": "bar",
         "width": 0.8,
         "x": [
          "Del Norte"
         ],
         "xaxis": "x",
         "y": [
          0.5012394645513139
         ],
         "yaxis": "y"
        },
        {
         "base": [
          -0.003323364886351466
         ],
         "legendgroup": "Del Norte",
         "marker": {
          "color": "rgb(131, 75, 160)"
         },
         "name": "Orders: 0.332%",
         "showlegend": true,
         "type": "bar",
         "width": 0.8,
         "x": [
          "Del Norte"
         ],
         "xaxis": "x2",
         "y": [
          0.003323364886351466
         ],
         "yaxis": "y2"
        },
        {
         "base": 0,
         "legendgroup": "Modoc",
         "marker": {
          "color": "rgb(189,189,189)"
         },
         "name": "Modoc: 49.21%",
         "showlegend": true,
         "type": "bar",
         "width": 0.8,
         "x": [
          "Modoc"
         ],
         "xaxis": "x",
         "y": [
          0.49213055878314144
         ],
         "yaxis": "y"
        },
        {
         "base": [
          -0.015598559930138487
         ],
         "legendgroup": "Modoc",
         "marker": {
          "color": "rgb(189,189,189)"
         },
         "name": "Orders: 1.56%",
         "showlegend": true,
         "type": "bar",
         "width": 0.8,
         "x": [
          "Modoc"
         ],
         "xaxis": "x2",
         "y": [
          0.015598559930138487
         ],
         "yaxis": "y2"
        },
        {
         "base": 0,
         "legendgroup": "Tuolumne",
         "marker": {
          "color": "rgb(189,189,189)"
         },
         "name": "Tuolumne: 48.39%",
         "showlegend": true,
         "type": "bar",
         "width": 0.8,
         "x": [
          "Tuolumne"
         ],
         "xaxis": "x",
         "y": [
          0.483858570330515
         ],
         "yaxis": "y"
        },
        {
         "base": [
          -0.004287256040796487
         ],
         "legendgroup": "Tuolumne",
         "marker": {
          "color": "rgb(189,189,189)"
         },
         "name": "Orders: 0.429%",
         "showlegend": true,
         "type": "bar",
         "width": 0.8,
         "x": [
          "Tuolumne"
         ],
         "xaxis": "x2",
         "y": [
          0.004287256040796487
         ],
         "yaxis": "y2"
        },
        {
         "base": 0,
         "legendgroup": "San Benito",
         "marker": {
          "color": "rgb(189,189,189)"
         },
         "name": "San Benito: 47.5%",
         "showlegend": true,
         "type": "bar",
         "width": 0.8,
         "x": [
          "San Benito"
         ],
         "xaxis": "x",
         "y": [
          0.47503761455341265
         ],
         "yaxis": "y"
        },
        {
         "base": [
          -0.012046167914782135
         ],
         "legendgroup": "San Benito",
         "marker": {
          "color": "rgb(189,189,189)"
         },
         "name": "Orders: 1.205%",
         "showlegend": true,
         "type": "bar",
         "width": 0.8,
         "x": [
          "San Benito"
         ],
         "xaxis": "x2",
         "y": [
          0.012046167914782135
         ],
         "yaxis": "y2"
        },
        {
         "base": 0,
         "legendgroup": "Shasta",
         "marker": {
          "color": "rgb(189,189,189)"
         },
         "name": "Shasta: 46.62%",
         "showlegend": true,
         "type": "bar",
         "width": 0.8,
         "x": [
          "Shasta"
         ],
         "xaxis": "x",
         "y": [
          0.46620171673819744
         ],
         "yaxis": "y"
        },
        {
         "base": [
          -0.006142540553454767
         ],
         "legendgroup": "Shasta",
         "marker": {
          "color": "rgb(189,189,189)"
         },
         "name": "Orders: 0.614%",
         "showlegend": true,
         "type": "bar",
         "width": 0.8,
         "x": [
          "Shasta"
         ],
         "xaxis": "x2",
         "y": [
          0.006142540553454767
         ],
         "yaxis": "y2"
        },
        {
         "base": 0,
         "legendgroup": "El Dorado",
         "marker": {
          "color": "rgb(189,189,189)"
         },
         "name": "El Dorado: 46.59%",
         "showlegend": true,
         "type": "bar",
         "width": 0.8,
         "x": [
          "El Dorado"
         ],
         "xaxis": "x",
         "y": [
          0.4658792650918635
         ],
         "yaxis": "y"
        },
        {
         "base": [
          -0.0025110600331183113
         ],
         "legendgroup": "El Dorado",
         "marker": {
          "color": "rgb(189,189,189)"
         },
         "name": "Orders: 0.251%",
         "showlegend": true,
         "type": "bar",
         "width": 0.8,
         "x": [
          "El Dorado"
         ],
         "xaxis": "x2",
         "y": [
          0.0025110600331183113
         ],
         "yaxis": "y2"
        },
        {
         "base": 0,
         "legendgroup": "San Francisco",
         "marker": {
          "color": "rgb(189,189,189)"
         },
         "name": "San Francisco: 46.21%",
         "showlegend": true,
         "type": "bar",
         "width": 0.8,
         "x": [
          "San Francisco"
         ],
         "xaxis": "x",
         "y": [
          0.4621011673151751
         ],
         "yaxis": "y"
        },
        {
         "base": [
          -0.021172651854048756
         ],
         "legendgroup": "San Francisco",
         "marker": {
          "color": "rgb(189,189,189)"
         },
         "name": "Orders: 2.117%",
         "showlegend": true,
         "type": "bar",
         "width": 0.8,
         "x": [
          "San Francisco"
         ],
         "xaxis": "x2",
         "y": [
          0.021172651854048756
         ],
         "yaxis": "y2"
        },
        {
         "base": 0,
         "legendgroup": "Merced",
         "marker": {
          "color": "rgb(189,189,189)"
         },
         "name": "Merced: 45.79%",
         "showlegend": true,
         "type": "bar",
         "width": 0.8,
         "x": [
          "Merced"
         ],
         "xaxis": "x",
         "y": [
          0.457931493182574
         ],
         "yaxis": "y"
        },
        {
         "base": [
          -0.019818261206264468
         ],
         "legendgroup": "Merced",
         "marker": {
          "color": "rgb(189,189,189)"
         },
         "name": "Orders: 1.982%",
         "showlegend": true,
         "type": "bar",
         "width": 0.8,
         "x": [
          "Merced"
         ],
         "xaxis": "x2",
         "y": [
          0.019818261206264468
         ],
         "yaxis": "y2"
        },
        {
         "base": 0,
         "legendgroup": "Kings",
         "marker": {
          "color": "rgb(189,189,189)"
         },
         "name": "Kings: 45.09%",
         "showlegend": true,
         "type": "bar",
         "width": 0.8,
         "x": [
          "Kings"
         ],
         "xaxis": "x",
         "y": [
          0.4508726567550097
         ],
         "yaxis": "y"
        },
        {
         "base": [
          -0.005097913216842556
         ],
         "legendgroup": "Kings",
         "marker": {
          "color": "rgb(189,189,189)"
         },
         "name": "Orders: 0.51%",
         "showlegend": true,
         "type": "bar",
         "width": 0.8,
         "x": [
          "Kings"
         ],
         "xaxis": "x2",
         "y": [
          0.005097913216842556
         ],
         "yaxis": "y2"
        },
        {
         "base": 0,
         "legendgroup": "Sierra",
         "marker": {
          "color": "rgb(189,189,189)"
         },
         "name": "Sierra: 44.75%",
         "showlegend": true,
         "type": "bar",
         "width": 0.8,
         "x": [
          "Sierra"
         ],
         "xaxis": "x",
         "y": [
          0.4474845542806708
         ],
         "yaxis": "y"
        },
        {
         "base": [
          -0.005600454758903636
         ],
         "legendgroup": "Sierra",
         "marker": {
          "color": "rgb(189,189,189)"
         },
         "name": "Orders: 0.56%",
         "showlegend": true,
         "type": "bar",
         "width": 0.8,
         "x": [
          "Sierra"
         ],
         "xaxis": "x2",
         "y": [
          0.005600454758903636
         ],
         "yaxis": "y2"
        },
        {
         "base": 0,
         "legendgroup": "Mono",
         "marker": {
          "color": "rgb(189,189,189)"
         },
         "name": "Mono: 44.55%",
         "showlegend": true,
         "type": "bar",
         "width": 0.8,
         "x": [
          "Mono"
         ],
         "xaxis": "x",
         "y": [
          0.44545454545454544
         ],
         "yaxis": "y"
        },
        {
         "base": [
          -0.0045311122644851425
         ],
         "legendgroup": "Mono",
         "marker": {
          "color": "rgb(189,189,189)"
         },
         "name": "Orders: 0.453%",
         "showlegend": true,
         "type": "bar",
         "width": 0.8,
         "x": [
          "Mono"
         ],
         "xaxis": "x2",
         "y": [
          0.0045311122644851425
         ],
         "yaxis": "y2"
        },
        {
         "base": 0,
         "legendgroup": "Glenn",
         "marker": {
          "color": "rgb(189,189,189)"
         },
         "name": "Glenn: 44.4%",
         "showlegend": true,
         "type": "bar",
         "width": 0.8,
         "x": [
          "Glenn"
         ],
         "xaxis": "x",
         "y": [
          0.443994260150249
         ],
         "yaxis": "y"
        },
        {
         "base": [
          -0.05856009490620598
         ],
         "legendgroup": "Glenn",
         "marker": {
          "color": "rgb(189,189,189)"
         },
         "name": "Orders: 5.856%",
         "showlegend": true,
         "type": "bar",
         "width": 0.8,
         "x": [
          "Glenn"
         ],
         "xaxis": "x2",
         "y": [
          0.05856009490620598
         ],
         "yaxis": "y2"
        },
        {
         "base": 0,
         "legendgroup": "Kern",
         "marker": {
          "color": "rgb(189,189,189)"
         },
         "name": "Kern: 44.29%",
         "showlegend": true,
         "type": "bar",
         "width": 0.8,
         "x": [
          "Kern"
         ],
         "xaxis": "x",
         "y": [
          0.4428973766652954
         ],
         "yaxis": "y"
        },
        {
         "base": [
          -0.052068246789089084
         ],
         "legendgroup": "Kern",
         "marker": {
          "color": "rgb(189,189,189)"
         },
         "name": "Orders: 5.207%",
         "showlegend": true,
         "type": "bar",
         "width": 0.8,
         "x": [
          "Kern"
         ],
         "xaxis": "x2",
         "y": [
          0.052068246789089084
         ],
         "yaxis": "y2"
        },
        {
         "base": 0,
         "legendgroup": "San Mateo",
         "marker": {
          "color": "rgb(189,189,189)"
         },
         "name": "San Mateo: 44.18%",
         "showlegend": true,
         "type": "bar",
         "width": 0.8,
         "x": [
          "San Mateo"
         ],
         "xaxis": "x",
         "y": [
          0.4417812539422228
         ],
         "yaxis": "y"
        },
        {
         "base": [
          -0.013061137062026808
         ],
         "legendgroup": "San Mateo",
         "marker": {
          "color": "rgb(189,189,189)"
         },
         "name": "Orders: 1.306%",
         "showlegend": true,
         "type": "bar",
         "width": 0.8,
         "x": [
          "San Mateo"
         ],
         "xaxis": "x2",
         "y": [
          0.013061137062026808
         ],
         "yaxis": "y2"
        },
        {
         "base": 0,
         "legendgroup": "Yuba",
         "marker": {
          "color": "rgb(189,189,189)"
         },
         "name": "Yuba: 44.16%",
         "showlegend": true,
         "type": "bar",
         "width": 0.8,
         "x": [
          "Yuba"
         ],
         "xaxis": "x",
         "y": [
          0.441606648199446
         ],
         "yaxis": "y"
        },
        {
         "base": [
          -0.029740573226893385
         ],
         "legendgroup": "Yuba",
         "marker": {
          "color": "rgb(189,189,189)"
         },
         "name": "Orders: 2.974%",
         "showlegend": true,
         "type": "bar",
         "width": 0.8,
         "x": [
          "Yuba"
         ],
         "xaxis": "x2",
         "y": [
          0.029740573226893385
         ],
         "yaxis": "y2"
        },
        {
         "base": 0,
         "legendgroup": "Fresno",
         "marker": {
          "color": "rgb(189,189,189)"
         },
         "name": "Fresno: 43.88%",
         "showlegend": true,
         "type": "bar",
         "width": 0.8,
         "x": [
          "Fresno"
         ],
         "xaxis": "x",
         "y": [
          0.43876395900260057
         ],
         "yaxis": "y"
        },
        {
         "base": [
          -0.05385432885988977
         ],
         "legendgroup": "Fresno",
         "marker": {
          "color": "rgb(189,189,189)"
         },
         "name": "Orders: 5.385%",
         "showlegend": true,
         "type": "bar",
         "width": 0.8,
         "x": [
          "Fresno"
         ],
         "xaxis": "x2",
         "y": [
          0.05385432885988977
         ],
         "yaxis": "y2"
        },
        {
         "base": 0,
         "legendgroup": "Orange",
         "marker": {
          "color": "rgb(189,189,189)"
         },
         "name": "Orange: 43.82%",
         "showlegend": true,
         "type": "bar",
         "width": 0.8,
         "x": [
          "Orange"
         ],
         "xaxis": "x",
         "y": [
          0.43822472170686455
         ],
         "yaxis": "y"
        },
        {
         "base": [
          -0.05683827224570162
         ],
         "legendgroup": "Orange",
         "marker": {
          "color": "rgb(189,189,189)"
         },
         "name": "Orders: 5.684%",
         "showlegend": true,
         "type": "bar",
         "width": 0.8,
         "x": [
          "Orange"
         ],
         "xaxis": "x2",
         "y": [
          0.05683827224570162
         ],
         "yaxis": "y2"
        },
        {
         "base": 0,
         "legendgroup": "Siskiyou",
         "marker": {
          "color": "rgb(189,189,189)"
         },
         "name": "Siskiyou: 43.45%",
         "showlegend": true,
         "type": "bar",
         "width": 0.8,
         "x": [
          "Siskiyou"
         ],
         "xaxis": "x",
         "y": [
          0.43445015987765884
         ],
         "yaxis": "y"
        },
        {
         "base": [
          -0.011851742006706046
         ],
         "legendgroup": "Siskiyou",
         "marker": {
          "color": "rgb(189,189,189)"
         },
         "name": "Orders: 1.185%",
         "showlegend": true,
         "type": "bar",
         "width": 0.8,
         "x": [
          "Siskiyou"
         ],
         "xaxis": "x2",
         "y": [
          0.011851742006706046
         ],
         "yaxis": "y2"
        },
        {
         "base": 0,
         "legendgroup": "Santa Clara",
         "marker": {
          "color": "rgb(189,189,189)"
         },
         "name": "Santa Clara: 43.43%",
         "showlegend": true,
         "type": "bar",
         "width": 0.8,
         "x": [
          "Santa Clara"
         ],
         "xaxis": "x",
         "y": [
          0.43429403808136513
         ],
         "yaxis": "y"
        },
        {
         "base": [
          -0.0158358254450788
         ],
         "legendgroup": "Santa Clara",
         "marker": {
          "color": "rgb(189,189,189)"
         },
         "name": "Orders: 1.584%",
         "showlegend": true,
         "type": "bar",
         "width": 0.8,
         "x": [
          "Santa Clara"
         ],
         "xaxis": "x2",
         "y": [
          0.0158358254450788
         ],
         "yaxis": "y2"
        },
        {
         "base": 0,
         "legendgroup": "Imperial",
         "marker": {
          "color": "rgb(189,189,189)"
         },
         "name": "Imperial: 43.19%",
         "showlegend": true,
         "type": "bar",
         "width": 0.8,
         "x": [
          "Imperial"
         ],
         "xaxis": "x",
         "y": [
          0.43187428502619063
         ],
         "yaxis": "y"
        },
        {
         "base": [
          -0.027366270400303174
         ],
         "legendgroup": "Imperial",
         "marker": {
          "color": "rgb(189,189,189)"
         },
         "name": "Orders: 2.737%",
         "showlegend": true,
         "type": "bar",
         "width": 0.8,
         "x": [
          "Imperial"
         ],
         "xaxis": "x2",
         "y": [
          0.027366270400303174
         ],
         "yaxis": "y2"
        },
        {
         "base": 0,
         "legendgroup": "Humboldt",
         "marker": {
          "color": "rgb(189,189,189)"
         },
         "name": "Humboldt: 43.17%",
         "showlegend": true,
         "type": "bar",
         "width": 0.8,
         "x": [
          "Humboldt"
         ],
         "xaxis": "x",
         "y": [
          0.4316831683168317
         ],
         "yaxis": "y"
        },
        {
         "base": [
          -0.0024962309384345418
         ],
         "legendgroup": "Humboldt",
         "marker": {
          "color": "rgb(189,189,189)"
         },
         "name": "Orders: 0.25%",
         "showlegend": true,
         "type": "bar",
         "width": 0.8,
         "x": [
          "Humboldt"
         ],
         "xaxis": "x2",
         "y": [
          0.0024962309384345418
         ],
         "yaxis": "y2"
        },
        {
         "base": 0,
         "legendgroup": "Los Angeles",
         "marker": {
          "color": "rgb(189,189,189)"
         },
         "name": "Los Angeles: 43.16%",
         "showlegend": true,
         "type": "bar",
         "width": 0.8,
         "x": [
          "Los Angeles"
         ],
         "xaxis": "x",
         "y": [
          0.43164649500446756
         ],
         "yaxis": "y"
        },
        {
         "base": [
          -0.020284553850209667
         ],
         "legendgroup": "Los Angeles",
         "marker": {
          "color": "rgb(189,189,189)"
         },
         "name": "Orders: 2.028%",
         "showlegend": true,
         "type": "bar",
         "width": 0.8,
         "x": [
          "Los Angeles"
         ],
         "xaxis": "x2",
         "y": [
          0.020284553850209667
         ],
         "yaxis": "y2"
        },
        {
         "base": 0,
         "legendgroup": "Calaveras",
         "marker": {
          "color": "rgb(189,189,189)"
         },
         "name": "Calaveras: 42.92%",
         "showlegend": true,
         "type": "bar",
         "width": 0.8,
         "x": [
          "Calaveras"
         ],
         "xaxis": "x",
         "y": [
          0.4291650405197548
         ],
         "yaxis": "y"
        },
        {
         "base": [
          -0.07177117059225757
         ],
         "legendgroup": "Calaveras",
         "marker": {
          "color": "rgb(189,189,189)"
         },
         "name": "Orders: 7.177%",
         "showlegend": true,
         "type": "bar",
         "width": 0.8,
         "x": [
          "Calaveras"
         ],
         "xaxis": "x2",
         "y": [
          0.07177117059225757
         ],
         "yaxis": "y2"
        },
        {
         "base": 0,
         "legendgroup": "Nevada",
         "marker": {
          "color": "rgb(189,189,189)"
         },
         "name": "Nevada: 42.78%",
         "showlegend": true,
         "type": "bar",
         "width": 0.8,
         "x": [
          "Nevada"
         ],
         "xaxis": "x",
         "y": [
          0.4278390554606183
         ],
         "yaxis": "y"
        },
        {
         "base": [
          -0.010606098053269404
         ],
         "legendgroup": "Nevada",
         "marker": {
          "color": "rgb(189,189,189)"
         },
         "name": "Orders: 1.061%",
         "showlegend": true,
         "type": "bar",
         "width": 0.8,
         "x": [
          "Nevada"
         ],
         "xaxis": "x2",
         "y": [
          0.010606098053269404
         ],
         "yaxis": "y2"
        },
        {
         "base": 0,
         "legendgroup": "Napa",
         "marker": {
          "color": "rgb(189,189,189)"
         },
         "name": "Napa: 42.54%",
         "showlegend": true,
         "type": "bar",
         "width": 0.8,
         "x": [
          "Napa"
         ],
         "xaxis": "x",
         "y": [
          0.4254185692541857
         ],
         "yaxis": "y"
        },
        {
         "base": [
          -0.004330095647660711
         ],
         "legendgroup": "Napa",
         "marker": {
          "color": "rgb(189,189,189)"
         },
         "name": "Orders: 0.433%",
         "showlegend": true,
         "type": "bar",
         "width": 0.8,
         "x": [
          "Napa"
         ],
         "xaxis": "x2",
         "y": [
          0.004330095647660711
         ],
         "yaxis": "y2"
        },
        {
         "base": 0,
         "legendgroup": "Alpine",
         "marker": {
          "color": "rgb(189,189,189)"
         },
         "name": "Alpine: 42.4%",
         "showlegend": true,
         "type": "bar",
         "width": 0.8,
         "x": [
          "Alpine"
         ],
         "xaxis": "x",
         "y": [
          0.42402968608966
         ],
         "yaxis": "y"
        },
        {
         "base": [
          -0.016428989232429584
         ],
         "legendgroup": "Alpine",
         "marker": {
          "color": "rgb(189,189,189)"
         },
         "name": "Orders: 1.643%",
         "showlegend": true,
         "type": "bar",
         "width": 0.8,
         "x": [
          "Alpine"
         ],
         "xaxis": "x2",
         "y": [
          0.016428989232429584
         ],
         "yaxis": "y2"
        },
        {
         "base": 0,
         "legendgroup": "Sutter",
         "marker": {
          "color": "rgb(189,189,189)"
         },
         "name": "Sutter: 41.9%",
         "showlegend": true,
         "type": "bar",
         "width": 0.8,
         "x": [
          "Sutter"
         ],
         "xaxis": "x",
         "y": [
          0.4190007867820614
         ],
         "yaxis": "y"
        },
        {
         "base": [
          -0.04188395409571357
         ],
         "legendgroup": "Sutter",
         "marker": {
          "color": "rgb(189,189,189)"
         },
         "name": "Orders: 4.188%",
         "showlegend": true,
         "type": "bar",
         "width": 0.8,
         "x": [
          "Sutter"
         ],
         "xaxis": "x2",
         "y": [
          0.04188395409571357
         ],
         "yaxis": "y2"
        },
        {
         "base": 0,
         "legendgroup": "Madera",
         "marker": {
          "color": "rgb(189,189,189)"
         },
         "name": "Madera: 41.88%",
         "showlegend": true,
         "type": "bar",
         "width": 0.8,
         "x": [
          "Madera"
         ],
         "xaxis": "x",
         "y": [
          0.41878172588832485
         ],
         "yaxis": "y"
        },
        {
         "base": [
          -0.02272146840990913
         ],
         "legendgroup": "Madera",
         "marker": {
          "color": "rgb(189,189,189)"
         },
         "name": "Orders: 2.272%",
         "showlegend": true,
         "type": "bar",
         "width": 0.8,
         "x": [
          "Madera"
         ],
         "xaxis": "x2",
         "y": [
          0.02272146840990913
         ],
         "yaxis": "y2"
        },
        {
         "base": 0,
         "legendgroup": "Solano",
         "marker": {
          "color": "rgb(189,189,189)"
         },
         "name": "Solano: 41.84%",
         "showlegend": true,
         "type": "bar",
         "width": 0.8,
         "x": [
          "Solano"
         ],
         "xaxis": "x",
         "y": [
          0.418446301454658
         ],
         "yaxis": "y"
        },
        {
         "base": [
          -0.0053236449914732704
         ],
         "legendgroup": "Solano",
         "marker": {
          "color": "rgb(189,189,189)"
         },
         "name": "Orders: 0.532%",
         "showlegend": true,
         "type": "bar",
         "width": 0.8,
         "x": [
          "Solano"
         ],
         "xaxis": "x2",
         "y": [
          0.0053236449914732704
         ],
         "yaxis": "y2"
        },
        {
         "base": 0,
         "legendgroup": "Plumas",
         "marker": {
          "color": "rgb(189,189,189)"
         },
         "name": "Plumas: 41.68%",
         "showlegend": true,
         "type": "bar",
         "width": 0.8,
         "x": [
          "Plumas"
         ],
         "xaxis": "x",
         "y": [
          0.4167913549459684
         ],
         "yaxis": "y"
        },
        {
         "base": [
          -0.00991077828031932
         ],
         "legendgroup": "Plumas",
         "marker": {
          "color": "rgb(189,189,189)"
         },
         "name": "Orders: 0.991%",
         "showlegend": true,
         "type": "bar",
         "width": 0.8,
         "x": [
          "Plumas"
         ],
         "xaxis": "x2",
         "y": [
          0.00991077828031932
         ],
         "yaxis": "y2"
        },
        {
         "base": 0,
         "legendgroup": "Contra Costa",
         "marker": {
          "color": "rgb(189,189,189)"
         },
         "name": "Contra Costa: 41.41%",
         "showlegend": true,
         "type": "bar",
         "width": 0.8,
         "x": [
          "Contra Costa"
         ],
         "xaxis": "x",
         "y": [
          0.4140900195694716
         ],
         "yaxis": "y"
        },
        {
         "base": [
          -0.012629445639010405
         ],
         "legendgroup": "Contra Costa",
         "marker": {
          "color": "rgb(189,189,189)"
         },
         "name": "Orders: 1.263%",
         "showlegend": true,
         "type": "bar",
         "width": 0.8,
         "x": [
          "Contra Costa"
         ],
         "xaxis": "x2",
         "y": [
          0.012629445639010405
         ],
         "yaxis": "y2"
        },
        {
         "base": 0,
         "legendgroup": "Amador",
         "marker": {
          "color": "rgb(189,189,189)"
         },
         "name": "Amador: 41.28%",
         "showlegend": true,
         "type": "bar",
         "width": 0.8,
         "x": [
          "Amador"
         ],
         "xaxis": "x",
         "y": [
          0.4128160171935977
         ],
         "yaxis": "y"
        },
        {
         "base": [
          -0.029132580344858834
         ],
         "legendgroup": "Amador",
         "marker": {
          "color": "rgb(189,189,189)"
         },
         "name": "Orders: 2.913%",
         "showlegend": true,
         "type": "bar",
         "width": 0.8,
         "x": [
          "Amador"
         ],
         "xaxis": "x2",
         "y": [
          0.029132580344858834
         ],
         "yaxis": "y2"
        },
        {
         "base": 0,
         "legendgroup": "Colusa",
         "marker": {
          "color": "rgb(189,189,189)"
         },
         "name": "Colusa: 40.63%",
         "showlegend": true,
         "type": "bar",
         "width": 0.8,
         "x": [
          "Colusa"
         ],
         "xaxis": "x",
         "y": [
          0.4063083240014931
         ],
         "yaxis": "y"
        },
        {
         "base": [
          -0.008828254368404143
         ],
         "legendgroup": "Colusa",
         "marker": {
          "color": "rgb(189,189,189)"
         },
         "name": "Orders: 0.883%",
         "showlegend": true,
         "type": "bar",
         "width": 0.8,
         "x": [
          "Colusa"
         ],
         "xaxis": "x2",
         "y": [
          0.008828254368404143
         ],
         "yaxis": "y2"
        },
        {
         "base": 0,
         "legendgroup": "Ventura",
         "marker": {
          "color": "rgb(189,189,189)"
         },
         "name": "Ventura: 40.56%",
         "showlegend": true,
         "type": "bar",
         "width": 0.8,
         "x": [
          "Ventura"
         ],
         "xaxis": "x",
         "y": [
          0.40560687084751257
         ],
         "yaxis": "y"
        },
        {
         "base": [
          -0.04067126368601864
         ],
         "legendgroup": "Ventura",
         "marker": {
          "color": "rgb(189,189,189)"
         },
         "name": "Orders: 4.067%",
         "showlegend": true,
         "type": "bar",
         "width": 0.8,
         "x": [
          "Ventura"
         ],
         "xaxis": "x2",
         "y": [
          0.04067126368601864
         ],
         "yaxis": "y2"
        },
        {
         "base": 0,
         "legendgroup": "Riverside",
         "marker": {
          "color": "rgb(217,217,217)"
         },
         "name": "Riverside: 39.93%",
         "showlegend": true,
         "type": "bar",
         "width": 0.8,
         "x": [
          "Riverside"
         ],
         "xaxis": "x",
         "y": [
          0.3993374108053007
         ],
         "yaxis": "y"
        },
        {
         "base": [
          -0.006465485282123527
         ],
         "legendgroup": "Riverside",
         "marker": {
          "color": "rgb(217,217,217)"
         },
         "name": "Orders: 0.647%",
         "showlegend": true,
         "type": "bar",
         "width": 0.8,
         "x": [
          "Riverside"
         ],
         "xaxis": "x2",
         "y": [
          0.006465485282123527
         ],
         "yaxis": "y2"
        },
        {
         "base": 0,
         "legendgroup": "San Luis Obispo",
         "marker": {
          "color": "rgb(217,217,217)"
         },
         "name": "San Luis Obispo: 39.01%",
         "showlegend": true,
         "type": "bar",
         "width": 0.8,
         "x": [
          "San Luis Obispo"
         ],
         "xaxis": "x",
         "y": [
          0.39010543390105434
         ],
         "yaxis": "y"
        },
        {
         "base": [
          -0.006094757915029288
         ],
         "legendgroup": "San Luis Obispo",
         "marker": {
          "color": "rgb(217,217,217)"
         },
         "name": "Orders: 0.609%",
         "showlegend": true,
         "type": "bar",
         "width": 0.8,
         "x": [
          "San Luis Obispo"
         ],
         "xaxis": "x2",
         "y": [
          0.006094757915029288
         ],
         "yaxis": "y2"
        },
        {
         "base": 0,
         "legendgroup": "San Joaquin",
         "marker": {
          "color": "rgb(217,217,217)"
         },
         "name": "San Joaquin: 38.23%",
         "showlegend": true,
         "type": "bar",
         "width": 0.8,
         "x": [
          "San Joaquin"
         ],
         "xaxis": "x",
         "y": [
          0.382259767687434
         ],
         "yaxis": "y"
        },
        {
         "base": [
          -0.0015603502961699745
         ],
         "legendgroup": "San Joaquin",
         "marker": {
          "color": "rgb(217,217,217)"
         },
         "name": "Orders: 0.156%",
         "showlegend": true,
         "type": "bar",
         "width": 0.8,
         "x": [
          "San Joaquin"
         ],
         "xaxis": "x2",
         "y": [
          0.0015603502961699745
         ],
         "yaxis": "y2"
        },
        {
         "base": 0,
         "legendgroup": "Monterey",
         "marker": {
          "color": "rgb(217,217,217)"
         },
         "name": "Monterey: 38.01%",
         "showlegend": true,
         "type": "bar",
         "width": 0.8,
         "x": [
          "Monterey"
         ],
         "xaxis": "x",
         "y": [
          0.38012592163035375
         ],
         "yaxis": "y"
        },
        {
         "base": [
          -0.03977822265061829
         ],
         "legendgroup": "Monterey",
         "marker": {
          "color": "rgb(217,217,217)"
         },
         "name": "Orders: 3.978%",
         "showlegend": true,
         "type": "bar",
         "width": 0.8,
         "x": [
          "Monterey"
         ],
         "xaxis": "x2",
         "y": [
          0.03977822265061829
         ],
         "yaxis": "y2"
        },
        {
         "base": 0,
         "legendgroup": "Tehama",
         "marker": {
          "color": "rgb(217,217,217)"
         },
         "name": "Tehama: 37.9%",
         "showlegend": true,
         "type": "bar",
         "width": 0.8,
         "x": [
          "Tehama"
         ],
         "xaxis": "x",
         "y": [
          0.3790123456790123
         ],
         "yaxis": "y"
        },
        {
         "base": [
          -0.00133461852153926
         ],
         "legendgroup": "Tehama",
         "marker": {
          "color": "rgb(217,217,217)"
         },
         "name": "Orders: 0.133%",
         "showlegend": true,
         "type": "bar",
         "width": 0.8,
         "x": [
          "Tehama"
         ],
         "xaxis": "x2",
         "y": [
          0.00133461852153926
         ],
         "yaxis": "y2"
        },
        {
         "base": 0,
         "legendgroup": "Stanislaus",
         "marker": {
          "color": "rgb(217,217,217)"
         },
         "name": "Stanislaus: 37.75%",
         "showlegend": true,
         "type": "bar",
         "width": 0.8,
         "x": [
          "Stanislaus"
         ],
         "xaxis": "x",
         "y": [
          0.3774949378073474
         ],
         "yaxis": "y"
        },
        {
         "base": [
          -0.005696020035754595
         ],
         "legendgroup": "Stanislaus",
         "marker": {
          "color": "rgb(217,217,217)"
         },
         "name": "Orders: 0.57%",
         "showlegend": true,
         "type": "bar",
         "width": 0.8,
         "x": [
          "Stanislaus"
         ],
         "xaxis": "x2",
         "y": [
          0.005696020035754595
         ],
         "yaxis": "y2"
        },
        {
         "base": 0,
         "legendgroup": "Mariposa",
         "marker": {
          "color": "rgb(217,217,217)"
         },
         "name": "Mariposa: 37.66%",
         "showlegend": true,
         "type": "bar",
         "width": 0.8,
         "x": [
          "Mariposa"
         ],
         "xaxis": "x",
         "y": [
          0.3766462942239821
         ],
         "yaxis": "y"
        },
        {
         "base": [
          -0.038282131764744654
         ],
         "legendgroup": "Mariposa",
         "marker": {
          "color": "rgb(217,217,217)"
         },
         "name": "Orders: 3.828%",
         "showlegend": true,
         "type": "bar",
         "width": 0.8,
         "x": [
          "Mariposa"
         ],
         "xaxis": "x2",
         "y": [
          0.038282131764744654
         ],
         "yaxis": "y2"
        },
        {
         "base": 0,
         "legendgroup": "Alameda",
         "marker": {
          "color": "rgb(217,217,217)"
         },
         "name": "Alameda: 37.58%",
         "showlegend": true,
         "type": "bar",
         "width": 0.8,
         "x": [
          "Alameda"
         ],
         "xaxis": "x",
         "y": [
          0.37575452716297786
         ],
         "yaxis": "y"
        },
        {
         "base": [
          -0.006551164495851972
         ],
         "legendgroup": "Alameda",
         "marker": {
          "color": "rgb(217,217,217)"
         },
         "name": "Orders: 0.655%",
         "showlegend": true,
         "type": "bar",
         "width": 0.8,
         "x": [
          "Alameda"
         ],
         "xaxis": "x2",
         "y": [
          0.006551164495851972
         ],
         "yaxis": "y2"
        },
        {
         "base": 0,
         "legendgroup": "Yolo",
         "marker": {
          "color": "rgb(217,217,217)"
         },
         "name": "Yolo: 36.91%",
         "showlegend": true,
         "type": "bar",
         "width": 0.8,
         "x": [
          "Yolo"
         ],
         "xaxis": "x",
         "y": [
          0.36907698299363884
         ],
         "yaxis": "y"
        },
        {
         "base": [
          -0.012692057372119654
         ],
         "legendgroup": "Yolo",
         "marker": {
          "color": "rgb(217,217,217)"
         },
         "name": "Orders: 1.269%",
         "showlegend": true,
         "type": "bar",
         "width": 0.8,
         "x": [
          "Yolo"
         ],
         "xaxis": "x2",
         "y": [
          0.012692057372119654
         ],
         "yaxis": "y2"
        },
        {
         "base": 0,
         "legendgroup": "Marin",
         "marker": {
          "color": "rgb(217,217,217)"
         },
         "name": "Marin: 35.63%",
         "showlegend": true,
         "type": "bar",
         "width": 0.8,
         "x": [
          "Marin"
         ],
         "xaxis": "x",
         "y": [
          0.35629370629370627
         ],
         "yaxis": "y"
        },
        {
         "base": [
          -0.014137070265193643
         ],
         "legendgroup": "Marin",
         "marker": {
          "color": "rgb(217,217,217)"
         },
         "name": "Orders: 1.414%",
         "showlegend": true,
         "type": "bar",
         "width": 0.8,
         "x": [
          "Marin"
         ],
         "xaxis": "x2",
         "y": [
          0.014137070265193643
         ],
         "yaxis": "y2"
        },
        {
         "base": 0,
         "legendgroup": "Mendocino",
         "marker": {
          "color": "rgb(217,217,217)"
         },
         "name": "Mendocino: 35.05%",
         "showlegend": true,
         "type": "bar",
         "width": 0.8,
         "x": [
          "Mendocino"
         ],
         "xaxis": "x",
         "y": [
          0.35050055617352616
         ],
         "yaxis": "y"
        },
        {
         "base": [
          -0.0148126179118987
         ],
         "legendgroup": "Mendocino",
         "marker": {
          "color": "rgb(217,217,217)"
         },
         "name": "Orders: 1.481%",
         "showlegend": true,
         "type": "bar",
         "width": 0.8,
         "x": [
          "Mendocino"
         ],
         "xaxis": "x2",
         "y": [
          0.0148126179118987
         ],
         "yaxis": "y2"
        },
        {
         "base": 0,
         "legendgroup": "Sonoma",
         "marker": {
          "color": "rgb(217,217,217)"
         },
         "name": "Sonoma: 34.99%",
         "showlegend": true,
         "type": "bar",
         "width": 0.8,
         "x": [
          "Sonoma"
         ],
         "xaxis": "x",
         "y": [
          0.34993270524899056
         ],
         "yaxis": "y"
        },
        {
         "base": [
          -0.0036726724500135933
         ],
         "legendgroup": "Sonoma",
         "marker": {
          "color": "rgb(217,217,217)"
         },
         "name": "Orders: 0.367%",
         "showlegend": true,
         "type": "bar",
         "width": 0.8,
         "x": [
          "Sonoma"
         ],
         "xaxis": "x2",
         "y": [
          0.0036726724500135933
         ],
         "yaxis": "y2"
        },
        {
         "base": 0,
         "legendgroup": "Placer",
         "marker": {
          "color": "rgb(217,217,217)"
         },
         "name": "Placer: 34.78%",
         "showlegend": true,
         "type": "bar",
         "width": 0.8,
         "x": [
          "Placer"
         ],
         "xaxis": "x",
         "y": [
          0.34782608695652173
         ],
         "yaxis": "y"
        },
        {
         "base": [
          -0.00007579315060593328
         ],
         "legendgroup": "Placer",
         "marker": {
          "color": "rgb(217,217,217)"
         },
         "name": "Orders: 0.008%",
         "showlegend": true,
         "type": "bar",
         "width": 0.8,
         "x": [
          "Placer"
         ],
         "xaxis": "x2",
         "y": [
          0.00007579315060593328
         ],
         "yaxis": "y2"
        },
        {
         "base": 0,
         "legendgroup": "Sacramento",
         "marker": {
          "color": "rgb(217,217,217)"
         },
         "name": "Sacramento: 34.01%",
         "showlegend": true,
         "type": "bar",
         "width": 0.8,
         "x": [
          "Sacramento"
         ],
         "xaxis": "x",
         "y": [
          0.3401280447420708
         ],
         "yaxis": "y"
        },
        {
         "base": [
          -0.022390285295304943
         ],
         "legendgroup": "Sacramento",
         "marker": {
          "color": "rgb(217,217,217)"
         },
         "name": "Orders: 2.239%",
         "showlegend": true,
         "type": "bar",
         "width": 0.8,
         "x": [
          "Sacramento"
         ],
         "xaxis": "x2",
         "y": [
          0.022390285295304943
         ],
         "yaxis": "y2"
        },
        {
         "base": 0,
         "legendgroup": "Santa Cruz",
         "marker": {
          "color": "rgb(217,217,217)"
         },
         "name": "Santa Cruz: 32.97%",
         "showlegend": true,
         "type": "bar",
         "width": 0.8,
         "x": [
          "Santa Cruz"
         ],
         "xaxis": "x",
         "y": [
          0.32973112719751807
         ],
         "yaxis": "y"
        },
        {
         "base": [
          -0.03186607679823369
         ],
         "legendgroup": "Santa Cruz",
         "marker": {
          "color": "rgb(217,217,217)"
         },
         "name": "Orders: 3.187%",
         "showlegend": true,
         "type": "bar",
         "width": 0.8,
         "x": [
          "Santa Cruz"
         ],
         "xaxis": "x2",
         "y": [
          0.03186607679823369
         ],
         "yaxis": "y2"
        },
        {
         "base": 0,
         "legendgroup": "Lake",
         "marker": {
          "color": "rgb(217,217,217)"
         },
         "name": "Lake: 32.89%",
         "showlegend": true,
         "type": "bar",
         "width": 0.8,
         "x": [
          "Lake"
         ],
         "xaxis": "x",
         "y": [
          0.3289296445964149
         ],
         "yaxis": "y"
        },
        {
         "base": [
          -0.031803465065124444
         ],
         "legendgroup": "Lake",
         "marker": {
          "color": "rgb(217,217,217)"
         },
         "name": "Orders: 3.18%",
         "showlegend": true,
         "type": "bar",
         "width": 0.8,
         "x": [
          "Lake"
         ],
         "xaxis": "x2",
         "y": [
          0.031803465065124444
         ],
         "yaxis": "y2"
        },
        {
         "base": 0,
         "legendgroup": "Inyo",
         "marker": {
          "color": "rgb(217,217,217)"
         },
         "name": "Inyo: 31.24%",
         "showlegend": true,
         "type": "bar",
         "width": 0.8,
         "x": [
          "Inyo"
         ],
         "xaxis": "x",
         "y": [
          0.3124006359300477
         ],
         "yaxis": "y"
        },
        {
         "base": [
          -0.012436667408121401
         ],
         "legendgroup": "Inyo",
         "marker": {
          "color": "rgb(217,217,217)"
         },
         "name": "Orders: 1.244%",
         "showlegend": true,
         "type": "bar",
         "width": 0.8,
         "x": [
          "Inyo"
         ],
         "xaxis": "x2",
         "y": [
          0.012436667408121401
         ],
         "yaxis": "y2"
        },
        {
         "base": 0,
         "legendgroup": "Tulare",
         "marker": {
          "color": "rgb(240,240,240)"
         },
         "name": "Tulare: 28.25%",
         "showlegend": true,
         "text": [
          0.282
         ],
         "type": "bar",
         "width": 0.8,
         "x": [
          "Tulare"
         ],
         "xaxis": "x",
         "y": [
          0.2824519230769231
         ],
         "yaxis": "y"
        },
        {
         "base": [
          -0.0027417348393102823
         ],
         "legendgroup": "Tulare",
         "marker": {
          "color": "rgb(240,240,240)"
         },
         "name": "Orders: 0.274%",
         "showlegend": true,
         "type": "bar",
         "width": 0.8,
         "x": [
          "Tulare"
         ],
         "xaxis": "x2",
         "y": [
          0.0027417348393102823
         ],
         "yaxis": "y2"
        },
        {
         "base": 0,
         "legendgroup": "Trinity",
         "marker": {
          "color": "rgb(240,240,240)"
         },
         "name": "Trinity: 22.16%",
         "showlegend": true,
         "text": [
          0.222
         ],
         "type": "bar",
         "width": 0.8,
         "x": [
          "Trinity"
         ],
         "xaxis": "x",
         "y": [
          0.22162162162162163
         ],
         "yaxis": "y"
        },
        {
         "base": [
          -0.00030482027961081863
         ],
         "legendgroup": "Trinity",
         "marker": {
          "color": "rgb(240,240,240)"
         },
         "name": "Orders: 0.03%",
         "showlegend": true,
         "type": "bar",
         "width": 0.8,
         "x": [
          "Trinity"
         ],
         "xaxis": "x2",
         "y": [
          0.00030482027961081863
         ],
         "yaxis": "y2"
        }
       ],
       "layout": {
        "annotations": [
         {
          "font": {
           "color": "rgb(37,37,37)",
           "size": 12
          },
          "opacity": 0.8,
          "showarrow": false,
          "text": "0.5",
          "x": 1,
          "xanchor": "right",
          "xref": "x domain",
          "y": 0.5,
          "yanchor": "bottom",
          "yref": "y"
         },
         {
          "font": {
           "color": "rgb(37,37,37)",
           "size": 12
          },
          "opacity": 0.8,
          "showarrow": false,
          "text": "0.3",
          "x": 1,
          "xanchor": "right",
          "xref": "x domain",
          "y": 0.3,
          "yanchor": "bottom",
          "yref": "y"
         },
         {
          "font": {
           "color": "rgb(37,37,37)",
           "size": 12
          },
          "opacity": 0.8,
          "showarrow": false,
          "text": "-0.05",
          "x": 1,
          "xanchor": "right",
          "xref": "x2 domain",
          "y": -0.05,
          "yanchor": "bottom",
          "yref": "y2"
         },
         {
          "font": {
           "color": "rgb(37,37,37)",
           "size": 12
          },
          "opacity": 0.8,
          "showarrow": false,
          "text": "-0.03",
          "x": 1,
          "xanchor": "right",
          "xref": "x2 domain",
          "y": -0.03,
          "yanchor": "bottom",
          "yref": "y2"
         }
        ],
        "height": 700,
        "legend": {
         "title": {
          "text": "<b>Counties</b>"
         }
        },
        "plot_bgcolor": "white",
        "shapes": [
         {
          "layer": "below",
          "line": {
           "color": "rgb(37,37,37)",
           "dash": "solid"
          },
          "opacity": 0.3,
          "type": "line",
          "x0": 0,
          "x1": 1,
          "xref": "x domain",
          "y0": 0.5,
          "y1": 0.5,
          "yref": "y"
         },
         {
          "layer": "below",
          "line": {
           "color": "rgb(37,37,37)",
           "dash": "solid"
          },
          "opacity": 0.3,
          "type": "line",
          "x0": 0,
          "x1": 1,
          "xref": "x domain",
          "y0": 0.3,
          "y1": 0.3,
          "yref": "y"
         },
         {
          "layer": "below",
          "line": {
           "color": "rgb(37,37,37)",
           "dash": "solid"
          },
          "opacity": 0.3,
          "type": "line",
          "x0": 0,
          "x1": 1,
          "xref": "x2 domain",
          "y0": -0.05,
          "y1": -0.05,
          "yref": "y2"
         },
         {
          "layer": "below",
          "line": {
           "color": "rgb(37,37,37)",
           "dash": "solid"
          },
          "opacity": 0.3,
          "type": "line",
          "x0": 0,
          "x1": 1,
          "xref": "x2 domain",
          "y0": -0.03,
          "y1": -0.03,
          "yref": "y2"
         },
         {
          "layer": "below",
          "line": {
           "color": "black",
           "dash": "solid"
          },
          "opacity": 1,
          "type": "line",
          "x0": 0,
          "x1": 1,
          "xref": "x domain",
          "y0": 0,
          "y1": 0,
          "yref": "y"
         },
         {
          "layer": "below",
          "line": {
           "color": "black",
           "dash": "solid"
          },
          "opacity": 0.8,
          "type": "line",
          "x0": 0,
          "x1": 1,
          "xref": "x2 domain",
          "y0": 0,
          "y1": 0,
          "yref": "y2"
         },
         {
          "layer": "below",
          "line": {
           "color": "black",
           "dash": "solid"
          },
          "opacity": 0.8,
          "type": "line",
          "x0": -1,
          "x1": -1,
          "xref": "x2",
          "y0": 0,
          "y1": 1,
          "yref": "y2 domain"
         },
         {
          "layer": "below",
          "line": {
           "color": "black",
           "dash": "solid"
          },
          "opacity": 0.8,
          "type": "line",
          "x0": -1,
          "x1": -1,
          "xref": "x",
          "y0": 0,
          "y1": 1,
          "yref": "y domain"
         },
         {
          "layer": "below",
          "line": {
           "color": "black",
           "dash": "solid"
          },
          "opacity": 0.8,
          "type": "line",
          "x0": 0,
          "x1": 1,
          "xref": "x2 domain",
          "y0": -0.075,
          "y1": -0.075,
          "yref": "y2"
         }
        ],
        "template": {
         "data": {
          "bar": [
           {
            "error_x": {
             "color": "#2a3f5f"
            },
            "error_y": {
             "color": "#2a3f5f"
            },
            "marker": {
             "line": {
              "color": "#E5ECF6",
              "width": 0.5
             },
             "pattern": {
              "fillmode": "overlay",
              "size": 10,
              "solidity": 0.2
             }
            },
            "type": "bar"
           }
          ],
          "barpolar": [
           {
            "marker": {
             "line": {
              "color": "#E5ECF6",
              "width": 0.5
             },
             "pattern": {
              "fillmode": "overlay",
              "size": 10,
              "solidity": 0.2
             }
            },
            "type": "barpolar"
           }
          ],
          "carpet": [
           {
            "aaxis": {
             "endlinecolor": "#2a3f5f",
             "gridcolor": "white",
             "linecolor": "white",
             "minorgridcolor": "white",
             "startlinecolor": "#2a3f5f"
            },
            "baxis": {
             "endlinecolor": "#2a3f5f",
             "gridcolor": "white",
             "linecolor": "white",
             "minorgridcolor": "white",
             "startlinecolor": "#2a3f5f"
            },
            "type": "carpet"
           }
          ],
          "choropleth": [
           {
            "colorbar": {
             "outlinewidth": 0,
             "ticks": ""
            },
            "type": "choropleth"
           }
          ],
          "contour": [
           {
            "colorbar": {
             "outlinewidth": 0,
             "ticks": ""
            },
            "colorscale": [
             [
              0,
              "#0d0887"
             ],
             [
              0.1111111111111111,
              "#46039f"
             ],
             [
              0.2222222222222222,
              "#7201a8"
             ],
             [
              0.3333333333333333,
              "#9c179e"
             ],
             [
              0.4444444444444444,
              "#bd3786"
             ],
             [
              0.5555555555555556,
              "#d8576b"
             ],
             [
              0.6666666666666666,
              "#ed7953"
             ],
             [
              0.7777777777777778,
              "#fb9f3a"
             ],
             [
              0.8888888888888888,
              "#fdca26"
             ],
             [
              1,
              "#f0f921"
             ]
            ],
            "type": "contour"
           }
          ],
          "contourcarpet": [
           {
            "colorbar": {
             "outlinewidth": 0,
             "ticks": ""
            },
            "type": "contourcarpet"
           }
          ],
          "heatmap": [
           {
            "colorbar": {
             "outlinewidth": 0,
             "ticks": ""
            },
            "colorscale": [
             [
              0,
              "#0d0887"
             ],
             [
              0.1111111111111111,
              "#46039f"
             ],
             [
              0.2222222222222222,
              "#7201a8"
             ],
             [
              0.3333333333333333,
              "#9c179e"
             ],
             [
              0.4444444444444444,
              "#bd3786"
             ],
             [
              0.5555555555555556,
              "#d8576b"
             ],
             [
              0.6666666666666666,
              "#ed7953"
             ],
             [
              0.7777777777777778,
              "#fb9f3a"
             ],
             [
              0.8888888888888888,
              "#fdca26"
             ],
             [
              1,
              "#f0f921"
             ]
            ],
            "type": "heatmap"
           }
          ],
          "heatmapgl": [
           {
            "colorbar": {
             "outlinewidth": 0,
             "ticks": ""
            },
            "colorscale": [
             [
              0,
              "#0d0887"
             ],
             [
              0.1111111111111111,
              "#46039f"
             ],
             [
              0.2222222222222222,
              "#7201a8"
             ],
             [
              0.3333333333333333,
              "#9c179e"
             ],
             [
              0.4444444444444444,
              "#bd3786"
             ],
             [
              0.5555555555555556,
              "#d8576b"
             ],
             [
              0.6666666666666666,
              "#ed7953"
             ],
             [
              0.7777777777777778,
              "#fb9f3a"
             ],
             [
              0.8888888888888888,
              "#fdca26"
             ],
             [
              1,
              "#f0f921"
             ]
            ],
            "type": "heatmapgl"
           }
          ],
          "histogram": [
           {
            "marker": {
             "pattern": {
              "fillmode": "overlay",
              "size": 10,
              "solidity": 0.2
             }
            },
            "type": "histogram"
           }
          ],
          "histogram2d": [
           {
            "colorbar": {
             "outlinewidth": 0,
             "ticks": ""
            },
            "colorscale": [
             [
              0,
              "#0d0887"
             ],
             [
              0.1111111111111111,
              "#46039f"
             ],
             [
              0.2222222222222222,
              "#7201a8"
             ],
             [
              0.3333333333333333,
              "#9c179e"
             ],
             [
              0.4444444444444444,
              "#bd3786"
             ],
             [
              0.5555555555555556,
              "#d8576b"
             ],
             [
              0.6666666666666666,
              "#ed7953"
             ],
             [
              0.7777777777777778,
              "#fb9f3a"
             ],
             [
              0.8888888888888888,
              "#fdca26"
             ],
             [
              1,
              "#f0f921"
             ]
            ],
            "type": "histogram2d"
           }
          ],
          "histogram2dcontour": [
           {
            "colorbar": {
             "outlinewidth": 0,
             "ticks": ""
            },
            "colorscale": [
             [
              0,
              "#0d0887"
             ],
             [
              0.1111111111111111,
              "#46039f"
             ],
             [
              0.2222222222222222,
              "#7201a8"
             ],
             [
              0.3333333333333333,
              "#9c179e"
             ],
             [
              0.4444444444444444,
              "#bd3786"
             ],
             [
              0.5555555555555556,
              "#d8576b"
             ],
             [
              0.6666666666666666,
              "#ed7953"
             ],
             [
              0.7777777777777778,
              "#fb9f3a"
             ],
             [
              0.8888888888888888,
              "#fdca26"
             ],
             [
              1,
              "#f0f921"
             ]
            ],
            "type": "histogram2dcontour"
           }
          ],
          "mesh3d": [
           {
            "colorbar": {
             "outlinewidth": 0,
             "ticks": ""
            },
            "type": "mesh3d"
           }
          ],
          "parcoords": [
           {
            "line": {
             "colorbar": {
              "outlinewidth": 0,
              "ticks": ""
             }
            },
            "type": "parcoords"
           }
          ],
          "pie": [
           {
            "automargin": true,
            "type": "pie"
           }
          ],
          "scatter": [
           {
            "fillpattern": {
             "fillmode": "overlay",
             "size": 10,
             "solidity": 0.2
            },
            "type": "scatter"
           }
          ],
          "scatter3d": [
           {
            "line": {
             "colorbar": {
              "outlinewidth": 0,
              "ticks": ""
             }
            },
            "marker": {
             "colorbar": {
              "outlinewidth": 0,
              "ticks": ""
             }
            },
            "type": "scatter3d"
           }
          ],
          "scattercarpet": [
           {
            "marker": {
             "colorbar": {
              "outlinewidth": 0,
              "ticks": ""
             }
            },
            "type": "scattercarpet"
           }
          ],
          "scattergeo": [
           {
            "marker": {
             "colorbar": {
              "outlinewidth": 0,
              "ticks": ""
             }
            },
            "type": "scattergeo"
           }
          ],
          "scattergl": [
           {
            "marker": {
             "colorbar": {
              "outlinewidth": 0,
              "ticks": ""
             }
            },
            "type": "scattergl"
           }
          ],
          "scattermapbox": [
           {
            "marker": {
             "colorbar": {
              "outlinewidth": 0,
              "ticks": ""
             }
            },
            "type": "scattermapbox"
           }
          ],
          "scatterpolar": [
           {
            "marker": {
             "colorbar": {
              "outlinewidth": 0,
              "ticks": ""
             }
            },
            "type": "scatterpolar"
           }
          ],
          "scatterpolargl": [
           {
            "marker": {
             "colorbar": {
              "outlinewidth": 0,
              "ticks": ""
             }
            },
            "type": "scatterpolargl"
           }
          ],
          "scatterternary": [
           {
            "marker": {
             "colorbar": {
              "outlinewidth": 0,
              "ticks": ""
             }
            },
            "type": "scatterternary"
           }
          ],
          "surface": [
           {
            "colorbar": {
             "outlinewidth": 0,
             "ticks": ""
            },
            "colorscale": [
             [
              0,
              "#0d0887"
             ],
             [
              0.1111111111111111,
              "#46039f"
             ],
             [
              0.2222222222222222,
              "#7201a8"
             ],
             [
              0.3333333333333333,
              "#9c179e"
             ],
             [
              0.4444444444444444,
              "#bd3786"
             ],
             [
              0.5555555555555556,
              "#d8576b"
             ],
             [
              0.6666666666666666,
              "#ed7953"
             ],
             [
              0.7777777777777778,
              "#fb9f3a"
             ],
             [
              0.8888888888888888,
              "#fdca26"
             ],
             [
              1,
              "#f0f921"
             ]
            ],
            "type": "surface"
           }
          ],
          "table": [
           {
            "cells": {
             "fill": {
              "color": "#EBF0F8"
             },
             "line": {
              "color": "white"
             }
            },
            "header": {
             "fill": {
              "color": "#C8D4E3"
             },
             "line": {
              "color": "white"
             }
            },
            "type": "table"
           }
          ]
         },
         "layout": {
          "annotationdefaults": {
           "arrowcolor": "#2a3f5f",
           "arrowhead": 0,
           "arrowwidth": 1
          },
          "autotypenumbers": "strict",
          "coloraxis": {
           "colorbar": {
            "outlinewidth": 0,
            "ticks": ""
           }
          },
          "colorscale": {
           "diverging": [
            [
             0,
             "#8e0152"
            ],
            [
             0.1,
             "#c51b7d"
            ],
            [
             0.2,
             "#de77ae"
            ],
            [
             0.3,
             "#f1b6da"
            ],
            [
             0.4,
             "#fde0ef"
            ],
            [
             0.5,
             "#f7f7f7"
            ],
            [
             0.6,
             "#e6f5d0"
            ],
            [
             0.7,
             "#b8e186"
            ],
            [
             0.8,
             "#7fbc41"
            ],
            [
             0.9,
             "#4d9221"
            ],
            [
             1,
             "#276419"
            ]
           ],
           "sequential": [
            [
             0,
             "#0d0887"
            ],
            [
             0.1111111111111111,
             "#46039f"
            ],
            [
             0.2222222222222222,
             "#7201a8"
            ],
            [
             0.3333333333333333,
             "#9c179e"
            ],
            [
             0.4444444444444444,
             "#bd3786"
            ],
            [
             0.5555555555555556,
             "#d8576b"
            ],
            [
             0.6666666666666666,
             "#ed7953"
            ],
            [
             0.7777777777777778,
             "#fb9f3a"
            ],
            [
             0.8888888888888888,
             "#fdca26"
            ],
            [
             1,
             "#f0f921"
            ]
           ],
           "sequentialminus": [
            [
             0,
             "#0d0887"
            ],
            [
             0.1111111111111111,
             "#46039f"
            ],
            [
             0.2222222222222222,
             "#7201a8"
            ],
            [
             0.3333333333333333,
             "#9c179e"
            ],
            [
             0.4444444444444444,
             "#bd3786"
            ],
            [
             0.5555555555555556,
             "#d8576b"
            ],
            [
             0.6666666666666666,
             "#ed7953"
            ],
            [
             0.7777777777777778,
             "#fb9f3a"
            ],
            [
             0.8888888888888888,
             "#fdca26"
            ],
            [
             1,
             "#f0f921"
            ]
           ]
          },
          "colorway": [
           "#636efa",
           "#EF553B",
           "#00cc96",
           "#ab63fa",
           "#FFA15A",
           "#19d3f3",
           "#FF6692",
           "#B6E880",
           "#FF97FF",
           "#FECB52"
          ],
          "font": {
           "color": "#2a3f5f"
          },
          "geo": {
           "bgcolor": "white",
           "lakecolor": "white",
           "landcolor": "#E5ECF6",
           "showlakes": true,
           "showland": true,
           "subunitcolor": "white"
          },
          "hoverlabel": {
           "align": "left"
          },
          "hovermode": "closest",
          "mapbox": {
           "style": "light"
          },
          "paper_bgcolor": "white",
          "plot_bgcolor": "#E5ECF6",
          "polar": {
           "angularaxis": {
            "gridcolor": "white",
            "linecolor": "white",
            "ticks": ""
           },
           "bgcolor": "#E5ECF6",
           "radialaxis": {
            "gridcolor": "white",
            "linecolor": "white",
            "ticks": ""
           }
          },
          "scene": {
           "xaxis": {
            "backgroundcolor": "#E5ECF6",
            "gridcolor": "white",
            "gridwidth": 2,
            "linecolor": "white",
            "showbackground": true,
            "ticks": "",
            "zerolinecolor": "white"
           },
           "yaxis": {
            "backgroundcolor": "#E5ECF6",
            "gridcolor": "white",
            "gridwidth": 2,
            "linecolor": "white",
            "showbackground": true,
            "ticks": "",
            "zerolinecolor": "white"
           },
           "zaxis": {
            "backgroundcolor": "#E5ECF6",
            "gridcolor": "white",
            "gridwidth": 2,
            "linecolor": "white",
            "showbackground": true,
            "ticks": "",
            "zerolinecolor": "white"
           }
          },
          "shapedefaults": {
           "line": {
            "color": "#2a3f5f"
           }
          },
          "ternary": {
           "aaxis": {
            "gridcolor": "white",
            "linecolor": "white",
            "ticks": ""
           },
           "baxis": {
            "gridcolor": "white",
            "linecolor": "white",
            "ticks": ""
           },
           "bgcolor": "#E5ECF6",
           "caxis": {
            "gridcolor": "white",
            "linecolor": "white",
            "ticks": ""
           }
          },
          "title": {
           "x": 0.05
          },
          "xaxis": {
           "automargin": true,
           "gridcolor": "white",
           "linecolor": "white",
           "ticks": "",
           "title": {
            "standoff": 15
           },
           "zerolinecolor": "white",
           "zerolinewidth": 2
          },
          "yaxis": {
           "automargin": true,
           "gridcolor": "white",
           "linecolor": "white",
           "ticks": "",
           "title": {
            "standoff": 15
           },
           "zerolinecolor": "white",
           "zerolinewidth": 2
          }
         }
        },
        "title": {
         "font": {
          "size": 20
         },
         "text": "<b>Regionale Unterschiede im Trinkgeldverhalten</b>",
         "x": 0.475,
         "xanchor": "center",
         "y": 0.935,
         "yanchor": "top"
        },
        "xaxis": {
         "anchor": "y",
         "domain": [
          0,
          1
         ],
         "linecolor": "black",
         "matches": "x2",
         "showline": false,
         "showticklabels": false
        },
        "xaxis2": {
         "anchor": "y2",
         "domain": [
          0,
          1
         ],
         "showline": true,
         "ticks": "outside",
         "title": {
          "text": "<b>Counties</b>"
         }
        },
        "yaxis": {
         "anchor": "x",
         "domain": [
          0.5,
          1
         ],
         "gridcolor": "grey",
         "linecolor": "black",
         "showgrid": true,
         "showline": false,
         "ticks": "outside",
         "tickvals": [
          0,
          0.1,
          0.2,
          0.3,
          0.4,
          0.5
         ],
         "title": {
          "text": "<b>Tipp Wshk.</b>"
         }
        },
        "yaxis2": {
         "anchor": "x2",
         "domain": [
          0,
          0.5
         ],
         "gridcolor": "grey",
         "showgrid": true,
         "ticks": "outside",
         "tickvals": [
          0,
          -0.01,
          -0.03,
          -0.05,
          -0.07
         ],
         "title": {
          "text": "<b>Order Anteil</b>"
         }
        }
       }
      }
     },
     "metadata": {},
     "output_type": "display_data"
    }
   ],
   "source": [
    "# Plot P3: County\n",
    "\n",
    "fig1 = make_subplots(cols= 1, rows= 2, shared_xaxes= True, shared_yaxes= False, vertical_spacing= 0)\n",
    "\n",
    "for county in df_county_tip2.county:\n",
    "\n",
    " if df_county_tip2[df_county_tip2.county == county].tip.values >= 0.5:\n",
    "  color = px.colors.sequential.Purpor[5]\n",
    "  text= df_county_tip2.loc[df_county_tip2.county == county].tip.values.round(3)\n",
    "\n",
    "  fig1.add_trace(\n",
    "   go.Bar(\n",
    "    x= df_county_tip2.loc[df_county_tip2.county == county].county,\n",
    "    y= df_county_tip2.loc[df_county_tip2.county == county].tip,\n",
    "    name= f\"{county}: {(df_county_tip2.loc[df_county_tip2.county == county].tip.values[0] * 100).round(2)}%\",\n",
    "    showlegend= True,\n",
    "    marker= dict(color= color),\n",
    "    width= 0.8,\n",
    "    text= text,\n",
    "    base= 0,\n",
    "    legendgroup= f\"{county}\" \n",
    "   ),\n",
    "   col= 1,\n",
    "   row= 1\n",
    "  )\n",
    "\n",
    "  fig1.add_trace(\n",
    "   go.Bar(\n",
    "    x= df_county_tip2.loc[df_county_tip2.county == county].county,\n",
    "    y= df_county_tip2.loc[df_county_tip2.county == county].orders,\n",
    "    name= f\"Orders: {(df_county_tip2.loc[df_county_tip2.county == county].orders.values[0] * 100).round(3)}%\",\n",
    "    base = -df_county_tip2.loc[df_county_tip2.county == county].orders,\n",
    "    showlegend= True,\n",
    "    marker= dict(color= color),\n",
    "    width= 0.8,\n",
    "    legendgroup= f\"{county}\"\n",
    "   ),\n",
    "   col= 1,\n",
    "   row= 2\n",
    "  )\n",
    "\n",
    " elif 0.4 < df_county_tip2.loc[df_county_tip2.county == county].tip.values < 0.5:\n",
    "  color= px.colors.sequential.Greys[3]\n",
    "\n",
    "  fig1.add_trace(\n",
    "   go.Bar(\n",
    "    x= df_county_tip2.loc[df_county_tip2.county == county].county,\n",
    "    y= df_county_tip2.loc[df_county_tip2.county == county].tip,\n",
    "    name= f\"{county}: {(df_county_tip2.loc[df_county_tip2.county == county].tip.values[0] * 100).round(2)}%\",\n",
    "    showlegend= True,\n",
    "    marker= dict(color= color),\n",
    "    width= 0.8,\n",
    "    base= 0,\n",
    "    legendgroup= f\"{county}\"\n",
    "   ),\n",
    "   col= 1,\n",
    "   row= 1\n",
    "  )\n",
    "\n",
    "  fig1.add_trace(\n",
    "   go.Bar(\n",
    "    x= df_county_tip2.loc[df_county_tip2.county == county].county,\n",
    "    y= df_county_tip2.loc[df_county_tip2.county == county].orders,\n",
    "    name= f\"Orders: {(df_county_tip2.loc[df_county_tip2.county == county].orders.values[0] * 100).round(3)}%\",\n",
    "    base = -df_county_tip2.loc[df_county_tip2.county == county].orders,\n",
    "    showlegend= True,\n",
    "    marker= dict(color= color),\n",
    "    width= 0.8,\n",
    "    legendgroup= f\"{county}\"\n",
    "   ),\n",
    "   col= 1,\n",
    "   row= 2\n",
    "  )\n",
    "\n",
    " elif 0.3 < df_county_tip2.loc[df_county_tip2.county == county].tip.values < 0.4:\n",
    "  color= px.colors.sequential.Greys[2]\n",
    "\n",
    "  fig1.add_trace(\n",
    "   go.Bar(\n",
    "    x= df_county_tip2.loc[df_county_tip2.county == county].county,\n",
    "    y= df_county_tip2.loc[df_county_tip2.county == county].tip,\n",
    "    name= f\"{county}: {(df_county_tip2.loc[df_county_tip2.county == county].tip.values[0] * 100).round(2)}%\",\n",
    "    showlegend= True,\n",
    "    marker= dict(color= color),\n",
    "    width= 0.8,\n",
    "    base= 0,\n",
    "    legendgroup= f\"{county}\"\n",
    "   ),\n",
    "   col= 1,\n",
    "   row= 1\n",
    "  )\n",
    "\n",
    "  fig1.add_trace(\n",
    "   go.Bar(\n",
    "    x= df_county_tip2.loc[df_county_tip2.county == county].county,\n",
    "    y= df_county_tip2.loc[df_county_tip2.county == county].orders,\n",
    "    name= f\"Orders: {(df_county_tip2.loc[df_county_tip2.county == county].orders.values[0] * 100).round(3)}%\",\n",
    "    base = -df_county_tip2.loc[df_county_tip2.county == county].orders,\n",
    "    showlegend= True,\n",
    "    marker= dict(color= color),\n",
    "    width= 0.8,\n",
    "    legendgroup= f\"{county}\"\n",
    "   ),\n",
    "   col= 1,\n",
    "   row= 2\n",
    "  )\n",
    "\n",
    " elif 0.2 < df_county_tip2.loc[df_county_tip2.county == county].tip.values < 0.3:\n",
    "  color= px.colors.sequential.Greys[1]\n",
    "  text= df_county_tip2.loc[df_county_tip2.county == county].tip.values.round(3)\n",
    "\n",
    "  fig1.add_trace(\n",
    "   go.Bar(\n",
    "    x= df_county_tip2.loc[df_county_tip2.county == county].county,\n",
    "    y= df_county_tip2.loc[df_county_tip2.county == county].tip,\n",
    "    name= f\"{county}: {(df_county_tip2.loc[df_county_tip2.county == county].tip.values[0] * 100).round(2)}%\",\n",
    "    showlegend= True,\n",
    "    marker= dict(color= color),\n",
    "    width= 0.8,\n",
    "    text= text,\n",
    "    base= 0,\n",
    "    legendgroup= f\"{county}\"\n",
    "   ),\n",
    "   col= 1,\n",
    "   row= 1\n",
    "  )\n",
    "\n",
    "  fig1.add_trace(\n",
    "   go.Bar(\n",
    "    x= df_county_tip2.loc[df_county_tip2.county == county].county,\n",
    "    y= df_county_tip2.loc[df_county_tip2.county == county].orders,\n",
    "    name= f\"Orders: {(df_county_tip2.loc[df_county_tip2.county == county].orders.values[0] * 100).round(3)}%\",\n",
    "    base = -df_county_tip2.loc[df_county_tip2.county == county].orders,\n",
    "    showlegend= True,\n",
    "    marker= dict(color= color),\n",
    "    width= 0.8,\n",
    "    legendgroup= f\"{county}\"\n",
    "   ),\n",
    "   col= 1,\n",
    "   row= 2\n",
    "  )\n",
    "\n",
    "fig1.add_hline(\n",
    " y= 0.5,\n",
    " opacity= 0.3,\n",
    " line_dash= \"solid\",\n",
    " annotation_text= 0.5,\n",
    " annotation_position= \"top right\",\n",
    " line_color= px.colors.sequential.Greys[7],\n",
    " annotation_font_color= px.colors.sequential.Greys[7],\n",
    " annotation_font_size= 12,\n",
    " layer= \"below\",\n",
    " col= 1,\n",
    " row= 1\n",
    ")\n",
    "\n",
    "fig1.add_hline(\n",
    " y= 0.3,\n",
    " opacity= 0.3,\n",
    " line_dash= \"solid\",\n",
    " annotation_text= 0.3,\n",
    " annotation_position= \"top right\",\n",
    " line_color= px.colors.sequential.Greys[7],\n",
    " annotation_font_color= px.colors.sequential.Greys[7],\n",
    " annotation_font_size= 12,\n",
    " layer= \"below\",\n",
    " col= 1,\n",
    " row= 1\n",
    ")\n",
    "\n",
    "fig1.add_hline(\n",
    " y= -0.05,\n",
    " opacity= 0.3,\n",
    " line_dash= \"solid\",\n",
    " annotation_text= -0.05,\n",
    " annotation_position= \"top right\",\n",
    " line_color= px.colors.sequential.Greys[7],\n",
    " annotation_font_color= px.colors.sequential.Greys[7],\n",
    " annotation_font_size= 12,\n",
    " layer= \"below\",\n",
    " col= 1,\n",
    " row= 2\n",
    ")\n",
    "\n",
    "fig1.add_hline(\n",
    " y= -0.03,\n",
    " opacity= 0.3,\n",
    " line_dash= \"solid\",\n",
    " annotation_text= -0.03,\n",
    " annotation_position= \"top right\",\n",
    " line_color= px.colors.sequential.Greys[7],\n",
    " annotation_font_color= px.colors.sequential.Greys[7],\n",
    " annotation_font_size= 12,\n",
    " layer= \"below\",\n",
    " col= 1,\n",
    " row= 2\n",
    ")\n",
    "\n",
    "fig1.add_hline(\n",
    " y= 0,\n",
    " opacity= 1,\n",
    " line_dash= \"solid\",\n",
    " line_color= \"black\",\n",
    " layer= \"below\",\n",
    " col= 1,\n",
    " row= 1\n",
    ")\n",
    "\n",
    "fig1.add_hline(\n",
    " y= 0,\n",
    " opacity= 0.8,\n",
    " line_dash= \"solid\",\n",
    " line_color= \"black\",\n",
    " layer= \"below\",\n",
    " col= 1,\n",
    " row= 2\n",
    ")\n",
    "\n",
    "fig1.add_vline(\n",
    " x= -1,\n",
    " opacity= 0.8,\n",
    " line_dash= \"solid\",\n",
    " line_color= \"black\",\n",
    " layer= \"below\",\n",
    " col= 1,\n",
    " row= 2\n",
    ")\n",
    "\n",
    "fig1.add_vline(\n",
    " x= -1,\n",
    " opacity= 0.8,\n",
    " line_dash= \"solid\",\n",
    " line_color= \"black\",\n",
    " layer= \"below\",\n",
    " col= 1,\n",
    " row= 1\n",
    ")\n",
    "\n",
    "fig1.add_hline(\n",
    " y= -0.075,\n",
    " opacity= 0.8,\n",
    " line_dash= \"solid\",\n",
    " line_color= \"black\",\n",
    " layer= \"below\",\n",
    " col= 1,\n",
    " row= 2\n",
    ")\n",
    "\n",
    "fig1.update_annotations(opacity= 0.8)\n",
    "fig1.update_layout(title= dict(text= \"<b>Regionale Unterschiede im Trinkgeldverhalten</b>\", font_size= 20, xanchor= \"center\", yanchor= \"top\", y=0.935, x=0.475), legend_title_text = \"<b>Counties</b>\", height= 700)\n",
    "fig1.update_xaxes(title_text=\"<b>Counties</b>\", ticks= \"outside\", col= 1, row= 2, showline= True)\n",
    "fig1.update_xaxes(showline= False, col= 1, row= 1)\n",
    "fig1.update_yaxes(title_text=\"<b>Tipp Wshk.</b>\", ticks= \"outside\", showgrid= True, gridcolor= \"grey\", col= 1, row= 1, tickvals= [0, 0.1, 0.2, 0.3, 0.4, 0.5], showline= False)\n",
    "fig1.update_yaxes(title_text=\"<b>Order Anteil</b>\", ticks= \"outside\", showgrid= True, gridcolor= \"grey\", col= 1, row= 2, tickvals= [0, -0.01, -0.03, -0.05, -0.07])\n",
    "fig1.update_layout(plot_bgcolor= \"white\", xaxis= dict(linecolor= \"black\"), yaxis= dict(linecolor= \"black\"))\n",
    "fig1.show()"
   ]
  },
  {
   "attachments": {},
   "cell_type": "markdown",
   "metadata": {},
   "source": [
    "#### **P3:** Welche Attribute einer Bestellung wirken sich auf das Trinkgeldverhalten aus?"
   ]
  },
  {
   "cell_type": "code",
   "execution_count": 91,
   "metadata": {},
   "outputs": [],
   "source": [
    "df_p3 = df.copy()"
   ]
  },
  {
   "attachments": {},
   "cell_type": "markdown",
   "metadata": {},
   "source": [
    "##### Attribut: order_dow"
   ]
  },
  {
   "cell_type": "code",
   "execution_count": 92,
   "metadata": {},
   "outputs": [
    {
     "data": {
      "text/html": [
       "<div>\n",
       "<style scoped>\n",
       "    .dataframe tbody tr th:only-of-type {\n",
       "        vertical-align: middle;\n",
       "    }\n",
       "\n",
       "    .dataframe tbody tr th {\n",
       "        vertical-align: top;\n",
       "    }\n",
       "\n",
       "    .dataframe thead th {\n",
       "        text-align: right;\n",
       "    }\n",
       "</style>\n",
       "<table border=\"1\" class=\"dataframe\">\n",
       "  <thead>\n",
       "    <tr style=\"text-align: right;\">\n",
       "      <th></th>\n",
       "      <th>order_dow</th>\n",
       "      <th>order_id</th>\n",
       "      <th>tip_orders_per_day</th>\n",
       "    </tr>\n",
       "  </thead>\n",
       "  <tbody>\n",
       "    <tr>\n",
       "      <th>0</th>\n",
       "      <td>0</td>\n",
       "      <td>4</td>\n",
       "      <td>1.0</td>\n",
       "    </tr>\n",
       "    <tr>\n",
       "      <th>1</th>\n",
       "      <td>0</td>\n",
       "      <td>6</td>\n",
       "      <td>0.0</td>\n",
       "    </tr>\n",
       "    <tr>\n",
       "      <th>2</th>\n",
       "      <td>0</td>\n",
       "      <td>9</td>\n",
       "      <td>1.0</td>\n",
       "    </tr>\n",
       "    <tr>\n",
       "      <th>3</th>\n",
       "      <td>0</td>\n",
       "      <td>10</td>\n",
       "      <td>0.0</td>\n",
       "    </tr>\n",
       "    <tr>\n",
       "      <th>4</th>\n",
       "      <td>0</td>\n",
       "      <td>19</td>\n",
       "      <td>1.0</td>\n",
       "    </tr>\n",
       "  </tbody>\n",
       "</table>\n",
       "</div>"
      ],
      "text/plain": [
       "   order_dow  order_id  tip_orders_per_day\n",
       "0          0         4                 1.0\n",
       "1          0         6                 0.0\n",
       "2          0         9                 1.0\n",
       "3          0        10                 0.0\n",
       "4          0        19                 1.0"
      ]
     },
     "execution_count": 92,
     "metadata": {},
     "output_type": "execute_result"
    }
   ],
   "source": [
    "df1 = df_p3.groupby([\"order_dow\", \"order_id\"], as_index= False).agg(tip_orders_per_day = (\"tip\", \"mean\"))\n",
    "df1.head()"
   ]
  },
  {
   "cell_type": "code",
   "execution_count": 93,
   "metadata": {},
   "outputs": [
    {
     "data": {
      "text/html": [
       "<div>\n",
       "<style scoped>\n",
       "    .dataframe tbody tr th:only-of-type {\n",
       "        vertical-align: middle;\n",
       "    }\n",
       "\n",
       "    .dataframe tbody tr th {\n",
       "        vertical-align: top;\n",
       "    }\n",
       "\n",
       "    .dataframe thead th {\n",
       "        text-align: right;\n",
       "    }\n",
       "</style>\n",
       "<table border=\"1\" class=\"dataframe\">\n",
       "  <thead>\n",
       "    <tr style=\"text-align: right;\">\n",
       "      <th></th>\n",
       "      <th>order_dow</th>\n",
       "      <th>tip</th>\n",
       "      <th>orders</th>\n",
       "      <th>tip_norm</th>\n",
       "      <th>orders_norm</th>\n",
       "    </tr>\n",
       "  </thead>\n",
       "  <tbody>\n",
       "    <tr>\n",
       "      <th>0</th>\n",
       "      <td>0</td>\n",
       "      <td>53749.0</td>\n",
       "      <td>106842</td>\n",
       "      <td>0.503070</td>\n",
       "      <td>0.176041</td>\n",
       "    </tr>\n",
       "    <tr>\n",
       "      <th>1</th>\n",
       "      <td>1</td>\n",
       "      <td>54928.0</td>\n",
       "      <td>104713</td>\n",
       "      <td>0.524558</td>\n",
       "      <td>0.172533</td>\n",
       "    </tr>\n",
       "    <tr>\n",
       "      <th>2</th>\n",
       "      <td>2</td>\n",
       "      <td>30614.0</td>\n",
       "      <td>83177</td>\n",
       "      <td>0.368058</td>\n",
       "      <td>0.137049</td>\n",
       "    </tr>\n",
       "    <tr>\n",
       "      <th>3</th>\n",
       "      <td>3</td>\n",
       "      <td>27884.0</td>\n",
       "      <td>77329</td>\n",
       "      <td>0.360589</td>\n",
       "      <td>0.127413</td>\n",
       "    </tr>\n",
       "    <tr>\n",
       "      <th>4</th>\n",
       "      <td>4</td>\n",
       "      <td>27780.0</td>\n",
       "      <td>75323</td>\n",
       "      <td>0.368812</td>\n",
       "      <td>0.124108</td>\n",
       "    </tr>\n",
       "  </tbody>\n",
       "</table>\n",
       "</div>"
      ],
      "text/plain": [
       "   order_dow      tip  orders  tip_norm  orders_norm\n",
       "0          0  53749.0  106842  0.503070     0.176041\n",
       "1          1  54928.0  104713  0.524558     0.172533\n",
       "2          2  30614.0   83177  0.368058     0.137049\n",
       "3          3  27884.0   77329  0.360589     0.127413\n",
       "4          4  27780.0   75323  0.368812     0.124108"
      ]
     },
     "execution_count": 93,
     "metadata": {},
     "output_type": "execute_result"
    }
   ],
   "source": [
    "df_order_dow= df1.groupby(\"order_dow\", as_index= False).agg(tip = (\"tip_orders_per_day\",\"sum\"), orders= (\"order_id\", \"nunique\"))\n",
    "df_order_dow[\"tip_norm\"] = df_order_dow.tip / df_order_dow.orders\n",
    "df_order_dow[\"orders_norm\"] = df_order_dow.orders / df_order_dow.orders.sum()\n",
    "df_order_dow.head()"
   ]
  },
  {
   "cell_type": "code",
   "execution_count": 94,
   "metadata": {},
   "outputs": [
    {
     "data": {
      "text/html": [
       "<div>\n",
       "<style scoped>\n",
       "    .dataframe tbody tr th:only-of-type {\n",
       "        vertical-align: middle;\n",
       "    }\n",
       "\n",
       "    .dataframe tbody tr th {\n",
       "        vertical-align: top;\n",
       "    }\n",
       "\n",
       "    .dataframe thead th {\n",
       "        text-align: right;\n",
       "    }\n",
       "</style>\n",
       "<table border=\"1\" class=\"dataframe\">\n",
       "  <thead>\n",
       "    <tr style=\"text-align: right;\">\n",
       "      <th></th>\n",
       "      <th>order_dow</th>\n",
       "      <th>tip</th>\n",
       "      <th>orders</th>\n",
       "      <th>tip_norm</th>\n",
       "      <th>orders_norm</th>\n",
       "      <th>order_dow_day</th>\n",
       "    </tr>\n",
       "  </thead>\n",
       "  <tbody>\n",
       "    <tr>\n",
       "      <th>0</th>\n",
       "      <td>0</td>\n",
       "      <td>53749.0</td>\n",
       "      <td>106842</td>\n",
       "      <td>0.503070</td>\n",
       "      <td>0.176041</td>\n",
       "      <td>Montag</td>\n",
       "    </tr>\n",
       "    <tr>\n",
       "      <th>1</th>\n",
       "      <td>1</td>\n",
       "      <td>54928.0</td>\n",
       "      <td>104713</td>\n",
       "      <td>0.524558</td>\n",
       "      <td>0.172533</td>\n",
       "      <td>Dienstag</td>\n",
       "    </tr>\n",
       "    <tr>\n",
       "      <th>2</th>\n",
       "      <td>2</td>\n",
       "      <td>30614.0</td>\n",
       "      <td>83177</td>\n",
       "      <td>0.368058</td>\n",
       "      <td>0.137049</td>\n",
       "      <td>Mittwoch</td>\n",
       "    </tr>\n",
       "    <tr>\n",
       "      <th>3</th>\n",
       "      <td>3</td>\n",
       "      <td>27884.0</td>\n",
       "      <td>77329</td>\n",
       "      <td>0.360589</td>\n",
       "      <td>0.127413</td>\n",
       "      <td>Donnerstag</td>\n",
       "    </tr>\n",
       "    <tr>\n",
       "      <th>4</th>\n",
       "      <td>4</td>\n",
       "      <td>27780.0</td>\n",
       "      <td>75323</td>\n",
       "      <td>0.368812</td>\n",
       "      <td>0.124108</td>\n",
       "      <td>Freitag</td>\n",
       "    </tr>\n",
       "  </tbody>\n",
       "</table>\n",
       "</div>"
      ],
      "text/plain": [
       "   order_dow      tip  orders  tip_norm  orders_norm order_dow_day\n",
       "0          0  53749.0  106842  0.503070     0.176041        Montag\n",
       "1          1  54928.0  104713  0.524558     0.172533      Dienstag\n",
       "2          2  30614.0   83177  0.368058     0.137049      Mittwoch\n",
       "3          3  27884.0   77329  0.360589     0.127413    Donnerstag\n",
       "4          4  27780.0   75323  0.368812     0.124108       Freitag"
      ]
     },
     "execution_count": 94,
     "metadata": {},
     "output_type": "execute_result"
    }
   ],
   "source": [
    "df_order_dow[\"order_dow_day\"] = [\"Montag\", \"Dienstag\", \"Mittwoch\", \"Donnerstag\", \"Freitag\", \"Samstag\", \"Sonntag\"]\n",
    "df_order_dow.head()"
   ]
  },
  {
   "attachments": {},
   "cell_type": "markdown",
   "metadata": {},
   "source": [
    "**Plotten der Tippwahrscheinlichkeit pro Wochentag**"
   ]
  },
  {
   "cell_type": "code",
   "execution_count": 113,
   "metadata": {},
   "outputs": [
    {
     "data": {
      "application/vnd.plotly.v1+json": {
       "config": {
        "plotlyServerURL": "https://plot.ly"
       },
       "data": [
        {
         "cells": {
          "align": "center",
          "fill": {
           "color": "white"
          },
          "font": {
           "color": "black",
           "size": 13
          },
          "height": 30,
          "line": {
           "color": "rgb(217,217,217)"
          },
          "values": [
           [
            0,
            1,
            2,
            3,
            4,
            5,
            6
           ],
           [
            53749,
            54928,
            30614,
            27884,
            27780,
            30188,
            28234
           ],
           [
            106842,
            104713,
            83177,
            77329,
            75323,
            80360,
            79171
           ],
           [
            0.503,
            0.525,
            0.368,
            0.361,
            0.369,
            0.376,
            0.357
           ],
           [
            0.176,
            0.173,
            0.137,
            0.127,
            0.124,
            0.132,
            0.13
           ],
           [
            "Montag",
            "Dienstag",
            "Mittwoch",
            "Donnerstag",
            "Freitag",
            "Samstag",
            "Sonntag"
           ]
          ]
         },
         "columnorder": [
          1,
          2,
          3,
          4,
          5
         ],
         "columnwidth": [
          1,
          1,
          1,
          1,
          1
         ],
         "domain": {
          "x": [
           0,
           1
          ],
          "y": [
           0.575,
           1
          ]
         },
         "header": {
          "fill": {
           "color": "rgb(131, 75, 160)"
          },
          "font": {
           "color": "white",
           "size": 15
          },
          "height": 35,
          "line": {
           "color": "rgb(217,217,217)"
          },
          "values": [
           "order_dow",
           "tip",
           "orders",
           "tip_norm",
           "orders_norm",
           "order_dow_day"
          ]
         },
         "type": "table"
        },
        {
         "base": 0,
         "legendgroup": "0",
         "legendgrouptitle": {
          "text": "0:Montag"
         },
         "marker": {
          "color": "rgb(131, 75, 160)"
         },
         "name": "Tipp: 50.3%",
         "showlegend": true,
         "text": [
          0.503
         ],
         "type": "bar",
         "width": 0.8,
         "x": [
          0
         ],
         "xaxis": "x",
         "y": [
          0.503
         ],
         "yaxis": "y"
        },
        {
         "base": 0,
         "legendgroup": "1",
         "legendgrouptitle": {
          "text": "1:Dienstag"
         },
         "marker": {
          "color": "rgb(131, 75, 160)"
         },
         "name": "Tipp: 52.5%",
         "showlegend": true,
         "text": [
          0.525
         ],
         "type": "bar",
         "width": 0.8,
         "x": [
          1
         ],
         "xaxis": "x",
         "y": [
          0.525
         ],
         "yaxis": "y"
        },
        {
         "base": 0,
         "legendgroup": "2",
         "legendgrouptitle": {
          "text": "2:Mittwoch"
         },
         "marker": {
          "color": "rgb(217,217,217)"
         },
         "name": "Tipp: 36.8%",
         "showlegend": true,
         "type": "bar",
         "width": 0.8,
         "x": [
          2
         ],
         "xaxis": "x",
         "y": [
          0.368
         ],
         "yaxis": "y"
        },
        {
         "base": 0,
         "legendgroup": "3",
         "legendgrouptitle": {
          "text": "3:Donnerstag"
         },
         "marker": {
          "color": "rgb(217,217,217)"
         },
         "name": "Tipp: 36.1%",
         "showlegend": true,
         "type": "bar",
         "width": 0.8,
         "x": [
          3
         ],
         "xaxis": "x",
         "y": [
          0.361
         ],
         "yaxis": "y"
        },
        {
         "base": 0,
         "legendgroup": "4",
         "legendgrouptitle": {
          "text": "4:Freitag"
         },
         "marker": {
          "color": "rgb(217,217,217)"
         },
         "name": "Tipp: 36.9%",
         "showlegend": true,
         "type": "bar",
         "width": 0.8,
         "x": [
          4
         ],
         "xaxis": "x",
         "y": [
          0.369
         ],
         "yaxis": "y"
        },
        {
         "base": 0,
         "legendgroup": "5",
         "legendgrouptitle": {
          "text": "5:Samstag"
         },
         "marker": {
          "color": "rgb(217,217,217)"
         },
         "name": "Tipp: 37.6%",
         "showlegend": true,
         "type": "bar",
         "width": 0.8,
         "x": [
          5
         ],
         "xaxis": "x",
         "y": [
          0.376
         ],
         "yaxis": "y"
        },
        {
         "base": 0,
         "legendgroup": "6",
         "legendgrouptitle": {
          "text": "6:Sonntag"
         },
         "marker": {
          "color": "rgb(217,217,217)"
         },
         "name": "Tipp: 35.7%",
         "showlegend": true,
         "type": "bar",
         "width": 0.8,
         "x": [
          6
         ],
         "xaxis": "x",
         "y": [
          0.357
         ],
         "yaxis": "y"
        }
       ],
       "layout": {
        "height": 780,
        "legend": {
         "title": {
          "text": "<b>Tage</b>"
         }
        },
        "plot_bgcolor": "white",
        "template": {
         "data": {
          "bar": [
           {
            "error_x": {
             "color": "#2a3f5f"
            },
            "error_y": {
             "color": "#2a3f5f"
            },
            "marker": {
             "line": {
              "color": "#E5ECF6",
              "width": 0.5
             },
             "pattern": {
              "fillmode": "overlay",
              "size": 10,
              "solidity": 0.2
             }
            },
            "type": "bar"
           }
          ],
          "barpolar": [
           {
            "marker": {
             "line": {
              "color": "#E5ECF6",
              "width": 0.5
             },
             "pattern": {
              "fillmode": "overlay",
              "size": 10,
              "solidity": 0.2
             }
            },
            "type": "barpolar"
           }
          ],
          "carpet": [
           {
            "aaxis": {
             "endlinecolor": "#2a3f5f",
             "gridcolor": "white",
             "linecolor": "white",
             "minorgridcolor": "white",
             "startlinecolor": "#2a3f5f"
            },
            "baxis": {
             "endlinecolor": "#2a3f5f",
             "gridcolor": "white",
             "linecolor": "white",
             "minorgridcolor": "white",
             "startlinecolor": "#2a3f5f"
            },
            "type": "carpet"
           }
          ],
          "choropleth": [
           {
            "colorbar": {
             "outlinewidth": 0,
             "ticks": ""
            },
            "type": "choropleth"
           }
          ],
          "contour": [
           {
            "colorbar": {
             "outlinewidth": 0,
             "ticks": ""
            },
            "colorscale": [
             [
              0,
              "#0d0887"
             ],
             [
              0.1111111111111111,
              "#46039f"
             ],
             [
              0.2222222222222222,
              "#7201a8"
             ],
             [
              0.3333333333333333,
              "#9c179e"
             ],
             [
              0.4444444444444444,
              "#bd3786"
             ],
             [
              0.5555555555555556,
              "#d8576b"
             ],
             [
              0.6666666666666666,
              "#ed7953"
             ],
             [
              0.7777777777777778,
              "#fb9f3a"
             ],
             [
              0.8888888888888888,
              "#fdca26"
             ],
             [
              1,
              "#f0f921"
             ]
            ],
            "type": "contour"
           }
          ],
          "contourcarpet": [
           {
            "colorbar": {
             "outlinewidth": 0,
             "ticks": ""
            },
            "type": "contourcarpet"
           }
          ],
          "heatmap": [
           {
            "colorbar": {
             "outlinewidth": 0,
             "ticks": ""
            },
            "colorscale": [
             [
              0,
              "#0d0887"
             ],
             [
              0.1111111111111111,
              "#46039f"
             ],
             [
              0.2222222222222222,
              "#7201a8"
             ],
             [
              0.3333333333333333,
              "#9c179e"
             ],
             [
              0.4444444444444444,
              "#bd3786"
             ],
             [
              0.5555555555555556,
              "#d8576b"
             ],
             [
              0.6666666666666666,
              "#ed7953"
             ],
             [
              0.7777777777777778,
              "#fb9f3a"
             ],
             [
              0.8888888888888888,
              "#fdca26"
             ],
             [
              1,
              "#f0f921"
             ]
            ],
            "type": "heatmap"
           }
          ],
          "heatmapgl": [
           {
            "colorbar": {
             "outlinewidth": 0,
             "ticks": ""
            },
            "colorscale": [
             [
              0,
              "#0d0887"
             ],
             [
              0.1111111111111111,
              "#46039f"
             ],
             [
              0.2222222222222222,
              "#7201a8"
             ],
             [
              0.3333333333333333,
              "#9c179e"
             ],
             [
              0.4444444444444444,
              "#bd3786"
             ],
             [
              0.5555555555555556,
              "#d8576b"
             ],
             [
              0.6666666666666666,
              "#ed7953"
             ],
             [
              0.7777777777777778,
              "#fb9f3a"
             ],
             [
              0.8888888888888888,
              "#fdca26"
             ],
             [
              1,
              "#f0f921"
             ]
            ],
            "type": "heatmapgl"
           }
          ],
          "histogram": [
           {
            "marker": {
             "pattern": {
              "fillmode": "overlay",
              "size": 10,
              "solidity": 0.2
             }
            },
            "type": "histogram"
           }
          ],
          "histogram2d": [
           {
            "colorbar": {
             "outlinewidth": 0,
             "ticks": ""
            },
            "colorscale": [
             [
              0,
              "#0d0887"
             ],
             [
              0.1111111111111111,
              "#46039f"
             ],
             [
              0.2222222222222222,
              "#7201a8"
             ],
             [
              0.3333333333333333,
              "#9c179e"
             ],
             [
              0.4444444444444444,
              "#bd3786"
             ],
             [
              0.5555555555555556,
              "#d8576b"
             ],
             [
              0.6666666666666666,
              "#ed7953"
             ],
             [
              0.7777777777777778,
              "#fb9f3a"
             ],
             [
              0.8888888888888888,
              "#fdca26"
             ],
             [
              1,
              "#f0f921"
             ]
            ],
            "type": "histogram2d"
           }
          ],
          "histogram2dcontour": [
           {
            "colorbar": {
             "outlinewidth": 0,
             "ticks": ""
            },
            "colorscale": [
             [
              0,
              "#0d0887"
             ],
             [
              0.1111111111111111,
              "#46039f"
             ],
             [
              0.2222222222222222,
              "#7201a8"
             ],
             [
              0.3333333333333333,
              "#9c179e"
             ],
             [
              0.4444444444444444,
              "#bd3786"
             ],
             [
              0.5555555555555556,
              "#d8576b"
             ],
             [
              0.6666666666666666,
              "#ed7953"
             ],
             [
              0.7777777777777778,
              "#fb9f3a"
             ],
             [
              0.8888888888888888,
              "#fdca26"
             ],
             [
              1,
              "#f0f921"
             ]
            ],
            "type": "histogram2dcontour"
           }
          ],
          "mesh3d": [
           {
            "colorbar": {
             "outlinewidth": 0,
             "ticks": ""
            },
            "type": "mesh3d"
           }
          ],
          "parcoords": [
           {
            "line": {
             "colorbar": {
              "outlinewidth": 0,
              "ticks": ""
             }
            },
            "type": "parcoords"
           }
          ],
          "pie": [
           {
            "automargin": true,
            "type": "pie"
           }
          ],
          "scatter": [
           {
            "fillpattern": {
             "fillmode": "overlay",
             "size": 10,
             "solidity": 0.2
            },
            "type": "scatter"
           }
          ],
          "scatter3d": [
           {
            "line": {
             "colorbar": {
              "outlinewidth": 0,
              "ticks": ""
             }
            },
            "marker": {
             "colorbar": {
              "outlinewidth": 0,
              "ticks": ""
             }
            },
            "type": "scatter3d"
           }
          ],
          "scattercarpet": [
           {
            "marker": {
             "colorbar": {
              "outlinewidth": 0,
              "ticks": ""
             }
            },
            "type": "scattercarpet"
           }
          ],
          "scattergeo": [
           {
            "marker": {
             "colorbar": {
              "outlinewidth": 0,
              "ticks": ""
             }
            },
            "type": "scattergeo"
           }
          ],
          "scattergl": [
           {
            "marker": {
             "colorbar": {
              "outlinewidth": 0,
              "ticks": ""
             }
            },
            "type": "scattergl"
           }
          ],
          "scattermapbox": [
           {
            "marker": {
             "colorbar": {
              "outlinewidth": 0,
              "ticks": ""
             }
            },
            "type": "scattermapbox"
           }
          ],
          "scatterpolar": [
           {
            "marker": {
             "colorbar": {
              "outlinewidth": 0,
              "ticks": ""
             }
            },
            "type": "scatterpolar"
           }
          ],
          "scatterpolargl": [
           {
            "marker": {
             "colorbar": {
              "outlinewidth": 0,
              "ticks": ""
             }
            },
            "type": "scatterpolargl"
           }
          ],
          "scatterternary": [
           {
            "marker": {
             "colorbar": {
              "outlinewidth": 0,
              "ticks": ""
             }
            },
            "type": "scatterternary"
           }
          ],
          "surface": [
           {
            "colorbar": {
             "outlinewidth": 0,
             "ticks": ""
            },
            "colorscale": [
             [
              0,
              "#0d0887"
             ],
             [
              0.1111111111111111,
              "#46039f"
             ],
             [
              0.2222222222222222,
              "#7201a8"
             ],
             [
              0.3333333333333333,
              "#9c179e"
             ],
             [
              0.4444444444444444,
              "#bd3786"
             ],
             [
              0.5555555555555556,
              "#d8576b"
             ],
             [
              0.6666666666666666,
              "#ed7953"
             ],
             [
              0.7777777777777778,
              "#fb9f3a"
             ],
             [
              0.8888888888888888,
              "#fdca26"
             ],
             [
              1,
              "#f0f921"
             ]
            ],
            "type": "surface"
           }
          ],
          "table": [
           {
            "cells": {
             "fill": {
              "color": "#EBF0F8"
             },
             "line": {
              "color": "white"
             }
            },
            "header": {
             "fill": {
              "color": "#C8D4E3"
             },
             "line": {
              "color": "white"
             }
            },
            "type": "table"
           }
          ]
         },
         "layout": {
          "annotationdefaults": {
           "arrowcolor": "#2a3f5f",
           "arrowhead": 0,
           "arrowwidth": 1
          },
          "autotypenumbers": "strict",
          "coloraxis": {
           "colorbar": {
            "outlinewidth": 0,
            "ticks": ""
           }
          },
          "colorscale": {
           "diverging": [
            [
             0,
             "#8e0152"
            ],
            [
             0.1,
             "#c51b7d"
            ],
            [
             0.2,
             "#de77ae"
            ],
            [
             0.3,
             "#f1b6da"
            ],
            [
             0.4,
             "#fde0ef"
            ],
            [
             0.5,
             "#f7f7f7"
            ],
            [
             0.6,
             "#e6f5d0"
            ],
            [
             0.7,
             "#b8e186"
            ],
            [
             0.8,
             "#7fbc41"
            ],
            [
             0.9,
             "#4d9221"
            ],
            [
             1,
             "#276419"
            ]
           ],
           "sequential": [
            [
             0,
             "#0d0887"
            ],
            [
             0.1111111111111111,
             "#46039f"
            ],
            [
             0.2222222222222222,
             "#7201a8"
            ],
            [
             0.3333333333333333,
             "#9c179e"
            ],
            [
             0.4444444444444444,
             "#bd3786"
            ],
            [
             0.5555555555555556,
             "#d8576b"
            ],
            [
             0.6666666666666666,
             "#ed7953"
            ],
            [
             0.7777777777777778,
             "#fb9f3a"
            ],
            [
             0.8888888888888888,
             "#fdca26"
            ],
            [
             1,
             "#f0f921"
            ]
           ],
           "sequentialminus": [
            [
             0,
             "#0d0887"
            ],
            [
             0.1111111111111111,
             "#46039f"
            ],
            [
             0.2222222222222222,
             "#7201a8"
            ],
            [
             0.3333333333333333,
             "#9c179e"
            ],
            [
             0.4444444444444444,
             "#bd3786"
            ],
            [
             0.5555555555555556,
             "#d8576b"
            ],
            [
             0.6666666666666666,
             "#ed7953"
            ],
            [
             0.7777777777777778,
             "#fb9f3a"
            ],
            [
             0.8888888888888888,
             "#fdca26"
            ],
            [
             1,
             "#f0f921"
            ]
           ]
          },
          "colorway": [
           "#636efa",
           "#EF553B",
           "#00cc96",
           "#ab63fa",
           "#FFA15A",
           "#19d3f3",
           "#FF6692",
           "#B6E880",
           "#FF97FF",
           "#FECB52"
          ],
          "font": {
           "color": "#2a3f5f"
          },
          "geo": {
           "bgcolor": "white",
           "lakecolor": "white",
           "landcolor": "#E5ECF6",
           "showlakes": true,
           "showland": true,
           "subunitcolor": "white"
          },
          "hoverlabel": {
           "align": "left"
          },
          "hovermode": "closest",
          "mapbox": {
           "style": "light"
          },
          "paper_bgcolor": "white",
          "plot_bgcolor": "#E5ECF6",
          "polar": {
           "angularaxis": {
            "gridcolor": "white",
            "linecolor": "white",
            "ticks": ""
           },
           "bgcolor": "#E5ECF6",
           "radialaxis": {
            "gridcolor": "white",
            "linecolor": "white",
            "ticks": ""
           }
          },
          "scene": {
           "xaxis": {
            "backgroundcolor": "#E5ECF6",
            "gridcolor": "white",
            "gridwidth": 2,
            "linecolor": "white",
            "showbackground": true,
            "ticks": "",
            "zerolinecolor": "white"
           },
           "yaxis": {
            "backgroundcolor": "#E5ECF6",
            "gridcolor": "white",
            "gridwidth": 2,
            "linecolor": "white",
            "showbackground": true,
            "ticks": "",
            "zerolinecolor": "white"
           },
           "zaxis": {
            "backgroundcolor": "#E5ECF6",
            "gridcolor": "white",
            "gridwidth": 2,
            "linecolor": "white",
            "showbackground": true,
            "ticks": "",
            "zerolinecolor": "white"
           }
          },
          "shapedefaults": {
           "line": {
            "color": "#2a3f5f"
           }
          },
          "ternary": {
           "aaxis": {
            "gridcolor": "white",
            "linecolor": "white",
            "ticks": ""
           },
           "baxis": {
            "gridcolor": "white",
            "linecolor": "white",
            "ticks": ""
           },
           "bgcolor": "#E5ECF6",
           "caxis": {
            "gridcolor": "white",
            "linecolor": "white",
            "ticks": ""
           }
          },
          "title": {
           "x": 0.05
          },
          "xaxis": {
           "automargin": true,
           "gridcolor": "white",
           "linecolor": "white",
           "ticks": "",
           "title": {
            "standoff": 15
           },
           "zerolinecolor": "white",
           "zerolinewidth": 2
          },
          "yaxis": {
           "automargin": true,
           "gridcolor": "white",
           "linecolor": "white",
           "ticks": "",
           "title": {
            "standoff": 15
           },
           "zerolinecolor": "white",
           "zerolinewidth": 2
          }
         }
        },
        "title": {
         "font": {
          "size": 20
         },
         "text": "<b>Tippwahrscheinlichkeit nach Wochentagen</b>",
         "x": 0.475,
         "xanchor": "center",
         "y": 0.935,
         "yanchor": "top"
        },
        "xaxis": {
         "anchor": "y",
         "domain": [
          0,
          1
         ],
         "linecolor": "black",
         "showline": true,
         "ticks": "outside",
         "title": {
          "text": "<b>Tage</b>"
         }
        },
        "yaxis": {
         "anchor": "x",
         "domain": [
          0,
          0.425
         ],
         "gridcolor": "grey",
         "linecolor": "black",
         "showgrid": true,
         "showline": true,
         "ticks": "outside",
         "tickvals": [
          0.1,
          0.3,
          0.5
         ],
         "title": {
          "text": "<b>Tipp Wshk.</b>"
         }
        }
       }
      }
     },
     "metadata": {},
     "output_type": "display_data"
    }
   ],
   "source": [
    "# Plot P3: Order_dow\n",
    "\n",
    "df_order_dow[\"tip_norm\"] = df_order_dow.tip_norm.round(3)\n",
    "df_order_dow[\"orders_norm\"] = df_order_dow.orders_norm.round(3)\n",
    "\n",
    "fig = make_subplots(cols= 1, rows=2, specs= [[dict(type= \"table\")], [dict(type= \"bar\")]], horizontal_spacing= 0.0001)\n",
    "\n",
    "fig.add_trace(\n",
    "  go.Table(\n",
    "    columnorder= [1, 2, 3, 4, 5],\n",
    "    columnwidth= [1, 1, 1, 1, 1],\n",
    "    header=dict(\n",
    "        values=list(df_order_dow.columns),\n",
    "        fill_color= px.colors.sequential.Purpor[5],\n",
    "        line_color= px.colors.sequential.Greys[2],\n",
    "        font= dict(color= \"white\", size=15),\n",
    "        height= 35\n",
    "        ),\n",
    "    cells=dict(\n",
    "        values=df_order_dow.T.values,\n",
    "        fill_color= \"white\",\n",
    "        line_color= px.colors.sequential.Greys[2],\n",
    "        font= dict(color= \"black\", size=13),\n",
    "        align= \"center\",\n",
    "        height= 30\n",
    "        )\n",
    "    ),\n",
    "    col= 1,\n",
    "    row= 1\n",
    ")\n",
    "\n",
    "for order_dow in df_order_dow.order_dow:\n",
    "\n",
    " if df_order_dow[df_order_dow.order_dow == order_dow].tip_norm.values >= 0.5:\n",
    "  color = px.colors.sequential.Purpor[5]\n",
    "  text= df_order_dow.loc[df_order_dow.order_dow == order_dow].tip_norm.values.round(3)\n",
    "\n",
    "  fig.add_trace(\n",
    "   go.Bar(\n",
    "    x= df_order_dow.loc[df_order_dow.order_dow == order_dow].order_dow,\n",
    "    y= df_order_dow.loc[df_order_dow.order_dow == order_dow].tip_norm,\n",
    "    name= f\"Tipp: {(df_order_dow.loc[df_order_dow.order_dow == order_dow].tip_norm.values[0] * 100).round(2)}%\",\n",
    "    showlegend= True,\n",
    "    marker= dict(color= color),\n",
    "    width= 0.8,\n",
    "    text= text,\n",
    "    base= 0,\n",
    "    legendgroup= f\"{order_dow}\",\n",
    "    legendgrouptitle_text = f\"{order_dow}:{df_order_dow.loc[df_order_dow.order_dow == order_dow].order_dow_day.values[0]}\" \n",
    "   ),\n",
    "   col= 1,\n",
    "   row= 2\n",
    "  )\n",
    "\n",
    " else:\n",
    "  color= px.colors.sequential.Greys[2]\n",
    "\n",
    "  fig.add_trace(\n",
    "   go.Bar(\n",
    "    x= df_order_dow.loc[df_order_dow.order_dow == order_dow].order_dow,\n",
    "    y= df_order_dow.loc[df_order_dow.order_dow == order_dow].tip_norm,\n",
    "    name= f\"Tipp: {(df_order_dow.loc[df_order_dow.order_dow == order_dow].tip_norm.values[0] * 100).round(2)}%\",\n",
    "    showlegend= True,\n",
    "    marker= dict(color= color),\n",
    "    width= 0.8,\n",
    "    base= 0,\n",
    "    legendgroup= f\"{order_dow}\",\n",
    "    legendgrouptitle_text = f\"{order_dow}:{df_order_dow.loc[df_order_dow.order_dow == order_dow].order_dow_day.values[0]}\" \n",
    "   ),\n",
    "   col= 1,\n",
    "   row= 2\n",
    "  )\n",
    "\n",
    "fig.update_layout(title= dict(text= \"<b>Tippwahrscheinlichkeit nach Wochentagen</b>\", font_size= 20, xanchor= \"center\", yanchor= \"top\", y=0.935, x=0.475), legend_title_text = \"<b>Tage</b>\", height= 780)\n",
    "fig.update_xaxes(title_text=\"<b>Tage</b>\", ticks= \"outside\", col= 1, row= 2)\n",
    "fig.update_xaxes(showline= True, col= 1, row= 2)\n",
    "fig.update_yaxes(title_text=\"<b>Tipp Wshk.</b>\", ticks= \"outside\", showgrid= True, gridcolor= \"grey\", col= 1, row= 2, showline= True, tickvals= [0.1, 0.3, 0.5])\n",
    "fig.update_layout(plot_bgcolor= \"white\", xaxis= dict(linecolor= \"black\"), yaxis= dict(linecolor= \"black\"))\n",
    "fig.show()"
   ]
  },
  {
   "attachments": {},
   "cell_type": "markdown",
   "metadata": {},
   "source": [
    "##### Attribut: department"
   ]
  },
  {
   "cell_type": "code",
   "execution_count": 97,
   "metadata": {},
   "outputs": [],
   "source": [
    "df_dep = df_p3.groupby([\"department\", \"order_id\"], as_index= False).agg(tip_mean= (\"tip\", \"mean\"), all= (\"order_id\", \"count\"))\n",
    "df_dep1 = df_dep.groupby(\"department\", as_index= False).agg(tip = (\"tip_mean\", \"sum\"), orders= (\"order_id\", \"nunique\"))\n",
    "df_dep1[\"tip_norm\"] = df_dep1.tip / df_dep1.orders\n",
    "df_dep1[\"orders_norm\"] = df_dep1.orders / df_dep1.orders.sum()\n",
    "df_dep2 = df_dep1.sort_values(by= \"tip_norm\", ascending= False)"
   ]
  },
  {
   "cell_type": "code",
   "execution_count": 98,
   "metadata": {},
   "outputs": [
    {
     "data": {
      "text/html": [
       "<div>\n",
       "<style scoped>\n",
       "    .dataframe tbody tr th:only-of-type {\n",
       "        vertical-align: middle;\n",
       "    }\n",
       "\n",
       "    .dataframe tbody tr th {\n",
       "        vertical-align: top;\n",
       "    }\n",
       "\n",
       "    .dataframe thead th {\n",
       "        text-align: right;\n",
       "    }\n",
       "</style>\n",
       "<table border=\"1\" class=\"dataframe\">\n",
       "  <thead>\n",
       "    <tr style=\"text-align: right;\">\n",
       "      <th></th>\n",
       "      <th>department</th>\n",
       "      <th>tip</th>\n",
       "      <th>orders</th>\n",
       "      <th>tip_norm</th>\n",
       "      <th>orders_norm</th>\n",
       "    </tr>\n",
       "  </thead>\n",
       "  <tbody>\n",
       "    <tr>\n",
       "      <th>0</th>\n",
       "      <td>alcohol</td>\n",
       "      <td>12531.0</td>\n",
       "      <td>15569</td>\n",
       "      <td>0.804869</td>\n",
       "      <td>0.005399</td>\n",
       "    </tr>\n",
       "    <tr>\n",
       "      <th>4</th>\n",
       "      <td>breakfast</td>\n",
       "      <td>53783.0</td>\n",
       "      <td>100391</td>\n",
       "      <td>0.535735</td>\n",
       "      <td>0.034813</td>\n",
       "    </tr>\n",
       "    <tr>\n",
       "      <th>1</th>\n",
       "      <td>babies</td>\n",
       "      <td>17786.0</td>\n",
       "      <td>33891</td>\n",
       "      <td>0.524800</td>\n",
       "      <td>0.011753</td>\n",
       "    </tr>\n",
       "    <tr>\n",
       "      <th>5</th>\n",
       "      <td>bulk</td>\n",
       "      <td>3448.0</td>\n",
       "      <td>6618</td>\n",
       "      <td>0.521003</td>\n",
       "      <td>0.002295</td>\n",
       "    </tr>\n",
       "    <tr>\n",
       "      <th>20</th>\n",
       "      <td>snacks</td>\n",
       "      <td>133047.0</td>\n",
       "      <td>263766</td>\n",
       "      <td>0.504413</td>\n",
       "      <td>0.091468</td>\n",
       "    </tr>\n",
       "  </tbody>\n",
       "</table>\n",
       "</div>"
      ],
      "text/plain": [
       "   department       tip  orders  tip_norm  orders_norm\n",
       "0     alcohol   12531.0   15569  0.804869     0.005399\n",
       "4   breakfast   53783.0  100391  0.535735     0.034813\n",
       "1      babies   17786.0   33891  0.524800     0.011753\n",
       "5        bulk    3448.0    6618  0.521003     0.002295\n",
       "20     snacks  133047.0  263766  0.504413     0.091468"
      ]
     },
     "execution_count": 98,
     "metadata": {},
     "output_type": "execute_result"
    }
   ],
   "source": [
    "df_dep2.head()"
   ]
  },
  {
   "cell_type": "code",
   "execution_count": 107,
   "metadata": {},
   "outputs": [
    {
     "data": {
      "application/vnd.plotly.v1+json": {
       "config": {
        "plotlyServerURL": "https://plot.ly"
       },
       "data": [
        {
         "base": 0,
         "legendgroup": "alcohol",
         "marker": {
          "color": "rgb(131, 75, 160)"
         },
         "name": "alcohol: 80.49%",
         "showlegend": true,
         "text": [
          0.805
         ],
         "type": "bar",
         "width": 0.8,
         "x": [
          "alcohol"
         ],
         "xaxis": "x",
         "y": [
          0.8048686492388721
         ],
         "yaxis": "y"
        },
        {
         "base": [
          -0.0053989778388414305
         ],
         "legendgroup": "alcohol",
         "marker": {
          "color": "rgb(131, 75, 160)"
         },
         "name": "Orders: 0.54%",
         "showlegend": true,
         "type": "bar",
         "width": 0.8,
         "x": [
          "alcohol"
         ],
         "xaxis": "x2",
         "y": [
          0.0053989778388414305
         ],
         "yaxis": "y2"
        },
        {
         "base": 0,
         "legendgroup": "breakfast",
         "marker": {
          "color": "rgb(131, 75, 160)"
         },
         "name": "breakfast: 53.57%",
         "showlegend": true,
         "text": [
          0.536
         ],
         "type": "bar",
         "width": 0.8,
         "x": [
          "breakfast"
         ],
         "xaxis": "x",
         "y": [
          0.5357352750744588
         ],
         "yaxis": "y"
        },
        {
         "base": [
          -0.034813333176127566
         ],
         "legendgroup": "breakfast",
         "marker": {
          "color": "rgb(131, 75, 160)"
         },
         "name": "Orders: 3.481%",
         "showlegend": true,
         "type": "bar",
         "width": 0.8,
         "x": [
          "breakfast"
         ],
         "xaxis": "x2",
         "y": [
          0.034813333176127566
         ],
         "yaxis": "y2"
        },
        {
         "base": 0,
         "legendgroup": "babies",
         "marker": {
          "color": "rgb(131, 75, 160)"
         },
         "name": "babies: 52.48%",
         "showlegend": true,
         "text": [
          0.525
         ],
         "type": "bar",
         "width": 0.8,
         "x": [
          "babies"
         ],
         "xaxis": "x",
         "y": [
          0.5248000944203476
         ],
         "yaxis": "y"
        },
        {
         "base": [
          -0.011752633947984772
         ],
         "legendgroup": "babies",
         "marker": {
          "color": "rgb(131, 75, 160)"
         },
         "name": "Orders: 1.175%",
         "showlegend": true,
         "type": "bar",
         "width": 0.8,
         "x": [
          "babies"
         ],
         "xaxis": "x2",
         "y": [
          0.011752633947984772
         ],
         "yaxis": "y2"
        },
        {
         "base": 0,
         "legendgroup": "bulk",
         "marker": {
          "color": "rgb(131, 75, 160)"
         },
         "name": "bulk: 52.1%",
         "showlegend": true,
         "text": [
          0.521
         ],
         "type": "bar",
         "width": 0.8,
         "x": [
          "bulk"
         ],
         "xaxis": "x",
         "y": [
          0.5210033242671502
         ],
         "yaxis": "y"
        },
        {
         "base": [
          -0.0022949730449902104
         ],
         "legendgroup": "bulk",
         "marker": {
          "color": "rgb(131, 75, 160)"
         },
         "name": "Orders: 0.229%",
         "showlegend": true,
         "type": "bar",
         "width": 0.8,
         "x": [
          "bulk"
         ],
         "xaxis": "x2",
         "y": [
          0.0022949730449902104
         ],
         "yaxis": "y2"
        },
        {
         "base": 0,
         "legendgroup": "snacks",
         "marker": {
          "color": "rgb(131, 75, 160)"
         },
         "name": "snacks: 50.44%",
         "showlegend": true,
         "text": [
          0.504
         ],
         "type": "bar",
         "width": 0.8,
         "x": [
          "snacks"
         ],
         "xaxis": "x",
         "y": [
          0.5044130024339756
         ],
         "yaxis": "y"
        },
        {
         "base": [
          -0.09146809612947837
         ],
         "legendgroup": "snacks",
         "marker": {
          "color": "rgb(131, 75, 160)"
         },
         "name": "Orders: 9.147%",
         "showlegend": true,
         "type": "bar",
         "width": 0.8,
         "x": [
          "snacks"
         ],
         "xaxis": "x2",
         "y": [
          0.09146809612947837
         ],
         "yaxis": "y2"
        },
        {
         "base": 0,
         "legendgroup": "deli",
         "marker": {
          "color": "rgb(189,189,189)"
         },
         "name": "deli: 46.59%",
         "showlegend": true,
         "type": "bar",
         "width": 0.8,
         "x": [
          "deli"
         ],
         "xaxis": "x",
         "y": [
          0.4659277055804303
         ],
         "yaxis": "y"
        },
        {
         "base": [
          -0.0508070551174986
         ],
         "legendgroup": "deli",
         "marker": {
          "color": "rgb(189,189,189)"
         },
         "name": "Orders: 5.081%",
         "showlegend": true,
         "type": "bar",
         "width": 0.8,
         "x": [
          "deli"
         ],
         "xaxis": "x2",
         "y": [
          0.0508070551174986
         ],
         "yaxis": "y2"
        },
        {
         "base": 0,
         "legendgroup": "pantry",
         "marker": {
          "color": "rgb(189,189,189)"
         },
         "name": "pantry: 46.14%",
         "showlegend": true,
         "type": "bar",
         "width": 0.8,
         "x": [
          "pantry"
         ],
         "xaxis": "x",
         "y": [
          0.4614454930435234
         ],
         "yaxis": "y"
        },
        {
         "base": [
          -0.07345335531439882
         ],
         "legendgroup": "pantry",
         "marker": {
          "color": "rgb(189,189,189)"
         },
         "name": "Orders: 7.345%",
         "showlegend": true,
         "type": "bar",
         "width": 0.8,
         "x": [
          "pantry"
         ],
         "xaxis": "x2",
         "y": [
          0.07345335531439882
         ],
         "yaxis": "y2"
        },
        {
         "base": 0,
         "legendgroup": "international",
         "marker": {
          "color": "rgb(189,189,189)"
         },
         "name": "international: 45.61%",
         "showlegend": true,
         "type": "bar",
         "width": 0.8,
         "x": [
          "international"
         ],
         "xaxis": "x",
         "y": [
          0.45609633718013043
         ],
         "yaxis": "y"
        },
        {
         "base": [
          -0.014513675861585869
         ],
         "legendgroup": "international",
         "marker": {
          "color": "rgb(189,189,189)"
         },
         "name": "Orders: 1.451%",
         "showlegend": true,
         "type": "bar",
         "width": 0.8,
         "x": [
          "international"
         ],
         "xaxis": "x2",
         "y": [
          0.014513675861585869
         ],
         "yaxis": "y2"
        },
        {
         "base": 0,
         "legendgroup": "dairy eggs",
         "marker": {
          "color": "rgb(189,189,189)"
         },
         "name": "dairy eggs: 44.34%",
         "showlegend": true,
         "type": "bar",
         "width": 0.8,
         "x": [
          "dairy eggs"
         ],
         "xaxis": "x",
         "y": [
          0.44337131858211115
         ],
         "yaxis": "y"
        },
        {
         "base": [
          -0.1425078389038504
         ],
         "legendgroup": "dairy eggs",
         "marker": {
          "color": "rgb(189,189,189)"
         },
         "name": "Orders: 14.251%",
         "showlegend": true,
         "type": "bar",
         "width": 0.8,
         "x": [
          "dairy eggs"
         ],
         "xaxis": "x2",
         "y": [
          0.1425078389038504
         ],
         "yaxis": "y2"
        },
        {
         "base": 0,
         "legendgroup": "other",
         "marker": {
          "color": "rgb(189,189,189)"
         },
         "name": "other: 43.11%",
         "showlegend": true,
         "type": "bar",
         "width": 0.8,
         "x": [
          "other"
         ],
         "xaxis": "x",
         "y": [
          0.43112886521674804
         ],
         "yaxis": "y"
        },
        {
         "base": [
          -0.002343868662902513
         ],
         "legendgroup": "other",
         "marker": {
          "color": "rgb(189,189,189)"
         },
         "name": "Orders: 0.234%",
         "showlegend": true,
         "type": "bar",
         "width": 0.8,
         "x": [
          "other"
         ],
         "xaxis": "x2",
         "y": [
          0.002343868662902513
         ],
         "yaxis": "y2"
        },
        {
         "base": 0,
         "legendgroup": "missing",
         "marker": {
          "color": "rgb(189,189,189)"
         },
         "name": "missing: 42.59%",
         "showlegend": true,
         "type": "bar",
         "width": 0.8,
         "x": [
          "missing"
         ],
         "xaxis": "x",
         "y": [
          0.42590866728797766
         ],
         "yaxis": "y"
        },
        {
         "base": [
          -0.004093014029921344
         ],
         "legendgroup": "missing",
         "marker": {
          "color": "rgb(189,189,189)"
         },
         "name": "Orders: 0.409%",
         "showlegend": true,
         "type": "bar",
         "width": 0.8,
         "x": [
          "missing"
         ],
         "xaxis": "x2",
         "y": [
          0.004093014029921344
         ],
         "yaxis": "y2"
        },
        {
         "base": 0,
         "legendgroup": "meat seafood",
         "marker": {
          "color": "rgb(189,189,189)"
         },
         "name": "meat seafood: 42.26%",
         "showlegend": true,
         "type": "bar",
         "width": 0.8,
         "x": [
          "meat seafood"
         ],
         "xaxis": "x",
         "y": [
          0.4226361298498006
         ],
         "yaxis": "y"
        },
        {
         "base": [
          -0.03721754111219845
         ],
         "legendgroup": "meat seafood",
         "marker": {
          "color": "rgb(189,189,189)"
         },
         "name": "Orders: 3.722%",
         "showlegend": true,
         "type": "bar",
         "width": 0.8,
         "x": [
          "meat seafood"
         ],
         "xaxis": "x2",
         "y": [
          0.03721754111219845
         ],
         "yaxis": "y2"
        },
        {
         "base": 0,
         "legendgroup": "beverages",
         "marker": {
          "color": "rgb(189,189,189)"
         },
         "name": "beverages: 42.07%",
         "showlegend": true,
         "type": "bar",
         "width": 0.8,
         "x": [
          "beverages"
         ],
         "xaxis": "x",
         "y": [
          0.42065528506996647
         ],
         "yaxis": "y"
        },
        {
         "base": [
          -0.09595470254472215
         ],
         "legendgroup": "beverages",
         "marker": {
          "color": "rgb(189,189,189)"
         },
         "name": "Orders: 9.595%",
         "showlegend": true,
         "type": "bar",
         "width": 0.8,
         "x": [
          "beverages"
         ],
         "xaxis": "x2",
         "y": [
          0.09595470254472215
         ],
         "yaxis": "y2"
        },
        {
         "base": 0,
         "legendgroup": "produce",
         "marker": {
          "color": "rgb(189,189,189)"
         },
         "name": "produce: 41.7%",
         "showlegend": true,
         "type": "bar",
         "width": 0.8,
         "x": [
          "produce"
         ],
         "xaxis": "x",
         "y": [
          0.41704555486889733
         ],
         "yaxis": "y"
        },
        {
         "base": [
          -0.15711791889153287
         ],
         "legendgroup": "produce",
         "marker": {
          "color": "rgb(189,189,189)"
         },
         "name": "Orders: 15.712%",
         "showlegend": true,
         "type": "bar",
         "width": 0.8,
         "x": [
          "produce"
         ],
         "xaxis": "x2",
         "y": [
          0.15711791889153287
         ],
         "yaxis": "y2"
        },
        {
         "base": 0,
         "legendgroup": "bakery",
         "marker": {
          "color": "rgb(189,189,189)"
         },
         "name": "bakery: 41.4%",
         "showlegend": true,
         "type": "bar",
         "width": 0.8,
         "x": [
          "bakery"
         ],
         "xaxis": "x",
         "y": [
          0.4139781736555545
         ],
         "yaxis": "y"
        },
        {
         "base": [
          -0.05808660697008767
         ],
         "legendgroup": "bakery",
         "marker": {
          "color": "rgb(189,189,189)"
         },
         "name": "Orders: 5.809%",
         "showlegend": true,
         "type": "bar",
         "width": 0.8,
         "x": [
          "bakery"
         ],
         "xaxis": "x2",
         "y": [
          0.05808660697008767
         ],
         "yaxis": "y2"
        },
        {
         "base": 0,
         "legendgroup": "canned goods",
         "marker": {
          "color": "rgb(189,189,189)"
         },
         "name": "canned goods: 40.87%",
         "showlegend": true,
         "type": "bar",
         "width": 0.8,
         "x": [
          "canned goods"
         ],
         "xaxis": "x",
         "y": [
          0.40871947292043365
         ],
         "yaxis": "y"
        },
        {
         "base": [
          -0.0446860866652287
         ],
         "legendgroup": "canned goods",
         "marker": {
          "color": "rgb(189,189,189)"
         },
         "name": "Orders: 4.469%",
         "showlegend": true,
         "type": "bar",
         "width": 0.8,
         "x": [
          "canned goods"
         ],
         "xaxis": "x2",
         "y": [
          0.0446860866652287
         ],
         "yaxis": "y2"
        },
        {
         "base": 0,
         "legendgroup": "dry goods pasta",
         "marker": {
          "color": "rgb(217,217,217)"
         },
         "name": "dry goods pasta: 38.48%",
         "showlegend": true,
         "type": "bar",
         "width": 0.8,
         "x": [
          "dry goods pasta"
         ],
         "xaxis": "x",
         "y": [
          0.384826341584246
         ],
         "yaxis": "y"
        },
        {
         "base": [
          -0.03919902735865872
         ],
         "legendgroup": "dry goods pasta",
         "marker": {
          "color": "rgb(217,217,217)"
         },
         "name": "Orders: 3.92%",
         "showlegend": true,
         "type": "bar",
         "width": 0.8,
         "x": [
          "dry goods pasta"
         ],
         "xaxis": "x2",
         "y": [
          0.03919902735865872
         ],
         "yaxis": "y2"
        },
        {
         "base": 0,
         "legendgroup": "pets",
         "marker": {
          "color": "rgb(217,217,217)"
         },
         "name": "pets: 38.22%",
         "showlegend": true,
         "type": "bar",
         "width": 0.8,
         "x": [
          "pets"
         ],
         "xaxis": "x",
         "y": [
          0.3821599574392623
         ],
         "yaxis": "y"
        },
        {
         "base": [
          -0.003910955878120217
         ],
         "legendgroup": "pets",
         "marker": {
          "color": "rgb(217,217,217)"
         },
         "name": "Orders: 0.391%",
         "showlegend": true,
         "type": "bar",
         "width": 0.8,
         "x": [
          "pets"
         ],
         "xaxis": "x2",
         "y": [
          0.003910955878120217
         ],
         "yaxis": "y2"
        },
        {
         "base": 0,
         "legendgroup": "household",
         "marker": {
          "color": "rgb(217,217,217)"
         },
         "name": "household: 37.35%",
         "showlegend": true,
         "type": "bar",
         "width": 0.8,
         "x": [
          "household"
         ],
         "xaxis": "x",
         "y": [
          0.3735067190683486
         ],
         "yaxis": "y"
        },
        {
         "base": [
          -0.031147202165000863
         ],
         "legendgroup": "household",
         "marker": {
          "color": "rgb(217,217,217)"
         },
         "name": "Orders: 3.115%",
         "showlegend": true,
         "type": "bar",
         "width": 0.8,
         "x": [
          "household"
         ],
         "xaxis": "x2",
         "y": [
          0.031147202165000863
         ],
         "yaxis": "y2"
        },
        {
         "base": 0,
         "legendgroup": "frozen",
         "marker": {
          "color": "rgb(217,217,217)"
         },
         "name": "frozen: 36.59%",
         "showlegend": true,
         "type": "bar",
         "width": 0.8,
         "x": [
          "frozen"
         ],
         "xaxis": "x",
         "y": [
          0.36586698653871785
         ],
         "yaxis": "y"
        },
        {
         "base": [
          -0.07805613216936333
         ],
         "legendgroup": "frozen",
         "marker": {
          "color": "rgb(217,217,217)"
         },
         "name": "Orders: 7.806%",
         "showlegend": true,
         "type": "bar",
         "width": 0.8,
         "x": [
          "frozen"
         ],
         "xaxis": "x2",
         "y": [
          0.07805613216936333
         ],
         "yaxis": "y2"
        },
        {
         "base": 0,
         "legendgroup": "personal care",
         "marker": {
          "color": "rgb(217,217,217)"
         },
         "name": "personal care: 34.39%",
         "showlegend": true,
         "type": "bar",
         "width": 0.8,
         "x": [
          "personal care"
         ],
         "xaxis": "x",
         "y": [
          0.3438625794196633
         ],
         "yaxis": "y"
        },
        {
         "base": [
          -0.02117700421750713
         ],
         "legendgroup": "personal care",
         "marker": {
          "color": "rgb(217,217,217)"
         },
         "name": "Orders: 2.118%",
         "showlegend": true,
         "type": "bar",
         "width": 0.8,
         "x": [
          "personal care"
         ],
         "xaxis": "x2",
         "y": [
          0.02117700421750713
         ],
         "yaxis": "y2"
        }
       ],
       "layout": {
        "height": 700,
        "legend": {
         "title": {
          "text": "<b>Counties</b>"
         }
        },
        "plot_bgcolor": "white",
        "shapes": [
         {
          "line": {
           "color": "grey",
           "dash": "solid"
          },
          "opacity": 0.3,
          "type": "line",
          "x0": 0,
          "x1": 1,
          "xref": "x domain",
          "y0": 0,
          "y1": 0,
          "yref": "y"
         },
         {
          "line": {
           "color": "grey",
           "dash": "solid"
          },
          "opacity": 0.3,
          "type": "line",
          "x0": 0,
          "x1": 1,
          "xref": "x2 domain",
          "y0": 0,
          "y1": 0,
          "yref": "y2"
         },
         {
          "line": {
           "color": "black",
           "dash": "solid"
          },
          "opacity": 0.8,
          "type": "line",
          "x0": -1,
          "x1": -1,
          "xref": "x2",
          "y0": 0,
          "y1": 1,
          "yref": "y2 domain"
         },
         {
          "line": {
           "color": "black",
           "dash": "solid"
          },
          "opacity": 0.8,
          "type": "line",
          "x0": -1,
          "x1": -1,
          "xref": "x",
          "y0": 0,
          "y1": 1,
          "yref": "y domain"
         },
         {
          "line": {
           "color": "black",
           "dash": "solid"
          },
          "opacity": 0.8,
          "type": "line",
          "x0": 0,
          "x1": 1,
          "xref": "x2 domain",
          "y0": -0.18,
          "y1": -0.18,
          "yref": "y2"
         }
        ],
        "template": {
         "data": {
          "bar": [
           {
            "error_x": {
             "color": "#2a3f5f"
            },
            "error_y": {
             "color": "#2a3f5f"
            },
            "marker": {
             "line": {
              "color": "#E5ECF6",
              "width": 0.5
             },
             "pattern": {
              "fillmode": "overlay",
              "size": 10,
              "solidity": 0.2
             }
            },
            "type": "bar"
           }
          ],
          "barpolar": [
           {
            "marker": {
             "line": {
              "color": "#E5ECF6",
              "width": 0.5
             },
             "pattern": {
              "fillmode": "overlay",
              "size": 10,
              "solidity": 0.2
             }
            },
            "type": "barpolar"
           }
          ],
          "carpet": [
           {
            "aaxis": {
             "endlinecolor": "#2a3f5f",
             "gridcolor": "white",
             "linecolor": "white",
             "minorgridcolor": "white",
             "startlinecolor": "#2a3f5f"
            },
            "baxis": {
             "endlinecolor": "#2a3f5f",
             "gridcolor": "white",
             "linecolor": "white",
             "minorgridcolor": "white",
             "startlinecolor": "#2a3f5f"
            },
            "type": "carpet"
           }
          ],
          "choropleth": [
           {
            "colorbar": {
             "outlinewidth": 0,
             "ticks": ""
            },
            "type": "choropleth"
           }
          ],
          "contour": [
           {
            "colorbar": {
             "outlinewidth": 0,
             "ticks": ""
            },
            "colorscale": [
             [
              0,
              "#0d0887"
             ],
             [
              0.1111111111111111,
              "#46039f"
             ],
             [
              0.2222222222222222,
              "#7201a8"
             ],
             [
              0.3333333333333333,
              "#9c179e"
             ],
             [
              0.4444444444444444,
              "#bd3786"
             ],
             [
              0.5555555555555556,
              "#d8576b"
             ],
             [
              0.6666666666666666,
              "#ed7953"
             ],
             [
              0.7777777777777778,
              "#fb9f3a"
             ],
             [
              0.8888888888888888,
              "#fdca26"
             ],
             [
              1,
              "#f0f921"
             ]
            ],
            "type": "contour"
           }
          ],
          "contourcarpet": [
           {
            "colorbar": {
             "outlinewidth": 0,
             "ticks": ""
            },
            "type": "contourcarpet"
           }
          ],
          "heatmap": [
           {
            "colorbar": {
             "outlinewidth": 0,
             "ticks": ""
            },
            "colorscale": [
             [
              0,
              "#0d0887"
             ],
             [
              0.1111111111111111,
              "#46039f"
             ],
             [
              0.2222222222222222,
              "#7201a8"
             ],
             [
              0.3333333333333333,
              "#9c179e"
             ],
             [
              0.4444444444444444,
              "#bd3786"
             ],
             [
              0.5555555555555556,
              "#d8576b"
             ],
             [
              0.6666666666666666,
              "#ed7953"
             ],
             [
              0.7777777777777778,
              "#fb9f3a"
             ],
             [
              0.8888888888888888,
              "#fdca26"
             ],
             [
              1,
              "#f0f921"
             ]
            ],
            "type": "heatmap"
           }
          ],
          "heatmapgl": [
           {
            "colorbar": {
             "outlinewidth": 0,
             "ticks": ""
            },
            "colorscale": [
             [
              0,
              "#0d0887"
             ],
             [
              0.1111111111111111,
              "#46039f"
             ],
             [
              0.2222222222222222,
              "#7201a8"
             ],
             [
              0.3333333333333333,
              "#9c179e"
             ],
             [
              0.4444444444444444,
              "#bd3786"
             ],
             [
              0.5555555555555556,
              "#d8576b"
             ],
             [
              0.6666666666666666,
              "#ed7953"
             ],
             [
              0.7777777777777778,
              "#fb9f3a"
             ],
             [
              0.8888888888888888,
              "#fdca26"
             ],
             [
              1,
              "#f0f921"
             ]
            ],
            "type": "heatmapgl"
           }
          ],
          "histogram": [
           {
            "marker": {
             "pattern": {
              "fillmode": "overlay",
              "size": 10,
              "solidity": 0.2
             }
            },
            "type": "histogram"
           }
          ],
          "histogram2d": [
           {
            "colorbar": {
             "outlinewidth": 0,
             "ticks": ""
            },
            "colorscale": [
             [
              0,
              "#0d0887"
             ],
             [
              0.1111111111111111,
              "#46039f"
             ],
             [
              0.2222222222222222,
              "#7201a8"
             ],
             [
              0.3333333333333333,
              "#9c179e"
             ],
             [
              0.4444444444444444,
              "#bd3786"
             ],
             [
              0.5555555555555556,
              "#d8576b"
             ],
             [
              0.6666666666666666,
              "#ed7953"
             ],
             [
              0.7777777777777778,
              "#fb9f3a"
             ],
             [
              0.8888888888888888,
              "#fdca26"
             ],
             [
              1,
              "#f0f921"
             ]
            ],
            "type": "histogram2d"
           }
          ],
          "histogram2dcontour": [
           {
            "colorbar": {
             "outlinewidth": 0,
             "ticks": ""
            },
            "colorscale": [
             [
              0,
              "#0d0887"
             ],
             [
              0.1111111111111111,
              "#46039f"
             ],
             [
              0.2222222222222222,
              "#7201a8"
             ],
             [
              0.3333333333333333,
              "#9c179e"
             ],
             [
              0.4444444444444444,
              "#bd3786"
             ],
             [
              0.5555555555555556,
              "#d8576b"
             ],
             [
              0.6666666666666666,
              "#ed7953"
             ],
             [
              0.7777777777777778,
              "#fb9f3a"
             ],
             [
              0.8888888888888888,
              "#fdca26"
             ],
             [
              1,
              "#f0f921"
             ]
            ],
            "type": "histogram2dcontour"
           }
          ],
          "mesh3d": [
           {
            "colorbar": {
             "outlinewidth": 0,
             "ticks": ""
            },
            "type": "mesh3d"
           }
          ],
          "parcoords": [
           {
            "line": {
             "colorbar": {
              "outlinewidth": 0,
              "ticks": ""
             }
            },
            "type": "parcoords"
           }
          ],
          "pie": [
           {
            "automargin": true,
            "type": "pie"
           }
          ],
          "scatter": [
           {
            "fillpattern": {
             "fillmode": "overlay",
             "size": 10,
             "solidity": 0.2
            },
            "type": "scatter"
           }
          ],
          "scatter3d": [
           {
            "line": {
             "colorbar": {
              "outlinewidth": 0,
              "ticks": ""
             }
            },
            "marker": {
             "colorbar": {
              "outlinewidth": 0,
              "ticks": ""
             }
            },
            "type": "scatter3d"
           }
          ],
          "scattercarpet": [
           {
            "marker": {
             "colorbar": {
              "outlinewidth": 0,
              "ticks": ""
             }
            },
            "type": "scattercarpet"
           }
          ],
          "scattergeo": [
           {
            "marker": {
             "colorbar": {
              "outlinewidth": 0,
              "ticks": ""
             }
            },
            "type": "scattergeo"
           }
          ],
          "scattergl": [
           {
            "marker": {
             "colorbar": {
              "outlinewidth": 0,
              "ticks": ""
             }
            },
            "type": "scattergl"
           }
          ],
          "scattermapbox": [
           {
            "marker": {
             "colorbar": {
              "outlinewidth": 0,
              "ticks": ""
             }
            },
            "type": "scattermapbox"
           }
          ],
          "scatterpolar": [
           {
            "marker": {
             "colorbar": {
              "outlinewidth": 0,
              "ticks": ""
             }
            },
            "type": "scatterpolar"
           }
          ],
          "scatterpolargl": [
           {
            "marker": {
             "colorbar": {
              "outlinewidth": 0,
              "ticks": ""
             }
            },
            "type": "scatterpolargl"
           }
          ],
          "scatterternary": [
           {
            "marker": {
             "colorbar": {
              "outlinewidth": 0,
              "ticks": ""
             }
            },
            "type": "scatterternary"
           }
          ],
          "surface": [
           {
            "colorbar": {
             "outlinewidth": 0,
             "ticks": ""
            },
            "colorscale": [
             [
              0,
              "#0d0887"
             ],
             [
              0.1111111111111111,
              "#46039f"
             ],
             [
              0.2222222222222222,
              "#7201a8"
             ],
             [
              0.3333333333333333,
              "#9c179e"
             ],
             [
              0.4444444444444444,
              "#bd3786"
             ],
             [
              0.5555555555555556,
              "#d8576b"
             ],
             [
              0.6666666666666666,
              "#ed7953"
             ],
             [
              0.7777777777777778,
              "#fb9f3a"
             ],
             [
              0.8888888888888888,
              "#fdca26"
             ],
             [
              1,
              "#f0f921"
             ]
            ],
            "type": "surface"
           }
          ],
          "table": [
           {
            "cells": {
             "fill": {
              "color": "#EBF0F8"
             },
             "line": {
              "color": "white"
             }
            },
            "header": {
             "fill": {
              "color": "#C8D4E3"
             },
             "line": {
              "color": "white"
             }
            },
            "type": "table"
           }
          ]
         },
         "layout": {
          "annotationdefaults": {
           "arrowcolor": "#2a3f5f",
           "arrowhead": 0,
           "arrowwidth": 1
          },
          "autotypenumbers": "strict",
          "coloraxis": {
           "colorbar": {
            "outlinewidth": 0,
            "ticks": ""
           }
          },
          "colorscale": {
           "diverging": [
            [
             0,
             "#8e0152"
            ],
            [
             0.1,
             "#c51b7d"
            ],
            [
             0.2,
             "#de77ae"
            ],
            [
             0.3,
             "#f1b6da"
            ],
            [
             0.4,
             "#fde0ef"
            ],
            [
             0.5,
             "#f7f7f7"
            ],
            [
             0.6,
             "#e6f5d0"
            ],
            [
             0.7,
             "#b8e186"
            ],
            [
             0.8,
             "#7fbc41"
            ],
            [
             0.9,
             "#4d9221"
            ],
            [
             1,
             "#276419"
            ]
           ],
           "sequential": [
            [
             0,
             "#0d0887"
            ],
            [
             0.1111111111111111,
             "#46039f"
            ],
            [
             0.2222222222222222,
             "#7201a8"
            ],
            [
             0.3333333333333333,
             "#9c179e"
            ],
            [
             0.4444444444444444,
             "#bd3786"
            ],
            [
             0.5555555555555556,
             "#d8576b"
            ],
            [
             0.6666666666666666,
             "#ed7953"
            ],
            [
             0.7777777777777778,
             "#fb9f3a"
            ],
            [
             0.8888888888888888,
             "#fdca26"
            ],
            [
             1,
             "#f0f921"
            ]
           ],
           "sequentialminus": [
            [
             0,
             "#0d0887"
            ],
            [
             0.1111111111111111,
             "#46039f"
            ],
            [
             0.2222222222222222,
             "#7201a8"
            ],
            [
             0.3333333333333333,
             "#9c179e"
            ],
            [
             0.4444444444444444,
             "#bd3786"
            ],
            [
             0.5555555555555556,
             "#d8576b"
            ],
            [
             0.6666666666666666,
             "#ed7953"
            ],
            [
             0.7777777777777778,
             "#fb9f3a"
            ],
            [
             0.8888888888888888,
             "#fdca26"
            ],
            [
             1,
             "#f0f921"
            ]
           ]
          },
          "colorway": [
           "#636efa",
           "#EF553B",
           "#00cc96",
           "#ab63fa",
           "#FFA15A",
           "#19d3f3",
           "#FF6692",
           "#B6E880",
           "#FF97FF",
           "#FECB52"
          ],
          "font": {
           "color": "#2a3f5f"
          },
          "geo": {
           "bgcolor": "white",
           "lakecolor": "white",
           "landcolor": "#E5ECF6",
           "showlakes": true,
           "showland": true,
           "subunitcolor": "white"
          },
          "hoverlabel": {
           "align": "left"
          },
          "hovermode": "closest",
          "mapbox": {
           "style": "light"
          },
          "paper_bgcolor": "white",
          "plot_bgcolor": "#E5ECF6",
          "polar": {
           "angularaxis": {
            "gridcolor": "white",
            "linecolor": "white",
            "ticks": ""
           },
           "bgcolor": "#E5ECF6",
           "radialaxis": {
            "gridcolor": "white",
            "linecolor": "white",
            "ticks": ""
           }
          },
          "scene": {
           "xaxis": {
            "backgroundcolor": "#E5ECF6",
            "gridcolor": "white",
            "gridwidth": 2,
            "linecolor": "white",
            "showbackground": true,
            "ticks": "",
            "zerolinecolor": "white"
           },
           "yaxis": {
            "backgroundcolor": "#E5ECF6",
            "gridcolor": "white",
            "gridwidth": 2,
            "linecolor": "white",
            "showbackground": true,
            "ticks": "",
            "zerolinecolor": "white"
           },
           "zaxis": {
            "backgroundcolor": "#E5ECF6",
            "gridcolor": "white",
            "gridwidth": 2,
            "linecolor": "white",
            "showbackground": true,
            "ticks": "",
            "zerolinecolor": "white"
           }
          },
          "shapedefaults": {
           "line": {
            "color": "#2a3f5f"
           }
          },
          "ternary": {
           "aaxis": {
            "gridcolor": "white",
            "linecolor": "white",
            "ticks": ""
           },
           "baxis": {
            "gridcolor": "white",
            "linecolor": "white",
            "ticks": ""
           },
           "bgcolor": "#E5ECF6",
           "caxis": {
            "gridcolor": "white",
            "linecolor": "white",
            "ticks": ""
           }
          },
          "title": {
           "x": 0.05
          },
          "xaxis": {
           "automargin": true,
           "gridcolor": "white",
           "linecolor": "white",
           "ticks": "",
           "title": {
            "standoff": 15
           },
           "zerolinecolor": "white",
           "zerolinewidth": 2
          },
          "yaxis": {
           "automargin": true,
           "gridcolor": "white",
           "linecolor": "white",
           "ticks": "",
           "title": {
            "standoff": 15
           },
           "zerolinecolor": "white",
           "zerolinewidth": 2
          }
         }
        },
        "title": {
         "font": {
          "size": 20
         },
         "text": "<b>Tippwahrscheinlichkeit der Departments</b>",
         "x": 0.475,
         "xanchor": "center",
         "y": 0.935,
         "yanchor": "top"
        },
        "xaxis": {
         "anchor": "y",
         "domain": [
          0,
          1
         ],
         "linecolor": "black",
         "matches": "x2",
         "showline": false,
         "showticklabels": false
        },
        "xaxis2": {
         "anchor": "y2",
         "domain": [
          0,
          1
         ],
         "ticks": "outside",
         "title": {
          "text": "<b>Counties</b>"
         }
        },
        "yaxis": {
         "anchor": "x",
         "domain": [
          0.5,
          1
         ],
         "gridcolor": "grey",
         "linecolor": "black",
         "showgrid": true,
         "showline": false,
         "ticks": "outside",
         "title": {
          "text": "<b>Tipp Wshk.</b>"
         }
        },
        "yaxis2": {
         "anchor": "x2",
         "domain": [
          0,
          0.5
         ],
         "gridcolor": "grey",
         "showgrid": true,
         "ticks": "outside",
         "title": {
          "text": "<b>Order Anteil</b>"
         }
        }
       }
      }
     },
     "metadata": {},
     "output_type": "display_data"
    }
   ],
   "source": [
    "# Plot P3: Department\n",
    "\n",
    "fig1 = make_subplots(cols= 1, rows= 2, shared_xaxes= True, shared_yaxes= False, vertical_spacing= 0)\n",
    "\n",
    "for department in df_dep2.department:\n",
    "\n",
    " if df_dep2[df_dep2.department == department].tip_norm.values >= 0.5:\n",
    "  color = px.colors.sequential.Purpor[5]\n",
    "  text= df_dep2.loc[df_dep2.department == department].tip_norm.values.round(3)\n",
    "\n",
    "  fig1.add_trace(\n",
    "   go.Bar(\n",
    "    x= df_dep2.loc[df_dep2.department == department].department,\n",
    "    y= df_dep2.loc[df_dep2.department == department].tip_norm,\n",
    "    name= f\"{department}: {(df_dep2.loc[df_dep2.department == department].tip_norm.values[0] * 100).round(2)}%\",\n",
    "    showlegend= True,\n",
    "    marker= dict(color= color),\n",
    "    width= 0.8,\n",
    "    text= text,\n",
    "    base= 0,\n",
    "    legendgroup= f\"{department}\" \n",
    "   ),\n",
    "   col= 1,\n",
    "   row= 1\n",
    "  )\n",
    "\n",
    "  fig1.add_trace(\n",
    "   go.Bar(\n",
    "    x= df_dep2.loc[df_dep2.department == department].department,\n",
    "    y= df_dep2.loc[df_dep2.department == department].orders_norm,\n",
    "    name= f\"Orders: {(df_dep2.loc[df_dep2.department == department].orders_norm.values[0] * 100).round(3)}%\",\n",
    "    base = -df_dep2.loc[df_dep2.department == department].orders_norm,\n",
    "    showlegend= True,\n",
    "    marker= dict(color= color),\n",
    "    width= 0.8,\n",
    "    legendgroup= f\"{department}\"\n",
    "   ),\n",
    "   col= 1,\n",
    "   row= 2\n",
    "  )\n",
    "\n",
    " elif 0.4 < df_dep2.loc[df_dep2.department == department].tip_norm.values < 0.5:\n",
    "  color= px.colors.sequential.Greys[3]\n",
    "\n",
    "  fig1.add_trace(\n",
    "   go.Bar(\n",
    "    x= df_dep2.loc[df_dep2.department == department].department,\n",
    "    y= df_dep2.loc[df_dep2.department == department].tip_norm,\n",
    "    name= f\"{department}: {(df_dep2.loc[df_dep2.department == department].tip_norm.values[0] * 100).round(2)}%\",\n",
    "    showlegend= True,\n",
    "    marker= dict(color= color),\n",
    "    width= 0.8,\n",
    "    base= 0,\n",
    "    legendgroup= f\"{department}\"\n",
    "   ),\n",
    "   col= 1,\n",
    "   row= 1\n",
    "  )\n",
    "\n",
    "  fig1.add_trace(\n",
    "   go.Bar(\n",
    "    x= df_dep2.loc[df_dep2.department == department].department,\n",
    "    y= df_dep2.loc[df_dep2.department == department].orders_norm,\n",
    "    name= f\"Orders: {(df_dep2.loc[df_dep2.department == department].orders_norm.values[0] * 100).round(3)}%\",\n",
    "    base = -df_dep2.loc[df_dep2.department == department].orders_norm,\n",
    "    showlegend= True,\n",
    "    marker= dict(color= color),\n",
    "    width= 0.8,\n",
    "    legendgroup= f\"{department}\"\n",
    "   ),\n",
    "   col= 1,\n",
    "   row= 2\n",
    "  )\n",
    "\n",
    " elif 0.3 < df_dep2.loc[df_dep2.department == department].tip_norm.values < 0.4:\n",
    "  color= px.colors.sequential.Greys[2]\n",
    "\n",
    "  fig1.add_trace(\n",
    "   go.Bar(\n",
    "    x= df_dep2.loc[df_dep2.department == department].department,\n",
    "    y= df_dep2.loc[df_dep2.department == department].tip_norm,\n",
    "    name= f\"{department}: {(df_dep2.loc[df_dep2.department == department].tip_norm.values[0] * 100).round(2)}%\",\n",
    "    showlegend= True,\n",
    "    marker= dict(color= color),\n",
    "    width= 0.8,\n",
    "    base= 0,\n",
    "    legendgroup= f\"{department}\"\n",
    "   ),\n",
    "   col= 1,\n",
    "   row= 1\n",
    "  )\n",
    "\n",
    "  fig1.add_trace(\n",
    "   go.Bar(\n",
    "    x= df_dep2.loc[df_dep2.department == department].department,\n",
    "    y= df_dep2.loc[df_dep2.department == department].orders_norm,\n",
    "    name= f\"Orders: {(df_dep2.loc[df_dep2.department == department].orders_norm.values[0] * 100).round(3)}%\",\n",
    "    base = -df_dep2.loc[df_dep2.department == department].orders_norm,\n",
    "    showlegend= True,\n",
    "    marker= dict(color= color),\n",
    "    width= 0.8,\n",
    "    legendgroup= f\"{department}\"\n",
    "   ),\n",
    "   col= 1,\n",
    "   row= 2\n",
    "  )\n",
    "\n",
    "fig1.add_hline(\n",
    " y= 0,\n",
    " opacity= 0.3,\n",
    " line_dash= \"solid\",\n",
    " line_color= \"grey\",\n",
    " col= 1,\n",
    " row= 1\n",
    ")\n",
    "\n",
    "fig1.add_hline(\n",
    " y= 0,\n",
    " opacity= 0.3,\n",
    " line_dash= \"solid\",\n",
    " line_color= \"grey\",\n",
    " col= 1,\n",
    " row= 2\n",
    ")\n",
    "\n",
    "fig1.add_vline(\n",
    " x= -1,\n",
    " opacity= 0.8,\n",
    " line_dash= \"solid\",\n",
    " line_color= \"black\",\n",
    " col= 1,\n",
    " row= 2\n",
    ")\n",
    "\n",
    "fig1.add_vline(\n",
    " x= -1,\n",
    " opacity= 0.8,\n",
    " line_dash= \"solid\",\n",
    " line_color= \"black\",\n",
    " col= 1,\n",
    " row= 1\n",
    ")\n",
    "\n",
    "fig1.add_hline(\n",
    " y= -0.18,\n",
    " opacity= 0.8,\n",
    " line_dash= \"solid\",\n",
    " line_color= \"black\",\n",
    " col= 1,\n",
    " row= 2\n",
    ")\n",
    "\n",
    "fig1.update_annotations(opacity= 0.8)\n",
    "fig1.update_layout(title= dict(text= \"<b>Tippwahrscheinlichkeit der Departments</b>\", font_size= 20, xanchor= \"center\", yanchor= \"top\", y=0.935, x=0.475), legend_title_text = \"<b>Counties</b>\", height= 700)\n",
    "fig1.update_xaxes(title_text=\"<b>Counties</b>\", ticks= \"outside\", col= 1, row= 2)\n",
    "fig1.update_xaxes(showline= False, col= 1, row= 1)\n",
    "fig1.update_yaxes(title_text=\"<b>Tipp Wshk.</b>\", ticks= \"outside\", showgrid= True, gridcolor= \"grey\", col= 1, row= 1, showline= False)\n",
    "fig1.update_yaxes(title_text=\"<b>Order Anteil</b>\", ticks= \"outside\", showgrid= True, gridcolor= \"grey\", col= 1, row= 2)\n",
    "fig1.update_layout(plot_bgcolor= \"white\", xaxis= dict(linecolor= \"black\"), yaxis= dict(linecolor= \"black\"))\n",
    "fig1.show()"
   ]
  },
  {
   "attachments": {},
   "cell_type": "markdown",
   "metadata": {},
   "source": [
    "##### Attribut: days_since_prior_order"
   ]
  },
  {
   "cell_type": "code",
   "execution_count": 109,
   "metadata": {},
   "outputs": [
    {
     "data": {
      "text/html": [
       "<div>\n",
       "<style scoped>\n",
       "    .dataframe tbody tr th:only-of-type {\n",
       "        vertical-align: middle;\n",
       "    }\n",
       "\n",
       "    .dataframe tbody tr th {\n",
       "        vertical-align: top;\n",
       "    }\n",
       "\n",
       "    .dataframe thead th {\n",
       "        text-align: right;\n",
       "    }\n",
       "</style>\n",
       "<table border=\"1\" class=\"dataframe\">\n",
       "  <thead>\n",
       "    <tr style=\"text-align: right;\">\n",
       "      <th></th>\n",
       "      <th>days_since_prior_order</th>\n",
       "      <th>tip</th>\n",
       "      <th>orders</th>\n",
       "      <th>tip_norm</th>\n",
       "      <th>orders_norm</th>\n",
       "    </tr>\n",
       "  </thead>\n",
       "  <tbody>\n",
       "    <tr>\n",
       "      <th>0</th>\n",
       "      <td>0.0</td>\n",
       "      <td>5159.0</td>\n",
       "      <td>12005</td>\n",
       "      <td>0.429738</td>\n",
       "      <td>0.021078</td>\n",
       "    </tr>\n",
       "    <tr>\n",
       "      <th>1</th>\n",
       "      <td>1.0</td>\n",
       "      <td>10188.0</td>\n",
       "      <td>26178</td>\n",
       "      <td>0.389182</td>\n",
       "      <td>0.045963</td>\n",
       "    </tr>\n",
       "    <tr>\n",
       "      <th>2</th>\n",
       "      <td>2.0</td>\n",
       "      <td>14490.0</td>\n",
       "      <td>34983</td>\n",
       "      <td>0.414201</td>\n",
       "      <td>0.061422</td>\n",
       "    </tr>\n",
       "    <tr>\n",
       "      <th>3</th>\n",
       "      <td>3.0</td>\n",
       "      <td>17048.0</td>\n",
       "      <td>38541</td>\n",
       "      <td>0.442334</td>\n",
       "      <td>0.067669</td>\n",
       "    </tr>\n",
       "    <tr>\n",
       "      <th>4</th>\n",
       "      <td>4.0</td>\n",
       "      <td>18052.0</td>\n",
       "      <td>39479</td>\n",
       "      <td>0.457256</td>\n",
       "      <td>0.069316</td>\n",
       "    </tr>\n",
       "  </tbody>\n",
       "</table>\n",
       "</div>"
      ],
      "text/plain": [
       "   days_since_prior_order      tip  orders  tip_norm  orders_norm\n",
       "0                     0.0   5159.0   12005  0.429738     0.021078\n",
       "1                     1.0  10188.0   26178  0.389182     0.045963\n",
       "2                     2.0  14490.0   34983  0.414201     0.061422\n",
       "3                     3.0  17048.0   38541  0.442334     0.067669\n",
       "4                     4.0  18052.0   39479  0.457256     0.069316"
      ]
     },
     "execution_count": 109,
     "metadata": {},
     "output_type": "execute_result"
    }
   ],
   "source": [
    "df_days = df_p3.groupby([\"days_since_prior_order\", \"order_id\"], as_index=False).agg(tip_mean= (\"tip\", \"mean\"))\n",
    "df_days_since_prior_order= df_days.groupby(\"days_since_prior_order\", as_index= False).agg(tip= (\"tip_mean\", \"sum\"), orders= (\"order_id\", \"nunique\"))\n",
    "df_days_since_prior_order[\"tip_norm\"] = df_days_since_prior_order.tip / df_days_since_prior_order.orders\n",
    "df_days_since_prior_order[\"orders_norm\"] = df_days_since_prior_order.orders / df_days_since_prior_order.orders.sum()\n",
    "df_days_since_prior_order.head()"
   ]
  },
  {
   "cell_type": "code",
   "execution_count": 115,
   "metadata": {},
   "outputs": [
    {
     "data": {
      "application/vnd.plotly.v1+json": {
       "config": {
        "plotlyServerURL": "https://plot.ly"
       },
       "data": [
        {
         "base": 0,
         "legendgroup": "0.0",
         "marker": {
          "color": "rgb(189,189,189)"
         },
         "name": "0: 42.97%",
         "showlegend": true,
         "type": "bar",
         "width": 0.8,
         "x": [
          0
         ],
         "xaxis": "x",
         "y": [
          0.42973760932944605
         ],
         "yaxis": "y"
        },
        {
         "base": [
          -0.021078118086623077
         ],
         "legendgroup": "0.0",
         "marker": {
          "color": "rgb(189,189,189)"
         },
         "name": "Orders: 2.108%",
         "showlegend": true,
         "type": "bar",
         "width": 0.8,
         "x": [
          0
         ],
         "xaxis": "x2",
         "y": [
          0.021078118086623077
         ],
         "yaxis": "y2"
        },
        {
         "base": 0,
         "legendgroup": "1.0",
         "marker": {
          "color": "rgb(217,217,217)"
         },
         "name": "1: 38.92%",
         "showlegend": true,
         "type": "bar",
         "width": 0.8,
         "x": [
          1
         ],
         "xaxis": "x",
         "y": [
          0.38918175567270225
         ],
         "yaxis": "y"
        },
        {
         "base": [
          -0.045962763454528856
         ],
         "legendgroup": "1.0",
         "marker": {
          "color": "rgb(217,217,217)"
         },
         "name": "Orders: 4.596%",
         "showlegend": true,
         "type": "bar",
         "width": 0.8,
         "x": [
          1
         ],
         "xaxis": "x2",
         "y": [
          0.045962763454528856
         ],
         "yaxis": "y2"
        },
        {
         "base": 0,
         "legendgroup": "2.0",
         "marker": {
          "color": "rgb(189,189,189)"
         },
         "name": "2: 41.42%",
         "showlegend": true,
         "type": "bar",
         "width": 0.8,
         "x": [
          2
         ],
         "xaxis": "x",
         "y": [
          0.41420118343195267
         ],
         "yaxis": "y"
        },
        {
         "base": [
          -0.061422391089074144
         ],
         "legendgroup": "2.0",
         "marker": {
          "color": "rgb(189,189,189)"
         },
         "name": "Orders: 6.142%",
         "showlegend": true,
         "type": "bar",
         "width": 0.8,
         "x": [
          2
         ],
         "xaxis": "x2",
         "y": [
          0.061422391089074144
         ],
         "yaxis": "y2"
        },
        {
         "base": 0,
         "legendgroup": "3.0",
         "marker": {
          "color": "rgb(189,189,189)"
         },
         "name": "3: 44.23%",
         "showlegend": true,
         "type": "bar",
         "width": 0.8,
         "x": [
          3
         ],
         "xaxis": "x",
         "y": [
          0.44233413767157054
         ],
         "yaxis": "y"
        },
        {
         "base": [
          -0.06766945016047814
         ],
         "legendgroup": "3.0",
         "marker": {
          "color": "rgb(189,189,189)"
         },
         "name": "Orders: 6.767%",
         "showlegend": true,
         "type": "bar",
         "width": 0.8,
         "x": [
          3
         ],
         "xaxis": "x2",
         "y": [
          0.06766945016047814
         ],
         "yaxis": "y2"
        },
        {
         "base": 0,
         "legendgroup": "4.0",
         "marker": {
          "color": "rgb(189,189,189)"
         },
         "name": "4: 45.73%",
         "showlegend": true,
         "type": "bar",
         "width": 0.8,
         "x": [
          4
         ],
         "xaxis": "x",
         "y": [
          0.4572557562248284
         ],
         "yaxis": "y"
        },
        {
         "base": [
          -0.06931637017424344
         ],
         "legendgroup": "4.0",
         "marker": {
          "color": "rgb(189,189,189)"
         },
         "name": "Orders: 6.932%",
         "showlegend": true,
         "type": "bar",
         "width": 0.8,
         "x": [
          4
         ],
         "xaxis": "x2",
         "y": [
          0.06931637017424344
         ],
         "yaxis": "y2"
        },
        {
         "base": 0,
         "legendgroup": "5.0",
         "marker": {
          "color": "rgb(189,189,189)"
         },
         "name": "5: 46.82%",
         "showlegend": true,
         "type": "bar",
         "width": 0.8,
         "x": [
          5
         ],
         "xaxis": "x",
         "y": [
          0.4682124745124693
         ],
         "yaxis": "y"
        },
        {
         "base": [
          -0.06716554179805741
         ],
         "legendgroup": "5.0",
         "marker": {
          "color": "rgb(189,189,189)"
         },
         "name": "Orders: 6.717%",
         "showlegend": true,
         "type": "bar",
         "width": 0.8,
         "x": [
          5
         ],
         "xaxis": "x2",
         "y": [
          0.06716554179805741
         ],
         "yaxis": "y2"
        },
        {
         "base": 0,
         "legendgroup": "6.0",
         "marker": {
          "color": "rgb(189,189,189)"
         },
         "name": "6: 49.41%",
         "showlegend": true,
         "type": "bar",
         "width": 0.8,
         "x": [
          6
         ],
         "xaxis": "x",
         "y": [
          0.4941204084027696
         ],
         "yaxis": "y"
        },
        {
         "base": [
          -0.07480493303461692
         ],
         "legendgroup": "6.0",
         "marker": {
          "color": "rgb(189,189,189)"
         },
         "name": "Orders: 7.48%",
         "showlegend": true,
         "type": "bar",
         "width": 0.8,
         "x": [
          6
         ],
         "xaxis": "x2",
         "y": [
          0.07480493303461692
         ],
         "yaxis": "y2"
        },
        {
         "base": 0,
         "legendgroup": "7.0",
         "marker": {
          "color": "rgb(131, 75, 160)"
         },
         "name": "7: 54.86%",
         "showlegend": true,
         "text": [
          0.55
         ],
         "type": "bar",
         "width": 0.8,
         "x": [
          7
         ],
         "xaxis": "x",
         "y": [
          0.5486086773673512
         ],
         "yaxis": "y"
        },
        {
         "base": [
          -0.10019875409974226
         ],
         "legendgroup": "7.0",
         "marker": {
          "color": "rgb(131, 75, 160)"
         },
         "name": "Orders: 10.02%",
         "showlegend": true,
         "type": "bar",
         "width": 0.8,
         "x": [
          7
         ],
         "xaxis": "x2",
         "y": [
          0.10019875409974226
         ],
         "yaxis": "y2"
        },
        {
         "base": 0,
         "legendgroup": "8.0",
         "marker": {
          "color": "rgb(189,189,189)"
         },
         "name": "8: 48.98%",
         "showlegend": true,
         "type": "bar",
         "width": 0.8,
         "x": [
          8
         ],
         "xaxis": "x",
         "y": [
          0.4898185173792679
         ],
         "yaxis": "y"
        },
        {
         "base": [
          -0.057080351436577775
         ],
         "legendgroup": "8.0",
         "marker": {
          "color": "rgb(189,189,189)"
         },
         "name": "Orders: 5.708%",
         "showlegend": true,
         "type": "bar",
         "width": 0.8,
         "x": [
          8
         ],
         "xaxis": "x2",
         "y": [
          0.057080351436577775
         ],
         "yaxis": "y2"
        },
        {
         "base": 0,
         "legendgroup": "9.0",
         "marker": {
          "color": "rgb(189,189,189)"
         },
         "name": "9: 44.78%",
         "showlegend": true,
         "type": "bar",
         "width": 0.8,
         "x": [
          9
         ],
         "xaxis": "x",
         "y": [
          0.4478062114142985
         ],
         "yaxis": "y"
        },
        {
         "base": [
          -0.03725585903207456
         ],
         "legendgroup": "9.0",
         "marker": {
          "color": "rgb(189,189,189)"
         },
         "name": "Orders: 3.726%",
         "showlegend": true,
         "type": "bar",
         "width": 0.8,
         "x": [
          9
         ],
         "xaxis": "x2",
         "y": [
          0.03725585903207456
         ],
         "yaxis": "y2"
        },
        {
         "base": 0,
         "legendgroup": "10.0",
         "marker": {
          "color": "rgb(189,189,189)"
         },
         "name": "10: 44.09%",
         "showlegend": true,
         "type": "bar",
         "width": 0.8,
         "x": [
          10
         ],
         "xaxis": "x",
         "y": [
          0.4409472068028818
         ],
         "yaxis": "y"
        },
        {
         "base": [
          -0.029732349161089144
         ],
         "legendgroup": "10.0",
         "marker": {
          "color": "rgb(189,189,189)"
         },
         "name": "Orders: 2.973%",
         "showlegend": true,
         "type": "bar",
         "width": 0.8,
         "x": [
          10
         ],
         "xaxis": "x2",
         "y": [
          0.029732349161089144
         ],
         "yaxis": "y2"
        },
        {
         "base": 0,
         "legendgroup": "11.0",
         "marker": {
          "color": "rgb(189,189,189)"
         },
         "name": "11: 42.77%",
         "showlegend": true,
         "type": "bar",
         "width": 0.8,
         "x": [
          11
         ],
         "xaxis": "x",
         "y": [
          0.42770875268966474
         ],
         "yaxis": "y"
        },
        {
         "base": [
          -0.025295497482213967
         ],
         "legendgroup": "11.0",
         "marker": {
          "color": "rgb(189,189,189)"
         },
         "name": "Orders: 2.53%",
         "showlegend": true,
         "type": "bar",
         "width": 0.8,
         "x": [
          11
         ],
         "xaxis": "x2",
         "y": [
          0.025295497482213967
         ],
         "yaxis": "y2"
        },
        {
         "base": 0,
         "legendgroup": "12.0",
         "marker": {
          "color": "rgb(189,189,189)"
         },
         "name": "12: 42.21%",
         "showlegend": true,
         "type": "bar",
         "width": 0.8,
         "x": [
          12
         ],
         "xaxis": "x",
         "y": [
          0.42211757780884407
         ],
         "yaxis": "y"
        },
        {
         "base": [
          -0.02386278241693413
         ],
         "legendgroup": "12.0",
         "marker": {
          "color": "rgb(189,189,189)"
         },
         "name": "Orders: 2.386%",
         "showlegend": true,
         "type": "bar",
         "width": 0.8,
         "x": [
          12
         ],
         "xaxis": "x2",
         "y": [
          0.02386278241693413
         ],
         "yaxis": "y2"
        },
        {
         "base": 0,
         "legendgroup": "13.0",
         "marker": {
          "color": "rgb(189,189,189)"
         },
         "name": "13: 41.45%",
         "showlegend": true,
         "type": "bar",
         "width": 0.8,
         "x": [
          13
         ],
         "xaxis": "x",
         "y": [
          0.4145091693635383
         ],
         "yaxis": "y"
        },
        {
         "base": [
          -0.02604170324538055
         ],
         "legendgroup": "13.0",
         "marker": {
          "color": "rgb(189,189,189)"
         },
         "name": "Orders: 2.604%",
         "showlegend": true,
         "type": "bar",
         "width": 0.8,
         "x": [
          13
         ],
         "xaxis": "x2",
         "y": [
          0.02604170324538055
         ],
         "yaxis": "y2"
        },
        {
         "base": 0,
         "legendgroup": "14.0",
         "marker": {
          "color": "rgb(189,189,189)"
         },
         "name": "14: 45.25%",
         "showlegend": true,
         "type": "bar",
         "width": 0.8,
         "x": [
          14
         ],
         "xaxis": "x",
         "y": [
          0.4525236681418408
         ],
         "yaxis": "y"
        },
        {
         "base": [
          -0.031342397831262685
         ],
         "legendgroup": "14.0",
         "marker": {
          "color": "rgb(189,189,189)"
         },
         "name": "Orders: 3.134%",
         "showlegend": true,
         "type": "bar",
         "width": 0.8,
         "x": [
          14
         ],
         "xaxis": "x2",
         "y": [
          0.031342397831262685
         ],
         "yaxis": "y2"
        },
        {
         "base": 0,
         "legendgroup": "15.0",
         "marker": {
          "color": "rgb(217,217,217)"
         },
         "name": "15: 39.66%",
         "showlegend": true,
         "type": "bar",
         "width": 0.8,
         "x": [
          15
         ],
         "xaxis": "x",
         "y": [
          0.39657827202737383
         ],
         "yaxis": "y"
        },
        {
         "base": [
          -0.02052504793274667
         ],
         "legendgroup": "15.0",
         "marker": {
          "color": "rgb(217,217,217)"
         },
         "name": "Orders: 2.053%",
         "showlegend": true,
         "type": "bar",
         "width": 0.8,
         "x": [
          15
         ],
         "xaxis": "x2",
         "y": [
          0.02052504793274667
         ],
         "yaxis": "y2"
        },
        {
         "base": 0,
         "legendgroup": "16.0",
         "marker": {
          "color": "rgb(217,217,217)"
         },
         "name": "16: 36.51%",
         "showlegend": true,
         "type": "bar",
         "width": 0.8,
         "x": [
          16
         ],
         "xaxis": "x",
         "y": [
          0.3650869254584425
         ],
         "yaxis": "y"
        },
        {
         "base": [
          -0.014745025880171644
         ],
         "legendgroup": "16.0",
         "marker": {
          "color": "rgb(217,217,217)"
         },
         "name": "Orders: 1.475%",
         "showlegend": true,
         "type": "bar",
         "width": 0.8,
         "x": [
          16
         ],
         "xaxis": "x2",
         "y": [
          0.014745025880171644
         ],
         "yaxis": "y2"
        },
        {
         "base": 0,
         "legendgroup": "17.0",
         "marker": {
          "color": "rgb(217,217,217)"
         },
         "name": "17: 36.77%",
         "showlegend": true,
         "type": "bar",
         "width": 0.8,
         "x": [
          17
         ],
         "xaxis": "x",
         "y": [
          0.36768249468462083
         ],
         "yaxis": "y"
        },
        {
         "base": [
          -0.012387015668565248
         ],
         "legendgroup": "17.0",
         "marker": {
          "color": "rgb(217,217,217)"
         },
         "name": "Orders: 1.239%",
         "showlegend": true,
         "type": "bar",
         "width": 0.8,
         "x": [
          17
         ],
         "xaxis": "x2",
         "y": [
          0.012387015668565248
         ],
         "yaxis": "y2"
        },
        {
         "base": 0,
         "legendgroup": "18.0",
         "marker": {
          "color": "rgb(217,217,217)"
         },
         "name": "18: 36.91%",
         "showlegend": true,
         "type": "bar",
         "width": 0.8,
         "x": [
          18
         ],
         "xaxis": "x",
         "y": [
          0.36908517350157727
         ],
         "yaxis": "y"
        },
        {
         "base": [
          -0.011131634208179118
         ],
         "legendgroup": "18.0",
         "marker": {
          "color": "rgb(217,217,217)"
         },
         "name": "Orders: 1.113%",
         "showlegend": true,
         "type": "bar",
         "width": 0.8,
         "x": [
          18
         ],
         "xaxis": "x2",
         "y": [
          0.011131634208179118
         ],
         "yaxis": "y2"
        },
        {
         "base": 0,
         "legendgroup": "19.0",
         "marker": {
          "color": "rgb(217,217,217)"
         },
         "name": "19: 36.19%",
         "showlegend": true,
         "type": "bar",
         "width": 0.8,
         "x": [
          19
         ],
         "xaxis": "x",
         "y": [
          0.3619111037123356
         ],
         "yaxis": "y"
        },
        {
         "base": [
          -0.010546960045509772
         ],
         "legendgroup": "19.0",
         "marker": {
          "color": "rgb(217,217,217)"
         },
         "name": "Orders: 1.055%",
         "showlegend": true,
         "type": "bar",
         "width": 0.8,
         "x": [
          19
         ],
         "xaxis": "x2",
         "y": [
          0.010546960045509772
         ],
         "yaxis": "y2"
        },
        {
         "base": 0,
         "legendgroup": "20.0",
         "marker": {
          "color": "rgb(217,217,217)"
         },
         "name": "20: 35.63%",
         "showlegend": true,
         "type": "bar",
         "width": 0.8,
         "x": [
          20
         ],
         "xaxis": "x",
         "y": [
          0.35632855890090614
         ],
         "yaxis": "y"
        },
        {
         "base": [
          -0.01201303489784882
         ],
         "legendgroup": "20.0",
         "marker": {
          "color": "rgb(217,217,217)"
         },
         "name": "Orders: 1.201%",
         "showlegend": true,
         "type": "bar",
         "width": 0.8,
         "x": [
          20
         ],
         "xaxis": "x2",
         "y": [
          0.01201303489784882
         ],
         "yaxis": "y2"
        },
        {
         "base": 0,
         "legendgroup": "21.0",
         "marker": {
          "color": "rgb(217,217,217)"
         },
         "name": "21: 38.01%",
         "showlegend": true,
         "type": "bar",
         "width": 0.8,
         "x": [
          21
         ],
         "xaxis": "x",
         "y": [
          0.380125786163522
         ],
         "yaxis": "y"
        },
        {
         "base": [
          -0.013958437216880755
         ],
         "legendgroup": "21.0",
         "marker": {
          "color": "rgb(217,217,217)"
         },
         "name": "Orders: 1.396%",
         "showlegend": true,
         "type": "bar",
         "width": 0.8,
         "x": [
          21
         ],
         "xaxis": "x2",
         "y": [
          0.013958437216880755
         ],
         "yaxis": "y2"
        },
        {
         "base": 0,
         "legendgroup": "22.0",
         "marker": {
          "color": "rgb(217,217,217)"
         },
         "name": "22: 36.06%",
         "showlegend": true,
         "type": "bar",
         "width": 0.8,
         "x": [
          22
         ],
         "xaxis": "x",
         "y": [
          0.3606178977272727
         ],
         "yaxis": "y"
        },
        {
         "base": [
          -0.009888543195656907
         ],
         "legendgroup": "22.0",
         "marker": {
          "color": "rgb(217,217,217)"
         },
         "name": "Orders: 0.989%",
         "showlegend": true,
         "type": "bar",
         "width": 0.8,
         "x": [
          22
         ],
         "xaxis": "x2",
         "y": [
          0.009888543195656907
         ],
         "yaxis": "y2"
        },
        {
         "base": 0,
         "legendgroup": "23.0",
         "marker": {
          "color": "rgb(217,217,217)"
         },
         "name": "23: 31.87%",
         "showlegend": true,
         "type": "bar",
         "width": 0.8,
         "x": [
          23
         ],
         "xaxis": "x",
         "y": [
          0.31870452945318
         ],
         "yaxis": "y"
        },
        {
         "base": [
          -0.0074813711925948295
         ],
         "legendgroup": "23.0",
         "marker": {
          "color": "rgb(217,217,217)"
         },
         "name": "Orders: 0.748%",
         "showlegend": true,
         "type": "bar",
         "width": 0.8,
         "x": [
          23
         ],
         "xaxis": "x2",
         "y": [
          0.0074813711925948295
         ],
         "yaxis": "y2"
        },
        {
         "base": 0,
         "legendgroup": "24.0",
         "marker": {
          "color": "rgb(217,217,217)"
         },
         "name": "24: 31.62%",
         "showlegend": true,
         "type": "bar",
         "width": 0.8,
         "x": [
          24
         ],
         "xaxis": "x",
         "y": [
          0.3161867486720716
         ],
         "yaxis": "y"
        },
        {
         "base": [
          -0.006280418858463203
         ],
         "legendgroup": "24.0",
         "marker": {
          "color": "rgb(217,217,217)"
         },
         "name": "Orders: 0.628%",
         "showlegend": true,
         "type": "bar",
         "width": 0.8,
         "x": [
          24
         ],
         "xaxis": "x2",
         "y": [
          0.006280418858463203
         ],
         "yaxis": "y2"
        },
        {
         "base": 0,
         "legendgroup": "25.0",
         "marker": {
          "color": "rgb(217,217,217)"
         },
         "name": "25: 30.44%",
         "showlegend": true,
         "type": "bar",
         "width": 0.8,
         "x": [
          25
         ],
         "xaxis": "x",
         "y": [
          0.30440060698027316
         ],
         "yaxis": "y"
        },
        {
         "base": [
          -0.005785289387373847
         ],
         "legendgroup": "25.0",
         "marker": {
          "color": "rgb(217,217,217)"
         },
         "name": "Orders: 0.579%",
         "showlegend": true,
         "type": "bar",
         "width": 0.8,
         "x": [
          25
         ],
         "xaxis": "x2",
         "y": [
          0.005785289387373847
         ],
         "yaxis": "y2"
        },
        {
         "base": 0,
         "legendgroup": "26.0",
         "marker": {
          "color": "rgb(217,217,217)"
         },
         "name": "26: 30.35%",
         "showlegend": true,
         "type": "bar",
         "width": 0.8,
         "x": [
          26
         ],
         "xaxis": "x",
         "y": [
          0.30354483169496577
         ],
         "yaxis": "y"
        },
        {
         "base": [
          -0.005894147639882855
         ],
         "legendgroup": "26.0",
         "marker": {
          "color": "rgb(217,217,217)"
         },
         "name": "Orders: 0.589%",
         "showlegend": true,
         "type": "bar",
         "width": 0.8,
         "x": [
          26
         ],
         "xaxis": "x2",
         "y": [
          0.005894147639882855
         ],
         "yaxis": "y2"
        },
        {
         "base": 0,
         "legendgroup": "27.0",
         "marker": {
          "color": "rgb(217,217,217)"
         },
         "name": "27: 30.92%",
         "showlegend": true,
         "type": "bar",
         "width": 0.8,
         "x": [
          27
         ],
         "xaxis": "x",
         "y": [
          0.30915637860082307
         ],
         "yaxis": "y"
        },
        {
         "base": [
          -0.006826465899274513
         ],
         "legendgroup": "27.0",
         "marker": {
          "color": "rgb(217,217,217)"
         },
         "name": "Orders: 0.683%",
         "showlegend": true,
         "type": "bar",
         "width": 0.8,
         "x": [
          27
         ],
         "xaxis": "x2",
         "y": [
          0.006826465899274513
         ],
         "yaxis": "y2"
        },
        {
         "base": 0,
         "legendgroup": "28.0",
         "marker": {
          "color": "rgb(217,217,217)"
         },
         "name": "28: 33.09%",
         "showlegend": true,
         "type": "bar",
         "width": 0.8,
         "x": [
          28
         ],
         "xaxis": "x",
         "y": [
          0.330938292476754
         ],
         "yaxis": "y"
        },
        {
         "base": [
          -0.008308342756010029
         ],
         "legendgroup": "28.0",
         "marker": {
          "color": "rgb(217,217,217)"
         },
         "name": "Orders: 0.831%",
         "showlegend": true,
         "type": "bar",
         "width": 0.8,
         "x": [
          28
         ],
         "xaxis": "x2",
         "y": [
          0.008308342756010029
         ],
         "yaxis": "y2"
        },
        {
         "base": 0,
         "legendgroup": "29.0",
         "marker": {
          "color": "rgb(240,240,240)"
         },
         "name": "29: 28.96%",
         "showlegend": true,
         "text": [
          0.29
         ],
         "type": "bar",
         "width": 0.8,
         "x": [
          29
         ],
         "xaxis": "x",
         "y": [
          0.28958210712183635
         ],
         "yaxis": "y"
        },
        {
         "base": [
          -0.005966134548800101
         ],
         "legendgroup": "29.0",
         "marker": {
          "color": "rgb(240,240,240)"
         },
         "name": "Orders: 0.597%",
         "showlegend": true,
         "type": "bar",
         "width": 0.8,
         "x": [
          29
         ],
         "xaxis": "x2",
         "y": [
          0.005966134548800101
         ],
         "yaxis": "y2"
        },
        {
         "base": 0,
         "legendgroup": "30.0",
         "marker": {
          "color": "rgb(240,240,240)"
         },
         "name": "30: 24.75%",
         "showlegend": true,
         "text": [
          0.25
         ],
         "type": "bar",
         "width": 0.8,
         "x": [
          30
         ],
         "xaxis": "x",
         "y": [
          0.24752269862292361
         ],
         "yaxis": "y"
        },
        {
         "base": [
          -0.11003286816914465
         ],
         "legendgroup": "30.0",
         "marker": {
          "color": "rgb(240,240,240)"
         },
         "name": "Orders: 11.003%",
         "showlegend": true,
         "type": "bar",
         "width": 0.8,
         "x": [
          30
         ],
         "xaxis": "x2",
         "y": [
          0.11003286816914465
         ],
         "yaxis": "y2"
        }
       ],
       "layout": {
        "height": 700,
        "legend": {
         "title": {
          "text": "<b>Tage</b>"
         }
        },
        "plot_bgcolor": "white",
        "shapes": [
         {
          "line": {
           "color": "grey",
           "dash": "solid"
          },
          "opacity": 0.3,
          "type": "line",
          "x0": 0,
          "x1": 1,
          "xref": "x domain",
          "y0": 0,
          "y1": 0,
          "yref": "y"
         },
         {
          "line": {
           "color": "grey",
           "dash": "solid"
          },
          "opacity": 0.3,
          "type": "line",
          "x0": 0,
          "x1": 1,
          "xref": "x2 domain",
          "y0": 0,
          "y1": 0,
          "yref": "y2"
         },
         {
          "line": {
           "color": "black",
           "dash": "solid"
          },
          "opacity": 0.8,
          "type": "line",
          "x0": -1,
          "x1": -1,
          "xref": "x2",
          "y0": 0,
          "y1": 1,
          "yref": "y2 domain"
         },
         {
          "line": {
           "color": "black",
           "dash": "solid"
          },
          "opacity": 0.8,
          "type": "line",
          "x0": -1,
          "x1": -1,
          "xref": "x",
          "y0": 0,
          "y1": 1,
          "yref": "y domain"
         },
         {
          "line": {
           "color": "black",
           "dash": "solid"
          },
          "opacity": 0.8,
          "type": "line",
          "x0": 0,
          "x1": 1,
          "xref": "x2 domain",
          "y0": -0.18,
          "y1": -0.18,
          "yref": "y2"
         }
        ],
        "template": {
         "data": {
          "bar": [
           {
            "error_x": {
             "color": "#2a3f5f"
            },
            "error_y": {
             "color": "#2a3f5f"
            },
            "marker": {
             "line": {
              "color": "#E5ECF6",
              "width": 0.5
             },
             "pattern": {
              "fillmode": "overlay",
              "size": 10,
              "solidity": 0.2
             }
            },
            "type": "bar"
           }
          ],
          "barpolar": [
           {
            "marker": {
             "line": {
              "color": "#E5ECF6",
              "width": 0.5
             },
             "pattern": {
              "fillmode": "overlay",
              "size": 10,
              "solidity": 0.2
             }
            },
            "type": "barpolar"
           }
          ],
          "carpet": [
           {
            "aaxis": {
             "endlinecolor": "#2a3f5f",
             "gridcolor": "white",
             "linecolor": "white",
             "minorgridcolor": "white",
             "startlinecolor": "#2a3f5f"
            },
            "baxis": {
             "endlinecolor": "#2a3f5f",
             "gridcolor": "white",
             "linecolor": "white",
             "minorgridcolor": "white",
             "startlinecolor": "#2a3f5f"
            },
            "type": "carpet"
           }
          ],
          "choropleth": [
           {
            "colorbar": {
             "outlinewidth": 0,
             "ticks": ""
            },
            "type": "choropleth"
           }
          ],
          "contour": [
           {
            "colorbar": {
             "outlinewidth": 0,
             "ticks": ""
            },
            "colorscale": [
             [
              0,
              "#0d0887"
             ],
             [
              0.1111111111111111,
              "#46039f"
             ],
             [
              0.2222222222222222,
              "#7201a8"
             ],
             [
              0.3333333333333333,
              "#9c179e"
             ],
             [
              0.4444444444444444,
              "#bd3786"
             ],
             [
              0.5555555555555556,
              "#d8576b"
             ],
             [
              0.6666666666666666,
              "#ed7953"
             ],
             [
              0.7777777777777778,
              "#fb9f3a"
             ],
             [
              0.8888888888888888,
              "#fdca26"
             ],
             [
              1,
              "#f0f921"
             ]
            ],
            "type": "contour"
           }
          ],
          "contourcarpet": [
           {
            "colorbar": {
             "outlinewidth": 0,
             "ticks": ""
            },
            "type": "contourcarpet"
           }
          ],
          "heatmap": [
           {
            "colorbar": {
             "outlinewidth": 0,
             "ticks": ""
            },
            "colorscale": [
             [
              0,
              "#0d0887"
             ],
             [
              0.1111111111111111,
              "#46039f"
             ],
             [
              0.2222222222222222,
              "#7201a8"
             ],
             [
              0.3333333333333333,
              "#9c179e"
             ],
             [
              0.4444444444444444,
              "#bd3786"
             ],
             [
              0.5555555555555556,
              "#d8576b"
             ],
             [
              0.6666666666666666,
              "#ed7953"
             ],
             [
              0.7777777777777778,
              "#fb9f3a"
             ],
             [
              0.8888888888888888,
              "#fdca26"
             ],
             [
              1,
              "#f0f921"
             ]
            ],
            "type": "heatmap"
           }
          ],
          "heatmapgl": [
           {
            "colorbar": {
             "outlinewidth": 0,
             "ticks": ""
            },
            "colorscale": [
             [
              0,
              "#0d0887"
             ],
             [
              0.1111111111111111,
              "#46039f"
             ],
             [
              0.2222222222222222,
              "#7201a8"
             ],
             [
              0.3333333333333333,
              "#9c179e"
             ],
             [
              0.4444444444444444,
              "#bd3786"
             ],
             [
              0.5555555555555556,
              "#d8576b"
             ],
             [
              0.6666666666666666,
              "#ed7953"
             ],
             [
              0.7777777777777778,
              "#fb9f3a"
             ],
             [
              0.8888888888888888,
              "#fdca26"
             ],
             [
              1,
              "#f0f921"
             ]
            ],
            "type": "heatmapgl"
           }
          ],
          "histogram": [
           {
            "marker": {
             "pattern": {
              "fillmode": "overlay",
              "size": 10,
              "solidity": 0.2
             }
            },
            "type": "histogram"
           }
          ],
          "histogram2d": [
           {
            "colorbar": {
             "outlinewidth": 0,
             "ticks": ""
            },
            "colorscale": [
             [
              0,
              "#0d0887"
             ],
             [
              0.1111111111111111,
              "#46039f"
             ],
             [
              0.2222222222222222,
              "#7201a8"
             ],
             [
              0.3333333333333333,
              "#9c179e"
             ],
             [
              0.4444444444444444,
              "#bd3786"
             ],
             [
              0.5555555555555556,
              "#d8576b"
             ],
             [
              0.6666666666666666,
              "#ed7953"
             ],
             [
              0.7777777777777778,
              "#fb9f3a"
             ],
             [
              0.8888888888888888,
              "#fdca26"
             ],
             [
              1,
              "#f0f921"
             ]
            ],
            "type": "histogram2d"
           }
          ],
          "histogram2dcontour": [
           {
            "colorbar": {
             "outlinewidth": 0,
             "ticks": ""
            },
            "colorscale": [
             [
              0,
              "#0d0887"
             ],
             [
              0.1111111111111111,
              "#46039f"
             ],
             [
              0.2222222222222222,
              "#7201a8"
             ],
             [
              0.3333333333333333,
              "#9c179e"
             ],
             [
              0.4444444444444444,
              "#bd3786"
             ],
             [
              0.5555555555555556,
              "#d8576b"
             ],
             [
              0.6666666666666666,
              "#ed7953"
             ],
             [
              0.7777777777777778,
              "#fb9f3a"
             ],
             [
              0.8888888888888888,
              "#fdca26"
             ],
             [
              1,
              "#f0f921"
             ]
            ],
            "type": "histogram2dcontour"
           }
          ],
          "mesh3d": [
           {
            "colorbar": {
             "outlinewidth": 0,
             "ticks": ""
            },
            "type": "mesh3d"
           }
          ],
          "parcoords": [
           {
            "line": {
             "colorbar": {
              "outlinewidth": 0,
              "ticks": ""
             }
            },
            "type": "parcoords"
           }
          ],
          "pie": [
           {
            "automargin": true,
            "type": "pie"
           }
          ],
          "scatter": [
           {
            "fillpattern": {
             "fillmode": "overlay",
             "size": 10,
             "solidity": 0.2
            },
            "type": "scatter"
           }
          ],
          "scatter3d": [
           {
            "line": {
             "colorbar": {
              "outlinewidth": 0,
              "ticks": ""
             }
            },
            "marker": {
             "colorbar": {
              "outlinewidth": 0,
              "ticks": ""
             }
            },
            "type": "scatter3d"
           }
          ],
          "scattercarpet": [
           {
            "marker": {
             "colorbar": {
              "outlinewidth": 0,
              "ticks": ""
             }
            },
            "type": "scattercarpet"
           }
          ],
          "scattergeo": [
           {
            "marker": {
             "colorbar": {
              "outlinewidth": 0,
              "ticks": ""
             }
            },
            "type": "scattergeo"
           }
          ],
          "scattergl": [
           {
            "marker": {
             "colorbar": {
              "outlinewidth": 0,
              "ticks": ""
             }
            },
            "type": "scattergl"
           }
          ],
          "scattermapbox": [
           {
            "marker": {
             "colorbar": {
              "outlinewidth": 0,
              "ticks": ""
             }
            },
            "type": "scattermapbox"
           }
          ],
          "scatterpolar": [
           {
            "marker": {
             "colorbar": {
              "outlinewidth": 0,
              "ticks": ""
             }
            },
            "type": "scatterpolar"
           }
          ],
          "scatterpolargl": [
           {
            "marker": {
             "colorbar": {
              "outlinewidth": 0,
              "ticks": ""
             }
            },
            "type": "scatterpolargl"
           }
          ],
          "scatterternary": [
           {
            "marker": {
             "colorbar": {
              "outlinewidth": 0,
              "ticks": ""
             }
            },
            "type": "scatterternary"
           }
          ],
          "surface": [
           {
            "colorbar": {
             "outlinewidth": 0,
             "ticks": ""
            },
            "colorscale": [
             [
              0,
              "#0d0887"
             ],
             [
              0.1111111111111111,
              "#46039f"
             ],
             [
              0.2222222222222222,
              "#7201a8"
             ],
             [
              0.3333333333333333,
              "#9c179e"
             ],
             [
              0.4444444444444444,
              "#bd3786"
             ],
             [
              0.5555555555555556,
              "#d8576b"
             ],
             [
              0.6666666666666666,
              "#ed7953"
             ],
             [
              0.7777777777777778,
              "#fb9f3a"
             ],
             [
              0.8888888888888888,
              "#fdca26"
             ],
             [
              1,
              "#f0f921"
             ]
            ],
            "type": "surface"
           }
          ],
          "table": [
           {
            "cells": {
             "fill": {
              "color": "#EBF0F8"
             },
             "line": {
              "color": "white"
             }
            },
            "header": {
             "fill": {
              "color": "#C8D4E3"
             },
             "line": {
              "color": "white"
             }
            },
            "type": "table"
           }
          ]
         },
         "layout": {
          "annotationdefaults": {
           "arrowcolor": "#2a3f5f",
           "arrowhead": 0,
           "arrowwidth": 1
          },
          "autotypenumbers": "strict",
          "coloraxis": {
           "colorbar": {
            "outlinewidth": 0,
            "ticks": ""
           }
          },
          "colorscale": {
           "diverging": [
            [
             0,
             "#8e0152"
            ],
            [
             0.1,
             "#c51b7d"
            ],
            [
             0.2,
             "#de77ae"
            ],
            [
             0.3,
             "#f1b6da"
            ],
            [
             0.4,
             "#fde0ef"
            ],
            [
             0.5,
             "#f7f7f7"
            ],
            [
             0.6,
             "#e6f5d0"
            ],
            [
             0.7,
             "#b8e186"
            ],
            [
             0.8,
             "#7fbc41"
            ],
            [
             0.9,
             "#4d9221"
            ],
            [
             1,
             "#276419"
            ]
           ],
           "sequential": [
            [
             0,
             "#0d0887"
            ],
            [
             0.1111111111111111,
             "#46039f"
            ],
            [
             0.2222222222222222,
             "#7201a8"
            ],
            [
             0.3333333333333333,
             "#9c179e"
            ],
            [
             0.4444444444444444,
             "#bd3786"
            ],
            [
             0.5555555555555556,
             "#d8576b"
            ],
            [
             0.6666666666666666,
             "#ed7953"
            ],
            [
             0.7777777777777778,
             "#fb9f3a"
            ],
            [
             0.8888888888888888,
             "#fdca26"
            ],
            [
             1,
             "#f0f921"
            ]
           ],
           "sequentialminus": [
            [
             0,
             "#0d0887"
            ],
            [
             0.1111111111111111,
             "#46039f"
            ],
            [
             0.2222222222222222,
             "#7201a8"
            ],
            [
             0.3333333333333333,
             "#9c179e"
            ],
            [
             0.4444444444444444,
             "#bd3786"
            ],
            [
             0.5555555555555556,
             "#d8576b"
            ],
            [
             0.6666666666666666,
             "#ed7953"
            ],
            [
             0.7777777777777778,
             "#fb9f3a"
            ],
            [
             0.8888888888888888,
             "#fdca26"
            ],
            [
             1,
             "#f0f921"
            ]
           ]
          },
          "colorway": [
           "#636efa",
           "#EF553B",
           "#00cc96",
           "#ab63fa",
           "#FFA15A",
           "#19d3f3",
           "#FF6692",
           "#B6E880",
           "#FF97FF",
           "#FECB52"
          ],
          "font": {
           "color": "#2a3f5f"
          },
          "geo": {
           "bgcolor": "white",
           "lakecolor": "white",
           "landcolor": "#E5ECF6",
           "showlakes": true,
           "showland": true,
           "subunitcolor": "white"
          },
          "hoverlabel": {
           "align": "left"
          },
          "hovermode": "closest",
          "mapbox": {
           "style": "light"
          },
          "paper_bgcolor": "white",
          "plot_bgcolor": "#E5ECF6",
          "polar": {
           "angularaxis": {
            "gridcolor": "white",
            "linecolor": "white",
            "ticks": ""
           },
           "bgcolor": "#E5ECF6",
           "radialaxis": {
            "gridcolor": "white",
            "linecolor": "white",
            "ticks": ""
           }
          },
          "scene": {
           "xaxis": {
            "backgroundcolor": "#E5ECF6",
            "gridcolor": "white",
            "gridwidth": 2,
            "linecolor": "white",
            "showbackground": true,
            "ticks": "",
            "zerolinecolor": "white"
           },
           "yaxis": {
            "backgroundcolor": "#E5ECF6",
            "gridcolor": "white",
            "gridwidth": 2,
            "linecolor": "white",
            "showbackground": true,
            "ticks": "",
            "zerolinecolor": "white"
           },
           "zaxis": {
            "backgroundcolor": "#E5ECF6",
            "gridcolor": "white",
            "gridwidth": 2,
            "linecolor": "white",
            "showbackground": true,
            "ticks": "",
            "zerolinecolor": "white"
           }
          },
          "shapedefaults": {
           "line": {
            "color": "#2a3f5f"
           }
          },
          "ternary": {
           "aaxis": {
            "gridcolor": "white",
            "linecolor": "white",
            "ticks": ""
           },
           "baxis": {
            "gridcolor": "white",
            "linecolor": "white",
            "ticks": ""
           },
           "bgcolor": "#E5ECF6",
           "caxis": {
            "gridcolor": "white",
            "linecolor": "white",
            "ticks": ""
           }
          },
          "title": {
           "x": 0.05
          },
          "xaxis": {
           "automargin": true,
           "gridcolor": "white",
           "linecolor": "white",
           "ticks": "",
           "title": {
            "standoff": 15
           },
           "zerolinecolor": "white",
           "zerolinewidth": 2
          },
          "yaxis": {
           "automargin": true,
           "gridcolor": "white",
           "linecolor": "white",
           "ticks": "",
           "title": {
            "standoff": 15
           },
           "zerolinecolor": "white",
           "zerolinewidth": 2
          }
         }
        },
        "title": {
         "font": {
          "size": 20
         },
         "text": "<b>Tippwahrscheinlichkeit von Bestellungen mit Tagen seit der letzten Bestellungen</b>",
         "x": 0.475,
         "xanchor": "center",
         "y": 0.935,
         "yanchor": "top"
        },
        "xaxis": {
         "anchor": "y",
         "domain": [
          0,
          1
         ],
         "linecolor": "black",
         "matches": "x2",
         "showline": false,
         "showticklabels": false
        },
        "xaxis2": {
         "anchor": "y2",
         "domain": [
          0,
          1
         ],
         "ticks": "outside",
         "title": {
          "text": "<b>Tage</b>"
         }
        },
        "yaxis": {
         "anchor": "x",
         "domain": [
          0.5,
          1
         ],
         "gridcolor": "grey",
         "linecolor": "black",
         "showgrid": true,
         "showline": false,
         "ticks": "outside",
         "title": {
          "text": "<b>Tipp Wshk.</b>"
         }
        },
        "yaxis2": {
         "anchor": "x2",
         "domain": [
          0,
          0.5
         ],
         "gridcolor": "grey",
         "showgrid": true,
         "ticks": "outside",
         "title": {
          "text": "<b>Order Anteil</b>"
         }
        }
       }
      }
     },
     "metadata": {},
     "output_type": "display_data"
    }
   ],
   "source": [
    "# Plot P3: Days_since_prior_order\n",
    "fig1 = make_subplots(cols= 1, rows= 2, shared_xaxes= True, shared_yaxes= False, vertical_spacing= 0)\n",
    "\n",
    "for days_since_prior_order in df_days_since_prior_order.days_since_prior_order:\n",
    "\n",
    " if df_days_since_prior_order[df_days_since_prior_order.days_since_prior_order == days_since_prior_order].tip_norm.values >= 0.5:\n",
    "  color = px.colors.sequential.Purpor[5]\n",
    "  text= df_days_since_prior_order.loc[df_days_since_prior_order.days_since_prior_order == days_since_prior_order].tip_norm.values.round(2)\n",
    "\n",
    "  fig1.add_trace(\n",
    "   go.Bar(\n",
    "    x= df_days_since_prior_order.loc[df_days_since_prior_order.days_since_prior_order == days_since_prior_order].days_since_prior_order,\n",
    "    y= df_days_since_prior_order.loc[df_days_since_prior_order.days_since_prior_order == days_since_prior_order].tip_norm,\n",
    "    name= f\"{int(days_since_prior_order)}: {(df_days_since_prior_order.loc[df_days_since_prior_order.days_since_prior_order == days_since_prior_order].tip_norm.values[0] * 100).round(2)}%\",\n",
    "    showlegend= True,\n",
    "    marker= dict(color= color),\n",
    "    width= 0.8,\n",
    "    text= text,\n",
    "    base= 0,\n",
    "    legendgroup= f\"{days_since_prior_order}\" \n",
    "   ),\n",
    "   col= 1,\n",
    "   row= 1\n",
    "  )\n",
    "\n",
    "  fig1.add_trace(\n",
    "   go.Bar(\n",
    "    x= df_days_since_prior_order.loc[df_days_since_prior_order.days_since_prior_order == days_since_prior_order].days_since_prior_order,\n",
    "    y= df_days_since_prior_order.loc[df_days_since_prior_order.days_since_prior_order == days_since_prior_order].orders_norm,\n",
    "    name= f\"Orders: {(df_days_since_prior_order.loc[df_days_since_prior_order.days_since_prior_order == days_since_prior_order].orders_norm.values[0] * 100).round(3)}%\",\n",
    "    base = -df_days_since_prior_order.loc[df_days_since_prior_order.days_since_prior_order == days_since_prior_order].orders_norm,\n",
    "    showlegend= True,\n",
    "    marker= dict(color= color),\n",
    "    width= 0.8,\n",
    "    legendgroup= f\"{days_since_prior_order}\"\n",
    "   ),\n",
    "   col= 1,\n",
    "   row= 2\n",
    "  )\n",
    "\n",
    " elif 0.4 < df_days_since_prior_order.loc[df_days_since_prior_order.days_since_prior_order == days_since_prior_order].tip_norm.values < 0.5:\n",
    "  color= px.colors.sequential.Greys[3]\n",
    "\n",
    "  fig1.add_trace(\n",
    "   go.Bar(\n",
    "    x= df_days_since_prior_order.loc[df_days_since_prior_order.days_since_prior_order == days_since_prior_order].days_since_prior_order,\n",
    "    y= df_days_since_prior_order.loc[df_days_since_prior_order.days_since_prior_order == days_since_prior_order].tip_norm,\n",
    "    name= f\"{int(days_since_prior_order)}: {(df_days_since_prior_order.loc[df_days_since_prior_order.days_since_prior_order == days_since_prior_order].tip_norm.values[0] * 100).round(2)}%\",\n",
    "    showlegend= True,\n",
    "    marker= dict(color= color),\n",
    "    width= 0.8,\n",
    "    base= 0,\n",
    "    legendgroup= f\"{days_since_prior_order}\"\n",
    "   ),\n",
    "   col= 1,\n",
    "   row= 1\n",
    "  )\n",
    "\n",
    "  fig1.add_trace(\n",
    "   go.Bar(\n",
    "    x= df_days_since_prior_order.loc[df_days_since_prior_order.days_since_prior_order == days_since_prior_order].days_since_prior_order,\n",
    "    y= df_days_since_prior_order.loc[df_days_since_prior_order.days_since_prior_order == days_since_prior_order].orders_norm,\n",
    "    name= f\"Orders: {(df_days_since_prior_order.loc[df_days_since_prior_order.days_since_prior_order == days_since_prior_order].orders_norm.values[0] * 100).round(3)}%\",\n",
    "    base = -df_days_since_prior_order.loc[df_days_since_prior_order.days_since_prior_order == days_since_prior_order].orders_norm,\n",
    "    showlegend= True,\n",
    "    marker= dict(color= color),\n",
    "    width= 0.8,\n",
    "    legendgroup= f\"{days_since_prior_order}\"\n",
    "   ),\n",
    "   col= 1,\n",
    "   row= 2\n",
    "  )\n",
    "\n",
    " elif 0.3 < df_days_since_prior_order.loc[df_days_since_prior_order.days_since_prior_order == days_since_prior_order].tip_norm.values < 0.4:\n",
    "  color= px.colors.sequential.Greys[2]\n",
    "\n",
    "  fig1.add_trace(\n",
    "   go.Bar(\n",
    "    x= df_days_since_prior_order.loc[df_days_since_prior_order.days_since_prior_order == days_since_prior_order].days_since_prior_order,\n",
    "    y= df_days_since_prior_order.loc[df_days_since_prior_order.days_since_prior_order == days_since_prior_order].tip_norm,\n",
    "    name= f\"{int(days_since_prior_order)}: {(df_days_since_prior_order.loc[df_days_since_prior_order.days_since_prior_order == days_since_prior_order].tip_norm.values[0] * 100).round(2)}%\",\n",
    "    showlegend= True,\n",
    "    marker= dict(color= color),\n",
    "    width= 0.8,\n",
    "    base= 0,\n",
    "    legendgroup= f\"{days_since_prior_order}\"\n",
    "   ),\n",
    "   col= 1,\n",
    "   row= 1\n",
    "  )\n",
    "\n",
    "  fig1.add_trace(\n",
    "   go.Bar(\n",
    "    x= df_days_since_prior_order.loc[df_days_since_prior_order.days_since_prior_order == days_since_prior_order].days_since_prior_order,\n",
    "    y= df_days_since_prior_order.loc[df_days_since_prior_order.days_since_prior_order == days_since_prior_order].orders_norm,\n",
    "    name= f\"Orders: {(df_days_since_prior_order.loc[df_days_since_prior_order.days_since_prior_order == days_since_prior_order].orders_norm.values[0] * 100).round(3)}%\",\n",
    "    base = -df_days_since_prior_order.loc[df_days_since_prior_order.days_since_prior_order == days_since_prior_order].orders_norm,\n",
    "    showlegend= True,\n",
    "    marker= dict(color= color),\n",
    "    width= 0.8,\n",
    "    legendgroup= f\"{days_since_prior_order}\"\n",
    "   ),\n",
    "   col= 1,\n",
    "   row= 2\n",
    "  )\n",
    "\n",
    " elif 0.2 < df_days_since_prior_order.loc[df_days_since_prior_order.days_since_prior_order == days_since_prior_order].tip_norm.values < 0.3:\n",
    "  color= px.colors.sequential.Greys[1]\n",
    "  text= df_days_since_prior_order.loc[df_days_since_prior_order.days_since_prior_order == days_since_prior_order].tip_norm.values.round(2)\n",
    "\n",
    "  fig1.add_trace(\n",
    "   go.Bar(\n",
    "    x= df_days_since_prior_order.loc[df_days_since_prior_order.days_since_prior_order == days_since_prior_order].days_since_prior_order,\n",
    "    y= df_days_since_prior_order.loc[df_days_since_prior_order.days_since_prior_order == days_since_prior_order].tip_norm,\n",
    "    name= f\"{int(days_since_prior_order)}: {(df_days_since_prior_order.loc[df_days_since_prior_order.days_since_prior_order == days_since_prior_order].tip_norm.values[0] * 100).round(2)}%\",\n",
    "    showlegend= True,\n",
    "    marker= dict(color= color),\n",
    "    width= 0.8,\n",
    "    text= text,\n",
    "    base= 0,\n",
    "    legendgroup= f\"{days_since_prior_order}\"\n",
    "   ),\n",
    "   col= 1,\n",
    "   row= 1\n",
    "  )\n",
    "\n",
    "  fig1.add_trace(\n",
    "   go.Bar(\n",
    "    x= df_days_since_prior_order.loc[df_days_since_prior_order.days_since_prior_order == days_since_prior_order].days_since_prior_order,\n",
    "    y= df_days_since_prior_order.loc[df_days_since_prior_order.days_since_prior_order == days_since_prior_order].orders_norm,\n",
    "    name= f\"Orders: {(df_days_since_prior_order.loc[df_days_since_prior_order.days_since_prior_order == days_since_prior_order].orders_norm.values[0] * 100).round(3)}%\",\n",
    "    base = -df_days_since_prior_order.loc[df_days_since_prior_order.days_since_prior_order == days_since_prior_order].orders_norm,\n",
    "    showlegend= True,\n",
    "    marker= dict(color= color),\n",
    "    width= 0.8,\n",
    "    legendgroup= f\"{days_since_prior_order}\"\n",
    "   ),\n",
    "   col= 1,\n",
    "   row= 2\n",
    "  )\n",
    "\n",
    "\n",
    "fig1.add_hline(\n",
    " y= 0,\n",
    " opacity= 0.3,\n",
    " line_dash= \"solid\",\n",
    " line_color= \"grey\",\n",
    " col= 1,\n",
    " row= 1\n",
    ")\n",
    "\n",
    "fig1.add_hline(\n",
    " y= 0,\n",
    " opacity= 0.3,\n",
    " line_dash= \"solid\",\n",
    " line_color= \"grey\",\n",
    " col= 1,\n",
    " row= 2\n",
    ")\n",
    "\n",
    "fig1.add_vline(\n",
    " x= -1,\n",
    " opacity= 0.8,\n",
    " line_dash= \"solid\",\n",
    " line_color= \"black\",\n",
    " col= 1,\n",
    " row= 2\n",
    ")\n",
    "\n",
    "fig1.add_vline(\n",
    " x= -1,\n",
    " opacity= 0.8,\n",
    " line_dash= \"solid\",\n",
    " line_color= \"black\",\n",
    " col= 1,\n",
    " row= 1\n",
    ")\n",
    "\n",
    "fig1.add_hline(\n",
    " y= -0.18,\n",
    " opacity= 0.8,\n",
    " line_dash= \"solid\",\n",
    " line_color= \"black\",\n",
    " col= 1,\n",
    " row= 2\n",
    ")\n",
    "\n",
    "fig1.update_annotations(opacity= 0.8)\n",
    "fig1.update_layout(title= dict(text= \"<b>Tippwahrscheinlichkeit von Bestellungen mit Tagen seit der letzten Bestellungen</b>\", font_size= 20, xanchor= \"center\", yanchor= \"top\", y=0.935, x=0.475), legend_title_text = \"<b>Tage</b>\", height= 700)\n",
    "fig1.update_xaxes(title_text=\"<b>Tage</b>\", ticks= \"outside\", col= 1, row= 2)\n",
    "fig1.update_xaxes(showline= False, col= 1, row= 1)\n",
    "fig1.update_yaxes(title_text=\"<b>Tipp Wshk.</b>\", ticks= \"outside\", showgrid= True, gridcolor= \"grey\", col= 1, row= 1, showline= False)\n",
    "fig1.update_yaxes(title_text=\"<b>Order Anteil</b>\", ticks= \"outside\", showgrid= True, gridcolor= \"grey\", col= 1, row= 2)\n",
    "fig1.update_layout(plot_bgcolor= \"white\", xaxis= dict(linecolor= \"black\"), yaxis= dict(linecolor= \"black\"))\n",
    "fig1.show()"
   ]
  },
  {
   "attachments": {},
   "cell_type": "markdown",
   "metadata": {},
   "source": [
    "##### Attribut: Order_hour_of_day"
   ]
  },
  {
   "cell_type": "code",
   "execution_count": 117,
   "metadata": {},
   "outputs": [
    {
     "data": {
      "text/html": [
       "<div>\n",
       "<style scoped>\n",
       "    .dataframe tbody tr th:only-of-type {\n",
       "        vertical-align: middle;\n",
       "    }\n",
       "\n",
       "    .dataframe tbody tr th {\n",
       "        vertical-align: top;\n",
       "    }\n",
       "\n",
       "    .dataframe thead th {\n",
       "        text-align: right;\n",
       "    }\n",
       "</style>\n",
       "<table border=\"1\" class=\"dataframe\">\n",
       "  <thead>\n",
       "    <tr style=\"text-align: right;\">\n",
       "      <th></th>\n",
       "      <th>order_hour_of_day</th>\n",
       "      <th>orders</th>\n",
       "      <th>tip</th>\n",
       "      <th>tip_norm</th>\n",
       "      <th>orders_norm</th>\n",
       "    </tr>\n",
       "  </thead>\n",
       "  <tbody>\n",
       "    <tr>\n",
       "      <th>0</th>\n",
       "      <td>0</td>\n",
       "      <td>4072</td>\n",
       "      <td>2079.0</td>\n",
       "      <td>0.510560</td>\n",
       "      <td>0.006709</td>\n",
       "    </tr>\n",
       "    <tr>\n",
       "      <th>1</th>\n",
       "      <td>1</td>\n",
       "      <td>2219</td>\n",
       "      <td>1125.0</td>\n",
       "      <td>0.506985</td>\n",
       "      <td>0.003656</td>\n",
       "    </tr>\n",
       "    <tr>\n",
       "      <th>2</th>\n",
       "      <td>2</td>\n",
       "      <td>1340</td>\n",
       "      <td>694.0</td>\n",
       "      <td>0.517910</td>\n",
       "      <td>0.002208</td>\n",
       "    </tr>\n",
       "    <tr>\n",
       "      <th>3</th>\n",
       "      <td>3</td>\n",
       "      <td>956</td>\n",
       "      <td>477.0</td>\n",
       "      <td>0.498954</td>\n",
       "      <td>0.001575</td>\n",
       "    </tr>\n",
       "    <tr>\n",
       "      <th>4</th>\n",
       "      <td>4</td>\n",
       "      <td>986</td>\n",
       "      <td>510.0</td>\n",
       "      <td>0.517241</td>\n",
       "      <td>0.001625</td>\n",
       "    </tr>\n",
       "  </tbody>\n",
       "</table>\n",
       "</div>"
      ],
      "text/plain": [
       "   order_hour_of_day  orders     tip  tip_norm  orders_norm\n",
       "0                  0    4072  2079.0  0.510560     0.006709\n",
       "1                  1    2219  1125.0  0.506985     0.003656\n",
       "2                  2    1340   694.0  0.517910     0.002208\n",
       "3                  3     956   477.0  0.498954     0.001575\n",
       "4                  4     986   510.0  0.517241     0.001625"
      ]
     },
     "execution_count": 117,
     "metadata": {},
     "output_type": "execute_result"
    }
   ],
   "source": [
    "df_h = df_p3.groupby([\"order_hour_of_day\", \"order_id\"], as_index= False).agg(tip= (\"tip\", \"mean\"))\n",
    "df_hour = df_h.groupby([\"order_hour_of_day\"], as_index= False).agg(orders= (\"order_id\", \"nunique\"), tip= (\"tip\", \"sum\"))\n",
    "df_hour[\"tip_norm\"] = df_hour.tip / df_hour.orders\n",
    "df_hour[\"orders_norm\"] = df_hour.orders / df_hour.orders.sum()\n",
    "df_hour.head()"
   ]
  },
  {
   "attachments": {},
   "cell_type": "markdown",
   "metadata": {},
   "source": [
    "**Tippwahrscheinlichkeit pro Stunde:**"
   ]
  },
  {
   "cell_type": "code",
   "execution_count": 121,
   "metadata": {},
   "outputs": [
    {
     "data": {
      "application/vnd.plotly.v1+json": {
       "config": {
        "plotlyServerURL": "https://plot.ly"
       },
       "data": [
        {
         "base": 0,
         "legendgroup": "0",
         "marker": {
          "color": "rgb(131, 75, 160)"
         },
         "name": "0: 51.06%",
         "showlegend": true,
         "text": [
          0.511
         ],
         "type": "bar",
         "width": 0.8,
         "x": [
          0
         ],
         "xaxis": "x",
         "y": [
          0.5105599214145383
         ],
         "yaxis": "y"
        },
        {
         "base": [
          -0.006709341505812181
         ],
         "legendgroup": "0",
         "marker": {
          "color": "rgb(131, 75, 160)"
         },
         "name": "Orders: 0.671%",
         "showlegend": true,
         "type": "bar",
         "width": 0.8,
         "x": [
          0
         ],
         "xaxis": "x2",
         "y": [
          0.006709341505812181
         ],
         "yaxis": "y2"
        },
        {
         "base": 0,
         "legendgroup": "1",
         "marker": {
          "color": "rgb(131, 75, 160)"
         },
         "name": "1: 50.7%",
         "showlegend": true,
         "text": [
          0.507
         ],
         "type": "bar",
         "width": 0.8,
         "x": [
          1
         ],
         "xaxis": "x",
         "y": [
          0.5069851284362326
         ],
         "yaxis": "y"
        },
        {
         "base": [
          -0.0036561956781427382
         ],
         "legendgroup": "1",
         "marker": {
          "color": "rgb(131, 75, 160)"
         },
         "name": "Orders: 0.366%",
         "showlegend": true,
         "type": "bar",
         "width": 0.8,
         "x": [
          1
         ],
         "xaxis": "x2",
         "y": [
          0.0036561956781427382
         ],
         "yaxis": "y2"
        },
        {
         "base": 0,
         "legendgroup": "2",
         "marker": {
          "color": "rgb(131, 75, 160)"
         },
         "name": "2: 51.79%",
         "showlegend": true,
         "text": [
          0.518
         ],
         "type": "bar",
         "width": 0.8,
         "x": [
          2
         ],
         "xaxis": "x",
         "y": [
          0.517910447761194
         ],
         "yaxis": "y"
        },
        {
         "base": [
          -0.0022078874306945785
         ],
         "legendgroup": "2",
         "marker": {
          "color": "rgb(131, 75, 160)"
         },
         "name": "Orders: 0.221%",
         "showlegend": true,
         "type": "bar",
         "width": 0.8,
         "x": [
          2
         ],
         "xaxis": "x2",
         "y": [
          0.0022078874306945785
         ],
         "yaxis": "y2"
        },
        {
         "base": 0,
         "legendgroup": "3",
         "marker": {
          "color": "rgb(189,189,189)"
         },
         "name": "3: 49.9%",
         "showlegend": true,
         "type": "bar",
         "width": 0.8,
         "x": [
          3
         ],
         "xaxis": "x",
         "y": [
          0.4989539748953975
         ],
         "yaxis": "y"
        },
        {
         "base": [
          -0.001575179390853744
         ],
         "legendgroup": "3",
         "marker": {
          "color": "rgb(189,189,189)"
         },
         "name": "Orders: 0.158%",
         "showlegend": true,
         "type": "bar",
         "width": 0.8,
         "x": [
          3
         ],
         "xaxis": "x2",
         "y": [
          0.001575179390853744
         ],
         "yaxis": "y2"
        },
        {
         "base": 0,
         "legendgroup": "4",
         "marker": {
          "color": "rgb(131, 75, 160)"
         },
         "name": "4: 51.72%",
         "showlegend": true,
         "text": [
          0.517
         ],
         "type": "bar",
         "width": 0.8,
         "x": [
          4
         ],
         "xaxis": "x",
         "y": [
          0.5172413793103449
         ],
         "yaxis": "y"
        },
        {
         "base": [
          -0.001624609706466309
         ],
         "legendgroup": "4",
         "marker": {
          "color": "rgb(131, 75, 160)"
         },
         "name": "Orders: 0.162%",
         "showlegend": true,
         "type": "bar",
         "width": 0.8,
         "x": [
          4
         ],
         "xaxis": "x2",
         "y": [
          0.001624609706466309
         ],
         "yaxis": "y2"
        },
        {
         "base": 0,
         "legendgroup": "5",
         "marker": {
          "color": "rgb(217,217,217)"
         },
         "name": "5: 37.65%",
         "showlegend": true,
         "type": "bar",
         "width": 0.8,
         "x": [
          5
         ],
         "xaxis": "x",
         "y": [
          0.3765206812652068
         ],
         "yaxis": "y"
        },
        {
         "base": [
          -0.002708781295568572
         ],
         "legendgroup": "5",
         "marker": {
          "color": "rgb(217,217,217)"
         },
         "name": "Orders: 0.271%",
         "showlegend": true,
         "type": "bar",
         "width": 0.8,
         "x": [
          5
         ],
         "xaxis": "x2",
         "y": [
          0.002708781295568572
         ],
         "yaxis": "y2"
        },
        {
         "base": 0,
         "legendgroup": "6",
         "marker": {
          "color": "rgb(217,217,217)"
         },
         "name": "6: 39.3%",
         "showlegend": true,
         "type": "bar",
         "width": 0.8,
         "x": [
          6
         ],
         "xaxis": "x",
         "y": [
          0.3929683208203626
         ],
         "yaxis": "y"
        },
        {
         "base": [
          -0.00899796511867395
         ],
         "legendgroup": "6",
         "marker": {
          "color": "rgb(217,217,217)"
         },
         "name": "Orders: 0.9%",
         "showlegend": true,
         "type": "bar",
         "width": 0.8,
         "x": [
          6
         ],
         "xaxis": "x2",
         "y": [
          0.00899796511867395
         ],
         "yaxis": "y2"
        },
        {
         "base": 0,
         "legendgroup": "7",
         "marker": {
          "color": "rgb(189,189,189)"
         },
         "name": "7: 40.76%",
         "showlegend": true,
         "type": "bar",
         "width": 0.8,
         "x": [
          7
         ],
         "xaxis": "x",
         "y": [
          0.40759835512183146
         ],
         "yaxis": "y"
        },
        {
         "base": [
          -0.026845604409184154
         ],
         "legendgroup": "7",
         "marker": {
          "color": "rgb(189,189,189)"
         },
         "name": "Orders: 2.685%",
         "showlegend": true,
         "type": "bar",
         "width": 0.8,
         "x": [
          7
         ],
         "xaxis": "x2",
         "y": [
          0.026845604409184154
         ],
         "yaxis": "y2"
        },
        {
         "base": 0,
         "legendgroup": "8",
         "marker": {
          "color": "rgb(189,189,189)"
         },
         "name": "8: 42.11%",
         "showlegend": true,
         "type": "bar",
         "width": 0.8,
         "x": [
          8
         ],
         "xaxis": "x",
         "y": [
          0.42110716865010833
         ],
         "yaxis": "y"
        },
        {
         "base": [
          -0.052473575377112114
         ],
         "legendgroup": "8",
         "marker": {
          "color": "rgb(189,189,189)"
         },
         "name": "Orders: 5.247%",
         "showlegend": true,
         "type": "bar",
         "width": 0.8,
         "x": [
          8
         ],
         "xaxis": "x2",
         "y": [
          0.052473575377112114
         ],
         "yaxis": "y2"
        },
        {
         "base": 0,
         "legendgroup": "9",
         "marker": {
          "color": "rgb(189,189,189)"
         },
         "name": "9: 42.65%",
         "showlegend": true,
         "type": "bar",
         "width": 0.8,
         "x": [
          9
         ],
         "xaxis": "x",
         "y": [
          0.4264783065080476
         ],
         "yaxis": "y"
        },
        {
         "base": [
          -0.07534498241104602
         ],
         "legendgroup": "9",
         "marker": {
          "color": "rgb(189,189,189)"
         },
         "name": "Orders: 7.534%",
         "showlegend": true,
         "type": "bar",
         "width": 0.8,
         "x": [
          9
         ],
         "xaxis": "x2",
         "y": [
          0.07534498241104602
         ],
         "yaxis": "y2"
        },
        {
         "base": 0,
         "legendgroup": "10",
         "marker": {
          "color": "rgb(189,189,189)"
         },
         "name": "10: 42.19%",
         "showlegend": true,
         "type": "bar",
         "width": 0.8,
         "x": [
          10
         ],
         "xaxis": "x",
         "y": [
          0.42193352059925093
         ],
         "yaxis": "y"
        },
        {
         "base": [
          -0.08446652331875139
         ],
         "legendgroup": "10",
         "marker": {
          "color": "rgb(189,189,189)"
         },
         "name": "Orders: 8.447%",
         "showlegend": true,
         "type": "bar",
         "width": 0.8,
         "x": [
          10
         ],
         "xaxis": "x2",
         "y": [
          0.08446652331875139
         ],
         "yaxis": "y2"
        },
        {
         "base": 0,
         "legendgroup": "11",
         "marker": {
          "color": "rgb(189,189,189)"
         },
         "name": "11: 40.59%",
         "showlegend": true,
         "type": "bar",
         "width": 0.8,
         "x": [
          11
         ],
         "xaxis": "x",
         "y": [
          0.4059307745710602
         ],
         "yaxis": "y"
        },
        {
         "base": [
          -0.0830676453869158
         ],
         "legendgroup": "11",
         "marker": {
          "color": "rgb(189,189,189)"
         },
         "name": "Orders: 8.307%",
         "showlegend": true,
         "type": "bar",
         "width": 0.8,
         "x": [
          11
         ],
         "xaxis": "x2",
         "y": [
          0.0830676453869158
         ],
         "yaxis": "y2"
        },
        {
         "base": 0,
         "legendgroup": "12",
         "marker": {
          "color": "rgb(189,189,189)"
         },
         "name": "12: 40.04%",
         "showlegend": true,
         "type": "bar",
         "width": 0.8,
         "x": [
          12
         ],
         "xaxis": "x",
         "y": [
          0.40044151932162825
         ],
         "yaxis": "y"
        },
        {
         "base": [
          -0.0798612655808474
         ],
         "legendgroup": "12",
         "marker": {
          "color": "rgb(189,189,189)"
         },
         "name": "Orders: 7.986%",
         "showlegend": true,
         "type": "bar",
         "width": 0.8,
         "x": [
          12
         ],
         "xaxis": "x2",
         "y": [
          0.0798612655808474
         ],
         "yaxis": "y2"
        },
        {
         "base": 0,
         "legendgroup": "13",
         "marker": {
          "color": "rgb(217,217,217)"
         },
         "name": "13: 39.4%",
         "showlegend": true,
         "type": "bar",
         "width": 0.8,
         "x": [
          13
         ],
         "xaxis": "x",
         "y": [
          0.39401886639017647
         ],
         "yaxis": "y"
        },
        {
         "base": [
          -0.08104594547836189
         ],
         "legendgroup": "13",
         "marker": {
          "color": "rgb(217,217,217)"
         },
         "name": "Orders: 8.105%",
         "showlegend": true,
         "type": "bar",
         "width": 0.8,
         "x": [
          13
         ],
         "xaxis": "x2",
         "y": [
          0.08104594547836189
         ],
         "yaxis": "y2"
        },
        {
         "base": 0,
         "legendgroup": "14",
         "marker": {
          "color": "rgb(217,217,217)"
         },
         "name": "14: 39.29%",
         "showlegend": true,
         "type": "bar",
         "width": 0.8,
         "x": [
          14
         ],
         "xaxis": "x",
         "y": [
          0.3929295972682535
         ],
         "yaxis": "y"
        },
        {
         "base": [
          -0.08202960875905192
         ],
         "legendgroup": "14",
         "marker": {
          "color": "rgb(217,217,217)"
         },
         "name": "Orders: 8.203%",
         "showlegend": true,
         "type": "bar",
         "width": 0.8,
         "x": [
          14
         ],
         "xaxis": "x2",
         "y": [
          0.08202960875905192
         ],
         "yaxis": "y2"
        },
        {
         "base": 0,
         "legendgroup": "15",
         "marker": {
          "color": "rgb(217,217,217)"
         },
         "name": "15: 39.2%",
         "showlegend": true,
         "type": "bar",
         "width": 0.8,
         "x": [
          15
         ],
         "xaxis": "x",
         "y": [
          0.39199872553119464
         ],
         "yaxis": "y"
        },
        {
         "base": [
          -0.08274140530387286
         ],
         "legendgroup": "15",
         "marker": {
          "color": "rgb(217,217,217)"
         },
         "name": "Orders: 8.274%",
         "showlegend": true,
         "type": "bar",
         "width": 0.8,
         "x": [
          15
         ],
         "xaxis": "x2",
         "y": [
          0.08274140530387286
         ],
         "yaxis": "y2"
        },
        {
         "base": 0,
         "legendgroup": "16",
         "marker": {
          "color": "rgb(217,217,217)"
         },
         "name": "16: 38.62%",
         "showlegend": true,
         "type": "bar",
         "width": 0.8,
         "x": [
          16
         ],
         "xaxis": "x",
         "y": [
          0.3862086123608318
         ],
         "yaxis": "y"
        },
        {
         "base": [
          -0.07947241376469522
         ],
         "legendgroup": "16",
         "marker": {
          "color": "rgb(217,217,217)"
         },
         "name": "Orders: 7.947%",
         "showlegend": true,
         "type": "bar",
         "width": 0.8,
         "x": [
          16
         ],
         "xaxis": "x2",
         "y": [
          0.07947241376469522
         ],
         "yaxis": "y2"
        },
        {
         "base": 0,
         "legendgroup": "17",
         "marker": {
          "color": "rgb(217,217,217)"
         },
         "name": "17: 38.16%",
         "showlegend": true,
         "type": "bar",
         "width": 0.8,
         "x": [
          17
         ],
         "xaxis": "x",
         "y": [
          0.3815641364459453
         ],
         "yaxis": "y"
        },
        {
         "base": [
          -0.0673339759274363
         ],
         "legendgroup": "17",
         "marker": {
          "color": "rgb(217,217,217)"
         },
         "name": "Orders: 6.733%",
         "showlegend": true,
         "type": "bar",
         "width": 0.8,
         "x": [
          17
         ],
         "xaxis": "x2",
         "y": [
          0.0673339759274363
         ],
         "yaxis": "y2"
        },
        {
         "base": 0,
         "legendgroup": "18",
         "marker": {
          "color": "rgb(217,217,217)"
         },
         "name": "18: 37.46%",
         "showlegend": true,
         "type": "bar",
         "width": 0.8,
         "x": [
          18
         ],
         "xaxis": "x",
         "y": [
          0.37458400098607175
         ],
         "yaxis": "y"
        },
        {
         "base": [
          -0.05347042007529885
         ],
         "legendgroup": "18",
         "marker": {
          "color": "rgb(217,217,217)"
         },
         "name": "Orders: 5.347%",
         "showlegend": true,
         "type": "bar",
         "width": 0.8,
         "x": [
          18
         ],
         "xaxis": "x2",
         "y": [
          0.05347042007529885
         ],
         "yaxis": "y2"
        },
        {
         "base": 0,
         "legendgroup": "19",
         "marker": {
          "color": "rgb(131, 75, 160)"
         },
         "name": "19: 51.17%",
         "showlegend": true,
         "text": [
          0.512
         ],
         "type": "bar",
         "width": 0.8,
         "x": [
          19
         ],
         "xaxis": "x",
         "y": [
          0.5116744763506749
         ],
         "yaxis": "y"
        },
        {
         "base": [
          -0.041140851684338
         ],
         "legendgroup": "19",
         "marker": {
          "color": "rgb(131, 75, 160)"
         },
         "name": "Orders: 4.114%",
         "showlegend": true,
         "type": "bar",
         "width": 0.8,
         "x": [
          19
         ],
         "xaxis": "x2",
         "y": [
          0.041140851684338
         ],
         "yaxis": "y2"
        },
        {
         "base": 0,
         "legendgroup": "20",
         "marker": {
          "color": "rgb(131, 75, 160)"
         },
         "name": "20: 52.39%",
         "showlegend": true,
         "text": [
          0.524
         ],
         "type": "bar",
         "width": 0.8,
         "x": [
          20
         ],
         "xaxis": "x",
         "y": [
          0.5239129254655013
         ],
         "yaxis": "y"
        },
        {
         "base": [
          -0.03035186146330211
         ],
         "legendgroup": "20",
         "marker": {
          "color": "rgb(131, 75, 160)"
         },
         "name": "Orders: 3.035%",
         "showlegend": true,
         "type": "bar",
         "width": 0.8,
         "x": [
          20
         ],
         "xaxis": "x2",
         "y": [
          0.03035186146330211
         ],
         "yaxis": "y2"
        },
        {
         "base": 0,
         "legendgroup": "21",
         "marker": {
          "color": "rgb(131, 75, 160)"
         },
         "name": "21: 54.64%",
         "showlegend": true,
         "text": [
          0.546
         ],
         "type": "bar",
         "width": 0.8,
         "x": [
          21
         ],
         "xaxis": "x",
         "y": [
          0.5464422667234767
         ],
         "yaxis": "y"
        },
        {
         "base": [
          -0.023202590148538097
         ],
         "legendgroup": "21",
         "marker": {
          "color": "rgb(131, 75, 160)"
         },
         "name": "Orders: 2.32%",
         "showlegend": true,
         "type": "bar",
         "width": 0.8,
         "x": [
          21
         ],
         "xaxis": "x2",
         "y": [
          0.023202590148538097
         ],
         "yaxis": "y2"
        },
        {
         "base": 0,
         "legendgroup": "22",
         "marker": {
          "color": "rgb(131, 75, 160)"
         },
         "name": "22: 53.63%",
         "showlegend": true,
         "text": [
          0.536
         ],
         "type": "bar",
         "width": 0.8,
         "x": [
          22
         ],
         "xaxis": "x",
         "y": [
          0.5362939996352362
         ],
         "yaxis": "y"
        },
        {
         "base": [
          -0.01806842803357966
         ],
         "legendgroup": "22",
         "marker": {
          "color": "rgb(131, 75, 160)"
         },
         "name": "Orders: 1.807%",
         "showlegend": true,
         "type": "bar",
         "width": 0.8,
         "x": [
          22
         ],
         "xaxis": "x2",
         "y": [
          0.01806842803357966
         ],
         "yaxis": "y2"
        },
        {
         "base": 0,
         "legendgroup": "23",
         "marker": {
          "color": "rgb(131, 75, 160)"
         },
         "name": "23: 51.99%",
         "showlegend": true,
         "text": [
          0.52
         ],
         "type": "bar",
         "width": 0.8,
         "x": [
          23
         ],
         "xaxis": "x",
         "y": [
          0.5198807157057654
         ],
         "yaxis": "y"
        },
        {
         "base": [
          -0.011602942751456135
         ],
         "legendgroup": "23",
         "marker": {
          "color": "rgb(131, 75, 160)"
         },
         "name": "Orders: 1.16%",
         "showlegend": true,
         "type": "bar",
         "width": 0.8,
         "x": [
          23
         ],
         "xaxis": "x2",
         "y": [
          0.011602942751456135
         ],
         "yaxis": "y2"
        }
       ],
       "layout": {
        "height": 700,
        "legend": {
         "title": {
          "text": "<b>Stunden</b>"
         }
        },
        "plot_bgcolor": "white",
        "shapes": [
         {
          "line": {
           "color": "grey",
           "dash": "solid"
          },
          "opacity": 0.3,
          "type": "line",
          "x0": 0,
          "x1": 1,
          "xref": "x domain",
          "y0": 0,
          "y1": 0,
          "yref": "y"
         },
         {
          "line": {
           "color": "grey",
           "dash": "solid"
          },
          "opacity": 0.3,
          "type": "line",
          "x0": 0,
          "x1": 1,
          "xref": "x2 domain",
          "y0": 0,
          "y1": 0,
          "yref": "y2"
         },
         {
          "line": {
           "color": "black",
           "dash": "solid"
          },
          "opacity": 0.8,
          "type": "line",
          "x0": -1,
          "x1": -1,
          "xref": "x2",
          "y0": 0,
          "y1": 1,
          "yref": "y2 domain"
         },
         {
          "line": {
           "color": "black",
           "dash": "solid"
          },
          "opacity": 0.8,
          "type": "line",
          "x0": -1,
          "x1": -1,
          "xref": "x",
          "y0": 0,
          "y1": 1,
          "yref": "y domain"
         },
         {
          "line": {
           "color": "black",
           "dash": "solid"
          },
          "opacity": 0.8,
          "type": "line",
          "x0": 0,
          "x1": 1,
          "xref": "x2 domain",
          "y0": -0.1,
          "y1": -0.1,
          "yref": "y2"
         }
        ],
        "template": {
         "data": {
          "bar": [
           {
            "error_x": {
             "color": "#2a3f5f"
            },
            "error_y": {
             "color": "#2a3f5f"
            },
            "marker": {
             "line": {
              "color": "#E5ECF6",
              "width": 0.5
             },
             "pattern": {
              "fillmode": "overlay",
              "size": 10,
              "solidity": 0.2
             }
            },
            "type": "bar"
           }
          ],
          "barpolar": [
           {
            "marker": {
             "line": {
              "color": "#E5ECF6",
              "width": 0.5
             },
             "pattern": {
              "fillmode": "overlay",
              "size": 10,
              "solidity": 0.2
             }
            },
            "type": "barpolar"
           }
          ],
          "carpet": [
           {
            "aaxis": {
             "endlinecolor": "#2a3f5f",
             "gridcolor": "white",
             "linecolor": "white",
             "minorgridcolor": "white",
             "startlinecolor": "#2a3f5f"
            },
            "baxis": {
             "endlinecolor": "#2a3f5f",
             "gridcolor": "white",
             "linecolor": "white",
             "minorgridcolor": "white",
             "startlinecolor": "#2a3f5f"
            },
            "type": "carpet"
           }
          ],
          "choropleth": [
           {
            "colorbar": {
             "outlinewidth": 0,
             "ticks": ""
            },
            "type": "choropleth"
           }
          ],
          "contour": [
           {
            "colorbar": {
             "outlinewidth": 0,
             "ticks": ""
            },
            "colorscale": [
             [
              0,
              "#0d0887"
             ],
             [
              0.1111111111111111,
              "#46039f"
             ],
             [
              0.2222222222222222,
              "#7201a8"
             ],
             [
              0.3333333333333333,
              "#9c179e"
             ],
             [
              0.4444444444444444,
              "#bd3786"
             ],
             [
              0.5555555555555556,
              "#d8576b"
             ],
             [
              0.6666666666666666,
              "#ed7953"
             ],
             [
              0.7777777777777778,
              "#fb9f3a"
             ],
             [
              0.8888888888888888,
              "#fdca26"
             ],
             [
              1,
              "#f0f921"
             ]
            ],
            "type": "contour"
           }
          ],
          "contourcarpet": [
           {
            "colorbar": {
             "outlinewidth": 0,
             "ticks": ""
            },
            "type": "contourcarpet"
           }
          ],
          "heatmap": [
           {
            "colorbar": {
             "outlinewidth": 0,
             "ticks": ""
            },
            "colorscale": [
             [
              0,
              "#0d0887"
             ],
             [
              0.1111111111111111,
              "#46039f"
             ],
             [
              0.2222222222222222,
              "#7201a8"
             ],
             [
              0.3333333333333333,
              "#9c179e"
             ],
             [
              0.4444444444444444,
              "#bd3786"
             ],
             [
              0.5555555555555556,
              "#d8576b"
             ],
             [
              0.6666666666666666,
              "#ed7953"
             ],
             [
              0.7777777777777778,
              "#fb9f3a"
             ],
             [
              0.8888888888888888,
              "#fdca26"
             ],
             [
              1,
              "#f0f921"
             ]
            ],
            "type": "heatmap"
           }
          ],
          "heatmapgl": [
           {
            "colorbar": {
             "outlinewidth": 0,
             "ticks": ""
            },
            "colorscale": [
             [
              0,
              "#0d0887"
             ],
             [
              0.1111111111111111,
              "#46039f"
             ],
             [
              0.2222222222222222,
              "#7201a8"
             ],
             [
              0.3333333333333333,
              "#9c179e"
             ],
             [
              0.4444444444444444,
              "#bd3786"
             ],
             [
              0.5555555555555556,
              "#d8576b"
             ],
             [
              0.6666666666666666,
              "#ed7953"
             ],
             [
              0.7777777777777778,
              "#fb9f3a"
             ],
             [
              0.8888888888888888,
              "#fdca26"
             ],
             [
              1,
              "#f0f921"
             ]
            ],
            "type": "heatmapgl"
           }
          ],
          "histogram": [
           {
            "marker": {
             "pattern": {
              "fillmode": "overlay",
              "size": 10,
              "solidity": 0.2
             }
            },
            "type": "histogram"
           }
          ],
          "histogram2d": [
           {
            "colorbar": {
             "outlinewidth": 0,
             "ticks": ""
            },
            "colorscale": [
             [
              0,
              "#0d0887"
             ],
             [
              0.1111111111111111,
              "#46039f"
             ],
             [
              0.2222222222222222,
              "#7201a8"
             ],
             [
              0.3333333333333333,
              "#9c179e"
             ],
             [
              0.4444444444444444,
              "#bd3786"
             ],
             [
              0.5555555555555556,
              "#d8576b"
             ],
             [
              0.6666666666666666,
              "#ed7953"
             ],
             [
              0.7777777777777778,
              "#fb9f3a"
             ],
             [
              0.8888888888888888,
              "#fdca26"
             ],
             [
              1,
              "#f0f921"
             ]
            ],
            "type": "histogram2d"
           }
          ],
          "histogram2dcontour": [
           {
            "colorbar": {
             "outlinewidth": 0,
             "ticks": ""
            },
            "colorscale": [
             [
              0,
              "#0d0887"
             ],
             [
              0.1111111111111111,
              "#46039f"
             ],
             [
              0.2222222222222222,
              "#7201a8"
             ],
             [
              0.3333333333333333,
              "#9c179e"
             ],
             [
              0.4444444444444444,
              "#bd3786"
             ],
             [
              0.5555555555555556,
              "#d8576b"
             ],
             [
              0.6666666666666666,
              "#ed7953"
             ],
             [
              0.7777777777777778,
              "#fb9f3a"
             ],
             [
              0.8888888888888888,
              "#fdca26"
             ],
             [
              1,
              "#f0f921"
             ]
            ],
            "type": "histogram2dcontour"
           }
          ],
          "mesh3d": [
           {
            "colorbar": {
             "outlinewidth": 0,
             "ticks": ""
            },
            "type": "mesh3d"
           }
          ],
          "parcoords": [
           {
            "line": {
             "colorbar": {
              "outlinewidth": 0,
              "ticks": ""
             }
            },
            "type": "parcoords"
           }
          ],
          "pie": [
           {
            "automargin": true,
            "type": "pie"
           }
          ],
          "scatter": [
           {
            "fillpattern": {
             "fillmode": "overlay",
             "size": 10,
             "solidity": 0.2
            },
            "type": "scatter"
           }
          ],
          "scatter3d": [
           {
            "line": {
             "colorbar": {
              "outlinewidth": 0,
              "ticks": ""
             }
            },
            "marker": {
             "colorbar": {
              "outlinewidth": 0,
              "ticks": ""
             }
            },
            "type": "scatter3d"
           }
          ],
          "scattercarpet": [
           {
            "marker": {
             "colorbar": {
              "outlinewidth": 0,
              "ticks": ""
             }
            },
            "type": "scattercarpet"
           }
          ],
          "scattergeo": [
           {
            "marker": {
             "colorbar": {
              "outlinewidth": 0,
              "ticks": ""
             }
            },
            "type": "scattergeo"
           }
          ],
          "scattergl": [
           {
            "marker": {
             "colorbar": {
              "outlinewidth": 0,
              "ticks": ""
             }
            },
            "type": "scattergl"
           }
          ],
          "scattermapbox": [
           {
            "marker": {
             "colorbar": {
              "outlinewidth": 0,
              "ticks": ""
             }
            },
            "type": "scattermapbox"
           }
          ],
          "scatterpolar": [
           {
            "marker": {
             "colorbar": {
              "outlinewidth": 0,
              "ticks": ""
             }
            },
            "type": "scatterpolar"
           }
          ],
          "scatterpolargl": [
           {
            "marker": {
             "colorbar": {
              "outlinewidth": 0,
              "ticks": ""
             }
            },
            "type": "scatterpolargl"
           }
          ],
          "scatterternary": [
           {
            "marker": {
             "colorbar": {
              "outlinewidth": 0,
              "ticks": ""
             }
            },
            "type": "scatterternary"
           }
          ],
          "surface": [
           {
            "colorbar": {
             "outlinewidth": 0,
             "ticks": ""
            },
            "colorscale": [
             [
              0,
              "#0d0887"
             ],
             [
              0.1111111111111111,
              "#46039f"
             ],
             [
              0.2222222222222222,
              "#7201a8"
             ],
             [
              0.3333333333333333,
              "#9c179e"
             ],
             [
              0.4444444444444444,
              "#bd3786"
             ],
             [
              0.5555555555555556,
              "#d8576b"
             ],
             [
              0.6666666666666666,
              "#ed7953"
             ],
             [
              0.7777777777777778,
              "#fb9f3a"
             ],
             [
              0.8888888888888888,
              "#fdca26"
             ],
             [
              1,
              "#f0f921"
             ]
            ],
            "type": "surface"
           }
          ],
          "table": [
           {
            "cells": {
             "fill": {
              "color": "#EBF0F8"
             },
             "line": {
              "color": "white"
             }
            },
            "header": {
             "fill": {
              "color": "#C8D4E3"
             },
             "line": {
              "color": "white"
             }
            },
            "type": "table"
           }
          ]
         },
         "layout": {
          "annotationdefaults": {
           "arrowcolor": "#2a3f5f",
           "arrowhead": 0,
           "arrowwidth": 1
          },
          "autotypenumbers": "strict",
          "coloraxis": {
           "colorbar": {
            "outlinewidth": 0,
            "ticks": ""
           }
          },
          "colorscale": {
           "diverging": [
            [
             0,
             "#8e0152"
            ],
            [
             0.1,
             "#c51b7d"
            ],
            [
             0.2,
             "#de77ae"
            ],
            [
             0.3,
             "#f1b6da"
            ],
            [
             0.4,
             "#fde0ef"
            ],
            [
             0.5,
             "#f7f7f7"
            ],
            [
             0.6,
             "#e6f5d0"
            ],
            [
             0.7,
             "#b8e186"
            ],
            [
             0.8,
             "#7fbc41"
            ],
            [
             0.9,
             "#4d9221"
            ],
            [
             1,
             "#276419"
            ]
           ],
           "sequential": [
            [
             0,
             "#0d0887"
            ],
            [
             0.1111111111111111,
             "#46039f"
            ],
            [
             0.2222222222222222,
             "#7201a8"
            ],
            [
             0.3333333333333333,
             "#9c179e"
            ],
            [
             0.4444444444444444,
             "#bd3786"
            ],
            [
             0.5555555555555556,
             "#d8576b"
            ],
            [
             0.6666666666666666,
             "#ed7953"
            ],
            [
             0.7777777777777778,
             "#fb9f3a"
            ],
            [
             0.8888888888888888,
             "#fdca26"
            ],
            [
             1,
             "#f0f921"
            ]
           ],
           "sequentialminus": [
            [
             0,
             "#0d0887"
            ],
            [
             0.1111111111111111,
             "#46039f"
            ],
            [
             0.2222222222222222,
             "#7201a8"
            ],
            [
             0.3333333333333333,
             "#9c179e"
            ],
            [
             0.4444444444444444,
             "#bd3786"
            ],
            [
             0.5555555555555556,
             "#d8576b"
            ],
            [
             0.6666666666666666,
             "#ed7953"
            ],
            [
             0.7777777777777778,
             "#fb9f3a"
            ],
            [
             0.8888888888888888,
             "#fdca26"
            ],
            [
             1,
             "#f0f921"
            ]
           ]
          },
          "colorway": [
           "#636efa",
           "#EF553B",
           "#00cc96",
           "#ab63fa",
           "#FFA15A",
           "#19d3f3",
           "#FF6692",
           "#B6E880",
           "#FF97FF",
           "#FECB52"
          ],
          "font": {
           "color": "#2a3f5f"
          },
          "geo": {
           "bgcolor": "white",
           "lakecolor": "white",
           "landcolor": "#E5ECF6",
           "showlakes": true,
           "showland": true,
           "subunitcolor": "white"
          },
          "hoverlabel": {
           "align": "left"
          },
          "hovermode": "closest",
          "mapbox": {
           "style": "light"
          },
          "paper_bgcolor": "white",
          "plot_bgcolor": "#E5ECF6",
          "polar": {
           "angularaxis": {
            "gridcolor": "white",
            "linecolor": "white",
            "ticks": ""
           },
           "bgcolor": "#E5ECF6",
           "radialaxis": {
            "gridcolor": "white",
            "linecolor": "white",
            "ticks": ""
           }
          },
          "scene": {
           "xaxis": {
            "backgroundcolor": "#E5ECF6",
            "gridcolor": "white",
            "gridwidth": 2,
            "linecolor": "white",
            "showbackground": true,
            "ticks": "",
            "zerolinecolor": "white"
           },
           "yaxis": {
            "backgroundcolor": "#E5ECF6",
            "gridcolor": "white",
            "gridwidth": 2,
            "linecolor": "white",
            "showbackground": true,
            "ticks": "",
            "zerolinecolor": "white"
           },
           "zaxis": {
            "backgroundcolor": "#E5ECF6",
            "gridcolor": "white",
            "gridwidth": 2,
            "linecolor": "white",
            "showbackground": true,
            "ticks": "",
            "zerolinecolor": "white"
           }
          },
          "shapedefaults": {
           "line": {
            "color": "#2a3f5f"
           }
          },
          "ternary": {
           "aaxis": {
            "gridcolor": "white",
            "linecolor": "white",
            "ticks": ""
           },
           "baxis": {
            "gridcolor": "white",
            "linecolor": "white",
            "ticks": ""
           },
           "bgcolor": "#E5ECF6",
           "caxis": {
            "gridcolor": "white",
            "linecolor": "white",
            "ticks": ""
           }
          },
          "title": {
           "x": 0.05
          },
          "xaxis": {
           "automargin": true,
           "gridcolor": "white",
           "linecolor": "white",
           "ticks": "",
           "title": {
            "standoff": 15
           },
           "zerolinecolor": "white",
           "zerolinewidth": 2
          },
          "yaxis": {
           "automargin": true,
           "gridcolor": "white",
           "linecolor": "white",
           "ticks": "",
           "title": {
            "standoff": 15
           },
           "zerolinecolor": "white",
           "zerolinewidth": 2
          }
         }
        },
        "title": {
         "font": {
          "size": 20
         },
         "text": "<b>Tippwahrscheinlichkeit nach Tagesstunden</b>",
         "x": 0.475,
         "xanchor": "center",
         "y": 0.935,
         "yanchor": "top"
        },
        "xaxis": {
         "anchor": "y",
         "domain": [
          0,
          1
         ],
         "linecolor": "black",
         "matches": "x2",
         "showline": false,
         "showticklabels": false
        },
        "xaxis2": {
         "anchor": "y2",
         "domain": [
          0,
          1
         ],
         "ticks": "outside",
         "title": {
          "text": "<b>Stunden</b>"
         }
        },
        "yaxis": {
         "anchor": "x",
         "domain": [
          0.5,
          1
         ],
         "gridcolor": "grey",
         "linecolor": "black",
         "showgrid": true,
         "showline": false,
         "ticks": "outside",
         "title": {
          "text": "<b>Tipp Wshk.</b>"
         }
        },
        "yaxis2": {
         "anchor": "x2",
         "domain": [
          0,
          0.5
         ],
         "gridcolor": "grey",
         "showgrid": true,
         "ticks": "outside",
         "tickvals": [
          0,
          -0.025,
          -0.05,
          -0.075,
          -0.1
         ],
         "title": {
          "text": "<b>Order Anteil</b>"
         }
        }
       }
      }
     },
     "metadata": {},
     "output_type": "display_data"
    }
   ],
   "source": [
    "# Plot P3: Order_hour_of_day\n",
    "\n",
    "fig1 = make_subplots(cols= 1, rows= 2, shared_xaxes= True, shared_yaxes= False, vertical_spacing= 0)\n",
    "\n",
    "for order_hour_of_day in df_hour.order_hour_of_day:\n",
    "\n",
    " if df_hour[df_hour.order_hour_of_day == order_hour_of_day].tip_norm.values >= 0.5:\n",
    "  color = px.colors.sequential.Purpor[5]\n",
    "  text= df_hour.loc[df_hour.order_hour_of_day == order_hour_of_day].tip_norm.values.round(3)\n",
    "\n",
    "  fig1.add_trace(\n",
    "   go.Bar(\n",
    "    x= df_hour.loc[df_hour.order_hour_of_day == order_hour_of_day].order_hour_of_day,\n",
    "    y= df_hour.loc[df_hour.order_hour_of_day == order_hour_of_day].tip_norm,\n",
    "    name= f\"{order_hour_of_day}: {(df_hour.loc[df_hour.order_hour_of_day == order_hour_of_day].tip_norm.values[0] * 100).round(2)}%\",\n",
    "    showlegend= True,\n",
    "    marker= dict(color= color),\n",
    "    width= 0.8,\n",
    "    text= text,\n",
    "    base= 0,\n",
    "    legendgroup= f\"{order_hour_of_day}\" \n",
    "   ),\n",
    "   col= 1,\n",
    "   row= 1\n",
    "  )\n",
    "\n",
    "  fig1.add_trace(\n",
    "   go.Bar(\n",
    "    x= df_hour.loc[df_hour.order_hour_of_day == order_hour_of_day].order_hour_of_day,\n",
    "    y= df_hour.loc[df_hour.order_hour_of_day == order_hour_of_day].orders_norm,\n",
    "    name= f\"Orders: {(df_hour.loc[df_hour.order_hour_of_day == order_hour_of_day].orders_norm.values[0] * 100).round(3)}%\",\n",
    "    base = -df_hour.loc[df_hour.order_hour_of_day == order_hour_of_day].orders_norm,\n",
    "    showlegend= True,\n",
    "    marker= dict(color= color),\n",
    "    width= 0.8,\n",
    "    legendgroup= f\"{order_hour_of_day}\"\n",
    "   ),\n",
    "   col= 1,\n",
    "   row= 2\n",
    "  )\n",
    "\n",
    " elif 0.4 < df_hour.loc[df_hour.order_hour_of_day == order_hour_of_day].tip_norm.values < 0.5:\n",
    "  color= px.colors.sequential.Greys[3]\n",
    "\n",
    "  fig1.add_trace(\n",
    "   go.Bar(\n",
    "    x= df_hour.loc[df_hour.order_hour_of_day == order_hour_of_day].order_hour_of_day,\n",
    "    y= df_hour.loc[df_hour.order_hour_of_day == order_hour_of_day].tip_norm,\n",
    "    name= f\"{order_hour_of_day}: {(df_hour.loc[df_hour.order_hour_of_day == order_hour_of_day].tip_norm.values[0] * 100).round(2)}%\",\n",
    "    showlegend= True,\n",
    "    marker= dict(color= color),\n",
    "    width= 0.8,\n",
    "    base= 0,\n",
    "    legendgroup= f\"{order_hour_of_day}\"\n",
    "   ),\n",
    "   col= 1,\n",
    "   row= 1\n",
    "  )\n",
    "\n",
    "  fig1.add_trace(\n",
    "   go.Bar(\n",
    "    x= df_hour.loc[df_hour.order_hour_of_day == order_hour_of_day].order_hour_of_day,\n",
    "    y= df_hour.loc[df_hour.order_hour_of_day == order_hour_of_day].orders_norm,\n",
    "    name= f\"Orders: {(df_hour.loc[df_hour.order_hour_of_day == order_hour_of_day].orders_norm.values[0] * 100).round(3)}%\",\n",
    "    base = -df_hour.loc[df_hour.order_hour_of_day == order_hour_of_day].orders_norm,\n",
    "    showlegend= True,\n",
    "    marker= dict(color= color),\n",
    "    width= 0.8,\n",
    "    legendgroup= f\"{order_hour_of_day}\"\n",
    "   ),\n",
    "   col= 1,\n",
    "   row= 2\n",
    "  )\n",
    "\n",
    " elif 0.3 < df_hour.loc[df_hour.order_hour_of_day == order_hour_of_day].tip_norm.values < 0.4:\n",
    "  color= px.colors.sequential.Greys[2]\n",
    "\n",
    "  fig1.add_trace(\n",
    "   go.Bar(\n",
    "    x= df_hour.loc[df_hour.order_hour_of_day == order_hour_of_day].order_hour_of_day,\n",
    "    y= df_hour.loc[df_hour.order_hour_of_day == order_hour_of_day].tip_norm,\n",
    "    name= f\"{order_hour_of_day}: {(df_hour.loc[df_hour.order_hour_of_day == order_hour_of_day].tip_norm.values[0] * 100).round(2)}%\",\n",
    "    showlegend= True,\n",
    "    marker= dict(color= color),\n",
    "    width= 0.8,\n",
    "    base= 0,\n",
    "    legendgroup= f\"{order_hour_of_day}\"\n",
    "   ),\n",
    "   col= 1,\n",
    "   row= 1\n",
    "  )\n",
    "\n",
    "  fig1.add_trace(\n",
    "   go.Bar(\n",
    "    x= df_hour.loc[df_hour.order_hour_of_day == order_hour_of_day].order_hour_of_day,\n",
    "    y= df_hour.loc[df_hour.order_hour_of_day == order_hour_of_day].orders_norm,\n",
    "    name= f\"Orders: {(df_hour.loc[df_hour.order_hour_of_day == order_hour_of_day].orders_norm.values[0] * 100).round(3)}%\",\n",
    "    base = -df_hour.loc[df_hour.order_hour_of_day == order_hour_of_day].orders_norm,\n",
    "    showlegend= True,\n",
    "    marker= dict(color= color),\n",
    "    width= 0.8,\n",
    "    legendgroup= f\"{order_hour_of_day}\"\n",
    "   ),\n",
    "   col= 1,\n",
    "   row= 2\n",
    "  )\n",
    "\n",
    "fig1.add_hline(\n",
    " y= 0,\n",
    " opacity= 0.3,\n",
    " line_dash= \"solid\",\n",
    " line_color= \"grey\",\n",
    " col= 1,\n",
    " row= 1\n",
    ")\n",
    "\n",
    "fig1.add_hline(\n",
    " y= 0,\n",
    " opacity= 0.3,\n",
    " line_dash= \"solid\",\n",
    " line_color= \"grey\",\n",
    " col= 1,\n",
    " row= 2\n",
    ")\n",
    "\n",
    "fig1.add_vline(\n",
    " x= -1,\n",
    " opacity= 0.8,\n",
    " line_dash= \"solid\",\n",
    " line_color= \"black\",\n",
    " col= 1,\n",
    " row= 2\n",
    ")\n",
    "\n",
    "fig1.add_vline(\n",
    " x= -1,\n",
    " opacity= 0.8,\n",
    " line_dash= \"solid\",\n",
    " line_color= \"black\",\n",
    " col= 1,\n",
    " row= 1\n",
    ")\n",
    "\n",
    "fig1.add_hline(\n",
    " y= -0.1,\n",
    " opacity= 0.8,\n",
    " line_dash= \"solid\",\n",
    " line_color= \"black\",\n",
    " col= 1,\n",
    " row= 2\n",
    ")\n",
    "\n",
    "fig1.update_annotations(opacity= 0.8)\n",
    "fig1.update_layout(title= dict(text= \"<b>Tippwahrscheinlichkeit nach Tagesstunden</b>\", font_size= 20, xanchor= \"center\", yanchor= \"top\", y=0.935, x=0.475), legend_title_text = \"<b>Stunden</b>\", height= 700)\n",
    "fig1.update_xaxes(title_text=\"<b>Stunden</b>\", ticks= \"outside\", col= 1, row= 2)\n",
    "fig1.update_xaxes(showline= False, col= 1, row= 1)\n",
    "fig1.update_yaxes(title_text=\"<b>Tipp Wshk.</b>\", ticks= \"outside\", showgrid= True, gridcolor= \"grey\", col= 1, row= 1, showline= False)\n",
    "fig1.update_yaxes(title_text=\"<b>Order Anteil</b>\", ticks= \"outside\", showgrid= True, gridcolor= \"grey\", col= 1, row= 2, tickvals= [0, -0.025, -0.05, -0.075, -0.1])\n",
    "fig1.update_layout(plot_bgcolor= \"white\", xaxis= dict(linecolor= \"black\"), yaxis= dict(linecolor= \"black\"))\n",
    "fig1.show()"
   ]
  },
  {
   "attachments": {},
   "cell_type": "markdown",
   "metadata": {},
   "source": [
    "##### Attribut:"
   ]
  },
  {
   "attachments": {},
   "cell_type": "markdown",
   "metadata": {},
   "source": [
    "##### Attribut:"
   ]
  },
  {
   "attachments": {},
   "cell_type": "markdown",
   "metadata": {},
   "source": [
    "#### **P4:** Spielt die Vergangenheit eines Users eine Rolle in Hinblick auf die Trinkgeldwahrscheinlichkeit, oder kommt es nur auf Inhalt und Parameter der aktuellen Bestellung an?"
   ]
  },
  {
   "attachments": {},
   "cell_type": "markdown",
   "metadata": {},
   "source": [
    "##### Preprocessing"
   ]
  },
  {
   "cell_type": "code",
   "execution_count": 21,
   "metadata": {},
   "outputs": [],
   "source": [
    "df_user_hist = df.copy()"
   ]
  },
  {
   "cell_type": "code",
   "execution_count": 22,
   "metadata": {},
   "outputs": [
    {
     "data": {
      "text/html": [
       "<div>\n",
       "<style scoped>\n",
       "    .dataframe tbody tr th:only-of-type {\n",
       "        vertical-align: middle;\n",
       "    }\n",
       "\n",
       "    .dataframe tbody tr th {\n",
       "        vertical-align: top;\n",
       "    }\n",
       "\n",
       "    .dataframe thead th {\n",
       "        text-align: right;\n",
       "    }\n",
       "</style>\n",
       "<table border=\"1\" class=\"dataframe\">\n",
       "  <thead>\n",
       "    <tr style=\"text-align: right;\">\n",
       "      <th></th>\n",
       "      <th>user_id</th>\n",
       "      <th>orders</th>\n",
       "      <th>reordered</th>\n",
       "      <th>tip</th>\n",
       "      <th>order_number</th>\n",
       "    </tr>\n",
       "  </thead>\n",
       "  <tbody>\n",
       "    <tr>\n",
       "      <th>0</th>\n",
       "      <td>3</td>\n",
       "      <td>[244029, 78693, 533119, 361761, 481466, 350475...</td>\n",
       "      <td>0.625000</td>\n",
       "      <td>0.840909</td>\n",
       "      <td>[1, 2, 3, 4, 5, 6, 7, 8, 9, 10, 11, 12]</td>\n",
       "    </tr>\n",
       "    <tr>\n",
       "      <th>1</th>\n",
       "      <td>7</td>\n",
       "      <td>[455863, 426645, 21397, 301146, 589317, 298684...</td>\n",
       "      <td>0.679070</td>\n",
       "      <td>0.637209</td>\n",
       "      <td>[1, 2, 3, 4, 5, 6, 7, 8, 9, 10, 11, 12, 13, 14...</td>\n",
       "    </tr>\n",
       "    <tr>\n",
       "      <th>2</th>\n",
       "      <td>14</td>\n",
       "      <td>[515987, 569030, 242632, 245955, 300451, 37770...</td>\n",
       "      <td>0.343891</td>\n",
       "      <td>0.506787</td>\n",
       "      <td>[1, 2, 3, 4, 5, 6, 7, 8, 9, 10, 11, 12, 13, 14]</td>\n",
       "    </tr>\n",
       "    <tr>\n",
       "      <th>3</th>\n",
       "      <td>23</td>\n",
       "      <td>[318279, 1415, 337923, 190237, 603547]</td>\n",
       "      <td>0.192308</td>\n",
       "      <td>0.000000</td>\n",
       "      <td>[1, 2, 3, 4, 5]</td>\n",
       "    </tr>\n",
       "    <tr>\n",
       "      <th>4</th>\n",
       "      <td>25</td>\n",
       "      <td>[463866, 531613, 45667]</td>\n",
       "      <td>0.095238</td>\n",
       "      <td>0.476190</td>\n",
       "      <td>[1, 2, 3]</td>\n",
       "    </tr>\n",
       "  </tbody>\n",
       "</table>\n",
       "</div>"
      ],
      "text/plain": [
       "   user_id                                             orders  reordered  \\\n",
       "0        3  [244029, 78693, 533119, 361761, 481466, 350475...   0.625000   \n",
       "1        7  [455863, 426645, 21397, 301146, 589317, 298684...   0.679070   \n",
       "2       14  [515987, 569030, 242632, 245955, 300451, 37770...   0.343891   \n",
       "3       23             [318279, 1415, 337923, 190237, 603547]   0.192308   \n",
       "4       25                            [463866, 531613, 45667]   0.095238   \n",
       "\n",
       "        tip                                       order_number  \n",
       "0  0.840909            [1, 2, 3, 4, 5, 6, 7, 8, 9, 10, 11, 12]  \n",
       "1  0.637209  [1, 2, 3, 4, 5, 6, 7, 8, 9, 10, 11, 12, 13, 14...  \n",
       "2  0.506787    [1, 2, 3, 4, 5, 6, 7, 8, 9, 10, 11, 12, 13, 14]  \n",
       "3  0.000000                                    [1, 2, 3, 4, 5]  \n",
       "4  0.476190                                          [1, 2, 3]  "
      ]
     },
     "execution_count": 22,
     "metadata": {},
     "output_type": "execute_result"
    }
   ],
   "source": [
    "df_user_hist = df_user_hist.sort_values(by= [\"user_id\", \"order_number\"], ascending= True)\n",
    "df_user = df_user_hist.groupby(\"user_id\", as_index= False).agg(orders = (\"order_id\", \"unique\"), reordered= (\"reordered\", \"mean\"), tip= (\"tip\", \"mean\"), order_number= (\"order_number\", \"unique\"))\n",
    "df_user.head()"
   ]
  },
  {
   "cell_type": "code",
   "execution_count": 23,
   "metadata": {},
   "outputs": [],
   "source": [
    "last_orders = []\n",
    "\n",
    "for ind, order in enumerate(df_user.orders):\n",
    " last_orders.append(df_user.orders[ind][-1])\n",
    "\n",
    "df_user_hist.drop(df_user_hist.loc[df_user_hist.order_id.isin(last_orders)].index, inplace= True)"
   ]
  },
  {
   "cell_type": "code",
   "execution_count": 24,
   "metadata": {},
   "outputs": [
    {
     "data": {
      "text/html": [
       "<div>\n",
       "<style scoped>\n",
       "    .dataframe tbody tr th:only-of-type {\n",
       "        vertical-align: middle;\n",
       "    }\n",
       "\n",
       "    .dataframe tbody tr th {\n",
       "        vertical-align: top;\n",
       "    }\n",
       "\n",
       "    .dataframe thead th {\n",
       "        text-align: right;\n",
       "    }\n",
       "</style>\n",
       "<table border=\"1\" class=\"dataframe\">\n",
       "  <thead>\n",
       "    <tr style=\"text-align: right;\">\n",
       "      <th></th>\n",
       "      <th>user_id</th>\n",
       "      <th>orders</th>\n",
       "      <th>reordered</th>\n",
       "      <th>tip</th>\n",
       "    </tr>\n",
       "  </thead>\n",
       "  <tbody>\n",
       "    <tr>\n",
       "      <th>0</th>\n",
       "      <td>3</td>\n",
       "      <td>11</td>\n",
       "      <td>0.597561</td>\n",
       "      <td>0.829268</td>\n",
       "    </tr>\n",
       "    <tr>\n",
       "      <th>1</th>\n",
       "      <td>7</td>\n",
       "      <td>20</td>\n",
       "      <td>0.669903</td>\n",
       "      <td>0.621359</td>\n",
       "    </tr>\n",
       "    <tr>\n",
       "      <th>2</th>\n",
       "      <td>14</td>\n",
       "      <td>13</td>\n",
       "      <td>0.323810</td>\n",
       "      <td>0.533333</td>\n",
       "    </tr>\n",
       "    <tr>\n",
       "      <th>3</th>\n",
       "      <td>23</td>\n",
       "      <td>4</td>\n",
       "      <td>0.100000</td>\n",
       "      <td>0.000000</td>\n",
       "    </tr>\n",
       "    <tr>\n",
       "      <th>4</th>\n",
       "      <td>25</td>\n",
       "      <td>2</td>\n",
       "      <td>0.066667</td>\n",
       "      <td>0.266667</td>\n",
       "    </tr>\n",
       "  </tbody>\n",
       "</table>\n",
       "</div>"
      ],
      "text/plain": [
       "   user_id  orders  reordered       tip\n",
       "0        3      11   0.597561  0.829268\n",
       "1        7      20   0.669903  0.621359\n",
       "2       14      13   0.323810  0.533333\n",
       "3       23       4   0.100000  0.000000\n",
       "4       25       2   0.066667  0.266667"
      ]
     },
     "execution_count": 24,
     "metadata": {},
     "output_type": "execute_result"
    }
   ],
   "source": [
    "df_userh = df_user_hist.groupby(\"user_id\", as_index= False).agg(orders = (\"order_id\", \"nunique\"), reordered= (\"reordered\", \"mean\"), tip= (\"tip\", \"mean\"))\n",
    "df_userh.head()"
   ]
  },
  {
   "cell_type": "code",
   "execution_count": 25,
   "metadata": {},
   "outputs": [
    {
     "data": {
      "text/html": [
       "<div>\n",
       "<style scoped>\n",
       "    .dataframe tbody tr th:only-of-type {\n",
       "        vertical-align: middle;\n",
       "    }\n",
       "\n",
       "    .dataframe tbody tr th {\n",
       "        vertical-align: top;\n",
       "    }\n",
       "\n",
       "    .dataframe thead th {\n",
       "        text-align: right;\n",
       "    }\n",
       "</style>\n",
       "<table border=\"1\" class=\"dataframe\">\n",
       "  <thead>\n",
       "    <tr style=\"text-align: right;\">\n",
       "      <th></th>\n",
       "      <th>user_id</th>\n",
       "      <th>tip_last_order</th>\n",
       "      <th>last_order_id</th>\n",
       "    </tr>\n",
       "  </thead>\n",
       "  <tbody>\n",
       "    <tr>\n",
       "      <th>0</th>\n",
       "      <td>3</td>\n",
       "      <td>1</td>\n",
       "      <td>248921</td>\n",
       "    </tr>\n",
       "    <tr>\n",
       "      <th>1</th>\n",
       "      <td>7</td>\n",
       "      <td>1</td>\n",
       "      <td>93090</td>\n",
       "    </tr>\n",
       "    <tr>\n",
       "      <th>2</th>\n",
       "      <td>14</td>\n",
       "      <td>0</td>\n",
       "      <td>411382</td>\n",
       "    </tr>\n",
       "    <tr>\n",
       "      <th>3</th>\n",
       "      <td>23</td>\n",
       "      <td>0</td>\n",
       "      <td>603547</td>\n",
       "    </tr>\n",
       "    <tr>\n",
       "      <th>4</th>\n",
       "      <td>25</td>\n",
       "      <td>1</td>\n",
       "      <td>45667</td>\n",
       "    </tr>\n",
       "  </tbody>\n",
       "</table>\n",
       "</div>"
      ],
      "text/plain": [
       "   user_id  tip_last_order  last_order_id\n",
       "0        3               1         248921\n",
       "1        7               1          93090\n",
       "2       14               0         411382\n",
       "3       23               0         603547\n",
       "4       25               1          45667"
      ]
     },
     "execution_count": 25,
     "metadata": {},
     "output_type": "execute_result"
    }
   ],
   "source": [
    "df_last_order = df.loc[df.order_id.isin(last_orders)].groupby(\"user_id\").agg(tip_last_order= (\"tip\", \"max\"), last_order_id = (\"order_id\", \"max\")).reset_index()\n",
    "df_last_order.head()"
   ]
  },
  {
   "cell_type": "code",
   "execution_count": 26,
   "metadata": {},
   "outputs": [
    {
     "data": {
      "text/html": [
       "<div>\n",
       "<style scoped>\n",
       "    .dataframe tbody tr th:only-of-type {\n",
       "        vertical-align: middle;\n",
       "    }\n",
       "\n",
       "    .dataframe tbody tr th {\n",
       "        vertical-align: top;\n",
       "    }\n",
       "\n",
       "    .dataframe thead th {\n",
       "        text-align: right;\n",
       "    }\n",
       "</style>\n",
       "<table border=\"1\" class=\"dataframe\">\n",
       "  <thead>\n",
       "    <tr style=\"text-align: right;\">\n",
       "      <th></th>\n",
       "      <th>user_id</th>\n",
       "      <th>orders</th>\n",
       "      <th>reordered</th>\n",
       "      <th>tip</th>\n",
       "      <th>tip_last_order</th>\n",
       "      <th>last_order_id</th>\n",
       "    </tr>\n",
       "  </thead>\n",
       "  <tbody>\n",
       "    <tr>\n",
       "      <th>0</th>\n",
       "      <td>3</td>\n",
       "      <td>11</td>\n",
       "      <td>0.597561</td>\n",
       "      <td>0.829268</td>\n",
       "      <td>1</td>\n",
       "      <td>248921</td>\n",
       "    </tr>\n",
       "    <tr>\n",
       "      <th>1</th>\n",
       "      <td>7</td>\n",
       "      <td>20</td>\n",
       "      <td>0.669903</td>\n",
       "      <td>0.621359</td>\n",
       "      <td>1</td>\n",
       "      <td>93090</td>\n",
       "    </tr>\n",
       "    <tr>\n",
       "      <th>2</th>\n",
       "      <td>14</td>\n",
       "      <td>13</td>\n",
       "      <td>0.323810</td>\n",
       "      <td>0.533333</td>\n",
       "      <td>0</td>\n",
       "      <td>411382</td>\n",
       "    </tr>\n",
       "    <tr>\n",
       "      <th>3</th>\n",
       "      <td>23</td>\n",
       "      <td>4</td>\n",
       "      <td>0.100000</td>\n",
       "      <td>0.000000</td>\n",
       "      <td>0</td>\n",
       "      <td>603547</td>\n",
       "    </tr>\n",
       "    <tr>\n",
       "      <th>4</th>\n",
       "      <td>25</td>\n",
       "      <td>2</td>\n",
       "      <td>0.066667</td>\n",
       "      <td>0.266667</td>\n",
       "      <td>1</td>\n",
       "      <td>45667</td>\n",
       "    </tr>\n",
       "  </tbody>\n",
       "</table>\n",
       "</div>"
      ],
      "text/plain": [
       "   user_id  orders  reordered       tip  tip_last_order  last_order_id\n",
       "0        3      11   0.597561  0.829268               1         248921\n",
       "1        7      20   0.669903  0.621359               1          93090\n",
       "2       14      13   0.323810  0.533333               0         411382\n",
       "3       23       4   0.100000  0.000000               0         603547\n",
       "4       25       2   0.066667  0.266667               1          45667"
      ]
     },
     "execution_count": 26,
     "metadata": {},
     "output_type": "execute_result"
    }
   ],
   "source": [
    "df_userh = df_userh.merge(df_last_order, how= \"right\", on= \"user_id\")\n",
    "df_userh.head()"
   ]
  },
  {
   "attachments": {},
   "cell_type": "markdown",
   "metadata": {},
   "source": [
    "##### Analyse"
   ]
  },
  {
   "attachments": {},
   "cell_type": "markdown",
   "metadata": {},
   "source": [
    "**Bestellungen bei welcher der user eine tip_wshk von >= 0.5 hat verglichen mit seiner letzten/aktuellen Bestellung**\n",
    "\n",
    "\n",
    "Unter der Annahme, dass wenn die tip_wshk eines users in der historie >= 0.5 ist, tendiert er eher dazu zu tippen bei seiner letzten/aktuellen Bestellung"
   ]
  },
  {
   "attachments": {},
   "cell_type": "markdown",
   "metadata": {},
   "source": [
    "**trifft zu:**"
   ]
  },
  {
   "cell_type": "code",
   "execution_count": 28,
   "metadata": {},
   "outputs": [
    {
     "data": {
      "text/html": [
       "<div>\n",
       "<style scoped>\n",
       "    .dataframe tbody tr th:only-of-type {\n",
       "        vertical-align: middle;\n",
       "    }\n",
       "\n",
       "    .dataframe tbody tr th {\n",
       "        vertical-align: top;\n",
       "    }\n",
       "\n",
       "    .dataframe thead th {\n",
       "        text-align: right;\n",
       "    }\n",
       "</style>\n",
       "<table border=\"1\" class=\"dataframe\">\n",
       "  <thead>\n",
       "    <tr style=\"text-align: right;\">\n",
       "      <th></th>\n",
       "      <th>user_id</th>\n",
       "      <th>orders</th>\n",
       "      <th>reordered</th>\n",
       "      <th>tip</th>\n",
       "      <th>tip_last_order</th>\n",
       "      <th>last_order_id</th>\n",
       "    </tr>\n",
       "  </thead>\n",
       "  <tbody>\n",
       "    <tr>\n",
       "      <th>0</th>\n",
       "      <td>3</td>\n",
       "      <td>11</td>\n",
       "      <td>0.597561</td>\n",
       "      <td>0.829268</td>\n",
       "      <td>1</td>\n",
       "      <td>248921</td>\n",
       "    </tr>\n",
       "    <tr>\n",
       "      <th>1</th>\n",
       "      <td>7</td>\n",
       "      <td>20</td>\n",
       "      <td>0.669903</td>\n",
       "      <td>0.621359</td>\n",
       "      <td>1</td>\n",
       "      <td>93090</td>\n",
       "    </tr>\n",
       "    <tr>\n",
       "      <th>6</th>\n",
       "      <td>39</td>\n",
       "      <td>6</td>\n",
       "      <td>0.571429</td>\n",
       "      <td>0.500000</td>\n",
       "      <td>1</td>\n",
       "      <td>489351</td>\n",
       "    </tr>\n",
       "    <tr>\n",
       "      <th>13</th>\n",
       "      <td>73</td>\n",
       "      <td>6</td>\n",
       "      <td>0.363636</td>\n",
       "      <td>0.636364</td>\n",
       "      <td>1</td>\n",
       "      <td>443957</td>\n",
       "    </tr>\n",
       "    <tr>\n",
       "      <th>15</th>\n",
       "      <td>85</td>\n",
       "      <td>6</td>\n",
       "      <td>0.384615</td>\n",
       "      <td>0.807692</td>\n",
       "      <td>1</td>\n",
       "      <td>431764</td>\n",
       "    </tr>\n",
       "  </tbody>\n",
       "</table>\n",
       "</div>"
      ],
      "text/plain": [
       "    user_id  orders  reordered       tip  tip_last_order  last_order_id\n",
       "0         3      11   0.597561  0.829268               1         248921\n",
       "1         7      20   0.669903  0.621359               1          93090\n",
       "6        39       6   0.571429  0.500000               1         489351\n",
       "13       73       6   0.363636  0.636364               1         443957\n",
       "15       85       6   0.384615  0.807692               1         431764"
      ]
     },
     "execution_count": 28,
     "metadata": {},
     "output_type": "execute_result"
    }
   ],
   "source": [
    "df_userh.loc[(df_userh.tip >= 0.5) & (df_userh.tip_last_order == 1)].head()"
   ]
  },
  {
   "cell_type": "code",
   "execution_count": 48,
   "metadata": {},
   "outputs": [
    {
     "data": {
      "text/plain": [
       "0.2056627505553028"
      ]
     },
     "execution_count": 48,
     "metadata": {},
     "output_type": "execute_result"
    }
   ],
   "source": [
    "case1_true = 7685 / 37367\n",
    "case1_true"
   ]
  },
  {
   "attachments": {},
   "cell_type": "markdown",
   "metadata": {},
   "source": [
    "**trifft nicht zu:**"
   ]
  },
  {
   "cell_type": "code",
   "execution_count": 29,
   "metadata": {},
   "outputs": [
    {
     "data": {
      "text/html": [
       "<div>\n",
       "<style scoped>\n",
       "    .dataframe tbody tr th:only-of-type {\n",
       "        vertical-align: middle;\n",
       "    }\n",
       "\n",
       "    .dataframe tbody tr th {\n",
       "        vertical-align: top;\n",
       "    }\n",
       "\n",
       "    .dataframe thead th {\n",
       "        text-align: right;\n",
       "    }\n",
       "</style>\n",
       "<table border=\"1\" class=\"dataframe\">\n",
       "  <thead>\n",
       "    <tr style=\"text-align: right;\">\n",
       "      <th></th>\n",
       "      <th>user_id</th>\n",
       "      <th>orders</th>\n",
       "      <th>reordered</th>\n",
       "      <th>tip</th>\n",
       "      <th>tip_last_order</th>\n",
       "      <th>last_order_id</th>\n",
       "    </tr>\n",
       "  </thead>\n",
       "  <tbody>\n",
       "    <tr>\n",
       "      <th>2</th>\n",
       "      <td>14</td>\n",
       "      <td>13</td>\n",
       "      <td>0.323810</td>\n",
       "      <td>0.533333</td>\n",
       "      <td>0</td>\n",
       "      <td>411382</td>\n",
       "    </tr>\n",
       "    <tr>\n",
       "      <th>20</th>\n",
       "      <td>110</td>\n",
       "      <td>20</td>\n",
       "      <td>0.556196</td>\n",
       "      <td>0.700288</td>\n",
       "      <td>0</td>\n",
       "      <td>12722</td>\n",
       "    </tr>\n",
       "    <tr>\n",
       "      <th>26</th>\n",
       "      <td>138</td>\n",
       "      <td>32</td>\n",
       "      <td>0.628378</td>\n",
       "      <td>0.533784</td>\n",
       "      <td>0</td>\n",
       "      <td>80767</td>\n",
       "    </tr>\n",
       "    <tr>\n",
       "      <th>27</th>\n",
       "      <td>140</td>\n",
       "      <td>76</td>\n",
       "      <td>0.735882</td>\n",
       "      <td>0.537793</td>\n",
       "      <td>0</td>\n",
       "      <td>454907</td>\n",
       "    </tr>\n",
       "    <tr>\n",
       "      <th>33</th>\n",
       "      <td>169</td>\n",
       "      <td>6</td>\n",
       "      <td>0.105882</td>\n",
       "      <td>0.917647</td>\n",
       "      <td>0</td>\n",
       "      <td>136338</td>\n",
       "    </tr>\n",
       "  </tbody>\n",
       "</table>\n",
       "</div>"
      ],
      "text/plain": [
       "    user_id  orders  reordered       tip  tip_last_order  last_order_id\n",
       "2        14      13   0.323810  0.533333               0         411382\n",
       "20      110      20   0.556196  0.700288               0          12722\n",
       "26      138      32   0.628378  0.533784               0          80767\n",
       "27      140      76   0.735882  0.537793               0         454907\n",
       "33      169       6   0.105882  0.917647               0         136338"
      ]
     },
     "execution_count": 29,
     "metadata": {},
     "output_type": "execute_result"
    }
   ],
   "source": [
    "df_userh.loc[(df_userh.tip >= 0.5) & (df_userh.tip_last_order == 0)].head() "
   ]
  },
  {
   "cell_type": "code",
   "execution_count": 49,
   "metadata": {},
   "outputs": [
    {
     "data": {
      "text/plain": [
       "0.11189017047127145"
      ]
     },
     "execution_count": 49,
     "metadata": {},
     "output_type": "execute_result"
    }
   ],
   "source": [
    "case1_false = 4181 / 37367\n",
    "case1_false"
   ]
  },
  {
   "attachments": {},
   "cell_type": "markdown",
   "metadata": {},
   "source": [
    "**Bestellungen bei welcher der user eine tip_wshk von < 0.5 hat verglichen mit seiner letzten/aktuellen Bestellung**\n",
    "\n",
    "Unter der Annahme, dass wenn die tip_wshk eines users in der historie < 0.5 ist, tendiert er eher dazu nicht zu tippen bei seiner letzten/aktuellen Bestellung"
   ]
  },
  {
   "attachments": {},
   "cell_type": "markdown",
   "metadata": {},
   "source": [
    "**trifft zu:**"
   ]
  },
  {
   "cell_type": "code",
   "execution_count": 32,
   "metadata": {},
   "outputs": [
    {
     "data": {
      "text/html": [
       "<div>\n",
       "<style scoped>\n",
       "    .dataframe tbody tr th:only-of-type {\n",
       "        vertical-align: middle;\n",
       "    }\n",
       "\n",
       "    .dataframe tbody tr th {\n",
       "        vertical-align: top;\n",
       "    }\n",
       "\n",
       "    .dataframe thead th {\n",
       "        text-align: right;\n",
       "    }\n",
       "</style>\n",
       "<table border=\"1\" class=\"dataframe\">\n",
       "  <thead>\n",
       "    <tr style=\"text-align: right;\">\n",
       "      <th></th>\n",
       "      <th>user_id</th>\n",
       "      <th>orders</th>\n",
       "      <th>reordered</th>\n",
       "      <th>tip</th>\n",
       "      <th>tip_last_order</th>\n",
       "      <th>last_order_id</th>\n",
       "    </tr>\n",
       "  </thead>\n",
       "  <tbody>\n",
       "    <tr>\n",
       "      <th>3</th>\n",
       "      <td>23</td>\n",
       "      <td>4</td>\n",
       "      <td>0.100000</td>\n",
       "      <td>0.000000</td>\n",
       "      <td>0</td>\n",
       "      <td>603547</td>\n",
       "    </tr>\n",
       "    <tr>\n",
       "      <th>9</th>\n",
       "      <td>53</td>\n",
       "      <td>3</td>\n",
       "      <td>0.028571</td>\n",
       "      <td>0.000000</td>\n",
       "      <td>0</td>\n",
       "      <td>548094</td>\n",
       "    </tr>\n",
       "    <tr>\n",
       "      <th>10</th>\n",
       "      <td>55</td>\n",
       "      <td>7</td>\n",
       "      <td>0.505747</td>\n",
       "      <td>0.000000</td>\n",
       "      <td>0</td>\n",
       "      <td>6945</td>\n",
       "    </tr>\n",
       "    <tr>\n",
       "      <th>11</th>\n",
       "      <td>65</td>\n",
       "      <td>14</td>\n",
       "      <td>0.393939</td>\n",
       "      <td>0.000000</td>\n",
       "      <td>0</td>\n",
       "      <td>190242</td>\n",
       "    </tr>\n",
       "    <tr>\n",
       "      <th>14</th>\n",
       "      <td>83</td>\n",
       "      <td>6</td>\n",
       "      <td>0.333333</td>\n",
       "      <td>0.179487</td>\n",
       "      <td>0</td>\n",
       "      <td>430576</td>\n",
       "    </tr>\n",
       "  </tbody>\n",
       "</table>\n",
       "</div>"
      ],
      "text/plain": [
       "    user_id  orders  reordered       tip  tip_last_order  last_order_id\n",
       "3        23       4   0.100000  0.000000               0         603547\n",
       "9        53       3   0.028571  0.000000               0         548094\n",
       "10       55       7   0.505747  0.000000               0           6945\n",
       "11       65      14   0.393939  0.000000               0         190242\n",
       "14       83       6   0.333333  0.179487               0         430576"
      ]
     },
     "execution_count": 32,
     "metadata": {},
     "output_type": "execute_result"
    }
   ],
   "source": [
    "df_userh.loc[(df_userh.tip < 0.5) & (df_userh.tip_last_order == 0)].head()"
   ]
  },
  {
   "cell_type": "code",
   "execution_count": 50,
   "metadata": {},
   "outputs": [
    {
     "data": {
      "text/plain": [
       "0.5522252254663206"
      ]
     },
     "execution_count": 50,
     "metadata": {},
     "output_type": "execute_result"
    }
   ],
   "source": [
    "case2_true = 20635 / 37367\n",
    "case2_true"
   ]
  },
  {
   "attachments": {},
   "cell_type": "markdown",
   "metadata": {},
   "source": [
    "**trifft nicht zu:**"
   ]
  },
  {
   "cell_type": "code",
   "execution_count": 34,
   "metadata": {},
   "outputs": [
    {
     "data": {
      "text/html": [
       "<div>\n",
       "<style scoped>\n",
       "    .dataframe tbody tr th:only-of-type {\n",
       "        vertical-align: middle;\n",
       "    }\n",
       "\n",
       "    .dataframe tbody tr th {\n",
       "        vertical-align: top;\n",
       "    }\n",
       "\n",
       "    .dataframe thead th {\n",
       "        text-align: right;\n",
       "    }\n",
       "</style>\n",
       "<table border=\"1\" class=\"dataframe\">\n",
       "  <thead>\n",
       "    <tr style=\"text-align: right;\">\n",
       "      <th></th>\n",
       "      <th>user_id</th>\n",
       "      <th>orders</th>\n",
       "      <th>reordered</th>\n",
       "      <th>tip</th>\n",
       "      <th>tip_last_order</th>\n",
       "      <th>last_order_id</th>\n",
       "    </tr>\n",
       "  </thead>\n",
       "  <tbody>\n",
       "    <tr>\n",
       "      <th>4</th>\n",
       "      <td>25</td>\n",
       "      <td>2</td>\n",
       "      <td>0.066667</td>\n",
       "      <td>0.266667</td>\n",
       "      <td>1</td>\n",
       "      <td>45667</td>\n",
       "    </tr>\n",
       "    <tr>\n",
       "      <th>5</th>\n",
       "      <td>28</td>\n",
       "      <td>23</td>\n",
       "      <td>0.416667</td>\n",
       "      <td>0.303571</td>\n",
       "      <td>1</td>\n",
       "      <td>351338</td>\n",
       "    </tr>\n",
       "    <tr>\n",
       "      <th>7</th>\n",
       "      <td>40</td>\n",
       "      <td>8</td>\n",
       "      <td>0.641304</td>\n",
       "      <td>0.456522</td>\n",
       "      <td>1</td>\n",
       "      <td>203217</td>\n",
       "    </tr>\n",
       "    <tr>\n",
       "      <th>8</th>\n",
       "      <td>42</td>\n",
       "      <td>16</td>\n",
       "      <td>0.548872</td>\n",
       "      <td>0.127820</td>\n",
       "      <td>1</td>\n",
       "      <td>497941</td>\n",
       "    </tr>\n",
       "    <tr>\n",
       "      <th>12</th>\n",
       "      <td>72</td>\n",
       "      <td>12</td>\n",
       "      <td>0.680851</td>\n",
       "      <td>0.212766</td>\n",
       "      <td>1</td>\n",
       "      <td>463486</td>\n",
       "    </tr>\n",
       "  </tbody>\n",
       "</table>\n",
       "</div>"
      ],
      "text/plain": [
       "    user_id  orders  reordered       tip  tip_last_order  last_order_id\n",
       "4        25       2   0.066667  0.266667               1          45667\n",
       "5        28      23   0.416667  0.303571               1         351338\n",
       "7        40       8   0.641304  0.456522               1         203217\n",
       "8        42      16   0.548872  0.127820               1         497941\n",
       "12       72      12   0.680851  0.212766               1         463486"
      ]
     },
     "execution_count": 34,
     "metadata": {},
     "output_type": "execute_result"
    }
   ],
   "source": [
    "df_userh.loc[(df_userh.tip < 0.5) & (df_userh.tip_last_order == 1)].head() "
   ]
  },
  {
   "cell_type": "code",
   "execution_count": 51,
   "metadata": {},
   "outputs": [
    {
     "data": {
      "text/plain": [
       "0.1302218535071052"
      ]
     },
     "execution_count": 51,
     "metadata": {},
     "output_type": "execute_result"
    }
   ],
   "source": [
    "case2_false = 4866 / 37367\n",
    "case2_false"
   ]
  },
  {
   "cell_type": "code",
   "execution_count": 52,
   "metadata": {},
   "outputs": [
    {
     "name": "stdout",
     "output_type": "stream",
     "text": [
      "Wahrscheinlichkeit Trifft zu: 0.7578879760216234, Wahrscheinlichlkeit Trifft nicht zu: 0.24211202397837664\n"
     ]
    }
   ],
   "source": [
    "print(f\"Wahrscheinlichkeit Trifft zu: {case1_true + case2_true}, Wahrscheinlichlkeit Trifft nicht zu: {case1_false + case2_false}\")"
   ]
  },
  {
   "attachments": {},
   "cell_type": "markdown",
   "metadata": {},
   "source": [
    "##### Preprocessing und Feature Importance "
   ]
  },
  {
   "attachments": {},
   "cell_type": "markdown",
   "metadata": {},
   "source": [
    "Um zu belegen das die Vergangenheit eines Users die Trinkgeldwahrscheinlichkeit seiner aktuellen Bestellung beeinlfusst wird der Dataframe in zwei Datensätze unterteilt.   \n",
    "\n",
    "Im Ersten sind alle Bestellung der Historie eines Users und im Zweiten befinden sich nur die aktuellen Bestellungen eines Users.  \n",
    "\n",
    "Der erste Datensatz erhält ein zusätzliches Feature, die user_tip_ratio, welches die Tippwahrscheinlichkeit jedes Users zum Zeitpunkt seiner Bestellung berechnet.    \n",
    "\n",
    "Auf dem ersten Datensatz wird nun ein Entscheidungsbaum als Classifier trainiert der die Wahrscheinlichkeit, dass eine Bestellung einen Tipp erhält, (tip: 0/1) auf dem zweiten Datensatz (die aktuellen Bestellungen) versucht hervorzusagen. "
   ]
  },
  {
   "cell_type": "code",
   "execution_count": 54,
   "metadata": {},
   "outputs": [],
   "source": [
    "# Funktion für die Print-Ausgabe des Classifiers\n",
    "\n",
    "def print_evaluation(pipeline_or_model: str, X_train, X_test, y_train, y_test, y_train_pred, y_test_pred):\n",
    "    accurary_train = accuracy_score(y_train, y_train_pred)\n",
    "    recall_train = recall_score(y_train, y_train_pred)\n",
    "    precision_train = precision_score(y_train, y_train_pred)\n",
    "\n",
    "    accurary_test = accuracy_score(y_test, y_test_pred)\n",
    "    recall_test = recall_score(y_test, y_test_pred)\n",
    "    precision_test = precision_score(y_test, y_test_pred)\n",
    "    \n",
    "    print(\n",
    "        f\"{pipeline_or_model} Evaluation:\\n\"\n",
    "        f\"{'':6} {'ACC':>10} | {'REC':>14} | {'PRE':>10} | {'rows':>8} | {'columns':>8}\\n\"\n",
    "        f\"{'Train':6} {accurary_train:10.5f} | {recall_train:14.5f} | {precision_train:10.5f} | {X_train.shape[0]:8} | {X_train.shape[1]:8}\\n\"\n",
    "        f\"{'Test':6} {accurary_test:10.5f} | {recall_test:14.5f} | {precision_test:10.5f} | {X_test.shape[0]:8} | {X_test.shape[1]:8}\\n\"\n",
    "    )"
   ]
  },
  {
   "cell_type": "code",
   "execution_count": 56,
   "metadata": {},
   "outputs": [],
   "source": [
    "df_userhh = df.copy()\n",
    "df_userhh = df_userhh.sort_values(by= [\"user_id\", \"order_number\"], ascending= True)\n",
    "df_userh1 = df_userhh.groupby(\"user_id\", as_index= False).agg(orders = (\"order_id\", \"unique\"), reordered= (\"reordered\", \"mean\"), tip= (\"tip\", \"mean\"), order_number= (\"order_number\", \"unique\"))\n",
    "\n",
    "last_orders = []\n",
    "for ind, order in enumerate(df_userh1.orders):\n",
    " last_orders.append(df_userh1.orders[ind][-1])\n",
    "\n",
    "df_userhh.drop(df_userhh.loc[df_userhh.order_id.isin(last_orders)].index, inplace= True)\n",
    "df_userh = df_userhh.groupby(\"user_id\", as_index= False).agg(orders = (\"order_id\", \"nunique\"), reordered= (\"reordered\", \"mean\"), tip= (\"tip\", \"mean\"))\n",
    "df_last_order = df.loc[df.order_id.isin(last_orders)].groupby(\"user_id\").agg(tip_last_order= (\"tip\", \"max\"), last_order_id = (\"order_id\", \"max\")).reset_index()"
   ]
  },
  {
   "cell_type": "code",
   "execution_count": 58,
   "metadata": {},
   "outputs": [],
   "source": [
    "df1 = df.copy()\n",
    "df_last_orders = df1.loc[df1.order_id.isin(last_orders)]\n",
    "df1.drop(df1.loc[df1.order_id.isin(last_orders)].index, inplace= True)\n",
    "df_tip = df1.groupby([\"user_id\"], as_index= False).agg(user_tip_ratio = (\"tip\", \"mean\"))\n",
    "df1 = df1.merge(df_tip, on= \"user_id\", how= \"right\")\n",
    "df_last_orders = df_last_orders.merge(df_tip, on= \"user_id\", how= \"right\")"
   ]
  },
  {
   "attachments": {},
   "cell_type": "markdown",
   "metadata": {},
   "source": [
    "##### Entscheidungsbaum und Feature Importance"
   ]
  },
  {
   "cell_type": "code",
   "execution_count": 64,
   "metadata": {},
   "outputs": [],
   "source": [
    "X = df1[[\"order_id\",\t\"product_id\",\t\"add_to_cart_order\",\t\"user_id\",\t\"order_number\",\t\"order_dow\",\t\"order_hour_of_day\",\t\"days_since_prior_order\",\t\"aisle_id\",\t\"department_id\", \"user_tip_ratio\"]]\n",
    "y = df1[\"tip\"]"
   ]
  },
  {
   "cell_type": "code",
   "execution_count": 65,
   "metadata": {},
   "outputs": [],
   "source": [
    "X_train, y_train = X , y"
   ]
  },
  {
   "cell_type": "code",
   "execution_count": 66,
   "metadata": {},
   "outputs": [],
   "source": [
    "X_test, y_test = df_last_orders[[\"order_id\",\t\"product_id\",\t\"add_to_cart_order\",\t\"user_id\",\t\"order_number\",\t\"order_dow\",\t\"order_hour_of_day\",\t\"days_since_prior_order\",\t\"aisle_id\",\t\"department_id\", \"user_tip_ratio\"]], df_last_orders[\"tip\"]"
   ]
  },
  {
   "cell_type": "code",
   "execution_count": null,
   "metadata": {},
   "outputs": [
    {
     "name": "stdout",
     "output_type": "stream",
     "text": [
      "Best parameters: {'max_depth': 6, 'min_samples_split': 2, 'random_state': 0}, with score: 0.7724332017517882\n"
     ]
    }
   ],
   "source": [
    "gs_crossv = GridSearchCV(\n",
    " estimator= DecisionTreeClassifier(),\n",
    " param_grid= dict(min_samples_split= [2, 10, 20, 50, 100], max_depth= [1, 3, 6, 9], random_state= [0]),\n",
    " scoring = \"accuracy\",\n",
    " n_jobs= -1,\n",
    " cv= 5\n",
    ").fit(X_train, y_train)\n",
    "\n",
    "print(f\"Best parameters: {gs_crossv.best_params_}, with score: {gs_crossv.best_score_}\")"
   ]
  },
  {
   "cell_type": "code",
   "execution_count": null,
   "metadata": {},
   "outputs": [
    {
     "name": "stdout",
     "output_type": "stream",
     "text": [
      "DTC Evaluation:\n",
      "              ACC |            REC |        PRE |     rows |  columns\n",
      "Train     0.77942 |        0.73144 |    0.77023 |  5740420 |       11\n",
      "Test      0.76509 |        0.64272 |    0.69115 |   392249 |       11\n",
      "\n"
     ]
    }
   ],
   "source": [
    "dtc2 = DecisionTreeClassifier(min_samples_split= 2, max_depth= 6, random_state= 0).fit(X_train, y_train)\n",
    "\n",
    "y_pred_train_best_dtc2 = dtc2.predict(X_train)\n",
    "y_pred_test_best_dtc2 = dtc2.predict(X_test)\n",
    "\n",
    "print_evaluation(\"DTC\", X_train, X_test, y_train, y_test, y_pred_train_best_dtc2, y_pred_test_best_dtc2)"
   ]
  },
  {
   "cell_type": "code",
   "execution_count": null,
   "metadata": {},
   "outputs": [
    {
     "name": "stdout",
     "output_type": "stream",
     "text": [
      "{'order_id': 6.701943163374691e-05, 'product_id': 0.0, 'add_to_cart_order': 6.541085648993934e-06, 'user_id': 0.0, 'order_number': 0.0, 'order_dow': 0.04376369120058702, 'order_hour_of_day': 0.018309682286576402, 'days_since_prior_order': 0.0, 'aisle_id': 0.0, 'department_id': 0.0, 'user_tip_ratio': 0.9378530659955538}\n"
     ]
    }
   ],
   "source": [
    "print(dict(zip(X.columns, dtc2.feature_importances_)))"
   ]
  },
  {
   "attachments": {},
   "cell_type": "markdown",
   "metadata": {},
   "source": [
    "- feature_importance von user_tip_ratio mit 0.9379 am höchsten\n",
    "- damit ist die Tip-Historie eines Users auschschlaggebend für die Tippwahrscheinlichkeit bei seiner aktuellen Bestellung "
   ]
  },
  {
   "attachments": {},
   "cell_type": "markdown",
   "metadata": {},
   "source": [
    "## 3. Zusätzliche Fragestellungen:"
   ]
  }
 ],
 "metadata": {
  "kernelspec": {
   "display_name": "Python 3",
   "language": "python",
   "name": "python3"
  },
  "language_info": {
   "codemirror_mode": {
    "name": "ipython",
    "version": 3
   },
   "file_extension": ".py",
   "mimetype": "text/x-python",
   "name": "python",
   "nbconvert_exporter": "python",
   "pygments_lexer": "ipython3",
   "version": "3.9.7"
  },
  "orig_nbformat": 4,
  "vscode": {
   "interpreter": {
    "hash": "aee8b7b246df8f9039afb4144a1f6fd8d2ca17a180786b69acc140d282b71a49"
   }
  }
 },
 "nbformat": 4,
 "nbformat_minor": 2
}
