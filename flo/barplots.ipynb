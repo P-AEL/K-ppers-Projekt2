{
 "cells": [
  {
   "cell_type": "code",
   "execution_count": 13,
   "metadata": {},
   "outputs": [],
   "source": [
    "import pandas as pd\n",
    "import plotly.graph_objects as go\n",
    "import plotly.express as px\n",
    "from plotly.subplots import make_subplots"
   ]
  },
  {
   "cell_type": "code",
   "execution_count": 2,
   "metadata": {},
   "outputs": [],
   "source": [
    "df = pd.read_parquet(\"DSCB310 - UE2 - Shopping Carts.parquet\")"
   ]
  },
  {
   "cell_type": "code",
   "execution_count": 3,
   "metadata": {},
   "outputs": [],
   "source": [
    "df = df.reset_index(drop=True)"
   ]
  },
  {
   "cell_type": "code",
   "execution_count": 8,
   "metadata": {},
   "outputs": [
    {
     "data": {
      "text/html": [
       "<div>\n",
       "<style scoped>\n",
       "    .dataframe tbody tr th:only-of-type {\n",
       "        vertical-align: middle;\n",
       "    }\n",
       "\n",
       "    .dataframe tbody tr th {\n",
       "        vertical-align: top;\n",
       "    }\n",
       "\n",
       "    .dataframe thead th {\n",
       "        text-align: right;\n",
       "    }\n",
       "</style>\n",
       "<table border=\"1\" class=\"dataframe\">\n",
       "  <thead>\n",
       "    <tr style=\"text-align: right;\">\n",
       "      <th></th>\n",
       "      <th>product_name</th>\n",
       "      <th>coun</th>\n",
       "    </tr>\n",
       "  </thead>\n",
       "  <tbody>\n",
       "    <tr>\n",
       "      <th>3369</th>\n",
       "      <td>Banana</td>\n",
       "      <td>89127</td>\n",
       "    </tr>\n",
       "    <tr>\n",
       "      <th>3177</th>\n",
       "      <td>Bag of Organic Bananas</td>\n",
       "      <td>70283</td>\n",
       "    </tr>\n",
       "    <tr>\n",
       "      <th>29385</th>\n",
       "      <td>Organic Strawberries</td>\n",
       "      <td>49961</td>\n",
       "    </tr>\n",
       "    <tr>\n",
       "      <th>26443</th>\n",
       "      <td>Organic Baby Spinach</td>\n",
       "      <td>45462</td>\n",
       "    </tr>\n",
       "    <tr>\n",
       "      <th>27836</th>\n",
       "      <td>Organic Hass Avocado</td>\n",
       "      <td>39290</td>\n",
       "    </tr>\n",
       "  </tbody>\n",
       "</table>\n",
       "</div>"
      ],
      "text/plain": [
       "                 product_name   coun\n",
       "3369                   Banana  89127\n",
       "3177   Bag of Organic Bananas  70283\n",
       "29385    Organic Strawberries  49961\n",
       "26443    Organic Baby Spinach  45462\n",
       "27836    Organic Hass Avocado  39290"
      ]
     },
     "execution_count": 8,
     "metadata": {},
     "output_type": "execute_result"
    }
   ],
   "source": [
    "df_products = df.groupby(\"product_name\").agg(coun = (\"product_name\",\"count\")).reset_index().sort_values(\"coun\",ascending=False)\n",
    "df_products.head()"
   ]
  },
  {
   "cell_type": "code",
   "execution_count": null,
   "metadata": {},
   "outputs": [],
   "source": []
  },
  {
   "cell_type": "code",
   "execution_count": 47,
   "metadata": {},
   "outputs": [
    {
     "data": {
      "application/vnd.plotly.v1+json": {
       "config": {
        "plotlyServerURL": "https://plot.ly"
       },
       "data": [
        {
         "base": 0,
         "hovertemplate": "<b>Banana</b><br><br>Bestellungen: %{y}<br><extra></extra>",
         "legendgroup": "['Banana']",
         "marker": {
          "color": "rgb(131, 75, 160)"
         },
         "name": "Banana",
         "showlegend": true,
         "type": "bar",
         "width": 0.8,
         "x": [
          "Banana"
         ],
         "y": [
          89127
         ]
        },
        {
         "base": 0,
         "hovertemplate": "<b>Bag of Organic Bananas</b><br><br>Bestellungen: %{y}<br><extra></extra>",
         "legendgroup": "['Bag of Organic Bananas']",
         "marker": {
          "color": "rgb(131, 75, 160)"
         },
         "name": "Bag of Organic Bananas",
         "showlegend": true,
         "type": "bar",
         "width": 0.8,
         "x": [
          "Bag of Organic Bananas"
         ],
         "y": [
          70283
         ]
        },
        {
         "base": 0,
         "hovertemplate": "<b>Organic Strawberries</b><br><br>Bestellungen: %{y}<br><extra></extra>",
         "legendgroup": "['Organic Strawberries']",
         "marker": {
          "color": "rgb(131, 75, 160)"
         },
         "name": "Organic Strawberries",
         "showlegend": true,
         "type": "bar",
         "width": 0.8,
         "x": [
          "Organic Strawberries"
         ],
         "y": [
          49961
         ]
        },
        {
         "base": 0,
         "hovertemplate": "<b>Organic Baby Spinach</b><br><br>Bestellungen: %{y}<br><extra></extra>",
         "legendgroup": "['Organic Baby Spinach']",
         "marker": {
          "color": "rgb(131, 75, 160)"
         },
         "name": "Organic Baby Spinach",
         "showlegend": true,
         "type": "bar",
         "width": 0.8,
         "x": [
          "Organic Baby Spinach"
         ],
         "y": [
          45462
         ]
        },
        {
         "base": 0,
         "hovertemplate": "<b>Organic Hass Avocado</b><br><br>Bestellungen: %{y}<br><extra></extra>",
         "legendgroup": "['Organic Hass Avocado']",
         "marker": {
          "color": "rgb(131, 75, 160)"
         },
         "name": "Organic Hass Avocado",
         "showlegend": true,
         "type": "bar",
         "width": 0.8,
         "x": [
          "Organic Hass Avocado"
         ],
         "y": [
          39290
         ]
        },
        {
         "base": 0,
         "hovertemplate": "<b>Organic Avocado</b><br><br>Bestellungen: %{y}<br><extra></extra>",
         "legendgroup": "['Organic Avocado']",
         "marker": {
          "color": "rgb(189,189,189)"
         },
         "name": "Organic Avocado",
         "showlegend": true,
         "type": "bar",
         "width": 0.8,
         "x": [
          "Organic Avocado"
         ],
         "y": [
          32896
         ]
        },
        {
         "base": 0,
         "hovertemplate": "<b>Large Lemon</b><br><br>Bestellungen: %{y}<br><extra></extra>",
         "legendgroup": "['Large Lemon']",
         "marker": {
          "color": "rgb(189,189,189)"
         },
         "name": "Large Lemon",
         "showlegend": true,
         "type": "bar",
         "width": 0.8,
         "x": [
          "Large Lemon"
         ],
         "y": [
          28495
         ]
        },
        {
         "base": 0,
         "hovertemplate": "<b>Strawberries</b><br><br>Bestellungen: %{y}<br><extra></extra>",
         "legendgroup": "['Strawberries']",
         "marker": {
          "color": "rgb(189,189,189)"
         },
         "name": "Strawberries",
         "showlegend": true,
         "type": "bar",
         "width": 0.8,
         "x": [
          "Strawberries"
         ],
         "y": [
          26849
         ]
        },
        {
         "base": 0,
         "hovertemplate": "<b>Limes</b><br><br>Bestellungen: %{y}<br><extra></extra>",
         "legendgroup": "['Limes']",
         "marker": {
          "color": "rgb(189,189,189)"
         },
         "name": "Limes",
         "showlegend": true,
         "type": "bar",
         "width": 0.8,
         "x": [
          "Limes"
         ],
         "y": [
          26443
         ]
        },
        {
         "base": 0,
         "hovertemplate": "<b>Organic Raspberries</b><br><br>Bestellungen: %{y}<br><extra></extra>",
         "legendgroup": "['Organic Raspberries']",
         "marker": {
          "color": "rgb(189,189,189)"
         },
         "name": "Organic Raspberries",
         "showlegend": true,
         "type": "bar",
         "width": 0.8,
         "x": [
          "Organic Raspberries"
         ],
         "y": [
          25589
         ]
        }
       ],
       "layout": {
        "annotations": [
         {
          "arrowcolor": "rgb(115,115,115)",
          "font": {
           "color": "rgb(115,115,115)"
          },
          "text": "Median: 36093.0",
          "x": 9,
          "y": 36093
         }
        ],
        "height": 500,
        "legend": {
         "title": {
          "text": "<b>Produkte</b>"
         }
        },
        "plot_bgcolor": "white",
        "shapes": [
         {
          "line": {
           "color": "rgb(115,115,115)",
           "dash": "dot"
          },
          "opacity": 1,
          "type": "line",
          "x0": 0,
          "x1": 1,
          "xref": "x domain",
          "y0": 36093,
          "y1": 36093,
          "yref": "y"
         }
        ],
        "template": {
         "data": {
          "bar": [
           {
            "error_x": {
             "color": "#2a3f5f"
            },
            "error_y": {
             "color": "#2a3f5f"
            },
            "marker": {
             "line": {
              "color": "#E5ECF6",
              "width": 0.5
             },
             "pattern": {
              "fillmode": "overlay",
              "size": 10,
              "solidity": 0.2
             }
            },
            "type": "bar"
           }
          ],
          "barpolar": [
           {
            "marker": {
             "line": {
              "color": "#E5ECF6",
              "width": 0.5
             },
             "pattern": {
              "fillmode": "overlay",
              "size": 10,
              "solidity": 0.2
             }
            },
            "type": "barpolar"
           }
          ],
          "carpet": [
           {
            "aaxis": {
             "endlinecolor": "#2a3f5f",
             "gridcolor": "white",
             "linecolor": "white",
             "minorgridcolor": "white",
             "startlinecolor": "#2a3f5f"
            },
            "baxis": {
             "endlinecolor": "#2a3f5f",
             "gridcolor": "white",
             "linecolor": "white",
             "minorgridcolor": "white",
             "startlinecolor": "#2a3f5f"
            },
            "type": "carpet"
           }
          ],
          "choropleth": [
           {
            "colorbar": {
             "outlinewidth": 0,
             "ticks": ""
            },
            "type": "choropleth"
           }
          ],
          "contour": [
           {
            "colorbar": {
             "outlinewidth": 0,
             "ticks": ""
            },
            "colorscale": [
             [
              0,
              "#0d0887"
             ],
             [
              0.1111111111111111,
              "#46039f"
             ],
             [
              0.2222222222222222,
              "#7201a8"
             ],
             [
              0.3333333333333333,
              "#9c179e"
             ],
             [
              0.4444444444444444,
              "#bd3786"
             ],
             [
              0.5555555555555556,
              "#d8576b"
             ],
             [
              0.6666666666666666,
              "#ed7953"
             ],
             [
              0.7777777777777778,
              "#fb9f3a"
             ],
             [
              0.8888888888888888,
              "#fdca26"
             ],
             [
              1,
              "#f0f921"
             ]
            ],
            "type": "contour"
           }
          ],
          "contourcarpet": [
           {
            "colorbar": {
             "outlinewidth": 0,
             "ticks": ""
            },
            "type": "contourcarpet"
           }
          ],
          "heatmap": [
           {
            "colorbar": {
             "outlinewidth": 0,
             "ticks": ""
            },
            "colorscale": [
             [
              0,
              "#0d0887"
             ],
             [
              0.1111111111111111,
              "#46039f"
             ],
             [
              0.2222222222222222,
              "#7201a8"
             ],
             [
              0.3333333333333333,
              "#9c179e"
             ],
             [
              0.4444444444444444,
              "#bd3786"
             ],
             [
              0.5555555555555556,
              "#d8576b"
             ],
             [
              0.6666666666666666,
              "#ed7953"
             ],
             [
              0.7777777777777778,
              "#fb9f3a"
             ],
             [
              0.8888888888888888,
              "#fdca26"
             ],
             [
              1,
              "#f0f921"
             ]
            ],
            "type": "heatmap"
           }
          ],
          "heatmapgl": [
           {
            "colorbar": {
             "outlinewidth": 0,
             "ticks": ""
            },
            "colorscale": [
             [
              0,
              "#0d0887"
             ],
             [
              0.1111111111111111,
              "#46039f"
             ],
             [
              0.2222222222222222,
              "#7201a8"
             ],
             [
              0.3333333333333333,
              "#9c179e"
             ],
             [
              0.4444444444444444,
              "#bd3786"
             ],
             [
              0.5555555555555556,
              "#d8576b"
             ],
             [
              0.6666666666666666,
              "#ed7953"
             ],
             [
              0.7777777777777778,
              "#fb9f3a"
             ],
             [
              0.8888888888888888,
              "#fdca26"
             ],
             [
              1,
              "#f0f921"
             ]
            ],
            "type": "heatmapgl"
           }
          ],
          "histogram": [
           {
            "marker": {
             "pattern": {
              "fillmode": "overlay",
              "size": 10,
              "solidity": 0.2
             }
            },
            "type": "histogram"
           }
          ],
          "histogram2d": [
           {
            "colorbar": {
             "outlinewidth": 0,
             "ticks": ""
            },
            "colorscale": [
             [
              0,
              "#0d0887"
             ],
             [
              0.1111111111111111,
              "#46039f"
             ],
             [
              0.2222222222222222,
              "#7201a8"
             ],
             [
              0.3333333333333333,
              "#9c179e"
             ],
             [
              0.4444444444444444,
              "#bd3786"
             ],
             [
              0.5555555555555556,
              "#d8576b"
             ],
             [
              0.6666666666666666,
              "#ed7953"
             ],
             [
              0.7777777777777778,
              "#fb9f3a"
             ],
             [
              0.8888888888888888,
              "#fdca26"
             ],
             [
              1,
              "#f0f921"
             ]
            ],
            "type": "histogram2d"
           }
          ],
          "histogram2dcontour": [
           {
            "colorbar": {
             "outlinewidth": 0,
             "ticks": ""
            },
            "colorscale": [
             [
              0,
              "#0d0887"
             ],
             [
              0.1111111111111111,
              "#46039f"
             ],
             [
              0.2222222222222222,
              "#7201a8"
             ],
             [
              0.3333333333333333,
              "#9c179e"
             ],
             [
              0.4444444444444444,
              "#bd3786"
             ],
             [
              0.5555555555555556,
              "#d8576b"
             ],
             [
              0.6666666666666666,
              "#ed7953"
             ],
             [
              0.7777777777777778,
              "#fb9f3a"
             ],
             [
              0.8888888888888888,
              "#fdca26"
             ],
             [
              1,
              "#f0f921"
             ]
            ],
            "type": "histogram2dcontour"
           }
          ],
          "mesh3d": [
           {
            "colorbar": {
             "outlinewidth": 0,
             "ticks": ""
            },
            "type": "mesh3d"
           }
          ],
          "parcoords": [
           {
            "line": {
             "colorbar": {
              "outlinewidth": 0,
              "ticks": ""
             }
            },
            "type": "parcoords"
           }
          ],
          "pie": [
           {
            "automargin": true,
            "type": "pie"
           }
          ],
          "scatter": [
           {
            "fillpattern": {
             "fillmode": "overlay",
             "size": 10,
             "solidity": 0.2
            },
            "type": "scatter"
           }
          ],
          "scatter3d": [
           {
            "line": {
             "colorbar": {
              "outlinewidth": 0,
              "ticks": ""
             }
            },
            "marker": {
             "colorbar": {
              "outlinewidth": 0,
              "ticks": ""
             }
            },
            "type": "scatter3d"
           }
          ],
          "scattercarpet": [
           {
            "marker": {
             "colorbar": {
              "outlinewidth": 0,
              "ticks": ""
             }
            },
            "type": "scattercarpet"
           }
          ],
          "scattergeo": [
           {
            "marker": {
             "colorbar": {
              "outlinewidth": 0,
              "ticks": ""
             }
            },
            "type": "scattergeo"
           }
          ],
          "scattergl": [
           {
            "marker": {
             "colorbar": {
              "outlinewidth": 0,
              "ticks": ""
             }
            },
            "type": "scattergl"
           }
          ],
          "scattermapbox": [
           {
            "marker": {
             "colorbar": {
              "outlinewidth": 0,
              "ticks": ""
             }
            },
            "type": "scattermapbox"
           }
          ],
          "scatterpolar": [
           {
            "marker": {
             "colorbar": {
              "outlinewidth": 0,
              "ticks": ""
             }
            },
            "type": "scatterpolar"
           }
          ],
          "scatterpolargl": [
           {
            "marker": {
             "colorbar": {
              "outlinewidth": 0,
              "ticks": ""
             }
            },
            "type": "scatterpolargl"
           }
          ],
          "scatterternary": [
           {
            "marker": {
             "colorbar": {
              "outlinewidth": 0,
              "ticks": ""
             }
            },
            "type": "scatterternary"
           }
          ],
          "surface": [
           {
            "colorbar": {
             "outlinewidth": 0,
             "ticks": ""
            },
            "colorscale": [
             [
              0,
              "#0d0887"
             ],
             [
              0.1111111111111111,
              "#46039f"
             ],
             [
              0.2222222222222222,
              "#7201a8"
             ],
             [
              0.3333333333333333,
              "#9c179e"
             ],
             [
              0.4444444444444444,
              "#bd3786"
             ],
             [
              0.5555555555555556,
              "#d8576b"
             ],
             [
              0.6666666666666666,
              "#ed7953"
             ],
             [
              0.7777777777777778,
              "#fb9f3a"
             ],
             [
              0.8888888888888888,
              "#fdca26"
             ],
             [
              1,
              "#f0f921"
             ]
            ],
            "type": "surface"
           }
          ],
          "table": [
           {
            "cells": {
             "fill": {
              "color": "#EBF0F8"
             },
             "line": {
              "color": "white"
             }
            },
            "header": {
             "fill": {
              "color": "#C8D4E3"
             },
             "line": {
              "color": "white"
             }
            },
            "type": "table"
           }
          ]
         },
         "layout": {
          "annotationdefaults": {
           "arrowcolor": "#2a3f5f",
           "arrowhead": 0,
           "arrowwidth": 1
          },
          "autotypenumbers": "strict",
          "coloraxis": {
           "colorbar": {
            "outlinewidth": 0,
            "ticks": ""
           }
          },
          "colorscale": {
           "diverging": [
            [
             0,
             "#8e0152"
            ],
            [
             0.1,
             "#c51b7d"
            ],
            [
             0.2,
             "#de77ae"
            ],
            [
             0.3,
             "#f1b6da"
            ],
            [
             0.4,
             "#fde0ef"
            ],
            [
             0.5,
             "#f7f7f7"
            ],
            [
             0.6,
             "#e6f5d0"
            ],
            [
             0.7,
             "#b8e186"
            ],
            [
             0.8,
             "#7fbc41"
            ],
            [
             0.9,
             "#4d9221"
            ],
            [
             1,
             "#276419"
            ]
           ],
           "sequential": [
            [
             0,
             "#0d0887"
            ],
            [
             0.1111111111111111,
             "#46039f"
            ],
            [
             0.2222222222222222,
             "#7201a8"
            ],
            [
             0.3333333333333333,
             "#9c179e"
            ],
            [
             0.4444444444444444,
             "#bd3786"
            ],
            [
             0.5555555555555556,
             "#d8576b"
            ],
            [
             0.6666666666666666,
             "#ed7953"
            ],
            [
             0.7777777777777778,
             "#fb9f3a"
            ],
            [
             0.8888888888888888,
             "#fdca26"
            ],
            [
             1,
             "#f0f921"
            ]
           ],
           "sequentialminus": [
            [
             0,
             "#0d0887"
            ],
            [
             0.1111111111111111,
             "#46039f"
            ],
            [
             0.2222222222222222,
             "#7201a8"
            ],
            [
             0.3333333333333333,
             "#9c179e"
            ],
            [
             0.4444444444444444,
             "#bd3786"
            ],
            [
             0.5555555555555556,
             "#d8576b"
            ],
            [
             0.6666666666666666,
             "#ed7953"
            ],
            [
             0.7777777777777778,
             "#fb9f3a"
            ],
            [
             0.8888888888888888,
             "#fdca26"
            ],
            [
             1,
             "#f0f921"
            ]
           ]
          },
          "colorway": [
           "#636efa",
           "#EF553B",
           "#00cc96",
           "#ab63fa",
           "#FFA15A",
           "#19d3f3",
           "#FF6692",
           "#B6E880",
           "#FF97FF",
           "#FECB52"
          ],
          "font": {
           "color": "#2a3f5f"
          },
          "geo": {
           "bgcolor": "white",
           "lakecolor": "white",
           "landcolor": "#E5ECF6",
           "showlakes": true,
           "showland": true,
           "subunitcolor": "white"
          },
          "hoverlabel": {
           "align": "left"
          },
          "hovermode": "closest",
          "mapbox": {
           "style": "light"
          },
          "paper_bgcolor": "white",
          "plot_bgcolor": "#E5ECF6",
          "polar": {
           "angularaxis": {
            "gridcolor": "white",
            "linecolor": "white",
            "ticks": ""
           },
           "bgcolor": "#E5ECF6",
           "radialaxis": {
            "gridcolor": "white",
            "linecolor": "white",
            "ticks": ""
           }
          },
          "scene": {
           "xaxis": {
            "backgroundcolor": "#E5ECF6",
            "gridcolor": "white",
            "gridwidth": 2,
            "linecolor": "white",
            "showbackground": true,
            "ticks": "",
            "zerolinecolor": "white"
           },
           "yaxis": {
            "backgroundcolor": "#E5ECF6",
            "gridcolor": "white",
            "gridwidth": 2,
            "linecolor": "white",
            "showbackground": true,
            "ticks": "",
            "zerolinecolor": "white"
           },
           "zaxis": {
            "backgroundcolor": "#E5ECF6",
            "gridcolor": "white",
            "gridwidth": 2,
            "linecolor": "white",
            "showbackground": true,
            "ticks": "",
            "zerolinecolor": "white"
           }
          },
          "shapedefaults": {
           "line": {
            "color": "#2a3f5f"
           }
          },
          "ternary": {
           "aaxis": {
            "gridcolor": "white",
            "linecolor": "white",
            "ticks": ""
           },
           "baxis": {
            "gridcolor": "white",
            "linecolor": "white",
            "ticks": ""
           },
           "bgcolor": "#E5ECF6",
           "caxis": {
            "gridcolor": "white",
            "linecolor": "white",
            "ticks": ""
           }
          },
          "title": {
           "x": 0.05
          },
          "xaxis": {
           "automargin": true,
           "gridcolor": "white",
           "linecolor": "white",
           "ticks": "",
           "title": {
            "standoff": 15
           },
           "zerolinecolor": "white",
           "zerolinewidth": 2
          },
          "yaxis": {
           "automargin": true,
           "gridcolor": "white",
           "linecolor": "white",
           "ticks": "",
           "title": {
            "standoff": 15
           },
           "zerolinecolor": "white",
           "zerolinewidth": 2
          }
         }
        },
        "title": {
         "font": {
          "size": 20
         },
         "text": "<b>Top 10 Produkte nach Verkaufszahlen</b>",
         "x": 0.475,
         "xanchor": "center",
         "y": 0.935,
         "yanchor": "top"
        },
        "xaxis": {
         "linecolor": "black",
         "ticks": "outside",
         "title": {
          "text": "<b>Produtke</b>"
         }
        },
        "yaxis": {
         "gridcolor": "grey",
         "linecolor": "black",
         "showgrid": true,
         "ticks": "outside",
         "title": {
          "text": "<b>Anzahl an Bestellungen</b>"
         }
        }
       }
      }
     },
     "metadata": {},
     "output_type": "display_data"
    }
   ],
   "source": [
    "fig = go.Figure()\n",
    "for i in df_products.head(10).coun:\n",
    "    df_an = df_products.head(10)[df_products.head(10).coun == i]\n",
    "\n",
    "    if df_an.head().coun.values[0] > df_products.head(10).coun.median():\n",
    "        color = px.colors.sequential.Purpor[5]\n",
    "\n",
    "        fig.add_trace (go.Bar(\n",
    "            x= df_an.product_name,\n",
    "            y= df_an.coun,\n",
    "            showlegend= True,\n",
    "            marker= dict(color= color),\n",
    "            width= 0.8,\n",
    "            base= 0,\n",
    "            legendgroup= f\"{df_an.product_name.values}\",\n",
    "            name= f\"{df_an.product_name.values[0]}\",\n",
    "            hovertemplate = f\"<b>{df_an.product_name.values[0]}</b><br><br>\" +\n",
    "                \"Bestellungen: %{y}<br>\" +\n",
    "                \"<extra></extra>\"\n",
    "        ))\n",
    "        \n",
    "    else:\n",
    "        color= px.colors.sequential.Greys[3]\n",
    "\n",
    "        fig.add_trace (go.Bar(\n",
    "            x= df_an.product_name,\n",
    "            y= df_an.coun,\n",
    "            showlegend= True,\n",
    "            marker= dict(color= color),\n",
    "            width= 0.8,\n",
    "            base= 0,\n",
    "            legendgroup= f\"{df_an.product_name.values}\",\n",
    "            name= f\"{df_an.product_name.values[0]}\",\n",
    "            hovertemplate = f\"<b>{df_an.product_name.values[0]}</b><br><br>\" +\n",
    "                \"Bestellungen: %{y}<br>\" +\n",
    "                \"<extra></extra>\"\n",
    "        ))\n",
    "\n",
    "fig.add_hline(\n",
    " y= df_products.head(10).coun.median(),\n",
    " opacity= 1,\n",
    " line_dash= \"dot\",\n",
    " line_color= px.colors.sequential.Greys[5],\n",
    " \n",
    ")\n",
    "fig.add_annotation(\n",
    "    x=9,\n",
    "    y=df_products.head(10).coun.median(),\n",
    "    text=f\"Median: {df_products.head(10).coun.median().round(2)}\",\n",
    "    font_color= px.colors.sequential.Greys[5],\n",
    "    arrowcolor= px.colors.sequential.Greys[5],\n",
    "\n",
    ")\n",
    "fig.update_layout(title= dict(text= \"<b>Top 10 Produkte nach Verkaufszahlen</b>\", font_size= 20, xanchor= \"center\", yanchor= \"top\", y=0.935, x=0.475), legend_title_text = \"<b>Produkte</b>\", height= 500)\n",
    "fig.update_xaxes(title_text=\"<b>Produtke</b>\", ticks= \"outside\")\n",
    "fig.update_yaxes(title_text=\"<b>Anzahl an Bestellungen</b>\", ticks= \"outside\", showgrid= True, gridcolor= \"grey\")\n",
    "fig.update_layout(plot_bgcolor= \"white\", xaxis= dict(linecolor= \"black\"), yaxis= dict(linecolor= \"black\"))\n",
    "fig.show()"
   ]
  },
  {
   "cell_type": "code",
   "execution_count": 64,
   "metadata": {},
   "outputs": [],
   "source": [
    "df_regional = df.groupby(\"county\").agg(orders = (\"order_id\",\"nunique\")).reset_index()\n",
    "df_regional = df_regional.sort_values(\"orders\",ascending=False)"
   ]
  },
  {
   "cell_type": "code",
   "execution_count": 65,
   "metadata": {},
   "outputs": [
    {
     "data": {
      "text/html": [
       "<div>\n",
       "<style scoped>\n",
       "    .dataframe tbody tr th:only-of-type {\n",
       "        vertical-align: middle;\n",
       "    }\n",
       "\n",
       "    .dataframe tbody tr th {\n",
       "        vertical-align: top;\n",
       "    }\n",
       "\n",
       "    .dataframe thead th {\n",
       "        text-align: right;\n",
       "    }\n",
       "</style>\n",
       "<table border=\"1\" class=\"dataframe\">\n",
       "  <thead>\n",
       "    <tr style=\"text-align: right;\">\n",
       "      <th></th>\n",
       "      <th>county</th>\n",
       "      <th>orders</th>\n",
       "    </tr>\n",
       "  </thead>\n",
       "  <tbody>\n",
       "    <tr>\n",
       "      <th>3</th>\n",
       "      <td>Calaveras</td>\n",
       "      <td>43559</td>\n",
       "    </tr>\n",
       "    <tr>\n",
       "      <th>9</th>\n",
       "      <td>Glenn</td>\n",
       "      <td>35541</td>\n",
       "    </tr>\n",
       "    <tr>\n",
       "      <th>28</th>\n",
       "      <td>Orange</td>\n",
       "      <td>34496</td>\n",
       "    </tr>\n",
       "    <tr>\n",
       "      <th>8</th>\n",
       "      <td>Fresno</td>\n",
       "      <td>32685</td>\n",
       "    </tr>\n",
       "    <tr>\n",
       "      <th>13</th>\n",
       "      <td>Kern</td>\n",
       "      <td>31601</td>\n",
       "    </tr>\n",
       "  </tbody>\n",
       "</table>\n",
       "</div>"
      ],
      "text/plain": [
       "       county  orders\n",
       "3   Calaveras   43559\n",
       "9       Glenn   35541\n",
       "28     Orange   34496\n",
       "8      Fresno   32685\n",
       "13       Kern   31601"
      ]
     },
     "execution_count": 65,
     "metadata": {},
     "output_type": "execute_result"
    }
   ],
   "source": [
    "df_regional.head()"
   ]
  },
  {
   "cell_type": "code",
   "execution_count": 80,
   "metadata": {},
   "outputs": [
    {
     "data": {
      "application/vnd.plotly.v1+json": {
       "config": {
        "plotlyServerURL": "https://plot.ly"
       },
       "data": [
        {
         "hovertemplate": "<b>Calaveras</b><br><br>Bestellungen: %{y}<br><extra></extra>",
         "marker": {
          "color": "rgb(131, 75, 160)"
         },
         "name": "3    Calaveras\nName: county, dtype: object",
         "showlegend": false,
         "type": "bar",
         "width": 0.8,
         "x": [
          "Calaveras"
         ],
         "y": [
          43559
         ]
        },
        {
         "hovertemplate": "<b>Glenn</b><br><br>Bestellungen: %{y}<br><extra></extra>",
         "marker": {
          "color": "rgb(131, 75, 160)"
         },
         "name": "9    Glenn\nName: county, dtype: object",
         "showlegend": false,
         "type": "bar",
         "width": 0.8,
         "x": [
          "Glenn"
         ],
         "y": [
          35541
         ]
        },
        {
         "hovertemplate": "<b>Orange</b><br><br>Bestellungen: %{y}<br><extra></extra>",
         "marker": {
          "color": "rgb(131, 75, 160)"
         },
         "name": "28    Orange\nName: county, dtype: object",
         "showlegend": false,
         "type": "bar",
         "width": 0.8,
         "x": [
          "Orange"
         ],
         "y": [
          34496
         ]
        },
        {
         "hovertemplate": "<b>Fresno</b><br><br>Bestellungen: %{y}<br><extra></extra>",
         "marker": {
          "color": "rgb(131, 75, 160)"
         },
         "name": "8    Fresno\nName: county, dtype: object",
         "showlegend": false,
         "type": "bar",
         "width": 0.8,
         "x": [
          "Fresno"
         ],
         "y": [
          32685
         ]
        },
        {
         "hovertemplate": "<b>Kern</b><br><br>Bestellungen: %{y}<br><extra></extra>",
         "marker": {
          "color": "rgb(131, 75, 160)"
         },
         "name": "13    Kern\nName: county, dtype: object",
         "showlegend": false,
         "type": "bar",
         "width": 0.8,
         "x": [
          "Kern"
         ],
         "y": [
          31601
         ]
        },
        {
         "hovertemplate": "<b>Sutter</b><br><br>Bestellungen: %{y}<br><extra></extra>",
         "marker": {
          "color": "rgb(131, 75, 160)"
         },
         "name": "49    Sutter\nName: county, dtype: object",
         "showlegend": false,
         "type": "bar",
         "width": 0.8,
         "x": [
          "Sutter"
         ],
         "y": [
          25420
         ]
        },
        {
         "hovertemplate": "<b>Ventura</b><br><br>Bestellungen: %{y}<br><extra></extra>",
         "marker": {
          "color": "rgb(131, 75, 160)"
         },
         "name": "54    Ventura\nName: county, dtype: object",
         "showlegend": false,
         "type": "bar",
         "width": 0.8,
         "x": [
          "Ventura"
         ],
         "y": [
          24684
         ]
        },
        {
         "hovertemplate": "<b>Monterey</b><br><br>Bestellungen: %{y}<br><extra></extra>",
         "marker": {
          "color": "rgb(131, 75, 160)"
         },
         "name": "25    Monterey\nName: county, dtype: object",
         "showlegend": false,
         "type": "bar",
         "width": 0.8,
         "x": [
          "Monterey"
         ],
         "y": [
          24142
         ]
        },
        {
         "hovertemplate": "<b>Mariposa</b><br><br>Bestellungen: %{y}<br><extra></extra>",
         "marker": {
          "color": "rgb(131, 75, 160)"
         },
         "name": "20    Mariposa\nName: county, dtype: object",
         "showlegend": false,
         "type": "bar",
         "width": 0.8,
         "x": [
          "Mariposa"
         ],
         "y": [
          23234
         ]
        },
        {
         "hovertemplate": "<b>Santa Cruz</b><br><br>Bestellungen: %{y}<br><extra></extra>",
         "marker": {
          "color": "rgb(131, 75, 160)"
         },
         "name": "42    Santa Cruz\nName: county, dtype: object",
         "showlegend": false,
         "type": "bar",
         "width": 0.8,
         "x": [
          "Santa Cruz"
         ],
         "y": [
          19340
         ]
        },
        {
         "hovertemplate": "<b>Lake</b><br><br>Bestellungen: %{y}<br><extra></extra>",
         "marker": {
          "color": "rgb(131, 75, 160)"
         },
         "name": "15    Lake\nName: county, dtype: object",
         "showlegend": false,
         "type": "bar",
         "width": 0.8,
         "x": [
          "Lake"
         ],
         "y": [
          19302
         ]
        },
        {
         "hovertemplate": "<b>Yuba</b><br><br>Bestellungen: %{y}<br><extra></extra>",
         "marker": {
          "color": "rgb(131, 75, 160)"
         },
         "name": "56    Yuba\nName: county, dtype: object",
         "showlegend": false,
         "type": "bar",
         "width": 0.8,
         "x": [
          "Yuba"
         ],
         "y": [
          18050
         ]
        },
        {
         "hovertemplate": "<b>Amador</b><br><br>Bestellungen: %{y}<br><extra></extra>",
         "marker": {
          "color": "rgb(131, 75, 160)"
         },
         "name": "2    Amador\nName: county, dtype: object",
         "showlegend": false,
         "type": "bar",
         "width": 0.8,
         "x": [
          "Amador"
         ],
         "y": [
          17681
         ]
        },
        {
         "hovertemplate": "<b>Imperial</b><br><br>Bestellungen: %{y}<br><extra></extra>",
         "marker": {
          "color": "rgb(131, 75, 160)"
         },
         "name": "11    Imperial\nName: county, dtype: object",
         "showlegend": false,
         "type": "bar",
         "width": 0.8,
         "x": [
          "Imperial"
         ],
         "y": [
          16609
         ]
        },
        {
         "hovertemplate": "<b>Santa Barbara</b><br><br>Bestellungen: %{y}<br><extra></extra>",
         "marker": {
          "color": "rgb(131, 75, 160)"
         },
         "name": "40    Santa Barbara\nName: county, dtype: object",
         "showlegend": false,
         "type": "bar",
         "width": 0.8,
         "x": [
          "Santa Barbara"
         ],
         "y": [
          13977
         ]
        },
        {
         "hovertemplate": "<b>Madera</b><br><br>Bestellungen: %{y}<br><extra></extra>",
         "marker": {
          "color": "rgb(131, 75, 160)"
         },
         "name": "18    Madera\nName: county, dtype: object",
         "showlegend": false,
         "type": "bar",
         "width": 0.8,
         "x": [
          "Madera"
         ],
         "y": [
          13790
         ]
        },
        {
         "hovertemplate": "<b>Sacramento</b><br><br>Bestellungen: %{y}<br><extra></extra>",
         "marker": {
          "color": "rgb(131, 75, 160)"
         },
         "name": "32    Sacramento\nName: county, dtype: object",
         "showlegend": false,
         "type": "bar",
         "width": 0.8,
         "x": [
          "Sacramento"
         ],
         "y": [
          13589
         ]
        },
        {
         "hovertemplate": "<b>San Francisco</b><br><br>Bestellungen: %{y}<br><extra></extra>",
         "marker": {
          "color": "rgb(131, 75, 160)"
         },
         "name": "36    San Francisco\nName: county, dtype: object",
         "showlegend": false,
         "type": "bar",
         "width": 0.8,
         "x": [
          "San Francisco"
         ],
         "y": [
          12850
         ]
        },
        {
         "hovertemplate": "<b>Los Angeles</b><br><br>Bestellungen: %{y}<br><extra></extra>",
         "marker": {
          "color": "rgb(131, 75, 160)"
         },
         "name": "17    Los Angeles\nName: county, dtype: object",
         "showlegend": false,
         "type": "bar",
         "width": 0.8,
         "x": [
          "Los Angeles"
         ],
         "y": [
          12311
         ]
        },
        {
         "hovertemplate": "<b>Merced</b><br><br>Bestellungen: %{y}<br><extra></extra>",
         "marker": {
          "color": "rgb(131, 75, 160)"
         },
         "name": "22    Merced\nName: county, dtype: object",
         "showlegend": false,
         "type": "bar",
         "width": 0.8,
         "x": [
          "Merced"
         ],
         "y": [
          12028
         ]
        },
        {
         "hovertemplate": "<b>Alpine</b><br><br>Bestellungen: %{y}<br><extra></extra>",
         "marker": {
          "color": "rgb(189,189,189)"
         },
         "name": "1    Alpine\nName: county, dtype: object",
         "showlegend": false,
         "type": "bar",
         "width": 0.8,
         "x": [
          "Alpine"
         ],
         "y": [
          9971
         ]
        },
        {
         "hovertemplate": "<b>Santa Clara</b><br><br>Bestellungen: %{y}<br><extra></extra>",
         "marker": {
          "color": "rgb(189,189,189)"
         },
         "name": "41    Santa Clara\nName: county, dtype: object",
         "showlegend": false,
         "type": "bar",
         "width": 0.8,
         "x": [
          "Santa Clara"
         ],
         "y": [
          9611
         ]
        },
        {
         "hovertemplate": "<b>Modoc</b><br><br>Bestellungen: %{y}<br><extra></extra>",
         "marker": {
          "color": "rgb(189,189,189)"
         },
         "name": "23    Modoc\nName: county, dtype: object",
         "showlegend": false,
         "type": "bar",
         "width": 0.8,
         "x": [
          "Modoc"
         ],
         "y": [
          9467
         ]
        },
        {
         "hovertemplate": "<b>Mendocino</b><br><br>Bestellungen: %{y}<br><extra></extra>",
         "marker": {
          "color": "rgb(189,189,189)"
         },
         "name": "21    Mendocino\nName: county, dtype: object",
         "showlegend": false,
         "type": "bar",
         "width": 0.8,
         "x": [
          "Mendocino"
         ],
         "y": [
          8990
         ]
        },
        {
         "hovertemplate": "<b>Marin</b><br><br>Bestellungen: %{y}<br><extra></extra>",
         "marker": {
          "color": "rgb(189,189,189)"
         },
         "name": "19    Marin\nName: county, dtype: object",
         "showlegend": false,
         "type": "bar",
         "width": 0.8,
         "x": [
          "Marin"
         ],
         "y": [
          8580
         ]
        },
        {
         "hovertemplate": "<b>San Mateo</b><br><br>Bestellungen: %{y}<br><extra></extra>",
         "marker": {
          "color": "rgb(189,189,189)"
         },
         "name": "39    San Mateo\nName: county, dtype: object",
         "showlegend": false,
         "type": "bar",
         "width": 0.8,
         "x": [
          "San Mateo"
         ],
         "y": [
          7927
         ]
        },
        {
         "hovertemplate": "<b>Yolo</b><br><br>Bestellungen: %{y}<br><extra></extra>",
         "marker": {
          "color": "rgb(189,189,189)"
         },
         "name": "55    Yolo\nName: county, dtype: object",
         "showlegend": false,
         "type": "bar",
         "width": 0.8,
         "x": [
          "Yolo"
         ],
         "y": [
          7703
         ]
        },
        {
         "hovertemplate": "<b>Contra Costa</b><br><br>Bestellungen: %{y}<br><extra></extra>",
         "marker": {
          "color": "rgb(189,189,189)"
         },
         "name": "5    Contra Costa\nName: county, dtype: object",
         "showlegend": false,
         "type": "bar",
         "width": 0.8,
         "x": [
          "Contra Costa"
         ],
         "y": [
          7665
         ]
        },
        {
         "hovertemplate": "<b>Inyo</b><br><br>Bestellungen: %{y}<br><extra></extra>",
         "marker": {
          "color": "rgb(189,189,189)"
         },
         "name": "12    Inyo\nName: county, dtype: object",
         "showlegend": false,
         "type": "bar",
         "width": 0.8,
         "x": [
          "Inyo"
         ],
         "y": [
          7548
         ]
        },
        {
         "hovertemplate": "<b>San Benito</b><br><br>Bestellungen: %{y}<br><extra></extra>",
         "marker": {
          "color": "rgb(189,189,189)"
         },
         "name": "33    San Benito\nName: county, dtype: object",
         "showlegend": false,
         "type": "bar",
         "width": 0.8,
         "x": [
          "San Benito"
         ],
         "y": [
          7311
         ]
        },
        {
         "hovertemplate": "<b>Siskiyou</b><br><br>Bestellungen: %{y}<br><extra></extra>",
         "marker": {
          "color": "rgb(189,189,189)"
         },
         "name": "45    Siskiyou\nName: county, dtype: object",
         "showlegend": false,
         "type": "bar",
         "width": 0.8,
         "x": [
          "Siskiyou"
         ],
         "y": [
          7193
         ]
        },
        {
         "hovertemplate": "<b>Nevada</b><br><br>Bestellungen: %{y}<br><extra></extra>",
         "marker": {
          "color": "rgb(189,189,189)"
         },
         "name": "27    Nevada\nName: county, dtype: object",
         "showlegend": false,
         "type": "bar",
         "width": 0.8,
         "x": [
          "Nevada"
         ],
         "y": [
          6437
         ]
        },
        {
         "hovertemplate": "<b>Plumas</b><br><br>Bestellungen: %{y}<br><extra></extra>",
         "marker": {
          "color": "rgb(189,189,189)"
         },
         "name": "30    Plumas\nName: county, dtype: object",
         "showlegend": false,
         "type": "bar",
         "width": 0.8,
         "x": [
          "Plumas"
         ],
         "y": [
          6015
         ]
        },
        {
         "hovertemplate": "<b>Colusa</b><br><br>Bestellungen: %{y}<br><extra></extra>",
         "marker": {
          "color": "rgb(189,189,189)"
         },
         "name": "4    Colusa\nName: county, dtype: object",
         "showlegend": false,
         "type": "bar",
         "width": 0.8,
         "x": [
          "Colusa"
         ],
         "y": [
          5358
         ]
        },
        {
         "hovertemplate": "<b>Alameda</b><br><br>Bestellungen: %{y}<br><extra></extra>",
         "marker": {
          "color": "rgb(189,189,189)"
         },
         "name": "0    Alameda\nName: county, dtype: object",
         "showlegend": false,
         "type": "bar",
         "width": 0.8,
         "x": [
          "Alameda"
         ],
         "y": [
          3976
         ]
        },
        {
         "hovertemplate": "<b>Riverside</b><br><br>Bestellungen: %{y}<br><extra></extra>",
         "marker": {
          "color": "rgb(189,189,189)"
         },
         "name": "31    Riverside\nName: county, dtype: object",
         "showlegend": false,
         "type": "bar",
         "width": 0.8,
         "x": [
          "Riverside"
         ],
         "y": [
          3924
         ]
        },
        {
         "hovertemplate": "<b>Shasta</b><br><br>Bestellungen: %{y}<br><extra></extra>",
         "marker": {
          "color": "rgb(189,189,189)"
         },
         "name": "43    Shasta\nName: county, dtype: object",
         "showlegend": false,
         "type": "bar",
         "width": 0.8,
         "x": [
          "Shasta"
         ],
         "y": [
          3728
         ]
        },
        {
         "hovertemplate": "<b>San Luis Obispo</b><br><br>Bestellungen: %{y}<br><extra></extra>",
         "marker": {
          "color": "rgb(189,189,189)"
         },
         "name": "38    San Luis Obispo\nName: county, dtype: object",
         "showlegend": false,
         "type": "bar",
         "width": 0.8,
         "x": [
          "San Luis Obispo"
         ],
         "y": [
          3699
         ]
        },
        {
         "hovertemplate": "<b>Stanislaus</b><br><br>Bestellungen: %{y}<br><extra></extra>",
         "marker": {
          "color": "rgb(189,189,189)"
         },
         "name": "48    Stanislaus\nName: county, dtype: object",
         "showlegend": false,
         "type": "bar",
         "width": 0.8,
         "x": [
          "Stanislaus"
         ],
         "y": [
          3457
         ]
        },
        {
         "hovertemplate": "<b>Sierra</b><br><br>Bestellungen: %{y}<br><extra></extra>",
         "marker": {
          "color": "rgb(189,189,189)"
         },
         "name": "44    Sierra\nName: county, dtype: object",
         "showlegend": false,
         "type": "bar",
         "width": 0.8,
         "x": [
          "Sierra"
         ],
         "y": [
          3399
         ]
        },
        {
         "hovertemplate": "<b>Solano</b><br><br>Bestellungen: %{y}<br><extra></extra>",
         "marker": {
          "color": "rgb(189,189,189)"
         },
         "name": "46    Solano\nName: county, dtype: object",
         "showlegend": false,
         "type": "bar",
         "width": 0.8,
         "x": [
          "Solano"
         ],
         "y": [
          3231
         ]
        },
        {
         "hovertemplate": "<b>Kings</b><br><br>Bestellungen: %{y}<br><extra></extra>",
         "marker": {
          "color": "rgb(189,189,189)"
         },
         "name": "14    Kings\nName: county, dtype: object",
         "showlegend": false,
         "type": "bar",
         "width": 0.8,
         "x": [
          "Kings"
         ],
         "y": [
          3094
         ]
        },
        {
         "hovertemplate": "<b>Mono</b><br><br>Bestellungen: %{y}<br><extra></extra>",
         "marker": {
          "color": "rgb(189,189,189)"
         },
         "name": "24    Mono\nName: county, dtype: object",
         "showlegend": false,
         "type": "bar",
         "width": 0.8,
         "x": [
          "Mono"
         ],
         "y": [
          2750
         ]
        },
        {
         "hovertemplate": "<b>Napa</b><br><br>Bestellungen: %{y}<br><extra></extra>",
         "marker": {
          "color": "rgb(189,189,189)"
         },
         "name": "26    Napa\nName: county, dtype: object",
         "showlegend": false,
         "type": "bar",
         "width": 0.8,
         "x": [
          "Napa"
         ],
         "y": [
          2628
         ]
        },
        {
         "hovertemplate": "<b>Tuolumne</b><br><br>Bestellungen: %{y}<br><extra></extra>",
         "marker": {
          "color": "rgb(189,189,189)"
         },
         "name": "53    Tuolumne\nName: county, dtype: object",
         "showlegend": false,
         "type": "bar",
         "width": 0.8,
         "x": [
          "Tuolumne"
         ],
         "y": [
          2602
         ]
        },
        {
         "hovertemplate": "<b>Lassen</b><br><br>Bestellungen: %{y}<br><extra></extra>",
         "marker": {
          "color": "rgb(189,189,189)"
         },
         "name": "16    Lassen\nName: county, dtype: object",
         "showlegend": false,
         "type": "bar",
         "width": 0.8,
         "x": [
          "Lassen"
         ],
         "y": [
          2406
         ]
        },
        {
         "hovertemplate": "<b>San Diego</b><br><br>Bestellungen: %{y}<br><extra></extra>",
         "marker": {
          "color": "rgb(189,189,189)"
         },
         "name": "35    San Diego\nName: county, dtype: object",
         "showlegend": false,
         "type": "bar",
         "width": 0.8,
         "x": [
          "San Diego"
         ],
         "y": [
          2379
         ]
        },
        {
         "hovertemplate": "<b>Sonoma</b><br><br>Bestellungen: %{y}<br><extra></extra>",
         "marker": {
          "color": "rgb(189,189,189)"
         },
         "name": "47    Sonoma\nName: county, dtype: object",
         "showlegend": false,
         "type": "bar",
         "width": 0.8,
         "x": [
          "Sonoma"
         ],
         "y": [
          2229
         ]
        },
        {
         "hovertemplate": "<b>Del Norte</b><br><br>Bestellungen: %{y}<br><extra></extra>",
         "marker": {
          "color": "rgb(189,189,189)"
         },
         "name": "6    Del Norte\nName: county, dtype: object",
         "showlegend": false,
         "type": "bar",
         "width": 0.8,
         "x": [
          "Del Norte"
         ],
         "y": [
          2017
         ]
        },
        {
         "hovertemplate": "<b>Tulare</b><br><br>Bestellungen: %{y}<br><extra></extra>",
         "marker": {
          "color": "rgb(189,189,189)"
         },
         "name": "52    Tulare\nName: county, dtype: object",
         "showlegend": false,
         "type": "bar",
         "width": 0.8,
         "x": [
          "Tulare"
         ],
         "y": [
          1664
         ]
        },
        {
         "hovertemplate": "<b>El Dorado</b><br><br>Bestellungen: %{y}<br><extra></extra>",
         "marker": {
          "color": "rgb(189,189,189)"
         },
         "name": "7    El Dorado\nName: county, dtype: object",
         "showlegend": false,
         "type": "bar",
         "width": 0.8,
         "x": [
          "El Dorado"
         ],
         "y": [
          1524
         ]
        },
        {
         "hovertemplate": "<b>Humboldt</b><br><br>Bestellungen: %{y}<br><extra></extra>",
         "marker": {
          "color": "rgb(189,189,189)"
         },
         "name": "10    Humboldt\nName: county, dtype: object",
         "showlegend": false,
         "type": "bar",
         "width": 0.8,
         "x": [
          "Humboldt"
         ],
         "y": [
          1515
         ]
        },
        {
         "hovertemplate": "<b>San Joaquin</b><br><br>Bestellungen: %{y}<br><extra></extra>",
         "marker": {
          "color": "rgb(189,189,189)"
         },
         "name": "37    San Joaquin\nName: county, dtype: object",
         "showlegend": false,
         "type": "bar",
         "width": 0.8,
         "x": [
          "San Joaquin"
         ],
         "y": [
          947
         ]
        },
        {
         "hovertemplate": "<b>Tehama</b><br><br>Bestellungen: %{y}<br><extra></extra>",
         "marker": {
          "color": "rgb(189,189,189)"
         },
         "name": "50    Tehama\nName: county, dtype: object",
         "showlegend": false,
         "type": "bar",
         "width": 0.8,
         "x": [
          "Tehama"
         ],
         "y": [
          810
         ]
        },
        {
         "hovertemplate": "<b>Trinity</b><br><br>Bestellungen: %{y}<br><extra></extra>",
         "marker": {
          "color": "rgb(189,189,189)"
         },
         "name": "51    Trinity\nName: county, dtype: object",
         "showlegend": false,
         "type": "bar",
         "width": 0.8,
         "x": [
          "Trinity"
         ],
         "y": [
          185
         ]
        },
        {
         "hovertemplate": "<b>Placer</b><br><br>Bestellungen: %{y}<br><extra></extra>",
         "marker": {
          "color": "rgb(189,189,189)"
         },
         "name": "29    Placer\nName: county, dtype: object",
         "showlegend": false,
         "type": "bar",
         "width": 0.8,
         "x": [
          "Placer"
         ],
         "y": [
          46
         ]
        },
        {
         "hovertemplate": "<b>San Bernardino</b><br><br>Bestellungen: %{y}<br><extra></extra>",
         "marker": {
          "color": "rgb(189,189,189)"
         },
         "name": "34    San Bernardino\nName: county, dtype: object",
         "showlegend": false,
         "type": "bar",
         "width": 0.8,
         "x": [
          "San Bernardino"
         ],
         "y": [
          40
         ]
        }
       ],
       "layout": {
        "annotations": [
         {
          "arrowcolor": "rgb(115,115,115)",
          "font": {
           "color": "rgb(115,115,115)"
          },
          "text": "Problemfälle",
          "x": 55,
          "y": 46
         },
         {
          "arrowcolor": "rgb(115,115,115)",
          "font": {
           "color": "rgb(115,115,115)"
          },
          "text": "Median: 36093.0",
          "x": 50,
          "y": 10647.631578947368
         }
        ],
        "height": 500,
        "legend": {
         "title": {
          "text": "<b>Counties</b>"
         }
        },
        "plot_bgcolor": "white",
        "shapes": [
         {
          "line": {
           "color": "rgb(115,115,115)",
           "dash": "dot"
          },
          "opacity": 1,
          "type": "line",
          "x0": 0,
          "x1": 1,
          "xref": "x domain",
          "y0": 10647.631578947368,
          "y1": 10647.631578947368,
          "yref": "y"
         }
        ],
        "template": {
         "data": {
          "bar": [
           {
            "error_x": {
             "color": "#2a3f5f"
            },
            "error_y": {
             "color": "#2a3f5f"
            },
            "marker": {
             "line": {
              "color": "#E5ECF6",
              "width": 0.5
             },
             "pattern": {
              "fillmode": "overlay",
              "size": 10,
              "solidity": 0.2
             }
            },
            "type": "bar"
           }
          ],
          "barpolar": [
           {
            "marker": {
             "line": {
              "color": "#E5ECF6",
              "width": 0.5
             },
             "pattern": {
              "fillmode": "overlay",
              "size": 10,
              "solidity": 0.2
             }
            },
            "type": "barpolar"
           }
          ],
          "carpet": [
           {
            "aaxis": {
             "endlinecolor": "#2a3f5f",
             "gridcolor": "white",
             "linecolor": "white",
             "minorgridcolor": "white",
             "startlinecolor": "#2a3f5f"
            },
            "baxis": {
             "endlinecolor": "#2a3f5f",
             "gridcolor": "white",
             "linecolor": "white",
             "minorgridcolor": "white",
             "startlinecolor": "#2a3f5f"
            },
            "type": "carpet"
           }
          ],
          "choropleth": [
           {
            "colorbar": {
             "outlinewidth": 0,
             "ticks": ""
            },
            "type": "choropleth"
           }
          ],
          "contour": [
           {
            "colorbar": {
             "outlinewidth": 0,
             "ticks": ""
            },
            "colorscale": [
             [
              0,
              "#0d0887"
             ],
             [
              0.1111111111111111,
              "#46039f"
             ],
             [
              0.2222222222222222,
              "#7201a8"
             ],
             [
              0.3333333333333333,
              "#9c179e"
             ],
             [
              0.4444444444444444,
              "#bd3786"
             ],
             [
              0.5555555555555556,
              "#d8576b"
             ],
             [
              0.6666666666666666,
              "#ed7953"
             ],
             [
              0.7777777777777778,
              "#fb9f3a"
             ],
             [
              0.8888888888888888,
              "#fdca26"
             ],
             [
              1,
              "#f0f921"
             ]
            ],
            "type": "contour"
           }
          ],
          "contourcarpet": [
           {
            "colorbar": {
             "outlinewidth": 0,
             "ticks": ""
            },
            "type": "contourcarpet"
           }
          ],
          "heatmap": [
           {
            "colorbar": {
             "outlinewidth": 0,
             "ticks": ""
            },
            "colorscale": [
             [
              0,
              "#0d0887"
             ],
             [
              0.1111111111111111,
              "#46039f"
             ],
             [
              0.2222222222222222,
              "#7201a8"
             ],
             [
              0.3333333333333333,
              "#9c179e"
             ],
             [
              0.4444444444444444,
              "#bd3786"
             ],
             [
              0.5555555555555556,
              "#d8576b"
             ],
             [
              0.6666666666666666,
              "#ed7953"
             ],
             [
              0.7777777777777778,
              "#fb9f3a"
             ],
             [
              0.8888888888888888,
              "#fdca26"
             ],
             [
              1,
              "#f0f921"
             ]
            ],
            "type": "heatmap"
           }
          ],
          "heatmapgl": [
           {
            "colorbar": {
             "outlinewidth": 0,
             "ticks": ""
            },
            "colorscale": [
             [
              0,
              "#0d0887"
             ],
             [
              0.1111111111111111,
              "#46039f"
             ],
             [
              0.2222222222222222,
              "#7201a8"
             ],
             [
              0.3333333333333333,
              "#9c179e"
             ],
             [
              0.4444444444444444,
              "#bd3786"
             ],
             [
              0.5555555555555556,
              "#d8576b"
             ],
             [
              0.6666666666666666,
              "#ed7953"
             ],
             [
              0.7777777777777778,
              "#fb9f3a"
             ],
             [
              0.8888888888888888,
              "#fdca26"
             ],
             [
              1,
              "#f0f921"
             ]
            ],
            "type": "heatmapgl"
           }
          ],
          "histogram": [
           {
            "marker": {
             "pattern": {
              "fillmode": "overlay",
              "size": 10,
              "solidity": 0.2
             }
            },
            "type": "histogram"
           }
          ],
          "histogram2d": [
           {
            "colorbar": {
             "outlinewidth": 0,
             "ticks": ""
            },
            "colorscale": [
             [
              0,
              "#0d0887"
             ],
             [
              0.1111111111111111,
              "#46039f"
             ],
             [
              0.2222222222222222,
              "#7201a8"
             ],
             [
              0.3333333333333333,
              "#9c179e"
             ],
             [
              0.4444444444444444,
              "#bd3786"
             ],
             [
              0.5555555555555556,
              "#d8576b"
             ],
             [
              0.6666666666666666,
              "#ed7953"
             ],
             [
              0.7777777777777778,
              "#fb9f3a"
             ],
             [
              0.8888888888888888,
              "#fdca26"
             ],
             [
              1,
              "#f0f921"
             ]
            ],
            "type": "histogram2d"
           }
          ],
          "histogram2dcontour": [
           {
            "colorbar": {
             "outlinewidth": 0,
             "ticks": ""
            },
            "colorscale": [
             [
              0,
              "#0d0887"
             ],
             [
              0.1111111111111111,
              "#46039f"
             ],
             [
              0.2222222222222222,
              "#7201a8"
             ],
             [
              0.3333333333333333,
              "#9c179e"
             ],
             [
              0.4444444444444444,
              "#bd3786"
             ],
             [
              0.5555555555555556,
              "#d8576b"
             ],
             [
              0.6666666666666666,
              "#ed7953"
             ],
             [
              0.7777777777777778,
              "#fb9f3a"
             ],
             [
              0.8888888888888888,
              "#fdca26"
             ],
             [
              1,
              "#f0f921"
             ]
            ],
            "type": "histogram2dcontour"
           }
          ],
          "mesh3d": [
           {
            "colorbar": {
             "outlinewidth": 0,
             "ticks": ""
            },
            "type": "mesh3d"
           }
          ],
          "parcoords": [
           {
            "line": {
             "colorbar": {
              "outlinewidth": 0,
              "ticks": ""
             }
            },
            "type": "parcoords"
           }
          ],
          "pie": [
           {
            "automargin": true,
            "type": "pie"
           }
          ],
          "scatter": [
           {
            "fillpattern": {
             "fillmode": "overlay",
             "size": 10,
             "solidity": 0.2
            },
            "type": "scatter"
           }
          ],
          "scatter3d": [
           {
            "line": {
             "colorbar": {
              "outlinewidth": 0,
              "ticks": ""
             }
            },
            "marker": {
             "colorbar": {
              "outlinewidth": 0,
              "ticks": ""
             }
            },
            "type": "scatter3d"
           }
          ],
          "scattercarpet": [
           {
            "marker": {
             "colorbar": {
              "outlinewidth": 0,
              "ticks": ""
             }
            },
            "type": "scattercarpet"
           }
          ],
          "scattergeo": [
           {
            "marker": {
             "colorbar": {
              "outlinewidth": 0,
              "ticks": ""
             }
            },
            "type": "scattergeo"
           }
          ],
          "scattergl": [
           {
            "marker": {
             "colorbar": {
              "outlinewidth": 0,
              "ticks": ""
             }
            },
            "type": "scattergl"
           }
          ],
          "scattermapbox": [
           {
            "marker": {
             "colorbar": {
              "outlinewidth": 0,
              "ticks": ""
             }
            },
            "type": "scattermapbox"
           }
          ],
          "scatterpolar": [
           {
            "marker": {
             "colorbar": {
              "outlinewidth": 0,
              "ticks": ""
             }
            },
            "type": "scatterpolar"
           }
          ],
          "scatterpolargl": [
           {
            "marker": {
             "colorbar": {
              "outlinewidth": 0,
              "ticks": ""
             }
            },
            "type": "scatterpolargl"
           }
          ],
          "scatterternary": [
           {
            "marker": {
             "colorbar": {
              "outlinewidth": 0,
              "ticks": ""
             }
            },
            "type": "scatterternary"
           }
          ],
          "surface": [
           {
            "colorbar": {
             "outlinewidth": 0,
             "ticks": ""
            },
            "colorscale": [
             [
              0,
              "#0d0887"
             ],
             [
              0.1111111111111111,
              "#46039f"
             ],
             [
              0.2222222222222222,
              "#7201a8"
             ],
             [
              0.3333333333333333,
              "#9c179e"
             ],
             [
              0.4444444444444444,
              "#bd3786"
             ],
             [
              0.5555555555555556,
              "#d8576b"
             ],
             [
              0.6666666666666666,
              "#ed7953"
             ],
             [
              0.7777777777777778,
              "#fb9f3a"
             ],
             [
              0.8888888888888888,
              "#fdca26"
             ],
             [
              1,
              "#f0f921"
             ]
            ],
            "type": "surface"
           }
          ],
          "table": [
           {
            "cells": {
             "fill": {
              "color": "#EBF0F8"
             },
             "line": {
              "color": "white"
             }
            },
            "header": {
             "fill": {
              "color": "#C8D4E3"
             },
             "line": {
              "color": "white"
             }
            },
            "type": "table"
           }
          ]
         },
         "layout": {
          "annotationdefaults": {
           "arrowcolor": "#2a3f5f",
           "arrowhead": 0,
           "arrowwidth": 1
          },
          "autotypenumbers": "strict",
          "coloraxis": {
           "colorbar": {
            "outlinewidth": 0,
            "ticks": ""
           }
          },
          "colorscale": {
           "diverging": [
            [
             0,
             "#8e0152"
            ],
            [
             0.1,
             "#c51b7d"
            ],
            [
             0.2,
             "#de77ae"
            ],
            [
             0.3,
             "#f1b6da"
            ],
            [
             0.4,
             "#fde0ef"
            ],
            [
             0.5,
             "#f7f7f7"
            ],
            [
             0.6,
             "#e6f5d0"
            ],
            [
             0.7,
             "#b8e186"
            ],
            [
             0.8,
             "#7fbc41"
            ],
            [
             0.9,
             "#4d9221"
            ],
            [
             1,
             "#276419"
            ]
           ],
           "sequential": [
            [
             0,
             "#0d0887"
            ],
            [
             0.1111111111111111,
             "#46039f"
            ],
            [
             0.2222222222222222,
             "#7201a8"
            ],
            [
             0.3333333333333333,
             "#9c179e"
            ],
            [
             0.4444444444444444,
             "#bd3786"
            ],
            [
             0.5555555555555556,
             "#d8576b"
            ],
            [
             0.6666666666666666,
             "#ed7953"
            ],
            [
             0.7777777777777778,
             "#fb9f3a"
            ],
            [
             0.8888888888888888,
             "#fdca26"
            ],
            [
             1,
             "#f0f921"
            ]
           ],
           "sequentialminus": [
            [
             0,
             "#0d0887"
            ],
            [
             0.1111111111111111,
             "#46039f"
            ],
            [
             0.2222222222222222,
             "#7201a8"
            ],
            [
             0.3333333333333333,
             "#9c179e"
            ],
            [
             0.4444444444444444,
             "#bd3786"
            ],
            [
             0.5555555555555556,
             "#d8576b"
            ],
            [
             0.6666666666666666,
             "#ed7953"
            ],
            [
             0.7777777777777778,
             "#fb9f3a"
            ],
            [
             0.8888888888888888,
             "#fdca26"
            ],
            [
             1,
             "#f0f921"
            ]
           ]
          },
          "colorway": [
           "#636efa",
           "#EF553B",
           "#00cc96",
           "#ab63fa",
           "#FFA15A",
           "#19d3f3",
           "#FF6692",
           "#B6E880",
           "#FF97FF",
           "#FECB52"
          ],
          "font": {
           "color": "#2a3f5f"
          },
          "geo": {
           "bgcolor": "white",
           "lakecolor": "white",
           "landcolor": "#E5ECF6",
           "showlakes": true,
           "showland": true,
           "subunitcolor": "white"
          },
          "hoverlabel": {
           "align": "left"
          },
          "hovermode": "closest",
          "mapbox": {
           "style": "light"
          },
          "paper_bgcolor": "white",
          "plot_bgcolor": "#E5ECF6",
          "polar": {
           "angularaxis": {
            "gridcolor": "white",
            "linecolor": "white",
            "ticks": ""
           },
           "bgcolor": "#E5ECF6",
           "radialaxis": {
            "gridcolor": "white",
            "linecolor": "white",
            "ticks": ""
           }
          },
          "scene": {
           "xaxis": {
            "backgroundcolor": "#E5ECF6",
            "gridcolor": "white",
            "gridwidth": 2,
            "linecolor": "white",
            "showbackground": true,
            "ticks": "",
            "zerolinecolor": "white"
           },
           "yaxis": {
            "backgroundcolor": "#E5ECF6",
            "gridcolor": "white",
            "gridwidth": 2,
            "linecolor": "white",
            "showbackground": true,
            "ticks": "",
            "zerolinecolor": "white"
           },
           "zaxis": {
            "backgroundcolor": "#E5ECF6",
            "gridcolor": "white",
            "gridwidth": 2,
            "linecolor": "white",
            "showbackground": true,
            "ticks": "",
            "zerolinecolor": "white"
           }
          },
          "shapedefaults": {
           "line": {
            "color": "#2a3f5f"
           }
          },
          "ternary": {
           "aaxis": {
            "gridcolor": "white",
            "linecolor": "white",
            "ticks": ""
           },
           "baxis": {
            "gridcolor": "white",
            "linecolor": "white",
            "ticks": ""
           },
           "bgcolor": "#E5ECF6",
           "caxis": {
            "gridcolor": "white",
            "linecolor": "white",
            "ticks": ""
           }
          },
          "title": {
           "x": 0.05
          },
          "xaxis": {
           "automargin": true,
           "gridcolor": "white",
           "linecolor": "white",
           "ticks": "",
           "title": {
            "standoff": 15
           },
           "zerolinecolor": "white",
           "zerolinewidth": 2
          },
          "yaxis": {
           "automargin": true,
           "gridcolor": "white",
           "linecolor": "white",
           "ticks": "",
           "title": {
            "standoff": 15
           },
           "zerolinecolor": "white",
           "zerolinewidth": 2
          }
         }
        },
        "title": {
         "font": {
          "size": 20
         },
         "text": "<b>Bestellungen pro County</b>",
         "x": 0.475,
         "xanchor": "center",
         "y": 0.935,
         "yanchor": "top"
        },
        "xaxis": {
         "linecolor": "black",
         "ticks": "outside",
         "title": {
          "text": "<b>Counties</b>"
         }
        },
        "yaxis": {
         "gridcolor": "grey",
         "linecolor": "black",
         "showgrid": true,
         "ticks": "outside",
         "title": {
          "text": "<b>Anzahl an Bestellungen</b>"
         }
        }
       }
      }
     },
     "metadata": {},
     "output_type": "display_data"
    }
   ],
   "source": [
    "fig = go.Figure()\n",
    "\n",
    "for county in df_regional.county.unique():\n",
    "\n",
    "    if df_regional.loc[df_regional.county == county].orders.values >= df_regional.orders.mean():\n",
    "        color= px.colors.sequential.Purpor[5]\n",
    "    \n",
    "        fig.add_trace (go.Bar(\n",
    "            x= df_regional.loc[df_regional.county == county].county,\n",
    "            y= df_regional.loc[df_regional.county == county].orders,\n",
    "            showlegend= False,\n",
    "            marker= dict(color= color),\n",
    "            width= 0.8,\n",
    "            name= f\"{df_regional.loc[df_regional.county == county].county}\",\n",
    "            hovertemplate = f\"<b>{df_regional.loc[df_regional.county == county].county.values[0]}</b><br><br>\" +\n",
    "                \"Bestellungen: %{y}<br>\" +\n",
    "                \"<extra></extra>\"\n",
    "        ))\n",
    "\n",
    "    else:\n",
    "        color= px.colors.sequential.Greys[3]\n",
    "\n",
    "        fig.add_trace (go.Bar(\n",
    "            x= df_regional.loc[df_regional.county == county].county,\n",
    "            y= df_regional.loc[df_regional.county == county].orders,\n",
    "            showlegend= False,\n",
    "            marker= dict(color= color),\n",
    "            width= 0.8,\n",
    "            name= f\"{df_regional.loc[df_regional.county == county].county}\",\n",
    "            hovertemplate = f\"<b>{df_regional.loc[df_regional.county == county].county.values[0]}</b><br><br>\" +\n",
    "                \"Bestellungen: %{y}<br>\" +\n",
    "                \"<extra></extra>\"\n",
    "        ))\n",
    "\n",
    "\n",
    "fig.add_annotation(\n",
    "    x=55,\n",
    "    y=df_regional[df_regional.county == \"Placer\"][\"orders\"].values[0],\n",
    "    text=\"Problemfälle\",\n",
    "    font_color= px.colors.sequential.Greys[5],\n",
    "    arrowcolor= px.colors.sequential.Greys[5]\n",
    ")\n",
    "\n",
    "fig.add_hline(\n",
    "    y= df_regional.orders.mean(),\n",
    "    line_dash= \"dot\",\n",
    "    line_color= px.colors.sequential.Greys[5],\n",
    "    opacity= 1\n",
    ")\n",
    "\n",
    "fig.add_annotation(\n",
    "    x= 50,\n",
    "    y= df_regional.orders.mean(),\n",
    "    text=f\"Median: {df_products.head(10).coun.median().round(2)}\",\n",
    "    font_color= px.colors.sequential.Greys[5],\n",
    "    arrowcolor= px.colors.sequential.Greys[5]\n",
    ")\n",
    "\n",
    "fig.update_layout(title= dict(text= \"<b>Bestellungen pro County</b>\", font_size= 20, xanchor= \"center\", yanchor= \"top\", y=0.935, x=0.475), legend_title_text = \"<b>Counties</b>\", height= 500)\n",
    "fig.update_xaxes(title_text=\"<b>Counties</b>\", ticks= \"outside\")\n",
    "fig.update_yaxes(title_text=\"<b>Anzahl an Bestellungen</b>\", ticks= \"outside\", showgrid= True, gridcolor= \"grey\")\n",
    "fig.update_layout(plot_bgcolor= \"white\", xaxis= dict(linecolor= \"black\"), yaxis= dict(linecolor= \"black\"))\n",
    "fig.show()"
   ]
  }
 ],
 "metadata": {
  "kernelspec": {
   "display_name": "Python 3",
   "language": "python",
   "name": "python3"
  },
  "language_info": {
   "codemirror_mode": {
    "name": "ipython",
    "version": 3
   },
   "file_extension": ".py",
   "mimetype": "text/x-python",
   "name": "python",
   "nbconvert_exporter": "python",
   "pygments_lexer": "ipython3",
   "version": "3.9.7"
  },
  "orig_nbformat": 4,
  "vscode": {
   "interpreter": {
    "hash": "aee8b7b246df8f9039afb4144a1f6fd8d2ca17a180786b69acc140d282b71a49"
   }
  }
 },
 "nbformat": 4,
 "nbformat_minor": 2
}
