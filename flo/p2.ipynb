{
 "cells": [
  {
   "cell_type": "code",
   "execution_count": 2,
   "metadata": {},
   "outputs": [],
   "source": [
    "import pandas as pd\n",
    "import plotly.express as px\n",
    "import plotly.graph_objects as go"
   ]
  },
  {
   "cell_type": "code",
   "execution_count": 3,
   "metadata": {},
   "outputs": [],
   "source": [
    "df = pd.read_parquet(\"DSCB310 - UE2 - Shopping Carts.parquet\")"
   ]
  },
  {
   "cell_type": "code",
   "execution_count": 6,
   "metadata": {},
   "outputs": [
    {
     "data": {
      "text/html": [
       "<div>\n",
       "<style scoped>\n",
       "    .dataframe tbody tr th:only-of-type {\n",
       "        vertical-align: middle;\n",
       "    }\n",
       "\n",
       "    .dataframe tbody tr th {\n",
       "        vertical-align: top;\n",
       "    }\n",
       "\n",
       "    .dataframe thead th {\n",
       "        text-align: right;\n",
       "    }\n",
       "</style>\n",
       "<table border=\"1\" class=\"dataframe\">\n",
       "  <thead>\n",
       "    <tr style=\"text-align: right;\">\n",
       "      <th></th>\n",
       "      <th>index</th>\n",
       "      <th>order_id</th>\n",
       "      <th>product_id</th>\n",
       "      <th>add_to_cart_order</th>\n",
       "      <th>reordered</th>\n",
       "      <th>user_id</th>\n",
       "      <th>order_number</th>\n",
       "      <th>order_dow</th>\n",
       "      <th>order_hour_of_day</th>\n",
       "      <th>days_since_prior_order</th>\n",
       "      <th>tip</th>\n",
       "      <th>product_name</th>\n",
       "      <th>aisle_id</th>\n",
       "      <th>department_id</th>\n",
       "      <th>department</th>\n",
       "      <th>aisle</th>\n",
       "      <th>county</th>\n",
       "    </tr>\n",
       "  </thead>\n",
       "  <tbody>\n",
       "    <tr>\n",
       "      <th>0</th>\n",
       "      <td>5006171</td>\n",
       "      <td>1</td>\n",
       "      <td>13176</td>\n",
       "      <td>6</td>\n",
       "      <td>0</td>\n",
       "      <td>112108</td>\n",
       "      <td>4</td>\n",
       "      <td>4</td>\n",
       "      <td>10</td>\n",
       "      <td>9.0</td>\n",
       "      <td>1</td>\n",
       "      <td>Bag of Organic Bananas</td>\n",
       "      <td>24</td>\n",
       "      <td>4</td>\n",
       "      <td>produce</td>\n",
       "      <td>fresh fruits</td>\n",
       "      <td>Inyo</td>\n",
       "    </tr>\n",
       "    <tr>\n",
       "      <th>1</th>\n",
       "      <td>5006176</td>\n",
       "      <td>1</td>\n",
       "      <td>11109</td>\n",
       "      <td>2</td>\n",
       "      <td>1</td>\n",
       "      <td>112108</td>\n",
       "      <td>4</td>\n",
       "      <td>4</td>\n",
       "      <td>10</td>\n",
       "      <td>9.0</td>\n",
       "      <td>1</td>\n",
       "      <td>Organic 4% Milk Fat Whole Milk Cottage Cheese</td>\n",
       "      <td>108</td>\n",
       "      <td>16</td>\n",
       "      <td>dairy eggs</td>\n",
       "      <td>other creams cheeses</td>\n",
       "      <td>Inyo</td>\n",
       "    </tr>\n",
       "    <tr>\n",
       "      <th>2</th>\n",
       "      <td>5006175</td>\n",
       "      <td>1</td>\n",
       "      <td>10246</td>\n",
       "      <td>3</td>\n",
       "      <td>0</td>\n",
       "      <td>112108</td>\n",
       "      <td>4</td>\n",
       "      <td>4</td>\n",
       "      <td>10</td>\n",
       "      <td>9.0</td>\n",
       "      <td>1</td>\n",
       "      <td>Organic Celery Hearts</td>\n",
       "      <td>83</td>\n",
       "      <td>4</td>\n",
       "      <td>produce</td>\n",
       "      <td>fresh vegetables</td>\n",
       "      <td>Inyo</td>\n",
       "    </tr>\n",
       "    <tr>\n",
       "      <th>3</th>\n",
       "      <td>5006174</td>\n",
       "      <td>1</td>\n",
       "      <td>22035</td>\n",
       "      <td>8</td>\n",
       "      <td>1</td>\n",
       "      <td>112108</td>\n",
       "      <td>4</td>\n",
       "      <td>4</td>\n",
       "      <td>10</td>\n",
       "      <td>9.0</td>\n",
       "      <td>1</td>\n",
       "      <td>Organic Whole String Cheese</td>\n",
       "      <td>21</td>\n",
       "      <td>16</td>\n",
       "      <td>dairy eggs</td>\n",
       "      <td>packaged cheese</td>\n",
       "      <td>Inyo</td>\n",
       "    </tr>\n",
       "    <tr>\n",
       "      <th>4</th>\n",
       "      <td>5006173</td>\n",
       "      <td>1</td>\n",
       "      <td>49683</td>\n",
       "      <td>4</td>\n",
       "      <td>0</td>\n",
       "      <td>112108</td>\n",
       "      <td>4</td>\n",
       "      <td>4</td>\n",
       "      <td>10</td>\n",
       "      <td>9.0</td>\n",
       "      <td>1</td>\n",
       "      <td>Cucumber Kirby</td>\n",
       "      <td>83</td>\n",
       "      <td>4</td>\n",
       "      <td>produce</td>\n",
       "      <td>fresh vegetables</td>\n",
       "      <td>Inyo</td>\n",
       "    </tr>\n",
       "  </tbody>\n",
       "</table>\n",
       "</div>"
      ],
      "text/plain": [
       "     index  order_id  product_id  add_to_cart_order  reordered  user_id  \\\n",
       "0  5006171         1       13176                  6          0   112108   \n",
       "1  5006176         1       11109                  2          1   112108   \n",
       "2  5006175         1       10246                  3          0   112108   \n",
       "3  5006174         1       22035                  8          1   112108   \n",
       "4  5006173         1       49683                  4          0   112108   \n",
       "\n",
       "   order_number  order_dow  order_hour_of_day  days_since_prior_order  tip  \\\n",
       "0             4          4                 10                     9.0    1   \n",
       "1             4          4                 10                     9.0    1   \n",
       "2             4          4                 10                     9.0    1   \n",
       "3             4          4                 10                     9.0    1   \n",
       "4             4          4                 10                     9.0    1   \n",
       "\n",
       "                                    product_name  aisle_id  department_id  \\\n",
       "0                         Bag of Organic Bananas        24              4   \n",
       "1  Organic 4% Milk Fat Whole Milk Cottage Cheese       108             16   \n",
       "2                          Organic Celery Hearts        83              4   \n",
       "3                    Organic Whole String Cheese        21             16   \n",
       "4                                 Cucumber Kirby        83              4   \n",
       "\n",
       "   department                 aisle county  \n",
       "0     produce          fresh fruits   Inyo  \n",
       "1  dairy eggs  other creams cheeses   Inyo  \n",
       "2     produce      fresh vegetables   Inyo  \n",
       "3  dairy eggs       packaged cheese   Inyo  \n",
       "4     produce      fresh vegetables   Inyo  "
      ]
     },
     "execution_count": 6,
     "metadata": {},
     "output_type": "execute_result"
    }
   ],
   "source": [
    "df.reset_index(drop= True).head()"
   ]
  },
  {
   "attachments": {},
   "cell_type": "markdown",
   "metadata": {},
   "source": [
    "### **P2:** Lassen sich regionale Unterschiede im Trinkgeldverhalten erkennen?"
   ]
  },
  {
   "cell_type": "code",
   "execution_count": 7,
   "metadata": {},
   "outputs": [],
   "source": [
    "df_county_tip1 = df.groupby([\"county\", \"order_id\"]).agg(tip = (\"tip\", \"mean\")).reset_index()"
   ]
  },
  {
   "cell_type": "code",
   "execution_count": 11,
   "metadata": {},
   "outputs": [],
   "source": [
    "df_county_tip2 = df_county_tip1.groupby(\"county\").agg(tip = (\"tip\", \"mean\"), orders= (\"order_id\", \"count\")).sort_values(by= \"tip\", ascending= False).reset_index()"
   ]
  },
  {
   "cell_type": "code",
   "execution_count": 13,
   "metadata": {},
   "outputs": [
    {
     "data": {
      "text/html": [
       "<div>\n",
       "<style scoped>\n",
       "    .dataframe tbody tr th:only-of-type {\n",
       "        vertical-align: middle;\n",
       "    }\n",
       "\n",
       "    .dataframe tbody tr th {\n",
       "        vertical-align: top;\n",
       "    }\n",
       "\n",
       "    .dataframe thead th {\n",
       "        text-align: right;\n",
       "    }\n",
       "</style>\n",
       "<table border=\"1\" class=\"dataframe\">\n",
       "  <thead>\n",
       "    <tr style=\"text-align: right;\">\n",
       "      <th></th>\n",
       "      <th>county</th>\n",
       "      <th>tip</th>\n",
       "      <th>orders</th>\n",
       "    </tr>\n",
       "  </thead>\n",
       "  <tbody>\n",
       "    <tr>\n",
       "      <th>0</th>\n",
       "      <td>San Diego</td>\n",
       "      <td>0.530895</td>\n",
       "      <td>2379</td>\n",
       "    </tr>\n",
       "    <tr>\n",
       "      <th>1</th>\n",
       "      <td>Santa Barbara</td>\n",
       "      <td>0.507548</td>\n",
       "      <td>13977</td>\n",
       "    </tr>\n",
       "    <tr>\n",
       "      <th>2</th>\n",
       "      <td>Lassen</td>\n",
       "      <td>0.502494</td>\n",
       "      <td>2406</td>\n",
       "    </tr>\n",
       "    <tr>\n",
       "      <th>3</th>\n",
       "      <td>Del Norte</td>\n",
       "      <td>0.501239</td>\n",
       "      <td>2017</td>\n",
       "    </tr>\n",
       "    <tr>\n",
       "      <th>4</th>\n",
       "      <td>Modoc</td>\n",
       "      <td>0.492131</td>\n",
       "      <td>9467</td>\n",
       "    </tr>\n",
       "  </tbody>\n",
       "</table>\n",
       "</div>"
      ],
      "text/plain": [
       "          county       tip  orders\n",
       "0      San Diego  0.530895    2379\n",
       "1  Santa Barbara  0.507548   13977\n",
       "2         Lassen  0.502494    2406\n",
       "3      Del Norte  0.501239    2017\n",
       "4          Modoc  0.492131    9467"
      ]
     },
     "execution_count": 13,
     "metadata": {},
     "output_type": "execute_result"
    }
   ],
   "source": [
    "df_county_tip2.head()"
   ]
  },
  {
   "cell_type": "code",
   "execution_count": 17,
   "metadata": {},
   "outputs": [
    {
     "data": {
      "application/vnd.plotly.v1+json": {
       "config": {
        "plotlyServerURL": "https://plot.ly"
       },
       "data": [
        {
         "alignmentgroup": "True",
         "hovertemplate": "county=%{x}<br>tip=%{y}<extra></extra>",
         "legendgroup": "",
         "marker": {
          "color": "#636efa",
          "pattern": {
           "shape": ""
          }
         },
         "name": "",
         "offsetgroup": "",
         "orientation": "v",
         "showlegend": false,
         "textposition": "auto",
         "type": "bar",
         "x": [
          "San Diego",
          "Santa Barbara",
          "Lassen",
          "Del Norte",
          "Modoc",
          "Tuolumne",
          "San Benito",
          "Shasta",
          "El Dorado",
          "San Francisco",
          "Merced",
          "Kings",
          "Sierra",
          "Mono",
          "Glenn",
          "Kern",
          "San Mateo",
          "Yuba",
          "Fresno",
          "Orange",
          "Siskiyou",
          "Santa Clara",
          "Imperial",
          "Humboldt",
          "Los Angeles",
          "Calaveras",
          "Nevada",
          "Napa",
          "Alpine",
          "Sutter",
          "Madera",
          "Solano",
          "Plumas",
          "Contra Costa",
          "Amador",
          "Colusa",
          "Ventura",
          "San Bernardino",
          "Riverside",
          "San Luis Obispo",
          "San Joaquin",
          "Monterey",
          "Tehama",
          "Stanislaus",
          "Mariposa",
          "Alameda",
          "Yolo",
          "Marin",
          "Mendocino",
          "Sonoma",
          "Placer",
          "Sacramento",
          "Santa Cruz",
          "Lake",
          "Inyo",
          "Tulare",
          "Trinity"
         ],
         "xaxis": "x",
         "y": [
          0.5308953341740227,
          0.5075481147599628,
          0.5024937655860349,
          0.5012394645513139,
          0.49213055878314144,
          0.483858570330515,
          0.47503761455341265,
          0.46620171673819744,
          0.4658792650918635,
          0.4621011673151751,
          0.457931493182574,
          0.4508726567550097,
          0.4474845542806708,
          0.44545454545454544,
          0.443994260150249,
          0.4428973766652954,
          0.4417812539422228,
          0.441606648199446,
          0.43876395900260057,
          0.43822472170686455,
          0.43445015987765884,
          0.43429403808136513,
          0.43187428502619063,
          0.4316831683168317,
          0.43164649500446756,
          0.4291650405197548,
          0.4278390554606183,
          0.4254185692541857,
          0.42402968608966,
          0.4190007867820614,
          0.41878172588832485,
          0.418446301454658,
          0.4167913549459684,
          0.4140900195694716,
          0.4128160171935977,
          0.4063083240014931,
          0.40560687084751257,
          0.4,
          0.3993374108053007,
          0.39010543390105434,
          0.382259767687434,
          0.38012592163035375,
          0.3790123456790123,
          0.3774949378073474,
          0.3766462942239821,
          0.37575452716297786,
          0.36907698299363884,
          0.35629370629370627,
          0.35050055617352616,
          0.34993270524899056,
          0.34782608695652173,
          0.3401280447420708,
          0.32973112719751807,
          0.3289296445964149,
          0.3124006359300477,
          0.2824519230769231,
          0.22162162162162163
         ],
         "yaxis": "y"
        }
       ],
       "layout": {
        "barmode": "relative",
        "legend": {
         "tracegroupgap": 0
        },
        "margin": {
         "t": 60
        },
        "template": {
         "data": {
          "bar": [
           {
            "error_x": {
             "color": "#2a3f5f"
            },
            "error_y": {
             "color": "#2a3f5f"
            },
            "marker": {
             "line": {
              "color": "#E5ECF6",
              "width": 0.5
             },
             "pattern": {
              "fillmode": "overlay",
              "size": 10,
              "solidity": 0.2
             }
            },
            "type": "bar"
           }
          ],
          "barpolar": [
           {
            "marker": {
             "line": {
              "color": "#E5ECF6",
              "width": 0.5
             },
             "pattern": {
              "fillmode": "overlay",
              "size": 10,
              "solidity": 0.2
             }
            },
            "type": "barpolar"
           }
          ],
          "carpet": [
           {
            "aaxis": {
             "endlinecolor": "#2a3f5f",
             "gridcolor": "white",
             "linecolor": "white",
             "minorgridcolor": "white",
             "startlinecolor": "#2a3f5f"
            },
            "baxis": {
             "endlinecolor": "#2a3f5f",
             "gridcolor": "white",
             "linecolor": "white",
             "minorgridcolor": "white",
             "startlinecolor": "#2a3f5f"
            },
            "type": "carpet"
           }
          ],
          "choropleth": [
           {
            "colorbar": {
             "outlinewidth": 0,
             "ticks": ""
            },
            "type": "choropleth"
           }
          ],
          "contour": [
           {
            "colorbar": {
             "outlinewidth": 0,
             "ticks": ""
            },
            "colorscale": [
             [
              0,
              "#0d0887"
             ],
             [
              0.1111111111111111,
              "#46039f"
             ],
             [
              0.2222222222222222,
              "#7201a8"
             ],
             [
              0.3333333333333333,
              "#9c179e"
             ],
             [
              0.4444444444444444,
              "#bd3786"
             ],
             [
              0.5555555555555556,
              "#d8576b"
             ],
             [
              0.6666666666666666,
              "#ed7953"
             ],
             [
              0.7777777777777778,
              "#fb9f3a"
             ],
             [
              0.8888888888888888,
              "#fdca26"
             ],
             [
              1,
              "#f0f921"
             ]
            ],
            "type": "contour"
           }
          ],
          "contourcarpet": [
           {
            "colorbar": {
             "outlinewidth": 0,
             "ticks": ""
            },
            "type": "contourcarpet"
           }
          ],
          "heatmap": [
           {
            "colorbar": {
             "outlinewidth": 0,
             "ticks": ""
            },
            "colorscale": [
             [
              0,
              "#0d0887"
             ],
             [
              0.1111111111111111,
              "#46039f"
             ],
             [
              0.2222222222222222,
              "#7201a8"
             ],
             [
              0.3333333333333333,
              "#9c179e"
             ],
             [
              0.4444444444444444,
              "#bd3786"
             ],
             [
              0.5555555555555556,
              "#d8576b"
             ],
             [
              0.6666666666666666,
              "#ed7953"
             ],
             [
              0.7777777777777778,
              "#fb9f3a"
             ],
             [
              0.8888888888888888,
              "#fdca26"
             ],
             [
              1,
              "#f0f921"
             ]
            ],
            "type": "heatmap"
           }
          ],
          "heatmapgl": [
           {
            "colorbar": {
             "outlinewidth": 0,
             "ticks": ""
            },
            "colorscale": [
             [
              0,
              "#0d0887"
             ],
             [
              0.1111111111111111,
              "#46039f"
             ],
             [
              0.2222222222222222,
              "#7201a8"
             ],
             [
              0.3333333333333333,
              "#9c179e"
             ],
             [
              0.4444444444444444,
              "#bd3786"
             ],
             [
              0.5555555555555556,
              "#d8576b"
             ],
             [
              0.6666666666666666,
              "#ed7953"
             ],
             [
              0.7777777777777778,
              "#fb9f3a"
             ],
             [
              0.8888888888888888,
              "#fdca26"
             ],
             [
              1,
              "#f0f921"
             ]
            ],
            "type": "heatmapgl"
           }
          ],
          "histogram": [
           {
            "marker": {
             "pattern": {
              "fillmode": "overlay",
              "size": 10,
              "solidity": 0.2
             }
            },
            "type": "histogram"
           }
          ],
          "histogram2d": [
           {
            "colorbar": {
             "outlinewidth": 0,
             "ticks": ""
            },
            "colorscale": [
             [
              0,
              "#0d0887"
             ],
             [
              0.1111111111111111,
              "#46039f"
             ],
             [
              0.2222222222222222,
              "#7201a8"
             ],
             [
              0.3333333333333333,
              "#9c179e"
             ],
             [
              0.4444444444444444,
              "#bd3786"
             ],
             [
              0.5555555555555556,
              "#d8576b"
             ],
             [
              0.6666666666666666,
              "#ed7953"
             ],
             [
              0.7777777777777778,
              "#fb9f3a"
             ],
             [
              0.8888888888888888,
              "#fdca26"
             ],
             [
              1,
              "#f0f921"
             ]
            ],
            "type": "histogram2d"
           }
          ],
          "histogram2dcontour": [
           {
            "colorbar": {
             "outlinewidth": 0,
             "ticks": ""
            },
            "colorscale": [
             [
              0,
              "#0d0887"
             ],
             [
              0.1111111111111111,
              "#46039f"
             ],
             [
              0.2222222222222222,
              "#7201a8"
             ],
             [
              0.3333333333333333,
              "#9c179e"
             ],
             [
              0.4444444444444444,
              "#bd3786"
             ],
             [
              0.5555555555555556,
              "#d8576b"
             ],
             [
              0.6666666666666666,
              "#ed7953"
             ],
             [
              0.7777777777777778,
              "#fb9f3a"
             ],
             [
              0.8888888888888888,
              "#fdca26"
             ],
             [
              1,
              "#f0f921"
             ]
            ],
            "type": "histogram2dcontour"
           }
          ],
          "mesh3d": [
           {
            "colorbar": {
             "outlinewidth": 0,
             "ticks": ""
            },
            "type": "mesh3d"
           }
          ],
          "parcoords": [
           {
            "line": {
             "colorbar": {
              "outlinewidth": 0,
              "ticks": ""
             }
            },
            "type": "parcoords"
           }
          ],
          "pie": [
           {
            "automargin": true,
            "type": "pie"
           }
          ],
          "scatter": [
           {
            "fillpattern": {
             "fillmode": "overlay",
             "size": 10,
             "solidity": 0.2
            },
            "type": "scatter"
           }
          ],
          "scatter3d": [
           {
            "line": {
             "colorbar": {
              "outlinewidth": 0,
              "ticks": ""
             }
            },
            "marker": {
             "colorbar": {
              "outlinewidth": 0,
              "ticks": ""
             }
            },
            "type": "scatter3d"
           }
          ],
          "scattercarpet": [
           {
            "marker": {
             "colorbar": {
              "outlinewidth": 0,
              "ticks": ""
             }
            },
            "type": "scattercarpet"
           }
          ],
          "scattergeo": [
           {
            "marker": {
             "colorbar": {
              "outlinewidth": 0,
              "ticks": ""
             }
            },
            "type": "scattergeo"
           }
          ],
          "scattergl": [
           {
            "marker": {
             "colorbar": {
              "outlinewidth": 0,
              "ticks": ""
             }
            },
            "type": "scattergl"
           }
          ],
          "scattermapbox": [
           {
            "marker": {
             "colorbar": {
              "outlinewidth": 0,
              "ticks": ""
             }
            },
            "type": "scattermapbox"
           }
          ],
          "scatterpolar": [
           {
            "marker": {
             "colorbar": {
              "outlinewidth": 0,
              "ticks": ""
             }
            },
            "type": "scatterpolar"
           }
          ],
          "scatterpolargl": [
           {
            "marker": {
             "colorbar": {
              "outlinewidth": 0,
              "ticks": ""
             }
            },
            "type": "scatterpolargl"
           }
          ],
          "scatterternary": [
           {
            "marker": {
             "colorbar": {
              "outlinewidth": 0,
              "ticks": ""
             }
            },
            "type": "scatterternary"
           }
          ],
          "surface": [
           {
            "colorbar": {
             "outlinewidth": 0,
             "ticks": ""
            },
            "colorscale": [
             [
              0,
              "#0d0887"
             ],
             [
              0.1111111111111111,
              "#46039f"
             ],
             [
              0.2222222222222222,
              "#7201a8"
             ],
             [
              0.3333333333333333,
              "#9c179e"
             ],
             [
              0.4444444444444444,
              "#bd3786"
             ],
             [
              0.5555555555555556,
              "#d8576b"
             ],
             [
              0.6666666666666666,
              "#ed7953"
             ],
             [
              0.7777777777777778,
              "#fb9f3a"
             ],
             [
              0.8888888888888888,
              "#fdca26"
             ],
             [
              1,
              "#f0f921"
             ]
            ],
            "type": "surface"
           }
          ],
          "table": [
           {
            "cells": {
             "fill": {
              "color": "#EBF0F8"
             },
             "line": {
              "color": "white"
             }
            },
            "header": {
             "fill": {
              "color": "#C8D4E3"
             },
             "line": {
              "color": "white"
             }
            },
            "type": "table"
           }
          ]
         },
         "layout": {
          "annotationdefaults": {
           "arrowcolor": "#2a3f5f",
           "arrowhead": 0,
           "arrowwidth": 1
          },
          "autotypenumbers": "strict",
          "coloraxis": {
           "colorbar": {
            "outlinewidth": 0,
            "ticks": ""
           }
          },
          "colorscale": {
           "diverging": [
            [
             0,
             "#8e0152"
            ],
            [
             0.1,
             "#c51b7d"
            ],
            [
             0.2,
             "#de77ae"
            ],
            [
             0.3,
             "#f1b6da"
            ],
            [
             0.4,
             "#fde0ef"
            ],
            [
             0.5,
             "#f7f7f7"
            ],
            [
             0.6,
             "#e6f5d0"
            ],
            [
             0.7,
             "#b8e186"
            ],
            [
             0.8,
             "#7fbc41"
            ],
            [
             0.9,
             "#4d9221"
            ],
            [
             1,
             "#276419"
            ]
           ],
           "sequential": [
            [
             0,
             "#0d0887"
            ],
            [
             0.1111111111111111,
             "#46039f"
            ],
            [
             0.2222222222222222,
             "#7201a8"
            ],
            [
             0.3333333333333333,
             "#9c179e"
            ],
            [
             0.4444444444444444,
             "#bd3786"
            ],
            [
             0.5555555555555556,
             "#d8576b"
            ],
            [
             0.6666666666666666,
             "#ed7953"
            ],
            [
             0.7777777777777778,
             "#fb9f3a"
            ],
            [
             0.8888888888888888,
             "#fdca26"
            ],
            [
             1,
             "#f0f921"
            ]
           ],
           "sequentialminus": [
            [
             0,
             "#0d0887"
            ],
            [
             0.1111111111111111,
             "#46039f"
            ],
            [
             0.2222222222222222,
             "#7201a8"
            ],
            [
             0.3333333333333333,
             "#9c179e"
            ],
            [
             0.4444444444444444,
             "#bd3786"
            ],
            [
             0.5555555555555556,
             "#d8576b"
            ],
            [
             0.6666666666666666,
             "#ed7953"
            ],
            [
             0.7777777777777778,
             "#fb9f3a"
            ],
            [
             0.8888888888888888,
             "#fdca26"
            ],
            [
             1,
             "#f0f921"
            ]
           ]
          },
          "colorway": [
           "#636efa",
           "#EF553B",
           "#00cc96",
           "#ab63fa",
           "#FFA15A",
           "#19d3f3",
           "#FF6692",
           "#B6E880",
           "#FF97FF",
           "#FECB52"
          ],
          "font": {
           "color": "#2a3f5f"
          },
          "geo": {
           "bgcolor": "white",
           "lakecolor": "white",
           "landcolor": "#E5ECF6",
           "showlakes": true,
           "showland": true,
           "subunitcolor": "white"
          },
          "hoverlabel": {
           "align": "left"
          },
          "hovermode": "closest",
          "mapbox": {
           "style": "light"
          },
          "paper_bgcolor": "white",
          "plot_bgcolor": "#E5ECF6",
          "polar": {
           "angularaxis": {
            "gridcolor": "white",
            "linecolor": "white",
            "ticks": ""
           },
           "bgcolor": "#E5ECF6",
           "radialaxis": {
            "gridcolor": "white",
            "linecolor": "white",
            "ticks": ""
           }
          },
          "scene": {
           "xaxis": {
            "backgroundcolor": "#E5ECF6",
            "gridcolor": "white",
            "gridwidth": 2,
            "linecolor": "white",
            "showbackground": true,
            "ticks": "",
            "zerolinecolor": "white"
           },
           "yaxis": {
            "backgroundcolor": "#E5ECF6",
            "gridcolor": "white",
            "gridwidth": 2,
            "linecolor": "white",
            "showbackground": true,
            "ticks": "",
            "zerolinecolor": "white"
           },
           "zaxis": {
            "backgroundcolor": "#E5ECF6",
            "gridcolor": "white",
            "gridwidth": 2,
            "linecolor": "white",
            "showbackground": true,
            "ticks": "",
            "zerolinecolor": "white"
           }
          },
          "shapedefaults": {
           "line": {
            "color": "#2a3f5f"
           }
          },
          "ternary": {
           "aaxis": {
            "gridcolor": "white",
            "linecolor": "white",
            "ticks": ""
           },
           "baxis": {
            "gridcolor": "white",
            "linecolor": "white",
            "ticks": ""
           },
           "bgcolor": "#E5ECF6",
           "caxis": {
            "gridcolor": "white",
            "linecolor": "white",
            "ticks": ""
           }
          },
          "title": {
           "x": 0.05
          },
          "xaxis": {
           "automargin": true,
           "gridcolor": "white",
           "linecolor": "white",
           "ticks": "",
           "title": {
            "standoff": 15
           },
           "zerolinecolor": "white",
           "zerolinewidth": 2
          },
          "yaxis": {
           "automargin": true,
           "gridcolor": "white",
           "linecolor": "white",
           "ticks": "",
           "title": {
            "standoff": 15
           },
           "zerolinecolor": "white",
           "zerolinewidth": 2
          }
         }
        },
        "xaxis": {
         "anchor": "y",
         "domain": [
          0,
          1
         ],
         "title": {
          "text": "county"
         }
        },
        "yaxis": {
         "anchor": "x",
         "domain": [
          0,
          1
         ],
         "title": {
          "text": "tip"
         }
        }
       }
      }
     },
     "metadata": {},
     "output_type": "display_data"
    }
   ],
   "source": [
    "px.bar(df_county_tip2, x= \"county\", y= \"tip\")"
   ]
  },
  {
   "cell_type": "code",
   "execution_count": 126,
   "metadata": {},
   "outputs": [
    {
     "data": {
      "application/vnd.plotly.v1+json": {
       "config": {
        "plotlyServerURL": "https://plot.ly"
       },
       "data": [
        {
         "marker": {
          "color": "#B82E2E"
         },
         "name": "San Diego",
         "showlegend": true,
         "text": "0.531",
         "type": "bar",
         "width": 0.8,
         "x": [
          "San Diego"
         ],
         "y": [
          0.5308953341740227
         ]
        },
        {
         "marker": {
          "color": "rgb(153,153,153)"
         },
         "name": "Santa Barbara",
         "showlegend": true,
         "type": "bar",
         "width": 0.8,
         "x": [
          "Santa Barbara"
         ],
         "y": [
          0.5075481147599628
         ]
        },
        {
         "marker": {
          "color": "rgb(153,153,153)"
         },
         "name": "Lassen",
         "showlegend": true,
         "type": "bar",
         "width": 0.8,
         "x": [
          "Lassen"
         ],
         "y": [
          0.5024937655860349
         ]
        },
        {
         "marker": {
          "color": "rgb(153,153,153)"
         },
         "name": "Del Norte",
         "showlegend": true,
         "type": "bar",
         "width": 0.8,
         "x": [
          "Del Norte"
         ],
         "y": [
          0.5012394645513139
         ]
        },
        {
         "marker": {
          "color": "rgb(153,153,153)"
         },
         "name": "Modoc",
         "showlegend": true,
         "type": "bar",
         "width": 0.8,
         "x": [
          "Modoc"
         ],
         "y": [
          0.49213055878314144
         ]
        },
        {
         "marker": {
          "color": "rgb(153,153,153)"
         },
         "name": "Tuolumne",
         "showlegend": true,
         "type": "bar",
         "width": 0.8,
         "x": [
          "Tuolumne"
         ],
         "y": [
          0.483858570330515
         ]
        },
        {
         "marker": {
          "color": "rgb(153,153,153)"
         },
         "name": "San Benito",
         "showlegend": true,
         "type": "bar",
         "width": 0.8,
         "x": [
          "San Benito"
         ],
         "y": [
          0.47503761455341265
         ]
        },
        {
         "marker": {
          "color": "rgb(153,153,153)"
         },
         "name": "Shasta",
         "showlegend": true,
         "type": "bar",
         "width": 0.8,
         "x": [
          "Shasta"
         ],
         "y": [
          0.46620171673819744
         ]
        },
        {
         "marker": {
          "color": "rgb(153,153,153)"
         },
         "name": "El Dorado",
         "showlegend": true,
         "type": "bar",
         "width": 0.8,
         "x": [
          "El Dorado"
         ],
         "y": [
          0.4658792650918635
         ]
        },
        {
         "marker": {
          "color": "rgb(153,153,153)"
         },
         "name": "San Francisco",
         "showlegend": true,
         "type": "bar",
         "width": 0.8,
         "x": [
          "San Francisco"
         ],
         "y": [
          0.4621011673151751
         ]
        },
        {
         "marker": {
          "color": "rgb(153,153,153)"
         },
         "name": "Merced",
         "showlegend": true,
         "type": "bar",
         "width": 0.8,
         "x": [
          "Merced"
         ],
         "y": [
          0.457931493182574
         ]
        },
        {
         "marker": {
          "color": "rgb(153,153,153)"
         },
         "name": "Kings",
         "showlegend": true,
         "type": "bar",
         "width": 0.8,
         "x": [
          "Kings"
         ],
         "y": [
          0.4508726567550097
         ]
        },
        {
         "marker": {
          "color": "rgb(153,153,153)"
         },
         "name": "Sierra",
         "showlegend": true,
         "type": "bar",
         "width": 0.8,
         "x": [
          "Sierra"
         ],
         "y": [
          0.4474845542806708
         ]
        },
        {
         "marker": {
          "color": "rgb(153,153,153)"
         },
         "name": "Mono",
         "showlegend": true,
         "type": "bar",
         "width": 0.8,
         "x": [
          "Mono"
         ],
         "y": [
          0.44545454545454544
         ]
        },
        {
         "marker": {
          "color": "rgb(153,153,153)"
         },
         "name": "Glenn",
         "showlegend": true,
         "type": "bar",
         "width": 0.8,
         "x": [
          "Glenn"
         ],
         "y": [
          0.443994260150249
         ]
        },
        {
         "marker": {
          "color": "rgb(153,153,153)"
         },
         "name": "Kern",
         "showlegend": true,
         "type": "bar",
         "width": 0.8,
         "x": [
          "Kern"
         ],
         "y": [
          0.4428973766652954
         ]
        },
        {
         "marker": {
          "color": "rgb(153,153,153)"
         },
         "name": "San Mateo",
         "showlegend": true,
         "type": "bar",
         "width": 0.8,
         "x": [
          "San Mateo"
         ],
         "y": [
          0.4417812539422228
         ]
        },
        {
         "marker": {
          "color": "rgb(153,153,153)"
         },
         "name": "Yuba",
         "showlegend": true,
         "type": "bar",
         "width": 0.8,
         "x": [
          "Yuba"
         ],
         "y": [
          0.441606648199446
         ]
        },
        {
         "marker": {
          "color": "rgb(153,153,153)"
         },
         "name": "Fresno",
         "showlegend": true,
         "type": "bar",
         "width": 0.8,
         "x": [
          "Fresno"
         ],
         "y": [
          0.43876395900260057
         ]
        },
        {
         "marker": {
          "color": "rgb(153,153,153)"
         },
         "name": "Orange",
         "showlegend": true,
         "type": "bar",
         "width": 0.8,
         "x": [
          "Orange"
         ],
         "y": [
          0.43822472170686455
         ]
        },
        {
         "marker": {
          "color": "rgb(153,153,153)"
         },
         "name": "Siskiyou",
         "showlegend": true,
         "type": "bar",
         "width": 0.8,
         "x": [
          "Siskiyou"
         ],
         "y": [
          0.43445015987765884
         ]
        },
        {
         "marker": {
          "color": "rgb(153,153,153)"
         },
         "name": "Santa Clara",
         "showlegend": true,
         "type": "bar",
         "width": 0.8,
         "x": [
          "Santa Clara"
         ],
         "y": [
          0.43429403808136513
         ]
        },
        {
         "marker": {
          "color": "rgb(153,153,153)"
         },
         "name": "Imperial",
         "showlegend": true,
         "type": "bar",
         "width": 0.8,
         "x": [
          "Imperial"
         ],
         "y": [
          0.43187428502619063
         ]
        },
        {
         "marker": {
          "color": "rgb(153,153,153)"
         },
         "name": "Humboldt",
         "showlegend": true,
         "type": "bar",
         "width": 0.8,
         "x": [
          "Humboldt"
         ],
         "y": [
          0.4316831683168317
         ]
        },
        {
         "marker": {
          "color": "rgb(153,153,153)"
         },
         "name": "Los Angeles",
         "showlegend": true,
         "type": "bar",
         "width": 0.8,
         "x": [
          "Los Angeles"
         ],
         "y": [
          0.43164649500446756
         ]
        },
        {
         "marker": {
          "color": "rgb(153,153,153)"
         },
         "name": "Calaveras",
         "showlegend": true,
         "type": "bar",
         "width": 0.8,
         "x": [
          "Calaveras"
         ],
         "y": [
          0.4291650405197548
         ]
        },
        {
         "marker": {
          "color": "rgb(153,153,153)"
         },
         "name": "Nevada",
         "showlegend": true,
         "type": "bar",
         "width": 0.8,
         "x": [
          "Nevada"
         ],
         "y": [
          0.4278390554606183
         ]
        },
        {
         "marker": {
          "color": "rgb(153,153,153)"
         },
         "name": "Napa",
         "showlegend": true,
         "type": "bar",
         "width": 0.8,
         "x": [
          "Napa"
         ],
         "y": [
          0.4254185692541857
         ]
        },
        {
         "marker": {
          "color": "rgb(153,153,153)"
         },
         "name": "Alpine",
         "showlegend": true,
         "type": "bar",
         "width": 0.8,
         "x": [
          "Alpine"
         ],
         "y": [
          0.42402968608966
         ]
        },
        {
         "marker": {
          "color": "rgb(153,153,153)"
         },
         "name": "Sutter",
         "showlegend": true,
         "type": "bar",
         "width": 0.8,
         "x": [
          "Sutter"
         ],
         "y": [
          0.4190007867820614
         ]
        },
        {
         "marker": {
          "color": "rgb(153,153,153)"
         },
         "name": "Madera",
         "showlegend": true,
         "type": "bar",
         "width": 0.8,
         "x": [
          "Madera"
         ],
         "y": [
          0.41878172588832485
         ]
        },
        {
         "marker": {
          "color": "rgb(153,153,153)"
         },
         "name": "Solano",
         "showlegend": true,
         "type": "bar",
         "width": 0.8,
         "x": [
          "Solano"
         ],
         "y": [
          0.418446301454658
         ]
        },
        {
         "marker": {
          "color": "rgb(153,153,153)"
         },
         "name": "Plumas",
         "showlegend": true,
         "type": "bar",
         "width": 0.8,
         "x": [
          "Plumas"
         ],
         "y": [
          0.4167913549459684
         ]
        },
        {
         "marker": {
          "color": "rgb(153,153,153)"
         },
         "name": "Contra Costa",
         "showlegend": true,
         "type": "bar",
         "width": 0.8,
         "x": [
          "Contra Costa"
         ],
         "y": [
          0.4140900195694716
         ]
        },
        {
         "marker": {
          "color": "rgb(153,153,153)"
         },
         "name": "Amador",
         "showlegend": true,
         "type": "bar",
         "width": 0.8,
         "x": [
          "Amador"
         ],
         "y": [
          0.4128160171935977
         ]
        },
        {
         "marker": {
          "color": "rgb(153,153,153)"
         },
         "name": "Colusa",
         "showlegend": true,
         "type": "bar",
         "width": 0.8,
         "x": [
          "Colusa"
         ],
         "y": [
          0.4063083240014931
         ]
        },
        {
         "marker": {
          "color": "rgb(153,153,153)"
         },
         "name": "Ventura",
         "showlegend": true,
         "type": "bar",
         "width": 0.8,
         "x": [
          "Ventura"
         ],
         "y": [
          0.40560687084751257
         ]
        },
        {
         "marker": {
          "color": "rgb(153,153,153)"
         },
         "name": "San Bernardino",
         "showlegend": true,
         "type": "bar",
         "width": 0.8,
         "x": [
          "San Bernardino"
         ],
         "y": [
          0.4
         ]
        },
        {
         "marker": {
          "color": "rgb(153,153,153)"
         },
         "name": "Riverside",
         "showlegend": true,
         "type": "bar",
         "width": 0.8,
         "x": [
          "Riverside"
         ],
         "y": [
          0.3993374108053007
         ]
        },
        {
         "marker": {
          "color": "rgb(153,153,153)"
         },
         "name": "San Luis Obispo",
         "showlegend": true,
         "type": "bar",
         "width": 0.8,
         "x": [
          "San Luis Obispo"
         ],
         "y": [
          0.39010543390105434
         ]
        },
        {
         "marker": {
          "color": "rgb(153,153,153)"
         },
         "name": "San Joaquin",
         "showlegend": true,
         "type": "bar",
         "width": 0.8,
         "x": [
          "San Joaquin"
         ],
         "y": [
          0.382259767687434
         ]
        },
        {
         "marker": {
          "color": "rgb(153,153,153)"
         },
         "name": "Monterey",
         "showlegend": true,
         "type": "bar",
         "width": 0.8,
         "x": [
          "Monterey"
         ],
         "y": [
          0.38012592163035375
         ]
        },
        {
         "marker": {
          "color": "rgb(153,153,153)"
         },
         "name": "Tehama",
         "showlegend": true,
         "type": "bar",
         "width": 0.8,
         "x": [
          "Tehama"
         ],
         "y": [
          0.3790123456790123
         ]
        },
        {
         "marker": {
          "color": "rgb(153,153,153)"
         },
         "name": "Stanislaus",
         "showlegend": true,
         "type": "bar",
         "width": 0.8,
         "x": [
          "Stanislaus"
         ],
         "y": [
          0.3774949378073474
         ]
        },
        {
         "marker": {
          "color": "rgb(153,153,153)"
         },
         "name": "Mariposa",
         "showlegend": true,
         "type": "bar",
         "width": 0.8,
         "x": [
          "Mariposa"
         ],
         "y": [
          0.3766462942239821
         ]
        },
        {
         "marker": {
          "color": "rgb(153,153,153)"
         },
         "name": "Alameda",
         "showlegend": true,
         "type": "bar",
         "width": 0.8,
         "x": [
          "Alameda"
         ],
         "y": [
          0.37575452716297786
         ]
        },
        {
         "marker": {
          "color": "rgb(153,153,153)"
         },
         "name": "Yolo",
         "showlegend": true,
         "type": "bar",
         "width": 0.8,
         "x": [
          "Yolo"
         ],
         "y": [
          0.36907698299363884
         ]
        },
        {
         "marker": {
          "color": "rgb(153,153,153)"
         },
         "name": "Marin",
         "showlegend": true,
         "type": "bar",
         "width": 0.8,
         "x": [
          "Marin"
         ],
         "y": [
          0.35629370629370627
         ]
        },
        {
         "marker": {
          "color": "rgb(153,153,153)"
         },
         "name": "Mendocino",
         "showlegend": true,
         "type": "bar",
         "width": 0.8,
         "x": [
          "Mendocino"
         ],
         "y": [
          0.35050055617352616
         ]
        },
        {
         "marker": {
          "color": "rgb(153,153,153)"
         },
         "name": "Sonoma",
         "showlegend": true,
         "type": "bar",
         "width": 0.8,
         "x": [
          "Sonoma"
         ],
         "y": [
          0.34993270524899056
         ]
        },
        {
         "marker": {
          "color": "rgb(153,153,153)"
         },
         "name": "Placer",
         "showlegend": true,
         "type": "bar",
         "width": 0.8,
         "x": [
          "Placer"
         ],
         "y": [
          0.34782608695652173
         ]
        },
        {
         "marker": {
          "color": "rgb(153,153,153)"
         },
         "name": "Sacramento",
         "showlegend": true,
         "type": "bar",
         "width": 0.8,
         "x": [
          "Sacramento"
         ],
         "y": [
          0.3401280447420708
         ]
        },
        {
         "marker": {
          "color": "rgb(153,153,153)"
         },
         "name": "Santa Cruz",
         "showlegend": true,
         "type": "bar",
         "width": 0.8,
         "x": [
          "Santa Cruz"
         ],
         "y": [
          0.32973112719751807
         ]
        },
        {
         "marker": {
          "color": "rgb(153,153,153)"
         },
         "name": "Lake",
         "showlegend": true,
         "type": "bar",
         "width": 0.8,
         "x": [
          "Lake"
         ],
         "y": [
          0.3289296445964149
         ]
        },
        {
         "marker": {
          "color": "rgb(153,153,153)"
         },
         "name": "Inyo",
         "showlegend": true,
         "type": "bar",
         "width": 0.8,
         "x": [
          "Inyo"
         ],
         "y": [
          0.3124006359300477
         ]
        },
        {
         "marker": {
          "color": "rgb(153,153,153)"
         },
         "name": "Tulare",
         "showlegend": true,
         "type": "bar",
         "width": 0.8,
         "x": [
          "Tulare"
         ],
         "y": [
          0.2824519230769231
         ]
        },
        {
         "marker": {
          "color": "rgb(153,153,153)"
         },
         "name": "Trinity",
         "showlegend": true,
         "type": "bar",
         "width": 0.8,
         "x": [
          "Trinity"
         ],
         "y": [
          0.22162162162162163
         ]
        }
       ],
       "layout": {
        "height": 550,
        "legend": {
         "groupclick": "toggleitem",
         "title": {
          "text": "<b>Counties</b>"
         }
        },
        "template": {
         "data": {
          "bar": [
           {
            "error_x": {
             "color": "#2a3f5f"
            },
            "error_y": {
             "color": "#2a3f5f"
            },
            "marker": {
             "line": {
              "color": "#E5ECF6",
              "width": 0.5
             },
             "pattern": {
              "fillmode": "overlay",
              "size": 10,
              "solidity": 0.2
             }
            },
            "type": "bar"
           }
          ],
          "barpolar": [
           {
            "marker": {
             "line": {
              "color": "#E5ECF6",
              "width": 0.5
             },
             "pattern": {
              "fillmode": "overlay",
              "size": 10,
              "solidity": 0.2
             }
            },
            "type": "barpolar"
           }
          ],
          "carpet": [
           {
            "aaxis": {
             "endlinecolor": "#2a3f5f",
             "gridcolor": "white",
             "linecolor": "white",
             "minorgridcolor": "white",
             "startlinecolor": "#2a3f5f"
            },
            "baxis": {
             "endlinecolor": "#2a3f5f",
             "gridcolor": "white",
             "linecolor": "white",
             "minorgridcolor": "white",
             "startlinecolor": "#2a3f5f"
            },
            "type": "carpet"
           }
          ],
          "choropleth": [
           {
            "colorbar": {
             "outlinewidth": 0,
             "ticks": ""
            },
            "type": "choropleth"
           }
          ],
          "contour": [
           {
            "colorbar": {
             "outlinewidth": 0,
             "ticks": ""
            },
            "colorscale": [
             [
              0,
              "#0d0887"
             ],
             [
              0.1111111111111111,
              "#46039f"
             ],
             [
              0.2222222222222222,
              "#7201a8"
             ],
             [
              0.3333333333333333,
              "#9c179e"
             ],
             [
              0.4444444444444444,
              "#bd3786"
             ],
             [
              0.5555555555555556,
              "#d8576b"
             ],
             [
              0.6666666666666666,
              "#ed7953"
             ],
             [
              0.7777777777777778,
              "#fb9f3a"
             ],
             [
              0.8888888888888888,
              "#fdca26"
             ],
             [
              1,
              "#f0f921"
             ]
            ],
            "type": "contour"
           }
          ],
          "contourcarpet": [
           {
            "colorbar": {
             "outlinewidth": 0,
             "ticks": ""
            },
            "type": "contourcarpet"
           }
          ],
          "heatmap": [
           {
            "colorbar": {
             "outlinewidth": 0,
             "ticks": ""
            },
            "colorscale": [
             [
              0,
              "#0d0887"
             ],
             [
              0.1111111111111111,
              "#46039f"
             ],
             [
              0.2222222222222222,
              "#7201a8"
             ],
             [
              0.3333333333333333,
              "#9c179e"
             ],
             [
              0.4444444444444444,
              "#bd3786"
             ],
             [
              0.5555555555555556,
              "#d8576b"
             ],
             [
              0.6666666666666666,
              "#ed7953"
             ],
             [
              0.7777777777777778,
              "#fb9f3a"
             ],
             [
              0.8888888888888888,
              "#fdca26"
             ],
             [
              1,
              "#f0f921"
             ]
            ],
            "type": "heatmap"
           }
          ],
          "heatmapgl": [
           {
            "colorbar": {
             "outlinewidth": 0,
             "ticks": ""
            },
            "colorscale": [
             [
              0,
              "#0d0887"
             ],
             [
              0.1111111111111111,
              "#46039f"
             ],
             [
              0.2222222222222222,
              "#7201a8"
             ],
             [
              0.3333333333333333,
              "#9c179e"
             ],
             [
              0.4444444444444444,
              "#bd3786"
             ],
             [
              0.5555555555555556,
              "#d8576b"
             ],
             [
              0.6666666666666666,
              "#ed7953"
             ],
             [
              0.7777777777777778,
              "#fb9f3a"
             ],
             [
              0.8888888888888888,
              "#fdca26"
             ],
             [
              1,
              "#f0f921"
             ]
            ],
            "type": "heatmapgl"
           }
          ],
          "histogram": [
           {
            "marker": {
             "pattern": {
              "fillmode": "overlay",
              "size": 10,
              "solidity": 0.2
             }
            },
            "type": "histogram"
           }
          ],
          "histogram2d": [
           {
            "colorbar": {
             "outlinewidth": 0,
             "ticks": ""
            },
            "colorscale": [
             [
              0,
              "#0d0887"
             ],
             [
              0.1111111111111111,
              "#46039f"
             ],
             [
              0.2222222222222222,
              "#7201a8"
             ],
             [
              0.3333333333333333,
              "#9c179e"
             ],
             [
              0.4444444444444444,
              "#bd3786"
             ],
             [
              0.5555555555555556,
              "#d8576b"
             ],
             [
              0.6666666666666666,
              "#ed7953"
             ],
             [
              0.7777777777777778,
              "#fb9f3a"
             ],
             [
              0.8888888888888888,
              "#fdca26"
             ],
             [
              1,
              "#f0f921"
             ]
            ],
            "type": "histogram2d"
           }
          ],
          "histogram2dcontour": [
           {
            "colorbar": {
             "outlinewidth": 0,
             "ticks": ""
            },
            "colorscale": [
             [
              0,
              "#0d0887"
             ],
             [
              0.1111111111111111,
              "#46039f"
             ],
             [
              0.2222222222222222,
              "#7201a8"
             ],
             [
              0.3333333333333333,
              "#9c179e"
             ],
             [
              0.4444444444444444,
              "#bd3786"
             ],
             [
              0.5555555555555556,
              "#d8576b"
             ],
             [
              0.6666666666666666,
              "#ed7953"
             ],
             [
              0.7777777777777778,
              "#fb9f3a"
             ],
             [
              0.8888888888888888,
              "#fdca26"
             ],
             [
              1,
              "#f0f921"
             ]
            ],
            "type": "histogram2dcontour"
           }
          ],
          "mesh3d": [
           {
            "colorbar": {
             "outlinewidth": 0,
             "ticks": ""
            },
            "type": "mesh3d"
           }
          ],
          "parcoords": [
           {
            "line": {
             "colorbar": {
              "outlinewidth": 0,
              "ticks": ""
             }
            },
            "type": "parcoords"
           }
          ],
          "pie": [
           {
            "automargin": true,
            "type": "pie"
           }
          ],
          "scatter": [
           {
            "fillpattern": {
             "fillmode": "overlay",
             "size": 10,
             "solidity": 0.2
            },
            "type": "scatter"
           }
          ],
          "scatter3d": [
           {
            "line": {
             "colorbar": {
              "outlinewidth": 0,
              "ticks": ""
             }
            },
            "marker": {
             "colorbar": {
              "outlinewidth": 0,
              "ticks": ""
             }
            },
            "type": "scatter3d"
           }
          ],
          "scattercarpet": [
           {
            "marker": {
             "colorbar": {
              "outlinewidth": 0,
              "ticks": ""
             }
            },
            "type": "scattercarpet"
           }
          ],
          "scattergeo": [
           {
            "marker": {
             "colorbar": {
              "outlinewidth": 0,
              "ticks": ""
             }
            },
            "type": "scattergeo"
           }
          ],
          "scattergl": [
           {
            "marker": {
             "colorbar": {
              "outlinewidth": 0,
              "ticks": ""
             }
            },
            "type": "scattergl"
           }
          ],
          "scattermapbox": [
           {
            "marker": {
             "colorbar": {
              "outlinewidth": 0,
              "ticks": ""
             }
            },
            "type": "scattermapbox"
           }
          ],
          "scatterpolar": [
           {
            "marker": {
             "colorbar": {
              "outlinewidth": 0,
              "ticks": ""
             }
            },
            "type": "scatterpolar"
           }
          ],
          "scatterpolargl": [
           {
            "marker": {
             "colorbar": {
              "outlinewidth": 0,
              "ticks": ""
             }
            },
            "type": "scatterpolargl"
           }
          ],
          "scatterternary": [
           {
            "marker": {
             "colorbar": {
              "outlinewidth": 0,
              "ticks": ""
             }
            },
            "type": "scatterternary"
           }
          ],
          "surface": [
           {
            "colorbar": {
             "outlinewidth": 0,
             "ticks": ""
            },
            "colorscale": [
             [
              0,
              "#0d0887"
             ],
             [
              0.1111111111111111,
              "#46039f"
             ],
             [
              0.2222222222222222,
              "#7201a8"
             ],
             [
              0.3333333333333333,
              "#9c179e"
             ],
             [
              0.4444444444444444,
              "#bd3786"
             ],
             [
              0.5555555555555556,
              "#d8576b"
             ],
             [
              0.6666666666666666,
              "#ed7953"
             ],
             [
              0.7777777777777778,
              "#fb9f3a"
             ],
             [
              0.8888888888888888,
              "#fdca26"
             ],
             [
              1,
              "#f0f921"
             ]
            ],
            "type": "surface"
           }
          ],
          "table": [
           {
            "cells": {
             "fill": {
              "color": "#EBF0F8"
             },
             "line": {
              "color": "white"
             }
            },
            "header": {
             "fill": {
              "color": "#C8D4E3"
             },
             "line": {
              "color": "white"
             }
            },
            "type": "table"
           }
          ]
         },
         "layout": {
          "annotationdefaults": {
           "arrowcolor": "#2a3f5f",
           "arrowhead": 0,
           "arrowwidth": 1
          },
          "autotypenumbers": "strict",
          "coloraxis": {
           "colorbar": {
            "outlinewidth": 0,
            "ticks": ""
           }
          },
          "colorscale": {
           "diverging": [
            [
             0,
             "#8e0152"
            ],
            [
             0.1,
             "#c51b7d"
            ],
            [
             0.2,
             "#de77ae"
            ],
            [
             0.3,
             "#f1b6da"
            ],
            [
             0.4,
             "#fde0ef"
            ],
            [
             0.5,
             "#f7f7f7"
            ],
            [
             0.6,
             "#e6f5d0"
            ],
            [
             0.7,
             "#b8e186"
            ],
            [
             0.8,
             "#7fbc41"
            ],
            [
             0.9,
             "#4d9221"
            ],
            [
             1,
             "#276419"
            ]
           ],
           "sequential": [
            [
             0,
             "#0d0887"
            ],
            [
             0.1111111111111111,
             "#46039f"
            ],
            [
             0.2222222222222222,
             "#7201a8"
            ],
            [
             0.3333333333333333,
             "#9c179e"
            ],
            [
             0.4444444444444444,
             "#bd3786"
            ],
            [
             0.5555555555555556,
             "#d8576b"
            ],
            [
             0.6666666666666666,
             "#ed7953"
            ],
            [
             0.7777777777777778,
             "#fb9f3a"
            ],
            [
             0.8888888888888888,
             "#fdca26"
            ],
            [
             1,
             "#f0f921"
            ]
           ],
           "sequentialminus": [
            [
             0,
             "#0d0887"
            ],
            [
             0.1111111111111111,
             "#46039f"
            ],
            [
             0.2222222222222222,
             "#7201a8"
            ],
            [
             0.3333333333333333,
             "#9c179e"
            ],
            [
             0.4444444444444444,
             "#bd3786"
            ],
            [
             0.5555555555555556,
             "#d8576b"
            ],
            [
             0.6666666666666666,
             "#ed7953"
            ],
            [
             0.7777777777777778,
             "#fb9f3a"
            ],
            [
             0.8888888888888888,
             "#fdca26"
            ],
            [
             1,
             "#f0f921"
            ]
           ]
          },
          "colorway": [
           "#636efa",
           "#EF553B",
           "#00cc96",
           "#ab63fa",
           "#FFA15A",
           "#19d3f3",
           "#FF6692",
           "#B6E880",
           "#FF97FF",
           "#FECB52"
          ],
          "font": {
           "color": "#2a3f5f"
          },
          "geo": {
           "bgcolor": "white",
           "lakecolor": "white",
           "landcolor": "#E5ECF6",
           "showlakes": true,
           "showland": true,
           "subunitcolor": "white"
          },
          "hoverlabel": {
           "align": "left"
          },
          "hovermode": "closest",
          "mapbox": {
           "style": "light"
          },
          "paper_bgcolor": "white",
          "plot_bgcolor": "#E5ECF6",
          "polar": {
           "angularaxis": {
            "gridcolor": "white",
            "linecolor": "white",
            "ticks": ""
           },
           "bgcolor": "#E5ECF6",
           "radialaxis": {
            "gridcolor": "white",
            "linecolor": "white",
            "ticks": ""
           }
          },
          "scene": {
           "xaxis": {
            "backgroundcolor": "#E5ECF6",
            "gridcolor": "white",
            "gridwidth": 2,
            "linecolor": "white",
            "showbackground": true,
            "ticks": "",
            "zerolinecolor": "white"
           },
           "yaxis": {
            "backgroundcolor": "#E5ECF6",
            "gridcolor": "white",
            "gridwidth": 2,
            "linecolor": "white",
            "showbackground": true,
            "ticks": "",
            "zerolinecolor": "white"
           },
           "zaxis": {
            "backgroundcolor": "#E5ECF6",
            "gridcolor": "white",
            "gridwidth": 2,
            "linecolor": "white",
            "showbackground": true,
            "ticks": "",
            "zerolinecolor": "white"
           }
          },
          "shapedefaults": {
           "line": {
            "color": "#2a3f5f"
           }
          },
          "ternary": {
           "aaxis": {
            "gridcolor": "white",
            "linecolor": "white",
            "ticks": ""
           },
           "baxis": {
            "gridcolor": "white",
            "linecolor": "white",
            "ticks": ""
           },
           "bgcolor": "#E5ECF6",
           "caxis": {
            "gridcolor": "white",
            "linecolor": "white",
            "ticks": ""
           }
          },
          "title": {
           "x": 0.05
          },
          "xaxis": {
           "automargin": true,
           "gridcolor": "white",
           "linecolor": "white",
           "ticks": "",
           "title": {
            "standoff": 15
           },
           "zerolinecolor": "white",
           "zerolinewidth": 2
          },
          "yaxis": {
           "automargin": true,
           "gridcolor": "white",
           "linecolor": "white",
           "ticks": "",
           "title": {
            "standoff": 15
           },
           "zerolinecolor": "white",
           "zerolinewidth": 2
          }
         }
        },
        "title": {
         "font": {
          "size": 20
         },
         "text": "<b>Regionale Unterschiede im Trinkgeldverhalten</b>",
         "x": 0.43,
         "xanchor": "center",
         "y": 0.9,
         "yanchor": "top"
        },
        "xaxis": {
         "title": {
          "text": "<b>Counties</b>"
         }
        },
        "yaxis": {
         "title": {
          "text": "<b>Tipp Wshk.</b>"
         }
        }
       }
      }
     },
     "metadata": {},
     "output_type": "display_data"
    }
   ],
   "source": [
    "# hline bei 0.5 \n",
    "# schlechtestes County hervorheben mit Zahl (siehe bestes)\n",
    "# vllt hintergrundfarbe entfernen\n",
    "\n",
    "fig1 = go.Figure()\n",
    "\n",
    "for county in df_county_tip2.county:\n",
    " fig1.add_trace(\n",
    "  go.Bar(\n",
    "   x= df_county_tip2.loc[df_county_tip2.county == county].county,\n",
    "   y= df_county_tip2.loc[df_county_tip2.county == county].tip,\n",
    "   name= county,\n",
    "   showlegend= True,\n",
    "   marker= dict(color= px.colors.qualitative.Set1[8]),\n",
    "   width= 0.8\n",
    "  )\n",
    " )\n",
    "\n",
    " \n",
    "fig1.update_traces(marker_color= px.colors.qualitative.G10[8], text= df_county_tip2.loc[df_county_tip2.tip == df_county_tip2.tip.max()].tip[0].round(3), selector= dict(name= df_county_tip2.loc[df_county_tip2.tip == df_county_tip2.tip.max()].county[0]))\n",
    "\n",
    "fig1.update_layout(legend=dict(groupclick=\"toggleitem\"),title= dict(text= \"<b>Regionale Unterschiede im Trinkgeldverhalten</b>\", font_size= 20, xanchor= \"center\", yanchor= \"top\", y=0.9, x=0.43), legend_title_text = \"<b>Counties</b>\", height= 550)\n",
    "fig1.update_xaxes(title_text=\"<b>Counties</b>\")\n",
    "fig1.update_yaxes(title_text=\"<b>Tipp Wshk.</b>\")\n",
    "fig1.show()"
   ]
  },
  {
   "attachments": {},
   "cell_type": "markdown",
   "metadata": {},
   "source": [
    "#### old"
   ]
  },
  {
   "cell_type": "code",
   "execution_count": null,
   "metadata": {},
   "outputs": [],
   "source": [
    "df_county_tip = df.groupby(\"county\").agg(tip = (\"tip\", \"sum\"), tip_opp = (\"tip\", \"count\")).reset_index()\n",
    "df_county_tip[\"no_tip\"] = df_county_tip.tip_opp - df_county_tip.tip"
   ]
  },
  {
   "cell_type": "code",
   "execution_count": null,
   "metadata": {},
   "outputs": [],
   "source": [
    "df_county_tip[\"tip_norm\"], df_county_tip[\"no_tip_norm\"] = [df_county_tip.iloc[:, 1:2].apply(lambda x: x / df_county_tip.tip_opp, axis= 0), df_county_tip.iloc[:, 3:4].apply(lambda x: x / df_county_tip.tip_opp, axis= 0)]"
   ]
  },
  {
   "cell_type": "code",
   "execution_count": null,
   "metadata": {},
   "outputs": [],
   "source": [
    "df_county_tip.drop([\"tip_opp\"], axis= 1, inplace= True)"
   ]
  },
  {
   "cell_type": "code",
   "execution_count": null,
   "metadata": {},
   "outputs": [
    {
     "data": {
      "text/html": [
       "<div>\n",
       "<style scoped>\n",
       "    .dataframe tbody tr th:only-of-type {\n",
       "        vertical-align: middle;\n",
       "    }\n",
       "\n",
       "    .dataframe tbody tr th {\n",
       "        vertical-align: top;\n",
       "    }\n",
       "\n",
       "    .dataframe thead th {\n",
       "        text-align: right;\n",
       "    }\n",
       "</style>\n",
       "<table border=\"1\" class=\"dataframe\">\n",
       "  <thead>\n",
       "    <tr style=\"text-align: right;\">\n",
       "      <th></th>\n",
       "      <th>county</th>\n",
       "      <th>tip</th>\n",
       "      <th>no_tip</th>\n",
       "      <th>tip_norm</th>\n",
       "      <th>no_tip_norm</th>\n",
       "    </tr>\n",
       "  </thead>\n",
       "  <tbody>\n",
       "    <tr>\n",
       "      <th>0</th>\n",
       "      <td>Alameda</td>\n",
       "      <td>7071</td>\n",
       "      <td>9845</td>\n",
       "      <td>0.418007</td>\n",
       "      <td>0.581993</td>\n",
       "    </tr>\n",
       "    <tr>\n",
       "      <th>1</th>\n",
       "      <td>Alpine</td>\n",
       "      <td>59712</td>\n",
       "      <td>73571</td>\n",
       "      <td>0.448009</td>\n",
       "      <td>0.551991</td>\n",
       "    </tr>\n",
       "    <tr>\n",
       "      <th>2</th>\n",
       "      <td>Amador</td>\n",
       "      <td>55238</td>\n",
       "      <td>65874</td>\n",
       "      <td>0.456090</td>\n",
       "      <td>0.543910</td>\n",
       "    </tr>\n",
       "    <tr>\n",
       "      <th>3</th>\n",
       "      <td>Calaveras</td>\n",
       "      <td>229220</td>\n",
       "      <td>273259</td>\n",
       "      <td>0.456178</td>\n",
       "      <td>0.543822</td>\n",
       "    </tr>\n",
       "    <tr>\n",
       "      <th>4</th>\n",
       "      <td>Colusa</td>\n",
       "      <td>16970</td>\n",
       "      <td>17973</td>\n",
       "      <td>0.485648</td>\n",
       "      <td>0.514352</td>\n",
       "    </tr>\n",
       "  </tbody>\n",
       "</table>\n",
       "</div>"
      ],
      "text/plain": [
       "      county     tip  no_tip  tip_norm  no_tip_norm\n",
       "0    Alameda    7071    9845  0.418007     0.581993\n",
       "1     Alpine   59712   73571  0.448009     0.551991\n",
       "2     Amador   55238   65874  0.456090     0.543910\n",
       "3  Calaveras  229220  273259  0.456178     0.543822\n",
       "4     Colusa   16970   17973  0.485648     0.514352"
      ]
     },
     "metadata": {},
     "output_type": "display_data"
    }
   ],
   "source": [
    "df_county_tip.head()"
   ]
  },
  {
   "cell_type": "code",
   "execution_count": null,
   "metadata": {},
   "outputs": [
    {
     "data": {
      "text/html": [
       "<div>\n",
       "<style scoped>\n",
       "    .dataframe tbody tr th:only-of-type {\n",
       "        vertical-align: middle;\n",
       "    }\n",
       "\n",
       "    .dataframe tbody tr th {\n",
       "        vertical-align: top;\n",
       "    }\n",
       "\n",
       "    .dataframe thead th {\n",
       "        text-align: right;\n",
       "    }\n",
       "</style>\n",
       "<table border=\"1\" class=\"dataframe\">\n",
       "  <thead>\n",
       "    <tr style=\"text-align: right;\">\n",
       "      <th></th>\n",
       "      <th>county</th>\n",
       "      <th>tip</th>\n",
       "      <th>no_tip</th>\n",
       "      <th>tip_norm</th>\n",
       "      <th>no_tip_norm</th>\n",
       "    </tr>\n",
       "  </thead>\n",
       "  <tbody>\n",
       "    <tr>\n",
       "      <th>6</th>\n",
       "      <td>Del Norte</td>\n",
       "      <td>10075</td>\n",
       "      <td>9235</td>\n",
       "      <td>0.521750</td>\n",
       "      <td>0.478250</td>\n",
       "    </tr>\n",
       "    <tr>\n",
       "      <th>7</th>\n",
       "      <td>El Dorado</td>\n",
       "      <td>8183</td>\n",
       "      <td>7240</td>\n",
       "      <td>0.530571</td>\n",
       "      <td>0.469429</td>\n",
       "    </tr>\n",
       "    <tr>\n",
       "      <th>10</th>\n",
       "      <td>Humboldt</td>\n",
       "      <td>3321</td>\n",
       "      <td>3080</td>\n",
       "      <td>0.518825</td>\n",
       "      <td>0.481175</td>\n",
       "    </tr>\n",
       "    <tr>\n",
       "      <th>16</th>\n",
       "      <td>Lassen</td>\n",
       "      <td>11678</td>\n",
       "      <td>11522</td>\n",
       "      <td>0.503362</td>\n",
       "      <td>0.496638</td>\n",
       "    </tr>\n",
       "    <tr>\n",
       "      <th>23</th>\n",
       "      <td>Modoc</td>\n",
       "      <td>50644</td>\n",
       "      <td>44438</td>\n",
       "      <td>0.532635</td>\n",
       "      <td>0.467365</td>\n",
       "    </tr>\n",
       "    <tr>\n",
       "      <th>24</th>\n",
       "      <td>Mono</td>\n",
       "      <td>15075</td>\n",
       "      <td>14790</td>\n",
       "      <td>0.504771</td>\n",
       "      <td>0.495229</td>\n",
       "    </tr>\n",
       "    <tr>\n",
       "      <th>34</th>\n",
       "      <td>San Bernardino</td>\n",
       "      <td>75</td>\n",
       "      <td>73</td>\n",
       "      <td>0.506757</td>\n",
       "      <td>0.493243</td>\n",
       "    </tr>\n",
       "    <tr>\n",
       "      <th>35</th>\n",
       "      <td>San Diego</td>\n",
       "      <td>13636</td>\n",
       "      <td>10684</td>\n",
       "      <td>0.560691</td>\n",
       "      <td>0.439309</td>\n",
       "    </tr>\n",
       "    <tr>\n",
       "      <th>40</th>\n",
       "      <td>Santa Barbara</td>\n",
       "      <td>93390</td>\n",
       "      <td>80136</td>\n",
       "      <td>0.538190</td>\n",
       "      <td>0.461810</td>\n",
       "    </tr>\n",
       "    <tr>\n",
       "      <th>53</th>\n",
       "      <td>Tuolumne</td>\n",
       "      <td>16847</td>\n",
       "      <td>15186</td>\n",
       "      <td>0.525926</td>\n",
       "      <td>0.474074</td>\n",
       "    </tr>\n",
       "  </tbody>\n",
       "</table>\n",
       "</div>"
      ],
      "text/plain": [
       "            county    tip  no_tip  tip_norm  no_tip_norm\n",
       "6        Del Norte  10075    9235  0.521750     0.478250\n",
       "7        El Dorado   8183    7240  0.530571     0.469429\n",
       "10        Humboldt   3321    3080  0.518825     0.481175\n",
       "16          Lassen  11678   11522  0.503362     0.496638\n",
       "23           Modoc  50644   44438  0.532635     0.467365\n",
       "24            Mono  15075   14790  0.504771     0.495229\n",
       "34  San Bernardino     75      73  0.506757     0.493243\n",
       "35       San Diego  13636   10684  0.560691     0.439309\n",
       "40   Santa Barbara  93390   80136  0.538190     0.461810\n",
       "53        Tuolumne  16847   15186  0.525926     0.474074"
      ]
     },
     "metadata": {},
     "output_type": "display_data"
    }
   ],
   "source": [
    "df_county_tip.loc[df_county_tip.tip_norm > df_county_tip.no_tip_norm]"
   ]
  },
  {
   "cell_type": "code",
   "execution_count": null,
   "metadata": {},
   "outputs": [
    {
     "data": {
      "text/html": [
       "<div>\n",
       "<style scoped>\n",
       "    .dataframe tbody tr th:only-of-type {\n",
       "        vertical-align: middle;\n",
       "    }\n",
       "\n",
       "    .dataframe tbody tr th {\n",
       "        vertical-align: top;\n",
       "    }\n",
       "\n",
       "    .dataframe thead th {\n",
       "        text-align: right;\n",
       "    }\n",
       "</style>\n",
       "<table border=\"1\" class=\"dataframe\">\n",
       "  <thead>\n",
       "    <tr style=\"text-align: right;\">\n",
       "      <th>tip</th>\n",
       "      <th>0</th>\n",
       "      <th>1</th>\n",
       "      <th>All</th>\n",
       "    </tr>\n",
       "    <tr>\n",
       "      <th>county</th>\n",
       "      <th></th>\n",
       "      <th></th>\n",
       "      <th></th>\n",
       "    </tr>\n",
       "  </thead>\n",
       "  <tbody>\n",
       "    <tr>\n",
       "      <th>Alameda</th>\n",
       "      <td>9845</td>\n",
       "      <td>7071</td>\n",
       "      <td>16916</td>\n",
       "    </tr>\n",
       "    <tr>\n",
       "      <th>Alpine</th>\n",
       "      <td>73571</td>\n",
       "      <td>59712</td>\n",
       "      <td>133283</td>\n",
       "    </tr>\n",
       "    <tr>\n",
       "      <th>Amador</th>\n",
       "      <td>65874</td>\n",
       "      <td>55238</td>\n",
       "      <td>121112</td>\n",
       "    </tr>\n",
       "    <tr>\n",
       "      <th>Calaveras</th>\n",
       "      <td>273259</td>\n",
       "      <td>229220</td>\n",
       "      <td>502479</td>\n",
       "    </tr>\n",
       "    <tr>\n",
       "      <th>Colusa</th>\n",
       "      <td>17973</td>\n",
       "      <td>16970</td>\n",
       "      <td>34943</td>\n",
       "    </tr>\n",
       "  </tbody>\n",
       "</table>\n",
       "</div>"
      ],
      "text/plain": [
       "tip             0       1     All\n",
       "county                           \n",
       "Alameda      9845    7071   16916\n",
       "Alpine      73571   59712  133283\n",
       "Amador      65874   55238  121112\n",
       "Calaveras  273259  229220  502479\n",
       "Colusa      17973   16970   34943"
      ]
     },
     "metadata": {},
     "output_type": "display_data"
    }
   ],
   "source": [
    "pd.crosstab(df.county, df.tip, margins= True, normalize= False).head()"
   ]
  },
  {
   "cell_type": "code",
   "execution_count": null,
   "metadata": {},
   "outputs": [
    {
     "data": {
      "application/vnd.plotly.v1+json": {
       "config": {
        "plotlyServerURL": "https://plot.ly"
       },
       "data": [
        {
         "alignmentgroup": "True",
         "hovertemplate": "county=%{x}<br>tip_norm=%{y}<extra></extra>",
         "legendgroup": "",
         "marker": {
          "color": "#636efa",
          "pattern": {
           "shape": ""
          }
         },
         "name": "",
         "offsetgroup": "",
         "orientation": "v",
         "showlegend": false,
         "textposition": "auto",
         "type": "bar",
         "x": [
          "San Diego",
          "Santa Barbara",
          "Modoc",
          "El Dorado",
          "Tuolumne",
          "Del Norte",
          "Humboldt",
          "San Bernardino",
          "Mono",
          "Lassen",
          "San Benito",
          "Merced",
          "San Francisco",
          "Colusa",
          "Sierra",
          "Glenn",
          "Solano",
          "Kern",
          "Kings",
          "Siskiyou",
          "Shasta",
          "Los Angeles",
          "Fresno",
          "Orange",
          "Placer",
          "Santa Clara",
          "Yuba",
          "San Mateo",
          "Imperial",
          "Calaveras",
          "Amador",
          "Madera",
          "Alpine",
          "Plumas",
          "Sutter",
          "Contra Costa",
          "Nevada",
          "Ventura",
          "Napa",
          "Alameda",
          "Riverside",
          "Tehama",
          "San Luis Obispo",
          "Yolo",
          "Monterey",
          "San Joaquin",
          "Mariposa",
          "Sonoma",
          "Marin",
          "Stanislaus",
          "Sacramento",
          "Mendocino",
          "Santa Cruz",
          "Lake",
          "Inyo",
          "Tulare",
          "Trinity"
         ],
         "xaxis": "x",
         "y": [
          0.5606907894736842,
          0.5381902423844266,
          0.5326349887465556,
          0.5305712247941387,
          0.5259263884119502,
          0.5217503883997928,
          0.5188251835650679,
          0.5067567567567568,
          0.5047714716223004,
          0.5033620689655173,
          0.49953411697247707,
          0.48937211128706243,
          0.485923571280492,
          0.48564805540451594,
          0.48248935163274964,
          0.4807460798024661,
          0.48024657534246573,
          0.47743576053773595,
          0.47686023062205907,
          0.4738710735317183,
          0.47029517997259934,
          0.46945323320499627,
          0.4661326866718258,
          0.46603942765492595,
          0.46511627906976744,
          0.4605908484651173,
          0.45838085899719183,
          0.4571416033088679,
          0.4567995980587563,
          0.4561782681465295,
          0.45609023053041814,
          0.44932526826910735,
          0.44800912344410015,
          0.44671682741672136,
          0.44653870721159383,
          0.4463870307378956,
          0.4441468755263601,
          0.43132833583208396,
          0.4305031269367288,
          0.41800662095057933,
          0.4092043714471504,
          0.4081028792534426,
          0.4074415921546005,
          0.3945801916208402,
          0.39257785732973965,
          0.38775762063433294,
          0.38041966345501427,
          0.3737928536938677,
          0.369095583438855,
          0.3610165147021129,
          0.3577875369919855,
          0.3575606958516536,
          0.3448438650712222,
          0.32122785456855246,
          0.320221950462701,
          0.2996947496947497,
          0.226215644820296
         ],
         "yaxis": "y"
        }
       ],
       "layout": {
        "barmode": "relative",
        "legend": {
         "tracegroupgap": 0
        },
        "margin": {
         "t": 60
        },
        "template": {
         "data": {
          "bar": [
           {
            "error_x": {
             "color": "#2a3f5f"
            },
            "error_y": {
             "color": "#2a3f5f"
            },
            "marker": {
             "line": {
              "color": "#E5ECF6",
              "width": 0.5
             },
             "pattern": {
              "fillmode": "overlay",
              "size": 10,
              "solidity": 0.2
             }
            },
            "type": "bar"
           }
          ],
          "barpolar": [
           {
            "marker": {
             "line": {
              "color": "#E5ECF6",
              "width": 0.5
             },
             "pattern": {
              "fillmode": "overlay",
              "size": 10,
              "solidity": 0.2
             }
            },
            "type": "barpolar"
           }
          ],
          "carpet": [
           {
            "aaxis": {
             "endlinecolor": "#2a3f5f",
             "gridcolor": "white",
             "linecolor": "white",
             "minorgridcolor": "white",
             "startlinecolor": "#2a3f5f"
            },
            "baxis": {
             "endlinecolor": "#2a3f5f",
             "gridcolor": "white",
             "linecolor": "white",
             "minorgridcolor": "white",
             "startlinecolor": "#2a3f5f"
            },
            "type": "carpet"
           }
          ],
          "choropleth": [
           {
            "colorbar": {
             "outlinewidth": 0,
             "ticks": ""
            },
            "type": "choropleth"
           }
          ],
          "contour": [
           {
            "colorbar": {
             "outlinewidth": 0,
             "ticks": ""
            },
            "colorscale": [
             [
              0,
              "#0d0887"
             ],
             [
              0.1111111111111111,
              "#46039f"
             ],
             [
              0.2222222222222222,
              "#7201a8"
             ],
             [
              0.3333333333333333,
              "#9c179e"
             ],
             [
              0.4444444444444444,
              "#bd3786"
             ],
             [
              0.5555555555555556,
              "#d8576b"
             ],
             [
              0.6666666666666666,
              "#ed7953"
             ],
             [
              0.7777777777777778,
              "#fb9f3a"
             ],
             [
              0.8888888888888888,
              "#fdca26"
             ],
             [
              1,
              "#f0f921"
             ]
            ],
            "type": "contour"
           }
          ],
          "contourcarpet": [
           {
            "colorbar": {
             "outlinewidth": 0,
             "ticks": ""
            },
            "type": "contourcarpet"
           }
          ],
          "heatmap": [
           {
            "colorbar": {
             "outlinewidth": 0,
             "ticks": ""
            },
            "colorscale": [
             [
              0,
              "#0d0887"
             ],
             [
              0.1111111111111111,
              "#46039f"
             ],
             [
              0.2222222222222222,
              "#7201a8"
             ],
             [
              0.3333333333333333,
              "#9c179e"
             ],
             [
              0.4444444444444444,
              "#bd3786"
             ],
             [
              0.5555555555555556,
              "#d8576b"
             ],
             [
              0.6666666666666666,
              "#ed7953"
             ],
             [
              0.7777777777777778,
              "#fb9f3a"
             ],
             [
              0.8888888888888888,
              "#fdca26"
             ],
             [
              1,
              "#f0f921"
             ]
            ],
            "type": "heatmap"
           }
          ],
          "heatmapgl": [
           {
            "colorbar": {
             "outlinewidth": 0,
             "ticks": ""
            },
            "colorscale": [
             [
              0,
              "#0d0887"
             ],
             [
              0.1111111111111111,
              "#46039f"
             ],
             [
              0.2222222222222222,
              "#7201a8"
             ],
             [
              0.3333333333333333,
              "#9c179e"
             ],
             [
              0.4444444444444444,
              "#bd3786"
             ],
             [
              0.5555555555555556,
              "#d8576b"
             ],
             [
              0.6666666666666666,
              "#ed7953"
             ],
             [
              0.7777777777777778,
              "#fb9f3a"
             ],
             [
              0.8888888888888888,
              "#fdca26"
             ],
             [
              1,
              "#f0f921"
             ]
            ],
            "type": "heatmapgl"
           }
          ],
          "histogram": [
           {
            "marker": {
             "pattern": {
              "fillmode": "overlay",
              "size": 10,
              "solidity": 0.2
             }
            },
            "type": "histogram"
           }
          ],
          "histogram2d": [
           {
            "colorbar": {
             "outlinewidth": 0,
             "ticks": ""
            },
            "colorscale": [
             [
              0,
              "#0d0887"
             ],
             [
              0.1111111111111111,
              "#46039f"
             ],
             [
              0.2222222222222222,
              "#7201a8"
             ],
             [
              0.3333333333333333,
              "#9c179e"
             ],
             [
              0.4444444444444444,
              "#bd3786"
             ],
             [
              0.5555555555555556,
              "#d8576b"
             ],
             [
              0.6666666666666666,
              "#ed7953"
             ],
             [
              0.7777777777777778,
              "#fb9f3a"
             ],
             [
              0.8888888888888888,
              "#fdca26"
             ],
             [
              1,
              "#f0f921"
             ]
            ],
            "type": "histogram2d"
           }
          ],
          "histogram2dcontour": [
           {
            "colorbar": {
             "outlinewidth": 0,
             "ticks": ""
            },
            "colorscale": [
             [
              0,
              "#0d0887"
             ],
             [
              0.1111111111111111,
              "#46039f"
             ],
             [
              0.2222222222222222,
              "#7201a8"
             ],
             [
              0.3333333333333333,
              "#9c179e"
             ],
             [
              0.4444444444444444,
              "#bd3786"
             ],
             [
              0.5555555555555556,
              "#d8576b"
             ],
             [
              0.6666666666666666,
              "#ed7953"
             ],
             [
              0.7777777777777778,
              "#fb9f3a"
             ],
             [
              0.8888888888888888,
              "#fdca26"
             ],
             [
              1,
              "#f0f921"
             ]
            ],
            "type": "histogram2dcontour"
           }
          ],
          "mesh3d": [
           {
            "colorbar": {
             "outlinewidth": 0,
             "ticks": ""
            },
            "type": "mesh3d"
           }
          ],
          "parcoords": [
           {
            "line": {
             "colorbar": {
              "outlinewidth": 0,
              "ticks": ""
             }
            },
            "type": "parcoords"
           }
          ],
          "pie": [
           {
            "automargin": true,
            "type": "pie"
           }
          ],
          "scatter": [
           {
            "fillpattern": {
             "fillmode": "overlay",
             "size": 10,
             "solidity": 0.2
            },
            "type": "scatter"
           }
          ],
          "scatter3d": [
           {
            "line": {
             "colorbar": {
              "outlinewidth": 0,
              "ticks": ""
             }
            },
            "marker": {
             "colorbar": {
              "outlinewidth": 0,
              "ticks": ""
             }
            },
            "type": "scatter3d"
           }
          ],
          "scattercarpet": [
           {
            "marker": {
             "colorbar": {
              "outlinewidth": 0,
              "ticks": ""
             }
            },
            "type": "scattercarpet"
           }
          ],
          "scattergeo": [
           {
            "marker": {
             "colorbar": {
              "outlinewidth": 0,
              "ticks": ""
             }
            },
            "type": "scattergeo"
           }
          ],
          "scattergl": [
           {
            "marker": {
             "colorbar": {
              "outlinewidth": 0,
              "ticks": ""
             }
            },
            "type": "scattergl"
           }
          ],
          "scattermapbox": [
           {
            "marker": {
             "colorbar": {
              "outlinewidth": 0,
              "ticks": ""
             }
            },
            "type": "scattermapbox"
           }
          ],
          "scatterpolar": [
           {
            "marker": {
             "colorbar": {
              "outlinewidth": 0,
              "ticks": ""
             }
            },
            "type": "scatterpolar"
           }
          ],
          "scatterpolargl": [
           {
            "marker": {
             "colorbar": {
              "outlinewidth": 0,
              "ticks": ""
             }
            },
            "type": "scatterpolargl"
           }
          ],
          "scatterternary": [
           {
            "marker": {
             "colorbar": {
              "outlinewidth": 0,
              "ticks": ""
             }
            },
            "type": "scatterternary"
           }
          ],
          "surface": [
           {
            "colorbar": {
             "outlinewidth": 0,
             "ticks": ""
            },
            "colorscale": [
             [
              0,
              "#0d0887"
             ],
             [
              0.1111111111111111,
              "#46039f"
             ],
             [
              0.2222222222222222,
              "#7201a8"
             ],
             [
              0.3333333333333333,
              "#9c179e"
             ],
             [
              0.4444444444444444,
              "#bd3786"
             ],
             [
              0.5555555555555556,
              "#d8576b"
             ],
             [
              0.6666666666666666,
              "#ed7953"
             ],
             [
              0.7777777777777778,
              "#fb9f3a"
             ],
             [
              0.8888888888888888,
              "#fdca26"
             ],
             [
              1,
              "#f0f921"
             ]
            ],
            "type": "surface"
           }
          ],
          "table": [
           {
            "cells": {
             "fill": {
              "color": "#EBF0F8"
             },
             "line": {
              "color": "white"
             }
            },
            "header": {
             "fill": {
              "color": "#C8D4E3"
             },
             "line": {
              "color": "white"
             }
            },
            "type": "table"
           }
          ]
         },
         "layout": {
          "annotationdefaults": {
           "arrowcolor": "#2a3f5f",
           "arrowhead": 0,
           "arrowwidth": 1
          },
          "autotypenumbers": "strict",
          "coloraxis": {
           "colorbar": {
            "outlinewidth": 0,
            "ticks": ""
           }
          },
          "colorscale": {
           "diverging": [
            [
             0,
             "#8e0152"
            ],
            [
             0.1,
             "#c51b7d"
            ],
            [
             0.2,
             "#de77ae"
            ],
            [
             0.3,
             "#f1b6da"
            ],
            [
             0.4,
             "#fde0ef"
            ],
            [
             0.5,
             "#f7f7f7"
            ],
            [
             0.6,
             "#e6f5d0"
            ],
            [
             0.7,
             "#b8e186"
            ],
            [
             0.8,
             "#7fbc41"
            ],
            [
             0.9,
             "#4d9221"
            ],
            [
             1,
             "#276419"
            ]
           ],
           "sequential": [
            [
             0,
             "#0d0887"
            ],
            [
             0.1111111111111111,
             "#46039f"
            ],
            [
             0.2222222222222222,
             "#7201a8"
            ],
            [
             0.3333333333333333,
             "#9c179e"
            ],
            [
             0.4444444444444444,
             "#bd3786"
            ],
            [
             0.5555555555555556,
             "#d8576b"
            ],
            [
             0.6666666666666666,
             "#ed7953"
            ],
            [
             0.7777777777777778,
             "#fb9f3a"
            ],
            [
             0.8888888888888888,
             "#fdca26"
            ],
            [
             1,
             "#f0f921"
            ]
           ],
           "sequentialminus": [
            [
             0,
             "#0d0887"
            ],
            [
             0.1111111111111111,
             "#46039f"
            ],
            [
             0.2222222222222222,
             "#7201a8"
            ],
            [
             0.3333333333333333,
             "#9c179e"
            ],
            [
             0.4444444444444444,
             "#bd3786"
            ],
            [
             0.5555555555555556,
             "#d8576b"
            ],
            [
             0.6666666666666666,
             "#ed7953"
            ],
            [
             0.7777777777777778,
             "#fb9f3a"
            ],
            [
             0.8888888888888888,
             "#fdca26"
            ],
            [
             1,
             "#f0f921"
            ]
           ]
          },
          "colorway": [
           "#636efa",
           "#EF553B",
           "#00cc96",
           "#ab63fa",
           "#FFA15A",
           "#19d3f3",
           "#FF6692",
           "#B6E880",
           "#FF97FF",
           "#FECB52"
          ],
          "font": {
           "color": "#2a3f5f"
          },
          "geo": {
           "bgcolor": "white",
           "lakecolor": "white",
           "landcolor": "#E5ECF6",
           "showlakes": true,
           "showland": true,
           "subunitcolor": "white"
          },
          "hoverlabel": {
           "align": "left"
          },
          "hovermode": "closest",
          "mapbox": {
           "style": "light"
          },
          "paper_bgcolor": "white",
          "plot_bgcolor": "#E5ECF6",
          "polar": {
           "angularaxis": {
            "gridcolor": "white",
            "linecolor": "white",
            "ticks": ""
           },
           "bgcolor": "#E5ECF6",
           "radialaxis": {
            "gridcolor": "white",
            "linecolor": "white",
            "ticks": ""
           }
          },
          "scene": {
           "xaxis": {
            "backgroundcolor": "#E5ECF6",
            "gridcolor": "white",
            "gridwidth": 2,
            "linecolor": "white",
            "showbackground": true,
            "ticks": "",
            "zerolinecolor": "white"
           },
           "yaxis": {
            "backgroundcolor": "#E5ECF6",
            "gridcolor": "white",
            "gridwidth": 2,
            "linecolor": "white",
            "showbackground": true,
            "ticks": "",
            "zerolinecolor": "white"
           },
           "zaxis": {
            "backgroundcolor": "#E5ECF6",
            "gridcolor": "white",
            "gridwidth": 2,
            "linecolor": "white",
            "showbackground": true,
            "ticks": "",
            "zerolinecolor": "white"
           }
          },
          "shapedefaults": {
           "line": {
            "color": "#2a3f5f"
           }
          },
          "ternary": {
           "aaxis": {
            "gridcolor": "white",
            "linecolor": "white",
            "ticks": ""
           },
           "baxis": {
            "gridcolor": "white",
            "linecolor": "white",
            "ticks": ""
           },
           "bgcolor": "#E5ECF6",
           "caxis": {
            "gridcolor": "white",
            "linecolor": "white",
            "ticks": ""
           }
          },
          "title": {
           "x": 0.05
          },
          "xaxis": {
           "automargin": true,
           "gridcolor": "white",
           "linecolor": "white",
           "ticks": "",
           "title": {
            "standoff": 15
           },
           "zerolinecolor": "white",
           "zerolinewidth": 2
          },
          "yaxis": {
           "automargin": true,
           "gridcolor": "white",
           "linecolor": "white",
           "ticks": "",
           "title": {
            "standoff": 15
           },
           "zerolinecolor": "white",
           "zerolinewidth": 2
          }
         }
        },
        "xaxis": {
         "anchor": "y",
         "domain": [
          0,
          1
         ],
         "title": {
          "text": "county"
         }
        },
        "yaxis": {
         "anchor": "x",
         "domain": [
          0,
          1
         ],
         "title": {
          "text": "tip_norm"
         }
        }
       }
      }
     },
     "metadata": {},
     "output_type": "display_data"
    }
   ],
   "source": [
    "df_county_tip_sorted = df_county_tip.sort_values(by= [\"tip_norm\"], ascending= False)\n",
    "px.bar(df_county_tip_sorted, x= \"county\", y= \"tip_norm\")"
   ]
  }
 ],
 "metadata": {
  "kernelspec": {
   "display_name": "Python 3",
   "language": "python",
   "name": "python3"
  },
  "language_info": {
   "codemirror_mode": {
    "name": "ipython",
    "version": 3
   },
   "file_extension": ".py",
   "mimetype": "text/x-python",
   "name": "python",
   "nbconvert_exporter": "python",
   "pygments_lexer": "ipython3",
   "version": "3.9.7"
  },
  "orig_nbformat": 4,
  "vscode": {
   "interpreter": {
    "hash": "aee8b7b246df8f9039afb4144a1f6fd8d2ca17a180786b69acc140d282b71a49"
   }
  }
 },
 "nbformat": 4,
 "nbformat_minor": 2
}
