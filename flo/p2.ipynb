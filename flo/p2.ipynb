{
 "cells": [
  {
   "cell_type": "code",
   "execution_count": 216,
   "metadata": {},
   "outputs": [],
   "source": [
    "import pandas as pd\n",
    "import numpy as np\n",
    "import plotly.express as px\n",
    "import plotly.graph_objects as go\n",
    "from plotly.subplots import make_subplots"
   ]
  },
  {
   "cell_type": "code",
   "execution_count": 39,
   "metadata": {},
   "outputs": [],
   "source": [
    "df = pd.read_parquet(\"DSCB310 - UE2 - Shopping Carts.parquet\")"
   ]
  },
  {
   "cell_type": "code",
   "execution_count": 40,
   "metadata": {},
   "outputs": [
    {
     "data": {
      "text/html": [
       "<div>\n",
       "<style scoped>\n",
       "    .dataframe tbody tr th:only-of-type {\n",
       "        vertical-align: middle;\n",
       "    }\n",
       "\n",
       "    .dataframe tbody tr th {\n",
       "        vertical-align: top;\n",
       "    }\n",
       "\n",
       "    .dataframe thead th {\n",
       "        text-align: right;\n",
       "    }\n",
       "</style>\n",
       "<table border=\"1\" class=\"dataframe\">\n",
       "  <thead>\n",
       "    <tr style=\"text-align: right;\">\n",
       "      <th></th>\n",
       "      <th>order_id</th>\n",
       "      <th>product_id</th>\n",
       "      <th>add_to_cart_order</th>\n",
       "      <th>reordered</th>\n",
       "      <th>user_id</th>\n",
       "      <th>order_number</th>\n",
       "      <th>order_dow</th>\n",
       "      <th>order_hour_of_day</th>\n",
       "      <th>days_since_prior_order</th>\n",
       "      <th>tip</th>\n",
       "      <th>product_name</th>\n",
       "      <th>aisle_id</th>\n",
       "      <th>department_id</th>\n",
       "      <th>department</th>\n",
       "      <th>aisle</th>\n",
       "      <th>county</th>\n",
       "    </tr>\n",
       "  </thead>\n",
       "  <tbody>\n",
       "    <tr>\n",
       "      <th>0</th>\n",
       "      <td>1</td>\n",
       "      <td>13176</td>\n",
       "      <td>6</td>\n",
       "      <td>0</td>\n",
       "      <td>112108</td>\n",
       "      <td>4</td>\n",
       "      <td>4</td>\n",
       "      <td>10</td>\n",
       "      <td>9.0</td>\n",
       "      <td>1</td>\n",
       "      <td>Bag of Organic Bananas</td>\n",
       "      <td>24</td>\n",
       "      <td>4</td>\n",
       "      <td>produce</td>\n",
       "      <td>fresh fruits</td>\n",
       "      <td>Inyo</td>\n",
       "    </tr>\n",
       "    <tr>\n",
       "      <th>1</th>\n",
       "      <td>1</td>\n",
       "      <td>11109</td>\n",
       "      <td>2</td>\n",
       "      <td>1</td>\n",
       "      <td>112108</td>\n",
       "      <td>4</td>\n",
       "      <td>4</td>\n",
       "      <td>10</td>\n",
       "      <td>9.0</td>\n",
       "      <td>1</td>\n",
       "      <td>Organic 4% Milk Fat Whole Milk Cottage Cheese</td>\n",
       "      <td>108</td>\n",
       "      <td>16</td>\n",
       "      <td>dairy eggs</td>\n",
       "      <td>other creams cheeses</td>\n",
       "      <td>Inyo</td>\n",
       "    </tr>\n",
       "    <tr>\n",
       "      <th>2</th>\n",
       "      <td>1</td>\n",
       "      <td>10246</td>\n",
       "      <td>3</td>\n",
       "      <td>0</td>\n",
       "      <td>112108</td>\n",
       "      <td>4</td>\n",
       "      <td>4</td>\n",
       "      <td>10</td>\n",
       "      <td>9.0</td>\n",
       "      <td>1</td>\n",
       "      <td>Organic Celery Hearts</td>\n",
       "      <td>83</td>\n",
       "      <td>4</td>\n",
       "      <td>produce</td>\n",
       "      <td>fresh vegetables</td>\n",
       "      <td>Inyo</td>\n",
       "    </tr>\n",
       "    <tr>\n",
       "      <th>3</th>\n",
       "      <td>1</td>\n",
       "      <td>22035</td>\n",
       "      <td>8</td>\n",
       "      <td>1</td>\n",
       "      <td>112108</td>\n",
       "      <td>4</td>\n",
       "      <td>4</td>\n",
       "      <td>10</td>\n",
       "      <td>9.0</td>\n",
       "      <td>1</td>\n",
       "      <td>Organic Whole String Cheese</td>\n",
       "      <td>21</td>\n",
       "      <td>16</td>\n",
       "      <td>dairy eggs</td>\n",
       "      <td>packaged cheese</td>\n",
       "      <td>Inyo</td>\n",
       "    </tr>\n",
       "    <tr>\n",
       "      <th>4</th>\n",
       "      <td>1</td>\n",
       "      <td>49683</td>\n",
       "      <td>4</td>\n",
       "      <td>0</td>\n",
       "      <td>112108</td>\n",
       "      <td>4</td>\n",
       "      <td>4</td>\n",
       "      <td>10</td>\n",
       "      <td>9.0</td>\n",
       "      <td>1</td>\n",
       "      <td>Cucumber Kirby</td>\n",
       "      <td>83</td>\n",
       "      <td>4</td>\n",
       "      <td>produce</td>\n",
       "      <td>fresh vegetables</td>\n",
       "      <td>Inyo</td>\n",
       "    </tr>\n",
       "  </tbody>\n",
       "</table>\n",
       "</div>"
      ],
      "text/plain": [
       "   order_id  product_id  add_to_cart_order  reordered  user_id  order_number  \\\n",
       "0         1       13176                  6          0   112108             4   \n",
       "1         1       11109                  2          1   112108             4   \n",
       "2         1       10246                  3          0   112108             4   \n",
       "3         1       22035                  8          1   112108             4   \n",
       "4         1       49683                  4          0   112108             4   \n",
       "\n",
       "   order_dow  order_hour_of_day  days_since_prior_order  tip  \\\n",
       "0          4                 10                     9.0    1   \n",
       "1          4                 10                     9.0    1   \n",
       "2          4                 10                     9.0    1   \n",
       "3          4                 10                     9.0    1   \n",
       "4          4                 10                     9.0    1   \n",
       "\n",
       "                                    product_name  aisle_id  department_id  \\\n",
       "0                         Bag of Organic Bananas        24              4   \n",
       "1  Organic 4% Milk Fat Whole Milk Cottage Cheese       108             16   \n",
       "2                          Organic Celery Hearts        83              4   \n",
       "3                    Organic Whole String Cheese        21             16   \n",
       "4                                 Cucumber Kirby        83              4   \n",
       "\n",
       "   department                 aisle county  \n",
       "0     produce          fresh fruits   Inyo  \n",
       "1  dairy eggs  other creams cheeses   Inyo  \n",
       "2     produce      fresh vegetables   Inyo  \n",
       "3  dairy eggs       packaged cheese   Inyo  \n",
       "4     produce      fresh vegetables   Inyo  "
      ]
     },
     "execution_count": 40,
     "metadata": {},
     "output_type": "execute_result"
    }
   ],
   "source": [
    "df.reset_index(drop= True).head()"
   ]
  },
  {
   "cell_type": "code",
   "execution_count": 41,
   "metadata": {},
   "outputs": [],
   "source": [
    "from urllib.request import urlopen\n",
    "import json\n",
    "import ssl\n",
    "ssl._create_default_https_context = ssl._create_unverified_context\n",
    "with urlopen('https://raw.githubusercontent.com/plotly/datasets/master/geojson-counties-fips.json') as response:\n",
    "    geojsn = json.load(response)"
   ]
  },
  {
   "cell_type": "code",
   "execution_count": 42,
   "metadata": {},
   "outputs": [],
   "source": [
    "a = geojsn[\"features\"].__len__()\n",
    "for i in range(a,0,-1):\n",
    "    if geojsn[\"features\"][i-1][\"properties\"][\"STATE\"] != \"06\":\n",
    "        geojsn[\"features\"].pop(i-1)"
   ]
  },
  {
   "attachments": {},
   "cell_type": "markdown",
   "metadata": {},
   "source": [
    "### **P2:** Lassen sich regionale Unterschiede im Trinkgeldverhalten erkennen?"
   ]
  },
  {
   "cell_type": "code",
   "execution_count": 43,
   "metadata": {},
   "outputs": [],
   "source": [
    "df_county_tip1 = df.groupby([\"county\", \"order_id\"]).agg(tip = (\"tip\", \"mean\")).reset_index()"
   ]
  },
  {
   "cell_type": "code",
   "execution_count": 44,
   "metadata": {},
   "outputs": [],
   "source": [
    "df_county_tip2 = df_county_tip1.groupby(\"county\").agg(tip = (\"tip\", \"mean\"), orders= (\"order_id\", \"count\")).sort_values(by= \"tip\", ascending= False).reset_index()"
   ]
  },
  {
   "cell_type": "code",
   "execution_count": 45,
   "metadata": {},
   "outputs": [],
   "source": [
    "df_county_tip2[\"orders\"] = (df_county_tip2.orders / df_county_tip2.orders.sum()) # *10"
   ]
  },
  {
   "cell_type": "code",
   "execution_count": 46,
   "metadata": {},
   "outputs": [
    {
     "data": {
      "text/html": [
       "<div>\n",
       "<style scoped>\n",
       "    .dataframe tbody tr th:only-of-type {\n",
       "        vertical-align: middle;\n",
       "    }\n",
       "\n",
       "    .dataframe tbody tr th {\n",
       "        vertical-align: top;\n",
       "    }\n",
       "\n",
       "    .dataframe thead th {\n",
       "        text-align: right;\n",
       "    }\n",
       "</style>\n",
       "<table border=\"1\" class=\"dataframe\">\n",
       "  <thead>\n",
       "    <tr style=\"text-align: right;\">\n",
       "      <th></th>\n",
       "      <th>county</th>\n",
       "      <th>tip</th>\n",
       "      <th>orders</th>\n",
       "    </tr>\n",
       "  </thead>\n",
       "  <tbody>\n",
       "    <tr>\n",
       "      <th>0</th>\n",
       "      <td>San Diego</td>\n",
       "      <td>0.530895</td>\n",
       "      <td>0.003920</td>\n",
       "    </tr>\n",
       "    <tr>\n",
       "      <th>1</th>\n",
       "      <td>Santa Barbara</td>\n",
       "      <td>0.507548</td>\n",
       "      <td>0.023030</td>\n",
       "    </tr>\n",
       "    <tr>\n",
       "      <th>2</th>\n",
       "      <td>Lassen</td>\n",
       "      <td>0.502494</td>\n",
       "      <td>0.003964</td>\n",
       "    </tr>\n",
       "    <tr>\n",
       "      <th>3</th>\n",
       "      <td>Del Norte</td>\n",
       "      <td>0.501239</td>\n",
       "      <td>0.003323</td>\n",
       "    </tr>\n",
       "    <tr>\n",
       "      <th>4</th>\n",
       "      <td>Modoc</td>\n",
       "      <td>0.492131</td>\n",
       "      <td>0.015599</td>\n",
       "    </tr>\n",
       "  </tbody>\n",
       "</table>\n",
       "</div>"
      ],
      "text/plain": [
       "          county       tip    orders\n",
       "0      San Diego  0.530895  0.003920\n",
       "1  Santa Barbara  0.507548  0.023030\n",
       "2         Lassen  0.502494  0.003964\n",
       "3      Del Norte  0.501239  0.003323\n",
       "4          Modoc  0.492131  0.015599"
      ]
     },
     "execution_count": 46,
     "metadata": {},
     "output_type": "execute_result"
    }
   ],
   "source": [
    "df_county_tip2.head()"
   ]
  },
  {
   "cell_type": "code",
   "execution_count": 47,
   "metadata": {},
   "outputs": [
    {
     "data": {
      "text/plain": [
       "5.856"
      ]
     },
     "execution_count": 47,
     "metadata": {},
     "output_type": "execute_result"
    }
   ],
   "source": [
    "(df_county_tip2.loc[df_county_tip2.county == \"Glenn\"].orders.values[0] * 100).round(3)"
   ]
  },
  {
   "cell_type": "code",
   "execution_count": 279,
   "metadata": {},
   "outputs": [
    {
     "data": {
      "application/vnd.plotly.v1+json": {
       "config": {
        "plotlyServerURL": "https://plot.ly"
       },
       "data": [
        {
         "customdata": [
          0,
          1,
          2,
          3,
          4,
          5,
          6
         ],
         "hovertemplate": "%{y}[%{customdata}] = %{marker.color}<extra></extra>",
         "marker": {
          "color": [
           "rgb(237, 229, 207)",
           "rgb(224, 194, 162)",
           "rgb(211, 156, 131)",
           "rgb(193, 118, 111)",
           "rgb(166, 84, 97)",
           "rgb(129, 55, 83)",
           "rgb(84, 31, 63)"
          ]
         },
         "orientation": "h",
         "type": "bar",
         "x": [
          1,
          1,
          1,
          1,
          1,
          1,
          1
         ],
         "y": [
          "Brwnyl",
          "Brwnyl",
          "Brwnyl",
          "Brwnyl",
          "Brwnyl",
          "Brwnyl",
          "Brwnyl"
         ]
        },
        {
         "customdata": [
          0,
          1,
          2,
          3,
          4,
          5,
          6
         ],
         "hovertemplate": "%{y}[%{customdata}] = %{marker.color}<extra></extra>",
         "marker": {
          "color": [
           "rgb(75, 41, 145)",
           "rgb(135, 44, 162)",
           "rgb(192, 54, 157)",
           "rgb(234, 79, 136)",
           "rgb(250, 120, 118)",
           "rgb(246, 169, 122)",
           "rgb(237, 217, 163)"
          ]
         },
         "orientation": "h",
         "type": "bar",
         "x": [
          1,
          1,
          1,
          1,
          1,
          1,
          1
         ],
         "y": [
          "Agsunset",
          "Agsunset",
          "Agsunset",
          "Agsunset",
          "Agsunset",
          "Agsunset",
          "Agsunset"
         ]
        },
        {
         "customdata": [
          0,
          1,
          2,
          3,
          4,
          5,
          6
         ],
         "hovertemplate": "%{y}[%{customdata}] = %{marker.color}<extra></extra>",
         "marker": {
          "color": [
           "rgb(252, 222, 156)",
           "rgb(250, 164, 118)",
           "rgb(240, 116, 110)",
           "rgb(227, 79, 111)",
           "rgb(220, 57, 119)",
           "rgb(185, 37, 122)",
           "rgb(124, 29, 111)"
          ]
         },
         "orientation": "h",
         "type": "bar",
         "x": [
          1,
          1,
          1,
          1,
          1,
          1,
          1
         ],
         "y": [
          "Sunsetdark",
          "Sunsetdark",
          "Sunsetdark",
          "Sunsetdark",
          "Sunsetdark",
          "Sunsetdark",
          "Sunsetdark"
         ]
        },
        {
         "customdata": [
          0,
          1,
          2,
          3,
          4,
          5,
          6
         ],
         "hovertemplate": "%{y}[%{customdata}] = %{marker.color}<extra></extra>",
         "marker": {
          "color": [
           "rgb(243, 203, 211)",
           "rgb(234, 169, 189)",
           "rgb(221, 136, 172)",
           "rgb(202, 105, 157)",
           "rgb(177, 77, 142)",
           "rgb(145, 53, 125)",
           "rgb(108, 33, 103)"
          ]
         },
         "orientation": "h",
         "type": "bar",
         "x": [
          1,
          1,
          1,
          1,
          1,
          1,
          1
         ],
         "y": [
          "Magenta",
          "Magenta",
          "Magenta",
          "Magenta",
          "Magenta",
          "Magenta",
          "Magenta"
         ]
        },
        {
         "customdata": [
          0,
          1,
          2,
          3,
          4,
          5,
          6
         ],
         "hovertemplate": "%{y}[%{customdata}] = %{marker.color}<extra></extra>",
         "marker": {
          "color": [
           "rgb(243, 231, 155)",
           "rgb(250, 196, 132)",
           "rgb(248, 160, 126)",
           "rgb(235, 127, 134)",
           "rgb(206, 102, 147)",
           "rgb(160, 89, 160)",
           "rgb(92, 83, 165)"
          ]
         },
         "orientation": "h",
         "type": "bar",
         "x": [
          1,
          1,
          1,
          1,
          1,
          1,
          1
         ],
         "y": [
          "Sunset",
          "Sunset",
          "Sunset",
          "Sunset",
          "Sunset",
          "Sunset",
          "Sunset"
         ]
        },
        {
         "customdata": [
          0,
          1,
          2,
          3,
          4,
          5,
          6
         ],
         "hovertemplate": "%{y}[%{customdata}] = %{marker.color}<extra></extra>",
         "marker": {
          "color": [
           "rgb(249, 221, 218)",
           "rgb(242, 185, 196)",
           "rgb(229, 151, 185)",
           "rgb(206, 120, 179)",
           "rgb(173, 95, 173)",
           "rgb(131, 75, 160)",
           "rgb(87, 59, 136)"
          ]
         },
         "orientation": "h",
         "type": "bar",
         "x": [
          1,
          1,
          1,
          1,
          1,
          1,
          1
         ],
         "y": [
          "Purpor",
          "Purpor",
          "Purpor",
          "Purpor",
          "Purpor",
          "Purpor",
          "Purpor"
         ]
        },
        {
         "customdata": [
          0,
          1,
          2,
          3,
          4,
          5,
          6
         ],
         "hovertemplate": "%{y}[%{customdata}] = %{marker.color}<extra></extra>",
         "marker": {
          "color": [
           "rgb(243, 224, 247)",
           "rgb(228, 199, 241)",
           "rgb(209, 175, 232)",
           "rgb(185, 152, 221)",
           "rgb(159, 130, 206)",
           "rgb(130, 109, 186)",
           "rgb(99, 88, 159)"
          ]
         },
         "orientation": "h",
         "type": "bar",
         "x": [
          1,
          1,
          1,
          1,
          1,
          1,
          1
         ],
         "y": [
          "Purp",
          "Purp",
          "Purp",
          "Purp",
          "Purp",
          "Purp",
          "Purp"
         ]
        },
        {
         "customdata": [
          0,
          1,
          2,
          3,
          4,
          5,
          6
         ],
         "hovertemplate": "%{y}[%{customdata}] = %{marker.color}<extra></extra>",
         "marker": {
          "color": [
           "rgb(176, 242, 188)",
           "rgb(137, 232, 172)",
           "rgb(103, 219, 165)",
           "rgb(76, 200, 163)",
           "rgb(56, 178, 163)",
           "rgb(44, 152, 160)",
           "rgb(37, 125, 152)"
          ]
         },
         "orientation": "h",
         "type": "bar",
         "x": [
          1,
          1,
          1,
          1,
          1,
          1,
          1
         ],
         "y": [
          "Tealgrn",
          "Tealgrn",
          "Tealgrn",
          "Tealgrn",
          "Tealgrn",
          "Tealgrn",
          "Tealgrn"
         ]
        },
        {
         "customdata": [
          0,
          1,
          2,
          3,
          4,
          5,
          6
         ],
         "hovertemplate": "%{y}[%{customdata}] = %{marker.color}<extra></extra>",
         "marker": {
          "color": [
           "rgb(209, 238, 234)",
           "rgb(168, 219, 217)",
           "rgb(133, 196, 201)",
           "rgb(104, 171, 184)",
           "rgb(79, 144, 166)",
           "rgb(59, 115, 143)",
           "rgb(42, 86, 116)"
          ]
         },
         "orientation": "h",
         "type": "bar",
         "x": [
          1,
          1,
          1,
          1,
          1,
          1,
          1
         ],
         "y": [
          "Teal",
          "Teal",
          "Teal",
          "Teal",
          "Teal",
          "Teal",
          "Teal"
         ]
        },
        {
         "customdata": [
          0,
          1,
          2,
          3,
          4,
          5,
          6
         ],
         "hovertemplate": "%{y}[%{customdata}] = %{marker.color}<extra></extra>",
         "marker": {
          "color": [
           "rgb(247, 254, 174)",
           "rgb(183, 230, 165)",
           "rgb(124, 203, 162)",
           "rgb(70, 174, 160)",
           "rgb(8, 144, 153)",
           "rgb(0, 113, 139)",
           "rgb(4, 82, 117)"
          ]
         },
         "orientation": "h",
         "type": "bar",
         "x": [
          1,
          1,
          1,
          1,
          1,
          1,
          1
         ],
         "y": [
          "Bluyl",
          "Bluyl",
          "Bluyl",
          "Bluyl",
          "Bluyl",
          "Bluyl",
          "Bluyl"
         ]
        },
        {
         "customdata": [
          0,
          1,
          2,
          3,
          4,
          5,
          6
         ],
         "hovertemplate": "%{y}[%{customdata}] = %{marker.color}<extra></extra>",
         "marker": {
          "color": [
           "rgb(36, 86, 104)",
           "rgb(15, 114, 121)",
           "rgb(13, 143, 129)",
           "rgb(57, 171, 126)",
           "rgb(110, 197, 116)",
           "rgb(169, 220, 103)",
           "rgb(237, 239, 93)"
          ]
         },
         "orientation": "h",
         "type": "bar",
         "x": [
          1,
          1,
          1,
          1,
          1,
          1,
          1
         ],
         "y": [
          "Aggrnyl",
          "Aggrnyl",
          "Aggrnyl",
          "Aggrnyl",
          "Aggrnyl",
          "Aggrnyl",
          "Aggrnyl"
         ]
        },
        {
         "customdata": [
          0,
          1,
          2,
          3,
          4,
          5,
          6
         ],
         "hovertemplate": "%{y}[%{customdata}] = %{marker.color}<extra></extra>",
         "marker": {
          "color": [
           "rgb(211, 242, 163)",
           "rgb(151, 225, 150)",
           "rgb(108, 192, 139)",
           "rgb(76, 155, 130)",
           "rgb(33, 122, 121)",
           "rgb(16, 89, 101)",
           "rgb(7, 64, 80)"
          ]
         },
         "orientation": "h",
         "type": "bar",
         "x": [
          1,
          1,
          1,
          1,
          1,
          1,
          1
         ],
         "y": [
          "Emrld",
          "Emrld",
          "Emrld",
          "Emrld",
          "Emrld",
          "Emrld",
          "Emrld"
         ]
        },
        {
         "customdata": [
          0,
          1,
          2,
          3,
          4,
          5,
          6
         ],
         "hovertemplate": "%{y}[%{customdata}] = %{marker.color}<extra></extra>",
         "marker": {
          "color": [
           "rgb(210, 251, 212)",
           "rgb(165, 219, 194)",
           "rgb(123, 188, 176)",
           "rgb(85, 156, 158)",
           "rgb(58, 124, 137)",
           "rgb(35, 93, 114)",
           "rgb(18, 63, 90)"
          ]
         },
         "orientation": "h",
         "type": "bar",
         "x": [
          1,
          1,
          1,
          1,
          1,
          1,
          1
         ],
         "y": [
          "Darkmint",
          "Darkmint",
          "Darkmint",
          "Darkmint",
          "Darkmint",
          "Darkmint",
          "Darkmint"
         ]
        },
        {
         "customdata": [
          0,
          1,
          2,
          3,
          4,
          5,
          6
         ],
         "hovertemplate": "%{y}[%{customdata}] = %{marker.color}<extra></extra>",
         "marker": {
          "color": [
           "rgb(196, 230, 195)",
           "rgb(150, 210, 164)",
           "rgb(109, 188, 144)",
           "rgb(77, 162, 132)",
           "rgb(54, 135, 122)",
           "rgb(38, 107, 110)",
           "rgb(29, 79, 96)"
          ]
         },
         "orientation": "h",
         "type": "bar",
         "x": [
          1,
          1,
          1,
          1,
          1,
          1,
          1
         ],
         "y": [
          "Blugrn",
          "Blugrn",
          "Blugrn",
          "Blugrn",
          "Blugrn",
          "Blugrn",
          "Blugrn"
         ]
        },
        {
         "customdata": [
          0,
          1,
          2,
          3,
          4,
          5,
          6
         ],
         "hovertemplate": "%{y}[%{customdata}] = %{marker.color}<extra></extra>",
         "marker": {
          "color": [
           "rgb(228, 241, 225)",
           "rgb(180, 217, 204)",
           "rgb(137, 192, 182)",
           "rgb(99, 166, 160)",
           "rgb(68, 140, 138)",
           "rgb(40, 114, 116)",
           "rgb(13, 88, 95)"
          ]
         },
         "orientation": "h",
         "type": "bar",
         "x": [
          1,
          1,
          1,
          1,
          1,
          1,
          1
         ],
         "y": [
          "Mint",
          "Mint",
          "Mint",
          "Mint",
          "Mint",
          "Mint",
          "Mint"
         ]
        },
        {
         "customdata": [
          0,
          1,
          2,
          3,
          4,
          5,
          6
         ],
         "hovertemplate": "%{y}[%{customdata}] = %{marker.color}<extra></extra>",
         "marker": {
          "color": [
           "rgb(254, 246, 181)",
           "rgb(255, 221, 154)",
           "rgb(255, 194, 133)",
           "rgb(255, 166, 121)",
           "rgb(250, 138, 118)",
           "rgb(241, 109, 122)",
           "rgb(225, 83, 131)"
          ]
         },
         "orientation": "h",
         "type": "bar",
         "x": [
          1,
          1,
          1,
          1,
          1,
          1,
          1
         ],
         "y": [
          "Pinkyl",
          "Pinkyl",
          "Pinkyl",
          "Pinkyl",
          "Pinkyl",
          "Pinkyl",
          "Pinkyl"
         ]
        },
        {
         "customdata": [
          0,
          1,
          2,
          3,
          4,
          5,
          6
         ],
         "hovertemplate": "%{y}[%{customdata}] = %{marker.color}<extra></extra>",
         "marker": {
          "color": [
           "rgb(253, 224, 197)",
           "rgb(250, 203, 166)",
           "rgb(248, 181, 139)",
           "rgb(245, 158, 114)",
           "rgb(242, 133, 93)",
           "rgb(239, 106, 76)",
           "rgb(235, 74, 64)"
          ]
         },
         "orientation": "h",
         "type": "bar",
         "x": [
          1,
          1,
          1,
          1,
          1,
          1,
          1
         ],
         "y": [
          "Peach",
          "Peach",
          "Peach",
          "Peach",
          "Peach",
          "Peach",
          "Peach"
         ]
        },
        {
         "customdata": [
          0,
          1,
          2,
          3,
          4,
          5,
          6
         ],
         "hovertemplate": "%{y}[%{customdata}] = %{marker.color}<extra></extra>",
         "marker": {
          "color": [
           "rgb(236, 218, 154)",
           "rgb(239, 196, 126)",
           "rgb(243, 173, 106)",
           "rgb(247, 148, 93)",
           "rgb(249, 123, 87)",
           "rgb(246, 99, 86)",
           "rgb(238, 77, 90)"
          ]
         },
         "orientation": "h",
         "type": "bar",
         "x": [
          1,
          1,
          1,
          1,
          1,
          1,
          1
         ],
         "y": [
          "Oryel",
          "Oryel",
          "Oryel",
          "Oryel",
          "Oryel",
          "Oryel",
          "Oryel"
         ]
        },
        {
         "customdata": [
          0,
          1,
          2,
          3,
          4,
          5,
          6
         ],
         "hovertemplate": "%{y}[%{customdata}] = %{marker.color}<extra></extra>",
         "marker": {
          "color": [
           "rgb(246, 210, 169)",
           "rgb(245, 183, 142)",
           "rgb(241, 156, 124)",
           "rgb(234, 129, 113)",
           "rgb(221, 104, 108)",
           "rgb(202, 82, 104)",
           "rgb(177, 63, 100)"
          ]
         },
         "orientation": "h",
         "type": "bar",
         "x": [
          1,
          1,
          1,
          1,
          1,
          1,
          1
         ],
         "y": [
          "Redor",
          "Redor",
          "Redor",
          "Redor",
          "Redor",
          "Redor",
          "Redor"
         ]
        },
        {
         "customdata": [
          0,
          1,
          2,
          3,
          4,
          5,
          6
         ],
         "hovertemplate": "%{y}[%{customdata}] = %{marker.color}<extra></extra>",
         "marker": {
          "color": [
           "rgb(251, 230, 197)",
           "rgb(245, 186, 152)",
           "rgb(238, 138, 130)",
           "rgb(220, 113, 118)",
           "rgb(200, 88, 108)",
           "rgb(156, 63, 93)",
           "rgb(112, 40, 74)"
          ]
         },
         "orientation": "h",
         "type": "bar",
         "x": [
          1,
          1,
          1,
          1,
          1,
          1,
          1
         ],
         "y": [
          "Burgyl",
          "Burgyl",
          "Burgyl",
          "Burgyl",
          "Burgyl",
          "Burgyl",
          "Burgyl"
         ]
        },
        {
         "customdata": [
          0,
          1,
          2,
          3,
          4,
          5,
          6
         ],
         "hovertemplate": "%{y}[%{customdata}] = %{marker.color}<extra></extra>",
         "marker": {
          "color": [
           "rgb(255, 198, 196)",
           "rgb(244, 163, 168)",
           "rgb(227, 129, 145)",
           "rgb(204, 96, 125)",
           "rgb(173, 70, 108)",
           "rgb(139, 48, 88)",
           "rgb(103, 32, 68)"
          ]
         },
         "orientation": "h",
         "type": "bar",
         "x": [
          1,
          1,
          1,
          1,
          1,
          1,
          1
         ],
         "y": [
          "Burg",
          "Burg",
          "Burg",
          "Burg",
          "Burg",
          "Burg",
          "Burg"
         ]
        },
        {
         "customdata": [
          0,
          1,
          2,
          3,
          4,
          5,
          6,
          7,
          8,
          9,
          10,
          11
         ],
         "hovertemplate": "%{y}[%{customdata}] = %{marker.color}<extra></extra>",
         "marker": {
          "color": [
           "rgb(254, 245, 244)",
           "rgb(222, 224, 210)",
           "rgb(189, 206, 181)",
           "rgb(153, 189, 156)",
           "rgb(110, 173, 138)",
           "rgb(65, 157, 129)",
           "rgb(25, 137, 125)",
           "rgb(18, 116, 117)",
           "rgb(25, 94, 106)",
           "rgb(28, 72, 93)",
           "rgb(25, 51, 80)",
           "rgb(20, 29, 67)"
          ]
         },
         "orientation": "h",
         "type": "bar",
         "x": [
          1,
          1,
          1,
          1,
          1,
          1,
          1,
          1,
          1,
          1,
          1,
          1
         ],
         "y": [
          "tempo",
          "tempo",
          "tempo",
          "tempo",
          "tempo",
          "tempo",
          "tempo",
          "tempo",
          "tempo",
          "tempo",
          "tempo",
          "tempo"
         ]
        },
        {
         "customdata": [
          0,
          1,
          2,
          3,
          4,
          5,
          6,
          7,
          8,
          9,
          10,
          11
         ],
         "hovertemplate": "%{y}[%{customdata}] = %{marker.color}<extra></extra>",
         "marker": {
          "color": [
           "rgb(241, 236, 236)",
           "rgb(230, 209, 203)",
           "rgb(221, 182, 170)",
           "rgb(213, 156, 137)",
           "rgb(205, 129, 103)",
           "rgb(196, 102, 73)",
           "rgb(186, 74, 47)",
           "rgb(172, 44, 36)",
           "rgb(149, 19, 39)",
           "rgb(120, 14, 40)",
           "rgb(89, 13, 31)",
           "rgb(60, 9, 17)"
          ]
         },
         "orientation": "h",
         "type": "bar",
         "x": [
          1,
          1,
          1,
          1,
          1,
          1,
          1,
          1,
          1,
          1,
          1,
          1
         ],
         "y": [
          "amp",
          "amp",
          "amp",
          "amp",
          "amp",
          "amp",
          "amp",
          "amp",
          "amp",
          "amp",
          "amp",
          "amp"
         ]
        },
        {
         "customdata": [
          0,
          1,
          2,
          3,
          4,
          5,
          6,
          7,
          8,
          9,
          10,
          11
         ],
         "hovertemplate": "%{y}[%{customdata}] = %{marker.color}<extra></extra>",
         "marker": {
          "color": [
           "rgb(254, 252, 205)",
           "rgb(239, 225, 156)",
           "rgb(221, 201, 106)",
           "rgb(194, 182, 59)",
           "rgb(157, 167, 21)",
           "rgb(116, 153, 5)",
           "rgb(75, 138, 20)",
           "rgb(35, 121, 36)",
           "rgb(11, 100, 44)",
           "rgb(18, 78, 43)",
           "rgb(25, 56, 34)",
           "rgb(23, 35, 18)"
          ]
         },
         "orientation": "h",
         "type": "bar",
         "x": [
          1,
          1,
          1,
          1,
          1,
          1,
          1,
          1,
          1,
          1,
          1,
          1
         ],
         "y": [
          "speed",
          "speed",
          "speed",
          "speed",
          "speed",
          "speed",
          "speed",
          "speed",
          "speed",
          "speed",
          "speed",
          "speed"
         ]
        },
        {
         "customdata": [
          0,
          1,
          2,
          3,
          4,
          5,
          6,
          7,
          8,
          9,
          10,
          11
         ],
         "hovertemplate": "%{y}[%{customdata}] = %{marker.color}<extra></extra>",
         "marker": {
          "color": [
           "rgb(253, 237, 176)",
           "rgb(250, 205, 145)",
           "rgb(246, 173, 119)",
           "rgb(240, 142, 98)",
           "rgb(231, 109, 84)",
           "rgb(216, 80, 83)",
           "rgb(195, 56, 90)",
           "rgb(168, 40, 96)",
           "rgb(138, 29, 99)",
           "rgb(107, 24, 93)",
           "rgb(76, 21, 80)",
           "rgb(47, 15, 61)"
          ]
         },
         "orientation": "h",
         "type": "bar",
         "x": [
          1,
          1,
          1,
          1,
          1,
          1,
          1,
          1,
          1,
          1,
          1,
          1
         ],
         "y": [
          "matter",
          "matter",
          "matter",
          "matter",
          "matter",
          "matter",
          "matter",
          "matter",
          "matter",
          "matter",
          "matter",
          "matter"
         ]
        },
        {
         "customdata": [
          0,
          1,
          2,
          3,
          4,
          5,
          6,
          7,
          8,
          9,
          10,
          11
         ],
         "hovertemplate": "%{y}[%{customdata}] = %{marker.color}<extra></extra>",
         "marker": {
          "color": [
           "rgb(214, 249, 207)",
           "rgb(186, 228, 174)",
           "rgb(156, 209, 143)",
           "rgb(124, 191, 115)",
           "rgb(85, 174, 91)",
           "rgb(37, 157, 81)",
           "rgb(7, 138, 78)",
           "rgb(13, 117, 71)",
           "rgb(23, 95, 61)",
           "rgb(25, 75, 49)",
           "rgb(23, 55, 35)",
           "rgb(17, 36, 20)"
          ]
         },
         "orientation": "h",
         "type": "bar",
         "x": [
          1,
          1,
          1,
          1,
          1,
          1,
          1,
          1,
          1,
          1,
          1,
          1
         ],
         "y": [
          "algae",
          "algae",
          "algae",
          "algae",
          "algae",
          "algae",
          "algae",
          "algae",
          "algae",
          "algae",
          "algae",
          "algae"
         ]
        },
        {
         "customdata": [
          0,
          1,
          2,
          3,
          4,
          5,
          6,
          7,
          8,
          9,
          10,
          11
         ],
         "hovertemplate": "%{y}[%{customdata}] = %{marker.color}<extra></extra>",
         "marker": {
          "color": [
           "rgb(230, 240, 240)",
           "rgb(191, 221, 229)",
           "rgb(156, 201, 226)",
           "rgb(129, 180, 227)",
           "rgb(115, 154, 228)",
           "rgb(117, 127, 221)",
           "rgb(120, 100, 202)",
           "rgb(119, 74, 175)",
           "rgb(113, 50, 141)",
           "rgb(100, 31, 104)",
           "rgb(80, 20, 66)",
           "rgb(54, 14, 36)"
          ]
         },
         "orientation": "h",
         "type": "bar",
         "x": [
          1,
          1,
          1,
          1,
          1,
          1,
          1,
          1,
          1,
          1,
          1,
          1
         ],
         "y": [
          "dense",
          "dense",
          "dense",
          "dense",
          "dense",
          "dense",
          "dense",
          "dense",
          "dense",
          "dense",
          "dense",
          "dense"
         ]
        },
        {
         "customdata": [
          0,
          1,
          2,
          3,
          4,
          5,
          6,
          7,
          8,
          9,
          10,
          11
         ],
         "hovertemplate": "%{y}[%{customdata}] = %{marker.color}<extra></extra>",
         "marker": {
          "color": [
           "rgb(253, 253, 204)",
           "rgb(206, 236, 179)",
           "rgb(156, 219, 165)",
           "rgb(111, 201, 163)",
           "rgb(86, 177, 163)",
           "rgb(76, 153, 160)",
           "rgb(68, 130, 155)",
           "rgb(62, 108, 150)",
           "rgb(62, 82, 143)",
           "rgb(64, 60, 115)",
           "rgb(54, 43, 77)",
           "rgb(39, 26, 44)"
          ]
         },
         "orientation": "h",
         "type": "bar",
         "x": [
          1,
          1,
          1,
          1,
          1,
          1,
          1,
          1,
          1,
          1,
          1,
          1
         ],
         "y": [
          "deep",
          "deep",
          "deep",
          "deep",
          "deep",
          "deep",
          "deep",
          "deep",
          "deep",
          "deep",
          "deep",
          "deep"
         ]
        },
        {
         "customdata": [
          0,
          1,
          2,
          3,
          4,
          5,
          6,
          7,
          8,
          9,
          10,
          11
         ],
         "hovertemplate": "%{y}[%{customdata}] = %{marker.color}<extra></extra>",
         "marker": {
          "color": [
           "rgb(0, 0, 0)",
           "rgb(16, 16, 16)",
           "rgb(38, 38, 38)",
           "rgb(59, 59, 59)",
           "rgb(81, 80, 80)",
           "rgb(102, 101, 101)",
           "rgb(124, 123, 122)",
           "rgb(146, 146, 145)",
           "rgb(171, 171, 170)",
           "rgb(197, 197, 195)",
           "rgb(224, 224, 223)",
           "rgb(254, 254, 253)"
          ]
         },
         "orientation": "h",
         "type": "bar",
         "x": [
          1,
          1,
          1,
          1,
          1,
          1,
          1,
          1,
          1,
          1,
          1,
          1
         ],
         "y": [
          "gray",
          "gray",
          "gray",
          "gray",
          "gray",
          "gray",
          "gray",
          "gray",
          "gray",
          "gray",
          "gray",
          "gray"
         ]
        },
        {
         "customdata": [
          0,
          1,
          2,
          3,
          4,
          5,
          6,
          7,
          8,
          9,
          10,
          11
         ],
         "hovertemplate": "%{y}[%{customdata}] = %{marker.color}<extra></extra>",
         "marker": {
          "color": [
           "rgb(3, 5, 18)",
           "rgb(25, 25, 51)",
           "rgb(44, 42, 87)",
           "rgb(58, 60, 125)",
           "rgb(62, 83, 160)",
           "rgb(62, 109, 178)",
           "rgb(72, 134, 187)",
           "rgb(89, 159, 196)",
           "rgb(114, 184, 205)",
           "rgb(149, 207, 216)",
           "rgb(192, 229, 232)",
           "rgb(234, 252, 253)"
          ]
         },
         "orientation": "h",
         "type": "bar",
         "x": [
          1,
          1,
          1,
          1,
          1,
          1,
          1,
          1,
          1,
          1,
          1,
          1
         ],
         "y": [
          "ice",
          "ice",
          "ice",
          "ice",
          "ice",
          "ice",
          "ice",
          "ice",
          "ice",
          "ice",
          "ice",
          "ice"
         ]
        },
        {
         "customdata": [
          0,
          1,
          2,
          3,
          4,
          5,
          6,
          7,
          8,
          9,
          10,
          11
         ],
         "hovertemplate": "%{y}[%{customdata}] = %{marker.color}<extra></extra>",
         "marker": {
          "color": [
           "rgb(51, 19, 23)",
           "rgb(79, 28, 33)",
           "rgb(108, 36, 36)",
           "rgb(135, 47, 32)",
           "rgb(157, 66, 25)",
           "rgb(174, 88, 20)",
           "rgb(188, 111, 19)",
           "rgb(199, 137, 22)",
           "rgb(209, 164, 32)",
           "rgb(217, 192, 44)",
           "rgb(222, 222, 59)",
           "rgb(224, 253, 74)"
          ]
         },
         "orientation": "h",
         "type": "bar",
         "x": [
          1,
          1,
          1,
          1,
          1,
          1,
          1,
          1,
          1,
          1,
          1,
          1
         ],
         "y": [
          "solar",
          "solar",
          "solar",
          "solar",
          "solar",
          "solar",
          "solar",
          "solar",
          "solar",
          "solar",
          "solar",
          "solar"
         ]
        },
        {
         "customdata": [
          0,
          1,
          2,
          3,
          4,
          5,
          6,
          7,
          8,
          9,
          10,
          11
         ],
         "hovertemplate": "%{y}[%{customdata}] = %{marker.color}<extra></extra>",
         "marker": {
          "color": [
           "rgb(41, 24, 107)",
           "rgb(42, 35, 160)",
           "rgb(15, 71, 153)",
           "rgb(18, 95, 142)",
           "rgb(38, 116, 137)",
           "rgb(53, 136, 136)",
           "rgb(65, 157, 133)",
           "rgb(81, 178, 124)",
           "rgb(111, 198, 107)",
           "rgb(160, 214, 91)",
           "rgb(212, 225, 112)",
           "rgb(253, 238, 153)"
          ]
         },
         "orientation": "h",
         "type": "bar",
         "x": [
          1,
          1,
          1,
          1,
          1,
          1,
          1,
          1,
          1,
          1,
          1,
          1
         ],
         "y": [
          "haline",
          "haline",
          "haline",
          "haline",
          "haline",
          "haline",
          "haline",
          "haline",
          "haline",
          "haline",
          "haline",
          "haline"
         ]
        },
        {
         "customdata": [
          0,
          1,
          2,
          3,
          4,
          5,
          6,
          7,
          8,
          9,
          10,
          11
         ],
         "hovertemplate": "%{y}[%{customdata}] = %{marker.color}<extra></extra>",
         "marker": {
          "color": [
           "rgb(3, 35, 51)",
           "rgb(13, 48, 100)",
           "rgb(53, 50, 155)",
           "rgb(93, 62, 153)",
           "rgb(126, 77, 143)",
           "rgb(158, 89, 135)",
           "rgb(193, 100, 121)",
           "rgb(225, 113, 97)",
           "rgb(246, 139, 69)",
           "rgb(251, 173, 60)",
           "rgb(246, 211, 70)",
           "rgb(231, 250, 90)"
          ]
         },
         "orientation": "h",
         "type": "bar",
         "x": [
          1,
          1,
          1,
          1,
          1,
          1,
          1,
          1,
          1,
          1,
          1,
          1
         ],
         "y": [
          "thermal",
          "thermal",
          "thermal",
          "thermal",
          "thermal",
          "thermal",
          "thermal",
          "thermal",
          "thermal",
          "thermal",
          "thermal",
          "thermal"
         ]
        },
        {
         "customdata": [
          0,
          1,
          2,
          3,
          4,
          5,
          6,
          7,
          8,
          9,
          10,
          11
         ],
         "hovertemplate": "%{y}[%{customdata}] = %{marker.color}<extra></extra>",
         "marker": {
          "color": [
           "rgb(232, 245, 171)",
           "rgb(220, 219, 137)",
           "rgb(209, 193, 107)",
           "rgb(199, 168, 83)",
           "rgb(186, 143, 66)",
           "rgb(170, 121, 60)",
           "rgb(151, 103, 58)",
           "rgb(129, 87, 56)",
           "rgb(104, 72, 53)",
           "rgb(80, 59, 46)",
           "rgb(57, 45, 37)",
           "rgb(34, 30, 27)"
          ]
         },
         "orientation": "h",
         "type": "bar",
         "x": [
          1,
          1,
          1,
          1,
          1,
          1,
          1,
          1,
          1,
          1,
          1,
          1
         ],
         "y": [
          "turbid",
          "turbid",
          "turbid",
          "turbid",
          "turbid",
          "turbid",
          "turbid",
          "turbid",
          "turbid",
          "turbid",
          "turbid",
          "turbid"
         ]
        },
        {
         "customdata": [
          0,
          1,
          2,
          3,
          4,
          5,
          6,
          7,
          8
         ],
         "hovertemplate": "%{y}[%{customdata}] = %{marker.color}<extra></extra>",
         "marker": {
          "color": [
           "rgb(255,255,204)",
           "rgb(255,237,160)",
           "rgb(254,217,118)",
           "rgb(254,178,76)",
           "rgb(253,141,60)",
           "rgb(252,78,42)",
           "rgb(227,26,28)",
           "rgb(189,0,38)",
           "rgb(128,0,38)"
          ]
         },
         "orientation": "h",
         "type": "bar",
         "x": [
          1,
          1,
          1,
          1,
          1,
          1,
          1,
          1,
          1
         ],
         "y": [
          "YlOrRd",
          "YlOrRd",
          "YlOrRd",
          "YlOrRd",
          "YlOrRd",
          "YlOrRd",
          "YlOrRd",
          "YlOrRd",
          "YlOrRd"
         ]
        },
        {
         "customdata": [
          0,
          1,
          2,
          3,
          4,
          5,
          6,
          7,
          8
         ],
         "hovertemplate": "%{y}[%{customdata}] = %{marker.color}<extra></extra>",
         "marker": {
          "color": [
           "rgb(255,255,229)",
           "rgb(255,247,188)",
           "rgb(254,227,145)",
           "rgb(254,196,79)",
           "rgb(254,153,41)",
           "rgb(236,112,20)",
           "rgb(204,76,2)",
           "rgb(153,52,4)",
           "rgb(102,37,6)"
          ]
         },
         "orientation": "h",
         "type": "bar",
         "x": [
          1,
          1,
          1,
          1,
          1,
          1,
          1,
          1,
          1
         ],
         "y": [
          "YlOrBr",
          "YlOrBr",
          "YlOrBr",
          "YlOrBr",
          "YlOrBr",
          "YlOrBr",
          "YlOrBr",
          "YlOrBr",
          "YlOrBr"
         ]
        },
        {
         "customdata": [
          0,
          1,
          2,
          3,
          4,
          5,
          6,
          7,
          8
         ],
         "hovertemplate": "%{y}[%{customdata}] = %{marker.color}<extra></extra>",
         "marker": {
          "color": [
           "rgb(255,255,217)",
           "rgb(237,248,177)",
           "rgb(199,233,180)",
           "rgb(127,205,187)",
           "rgb(65,182,196)",
           "rgb(29,145,192)",
           "rgb(34,94,168)",
           "rgb(37,52,148)",
           "rgb(8,29,88)"
          ]
         },
         "orientation": "h",
         "type": "bar",
         "x": [
          1,
          1,
          1,
          1,
          1,
          1,
          1,
          1,
          1
         ],
         "y": [
          "YlGnBu",
          "YlGnBu",
          "YlGnBu",
          "YlGnBu",
          "YlGnBu",
          "YlGnBu",
          "YlGnBu",
          "YlGnBu",
          "YlGnBu"
         ]
        },
        {
         "customdata": [
          0,
          1,
          2,
          3,
          4,
          5,
          6,
          7,
          8
         ],
         "hovertemplate": "%{y}[%{customdata}] = %{marker.color}<extra></extra>",
         "marker": {
          "color": [
           "rgb(255,255,229)",
           "rgb(247,252,185)",
           "rgb(217,240,163)",
           "rgb(173,221,142)",
           "rgb(120,198,121)",
           "rgb(65,171,93)",
           "rgb(35,132,67)",
           "rgb(0,104,55)",
           "rgb(0,69,41)"
          ]
         },
         "orientation": "h",
         "type": "bar",
         "x": [
          1,
          1,
          1,
          1,
          1,
          1,
          1,
          1,
          1
         ],
         "y": [
          "YlGn",
          "YlGn",
          "YlGn",
          "YlGn",
          "YlGn",
          "YlGn",
          "YlGn",
          "YlGn",
          "YlGn"
         ]
        },
        {
         "customdata": [
          0,
          1,
          2,
          3,
          4,
          5,
          6,
          7,
          8
         ],
         "hovertemplate": "%{y}[%{customdata}] = %{marker.color}<extra></extra>",
         "marker": {
          "color": [
           "rgb(255,245,240)",
           "rgb(254,224,210)",
           "rgb(252,187,161)",
           "rgb(252,146,114)",
           "rgb(251,106,74)",
           "rgb(239,59,44)",
           "rgb(203,24,29)",
           "rgb(165,15,21)",
           "rgb(103,0,13)"
          ]
         },
         "orientation": "h",
         "type": "bar",
         "x": [
          1,
          1,
          1,
          1,
          1,
          1,
          1,
          1,
          1
         ],
         "y": [
          "Reds",
          "Reds",
          "Reds",
          "Reds",
          "Reds",
          "Reds",
          "Reds",
          "Reds",
          "Reds"
         ]
        },
        {
         "customdata": [
          0,
          1,
          2,
          3,
          4,
          5,
          6,
          7,
          8
         ],
         "hovertemplate": "%{y}[%{customdata}] = %{marker.color}<extra></extra>",
         "marker": {
          "color": [
           "rgb(255,247,243)",
           "rgb(253,224,221)",
           "rgb(252,197,192)",
           "rgb(250,159,181)",
           "rgb(247,104,161)",
           "rgb(221,52,151)",
           "rgb(174,1,126)",
           "rgb(122,1,119)",
           "rgb(73,0,106)"
          ]
         },
         "orientation": "h",
         "type": "bar",
         "x": [
          1,
          1,
          1,
          1,
          1,
          1,
          1,
          1,
          1
         ],
         "y": [
          "RdPu",
          "RdPu",
          "RdPu",
          "RdPu",
          "RdPu",
          "RdPu",
          "RdPu",
          "RdPu",
          "RdPu"
         ]
        },
        {
         "customdata": [
          0,
          1,
          2,
          3,
          4,
          5,
          6,
          7,
          8,
          9,
          10
         ],
         "hovertemplate": "%{y}[%{customdata}] = %{marker.color}<extra></extra>",
         "marker": {
          "color": [
           "rgb(103,0,31)",
           "rgb(178,24,43)",
           "rgb(214,96,77)",
           "rgb(244,165,130)",
           "rgb(253,219,199)",
           "rgb(247,247,247)",
           "rgb(209,229,240)",
           "rgb(146,197,222)",
           "rgb(67,147,195)",
           "rgb(33,102,172)",
           "rgb(5,48,97)"
          ]
         },
         "orientation": "h",
         "type": "bar",
         "x": [
          1,
          1,
          1,
          1,
          1,
          1,
          1,
          1,
          1,
          1,
          1
         ],
         "y": [
          "RdBu",
          "RdBu",
          "RdBu",
          "RdBu",
          "RdBu",
          "RdBu",
          "RdBu",
          "RdBu",
          "RdBu",
          "RdBu",
          "RdBu"
         ]
        },
        {
         "customdata": [
          0,
          1,
          2,
          3,
          4,
          5,
          6,
          7,
          8
         ],
         "hovertemplate": "%{y}[%{customdata}] = %{marker.color}<extra></extra>",
         "marker": {
          "color": [
           "rgb(252,251,253)",
           "rgb(239,237,245)",
           "rgb(218,218,235)",
           "rgb(188,189,220)",
           "rgb(158,154,200)",
           "rgb(128,125,186)",
           "rgb(106,81,163)",
           "rgb(84,39,143)",
           "rgb(63,0,125)"
          ]
         },
         "orientation": "h",
         "type": "bar",
         "x": [
          1,
          1,
          1,
          1,
          1,
          1,
          1,
          1,
          1
         ],
         "y": [
          "Purples",
          "Purples",
          "Purples",
          "Purples",
          "Purples",
          "Purples",
          "Purples",
          "Purples",
          "Purples"
         ]
        },
        {
         "customdata": [
          0,
          1,
          2,
          3,
          4,
          5,
          6,
          7,
          8
         ],
         "hovertemplate": "%{y}[%{customdata}] = %{marker.color}<extra></extra>",
         "marker": {
          "color": [
           "rgb(247,244,249)",
           "rgb(231,225,239)",
           "rgb(212,185,218)",
           "rgb(201,148,199)",
           "rgb(223,101,176)",
           "rgb(231,41,138)",
           "rgb(206,18,86)",
           "rgb(152,0,67)",
           "rgb(103,0,31)"
          ]
         },
         "orientation": "h",
         "type": "bar",
         "x": [
          1,
          1,
          1,
          1,
          1,
          1,
          1,
          1,
          1
         ],
         "y": [
          "PuRd",
          "PuRd",
          "PuRd",
          "PuRd",
          "PuRd",
          "PuRd",
          "PuRd",
          "PuRd",
          "PuRd"
         ]
        },
        {
         "customdata": [
          0,
          1,
          2,
          3,
          4,
          5,
          6,
          7,
          8
         ],
         "hovertemplate": "%{y}[%{customdata}] = %{marker.color}<extra></extra>",
         "marker": {
          "color": [
           "rgb(255,247,251)",
           "rgb(236,226,240)",
           "rgb(208,209,230)",
           "rgb(166,189,219)",
           "rgb(103,169,207)",
           "rgb(54,144,192)",
           "rgb(2,129,138)",
           "rgb(1,108,89)",
           "rgb(1,70,54)"
          ]
         },
         "orientation": "h",
         "type": "bar",
         "x": [
          1,
          1,
          1,
          1,
          1,
          1,
          1,
          1,
          1
         ],
         "y": [
          "PuBuGn",
          "PuBuGn",
          "PuBuGn",
          "PuBuGn",
          "PuBuGn",
          "PuBuGn",
          "PuBuGn",
          "PuBuGn",
          "PuBuGn"
         ]
        },
        {
         "customdata": [
          0,
          1,
          2,
          3,
          4,
          5,
          6,
          7,
          8
         ],
         "hovertemplate": "%{y}[%{customdata}] = %{marker.color}<extra></extra>",
         "marker": {
          "color": [
           "rgb(255,247,251)",
           "rgb(236,231,242)",
           "rgb(208,209,230)",
           "rgb(166,189,219)",
           "rgb(116,169,207)",
           "rgb(54,144,192)",
           "rgb(5,112,176)",
           "rgb(4,90,141)",
           "rgb(2,56,88)"
          ]
         },
         "orientation": "h",
         "type": "bar",
         "x": [
          1,
          1,
          1,
          1,
          1,
          1,
          1,
          1,
          1
         ],
         "y": [
          "PuBu",
          "PuBu",
          "PuBu",
          "PuBu",
          "PuBu",
          "PuBu",
          "PuBu",
          "PuBu",
          "PuBu"
         ]
        },
        {
         "customdata": [
          0,
          1,
          2,
          3,
          4,
          5,
          6,
          7,
          8
         ],
         "hovertemplate": "%{y}[%{customdata}] = %{marker.color}<extra></extra>",
         "marker": {
          "color": [
           "rgb(255,245,235)",
           "rgb(254,230,206)",
           "rgb(253,208,162)",
           "rgb(253,174,107)",
           "rgb(253,141,60)",
           "rgb(241,105,19)",
           "rgb(217,72,1)",
           "rgb(166,54,3)",
           "rgb(127,39,4)"
          ]
         },
         "orientation": "h",
         "type": "bar",
         "x": [
          1,
          1,
          1,
          1,
          1,
          1,
          1,
          1,
          1
         ],
         "y": [
          "Oranges",
          "Oranges",
          "Oranges",
          "Oranges",
          "Oranges",
          "Oranges",
          "Oranges",
          "Oranges",
          "Oranges"
         ]
        },
        {
         "customdata": [
          0,
          1,
          2,
          3,
          4,
          5,
          6,
          7,
          8
         ],
         "hovertemplate": "%{y}[%{customdata}] = %{marker.color}<extra></extra>",
         "marker": {
          "color": [
           "rgb(255,247,236)",
           "rgb(254,232,200)",
           "rgb(253,212,158)",
           "rgb(253,187,132)",
           "rgb(252,141,89)",
           "rgb(239,101,72)",
           "rgb(215,48,31)",
           "rgb(179,0,0)",
           "rgb(127,0,0)"
          ]
         },
         "orientation": "h",
         "type": "bar",
         "x": [
          1,
          1,
          1,
          1,
          1,
          1,
          1,
          1,
          1
         ],
         "y": [
          "OrRd",
          "OrRd",
          "OrRd",
          "OrRd",
          "OrRd",
          "OrRd",
          "OrRd",
          "OrRd",
          "OrRd"
         ]
        },
        {
         "customdata": [
          0,
          1,
          2,
          3,
          4,
          5,
          6,
          7,
          8
         ],
         "hovertemplate": "%{y}[%{customdata}] = %{marker.color}<extra></extra>",
         "marker": {
          "color": [
           "rgb(255,255,255)",
           "rgb(240,240,240)",
           "rgb(217,217,217)",
           "rgb(189,189,189)",
           "rgb(150,150,150)",
           "rgb(115,115,115)",
           "rgb(82,82,82)",
           "rgb(37,37,37)",
           "rgb(0,0,0)"
          ]
         },
         "orientation": "h",
         "type": "bar",
         "x": [
          1,
          1,
          1,
          1,
          1,
          1,
          1,
          1,
          1
         ],
         "y": [
          "Greys",
          "Greys",
          "Greys",
          "Greys",
          "Greys",
          "Greys",
          "Greys",
          "Greys",
          "Greys"
         ]
        },
        {
         "customdata": [
          0,
          1,
          2,
          3,
          4,
          5,
          6,
          7,
          8
         ],
         "hovertemplate": "%{y}[%{customdata}] = %{marker.color}<extra></extra>",
         "marker": {
          "color": [
           "rgb(247,252,245)",
           "rgb(229,245,224)",
           "rgb(199,233,192)",
           "rgb(161,217,155)",
           "rgb(116,196,118)",
           "rgb(65,171,93)",
           "rgb(35,139,69)",
           "rgb(0,109,44)",
           "rgb(0,68,27)"
          ]
         },
         "orientation": "h",
         "type": "bar",
         "x": [
          1,
          1,
          1,
          1,
          1,
          1,
          1,
          1,
          1
         ],
         "y": [
          "Greens",
          "Greens",
          "Greens",
          "Greens",
          "Greens",
          "Greens",
          "Greens",
          "Greens",
          "Greens"
         ]
        },
        {
         "customdata": [
          0,
          1,
          2,
          3,
          4,
          5,
          6,
          7,
          8
         ],
         "hovertemplate": "%{y}[%{customdata}] = %{marker.color}<extra></extra>",
         "marker": {
          "color": [
           "rgb(247,252,240)",
           "rgb(224,243,219)",
           "rgb(204,235,197)",
           "rgb(168,221,181)",
           "rgb(123,204,196)",
           "rgb(78,179,211)",
           "rgb(43,140,190)",
           "rgb(8,104,172)",
           "rgb(8,64,129)"
          ]
         },
         "orientation": "h",
         "type": "bar",
         "x": [
          1,
          1,
          1,
          1,
          1,
          1,
          1,
          1,
          1
         ],
         "y": [
          "GnBu",
          "GnBu",
          "GnBu",
          "GnBu",
          "GnBu",
          "GnBu",
          "GnBu",
          "GnBu",
          "GnBu"
         ]
        },
        {
         "customdata": [
          0,
          1,
          2,
          3,
          4,
          5,
          6,
          7,
          8
         ],
         "hovertemplate": "%{y}[%{customdata}] = %{marker.color}<extra></extra>",
         "marker": {
          "color": [
           "rgb(247,252,253)",
           "rgb(224,236,244)",
           "rgb(191,211,230)",
           "rgb(158,188,218)",
           "rgb(140,150,198)",
           "rgb(140,107,177)",
           "rgb(136,65,157)",
           "rgb(129,15,124)",
           "rgb(77,0,75)"
          ]
         },
         "orientation": "h",
         "type": "bar",
         "x": [
          1,
          1,
          1,
          1,
          1,
          1,
          1,
          1,
          1
         ],
         "y": [
          "BuPu",
          "BuPu",
          "BuPu",
          "BuPu",
          "BuPu",
          "BuPu",
          "BuPu",
          "BuPu",
          "BuPu"
         ]
        },
        {
         "customdata": [
          0,
          1,
          2,
          3,
          4,
          5,
          6,
          7,
          8
         ],
         "hovertemplate": "%{y}[%{customdata}] = %{marker.color}<extra></extra>",
         "marker": {
          "color": [
           "rgb(247,252,253)",
           "rgb(229,245,249)",
           "rgb(204,236,230)",
           "rgb(153,216,201)",
           "rgb(102,194,164)",
           "rgb(65,174,118)",
           "rgb(35,139,69)",
           "rgb(0,109,44)",
           "rgb(0,68,27)"
          ]
         },
         "orientation": "h",
         "type": "bar",
         "x": [
          1,
          1,
          1,
          1,
          1,
          1,
          1,
          1,
          1
         ],
         "y": [
          "BuGn",
          "BuGn",
          "BuGn",
          "BuGn",
          "BuGn",
          "BuGn",
          "BuGn",
          "BuGn",
          "BuGn"
         ]
        },
        {
         "customdata": [
          0,
          1,
          2,
          3,
          4,
          5,
          6,
          7,
          8
         ],
         "hovertemplate": "%{y}[%{customdata}] = %{marker.color}<extra></extra>",
         "marker": {
          "color": [
           "rgb(247,251,255)",
           "rgb(222,235,247)",
           "rgb(198,219,239)",
           "rgb(158,202,225)",
           "rgb(107,174,214)",
           "rgb(66,146,198)",
           "rgb(33,113,181)",
           "rgb(8,81,156)",
           "rgb(8,48,107)"
          ]
         },
         "orientation": "h",
         "type": "bar",
         "x": [
          1,
          1,
          1,
          1,
          1,
          1,
          1,
          1,
          1
         ],
         "y": [
          "Blues",
          "Blues",
          "Blues",
          "Blues",
          "Blues",
          "Blues",
          "Blues",
          "Blues",
          "Blues"
         ]
        },
        {
         "customdata": [
          0,
          1,
          2,
          3,
          4,
          5,
          6,
          7,
          8
         ],
         "hovertemplate": "%{y}[%{customdata}] = %{marker.color}<extra></extra>",
         "marker": {
          "color": [
           "rgb(150,0,90)",
           "rgb(0,0,200)",
           "rgb(0,25,255)",
           "rgb(0,152,255)",
           "rgb(44,255,150)",
           "rgb(151,255,0)",
           "rgb(255,234,0)",
           "rgb(255,111,0)",
           "rgb(255,0,0)"
          ]
         },
         "orientation": "h",
         "type": "bar",
         "x": [
          1,
          1,
          1,
          1,
          1,
          1,
          1,
          1,
          1
         ],
         "y": [
          "Rainbow",
          "Rainbow",
          "Rainbow",
          "Rainbow",
          "Rainbow",
          "Rainbow",
          "Rainbow",
          "Rainbow",
          "Rainbow"
         ]
        },
        {
         "customdata": [
          0,
          1,
          2,
          3,
          4,
          5
         ],
         "hovertemplate": "%{y}[%{customdata}] = %{marker.color}<extra></extra>",
         "marker": {
          "color": [
           "rgb(0,0,131)",
           "rgb(0,60,170)",
           "rgb(5,255,255)",
           "rgb(255,255,0)",
           "rgb(250,0,0)",
           "rgb(128,0,0)"
          ]
         },
         "orientation": "h",
         "type": "bar",
         "x": [
          1,
          1,
          1,
          1,
          1,
          1
         ],
         "y": [
          "Jet",
          "Jet",
          "Jet",
          "Jet",
          "Jet",
          "Jet"
         ]
        },
        {
         "customdata": [
          0,
          1,
          2,
          3
         ],
         "hovertemplate": "%{y}[%{customdata}] = %{marker.color}<extra></extra>",
         "marker": {
          "color": [
           "rgb(0,0,0)",
           "rgb(230,0,0)",
           "rgb(255,210,0)",
           "rgb(255,255,255)"
          ]
         },
         "orientation": "h",
         "type": "bar",
         "x": [
          1,
          1,
          1,
          1
         ],
         "y": [
          "Hot",
          "Hot",
          "Hot",
          "Hot"
         ]
        },
        {
         "customdata": [
          0,
          1,
          2,
          3,
          4,
          5
         ],
         "hovertemplate": "%{y}[%{customdata}] = %{marker.color}<extra></extra>",
         "marker": {
          "color": [
           "rgb(0,0,0)",
           "rgb(30,0,100)",
           "rgb(120,0,100)",
           "rgb(160,90,0)",
           "rgb(230,200,0)",
           "rgb(255,250,220)"
          ]
         },
         "orientation": "h",
         "type": "bar",
         "x": [
          1,
          1,
          1,
          1,
          1,
          1
         ],
         "y": [
          "Electric",
          "Electric",
          "Electric",
          "Electric",
          "Electric",
          "Electric"
         ]
        },
        {
         "customdata": [
          0,
          1
         ],
         "hovertemplate": "%{y}[%{customdata}] = %{marker.color}<extra></extra>",
         "marker": {
          "color": [
           "rgb(0,0,255)",
           "rgb(255,0,0)"
          ]
         },
         "orientation": "h",
         "type": "bar",
         "x": [
          1,
          1
         ],
         "y": [
          "Bluered",
          "Bluered"
         ]
        },
        {
         "customdata": [
          0,
          1,
          2,
          3,
          4
         ],
         "hovertemplate": "%{y}[%{customdata}] = %{marker.color}<extra></extra>",
         "marker": {
          "color": [
           "rgb(0,0,0)",
           "rgb(230,0,0)",
           "rgb(230,210,0)",
           "rgb(255,255,255)",
           "rgb(160,200,255)"
          ]
         },
         "orientation": "h",
         "type": "bar",
         "x": [
          1,
          1,
          1,
          1,
          1
         ],
         "y": [
          "Blackbody",
          "Blackbody",
          "Blackbody",
          "Blackbody",
          "Blackbody"
         ]
        },
        {
         "customdata": [
          0,
          1,
          2,
          3,
          4,
          5,
          6,
          7,
          8,
          9,
          10,
          11,
          12,
          13,
          14
         ],
         "hovertemplate": "%{y}[%{customdata}] = %{marker.color}<extra></extra>",
         "marker": {
          "color": [
           "#30123b",
           "#4145ab",
           "#4675ed",
           "#39a2fc",
           "#1bcfd4",
           "#24eca6",
           "#61fc6c",
           "#a4fc3b",
           "#d1e834",
           "#f3c63a",
           "#fe9b2d",
           "#f36315",
           "#d93806",
           "#b11901",
           "#7a0402"
          ]
         },
         "orientation": "h",
         "type": "bar",
         "x": [
          1,
          1,
          1,
          1,
          1,
          1,
          1,
          1,
          1,
          1,
          1,
          1,
          1,
          1,
          1
         ],
         "y": [
          "Turbo",
          "Turbo",
          "Turbo",
          "Turbo",
          "Turbo",
          "Turbo",
          "Turbo",
          "Turbo",
          "Turbo",
          "Turbo",
          "Turbo",
          "Turbo",
          "Turbo",
          "Turbo",
          "Turbo"
         ]
        },
        {
         "customdata": [
          0,
          1,
          2,
          3,
          4,
          5,
          6,
          7,
          8,
          9
         ],
         "hovertemplate": "%{y}[%{customdata}] = %{marker.color}<extra></extra>",
         "marker": {
          "color": [
           "#0d0887",
           "#46039f",
           "#7201a8",
           "#9c179e",
           "#bd3786",
           "#d8576b",
           "#ed7953",
           "#fb9f3a",
           "#fdca26",
           "#f0f921"
          ]
         },
         "orientation": "h",
         "type": "bar",
         "x": [
          1,
          1,
          1,
          1,
          1,
          1,
          1,
          1,
          1,
          1
         ],
         "y": [
          "Plasma",
          "Plasma",
          "Plasma",
          "Plasma",
          "Plasma",
          "Plasma",
          "Plasma",
          "Plasma",
          "Plasma",
          "Plasma"
         ]
        },
        {
         "customdata": [
          0,
          1,
          2,
          3,
          4,
          5,
          6,
          7,
          8,
          9
         ],
         "hovertemplate": "%{y}[%{customdata}] = %{marker.color}<extra></extra>",
         "marker": {
          "color": [
           "#000004",
           "#180f3d",
           "#440f76",
           "#721f81",
           "#9e2f7f",
           "#cd4071",
           "#f1605d",
           "#fd9668",
           "#feca8d",
           "#fcfdbf"
          ]
         },
         "orientation": "h",
         "type": "bar",
         "x": [
          1,
          1,
          1,
          1,
          1,
          1,
          1,
          1,
          1,
          1
         ],
         "y": [
          "Magma",
          "Magma",
          "Magma",
          "Magma",
          "Magma",
          "Magma",
          "Magma",
          "Magma",
          "Magma",
          "Magma"
         ]
        },
        {
         "customdata": [
          0,
          1,
          2,
          3,
          4,
          5,
          6,
          7,
          8,
          9
         ],
         "hovertemplate": "%{y}[%{customdata}] = %{marker.color}<extra></extra>",
         "marker": {
          "color": [
           "#000004",
           "#1b0c41",
           "#4a0c6b",
           "#781c6d",
           "#a52c60",
           "#cf4446",
           "#ed6925",
           "#fb9b06",
           "#f7d13d",
           "#fcffa4"
          ]
         },
         "orientation": "h",
         "type": "bar",
         "x": [
          1,
          1,
          1,
          1,
          1,
          1,
          1,
          1,
          1,
          1
         ],
         "y": [
          "Inferno",
          "Inferno",
          "Inferno",
          "Inferno",
          "Inferno",
          "Inferno",
          "Inferno",
          "Inferno",
          "Inferno",
          "Inferno"
         ]
        },
        {
         "customdata": [
          0,
          1,
          2,
          3,
          4,
          5,
          6,
          7,
          8,
          9
         ],
         "hovertemplate": "%{y}[%{customdata}] = %{marker.color}<extra></extra>",
         "marker": {
          "color": [
           "#00224e",
           "#123570",
           "#3b496c",
           "#575d6d",
           "#707173",
           "#8a8678",
           "#a59c74",
           "#c3b369",
           "#e1cc55",
           "#fee838"
          ]
         },
         "orientation": "h",
         "type": "bar",
         "x": [
          1,
          1,
          1,
          1,
          1,
          1,
          1,
          1,
          1,
          1
         ],
         "y": [
          "Cividis",
          "Cividis",
          "Cividis",
          "Cividis",
          "Cividis",
          "Cividis",
          "Cividis",
          "Cividis",
          "Cividis",
          "Cividis"
         ]
        },
        {
         "customdata": [
          0,
          1,
          2,
          3,
          4,
          5,
          6,
          7,
          8,
          9
         ],
         "hovertemplate": "%{y}[%{customdata}] = %{marker.color}<extra></extra>",
         "marker": {
          "color": [
           "#440154",
           "#482878",
           "#3e4989",
           "#31688e",
           "#26828e",
           "#1f9e89",
           "#35b779",
           "#6ece58",
           "#b5de2b",
           "#fde725"
          ]
         },
         "orientation": "h",
         "type": "bar",
         "x": [
          1,
          1,
          1,
          1,
          1,
          1,
          1,
          1,
          1,
          1
         ],
         "y": [
          "Viridis",
          "Viridis",
          "Viridis",
          "Viridis",
          "Viridis",
          "Viridis",
          "Viridis",
          "Viridis",
          "Viridis",
          "Viridis"
         ]
        },
        {
         "customdata": [
          0,
          1,
          2,
          3,
          4,
          5,
          6,
          7,
          8,
          9,
          10,
          11,
          12
         ],
         "hovertemplate": "%{y}[%{customdata}] = %{marker.color}<extra></extra>",
         "marker": {
          "color": [
           "#0508b8",
           "#1910d8",
           "#3c19f0",
           "#6b1cfb",
           "#981cfd",
           "#bf1cfd",
           "#dd2bfd",
           "#f246fe",
           "#fc67fd",
           "#fe88fc",
           "#fea5fd",
           "#febefe",
           "#fec3fe"
          ]
         },
         "orientation": "h",
         "type": "bar",
         "x": [
          1,
          1,
          1,
          1,
          1,
          1,
          1,
          1,
          1,
          1,
          1,
          1,
          1
         ],
         "y": [
          "Plotly3",
          "Plotly3",
          "Plotly3",
          "Plotly3",
          "Plotly3",
          "Plotly3",
          "Plotly3",
          "Plotly3",
          "Plotly3",
          "Plotly3",
          "Plotly3",
          "Plotly3",
          "Plotly3"
         ]
        }
       ],
       "layout": {
        "bargap": 0.5,
        "barmode": "stack",
        "barnorm": "fraction",
        "height": 2640,
        "margin": {
         "b": 10
        },
        "showlegend": false,
        "template": {
         "data": {
          "bar": [
           {
            "error_x": {
             "color": "#2a3f5f"
            },
            "error_y": {
             "color": "#2a3f5f"
            },
            "marker": {
             "line": {
              "color": "#E5ECF6",
              "width": 0.5
             },
             "pattern": {
              "fillmode": "overlay",
              "size": 10,
              "solidity": 0.2
             }
            },
            "type": "bar"
           }
          ],
          "barpolar": [
           {
            "marker": {
             "line": {
              "color": "#E5ECF6",
              "width": 0.5
             },
             "pattern": {
              "fillmode": "overlay",
              "size": 10,
              "solidity": 0.2
             }
            },
            "type": "barpolar"
           }
          ],
          "carpet": [
           {
            "aaxis": {
             "endlinecolor": "#2a3f5f",
             "gridcolor": "white",
             "linecolor": "white",
             "minorgridcolor": "white",
             "startlinecolor": "#2a3f5f"
            },
            "baxis": {
             "endlinecolor": "#2a3f5f",
             "gridcolor": "white",
             "linecolor": "white",
             "minorgridcolor": "white",
             "startlinecolor": "#2a3f5f"
            },
            "type": "carpet"
           }
          ],
          "choropleth": [
           {
            "colorbar": {
             "outlinewidth": 0,
             "ticks": ""
            },
            "type": "choropleth"
           }
          ],
          "contour": [
           {
            "colorbar": {
             "outlinewidth": 0,
             "ticks": ""
            },
            "colorscale": [
             [
              0,
              "#0d0887"
             ],
             [
              0.1111111111111111,
              "#46039f"
             ],
             [
              0.2222222222222222,
              "#7201a8"
             ],
             [
              0.3333333333333333,
              "#9c179e"
             ],
             [
              0.4444444444444444,
              "#bd3786"
             ],
             [
              0.5555555555555556,
              "#d8576b"
             ],
             [
              0.6666666666666666,
              "#ed7953"
             ],
             [
              0.7777777777777778,
              "#fb9f3a"
             ],
             [
              0.8888888888888888,
              "#fdca26"
             ],
             [
              1,
              "#f0f921"
             ]
            ],
            "type": "contour"
           }
          ],
          "contourcarpet": [
           {
            "colorbar": {
             "outlinewidth": 0,
             "ticks": ""
            },
            "type": "contourcarpet"
           }
          ],
          "heatmap": [
           {
            "colorbar": {
             "outlinewidth": 0,
             "ticks": ""
            },
            "colorscale": [
             [
              0,
              "#0d0887"
             ],
             [
              0.1111111111111111,
              "#46039f"
             ],
             [
              0.2222222222222222,
              "#7201a8"
             ],
             [
              0.3333333333333333,
              "#9c179e"
             ],
             [
              0.4444444444444444,
              "#bd3786"
             ],
             [
              0.5555555555555556,
              "#d8576b"
             ],
             [
              0.6666666666666666,
              "#ed7953"
             ],
             [
              0.7777777777777778,
              "#fb9f3a"
             ],
             [
              0.8888888888888888,
              "#fdca26"
             ],
             [
              1,
              "#f0f921"
             ]
            ],
            "type": "heatmap"
           }
          ],
          "heatmapgl": [
           {
            "colorbar": {
             "outlinewidth": 0,
             "ticks": ""
            },
            "colorscale": [
             [
              0,
              "#0d0887"
             ],
             [
              0.1111111111111111,
              "#46039f"
             ],
             [
              0.2222222222222222,
              "#7201a8"
             ],
             [
              0.3333333333333333,
              "#9c179e"
             ],
             [
              0.4444444444444444,
              "#bd3786"
             ],
             [
              0.5555555555555556,
              "#d8576b"
             ],
             [
              0.6666666666666666,
              "#ed7953"
             ],
             [
              0.7777777777777778,
              "#fb9f3a"
             ],
             [
              0.8888888888888888,
              "#fdca26"
             ],
             [
              1,
              "#f0f921"
             ]
            ],
            "type": "heatmapgl"
           }
          ],
          "histogram": [
           {
            "marker": {
             "pattern": {
              "fillmode": "overlay",
              "size": 10,
              "solidity": 0.2
             }
            },
            "type": "histogram"
           }
          ],
          "histogram2d": [
           {
            "colorbar": {
             "outlinewidth": 0,
             "ticks": ""
            },
            "colorscale": [
             [
              0,
              "#0d0887"
             ],
             [
              0.1111111111111111,
              "#46039f"
             ],
             [
              0.2222222222222222,
              "#7201a8"
             ],
             [
              0.3333333333333333,
              "#9c179e"
             ],
             [
              0.4444444444444444,
              "#bd3786"
             ],
             [
              0.5555555555555556,
              "#d8576b"
             ],
             [
              0.6666666666666666,
              "#ed7953"
             ],
             [
              0.7777777777777778,
              "#fb9f3a"
             ],
             [
              0.8888888888888888,
              "#fdca26"
             ],
             [
              1,
              "#f0f921"
             ]
            ],
            "type": "histogram2d"
           }
          ],
          "histogram2dcontour": [
           {
            "colorbar": {
             "outlinewidth": 0,
             "ticks": ""
            },
            "colorscale": [
             [
              0,
              "#0d0887"
             ],
             [
              0.1111111111111111,
              "#46039f"
             ],
             [
              0.2222222222222222,
              "#7201a8"
             ],
             [
              0.3333333333333333,
              "#9c179e"
             ],
             [
              0.4444444444444444,
              "#bd3786"
             ],
             [
              0.5555555555555556,
              "#d8576b"
             ],
             [
              0.6666666666666666,
              "#ed7953"
             ],
             [
              0.7777777777777778,
              "#fb9f3a"
             ],
             [
              0.8888888888888888,
              "#fdca26"
             ],
             [
              1,
              "#f0f921"
             ]
            ],
            "type": "histogram2dcontour"
           }
          ],
          "mesh3d": [
           {
            "colorbar": {
             "outlinewidth": 0,
             "ticks": ""
            },
            "type": "mesh3d"
           }
          ],
          "parcoords": [
           {
            "line": {
             "colorbar": {
              "outlinewidth": 0,
              "ticks": ""
             }
            },
            "type": "parcoords"
           }
          ],
          "pie": [
           {
            "automargin": true,
            "type": "pie"
           }
          ],
          "scatter": [
           {
            "fillpattern": {
             "fillmode": "overlay",
             "size": 10,
             "solidity": 0.2
            },
            "type": "scatter"
           }
          ],
          "scatter3d": [
           {
            "line": {
             "colorbar": {
              "outlinewidth": 0,
              "ticks": ""
             }
            },
            "marker": {
             "colorbar": {
              "outlinewidth": 0,
              "ticks": ""
             }
            },
            "type": "scatter3d"
           }
          ],
          "scattercarpet": [
           {
            "marker": {
             "colorbar": {
              "outlinewidth": 0,
              "ticks": ""
             }
            },
            "type": "scattercarpet"
           }
          ],
          "scattergeo": [
           {
            "marker": {
             "colorbar": {
              "outlinewidth": 0,
              "ticks": ""
             }
            },
            "type": "scattergeo"
           }
          ],
          "scattergl": [
           {
            "marker": {
             "colorbar": {
              "outlinewidth": 0,
              "ticks": ""
             }
            },
            "type": "scattergl"
           }
          ],
          "scattermapbox": [
           {
            "marker": {
             "colorbar": {
              "outlinewidth": 0,
              "ticks": ""
             }
            },
            "type": "scattermapbox"
           }
          ],
          "scatterpolar": [
           {
            "marker": {
             "colorbar": {
              "outlinewidth": 0,
              "ticks": ""
             }
            },
            "type": "scatterpolar"
           }
          ],
          "scatterpolargl": [
           {
            "marker": {
             "colorbar": {
              "outlinewidth": 0,
              "ticks": ""
             }
            },
            "type": "scatterpolargl"
           }
          ],
          "scatterternary": [
           {
            "marker": {
             "colorbar": {
              "outlinewidth": 0,
              "ticks": ""
             }
            },
            "type": "scatterternary"
           }
          ],
          "surface": [
           {
            "colorbar": {
             "outlinewidth": 0,
             "ticks": ""
            },
            "colorscale": [
             [
              0,
              "#0d0887"
             ],
             [
              0.1111111111111111,
              "#46039f"
             ],
             [
              0.2222222222222222,
              "#7201a8"
             ],
             [
              0.3333333333333333,
              "#9c179e"
             ],
             [
              0.4444444444444444,
              "#bd3786"
             ],
             [
              0.5555555555555556,
              "#d8576b"
             ],
             [
              0.6666666666666666,
              "#ed7953"
             ],
             [
              0.7777777777777778,
              "#fb9f3a"
             ],
             [
              0.8888888888888888,
              "#fdca26"
             ],
             [
              1,
              "#f0f921"
             ]
            ],
            "type": "surface"
           }
          ],
          "table": [
           {
            "cells": {
             "fill": {
              "color": "#EBF0F8"
             },
             "line": {
              "color": "white"
             }
            },
            "header": {
             "fill": {
              "color": "#C8D4E3"
             },
             "line": {
              "color": "white"
             }
            },
            "type": "table"
           }
          ]
         },
         "layout": {
          "annotationdefaults": {
           "arrowcolor": "#2a3f5f",
           "arrowhead": 0,
           "arrowwidth": 1
          },
          "autotypenumbers": "strict",
          "coloraxis": {
           "colorbar": {
            "outlinewidth": 0,
            "ticks": ""
           }
          },
          "colorscale": {
           "diverging": [
            [
             0,
             "#8e0152"
            ],
            [
             0.1,
             "#c51b7d"
            ],
            [
             0.2,
             "#de77ae"
            ],
            [
             0.3,
             "#f1b6da"
            ],
            [
             0.4,
             "#fde0ef"
            ],
            [
             0.5,
             "#f7f7f7"
            ],
            [
             0.6,
             "#e6f5d0"
            ],
            [
             0.7,
             "#b8e186"
            ],
            [
             0.8,
             "#7fbc41"
            ],
            [
             0.9,
             "#4d9221"
            ],
            [
             1,
             "#276419"
            ]
           ],
           "sequential": [
            [
             0,
             "#0d0887"
            ],
            [
             0.1111111111111111,
             "#46039f"
            ],
            [
             0.2222222222222222,
             "#7201a8"
            ],
            [
             0.3333333333333333,
             "#9c179e"
            ],
            [
             0.4444444444444444,
             "#bd3786"
            ],
            [
             0.5555555555555556,
             "#d8576b"
            ],
            [
             0.6666666666666666,
             "#ed7953"
            ],
            [
             0.7777777777777778,
             "#fb9f3a"
            ],
            [
             0.8888888888888888,
             "#fdca26"
            ],
            [
             1,
             "#f0f921"
            ]
           ],
           "sequentialminus": [
            [
             0,
             "#0d0887"
            ],
            [
             0.1111111111111111,
             "#46039f"
            ],
            [
             0.2222222222222222,
             "#7201a8"
            ],
            [
             0.3333333333333333,
             "#9c179e"
            ],
            [
             0.4444444444444444,
             "#bd3786"
            ],
            [
             0.5555555555555556,
             "#d8576b"
            ],
            [
             0.6666666666666666,
             "#ed7953"
            ],
            [
             0.7777777777777778,
             "#fb9f3a"
            ],
            [
             0.8888888888888888,
             "#fdca26"
            ],
            [
             1,
             "#f0f921"
            ]
           ]
          },
          "colorway": [
           "#636efa",
           "#EF553B",
           "#00cc96",
           "#ab63fa",
           "#FFA15A",
           "#19d3f3",
           "#FF6692",
           "#B6E880",
           "#FF97FF",
           "#FECB52"
          ],
          "font": {
           "color": "#2a3f5f"
          },
          "geo": {
           "bgcolor": "white",
           "lakecolor": "white",
           "landcolor": "#E5ECF6",
           "showlakes": true,
           "showland": true,
           "subunitcolor": "white"
          },
          "hoverlabel": {
           "align": "left"
          },
          "hovermode": "closest",
          "mapbox": {
           "style": "light"
          },
          "paper_bgcolor": "white",
          "plot_bgcolor": "#E5ECF6",
          "polar": {
           "angularaxis": {
            "gridcolor": "white",
            "linecolor": "white",
            "ticks": ""
           },
           "bgcolor": "#E5ECF6",
           "radialaxis": {
            "gridcolor": "white",
            "linecolor": "white",
            "ticks": ""
           }
          },
          "scene": {
           "xaxis": {
            "backgroundcolor": "#E5ECF6",
            "gridcolor": "white",
            "gridwidth": 2,
            "linecolor": "white",
            "showbackground": true,
            "ticks": "",
            "zerolinecolor": "white"
           },
           "yaxis": {
            "backgroundcolor": "#E5ECF6",
            "gridcolor": "white",
            "gridwidth": 2,
            "linecolor": "white",
            "showbackground": true,
            "ticks": "",
            "zerolinecolor": "white"
           },
           "zaxis": {
            "backgroundcolor": "#E5ECF6",
            "gridcolor": "white",
            "gridwidth": 2,
            "linecolor": "white",
            "showbackground": true,
            "ticks": "",
            "zerolinecolor": "white"
           }
          },
          "shapedefaults": {
           "line": {
            "color": "#2a3f5f"
           }
          },
          "ternary": {
           "aaxis": {
            "gridcolor": "white",
            "linecolor": "white",
            "ticks": ""
           },
           "baxis": {
            "gridcolor": "white",
            "linecolor": "white",
            "ticks": ""
           },
           "bgcolor": "#E5ECF6",
           "caxis": {
            "gridcolor": "white",
            "linecolor": "white",
            "ticks": ""
           }
          },
          "title": {
           "x": 0.05
          },
          "xaxis": {
           "automargin": true,
           "gridcolor": "white",
           "linecolor": "white",
           "ticks": "",
           "title": {
            "standoff": 15
           },
           "zerolinecolor": "white",
           "zerolinewidth": 2
          },
          "yaxis": {
           "automargin": true,
           "gridcolor": "white",
           "linecolor": "white",
           "ticks": "",
           "title": {
            "standoff": 15
           },
           "zerolinecolor": "white",
           "zerolinewidth": 2
          }
         }
        },
        "title": {
         "text": "plotly.colors.sequential"
        },
        "xaxis": {
         "range": [
          -0.02,
          1.02
         ],
         "showgrid": false,
         "showticklabels": false
        }
       }
      }
     },
     "metadata": {},
     "output_type": "display_data"
    }
   ],
   "source": [
    "px.colors.sequential.swatches()"
   ]
  },
  {
   "cell_type": "code",
   "execution_count": 289,
   "metadata": {},
   "outputs": [
    {
     "data": {
      "application/vnd.plotly.v1+json": {
       "config": {
        "plotlyServerURL": "https://plot.ly"
       },
       "data": [
        {
         "base": 0,
         "legendgroup": "San Diego",
         "marker": {
          "color": "rgb(131, 75, 160)"
         },
         "name": "San Diego: 53.09%",
         "showlegend": true,
         "text": [
          0.531
         ],
         "type": "bar",
         "width": 0.8,
         "x": [
          "San Diego"
         ],
         "xaxis": "x",
         "y": [
          0.5308953341740227
         ],
         "yaxis": "y"
        },
        {
         "base": [
          -0.003919824028076419
         ],
         "legendgroup": "San Diego",
         "marker": {
          "color": "rgb(131, 75, 160)"
         },
         "name": "Orders: 0.392%",
         "showlegend": true,
         "type": "bar",
         "width": 0.8,
         "x": [
          "San Diego"
         ],
         "xaxis": "x2",
         "y": [
          0.003919824028076419
         ],
         "yaxis": "y2"
        },
        {
         "base": 0,
         "legendgroup": "Santa Barbara",
         "marker": {
          "color": "rgb(131, 75, 160)"
         },
         "name": "Santa Barbara: 50.75%",
         "showlegend": true,
         "text": [
          0.508
         ],
         "type": "bar",
         "width": 0.8,
         "x": [
          "Santa Barbara"
         ],
         "xaxis": "x",
         "y": [
          0.5075481147599628
         ],
         "yaxis": "y"
        },
        {
         "base": [
          -0.02302958404389412
         ],
         "legendgroup": "Santa Barbara",
         "marker": {
          "color": "rgb(131, 75, 160)"
         },
         "name": "Orders: 2.303%",
         "showlegend": true,
         "type": "bar",
         "width": 0.8,
         "x": [
          "Santa Barbara"
         ],
         "xaxis": "x2",
         "y": [
          0.02302958404389412
         ],
         "yaxis": "y2"
        },
        {
         "base": 0,
         "legendgroup": "Lassen",
         "marker": {
          "color": "rgb(131, 75, 160)"
         },
         "name": "Lassen: 50.25%",
         "showlegend": true,
         "text": [
          0.502
         ],
         "type": "bar",
         "width": 0.8,
         "x": [
          "Lassen"
         ],
         "xaxis": "x",
         "y": [
          0.5024937655860349
         ],
         "yaxis": "y"
        },
        {
         "base": [
          -0.003964311312127728
         ],
         "legendgroup": "Lassen",
         "marker": {
          "color": "rgb(131, 75, 160)"
         },
         "name": "Orders: 0.396%",
         "showlegend": true,
         "type": "bar",
         "width": 0.8,
         "x": [
          "Lassen"
         ],
         "xaxis": "x2",
         "y": [
          0.003964311312127728
         ],
         "yaxis": "y2"
        },
        {
         "base": 0,
         "legendgroup": "Del Norte",
         "marker": {
          "color": "rgb(131, 75, 160)"
         },
         "name": "Del Norte: 50.12%",
         "showlegend": true,
         "text": [
          0.501
         ],
         "type": "bar",
         "width": 0.8,
         "x": [
          "Del Norte"
         ],
         "xaxis": "x",
         "y": [
          0.5012394645513139
         ],
         "yaxis": "y"
        },
        {
         "base": [
          -0.003323364886351466
         ],
         "legendgroup": "Del Norte",
         "marker": {
          "color": "rgb(131, 75, 160)"
         },
         "name": "Orders: 0.332%",
         "showlegend": true,
         "type": "bar",
         "width": 0.8,
         "x": [
          "Del Norte"
         ],
         "xaxis": "x2",
         "y": [
          0.003323364886351466
         ],
         "yaxis": "y2"
        },
        {
         "base": 0,
         "legendgroup": "Modoc",
         "marker": {
          "color": "rgb(189,189,189)"
         },
         "name": "Modoc: 49.21%",
         "showlegend": true,
         "type": "bar",
         "width": 0.8,
         "x": [
          "Modoc"
         ],
         "xaxis": "x",
         "y": [
          0.49213055878314144
         ],
         "yaxis": "y"
        },
        {
         "base": [
          -0.015598559930138487
         ],
         "legendgroup": "Modoc",
         "marker": {
          "color": "rgb(189,189,189)"
         },
         "name": "Orders: 1.56%",
         "showlegend": true,
         "type": "bar",
         "width": 0.8,
         "x": [
          "Modoc"
         ],
         "xaxis": "x2",
         "y": [
          0.015598559930138487
         ],
         "yaxis": "y2"
        },
        {
         "base": 0,
         "legendgroup": "Tuolumne",
         "marker": {
          "color": "rgb(189,189,189)"
         },
         "name": "Tuolumne: 48.39%",
         "showlegend": true,
         "type": "bar",
         "width": 0.8,
         "x": [
          "Tuolumne"
         ],
         "xaxis": "x",
         "y": [
          0.483858570330515
         ],
         "yaxis": "y"
        },
        {
         "base": [
          -0.004287256040796487
         ],
         "legendgroup": "Tuolumne",
         "marker": {
          "color": "rgb(189,189,189)"
         },
         "name": "Orders: 0.429%",
         "showlegend": true,
         "type": "bar",
         "width": 0.8,
         "x": [
          "Tuolumne"
         ],
         "xaxis": "x2",
         "y": [
          0.004287256040796487
         ],
         "yaxis": "y2"
        },
        {
         "base": 0,
         "legendgroup": "San Benito",
         "marker": {
          "color": "rgb(189,189,189)"
         },
         "name": "San Benito: 47.5%",
         "showlegend": true,
         "type": "bar",
         "width": 0.8,
         "x": [
          "San Benito"
         ],
         "xaxis": "x",
         "y": [
          0.47503761455341265
         ],
         "yaxis": "y"
        },
        {
         "base": [
          -0.012046167914782135
         ],
         "legendgroup": "San Benito",
         "marker": {
          "color": "rgb(189,189,189)"
         },
         "name": "Orders: 1.205%",
         "showlegend": true,
         "type": "bar",
         "width": 0.8,
         "x": [
          "San Benito"
         ],
         "xaxis": "x2",
         "y": [
          0.012046167914782135
         ],
         "yaxis": "y2"
        },
        {
         "base": 0,
         "legendgroup": "Shasta",
         "marker": {
          "color": "rgb(189,189,189)"
         },
         "name": "Shasta: 46.62%",
         "showlegend": true,
         "type": "bar",
         "width": 0.8,
         "x": [
          "Shasta"
         ],
         "xaxis": "x",
         "y": [
          0.46620171673819744
         ],
         "yaxis": "y"
        },
        {
         "base": [
          -0.006142540553454767
         ],
         "legendgroup": "Shasta",
         "marker": {
          "color": "rgb(189,189,189)"
         },
         "name": "Orders: 0.614%",
         "showlegend": true,
         "type": "bar",
         "width": 0.8,
         "x": [
          "Shasta"
         ],
         "xaxis": "x2",
         "y": [
          0.006142540553454767
         ],
         "yaxis": "y2"
        },
        {
         "base": 0,
         "legendgroup": "El Dorado",
         "marker": {
          "color": "rgb(189,189,189)"
         },
         "name": "El Dorado: 46.59%",
         "showlegend": true,
         "type": "bar",
         "width": 0.8,
         "x": [
          "El Dorado"
         ],
         "xaxis": "x",
         "y": [
          0.4658792650918635
         ],
         "yaxis": "y"
        },
        {
         "base": [
          -0.0025110600331183113
         ],
         "legendgroup": "El Dorado",
         "marker": {
          "color": "rgb(189,189,189)"
         },
         "name": "Orders: 0.251%",
         "showlegend": true,
         "type": "bar",
         "width": 0.8,
         "x": [
          "El Dorado"
         ],
         "xaxis": "x2",
         "y": [
          0.0025110600331183113
         ],
         "yaxis": "y2"
        },
        {
         "base": 0,
         "legendgroup": "San Francisco",
         "marker": {
          "color": "rgb(189,189,189)"
         },
         "name": "San Francisco: 46.21%",
         "showlegend": true,
         "type": "bar",
         "width": 0.8,
         "x": [
          "San Francisco"
         ],
         "xaxis": "x",
         "y": [
          0.4621011673151751
         ],
         "yaxis": "y"
        },
        {
         "base": [
          -0.021172651854048756
         ],
         "legendgroup": "San Francisco",
         "marker": {
          "color": "rgb(189,189,189)"
         },
         "name": "Orders: 2.117%",
         "showlegend": true,
         "type": "bar",
         "width": 0.8,
         "x": [
          "San Francisco"
         ],
         "xaxis": "x2",
         "y": [
          0.021172651854048756
         ],
         "yaxis": "y2"
        },
        {
         "base": 0,
         "legendgroup": "Merced",
         "marker": {
          "color": "rgb(189,189,189)"
         },
         "name": "Merced: 45.79%",
         "showlegend": true,
         "type": "bar",
         "width": 0.8,
         "x": [
          "Merced"
         ],
         "xaxis": "x",
         "y": [
          0.457931493182574
         ],
         "yaxis": "y"
        },
        {
         "base": [
          -0.019818261206264468
         ],
         "legendgroup": "Merced",
         "marker": {
          "color": "rgb(189,189,189)"
         },
         "name": "Orders: 1.982%",
         "showlegend": true,
         "type": "bar",
         "width": 0.8,
         "x": [
          "Merced"
         ],
         "xaxis": "x2",
         "y": [
          0.019818261206264468
         ],
         "yaxis": "y2"
        },
        {
         "base": 0,
         "legendgroup": "Kings",
         "marker": {
          "color": "rgb(189,189,189)"
         },
         "name": "Kings: 45.09%",
         "showlegend": true,
         "type": "bar",
         "width": 0.8,
         "x": [
          "Kings"
         ],
         "xaxis": "x",
         "y": [
          0.4508726567550097
         ],
         "yaxis": "y"
        },
        {
         "base": [
          -0.005097913216842556
         ],
         "legendgroup": "Kings",
         "marker": {
          "color": "rgb(189,189,189)"
         },
         "name": "Orders: 0.51%",
         "showlegend": true,
         "type": "bar",
         "width": 0.8,
         "x": [
          "Kings"
         ],
         "xaxis": "x2",
         "y": [
          0.005097913216842556
         ],
         "yaxis": "y2"
        },
        {
         "base": 0,
         "legendgroup": "Sierra",
         "marker": {
          "color": "rgb(189,189,189)"
         },
         "name": "Sierra: 44.75%",
         "showlegend": true,
         "type": "bar",
         "width": 0.8,
         "x": [
          "Sierra"
         ],
         "xaxis": "x",
         "y": [
          0.4474845542806708
         ],
         "yaxis": "y"
        },
        {
         "base": [
          -0.005600454758903636
         ],
         "legendgroup": "Sierra",
         "marker": {
          "color": "rgb(189,189,189)"
         },
         "name": "Orders: 0.56%",
         "showlegend": true,
         "type": "bar",
         "width": 0.8,
         "x": [
          "Sierra"
         ],
         "xaxis": "x2",
         "y": [
          0.005600454758903636
         ],
         "yaxis": "y2"
        },
        {
         "base": 0,
         "legendgroup": "Mono",
         "marker": {
          "color": "rgb(189,189,189)"
         },
         "name": "Mono: 44.55%",
         "showlegend": true,
         "type": "bar",
         "width": 0.8,
         "x": [
          "Mono"
         ],
         "xaxis": "x",
         "y": [
          0.44545454545454544
         ],
         "yaxis": "y"
        },
        {
         "base": [
          -0.0045311122644851425
         ],
         "legendgroup": "Mono",
         "marker": {
          "color": "rgb(189,189,189)"
         },
         "name": "Orders: 0.453%",
         "showlegend": true,
         "type": "bar",
         "width": 0.8,
         "x": [
          "Mono"
         ],
         "xaxis": "x2",
         "y": [
          0.0045311122644851425
         ],
         "yaxis": "y2"
        },
        {
         "base": 0,
         "legendgroup": "Glenn",
         "marker": {
          "color": "rgb(189,189,189)"
         },
         "name": "Glenn: 44.4%",
         "showlegend": true,
         "type": "bar",
         "width": 0.8,
         "x": [
          "Glenn"
         ],
         "xaxis": "x",
         "y": [
          0.443994260150249
         ],
         "yaxis": "y"
        },
        {
         "base": [
          -0.05856009490620598
         ],
         "legendgroup": "Glenn",
         "marker": {
          "color": "rgb(189,189,189)"
         },
         "name": "Orders: 5.856%",
         "showlegend": true,
         "type": "bar",
         "width": 0.8,
         "x": [
          "Glenn"
         ],
         "xaxis": "x2",
         "y": [
          0.05856009490620598
         ],
         "yaxis": "y2"
        },
        {
         "base": 0,
         "legendgroup": "Kern",
         "marker": {
          "color": "rgb(189,189,189)"
         },
         "name": "Kern: 44.29%",
         "showlegend": true,
         "type": "bar",
         "width": 0.8,
         "x": [
          "Kern"
         ],
         "xaxis": "x",
         "y": [
          0.4428973766652954
         ],
         "yaxis": "y"
        },
        {
         "base": [
          -0.052068246789089084
         ],
         "legendgroup": "Kern",
         "marker": {
          "color": "rgb(189,189,189)"
         },
         "name": "Orders: 5.207%",
         "showlegend": true,
         "type": "bar",
         "width": 0.8,
         "x": [
          "Kern"
         ],
         "xaxis": "x2",
         "y": [
          0.052068246789089084
         ],
         "yaxis": "y2"
        },
        {
         "base": 0,
         "legendgroup": "San Mateo",
         "marker": {
          "color": "rgb(189,189,189)"
         },
         "name": "San Mateo: 44.18%",
         "showlegend": true,
         "type": "bar",
         "width": 0.8,
         "x": [
          "San Mateo"
         ],
         "xaxis": "x",
         "y": [
          0.4417812539422228
         ],
         "yaxis": "y"
        },
        {
         "base": [
          -0.013061137062026808
         ],
         "legendgroup": "San Mateo",
         "marker": {
          "color": "rgb(189,189,189)"
         },
         "name": "Orders: 1.306%",
         "showlegend": true,
         "type": "bar",
         "width": 0.8,
         "x": [
          "San Mateo"
         ],
         "xaxis": "x2",
         "y": [
          0.013061137062026808
         ],
         "yaxis": "y2"
        },
        {
         "base": 0,
         "legendgroup": "Yuba",
         "marker": {
          "color": "rgb(189,189,189)"
         },
         "name": "Yuba: 44.16%",
         "showlegend": true,
         "type": "bar",
         "width": 0.8,
         "x": [
          "Yuba"
         ],
         "xaxis": "x",
         "y": [
          0.441606648199446
         ],
         "yaxis": "y"
        },
        {
         "base": [
          -0.029740573226893385
         ],
         "legendgroup": "Yuba",
         "marker": {
          "color": "rgb(189,189,189)"
         },
         "name": "Orders: 2.974%",
         "showlegend": true,
         "type": "bar",
         "width": 0.8,
         "x": [
          "Yuba"
         ],
         "xaxis": "x2",
         "y": [
          0.029740573226893385
         ],
         "yaxis": "y2"
        },
        {
         "base": 0,
         "legendgroup": "Fresno",
         "marker": {
          "color": "rgb(189,189,189)"
         },
         "name": "Fresno: 43.88%",
         "showlegend": true,
         "type": "bar",
         "width": 0.8,
         "x": [
          "Fresno"
         ],
         "xaxis": "x",
         "y": [
          0.43876395900260057
         ],
         "yaxis": "y"
        },
        {
         "base": [
          -0.05385432885988977
         ],
         "legendgroup": "Fresno",
         "marker": {
          "color": "rgb(189,189,189)"
         },
         "name": "Orders: 5.385%",
         "showlegend": true,
         "type": "bar",
         "width": 0.8,
         "x": [
          "Fresno"
         ],
         "xaxis": "x2",
         "y": [
          0.05385432885988977
         ],
         "yaxis": "y2"
        },
        {
         "base": 0,
         "legendgroup": "Orange",
         "marker": {
          "color": "rgb(189,189,189)"
         },
         "name": "Orange: 43.82%",
         "showlegend": true,
         "type": "bar",
         "width": 0.8,
         "x": [
          "Orange"
         ],
         "xaxis": "x",
         "y": [
          0.43822472170686455
         ],
         "yaxis": "y"
        },
        {
         "base": [
          -0.05683827224570162
         ],
         "legendgroup": "Orange",
         "marker": {
          "color": "rgb(189,189,189)"
         },
         "name": "Orders: 5.684%",
         "showlegend": true,
         "type": "bar",
         "width": 0.8,
         "x": [
          "Orange"
         ],
         "xaxis": "x2",
         "y": [
          0.05683827224570162
         ],
         "yaxis": "y2"
        },
        {
         "base": 0,
         "legendgroup": "Siskiyou",
         "marker": {
          "color": "rgb(189,189,189)"
         },
         "name": "Siskiyou: 43.45%",
         "showlegend": true,
         "type": "bar",
         "width": 0.8,
         "x": [
          "Siskiyou"
         ],
         "xaxis": "x",
         "y": [
          0.43445015987765884
         ],
         "yaxis": "y"
        },
        {
         "base": [
          -0.011851742006706046
         ],
         "legendgroup": "Siskiyou",
         "marker": {
          "color": "rgb(189,189,189)"
         },
         "name": "Orders: 1.185%",
         "showlegend": true,
         "type": "bar",
         "width": 0.8,
         "x": [
          "Siskiyou"
         ],
         "xaxis": "x2",
         "y": [
          0.011851742006706046
         ],
         "yaxis": "y2"
        },
        {
         "base": 0,
         "legendgroup": "Santa Clara",
         "marker": {
          "color": "rgb(189,189,189)"
         },
         "name": "Santa Clara: 43.43%",
         "showlegend": true,
         "type": "bar",
         "width": 0.8,
         "x": [
          "Santa Clara"
         ],
         "xaxis": "x",
         "y": [
          0.43429403808136513
         ],
         "yaxis": "y"
        },
        {
         "base": [
          -0.0158358254450788
         ],
         "legendgroup": "Santa Clara",
         "marker": {
          "color": "rgb(189,189,189)"
         },
         "name": "Orders: 1.584%",
         "showlegend": true,
         "type": "bar",
         "width": 0.8,
         "x": [
          "Santa Clara"
         ],
         "xaxis": "x2",
         "y": [
          0.0158358254450788
         ],
         "yaxis": "y2"
        },
        {
         "base": 0,
         "legendgroup": "Imperial",
         "marker": {
          "color": "rgb(189,189,189)"
         },
         "name": "Imperial: 43.19%",
         "showlegend": true,
         "type": "bar",
         "width": 0.8,
         "x": [
          "Imperial"
         ],
         "xaxis": "x",
         "y": [
          0.43187428502619063
         ],
         "yaxis": "y"
        },
        {
         "base": [
          -0.027366270400303174
         ],
         "legendgroup": "Imperial",
         "marker": {
          "color": "rgb(189,189,189)"
         },
         "name": "Orders: 2.737%",
         "showlegend": true,
         "type": "bar",
         "width": 0.8,
         "x": [
          "Imperial"
         ],
         "xaxis": "x2",
         "y": [
          0.027366270400303174
         ],
         "yaxis": "y2"
        },
        {
         "base": 0,
         "legendgroup": "Humboldt",
         "marker": {
          "color": "rgb(189,189,189)"
         },
         "name": "Humboldt: 43.17%",
         "showlegend": true,
         "type": "bar",
         "width": 0.8,
         "x": [
          "Humboldt"
         ],
         "xaxis": "x",
         "y": [
          0.4316831683168317
         ],
         "yaxis": "y"
        },
        {
         "base": [
          -0.0024962309384345418
         ],
         "legendgroup": "Humboldt",
         "marker": {
          "color": "rgb(189,189,189)"
         },
         "name": "Orders: 0.25%",
         "showlegend": true,
         "type": "bar",
         "width": 0.8,
         "x": [
          "Humboldt"
         ],
         "xaxis": "x2",
         "y": [
          0.0024962309384345418
         ],
         "yaxis": "y2"
        },
        {
         "base": 0,
         "legendgroup": "Los Angeles",
         "marker": {
          "color": "rgb(189,189,189)"
         },
         "name": "Los Angeles: 43.16%",
         "showlegend": true,
         "type": "bar",
         "width": 0.8,
         "x": [
          "Los Angeles"
         ],
         "xaxis": "x",
         "y": [
          0.43164649500446756
         ],
         "yaxis": "y"
        },
        {
         "base": [
          -0.020284553850209667
         ],
         "legendgroup": "Los Angeles",
         "marker": {
          "color": "rgb(189,189,189)"
         },
         "name": "Orders: 2.028%",
         "showlegend": true,
         "type": "bar",
         "width": 0.8,
         "x": [
          "Los Angeles"
         ],
         "xaxis": "x2",
         "y": [
          0.020284553850209667
         ],
         "yaxis": "y2"
        },
        {
         "base": 0,
         "legendgroup": "Calaveras",
         "marker": {
          "color": "rgb(189,189,189)"
         },
         "name": "Calaveras: 42.92%",
         "showlegend": true,
         "type": "bar",
         "width": 0.8,
         "x": [
          "Calaveras"
         ],
         "xaxis": "x",
         "y": [
          0.4291650405197548
         ],
         "yaxis": "y"
        },
        {
         "base": [
          -0.07177117059225757
         ],
         "legendgroup": "Calaveras",
         "marker": {
          "color": "rgb(189,189,189)"
         },
         "name": "Orders: 7.177%",
         "showlegend": true,
         "type": "bar",
         "width": 0.8,
         "x": [
          "Calaveras"
         ],
         "xaxis": "x2",
         "y": [
          0.07177117059225757
         ],
         "yaxis": "y2"
        },
        {
         "base": 0,
         "legendgroup": "Nevada",
         "marker": {
          "color": "rgb(189,189,189)"
         },
         "name": "Nevada: 42.78%",
         "showlegend": true,
         "type": "bar",
         "width": 0.8,
         "x": [
          "Nevada"
         ],
         "xaxis": "x",
         "y": [
          0.4278390554606183
         ],
         "yaxis": "y"
        },
        {
         "base": [
          -0.010606098053269404
         ],
         "legendgroup": "Nevada",
         "marker": {
          "color": "rgb(189,189,189)"
         },
         "name": "Orders: 1.061%",
         "showlegend": true,
         "type": "bar",
         "width": 0.8,
         "x": [
          "Nevada"
         ],
         "xaxis": "x2",
         "y": [
          0.010606098053269404
         ],
         "yaxis": "y2"
        },
        {
         "base": 0,
         "legendgroup": "Napa",
         "marker": {
          "color": "rgb(189,189,189)"
         },
         "name": "Napa: 42.54%",
         "showlegend": true,
         "type": "bar",
         "width": 0.8,
         "x": [
          "Napa"
         ],
         "xaxis": "x",
         "y": [
          0.4254185692541857
         ],
         "yaxis": "y"
        },
        {
         "base": [
          -0.004330095647660711
         ],
         "legendgroup": "Napa",
         "marker": {
          "color": "rgb(189,189,189)"
         },
         "name": "Orders: 0.433%",
         "showlegend": true,
         "type": "bar",
         "width": 0.8,
         "x": [
          "Napa"
         ],
         "xaxis": "x2",
         "y": [
          0.004330095647660711
         ],
         "yaxis": "y2"
        },
        {
         "base": 0,
         "legendgroup": "Alpine",
         "marker": {
          "color": "rgb(189,189,189)"
         },
         "name": "Alpine: 42.4%",
         "showlegend": true,
         "type": "bar",
         "width": 0.8,
         "x": [
          "Alpine"
         ],
         "xaxis": "x",
         "y": [
          0.42402968608966
         ],
         "yaxis": "y"
        },
        {
         "base": [
          -0.016428989232429584
         ],
         "legendgroup": "Alpine",
         "marker": {
          "color": "rgb(189,189,189)"
         },
         "name": "Orders: 1.643%",
         "showlegend": true,
         "type": "bar",
         "width": 0.8,
         "x": [
          "Alpine"
         ],
         "xaxis": "x2",
         "y": [
          0.016428989232429584
         ],
         "yaxis": "y2"
        },
        {
         "base": 0,
         "legendgroup": "Sutter",
         "marker": {
          "color": "rgb(189,189,189)"
         },
         "name": "Sutter: 41.9%",
         "showlegend": true,
         "type": "bar",
         "width": 0.8,
         "x": [
          "Sutter"
         ],
         "xaxis": "x",
         "y": [
          0.4190007867820614
         ],
         "yaxis": "y"
        },
        {
         "base": [
          -0.04188395409571357
         ],
         "legendgroup": "Sutter",
         "marker": {
          "color": "rgb(189,189,189)"
         },
         "name": "Orders: 4.188%",
         "showlegend": true,
         "type": "bar",
         "width": 0.8,
         "x": [
          "Sutter"
         ],
         "xaxis": "x2",
         "y": [
          0.04188395409571357
         ],
         "yaxis": "y2"
        },
        {
         "base": 0,
         "legendgroup": "Madera",
         "marker": {
          "color": "rgb(189,189,189)"
         },
         "name": "Madera: 41.88%",
         "showlegend": true,
         "type": "bar",
         "width": 0.8,
         "x": [
          "Madera"
         ],
         "xaxis": "x",
         "y": [
          0.41878172588832485
         ],
         "yaxis": "y"
        },
        {
         "base": [
          -0.02272146840990913
         ],
         "legendgroup": "Madera",
         "marker": {
          "color": "rgb(189,189,189)"
         },
         "name": "Orders: 2.272%",
         "showlegend": true,
         "type": "bar",
         "width": 0.8,
         "x": [
          "Madera"
         ],
         "xaxis": "x2",
         "y": [
          0.02272146840990913
         ],
         "yaxis": "y2"
        },
        {
         "base": 0,
         "legendgroup": "Solano",
         "marker": {
          "color": "rgb(189,189,189)"
         },
         "name": "Solano: 41.84%",
         "showlegend": true,
         "type": "bar",
         "width": 0.8,
         "x": [
          "Solano"
         ],
         "xaxis": "x",
         "y": [
          0.418446301454658
         ],
         "yaxis": "y"
        },
        {
         "base": [
          -0.0053236449914732704
         ],
         "legendgroup": "Solano",
         "marker": {
          "color": "rgb(189,189,189)"
         },
         "name": "Orders: 0.532%",
         "showlegend": true,
         "type": "bar",
         "width": 0.8,
         "x": [
          "Solano"
         ],
         "xaxis": "x2",
         "y": [
          0.0053236449914732704
         ],
         "yaxis": "y2"
        },
        {
         "base": 0,
         "legendgroup": "Plumas",
         "marker": {
          "color": "rgb(189,189,189)"
         },
         "name": "Plumas: 41.68%",
         "showlegend": true,
         "type": "bar",
         "width": 0.8,
         "x": [
          "Plumas"
         ],
         "xaxis": "x",
         "y": [
          0.4167913549459684
         ],
         "yaxis": "y"
        },
        {
         "base": [
          -0.00991077828031932
         ],
         "legendgroup": "Plumas",
         "marker": {
          "color": "rgb(189,189,189)"
         },
         "name": "Orders: 0.991%",
         "showlegend": true,
         "type": "bar",
         "width": 0.8,
         "x": [
          "Plumas"
         ],
         "xaxis": "x2",
         "y": [
          0.00991077828031932
         ],
         "yaxis": "y2"
        },
        {
         "base": 0,
         "legendgroup": "Contra Costa",
         "marker": {
          "color": "rgb(189,189,189)"
         },
         "name": "Contra Costa: 41.41%",
         "showlegend": true,
         "type": "bar",
         "width": 0.8,
         "x": [
          "Contra Costa"
         ],
         "xaxis": "x",
         "y": [
          0.4140900195694716
         ],
         "yaxis": "y"
        },
        {
         "base": [
          -0.012629445639010405
         ],
         "legendgroup": "Contra Costa",
         "marker": {
          "color": "rgb(189,189,189)"
         },
         "name": "Orders: 1.263%",
         "showlegend": true,
         "type": "bar",
         "width": 0.8,
         "x": [
          "Contra Costa"
         ],
         "xaxis": "x2",
         "y": [
          0.012629445639010405
         ],
         "yaxis": "y2"
        },
        {
         "base": 0,
         "legendgroup": "Amador",
         "marker": {
          "color": "rgb(189,189,189)"
         },
         "name": "Amador: 41.28%",
         "showlegend": true,
         "type": "bar",
         "width": 0.8,
         "x": [
          "Amador"
         ],
         "xaxis": "x",
         "y": [
          0.4128160171935977
         ],
         "yaxis": "y"
        },
        {
         "base": [
          -0.029132580344858834
         ],
         "legendgroup": "Amador",
         "marker": {
          "color": "rgb(189,189,189)"
         },
         "name": "Orders: 2.913%",
         "showlegend": true,
         "type": "bar",
         "width": 0.8,
         "x": [
          "Amador"
         ],
         "xaxis": "x2",
         "y": [
          0.029132580344858834
         ],
         "yaxis": "y2"
        },
        {
         "base": 0,
         "legendgroup": "Colusa",
         "marker": {
          "color": "rgb(189,189,189)"
         },
         "name": "Colusa: 40.63%",
         "showlegend": true,
         "type": "bar",
         "width": 0.8,
         "x": [
          "Colusa"
         ],
         "xaxis": "x",
         "y": [
          0.4063083240014931
         ],
         "yaxis": "y"
        },
        {
         "base": [
          -0.008828254368404143
         ],
         "legendgroup": "Colusa",
         "marker": {
          "color": "rgb(189,189,189)"
         },
         "name": "Orders: 0.883%",
         "showlegend": true,
         "type": "bar",
         "width": 0.8,
         "x": [
          "Colusa"
         ],
         "xaxis": "x2",
         "y": [
          0.008828254368404143
         ],
         "yaxis": "y2"
        },
        {
         "base": 0,
         "legendgroup": "Ventura",
         "marker": {
          "color": "rgb(189,189,189)"
         },
         "name": "Ventura: 40.56%",
         "showlegend": true,
         "type": "bar",
         "width": 0.8,
         "x": [
          "Ventura"
         ],
         "xaxis": "x",
         "y": [
          0.40560687084751257
         ],
         "yaxis": "y"
        },
        {
         "base": [
          -0.04067126368601864
         ],
         "legendgroup": "Ventura",
         "marker": {
          "color": "rgb(189,189,189)"
         },
         "name": "Orders: 4.067%",
         "showlegend": true,
         "type": "bar",
         "width": 0.8,
         "x": [
          "Ventura"
         ],
         "xaxis": "x2",
         "y": [
          0.04067126368601864
         ],
         "yaxis": "y2"
        },
        {
         "base": 0,
         "legendgroup": "Riverside",
         "marker": {
          "color": "rgb(217,217,217)"
         },
         "name": "Riverside: 39.93%",
         "showlegend": true,
         "type": "bar",
         "width": 0.8,
         "x": [
          "Riverside"
         ],
         "xaxis": "x",
         "y": [
          0.3993374108053007
         ],
         "yaxis": "y"
        },
        {
         "base": [
          -0.006465485282123527
         ],
         "legendgroup": "Riverside",
         "marker": {
          "color": "rgb(217,217,217)"
         },
         "name": "Orders: 0.647%",
         "showlegend": true,
         "type": "bar",
         "width": 0.8,
         "x": [
          "Riverside"
         ],
         "xaxis": "x2",
         "y": [
          0.006465485282123527
         ],
         "yaxis": "y2"
        },
        {
         "base": 0,
         "legendgroup": "San Luis Obispo",
         "marker": {
          "color": "rgb(217,217,217)"
         },
         "name": "San Luis Obispo: 39.01%",
         "showlegend": true,
         "type": "bar",
         "width": 0.8,
         "x": [
          "San Luis Obispo"
         ],
         "xaxis": "x",
         "y": [
          0.39010543390105434
         ],
         "yaxis": "y"
        },
        {
         "base": [
          -0.006094757915029288
         ],
         "legendgroup": "San Luis Obispo",
         "marker": {
          "color": "rgb(217,217,217)"
         },
         "name": "Orders: 0.609%",
         "showlegend": true,
         "type": "bar",
         "width": 0.8,
         "x": [
          "San Luis Obispo"
         ],
         "xaxis": "x2",
         "y": [
          0.006094757915029288
         ],
         "yaxis": "y2"
        },
        {
         "base": 0,
         "legendgroup": "San Joaquin",
         "marker": {
          "color": "rgb(217,217,217)"
         },
         "name": "San Joaquin: 38.23%",
         "showlegend": true,
         "type": "bar",
         "width": 0.8,
         "x": [
          "San Joaquin"
         ],
         "xaxis": "x",
         "y": [
          0.382259767687434
         ],
         "yaxis": "y"
        },
        {
         "base": [
          -0.0015603502961699745
         ],
         "legendgroup": "San Joaquin",
         "marker": {
          "color": "rgb(217,217,217)"
         },
         "name": "Orders: 0.156%",
         "showlegend": true,
         "type": "bar",
         "width": 0.8,
         "x": [
          "San Joaquin"
         ],
         "xaxis": "x2",
         "y": [
          0.0015603502961699745
         ],
         "yaxis": "y2"
        },
        {
         "base": 0,
         "legendgroup": "Monterey",
         "marker": {
          "color": "rgb(217,217,217)"
         },
         "name": "Monterey: 38.01%",
         "showlegend": true,
         "type": "bar",
         "width": 0.8,
         "x": [
          "Monterey"
         ],
         "xaxis": "x",
         "y": [
          0.38012592163035375
         ],
         "yaxis": "y"
        },
        {
         "base": [
          -0.03977822265061829
         ],
         "legendgroup": "Monterey",
         "marker": {
          "color": "rgb(217,217,217)"
         },
         "name": "Orders: 3.978%",
         "showlegend": true,
         "type": "bar",
         "width": 0.8,
         "x": [
          "Monterey"
         ],
         "xaxis": "x2",
         "y": [
          0.03977822265061829
         ],
         "yaxis": "y2"
        },
        {
         "base": 0,
         "legendgroup": "Tehama",
         "marker": {
          "color": "rgb(217,217,217)"
         },
         "name": "Tehama: 37.9%",
         "showlegend": true,
         "type": "bar",
         "width": 0.8,
         "x": [
          "Tehama"
         ],
         "xaxis": "x",
         "y": [
          0.3790123456790123
         ],
         "yaxis": "y"
        },
        {
         "base": [
          -0.00133461852153926
         ],
         "legendgroup": "Tehama",
         "marker": {
          "color": "rgb(217,217,217)"
         },
         "name": "Orders: 0.133%",
         "showlegend": true,
         "type": "bar",
         "width": 0.8,
         "x": [
          "Tehama"
         ],
         "xaxis": "x2",
         "y": [
          0.00133461852153926
         ],
         "yaxis": "y2"
        },
        {
         "base": 0,
         "legendgroup": "Stanislaus",
         "marker": {
          "color": "rgb(217,217,217)"
         },
         "name": "Stanislaus: 37.75%",
         "showlegend": true,
         "type": "bar",
         "width": 0.8,
         "x": [
          "Stanislaus"
         ],
         "xaxis": "x",
         "y": [
          0.3774949378073474
         ],
         "yaxis": "y"
        },
        {
         "base": [
          -0.005696020035754595
         ],
         "legendgroup": "Stanislaus",
         "marker": {
          "color": "rgb(217,217,217)"
         },
         "name": "Orders: 0.57%",
         "showlegend": true,
         "type": "bar",
         "width": 0.8,
         "x": [
          "Stanislaus"
         ],
         "xaxis": "x2",
         "y": [
          0.005696020035754595
         ],
         "yaxis": "y2"
        },
        {
         "base": 0,
         "legendgroup": "Mariposa",
         "marker": {
          "color": "rgb(217,217,217)"
         },
         "name": "Mariposa: 37.66%",
         "showlegend": true,
         "type": "bar",
         "width": 0.8,
         "x": [
          "Mariposa"
         ],
         "xaxis": "x",
         "y": [
          0.3766462942239821
         ],
         "yaxis": "y"
        },
        {
         "base": [
          -0.038282131764744654
         ],
         "legendgroup": "Mariposa",
         "marker": {
          "color": "rgb(217,217,217)"
         },
         "name": "Orders: 3.828%",
         "showlegend": true,
         "type": "bar",
         "width": 0.8,
         "x": [
          "Mariposa"
         ],
         "xaxis": "x2",
         "y": [
          0.038282131764744654
         ],
         "yaxis": "y2"
        },
        {
         "base": 0,
         "legendgroup": "Alameda",
         "marker": {
          "color": "rgb(217,217,217)"
         },
         "name": "Alameda: 37.58%",
         "showlegend": true,
         "type": "bar",
         "width": 0.8,
         "x": [
          "Alameda"
         ],
         "xaxis": "x",
         "y": [
          0.37575452716297786
         ],
         "yaxis": "y"
        },
        {
         "base": [
          -0.006551164495851972
         ],
         "legendgroup": "Alameda",
         "marker": {
          "color": "rgb(217,217,217)"
         },
         "name": "Orders: 0.655%",
         "showlegend": true,
         "type": "bar",
         "width": 0.8,
         "x": [
          "Alameda"
         ],
         "xaxis": "x2",
         "y": [
          0.006551164495851972
         ],
         "yaxis": "y2"
        },
        {
         "base": 0,
         "legendgroup": "Yolo",
         "marker": {
          "color": "rgb(217,217,217)"
         },
         "name": "Yolo: 36.91%",
         "showlegend": true,
         "type": "bar",
         "width": 0.8,
         "x": [
          "Yolo"
         ],
         "xaxis": "x",
         "y": [
          0.36907698299363884
         ],
         "yaxis": "y"
        },
        {
         "base": [
          -0.012692057372119654
         ],
         "legendgroup": "Yolo",
         "marker": {
          "color": "rgb(217,217,217)"
         },
         "name": "Orders: 1.269%",
         "showlegend": true,
         "type": "bar",
         "width": 0.8,
         "x": [
          "Yolo"
         ],
         "xaxis": "x2",
         "y": [
          0.012692057372119654
         ],
         "yaxis": "y2"
        },
        {
         "base": 0,
         "legendgroup": "Marin",
         "marker": {
          "color": "rgb(217,217,217)"
         },
         "name": "Marin: 35.63%",
         "showlegend": true,
         "type": "bar",
         "width": 0.8,
         "x": [
          "Marin"
         ],
         "xaxis": "x",
         "y": [
          0.35629370629370627
         ],
         "yaxis": "y"
        },
        {
         "base": [
          -0.014137070265193643
         ],
         "legendgroup": "Marin",
         "marker": {
          "color": "rgb(217,217,217)"
         },
         "name": "Orders: 1.414%",
         "showlegend": true,
         "type": "bar",
         "width": 0.8,
         "x": [
          "Marin"
         ],
         "xaxis": "x2",
         "y": [
          0.014137070265193643
         ],
         "yaxis": "y2"
        },
        {
         "base": 0,
         "legendgroup": "Mendocino",
         "marker": {
          "color": "rgb(217,217,217)"
         },
         "name": "Mendocino: 35.05%",
         "showlegend": true,
         "type": "bar",
         "width": 0.8,
         "x": [
          "Mendocino"
         ],
         "xaxis": "x",
         "y": [
          0.35050055617352616
         ],
         "yaxis": "y"
        },
        {
         "base": [
          -0.0148126179118987
         ],
         "legendgroup": "Mendocino",
         "marker": {
          "color": "rgb(217,217,217)"
         },
         "name": "Orders: 1.481%",
         "showlegend": true,
         "type": "bar",
         "width": 0.8,
         "x": [
          "Mendocino"
         ],
         "xaxis": "x2",
         "y": [
          0.0148126179118987
         ],
         "yaxis": "y2"
        },
        {
         "base": 0,
         "legendgroup": "Sonoma",
         "marker": {
          "color": "rgb(217,217,217)"
         },
         "name": "Sonoma: 34.99%",
         "showlegend": true,
         "type": "bar",
         "width": 0.8,
         "x": [
          "Sonoma"
         ],
         "xaxis": "x",
         "y": [
          0.34993270524899056
         ],
         "yaxis": "y"
        },
        {
         "base": [
          -0.0036726724500135933
         ],
         "legendgroup": "Sonoma",
         "marker": {
          "color": "rgb(217,217,217)"
         },
         "name": "Orders: 0.367%",
         "showlegend": true,
         "type": "bar",
         "width": 0.8,
         "x": [
          "Sonoma"
         ],
         "xaxis": "x2",
         "y": [
          0.0036726724500135933
         ],
         "yaxis": "y2"
        },
        {
         "base": 0,
         "legendgroup": "Placer",
         "marker": {
          "color": "rgb(217,217,217)"
         },
         "name": "Placer: 34.78%",
         "showlegend": true,
         "type": "bar",
         "width": 0.8,
         "x": [
          "Placer"
         ],
         "xaxis": "x",
         "y": [
          0.34782608695652173
         ],
         "yaxis": "y"
        },
        {
         "base": [
          -0.00007579315060593328
         ],
         "legendgroup": "Placer",
         "marker": {
          "color": "rgb(217,217,217)"
         },
         "name": "Orders: 0.008%",
         "showlegend": true,
         "type": "bar",
         "width": 0.8,
         "x": [
          "Placer"
         ],
         "xaxis": "x2",
         "y": [
          0.00007579315060593328
         ],
         "yaxis": "y2"
        },
        {
         "base": 0,
         "legendgroup": "Sacramento",
         "marker": {
          "color": "rgb(217,217,217)"
         },
         "name": "Sacramento: 34.01%",
         "showlegend": true,
         "type": "bar",
         "width": 0.8,
         "x": [
          "Sacramento"
         ],
         "xaxis": "x",
         "y": [
          0.3401280447420708
         ],
         "yaxis": "y"
        },
        {
         "base": [
          -0.022390285295304943
         ],
         "legendgroup": "Sacramento",
         "marker": {
          "color": "rgb(217,217,217)"
         },
         "name": "Orders: 2.239%",
         "showlegend": true,
         "type": "bar",
         "width": 0.8,
         "x": [
          "Sacramento"
         ],
         "xaxis": "x2",
         "y": [
          0.022390285295304943
         ],
         "yaxis": "y2"
        },
        {
         "base": 0,
         "legendgroup": "Santa Cruz",
         "marker": {
          "color": "rgb(217,217,217)"
         },
         "name": "Santa Cruz: 32.97%",
         "showlegend": true,
         "type": "bar",
         "width": 0.8,
         "x": [
          "Santa Cruz"
         ],
         "xaxis": "x",
         "y": [
          0.32973112719751807
         ],
         "yaxis": "y"
        },
        {
         "base": [
          -0.03186607679823369
         ],
         "legendgroup": "Santa Cruz",
         "marker": {
          "color": "rgb(217,217,217)"
         },
         "name": "Orders: 3.187%",
         "showlegend": true,
         "type": "bar",
         "width": 0.8,
         "x": [
          "Santa Cruz"
         ],
         "xaxis": "x2",
         "y": [
          0.03186607679823369
         ],
         "yaxis": "y2"
        },
        {
         "base": 0,
         "legendgroup": "Lake",
         "marker": {
          "color": "rgb(217,217,217)"
         },
         "name": "Lake: 32.89%",
         "showlegend": true,
         "type": "bar",
         "width": 0.8,
         "x": [
          "Lake"
         ],
         "xaxis": "x",
         "y": [
          0.3289296445964149
         ],
         "yaxis": "y"
        },
        {
         "base": [
          -0.031803465065124444
         ],
         "legendgroup": "Lake",
         "marker": {
          "color": "rgb(217,217,217)"
         },
         "name": "Orders: 3.18%",
         "showlegend": true,
         "type": "bar",
         "width": 0.8,
         "x": [
          "Lake"
         ],
         "xaxis": "x2",
         "y": [
          0.031803465065124444
         ],
         "yaxis": "y2"
        },
        {
         "base": 0,
         "legendgroup": "Inyo",
         "marker": {
          "color": "rgb(217,217,217)"
         },
         "name": "Inyo: 31.24%",
         "showlegend": true,
         "type": "bar",
         "width": 0.8,
         "x": [
          "Inyo"
         ],
         "xaxis": "x",
         "y": [
          0.3124006359300477
         ],
         "yaxis": "y"
        },
        {
         "base": [
          -0.012436667408121401
         ],
         "legendgroup": "Inyo",
         "marker": {
          "color": "rgb(217,217,217)"
         },
         "name": "Orders: 1.244%",
         "showlegend": true,
         "type": "bar",
         "width": 0.8,
         "x": [
          "Inyo"
         ],
         "xaxis": "x2",
         "y": [
          0.012436667408121401
         ],
         "yaxis": "y2"
        },
        {
         "base": 0,
         "legendgroup": "Tulare",
         "marker": {
          "color": "rgb(240,240,240)"
         },
         "name": "Tulare: 28.25%",
         "showlegend": true,
         "text": [
          0.282
         ],
         "type": "bar",
         "width": 0.8,
         "x": [
          "Tulare"
         ],
         "xaxis": "x",
         "y": [
          0.2824519230769231
         ],
         "yaxis": "y"
        },
        {
         "base": [
          -0.0027417348393102823
         ],
         "legendgroup": "Tulare",
         "marker": {
          "color": "rgb(240,240,240)"
         },
         "name": "Orders: 0.274%",
         "showlegend": true,
         "type": "bar",
         "width": 0.8,
         "x": [
          "Tulare"
         ],
         "xaxis": "x2",
         "y": [
          0.0027417348393102823
         ],
         "yaxis": "y2"
        },
        {
         "base": 0,
         "legendgroup": "Trinity",
         "marker": {
          "color": "rgb(240,240,240)"
         },
         "name": "Trinity: 22.16%",
         "showlegend": true,
         "text": [
          0.222
         ],
         "type": "bar",
         "width": 0.8,
         "x": [
          "Trinity"
         ],
         "xaxis": "x",
         "y": [
          0.22162162162162163
         ],
         "yaxis": "y"
        },
        {
         "base": [
          -0.00030482027961081863
         ],
         "legendgroup": "Trinity",
         "marker": {
          "color": "rgb(240,240,240)"
         },
         "name": "Orders: 0.03%",
         "showlegend": true,
         "type": "bar",
         "width": 0.8,
         "x": [
          "Trinity"
         ],
         "xaxis": "x2",
         "y": [
          0.00030482027961081863
         ],
         "yaxis": "y2"
        }
       ],
       "layout": {
        "annotations": [
         {
          "font": {
           "color": "rgb(37,37,37)",
           "size": 12
          },
          "opacity": 0.8,
          "showarrow": false,
          "text": "0.5",
          "x": 1,
          "xanchor": "right",
          "xref": "x domain",
          "y": 0.5,
          "yanchor": "bottom",
          "yref": "y"
         },
         {
          "font": {
           "color": "rgb(37,37,37)",
           "size": 12
          },
          "opacity": 0.8,
          "showarrow": false,
          "text": "0.3",
          "x": 1,
          "xanchor": "right",
          "xref": "x domain",
          "y": 0.3,
          "yanchor": "bottom",
          "yref": "y"
         },
         {
          "font": {
           "color": "rgb(37,37,37)",
           "size": 12
          },
          "opacity": 0.8,
          "showarrow": false,
          "text": "-0.05",
          "x": 1,
          "xanchor": "right",
          "xref": "x2 domain",
          "y": -0.05,
          "yanchor": "bottom",
          "yref": "y2"
         },
         {
          "font": {
           "color": "rgb(37,37,37)",
           "size": 12
          },
          "opacity": 0.8,
          "showarrow": false,
          "text": "-0.03",
          "x": 1,
          "xanchor": "right",
          "xref": "x2 domain",
          "y": -0.03,
          "yanchor": "bottom",
          "yref": "y2"
         }
        ],
        "height": 700,
        "legend": {
         "title": {
          "text": "<b>Counties</b>"
         }
        },
        "plot_bgcolor": "white",
        "shapes": [
         {
          "layer": "below",
          "line": {
           "color": "rgb(37,37,37)",
           "dash": "solid"
          },
          "opacity": 0.3,
          "type": "line",
          "x0": 0,
          "x1": 1,
          "xref": "x domain",
          "y0": 0.5,
          "y1": 0.5,
          "yref": "y"
         },
         {
          "layer": "below",
          "line": {
           "color": "rgb(37,37,37)",
           "dash": "solid"
          },
          "opacity": 0.3,
          "type": "line",
          "x0": 0,
          "x1": 1,
          "xref": "x domain",
          "y0": 0.3,
          "y1": 0.3,
          "yref": "y"
         },
         {
          "layer": "below",
          "line": {
           "color": "rgb(37,37,37)",
           "dash": "solid"
          },
          "opacity": 0.3,
          "type": "line",
          "x0": 0,
          "x1": 1,
          "xref": "x2 domain",
          "y0": -0.05,
          "y1": -0.05,
          "yref": "y2"
         },
         {
          "layer": "below",
          "line": {
           "color": "rgb(37,37,37)",
           "dash": "solid"
          },
          "opacity": 0.3,
          "type": "line",
          "x0": 0,
          "x1": 1,
          "xref": "x2 domain",
          "y0": -0.03,
          "y1": -0.03,
          "yref": "y2"
         },
         {
          "layer": "below",
          "line": {
           "color": "black",
           "dash": "solid"
          },
          "opacity": 1,
          "type": "line",
          "x0": 0,
          "x1": 1,
          "xref": "x domain",
          "y0": 0,
          "y1": 0,
          "yref": "y"
         },
         {
          "layer": "below",
          "line": {
           "color": "black",
           "dash": "solid"
          },
          "opacity": 0.8,
          "type": "line",
          "x0": 0,
          "x1": 1,
          "xref": "x2 domain",
          "y0": 0,
          "y1": 0,
          "yref": "y2"
         },
         {
          "layer": "below",
          "line": {
           "color": "black",
           "dash": "solid"
          },
          "opacity": 0.8,
          "type": "line",
          "x0": -1,
          "x1": -1,
          "xref": "x2",
          "y0": 0,
          "y1": 1,
          "yref": "y2 domain"
         },
         {
          "layer": "below",
          "line": {
           "color": "black",
           "dash": "solid"
          },
          "opacity": 0.8,
          "type": "line",
          "x0": -1,
          "x1": -1,
          "xref": "x",
          "y0": 0,
          "y1": 1,
          "yref": "y domain"
         },
         {
          "layer": "below",
          "line": {
           "color": "black",
           "dash": "solid"
          },
          "opacity": 0.8,
          "type": "line",
          "x0": 0,
          "x1": 1,
          "xref": "x2 domain",
          "y0": -0.075,
          "y1": -0.075,
          "yref": "y2"
         }
        ],
        "template": {
         "data": {
          "bar": [
           {
            "error_x": {
             "color": "#2a3f5f"
            },
            "error_y": {
             "color": "#2a3f5f"
            },
            "marker": {
             "line": {
              "color": "#E5ECF6",
              "width": 0.5
             },
             "pattern": {
              "fillmode": "overlay",
              "size": 10,
              "solidity": 0.2
             }
            },
            "type": "bar"
           }
          ],
          "barpolar": [
           {
            "marker": {
             "line": {
              "color": "#E5ECF6",
              "width": 0.5
             },
             "pattern": {
              "fillmode": "overlay",
              "size": 10,
              "solidity": 0.2
             }
            },
            "type": "barpolar"
           }
          ],
          "carpet": [
           {
            "aaxis": {
             "endlinecolor": "#2a3f5f",
             "gridcolor": "white",
             "linecolor": "white",
             "minorgridcolor": "white",
             "startlinecolor": "#2a3f5f"
            },
            "baxis": {
             "endlinecolor": "#2a3f5f",
             "gridcolor": "white",
             "linecolor": "white",
             "minorgridcolor": "white",
             "startlinecolor": "#2a3f5f"
            },
            "type": "carpet"
           }
          ],
          "choropleth": [
           {
            "colorbar": {
             "outlinewidth": 0,
             "ticks": ""
            },
            "type": "choropleth"
           }
          ],
          "contour": [
           {
            "colorbar": {
             "outlinewidth": 0,
             "ticks": ""
            },
            "colorscale": [
             [
              0,
              "#0d0887"
             ],
             [
              0.1111111111111111,
              "#46039f"
             ],
             [
              0.2222222222222222,
              "#7201a8"
             ],
             [
              0.3333333333333333,
              "#9c179e"
             ],
             [
              0.4444444444444444,
              "#bd3786"
             ],
             [
              0.5555555555555556,
              "#d8576b"
             ],
             [
              0.6666666666666666,
              "#ed7953"
             ],
             [
              0.7777777777777778,
              "#fb9f3a"
             ],
             [
              0.8888888888888888,
              "#fdca26"
             ],
             [
              1,
              "#f0f921"
             ]
            ],
            "type": "contour"
           }
          ],
          "contourcarpet": [
           {
            "colorbar": {
             "outlinewidth": 0,
             "ticks": ""
            },
            "type": "contourcarpet"
           }
          ],
          "heatmap": [
           {
            "colorbar": {
             "outlinewidth": 0,
             "ticks": ""
            },
            "colorscale": [
             [
              0,
              "#0d0887"
             ],
             [
              0.1111111111111111,
              "#46039f"
             ],
             [
              0.2222222222222222,
              "#7201a8"
             ],
             [
              0.3333333333333333,
              "#9c179e"
             ],
             [
              0.4444444444444444,
              "#bd3786"
             ],
             [
              0.5555555555555556,
              "#d8576b"
             ],
             [
              0.6666666666666666,
              "#ed7953"
             ],
             [
              0.7777777777777778,
              "#fb9f3a"
             ],
             [
              0.8888888888888888,
              "#fdca26"
             ],
             [
              1,
              "#f0f921"
             ]
            ],
            "type": "heatmap"
           }
          ],
          "heatmapgl": [
           {
            "colorbar": {
             "outlinewidth": 0,
             "ticks": ""
            },
            "colorscale": [
             [
              0,
              "#0d0887"
             ],
             [
              0.1111111111111111,
              "#46039f"
             ],
             [
              0.2222222222222222,
              "#7201a8"
             ],
             [
              0.3333333333333333,
              "#9c179e"
             ],
             [
              0.4444444444444444,
              "#bd3786"
             ],
             [
              0.5555555555555556,
              "#d8576b"
             ],
             [
              0.6666666666666666,
              "#ed7953"
             ],
             [
              0.7777777777777778,
              "#fb9f3a"
             ],
             [
              0.8888888888888888,
              "#fdca26"
             ],
             [
              1,
              "#f0f921"
             ]
            ],
            "type": "heatmapgl"
           }
          ],
          "histogram": [
           {
            "marker": {
             "pattern": {
              "fillmode": "overlay",
              "size": 10,
              "solidity": 0.2
             }
            },
            "type": "histogram"
           }
          ],
          "histogram2d": [
           {
            "colorbar": {
             "outlinewidth": 0,
             "ticks": ""
            },
            "colorscale": [
             [
              0,
              "#0d0887"
             ],
             [
              0.1111111111111111,
              "#46039f"
             ],
             [
              0.2222222222222222,
              "#7201a8"
             ],
             [
              0.3333333333333333,
              "#9c179e"
             ],
             [
              0.4444444444444444,
              "#bd3786"
             ],
             [
              0.5555555555555556,
              "#d8576b"
             ],
             [
              0.6666666666666666,
              "#ed7953"
             ],
             [
              0.7777777777777778,
              "#fb9f3a"
             ],
             [
              0.8888888888888888,
              "#fdca26"
             ],
             [
              1,
              "#f0f921"
             ]
            ],
            "type": "histogram2d"
           }
          ],
          "histogram2dcontour": [
           {
            "colorbar": {
             "outlinewidth": 0,
             "ticks": ""
            },
            "colorscale": [
             [
              0,
              "#0d0887"
             ],
             [
              0.1111111111111111,
              "#46039f"
             ],
             [
              0.2222222222222222,
              "#7201a8"
             ],
             [
              0.3333333333333333,
              "#9c179e"
             ],
             [
              0.4444444444444444,
              "#bd3786"
             ],
             [
              0.5555555555555556,
              "#d8576b"
             ],
             [
              0.6666666666666666,
              "#ed7953"
             ],
             [
              0.7777777777777778,
              "#fb9f3a"
             ],
             [
              0.8888888888888888,
              "#fdca26"
             ],
             [
              1,
              "#f0f921"
             ]
            ],
            "type": "histogram2dcontour"
           }
          ],
          "mesh3d": [
           {
            "colorbar": {
             "outlinewidth": 0,
             "ticks": ""
            },
            "type": "mesh3d"
           }
          ],
          "parcoords": [
           {
            "line": {
             "colorbar": {
              "outlinewidth": 0,
              "ticks": ""
             }
            },
            "type": "parcoords"
           }
          ],
          "pie": [
           {
            "automargin": true,
            "type": "pie"
           }
          ],
          "scatter": [
           {
            "fillpattern": {
             "fillmode": "overlay",
             "size": 10,
             "solidity": 0.2
            },
            "type": "scatter"
           }
          ],
          "scatter3d": [
           {
            "line": {
             "colorbar": {
              "outlinewidth": 0,
              "ticks": ""
             }
            },
            "marker": {
             "colorbar": {
              "outlinewidth": 0,
              "ticks": ""
             }
            },
            "type": "scatter3d"
           }
          ],
          "scattercarpet": [
           {
            "marker": {
             "colorbar": {
              "outlinewidth": 0,
              "ticks": ""
             }
            },
            "type": "scattercarpet"
           }
          ],
          "scattergeo": [
           {
            "marker": {
             "colorbar": {
              "outlinewidth": 0,
              "ticks": ""
             }
            },
            "type": "scattergeo"
           }
          ],
          "scattergl": [
           {
            "marker": {
             "colorbar": {
              "outlinewidth": 0,
              "ticks": ""
             }
            },
            "type": "scattergl"
           }
          ],
          "scattermapbox": [
           {
            "marker": {
             "colorbar": {
              "outlinewidth": 0,
              "ticks": ""
             }
            },
            "type": "scattermapbox"
           }
          ],
          "scatterpolar": [
           {
            "marker": {
             "colorbar": {
              "outlinewidth": 0,
              "ticks": ""
             }
            },
            "type": "scatterpolar"
           }
          ],
          "scatterpolargl": [
           {
            "marker": {
             "colorbar": {
              "outlinewidth": 0,
              "ticks": ""
             }
            },
            "type": "scatterpolargl"
           }
          ],
          "scatterternary": [
           {
            "marker": {
             "colorbar": {
              "outlinewidth": 0,
              "ticks": ""
             }
            },
            "type": "scatterternary"
           }
          ],
          "surface": [
           {
            "colorbar": {
             "outlinewidth": 0,
             "ticks": ""
            },
            "colorscale": [
             [
              0,
              "#0d0887"
             ],
             [
              0.1111111111111111,
              "#46039f"
             ],
             [
              0.2222222222222222,
              "#7201a8"
             ],
             [
              0.3333333333333333,
              "#9c179e"
             ],
             [
              0.4444444444444444,
              "#bd3786"
             ],
             [
              0.5555555555555556,
              "#d8576b"
             ],
             [
              0.6666666666666666,
              "#ed7953"
             ],
             [
              0.7777777777777778,
              "#fb9f3a"
             ],
             [
              0.8888888888888888,
              "#fdca26"
             ],
             [
              1,
              "#f0f921"
             ]
            ],
            "type": "surface"
           }
          ],
          "table": [
           {
            "cells": {
             "fill": {
              "color": "#EBF0F8"
             },
             "line": {
              "color": "white"
             }
            },
            "header": {
             "fill": {
              "color": "#C8D4E3"
             },
             "line": {
              "color": "white"
             }
            },
            "type": "table"
           }
          ]
         },
         "layout": {
          "annotationdefaults": {
           "arrowcolor": "#2a3f5f",
           "arrowhead": 0,
           "arrowwidth": 1
          },
          "autotypenumbers": "strict",
          "coloraxis": {
           "colorbar": {
            "outlinewidth": 0,
            "ticks": ""
           }
          },
          "colorscale": {
           "diverging": [
            [
             0,
             "#8e0152"
            ],
            [
             0.1,
             "#c51b7d"
            ],
            [
             0.2,
             "#de77ae"
            ],
            [
             0.3,
             "#f1b6da"
            ],
            [
             0.4,
             "#fde0ef"
            ],
            [
             0.5,
             "#f7f7f7"
            ],
            [
             0.6,
             "#e6f5d0"
            ],
            [
             0.7,
             "#b8e186"
            ],
            [
             0.8,
             "#7fbc41"
            ],
            [
             0.9,
             "#4d9221"
            ],
            [
             1,
             "#276419"
            ]
           ],
           "sequential": [
            [
             0,
             "#0d0887"
            ],
            [
             0.1111111111111111,
             "#46039f"
            ],
            [
             0.2222222222222222,
             "#7201a8"
            ],
            [
             0.3333333333333333,
             "#9c179e"
            ],
            [
             0.4444444444444444,
             "#bd3786"
            ],
            [
             0.5555555555555556,
             "#d8576b"
            ],
            [
             0.6666666666666666,
             "#ed7953"
            ],
            [
             0.7777777777777778,
             "#fb9f3a"
            ],
            [
             0.8888888888888888,
             "#fdca26"
            ],
            [
             1,
             "#f0f921"
            ]
           ],
           "sequentialminus": [
            [
             0,
             "#0d0887"
            ],
            [
             0.1111111111111111,
             "#46039f"
            ],
            [
             0.2222222222222222,
             "#7201a8"
            ],
            [
             0.3333333333333333,
             "#9c179e"
            ],
            [
             0.4444444444444444,
             "#bd3786"
            ],
            [
             0.5555555555555556,
             "#d8576b"
            ],
            [
             0.6666666666666666,
             "#ed7953"
            ],
            [
             0.7777777777777778,
             "#fb9f3a"
            ],
            [
             0.8888888888888888,
             "#fdca26"
            ],
            [
             1,
             "#f0f921"
            ]
           ]
          },
          "colorway": [
           "#636efa",
           "#EF553B",
           "#00cc96",
           "#ab63fa",
           "#FFA15A",
           "#19d3f3",
           "#FF6692",
           "#B6E880",
           "#FF97FF",
           "#FECB52"
          ],
          "font": {
           "color": "#2a3f5f"
          },
          "geo": {
           "bgcolor": "white",
           "lakecolor": "white",
           "landcolor": "#E5ECF6",
           "showlakes": true,
           "showland": true,
           "subunitcolor": "white"
          },
          "hoverlabel": {
           "align": "left"
          },
          "hovermode": "closest",
          "mapbox": {
           "style": "light"
          },
          "paper_bgcolor": "white",
          "plot_bgcolor": "#E5ECF6",
          "polar": {
           "angularaxis": {
            "gridcolor": "white",
            "linecolor": "white",
            "ticks": ""
           },
           "bgcolor": "#E5ECF6",
           "radialaxis": {
            "gridcolor": "white",
            "linecolor": "white",
            "ticks": ""
           }
          },
          "scene": {
           "xaxis": {
            "backgroundcolor": "#E5ECF6",
            "gridcolor": "white",
            "gridwidth": 2,
            "linecolor": "white",
            "showbackground": true,
            "ticks": "",
            "zerolinecolor": "white"
           },
           "yaxis": {
            "backgroundcolor": "#E5ECF6",
            "gridcolor": "white",
            "gridwidth": 2,
            "linecolor": "white",
            "showbackground": true,
            "ticks": "",
            "zerolinecolor": "white"
           },
           "zaxis": {
            "backgroundcolor": "#E5ECF6",
            "gridcolor": "white",
            "gridwidth": 2,
            "linecolor": "white",
            "showbackground": true,
            "ticks": "",
            "zerolinecolor": "white"
           }
          },
          "shapedefaults": {
           "line": {
            "color": "#2a3f5f"
           }
          },
          "ternary": {
           "aaxis": {
            "gridcolor": "white",
            "linecolor": "white",
            "ticks": ""
           },
           "baxis": {
            "gridcolor": "white",
            "linecolor": "white",
            "ticks": ""
           },
           "bgcolor": "#E5ECF6",
           "caxis": {
            "gridcolor": "white",
            "linecolor": "white",
            "ticks": ""
           }
          },
          "title": {
           "x": 0.05
          },
          "xaxis": {
           "automargin": true,
           "gridcolor": "white",
           "linecolor": "white",
           "ticks": "",
           "title": {
            "standoff": 15
           },
           "zerolinecolor": "white",
           "zerolinewidth": 2
          },
          "yaxis": {
           "automargin": true,
           "gridcolor": "white",
           "linecolor": "white",
           "ticks": "",
           "title": {
            "standoff": 15
           },
           "zerolinecolor": "white",
           "zerolinewidth": 2
          }
         }
        },
        "title": {
         "font": {
          "size": 20
         },
         "text": "<b>Regionale Unterschiede im Trinkgeldverhalten</b>",
         "x": 0.475,
         "xanchor": "center",
         "y": 0.935,
         "yanchor": "top"
        },
        "xaxis": {
         "anchor": "y",
         "domain": [
          0,
          1
         ],
         "linecolor": "black",
         "matches": "x2",
         "showline": false,
         "showticklabels": false
        },
        "xaxis2": {
         "anchor": "y2",
         "domain": [
          0,
          1
         ],
         "showline": true,
         "ticks": "outside",
         "title": {
          "text": "<b>Counties</b>"
         }
        },
        "yaxis": {
         "anchor": "x",
         "domain": [
          0.5,
          1
         ],
         "gridcolor": "grey",
         "linecolor": "black",
         "showgrid": true,
         "showline": false,
         "ticks": "outside",
         "tickvals": [
          0,
          0.1,
          0.2,
          0.3,
          0.4,
          0.5
         ],
         "title": {
          "text": "<b>Tipp Wshk.</b>"
         }
        },
        "yaxis2": {
         "anchor": "x2",
         "domain": [
          0,
          0.5
         ],
         "gridcolor": "grey",
         "showgrid": true,
         "ticks": "outside",
         "tickvals": [
          0,
          -0.01,
          -0.03,
          -0.05,
          -0.07
         ],
         "title": {
          "text": "<b>Order Anteil</b>"
         }
        }
       }
      }
     },
     "metadata": {},
     "output_type": "display_data"
    }
   ],
   "source": [
    "fig1 = make_subplots(cols= 1, rows= 2, shared_xaxes= True, shared_yaxes= False, vertical_spacing= 0)\n",
    "\n",
    "for county in df_county_tip2.county:\n",
    "\n",
    " if df_county_tip2[df_county_tip2.county == county].tip.values >= 0.5:\n",
    "  color = px.colors.sequential.Purpor[5]\n",
    "  text= df_county_tip2.loc[df_county_tip2.county == county].tip.values.round(3)\n",
    "\n",
    "  fig1.add_trace(\n",
    "   go.Bar(\n",
    "    x= df_county_tip2.loc[df_county_tip2.county == county].county,\n",
    "    y= df_county_tip2.loc[df_county_tip2.county == county].tip,\n",
    "    name= f\"{county}: {(df_county_tip2.loc[df_county_tip2.county == county].tip.values[0] * 100).round(2)}%\",\n",
    "    showlegend= True,\n",
    "    marker= dict(color= color),\n",
    "    width= 0.8,\n",
    "    text= text,\n",
    "    base= 0,\n",
    "    legendgroup= f\"{county}\" \n",
    "   ),\n",
    "   col= 1,\n",
    "   row= 1\n",
    "  )\n",
    "\n",
    "  fig1.add_trace(\n",
    "   go.Bar(\n",
    "    x= df_county_tip2.loc[df_county_tip2.county == county].county,\n",
    "    y= df_county_tip2.loc[df_county_tip2.county == county].orders,\n",
    "    name= f\"Orders: {(df_county_tip2.loc[df_county_tip2.county == county].orders.values[0] * 100).round(3)}%\",\n",
    "    base = -df_county_tip2.loc[df_county_tip2.county == county].orders,\n",
    "    showlegend= True,\n",
    "    marker= dict(color= color),\n",
    "    width= 0.8,\n",
    "    legendgroup= f\"{county}\"\n",
    "   ),\n",
    "   col= 1,\n",
    "   row= 2\n",
    "  )\n",
    "\n",
    " elif 0.4 < df_county_tip2.loc[df_county_tip2.county == county].tip.values < 0.5:\n",
    "  color= px.colors.sequential.Greys[3]\n",
    "\n",
    "  fig1.add_trace(\n",
    "   go.Bar(\n",
    "    x= df_county_tip2.loc[df_county_tip2.county == county].county,\n",
    "    y= df_county_tip2.loc[df_county_tip2.county == county].tip,\n",
    "    name= f\"{county}: {(df_county_tip2.loc[df_county_tip2.county == county].tip.values[0] * 100).round(2)}%\",\n",
    "    showlegend= True,\n",
    "    marker= dict(color= color),\n",
    "    width= 0.8,\n",
    "    base= 0,\n",
    "    legendgroup= f\"{county}\"\n",
    "   ),\n",
    "   col= 1,\n",
    "   row= 1\n",
    "  )\n",
    "\n",
    "  fig1.add_trace(\n",
    "   go.Bar(\n",
    "    x= df_county_tip2.loc[df_county_tip2.county == county].county,\n",
    "    y= df_county_tip2.loc[df_county_tip2.county == county].orders,\n",
    "    name= f\"Orders: {(df_county_tip2.loc[df_county_tip2.county == county].orders.values[0] * 100).round(3)}%\",\n",
    "    base = -df_county_tip2.loc[df_county_tip2.county == county].orders,\n",
    "    showlegend= True,\n",
    "    marker= dict(color= color),\n",
    "    width= 0.8,\n",
    "    legendgroup= f\"{county}\"\n",
    "   ),\n",
    "   col= 1,\n",
    "   row= 2\n",
    "  )\n",
    "\n",
    " elif 0.3 < df_county_tip2.loc[df_county_tip2.county == county].tip.values < 0.4:\n",
    "  color= px.colors.sequential.Greys[2]\n",
    "\n",
    "  fig1.add_trace(\n",
    "   go.Bar(\n",
    "    x= df_county_tip2.loc[df_county_tip2.county == county].county,\n",
    "    y= df_county_tip2.loc[df_county_tip2.county == county].tip,\n",
    "    name= f\"{county}: {(df_county_tip2.loc[df_county_tip2.county == county].tip.values[0] * 100).round(2)}%\",\n",
    "    showlegend= True,\n",
    "    marker= dict(color= color),\n",
    "    width= 0.8,\n",
    "    base= 0,\n",
    "    legendgroup= f\"{county}\"\n",
    "   ),\n",
    "   col= 1,\n",
    "   row= 1\n",
    "  )\n",
    "\n",
    "  fig1.add_trace(\n",
    "   go.Bar(\n",
    "    x= df_county_tip2.loc[df_county_tip2.county == county].county,\n",
    "    y= df_county_tip2.loc[df_county_tip2.county == county].orders,\n",
    "    name= f\"Orders: {(df_county_tip2.loc[df_county_tip2.county == county].orders.values[0] * 100).round(3)}%\",\n",
    "    base = -df_county_tip2.loc[df_county_tip2.county == county].orders,\n",
    "    showlegend= True,\n",
    "    marker= dict(color= color),\n",
    "    width= 0.8,\n",
    "    legendgroup= f\"{county}\"\n",
    "   ),\n",
    "   col= 1,\n",
    "   row= 2\n",
    "  )\n",
    "\n",
    " elif 0.2 < df_county_tip2.loc[df_county_tip2.county == county].tip.values < 0.3:\n",
    "  color= px.colors.sequential.Greys[1]\n",
    "  text= df_county_tip2.loc[df_county_tip2.county == county].tip.values.round(3)\n",
    "\n",
    "  fig1.add_trace(\n",
    "   go.Bar(\n",
    "    x= df_county_tip2.loc[df_county_tip2.county == county].county,\n",
    "    y= df_county_tip2.loc[df_county_tip2.county == county].tip,\n",
    "    name= f\"{county}: {(df_county_tip2.loc[df_county_tip2.county == county].tip.values[0] * 100).round(2)}%\",\n",
    "    showlegend= True,\n",
    "    marker= dict(color= color),\n",
    "    width= 0.8,\n",
    "    text= text,\n",
    "    base= 0,\n",
    "    legendgroup= f\"{county}\"\n",
    "   ),\n",
    "   col= 1,\n",
    "   row= 1\n",
    "  )\n",
    "\n",
    "  fig1.add_trace(\n",
    "   go.Bar(\n",
    "    x= df_county_tip2.loc[df_county_tip2.county == county].county,\n",
    "    y= df_county_tip2.loc[df_county_tip2.county == county].orders,\n",
    "    name= f\"Orders: {(df_county_tip2.loc[df_county_tip2.county == county].orders.values[0] * 100).round(3)}%\",\n",
    "    base = -df_county_tip2.loc[df_county_tip2.county == county].orders,\n",
    "    showlegend= True,\n",
    "    marker= dict(color= color),\n",
    "    width= 0.8,\n",
    "    legendgroup= f\"{county}\"\n",
    "   ),\n",
    "   col= 1,\n",
    "   row= 2\n",
    "  )\n",
    "\n",
    "fig1.add_hline(\n",
    " y= 0.5,\n",
    " opacity= 0.3,\n",
    " line_dash= \"solid\",\n",
    " annotation_text= 0.5,\n",
    " annotation_position= \"top right\",\n",
    " line_color= px.colors.sequential.Greys[7],\n",
    " annotation_font_color= px.colors.sequential.Greys[7],\n",
    " annotation_font_size= 12,\n",
    " layer= \"below\",\n",
    " col= 1,\n",
    " row= 1\n",
    ")\n",
    "\n",
    "fig1.add_hline(\n",
    " y= 0.3,\n",
    " opacity= 0.3,\n",
    " line_dash= \"solid\",\n",
    " annotation_text= 0.3,\n",
    " annotation_position= \"top right\",\n",
    " line_color= px.colors.sequential.Greys[7],\n",
    " annotation_font_color= px.colors.sequential.Greys[7],\n",
    " annotation_font_size= 12,\n",
    " layer= \"below\",\n",
    " col= 1,\n",
    " row= 1\n",
    ")\n",
    "\n",
    "fig1.add_hline(\n",
    " y= -0.05,\n",
    " opacity= 0.3,\n",
    " line_dash= \"solid\",\n",
    " annotation_text= -0.05,\n",
    " annotation_position= \"top right\",\n",
    " line_color= px.colors.sequential.Greys[7],\n",
    " annotation_font_color= px.colors.sequential.Greys[7],\n",
    " annotation_font_size= 12,\n",
    " layer= \"below\",\n",
    " col= 1,\n",
    " row= 2\n",
    ")\n",
    "\n",
    "fig1.add_hline(\n",
    " y= -0.03,\n",
    " opacity= 0.3,\n",
    " line_dash= \"solid\",\n",
    " annotation_text= -0.03,\n",
    " annotation_position= \"top right\",\n",
    " line_color= px.colors.sequential.Greys[7],\n",
    " annotation_font_color= px.colors.sequential.Greys[7],\n",
    " annotation_font_size= 12,\n",
    " layer= \"below\",\n",
    " col= 1,\n",
    " row= 2\n",
    ")\n",
    "\n",
    "fig1.add_hline(\n",
    " y= 0,\n",
    " opacity= 1,\n",
    " line_dash= \"solid\",\n",
    " line_color= \"black\",\n",
    " layer= \"below\",\n",
    " col= 1,\n",
    " row= 1\n",
    ")\n",
    "\n",
    "fig1.add_hline(\n",
    " y= 0,\n",
    " opacity= 0.8,\n",
    " line_dash= \"solid\",\n",
    " line_color= \"black\",\n",
    " layer= \"below\",\n",
    " col= 1,\n",
    " row= 2\n",
    ")\n",
    "\n",
    "fig1.add_vline(\n",
    " x= -1,\n",
    " opacity= 0.8,\n",
    " line_dash= \"solid\",\n",
    " line_color= \"black\",\n",
    " layer= \"below\",\n",
    " col= 1,\n",
    " row= 2\n",
    ")\n",
    "\n",
    "fig1.add_vline(\n",
    " x= -1,\n",
    " opacity= 0.8,\n",
    " line_dash= \"solid\",\n",
    " line_color= \"black\",\n",
    " layer= \"below\",\n",
    " col= 1,\n",
    " row= 1\n",
    ")\n",
    "\n",
    "fig1.add_hline(\n",
    " y= -0.075,\n",
    " opacity= 0.8,\n",
    " line_dash= \"solid\",\n",
    " line_color= \"black\",\n",
    " layer= \"below\",\n",
    " col= 1,\n",
    " row= 2\n",
    ")\n",
    "\n",
    "fig1.update_annotations(opacity= 0.8)\n",
    "fig1.update_layout(title= dict(text= \"<b>Regionale Unterschiede im Trinkgeldverhalten</b>\", font_size= 20, xanchor= \"center\", yanchor= \"top\", y=0.935, x=0.475), legend_title_text = \"<b>Counties</b>\", height= 700)\n",
    "fig1.update_xaxes(title_text=\"<b>Counties</b>\", ticks= \"outside\", col= 1, row= 2, showline= True)\n",
    "fig1.update_xaxes(showline= False, col= 1, row= 1)\n",
    "fig1.update_yaxes(title_text=\"<b>Tipp Wshk.</b>\", ticks= \"outside\", showgrid= True, gridcolor= \"grey\", col= 1, row= 1, tickvals= [0, 0.1, 0.2, 0.3, 0.4, 0.5], showline= False)\n",
    "fig1.update_yaxes(title_text=\"<b>Order Anteil</b>\", ticks= \"outside\", showgrid= True, gridcolor= \"grey\", col= 1, row= 2, tickvals= [0, -0.01, -0.03, -0.05, -0.07])\n",
    "fig1.update_layout(plot_bgcolor= \"white\", xaxis= dict(linecolor= \"black\"), yaxis= dict(linecolor= \"black\"))\n",
    "fig1.show()"
   ]
  },
  {
   "cell_type": "code",
   "execution_count": 290,
   "metadata": {},
   "outputs": [
    {
     "data": {
      "application/vnd.plotly.v1+json": {
       "config": {
        "plotlyServerURL": "https://plot.ly"
       },
       "data": [
        {
         "colorscale": [
          [
           0,
           "rgb(255,255,255)"
          ],
          [
           0.3,
           "rgb(217,217,217)"
          ],
          [
           0.6,
           "rgb(185, 152, 221)"
          ],
          [
           0.8,
           "rgb(130, 109, 186)"
          ],
          [
           1,
           "rgb(131, 75, 160)"
          ]
         ],
         "featureidkey": "properties.NAME",
         "geojson": {
          "features": [
           {
            "geometry": {
             "coordinates": [
              [
               [
                -120.995497,
                38.225405
               ],
               [
                -121.027084,
                38.300252
               ],
               [
                -121.027507,
                38.508292
               ],
               [
                -120.813554,
                38.562193
               ],
               [
                -120.627604,
                38.503143
               ],
               [
                -120.510596,
                38.511467
               ],
               [
                -120.301721,
                38.549109
               ],
               [
                -120.098322,
                38.709029
               ],
               [
                -120.072392,
                38.702767
               ],
               [
                -120.072484,
                38.509869
               ],
               [
                -120.380707,
                38.461042
               ],
               [
                -120.423215,
                38.473322
               ],
               [
                -120.893792,
                38.221277
               ],
               [
                -120.995497,
                38.225405
               ]
              ]
             ],
             "type": "Polygon"
            },
            "id": "06005",
            "properties": {
             "CENSUSAREA": 594.583,
             "COUNTY": "005",
             "GEO_ID": "0500000US06005",
             "LSAD": "County",
             "NAME": "Amador",
             "STATE": "06"
            },
            "type": "Feature"
           },
           {
            "geometry": {
             "coordinates": [
              [
               [
                -122.937654,
                39.798156
               ],
               [
                -122.046471,
                39.797648
               ],
               [
                -121.950951,
                39.715004
               ],
               [
                -121.994021,
                39.533926
               ],
               [
                -121.856532,
                39.536904
               ],
               [
                -121.890013,
                39.383864
               ],
               [
                -122.136161,
                39.414499
               ],
               [
                -122.136006,
                39.385494
               ],
               [
                -122.739062,
                39.383266
               ],
               [
                -122.735639,
                39.580668
               ],
               [
                -122.885352,
                39.580108
               ],
               [
                -122.892676,
                39.708898
               ],
               [
                -122.937654,
                39.798156
               ]
              ]
             ],
             "type": "Polygon"
            },
            "id": "06021",
            "properties": {
             "CENSUSAREA": 1313.947,
             "COUNTY": "021",
             "GEO_ID": "0500000US06021",
             "LSAD": "County",
             "NAME": "Glenn",
             "STATE": "06"
            },
            "type": "Feature"
           },
           {
            "geometry": {
             "coordinates": [
              [
               [
                -122.627396,
                38.667506
               ],
               [
                -122.821592,
                38.85014
               ],
               [
                -122.948865,
                38.90022
               ],
               [
                -122.98664,
                38.997283
               ],
               [
                -123.028035,
                38.996593
               ],
               [
                -123.093013,
                39.071994
               ],
               [
                -123.077812,
                39.173791
               ],
               [
                -122.994839,
                39.235924
               ],
               [
                -123.075114,
                39.407683
               ],
               [
                -123.063181,
                39.503539
               ],
               [
                -122.89031,
                39.529014
               ],
               [
                -122.885352,
                39.580108
               ],
               [
                -122.735639,
                39.580668
               ],
               [
                -122.739062,
                39.383266
               ],
               [
                -122.78509,
                39.382975
               ],
               [
                -122.775043,
                39.311778
               ],
               [
                -122.680927,
                39.238726
               ],
               [
                -122.476083,
                39.172609
               ],
               [
                -122.492215,
                39.054092
               ],
               [
                -122.340172,
                38.924246
               ],
               [
                -122.395056,
                38.864245
               ],
               [
                -122.46389,
                38.705203
               ],
               [
                -122.627396,
                38.667506
               ]
              ]
             ],
             "type": "Polygon"
            },
            "id": "06033",
            "properties": {
             "CENSUSAREA": 1256.464,
             "COUNTY": "033",
             "GEO_ID": "0500000US06033",
             "LSAD": "County",
             "NAME": "Lake",
             "STATE": "06"
            },
            "type": "Feature"
           },
           {
            "geometry": {
             "coordinates": [
              [
               [
                -120.38767,
                37.633364
               ],
               [
                -120.387329,
                37.633499
               ],
               [
                -120.387613,
                37.633704
               ],
               [
                -120.391931,
                37.683559
               ],
               [
                -120.325943,
                37.648966
               ],
               [
                -120.345437,
                37.724787
               ],
               [
                -120.127226,
                37.781566
               ],
               [
                -120.079508,
                37.828808
               ],
               [
                -119.907013,
                37.757926
               ],
               [
                -119.809409,
                37.755025
               ],
               [
                -119.667203,
                37.801224
               ],
               [
                -119.646203,
                37.846823
               ],
               [
                -119.535699,
                37.904122
               ],
               [
                -119.308995,
                37.777986
               ],
               [
                -119.583585,
                37.560335
               ],
               [
                -119.58422,
                37.494696
               ],
               [
                -119.651172,
                37.461351
               ],
               [
                -119.651191,
                37.417832
               ],
               [
                -119.761809,
                37.417114
               ],
               [
                -120.052055,
                37.183108
               ],
               [
                -120.143826,
                37.239192
               ],
               [
                -120.26601,
                37.400607
               ],
               [
                -120.38767,
                37.633364
               ]
              ]
             ],
             "type": "Polygon"
            },
            "id": "06043",
            "properties": {
             "CENSUSAREA": 1448.816,
             "COUNTY": "043",
             "GEO_ID": "0500000US06043",
             "LSAD": "County",
             "NAME": "Mariposa",
             "STATE": "06"
            },
            "type": "Feature"
           },
           {
            "geometry": {
             "coordinates": [
              [
               [
                -122.103281,
                38.513348
               ],
               [
                -122.088835,
                38.384151
               ],
               [
                -122.064779,
                38.315912
               ],
               [
                -122.205982,
                38.315713
               ],
               [
                -122.19538,
                38.155017
               ],
               [
                -122.406786,
                38.155632
               ],
               [
                -122.378987,
                38.250714
               ],
               [
                -122.543893,
                38.519966
               ],
               [
                -122.646268,
                38.59912
               ],
               [
                -122.627396,
                38.667506
               ],
               [
                -122.46389,
                38.705203
               ],
               [
                -122.395056,
                38.864245
               ],
               [
                -122.287999,
                38.839932
               ],
               [
                -122.164944,
                38.642462
               ],
               [
                -122.168349,
                38.619297
               ],
               [
                -122.151772,
                38.625297
               ],
               [
                -122.128123,
                38.583697
               ],
               [
                -122.111563,
                38.524051
               ],
               [
                -122.103281,
                38.513348
               ]
              ]
             ],
             "type": "Polygon"
            },
            "id": "06055",
            "properties": {
             "CENSUSAREA": 748.362,
             "COUNTY": "055",
             "GEO_ID": "0500000US06055",
             "LSAD": "County",
             "NAME": "Napa",
             "STATE": "06"
            },
            "type": "Feature"
           },
           {
            "geometry": {
             "coordinates": [
              [
               [
                -123.065426,
                40.286971
               ],
               [
                -123.068789,
                40.332233
               ],
               [
                -122.998682,
                40.418142
               ],
               [
                -122.903738,
                40.445071
               ],
               [
                -122.845954,
                40.505181
               ],
               [
                -122.695298,
                40.572514
               ],
               [
                -122.752266,
                40.689642
               ],
               [
                -122.445453,
                41.15793
               ],
               [
                -122.498376,
                41.182675
               ],
               [
                -122.376123,
                41.182904
               ],
               [
                -121.446495,
                41.183484
               ],
               [
                -121.331786,
                41.183886
               ],
               [
                -121.319972,
                40.905886
               ],
               [
                -121.327826,
                40.445367
               ],
               [
                -121.497635,
                40.445591
               ],
               [
                -121.64633,
                40.434726
               ],
               [
                -121.806539,
                40.44495
               ],
               [
                -121.940989,
                40.415331
               ],
               [
                -122.010316,
                40.426558
               ],
               [
                -122.310412,
                40.371064
               ],
               [
                -122.445021,
                40.373398
               ],
               [
                -122.523997,
                40.3945
               ],
               [
                -122.651341,
                40.328288
               ],
               [
                -122.872769,
                40.348848
               ],
               [
                -122.918472,
                40.306758
               ],
               [
                -123.065426,
                40.286971
               ]
              ]
             ],
             "type": "Polygon"
            },
            "id": "06089",
            "properties": {
             "CENSUSAREA": 3775.402,
             "COUNTY": "089",
             "GEO_ID": "0500000US06089",
             "LSAD": "County",
             "NAME": "Shasta",
             "STATE": "06"
            },
            "type": "Feature"
           },
           {
            "geometry": {
             "coordinates": [
              [
               [
                -120.931374,
                37.421753
               ],
               [
                -120.964223,
                37.345782
               ],
               [
                -121.226804,
                37.134774
               ],
               [
                -121.282271,
                37.183675
               ],
               [
                -121.404636,
                37.155989
               ],
               [
                -121.459051,
                37.282739
               ],
               [
                -121.405753,
                37.31099
               ],
               [
                -121.472648,
                37.48217
               ],
               [
                -121.471925,
                37.481783
               ],
               [
                -121.333388,
                37.59105
               ],
               [
                -121.273751,
                37.63833
               ],
               [
                -121.258171,
                37.653495
               ],
               [
                -121.155849,
                37.719844
               ],
               [
                -120.995754,
                37.760152
               ],
               [
                -120.920665,
                37.738392
               ],
               [
                -120.926449,
                38.077421
               ],
               [
                -120.652673,
                37.831422
               ],
               [
                -120.387613,
                37.633704
               ],
               [
                -120.387329,
                37.633499
               ],
               [
                -120.38767,
                37.633364
               ],
               [
                -120.931374,
                37.421753
               ]
              ]
             ],
             "type": "Polygon"
            },
            "id": "06099",
            "properties": {
             "CENSUSAREA": 1494.827,
             "COUNTY": "099",
             "GEO_ID": "0500000US06099",
             "LSAD": "County",
             "NAME": "Stanislaus",
             "STATE": "06"
            },
            "type": "Feature"
           },
           {
            "geometry": {
             "coordinates": [
              [
               [
                -121.333427,
                39.468729
               ],
               [
                -121.305122,
                39.519585
               ],
               [
                -121.149907,
                39.526446
               ],
               [
                -121.076695,
                39.597264
               ],
               [
                -121.05267,
                39.612334
               ],
               [
                -121.050922,
                39.613801
               ],
               [
                -121.009477,
                39.639459
               ],
               [
                -121.034406,
                39.514509
               ],
               [
                -121.022085,
                39.391558
               ],
               [
                -121.127481,
                39.380237
               ],
               [
                -121.266911,
                39.271609
               ],
               [
                -121.279533,
                39.034618
               ],
               [
                -121.414885,
                38.996429
               ],
               [
                -121.571297,
                38.938918
               ],
               [
                -121.62376,
                39.295621
               ],
               [
                -121.407527,
                39.339754
               ],
               [
                -121.333427,
                39.468729
               ]
              ]
             ],
             "type": "Polygon"
            },
            "id": "06115",
            "properties": {
             "CENSUSAREA": 631.839,
             "COUNTY": "115",
             "GEO_ID": "0500000US06115",
             "LSAD": "County",
             "NAME": "Yuba",
             "STATE": "06"
            },
            "type": "Feature"
           },
           {
            "geometry": {
             "coordinates": [
              [
               [
                -120.072392,
                38.702767
               ],
               [
                -119.880303,
                38.864776
               ],
               [
                -119.904315,
                38.933324
               ],
               [
                -119.587679,
                38.714734
               ],
               [
                -119.587066,
                38.714345
               ],
               [
                -119.585437,
                38.713212
               ],
               [
                -119.619066,
                38.603529
               ],
               [
                -119.542862,
                38.499694
               ],
               [
                -119.639205,
                38.32688
               ],
               [
                -119.753481,
                38.416759
               ],
               [
                -119.884749,
                38.356185
               ],
               [
                -120.019951,
                38.433521
               ],
               [
                -120.072484,
                38.509869
               ],
               [
                -120.072392,
                38.702767
               ]
              ]
             ],
             "type": "Polygon"
            },
            "id": "06003",
            "properties": {
             "CENSUSAREA": 738.332,
             "COUNTY": "003",
             "GEO_ID": "0500000US06003",
             "LSAD": "County",
             "NAME": "Alpine",
             "STATE": "06"
            },
            "type": "Feature"
           },
           {
            "geometry": {
             "coordinates": [
              [
               [
                -121.076695,
                39.597264
               ],
               [
                -121.149907,
                39.526446
               ],
               [
                -121.305122,
                39.519585
               ],
               [
                -121.333427,
                39.468729
               ],
               [
                -121.407527,
                39.339754
               ],
               [
                -121.62376,
                39.295621
               ],
               [
                -121.908269,
                39.303878
               ],
               [
                -121.890013,
                39.383864
               ],
               [
                -121.856532,
                39.536904
               ],
               [
                -121.994021,
                39.533926
               ],
               [
                -121.950951,
                39.715004
               ],
               [
                -122.046471,
                39.797648
               ],
               [
                -122.044865,
                39.883771
               ],
               [
                -121.804041,
                39.884344
               ],
               [
                -121.703241,
                39.98423
               ],
               [
                -121.646032,
                39.982527
               ],
               [
                -121.586407,
                40.100522
               ],
               [
                -121.436886,
                40.151905
               ],
               [
                -121.366818,
                40.086054
               ],
               [
                -121.430012,
                39.914833
               ],
               [
                -121.360516,
                39.84074
               ],
               [
                -121.076695,
                39.597264
               ]
              ]
             ],
             "type": "Polygon"
            },
            "id": "06007",
            "properties": {
             "CENSUSAREA": 1636.464,
             "COUNTY": "007",
             "GEO_ID": "0500000US06007",
             "LSAD": "County",
             "NAME": "Butte",
             "STATE": "06"
            },
            "type": "Feature"
           },
           {
            "geometry": {
             "coordinates": [
              [
               [
                -122.821592,
                38.85014
               ],
               [
                -123.080997,
                38.852438
               ],
               [
                -123.136253,
                38.809136
               ],
               [
                -123.26871,
                38.808369
               ],
               [
                -123.533535,
                38.768408
               ],
               [
                -123.541837,
                38.776764
               ],
               [
                -123.571987,
                38.798189
               ],
               [
                -123.579856,
                38.802835
               ],
               [
                -123.58638,
                38.802857
               ],
               [
                -123.600221,
                38.814115
               ],
               [
                -123.601569,
                38.81899
               ],
               [
                -123.605317,
                38.822765
               ],
               [
                -123.638637,
                38.843865
               ],
               [
                -123.642676,
                38.844005
               ],
               [
                -123.647387,
                38.845472
               ],
               [
                -123.652212,
                38.854582
               ],
               [
                -123.654696,
                38.865638
               ],
               [
                -123.659846,
                38.872529
               ],
               [
                -123.688099,
                38.893594
               ],
               [
                -123.71054,
                38.91323
               ],
               [
                -123.725367,
                38.917438
               ],
               [
                -123.72763,
                38.9295
               ],
               [
                -123.726315,
                38.936367
               ],
               [
                -123.738886,
                38.95412
               ],
               [
                -123.732892,
                38.954994
               ],
               [
                -123.729053,
                38.956667
               ],
               [
                -123.721347,
                38.963879
               ],
               [
                -123.711149,
                38.977316
               ],
               [
                -123.6969,
                39.004401
               ],
               [
                -123.69074,
                39.021293
               ],
               [
                -123.690095,
                39.031157
               ],
               [
                -123.693969,
                39.057363
               ],
               [
                -123.713392,
                39.108422
               ],
               [
                -123.721505,
                39.125327
               ],
               [
                -123.735936,
                39.139644
               ],
               [
                -123.737913,
                39.143442
               ],
               [
                -123.742221,
                39.164885
               ],
               [
                -123.76101,
                39.191595
               ],
               [
                -123.765891,
                39.193657
               ],
               [
                -123.774998,
                39.212083
               ],
               [
                -123.777368,
                39.237214
               ],
               [
                -123.787893,
                39.264327
               ],
               [
                -123.798991,
                39.271355
               ],
               [
                -123.803848,
                39.278771
               ],
               [
                -123.801757,
                39.28353
               ],
               [
                -123.803081,
                39.291747
               ],
               [
                -123.811387,
                39.312825
               ],
               [
                -123.808772,
                39.324368
               ],
               [
                -123.817369,
                39.3388
               ],
               [
                -123.822085,
                39.343857
               ],
               [
                -123.825331,
                39.360814
               ],
               [
                -123.826306,
                39.36871
               ],
               [
                -123.822325,
                39.379987
               ],
               [
                -123.821887,
                39.406809
               ],
               [
                -123.81469,
                39.446538
               ],
               [
                -123.795639,
                39.492215
               ],
               [
                -123.78417,
                39.509419
               ],
               [
                -123.778521,
                39.521478
               ],
               [
                -123.766475,
                39.552803
               ],
               [
                -123.76721,
                39.559852
               ],
               [
                -123.787417,
                39.604552
               ],
               [
                -123.78354,
                39.609517
               ],
               [
                -123.782322,
                39.621486
               ],
               [
                -123.78636,
                39.659932
               ],
               [
                -123.792659,
                39.684122
               ],
               [
                -123.808208,
                39.710715
               ],
               [
                -123.824744,
                39.718128
               ],
               [
                -123.829545,
                39.723071
               ],
               [
                -123.831599,
                39.730629
               ],
               [
                -123.835092,
                39.738768
               ],
               [
                -123.838089,
                39.752409
               ],
               [
                -123.83715,
                39.776232
               ],
               [
                -123.839797,
                39.795637
               ],
               [
                -123.851714,
                39.832041
               ],
               [
                -123.853764,
                39.8341
               ],
               [
                -123.881458,
                39.845422
               ],
               [
                -123.907664,
                39.863028
               ],
               [
                -123.915142,
                39.875313
               ],
               [
                -123.915853,
                39.881114
               ],
               [
                -123.930047,
                39.909697
               ],
               [
                -123.954952,
                39.922373
               ],
               [
                -123.962655,
                39.937635
               ],
               [
                -123.980031,
                39.962458
               ],
               [
                -123.99586,
                39.973045
               ],
               [
                -124.023938,
                40.001284
               ],
               [
                -123.544458,
                40.001923
               ],
               [
                -123.544563,
                39.977015
               ],
               [
                -122.934013,
                39.978131
               ],
               [
                -122.937654,
                39.798156
               ],
               [
                -122.892676,
                39.708898
               ],
               [
                -122.885352,
                39.580108
               ],
               [
                -122.89031,
                39.529014
               ],
               [
                -123.063181,
                39.503539
               ],
               [
                -123.075114,
                39.407683
               ],
               [
                -122.994839,
                39.235924
               ],
               [
                -123.077812,
                39.173791
               ],
               [
                -123.093013,
                39.071994
               ],
               [
                -123.028035,
                38.996593
               ],
               [
                -122.98664,
                38.997283
               ],
               [
                -122.948865,
                38.90022
               ],
               [
                -122.821592,
                38.85014
               ]
              ]
             ],
             "type": "Polygon"
            },
            "id": "06045",
            "properties": {
             "CENSUSAREA": 3506.343,
             "COUNTY": "045",
             "GEO_ID": "0500000US06045",
             "LSAD": "County",
             "NAME": "Mendocino",
             "STATE": "06"
            },
            "type": "Feature"
           },
           {
            "geometry": {
             "coordinates": [
              [
               [
                -121.44754,
                41.997169
               ],
               [
                -121.43961,
                41.99708
               ],
               [
                -121.434977,
                41.997022
               ],
               [
                -121.376101,
                41.997026
               ],
               [
                -121.360253,
                41.99668
               ],
               [
                -121.340517,
                41.99622
               ],
               [
                -121.335734,
                41.996518
               ],
               [
                -121.334385,
                41.996655
               ],
               [
                -121.154347,
                41.996352
               ],
               [
                -121.035195,
                41.993323
               ],
               [
                -120.879481,
                41.993781
               ],
               [
                -120.693941,
                41.993676
               ],
               [
                -120.692219,
                41.993677
               ],
               [
                -120.326005,
                41.993122
               ],
               [
                -120.286424,
                41.993058
               ],
               [
                -119.999168,
                41.99454
               ],
               [
                -119.999866,
                41.183974
               ],
               [
                -121.331786,
                41.183886
               ],
               [
                -121.446495,
                41.183484
               ],
               [
                -121.44754,
                41.997169
               ]
              ]
             ],
             "type": "Polygon"
            },
            "id": "06049",
            "properties": {
             "CENSUSAREA": 3917.77,
             "COUNTY": "049",
             "GEO_ID": "0500000US06049",
             "LSAD": "County",
             "NAME": "Modoc",
             "STATE": "06"
            },
            "type": "Feature"
           },
           {
            "geometry": {
             "coordinates": [
              [
               [
                -119.156863,
                38.414743
               ],
               [
                -119.125982,
                38.39317
               ],
               [
                -118.746598,
                38.124926
               ],
               [
                -118.428581,
                37.895613
               ],
               [
                -118.039798,
                37.615273
               ],
               [
                -118.039849,
                37.615245
               ],
               [
                -117.832726,
                37.464929
               ],
               [
                -118.775014,
                37.463052
               ],
               [
                -119.022363,
                37.585737
               ],
               [
                -119.124312,
                37.733944
               ],
               [
                -119.268979,
                37.73923
               ],
               [
                -119.20128,
                37.804329
               ],
               [
                -119.200283,
                37.885827
               ],
               [
                -119.308389,
                37.946824
               ],
               [
                -119.30459,
                38.023891
               ],
               [
                -119.345922,
                38.083113
               ],
               [
                -119.632671,
                38.198858
               ],
               [
                -119.639205,
                38.32688
               ],
               [
                -119.542862,
                38.499694
               ],
               [
                -119.619066,
                38.603529
               ],
               [
                -119.585437,
                38.713212
               ],
               [
                -119.494183,
                38.649852
               ],
               [
                -119.494022,
                38.649734
               ],
               [
                -119.450612,
                38.619964
               ],
               [
                -119.450623,
                38.619965
               ],
               [
                -119.328498,
                38.534648
               ],
               [
                -119.156863,
                38.414743
               ]
              ]
             ],
             "type": "Polygon"
            },
            "id": "06051",
            "properties": {
             "CENSUSAREA": 3048.982,
             "COUNTY": "051",
             "GEO_ID": "0500000US06051",
             "LSAD": "County",
             "NAME": "Mono",
             "STATE": "06"
            },
            "type": "Feature"
           },
           {
            "geometry": {
             "coordinates": [
              [
               [
                -121.279533,
                39.034618
               ],
               [
                -121.266911,
                39.271609
               ],
               [
                -121.127481,
                39.380237
               ],
               [
                -121.022085,
                39.391558
               ],
               [
                -120.755729,
                39.452663
               ],
               [
                -120.654332,
                39.526889
               ],
               [
                -120.575059,
                39.52228
               ],
               [
                -120.505445,
                39.446117
               ],
               [
                -120.003117,
                39.445045
               ],
               [
                -120.005318,
                39.316479
               ],
               [
                -120.645795,
                39.315155
               ],
               [
                -120.691606,
                39.303981
               ],
               [
                -120.857909,
                39.206235
               ],
               [
                -120.986348,
                39.102234
               ],
               [
                -121.068788,
                39.005177
               ],
               [
                -121.137397,
                39.037858
               ],
               [
                -121.279533,
                39.034618
               ]
              ]
             ],
             "type": "Polygon"
            },
            "id": "06057",
            "properties": {
             "CENSUSAREA": 957.772,
             "COUNTY": "057",
             "GEO_ID": "0500000US06057",
             "LSAD": "County",
             "NAME": "Nevada",
             "STATE": "06"
            },
            "type": "Feature"
           },
           {
            "geometry": {
             "coordinates": [
              [
               [
                -118.093008,
                33.786289
               ],
               [
                -118.084597,
                33.803216
               ],
               [
                -118.072597,
                33.815115
               ],
               [
                -118.063162,
                33.81961
               ],
               [
                -118.063268,
                33.82422
               ],
               [
                -117.976586,
                33.906225
               ],
               [
                -117.976588,
                33.909757
               ],
               [
                -117.976692,
                33.910614
               ],
               [
                -117.976571,
                33.911205
               ],
               [
                -117.976498,
                33.919171
               ],
               [
                -117.97653,
                33.928034
               ],
               [
                -117.783287,
                33.946411
               ],
               [
                -117.680289,
                33.877412
               ],
               [
                -117.673749,
                33.870831
               ],
               [
                -117.533999,
                33.710355
               ],
               [
                -117.474573,
                33.703811
               ],
               [
                -117.459817,
                33.691714
               ],
               [
                -117.412987,
                33.659045
               ],
               [
                -117.509722,
                33.505019
               ],
               [
                -117.59588,
                33.386629
               ],
               [
                -117.607905,
                33.406317
               ],
               [
                -117.631682,
                33.430528
               ],
               [
                -117.645582,
                33.440728
               ],
               [
                -117.645592,
                33.440733
               ],
               [
                -117.684584,
                33.461927
               ],
               [
                -117.689284,
                33.460155
               ],
               [
                -117.691984,
                33.456627
               ],
               [
                -117.691384,
                33.454028
               ],
               [
                -117.715349,
                33.460556
               ],
               [
                -117.726486,
                33.483427
               ],
               [
                -117.761387,
                33.516326
               ],
               [
                -117.784888,
                33.541525
               ],
               [
                -117.801288,
                33.546324
               ],
               [
                -117.814188,
                33.552224
               ],
               [
                -117.840289,
                33.573523
               ],
               [
                -117.87679,
                33.592322
               ],
               [
                -117.89979,
                33.599622
               ],
               [
                -117.927091,
                33.605521
               ],
               [
                -117.940591,
                33.620021
               ],
               [
                -117.957114,
                33.629466
               ],
               [
                -118.000593,
                33.654319
               ],
               [
                -118.029694,
                33.676418
               ],
               [
                -118.064895,
                33.711018
               ],
               [
                -118.088896,
                33.729817
               ],
               [
                -118.101097,
                33.734117
               ],
               [
                -118.116703,
                33.743549
               ],
               [
                -118.09197,
                33.758472
               ],
               [
                -118.099107,
                33.776518
               ],
               [
                -118.093008,
                33.786289
               ]
              ]
             ],
             "type": "Polygon"
            },
            "id": "06059",
            "properties": {
             "CENSUSAREA": 790.568,
             "COUNTY": "059",
             "GEO_ID": "0500000US06059",
             "LSAD": "County",
             "NAME": "Orange",
             "STATE": "06"
            },
            "type": "Feature"
           },
           {
            "geometry": {
             "coordinates": [
              [
               [
                -117.284475,
                34.019015
               ],
               [
                -117.225372,
                34.004314
               ],
               [
                -116.929357,
                34.004914
               ],
               [
                -116.929558,
                34.034113
               ],
               [
                -116.457775,
                34.032881
               ],
               [
                -115.316212,
                34.03411
               ],
               [
                -115.316065,
                34.077843
               ],
               [
                -114.435429,
                34.079727
               ],
               [
                -114.434949,
                34.037784
               ],
               [
                -114.438266,
                34.022609
               ],
               [
                -114.46361,
                33.993431
               ],
               [
                -114.499883,
                33.961789
               ],
               [
                -114.518434,
                33.917518
               ],
               [
                -114.525539,
                33.838614
               ],
               [
                -114.523365,
                33.80612
               ],
               [
                -114.50434,
                33.756381
               ],
               [
                -114.494197,
                33.707922
               ],
               [
                -114.496489,
                33.696901
               ],
               [
                -114.519113,
                33.688473
               ],
               [
                -114.523959,
                33.685879
               ],
               [
                -114.530348,
                33.679245
               ],
               [
                -114.540617,
                33.591412
               ],
               [
                -114.5403,
                33.580615
               ],
               [
                -114.535965,
                33.569154
               ],
               [
                -114.535664,
                33.568788
               ],
               [
                -114.558898,
                33.531819
               ],
               [
                -114.594534,
                33.495059
               ],
               [
                -114.622918,
                33.456561
               ],
               [
                -114.627125,
                33.433554
               ],
               [
                -115.467506,
                33.426992
               ],
               [
                -116.085165,
                33.425932
               ],
               [
                -116.197591,
                33.428893
               ],
               [
                -116.617687,
                33.427354
               ],
               [
                -117.079721,
                33.43033
               ],
               [
                -117.241271,
                33.431993
               ],
               [
                -117.370925,
                33.490549
               ],
               [
                -117.509722,
                33.505019
               ],
               [
                -117.412987,
                33.659045
               ],
               [
                -117.459817,
                33.691714
               ],
               [
                -117.474573,
                33.703811
               ],
               [
                -117.533999,
                33.710355
               ],
               [
                -117.673749,
                33.870831
               ],
               [
                -117.600066,
                33.975316
               ],
               [
                -117.558312,
                34.033451
               ],
               [
                -117.336161,
                34.019378
               ],
               [
                -117.284475,
                34.019015
               ]
              ]
             ],
             "type": "Polygon"
            },
            "id": "06065",
            "properties": {
             "CENSUSAREA": 7206.48,
             "COUNTY": "065",
             "GEO_ID": "0500000US06065",
             "LSAD": "County",
             "NAME": "Riverside",
             "STATE": "06"
            },
            "type": "Feature"
           },
           {
            "geometry": {
             "coordinates": [
              [
               [
                -121.581354,
                36.899152
               ],
               [
                -121.501488,
                36.971895
               ],
               [
                -121.215406,
                36.961248
               ],
               [
                -121.141523,
                36.836656
               ],
               [
                -120.918731,
                36.740381
               ],
               [
                -120.603706,
                36.488242
               ],
               [
                -120.596562,
                36.328488
               ],
               [
                -120.678582,
                36.267319
               ],
               [
                -120.75834,
                36.308604
               ],
               [
                -120.718169,
                36.196848
               ],
               [
                -120.761483,
                36.20358
               ],
               [
                -120.86508,
                36.292578
               ],
               [
                -120.920551,
                36.311012
               ],
               [
                -121.02724,
                36.259893
               ],
               [
                -121.040797,
                36.323969
               ],
               [
                -121.193465,
                36.445751
               ],
               [
                -121.244091,
                36.506911
               ],
               [
                -121.311788,
                36.502736
               ],
               [
                -121.318373,
                36.610026
               ],
               [
                -121.350092,
                36.648357
               ],
               [
                -121.468086,
                36.685518
               ],
               [
                -121.45134,
                36.724793
               ],
               [
                -121.597698,
                36.83735
               ],
               [
                -121.644001,
                36.893996
               ],
               [
                -121.629489,
                36.911681
               ],
               [
                -121.607354,
                36.899452
               ],
               [
                -121.581354,
                36.899152
               ]
              ]
             ],
             "type": "Polygon"
            },
            "id": "06069",
            "properties": {
             "CENSUSAREA": 1388.71,
             "COUNTY": "069",
             "GEO_ID": "0500000US06069",
             "LSAD": "County",
             "NAME": "San Benito",
             "STATE": "06"
            },
            "type": "Feature"
           },
           {
            "geometry": {
             "coordinates": [
              [
               [
                -116.106159,
                32.618328
               ],
               [
                -116.390091,
                32.59602
               ],
               [
                -117.118865,
                32.534661
               ],
               [
                -117.124862,
                32.534156
               ],
               [
                -117.133363,
                32.575625
               ],
               [
                -117.132963,
                32.597054
               ],
               [
                -117.136664,
                32.618754
               ],
               [
                -117.139464,
                32.627054
               ],
               [
                -117.159865,
                32.660652
               ],
               [
                -117.168866,
                32.671952
               ],
               [
                -117.180366,
                32.681652
               ],
               [
                -117.192967,
                32.687751
               ],
               [
                -117.196767,
                32.688851
               ],
               [
                -117.213068,
                32.687751
               ],
               [
                -117.223868,
                32.683051
               ],
               [
                -117.236239,
                32.671353
               ],
               [
                -117.246069,
                32.669352
               ],
               [
                -117.255169,
                32.700051
               ],
               [
                -117.25757,
                32.72605
               ],
               [
                -117.25537,
                32.745449
               ],
               [
                -117.25257,
                32.752949
               ],
               [
                -117.25497,
                32.786948
               ],
               [
                -117.26107,
                32.803148
               ],
               [
                -117.280971,
                32.822247
               ],
               [
                -117.28217,
                32.839547
               ],
               [
                -117.28117,
                32.843047
               ],
               [
                -117.27387,
                32.851447
               ],
               [
                -117.26497,
                32.848947
               ],
               [
                -117.26067,
                32.852647
               ],
               [
                -117.25617,
                32.859447
               ],
               [
                -117.25167,
                32.874346
               ],
               [
                -117.25447,
                32.900146
               ],
               [
                -117.26047,
                32.931245
               ],
               [
                -117.262547,
                32.939542
               ],
               [
                -117.28077,
                33.012343
               ],
               [
                -117.29337,
                33.034642
               ],
               [
                -117.309771,
                33.07454
               ],
               [
                -117.315278,
                33.093504
               ],
               [
                -117.328359,
                33.121842
               ],
               [
                -117.359484,
                33.164231
               ],
               [
                -117.362572,
                33.168437
               ],
               [
                -117.39148,
                33.202762
               ],
               [
                -117.401926,
                33.213598
               ],
               [
                -117.445583,
                33.268517
               ],
               [
                -117.469794,
                33.296417
               ],
               [
                -117.50565,
                33.334063
               ],
               [
                -117.547693,
                33.365491
               ],
               [
                -117.571722,
                33.378988
               ],
               [
                -117.59588,
                33.386629
               ],
               [
                -117.509722,
                33.505019
               ],
               [
                -117.370925,
                33.490549
               ],
               [
                -117.241271,
                33.431993
               ],
               [
                -117.079721,
                33.43033
               ],
               [
                -116.617687,
                33.427354
               ],
               [
                -116.197591,
                33.428893
               ],
               [
                -116.085165,
                33.425932
               ],
               [
                -116.08109,
                33.074833
               ],
               [
                -116.103137,
                32.904115
               ],
               [
                -116.106159,
                32.618328
               ]
              ]
             ],
             "type": "Polygon"
            },
            "id": "06073",
            "properties": {
             "CENSUSAREA": 4206.63,
             "COUNTY": "073",
             "GEO_ID": "0500000US06073",
             "LSAD": "County",
             "NAME": "San Diego",
             "STATE": "06"
            },
            "type": "Feature"
           },
           {
            "geometry": {
             "coordinates": [
              [
               [
                [
                 -122.418698,
                 37.852717
                ],
                [
                 -122.434403,
                 37.852434
                ],
                [
                 -122.443302,
                 37.855448
                ],
                [
                 -122.446316,
                 37.861046
                ],
                [
                 -122.438565,
                 37.868367
                ],
                [
                 -122.430958,
                 37.872242
                ],
                [
                 -122.421439,
                 37.869969
                ],
                [
                 -122.421341,
                 37.869946
                ],
                [
                 -122.41847,
                 37.861764
                ],
                [
                 -122.41847,
                 37.852721
                ],
                [
                 -122.418698,
                 37.852717
                ]
               ]
              ],
              [
               [
                [
                 -123.013916,
                 37.700355
                ],
                [
                 -123.013897,
                 37.704478
                ],
                [
                 -123.012194,
                 37.706749
                ],
                [
                 -123.004489,
                 37.706262
                ],
                [
                 -123.00019,
                 37.702937
                ],
                [
                 -122.997189,
                 37.697909
                ],
                [
                 -123.000677,
                 37.690203
                ],
                [
                 -123.005543,
                 37.689392
                ],
                [
                 -123.011464,
                 37.691907
                ],
                [
                 -123.014303,
                 37.696205
                ],
                [
                 -123.013916,
                 37.700355
                ]
               ]
              ],
              [
               [
                [
                 -122.3785,
                 37.826505
                ],
                [
                 -122.377879,
                 37.830648
                ],
                [
                 -122.369941,
                 37.832137
                ],
                [
                 -122.363244,
                 37.823951
                ],
                [
                 -122.358779,
                 37.814278
                ],
                [
                 -122.362661,
                 37.807577
                ],
                [
                 -122.372422,
                 37.811301
                ],
                [
                 -122.37267,
                 37.81651
                ],
                [
                 -122.3785,
                 37.826505
                ]
               ]
              ],
              [
               [
                [
                 -122.502427,
                 37.708133
                ],
                [
                 -122.506483,
                 37.723731
                ],
                [
                 -122.509397,
                 37.748841
                ],
                [
                 -122.511983,
                 37.77113
                ],
                [
                 -122.514483,
                 37.780829
                ],
                [
                 -122.50531,
                 37.788312
                ],
                [
                 -122.492883,
                 37.787929
                ],
                [
                 -122.485783,
                 37.790629
                ],
                [
                 -122.478083,
                 37.810828
                ],
                [
                 -122.470336,
                 37.808671
                ],
                [
                 -122.463793,
                 37.804653
                ],
                [
                 -122.425942,
                 37.810979
                ],
                [
                 -122.407452,
                 37.811441
                ],
                [
                 -122.398139,
                 37.80563
                ],
                [
                 -122.385323,
                 37.790724
                ],
                [
                 -122.375854,
                 37.734979
                ],
                [
                 -122.370094,
                 37.732331
                ],
                [
                 -122.367697,
                 37.734943
                ],
                [
                 -122.365478,
                 37.734621
                ],
                [
                 -122.356784,
                 37.729505
                ],
                [
                 -122.361749,
                 37.71501
                ],
                [
                 -122.370411,
                 37.717572
                ],
                [
                 -122.391374,
                 37.708331
                ],
                [
                 -122.393782,
                 37.708231
                ],
                [
                 -122.471319,
                 37.708305
                ],
                [
                 -122.471837,
                 37.708332
                ],
                [
                 -122.481083,
                 37.708232
                ],
                [
                 -122.484883,
                 37.708332
                ],
                [
                 -122.485382,
                 37.708231
                ],
                [
                 -122.502427,
                 37.708133
                ]
               ]
              ]
             ],
             "type": "MultiPolygon"
            },
            "id": "06075",
            "properties": {
             "CENSUSAREA": 46.873,
             "COUNTY": "075",
             "GEO_ID": "0500000US06075",
             "LSAD": "County",
             "NAME": "San Francisco",
             "STATE": "06"
            },
            "type": "Feature"
           },
           {
            "geometry": {
             "coordinates": [
              [
               [
                -121.504139,
                38.466563
               ],
               [
                -121.521641,
                38.360104
               ],
               [
                -121.593273,
                38.313089
               ],
               [
                -121.693697,
                38.313732
               ],
               [
                -121.694679,
                38.52705
               ],
               [
                -121.940285,
                38.533384
               ],
               [
                -122.011673,
                38.488991
               ],
               [
                -122.103281,
                38.513348
               ],
               [
                -122.111563,
                38.524051
               ],
               [
                -122.128123,
                38.583697
               ],
               [
                -122.151772,
                38.625297
               ],
               [
                -122.168349,
                38.619297
               ],
               [
                -122.164944,
                38.642462
               ],
               [
                -122.287999,
                38.839932
               ],
               [
                -122.395056,
                38.864245
               ],
               [
                -122.340172,
                38.924246
               ],
               [
                -122.337967,
                38.923945
               ],
               [
                -121.835488,
                38.924481
               ],
               [
                -121.723149,
                38.851306
               ],
               [
                -121.685998,
                38.763371
               ],
               [
                -121.602894,
                38.735838
               ],
               [
                -121.605774,
                38.718319
               ],
               [
                -121.630446,
                38.697571
               ],
               [
                -121.62576,
                38.673133
               ],
               [
                -121.594069,
                38.644106
               ],
               [
                -121.576068,
                38.648604
               ],
               [
                -121.549869,
                38.599405
               ],
               [
                -121.527667,
                38.604604
               ],
               [
                -121.506269,
                38.586305
               ],
               [
                -121.520965,
                38.566205
               ],
               [
                -121.51129,
                38.54629
               ],
               [
                -121.559167,
                38.498007
               ],
               [
                -121.538766,
                38.474707
               ],
               [
                -121.504139,
                38.466563
               ]
              ]
             ],
             "type": "Polygon"
            },
            "id": "06113",
            "properties": {
             "CENSUSAREA": 1014.689,
             "COUNTY": "113",
             "GEO_ID": "0500000US06113",
             "LSAD": "County",
             "NAME": "Yolo",
             "STATE": "06"
            },
            "type": "Feature"
           },
           {
            "geometry": {
             "coordinates": [
              [
               [
                -122.292974,
                37.107318
               ],
               [
                -122.306139,
                37.116383
               ],
               [
                -122.313907,
                37.118161
               ],
               [
                -122.322971,
                37.11546
               ],
               [
                -122.330463,
                37.115338
               ],
               [
                -122.337071,
                37.117382
               ],
               [
                -122.338856,
                37.120854
               ],
               [
                -122.337085,
                37.130795
               ],
               [
                -122.337833,
                37.135936
               ],
               [
                -122.344029,
                37.144099
               ],
               [
                -122.359791,
                37.155574
               ],
               [
                -122.36179,
                37.163593
               ],
               [
                -122.367085,
                37.172817
               ],
               [
                -122.37927,
                37.181128
               ],
               [
                -122.390599,
                37.182988
               ],
               [
                -122.397065,
                37.187249
               ],
               [
                -122.405073,
                37.195791
               ],
               [
                -122.407181,
                37.219465
               ],
               [
                -122.408982,
                37.225258
               ],
               [
                -122.415822,
                37.232839
               ],
               [
                -122.419113,
                37.24147
               ],
               [
                -122.418452,
                37.248521
               ],
               [
                -122.411686,
                37.265844
               ],
               [
                -122.401323,
                37.337009
               ],
               [
                -122.40085,
                37.359225
               ],
               [
                -122.409258,
                37.374805
               ],
               [
                -122.423286,
                37.392542
               ],
               [
                -122.443687,
                37.435941
               ],
               [
                -122.445987,
                37.461541
               ],
               [
                -122.452087,
                37.48054
               ],
               [
                -122.467888,
                37.49814
               ],
               [
                -122.472388,
                37.50054
               ],
               [
                -122.476443,
                37.498768
               ],
               [
                -122.482351,
                37.496187
               ],
               [
                -122.485888,
                37.494641
               ],
               [
                -122.486749,
                37.49439
               ],
               [
                -122.487139,
                37.494277
               ],
               [
                -122.493789,
                37.492341
               ],
               [
                -122.494429,
                37.49269
               ],
               [
                -122.499289,
                37.495341
               ],
               [
                -122.516689,
                37.52134
               ],
               [
                -122.519533,
                37.537302
               ],
               [
                -122.516589,
                37.544939
               ],
               [
                -122.514789,
                37.546139
               ],
               [
                -122.513688,
                37.552239
               ],
               [
                -122.518088,
                37.576138
               ],
               [
                -122.517187,
                37.590637
               ],
               [
                -122.501386,
                37.599637
               ],
               [
                -122.496786,
                37.612136
               ],
               [
                -122.494085,
                37.644035
               ],
               [
                -122.496784,
                37.686433
               ],
               [
                -122.502427,
                37.708133
               ],
               [
                -122.485382,
                37.708231
               ],
               [
                -122.484883,
                37.708332
               ],
               [
                -122.481083,
                37.708232
               ],
               [
                -122.471837,
                37.708332
               ],
               [
                -122.471319,
                37.708305
               ],
               [
                -122.393782,
                37.708231
               ],
               [
                -122.391374,
                37.708331
               ],
               [
                -122.39319,
                37.707531
               ],
               [
                -122.387626,
                37.67906
               ],
               [
                -122.374291,
                37.662206
               ],
               [
                -122.3756,
                37.652389
               ],
               [
                -122.37789,
                37.650425
               ],
               [
                -122.387381,
                37.648462
               ],
               [
                -122.386072,
                37.637662
               ],
               [
                -122.365455,
                37.626208
               ],
               [
                -122.35531,
                37.615736
               ],
               [
                -122.358583,
                37.611155
               ],
               [
                -122.370364,
                37.614427
               ],
               [
                -122.373309,
                37.613773
               ],
               [
                -122.378545,
                37.605592
               ],
               [
                -122.360219,
                37.592501
               ],
               [
                -122.317676,
                37.590865
               ],
               [
                -122.315385,
                37.587265
               ],
               [
                -122.315713,
                37.583666
               ],
               [
                -122.305895,
                37.575484
               ],
               [
                -122.262698,
                37.572866
               ],
               [
                -122.251898,
                37.566321
               ],
               [
                -122.244372,
                37.55814
               ],
               [
                -122.242832,
                37.557136
               ],
               [
                -122.236323,
                37.552891
               ],
               [
                -122.225135,
                37.545594
               ],
               [
                -122.214264,
                37.538505
               ],
               [
                -122.196593,
                37.537196
               ],
               [
                -122.194957,
                37.522469
               ],
               [
                -122.168449,
                37.504143
               ],
               [
                -122.155686,
                37.501198
               ],
               [
                -122.149632,
                37.502671
               ],
               [
                -122.140142,
                37.507907
               ],
               [
                -122.130979,
                37.503652
               ],
               [
                -122.127706,
                37.500053
               ],
               [
                -122.116112,
                37.505386
               ],
               [
                -122.109574,
                37.497637
               ],
               [
                -122.081473,
                37.477838
               ],
               [
                -122.190402,
                37.431472
               ],
               [
                -122.152278,
                37.286055
               ],
               [
                -122.152774,
                37.215444
               ],
               [
                -122.317682,
                37.186945
               ],
               [
                -122.292974,
                37.107318
               ]
              ]
             ],
             "type": "Polygon"
            },
            "id": "06081",
            "properties": {
             "CENSUSAREA": 448.408,
             "COUNTY": "081",
             "GEO_ID": "0500000US06081",
             "LSAD": "County",
             "NAME": "San Mateo",
             "STATE": "06"
            },
            "type": "Feature"
           },
           {
            "geometry": {
             "coordinates": [
              [
               [
                [
                 -120.248484,
                 33.999329
                ],
                [
                 -120.247393,
                 34.001911
                ],
                [
                 -120.238657,
                 34.007592
                ],
                [
                 -120.230001,
                 34.010136
                ],
                [
                 -120.221287,
                 34.010367
                ],
                [
                 -120.208478,
                 34.005655
                ],
                [
                 -120.19578,
                 34.004284
                ],
                [
                 -120.167306,
                 34.008219
                ],
                [
                 -120.151663,
                 34.018126
                ],
                [
                 -120.147647,
                 34.024831
                ],
                [
                 -120.140362,
                 34.025974
                ],
                [
                 -120.135853,
                 34.026087
                ],
                [
                 -120.115058,
                 34.019866
                ],
                [
                 -120.090182,
                 34.019806
                ],
                [
                 -120.073609,
                 34.024477
                ],
                [
                 -120.062778,
                 34.031161
                ],
                [
                 -120.061953,
                 34.033976
                ],
                [
                 -120.057637,
                 34.03734
                ],
                [
                 -120.055107,
                 34.037729
                ],
                [
                 -120.043259,
                 34.035806
                ],
                [
                 -120.044004,
                 34.02482
                ],
                [
                 -120.047798,
                 34.021227
                ],
                [
                 -120.050382,
                 34.013331
                ],
                [
                 -120.048926,
                 34.009898
                ],
                [
                 -120.046575,
                 34.000002
                ],
                [
                 -120.041311,
                 33.994507
                ],
                [
                 -120.025653,
                 33.985553
                ],
                [
                 -120.011123,
                 33.979894
                ],
                [
                 -120.003815,
                 33.979547
                ],
                [
                 -119.984316,
                 33.983948
                ],
                [
                 -119.978876,
                 33.983081
                ],
                [
                 -119.979913,
                 33.969623
                ],
                [
                 -119.976857,
                 33.956693
                ],
                [
                 -119.971141,
                 33.950401
                ],
                [
                 -119.97026,
                 33.944359
                ],
                [
                 -119.973691,
                 33.942481
                ],
                [
                 -120.00096,
                 33.941554
                ],
                [
                 -120.017715,
                 33.936366
                ],
                [
                 -120.046881,
                 33.919597
                ],
                [
                 -120.048315,
                 33.917625
                ],
                [
                 -120.048611,
                 33.915775
                ],
                [
                 -120.049682,
                 33.914563
                ],
                [
                 -120.077793,
                 33.908886
                ],
                [
                 -120.098601,
                 33.907853
                ],
                [
                 -120.105489,
                 33.90428
                ],
                [
                 -120.109137,
                 33.899129
                ],
                [
                 -120.121817,
                 33.895712
                ],
                [
                 -120.168974,
                 33.91909
                ],
                [
                 -120.179049,
                 33.927994
                ],
                [
                 -120.18984,
                 33.947703
                ],
                [
                 -120.192339,
                 33.950266
                ],
                [
                 -120.198602,
                 33.952211
                ],
                [
                 -120.200085,
                 33.956904
                ],
                [
                 -120.209372,
                 33.972376
                ],
                [
                 -120.224461,
                 33.989059
                ],
                [
                 -120.248484,
                 33.999329
                ]
               ]
              ],
              [
               [
                [
                 -119.789798,
                 34.05726
                ],
                [
                 -119.770729,
                 34.055051
                ],
                [
                 -119.766081,
                 34.05537
                ],
                [
                 -119.763688,
                 34.057155
                ],
                [
                 -119.755521,
                 34.056716
                ],
                [
                 -119.739472,
                 34.049299
                ],
                [
                 -119.726437,
                 34.047908
                ],
                [
                 -119.712576,
                 34.043265
                ],
                [
                 -119.704628,
                 34.037681
                ],
                [
                 -119.686507,
                 34.019805
                ],
                [
                 -119.637742,
                 34.013178
                ],
                [
                 -119.619343,
                 34.016468
                ],
                [
                 -119.612226,
                 34.021256
                ],
                [
                 -119.604287,
                 34.031561
                ],
                [
                 -119.608798,
                 34.035245
                ],
                [
                 -119.609239,
                 34.03735
                ],
                [
                 -119.59324,
                 34.049625
                ],
                [
                 -119.57341,
                 34.05011
                ],
                [
                 -119.5667,
                 34.053452
                ],
                [
                 -119.529603,
                 34.041155
                ],
                [
                 -119.52064,
                 34.034262
                ],
                [
                 -119.52177,
                 34.032247
                ],
                [
                 -119.532413,
                 34.024949
                ],
                [
                 -119.538847,
                 34.023988
                ],
                [
                 -119.542449,
                 34.021082
                ],
                [
                 -119.54828,
                 34.009819
                ],
                [
                 -119.547072,
                 34.005469
                ],
                [
                 -119.554472,
                 33.99782
                ],
                [
                 -119.560464,
                 33.99553
                ],
                [
                 -119.575636,
                 33.996009
                ],
                [
                 -119.5902,
                 33.989712
                ],
                [
                 -119.596877,
                 33.988611
                ],
                [
                 -119.619082,
                 33.987228
                ],
                [
                 -119.621117,
                 33.98899
                ],
                [
                 -119.64771,
                 33.987786
                ],
                [
                 -119.662825,
                 33.985889
                ],
                [
                 -119.69011,
                 33.972225
                ],
                [
                 -119.706952,
                 33.969178
                ],
                [
                 -119.712363,
                 33.965422
                ],
                [
                 -119.714696,
                 33.961439
                ],
                [
                 -119.721206,
                 33.959583
                ],
                [
                 -119.742966,
                 33.963877
                ],
                [
                 -119.750438,
                 33.963759
                ],
                [
                 -119.758141,
                 33.959212
                ],
                [
                 -119.795938,
                 33.962929
                ],
                [
                 -119.842748,
                 33.97034
                ],
                [
                 -119.873358,
                 33.980375
                ],
                [
                 -119.877057,
                 33.985757
                ],
                [
                 -119.883033,
                 34.000802
                ],
                [
                 -119.884896,
                 34.008814
                ],
                [
                 -119.882531,
                 34.011674
                ],
                [
                 -119.876916,
                 34.023527
                ],
                [
                 -119.876329,
                 34.032087
                ],
                [
                 -119.892821,
                 34.045529
                ],
                [
                 -119.916216,
                 34.058351
                ],
                [
                 -119.923337,
                 34.069361
                ],
                [
                 -119.919155,
                 34.07728
                ],
                [
                 -119.912857,
                 34.077508
                ],
                [
                 -119.89113,
                 34.072856
                ],
                [
                 -119.857304,
                 34.071298
                ],
                [
                 -119.825865,
                 34.059794
                ],
                [
                 -119.818742,
                 34.052997
                ],
                [
                 -119.807825,
                 34.052127
                ],
                [
                 -119.789798,
                 34.05726
                ]
               ]
              ],
              [
               [
                [
                 -120.46258,
                 34.042627
                ],
                [
                 -120.440248,
                 34.036918
                ],
                [
                 -120.418768,
                 34.052093
                ],
                [
                 -120.415287,
                 34.05496
                ],
                [
                 -120.411314,
                 34.052869
                ],
                [
                 -120.403613,
                 34.050442
                ],
                [
                 -120.396188,
                 34.050187
                ],
                [
                 -120.390906,
                 34.051994
                ],
                [
                 -120.374211,
                 34.062658
                ],
                [
                 -120.368813,
                 34.06778
                ],
                [
                 -120.368584,
                 34.071214
                ],
                [
                 -120.370176,
                 34.074907
                ],
                [
                 -120.368278,
                 34.076465
                ],
                [
                 -120.362251,
                 34.073056
                ],
                [
                 -120.354982,
                 34.059256
                ],
                [
                 -120.36029,
                 34.05582
                ],
                [
                 -120.358608,
                 34.050235
                ],
                [
                 -120.346946,
                 34.046576
                ],
                [
                 -120.331161,
                 34.049097
                ],
                [
                 -120.319032,
                 34.041979
                ],
                [
                 -120.313175,
                 34.036576
                ],
                [
                 -120.302122,
                 34.023574
                ],
                [
                 -120.304543,
                 34.021171
                ],
                [
                 -120.317052,
                 34.018837
                ],
                [
                 -120.347706,
                 34.020114
                ],
                [
                 -120.35532,
                 34.017914
                ],
                [
                 -120.35793,
                 34.015029
                ],
                [
                 -120.375143,
                 34.018775
                ],
                [
                 -120.409368,
                 34.032198
                ],
                [
                 -120.415225,
                 34.032245
                ],
                [
                 -120.419021,
                 34.028949
                ],
                [
                 -120.427408,
                 34.025425
                ],
                [
                 -120.454134,
                 34.028081
                ],
                [
                 -120.459635,
                 34.031537
                ],
                [
                 -120.465329,
                 34.038448
                ],
                [
                 -120.46258,
                 34.042627
                ]
               ]
              ],
              [
               [
                [
                 -120.355343,
                 34.941265
                ],
                [
                 -120.311498,
                 34.903764
                ],
                [
                 -120.334548,
                 35.006315
                ],
                [
                 -120.188383,
                 35.030378
                ],
                [
                 -120.093376,
                 35.114102
                ],
                [
                 -119.980122,
                 35.057573
                ],
                [
                 -119.928419,
                 35.059794
                ],
                [
                 -119.745566,
                 34.973676
                ],
                [
                 -119.672963,
                 34.973375
                ],
                [
                 -119.535757,
                 34.897576
                ],
                [
                 -119.472754,
                 34.901174
                ],
                [
                 -119.442352,
                 34.901274
                ],
                [
                 -119.442278,
                 34.465509
                ],
                [
                 -119.440414,
                 34.441842
                ],
                [
                 -119.444717,
                 34.42951
                ],
                [
                 -119.453423,
                 34.42861
                ],
                [
                 -119.454277,
                 34.418166
                ],
                [
                 -119.445411,
                 34.408881
                ],
                [
                 -119.454101,
                 34.395568
                ],
                [
                 -119.472481,
                 34.38383
                ],
                [
                 -119.473793,
                 34.379115
                ],
                [
                 -119.478265,
                 34.377197
                ],
                [
                 -119.510655,
                 34.386295
                ],
                [
                 -119.536957,
                 34.395495
                ],
                [
                 -119.559459,
                 34.413395
                ],
                [
                 -119.616862,
                 34.420995
                ],
                [
                 -119.638864,
                 34.415696
                ],
                [
                 -119.648664,
                 34.417396
                ],
                [
                 -119.671866,
                 34.416096
                ],
                [
                 -119.688167,
                 34.412497
                ],
                [
                 -119.684666,
                 34.408297
                ],
                [
                 -119.691749,
                 34.403154
                ],
                [
                 -119.709067,
                 34.395397
                ],
                [
                 -119.729369,
                 34.395897
                ],
                [
                 -119.74547,
                 34.402898
                ],
                [
                 -119.785871,
                 34.415997
                ],
                [
                 -119.794771,
                 34.417597
                ],
                [
                 -119.835771,
                 34.415796
                ],
                [
                 -119.853771,
                 34.407996
                ],
                [
                 -119.873971,
                 34.408795
                ],
                [
                 -119.925227,
                 34.433931
                ],
                [
                 -119.956433,
                 34.435288
                ],
                [
                 -119.971951,
                 34.444641
                ],
                [
                 -120.008077,
                 34.460447
                ],
                [
                 -120.038828,
                 34.463434
                ],
                [
                 -120.050682,
                 34.461651
                ],
                [
                 -120.088591,
                 34.460208
                ],
                [
                 -120.097212,
                 34.461809
                ],
                [
                 -120.118411,
                 34.469927
                ],
                [
                 -120.141165,
                 34.473405
                ],
                [
                 -120.183505,
                 34.470372
                ],
                [
                 -120.225498,
                 34.470587
                ],
                [
                 -120.238002,
                 34.468098
                ],
                [
                 -120.25777,
                 34.467451
                ],
                [
                 -120.283001,
                 34.468354
                ],
                [
                 -120.295051,
                 34.470623
                ],
                [
                 -120.299169,
                 34.469731
                ],
                [
                 -120.301822,
                 34.467077
                ],
                [
                 -120.341369,
                 34.458789
                ],
                [
                 -120.441975,
                 34.451512
                ],
                [
                 -120.451425,
                 34.447094
                ],
                [
                 -120.471376,
                 34.447846
                ],
                [
                 -120.47661,
                 34.475131
                ],
                [
                 -120.480372,
                 34.481059
                ],
                [
                 -120.490523,
                 34.490075
                ],
                [
                 -120.511421,
                 34.522953
                ],
                [
                 -120.524776,
                 34.531291
                ],
                [
                 -120.581293,
                 34.556959
                ],
                [
                 -120.608355,
                 34.556656
                ],
                [
                 -120.612005,
                 34.553564
                ],
                [
                 -120.622575,
                 34.554017
                ],
                [
                 -120.637805,
                 34.56622
                ],
                [
                 -120.645739,
                 34.581035
                ],
                [
                 -120.640244,
                 34.604406
                ],
                [
                 -120.625127,
                 34.634489
                ],
                [
                 -120.60197,
                 34.692095
                ],
                [
                 -120.60045,
                 34.70464
                ],
                [
                 -120.601672,
                 34.709721
                ],
                [
                 -120.614852,
                 34.730709
                ],
                [
                 -120.62632,
                 34.738072
                ],
                [
                 -120.637415,
                 34.755895
                ],
                [
                 -120.62297,
                 34.7933
                ],
                [
                 -120.616296,
                 34.816308
                ],
                [
                 -120.609898,
                 34.842751
                ],
                [
                 -120.610266,
                 34.85818
                ],
                [
                 -120.616325,
                 34.866739
                ],
                [
                 -120.639283,
                 34.880413
                ],
                [
                 -120.642212,
                 34.894145
                ],
                [
                 -120.647328,
                 34.901133
                ],
                [
                 -120.662889,
                 34.901183
                ],
                [
                 -120.670835,
                 34.904115
                ],
                [
                 -120.648905,
                 34.974393
                ],
                [
                 -120.513924,
                 34.989276
                ],
                [
                 -120.355343,
                 34.941265
                ]
               ]
              ]
             ],
             "type": "MultiPolygon"
            },
            "id": "06083",
            "properties": {
             "CENSUSAREA": 2735.085,
             "COUNTY": "083",
             "GEO_ID": "0500000US06083",
             "LSAD": "County",
             "NAME": "Santa Barbara",
             "STATE": "06"
            },
            "type": "Feature"
           },
           {
            "geometry": {
             "coordinates": [
              [
               [
                -122.015966,
                37.165658
               ],
               [
                -121.7576,
                37.04963
               ],
               [
                -121.654038,
                36.950584
               ],
               [
                -121.581354,
                36.899152
               ],
               [
                -121.607354,
                36.899452
               ],
               [
                -121.629489,
                36.911681
               ],
               [
                -121.644001,
                36.893996
               ],
               [
                -121.745288,
                36.909341
               ],
               [
                -121.810552,
                36.850648
               ],
               [
                -121.827664,
                36.879353
               ],
               [
                -121.862266,
                36.931552
               ],
               [
                -121.880167,
                36.950151
               ],
               [
                -121.894667,
                36.961851
               ],
               [
                -121.906468,
                36.96895
               ],
               [
                -121.930069,
                36.97815
               ],
               [
                -121.93947,
                36.97805
               ],
               [
                -121.95167,
                36.97145
               ],
               [
                -121.972771,
                36.954151
               ],
               [
                -121.975871,
                36.954051
               ],
               [
                -121.983896,
                36.958727
               ],
               [
                -122.012373,
                36.96455
               ],
               [
                -122.023373,
                36.96215
               ],
               [
                -122.027174,
                36.95115
               ],
               [
                -122.050122,
                36.948523
               ],
               [
                -122.066421,
                36.948271
               ],
               [
                -122.079356,
                36.950783
               ],
               [
                -122.105976,
                36.955951
               ],
               [
                -122.140578,
                36.97495
               ],
               [
                -122.155078,
                36.98085
               ],
               [
                -122.186879,
                37.00345
               ],
               [
                -122.20618,
                37.013949
               ],
               [
                -122.252181,
                37.059448
               ],
               [
                -122.260481,
                37.072548
               ],
               [
                -122.284882,
                37.101747
               ],
               [
                -122.292974,
                37.107318
               ],
               [
                -122.317682,
                37.186945
               ],
               [
                -122.152774,
                37.215444
               ],
               [
                -122.152278,
                37.286055
               ],
               [
                -122.015966,
                37.165658
               ]
              ]
             ],
             "type": "Polygon"
            },
            "id": "06087",
            "properties": {
             "CENSUSAREA": 445.17,
             "COUNTY": "087",
             "GEO_ID": "0500000US06087",
             "LSAD": "County",
             "NAME": "Santa Cruz",
             "STATE": "06"
            },
            "type": "Feature"
           },
           {
            "geometry": {
             "coordinates": [
              [
               [
                -122.088835,
                38.384151
               ],
               [
                -122.103281,
                38.513348
               ],
               [
                -122.011673,
                38.488991
               ],
               [
                -121.940285,
                38.533384
               ],
               [
                -121.694679,
                38.52705
               ],
               [
                -121.693697,
                38.313732
               ],
               [
                -121.593273,
                38.313089
               ],
               [
                -121.605258,
                38.295352
               ],
               [
                -121.60073,
                38.278375
               ],
               [
                -121.60401,
                38.270103
               ],
               [
                -121.600249,
                38.257817
               ],
               [
                -121.601993,
                38.252426
               ],
               [
                -121.602121,
                38.241674
               ],
               [
                -121.603208,
                38.237283
               ],
               [
                -121.602763,
                38.230219
               ],
               [
                -121.688233,
                38.145421
               ],
               [
                -121.713926,
                38.084542
               ],
               [
                -121.862462,
                38.06603
               ],
               [
                -121.865189,
                38.059909
               ],
               [
                -121.869469,
                38.054519
               ],
               [
                -122.050386,
                38.060198
               ],
               [
                -122.123973,
                38.035717
               ],
               [
                -122.266669,
                38.06007
               ],
               [
                -122.273006,
                38.07438
               ],
               [
                -122.282824,
                38.082889
               ],
               [
                -122.301804,
                38.105142
               ],
               [
                -122.314567,
                38.115287
               ],
               [
                -122.366273,
                38.141467
               ],
               [
                -122.39638,
                38.149976
               ],
               [
                -122.403514,
                38.150624
               ],
               [
                -122.406978,
                38.155663
               ],
               [
                -122.406786,
                38.155632
               ],
               [
                -122.19538,
                38.155017
               ],
               [
                -122.205982,
                38.315713
               ],
               [
                -122.064779,
                38.315912
               ],
               [
                -122.088835,
                38.384151
               ]
              ]
             ],
             "type": "Polygon"
            },
            "id": "06095",
            "properties": {
             "CENSUSAREA": 821.765,
             "COUNTY": "095",
             "GEO_ID": "0500000US06095",
             "LSAD": "County",
             "NAME": "Solano",
             "STATE": "06"
            },
            "type": "Feature"
           },
           {
            "geometry": {
             "coordinates": [
              [
               [
                -121.484396,
                38.734598
               ],
               [
                -121.521767,
                38.736401
               ],
               [
                -121.602894,
                38.735838
               ],
               [
                -121.685998,
                38.763371
               ],
               [
                -121.723149,
                38.851306
               ],
               [
                -121.835488,
                38.924481
               ],
               [
                -121.847964,
                39.070817
               ],
               [
                -121.945509,
                39.180959
               ],
               [
                -121.908269,
                39.303878
               ],
               [
                -121.62376,
                39.295621
               ],
               [
                -121.571297,
                38.938918
               ],
               [
                -121.414885,
                38.996429
               ],
               [
                -121.469356,
                38.925992
               ],
               [
                -121.484396,
                38.734598
               ]
              ]
             ],
             "type": "Polygon"
            },
            "id": "06101",
            "properties": {
             "CENSUSAREA": 602.41,
             "COUNTY": "101",
             "GEO_ID": "0500000US06101",
             "LSAD": "County",
             "NAME": "Sutter",
             "STATE": "06"
            },
            "type": "Feature"
           },
           {
            "geometry": {
             "coordinates": [
              [
               [
                -122.934013,
                39.978131
               ],
               [
                -122.989623,
                40.145496
               ],
               [
                -122.989015,
                40.250145
               ],
               [
                -123.065426,
                40.286971
               ],
               [
                -122.918472,
                40.306758
               ],
               [
                -122.872769,
                40.348848
               ],
               [
                -122.651341,
                40.328288
               ],
               [
                -122.523997,
                40.3945
               ],
               [
                -122.445021,
                40.373398
               ],
               [
                -122.310412,
                40.371064
               ],
               [
                -122.010316,
                40.426558
               ],
               [
                -121.940989,
                40.415331
               ],
               [
                -121.806539,
                40.44495
               ],
               [
                -121.64633,
                40.434726
               ],
               [
                -121.497635,
                40.445591
               ],
               [
                -121.470395,
                40.350213
               ],
               [
                -121.345571,
                40.312667
               ],
               [
                -121.368395,
                40.21223
               ],
               [
                -121.436886,
                40.151905
               ],
               [
                -121.586407,
                40.100522
               ],
               [
                -121.646032,
                39.982527
               ],
               [
                -121.703241,
                39.98423
               ],
               [
                -121.804041,
                39.884344
               ],
               [
                -122.044865,
                39.883771
               ],
               [
                -122.046471,
                39.797648
               ],
               [
                -122.937654,
                39.798156
               ],
               [
                -122.934013,
                39.978131
               ]
              ]
             ],
             "type": "Polygon"
            },
            "id": "06103",
            "properties": {
             "CENSUSAREA": 2949.709,
             "COUNTY": "103",
             "GEO_ID": "0500000US06103",
             "LSAD": "County",
             "NAME": "Tehama",
             "STATE": "06"
            },
            "type": "Feature"
           },
           {
            "geometry": {
             "coordinates": [
              [
               [
                -120.652673,
                37.831422
               ],
               [
                -120.514952,
                37.95339
               ],
               [
                -120.534814,
                37.991174
               ],
               [
                -120.504516,
                37.991144
               ],
               [
                -120.176177,
                38.374014
               ],
               [
                -120.019951,
                38.433521
               ],
               [
                -119.884749,
                38.356185
               ],
               [
                -119.753481,
                38.416759
               ],
               [
                -119.639205,
                38.32688
               ],
               [
                -119.632671,
                38.198858
               ],
               [
                -119.345922,
                38.083113
               ],
               [
                -119.30459,
                38.023891
               ],
               [
                -119.308389,
                37.946824
               ],
               [
                -119.200283,
                37.885827
               ],
               [
                -119.20128,
                37.804329
               ],
               [
                -119.268979,
                37.73923
               ],
               [
                -119.288381,
                37.74503
               ],
               [
                -119.293382,
                37.767929
               ],
               [
                -119.308995,
                37.777986
               ],
               [
                -119.535699,
                37.904122
               ],
               [
                -119.646203,
                37.846823
               ],
               [
                -119.667203,
                37.801224
               ],
               [
                -119.809409,
                37.755025
               ],
               [
                -119.907013,
                37.757926
               ],
               [
                -120.079508,
                37.828808
               ],
               [
                -120.127226,
                37.781566
               ],
               [
                -120.345437,
                37.724787
               ],
               [
                -120.325943,
                37.648966
               ],
               [
                -120.391931,
                37.683559
               ],
               [
                -120.387613,
                37.633704
               ],
               [
                -120.652673,
                37.831422
               ]
              ]
             ],
             "type": "Polygon"
            },
            "id": "06109",
            "properties": {
             "CENSUSAREA": 2220.884,
             "COUNTY": "109",
             "GEO_ID": "0500000US06109",
             "LSAD": "County",
             "NAME": "Tuolumne",
             "STATE": "06"
            },
            "type": "Feature"
           },
           {
            "geometry": {
             "coordinates": [
              [
               [
                -120.652673,
                37.831422
               ],
               [
                -120.926449,
                38.077421
               ],
               [
                -120.93885,
                38.088321
               ],
               [
                -120.995497,
                38.225405
               ],
               [
                -120.893792,
                38.221277
               ],
               [
                -120.423215,
                38.473322
               ],
               [
                -120.380707,
                38.461042
               ],
               [
                -120.072484,
                38.509869
               ],
               [
                -120.019951,
                38.433521
               ],
               [
                -120.176177,
                38.374014
               ],
               [
                -120.504516,
                37.991144
               ],
               [
                -120.534814,
                37.991174
               ],
               [
                -120.514952,
                37.95339
               ],
               [
                -120.652673,
                37.831422
               ]
              ]
             ],
             "type": "Polygon"
            },
            "id": "06009",
            "properties": {
             "CENSUSAREA": 1020.012,
             "COUNTY": "009",
             "GEO_ID": "0500000US06009",
             "LSAD": "County",
             "NAME": "Calaveras",
             "STATE": "06"
            },
            "type": "Feature"
           },
           {
            "geometry": {
             "coordinates": [
              [
               [
                -121.910138,
                37.73046
               ],
               [
                -121.96077,
                37.718629
               ],
               [
                -121.977999,
                37.729579
               ],
               [
                -122.001071,
                37.739028
               ],
               [
                -122.010771,
                37.755127
               ],
               [
                -122.004228,
                37.770058
               ],
               [
                -122.185977,
                37.820726
               ],
               [
                -122.30618,
                37.898225
               ],
               [
                -122.310881,
                37.897825
               ],
               [
                -122.313496,
                37.897211
               ],
               [
                -122.32373,
                37.905845
               ],
               [
                -122.33453,
                37.908791
               ],
               [
                -122.35711,
                37.908791
               ],
               [
                -122.362346,
                37.904209
               ],
               [
                -122.367582,
                37.903882
               ],
               [
                -122.378709,
                37.905191
               ],
               [
                -122.385908,
                37.908136
               ],
               [
                -122.389181,
                37.9101
               ],
               [
                -122.39049,
                37.922535
               ],
               [
                -122.395071,
                37.927117
               ],
               [
                -122.401289,
                37.928426
               ],
               [
                -122.413725,
                37.937262
               ],
               [
                -122.417371,
                37.943513
               ],
               [
                -122.430087,
                37.963115
               ],
               [
                -122.42976,
                37.965405
               ],
               [
                -122.415361,
                37.963115
               ],
               [
                -122.411761,
                37.960497
               ],
               [
                -122.408383,
                37.957544
               ],
               [
                -122.399832,
                37.956009
               ],
               [
                -122.367582,
                37.978168
               ],
               [
                -122.361905,
                37.989991
               ],
               [
                -122.363001,
                37.994375
               ],
               [
                -122.366928,
                37.998458
               ],
               [
                -122.368891,
                38.007948
               ],
               [
                -122.367909,
                38.01253
               ],
               [
                -122.363655,
                38.014166
               ],
               [
                -122.359493,
                38.009941
               ],
               [
                -122.340093,
                38.003694
               ],
               [
                -122.331912,
                38.00533
               ],
               [
                -122.321112,
                38.012857
               ],
               [
                -122.315549,
                38.013511
               ],
               [
                -122.300823,
                38.010893
               ],
               [
                -122.283478,
                38.022674
               ],
               [
                -122.262861,
                38.0446
               ],
               [
                -122.262861,
                38.051473
               ],
               [
                -122.266669,
                38.06007
               ],
               [
                -122.123973,
                38.035717
               ],
               [
                -122.050386,
                38.060198
               ],
               [
                -121.869469,
                38.054519
               ],
               [
                -121.865189,
                38.059909
               ],
               [
                -121.862462,
                38.06603
               ],
               [
                -121.737824,
                38.02663
               ],
               [
                -121.679265,
                38.089319
               ],
               [
                -121.580022,
                38.094414
               ],
               [
                -121.579943,
                37.976113
               ],
               [
                -121.574823,
                37.973025
               ],
               [
                -121.569889,
                37.957495
               ],
               [
                -121.56364,
                37.94611
               ],
               [
                -121.561937,
                37.937612
               ],
               [
                -121.55987,
                37.920862
               ],
               [
                -121.569113,
                37.901521
               ],
               [
                -121.574849,
                37.885021
               ],
               [
                -121.575463,
                37.863118
               ],
               [
                -121.56937,
                37.858881
               ],
               [
                -121.561813,
                37.857135
               ],
               [
                -121.549517,
                37.856986
               ],
               [
                -121.538026,
                37.849622
               ],
               [
                -121.536595,
                37.844723
               ],
               [
                -121.538931,
                37.839563
               ],
               [
                -121.550971,
                37.831155
               ],
               [
                -121.556936,
                37.817218
               ],
               [
                -121.55916,
                37.818927
               ],
               [
                -121.623724,
                37.799291
               ],
               [
                -121.881567,
                37.737328
               ],
               [
                -121.910138,
                37.73046
               ]
              ]
             ],
             "type": "Polygon"
            },
            "id": "06013",
            "properties": {
             "CENSUSAREA": 715.937,
             "COUNTY": "013",
             "GEO_ID": "0500000US06013",
             "LSAD": "County",
             "NAME": "Contra Costa",
             "STATE": "06"
            },
            "type": "Feature"
           },
           {
            "geometry": {
             "coordinates": [
              [
               [
                -124.065521,
                41.464739
               ],
               [
                -124.066057,
                41.470258
               ],
               [
                -124.075917,
                41.501757
               ],
               [
                -124.081427,
                41.511228
               ],
               [
                -124.081987,
                41.547761
               ],
               [
                -124.092404,
                41.553615
               ],
               [
                -124.101123,
                41.569192
               ],
               [
                -124.101403,
                41.578524
               ],
               [
                -124.097385,
                41.585251
               ],
               [
                -124.100961,
                41.602499
               ],
               [
                -124.114413,
                41.616768
               ],
               [
                -124.116037,
                41.628849
               ],
               [
                -124.120225,
                41.640354
               ],
               [
                -124.135552,
                41.657307
               ],
               [
                -124.139354,
                41.671652
               ],
               [
                -124.138373,
                41.678881
               ],
               [
                -124.143479,
                41.709284
               ],
               [
                -124.147412,
                41.717955
               ],
               [
                -124.154246,
                41.728801
               ],
               [
                -124.164716,
                41.740126
               ],
               [
                -124.17739,
                41.745756
               ],
               [
                -124.185363,
                41.739351
               ],
               [
                -124.19104,
                41.736079
               ],
               [
                -124.194953,
                41.736778
               ],
               [
                -124.203843,
                41.747035
               ],
               [
                -124.23972,
                41.7708
               ],
               [
                -124.242288,
                41.772034
               ],
               [
                -124.248704,
                41.771459
               ],
               [
                -124.255994,
                41.783014
               ],
               [
                -124.245027,
                41.7923
               ],
               [
                -124.230678,
                41.818681
               ],
               [
                -124.219592,
                41.846432
               ],
               [
                -124.208439,
                41.888192
               ],
               [
                -124.203402,
                41.940964
               ],
               [
                -124.204948,
                41.983441
               ],
               [
                -124.211605,
                41.99846
               ],
               [
                -124.100921,
                41.996956
               ],
               [
                -124.100216,
                41.996842
               ],
               [
                -124.087827,
                41.996891
               ],
               [
                -124.086661,
                41.996869
               ],
               [
                -123.821472,
                41.995473
               ],
               [
                -123.624554,
                41.999837
               ],
               [
                -123.518075,
                42.000436
               ],
               [
                -123.565442,
                41.903141
               ],
               [
                -123.642812,
                41.889353
               ],
               [
                -123.703768,
                41.829117
               ],
               [
                -123.660205,
                41.714055
               ],
               [
                -123.719089,
                41.595258
               ],
               [
                -123.612395,
                41.448954
               ],
               [
                -123.661363,
                41.38209
               ],
               [
                -123.770239,
                41.380776
               ],
               [
                -123.770551,
                41.464193
               ],
               [
                -124.065521,
                41.464739
               ]
              ]
             ],
             "type": "Polygon"
            },
            "id": "06015",
            "properties": {
             "CENSUSAREA": 1006.373,
             "COUNTY": "015",
             "GEO_ID": "0500000US06015",
             "LSAD": "County",
             "NAME": "Del Norte",
             "STATE": "06"
            },
            "type": "Feature"
           },
           {
            "geometry": {
             "coordinates": [
              [
               [
                -116.103137,
                32.904115
               ],
               [
                -116.08109,
                33.074833
               ],
               [
                -116.085165,
                33.425932
               ],
               [
                -115.467506,
                33.426992
               ],
               [
                -114.627125,
                33.433554
               ],
               [
                -114.665278,
                33.415358
               ],
               [
                -114.721233,
                33.396912
               ],
               [
                -114.700103,
                33.341045
               ],
               [
                -114.672088,
                33.258499
               ],
               [
                -114.67536,
                33.185489
               ],
               [
                -114.679359,
                33.159519
               ],
               [
                -114.687074,
                33.142196
               ],
               [
                -114.696829,
                33.131209
               ],
               [
                -114.706175,
                33.105335
               ],
               [
                -114.707819,
                33.091102
               ],
               [
                -114.675104,
                33.047532
               ],
               [
                -114.62387,
                33.02872
               ],
               [
                -114.606282,
                33.025703
               ],
               [
                -114.589778,
                33.026228
               ],
               [
                -114.584765,
                33.028231
               ],
               [
                -114.578287,
                33.035375
               ],
               [
                -114.571653,
                33.036624
               ],
               [
                -114.523578,
                33.030961
               ],
               [
                -114.516912,
                33.026871
               ],
               [
                -114.511343,
                33.023455
               ],
               [
                -114.468605,
                32.971649
               ],
               [
                -114.46289,
                32.905797
               ],
               [
                -114.465715,
                32.87942
               ],
               [
                -114.465715,
                32.879191
               ],
               [
                -114.496284,
                32.822326
               ],
               [
                -114.496827,
                32.822119
               ],
               [
                -114.615733,
                32.729427
               ],
               [
                -114.615585,
                32.728446
               ],
               [
                -114.65826,
                32.733799
               ],
               [
                -114.65884,
                32.73383
               ],
               [
                -114.677091,
                32.736218
               ],
               [
                -114.678632,
                32.736614
               ],
               [
                -114.719633,
                32.718763
               ],
               [
                -115.465164,
                32.6671
               ],
               [
                -115.875842,
                32.636424
               ],
               [
                -116.106159,
                32.618328
               ],
               [
                -116.103137,
                32.904115
               ]
              ]
             ],
             "type": "Polygon"
            },
            "id": "06025",
            "properties": {
             "CENSUSAREA": 4176.603,
             "COUNTY": "025",
             "GEO_ID": "0500000US06025",
             "LSAD": "County",
             "NAME": "Imperial",
             "STATE": "06"
            },
            "type": "Feature"
           },
           {
            "geometry": {
             "coordinates": [
              [
               [
                -117.667292,
                34.822526
               ],
               [
                -118.140074,
                34.82078
               ],
               [
                -118.854253,
                34.817772
               ],
               [
                -118.881364,
                34.790629
               ],
               [
                -118.976721,
                34.812199
               ],
               [
                -119.243645,
                34.814178
               ],
               [
                -119.276946,
                34.879675
               ],
               [
                -119.442352,
                34.901274
               ],
               [
                -119.472754,
                34.901174
               ],
               [
                -119.472719,
                35.076885
               ],
               [
                -119.560975,
                35.087673
               ],
               [
                -119.553641,
                35.179975
               ],
               [
                -119.667056,
                35.174809
               ],
               [
                -119.666663,
                35.262527
               ],
               [
                -119.809449,
                35.263584
               ],
               [
                -119.809346,
                35.350865
               ],
               [
                -119.880172,
                35.351211
               ],
               [
                -119.880045,
                35.439133
               ],
               [
                -119.997392,
                35.439495
               ],
               [
                -119.997382,
                35.468702
               ],
               [
                -120.086674,
                35.526554
               ],
               [
                -120.085922,
                35.614524
               ],
               [
                -120.193918,
                35.614359
               ],
               [
                -120.193892,
                35.726513
               ],
               [
                -120.193934,
                35.749393
               ],
               [
                -120.194053,
                35.749964
               ],
               [
                -120.194146,
                35.789204
               ],
               [
                -119.538116,
                35.789567
               ],
               [
                -119.534559,
                35.789758
               ],
               [
                -119.214033,
                35.790489
               ],
               [
                -118.270456,
                35.790009
               ],
               [
                -118.008043,
                35.789161
               ],
               [
                -117.632996,
                35.797251
               ],
               [
                -117.651986,
                35.709934
               ],
               [
                -117.616195,
                35.680856
               ],
               [
                -117.630126,
                35.564071
               ],
               [
                -117.632011,
                34.82227
               ],
               [
                -117.667292,
                34.822526
               ]
              ]
             ],
             "type": "Polygon"
            },
            "id": "06029",
            "properties": {
             "CENSUSAREA": 8131.916,
             "COUNTY": "029",
             "GEO_ID": "0500000US06029",
             "LSAD": "County",
             "NAME": "Kern",
             "STATE": "06"
            },
            "type": "Feature"
           },
           {
            "geometry": {
             "coordinates": [
              [
               [
                -119.905119,
                36.401741
               ],
               [
                -119.66629,
                36.41896
               ],
               [
                -119.573194,
                36.488835
               ],
               [
                -119.528792,
                36.401465
               ],
               [
                -119.474892,
                36.400953
               ],
               [
                -119.474607,
                36.269025
               ],
               [
                -119.529358,
                36.26985
               ],
               [
                -119.538116,
                35.789567
               ],
               [
                -120.194146,
                35.789204
               ],
               [
                -120.213979,
                35.789276
               ],
               [
                -120.243275,
                35.877669
               ],
               [
                -120.315068,
                35.907186
               ],
               [
                -119.95921,
                36.181403
               ],
               [
                -119.959227,
                36.400975
               ],
               [
                -119.905119,
                36.401741
               ]
              ]
             ],
             "type": "Polygon"
            },
            "id": "06031",
            "properties": {
             "CENSUSAREA": 1389.42,
             "COUNTY": "031",
             "GEO_ID": "0500000US06031",
             "LSAD": "County",
             "NAME": "Kings",
             "STATE": "06"
            },
            "type": "Feature"
           },
           {
            "geometry": {
             "coordinates": [
              [
               [
                -119.733852,
                36.948558
               ],
               [
                -119.823421,
                36.848333
               ],
               [
                -119.932551,
                36.84299
               ],
               [
                -120.013334,
                36.828228
               ],
               [
                -120.027775,
                36.814505
               ],
               [
                -120.079458,
                36.825345
               ],
               [
                -120.132898,
                36.809841
               ],
               [
                -120.229179,
                36.769687
               ],
               [
                -120.422187,
                36.840139
               ],
               [
                -120.541696,
                37.044505
               ],
               [
                -120.400758,
                37.117764
               ],
               [
                -120.052055,
                37.183108
               ],
               [
                -119.761809,
                37.417114
               ],
               [
                -119.651191,
                37.417832
               ],
               [
                -119.651172,
                37.461351
               ],
               [
                -119.58422,
                37.494696
               ],
               [
                -119.583585,
                37.560335
               ],
               [
                -119.308995,
                37.777986
               ],
               [
                -119.293382,
                37.767929
               ],
               [
                -119.288381,
                37.74503
               ],
               [
                -119.268979,
                37.73923
               ],
               [
                -119.124312,
                37.733944
               ],
               [
                -119.022363,
                37.585737
               ],
               [
                -119.286658,
                37.374943
               ],
               [
                -119.335189,
                37.310774
               ],
               [
                -119.330573,
                37.205791
               ],
               [
                -119.361916,
                37.167849
               ],
               [
                -119.43306,
                37.161516
               ],
               [
                -119.470844,
                37.110548
               ],
               [
                -119.559412,
                37.143619
               ],
               [
                -119.537677,
                37.104019
               ],
               [
                -119.733852,
                36.948558
               ]
              ]
             ],
             "type": "Polygon"
            },
            "id": "06039",
            "properties": {
             "CENSUSAREA": 2137.069,
             "COUNTY": "039",
             "GEO_ID": "0500000US06039",
             "LSAD": "County",
             "NAME": "Madera",
             "STATE": "06"
            },
            "type": "Feature"
           },
           {
            "geometry": {
             "coordinates": [
              [
               [
                -121.908269,
                39.303878
               ],
               [
                -121.945509,
                39.180959
               ],
               [
                -121.847964,
                39.070817
               ],
               [
                -121.835488,
                38.924481
               ],
               [
                -122.337967,
                38.923945
               ],
               [
                -122.340172,
                38.924246
               ],
               [
                -122.492215,
                39.054092
               ],
               [
                -122.476083,
                39.172609
               ],
               [
                -122.680927,
                39.238726
               ],
               [
                -122.775043,
                39.311778
               ],
               [
                -122.78509,
                39.382975
               ],
               [
                -122.739062,
                39.383266
               ],
               [
                -122.136006,
                39.385494
               ],
               [
                -122.136161,
                39.414499
               ],
               [
                -121.890013,
                39.383864
               ],
               [
                -121.908269,
                39.303878
               ]
              ]
             ],
             "type": "Polygon"
            },
            "id": "06011",
            "properties": {
             "CENSUSAREA": 1150.731,
             "COUNTY": "011",
             "GEO_ID": "0500000US06011",
             "LSAD": "County",
             "NAME": "Colusa",
             "STATE": "06"
            },
            "type": "Feature"
           },
           {
            "geometry": {
             "coordinates": [
              [
               [
                -117.832726,
                37.464929
               ],
               [
                -117.500909,
                37.220282
               ],
               [
                -117.166187,
                36.970862
               ],
               [
                -117.000895,
                36.847694
               ],
               [
                -116.488233,
                36.459097
               ],
               [
                -116.097216,
                36.158346
               ],
               [
                -116.093601,
                36.155805
               ],
               [
                -115.912858,
                36.015359
               ],
               [
                -115.892975,
                35.999967
               ],
               [
                -115.84608,
                35.963596
               ],
               [
                -115.689302,
                35.842003
               ],
               [
                -115.648029,
                35.809629
               ],
               [
                -115.648925,
                35.809128
               ],
               [
                -115.735745,
                35.809097
               ],
               [
                -115.735891,
                35.79362
               ],
               [
                -117.632996,
                35.797251
               ],
               [
                -118.008043,
                35.789161
               ],
               [
                -117.998258,
                35.868782
               ],
               [
                -117.980761,
                35.867515
               ],
               [
                -118.003577,
                35.983718
               ],
               [
                -118.033611,
                36.008944
               ],
               [
                -118.127147,
                36.279656
               ],
               [
                -118.100317,
                36.346137
               ],
               [
                -118.21482,
                36.435036
               ],
               [
                -118.274624,
                36.597334
               ],
               [
                -118.366328,
                36.691635
               ],
               [
                -118.360586,
                36.744773
               ],
               [
                -118.437137,
                37.059818
               ],
               [
                -118.654593,
                37.141826
               ],
               [
                -118.665167,
                37.261009
               ],
               [
                -118.716016,
                37.328208
               ],
               [
                -118.786736,
                37.34338
               ],
               [
                -118.775014,
                37.463052
               ],
               [
                -117.832726,
                37.464929
               ]
              ]
             ],
             "type": "Polygon"
            },
            "id": "06027",
            "properties": {
             "CENSUSAREA": 10180.879,
             "COUNTY": "027",
             "GEO_ID": "0500000US06027",
             "LSAD": "County",
             "NAME": "Inyo",
             "STATE": "06"
            },
            "type": "Feature"
           },
           {
            "geometry": {
             "coordinates": [
              [
               [
                -120.931374,
                37.421753
               ],
               [
                -120.38767,
                37.633364
               ],
               [
                -120.26601,
                37.400607
               ],
               [
                -120.143826,
                37.239192
               ],
               [
                -120.052055,
                37.183108
               ],
               [
                -120.400758,
                37.117764
               ],
               [
                -120.541696,
                37.044505
               ],
               [
                -120.590566,
                36.952641
               ],
               [
                -120.65595,
                36.952832
               ],
               [
                -120.918731,
                36.740381
               ],
               [
                -121.141523,
                36.836656
               ],
               [
                -121.215406,
                36.961248
               ],
               [
                -121.226804,
                37.134774
               ],
               [
                -120.964223,
                37.345782
               ],
               [
                -120.931374,
                37.421753
               ]
              ]
             ],
             "type": "Polygon"
            },
            "id": "06047",
            "properties": {
             "CENSUSAREA": 1934.972,
             "COUNTY": "047",
             "GEO_ID": "0500000US06047",
             "LSAD": "County",
             "NAME": "Merced",
             "STATE": "06"
            },
            "type": "Feature"
           },
           {
            "geometry": {
             "coordinates": [
              [
               [
                -121.076695,
                39.597264
               ],
               [
                -121.360516,
                39.84074
               ],
               [
                -121.430012,
                39.914833
               ],
               [
                -121.366818,
                40.086054
               ],
               [
                -121.436886,
                40.151905
               ],
               [
                -121.368395,
                40.21223
               ],
               [
                -121.345571,
                40.312667
               ],
               [
                -121.470395,
                40.350213
               ],
               [
                -121.497635,
                40.445591
               ],
               [
                -121.327826,
                40.445367
               ],
               [
                -121.061417,
                40.446536
               ],
               [
                -121.061493,
                40.256417
               ],
               [
                -120.928582,
                40.191931
               ],
               [
                -120.764403,
                40.31601
               ],
               [
                -120.652158,
                40.307656
               ],
               [
                -120.510817,
                40.248945
               ],
               [
                -120.445892,
                40.176854
               ],
               [
                -120.341385,
                40.115243
               ],
               [
                -120.209641,
                40.086008
               ],
               [
                -120.201264,
                40.013474
               ],
               [
                -120.108761,
                39.93951
               ],
               [
                -120.110627,
                39.765779
               ],
               [
                -120.147149,
                39.707658
               ],
               [
                -120.792484,
                39.709794
               ],
               [
                -120.873618,
                39.775875
               ],
               [
                -121.009477,
                39.639459
               ],
               [
                -121.050922,
                39.613801
               ],
               [
                -121.05267,
                39.612334
               ],
               [
                -121.076695,
                39.597264
               ]
              ]
             ],
             "type": "Polygon"
            },
            "id": "06063",
            "properties": {
             "CENSUSAREA": 2553.043,
             "COUNTY": "063",
             "GEO_ID": "0500000US06063",
             "LSAD": "County",
             "NAME": "Plumas",
             "STATE": "06"
            },
            "type": "Feature"
           },
           {
            "geometry": {
             "coordinates": [
              [
               [
                -120.926449,
                38.077421
               ],
               [
                -120.920665,
                37.738392
               ],
               [
                -120.995754,
                37.760152
               ],
               [
                -121.155849,
                37.719844
               ],
               [
                -121.258171,
                37.653495
               ],
               [
                -121.273751,
                37.63833
               ],
               [
                -121.333388,
                37.59105
               ],
               [
                -121.471925,
                37.481783
               ],
               [
                -121.556655,
                37.542732
               ],
               [
                -121.556936,
                37.817218
               ],
               [
                -121.550971,
                37.831155
               ],
               [
                -121.538931,
                37.839563
               ],
               [
                -121.536595,
                37.844723
               ],
               [
                -121.538026,
                37.849622
               ],
               [
                -121.549517,
                37.856986
               ],
               [
                -121.561813,
                37.857135
               ],
               [
                -121.56937,
                37.858881
               ],
               [
                -121.575463,
                37.863118
               ],
               [
                -121.574849,
                37.885021
               ],
               [
                -121.569113,
                37.901521
               ],
               [
                -121.55987,
                37.920862
               ],
               [
                -121.561937,
                37.937612
               ],
               [
                -121.56364,
                37.94611
               ],
               [
                -121.569889,
                37.957495
               ],
               [
                -121.574823,
                37.973025
               ],
               [
                -121.579943,
                37.976113
               ],
               [
                -121.580022,
                38.094414
               ],
               [
                -121.484317,
                38.241509
               ],
               [
                -121.344024,
                38.22826
               ],
               [
                -121.027084,
                38.300252
               ],
               [
                -120.995497,
                38.225405
               ],
               [
                -120.93885,
                38.088321
               ],
               [
                -120.926449,
                38.077421
               ]
              ]
             ],
             "type": "Polygon"
            },
            "id": "06077",
            "properties": {
             "CENSUSAREA": 1391.322,
             "COUNTY": "077",
             "GEO_ID": "0500000US06077",
             "LSAD": "County",
             "NAME": "San Joaquin",
             "STATE": "06"
            },
            "type": "Feature"
           },
           {
            "geometry": {
             "coordinates": [
              [
               [
                -120.001319,
                39.722416
               ],
               [
                -120.003116,
                39.445113
               ],
               [
                -120.003117,
                39.445045
               ],
               [
                -120.505445,
                39.446117
               ],
               [
                -120.575059,
                39.52228
               ],
               [
                -120.654332,
                39.526889
               ],
               [
                -120.755729,
                39.452663
               ],
               [
                -121.022085,
                39.391558
               ],
               [
                -121.034406,
                39.514509
               ],
               [
                -121.009477,
                39.639459
               ],
               [
                -120.873618,
                39.775875
               ],
               [
                -120.792484,
                39.709794
               ],
               [
                -120.147149,
                39.707658
               ],
               [
                -120.001319,
                39.722416
               ]
              ]
             ],
             "type": "Polygon"
            },
            "id": "06091",
            "properties": {
             "CENSUSAREA": 953.214,
             "COUNTY": "091",
             "GEO_ID": "0500000US06091",
             "LSAD": "County",
             "NAME": "Sierra",
             "STATE": "06"
            },
            "type": "Feature"
           },
           {
            "geometry": {
             "coordinates": [
              [
               [
                -119.214033,
                35.790489
               ],
               [
                -119.534559,
                35.789758
               ],
               [
                -119.538116,
                35.789567
               ],
               [
                -119.529358,
                36.26985
               ],
               [
                -119.474607,
                36.269025
               ],
               [
                -119.474892,
                36.400953
               ],
               [
                -119.528792,
                36.401465
               ],
               [
                -119.573194,
                36.488835
               ],
               [
                -119.466322,
                36.575238
               ],
               [
                -119.305102,
                36.573725
               ],
               [
                -119.304625,
                36.660606
               ],
               [
                -118.984779,
                36.657147
               ],
               [
                -118.982441,
                36.741646
               ],
               [
                -118.360586,
                36.744773
               ],
               [
                -118.366328,
                36.691635
               ],
               [
                -118.274624,
                36.597334
               ],
               [
                -118.21482,
                36.435036
               ],
               [
                -118.100317,
                36.346137
               ],
               [
                -118.127147,
                36.279656
               ],
               [
                -118.033611,
                36.008944
               ],
               [
                -118.003577,
                35.983718
               ],
               [
                -117.980761,
                35.867515
               ],
               [
                -117.998258,
                35.868782
               ],
               [
                -118.008043,
                35.789161
               ],
               [
                -118.270456,
                35.790009
               ],
               [
                -119.214033,
                35.790489
               ]
              ]
             ],
             "type": "Polygon"
            },
            "id": "06107",
            "properties": {
             "CENSUSAREA": 4824.215,
             "COUNTY": "107",
             "GEO_ID": "0500000US06107",
             "LSAD": "County",
             "NAME": "Tulare",
             "STATE": "06"
            },
            "type": "Feature"
           },
           {
            "geometry": {
             "coordinates": [
              [
               [
                -122.490727,
                38.109755
               ],
               [
                -122.491283,
                38.108087
               ],
               [
                -122.489974,
                38.096961
               ],
               [
                -122.486702,
                38.090088
               ],
               [
                -122.483757,
                38.071762
               ],
               [
                -122.492265,
                38.056381
               ],
               [
                -122.499465,
                38.032165
               ],
               [
                -122.497828,
                38.019402
               ],
               [
                -122.494556,
                38.015148
               ],
               [
                -122.481466,
                38.007621
               ],
               [
                -122.462812,
                38.003367
               ],
               [
                -122.452995,
                37.996167
               ],
               [
                -122.448413,
                37.988313
               ],
               [
                -122.448413,
                37.984713
               ],
               [
                -122.456595,
                37.978823
               ],
               [
                -122.462485,
                37.981441
               ],
               [
                -122.471975,
                37.981768
               ],
               [
                -122.488665,
                37.966714
               ],
               [
                -122.490302,
                37.964751
               ],
               [
                -122.490302,
                37.959188
               ],
               [
                -122.487684,
                37.948716
               ],
               [
                -122.480484,
                37.945443
               ],
               [
                -122.479175,
                37.941516
               ],
               [
                -122.48572,
                37.937589
               ],
               [
                -122.499465,
                37.939225
               ],
               [
                -122.503064,
                37.936607
               ],
               [
                -122.503064,
                37.928753
               ],
               [
                -122.493574,
                37.921881
               ],
               [
                -122.486375,
                37.921881
               ],
               [
                -122.478193,
                37.918608
               ],
               [
                -122.471975,
                37.910427
               ],
               [
                -122.472303,
                37.902573
               ],
               [
                -122.458558,
                37.894064
               ],
               [
                -122.448413,
                37.89341
               ],
               [
                -122.43925,
                37.88392
               ],
               [
                -122.438268,
                37.880974
               ],
               [
                -122.45005,
                37.871157
               ],
               [
                -122.462158,
                37.868866
               ],
               [
                -122.474266,
                37.874429
               ],
               [
                -122.480811,
                37.873448
               ],
               [
                -122.483429,
                37.868866
               ],
               [
                -122.483102,
                37.863957
               ],
               [
                -122.476536,
                37.832812
               ],
               [
                -122.476473,
                37.832513
               ],
               [
                -122.479151,
                37.825428
               ],
               [
                -122.47986,
                37.825641
               ],
               [
                -122.483483,
                37.826728
               ],
               [
                -122.492474,
                37.82484
               ],
               [
                -122.505383,
                37.822128
               ],
               [
                -122.522836,
                37.824717
               ],
               [
                -122.523585,
                37.824828
               ],
               [
                -122.537285,
                37.830328
               ],
               [
                -122.548986,
                37.836227
               ],
               [
                -122.561487,
                37.851827
               ],
               [
                -122.584289,
                37.859227
               ],
               [
                -122.60129,
                37.875126
               ],
               [
                -122.627113,
                37.88608
               ],
               [
                -122.639977,
                37.897349
               ],
               [
                -122.656519,
                37.904519
               ],
               [
                -122.678474,
                37.906604
               ],
               [
                -122.682171,
                37.90645
               ],
               [
                -122.693569,
                37.901171
               ],
               [
                -122.70264,
                37.89382
               ],
               [
                -122.727297,
                37.904626
               ],
               [
                -122.732898,
                37.920225
               ],
               [
                -122.736898,
                37.925825
               ],
               [
                -122.754606,
                37.935527
               ],
               [
                -122.766138,
                37.938004
               ],
               [
                -122.783244,
                37.951334
               ],
               [
                -122.791739,
                37.969422
               ],
               [
                -122.797405,
                37.976657
               ],
               [
                -122.821383,
                37.996735
               ],
               [
                -122.856573,
                38.016717
               ],
               [
                -122.882114,
                38.025273
               ],
               [
                -122.939711,
                38.031908
               ],
               [
                -122.956811,
                38.02872
               ],
               [
                -122.972378,
                38.020247
               ],
               [
                -122.981776,
                38.009119
               ],
               [
                -122.982386,
                38.004274
               ],
               [
                -122.980147,
                38.000831
               ],
               [
                -122.976764,
                37.99568
               ],
               [
                -122.97439,
                37.992429
               ],
               [
                -123.024066,
                37.994878
               ],
               [
                -123.020562,
                37.999544
               ],
               [
                -123.016303,
                38.001691
               ],
               [
                -123.011533,
                38.003438
               ],
               [
                -122.99242,
                38.041758
               ],
               [
                -122.960889,
                38.112962
               ],
               [
                -122.952086,
                38.138562
               ],
               [
                -122.949074,
                38.15406
               ],
               [
                -122.949626,
                38.164041
               ],
               [
                -122.953629,
                38.17567
               ],
               [
                -122.965408,
                38.187113
               ],
               [
                -122.96637,
                38.198514
               ],
               [
                -122.968112,
                38.202428
               ],
               [
                -122.991953,
                38.233185
               ],
               [
                -122.993959,
                38.237602
               ],
               [
                -122.993235,
                38.239686
               ],
               [
                -122.987149,
                38.237538
               ],
               [
                -122.968569,
                38.242879
               ],
               [
                -122.967203,
                38.250691
               ],
               [
                -122.977082,
                38.267902
               ],
               [
                -122.986319,
                38.273164
               ],
               [
                -122.994603,
                38.283096
               ],
               [
                -122.997106,
                38.289458
               ],
               [
                -123.002911,
                38.295708
               ],
               [
                -122.901726,
                38.316943
               ],
               [
                -122.7399,
                38.207018
               ],
               [
                -122.648986,
                38.181077
               ],
               [
                -122.565093,
                38.182217
               ],
               [
                -122.490727,
                38.109755
               ]
              ]
             ],
             "type": "Polygon"
            },
            "id": "06041",
            "properties": {
             "CENSUSAREA": 520.306,
             "COUNTY": "041",
             "GEO_ID": "0500000US06041",
             "LSAD": "County",
             "NAME": "Marin",
             "STATE": "06"
            },
            "type": "Feature"
           },
           {
            "geometry": {
             "coordinates": [
              [
               [
                -120.213979,
                35.789276
               ],
               [
                -121.175695,
                35.794102
               ],
               [
                -121.346363,
                35.795183
               ],
               [
                -121.356737,
                35.804187
               ],
               [
                -121.388053,
                35.823483
               ],
               [
                -121.406823,
                35.844623
               ],
               [
                -121.413146,
                35.855316
               ],
               [
                -121.426955,
                35.860103
               ],
               [
                -121.439584,
                35.86695
               ],
               [
                -121.462264,
                35.885618
               ],
               [
                -121.461227,
                35.896906
               ],
               [
                -121.463452,
                35.904416
               ],
               [
                -121.472435,
                35.91989
               ],
               [
                -121.4862,
                35.970348
               ],
               [
                -121.503112,
                36.000299
               ],
               [
                -121.51159,
                36.006598
               ],
               [
                -121.531876,
                36.014368
               ],
               [
                -121.553716,
                36.019798
               ],
               [
                -121.569612,
                36.021539
               ],
               [
                -121.574602,
                36.025156
               ],
               [
                -121.590395,
                36.050363
               ],
               [
                -121.589183,
                36.053775
               ],
               [
                -121.592853,
                36.065062
               ],
               [
                -121.606845,
                36.072065
               ],
               [
                -121.618672,
                36.087767
               ],
               [
                -121.622009,
                36.099695
               ],
               [
                -121.629634,
                36.114452
               ],
               [
                -121.680145,
                36.165818
               ],
               [
                -121.717176,
                36.195146
               ],
               [
                -121.779851,
                36.227407
               ],
               [
                -121.797059,
                36.234211
               ],
               [
                -121.806979,
                36.232907
               ],
               [
                -121.813734,
                36.234235
               ],
               [
                -121.826425,
                36.24186
               ],
               [
                -121.835785,
                36.250748
               ],
               [
                -121.83935,
                36.260478
               ],
               [
                -121.851967,
                36.277831
               ],
               [
                -121.874797,
                36.289064
               ],
               [
                -121.888491,
                36.30281
               ],
               [
                -121.894714,
                36.317806
               ],
               [
                -121.892917,
                36.340428
               ],
               [
                -121.905446,
                36.358269
               ],
               [
                -121.902669,
                36.363901
               ],
               [
                -121.901813,
                36.381879
               ],
               [
                -121.903195,
                36.393603
               ],
               [
                -121.905657,
                36.398206
               ],
               [
                -121.914378,
                36.404344
               ],
               [
                -121.917463,
                36.414809
               ],
               [
                -121.91474,
                36.42589
               ],
               [
                -121.9255,
                36.453918
               ],
               [
                -121.937205,
                36.472488
               ],
               [
                -121.9416,
                36.485602
               ],
               [
                -121.939216,
                36.496896
               ],
               [
                -121.938763,
                36.506423
               ],
               [
                -121.943678,
                36.511802
               ],
               [
                -121.944666,
                36.521861
               ],
               [
                -121.928769,
                36.523147
               ],
               [
                -121.925937,
                36.525173
               ],
               [
                -121.932508,
                36.559935
               ],
               [
                -121.942533,
                36.566435
               ],
               [
                -121.949659,
                36.567602
               ],
               [
                -121.95146,
                36.564009
               ],
               [
                -121.957335,
                36.564482
               ],
               [
                -121.972594,
                36.57337
               ],
               [
                -121.978592,
                36.580488
               ],
               [
                -121.970427,
                36.582754
               ],
               [
                -121.941666,
                36.618059
               ],
               [
                -121.938551,
                36.633908
               ],
               [
                -121.93643,
                36.636746
               ],
               [
                -121.929666,
                36.636959
               ],
               [
                -121.923866,
                36.634559
               ],
               [
                -121.890164,
                36.609259
               ],
               [
                -121.889064,
                36.601759
               ],
               [
                -121.886764,
                36.601459
               ],
               [
                -121.871364,
                36.604559
               ],
               [
                -121.860604,
                36.611136
               ],
               [
                -121.842263,
                36.630059
               ],
               [
                -121.831995,
                36.644856
               ],
               [
                -121.825052,
                36.657207
               ],
               [
                -121.814462,
                36.682858
               ],
               [
                -121.807062,
                36.714157
               ],
               [
                -121.805643,
                36.750239
               ],
               [
                -121.788278,
                36.803994
               ],
               [
                -121.791544,
                36.815186
               ],
               [
                -121.809363,
                36.848654
               ],
               [
                -121.810552,
                36.850648
               ],
               [
                -121.745288,
                36.909341
               ],
               [
                -121.644001,
                36.893996
               ],
               [
                -121.597698,
                36.83735
               ],
               [
                -121.45134,
                36.724793
               ],
               [
                -121.468086,
                36.685518
               ],
               [
                -121.350092,
                36.648357
               ],
               [
                -121.318373,
                36.610026
               ],
               [
                -121.311788,
                36.502736
               ],
               [
                -121.244091,
                36.506911
               ],
               [
                -121.193465,
                36.445751
               ],
               [
                -121.040797,
                36.323969
               ],
               [
                -121.02724,
                36.259893
               ],
               [
                -120.920551,
                36.311012
               ],
               [
                -120.86508,
                36.292578
               ],
               [
                -120.761483,
                36.20358
               ],
               [
                -120.718169,
                36.196848
               ],
               [
                -120.75834,
                36.308604
               ],
               [
                -120.678582,
                36.267319
               ],
               [
                -120.62691,
                36.203227
               ],
               [
                -120.648784,
                36.10799
               ],
               [
                -120.315068,
                35.907186
               ],
               [
                -120.243275,
                35.877669
               ],
               [
                -120.213979,
                35.789276
               ]
              ]
             ],
             "type": "Polygon"
            },
            "id": "06053",
            "properties": {
             "CENSUSAREA": 3280.595,
             "COUNTY": "053",
             "GEO_ID": "0500000US06053",
             "LSAD": "County",
             "NAME": "Monterey",
             "STATE": "06"
            },
            "type": "Feature"
           },
           {
            "geometry": {
             "coordinates": [
              [
               [
                -120.005318,
                39.316479
               ],
               [
                -120.00532,
                39.31635
               ],
               [
                -120.005413,
                39.313848
               ],
               [
                -120.005414,
                39.313345
               ],
               [
                -120.005743,
                39.228664
               ],
               [
                -120.005746,
                39.22521
               ],
               [
                -120.004504,
                39.165599
               ],
               [
                -120.003402,
                39.112687
               ],
               [
                -120.002461,
                39.067489
               ],
               [
                -120.143663,
                39.067285
               ],
               [
                -120.184098,
                39.031014
               ],
               [
                -120.43524,
                39.028397
               ],
               [
                -120.470985,
                38.965507
               ],
               [
                -120.556321,
                38.915164
               ],
               [
                -120.642458,
                38.944404
               ],
               [
                -120.746395,
                39.010352
               ],
               [
                -121.040406,
                38.915651
               ],
               [
                -121.141009,
                38.71198
               ],
               [
                -121.151857,
                38.711502
               ],
               [
                -121.188571,
                38.714308
               ],
               [
                -121.242795,
                38.718241
               ],
               [
                -121.484396,
                38.734598
               ],
               [
                -121.469356,
                38.925992
               ],
               [
                -121.414885,
                38.996429
               ],
               [
                -121.279533,
                39.034618
               ],
               [
                -121.137397,
                39.037858
               ],
               [
                -121.068788,
                39.005177
               ],
               [
                -120.986348,
                39.102234
               ],
               [
                -120.857909,
                39.206235
               ],
               [
                -120.691606,
                39.303981
               ],
               [
                -120.645795,
                39.315155
               ],
               [
                -120.005318,
                39.316479
               ]
              ]
             ],
             "type": "Polygon"
            },
            "id": "06061",
            "properties": {
             "CENSUSAREA": 1407.009,
             "COUNTY": "061",
             "GEO_ID": "0500000US06061",
             "LSAD": "County",
             "NAME": "Placer",
             "STATE": "06"
            },
            "type": "Feature"
           },
           {
            "geometry": {
             "coordinates": [
              [
               [
                -119.573194,
                36.488835
               ],
               [
                -119.66629,
                36.41896
               ],
               [
                -119.905119,
                36.401741
               ],
               [
                -119.959227,
                36.400975
               ],
               [
                -119.95921,
                36.181403
               ],
               [
                -120.315068,
                35.907186
               ],
               [
                -120.648784,
                36.10799
               ],
               [
                -120.62691,
                36.203227
               ],
               [
                -120.678582,
                36.267319
               ],
               [
                -120.596562,
                36.328488
               ],
               [
                -120.603706,
                36.488242
               ],
               [
                -120.918731,
                36.740381
               ],
               [
                -120.65595,
                36.952832
               ],
               [
                -120.590566,
                36.952641
               ],
               [
                -120.541696,
                37.044505
               ],
               [
                -120.422187,
                36.840139
               ],
               [
                -120.229179,
                36.769687
               ],
               [
                -120.132898,
                36.809841
               ],
               [
                -120.079458,
                36.825345
               ],
               [
                -120.027775,
                36.814505
               ],
               [
                -120.013334,
                36.828228
               ],
               [
                -119.932551,
                36.84299
               ],
               [
                -119.823421,
                36.848333
               ],
               [
                -119.733852,
                36.948558
               ],
               [
                -119.537677,
                37.104019
               ],
               [
                -119.559412,
                37.143619
               ],
               [
                -119.470844,
                37.110548
               ],
               [
                -119.43306,
                37.161516
               ],
               [
                -119.361916,
                37.167849
               ],
               [
                -119.330573,
                37.205791
               ],
               [
                -119.335189,
                37.310774
               ],
               [
                -119.286658,
                37.374943
               ],
               [
                -119.022363,
                37.585737
               ],
               [
                -118.775014,
                37.463052
               ],
               [
                -118.786736,
                37.34338
               ],
               [
                -118.716016,
                37.328208
               ],
               [
                -118.665167,
                37.261009
               ],
               [
                -118.654593,
                37.141826
               ],
               [
                -118.437137,
                37.059818
               ],
               [
                -118.360586,
                36.744773
               ],
               [
                -118.982441,
                36.741646
               ],
               [
                -118.984779,
                36.657147
               ],
               [
                -119.304625,
                36.660606
               ],
               [
                -119.305102,
                36.573725
               ],
               [
                -119.466322,
                36.575238
               ],
               [
                -119.573194,
                36.488835
               ]
              ]
             ],
             "type": "Polygon"
            },
            "id": "06019",
            "properties": {
             "CENSUSAREA": 5957.991,
             "COUNTY": "019",
             "GEO_ID": "0500000US06019",
             "LSAD": "County",
             "NAME": "Fresno",
             "STATE": "06"
            },
            "type": "Feature"
           },
           {
            "geometry": {
             "coordinates": [
              [
               [
                -123.544458,
                40.001923
               ],
               [
                -124.023938,
                40.001284
               ],
               [
                -124.035904,
                40.013319
               ],
               [
                -124.056408,
                40.024305
               ],
               [
                -124.065069,
                40.024785
               ],
               [
                -124.068908,
                40.021307
               ],
               [
                -124.072509,
                40.022657
               ],
               [
                -124.079983,
                40.029773
               ],
               [
                -124.080709,
                40.06611
               ],
               [
                -124.087086,
                40.078442
               ],
               [
                -124.110549,
                40.103765
               ],
               [
                -124.139952,
                40.11635
               ],
               [
                -124.170767,
                40.124207
               ],
               [
                -124.187874,
                40.130542
               ],
               [
                -124.214895,
                40.160902
               ],
               [
                -124.231095,
                40.171581
               ],
               [
                -124.258405,
                40.184277
               ],
               [
                -124.296497,
                40.208816
               ],
               [
                -124.320912,
                40.226617
               ],
               [
                -124.327691,
                40.23737
               ],
               [
                -124.34307,
                40.243979
               ],
               [
                -124.352715,
                40.250453
               ],
               [
                -124.363414,
                40.260974
               ],
               [
                -124.363634,
                40.276212
               ],
               [
                -124.347853,
                40.314634
               ],
               [
                -124.353124,
                40.331425
               ],
               [
                -124.356595,
                40.335016
               ],
               [
                -124.362796,
                40.350046
               ],
               [
                -124.365357,
                40.374855
               ],
               [
                -124.373599,
                40.392923
               ],
               [
                -124.379082,
                40.398828
               ],
               [
                -124.391496,
                40.407047
               ],
               [
                -124.402623,
                40.422105
               ],
               [
                -124.409591,
                40.438076
               ],
               [
                -124.408601,
                40.443201
               ],
               [
                -124.396642,
                40.462119
               ],
               [
                -124.38494,
                40.48982
               ],
               [
                -124.383224,
                40.499852
               ],
               [
                -124.387023,
                40.504954
               ],
               [
                -124.382816,
                40.519
               ],
               [
                -124.379096,
                40.522865
               ],
               [
                -124.363545,
                40.548698
               ],
               [
                -124.329404,
                40.61643
               ],
               [
                -124.315141,
                40.639526
               ],
               [
                -124.312558,
                40.641333
               ],
               [
                -124.289119,
                40.67963
               ],
               [
                -124.248406,
                40.735166
               ],
               [
                -124.228244,
                40.76939
               ],
               [
                -124.201921,
                40.805111
               ],
               [
                -124.176715,
                40.843618
               ],
               [
                -124.158322,
                40.876069
               ],
               [
                -124.137066,
                40.925732
               ],
               [
                -124.118147,
                40.989263
               ],
               [
                -124.112165,
                41.028173
               ],
               [
                -124.125448,
                41.048504
               ],
               [
                -124.132946,
                41.052482
               ],
               [
                -124.138217,
                41.054342
               ],
               [
                -124.142867,
                41.054032
               ],
               [
                -124.147216,
                41.052884
               ],
               [
                -124.148939,
                41.051467
               ],
               [
                -124.151266,
                41.051101
               ],
               [
                -124.153622,
                41.05355
               ],
               [
                -124.154028,
                41.059923
               ],
               [
                -124.154513,
                41.087159
               ],
               [
                -124.160556,
                41.099011
               ],
               [
                -124.159065,
                41.121957
               ],
               [
                -124.165414,
                41.129822
               ],
               [
                -124.163988,
                41.138675
               ],
               [
                -124.158539,
                41.143021
               ],
               [
                -124.149674,
                41.140845
               ],
               [
                -124.1438,
                41.144686
               ],
               [
                -124.122677,
                41.189726
               ],
               [
                -124.106986,
                41.229678
               ],
               [
                -124.106389,
                41.240682
               ],
               [
                -124.092284,
                41.287695
               ],
               [
                -124.079015,
                41.347135
               ],
               [
                -124.072294,
                41.374844
               ],
               [
                -124.063076,
                41.439579
               ],
               [
                -124.065521,
                41.464739
               ],
               [
                -123.770551,
                41.464193
               ],
               [
                -123.770239,
                41.380776
               ],
               [
                -123.661363,
                41.38209
               ],
               [
                -123.474085,
                41.366193
               ],
               [
                -123.408291,
                41.179944
               ],
               [
                -123.481457,
                40.914957
               ],
               [
                -123.560163,
                40.950257
               ],
               [
                -123.623826,
                40.929421
               ],
               [
                -123.55985,
                40.829584
               ],
               [
                -123.544059,
                40.739386
               ],
               [
                -123.544458,
                40.001923
               ]
              ]
             ],
             "type": "Polygon"
            },
            "id": "06023",
            "properties": {
             "CENSUSAREA": 3567.987,
             "COUNTY": "023",
             "GEO_ID": "0500000US06023",
             "LSAD": "County",
             "NAME": "Humboldt",
             "STATE": "06"
            },
            "type": "Feature"
           },
           {
            "geometry": {
             "coordinates": [
              [
               [
                -120.001319,
                39.72242
               ],
               [
                -120.001319,
                39.722416
               ],
               [
                -120.147149,
                39.707658
               ],
               [
                -120.110627,
                39.765779
               ],
               [
                -120.108761,
                39.93951
               ],
               [
                -120.201264,
                40.013474
               ],
               [
                -120.209641,
                40.086008
               ],
               [
                -120.341385,
                40.115243
               ],
               [
                -120.445892,
                40.176854
               ],
               [
                -120.510817,
                40.248945
               ],
               [
                -120.652158,
                40.307656
               ],
               [
                -120.764403,
                40.31601
               ],
               [
                -120.928582,
                40.191931
               ],
               [
                -121.061493,
                40.256417
               ],
               [
                -121.061417,
                40.446536
               ],
               [
                -121.327826,
                40.445367
               ],
               [
                -121.319972,
                40.905886
               ],
               [
                -121.331786,
                41.183886
               ],
               [
                -119.999866,
                41.183974
               ],
               [
                -119.999358,
                40.873101
               ],
               [
                -119.999232,
                40.867454
               ],
               [
                -119.999231,
                40.865899
               ],
               [
                -119.995926,
                40.499901
               ],
               [
                -119.996155,
                40.321838
               ],
               [
                -119.996155,
                40.32125
               ],
               [
                -119.996182,
                40.263532
               ],
               [
                -119.996183,
                40.262461
               ],
               [
                -119.997124,
                40.126363
               ],
               [
                -119.997234,
                40.091591
               ],
               [
                -119.997175,
                40.077245
               ],
               [
                -119.997291,
                40.071803
               ],
               [
                -120.000607,
                39.780779
               ],
               [
                -120.000502,
                39.779956
               ],
               [
                -120.001319,
                39.72242
               ]
              ]
             ],
             "type": "Polygon"
            },
            "id": "06035",
            "properties": {
             "CENSUSAREA": 4541.184,
             "COUNTY": "035",
             "GEO_ID": "0500000US06035",
             "LSAD": "County",
             "NAME": "Lassen",
             "STATE": "06"
            },
            "type": "Feature"
           },
           {
            "geometry": {
             "coordinates": [
              [
               [
                [
                 -118.524531,
                 32.895488
                ],
                [
                 -118.535823,
                 32.90628
                ],
                [
                 -118.551134,
                 32.945155
                ],
                [
                 -118.560887,
                 32.957891
                ],
                [
                 -118.573522,
                 32.969183
                ],
                [
                 -118.586928,
                 33.008281
                ],
                [
                 -118.596037,
                 33.015357
                ],
                [
                 -118.606559,
                 33.01469
                ],
                [
                 -118.605534,
                 33.030999
                ],
                [
                 -118.594033,
                 33.035951
                ],
                [
                 -118.57516,
                 33.033961
                ],
                [
                 -118.569013,
                 33.029151
                ],
                [
                 -118.564445,
                 33.024914
                ],
                [
                 -118.564527,
                 33.018637
                ],
                [
                 -118.559171,
                 33.006291
                ],
                [
                 -118.540069,
                 32.980933
                ],
                [
                 -118.529228,
                 32.970921
                ],
                [
                 -118.496811,
                 32.933847
                ],
                [
                 -118.485288,
                 32.923545
                ],
                [
                 -118.479039,
                 32.920363
                ],
                [
                 -118.460623,
                 32.90951
                ],
                [
                 -118.446771,
                 32.895424
                ],
                [
                 -118.369984,
                 32.839273
                ],
                [
                 -118.353504,
                 32.821962
                ],
                [
                 -118.356541,
                 32.817311
                ],
                [
                 -118.36053,
                 32.819921
                ],
                [
                 -118.379968,
                 32.824545
                ],
                [
                 -118.387375,
                 32.825327
                ],
                [
                 -118.394565,
                 32.823978
                ],
                [
                 -118.401268,
                 32.820338
                ],
                [
                 -118.425634,
                 32.800595
                ],
                [
                 -118.42943,
                 32.805429
                ],
                [
                 -118.428372,
                 32.806872
                ],
                [
                 -118.44492,
                 32.820593
                ],
                [
                 -118.476074,
                 32.841754
                ],
                [
                 -118.487908,
                 32.84459
                ],
                [
                 -118.496298,
                 32.851572
                ],
                [
                 -118.506902,
                 32.868503
                ],
                [
                 -118.508095,
                 32.871321
                ],
                [
                 -118.507193,
                 32.876264
                ],
                [
                 -118.524641,
                 32.893175
                ],
                [
                 -118.524531,
                 32.895488
                ]
               ]
              ],
              [
               [
                [
                 -118.500212,
                 33.449592
                ],
                [
                 -118.499669,
                 33.447879
                ],
                [
                 -118.48557,
                 33.446213
                ],
                [
                 -118.477646,
                 33.448392
                ],
                [
                 -118.445812,
                 33.428907
                ],
                [
                 -118.423576,
                 33.427258
                ],
                [
                 -118.382037,
                 33.409883
                ],
                [
                 -118.370323,
                 33.409285
                ],
                [
                 -118.368301,
                 33.40711
                ],
                [
                 -118.365094,
                 33.388374
                ],
                [
                 -118.32446,
                 33.348782
                ],
                [
                 -118.316083,
                 33.342928
                ],
                [
                 -118.310213,
                 33.335795
                ],
                [
                 -118.303174,
                 33.320264
                ],
                [
                 -118.305084,
                 33.310323
                ],
                [
                 -118.316787,
                 33.301137
                ],
                [
                 -118.325244,
                 33.299075
                ],
                [
                 -118.343249,
                 33.305234
                ],
                [
                 -118.360332,
                 33.31533
                ],
                [
                 -118.374768,
                 33.320065
                ],
                [
                 -118.402941,
                 33.320901
                ],
                [
                 -118.440047,
                 33.318638
                ],
                [
                 -118.456309,
                 33.32182
                ],
                [
                 -118.465368,
                 33.326056
                ],
                [
                 -118.481886,
                 33.344123
                ],
                [
                 -118.48877,
                 33.356649
                ],
                [
                 -118.482609,
                 33.369914
                ],
                [
                 -118.478465,
                 33.38632
                ],
                [
                 -118.484949,
                 33.412131
                ],
                [
                 -118.48875,
                 33.419826
                ],
                [
                 -118.503952,
                 33.424234
                ],
                [
                 -118.515914,
                 33.422417
                ],
                [
                 -118.516267,
                 33.425075
                ],
                [
                 -118.52323,
                 33.430733
                ],
                [
                 -118.53738,
                 33.434608
                ],
                [
                 -118.558715,
                 33.433419
                ],
                [
                 -118.563442,
                 33.434381
                ],
                [
                 -118.570927,
                 33.439351
                ],
                [
                 -118.575901,
                 33.448261
                ],
                [
                 -118.593969,
                 33.467198
                ],
                [
                 -118.601185,
                 33.469853
                ],
                [
                 -118.60403,
                 33.47654
                ],
                [
                 -118.603375,
                 33.478098
                ],
                [
                 -118.598783,
                 33.477939
                ],
                [
                 -118.585936,
                 33.473819
                ],
                [
                 -118.54453,
                 33.474119
                ],
                [
                 -118.530702,
                 33.468071
                ],
                [
                 -118.500212,
                 33.449592
                ]
               ]
              ],
              [
               [
                [
                 -118.796692,
                 34.616559
                ],
                [
                 -118.881364,
                 34.790629
                ],
                [
                 -118.854253,
                 34.817772
                ],
                [
                 -118.140074,
                 34.82078
                ],
                [
                 -117.667292,
                 34.822526
                ],
                [
                 -117.658798,
                 34.44058
                ],
                [
                 -117.650459,
                 34.339025
                ],
                [
                 -117.711067,
                 34.079536
                ],
                [
                 -117.719481,
                 34.059731
                ],
                [
                 -117.72601,
                 34.041128
                ],
                [
                 -117.735846,
                 34.018554
                ],
                [
                 -117.767752,
                 34.019429
                ],
                [
                 -117.783287,
                 33.946411
                ],
                [
                 -117.97653,
                 33.928034
                ],
                [
                 -117.976498,
                 33.919171
                ],
                [
                 -117.976571,
                 33.911205
                ],
                [
                 -117.976692,
                 33.910614
                ],
                [
                 -117.976588,
                 33.909757
                ],
                [
                 -117.976586,
                 33.906225
                ],
                [
                 -118.063268,
                 33.82422
                ],
                [
                 -118.063162,
                 33.81961
                ],
                [
                 -118.072597,
                 33.815115
                ],
                [
                 -118.084597,
                 33.803216
                ],
                [
                 -118.093008,
                 33.786289
                ],
                [
                 -118.099107,
                 33.776518
                ],
                [
                 -118.09197,
                 33.758472
                ],
                [
                 -118.116703,
                 33.743549
                ],
                [
                 -118.132698,
                 33.753217
                ],
                [
                 -118.1569,
                 33.760317
                ],
                [
                 -118.1755,
                 33.763617
                ],
                [
                 -118.180831,
                 33.763072
                ],
                [
                 -118.187701,
                 33.749218
                ],
                [
                 -118.1837,
                 33.736118
                ],
                [
                 -118.181367,
                 33.717367
                ],
                [
                 -118.207476,
                 33.716905
                ],
                [
                 -118.258687,
                 33.703741
                ],
                [
                 -118.277208,
                 33.707091
                ],
                [
                 -118.297104,
                 33.708319
                ],
                [
                 -118.317205,
                 33.712818
                ],
                [
                 -118.354705,
                 33.732317
                ],
                [
                 -118.360505,
                 33.736817
                ],
                [
                 -118.385006,
                 33.741417
                ],
                [
                 -118.396606,
                 33.735917
                ],
                [
                 -118.411211,
                 33.741985
                ],
                [
                 -118.428407,
                 33.774715
                ],
                [
                 -118.423407,
                 33.782015
                ],
                [
                 -118.405007,
                 33.800215
                ],
                [
                 -118.394376,
                 33.804289
                ],
                [
                 -118.394307,
                 33.804315
                ],
                [
                 -118.391507,
                 33.815415
                ],
                [
                 -118.392107,
                 33.840915
                ],
                [
                 -118.412708,
                 33.883913
                ],
                [
                 -118.44241,
                 33.940312
                ],
                [
                 -118.460611,
                 33.969111
                ],
                [
                 -118.482729,
                 33.995912
                ],
                [
                 -118.484212,
                 33.99771
                ],
                [
                 -118.502813,
                 34.015509
                ],
                [
                 -118.519514,
                 34.027509
                ],
                [
                 -118.543115,
                 34.038508
                ],
                [
                 -118.569235,
                 34.04164
                ],
                [
                 -118.603572,
                 34.039048
                ],
                [
                 -118.609652,
                 34.036424
                ],
                [
                 -118.668358,
                 34.038887
                ],
                [
                 -118.67543,
                 34.037479
                ],
                [
                 -118.679366,
                 34.033255
                ],
                [
                 -118.706215,
                 34.029383
                ],
                [
                 -118.732391,
                 34.032743
                ],
                [
                 -118.744952,
                 34.032103
                ],
                [
                 -118.783433,
                 34.021543
                ],
                [
                 -118.787094,
                 34.019545
                ],
                [
                 -118.805114,
                 34.001239
                ],
                [
                 -118.821579,
                 34.013959
                ],
                [
                 -118.84038,
                 34.027527
                ],
                [
                 -118.854653,
                 34.034215
                ],
                [
                 -118.896159,
                 34.039207
                ],
                [
                 -118.928048,
                 34.045847
                ],
                [
                 -118.938081,
                 34.043383
                ],
                [
                 -118.944887,
                 34.04534
                ],
                [
                 -118.940965,
                 34.07483
                ],
                [
                 -118.788889,
                 34.168214
                ],
                [
                 -118.668152,
                 34.168195
                ],
                [
                 -118.633473,
                 34.269626
                ],
                [
                 -118.636789,
                 34.291804
                ],
                [
                 -118.650859,
                 34.320484
                ],
                [
                 -118.796692,
                 34.616559
                ]
               ]
              ]
             ],
             "type": "MultiPolygon"
            },
            "id": "06037",
            "properties": {
             "CENSUSAREA": 4057.884,
             "COUNTY": "037",
             "GEO_ID": "0500000US06037",
             "LSAD": "County",
             "NAME": "Los Angeles",
             "STATE": "06"
            },
            "type": "Feature"
           },
           {
            "geometry": {
             "coordinates": [
              [
               [
                -121.242795,
                38.718241
               ],
               [
                -121.188571,
                38.714308
               ],
               [
                -121.151857,
                38.711502
               ],
               [
                -121.141009,
                38.71198
               ],
               [
                -121.133264,
                38.705427
               ],
               [
                -121.118617,
                38.717118
               ],
               [
                -121.027507,
                38.508292
               ],
               [
                -121.027084,
                38.300252
               ],
               [
                -121.344024,
                38.22826
               ],
               [
                -121.484317,
                38.241509
               ],
               [
                -121.580022,
                38.094414
               ],
               [
                -121.679265,
                38.089319
               ],
               [
                -121.737824,
                38.02663
               ],
               [
                -121.862462,
                38.06603
               ],
               [
                -121.713926,
                38.084542
               ],
               [
                -121.688233,
                38.145421
               ],
               [
                -121.602763,
                38.230219
               ],
               [
                -121.603208,
                38.237283
               ],
               [
                -121.602121,
                38.241674
               ],
               [
                -121.601993,
                38.252426
               ],
               [
                -121.600249,
                38.257817
               ],
               [
                -121.60401,
                38.270103
               ],
               [
                -121.60073,
                38.278375
               ],
               [
                -121.605258,
                38.295352
               ],
               [
                -121.593273,
                38.313089
               ],
               [
                -121.521641,
                38.360104
               ],
               [
                -121.504139,
                38.466563
               ],
               [
                -121.538766,
                38.474707
               ],
               [
                -121.559167,
                38.498007
               ],
               [
                -121.51129,
                38.54629
               ],
               [
                -121.520965,
                38.566205
               ],
               [
                -121.506269,
                38.586305
               ],
               [
                -121.527667,
                38.604604
               ],
               [
                -121.549869,
                38.599405
               ],
               [
                -121.576068,
                38.648604
               ],
               [
                -121.594069,
                38.644106
               ],
               [
                -121.62576,
                38.673133
               ],
               [
                -121.630446,
                38.697571
               ],
               [
                -121.605774,
                38.718319
               ],
               [
                -121.602894,
                38.735838
               ],
               [
                -121.521767,
                38.736401
               ],
               [
                -121.484396,
                38.734598
               ],
               [
                -121.242795,
                38.718241
               ]
              ]
             ],
             "type": "Polygon"
            },
            "id": "06067",
            "properties": {
             "CENSUSAREA": 964.644,
             "COUNTY": "067",
             "GEO_ID": "0500000US06067",
             "LSAD": "County",
             "NAME": "Sacramento",
             "STATE": "06"
            },
            "type": "Feature"
           },
           {
            "geometry": {
             "coordinates": [
              [
               [
                -115.648029,
                35.809629
               ],
               [
                -115.647683,
                35.809358
               ],
               [
                -115.647202,
                35.808995
               ],
               [
                -115.406079,
                35.618613
               ],
               [
                -115.404537,
                35.617605
               ],
               [
                -115.393996,
                35.609344
               ],
               [
                -115.391535,
                35.607271
               ],
               [
                -115.388866,
                35.605171
               ],
               [
                -115.303743,
                35.538207
               ],
               [
                -115.271342,
                35.51266
               ],
               [
                -115.225273,
                35.475907
               ],
               [
                -115.160599,
                35.424313
               ],
               [
                -115.160068,
                35.424129
               ],
               [
                -115.146788,
                35.413662
               ],
               [
                -115.145813,
                35.413182
               ],
               [
                -114.92548,
                35.237054
               ],
               [
                -114.925381,
                35.237039
               ],
               [
                -114.80503,
                35.140284
               ],
               [
                -114.804249,
                35.139689
               ],
               [
                -114.633013,
                35.002085
               ],
               [
                -114.62919,
                34.991887
               ],
               [
                -114.629015,
                34.986148
               ],
               [
                -114.630877,
                34.907263
               ],
               [
                -114.636725,
                34.889107
               ],
               [
                -114.635176,
                34.875003
               ],
               [
                -114.633051,
                34.869971
               ],
               [
                -114.552682,
                34.766871
               ],
               [
                -114.465607,
                34.69226
               ],
               [
                -114.452547,
                34.653494
               ],
               [
                -114.339627,
                34.451435
               ],
               [
                -114.264317,
                34.401329
               ],
               [
                -114.199482,
                34.361373
               ],
               [
                -114.176909,
                34.349306
               ],
               [
                -114.138282,
                34.30323
               ],
               [
                -114.131489,
                34.260387
               ],
               [
                -114.133264,
                34.258462
               ],
               [
                -114.164476,
                34.251667
               ],
               [
                -114.225861,
                34.201774
               ],
               [
                -114.244191,
                34.179625
               ],
               [
                -114.312592,
                34.144453
               ],
               [
                -114.321618,
                34.138093
               ],
               [
                -114.366521,
                34.118575
               ],
               [
                -114.390565,
                34.110084
               ],
               [
                -114.401352,
                34.111652
               ],
               [
                -114.411681,
                34.110031
               ],
               [
                -114.420499,
                34.103466
               ],
               [
                -114.43338,
                34.088413
               ],
               [
                -114.435429,
                34.079727
               ],
               [
                -115.316065,
                34.077843
               ],
               [
                -115.316212,
                34.03411
               ],
               [
                -116.457775,
                34.032881
               ],
               [
                -116.929558,
                34.034113
               ],
               [
                -116.929357,
                34.004914
               ],
               [
                -117.225372,
                34.004314
               ],
               [
                -117.284475,
                34.019015
               ],
               [
                -117.336161,
                34.019378
               ],
               [
                -117.558312,
                34.033451
               ],
               [
                -117.600066,
                33.975316
               ],
               [
                -117.673749,
                33.870831
               ],
               [
                -117.680289,
                33.877412
               ],
               [
                -117.783287,
                33.946411
               ],
               [
                -117.767752,
                34.019429
               ],
               [
                -117.735846,
                34.018554
               ],
               [
                -117.72601,
                34.041128
               ],
               [
                -117.719481,
                34.059731
               ],
               [
                -117.711067,
                34.079536
               ],
               [
                -117.650459,
                34.339025
               ],
               [
                -117.658798,
                34.44058
               ],
               [
                -117.667292,
                34.822526
               ],
               [
                -117.632011,
                34.82227
               ],
               [
                -117.630126,
                35.564071
               ],
               [
                -117.616195,
                35.680856
               ],
               [
                -117.651986,
                35.709934
               ],
               [
                -117.632996,
                35.797251
               ],
               [
                -115.735891,
                35.79362
               ],
               [
                -115.735745,
                35.809097
               ],
               [
                -115.648925,
                35.809128
               ],
               [
                -115.648029,
                35.809629
               ]
              ]
             ],
             "type": "Polygon"
            },
            "id": "06071",
            "properties": {
             "CENSUSAREA": 20056.938,
             "COUNTY": "071",
             "GEO_ID": "0500000US06071",
             "LSAD": "County",
             "NAME": "San Bernardino",
             "STATE": "06"
            },
            "type": "Feature"
           },
           {
            "geometry": {
             "coordinates": [
              [
               [
                [
                 -119.543842,
                 33.280329
                ],
                [
                 -119.532941,
                 33.284728
                ],
                [
                 -119.528141,
                 33.284929
                ],
                [
                 -119.50504,
                 33.272829
                ],
                [
                 -119.48278,
                 33.263973
                ],
                [
                 -119.465717,
                 33.259239
                ],
                [
                 -119.458466,
                 33.254661
                ],
                [
                 -119.429559,
                 33.228167
                ],
                [
                 -119.444269,
                 33.21919
                ],
                [
                 -119.464725,
                 33.215432
                ],
                [
                 -119.476029,
                 33.21552
                ],
                [
                 -119.500684,
                 33.220569
                ],
                [
                 -119.511659,
                 33.223027
                ],
                [
                 -119.517514,
                 33.226737
                ],
                [
                 -119.545872,
                 33.233406
                ],
                [
                 -119.564971,
                 33.24744
                ],
                [
                 -119.565641,
                 33.250029
                ],
                [
                 -119.566014,
                 33.252639
                ],
                [
                 -119.570642,
                 33.257729
                ],
                [
                 -119.578942,
                 33.278628
                ],
                [
                 -119.562042,
                 33.271129
                ],
                [
                 -119.555242,
                 33.273429
                ],
                [
                 -119.547642,
                 33.280328
                ],
                [
                 -119.543842,
                 33.280329
                ]
               ]
              ],
              [
               [
                [
                 -119.422972,
                 34.004368
                ],
                [
                 -119.427589,
                 34.006445
                ],
                [
                 -119.437734,
                 34.01
                ],
                [
                 -119.441116,
                 34.012426
                ],
                [
                 -119.441226,
                 34.014075
                ],
                [
                 -119.433912,
                 34.015975
                ],
                [
                 -119.421376,
                 34.015012
                ],
                [
                 -119.411317,
                 34.008005
                ],
                [
                 -119.396251,
                 34.005918
                ],
                [
                 -119.389983,
                 34.006099
                ],
                [
                 -119.366591,
                 34.016785
                ],
                [
                 -119.357462,
                 34.015919
                ],
                [
                 -119.376396,
                 34.010551
                ],
                [
                 -119.391551,
                 34.002505
                ],
                [
                 -119.414528,
                 34.004994
                ],
                [
                 -119.422972,
                 34.004368
                ]
               ]
              ],
              [
               [
                [
                 -118.881364,
                 34.790629
                ],
                [
                 -118.796692,
                 34.616559
                ],
                [
                 -118.650859,
                 34.320484
                ],
                [
                 -118.636789,
                 34.291804
                ],
                [
                 -118.633473,
                 34.269626
                ],
                [
                 -118.668152,
                 34.168195
                ],
                [
                 -118.788889,
                 34.168214
                ],
                [
                 -118.940965,
                 34.07483
                ],
                [
                 -118.944887,
                 34.04534
                ],
                [
                 -118.954722,
                 34.048167
                ],
                [
                 -118.977751,
                 34.059822
                ],
                [
                 -118.99698,
                 34.065943
                ],
                [
                 -119.004644,
                 34.066231
                ],
                [
                 -119.037494,
                 34.083111
                ],
                [
                 -119.069959,
                 34.09047
                ],
                [
                 -119.088536,
                 34.09831
                ],
                [
                 -119.098216,
                 34.099334
                ],
                [
                 -119.109784,
                 34.094566
                ],
                [
                 -119.130169,
                 34.100102
                ],
                [
                 -119.159554,
                 34.119653
                ],
                [
                 -119.18864,
                 34.139005
                ],
                [
                 -119.20314,
                 34.144505
                ],
                [
                 -119.211241,
                 34.144905
                ],
                [
                 -119.216441,
                 34.146105
                ],
                [
                 -119.227743,
                 34.161728
                ],
                [
                 -119.237142,
                 34.175804
                ],
                [
                 -119.257043,
                 34.213304
                ],
                [
                 -119.265927,
                 34.234609
                ],
                [
                 -119.270144,
                 34.252903
                ],
                [
                 -119.278644,
                 34.266902
                ],
                [
                 -119.290945,
                 34.274902
                ],
                [
                 -119.302131,
                 34.272761
                ],
                [
                 -119.313034,
                 34.275689
                ],
                [
                 -119.337475,
                 34.290576
                ],
                [
                 -119.349187,
                 34.304383
                ],
                [
                 -119.370356,
                 34.319486
                ],
                [
                 -119.37578,
                 34.321118
                ],
                [
                 -119.388249,
                 34.317398
                ],
                [
                 -119.390449,
                 34.318198
                ],
                [
                 -119.42777,
                 34.353016
                ],
                [
                 -119.431066,
                 34.355297
                ],
                [
                 -119.435888,
                 34.355839
                ],
                [
                 -119.461036,
                 34.374064
                ],
                [
                 -119.472678,
                 34.375628
                ],
                [
                 -119.478265,
                 34.377197
                ],
                [
                 -119.473793,
                 34.379115
                ],
                [
                 -119.472481,
                 34.38383
                ],
                [
                 -119.454101,
                 34.395568
                ],
                [
                 -119.445411,
                 34.408881
                ],
                [
                 -119.454277,
                 34.418166
                ],
                [
                 -119.453423,
                 34.42861
                ],
                [
                 -119.444717,
                 34.42951
                ],
                [
                 -119.440414,
                 34.441842
                ],
                [
                 -119.442278,
                 34.465509
                ],
                [
                 -119.442352,
                 34.901274
                ],
                [
                 -119.276946,
                 34.879675
                ],
                [
                 -119.243645,
                 34.814178
                ],
                [
                 -118.976721,
                 34.812199
                ],
                [
                 -118.881364,
                 34.790629
                ]
               ]
              ]
             ],
             "type": "MultiPolygon"
            },
            "id": "06111",
            "properties": {
             "CENSUSAREA": 1843.133,
             "COUNTY": "111",
             "GEO_ID": "0500000US06111",
             "LSAD": "County",
             "NAME": "Ventura",
             "STATE": "06"
            },
            "type": "Feature"
           },
           {
            "geometry": {
             "coordinates": [
              [
               [
                -121.855762,
                37.484537
               ],
               [
                -122.045271,
                37.460276
               ],
               [
                -122.052648,
                37.459656
               ],
               [
                -122.081473,
                37.477838
               ],
               [
                -122.109574,
                37.497637
               ],
               [
                -122.116112,
                37.505386
               ],
               [
                -122.111344,
                37.50758
               ],
               [
                -122.111998,
                37.528851
               ],
               [
                -122.128688,
                37.560594
               ],
               [
                -122.133924,
                37.562885
               ],
               [
                -122.137524,
                37.567467
               ],
               [
                -122.144396,
                37.581866
               ],
               [
                -122.147014,
                37.588411
               ],
               [
                -122.145378,
                37.600846
               ],
               [
                -122.14636,
                37.607391
               ],
               [
                -122.152905,
                37.640771
               ],
               [
                -122.163049,
                37.667933
               ],
               [
                -122.170904,
                37.676114
               ],
               [
                -122.179085,
                37.680041
               ],
               [
                -122.197411,
                37.692804
               ],
               [
                -122.203971,
                37.697769
               ],
               [
                -122.213774,
                37.698695
               ],
               [
                -122.221628,
                37.705567
               ],
               [
                -122.246826,
                37.72193
               ],
               [
                -122.255989,
                37.735674
               ],
               [
                -122.257953,
                37.739601
               ],
               [
                -122.257134,
                37.745001
               ],
               [
                -122.252226,
                37.747619
               ],
               [
                -122.244938,
                37.750294
               ],
               [
                -122.242638,
                37.753744
               ],
               [
                -122.253753,
                37.761218
               ],
               [
                -122.264101,
                37.764667
               ],
               [
                -122.275408,
                37.76735
               ],
               [
                -122.286139,
                37.769458
               ],
               [
                -122.293996,
                37.770416
               ],
               [
                -122.304345,
                37.774632
               ],
               [
                -122.318909,
                37.77904
               ],
               [
                -122.329159,
                37.783173
               ],
               [
                -122.33079,
                37.78383
               ],
               [
                -122.330963,
                37.786035
               ],
               [
                -122.331748,
                37.796052
               ],
               [
                -122.33555,
                37.799538
               ],
               [
                -122.335675,
                37.799652
               ],
               [
                -122.333711,
                37.809797
               ],
               [
                -122.323567,
                37.823214
               ],
               [
                -122.317676,
                37.826814
               ],
               [
                -122.306222,
                37.827469
               ],
               [
                -122.303931,
                37.830087
               ],
               [
                -122.301313,
                37.847758
               ],
               [
                -122.310477,
                37.873938
               ],
               [
                -122.309986,
                37.892755
               ],
               [
                -122.313258,
                37.89701
               ],
               [
                -122.313496,
                37.897211
               ],
               [
                -122.310881,
                37.897825
               ],
               [
                -122.30618,
                37.898225
               ],
               [
                -122.185977,
                37.820726
               ],
               [
                -122.004228,
                37.770058
               ],
               [
                -122.010771,
                37.755127
               ],
               [
                -122.001071,
                37.739028
               ],
               [
                -121.977999,
                37.729579
               ],
               [
                -121.96077,
                37.718629
               ],
               [
                -121.910138,
                37.73046
               ],
               [
                -121.881567,
                37.737328
               ],
               [
                -121.623724,
                37.799291
               ],
               [
                -121.55916,
                37.818927
               ],
               [
                -121.556936,
                37.817218
               ],
               [
                -121.556655,
                37.542732
               ],
               [
                -121.471925,
                37.481783
               ],
               [
                -121.472648,
                37.48217
               ],
               [
                -121.855762,
                37.484537
               ]
              ]
             ],
             "type": "Polygon"
            },
            "id": "06001",
            "properties": {
             "CENSUSAREA": 739.017,
             "COUNTY": "001",
             "GEO_ID": "0500000US06001",
             "LSAD": "County",
             "NAME": "Alameda",
             "STATE": "06"
            },
            "type": "Feature"
           },
           {
            "geometry": {
             "coordinates": [
              [
               [
                -120.194146,
                35.789204
               ],
               [
                -120.194053,
                35.749964
               ],
               [
                -120.193934,
                35.749393
               ],
               [
                -120.193892,
                35.726513
               ],
               [
                -120.193918,
                35.614359
               ],
               [
                -120.085922,
                35.614524
               ],
               [
                -120.086674,
                35.526554
               ],
               [
                -119.997382,
                35.468702
               ],
               [
                -119.997392,
                35.439495
               ],
               [
                -119.880045,
                35.439133
               ],
               [
                -119.880172,
                35.351211
               ],
               [
                -119.809346,
                35.350865
               ],
               [
                -119.809449,
                35.263584
               ],
               [
                -119.666663,
                35.262527
               ],
               [
                -119.667056,
                35.174809
               ],
               [
                -119.553641,
                35.179975
               ],
               [
                -119.560975,
                35.087673
               ],
               [
                -119.472719,
                35.076885
               ],
               [
                -119.472754,
                34.901174
               ],
               [
                -119.535757,
                34.897576
               ],
               [
                -119.672963,
                34.973375
               ],
               [
                -119.745566,
                34.973676
               ],
               [
                -119.928419,
                35.059794
               ],
               [
                -119.980122,
                35.057573
               ],
               [
                -120.093376,
                35.114102
               ],
               [
                -120.188383,
                35.030378
               ],
               [
                -120.334548,
                35.006315
               ],
               [
                -120.311498,
                34.903764
               ],
               [
                -120.355343,
                34.941265
               ],
               [
                -120.513924,
                34.989276
               ],
               [
                -120.648905,
                34.974393
               ],
               [
                -120.63999,
                35.002963
               ],
               [
                -120.63357,
                35.033085
               ],
               [
                -120.629931,
                35.061515
               ],
               [
                -120.629583,
                35.078362
               ],
               [
                -120.630957,
                35.101941
               ],
               [
                -120.635787,
                35.123805
               ],
               [
                -120.644311,
                35.139616
               ],
               [
                -120.651134,
                35.147768
               ],
               [
                -120.662475,
                35.153357
               ],
               [
                -120.667994,
                35.15203
               ],
               [
                -120.675074,
                35.153061
               ],
               [
                -120.686974,
                35.160708
               ],
               [
                -120.698906,
                35.171192
               ],
               [
                -120.704203,
                35.173206
               ],
               [
                -120.714185,
                35.175998
               ],
               [
                -120.734231,
                35.178472
               ],
               [
                -120.74887,
                35.177795
               ],
               [
                -120.754823,
                35.174701
               ],
               [
                -120.756862,
                35.169208
               ],
               [
                -120.756086,
                35.160459
               ],
               [
                -120.760492,
                35.15971
               ],
               [
                -120.778998,
                35.168897
               ],
               [
                -120.786076,
                35.177666
               ],
               [
                -120.805258,
                35.184973
               ],
               [
                -120.846674,
                35.204429
               ],
               [
                -120.856047,
                35.206487
               ],
               [
                -120.873046,
                35.225688
               ],
               [
                -120.89679,
                35.247877
               ],
               [
                -120.896876,
                35.25399
               ],
               [
                -120.889354,
                35.277819
               ],
               [
                -120.87957,
                35.294184
               ],
               [
                -120.8672,
                35.327154
               ],
               [
                -120.862684,
                35.346776
               ],
               [
                -120.862133,
                35.360763
               ],
               [
                -120.866099,
                35.393045
               ],
               [
                -120.869209,
                35.403276
               ],
               [
                -120.884757,
                35.430196
               ],
               [
                -120.896862,
                35.442243
               ],
               [
                -120.907937,
                35.449069
               ],
               [
                -120.946546,
                35.446715
               ],
               [
                -120.950742,
                35.44802
               ],
               [
                -120.955863,
                35.453743
               ],
               [
                -120.969436,
                35.460197
               ],
               [
                -120.976122,
                35.459028
               ],
               [
                -121.003359,
                35.46071
               ],
               [
                -121.025621,
                35.484598
               ],
               [
                -121.05308,
                35.50753
               ],
               [
                -121.059913,
                35.509671
               ],
               [
                -121.101595,
                35.548814
               ],
               [
                -121.126027,
                35.593058
               ],
               [
                -121.133556,
                35.600455
               ],
               [
                -121.143561,
                35.606046
               ],
               [
                -121.166712,
                35.635399
               ],
               [
                -121.188897,
                35.643138
               ],
               [
                -121.195291,
                35.640734
               ],
               [
                -121.251034,
                35.656641
               ],
               [
                -121.272322,
                35.666711
               ],
               [
                -121.284973,
                35.674109
               ],
               [
                -121.289794,
                35.689428
               ],
               [
                -121.296473,
                35.696824
               ],
               [
                -121.304583,
                35.701794
               ],
               [
                -121.314632,
                35.71331
               ],
               [
                -121.315786,
                35.75252
               ],
               [
                -121.324918,
                35.769347
               ],
               [
                -121.332449,
                35.783106
               ],
               [
                -121.346363,
                35.795183
               ],
               [
                -121.175695,
                35.794102
               ],
               [
                -120.213979,
                35.789276
               ],
               [
                -120.194146,
                35.789204
               ]
              ]
             ],
             "type": "Polygon"
            },
            "id": "06079",
            "properties": {
             "CENSUSAREA": 3298.567,
             "COUNTY": "079",
             "GEO_ID": "0500000US06079",
             "LSAD": "County",
             "NAME": "San Luis Obispo",
             "STATE": "06"
            },
            "type": "Feature"
           },
           {
            "geometry": {
             "coordinates": [
              [
               [
                -122.289533,
                42.007764
               ],
               [
                -122.289527,
                42.007764
               ],
               [
                -122.161328,
                42.007637
               ],
               [
                -122.160438,
                42.007637
               ],
               [
                -122.156666,
                42.007384
               ],
               [
                -122.155408,
                42.007429
               ],
               [
                -122.001119,
                42.004017
               ],
               [
                -121.708199,
                42.000815
               ],
               [
                -121.705045,
                42.000766
               ],
               [
                -121.689159,
                42.000584
               ],
               [
                -121.675348,
                42.000351
               ],
               [
                -121.580865,
                41.998668
               ],
               [
                -121.52025,
                41.997983
               ],
               [
                -121.44754,
                41.997169
               ],
               [
                -121.446495,
                41.183484
               ],
               [
                -122.376123,
                41.182904
               ],
               [
                -122.498376,
                41.182675
               ],
               [
                -122.522636,
                41.213525
               ],
               [
                -122.50389,
                41.342985
               ],
               [
                -122.585241,
                41.359008
               ],
               [
                -122.653686,
                41.289237
               ],
               [
                -122.811342,
                41.202451
               ],
               [
                -122.961347,
                41.181525
               ],
               [
                -122.966949,
                41.08205
               ],
               [
                -122.897411,
                41.028475
               ],
               [
                -122.917529,
                40.99399
               ],
               [
                -123.036808,
                41.004058
               ],
               [
                -123.141338,
                41.079178
               ],
               [
                -123.23948,
                41.075763
               ],
               [
                -123.273402,
                41.122891
               ],
               [
                -123.408291,
                41.179944
               ],
               [
                -123.474085,
                41.366193
               ],
               [
                -123.661363,
                41.38209
               ],
               [
                -123.612395,
                41.448954
               ],
               [
                -123.719089,
                41.595258
               ],
               [
                -123.660205,
                41.714055
               ],
               [
                -123.703768,
                41.829117
               ],
               [
                -123.642812,
                41.889353
               ],
               [
                -123.565442,
                41.903141
               ],
               [
                -123.518075,
                42.000436
               ],
               [
                -123.501997,
                42.000527
               ],
               [
                -123.498896,
                42.000474
               ],
               [
                -123.49883,
                42.000525
               ],
               [
                -123.347562,
                41.999108
               ],
               [
                -123.230764,
                42.003845
               ],
               [
                -123.230762,
                42.003845
               ],
               [
                -123.154908,
                42.008036
               ],
               [
                -123.045254,
                42.003049
               ],
               [
                -123.001152,
                42.003
               ],
               [
                -122.634739,
                42.004858
               ],
               [
                -122.501135,
                42.00846
               ],
               [
                -122.378193,
                42.009518
               ],
               [
                -122.289533,
                42.007764
               ]
              ]
             ],
             "type": "Polygon"
            },
            "id": "06093",
            "properties": {
             "CENSUSAREA": 6277.887,
             "COUNTY": "093",
             "GEO_ID": "0500000US06093",
             "LSAD": "County",
             "NAME": "Siskiyou",
             "STATE": "06"
            },
            "type": "Feature"
           },
           {
            "geometry": {
             "coordinates": [
              [
               [
                -123.26871,
                38.808369
               ],
               [
                -123.136253,
                38.809136
               ],
               [
                -123.080997,
                38.852438
               ],
               [
                -122.821592,
                38.85014
               ],
               [
                -122.627396,
                38.667506
               ],
               [
                -122.646268,
                38.59912
               ],
               [
                -122.543893,
                38.519966
               ],
               [
                -122.378987,
                38.250714
               ],
               [
                -122.406786,
                38.155632
               ],
               [
                -122.406978,
                38.155663
               ],
               [
                -122.403514,
                38.150624
               ],
               [
                -122.40358,
                38.15063
               ],
               [
                -122.409798,
                38.136231
               ],
               [
                -122.439577,
                38.116923
               ],
               [
                -122.450377,
                38.116269
               ],
               [
                -122.454958,
                38.118887
               ],
               [
                -122.484411,
                38.11496
               ],
               [
                -122.489974,
                38.112014
               ],
               [
                -122.490727,
                38.109755
               ],
               [
                -122.565093,
                38.182217
               ],
               [
                -122.648986,
                38.181077
               ],
               [
                -122.7399,
                38.207018
               ],
               [
                -122.901726,
                38.316943
               ],
               [
                -123.002911,
                38.295708
               ],
               [
                -123.004122,
                38.297012
               ],
               [
                -123.024333,
                38.310573
               ],
               [
                -123.038742,
                38.313576
               ],
               [
                -123.051061,
                38.310693
               ],
               [
                -123.053476,
                38.305722
               ],
               [
                -123.052021,
                38.302246
               ],
               [
                -123.053504,
                38.299385
               ],
               [
                -123.058239,
                38.298355
               ],
               [
                -123.063671,
                38.302178
               ],
               [
                -123.074684,
                38.322574
               ],
               [
                -123.068437,
                38.33521
               ],
               [
                -123.068265,
                38.359865
               ],
               [
                -123.085572,
                38.390525
               ],
               [
                -123.103706,
                38.415541
               ],
               [
                -123.122379,
                38.437314
               ],
               [
                -123.128825,
                38.450418
               ],
               [
                -123.145325,
                38.459422
               ],
               [
                -123.166428,
                38.474947
               ],
               [
                -123.202277,
                38.494314
               ],
               [
                -123.249797,
                38.511045
               ],
               [
                -123.287156,
                38.540223
               ],
               [
                -123.297151,
                38.543452
               ],
               [
                -123.331899,
                38.565542
               ],
               [
                -123.343338,
                38.590008
               ],
               [
                -123.349612,
                38.596805
               ],
               [
                -123.371876,
                38.607235
               ],
               [
                -123.379303,
                38.621953
               ],
               [
                -123.398166,
                38.647044
               ],
               [
                -123.40301,
                38.649449
               ],
               [
                -123.405663,
                38.656729
               ],
               [
                -123.43272,
                38.687131
               ],
               [
                -123.441774,
                38.699744
               ],
               [
                -123.461291,
                38.717001
               ],
               [
                -123.490021,
                38.732213
               ],
               [
                -123.514784,
                38.741966
               ],
               [
                -123.525152,
                38.753801
               ],
               [
                -123.533535,
                38.768408
               ],
               [
                -123.26871,
                38.808369
               ]
              ]
             ],
             "type": "Polygon"
            },
            "id": "06097",
            "properties": {
             "CENSUSAREA": 1575.849,
             "COUNTY": "097",
             "GEO_ID": "0500000US06097",
             "LSAD": "County",
             "NAME": "Sonoma",
             "STATE": "06"
            },
            "type": "Feature"
           },
           {
            "geometry": {
             "coordinates": [
              [
               [
                -123.065426,
                40.286971
               ],
               [
                -122.989015,
                40.250145
               ],
               [
                -122.989623,
                40.145496
               ],
               [
                -122.934013,
                39.978131
               ],
               [
                -123.544563,
                39.977015
               ],
               [
                -123.544458,
                40.001923
               ],
               [
                -123.544059,
                40.739386
               ],
               [
                -123.55985,
                40.829584
               ],
               [
                -123.623826,
                40.929421
               ],
               [
                -123.560163,
                40.950257
               ],
               [
                -123.481457,
                40.914957
               ],
               [
                -123.408291,
                41.179944
               ],
               [
                -123.273402,
                41.122891
               ],
               [
                -123.23948,
                41.075763
               ],
               [
                -123.141338,
                41.079178
               ],
               [
                -123.036808,
                41.004058
               ],
               [
                -122.917529,
                40.99399
               ],
               [
                -122.897411,
                41.028475
               ],
               [
                -122.966949,
                41.08205
               ],
               [
                -122.961347,
                41.181525
               ],
               [
                -122.811342,
                41.202451
               ],
               [
                -122.653686,
                41.289237
               ],
               [
                -122.585241,
                41.359008
               ],
               [
                -122.50389,
                41.342985
               ],
               [
                -122.522636,
                41.213525
               ],
               [
                -122.498376,
                41.182675
               ],
               [
                -122.445453,
                41.15793
               ],
               [
                -122.752266,
                40.689642
               ],
               [
                -122.695298,
                40.572514
               ],
               [
                -122.845954,
                40.505181
               ],
               [
                -122.903738,
                40.445071
               ],
               [
                -122.998682,
                40.418142
               ],
               [
                -123.068789,
                40.332233
               ],
               [
                -123.065426,
                40.286971
               ]
              ]
             ],
             "type": "Polygon"
            },
            "id": "06105",
            "properties": {
             "CENSUSAREA": 3179.254,
             "COUNTY": "105",
             "GEO_ID": "0500000US06105",
             "LSAD": "County",
             "NAME": "Trinity",
             "STATE": "06"
            },
            "type": "Feature"
           },
           {
            "geometry": {
             "coordinates": [
              [
               [
                -121.141009,
                38.71198
               ],
               [
                -121.040406,
                38.915651
               ],
               [
                -120.746395,
                39.010352
               ],
               [
                -120.642458,
                38.944404
               ],
               [
                -120.556321,
                38.915164
               ],
               [
                -120.470985,
                38.965507
               ],
               [
                -120.43524,
                39.028397
               ],
               [
                -120.184098,
                39.031014
               ],
               [
                -120.143663,
                39.067285
               ],
               [
                -120.002461,
                39.067489
               ],
               [
                -120.001014,
                38.999574
               ],
               [
                -119.904315,
                38.933324
               ],
               [
                -119.880303,
                38.864776
               ],
               [
                -120.072392,
                38.702767
               ],
               [
                -120.098322,
                38.709029
               ],
               [
                -120.301721,
                38.549109
               ],
               [
                -120.510596,
                38.511467
               ],
               [
                -120.627604,
                38.503143
               ],
               [
                -120.813554,
                38.562193
               ],
               [
                -121.027507,
                38.508292
               ],
               [
                -121.118617,
                38.717118
               ],
               [
                -121.133264,
                38.705427
               ],
               [
                -121.141009,
                38.71198
               ]
              ]
             ],
             "type": "Polygon"
            },
            "id": "06017",
            "properties": {
             "CENSUSAREA": 1707.883,
             "COUNTY": "017",
             "GEO_ID": "0500000US06017",
             "LSAD": "County",
             "NAME": "El Dorado",
             "STATE": "06"
            },
            "type": "Feature"
           },
           {
            "geometry": {
             "coordinates": [
              [
               [
                -121.654038,
                36.950584
               ],
               [
                -121.7576,
                37.04963
               ],
               [
                -122.015966,
                37.165658
               ],
               [
                -122.152278,
                37.286055
               ],
               [
                -122.190402,
                37.431472
               ],
               [
                -122.081473,
                37.477838
               ],
               [
                -122.052648,
                37.459656
               ],
               [
                -122.045271,
                37.460276
               ],
               [
                -121.855762,
                37.484537
               ],
               [
                -121.472648,
                37.48217
               ],
               [
                -121.405753,
                37.31099
               ],
               [
                -121.459051,
                37.282739
               ],
               [
                -121.404636,
                37.155989
               ],
               [
                -121.282271,
                37.183675
               ],
               [
                -121.226804,
                37.134774
               ],
               [
                -121.215406,
                36.961248
               ],
               [
                -121.501488,
                36.971895
               ],
               [
                -121.581354,
                36.899152
               ],
               [
                -121.654038,
                36.950584
               ]
              ]
             ],
             "type": "Polygon"
            },
            "id": "06085",
            "properties": {
             "CENSUSAREA": 1290.1,
             "COUNTY": "085",
             "GEO_ID": "0500000US06085",
             "LSAD": "County",
             "NAME": "Santa Clara",
             "STATE": "06"
            },
            "type": "Feature"
           }
          ],
          "type": "FeatureCollection"
         },
         "locations": [
          "San Diego",
          "Santa Barbara",
          "Lassen",
          "Del Norte",
          "Modoc",
          "Tuolumne",
          "San Benito",
          "Shasta",
          "El Dorado",
          "San Francisco",
          "Merced",
          "Kings",
          "Sierra",
          "Mono",
          "Glenn",
          "Kern",
          "San Mateo",
          "Yuba",
          "Fresno",
          "Orange",
          "Siskiyou",
          "Santa Clara",
          "Imperial",
          "Humboldt",
          "Los Angeles",
          "Calaveras",
          "Nevada",
          "Napa",
          "Alpine",
          "Sutter",
          "Madera",
          "Solano",
          "Plumas",
          "Contra Costa",
          "Amador",
          "Colusa",
          "Ventura",
          "San Bernardino",
          "Riverside",
          "San Luis Obispo",
          "San Joaquin",
          "Monterey",
          "Tehama",
          "Stanislaus",
          "Mariposa",
          "Alameda",
          "Yolo",
          "Marin",
          "Mendocino",
          "Sonoma",
          "Placer",
          "Sacramento",
          "Santa Cruz",
          "Lake",
          "Inyo",
          "Tulare",
          "Trinity"
         ],
         "marker": {
          "line": {
           "color": "black",
           "width": 0.2
          },
          "opacity": 1
         },
         "showlegend": false,
         "showscale": true,
         "subplot": "mapbox",
         "type": "choroplethmapbox",
         "z": [
          0.5308953341740227,
          0.5075481147599628,
          0.5024937655860349,
          0.5012394645513139,
          0.49213055878314144,
          0.483858570330515,
          0.47503761455341265,
          0.46620171673819744,
          0.4658792650918635,
          0.4621011673151751,
          0.457931493182574,
          0.4508726567550097,
          0.4474845542806708,
          0.44545454545454544,
          0.443994260150249,
          0.4428973766652954,
          0.4417812539422228,
          0.441606648199446,
          0.43876395900260057,
          0.43822472170686455,
          0.43445015987765884,
          0.43429403808136513,
          0.43187428502619063,
          0.4316831683168317,
          0.43164649500446756,
          0.4291650405197548,
          0.4278390554606183,
          0.4254185692541857,
          0.42402968608966,
          0.4190007867820614,
          0.41878172588832485,
          0.418446301454658,
          0.4167913549459684,
          0.4140900195694716,
          0.4128160171935977,
          0.4063083240014931,
          0.40560687084751257,
          0.4,
          0.3993374108053007,
          0.39010543390105434,
          0.382259767687434,
          0.38012592163035375,
          0.3790123456790123,
          0.3774949378073474,
          0.3766462942239821,
          0.37575452716297786,
          0.36907698299363884,
          0.35629370629370627,
          0.35050055617352616,
          0.34993270524899056,
          0.34782608695652173,
          0.3401280447420708,
          0.32973112719751807,
          0.3289296445964149,
          0.3124006359300477,
          0.2824519230769231,
          0.22162162162162163
         ]
        },
        {
         "cells": {
          "align": "center",
          "font": {
           "color": "black",
           "size": 13
          },
          "height": 30,
          "line": {
           "color": "rgb(150,150,150)"
          },
          "values": [
           [
            "San Diego",
            "Santa Barbara",
            "Lassen",
            "Del Norte",
            "Modoc",
            "Tuolumne",
            "San Benito",
            "Shasta",
            "El Dorado",
            "San Francisco",
            "Merced",
            "Kings",
            "Sierra",
            "Mono",
            "Glenn",
            "Kern",
            "San Mateo",
            "Yuba",
            "Fresno",
            "Orange",
            "Siskiyou",
            "Santa Clara",
            "Imperial",
            "Humboldt",
            "Los Angeles",
            "Calaveras",
            "Nevada",
            "Napa",
            "Alpine",
            "Sutter",
            "Madera",
            "Solano",
            "Plumas",
            "Contra Costa",
            "Amador",
            "Colusa",
            "Ventura",
            "San Bernardino",
            "Riverside",
            "San Luis Obispo",
            "San Joaquin",
            "Monterey",
            "Tehama",
            "Stanislaus",
            "Mariposa",
            "Alameda",
            "Yolo",
            "Marin",
            "Mendocino",
            "Sonoma",
            "Placer",
            "Sacramento",
            "Santa Cruz",
            "Lake",
            "Inyo",
            "Tulare",
            "Trinity"
           ],
           [
            0.531,
            0.508,
            0.502,
            0.501,
            0.492,
            0.484,
            0.475,
            0.466,
            0.466,
            0.462,
            0.458,
            0.451,
            0.447,
            0.445,
            0.444,
            0.443,
            0.442,
            0.442,
            0.439,
            0.438,
            0.434,
            0.434,
            0.432,
            0.432,
            0.432,
            0.429,
            0.428,
            0.425,
            0.424,
            0.419,
            0.419,
            0.418,
            0.417,
            0.414,
            0.413,
            0.406,
            0.406,
            0.4,
            0.399,
            0.39,
            0.382,
            0.38,
            0.379,
            0.377,
            0.377,
            0.376,
            0.369,
            0.356,
            0.351,
            0.35,
            0.348,
            0.34,
            0.33,
            0.329,
            0.312,
            0.282,
            0.222
           ],
           [
            0.004,
            0.023,
            0.004,
            0.003,
            0.016,
            0.004,
            0.012,
            0.006,
            0.003,
            0.021,
            0.02,
            0.005,
            0.006,
            0.005,
            0.059,
            0.052,
            0.013,
            0.03,
            0.054,
            0.057,
            0.012,
            0.016,
            0.027,
            0.002,
            0.02,
            0.072,
            0.011,
            0.004,
            0.016,
            0.042,
            0.023,
            0.005,
            0.01,
            0.013,
            0.029,
            0.009,
            0.041,
            0,
            0.006,
            0.006,
            0.002,
            0.04,
            0.001,
            0.006,
            0.038,
            0.007,
            0.013,
            0.014,
            0.015,
            0.004,
            0,
            0.022,
            0.032,
            0.032,
            0.012,
            0.003,
            0
           ]
          ]
         },
         "columnorder": [
          1,
          2,
          3,
          4,
          5
         ],
         "columnwidth": [
          1,
          1,
          1,
          1,
          1
         ],
         "domain": {
          "x": [
           0,
           1
          ],
          "y": [
           0,
           0.485
          ]
         },
         "header": {
          "fill": {
           "color": "rgb(185, 152, 221)"
          },
          "font": {
           "color": "white",
           "size": 15
          },
          "height": 35,
          "line": {
           "color": "rgb(150,150,150)"
          },
          "values": [
           "county",
           "tip",
           "orders"
          ]
         },
         "type": "table"
        }
       ],
       "layout": {
        "height": 700,
        "mapbox": {
         "center": {
          "lat": 37,
          "lon": -120
         },
         "domain": {
          "x": [
           0,
           1
          ],
          "y": [
           0.515,
           1
          ]
         },
         "style": "carto-positron",
         "zoom": 5.1
        },
        "margin": {
         "b": 0,
         "l": 0,
         "r": 0,
         "t": 0
        },
        "template": {
         "data": {
          "bar": [
           {
            "error_x": {
             "color": "#2a3f5f"
            },
            "error_y": {
             "color": "#2a3f5f"
            },
            "marker": {
             "line": {
              "color": "#E5ECF6",
              "width": 0.5
             },
             "pattern": {
              "fillmode": "overlay",
              "size": 10,
              "solidity": 0.2
             }
            },
            "type": "bar"
           }
          ],
          "barpolar": [
           {
            "marker": {
             "line": {
              "color": "#E5ECF6",
              "width": 0.5
             },
             "pattern": {
              "fillmode": "overlay",
              "size": 10,
              "solidity": 0.2
             }
            },
            "type": "barpolar"
           }
          ],
          "carpet": [
           {
            "aaxis": {
             "endlinecolor": "#2a3f5f",
             "gridcolor": "white",
             "linecolor": "white",
             "minorgridcolor": "white",
             "startlinecolor": "#2a3f5f"
            },
            "baxis": {
             "endlinecolor": "#2a3f5f",
             "gridcolor": "white",
             "linecolor": "white",
             "minorgridcolor": "white",
             "startlinecolor": "#2a3f5f"
            },
            "type": "carpet"
           }
          ],
          "choropleth": [
           {
            "colorbar": {
             "outlinewidth": 0,
             "ticks": ""
            },
            "type": "choropleth"
           }
          ],
          "contour": [
           {
            "colorbar": {
             "outlinewidth": 0,
             "ticks": ""
            },
            "colorscale": [
             [
              0,
              "#0d0887"
             ],
             [
              0.1111111111111111,
              "#46039f"
             ],
             [
              0.2222222222222222,
              "#7201a8"
             ],
             [
              0.3333333333333333,
              "#9c179e"
             ],
             [
              0.4444444444444444,
              "#bd3786"
             ],
             [
              0.5555555555555556,
              "#d8576b"
             ],
             [
              0.6666666666666666,
              "#ed7953"
             ],
             [
              0.7777777777777778,
              "#fb9f3a"
             ],
             [
              0.8888888888888888,
              "#fdca26"
             ],
             [
              1,
              "#f0f921"
             ]
            ],
            "type": "contour"
           }
          ],
          "contourcarpet": [
           {
            "colorbar": {
             "outlinewidth": 0,
             "ticks": ""
            },
            "type": "contourcarpet"
           }
          ],
          "heatmap": [
           {
            "colorbar": {
             "outlinewidth": 0,
             "ticks": ""
            },
            "colorscale": [
             [
              0,
              "#0d0887"
             ],
             [
              0.1111111111111111,
              "#46039f"
             ],
             [
              0.2222222222222222,
              "#7201a8"
             ],
             [
              0.3333333333333333,
              "#9c179e"
             ],
             [
              0.4444444444444444,
              "#bd3786"
             ],
             [
              0.5555555555555556,
              "#d8576b"
             ],
             [
              0.6666666666666666,
              "#ed7953"
             ],
             [
              0.7777777777777778,
              "#fb9f3a"
             ],
             [
              0.8888888888888888,
              "#fdca26"
             ],
             [
              1,
              "#f0f921"
             ]
            ],
            "type": "heatmap"
           }
          ],
          "heatmapgl": [
           {
            "colorbar": {
             "outlinewidth": 0,
             "ticks": ""
            },
            "colorscale": [
             [
              0,
              "#0d0887"
             ],
             [
              0.1111111111111111,
              "#46039f"
             ],
             [
              0.2222222222222222,
              "#7201a8"
             ],
             [
              0.3333333333333333,
              "#9c179e"
             ],
             [
              0.4444444444444444,
              "#bd3786"
             ],
             [
              0.5555555555555556,
              "#d8576b"
             ],
             [
              0.6666666666666666,
              "#ed7953"
             ],
             [
              0.7777777777777778,
              "#fb9f3a"
             ],
             [
              0.8888888888888888,
              "#fdca26"
             ],
             [
              1,
              "#f0f921"
             ]
            ],
            "type": "heatmapgl"
           }
          ],
          "histogram": [
           {
            "marker": {
             "pattern": {
              "fillmode": "overlay",
              "size": 10,
              "solidity": 0.2
             }
            },
            "type": "histogram"
           }
          ],
          "histogram2d": [
           {
            "colorbar": {
             "outlinewidth": 0,
             "ticks": ""
            },
            "colorscale": [
             [
              0,
              "#0d0887"
             ],
             [
              0.1111111111111111,
              "#46039f"
             ],
             [
              0.2222222222222222,
              "#7201a8"
             ],
             [
              0.3333333333333333,
              "#9c179e"
             ],
             [
              0.4444444444444444,
              "#bd3786"
             ],
             [
              0.5555555555555556,
              "#d8576b"
             ],
             [
              0.6666666666666666,
              "#ed7953"
             ],
             [
              0.7777777777777778,
              "#fb9f3a"
             ],
             [
              0.8888888888888888,
              "#fdca26"
             ],
             [
              1,
              "#f0f921"
             ]
            ],
            "type": "histogram2d"
           }
          ],
          "histogram2dcontour": [
           {
            "colorbar": {
             "outlinewidth": 0,
             "ticks": ""
            },
            "colorscale": [
             [
              0,
              "#0d0887"
             ],
             [
              0.1111111111111111,
              "#46039f"
             ],
             [
              0.2222222222222222,
              "#7201a8"
             ],
             [
              0.3333333333333333,
              "#9c179e"
             ],
             [
              0.4444444444444444,
              "#bd3786"
             ],
             [
              0.5555555555555556,
              "#d8576b"
             ],
             [
              0.6666666666666666,
              "#ed7953"
             ],
             [
              0.7777777777777778,
              "#fb9f3a"
             ],
             [
              0.8888888888888888,
              "#fdca26"
             ],
             [
              1,
              "#f0f921"
             ]
            ],
            "type": "histogram2dcontour"
           }
          ],
          "mesh3d": [
           {
            "colorbar": {
             "outlinewidth": 0,
             "ticks": ""
            },
            "type": "mesh3d"
           }
          ],
          "parcoords": [
           {
            "line": {
             "colorbar": {
              "outlinewidth": 0,
              "ticks": ""
             }
            },
            "type": "parcoords"
           }
          ],
          "pie": [
           {
            "automargin": true,
            "type": "pie"
           }
          ],
          "scatter": [
           {
            "fillpattern": {
             "fillmode": "overlay",
             "size": 10,
             "solidity": 0.2
            },
            "type": "scatter"
           }
          ],
          "scatter3d": [
           {
            "line": {
             "colorbar": {
              "outlinewidth": 0,
              "ticks": ""
             }
            },
            "marker": {
             "colorbar": {
              "outlinewidth": 0,
              "ticks": ""
             }
            },
            "type": "scatter3d"
           }
          ],
          "scattercarpet": [
           {
            "marker": {
             "colorbar": {
              "outlinewidth": 0,
              "ticks": ""
             }
            },
            "type": "scattercarpet"
           }
          ],
          "scattergeo": [
           {
            "marker": {
             "colorbar": {
              "outlinewidth": 0,
              "ticks": ""
             }
            },
            "type": "scattergeo"
           }
          ],
          "scattergl": [
           {
            "marker": {
             "colorbar": {
              "outlinewidth": 0,
              "ticks": ""
             }
            },
            "type": "scattergl"
           }
          ],
          "scattermapbox": [
           {
            "marker": {
             "colorbar": {
              "outlinewidth": 0,
              "ticks": ""
             }
            },
            "type": "scattermapbox"
           }
          ],
          "scatterpolar": [
           {
            "marker": {
             "colorbar": {
              "outlinewidth": 0,
              "ticks": ""
             }
            },
            "type": "scatterpolar"
           }
          ],
          "scatterpolargl": [
           {
            "marker": {
             "colorbar": {
              "outlinewidth": 0,
              "ticks": ""
             }
            },
            "type": "scatterpolargl"
           }
          ],
          "scatterternary": [
           {
            "marker": {
             "colorbar": {
              "outlinewidth": 0,
              "ticks": ""
             }
            },
            "type": "scatterternary"
           }
          ],
          "surface": [
           {
            "colorbar": {
             "outlinewidth": 0,
             "ticks": ""
            },
            "colorscale": [
             [
              0,
              "#0d0887"
             ],
             [
              0.1111111111111111,
              "#46039f"
             ],
             [
              0.2222222222222222,
              "#7201a8"
             ],
             [
              0.3333333333333333,
              "#9c179e"
             ],
             [
              0.4444444444444444,
              "#bd3786"
             ],
             [
              0.5555555555555556,
              "#d8576b"
             ],
             [
              0.6666666666666666,
              "#ed7953"
             ],
             [
              0.7777777777777778,
              "#fb9f3a"
             ],
             [
              0.8888888888888888,
              "#fdca26"
             ],
             [
              1,
              "#f0f921"
             ]
            ],
            "type": "surface"
           }
          ],
          "table": [
           {
            "cells": {
             "fill": {
              "color": "#EBF0F8"
             },
             "line": {
              "color": "white"
             }
            },
            "header": {
             "fill": {
              "color": "#C8D4E3"
             },
             "line": {
              "color": "white"
             }
            },
            "type": "table"
           }
          ]
         },
         "layout": {
          "annotationdefaults": {
           "arrowcolor": "#2a3f5f",
           "arrowhead": 0,
           "arrowwidth": 1
          },
          "autotypenumbers": "strict",
          "coloraxis": {
           "colorbar": {
            "outlinewidth": 0,
            "ticks": ""
           }
          },
          "colorscale": {
           "diverging": [
            [
             0,
             "#8e0152"
            ],
            [
             0.1,
             "#c51b7d"
            ],
            [
             0.2,
             "#de77ae"
            ],
            [
             0.3,
             "#f1b6da"
            ],
            [
             0.4,
             "#fde0ef"
            ],
            [
             0.5,
             "#f7f7f7"
            ],
            [
             0.6,
             "#e6f5d0"
            ],
            [
             0.7,
             "#b8e186"
            ],
            [
             0.8,
             "#7fbc41"
            ],
            [
             0.9,
             "#4d9221"
            ],
            [
             1,
             "#276419"
            ]
           ],
           "sequential": [
            [
             0,
             "#0d0887"
            ],
            [
             0.1111111111111111,
             "#46039f"
            ],
            [
             0.2222222222222222,
             "#7201a8"
            ],
            [
             0.3333333333333333,
             "#9c179e"
            ],
            [
             0.4444444444444444,
             "#bd3786"
            ],
            [
             0.5555555555555556,
             "#d8576b"
            ],
            [
             0.6666666666666666,
             "#ed7953"
            ],
            [
             0.7777777777777778,
             "#fb9f3a"
            ],
            [
             0.8888888888888888,
             "#fdca26"
            ],
            [
             1,
             "#f0f921"
            ]
           ],
           "sequentialminus": [
            [
             0,
             "#0d0887"
            ],
            [
             0.1111111111111111,
             "#46039f"
            ],
            [
             0.2222222222222222,
             "#7201a8"
            ],
            [
             0.3333333333333333,
             "#9c179e"
            ],
            [
             0.4444444444444444,
             "#bd3786"
            ],
            [
             0.5555555555555556,
             "#d8576b"
            ],
            [
             0.6666666666666666,
             "#ed7953"
            ],
            [
             0.7777777777777778,
             "#fb9f3a"
            ],
            [
             0.8888888888888888,
             "#fdca26"
            ],
            [
             1,
             "#f0f921"
            ]
           ]
          },
          "colorway": [
           "#636efa",
           "#EF553B",
           "#00cc96",
           "#ab63fa",
           "#FFA15A",
           "#19d3f3",
           "#FF6692",
           "#B6E880",
           "#FF97FF",
           "#FECB52"
          ],
          "font": {
           "color": "#2a3f5f"
          },
          "geo": {
           "bgcolor": "white",
           "lakecolor": "white",
           "landcolor": "#E5ECF6",
           "showlakes": true,
           "showland": true,
           "subunitcolor": "white"
          },
          "hoverlabel": {
           "align": "left"
          },
          "hovermode": "closest",
          "mapbox": {
           "style": "light"
          },
          "paper_bgcolor": "white",
          "plot_bgcolor": "#E5ECF6",
          "polar": {
           "angularaxis": {
            "gridcolor": "white",
            "linecolor": "white",
            "ticks": ""
           },
           "bgcolor": "#E5ECF6",
           "radialaxis": {
            "gridcolor": "white",
            "linecolor": "white",
            "ticks": ""
           }
          },
          "scene": {
           "xaxis": {
            "backgroundcolor": "#E5ECF6",
            "gridcolor": "white",
            "gridwidth": 2,
            "linecolor": "white",
            "showbackground": true,
            "ticks": "",
            "zerolinecolor": "white"
           },
           "yaxis": {
            "backgroundcolor": "#E5ECF6",
            "gridcolor": "white",
            "gridwidth": 2,
            "linecolor": "white",
            "showbackground": true,
            "ticks": "",
            "zerolinecolor": "white"
           },
           "zaxis": {
            "backgroundcolor": "#E5ECF6",
            "gridcolor": "white",
            "gridwidth": 2,
            "linecolor": "white",
            "showbackground": true,
            "ticks": "",
            "zerolinecolor": "white"
           }
          },
          "shapedefaults": {
           "line": {
            "color": "#2a3f5f"
           }
          },
          "ternary": {
           "aaxis": {
            "gridcolor": "white",
            "linecolor": "white",
            "ticks": ""
           },
           "baxis": {
            "gridcolor": "white",
            "linecolor": "white",
            "ticks": ""
           },
           "bgcolor": "#E5ECF6",
           "caxis": {
            "gridcolor": "white",
            "linecolor": "white",
            "ticks": ""
           }
          },
          "title": {
           "x": 0.05
          },
          "xaxis": {
           "automargin": true,
           "gridcolor": "white",
           "linecolor": "white",
           "ticks": "",
           "title": {
            "standoff": 15
           },
           "zerolinecolor": "white",
           "zerolinewidth": 2
          },
          "yaxis": {
           "automargin": true,
           "gridcolor": "white",
           "linecolor": "white",
           "ticks": "",
           "title": {
            "standoff": 15
           },
           "zerolinecolor": "white",
           "zerolinewidth": 2
          }
         }
        },
        "title": {
         "font": {
          "size": 20
         },
         "text": "<b>Regionale Unterschiede im Trinkgeldverhalten</b>",
         "x": 0.45,
         "y": 1
        }
       }
      }
     },
     "metadata": {},
     "output_type": "display_data"
    }
   ],
   "source": [
    "\n",
    "colorscales = [(0,px.colors.sequential.Greys[0]),\n",
    "                (0.3, px.colors.sequential.Greys[2]),\n",
    "                (0.6, px.colors.sequential.Purp[3]),\n",
    "                (0.8, px.colors.sequential.Purp[5]),\n",
    "                (1,px.colors.sequential.Purpor[5])]\n",
    "\n",
    "\n",
    "#fig = make_subplots(cols= 2, rows=2, specs= [[dict(type= \"table\"), dict(type= \"choroplethmapbox\", rowspan = 2)], [dict(type= \"table\"), None]])\n",
    "fig = make_subplots(cols= 1, rows= 2, specs = [[dict(type= \"choroplethmapbox\")], [dict(type= \"table\")]], vertical_spacing = 0.03, shared_xaxes= True)\n",
    "\n",
    "fig.add_trace(\n",
    "    go.Choroplethmapbox(\n",
    "        geojson= geojsn,\n",
    "        featureidkey= \"properties.NAME\",\n",
    "        locations= df_county_tip2.county,\n",
    "        z= df_county_tip2.tip,\n",
    "        showlegend=False,\n",
    "        showscale=True,\n",
    "        marker= dict(line= dict(width= 0.2, color= \"black\"), opacity= 1),\n",
    "        colorscale = colorscales\n",
    "    ),\n",
    "    col= 1,\n",
    "    row= 1\n",
    ")\n",
    "\n",
    "fig.add_trace(\n",
    "    go.Table(\n",
    "        columnorder= [1, 2, 3, 4, 5],\n",
    "        columnwidth= [1, 1, 1, 1, 1],\n",
    "        header= dict(\n",
    "            values= list(df_county_tip2.columns),\n",
    "            fill_color= px.colors.sequential.Purp[3],\n",
    "            line_color= px.colors.sequential.Greys[4],\n",
    "            font= dict(color= \"white\", size=15),\n",
    "            height= 35\n",
    "        ),\n",
    "        cells= dict(\n",
    "            values= df_county_tip2.round(3).T.values,\n",
    "            line_color= px.colors.sequential.Greys[4],\n",
    "            font= dict(color= \"black\", size=13),\n",
    "            align= \"center\",\n",
    "            height= 30\n",
    "        )\n",
    "    ),\n",
    "    col= 1,\n",
    "    row= 2\n",
    ")\n",
    "\n",
    "\n",
    "# fig.update_layout(\n",
    "#     updatemenus= [\n",
    "#             dict(buttons= list([\n",
    "#                 dict(\n",
    "#                     label= county,\n",
    "#                     method= \"update\",\n",
    "#                     args= [\n",
    "#                         dict(\n",
    "#                             visible= (np.append([True], np.append([True],df.county.unique() == county))),\n",
    "#                             z = [df_county_tip2.loc[df_county_tip2.county == county].tip],\n",
    "#                             locations= [df_county_tip2.loc[df_county_tip2.county == county].county],\n",
    "#                             cells = dict(\n",
    "#                                         values = df_county_tip2.loc[df_county_tip2.county == county].round(3).T.values,\n",
    "#                                         height= 30,\n",
    "#                                         font= dict(color= \"black\", size=13)\n",
    "#                                     )\n",
    "#                             )\n",
    "#                     ]\n",
    "#                 )\n",
    "#                 for county in df_county_tip2.county.unique().tolist()\n",
    "#             ]),\n",
    "#             direction= \"down\",\n",
    "#             xanchor= \"left\",\n",
    "#             x= 0.45,\n",
    "#             yanchor= \"top\",\n",
    "#             y= 1,\n",
    "#             showactive= True\n",
    "#         ),\n",
    "#     ]\n",
    "# )\n",
    "\n",
    "fig.update_layout(mapbox_style=\"carto-positron\",\n",
    "                    mapbox_zoom= 5.1,\n",
    "                    mapbox_center = {\"lat\": 37, \"lon\": -120},\n",
    "                    height= 700,\n",
    "                    title= dict(text= \"<b>Regionale Unterschiede im Trinkgeldverhalten</b>\",\n",
    "                                font_size= 20,\n",
    "                                y= 1,\n",
    "                                x= 0.45\n",
    "                            )\n",
    "                )\n",
    "fig.update_layout(margin={\"r\":0,\"t\":0,\"l\":0,\"b\":0})\n",
    "fig.show()"
   ]
  },
  {
   "cell_type": "code",
   "execution_count": 292,
   "metadata": {},
   "outputs": [
    {
     "data": {
      "application/vnd.plotly.v1+json": {
       "config": {
        "plotlyServerURL": "https://plot.ly"
       },
       "data": [
        {
         "customdata": [
          0,
          1,
          2,
          3,
          4,
          5,
          6
         ],
         "hovertemplate": "%{y}[%{customdata}] = %{marker.color}<extra></extra>",
         "marker": {
          "color": [
           "rgb(237, 229, 207)",
           "rgb(224, 194, 162)",
           "rgb(211, 156, 131)",
           "rgb(193, 118, 111)",
           "rgb(166, 84, 97)",
           "rgb(129, 55, 83)",
           "rgb(84, 31, 63)"
          ]
         },
         "orientation": "h",
         "type": "bar",
         "x": [
          1,
          1,
          1,
          1,
          1,
          1,
          1
         ],
         "y": [
          "Brwnyl",
          "Brwnyl",
          "Brwnyl",
          "Brwnyl",
          "Brwnyl",
          "Brwnyl",
          "Brwnyl"
         ]
        },
        {
         "customdata": [
          0,
          1,
          2,
          3,
          4,
          5,
          6
         ],
         "hovertemplate": "%{y}[%{customdata}] = %{marker.color}<extra></extra>",
         "marker": {
          "color": [
           "rgb(75, 41, 145)",
           "rgb(135, 44, 162)",
           "rgb(192, 54, 157)",
           "rgb(234, 79, 136)",
           "rgb(250, 120, 118)",
           "rgb(246, 169, 122)",
           "rgb(237, 217, 163)"
          ]
         },
         "orientation": "h",
         "type": "bar",
         "x": [
          1,
          1,
          1,
          1,
          1,
          1,
          1
         ],
         "y": [
          "Agsunset",
          "Agsunset",
          "Agsunset",
          "Agsunset",
          "Agsunset",
          "Agsunset",
          "Agsunset"
         ]
        },
        {
         "customdata": [
          0,
          1,
          2,
          3,
          4,
          5,
          6
         ],
         "hovertemplate": "%{y}[%{customdata}] = %{marker.color}<extra></extra>",
         "marker": {
          "color": [
           "rgb(252, 222, 156)",
           "rgb(250, 164, 118)",
           "rgb(240, 116, 110)",
           "rgb(227, 79, 111)",
           "rgb(220, 57, 119)",
           "rgb(185, 37, 122)",
           "rgb(124, 29, 111)"
          ]
         },
         "orientation": "h",
         "type": "bar",
         "x": [
          1,
          1,
          1,
          1,
          1,
          1,
          1
         ],
         "y": [
          "Sunsetdark",
          "Sunsetdark",
          "Sunsetdark",
          "Sunsetdark",
          "Sunsetdark",
          "Sunsetdark",
          "Sunsetdark"
         ]
        },
        {
         "customdata": [
          0,
          1,
          2,
          3,
          4,
          5,
          6
         ],
         "hovertemplate": "%{y}[%{customdata}] = %{marker.color}<extra></extra>",
         "marker": {
          "color": [
           "rgb(243, 203, 211)",
           "rgb(234, 169, 189)",
           "rgb(221, 136, 172)",
           "rgb(202, 105, 157)",
           "rgb(177, 77, 142)",
           "rgb(145, 53, 125)",
           "rgb(108, 33, 103)"
          ]
         },
         "orientation": "h",
         "type": "bar",
         "x": [
          1,
          1,
          1,
          1,
          1,
          1,
          1
         ],
         "y": [
          "Magenta",
          "Magenta",
          "Magenta",
          "Magenta",
          "Magenta",
          "Magenta",
          "Magenta"
         ]
        },
        {
         "customdata": [
          0,
          1,
          2,
          3,
          4,
          5,
          6
         ],
         "hovertemplate": "%{y}[%{customdata}] = %{marker.color}<extra></extra>",
         "marker": {
          "color": [
           "rgb(243, 231, 155)",
           "rgb(250, 196, 132)",
           "rgb(248, 160, 126)",
           "rgb(235, 127, 134)",
           "rgb(206, 102, 147)",
           "rgb(160, 89, 160)",
           "rgb(92, 83, 165)"
          ]
         },
         "orientation": "h",
         "type": "bar",
         "x": [
          1,
          1,
          1,
          1,
          1,
          1,
          1
         ],
         "y": [
          "Sunset",
          "Sunset",
          "Sunset",
          "Sunset",
          "Sunset",
          "Sunset",
          "Sunset"
         ]
        },
        {
         "customdata": [
          0,
          1,
          2,
          3,
          4,
          5,
          6
         ],
         "hovertemplate": "%{y}[%{customdata}] = %{marker.color}<extra></extra>",
         "marker": {
          "color": [
           "rgb(249, 221, 218)",
           "rgb(242, 185, 196)",
           "rgb(229, 151, 185)",
           "rgb(206, 120, 179)",
           "rgb(173, 95, 173)",
           "rgb(131, 75, 160)",
           "rgb(87, 59, 136)"
          ]
         },
         "orientation": "h",
         "type": "bar",
         "x": [
          1,
          1,
          1,
          1,
          1,
          1,
          1
         ],
         "y": [
          "Purpor",
          "Purpor",
          "Purpor",
          "Purpor",
          "Purpor",
          "Purpor",
          "Purpor"
         ]
        },
        {
         "customdata": [
          0,
          1,
          2,
          3,
          4,
          5,
          6
         ],
         "hovertemplate": "%{y}[%{customdata}] = %{marker.color}<extra></extra>",
         "marker": {
          "color": [
           "rgb(243, 224, 247)",
           "rgb(228, 199, 241)",
           "rgb(209, 175, 232)",
           "rgb(185, 152, 221)",
           "rgb(159, 130, 206)",
           "rgb(130, 109, 186)",
           "rgb(99, 88, 159)"
          ]
         },
         "orientation": "h",
         "type": "bar",
         "x": [
          1,
          1,
          1,
          1,
          1,
          1,
          1
         ],
         "y": [
          "Purp",
          "Purp",
          "Purp",
          "Purp",
          "Purp",
          "Purp",
          "Purp"
         ]
        },
        {
         "customdata": [
          0,
          1,
          2,
          3,
          4,
          5,
          6
         ],
         "hovertemplate": "%{y}[%{customdata}] = %{marker.color}<extra></extra>",
         "marker": {
          "color": [
           "rgb(176, 242, 188)",
           "rgb(137, 232, 172)",
           "rgb(103, 219, 165)",
           "rgb(76, 200, 163)",
           "rgb(56, 178, 163)",
           "rgb(44, 152, 160)",
           "rgb(37, 125, 152)"
          ]
         },
         "orientation": "h",
         "type": "bar",
         "x": [
          1,
          1,
          1,
          1,
          1,
          1,
          1
         ],
         "y": [
          "Tealgrn",
          "Tealgrn",
          "Tealgrn",
          "Tealgrn",
          "Tealgrn",
          "Tealgrn",
          "Tealgrn"
         ]
        },
        {
         "customdata": [
          0,
          1,
          2,
          3,
          4,
          5,
          6
         ],
         "hovertemplate": "%{y}[%{customdata}] = %{marker.color}<extra></extra>",
         "marker": {
          "color": [
           "rgb(209, 238, 234)",
           "rgb(168, 219, 217)",
           "rgb(133, 196, 201)",
           "rgb(104, 171, 184)",
           "rgb(79, 144, 166)",
           "rgb(59, 115, 143)",
           "rgb(42, 86, 116)"
          ]
         },
         "orientation": "h",
         "type": "bar",
         "x": [
          1,
          1,
          1,
          1,
          1,
          1,
          1
         ],
         "y": [
          "Teal",
          "Teal",
          "Teal",
          "Teal",
          "Teal",
          "Teal",
          "Teal"
         ]
        },
        {
         "customdata": [
          0,
          1,
          2,
          3,
          4,
          5,
          6
         ],
         "hovertemplate": "%{y}[%{customdata}] = %{marker.color}<extra></extra>",
         "marker": {
          "color": [
           "rgb(247, 254, 174)",
           "rgb(183, 230, 165)",
           "rgb(124, 203, 162)",
           "rgb(70, 174, 160)",
           "rgb(8, 144, 153)",
           "rgb(0, 113, 139)",
           "rgb(4, 82, 117)"
          ]
         },
         "orientation": "h",
         "type": "bar",
         "x": [
          1,
          1,
          1,
          1,
          1,
          1,
          1
         ],
         "y": [
          "Bluyl",
          "Bluyl",
          "Bluyl",
          "Bluyl",
          "Bluyl",
          "Bluyl",
          "Bluyl"
         ]
        },
        {
         "customdata": [
          0,
          1,
          2,
          3,
          4,
          5,
          6
         ],
         "hovertemplate": "%{y}[%{customdata}] = %{marker.color}<extra></extra>",
         "marker": {
          "color": [
           "rgb(36, 86, 104)",
           "rgb(15, 114, 121)",
           "rgb(13, 143, 129)",
           "rgb(57, 171, 126)",
           "rgb(110, 197, 116)",
           "rgb(169, 220, 103)",
           "rgb(237, 239, 93)"
          ]
         },
         "orientation": "h",
         "type": "bar",
         "x": [
          1,
          1,
          1,
          1,
          1,
          1,
          1
         ],
         "y": [
          "Aggrnyl",
          "Aggrnyl",
          "Aggrnyl",
          "Aggrnyl",
          "Aggrnyl",
          "Aggrnyl",
          "Aggrnyl"
         ]
        },
        {
         "customdata": [
          0,
          1,
          2,
          3,
          4,
          5,
          6
         ],
         "hovertemplate": "%{y}[%{customdata}] = %{marker.color}<extra></extra>",
         "marker": {
          "color": [
           "rgb(211, 242, 163)",
           "rgb(151, 225, 150)",
           "rgb(108, 192, 139)",
           "rgb(76, 155, 130)",
           "rgb(33, 122, 121)",
           "rgb(16, 89, 101)",
           "rgb(7, 64, 80)"
          ]
         },
         "orientation": "h",
         "type": "bar",
         "x": [
          1,
          1,
          1,
          1,
          1,
          1,
          1
         ],
         "y": [
          "Emrld",
          "Emrld",
          "Emrld",
          "Emrld",
          "Emrld",
          "Emrld",
          "Emrld"
         ]
        },
        {
         "customdata": [
          0,
          1,
          2,
          3,
          4,
          5,
          6
         ],
         "hovertemplate": "%{y}[%{customdata}] = %{marker.color}<extra></extra>",
         "marker": {
          "color": [
           "rgb(210, 251, 212)",
           "rgb(165, 219, 194)",
           "rgb(123, 188, 176)",
           "rgb(85, 156, 158)",
           "rgb(58, 124, 137)",
           "rgb(35, 93, 114)",
           "rgb(18, 63, 90)"
          ]
         },
         "orientation": "h",
         "type": "bar",
         "x": [
          1,
          1,
          1,
          1,
          1,
          1,
          1
         ],
         "y": [
          "Darkmint",
          "Darkmint",
          "Darkmint",
          "Darkmint",
          "Darkmint",
          "Darkmint",
          "Darkmint"
         ]
        },
        {
         "customdata": [
          0,
          1,
          2,
          3,
          4,
          5,
          6
         ],
         "hovertemplate": "%{y}[%{customdata}] = %{marker.color}<extra></extra>",
         "marker": {
          "color": [
           "rgb(196, 230, 195)",
           "rgb(150, 210, 164)",
           "rgb(109, 188, 144)",
           "rgb(77, 162, 132)",
           "rgb(54, 135, 122)",
           "rgb(38, 107, 110)",
           "rgb(29, 79, 96)"
          ]
         },
         "orientation": "h",
         "type": "bar",
         "x": [
          1,
          1,
          1,
          1,
          1,
          1,
          1
         ],
         "y": [
          "Blugrn",
          "Blugrn",
          "Blugrn",
          "Blugrn",
          "Blugrn",
          "Blugrn",
          "Blugrn"
         ]
        },
        {
         "customdata": [
          0,
          1,
          2,
          3,
          4,
          5,
          6
         ],
         "hovertemplate": "%{y}[%{customdata}] = %{marker.color}<extra></extra>",
         "marker": {
          "color": [
           "rgb(228, 241, 225)",
           "rgb(180, 217, 204)",
           "rgb(137, 192, 182)",
           "rgb(99, 166, 160)",
           "rgb(68, 140, 138)",
           "rgb(40, 114, 116)",
           "rgb(13, 88, 95)"
          ]
         },
         "orientation": "h",
         "type": "bar",
         "x": [
          1,
          1,
          1,
          1,
          1,
          1,
          1
         ],
         "y": [
          "Mint",
          "Mint",
          "Mint",
          "Mint",
          "Mint",
          "Mint",
          "Mint"
         ]
        },
        {
         "customdata": [
          0,
          1,
          2,
          3,
          4,
          5,
          6
         ],
         "hovertemplate": "%{y}[%{customdata}] = %{marker.color}<extra></extra>",
         "marker": {
          "color": [
           "rgb(254, 246, 181)",
           "rgb(255, 221, 154)",
           "rgb(255, 194, 133)",
           "rgb(255, 166, 121)",
           "rgb(250, 138, 118)",
           "rgb(241, 109, 122)",
           "rgb(225, 83, 131)"
          ]
         },
         "orientation": "h",
         "type": "bar",
         "x": [
          1,
          1,
          1,
          1,
          1,
          1,
          1
         ],
         "y": [
          "Pinkyl",
          "Pinkyl",
          "Pinkyl",
          "Pinkyl",
          "Pinkyl",
          "Pinkyl",
          "Pinkyl"
         ]
        },
        {
         "customdata": [
          0,
          1,
          2,
          3,
          4,
          5,
          6
         ],
         "hovertemplate": "%{y}[%{customdata}] = %{marker.color}<extra></extra>",
         "marker": {
          "color": [
           "rgb(253, 224, 197)",
           "rgb(250, 203, 166)",
           "rgb(248, 181, 139)",
           "rgb(245, 158, 114)",
           "rgb(242, 133, 93)",
           "rgb(239, 106, 76)",
           "rgb(235, 74, 64)"
          ]
         },
         "orientation": "h",
         "type": "bar",
         "x": [
          1,
          1,
          1,
          1,
          1,
          1,
          1
         ],
         "y": [
          "Peach",
          "Peach",
          "Peach",
          "Peach",
          "Peach",
          "Peach",
          "Peach"
         ]
        },
        {
         "customdata": [
          0,
          1,
          2,
          3,
          4,
          5,
          6
         ],
         "hovertemplate": "%{y}[%{customdata}] = %{marker.color}<extra></extra>",
         "marker": {
          "color": [
           "rgb(236, 218, 154)",
           "rgb(239, 196, 126)",
           "rgb(243, 173, 106)",
           "rgb(247, 148, 93)",
           "rgb(249, 123, 87)",
           "rgb(246, 99, 86)",
           "rgb(238, 77, 90)"
          ]
         },
         "orientation": "h",
         "type": "bar",
         "x": [
          1,
          1,
          1,
          1,
          1,
          1,
          1
         ],
         "y": [
          "Oryel",
          "Oryel",
          "Oryel",
          "Oryel",
          "Oryel",
          "Oryel",
          "Oryel"
         ]
        },
        {
         "customdata": [
          0,
          1,
          2,
          3,
          4,
          5,
          6
         ],
         "hovertemplate": "%{y}[%{customdata}] = %{marker.color}<extra></extra>",
         "marker": {
          "color": [
           "rgb(246, 210, 169)",
           "rgb(245, 183, 142)",
           "rgb(241, 156, 124)",
           "rgb(234, 129, 113)",
           "rgb(221, 104, 108)",
           "rgb(202, 82, 104)",
           "rgb(177, 63, 100)"
          ]
         },
         "orientation": "h",
         "type": "bar",
         "x": [
          1,
          1,
          1,
          1,
          1,
          1,
          1
         ],
         "y": [
          "Redor",
          "Redor",
          "Redor",
          "Redor",
          "Redor",
          "Redor",
          "Redor"
         ]
        },
        {
         "customdata": [
          0,
          1,
          2,
          3,
          4,
          5,
          6
         ],
         "hovertemplate": "%{y}[%{customdata}] = %{marker.color}<extra></extra>",
         "marker": {
          "color": [
           "rgb(251, 230, 197)",
           "rgb(245, 186, 152)",
           "rgb(238, 138, 130)",
           "rgb(220, 113, 118)",
           "rgb(200, 88, 108)",
           "rgb(156, 63, 93)",
           "rgb(112, 40, 74)"
          ]
         },
         "orientation": "h",
         "type": "bar",
         "x": [
          1,
          1,
          1,
          1,
          1,
          1,
          1
         ],
         "y": [
          "Burgyl",
          "Burgyl",
          "Burgyl",
          "Burgyl",
          "Burgyl",
          "Burgyl",
          "Burgyl"
         ]
        },
        {
         "customdata": [
          0,
          1,
          2,
          3,
          4,
          5,
          6
         ],
         "hovertemplate": "%{y}[%{customdata}] = %{marker.color}<extra></extra>",
         "marker": {
          "color": [
           "rgb(255, 198, 196)",
           "rgb(244, 163, 168)",
           "rgb(227, 129, 145)",
           "rgb(204, 96, 125)",
           "rgb(173, 70, 108)",
           "rgb(139, 48, 88)",
           "rgb(103, 32, 68)"
          ]
         },
         "orientation": "h",
         "type": "bar",
         "x": [
          1,
          1,
          1,
          1,
          1,
          1,
          1
         ],
         "y": [
          "Burg",
          "Burg",
          "Burg",
          "Burg",
          "Burg",
          "Burg",
          "Burg"
         ]
        },
        {
         "customdata": [
          0,
          1,
          2,
          3,
          4,
          5,
          6,
          7,
          8,
          9,
          10,
          11
         ],
         "hovertemplate": "%{y}[%{customdata}] = %{marker.color}<extra></extra>",
         "marker": {
          "color": [
           "rgb(254, 245, 244)",
           "rgb(222, 224, 210)",
           "rgb(189, 206, 181)",
           "rgb(153, 189, 156)",
           "rgb(110, 173, 138)",
           "rgb(65, 157, 129)",
           "rgb(25, 137, 125)",
           "rgb(18, 116, 117)",
           "rgb(25, 94, 106)",
           "rgb(28, 72, 93)",
           "rgb(25, 51, 80)",
           "rgb(20, 29, 67)"
          ]
         },
         "orientation": "h",
         "type": "bar",
         "x": [
          1,
          1,
          1,
          1,
          1,
          1,
          1,
          1,
          1,
          1,
          1,
          1
         ],
         "y": [
          "tempo",
          "tempo",
          "tempo",
          "tempo",
          "tempo",
          "tempo",
          "tempo",
          "tempo",
          "tempo",
          "tempo",
          "tempo",
          "tempo"
         ]
        },
        {
         "customdata": [
          0,
          1,
          2,
          3,
          4,
          5,
          6,
          7,
          8,
          9,
          10,
          11
         ],
         "hovertemplate": "%{y}[%{customdata}] = %{marker.color}<extra></extra>",
         "marker": {
          "color": [
           "rgb(241, 236, 236)",
           "rgb(230, 209, 203)",
           "rgb(221, 182, 170)",
           "rgb(213, 156, 137)",
           "rgb(205, 129, 103)",
           "rgb(196, 102, 73)",
           "rgb(186, 74, 47)",
           "rgb(172, 44, 36)",
           "rgb(149, 19, 39)",
           "rgb(120, 14, 40)",
           "rgb(89, 13, 31)",
           "rgb(60, 9, 17)"
          ]
         },
         "orientation": "h",
         "type": "bar",
         "x": [
          1,
          1,
          1,
          1,
          1,
          1,
          1,
          1,
          1,
          1,
          1,
          1
         ],
         "y": [
          "amp",
          "amp",
          "amp",
          "amp",
          "amp",
          "amp",
          "amp",
          "amp",
          "amp",
          "amp",
          "amp",
          "amp"
         ]
        },
        {
         "customdata": [
          0,
          1,
          2,
          3,
          4,
          5,
          6,
          7,
          8,
          9,
          10,
          11
         ],
         "hovertemplate": "%{y}[%{customdata}] = %{marker.color}<extra></extra>",
         "marker": {
          "color": [
           "rgb(254, 252, 205)",
           "rgb(239, 225, 156)",
           "rgb(221, 201, 106)",
           "rgb(194, 182, 59)",
           "rgb(157, 167, 21)",
           "rgb(116, 153, 5)",
           "rgb(75, 138, 20)",
           "rgb(35, 121, 36)",
           "rgb(11, 100, 44)",
           "rgb(18, 78, 43)",
           "rgb(25, 56, 34)",
           "rgb(23, 35, 18)"
          ]
         },
         "orientation": "h",
         "type": "bar",
         "x": [
          1,
          1,
          1,
          1,
          1,
          1,
          1,
          1,
          1,
          1,
          1,
          1
         ],
         "y": [
          "speed",
          "speed",
          "speed",
          "speed",
          "speed",
          "speed",
          "speed",
          "speed",
          "speed",
          "speed",
          "speed",
          "speed"
         ]
        },
        {
         "customdata": [
          0,
          1,
          2,
          3,
          4,
          5,
          6,
          7,
          8,
          9,
          10,
          11
         ],
         "hovertemplate": "%{y}[%{customdata}] = %{marker.color}<extra></extra>",
         "marker": {
          "color": [
           "rgb(253, 237, 176)",
           "rgb(250, 205, 145)",
           "rgb(246, 173, 119)",
           "rgb(240, 142, 98)",
           "rgb(231, 109, 84)",
           "rgb(216, 80, 83)",
           "rgb(195, 56, 90)",
           "rgb(168, 40, 96)",
           "rgb(138, 29, 99)",
           "rgb(107, 24, 93)",
           "rgb(76, 21, 80)",
           "rgb(47, 15, 61)"
          ]
         },
         "orientation": "h",
         "type": "bar",
         "x": [
          1,
          1,
          1,
          1,
          1,
          1,
          1,
          1,
          1,
          1,
          1,
          1
         ],
         "y": [
          "matter",
          "matter",
          "matter",
          "matter",
          "matter",
          "matter",
          "matter",
          "matter",
          "matter",
          "matter",
          "matter",
          "matter"
         ]
        },
        {
         "customdata": [
          0,
          1,
          2,
          3,
          4,
          5,
          6,
          7,
          8,
          9,
          10,
          11
         ],
         "hovertemplate": "%{y}[%{customdata}] = %{marker.color}<extra></extra>",
         "marker": {
          "color": [
           "rgb(214, 249, 207)",
           "rgb(186, 228, 174)",
           "rgb(156, 209, 143)",
           "rgb(124, 191, 115)",
           "rgb(85, 174, 91)",
           "rgb(37, 157, 81)",
           "rgb(7, 138, 78)",
           "rgb(13, 117, 71)",
           "rgb(23, 95, 61)",
           "rgb(25, 75, 49)",
           "rgb(23, 55, 35)",
           "rgb(17, 36, 20)"
          ]
         },
         "orientation": "h",
         "type": "bar",
         "x": [
          1,
          1,
          1,
          1,
          1,
          1,
          1,
          1,
          1,
          1,
          1,
          1
         ],
         "y": [
          "algae",
          "algae",
          "algae",
          "algae",
          "algae",
          "algae",
          "algae",
          "algae",
          "algae",
          "algae",
          "algae",
          "algae"
         ]
        },
        {
         "customdata": [
          0,
          1,
          2,
          3,
          4,
          5,
          6,
          7,
          8,
          9,
          10,
          11
         ],
         "hovertemplate": "%{y}[%{customdata}] = %{marker.color}<extra></extra>",
         "marker": {
          "color": [
           "rgb(230, 240, 240)",
           "rgb(191, 221, 229)",
           "rgb(156, 201, 226)",
           "rgb(129, 180, 227)",
           "rgb(115, 154, 228)",
           "rgb(117, 127, 221)",
           "rgb(120, 100, 202)",
           "rgb(119, 74, 175)",
           "rgb(113, 50, 141)",
           "rgb(100, 31, 104)",
           "rgb(80, 20, 66)",
           "rgb(54, 14, 36)"
          ]
         },
         "orientation": "h",
         "type": "bar",
         "x": [
          1,
          1,
          1,
          1,
          1,
          1,
          1,
          1,
          1,
          1,
          1,
          1
         ],
         "y": [
          "dense",
          "dense",
          "dense",
          "dense",
          "dense",
          "dense",
          "dense",
          "dense",
          "dense",
          "dense",
          "dense",
          "dense"
         ]
        },
        {
         "customdata": [
          0,
          1,
          2,
          3,
          4,
          5,
          6,
          7,
          8,
          9,
          10,
          11
         ],
         "hovertemplate": "%{y}[%{customdata}] = %{marker.color}<extra></extra>",
         "marker": {
          "color": [
           "rgb(253, 253, 204)",
           "rgb(206, 236, 179)",
           "rgb(156, 219, 165)",
           "rgb(111, 201, 163)",
           "rgb(86, 177, 163)",
           "rgb(76, 153, 160)",
           "rgb(68, 130, 155)",
           "rgb(62, 108, 150)",
           "rgb(62, 82, 143)",
           "rgb(64, 60, 115)",
           "rgb(54, 43, 77)",
           "rgb(39, 26, 44)"
          ]
         },
         "orientation": "h",
         "type": "bar",
         "x": [
          1,
          1,
          1,
          1,
          1,
          1,
          1,
          1,
          1,
          1,
          1,
          1
         ],
         "y": [
          "deep",
          "deep",
          "deep",
          "deep",
          "deep",
          "deep",
          "deep",
          "deep",
          "deep",
          "deep",
          "deep",
          "deep"
         ]
        },
        {
         "customdata": [
          0,
          1,
          2,
          3,
          4,
          5,
          6,
          7,
          8,
          9,
          10,
          11
         ],
         "hovertemplate": "%{y}[%{customdata}] = %{marker.color}<extra></extra>",
         "marker": {
          "color": [
           "rgb(0, 0, 0)",
           "rgb(16, 16, 16)",
           "rgb(38, 38, 38)",
           "rgb(59, 59, 59)",
           "rgb(81, 80, 80)",
           "rgb(102, 101, 101)",
           "rgb(124, 123, 122)",
           "rgb(146, 146, 145)",
           "rgb(171, 171, 170)",
           "rgb(197, 197, 195)",
           "rgb(224, 224, 223)",
           "rgb(254, 254, 253)"
          ]
         },
         "orientation": "h",
         "type": "bar",
         "x": [
          1,
          1,
          1,
          1,
          1,
          1,
          1,
          1,
          1,
          1,
          1,
          1
         ],
         "y": [
          "gray",
          "gray",
          "gray",
          "gray",
          "gray",
          "gray",
          "gray",
          "gray",
          "gray",
          "gray",
          "gray",
          "gray"
         ]
        },
        {
         "customdata": [
          0,
          1,
          2,
          3,
          4,
          5,
          6,
          7,
          8,
          9,
          10,
          11
         ],
         "hovertemplate": "%{y}[%{customdata}] = %{marker.color}<extra></extra>",
         "marker": {
          "color": [
           "rgb(3, 5, 18)",
           "rgb(25, 25, 51)",
           "rgb(44, 42, 87)",
           "rgb(58, 60, 125)",
           "rgb(62, 83, 160)",
           "rgb(62, 109, 178)",
           "rgb(72, 134, 187)",
           "rgb(89, 159, 196)",
           "rgb(114, 184, 205)",
           "rgb(149, 207, 216)",
           "rgb(192, 229, 232)",
           "rgb(234, 252, 253)"
          ]
         },
         "orientation": "h",
         "type": "bar",
         "x": [
          1,
          1,
          1,
          1,
          1,
          1,
          1,
          1,
          1,
          1,
          1,
          1
         ],
         "y": [
          "ice",
          "ice",
          "ice",
          "ice",
          "ice",
          "ice",
          "ice",
          "ice",
          "ice",
          "ice",
          "ice",
          "ice"
         ]
        },
        {
         "customdata": [
          0,
          1,
          2,
          3,
          4,
          5,
          6,
          7,
          8,
          9,
          10,
          11
         ],
         "hovertemplate": "%{y}[%{customdata}] = %{marker.color}<extra></extra>",
         "marker": {
          "color": [
           "rgb(51, 19, 23)",
           "rgb(79, 28, 33)",
           "rgb(108, 36, 36)",
           "rgb(135, 47, 32)",
           "rgb(157, 66, 25)",
           "rgb(174, 88, 20)",
           "rgb(188, 111, 19)",
           "rgb(199, 137, 22)",
           "rgb(209, 164, 32)",
           "rgb(217, 192, 44)",
           "rgb(222, 222, 59)",
           "rgb(224, 253, 74)"
          ]
         },
         "orientation": "h",
         "type": "bar",
         "x": [
          1,
          1,
          1,
          1,
          1,
          1,
          1,
          1,
          1,
          1,
          1,
          1
         ],
         "y": [
          "solar",
          "solar",
          "solar",
          "solar",
          "solar",
          "solar",
          "solar",
          "solar",
          "solar",
          "solar",
          "solar",
          "solar"
         ]
        },
        {
         "customdata": [
          0,
          1,
          2,
          3,
          4,
          5,
          6,
          7,
          8,
          9,
          10,
          11
         ],
         "hovertemplate": "%{y}[%{customdata}] = %{marker.color}<extra></extra>",
         "marker": {
          "color": [
           "rgb(41, 24, 107)",
           "rgb(42, 35, 160)",
           "rgb(15, 71, 153)",
           "rgb(18, 95, 142)",
           "rgb(38, 116, 137)",
           "rgb(53, 136, 136)",
           "rgb(65, 157, 133)",
           "rgb(81, 178, 124)",
           "rgb(111, 198, 107)",
           "rgb(160, 214, 91)",
           "rgb(212, 225, 112)",
           "rgb(253, 238, 153)"
          ]
         },
         "orientation": "h",
         "type": "bar",
         "x": [
          1,
          1,
          1,
          1,
          1,
          1,
          1,
          1,
          1,
          1,
          1,
          1
         ],
         "y": [
          "haline",
          "haline",
          "haline",
          "haline",
          "haline",
          "haline",
          "haline",
          "haline",
          "haline",
          "haline",
          "haline",
          "haline"
         ]
        },
        {
         "customdata": [
          0,
          1,
          2,
          3,
          4,
          5,
          6,
          7,
          8,
          9,
          10,
          11
         ],
         "hovertemplate": "%{y}[%{customdata}] = %{marker.color}<extra></extra>",
         "marker": {
          "color": [
           "rgb(3, 35, 51)",
           "rgb(13, 48, 100)",
           "rgb(53, 50, 155)",
           "rgb(93, 62, 153)",
           "rgb(126, 77, 143)",
           "rgb(158, 89, 135)",
           "rgb(193, 100, 121)",
           "rgb(225, 113, 97)",
           "rgb(246, 139, 69)",
           "rgb(251, 173, 60)",
           "rgb(246, 211, 70)",
           "rgb(231, 250, 90)"
          ]
         },
         "orientation": "h",
         "type": "bar",
         "x": [
          1,
          1,
          1,
          1,
          1,
          1,
          1,
          1,
          1,
          1,
          1,
          1
         ],
         "y": [
          "thermal",
          "thermal",
          "thermal",
          "thermal",
          "thermal",
          "thermal",
          "thermal",
          "thermal",
          "thermal",
          "thermal",
          "thermal",
          "thermal"
         ]
        },
        {
         "customdata": [
          0,
          1,
          2,
          3,
          4,
          5,
          6,
          7,
          8,
          9,
          10,
          11
         ],
         "hovertemplate": "%{y}[%{customdata}] = %{marker.color}<extra></extra>",
         "marker": {
          "color": [
           "rgb(232, 245, 171)",
           "rgb(220, 219, 137)",
           "rgb(209, 193, 107)",
           "rgb(199, 168, 83)",
           "rgb(186, 143, 66)",
           "rgb(170, 121, 60)",
           "rgb(151, 103, 58)",
           "rgb(129, 87, 56)",
           "rgb(104, 72, 53)",
           "rgb(80, 59, 46)",
           "rgb(57, 45, 37)",
           "rgb(34, 30, 27)"
          ]
         },
         "orientation": "h",
         "type": "bar",
         "x": [
          1,
          1,
          1,
          1,
          1,
          1,
          1,
          1,
          1,
          1,
          1,
          1
         ],
         "y": [
          "turbid",
          "turbid",
          "turbid",
          "turbid",
          "turbid",
          "turbid",
          "turbid",
          "turbid",
          "turbid",
          "turbid",
          "turbid",
          "turbid"
         ]
        },
        {
         "customdata": [
          0,
          1,
          2,
          3,
          4,
          5,
          6,
          7,
          8
         ],
         "hovertemplate": "%{y}[%{customdata}] = %{marker.color}<extra></extra>",
         "marker": {
          "color": [
           "rgb(255,255,204)",
           "rgb(255,237,160)",
           "rgb(254,217,118)",
           "rgb(254,178,76)",
           "rgb(253,141,60)",
           "rgb(252,78,42)",
           "rgb(227,26,28)",
           "rgb(189,0,38)",
           "rgb(128,0,38)"
          ]
         },
         "orientation": "h",
         "type": "bar",
         "x": [
          1,
          1,
          1,
          1,
          1,
          1,
          1,
          1,
          1
         ],
         "y": [
          "YlOrRd",
          "YlOrRd",
          "YlOrRd",
          "YlOrRd",
          "YlOrRd",
          "YlOrRd",
          "YlOrRd",
          "YlOrRd",
          "YlOrRd"
         ]
        },
        {
         "customdata": [
          0,
          1,
          2,
          3,
          4,
          5,
          6,
          7,
          8
         ],
         "hovertemplate": "%{y}[%{customdata}] = %{marker.color}<extra></extra>",
         "marker": {
          "color": [
           "rgb(255,255,229)",
           "rgb(255,247,188)",
           "rgb(254,227,145)",
           "rgb(254,196,79)",
           "rgb(254,153,41)",
           "rgb(236,112,20)",
           "rgb(204,76,2)",
           "rgb(153,52,4)",
           "rgb(102,37,6)"
          ]
         },
         "orientation": "h",
         "type": "bar",
         "x": [
          1,
          1,
          1,
          1,
          1,
          1,
          1,
          1,
          1
         ],
         "y": [
          "YlOrBr",
          "YlOrBr",
          "YlOrBr",
          "YlOrBr",
          "YlOrBr",
          "YlOrBr",
          "YlOrBr",
          "YlOrBr",
          "YlOrBr"
         ]
        },
        {
         "customdata": [
          0,
          1,
          2,
          3,
          4,
          5,
          6,
          7,
          8
         ],
         "hovertemplate": "%{y}[%{customdata}] = %{marker.color}<extra></extra>",
         "marker": {
          "color": [
           "rgb(255,255,217)",
           "rgb(237,248,177)",
           "rgb(199,233,180)",
           "rgb(127,205,187)",
           "rgb(65,182,196)",
           "rgb(29,145,192)",
           "rgb(34,94,168)",
           "rgb(37,52,148)",
           "rgb(8,29,88)"
          ]
         },
         "orientation": "h",
         "type": "bar",
         "x": [
          1,
          1,
          1,
          1,
          1,
          1,
          1,
          1,
          1
         ],
         "y": [
          "YlGnBu",
          "YlGnBu",
          "YlGnBu",
          "YlGnBu",
          "YlGnBu",
          "YlGnBu",
          "YlGnBu",
          "YlGnBu",
          "YlGnBu"
         ]
        },
        {
         "customdata": [
          0,
          1,
          2,
          3,
          4,
          5,
          6,
          7,
          8
         ],
         "hovertemplate": "%{y}[%{customdata}] = %{marker.color}<extra></extra>",
         "marker": {
          "color": [
           "rgb(255,255,229)",
           "rgb(247,252,185)",
           "rgb(217,240,163)",
           "rgb(173,221,142)",
           "rgb(120,198,121)",
           "rgb(65,171,93)",
           "rgb(35,132,67)",
           "rgb(0,104,55)",
           "rgb(0,69,41)"
          ]
         },
         "orientation": "h",
         "type": "bar",
         "x": [
          1,
          1,
          1,
          1,
          1,
          1,
          1,
          1,
          1
         ],
         "y": [
          "YlGn",
          "YlGn",
          "YlGn",
          "YlGn",
          "YlGn",
          "YlGn",
          "YlGn",
          "YlGn",
          "YlGn"
         ]
        },
        {
         "customdata": [
          0,
          1,
          2,
          3,
          4,
          5,
          6,
          7,
          8
         ],
         "hovertemplate": "%{y}[%{customdata}] = %{marker.color}<extra></extra>",
         "marker": {
          "color": [
           "rgb(255,245,240)",
           "rgb(254,224,210)",
           "rgb(252,187,161)",
           "rgb(252,146,114)",
           "rgb(251,106,74)",
           "rgb(239,59,44)",
           "rgb(203,24,29)",
           "rgb(165,15,21)",
           "rgb(103,0,13)"
          ]
         },
         "orientation": "h",
         "type": "bar",
         "x": [
          1,
          1,
          1,
          1,
          1,
          1,
          1,
          1,
          1
         ],
         "y": [
          "Reds",
          "Reds",
          "Reds",
          "Reds",
          "Reds",
          "Reds",
          "Reds",
          "Reds",
          "Reds"
         ]
        },
        {
         "customdata": [
          0,
          1,
          2,
          3,
          4,
          5,
          6,
          7,
          8
         ],
         "hovertemplate": "%{y}[%{customdata}] = %{marker.color}<extra></extra>",
         "marker": {
          "color": [
           "rgb(255,247,243)",
           "rgb(253,224,221)",
           "rgb(252,197,192)",
           "rgb(250,159,181)",
           "rgb(247,104,161)",
           "rgb(221,52,151)",
           "rgb(174,1,126)",
           "rgb(122,1,119)",
           "rgb(73,0,106)"
          ]
         },
         "orientation": "h",
         "type": "bar",
         "x": [
          1,
          1,
          1,
          1,
          1,
          1,
          1,
          1,
          1
         ],
         "y": [
          "RdPu",
          "RdPu",
          "RdPu",
          "RdPu",
          "RdPu",
          "RdPu",
          "RdPu",
          "RdPu",
          "RdPu"
         ]
        },
        {
         "customdata": [
          0,
          1,
          2,
          3,
          4,
          5,
          6,
          7,
          8,
          9,
          10
         ],
         "hovertemplate": "%{y}[%{customdata}] = %{marker.color}<extra></extra>",
         "marker": {
          "color": [
           "rgb(103,0,31)",
           "rgb(178,24,43)",
           "rgb(214,96,77)",
           "rgb(244,165,130)",
           "rgb(253,219,199)",
           "rgb(247,247,247)",
           "rgb(209,229,240)",
           "rgb(146,197,222)",
           "rgb(67,147,195)",
           "rgb(33,102,172)",
           "rgb(5,48,97)"
          ]
         },
         "orientation": "h",
         "type": "bar",
         "x": [
          1,
          1,
          1,
          1,
          1,
          1,
          1,
          1,
          1,
          1,
          1
         ],
         "y": [
          "RdBu",
          "RdBu",
          "RdBu",
          "RdBu",
          "RdBu",
          "RdBu",
          "RdBu",
          "RdBu",
          "RdBu",
          "RdBu",
          "RdBu"
         ]
        },
        {
         "customdata": [
          0,
          1,
          2,
          3,
          4,
          5,
          6,
          7,
          8
         ],
         "hovertemplate": "%{y}[%{customdata}] = %{marker.color}<extra></extra>",
         "marker": {
          "color": [
           "rgb(252,251,253)",
           "rgb(239,237,245)",
           "rgb(218,218,235)",
           "rgb(188,189,220)",
           "rgb(158,154,200)",
           "rgb(128,125,186)",
           "rgb(106,81,163)",
           "rgb(84,39,143)",
           "rgb(63,0,125)"
          ]
         },
         "orientation": "h",
         "type": "bar",
         "x": [
          1,
          1,
          1,
          1,
          1,
          1,
          1,
          1,
          1
         ],
         "y": [
          "Purples",
          "Purples",
          "Purples",
          "Purples",
          "Purples",
          "Purples",
          "Purples",
          "Purples",
          "Purples"
         ]
        },
        {
         "customdata": [
          0,
          1,
          2,
          3,
          4,
          5,
          6,
          7,
          8
         ],
         "hovertemplate": "%{y}[%{customdata}] = %{marker.color}<extra></extra>",
         "marker": {
          "color": [
           "rgb(247,244,249)",
           "rgb(231,225,239)",
           "rgb(212,185,218)",
           "rgb(201,148,199)",
           "rgb(223,101,176)",
           "rgb(231,41,138)",
           "rgb(206,18,86)",
           "rgb(152,0,67)",
           "rgb(103,0,31)"
          ]
         },
         "orientation": "h",
         "type": "bar",
         "x": [
          1,
          1,
          1,
          1,
          1,
          1,
          1,
          1,
          1
         ],
         "y": [
          "PuRd",
          "PuRd",
          "PuRd",
          "PuRd",
          "PuRd",
          "PuRd",
          "PuRd",
          "PuRd",
          "PuRd"
         ]
        },
        {
         "customdata": [
          0,
          1,
          2,
          3,
          4,
          5,
          6,
          7,
          8
         ],
         "hovertemplate": "%{y}[%{customdata}] = %{marker.color}<extra></extra>",
         "marker": {
          "color": [
           "rgb(255,247,251)",
           "rgb(236,226,240)",
           "rgb(208,209,230)",
           "rgb(166,189,219)",
           "rgb(103,169,207)",
           "rgb(54,144,192)",
           "rgb(2,129,138)",
           "rgb(1,108,89)",
           "rgb(1,70,54)"
          ]
         },
         "orientation": "h",
         "type": "bar",
         "x": [
          1,
          1,
          1,
          1,
          1,
          1,
          1,
          1,
          1
         ],
         "y": [
          "PuBuGn",
          "PuBuGn",
          "PuBuGn",
          "PuBuGn",
          "PuBuGn",
          "PuBuGn",
          "PuBuGn",
          "PuBuGn",
          "PuBuGn"
         ]
        },
        {
         "customdata": [
          0,
          1,
          2,
          3,
          4,
          5,
          6,
          7,
          8
         ],
         "hovertemplate": "%{y}[%{customdata}] = %{marker.color}<extra></extra>",
         "marker": {
          "color": [
           "rgb(255,247,251)",
           "rgb(236,231,242)",
           "rgb(208,209,230)",
           "rgb(166,189,219)",
           "rgb(116,169,207)",
           "rgb(54,144,192)",
           "rgb(5,112,176)",
           "rgb(4,90,141)",
           "rgb(2,56,88)"
          ]
         },
         "orientation": "h",
         "type": "bar",
         "x": [
          1,
          1,
          1,
          1,
          1,
          1,
          1,
          1,
          1
         ],
         "y": [
          "PuBu",
          "PuBu",
          "PuBu",
          "PuBu",
          "PuBu",
          "PuBu",
          "PuBu",
          "PuBu",
          "PuBu"
         ]
        },
        {
         "customdata": [
          0,
          1,
          2,
          3,
          4,
          5,
          6,
          7,
          8
         ],
         "hovertemplate": "%{y}[%{customdata}] = %{marker.color}<extra></extra>",
         "marker": {
          "color": [
           "rgb(255,245,235)",
           "rgb(254,230,206)",
           "rgb(253,208,162)",
           "rgb(253,174,107)",
           "rgb(253,141,60)",
           "rgb(241,105,19)",
           "rgb(217,72,1)",
           "rgb(166,54,3)",
           "rgb(127,39,4)"
          ]
         },
         "orientation": "h",
         "type": "bar",
         "x": [
          1,
          1,
          1,
          1,
          1,
          1,
          1,
          1,
          1
         ],
         "y": [
          "Oranges",
          "Oranges",
          "Oranges",
          "Oranges",
          "Oranges",
          "Oranges",
          "Oranges",
          "Oranges",
          "Oranges"
         ]
        },
        {
         "customdata": [
          0,
          1,
          2,
          3,
          4,
          5,
          6,
          7,
          8
         ],
         "hovertemplate": "%{y}[%{customdata}] = %{marker.color}<extra></extra>",
         "marker": {
          "color": [
           "rgb(255,247,236)",
           "rgb(254,232,200)",
           "rgb(253,212,158)",
           "rgb(253,187,132)",
           "rgb(252,141,89)",
           "rgb(239,101,72)",
           "rgb(215,48,31)",
           "rgb(179,0,0)",
           "rgb(127,0,0)"
          ]
         },
         "orientation": "h",
         "type": "bar",
         "x": [
          1,
          1,
          1,
          1,
          1,
          1,
          1,
          1,
          1
         ],
         "y": [
          "OrRd",
          "OrRd",
          "OrRd",
          "OrRd",
          "OrRd",
          "OrRd",
          "OrRd",
          "OrRd",
          "OrRd"
         ]
        },
        {
         "customdata": [
          0,
          1,
          2,
          3,
          4,
          5,
          6,
          7,
          8
         ],
         "hovertemplate": "%{y}[%{customdata}] = %{marker.color}<extra></extra>",
         "marker": {
          "color": [
           "rgb(255,255,255)",
           "rgb(240,240,240)",
           "rgb(217,217,217)",
           "rgb(189,189,189)",
           "rgb(150,150,150)",
           "rgb(115,115,115)",
           "rgb(82,82,82)",
           "rgb(37,37,37)",
           "rgb(0,0,0)"
          ]
         },
         "orientation": "h",
         "type": "bar",
         "x": [
          1,
          1,
          1,
          1,
          1,
          1,
          1,
          1,
          1
         ],
         "y": [
          "Greys",
          "Greys",
          "Greys",
          "Greys",
          "Greys",
          "Greys",
          "Greys",
          "Greys",
          "Greys"
         ]
        },
        {
         "customdata": [
          0,
          1,
          2,
          3,
          4,
          5,
          6,
          7,
          8
         ],
         "hovertemplate": "%{y}[%{customdata}] = %{marker.color}<extra></extra>",
         "marker": {
          "color": [
           "rgb(247,252,245)",
           "rgb(229,245,224)",
           "rgb(199,233,192)",
           "rgb(161,217,155)",
           "rgb(116,196,118)",
           "rgb(65,171,93)",
           "rgb(35,139,69)",
           "rgb(0,109,44)",
           "rgb(0,68,27)"
          ]
         },
         "orientation": "h",
         "type": "bar",
         "x": [
          1,
          1,
          1,
          1,
          1,
          1,
          1,
          1,
          1
         ],
         "y": [
          "Greens",
          "Greens",
          "Greens",
          "Greens",
          "Greens",
          "Greens",
          "Greens",
          "Greens",
          "Greens"
         ]
        },
        {
         "customdata": [
          0,
          1,
          2,
          3,
          4,
          5,
          6,
          7,
          8
         ],
         "hovertemplate": "%{y}[%{customdata}] = %{marker.color}<extra></extra>",
         "marker": {
          "color": [
           "rgb(247,252,240)",
           "rgb(224,243,219)",
           "rgb(204,235,197)",
           "rgb(168,221,181)",
           "rgb(123,204,196)",
           "rgb(78,179,211)",
           "rgb(43,140,190)",
           "rgb(8,104,172)",
           "rgb(8,64,129)"
          ]
         },
         "orientation": "h",
         "type": "bar",
         "x": [
          1,
          1,
          1,
          1,
          1,
          1,
          1,
          1,
          1
         ],
         "y": [
          "GnBu",
          "GnBu",
          "GnBu",
          "GnBu",
          "GnBu",
          "GnBu",
          "GnBu",
          "GnBu",
          "GnBu"
         ]
        },
        {
         "customdata": [
          0,
          1,
          2,
          3,
          4,
          5,
          6,
          7,
          8
         ],
         "hovertemplate": "%{y}[%{customdata}] = %{marker.color}<extra></extra>",
         "marker": {
          "color": [
           "rgb(247,252,253)",
           "rgb(224,236,244)",
           "rgb(191,211,230)",
           "rgb(158,188,218)",
           "rgb(140,150,198)",
           "rgb(140,107,177)",
           "rgb(136,65,157)",
           "rgb(129,15,124)",
           "rgb(77,0,75)"
          ]
         },
         "orientation": "h",
         "type": "bar",
         "x": [
          1,
          1,
          1,
          1,
          1,
          1,
          1,
          1,
          1
         ],
         "y": [
          "BuPu",
          "BuPu",
          "BuPu",
          "BuPu",
          "BuPu",
          "BuPu",
          "BuPu",
          "BuPu",
          "BuPu"
         ]
        },
        {
         "customdata": [
          0,
          1,
          2,
          3,
          4,
          5,
          6,
          7,
          8
         ],
         "hovertemplate": "%{y}[%{customdata}] = %{marker.color}<extra></extra>",
         "marker": {
          "color": [
           "rgb(247,252,253)",
           "rgb(229,245,249)",
           "rgb(204,236,230)",
           "rgb(153,216,201)",
           "rgb(102,194,164)",
           "rgb(65,174,118)",
           "rgb(35,139,69)",
           "rgb(0,109,44)",
           "rgb(0,68,27)"
          ]
         },
         "orientation": "h",
         "type": "bar",
         "x": [
          1,
          1,
          1,
          1,
          1,
          1,
          1,
          1,
          1
         ],
         "y": [
          "BuGn",
          "BuGn",
          "BuGn",
          "BuGn",
          "BuGn",
          "BuGn",
          "BuGn",
          "BuGn",
          "BuGn"
         ]
        },
        {
         "customdata": [
          0,
          1,
          2,
          3,
          4,
          5,
          6,
          7,
          8
         ],
         "hovertemplate": "%{y}[%{customdata}] = %{marker.color}<extra></extra>",
         "marker": {
          "color": [
           "rgb(247,251,255)",
           "rgb(222,235,247)",
           "rgb(198,219,239)",
           "rgb(158,202,225)",
           "rgb(107,174,214)",
           "rgb(66,146,198)",
           "rgb(33,113,181)",
           "rgb(8,81,156)",
           "rgb(8,48,107)"
          ]
         },
         "orientation": "h",
         "type": "bar",
         "x": [
          1,
          1,
          1,
          1,
          1,
          1,
          1,
          1,
          1
         ],
         "y": [
          "Blues",
          "Blues",
          "Blues",
          "Blues",
          "Blues",
          "Blues",
          "Blues",
          "Blues",
          "Blues"
         ]
        },
        {
         "customdata": [
          0,
          1,
          2,
          3,
          4,
          5,
          6,
          7,
          8
         ],
         "hovertemplate": "%{y}[%{customdata}] = %{marker.color}<extra></extra>",
         "marker": {
          "color": [
           "rgb(150,0,90)",
           "rgb(0,0,200)",
           "rgb(0,25,255)",
           "rgb(0,152,255)",
           "rgb(44,255,150)",
           "rgb(151,255,0)",
           "rgb(255,234,0)",
           "rgb(255,111,0)",
           "rgb(255,0,0)"
          ]
         },
         "orientation": "h",
         "type": "bar",
         "x": [
          1,
          1,
          1,
          1,
          1,
          1,
          1,
          1,
          1
         ],
         "y": [
          "Rainbow",
          "Rainbow",
          "Rainbow",
          "Rainbow",
          "Rainbow",
          "Rainbow",
          "Rainbow",
          "Rainbow",
          "Rainbow"
         ]
        },
        {
         "customdata": [
          0,
          1,
          2,
          3,
          4,
          5
         ],
         "hovertemplate": "%{y}[%{customdata}] = %{marker.color}<extra></extra>",
         "marker": {
          "color": [
           "rgb(0,0,131)",
           "rgb(0,60,170)",
           "rgb(5,255,255)",
           "rgb(255,255,0)",
           "rgb(250,0,0)",
           "rgb(128,0,0)"
          ]
         },
         "orientation": "h",
         "type": "bar",
         "x": [
          1,
          1,
          1,
          1,
          1,
          1
         ],
         "y": [
          "Jet",
          "Jet",
          "Jet",
          "Jet",
          "Jet",
          "Jet"
         ]
        },
        {
         "customdata": [
          0,
          1,
          2,
          3
         ],
         "hovertemplate": "%{y}[%{customdata}] = %{marker.color}<extra></extra>",
         "marker": {
          "color": [
           "rgb(0,0,0)",
           "rgb(230,0,0)",
           "rgb(255,210,0)",
           "rgb(255,255,255)"
          ]
         },
         "orientation": "h",
         "type": "bar",
         "x": [
          1,
          1,
          1,
          1
         ],
         "y": [
          "Hot",
          "Hot",
          "Hot",
          "Hot"
         ]
        },
        {
         "customdata": [
          0,
          1,
          2,
          3,
          4,
          5
         ],
         "hovertemplate": "%{y}[%{customdata}] = %{marker.color}<extra></extra>",
         "marker": {
          "color": [
           "rgb(0,0,0)",
           "rgb(30,0,100)",
           "rgb(120,0,100)",
           "rgb(160,90,0)",
           "rgb(230,200,0)",
           "rgb(255,250,220)"
          ]
         },
         "orientation": "h",
         "type": "bar",
         "x": [
          1,
          1,
          1,
          1,
          1,
          1
         ],
         "y": [
          "Electric",
          "Electric",
          "Electric",
          "Electric",
          "Electric",
          "Electric"
         ]
        },
        {
         "customdata": [
          0,
          1
         ],
         "hovertemplate": "%{y}[%{customdata}] = %{marker.color}<extra></extra>",
         "marker": {
          "color": [
           "rgb(0,0,255)",
           "rgb(255,0,0)"
          ]
         },
         "orientation": "h",
         "type": "bar",
         "x": [
          1,
          1
         ],
         "y": [
          "Bluered",
          "Bluered"
         ]
        },
        {
         "customdata": [
          0,
          1,
          2,
          3,
          4
         ],
         "hovertemplate": "%{y}[%{customdata}] = %{marker.color}<extra></extra>",
         "marker": {
          "color": [
           "rgb(0,0,0)",
           "rgb(230,0,0)",
           "rgb(230,210,0)",
           "rgb(255,255,255)",
           "rgb(160,200,255)"
          ]
         },
         "orientation": "h",
         "type": "bar",
         "x": [
          1,
          1,
          1,
          1,
          1
         ],
         "y": [
          "Blackbody",
          "Blackbody",
          "Blackbody",
          "Blackbody",
          "Blackbody"
         ]
        },
        {
         "customdata": [
          0,
          1,
          2,
          3,
          4,
          5,
          6,
          7,
          8,
          9,
          10,
          11,
          12,
          13,
          14
         ],
         "hovertemplate": "%{y}[%{customdata}] = %{marker.color}<extra></extra>",
         "marker": {
          "color": [
           "#30123b",
           "#4145ab",
           "#4675ed",
           "#39a2fc",
           "#1bcfd4",
           "#24eca6",
           "#61fc6c",
           "#a4fc3b",
           "#d1e834",
           "#f3c63a",
           "#fe9b2d",
           "#f36315",
           "#d93806",
           "#b11901",
           "#7a0402"
          ]
         },
         "orientation": "h",
         "type": "bar",
         "x": [
          1,
          1,
          1,
          1,
          1,
          1,
          1,
          1,
          1,
          1,
          1,
          1,
          1,
          1,
          1
         ],
         "y": [
          "Turbo",
          "Turbo",
          "Turbo",
          "Turbo",
          "Turbo",
          "Turbo",
          "Turbo",
          "Turbo",
          "Turbo",
          "Turbo",
          "Turbo",
          "Turbo",
          "Turbo",
          "Turbo",
          "Turbo"
         ]
        },
        {
         "customdata": [
          0,
          1,
          2,
          3,
          4,
          5,
          6,
          7,
          8,
          9
         ],
         "hovertemplate": "%{y}[%{customdata}] = %{marker.color}<extra></extra>",
         "marker": {
          "color": [
           "#0d0887",
           "#46039f",
           "#7201a8",
           "#9c179e",
           "#bd3786",
           "#d8576b",
           "#ed7953",
           "#fb9f3a",
           "#fdca26",
           "#f0f921"
          ]
         },
         "orientation": "h",
         "type": "bar",
         "x": [
          1,
          1,
          1,
          1,
          1,
          1,
          1,
          1,
          1,
          1
         ],
         "y": [
          "Plasma",
          "Plasma",
          "Plasma",
          "Plasma",
          "Plasma",
          "Plasma",
          "Plasma",
          "Plasma",
          "Plasma",
          "Plasma"
         ]
        },
        {
         "customdata": [
          0,
          1,
          2,
          3,
          4,
          5,
          6,
          7,
          8,
          9
         ],
         "hovertemplate": "%{y}[%{customdata}] = %{marker.color}<extra></extra>",
         "marker": {
          "color": [
           "#000004",
           "#180f3d",
           "#440f76",
           "#721f81",
           "#9e2f7f",
           "#cd4071",
           "#f1605d",
           "#fd9668",
           "#feca8d",
           "#fcfdbf"
          ]
         },
         "orientation": "h",
         "type": "bar",
         "x": [
          1,
          1,
          1,
          1,
          1,
          1,
          1,
          1,
          1,
          1
         ],
         "y": [
          "Magma",
          "Magma",
          "Magma",
          "Magma",
          "Magma",
          "Magma",
          "Magma",
          "Magma",
          "Magma",
          "Magma"
         ]
        },
        {
         "customdata": [
          0,
          1,
          2,
          3,
          4,
          5,
          6,
          7,
          8,
          9
         ],
         "hovertemplate": "%{y}[%{customdata}] = %{marker.color}<extra></extra>",
         "marker": {
          "color": [
           "#000004",
           "#1b0c41",
           "#4a0c6b",
           "#781c6d",
           "#a52c60",
           "#cf4446",
           "#ed6925",
           "#fb9b06",
           "#f7d13d",
           "#fcffa4"
          ]
         },
         "orientation": "h",
         "type": "bar",
         "x": [
          1,
          1,
          1,
          1,
          1,
          1,
          1,
          1,
          1,
          1
         ],
         "y": [
          "Inferno",
          "Inferno",
          "Inferno",
          "Inferno",
          "Inferno",
          "Inferno",
          "Inferno",
          "Inferno",
          "Inferno",
          "Inferno"
         ]
        },
        {
         "customdata": [
          0,
          1,
          2,
          3,
          4,
          5,
          6,
          7,
          8,
          9
         ],
         "hovertemplate": "%{y}[%{customdata}] = %{marker.color}<extra></extra>",
         "marker": {
          "color": [
           "#00224e",
           "#123570",
           "#3b496c",
           "#575d6d",
           "#707173",
           "#8a8678",
           "#a59c74",
           "#c3b369",
           "#e1cc55",
           "#fee838"
          ]
         },
         "orientation": "h",
         "type": "bar",
         "x": [
          1,
          1,
          1,
          1,
          1,
          1,
          1,
          1,
          1,
          1
         ],
         "y": [
          "Cividis",
          "Cividis",
          "Cividis",
          "Cividis",
          "Cividis",
          "Cividis",
          "Cividis",
          "Cividis",
          "Cividis",
          "Cividis"
         ]
        },
        {
         "customdata": [
          0,
          1,
          2,
          3,
          4,
          5,
          6,
          7,
          8,
          9
         ],
         "hovertemplate": "%{y}[%{customdata}] = %{marker.color}<extra></extra>",
         "marker": {
          "color": [
           "#440154",
           "#482878",
           "#3e4989",
           "#31688e",
           "#26828e",
           "#1f9e89",
           "#35b779",
           "#6ece58",
           "#b5de2b",
           "#fde725"
          ]
         },
         "orientation": "h",
         "type": "bar",
         "x": [
          1,
          1,
          1,
          1,
          1,
          1,
          1,
          1,
          1,
          1
         ],
         "y": [
          "Viridis",
          "Viridis",
          "Viridis",
          "Viridis",
          "Viridis",
          "Viridis",
          "Viridis",
          "Viridis",
          "Viridis",
          "Viridis"
         ]
        },
        {
         "customdata": [
          0,
          1,
          2,
          3,
          4,
          5,
          6,
          7,
          8,
          9,
          10,
          11,
          12
         ],
         "hovertemplate": "%{y}[%{customdata}] = %{marker.color}<extra></extra>",
         "marker": {
          "color": [
           "#0508b8",
           "#1910d8",
           "#3c19f0",
           "#6b1cfb",
           "#981cfd",
           "#bf1cfd",
           "#dd2bfd",
           "#f246fe",
           "#fc67fd",
           "#fe88fc",
           "#fea5fd",
           "#febefe",
           "#fec3fe"
          ]
         },
         "orientation": "h",
         "type": "bar",
         "x": [
          1,
          1,
          1,
          1,
          1,
          1,
          1,
          1,
          1,
          1,
          1,
          1,
          1
         ],
         "y": [
          "Plotly3",
          "Plotly3",
          "Plotly3",
          "Plotly3",
          "Plotly3",
          "Plotly3",
          "Plotly3",
          "Plotly3",
          "Plotly3",
          "Plotly3",
          "Plotly3",
          "Plotly3",
          "Plotly3"
         ]
        }
       ],
       "layout": {
        "bargap": 0.5,
        "barmode": "stack",
        "barnorm": "fraction",
        "height": 2640,
        "margin": {
         "b": 10
        },
        "showlegend": false,
        "template": {
         "data": {
          "bar": [
           {
            "error_x": {
             "color": "#2a3f5f"
            },
            "error_y": {
             "color": "#2a3f5f"
            },
            "marker": {
             "line": {
              "color": "#E5ECF6",
              "width": 0.5
             },
             "pattern": {
              "fillmode": "overlay",
              "size": 10,
              "solidity": 0.2
             }
            },
            "type": "bar"
           }
          ],
          "barpolar": [
           {
            "marker": {
             "line": {
              "color": "#E5ECF6",
              "width": 0.5
             },
             "pattern": {
              "fillmode": "overlay",
              "size": 10,
              "solidity": 0.2
             }
            },
            "type": "barpolar"
           }
          ],
          "carpet": [
           {
            "aaxis": {
             "endlinecolor": "#2a3f5f",
             "gridcolor": "white",
             "linecolor": "white",
             "minorgridcolor": "white",
             "startlinecolor": "#2a3f5f"
            },
            "baxis": {
             "endlinecolor": "#2a3f5f",
             "gridcolor": "white",
             "linecolor": "white",
             "minorgridcolor": "white",
             "startlinecolor": "#2a3f5f"
            },
            "type": "carpet"
           }
          ],
          "choropleth": [
           {
            "colorbar": {
             "outlinewidth": 0,
             "ticks": ""
            },
            "type": "choropleth"
           }
          ],
          "contour": [
           {
            "colorbar": {
             "outlinewidth": 0,
             "ticks": ""
            },
            "colorscale": [
             [
              0,
              "#0d0887"
             ],
             [
              0.1111111111111111,
              "#46039f"
             ],
             [
              0.2222222222222222,
              "#7201a8"
             ],
             [
              0.3333333333333333,
              "#9c179e"
             ],
             [
              0.4444444444444444,
              "#bd3786"
             ],
             [
              0.5555555555555556,
              "#d8576b"
             ],
             [
              0.6666666666666666,
              "#ed7953"
             ],
             [
              0.7777777777777778,
              "#fb9f3a"
             ],
             [
              0.8888888888888888,
              "#fdca26"
             ],
             [
              1,
              "#f0f921"
             ]
            ],
            "type": "contour"
           }
          ],
          "contourcarpet": [
           {
            "colorbar": {
             "outlinewidth": 0,
             "ticks": ""
            },
            "type": "contourcarpet"
           }
          ],
          "heatmap": [
           {
            "colorbar": {
             "outlinewidth": 0,
             "ticks": ""
            },
            "colorscale": [
             [
              0,
              "#0d0887"
             ],
             [
              0.1111111111111111,
              "#46039f"
             ],
             [
              0.2222222222222222,
              "#7201a8"
             ],
             [
              0.3333333333333333,
              "#9c179e"
             ],
             [
              0.4444444444444444,
              "#bd3786"
             ],
             [
              0.5555555555555556,
              "#d8576b"
             ],
             [
              0.6666666666666666,
              "#ed7953"
             ],
             [
              0.7777777777777778,
              "#fb9f3a"
             ],
             [
              0.8888888888888888,
              "#fdca26"
             ],
             [
              1,
              "#f0f921"
             ]
            ],
            "type": "heatmap"
           }
          ],
          "heatmapgl": [
           {
            "colorbar": {
             "outlinewidth": 0,
             "ticks": ""
            },
            "colorscale": [
             [
              0,
              "#0d0887"
             ],
             [
              0.1111111111111111,
              "#46039f"
             ],
             [
              0.2222222222222222,
              "#7201a8"
             ],
             [
              0.3333333333333333,
              "#9c179e"
             ],
             [
              0.4444444444444444,
              "#bd3786"
             ],
             [
              0.5555555555555556,
              "#d8576b"
             ],
             [
              0.6666666666666666,
              "#ed7953"
             ],
             [
              0.7777777777777778,
              "#fb9f3a"
             ],
             [
              0.8888888888888888,
              "#fdca26"
             ],
             [
              1,
              "#f0f921"
             ]
            ],
            "type": "heatmapgl"
           }
          ],
          "histogram": [
           {
            "marker": {
             "pattern": {
              "fillmode": "overlay",
              "size": 10,
              "solidity": 0.2
             }
            },
            "type": "histogram"
           }
          ],
          "histogram2d": [
           {
            "colorbar": {
             "outlinewidth": 0,
             "ticks": ""
            },
            "colorscale": [
             [
              0,
              "#0d0887"
             ],
             [
              0.1111111111111111,
              "#46039f"
             ],
             [
              0.2222222222222222,
              "#7201a8"
             ],
             [
              0.3333333333333333,
              "#9c179e"
             ],
             [
              0.4444444444444444,
              "#bd3786"
             ],
             [
              0.5555555555555556,
              "#d8576b"
             ],
             [
              0.6666666666666666,
              "#ed7953"
             ],
             [
              0.7777777777777778,
              "#fb9f3a"
             ],
             [
              0.8888888888888888,
              "#fdca26"
             ],
             [
              1,
              "#f0f921"
             ]
            ],
            "type": "histogram2d"
           }
          ],
          "histogram2dcontour": [
           {
            "colorbar": {
             "outlinewidth": 0,
             "ticks": ""
            },
            "colorscale": [
             [
              0,
              "#0d0887"
             ],
             [
              0.1111111111111111,
              "#46039f"
             ],
             [
              0.2222222222222222,
              "#7201a8"
             ],
             [
              0.3333333333333333,
              "#9c179e"
             ],
             [
              0.4444444444444444,
              "#bd3786"
             ],
             [
              0.5555555555555556,
              "#d8576b"
             ],
             [
              0.6666666666666666,
              "#ed7953"
             ],
             [
              0.7777777777777778,
              "#fb9f3a"
             ],
             [
              0.8888888888888888,
              "#fdca26"
             ],
             [
              1,
              "#f0f921"
             ]
            ],
            "type": "histogram2dcontour"
           }
          ],
          "mesh3d": [
           {
            "colorbar": {
             "outlinewidth": 0,
             "ticks": ""
            },
            "type": "mesh3d"
           }
          ],
          "parcoords": [
           {
            "line": {
             "colorbar": {
              "outlinewidth": 0,
              "ticks": ""
             }
            },
            "type": "parcoords"
           }
          ],
          "pie": [
           {
            "automargin": true,
            "type": "pie"
           }
          ],
          "scatter": [
           {
            "fillpattern": {
             "fillmode": "overlay",
             "size": 10,
             "solidity": 0.2
            },
            "type": "scatter"
           }
          ],
          "scatter3d": [
           {
            "line": {
             "colorbar": {
              "outlinewidth": 0,
              "ticks": ""
             }
            },
            "marker": {
             "colorbar": {
              "outlinewidth": 0,
              "ticks": ""
             }
            },
            "type": "scatter3d"
           }
          ],
          "scattercarpet": [
           {
            "marker": {
             "colorbar": {
              "outlinewidth": 0,
              "ticks": ""
             }
            },
            "type": "scattercarpet"
           }
          ],
          "scattergeo": [
           {
            "marker": {
             "colorbar": {
              "outlinewidth": 0,
              "ticks": ""
             }
            },
            "type": "scattergeo"
           }
          ],
          "scattergl": [
           {
            "marker": {
             "colorbar": {
              "outlinewidth": 0,
              "ticks": ""
             }
            },
            "type": "scattergl"
           }
          ],
          "scattermapbox": [
           {
            "marker": {
             "colorbar": {
              "outlinewidth": 0,
              "ticks": ""
             }
            },
            "type": "scattermapbox"
           }
          ],
          "scatterpolar": [
           {
            "marker": {
             "colorbar": {
              "outlinewidth": 0,
              "ticks": ""
             }
            },
            "type": "scatterpolar"
           }
          ],
          "scatterpolargl": [
           {
            "marker": {
             "colorbar": {
              "outlinewidth": 0,
              "ticks": ""
             }
            },
            "type": "scatterpolargl"
           }
          ],
          "scatterternary": [
           {
            "marker": {
             "colorbar": {
              "outlinewidth": 0,
              "ticks": ""
             }
            },
            "type": "scatterternary"
           }
          ],
          "surface": [
           {
            "colorbar": {
             "outlinewidth": 0,
             "ticks": ""
            },
            "colorscale": [
             [
              0,
              "#0d0887"
             ],
             [
              0.1111111111111111,
              "#46039f"
             ],
             [
              0.2222222222222222,
              "#7201a8"
             ],
             [
              0.3333333333333333,
              "#9c179e"
             ],
             [
              0.4444444444444444,
              "#bd3786"
             ],
             [
              0.5555555555555556,
              "#d8576b"
             ],
             [
              0.6666666666666666,
              "#ed7953"
             ],
             [
              0.7777777777777778,
              "#fb9f3a"
             ],
             [
              0.8888888888888888,
              "#fdca26"
             ],
             [
              1,
              "#f0f921"
             ]
            ],
            "type": "surface"
           }
          ],
          "table": [
           {
            "cells": {
             "fill": {
              "color": "#EBF0F8"
             },
             "line": {
              "color": "white"
             }
            },
            "header": {
             "fill": {
              "color": "#C8D4E3"
             },
             "line": {
              "color": "white"
             }
            },
            "type": "table"
           }
          ]
         },
         "layout": {
          "annotationdefaults": {
           "arrowcolor": "#2a3f5f",
           "arrowhead": 0,
           "arrowwidth": 1
          },
          "autotypenumbers": "strict",
          "coloraxis": {
           "colorbar": {
            "outlinewidth": 0,
            "ticks": ""
           }
          },
          "colorscale": {
           "diverging": [
            [
             0,
             "#8e0152"
            ],
            [
             0.1,
             "#c51b7d"
            ],
            [
             0.2,
             "#de77ae"
            ],
            [
             0.3,
             "#f1b6da"
            ],
            [
             0.4,
             "#fde0ef"
            ],
            [
             0.5,
             "#f7f7f7"
            ],
            [
             0.6,
             "#e6f5d0"
            ],
            [
             0.7,
             "#b8e186"
            ],
            [
             0.8,
             "#7fbc41"
            ],
            [
             0.9,
             "#4d9221"
            ],
            [
             1,
             "#276419"
            ]
           ],
           "sequential": [
            [
             0,
             "#0d0887"
            ],
            [
             0.1111111111111111,
             "#46039f"
            ],
            [
             0.2222222222222222,
             "#7201a8"
            ],
            [
             0.3333333333333333,
             "#9c179e"
            ],
            [
             0.4444444444444444,
             "#bd3786"
            ],
            [
             0.5555555555555556,
             "#d8576b"
            ],
            [
             0.6666666666666666,
             "#ed7953"
            ],
            [
             0.7777777777777778,
             "#fb9f3a"
            ],
            [
             0.8888888888888888,
             "#fdca26"
            ],
            [
             1,
             "#f0f921"
            ]
           ],
           "sequentialminus": [
            [
             0,
             "#0d0887"
            ],
            [
             0.1111111111111111,
             "#46039f"
            ],
            [
             0.2222222222222222,
             "#7201a8"
            ],
            [
             0.3333333333333333,
             "#9c179e"
            ],
            [
             0.4444444444444444,
             "#bd3786"
            ],
            [
             0.5555555555555556,
             "#d8576b"
            ],
            [
             0.6666666666666666,
             "#ed7953"
            ],
            [
             0.7777777777777778,
             "#fb9f3a"
            ],
            [
             0.8888888888888888,
             "#fdca26"
            ],
            [
             1,
             "#f0f921"
            ]
           ]
          },
          "colorway": [
           "#636efa",
           "#EF553B",
           "#00cc96",
           "#ab63fa",
           "#FFA15A",
           "#19d3f3",
           "#FF6692",
           "#B6E880",
           "#FF97FF",
           "#FECB52"
          ],
          "font": {
           "color": "#2a3f5f"
          },
          "geo": {
           "bgcolor": "white",
           "lakecolor": "white",
           "landcolor": "#E5ECF6",
           "showlakes": true,
           "showland": true,
           "subunitcolor": "white"
          },
          "hoverlabel": {
           "align": "left"
          },
          "hovermode": "closest",
          "mapbox": {
           "style": "light"
          },
          "paper_bgcolor": "white",
          "plot_bgcolor": "#E5ECF6",
          "polar": {
           "angularaxis": {
            "gridcolor": "white",
            "linecolor": "white",
            "ticks": ""
           },
           "bgcolor": "#E5ECF6",
           "radialaxis": {
            "gridcolor": "white",
            "linecolor": "white",
            "ticks": ""
           }
          },
          "scene": {
           "xaxis": {
            "backgroundcolor": "#E5ECF6",
            "gridcolor": "white",
            "gridwidth": 2,
            "linecolor": "white",
            "showbackground": true,
            "ticks": "",
            "zerolinecolor": "white"
           },
           "yaxis": {
            "backgroundcolor": "#E5ECF6",
            "gridcolor": "white",
            "gridwidth": 2,
            "linecolor": "white",
            "showbackground": true,
            "ticks": "",
            "zerolinecolor": "white"
           },
           "zaxis": {
            "backgroundcolor": "#E5ECF6",
            "gridcolor": "white",
            "gridwidth": 2,
            "linecolor": "white",
            "showbackground": true,
            "ticks": "",
            "zerolinecolor": "white"
           }
          },
          "shapedefaults": {
           "line": {
            "color": "#2a3f5f"
           }
          },
          "ternary": {
           "aaxis": {
            "gridcolor": "white",
            "linecolor": "white",
            "ticks": ""
           },
           "baxis": {
            "gridcolor": "white",
            "linecolor": "white",
            "ticks": ""
           },
           "bgcolor": "#E5ECF6",
           "caxis": {
            "gridcolor": "white",
            "linecolor": "white",
            "ticks": ""
           }
          },
          "title": {
           "x": 0.05
          },
          "xaxis": {
           "automargin": true,
           "gridcolor": "white",
           "linecolor": "white",
           "ticks": "",
           "title": {
            "standoff": 15
           },
           "zerolinecolor": "white",
           "zerolinewidth": 2
          },
          "yaxis": {
           "automargin": true,
           "gridcolor": "white",
           "linecolor": "white",
           "ticks": "",
           "title": {
            "standoff": 15
           },
           "zerolinecolor": "white",
           "zerolinewidth": 2
          }
         }
        },
        "title": {
         "text": "plotly.colors.sequential"
        },
        "xaxis": {
         "range": [
          -0.02,
          1.02
         ],
         "showgrid": false,
         "showticklabels": false
        }
       }
      }
     },
     "metadata": {},
     "output_type": "display_data"
    }
   ],
   "source": [
    "px.colors.sequential.swatches()"
   ]
  }
 ],
 "metadata": {
  "kernelspec": {
   "display_name": "Python 3",
   "language": "python",
   "name": "python3"
  },
  "language_info": {
   "codemirror_mode": {
    "name": "ipython",
    "version": 3
   },
   "file_extension": ".py",
   "mimetype": "text/x-python",
   "name": "python",
   "nbconvert_exporter": "python",
   "pygments_lexer": "ipython3",
   "version": "3.9.7"
  },
  "orig_nbformat": 4,
  "vscode": {
   "interpreter": {
    "hash": "aee8b7b246df8f9039afb4144a1f6fd8d2ca17a180786b69acc140d282b71a49"
   }
  }
 },
 "nbformat": 4,
 "nbformat_minor": 2
}
