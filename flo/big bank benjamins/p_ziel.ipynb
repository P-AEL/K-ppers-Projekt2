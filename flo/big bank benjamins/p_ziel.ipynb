{
 "cells": [
  {
   "cell_type": "code",
   "execution_count": 39,
   "metadata": {},
   "outputs": [],
   "source": [
    "import pandas as pd\n",
    "import numpy as np\n",
    "import plotly.express as px\n",
    "from sklearn.model_selection import train_test_split\n",
    "from sklearn.tree import DecisionTreeClassifier\n",
    "from sklearn.model_selection import GridSearchCV\n",
    "from sklearn.metrics import accuracy_score, recall_score, precision_score\n",
    "from sklearn.ensemble import HistGradientBoostingClassifier\n",
    "from sklearn.pipeline import make_pipeline\n",
    "from sklearn.linear_model import LogisticRegression\n",
    "from sklearn.preprocessing import StandardScaler"
   ]
  },
  {
   "cell_type": "code",
   "execution_count": 2,
   "metadata": {},
   "outputs": [],
   "source": [
    "def print_evaluation(pipeline_or_model: str, X_train, X_test, y_train, y_test, y_train_pred, y_test_pred):\n",
    "    accurary_train = accuracy_score(y_train, y_train_pred)\n",
    "    recall_train = recall_score(y_train, y_train_pred)\n",
    "    precision_train = precision_score(y_train, y_train_pred)\n",
    "\n",
    "    accurary_test = accuracy_score(y_test, y_test_pred)\n",
    "    recall_test = recall_score(y_test, y_test_pred)\n",
    "    precision_test = precision_score(y_test, y_test_pred)\n",
    "    \n",
    "    print(\n",
    "        f\"{pipeline_or_model} Evaluation:\\n\"\n",
    "        f\"{'':6} {'ACC':>10} | {'REC':>14} | {'PRE':>10} | {'rows':>8} | {'columns':>8}\\n\"\n",
    "        f\"{'Train':6} {accurary_train:10.5f} | {recall_train:14.5f} | {precision_train:10.5f} | {X_train.shape[0]:8} | {X_train.shape[1]:8}\\n\"\n",
    "        f\"{'Test':6} {accurary_test:10.5f} | {recall_test:14.5f} | {precision_test:10.5f} | {X_test.shape[0]:8} | {X_test.shape[1]:8}\\n\"\n",
    "    )"
   ]
  },
  {
   "cell_type": "code",
   "execution_count": 3,
   "metadata": {},
   "outputs": [],
   "source": [
    "df = pd.read_parquet(\"DSCB310 - UE2 - Shopping Carts.parquet\")"
   ]
  },
  {
   "cell_type": "code",
   "execution_count": 4,
   "metadata": {},
   "outputs": [],
   "source": [
    "df = df.reset_index(drop= True)\n",
    "df = df.fillna(0)"
   ]
  },
  {
   "cell_type": "code",
   "execution_count": 15,
   "metadata": {},
   "outputs": [],
   "source": [
    "df_sample = df.sample(frac= 0.1)"
   ]
  },
  {
   "cell_type": "code",
   "execution_count": 17,
   "metadata": {},
   "outputs": [],
   "source": [
    "df_tip = df_sample.groupby([\"user_id\", \"order_id\", \"order_number\"], as_index= False).agg(tip = (\"tip\", \"mean\")).sort_values(by= [\"user_id\", \"order_number\"], ascending= True)\n",
    "df_tip[\"tip_cumsum\"] = df_tip.groupby(\"user_id\", as_index= False)[\"tip\"].cumsum()\n",
    "df_tip[\"user_tip_ratio\"] = df_tip.tip_cumsum / df_tip.order_number\n",
    "\n",
    "df_tip_merge = df_tip[[\"user_id\", \"order_id\", \"order_number\", \"user_tip_ratio\"]]\n",
    "df_sample = df_sample.merge(df_tip_merge, on = [\"user_id\", \"order_id\", \"order_number\"], how= \"right\")"
   ]
  },
  {
   "cell_type": "code",
   "execution_count": 22,
   "metadata": {},
   "outputs": [],
   "source": [
    "df_classifier = df_sample.copy()"
   ]
  },
  {
   "cell_type": "code",
   "execution_count": 23,
   "metadata": {},
   "outputs": [],
   "source": [
    "df_classifier = pd.get_dummies(df_classifier, columns= [\"county\"])"
   ]
  },
  {
   "cell_type": "code",
   "execution_count": 24,
   "metadata": {},
   "outputs": [
    {
     "data": {
      "text/html": [
       "<div>\n",
       "<style scoped>\n",
       "    .dataframe tbody tr th:only-of-type {\n",
       "        vertical-align: middle;\n",
       "    }\n",
       "\n",
       "    .dataframe tbody tr th {\n",
       "        vertical-align: top;\n",
       "    }\n",
       "\n",
       "    .dataframe thead th {\n",
       "        text-align: right;\n",
       "    }\n",
       "</style>\n",
       "<table border=\"1\" class=\"dataframe\">\n",
       "  <thead>\n",
       "    <tr style=\"text-align: right;\">\n",
       "      <th></th>\n",
       "      <th>order_id</th>\n",
       "      <th>product_id</th>\n",
       "      <th>add_to_cart_order</th>\n",
       "      <th>reordered</th>\n",
       "      <th>user_id</th>\n",
       "      <th>order_number</th>\n",
       "      <th>order_dow</th>\n",
       "      <th>order_hour_of_day</th>\n",
       "      <th>days_since_prior_order</th>\n",
       "      <th>tip</th>\n",
       "      <th>...</th>\n",
       "      <th>county_Sonoma</th>\n",
       "      <th>county_Stanislaus</th>\n",
       "      <th>county_Sutter</th>\n",
       "      <th>county_Tehama</th>\n",
       "      <th>county_Trinity</th>\n",
       "      <th>county_Tulare</th>\n",
       "      <th>county_Tuolumne</th>\n",
       "      <th>county_Ventura</th>\n",
       "      <th>county_Yolo</th>\n",
       "      <th>county_Yuba</th>\n",
       "    </tr>\n",
       "  </thead>\n",
       "  <tbody>\n",
       "    <tr>\n",
       "      <th>0</th>\n",
       "      <td>244029</td>\n",
       "      <td>39190</td>\n",
       "      <td>5</td>\n",
       "      <td>0</td>\n",
       "      <td>3</td>\n",
       "      <td>1</td>\n",
       "      <td>1</td>\n",
       "      <td>14</td>\n",
       "      <td>0.0</td>\n",
       "      <td>1</td>\n",
       "      <td>...</td>\n",
       "      <td>0</td>\n",
       "      <td>0</td>\n",
       "      <td>0</td>\n",
       "      <td>0</td>\n",
       "      <td>0</td>\n",
       "      <td>0</td>\n",
       "      <td>0</td>\n",
       "      <td>0</td>\n",
       "      <td>0</td>\n",
       "      <td>0</td>\n",
       "    </tr>\n",
       "    <tr>\n",
       "      <th>1</th>\n",
       "      <td>244029</td>\n",
       "      <td>39922</td>\n",
       "      <td>8</td>\n",
       "      <td>0</td>\n",
       "      <td>3</td>\n",
       "      <td>1</td>\n",
       "      <td>1</td>\n",
       "      <td>14</td>\n",
       "      <td>0.0</td>\n",
       "      <td>1</td>\n",
       "      <td>...</td>\n",
       "      <td>0</td>\n",
       "      <td>0</td>\n",
       "      <td>0</td>\n",
       "      <td>0</td>\n",
       "      <td>0</td>\n",
       "      <td>0</td>\n",
       "      <td>0</td>\n",
       "      <td>0</td>\n",
       "      <td>0</td>\n",
       "      <td>0</td>\n",
       "    </tr>\n",
       "    <tr>\n",
       "      <th>2</th>\n",
       "      <td>361761</td>\n",
       "      <td>9387</td>\n",
       "      <td>3</td>\n",
       "      <td>1</td>\n",
       "      <td>3</td>\n",
       "      <td>4</td>\n",
       "      <td>2</td>\n",
       "      <td>18</td>\n",
       "      <td>20.0</td>\n",
       "      <td>1</td>\n",
       "      <td>...</td>\n",
       "      <td>0</td>\n",
       "      <td>0</td>\n",
       "      <td>0</td>\n",
       "      <td>0</td>\n",
       "      <td>0</td>\n",
       "      <td>0</td>\n",
       "      <td>0</td>\n",
       "      <td>0</td>\n",
       "      <td>0</td>\n",
       "      <td>0</td>\n",
       "    </tr>\n",
       "    <tr>\n",
       "      <th>3</th>\n",
       "      <td>350475</td>\n",
       "      <td>39190</td>\n",
       "      <td>2</td>\n",
       "      <td>1</td>\n",
       "      <td>3</td>\n",
       "      <td>6</td>\n",
       "      <td>0</td>\n",
       "      <td>16</td>\n",
       "      <td>7.0</td>\n",
       "      <td>1</td>\n",
       "      <td>...</td>\n",
       "      <td>0</td>\n",
       "      <td>0</td>\n",
       "      <td>0</td>\n",
       "      <td>0</td>\n",
       "      <td>0</td>\n",
       "      <td>0</td>\n",
       "      <td>0</td>\n",
       "      <td>0</td>\n",
       "      <td>0</td>\n",
       "      <td>0</td>\n",
       "    </tr>\n",
       "    <tr>\n",
       "      <th>4</th>\n",
       "      <td>326696</td>\n",
       "      <td>14992</td>\n",
       "      <td>7</td>\n",
       "      <td>1</td>\n",
       "      <td>3</td>\n",
       "      <td>7</td>\n",
       "      <td>0</td>\n",
       "      <td>15</td>\n",
       "      <td>7.0</td>\n",
       "      <td>1</td>\n",
       "      <td>...</td>\n",
       "      <td>0</td>\n",
       "      <td>0</td>\n",
       "      <td>0</td>\n",
       "      <td>0</td>\n",
       "      <td>0</td>\n",
       "      <td>0</td>\n",
       "      <td>0</td>\n",
       "      <td>0</td>\n",
       "      <td>0</td>\n",
       "      <td>0</td>\n",
       "    </tr>\n",
       "    <tr>\n",
       "      <th>...</th>\n",
       "      <td>...</td>\n",
       "      <td>...</td>\n",
       "      <td>...</td>\n",
       "      <td>...</td>\n",
       "      <td>...</td>\n",
       "      <td>...</td>\n",
       "      <td>...</td>\n",
       "      <td>...</td>\n",
       "      <td>...</td>\n",
       "      <td>...</td>\n",
       "      <td>...</td>\n",
       "      <td>...</td>\n",
       "      <td>...</td>\n",
       "      <td>...</td>\n",
       "      <td>...</td>\n",
       "      <td>...</td>\n",
       "      <td>...</td>\n",
       "      <td>...</td>\n",
       "      <td>...</td>\n",
       "      <td>...</td>\n",
       "      <td>...</td>\n",
       "    </tr>\n",
       "    <tr>\n",
       "      <th>613262</th>\n",
       "      <td>199719</td>\n",
       "      <td>21240</td>\n",
       "      <td>15</td>\n",
       "      <td>1</td>\n",
       "      <td>206201</td>\n",
       "      <td>31</td>\n",
       "      <td>1</td>\n",
       "      <td>11</td>\n",
       "      <td>22.0</td>\n",
       "      <td>1</td>\n",
       "      <td>...</td>\n",
       "      <td>0</td>\n",
       "      <td>0</td>\n",
       "      <td>0</td>\n",
       "      <td>0</td>\n",
       "      <td>0</td>\n",
       "      <td>0</td>\n",
       "      <td>0</td>\n",
       "      <td>0</td>\n",
       "      <td>0</td>\n",
       "      <td>0</td>\n",
       "    </tr>\n",
       "    <tr>\n",
       "      <th>613263</th>\n",
       "      <td>199719</td>\n",
       "      <td>46673</td>\n",
       "      <td>1</td>\n",
       "      <td>1</td>\n",
       "      <td>206201</td>\n",
       "      <td>31</td>\n",
       "      <td>1</td>\n",
       "      <td>11</td>\n",
       "      <td>22.0</td>\n",
       "      <td>1</td>\n",
       "      <td>...</td>\n",
       "      <td>0</td>\n",
       "      <td>0</td>\n",
       "      <td>0</td>\n",
       "      <td>0</td>\n",
       "      <td>0</td>\n",
       "      <td>0</td>\n",
       "      <td>0</td>\n",
       "      <td>0</td>\n",
       "      <td>0</td>\n",
       "      <td>0</td>\n",
       "    </tr>\n",
       "    <tr>\n",
       "      <th>613264</th>\n",
       "      <td>550775</td>\n",
       "      <td>12916</td>\n",
       "      <td>4</td>\n",
       "      <td>1</td>\n",
       "      <td>206201</td>\n",
       "      <td>32</td>\n",
       "      <td>3</td>\n",
       "      <td>17</td>\n",
       "      <td>16.0</td>\n",
       "      <td>0</td>\n",
       "      <td>...</td>\n",
       "      <td>0</td>\n",
       "      <td>0</td>\n",
       "      <td>0</td>\n",
       "      <td>0</td>\n",
       "      <td>0</td>\n",
       "      <td>0</td>\n",
       "      <td>0</td>\n",
       "      <td>0</td>\n",
       "      <td>0</td>\n",
       "      <td>0</td>\n",
       "    </tr>\n",
       "    <tr>\n",
       "      <th>613265</th>\n",
       "      <td>550775</td>\n",
       "      <td>294</td>\n",
       "      <td>11</td>\n",
       "      <td>1</td>\n",
       "      <td>206201</td>\n",
       "      <td>32</td>\n",
       "      <td>3</td>\n",
       "      <td>17</td>\n",
       "      <td>16.0</td>\n",
       "      <td>0</td>\n",
       "      <td>...</td>\n",
       "      <td>0</td>\n",
       "      <td>0</td>\n",
       "      <td>0</td>\n",
       "      <td>0</td>\n",
       "      <td>0</td>\n",
       "      <td>0</td>\n",
       "      <td>0</td>\n",
       "      <td>0</td>\n",
       "      <td>0</td>\n",
       "      <td>0</td>\n",
       "    </tr>\n",
       "    <tr>\n",
       "      <th>613266</th>\n",
       "      <td>550775</td>\n",
       "      <td>10193</td>\n",
       "      <td>9</td>\n",
       "      <td>1</td>\n",
       "      <td>206201</td>\n",
       "      <td>32</td>\n",
       "      <td>3</td>\n",
       "      <td>17</td>\n",
       "      <td>16.0</td>\n",
       "      <td>0</td>\n",
       "      <td>...</td>\n",
       "      <td>0</td>\n",
       "      <td>0</td>\n",
       "      <td>0</td>\n",
       "      <td>0</td>\n",
       "      <td>0</td>\n",
       "      <td>0</td>\n",
       "      <td>0</td>\n",
       "      <td>0</td>\n",
       "      <td>0</td>\n",
       "      <td>0</td>\n",
       "    </tr>\n",
       "  </tbody>\n",
       "</table>\n",
       "<p>613267 rows × 73 columns</p>\n",
       "</div>"
      ],
      "text/plain": [
       "        order_id  product_id  add_to_cart_order  reordered  user_id  \\\n",
       "0         244029       39190                  5          0        3   \n",
       "1         244029       39922                  8          0        3   \n",
       "2         361761        9387                  3          1        3   \n",
       "3         350475       39190                  2          1        3   \n",
       "4         326696       14992                  7          1        3   \n",
       "...          ...         ...                ...        ...      ...   \n",
       "613262    199719       21240                 15          1   206201   \n",
       "613263    199719       46673                  1          1   206201   \n",
       "613264    550775       12916                  4          1   206201   \n",
       "613265    550775         294                 11          1   206201   \n",
       "613266    550775       10193                  9          1   206201   \n",
       "\n",
       "        order_number  order_dow  order_hour_of_day  days_since_prior_order  \\\n",
       "0                  1          1                 14                     0.0   \n",
       "1                  1          1                 14                     0.0   \n",
       "2                  4          2                 18                    20.0   \n",
       "3                  6          0                 16                     7.0   \n",
       "4                  7          0                 15                     7.0   \n",
       "...              ...        ...                ...                     ...   \n",
       "613262            31          1                 11                    22.0   \n",
       "613263            31          1                 11                    22.0   \n",
       "613264            32          3                 17                    16.0   \n",
       "613265            32          3                 17                    16.0   \n",
       "613266            32          3                 17                    16.0   \n",
       "\n",
       "        tip  ... county_Sonoma  county_Stanislaus  county_Sutter  \\\n",
       "0         1  ...             0                  0              0   \n",
       "1         1  ...             0                  0              0   \n",
       "2         1  ...             0                  0              0   \n",
       "3         1  ...             0                  0              0   \n",
       "4         1  ...             0                  0              0   \n",
       "...     ...  ...           ...                ...            ...   \n",
       "613262    1  ...             0                  0              0   \n",
       "613263    1  ...             0                  0              0   \n",
       "613264    0  ...             0                  0              0   \n",
       "613265    0  ...             0                  0              0   \n",
       "613266    0  ...             0                  0              0   \n",
       "\n",
       "       county_Tehama county_Trinity  county_Tulare  county_Tuolumne  \\\n",
       "0                  0              0              0                0   \n",
       "1                  0              0              0                0   \n",
       "2                  0              0              0                0   \n",
       "3                  0              0              0                0   \n",
       "4                  0              0              0                0   \n",
       "...              ...            ...            ...              ...   \n",
       "613262             0              0              0                0   \n",
       "613263             0              0              0                0   \n",
       "613264             0              0              0                0   \n",
       "613265             0              0              0                0   \n",
       "613266             0              0              0                0   \n",
       "\n",
       "        county_Ventura  county_Yolo  county_Yuba  \n",
       "0                    0            0            0  \n",
       "1                    0            0            0  \n",
       "2                    0            0            0  \n",
       "3                    0            0            0  \n",
       "4                    0            0            0  \n",
       "...                ...          ...          ...  \n",
       "613262               0            0            0  \n",
       "613263               0            0            0  \n",
       "613264               0            0            0  \n",
       "613265               0            0            0  \n",
       "613266               0            0            0  \n",
       "\n",
       "[613267 rows x 73 columns]"
      ]
     },
     "execution_count": 24,
     "metadata": {},
     "output_type": "execute_result"
    }
   ],
   "source": [
    "df_classifier"
   ]
  },
  {
   "cell_type": "code",
   "execution_count": 25,
   "metadata": {},
   "outputs": [],
   "source": [
    "X = df_classifier.drop([\"product_name\", \"department\", \"aisle\", \"tip\"], axis= 1)\n",
    "y = df_classifier[\"tip\"]"
   ]
  },
  {
   "cell_type": "code",
   "execution_count": 26,
   "metadata": {},
   "outputs": [],
   "source": [
    "X_train, X_test, y_train, y_test = train_test_split(X, y, test_size= 0.2, random_state=0)"
   ]
  },
  {
   "attachments": {},
   "cell_type": "markdown",
   "metadata": {},
   "source": [
    "#### **HGBC**"
   ]
  },
  {
   "cell_type": "code",
   "execution_count": 27,
   "metadata": {},
   "outputs": [
    {
     "name": "stdout",
     "output_type": "stream",
     "text": [
      "Best param: {'learning_rate': 0.1, 'max_depth': 5, 'max_iter': 100, 'random_state': 0} with acc: 0.8015890316851552\n"
     ]
    }
   ],
   "source": [
    "gs_crss_hgbc = GridSearchCV(\n",
    " estimator= HistGradientBoostingClassifier(),\n",
    " param_grid= dict(max_iter= [100], learning_rate= [0.001, 0.01, 0.1], max_depth= [1,3,5], random_state= [0]),\n",
    " scoring= \"accuracy\",\n",
    " n_jobs= -1\n",
    ").fit(X_train, y_train)\n",
    "\n",
    "print(f\"Best param: {gs_crss_hgbc.best_params_} with acc: {gs_crss_hgbc.best_score_}\")"
   ]
  },
  {
   "cell_type": "code",
   "execution_count": 28,
   "metadata": {},
   "outputs": [
    {
     "name": "stdout",
     "output_type": "stream",
     "text": [
      "HGBC Evaluation:\n",
      "              ACC |            REC |        PRE |     rows |  columns\n",
      "Train     0.80234 |        0.79621 |    0.76936 |   490613 |       69\n",
      "Test      0.80157 |        0.79629 |    0.77049 |   122654 |       69\n",
      "\n"
     ]
    }
   ],
   "source": [
    "best_hgbc = HistGradientBoostingClassifier(learning_rate= 0.1, max_depth= 5, max_iter= 100, random_state= 0).fit(X_train, y_train)\n",
    "\n",
    "y_best_train_pred = best_hgbc.predict(X_train)\n",
    "y_best_test_pred = best_hgbc.predict(X_test)\n",
    "\n",
    "print_evaluation(\"HGBC\", X_train, X_test, y_train, y_test, y_best_train_pred, y_best_test_pred)"
   ]
  },
  {
   "cell_type": "code",
   "execution_count": 60,
   "metadata": {},
   "outputs": [
    {
     "data": {
      "image/png": "[encoded data removed]",
      "text/plain": [
       "<Figure size 1440x1080 with 1 Axes>"
      ]
     },
     "metadata": {
      "needs_background": "light"
     },
     "output_type": "display_data"
    }
   ],
   "source": [
    "from sklearn.inspection import permutation_importance\n",
    "\n",
    "result = permutation_importance(best_hgbc, X_test, y_test, n_repeats= 10, random_state= 0, n_jobs= -1)\n",
    "\n",
    "sorted_importances_idx = result.importances_mean.argsort()\n",
    "importances = pd.DataFrame(\n",
    " result.importances[sorted_importances_idx].T,\n",
    " columns= X.columns[sorted_importances_idx]\n",
    ")\n",
    "\n",
    "ax= importances.plot.box(vert= False, whis= 10, figsize= (20, 15))\n",
    "ax.set_title(\"Permutation Importances (test_set)\")\n",
    "ax.axvline(x= 0, color= \"k\", linestyle= \"--\")\n",
    "ax.set_xlabel(\"Decrease in accuracy score\")\n",
    "ax.figure.tight_layout()"
   ]
  },
  {
   "attachments": {},
   "cell_type": "markdown",
   "metadata": {},
   "source": [
    "#### **DTC**"
   ]
  },
  {
   "cell_type": "code",
   "execution_count": 34,
   "metadata": {},
   "outputs": [
    {
     "name": "stdout",
     "output_type": "stream",
     "text": [
      "Best param: {'max_depth': 9, 'min_samples_split': 2, 'random_state': 0} with acc: 0.7977387481454989\n"
     ]
    }
   ],
   "source": [
    "gs_crss_dtc = GridSearchCV(\n",
    " estimator= DecisionTreeClassifier(),\n",
    " param_grid= dict(min_samples_split= [2, 10, 20, 50, 100], max_depth= [1, 3, 5, 9], random_state= [0]),\n",
    " scoring= \"accuracy\",\n",
    " n_jobs= -1\n",
    ").fit(X_train, y_train)\n",
    "\n",
    "print(f\"Best param: {gs_crss_dtc.best_params_} with acc: {gs_crss_dtc.best_score_}\")"
   ]
  },
  {
   "cell_type": "code",
   "execution_count": 36,
   "metadata": {},
   "outputs": [
    {
     "name": "stdout",
     "output_type": "stream",
     "text": [
      "DTC Evaluation:\n",
      "              ACC |            REC |        PRE |     rows |  columns\n",
      "Train     0.80155 |        0.78594 |    0.77347 |   490613 |       69\n",
      "Test      0.79806 |        0.78236 |    0.77199 |   122654 |       69\n",
      "\n"
     ]
    }
   ],
   "source": [
    "best_dtc = DecisionTreeClassifier(max_depth= 9, min_samples_split= 2, random_state= 0).fit(X_train, y_train)\n",
    "\n",
    "y_best_train_pred = best_dtc.predict(X_train)\n",
    "y_best_test_pred = best_dtc.predict(X_test)\n",
    "\n",
    "print_evaluation(\"DTC\", X_train, X_test, y_train, y_test, y_best_train_pred, y_best_test_pred)"
   ]
  },
  {
   "cell_type": "code",
   "execution_count": 37,
   "metadata": {},
   "outputs": [
    {
     "name": "stdout",
     "output_type": "stream",
     "text": [
      "{'order_id': 0.0024360049000960726, 'product_id': 0.0002941600639374432, 'add_to_cart_order': 0.004543934555243233, 'reordered': 1.4006452455397546e-05, 'user_id': 0.0014912571131418101, 'order_number': 0.002158000094368512, 'order_dow': 0.031994586879281556, 'order_hour_of_day': 0.015698835635160557, 'days_since_prior_order': 0.0021133252192428995, 'aisle_id': 0.00029266787750085576, 'department_id': 0.00198819523612475, 'user_tip_ratio': 0.9335026329367192, 'county_Alameda': 2.5686705925057966e-05, 'county_Alpine': 0.0, 'county_Amador': 0.0002517415966053994, 'county_Calaveras': 0.0002145998600991861, 'county_Colusa': 0.00011324282612346281, 'county_Contra Costa': 6.191714564456485e-05, 'county_Del Norte': 1.5582200345398882e-05, 'county_El Dorado': 0.0, 'county_Fresno': 5.62191962117325e-05, 'county_Glenn': 0.00013983267567239921, 'county_Humboldt': 3.2728330163247195e-05, 'county_Imperial': 9.244352447895065e-05, 'county_Inyo': 9.02586806744768e-05, 'county_Kern': 0.00023967091351069278, 'county_Kings': 0.0, 'county_Lake': 4.446294578360899e-05, 'county_Lassen': 0.0, 'county_Los Angeles': 0.0, 'county_Madera': 3.9959364595380553e-05, 'county_Marin': 1.3891002847014645e-05, 'county_Mariposa': 4.305728526533111e-05, 'county_Mendocino': 3.177779557420757e-05, 'county_Merced': 0.000173643904318939, 'county_Modoc': 5.583614888434748e-05, 'county_Mono': 4.3489411785394394e-05, 'county_Monterey': 0.0001110900767609549, 'county_Napa': 0.0, 'county_Nevada': 0.00012797177591391886, 'county_Orange': 0.00012179742041318879, 'county_Placer': 0.0, 'county_Plumas': 4.775132126039938e-05, 'county_Riverside': 0.00013292253696362574, 'county_Sacramento': 0.0001329671797779427, 'county_San Benito': 0.00013514768890794746, 'county_San Bernardino': 0.0, 'county_San Diego': 3.0253630592444645e-05, 'county_San Francisco': 0.0001895979952259601, 'county_San Joaquin': 0.0, 'county_San Luis Obispo': 3.825828940688435e-05, 'county_San Mateo': 3.0013826690137602e-05, 'county_Santa Barbara': 6.618482937164878e-05, 'county_Santa Clara': 0.0, 'county_Santa Cruz': 0.00011458670055872322, 'county_Shasta': 0.0, 'county_Sierra': 8.645698378767491e-06, 'county_Siskiyou': 0.0, 'county_Solano': 5.407915968443832e-05, 'county_Sonoma': 2.8655565928149086e-05, 'county_Stanislaus': 3.614655930032601e-05, 'county_Sutter': 6.276965730011491e-05, 'county_Tehama': 0.0, 'county_Trinity': 0.0, 'county_Tulare': 5.784774375010128e-05, 'county_Tuolumne': 0.0, 'county_Ventura': 7.154588714516959e-05, 'county_Yolo': 4.631938066253678e-05, 'county_Yuba': 4.779859822552549e-05}\n"
     ]
    }
   ],
   "source": [
    "# 'user_tip_ratio': 0.9335026329367192\n",
    "\n",
    "print(dict(zip(X.columns, best_dtc.feature_importances_)))"
   ]
  },
  {
   "attachments": {},
   "cell_type": "markdown",
   "metadata": {},
   "source": [
    "#### **LRC**"
   ]
  },
  {
   "cell_type": "code",
   "execution_count": 43,
   "metadata": {},
   "outputs": [
    {
     "name": "stdout",
     "output_type": "stream",
     "text": [
      "Best param: {'logisticregression__C': 3.34, 'logisticregression__penalty': 'l1', 'logisticregression__solver': 'saga'} with acc: 0.7913875114628052\n"
     ]
    }
   ],
   "source": [
    "pipe_lo = make_pipeline(StandardScaler(),\n",
    "                     LogisticRegression(max_iter=500,dual=False)\n",
    "                     )\n",
    "param_grid_lo = {\n",
    "\"logisticregression__penalty\": [\"l1\"],\n",
    "\"logisticregression__C\": np.linspace(0.01, 10, 10),\n",
    "\"logisticregression__solver\": [\"saga\"]\n",
    " \n",
    "}\n",
    "gs_crss_lrc = GridSearchCV(pipe_lo, param_grid_lo, scoring= \"accuracy\", n_jobs= -1).fit(X_train,y_train)\n",
    "\n",
    "print(f\"Best param: {gs_crss_lrc.best_params_} with acc: {gs_crss_lrc.best_score_}\")"
   ]
  },
  {
   "cell_type": "code",
   "execution_count": 44,
   "metadata": {},
   "outputs": [
    {
     "name": "stderr",
     "output_type": "stream",
     "text": [
      "/Library/Frameworks/Python.framework/Versions/3.9/lib/python3.9/site-packages/sklearn/linear_model/_sag.py:350: ConvergenceWarning: The max_iter was reached which means the coef_ did not converge\n",
      "  warnings.warn(\n"
     ]
    },
    {
     "name": "stdout",
     "output_type": "stream",
     "text": [
      "LRC Evaluation:\n",
      "              ACC |            REC |        PRE |     rows |  columns\n",
      "Train     0.55328 |        0.00000 |    0.00000 |   490613 |       69\n",
      "Test      0.54995 |        0.00002 |    0.50000 |   122654 |       69\n",
      "\n"
     ]
    },
    {
     "name": "stderr",
     "output_type": "stream",
     "text": [
      "/Library/Frameworks/Python.framework/Versions/3.9/lib/python3.9/site-packages/sklearn/metrics/_classification.py:1327: UndefinedMetricWarning: Precision is ill-defined and being set to 0.0 due to no predicted samples. Use `zero_division` parameter to control this behavior.\n",
      "  _warn_prf(average, modifier, msg_start, len(result))\n"
     ]
    }
   ],
   "source": [
    "best_lrc = LogisticRegression(penalty= \"l1\", C= 3.34, solver= \"saga\").fit(X_train, y_train)\n",
    "\n",
    "y_pred_train_best_lrc = best_lrc.predict(X_train)\n",
    "y_pred_test_best_lrc = best_lrc.predict(X_test)\n",
    "\n",
    "print_evaluation(\"LRC\", X_train, X_test, y_train, y_test, y_pred_train_best_lrc, y_pred_test_best_lrc)"
   ]
  },
  {
   "cell_type": "code",
   "execution_count": 45,
   "metadata": {},
   "outputs": [
    {
     "ename": "AttributeError",
     "evalue": "'LogisticRegression' object has no attribute 'feature_importances_'",
     "output_type": "error",
     "traceback": [
      "\u001b[0;31m---------------------------------------------------------------------------\u001b[0m",
      "\u001b[0;31mAttributeError\u001b[0m                            Traceback (most recent call last)",
      "\u001b[1;32m/Users/florian/Documents/GitHub/3 Semester/projects/K-ppers-project-2/Flo/p_ziel.ipynb Zelle 23\u001b[0m in \u001b[0;36m<cell line: 1>\u001b[0;34m()\u001b[0m\n\u001b[0;32m----> <a href='vscode-notebook-cell:/Users/florian/Documents/GitHub/3%20Semester/projects/K-ppers-project-2/Flo/p_ziel.ipynb#X43sZmlsZQ%3D%3D?line=0'>1</a>\u001b[0m \u001b[39mprint\u001b[39m(\u001b[39mdict\u001b[39m(\u001b[39mzip\u001b[39m(X\u001b[39m.\u001b[39mcolumns, best_lrc\u001b[39m.\u001b[39;49mfeature_importances_)))\n",
      "\u001b[0;31mAttributeError\u001b[0m: 'LogisticRegression' object has no attribute 'feature_importances_'"
     ]
    }
   ],
   "source": [
    "print(dict(zip(X.columns, best_lrc.feature_importances_)))"
   ]
  }
 ],
 "metadata": {
  "kernelspec": {
   "display_name": "Python 3",
   "language": "python",
   "name": "python3"
  },
  "language_info": {
   "codemirror_mode": {
    "name": "ipython",
    "version": 3
   },
   "file_extension": ".py",
   "mimetype": "text/x-python",
   "name": "python",
   "nbconvert_exporter": "python",
   "pygments_lexer": "ipython3",
   "version": "3.9.7 (v3.9.7:1016ef3790, Aug 30 2021, 16:39:15) \n[Clang 6.0 (clang-600.0.57)]"
  },
  "orig_nbformat": 4,
  "vscode": {
   "interpreter": {
    "hash": "aee8b7b246df8f9039afb4144a1f6fd8d2ca17a180786b69acc140d282b71a49"
   }
  }
 },
 "nbformat": 4,
 "nbformat_minor": 2
}
