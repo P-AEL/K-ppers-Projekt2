{
 "cells": [
  {
   "cell_type": "code",
   "execution_count": null,
   "metadata": {},
   "outputs": [],
   "source": [
    "import pandas as pd\n",
    "import plotly.express as px\n",
    "\n",
    "df = pd.read_parquet(\"DSCB310 - UE2 - Shopping Carts.parquet\")"
   ]
  },
  {
   "cell_type": "code",
   "execution_count": null,
   "metadata": {},
   "outputs": [],
   "source": [
    "df.reset_index(inplace= True)"
   ]
  },
  {
   "attachments": {},
   "cell_type": "markdown",
   "metadata": {},
   "source": [
    "### **P4:** Spielt die Vergangenheit eines Users eine Rolle in Hinblick auf die Trinkgeldwahrscheinlichkeit, oder kommt es nur auf Inhalt und Parameter der aktuellen Bestellung an?"
   ]
  },
  {
   "attachments": {},
   "cell_type": "markdown",
   "metadata": {},
   "source": [
    "#### User-Vergangenheit"
   ]
  },
  {
   "cell_type": "code",
   "execution_count": null,
   "metadata": {},
   "outputs": [],
   "source": [
    "# aktuelle Bestellung raussnehmen und tip_wshk berechnen und mit aktueller Bestellung vergleichen"
   ]
  },
  {
   "cell_type": "code",
   "execution_count": 129,
   "metadata": {},
   "outputs": [],
   "source": [
    "df_userhh = df.copy()"
   ]
  },
  {
   "cell_type": "code",
   "execution_count": 136,
   "metadata": {},
   "outputs": [],
   "source": [
    "df_userh1 = df_userhh.groupby(\"user_id\", as_index= False).agg(orders = (\"order_id\", \"unique\"), reordered= (\"reordered\", \"mean\"), tip= (\"tip\", \"mean\"))"
   ]
  },
  {
   "cell_type": "code",
   "execution_count": 132,
   "metadata": {},
   "outputs": [],
   "source": [
    "last_orders = []\n",
    "\n",
    "for ind, order in enumerate(df_userh1.orders):\n",
    " last_orders.append(df_userh1.orders[ind][-1])"
   ]
  },
  {
   "cell_type": "code",
   "execution_count": 133,
   "metadata": {},
   "outputs": [
    {
     "data": {
      "text/html": [
       "<div>\n",
       "<style scoped>\n",
       "    .dataframe tbody tr th:only-of-type {\n",
       "        vertical-align: middle;\n",
       "    }\n",
       "\n",
       "    .dataframe tbody tr th {\n",
       "        vertical-align: top;\n",
       "    }\n",
       "\n",
       "    .dataframe thead th {\n",
       "        text-align: right;\n",
       "    }\n",
       "</style>\n",
       "<table border=\"1\" class=\"dataframe\">\n",
       "  <thead>\n",
       "    <tr style=\"text-align: right;\">\n",
       "      <th></th>\n",
       "      <th>index</th>\n",
       "      <th>order_id</th>\n",
       "      <th>product_id</th>\n",
       "      <th>add_to_cart_order</th>\n",
       "      <th>reordered</th>\n",
       "      <th>user_id</th>\n",
       "      <th>order_number</th>\n",
       "      <th>order_dow</th>\n",
       "      <th>order_hour_of_day</th>\n",
       "      <th>days_since_prior_order</th>\n",
       "      <th>tip</th>\n",
       "      <th>product_name</th>\n",
       "      <th>aisle_id</th>\n",
       "      <th>department_id</th>\n",
       "      <th>department</th>\n",
       "      <th>aisle</th>\n",
       "      <th>county</th>\n",
       "    </tr>\n",
       "  </thead>\n",
       "  <tbody>\n",
       "    <tr>\n",
       "      <th>341211</th>\n",
       "      <td>5575428</td>\n",
       "      <td>33753</td>\n",
       "      <td>13727</td>\n",
       "      <td>2</td>\n",
       "      <td>0</td>\n",
       "      <td>52465</td>\n",
       "      <td>1</td>\n",
       "      <td>6</td>\n",
       "      <td>19</td>\n",
       "      <td>NaN</td>\n",
       "      <td>0</td>\n",
       "      <td>Immunity Probiotic</td>\n",
       "      <td>70</td>\n",
       "      <td>11</td>\n",
       "      <td>personal care</td>\n",
       "      <td>digestion</td>\n",
       "      <td>Amador</td>\n",
       "    </tr>\n",
       "    <tr>\n",
       "      <th>341212</th>\n",
       "      <td>5575427</td>\n",
       "      <td>33753</td>\n",
       "      <td>8229</td>\n",
       "      <td>3</td>\n",
       "      <td>0</td>\n",
       "      <td>52465</td>\n",
       "      <td>1</td>\n",
       "      <td>6</td>\n",
       "      <td>19</td>\n",
       "      <td>NaN</td>\n",
       "      <td>0</td>\n",
       "      <td>Pain Reliever and Fever Reducer Tablets</td>\n",
       "      <td>133</td>\n",
       "      <td>11</td>\n",
       "      <td>personal care</td>\n",
       "      <td>muscles joints pain relief</td>\n",
       "      <td>Amador</td>\n",
       "    </tr>\n",
       "    <tr>\n",
       "      <th>341213</th>\n",
       "      <td>5575426</td>\n",
       "      <td>33753</td>\n",
       "      <td>31506</td>\n",
       "      <td>1</td>\n",
       "      <td>0</td>\n",
       "      <td>52465</td>\n",
       "      <td>1</td>\n",
       "      <td>6</td>\n",
       "      <td>19</td>\n",
       "      <td>NaN</td>\n",
       "      <td>0</td>\n",
       "      <td>Extra Virgin Olive Oil</td>\n",
       "      <td>19</td>\n",
       "      <td>13</td>\n",
       "      <td>pantry</td>\n",
       "      <td>oils vinegars</td>\n",
       "      <td>Amador</td>\n",
       "    </tr>\n",
       "    <tr>\n",
       "      <th>499533</th>\n",
       "      <td>5702704</td>\n",
       "      <td>49468</td>\n",
       "      <td>8204</td>\n",
       "      <td>11</td>\n",
       "      <td>0</td>\n",
       "      <td>3547</td>\n",
       "      <td>2</td>\n",
       "      <td>6</td>\n",
       "      <td>12</td>\n",
       "      <td>30.0</td>\n",
       "      <td>0</td>\n",
       "      <td>Traditional Favorites Tomato &amp; Basil Pasta Sauce</td>\n",
       "      <td>9</td>\n",
       "      <td>9</td>\n",
       "      <td>dry goods pasta</td>\n",
       "      <td>pasta sauce</td>\n",
       "      <td>Santa Cruz</td>\n",
       "    </tr>\n",
       "    <tr>\n",
       "      <th>499534</th>\n",
       "      <td>5702712</td>\n",
       "      <td>49468</td>\n",
       "      <td>29569</td>\n",
       "      <td>2</td>\n",
       "      <td>1</td>\n",
       "      <td>3547</td>\n",
       "      <td>2</td>\n",
       "      <td>6</td>\n",
       "      <td>12</td>\n",
       "      <td>30.0</td>\n",
       "      <td>0</td>\n",
       "      <td>Fruit On The Bottom Strawberry Yogurt</td>\n",
       "      <td>120</td>\n",
       "      <td>16</td>\n",
       "      <td>dairy eggs</td>\n",
       "      <td>yogurt</td>\n",
       "      <td>Santa Cruz</td>\n",
       "    </tr>\n",
       "  </tbody>\n",
       "</table>\n",
       "</div>"
      ],
      "text/plain": [
       "          index  order_id  product_id  add_to_cart_order  reordered  user_id  \\\n",
       "341211  5575428     33753       13727                  2          0    52465   \n",
       "341212  5575427     33753        8229                  3          0    52465   \n",
       "341213  5575426     33753       31506                  1          0    52465   \n",
       "499533  5702704     49468        8204                 11          0     3547   \n",
       "499534  5702712     49468       29569                  2          1     3547   \n",
       "\n",
       "        order_number  order_dow  order_hour_of_day  days_since_prior_order  \\\n",
       "341211             1          6                 19                     NaN   \n",
       "341212             1          6                 19                     NaN   \n",
       "341213             1          6                 19                     NaN   \n",
       "499533             2          6                 12                    30.0   \n",
       "499534             2          6                 12                    30.0   \n",
       "\n",
       "        tip                                      product_name  aisle_id  \\\n",
       "341211    0                                Immunity Probiotic        70   \n",
       "341212    0           Pain Reliever and Fever Reducer Tablets       133   \n",
       "341213    0                            Extra Virgin Olive Oil        19   \n",
       "499533    0  Traditional Favorites Tomato & Basil Pasta Sauce         9   \n",
       "499534    0             Fruit On The Bottom Strawberry Yogurt       120   \n",
       "\n",
       "        department_id       department                       aisle      county  \n",
       "341211             11    personal care                   digestion      Amador  \n",
       "341212             11    personal care  muscles joints pain relief      Amador  \n",
       "341213             13           pantry               oils vinegars      Amador  \n",
       "499533              9  dry goods pasta                 pasta sauce  Santa Cruz  \n",
       "499534             16       dairy eggs                      yogurt  Santa Cruz  "
      ]
     },
     "execution_count": 133,
     "metadata": {},
     "output_type": "execute_result"
    }
   ],
   "source": [
    "df_userhh.loc[df_userhh.order_id.isin(last_orders)].head()"
   ]
  },
  {
   "cell_type": "code",
   "execution_count": 135,
   "metadata": {},
   "outputs": [],
   "source": [
    "df_userhh.drop(df_userhh.loc[df_userhh.order_id.isin(last_orders)].index, inplace= True)"
   ]
  },
  {
   "cell_type": "code",
   "execution_count": 137,
   "metadata": {},
   "outputs": [
    {
     "data": {
      "text/plain": [
       "560872"
      ]
     },
     "execution_count": 137,
     "metadata": {},
     "output_type": "execute_result"
    }
   ],
   "source": [
    "df_userh1.orders[0][-1]"
   ]
  },
  {
   "cell_type": "code",
   "execution_count": 140,
   "metadata": {},
   "outputs": [],
   "source": [
    "df_userh = df_userhh.groupby(\"user_id\", as_index= False).agg(orders = (\"order_id\", \"nunique\"), reordered= (\"reordered\", \"mean\"), tip= (\"tip\", \"mean\"))"
   ]
  },
  {
   "cell_type": "code",
   "execution_count": 141,
   "metadata": {},
   "outputs": [
    {
     "data": {
      "text/html": [
       "<div>\n",
       "<style scoped>\n",
       "    .dataframe tbody tr th:only-of-type {\n",
       "        vertical-align: middle;\n",
       "    }\n",
       "\n",
       "    .dataframe tbody tr th {\n",
       "        vertical-align: top;\n",
       "    }\n",
       "\n",
       "    .dataframe thead th {\n",
       "        text-align: right;\n",
       "    }\n",
       "</style>\n",
       "<table border=\"1\" class=\"dataframe\">\n",
       "  <thead>\n",
       "    <tr style=\"text-align: right;\">\n",
       "      <th></th>\n",
       "      <th>user_id</th>\n",
       "      <th>orders</th>\n",
       "      <th>reordered</th>\n",
       "      <th>tip</th>\n",
       "    </tr>\n",
       "  </thead>\n",
       "  <tbody>\n",
       "    <tr>\n",
       "      <th>0</th>\n",
       "      <td>3</td>\n",
       "      <td>11</td>\n",
       "      <td>0.612500</td>\n",
       "      <td>0.925000</td>\n",
       "    </tr>\n",
       "    <tr>\n",
       "      <th>1</th>\n",
       "      <td>7</td>\n",
       "      <td>20</td>\n",
       "      <td>0.668293</td>\n",
       "      <td>0.668293</td>\n",
       "    </tr>\n",
       "    <tr>\n",
       "      <th>2</th>\n",
       "      <td>14</td>\n",
       "      <td>13</td>\n",
       "      <td>0.325359</td>\n",
       "      <td>0.478469</td>\n",
       "    </tr>\n",
       "    <tr>\n",
       "      <th>3</th>\n",
       "      <td>23</td>\n",
       "      <td>4</td>\n",
       "      <td>0.100000</td>\n",
       "      <td>0.000000</td>\n",
       "    </tr>\n",
       "    <tr>\n",
       "      <th>4</th>\n",
       "      <td>25</td>\n",
       "      <td>2</td>\n",
       "      <td>0.058824</td>\n",
       "      <td>0.352941</td>\n",
       "    </tr>\n",
       "    <tr>\n",
       "      <th>...</th>\n",
       "      <td>...</td>\n",
       "      <td>...</td>\n",
       "      <td>...</td>\n",
       "      <td>...</td>\n",
       "    </tr>\n",
       "    <tr>\n",
       "      <th>37362</th>\n",
       "      <td>206186</td>\n",
       "      <td>3</td>\n",
       "      <td>0.241379</td>\n",
       "      <td>0.758621</td>\n",
       "    </tr>\n",
       "    <tr>\n",
       "      <th>37363</th>\n",
       "      <td>206189</td>\n",
       "      <td>5</td>\n",
       "      <td>0.542857</td>\n",
       "      <td>0.142857</td>\n",
       "    </tr>\n",
       "    <tr>\n",
       "      <th>37364</th>\n",
       "      <td>206192</td>\n",
       "      <td>13</td>\n",
       "      <td>0.644444</td>\n",
       "      <td>0.255556</td>\n",
       "    </tr>\n",
       "    <tr>\n",
       "      <th>37365</th>\n",
       "      <td>206195</td>\n",
       "      <td>19</td>\n",
       "      <td>0.432836</td>\n",
       "      <td>0.149254</td>\n",
       "    </tr>\n",
       "    <tr>\n",
       "      <th>37366</th>\n",
       "      <td>206201</td>\n",
       "      <td>31</td>\n",
       "      <td>0.565000</td>\n",
       "      <td>0.457500</td>\n",
       "    </tr>\n",
       "  </tbody>\n",
       "</table>\n",
       "<p>37367 rows × 4 columns</p>\n",
       "</div>"
      ],
      "text/plain": [
       "       user_id  orders  reordered       tip\n",
       "0            3      11   0.612500  0.925000\n",
       "1            7      20   0.668293  0.668293\n",
       "2           14      13   0.325359  0.478469\n",
       "3           23       4   0.100000  0.000000\n",
       "4           25       2   0.058824  0.352941\n",
       "...        ...     ...        ...       ...\n",
       "37362   206186       3   0.241379  0.758621\n",
       "37363   206189       5   0.542857  0.142857\n",
       "37364   206192      13   0.644444  0.255556\n",
       "37365   206195      19   0.432836  0.149254\n",
       "37366   206201      31   0.565000  0.457500\n",
       "\n",
       "[37367 rows x 4 columns]"
      ]
     },
     "execution_count": 141,
     "metadata": {},
     "output_type": "execute_result"
    }
   ],
   "source": [
    "df_userh"
   ]
  },
  {
   "attachments": {},
   "cell_type": "markdown",
   "metadata": {},
   "source": [
    "#### old"
   ]
  },
  {
   "cell_type": "code",
   "execution_count": null,
   "metadata": {},
   "outputs": [],
   "source": [
    "df_userh.loc[df_userh.orders < df_userh.orders]"
   ]
  },
  {
   "cell_type": "code",
   "execution_count": null,
   "metadata": {},
   "outputs": [],
   "source": [
    "df_userh.loc[df_userh.orders >= df_userh.orders.quantile(0.8)]"
   ]
  },
  {
   "cell_type": "code",
   "execution_count": null,
   "metadata": {},
   "outputs": [],
   "source": [
    "list_bins = [1, 10, 20, 30, 40, 50, 60, 70, 80, 90, 100]\n",
    "df_userh[\"orders_cut\"] = pd.cut(df_userh[\"orders\"], bins= list_bins, include_lowest= True)"
   ]
  },
  {
   "cell_type": "code",
   "execution_count": null,
   "metadata": {},
   "outputs": [],
   "source": [
    "df_userh"
   ]
  },
  {
   "cell_type": "code",
   "execution_count": null,
   "metadata": {},
   "outputs": [],
   "source": [
    "df_userh1 = df_userh.groupby(\"orders_cut\", as_index= False).agg(orders= (\"orders\", \"sum\"), reordered= (\"reordered\", \"mean\"), tip= (\"tip\", \"mean\"))\n",
    "df_userh1"
   ]
  },
  {
   "cell_type": "code",
   "execution_count": null,
   "metadata": {},
   "outputs": [],
   "source": [
    "df_userh1[\"orders_cut\"] = df_userh1[\"orders_cut\"].astype(\"str\")"
   ]
  },
  {
   "cell_type": "code",
   "execution_count": null,
   "metadata": {},
   "outputs": [],
   "source": [
    "px.bar(df_userh1, x= \"orders_cut\", y= \"tip\")"
   ]
  },
  {
   "attachments": {},
   "cell_type": "markdown",
   "metadata": {},
   "source": [
    "#### Inhalt und Parameter einer Bestellung"
   ]
  },
  {
   "cell_type": "code",
   "execution_count": null,
   "metadata": {},
   "outputs": [],
   "source": [
    "# wieder aktuelle bestellung rausnehmen und tipp_wshk frühere mit aktueller vgl und warenkorb vergeleichen sowie parameter county, department"
   ]
  }
 ],
 "metadata": {
  "kernelspec": {
   "display_name": "Python 3",
   "language": "python",
   "name": "python3"
  },
  "language_info": {
   "codemirror_mode": {
    "name": "ipython",
    "version": 3
   },
   "file_extension": ".py",
   "mimetype": "text/x-python",
   "name": "python",
   "nbconvert_exporter": "python",
   "pygments_lexer": "ipython3",
   "version": "3.9.7"
  },
  "orig_nbformat": 4,
  "vscode": {
   "interpreter": {
    "hash": "aee8b7b246df8f9039afb4144a1f6fd8d2ca17a180786b69acc140d282b71a49"
   }
  }
 },
 "nbformat": 4,
 "nbformat_minor": 2
}
