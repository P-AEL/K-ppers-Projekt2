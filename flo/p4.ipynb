{
 "cells": [
  {
   "cell_type": "code",
   "execution_count": 299,
   "metadata": {},
   "outputs": [],
   "source": [
    "import pandas as pd\n",
    "import plotly.express as px\n",
    "\n",
    "df = pd.read_parquet(\"DSCB310 - UE2 - Shopping Carts.parquet\")"
   ]
  },
  {
   "cell_type": "code",
   "execution_count": 300,
   "metadata": {},
   "outputs": [],
   "source": [
    "df = df.reset_index(drop= True)"
   ]
  },
  {
   "attachments": {},
   "cell_type": "markdown",
   "metadata": {},
   "source": [
    "### **P4:** Spielt die Vergangenheit eines Users eine Rolle in Hinblick auf die Trinkgeldwahrscheinlichkeit, oder kommt es nur auf Inhalt und Parameter der aktuellen Bestellung an?"
   ]
  },
  {
   "attachments": {},
   "cell_type": "markdown",
   "metadata": {},
   "source": [
    "#### User-Vergangenheit"
   ]
  },
  {
   "attachments": {},
   "cell_type": "markdown",
   "metadata": {},
   "source": [
    "##### prepo"
   ]
  },
  {
   "cell_type": "code",
   "execution_count": 302,
   "metadata": {},
   "outputs": [],
   "source": [
    "df_userhh = df.copy()"
   ]
  },
  {
   "cell_type": "code",
   "execution_count": 303,
   "metadata": {},
   "outputs": [],
   "source": [
    "df_userhh = df_userhh.sort_values(by= [\"user_id\", \"order_number\"], ascending= True)"
   ]
  },
  {
   "cell_type": "code",
   "execution_count": 304,
   "metadata": {},
   "outputs": [],
   "source": [
    "df_userh1 = df_userhh.groupby(\"user_id\", as_index= False).agg(orders = (\"order_id\", \"unique\"), reordered= (\"reordered\", \"mean\"), tip= (\"tip\", \"mean\"), order_number= (\"order_number\", \"unique\"))"
   ]
  },
  {
   "cell_type": "code",
   "execution_count": 305,
   "metadata": {},
   "outputs": [
    {
     "data": {
      "text/html": [
       "<div>\n",
       "<style scoped>\n",
       "    .dataframe tbody tr th:only-of-type {\n",
       "        vertical-align: middle;\n",
       "    }\n",
       "\n",
       "    .dataframe tbody tr th {\n",
       "        vertical-align: top;\n",
       "    }\n",
       "\n",
       "    .dataframe thead th {\n",
       "        text-align: right;\n",
       "    }\n",
       "</style>\n",
       "<table border=\"1\" class=\"dataframe\">\n",
       "  <thead>\n",
       "    <tr style=\"text-align: right;\">\n",
       "      <th></th>\n",
       "      <th>user_id</th>\n",
       "      <th>orders</th>\n",
       "      <th>reordered</th>\n",
       "      <th>tip</th>\n",
       "      <th>order_number</th>\n",
       "    </tr>\n",
       "  </thead>\n",
       "  <tbody>\n",
       "    <tr>\n",
       "      <th>0</th>\n",
       "      <td>3</td>\n",
       "      <td>[244029, 78693, 533119, 361761, 481466, 350475...</td>\n",
       "      <td>0.625000</td>\n",
       "      <td>0.840909</td>\n",
       "      <td>[1, 2, 3, 4, 5, 6, 7, 8, 9, 10, 11, 12]</td>\n",
       "    </tr>\n",
       "    <tr>\n",
       "      <th>1</th>\n",
       "      <td>7</td>\n",
       "      <td>[455863, 426645, 21397, 301146, 589317, 298684...</td>\n",
       "      <td>0.679070</td>\n",
       "      <td>0.637209</td>\n",
       "      <td>[1, 2, 3, 4, 5, 6, 7, 8, 9, 10, 11, 12, 13, 14...</td>\n",
       "    </tr>\n",
       "    <tr>\n",
       "      <th>2</th>\n",
       "      <td>14</td>\n",
       "      <td>[515987, 569030, 242632, 245955, 300451, 37770...</td>\n",
       "      <td>0.343891</td>\n",
       "      <td>0.506787</td>\n",
       "      <td>[1, 2, 3, 4, 5, 6, 7, 8, 9, 10, 11, 12, 13, 14]</td>\n",
       "    </tr>\n",
       "    <tr>\n",
       "      <th>3</th>\n",
       "      <td>23</td>\n",
       "      <td>[318279, 1415, 337923, 190237, 603547]</td>\n",
       "      <td>0.192308</td>\n",
       "      <td>0.000000</td>\n",
       "      <td>[1, 2, 3, 4, 5]</td>\n",
       "    </tr>\n",
       "    <tr>\n",
       "      <th>4</th>\n",
       "      <td>25</td>\n",
       "      <td>[463866, 531613, 45667]</td>\n",
       "      <td>0.095238</td>\n",
       "      <td>0.476190</td>\n",
       "      <td>[1, 2, 3]</td>\n",
       "    </tr>\n",
       "    <tr>\n",
       "      <th>...</th>\n",
       "      <td>...</td>\n",
       "      <td>...</td>\n",
       "      <td>...</td>\n",
       "      <td>...</td>\n",
       "      <td>...</td>\n",
       "    </tr>\n",
       "    <tr>\n",
       "      <th>37362</th>\n",
       "      <td>206186</td>\n",
       "      <td>[325279, 330436, 373011, 28440]</td>\n",
       "      <td>0.307692</td>\n",
       "      <td>0.564103</td>\n",
       "      <td>[1, 2, 3, 4]</td>\n",
       "    </tr>\n",
       "    <tr>\n",
       "      <th>37363</th>\n",
       "      <td>206189</td>\n",
       "      <td>[526741, 350559, 213452, 317551, 265207, 345993]</td>\n",
       "      <td>0.475000</td>\n",
       "      <td>0.250000</td>\n",
       "      <td>[1, 2, 3, 4, 5, 6]</td>\n",
       "    </tr>\n",
       "    <tr>\n",
       "      <th>37364</th>\n",
       "      <td>206192</td>\n",
       "      <td>[575407, 161466, 525470, 24105, 16470, 447330,...</td>\n",
       "      <td>0.640777</td>\n",
       "      <td>0.223301</td>\n",
       "      <td>[1, 2, 3, 4, 5, 6, 7, 8, 9, 10, 11, 12, 13, 14]</td>\n",
       "    </tr>\n",
       "    <tr>\n",
       "      <th>37365</th>\n",
       "      <td>206195</td>\n",
       "      <td>[164347, 403007, 557442, 433213, 398328, 14601...</td>\n",
       "      <td>0.438356</td>\n",
       "      <td>0.136986</td>\n",
       "      <td>[1, 2, 3, 4, 5, 6, 7, 8, 9, 10, 11, 12, 13, 14...</td>\n",
       "    </tr>\n",
       "    <tr>\n",
       "      <th>37366</th>\n",
       "      <td>206201</td>\n",
       "      <td>[4956, 467461, 102362, 554910, 33422, 120429, ...</td>\n",
       "      <td>0.569307</td>\n",
       "      <td>0.452970</td>\n",
       "      <td>[1, 2, 3, 4, 5, 6, 7, 8, 9, 10, 11, 12, 13, 14...</td>\n",
       "    </tr>\n",
       "  </tbody>\n",
       "</table>\n",
       "<p>37367 rows × 5 columns</p>\n",
       "</div>"
      ],
      "text/plain": [
       "       user_id                                             orders  reordered  \\\n",
       "0            3  [244029, 78693, 533119, 361761, 481466, 350475...   0.625000   \n",
       "1            7  [455863, 426645, 21397, 301146, 589317, 298684...   0.679070   \n",
       "2           14  [515987, 569030, 242632, 245955, 300451, 37770...   0.343891   \n",
       "3           23             [318279, 1415, 337923, 190237, 603547]   0.192308   \n",
       "4           25                            [463866, 531613, 45667]   0.095238   \n",
       "...        ...                                                ...        ...   \n",
       "37362   206186                    [325279, 330436, 373011, 28440]   0.307692   \n",
       "37363   206189   [526741, 350559, 213452, 317551, 265207, 345993]   0.475000   \n",
       "37364   206192  [575407, 161466, 525470, 24105, 16470, 447330,...   0.640777   \n",
       "37365   206195  [164347, 403007, 557442, 433213, 398328, 14601...   0.438356   \n",
       "37366   206201  [4956, 467461, 102362, 554910, 33422, 120429, ...   0.569307   \n",
       "\n",
       "            tip                                       order_number  \n",
       "0      0.840909            [1, 2, 3, 4, 5, 6, 7, 8, 9, 10, 11, 12]  \n",
       "1      0.637209  [1, 2, 3, 4, 5, 6, 7, 8, 9, 10, 11, 12, 13, 14...  \n",
       "2      0.506787    [1, 2, 3, 4, 5, 6, 7, 8, 9, 10, 11, 12, 13, 14]  \n",
       "3      0.000000                                    [1, 2, 3, 4, 5]  \n",
       "4      0.476190                                          [1, 2, 3]  \n",
       "...         ...                                                ...  \n",
       "37362  0.564103                                       [1, 2, 3, 4]  \n",
       "37363  0.250000                                 [1, 2, 3, 4, 5, 6]  \n",
       "37364  0.223301    [1, 2, 3, 4, 5, 6, 7, 8, 9, 10, 11, 12, 13, 14]  \n",
       "37365  0.136986  [1, 2, 3, 4, 5, 6, 7, 8, 9, 10, 11, 12, 13, 14...  \n",
       "37366  0.452970  [1, 2, 3, 4, 5, 6, 7, 8, 9, 10, 11, 12, 13, 14...  \n",
       "\n",
       "[37367 rows x 5 columns]"
      ]
     },
     "execution_count": 305,
     "metadata": {},
     "output_type": "execute_result"
    }
   ],
   "source": [
    "df_userh1"
   ]
  },
  {
   "cell_type": "code",
   "execution_count": 306,
   "metadata": {},
   "outputs": [],
   "source": [
    "last_orders = []\n",
    "\n",
    "for ind, order in enumerate(df_userh1.orders):\n",
    " last_orders.append(df_userh1.orders[ind][-1])"
   ]
  },
  {
   "cell_type": "code",
   "execution_count": 307,
   "metadata": {},
   "outputs": [],
   "source": [
    "df_userhh.drop(df_userhh.loc[df_userhh.order_id.isin(last_orders)].index, inplace= True)"
   ]
  },
  {
   "cell_type": "code",
   "execution_count": 308,
   "metadata": {},
   "outputs": [
    {
     "data": {
      "text/plain": [
       "248921"
      ]
     },
     "execution_count": 308,
     "metadata": {},
     "output_type": "execute_result"
    }
   ],
   "source": [
    "df_userh1.orders[0][-1]"
   ]
  },
  {
   "cell_type": "code",
   "execution_count": 309,
   "metadata": {},
   "outputs": [],
   "source": [
    "df_userh = df_userhh.groupby(\"user_id\", as_index= False).agg(orders = (\"order_id\", \"nunique\"), reordered= (\"reordered\", \"mean\"), tip= (\"tip\", \"mean\"))"
   ]
  },
  {
   "cell_type": "code",
   "execution_count": 310,
   "metadata": {},
   "outputs": [
    {
     "data": {
      "text/html": [
       "<div>\n",
       "<style scoped>\n",
       "    .dataframe tbody tr th:only-of-type {\n",
       "        vertical-align: middle;\n",
       "    }\n",
       "\n",
       "    .dataframe tbody tr th {\n",
       "        vertical-align: top;\n",
       "    }\n",
       "\n",
       "    .dataframe thead th {\n",
       "        text-align: right;\n",
       "    }\n",
       "</style>\n",
       "<table border=\"1\" class=\"dataframe\">\n",
       "  <thead>\n",
       "    <tr style=\"text-align: right;\">\n",
       "      <th></th>\n",
       "      <th>user_id</th>\n",
       "      <th>orders</th>\n",
       "      <th>reordered</th>\n",
       "      <th>tip</th>\n",
       "    </tr>\n",
       "  </thead>\n",
       "  <tbody>\n",
       "    <tr>\n",
       "      <th>0</th>\n",
       "      <td>3</td>\n",
       "      <td>11</td>\n",
       "      <td>0.597561</td>\n",
       "      <td>0.829268</td>\n",
       "    </tr>\n",
       "    <tr>\n",
       "      <th>1</th>\n",
       "      <td>7</td>\n",
       "      <td>20</td>\n",
       "      <td>0.669903</td>\n",
       "      <td>0.621359</td>\n",
       "    </tr>\n",
       "    <tr>\n",
       "      <th>2</th>\n",
       "      <td>14</td>\n",
       "      <td>13</td>\n",
       "      <td>0.323810</td>\n",
       "      <td>0.533333</td>\n",
       "    </tr>\n",
       "    <tr>\n",
       "      <th>3</th>\n",
       "      <td>23</td>\n",
       "      <td>4</td>\n",
       "      <td>0.100000</td>\n",
       "      <td>0.000000</td>\n",
       "    </tr>\n",
       "    <tr>\n",
       "      <th>4</th>\n",
       "      <td>25</td>\n",
       "      <td>2</td>\n",
       "      <td>0.066667</td>\n",
       "      <td>0.266667</td>\n",
       "    </tr>\n",
       "    <tr>\n",
       "      <th>...</th>\n",
       "      <td>...</td>\n",
       "      <td>...</td>\n",
       "      <td>...</td>\n",
       "      <td>...</td>\n",
       "    </tr>\n",
       "    <tr>\n",
       "      <th>37362</th>\n",
       "      <td>206186</td>\n",
       "      <td>3</td>\n",
       "      <td>0.281250</td>\n",
       "      <td>0.687500</td>\n",
       "    </tr>\n",
       "    <tr>\n",
       "      <th>37363</th>\n",
       "      <td>206189</td>\n",
       "      <td>5</td>\n",
       "      <td>0.457143</td>\n",
       "      <td>0.142857</td>\n",
       "    </tr>\n",
       "    <tr>\n",
       "      <th>37364</th>\n",
       "      <td>206192</td>\n",
       "      <td>13</td>\n",
       "      <td>0.618557</td>\n",
       "      <td>0.237113</td>\n",
       "    </tr>\n",
       "    <tr>\n",
       "      <th>37365</th>\n",
       "      <td>206195</td>\n",
       "      <td>19</td>\n",
       "      <td>0.432836</td>\n",
       "      <td>0.149254</td>\n",
       "    </tr>\n",
       "    <tr>\n",
       "      <th>37366</th>\n",
       "      <td>206201</td>\n",
       "      <td>31</td>\n",
       "      <td>0.563776</td>\n",
       "      <td>0.466837</td>\n",
       "    </tr>\n",
       "  </tbody>\n",
       "</table>\n",
       "<p>37367 rows × 4 columns</p>\n",
       "</div>"
      ],
      "text/plain": [
       "       user_id  orders  reordered       tip\n",
       "0            3      11   0.597561  0.829268\n",
       "1            7      20   0.669903  0.621359\n",
       "2           14      13   0.323810  0.533333\n",
       "3           23       4   0.100000  0.000000\n",
       "4           25       2   0.066667  0.266667\n",
       "...        ...     ...        ...       ...\n",
       "37362   206186       3   0.281250  0.687500\n",
       "37363   206189       5   0.457143  0.142857\n",
       "37364   206192      13   0.618557  0.237113\n",
       "37365   206195      19   0.432836  0.149254\n",
       "37366   206201      31   0.563776  0.466837\n",
       "\n",
       "[37367 rows x 4 columns]"
      ]
     },
     "execution_count": 310,
     "metadata": {},
     "output_type": "execute_result"
    }
   ],
   "source": [
    "df_userh"
   ]
  },
  {
   "cell_type": "code",
   "execution_count": 311,
   "metadata": {},
   "outputs": [],
   "source": [
    "df_last_order = df.loc[df.order_id.isin(last_orders)].groupby(\"user_id\").agg(tip_last_order= (\"tip\", \"max\"), last_order_id = (\"order_id\", \"max\")).reset_index()"
   ]
  },
  {
   "cell_type": "code",
   "execution_count": 312,
   "metadata": {},
   "outputs": [
    {
     "data": {
      "text/html": [
       "<div>\n",
       "<style scoped>\n",
       "    .dataframe tbody tr th:only-of-type {\n",
       "        vertical-align: middle;\n",
       "    }\n",
       "\n",
       "    .dataframe tbody tr th {\n",
       "        vertical-align: top;\n",
       "    }\n",
       "\n",
       "    .dataframe thead th {\n",
       "        text-align: right;\n",
       "    }\n",
       "</style>\n",
       "<table border=\"1\" class=\"dataframe\">\n",
       "  <thead>\n",
       "    <tr style=\"text-align: right;\">\n",
       "      <th></th>\n",
       "      <th>user_id</th>\n",
       "      <th>tip_last_order</th>\n",
       "      <th>last_order_id</th>\n",
       "    </tr>\n",
       "  </thead>\n",
       "  <tbody>\n",
       "    <tr>\n",
       "      <th>0</th>\n",
       "      <td>3</td>\n",
       "      <td>1</td>\n",
       "      <td>248921</td>\n",
       "    </tr>\n",
       "    <tr>\n",
       "      <th>1</th>\n",
       "      <td>7</td>\n",
       "      <td>1</td>\n",
       "      <td>93090</td>\n",
       "    </tr>\n",
       "    <tr>\n",
       "      <th>2</th>\n",
       "      <td>14</td>\n",
       "      <td>0</td>\n",
       "      <td>411382</td>\n",
       "    </tr>\n",
       "    <tr>\n",
       "      <th>3</th>\n",
       "      <td>23</td>\n",
       "      <td>0</td>\n",
       "      <td>603547</td>\n",
       "    </tr>\n",
       "    <tr>\n",
       "      <th>4</th>\n",
       "      <td>25</td>\n",
       "      <td>1</td>\n",
       "      <td>45667</td>\n",
       "    </tr>\n",
       "    <tr>\n",
       "      <th>...</th>\n",
       "      <td>...</td>\n",
       "      <td>...</td>\n",
       "      <td>...</td>\n",
       "    </tr>\n",
       "    <tr>\n",
       "      <th>37362</th>\n",
       "      <td>206186</td>\n",
       "      <td>0</td>\n",
       "      <td>28440</td>\n",
       "    </tr>\n",
       "    <tr>\n",
       "      <th>37363</th>\n",
       "      <td>206189</td>\n",
       "      <td>1</td>\n",
       "      <td>345993</td>\n",
       "    </tr>\n",
       "    <tr>\n",
       "      <th>37364</th>\n",
       "      <td>206192</td>\n",
       "      <td>0</td>\n",
       "      <td>111678</td>\n",
       "    </tr>\n",
       "    <tr>\n",
       "      <th>37365</th>\n",
       "      <td>206195</td>\n",
       "      <td>0</td>\n",
       "      <td>530219</td>\n",
       "    </tr>\n",
       "    <tr>\n",
       "      <th>37366</th>\n",
       "      <td>206201</td>\n",
       "      <td>0</td>\n",
       "      <td>550775</td>\n",
       "    </tr>\n",
       "  </tbody>\n",
       "</table>\n",
       "<p>37367 rows × 3 columns</p>\n",
       "</div>"
      ],
      "text/plain": [
       "       user_id  tip_last_order  last_order_id\n",
       "0            3               1         248921\n",
       "1            7               1          93090\n",
       "2           14               0         411382\n",
       "3           23               0         603547\n",
       "4           25               1          45667\n",
       "...        ...             ...            ...\n",
       "37362   206186               0          28440\n",
       "37363   206189               1         345993\n",
       "37364   206192               0         111678\n",
       "37365   206195               0         530219\n",
       "37366   206201               0         550775\n",
       "\n",
       "[37367 rows x 3 columns]"
      ]
     },
     "execution_count": 312,
     "metadata": {},
     "output_type": "execute_result"
    }
   ],
   "source": [
    "df_last_order"
   ]
  },
  {
   "cell_type": "code",
   "execution_count": 313,
   "metadata": {},
   "outputs": [],
   "source": [
    "df_userh = df_userh.merge(df_last_order, how= \"right\", on= \"user_id\")"
   ]
  },
  {
   "cell_type": "code",
   "execution_count": 314,
   "metadata": {},
   "outputs": [
    {
     "data": {
      "text/html": [
       "<div>\n",
       "<style scoped>\n",
       "    .dataframe tbody tr th:only-of-type {\n",
       "        vertical-align: middle;\n",
       "    }\n",
       "\n",
       "    .dataframe tbody tr th {\n",
       "        vertical-align: top;\n",
       "    }\n",
       "\n",
       "    .dataframe thead th {\n",
       "        text-align: right;\n",
       "    }\n",
       "</style>\n",
       "<table border=\"1\" class=\"dataframe\">\n",
       "  <thead>\n",
       "    <tr style=\"text-align: right;\">\n",
       "      <th></th>\n",
       "      <th>user_id</th>\n",
       "      <th>orders</th>\n",
       "      <th>reordered</th>\n",
       "      <th>tip</th>\n",
       "      <th>tip_last_order</th>\n",
       "      <th>last_order_id</th>\n",
       "    </tr>\n",
       "  </thead>\n",
       "  <tbody>\n",
       "    <tr>\n",
       "      <th>0</th>\n",
       "      <td>3</td>\n",
       "      <td>11</td>\n",
       "      <td>0.597561</td>\n",
       "      <td>0.829268</td>\n",
       "      <td>1</td>\n",
       "      <td>248921</td>\n",
       "    </tr>\n",
       "    <tr>\n",
       "      <th>1</th>\n",
       "      <td>7</td>\n",
       "      <td>20</td>\n",
       "      <td>0.669903</td>\n",
       "      <td>0.621359</td>\n",
       "      <td>1</td>\n",
       "      <td>93090</td>\n",
       "    </tr>\n",
       "    <tr>\n",
       "      <th>2</th>\n",
       "      <td>14</td>\n",
       "      <td>13</td>\n",
       "      <td>0.323810</td>\n",
       "      <td>0.533333</td>\n",
       "      <td>0</td>\n",
       "      <td>411382</td>\n",
       "    </tr>\n",
       "    <tr>\n",
       "      <th>3</th>\n",
       "      <td>23</td>\n",
       "      <td>4</td>\n",
       "      <td>0.100000</td>\n",
       "      <td>0.000000</td>\n",
       "      <td>0</td>\n",
       "      <td>603547</td>\n",
       "    </tr>\n",
       "    <tr>\n",
       "      <th>4</th>\n",
       "      <td>25</td>\n",
       "      <td>2</td>\n",
       "      <td>0.066667</td>\n",
       "      <td>0.266667</td>\n",
       "      <td>1</td>\n",
       "      <td>45667</td>\n",
       "    </tr>\n",
       "    <tr>\n",
       "      <th>...</th>\n",
       "      <td>...</td>\n",
       "      <td>...</td>\n",
       "      <td>...</td>\n",
       "      <td>...</td>\n",
       "      <td>...</td>\n",
       "      <td>...</td>\n",
       "    </tr>\n",
       "    <tr>\n",
       "      <th>37362</th>\n",
       "      <td>206186</td>\n",
       "      <td>3</td>\n",
       "      <td>0.281250</td>\n",
       "      <td>0.687500</td>\n",
       "      <td>0</td>\n",
       "      <td>28440</td>\n",
       "    </tr>\n",
       "    <tr>\n",
       "      <th>37363</th>\n",
       "      <td>206189</td>\n",
       "      <td>5</td>\n",
       "      <td>0.457143</td>\n",
       "      <td>0.142857</td>\n",
       "      <td>1</td>\n",
       "      <td>345993</td>\n",
       "    </tr>\n",
       "    <tr>\n",
       "      <th>37364</th>\n",
       "      <td>206192</td>\n",
       "      <td>13</td>\n",
       "      <td>0.618557</td>\n",
       "      <td>0.237113</td>\n",
       "      <td>0</td>\n",
       "      <td>111678</td>\n",
       "    </tr>\n",
       "    <tr>\n",
       "      <th>37365</th>\n",
       "      <td>206195</td>\n",
       "      <td>19</td>\n",
       "      <td>0.432836</td>\n",
       "      <td>0.149254</td>\n",
       "      <td>0</td>\n",
       "      <td>530219</td>\n",
       "    </tr>\n",
       "    <tr>\n",
       "      <th>37366</th>\n",
       "      <td>206201</td>\n",
       "      <td>31</td>\n",
       "      <td>0.563776</td>\n",
       "      <td>0.466837</td>\n",
       "      <td>0</td>\n",
       "      <td>550775</td>\n",
       "    </tr>\n",
       "  </tbody>\n",
       "</table>\n",
       "<p>37367 rows × 6 columns</p>\n",
       "</div>"
      ],
      "text/plain": [
       "       user_id  orders  reordered       tip  tip_last_order  last_order_id\n",
       "0            3      11   0.597561  0.829268               1         248921\n",
       "1            7      20   0.669903  0.621359               1          93090\n",
       "2           14      13   0.323810  0.533333               0         411382\n",
       "3           23       4   0.100000  0.000000               0         603547\n",
       "4           25       2   0.066667  0.266667               1          45667\n",
       "...        ...     ...        ...       ...             ...            ...\n",
       "37362   206186       3   0.281250  0.687500               0          28440\n",
       "37363   206189       5   0.457143  0.142857               1         345993\n",
       "37364   206192      13   0.618557  0.237113               0         111678\n",
       "37365   206195      19   0.432836  0.149254               0         530219\n",
       "37366   206201      31   0.563776  0.466837               0         550775\n",
       "\n",
       "[37367 rows x 6 columns]"
      ]
     },
     "execution_count": 314,
     "metadata": {},
     "output_type": "execute_result"
    }
   ],
   "source": [
    "df_userh"
   ]
  },
  {
   "attachments": {},
   "cell_type": "markdown",
   "metadata": {},
   "source": [
    "##### Analyse"
   ]
  },
  {
   "attachments": {},
   "cell_type": "markdown",
   "metadata": {},
   "source": [
    "**Bestellungen bei welcher der user eine tip_wshk von >= 0.5 hat verglichen mit seiner letzten/aktuellen Bestellung**\n",
    "\n",
    "\n",
    "Unter der Annahme, dass wenn die tip_wshk eines users in der historie >= 0.5 ist, tendiert er eher dazu zu tippen bei seiner letzten/aktuellen Bestellung"
   ]
  },
  {
   "attachments": {},
   "cell_type": "markdown",
   "metadata": {},
   "source": [
    "**trifft zu:**"
   ]
  },
  {
   "cell_type": "code",
   "execution_count": 315,
   "metadata": {},
   "outputs": [
    {
     "data": {
      "text/html": [
       "<div>\n",
       "<style scoped>\n",
       "    .dataframe tbody tr th:only-of-type {\n",
       "        vertical-align: middle;\n",
       "    }\n",
       "\n",
       "    .dataframe tbody tr th {\n",
       "        vertical-align: top;\n",
       "    }\n",
       "\n",
       "    .dataframe thead th {\n",
       "        text-align: right;\n",
       "    }\n",
       "</style>\n",
       "<table border=\"1\" class=\"dataframe\">\n",
       "  <thead>\n",
       "    <tr style=\"text-align: right;\">\n",
       "      <th></th>\n",
       "      <th>user_id</th>\n",
       "      <th>orders</th>\n",
       "      <th>reordered</th>\n",
       "      <th>tip</th>\n",
       "      <th>tip_last_order</th>\n",
       "      <th>last_order_id</th>\n",
       "    </tr>\n",
       "  </thead>\n",
       "  <tbody>\n",
       "    <tr>\n",
       "      <th>0</th>\n",
       "      <td>3</td>\n",
       "      <td>11</td>\n",
       "      <td>0.597561</td>\n",
       "      <td>0.829268</td>\n",
       "      <td>1</td>\n",
       "      <td>248921</td>\n",
       "    </tr>\n",
       "    <tr>\n",
       "      <th>1</th>\n",
       "      <td>7</td>\n",
       "      <td>20</td>\n",
       "      <td>0.669903</td>\n",
       "      <td>0.621359</td>\n",
       "      <td>1</td>\n",
       "      <td>93090</td>\n",
       "    </tr>\n",
       "    <tr>\n",
       "      <th>6</th>\n",
       "      <td>39</td>\n",
       "      <td>6</td>\n",
       "      <td>0.571429</td>\n",
       "      <td>0.500000</td>\n",
       "      <td>1</td>\n",
       "      <td>489351</td>\n",
       "    </tr>\n",
       "    <tr>\n",
       "      <th>13</th>\n",
       "      <td>73</td>\n",
       "      <td>6</td>\n",
       "      <td>0.363636</td>\n",
       "      <td>0.636364</td>\n",
       "      <td>1</td>\n",
       "      <td>443957</td>\n",
       "    </tr>\n",
       "    <tr>\n",
       "      <th>15</th>\n",
       "      <td>85</td>\n",
       "      <td>6</td>\n",
       "      <td>0.384615</td>\n",
       "      <td>0.807692</td>\n",
       "      <td>1</td>\n",
       "      <td>431764</td>\n",
       "    </tr>\n",
       "    <tr>\n",
       "      <th>...</th>\n",
       "      <td>...</td>\n",
       "      <td>...</td>\n",
       "      <td>...</td>\n",
       "      <td>...</td>\n",
       "      <td>...</td>\n",
       "      <td>...</td>\n",
       "    </tr>\n",
       "    <tr>\n",
       "      <th>37334</th>\n",
       "      <td>206038</td>\n",
       "      <td>7</td>\n",
       "      <td>0.319444</td>\n",
       "      <td>1.000000</td>\n",
       "      <td>1</td>\n",
       "      <td>265052</td>\n",
       "    </tr>\n",
       "    <tr>\n",
       "      <th>37348</th>\n",
       "      <td>206130</td>\n",
       "      <td>16</td>\n",
       "      <td>0.705426</td>\n",
       "      <td>0.844961</td>\n",
       "      <td>1</td>\n",
       "      <td>403088</td>\n",
       "    </tr>\n",
       "    <tr>\n",
       "      <th>37351</th>\n",
       "      <td>206140</td>\n",
       "      <td>9</td>\n",
       "      <td>0.466165</td>\n",
       "      <td>0.571429</td>\n",
       "      <td>1</td>\n",
       "      <td>8611</td>\n",
       "    </tr>\n",
       "    <tr>\n",
       "      <th>37354</th>\n",
       "      <td>206153</td>\n",
       "      <td>13</td>\n",
       "      <td>0.456000</td>\n",
       "      <td>0.536000</td>\n",
       "      <td>1</td>\n",
       "      <td>113860</td>\n",
       "    </tr>\n",
       "    <tr>\n",
       "      <th>37360</th>\n",
       "      <td>206183</td>\n",
       "      <td>13</td>\n",
       "      <td>0.664865</td>\n",
       "      <td>0.832432</td>\n",
       "      <td>1</td>\n",
       "      <td>396584</td>\n",
       "    </tr>\n",
       "  </tbody>\n",
       "</table>\n",
       "<p>7679 rows × 6 columns</p>\n",
       "</div>"
      ],
      "text/plain": [
       "       user_id  orders  reordered       tip  tip_last_order  last_order_id\n",
       "0            3      11   0.597561  0.829268               1         248921\n",
       "1            7      20   0.669903  0.621359               1          93090\n",
       "6           39       6   0.571429  0.500000               1         489351\n",
       "13          73       6   0.363636  0.636364               1         443957\n",
       "15          85       6   0.384615  0.807692               1         431764\n",
       "...        ...     ...        ...       ...             ...            ...\n",
       "37334   206038       7   0.319444  1.000000               1         265052\n",
       "37348   206130      16   0.705426  0.844961               1         403088\n",
       "37351   206140       9   0.466165  0.571429               1           8611\n",
       "37354   206153      13   0.456000  0.536000               1         113860\n",
       "37360   206183      13   0.664865  0.832432               1         396584\n",
       "\n",
       "[7679 rows x 6 columns]"
      ]
     },
     "execution_count": 315,
     "metadata": {},
     "output_type": "execute_result"
    }
   ],
   "source": [
    "df_userh.loc[(df_userh.tip >= 0.5) & (df_userh.tip_last_order == 1)]"
   ]
  },
  {
   "cell_type": "code",
   "execution_count": 316,
   "metadata": {},
   "outputs": [
    {
     "data": {
      "text/plain": [
       "0.2056627505553028"
      ]
     },
     "execution_count": 316,
     "metadata": {},
     "output_type": "execute_result"
    }
   ],
   "source": [
    "7685 / 37367"
   ]
  },
  {
   "attachments": {},
   "cell_type": "markdown",
   "metadata": {},
   "source": [
    "**trifft nicht zu:**"
   ]
  },
  {
   "cell_type": "code",
   "execution_count": 317,
   "metadata": {},
   "outputs": [
    {
     "data": {
      "text/html": [
       "<div>\n",
       "<style scoped>\n",
       "    .dataframe tbody tr th:only-of-type {\n",
       "        vertical-align: middle;\n",
       "    }\n",
       "\n",
       "    .dataframe tbody tr th {\n",
       "        vertical-align: top;\n",
       "    }\n",
       "\n",
       "    .dataframe thead th {\n",
       "        text-align: right;\n",
       "    }\n",
       "</style>\n",
       "<table border=\"1\" class=\"dataframe\">\n",
       "  <thead>\n",
       "    <tr style=\"text-align: right;\">\n",
       "      <th></th>\n",
       "      <th>user_id</th>\n",
       "      <th>orders</th>\n",
       "      <th>reordered</th>\n",
       "      <th>tip</th>\n",
       "      <th>tip_last_order</th>\n",
       "      <th>last_order_id</th>\n",
       "    </tr>\n",
       "  </thead>\n",
       "  <tbody>\n",
       "    <tr>\n",
       "      <th>2</th>\n",
       "      <td>14</td>\n",
       "      <td>13</td>\n",
       "      <td>0.323810</td>\n",
       "      <td>0.533333</td>\n",
       "      <td>0</td>\n",
       "      <td>411382</td>\n",
       "    </tr>\n",
       "    <tr>\n",
       "      <th>20</th>\n",
       "      <td>110</td>\n",
       "      <td>20</td>\n",
       "      <td>0.556196</td>\n",
       "      <td>0.700288</td>\n",
       "      <td>0</td>\n",
       "      <td>12722</td>\n",
       "    </tr>\n",
       "    <tr>\n",
       "      <th>26</th>\n",
       "      <td>138</td>\n",
       "      <td>32</td>\n",
       "      <td>0.628378</td>\n",
       "      <td>0.533784</td>\n",
       "      <td>0</td>\n",
       "      <td>80767</td>\n",
       "    </tr>\n",
       "    <tr>\n",
       "      <th>27</th>\n",
       "      <td>140</td>\n",
       "      <td>76</td>\n",
       "      <td>0.735882</td>\n",
       "      <td>0.537793</td>\n",
       "      <td>0</td>\n",
       "      <td>454907</td>\n",
       "    </tr>\n",
       "    <tr>\n",
       "      <th>33</th>\n",
       "      <td>169</td>\n",
       "      <td>6</td>\n",
       "      <td>0.105882</td>\n",
       "      <td>0.917647</td>\n",
       "      <td>0</td>\n",
       "      <td>136338</td>\n",
       "    </tr>\n",
       "    <tr>\n",
       "      <th>...</th>\n",
       "      <td>...</td>\n",
       "      <td>...</td>\n",
       "      <td>...</td>\n",
       "      <td>...</td>\n",
       "      <td>...</td>\n",
       "      <td>...</td>\n",
       "    </tr>\n",
       "    <tr>\n",
       "      <th>37333</th>\n",
       "      <td>206030</td>\n",
       "      <td>37</td>\n",
       "      <td>0.702550</td>\n",
       "      <td>0.526912</td>\n",
       "      <td>0</td>\n",
       "      <td>340421</td>\n",
       "    </tr>\n",
       "    <tr>\n",
       "      <th>37342</th>\n",
       "      <td>206086</td>\n",
       "      <td>46</td>\n",
       "      <td>0.825131</td>\n",
       "      <td>0.596859</td>\n",
       "      <td>0</td>\n",
       "      <td>296139</td>\n",
       "    </tr>\n",
       "    <tr>\n",
       "      <th>37344</th>\n",
       "      <td>206093</td>\n",
       "      <td>17</td>\n",
       "      <td>0.625000</td>\n",
       "      <td>0.776786</td>\n",
       "      <td>0</td>\n",
       "      <td>105730</td>\n",
       "    </tr>\n",
       "    <tr>\n",
       "      <th>37346</th>\n",
       "      <td>206116</td>\n",
       "      <td>5</td>\n",
       "      <td>0.448276</td>\n",
       "      <td>0.568966</td>\n",
       "      <td>0</td>\n",
       "      <td>319350</td>\n",
       "    </tr>\n",
       "    <tr>\n",
       "      <th>37362</th>\n",
       "      <td>206186</td>\n",
       "      <td>3</td>\n",
       "      <td>0.281250</td>\n",
       "      <td>0.687500</td>\n",
       "      <td>0</td>\n",
       "      <td>28440</td>\n",
       "    </tr>\n",
       "  </tbody>\n",
       "</table>\n",
       "<p>4003 rows × 6 columns</p>\n",
       "</div>"
      ],
      "text/plain": [
       "       user_id  orders  reordered       tip  tip_last_order  last_order_id\n",
       "2           14      13   0.323810  0.533333               0         411382\n",
       "20         110      20   0.556196  0.700288               0          12722\n",
       "26         138      32   0.628378  0.533784               0          80767\n",
       "27         140      76   0.735882  0.537793               0         454907\n",
       "33         169       6   0.105882  0.917647               0         136338\n",
       "...        ...     ...        ...       ...             ...            ...\n",
       "37333   206030      37   0.702550  0.526912               0         340421\n",
       "37342   206086      46   0.825131  0.596859               0         296139\n",
       "37344   206093      17   0.625000  0.776786               0         105730\n",
       "37346   206116       5   0.448276  0.568966               0         319350\n",
       "37362   206186       3   0.281250  0.687500               0          28440\n",
       "\n",
       "[4003 rows x 6 columns]"
      ]
     },
     "execution_count": 317,
     "metadata": {},
     "output_type": "execute_result"
    }
   ],
   "source": [
    "df_userh.loc[(df_userh.tip >= 0.5) & (df_userh.tip_last_order == 0)] #! Hier schauen ob die Attribute die Bestellung beeinflussen"
   ]
  },
  {
   "cell_type": "code",
   "execution_count": 318,
   "metadata": {},
   "outputs": [
    {
     "data": {
      "text/plain": [
       "0.11189017047127145"
      ]
     },
     "execution_count": 318,
     "metadata": {},
     "output_type": "execute_result"
    }
   ],
   "source": [
    "4181 / 37367"
   ]
  },
  {
   "attachments": {},
   "cell_type": "markdown",
   "metadata": {},
   "source": [
    "**Bestellungen bei welcher der user eine tip_wshk von < 0.5 hat verglichen mit seiner letzten/aktuellen Bestellung**\n",
    "\n",
    "Unter der Annahme, dass wenn die tip_wshk eines users in der historie < 0.5 ist, tendiert er eher dazu nicht zu tippen bei seiner letzten/aktuellen Bestellung"
   ]
  },
  {
   "attachments": {},
   "cell_type": "markdown",
   "metadata": {},
   "source": [
    "**trifft zu:**"
   ]
  },
  {
   "cell_type": "code",
   "execution_count": 319,
   "metadata": {},
   "outputs": [
    {
     "data": {
      "text/html": [
       "<div>\n",
       "<style scoped>\n",
       "    .dataframe tbody tr th:only-of-type {\n",
       "        vertical-align: middle;\n",
       "    }\n",
       "\n",
       "    .dataframe tbody tr th {\n",
       "        vertical-align: top;\n",
       "    }\n",
       "\n",
       "    .dataframe thead th {\n",
       "        text-align: right;\n",
       "    }\n",
       "</style>\n",
       "<table border=\"1\" class=\"dataframe\">\n",
       "  <thead>\n",
       "    <tr style=\"text-align: right;\">\n",
       "      <th></th>\n",
       "      <th>user_id</th>\n",
       "      <th>orders</th>\n",
       "      <th>reordered</th>\n",
       "      <th>tip</th>\n",
       "      <th>tip_last_order</th>\n",
       "      <th>last_order_id</th>\n",
       "    </tr>\n",
       "  </thead>\n",
       "  <tbody>\n",
       "    <tr>\n",
       "      <th>3</th>\n",
       "      <td>23</td>\n",
       "      <td>4</td>\n",
       "      <td>0.100000</td>\n",
       "      <td>0.000000</td>\n",
       "      <td>0</td>\n",
       "      <td>603547</td>\n",
       "    </tr>\n",
       "    <tr>\n",
       "      <th>9</th>\n",
       "      <td>53</td>\n",
       "      <td>3</td>\n",
       "      <td>0.028571</td>\n",
       "      <td>0.000000</td>\n",
       "      <td>0</td>\n",
       "      <td>548094</td>\n",
       "    </tr>\n",
       "    <tr>\n",
       "      <th>10</th>\n",
       "      <td>55</td>\n",
       "      <td>7</td>\n",
       "      <td>0.505747</td>\n",
       "      <td>0.000000</td>\n",
       "      <td>0</td>\n",
       "      <td>6945</td>\n",
       "    </tr>\n",
       "    <tr>\n",
       "      <th>11</th>\n",
       "      <td>65</td>\n",
       "      <td>14</td>\n",
       "      <td>0.393939</td>\n",
       "      <td>0.000000</td>\n",
       "      <td>0</td>\n",
       "      <td>190242</td>\n",
       "    </tr>\n",
       "    <tr>\n",
       "      <th>14</th>\n",
       "      <td>83</td>\n",
       "      <td>6</td>\n",
       "      <td>0.333333</td>\n",
       "      <td>0.179487</td>\n",
       "      <td>0</td>\n",
       "      <td>430576</td>\n",
       "    </tr>\n",
       "    <tr>\n",
       "      <th>...</th>\n",
       "      <td>...</td>\n",
       "      <td>...</td>\n",
       "      <td>...</td>\n",
       "      <td>...</td>\n",
       "      <td>...</td>\n",
       "      <td>...</td>\n",
       "    </tr>\n",
       "    <tr>\n",
       "      <th>37359</th>\n",
       "      <td>206168</td>\n",
       "      <td>11</td>\n",
       "      <td>0.360825</td>\n",
       "      <td>0.371134</td>\n",
       "      <td>0</td>\n",
       "      <td>108087</td>\n",
       "    </tr>\n",
       "    <tr>\n",
       "      <th>37361</th>\n",
       "      <td>206185</td>\n",
       "      <td>10</td>\n",
       "      <td>0.466667</td>\n",
       "      <td>0.000000</td>\n",
       "      <td>0</td>\n",
       "      <td>363750</td>\n",
       "    </tr>\n",
       "    <tr>\n",
       "      <th>37364</th>\n",
       "      <td>206192</td>\n",
       "      <td>13</td>\n",
       "      <td>0.618557</td>\n",
       "      <td>0.237113</td>\n",
       "      <td>0</td>\n",
       "      <td>111678</td>\n",
       "    </tr>\n",
       "    <tr>\n",
       "      <th>37365</th>\n",
       "      <td>206195</td>\n",
       "      <td>19</td>\n",
       "      <td>0.432836</td>\n",
       "      <td>0.149254</td>\n",
       "      <td>0</td>\n",
       "      <td>530219</td>\n",
       "    </tr>\n",
       "    <tr>\n",
       "      <th>37366</th>\n",
       "      <td>206201</td>\n",
       "      <td>31</td>\n",
       "      <td>0.563776</td>\n",
       "      <td>0.466837</td>\n",
       "      <td>0</td>\n",
       "      <td>550775</td>\n",
       "    </tr>\n",
       "  </tbody>\n",
       "</table>\n",
       "<p>20832 rows × 6 columns</p>\n",
       "</div>"
      ],
      "text/plain": [
       "       user_id  orders  reordered       tip  tip_last_order  last_order_id\n",
       "3           23       4   0.100000  0.000000               0         603547\n",
       "9           53       3   0.028571  0.000000               0         548094\n",
       "10          55       7   0.505747  0.000000               0           6945\n",
       "11          65      14   0.393939  0.000000               0         190242\n",
       "14          83       6   0.333333  0.179487               0         430576\n",
       "...        ...     ...        ...       ...             ...            ...\n",
       "37359   206168      11   0.360825  0.371134               0         108087\n",
       "37361   206185      10   0.466667  0.000000               0         363750\n",
       "37364   206192      13   0.618557  0.237113               0         111678\n",
       "37365   206195      19   0.432836  0.149254               0         530219\n",
       "37366   206201      31   0.563776  0.466837               0         550775\n",
       "\n",
       "[20832 rows x 6 columns]"
      ]
     },
     "execution_count": 319,
     "metadata": {},
     "output_type": "execute_result"
    }
   ],
   "source": [
    "df_userh.loc[(df_userh.tip < 0.5) & (df_userh.tip_last_order == 0)]"
   ]
  },
  {
   "cell_type": "code",
   "execution_count": 320,
   "metadata": {},
   "outputs": [
    {
     "data": {
      "text/plain": [
       "0.5522252254663206"
      ]
     },
     "execution_count": 320,
     "metadata": {},
     "output_type": "execute_result"
    }
   ],
   "source": [
    "20635 / 37367"
   ]
  },
  {
   "attachments": {},
   "cell_type": "markdown",
   "metadata": {},
   "source": [
    "**trifft nicht zu:**"
   ]
  },
  {
   "cell_type": "code",
   "execution_count": 321,
   "metadata": {},
   "outputs": [
    {
     "data": {
      "text/html": [
       "<div>\n",
       "<style scoped>\n",
       "    .dataframe tbody tr th:only-of-type {\n",
       "        vertical-align: middle;\n",
       "    }\n",
       "\n",
       "    .dataframe tbody tr th {\n",
       "        vertical-align: top;\n",
       "    }\n",
       "\n",
       "    .dataframe thead th {\n",
       "        text-align: right;\n",
       "    }\n",
       "</style>\n",
       "<table border=\"1\" class=\"dataframe\">\n",
       "  <thead>\n",
       "    <tr style=\"text-align: right;\">\n",
       "      <th></th>\n",
       "      <th>user_id</th>\n",
       "      <th>orders</th>\n",
       "      <th>reordered</th>\n",
       "      <th>tip</th>\n",
       "      <th>tip_last_order</th>\n",
       "      <th>last_order_id</th>\n",
       "    </tr>\n",
       "  </thead>\n",
       "  <tbody>\n",
       "    <tr>\n",
       "      <th>4</th>\n",
       "      <td>25</td>\n",
       "      <td>2</td>\n",
       "      <td>0.066667</td>\n",
       "      <td>0.266667</td>\n",
       "      <td>1</td>\n",
       "      <td>45667</td>\n",
       "    </tr>\n",
       "    <tr>\n",
       "      <th>5</th>\n",
       "      <td>28</td>\n",
       "      <td>23</td>\n",
       "      <td>0.416667</td>\n",
       "      <td>0.303571</td>\n",
       "      <td>1</td>\n",
       "      <td>351338</td>\n",
       "    </tr>\n",
       "    <tr>\n",
       "      <th>7</th>\n",
       "      <td>40</td>\n",
       "      <td>8</td>\n",
       "      <td>0.641304</td>\n",
       "      <td>0.456522</td>\n",
       "      <td>1</td>\n",
       "      <td>203217</td>\n",
       "    </tr>\n",
       "    <tr>\n",
       "      <th>8</th>\n",
       "      <td>42</td>\n",
       "      <td>16</td>\n",
       "      <td>0.548872</td>\n",
       "      <td>0.127820</td>\n",
       "      <td>1</td>\n",
       "      <td>497941</td>\n",
       "    </tr>\n",
       "    <tr>\n",
       "      <th>12</th>\n",
       "      <td>72</td>\n",
       "      <td>12</td>\n",
       "      <td>0.680851</td>\n",
       "      <td>0.212766</td>\n",
       "      <td>1</td>\n",
       "      <td>463486</td>\n",
       "    </tr>\n",
       "    <tr>\n",
       "      <th>...</th>\n",
       "      <td>...</td>\n",
       "      <td>...</td>\n",
       "      <td>...</td>\n",
       "      <td>...</td>\n",
       "      <td>...</td>\n",
       "      <td>...</td>\n",
       "    </tr>\n",
       "    <tr>\n",
       "      <th>37335</th>\n",
       "      <td>206045</td>\n",
       "      <td>32</td>\n",
       "      <td>0.551807</td>\n",
       "      <td>0.407229</td>\n",
       "      <td>1</td>\n",
       "      <td>566792</td>\n",
       "    </tr>\n",
       "    <tr>\n",
       "      <th>37338</th>\n",
       "      <td>206068</td>\n",
       "      <td>17</td>\n",
       "      <td>0.461538</td>\n",
       "      <td>0.179487</td>\n",
       "      <td>1</td>\n",
       "      <td>179583</td>\n",
       "    </tr>\n",
       "    <tr>\n",
       "      <th>37343</th>\n",
       "      <td>206089</td>\n",
       "      <td>8</td>\n",
       "      <td>0.750000</td>\n",
       "      <td>0.125000</td>\n",
       "      <td>1</td>\n",
       "      <td>73987</td>\n",
       "    </tr>\n",
       "    <tr>\n",
       "      <th>37358</th>\n",
       "      <td>206162</td>\n",
       "      <td>18</td>\n",
       "      <td>0.453608</td>\n",
       "      <td>0.479381</td>\n",
       "      <td>1</td>\n",
       "      <td>23102</td>\n",
       "    </tr>\n",
       "    <tr>\n",
       "      <th>37363</th>\n",
       "      <td>206189</td>\n",
       "      <td>5</td>\n",
       "      <td>0.457143</td>\n",
       "      <td>0.142857</td>\n",
       "      <td>1</td>\n",
       "      <td>345993</td>\n",
       "    </tr>\n",
       "  </tbody>\n",
       "</table>\n",
       "<p>4853 rows × 6 columns</p>\n",
       "</div>"
      ],
      "text/plain": [
       "       user_id  orders  reordered       tip  tip_last_order  last_order_id\n",
       "4           25       2   0.066667  0.266667               1          45667\n",
       "5           28      23   0.416667  0.303571               1         351338\n",
       "7           40       8   0.641304  0.456522               1         203217\n",
       "8           42      16   0.548872  0.127820               1         497941\n",
       "12          72      12   0.680851  0.212766               1         463486\n",
       "...        ...     ...        ...       ...             ...            ...\n",
       "37335   206045      32   0.551807  0.407229               1         566792\n",
       "37338   206068      17   0.461538  0.179487               1         179583\n",
       "37343   206089       8   0.750000  0.125000               1          73987\n",
       "37358   206162      18   0.453608  0.479381               1          23102\n",
       "37363   206189       5   0.457143  0.142857               1         345993\n",
       "\n",
       "[4853 rows x 6 columns]"
      ]
     },
     "execution_count": 321,
     "metadata": {},
     "output_type": "execute_result"
    }
   ],
   "source": [
    "df_userh.loc[(df_userh.tip < 0.5) & (df_userh.tip_last_order == 1)] #! Hier nach den Items im Warenkorb bei den aktuellen Bestellungen schauen"
   ]
  },
  {
   "cell_type": "code",
   "execution_count": 322,
   "metadata": {},
   "outputs": [
    {
     "data": {
      "text/plain": [
       "0.1302218535071052"
      ]
     },
     "execution_count": 322,
     "metadata": {},
     "output_type": "execute_result"
    }
   ],
   "source": [
    "4866 / 37367"
   ]
  },
  {
   "attachments": {},
   "cell_type": "markdown",
   "metadata": {},
   "source": [
    "#### Inhalt und Parameter der aktuellen Bestellungen"
   ]
  },
  {
   "attachments": {},
   "cell_type": "markdown",
   "metadata": {},
   "source": [
    "**Warenkörbe der Bestellungen die bei der Hypothese nicht zutreffen:**"
   ]
  },
  {
   "cell_type": "code",
   "execution_count": 345,
   "metadata": {},
   "outputs": [
    {
     "data": {
      "text/html": [
       "<div>\n",
       "<style scoped>\n",
       "    .dataframe tbody tr th:only-of-type {\n",
       "        vertical-align: middle;\n",
       "    }\n",
       "\n",
       "    .dataframe tbody tr th {\n",
       "        vertical-align: top;\n",
       "    }\n",
       "\n",
       "    .dataframe thead th {\n",
       "        text-align: right;\n",
       "    }\n",
       "</style>\n",
       "<table border=\"1\" class=\"dataframe\">\n",
       "  <thead>\n",
       "    <tr style=\"text-align: right;\">\n",
       "      <th></th>\n",
       "      <th>user_id</th>\n",
       "      <th>last_order_id</th>\n",
       "    </tr>\n",
       "  </thead>\n",
       "  <tbody>\n",
       "    <tr>\n",
       "      <th>2</th>\n",
       "      <td>14</td>\n",
       "      <td>411382</td>\n",
       "    </tr>\n",
       "    <tr>\n",
       "      <th>4</th>\n",
       "      <td>25</td>\n",
       "      <td>45667</td>\n",
       "    </tr>\n",
       "    <tr>\n",
       "      <th>5</th>\n",
       "      <td>28</td>\n",
       "      <td>351338</td>\n",
       "    </tr>\n",
       "    <tr>\n",
       "      <th>7</th>\n",
       "      <td>40</td>\n",
       "      <td>203217</td>\n",
       "    </tr>\n",
       "    <tr>\n",
       "      <th>8</th>\n",
       "      <td>42</td>\n",
       "      <td>497941</td>\n",
       "    </tr>\n",
       "  </tbody>\n",
       "</table>\n",
       "</div>"
      ],
      "text/plain": [
       "   user_id  last_order_id\n",
       "2       14         411382\n",
       "4       25          45667\n",
       "5       28         351338\n",
       "7       40         203217\n",
       "8       42         497941"
      ]
     },
     "execution_count": 345,
     "metadata": {},
     "output_type": "execute_result"
    }
   ],
   "source": [
    "df_waren = df_userh.loc[((df_userh.tip >= 0.5) & (df_userh.tip_last_order == 0)) | ((df_userh.tip < 0.5) & (df_userh.tip_last_order == 1))][[\"user_id\", \"last_order_id\"]]\n",
    "df_waren.head()"
   ]
  },
  {
   "cell_type": "code",
   "execution_count": 348,
   "metadata": {},
   "outputs": [
    {
     "data": {
      "text/html": [
       "<div>\n",
       "<style scoped>\n",
       "    .dataframe tbody tr th:only-of-type {\n",
       "        vertical-align: middle;\n",
       "    }\n",
       "\n",
       "    .dataframe tbody tr th {\n",
       "        vertical-align: top;\n",
       "    }\n",
       "\n",
       "    .dataframe thead th {\n",
       "        text-align: right;\n",
       "    }\n",
       "</style>\n",
       "<table border=\"1\" class=\"dataframe\">\n",
       "  <thead>\n",
       "    <tr style=\"text-align: right;\">\n",
       "      <th></th>\n",
       "      <th>user_id</th>\n",
       "      <th>order_id</th>\n",
       "      <th>tip</th>\n",
       "      <th>days_since_prior_order</th>\n",
       "      <th>product_name</th>\n",
       "      <th>order_hour_of_day</th>\n",
       "      <th>order_dow</th>\n",
       "      <th>reordered</th>\n",
       "    </tr>\n",
       "  </thead>\n",
       "  <tbody>\n",
       "    <tr>\n",
       "      <th>0</th>\n",
       "      <td>14</td>\n",
       "      <td>237041</td>\n",
       "      <td>1.0</td>\n",
       "      <td>25.0</td>\n",
       "      <td>13</td>\n",
       "      <td>5</td>\n",
       "      <td>1</td>\n",
       "      <td>0.384615</td>\n",
       "    </tr>\n",
       "    <tr>\n",
       "      <th>1</th>\n",
       "      <td>14</td>\n",
       "      <td>242632</td>\n",
       "      <td>1.0</td>\n",
       "      <td>2.0</td>\n",
       "      <td>3</td>\n",
       "      <td>14</td>\n",
       "      <td>0</td>\n",
       "      <td>0.666667</td>\n",
       "    </tr>\n",
       "    <tr>\n",
       "      <th>2</th>\n",
       "      <td>14</td>\n",
       "      <td>245955</td>\n",
       "      <td>0.0</td>\n",
       "      <td>20.0</td>\n",
       "      <td>27</td>\n",
       "      <td>8</td>\n",
       "      <td>6</td>\n",
       "      <td>0.148148</td>\n",
       "    </tr>\n",
       "    <tr>\n",
       "      <th>3</th>\n",
       "      <td>14</td>\n",
       "      <td>288644</td>\n",
       "      <td>0.0</td>\n",
       "      <td>30.0</td>\n",
       "      <td>9</td>\n",
       "      <td>21</td>\n",
       "      <td>4</td>\n",
       "      <td>0.333333</td>\n",
       "    </tr>\n",
       "    <tr>\n",
       "      <th>4</th>\n",
       "      <td>14</td>\n",
       "      <td>300451</td>\n",
       "      <td>1.0</td>\n",
       "      <td>30.0</td>\n",
       "      <td>23</td>\n",
       "      <td>8</td>\n",
       "      <td>5</td>\n",
       "      <td>0.173913</td>\n",
       "    </tr>\n",
       "    <tr>\n",
       "      <th>...</th>\n",
       "      <td>...</td>\n",
       "      <td>...</td>\n",
       "      <td>...</td>\n",
       "      <td>...</td>\n",
       "      <td>...</td>\n",
       "      <td>...</td>\n",
       "      <td>...</td>\n",
       "      <td>...</td>\n",
       "    </tr>\n",
       "    <tr>\n",
       "      <th>161248</th>\n",
       "      <td>206189</td>\n",
       "      <td>265207</td>\n",
       "      <td>0.0</td>\n",
       "      <td>22.0</td>\n",
       "      <td>6</td>\n",
       "      <td>15</td>\n",
       "      <td>3</td>\n",
       "      <td>0.666667</td>\n",
       "    </tr>\n",
       "    <tr>\n",
       "      <th>161249</th>\n",
       "      <td>206189</td>\n",
       "      <td>317551</td>\n",
       "      <td>0.0</td>\n",
       "      <td>30.0</td>\n",
       "      <td>9</td>\n",
       "      <td>13</td>\n",
       "      <td>2</td>\n",
       "      <td>0.777778</td>\n",
       "    </tr>\n",
       "    <tr>\n",
       "      <th>161250</th>\n",
       "      <td>206189</td>\n",
       "      <td>345993</td>\n",
       "      <td>1.0</td>\n",
       "      <td>4.0</td>\n",
       "      <td>5</td>\n",
       "      <td>22</td>\n",
       "      <td>0</td>\n",
       "      <td>0.600000</td>\n",
       "    </tr>\n",
       "    <tr>\n",
       "      <th>161251</th>\n",
       "      <td>206189</td>\n",
       "      <td>350559</td>\n",
       "      <td>0.0</td>\n",
       "      <td>15.0</td>\n",
       "      <td>5</td>\n",
       "      <td>11</td>\n",
       "      <td>5</td>\n",
       "      <td>0.400000</td>\n",
       "    </tr>\n",
       "    <tr>\n",
       "      <th>161252</th>\n",
       "      <td>206189</td>\n",
       "      <td>526741</td>\n",
       "      <td>1.0</td>\n",
       "      <td>NaN</td>\n",
       "      <td>5</td>\n",
       "      <td>15</td>\n",
       "      <td>4</td>\n",
       "      <td>0.000000</td>\n",
       "    </tr>\n",
       "  </tbody>\n",
       "</table>\n",
       "<p>161253 rows × 8 columns</p>\n",
       "</div>"
      ],
      "text/plain": [
       "        user_id  order_id  tip  days_since_prior_order  product_name  \\\n",
       "0            14    237041  1.0                    25.0            13   \n",
       "1            14    242632  1.0                     2.0             3   \n",
       "2            14    245955  0.0                    20.0            27   \n",
       "3            14    288644  0.0                    30.0             9   \n",
       "4            14    300451  1.0                    30.0            23   \n",
       "...         ...       ...  ...                     ...           ...   \n",
       "161248   206189    265207  0.0                    22.0             6   \n",
       "161249   206189    317551  0.0                    30.0             9   \n",
       "161250   206189    345993  1.0                     4.0             5   \n",
       "161251   206189    350559  0.0                    15.0             5   \n",
       "161252   206189    526741  1.0                     NaN             5   \n",
       "\n",
       "        order_hour_of_day  order_dow  reordered  \n",
       "0                       5          1   0.384615  \n",
       "1                      14          0   0.666667  \n",
       "2                       8          6   0.148148  \n",
       "3                      21          4   0.333333  \n",
       "4                       8          5   0.173913  \n",
       "...                   ...        ...        ...  \n",
       "161248                 15          3   0.666667  \n",
       "161249                 13          2   0.777778  \n",
       "161250                 22          0   0.600000  \n",
       "161251                 11          5   0.400000  \n",
       "161252                 15          4   0.000000  \n",
       "\n",
       "[161253 rows x 8 columns]"
      ]
     },
     "execution_count": 348,
     "metadata": {},
     "output_type": "execute_result"
    }
   ],
   "source": [
    "df.loc[df.user_id.isin(df_waren.user_id)].sort_values(by=[\"order_number\"], ascending= True).groupby([\"user_id\",\"order_id\"], as_index= False).agg(\n",
    " tip =(\"tip\", \"mean\"),\n",
    " days_since_prior_order= (\"days_since_prior_order\", \"max\"),\n",
    " product_name= (\"product_name\", \"nunique\"),\n",
    " order_hour_of_day = (\"order_hour_of_day\", \"max\"),\n",
    " order_dow = (\"order_dow\", \"max\"),\n",
    " reordered = (\"reordered\", \"mean\")\n",
    " )"
   ]
  },
  {
   "attachments": {},
   "cell_type": "markdown",
   "metadata": {},
   "source": [
    "#### old"
   ]
  },
  {
   "cell_type": "code",
   "execution_count": 325,
   "metadata": {},
   "outputs": [
    {
     "data": {
      "text/html": [
       "<div>\n",
       "<style scoped>\n",
       "    .dataframe tbody tr th:only-of-type {\n",
       "        vertical-align: middle;\n",
       "    }\n",
       "\n",
       "    .dataframe tbody tr th {\n",
       "        vertical-align: top;\n",
       "    }\n",
       "\n",
       "    .dataframe thead th {\n",
       "        text-align: right;\n",
       "    }\n",
       "</style>\n",
       "<table border=\"1\" class=\"dataframe\">\n",
       "  <thead>\n",
       "    <tr style=\"text-align: right;\">\n",
       "      <th></th>\n",
       "      <th>user_id</th>\n",
       "      <th>orders</th>\n",
       "      <th>reordered</th>\n",
       "      <th>tip</th>\n",
       "      <th>tip_last_order</th>\n",
       "      <th>last_order_id</th>\n",
       "    </tr>\n",
       "  </thead>\n",
       "  <tbody>\n",
       "  </tbody>\n",
       "</table>\n",
       "</div>"
      ],
      "text/plain": [
       "Empty DataFrame\n",
       "Columns: [user_id, orders, reordered, tip, tip_last_order, last_order_id]\n",
       "Index: []"
      ]
     },
     "execution_count": 325,
     "metadata": {},
     "output_type": "execute_result"
    }
   ],
   "source": [
    "df_userh.loc[df_userh.orders < df_userh.orders]"
   ]
  },
  {
   "cell_type": "code",
   "execution_count": 326,
   "metadata": {},
   "outputs": [
    {
     "data": {
      "text/html": [
       "<div>\n",
       "<style scoped>\n",
       "    .dataframe tbody tr th:only-of-type {\n",
       "        vertical-align: middle;\n",
       "    }\n",
       "\n",
       "    .dataframe tbody tr th {\n",
       "        vertical-align: top;\n",
       "    }\n",
       "\n",
       "    .dataframe thead th {\n",
       "        text-align: right;\n",
       "    }\n",
       "</style>\n",
       "<table border=\"1\" class=\"dataframe\">\n",
       "  <thead>\n",
       "    <tr style=\"text-align: right;\">\n",
       "      <th></th>\n",
       "      <th>user_id</th>\n",
       "      <th>orders</th>\n",
       "      <th>reordered</th>\n",
       "      <th>tip</th>\n",
       "      <th>tip_last_order</th>\n",
       "      <th>last_order_id</th>\n",
       "    </tr>\n",
       "  </thead>\n",
       "  <tbody>\n",
       "    <tr>\n",
       "      <th>5</th>\n",
       "      <td>28</td>\n",
       "      <td>23</td>\n",
       "      <td>0.416667</td>\n",
       "      <td>0.303571</td>\n",
       "      <td>1</td>\n",
       "      <td>351338</td>\n",
       "    </tr>\n",
       "    <tr>\n",
       "      <th>22</th>\n",
       "      <td>118</td>\n",
       "      <td>27</td>\n",
       "      <td>0.703030</td>\n",
       "      <td>0.721212</td>\n",
       "      <td>1</td>\n",
       "      <td>221600</td>\n",
       "    </tr>\n",
       "    <tr>\n",
       "      <th>26</th>\n",
       "      <td>138</td>\n",
       "      <td>32</td>\n",
       "      <td>0.628378</td>\n",
       "      <td>0.533784</td>\n",
       "      <td>0</td>\n",
       "      <td>80767</td>\n",
       "    </tr>\n",
       "    <tr>\n",
       "      <th>27</th>\n",
       "      <td>140</td>\n",
       "      <td>76</td>\n",
       "      <td>0.735882</td>\n",
       "      <td>0.537793</td>\n",
       "      <td>0</td>\n",
       "      <td>454907</td>\n",
       "    </tr>\n",
       "    <tr>\n",
       "      <th>35</th>\n",
       "      <td>175</td>\n",
       "      <td>23</td>\n",
       "      <td>0.284615</td>\n",
       "      <td>0.000000</td>\n",
       "      <td>0</td>\n",
       "      <td>267244</td>\n",
       "    </tr>\n",
       "    <tr>\n",
       "      <th>...</th>\n",
       "      <td>...</td>\n",
       "      <td>...</td>\n",
       "      <td>...</td>\n",
       "      <td>...</td>\n",
       "      <td>...</td>\n",
       "      <td>...</td>\n",
       "    </tr>\n",
       "    <tr>\n",
       "      <th>37333</th>\n",
       "      <td>206030</td>\n",
       "      <td>37</td>\n",
       "      <td>0.702550</td>\n",
       "      <td>0.526912</td>\n",
       "      <td>0</td>\n",
       "      <td>340421</td>\n",
       "    </tr>\n",
       "    <tr>\n",
       "      <th>37335</th>\n",
       "      <td>206045</td>\n",
       "      <td>32</td>\n",
       "      <td>0.551807</td>\n",
       "      <td>0.407229</td>\n",
       "      <td>1</td>\n",
       "      <td>566792</td>\n",
       "    </tr>\n",
       "    <tr>\n",
       "      <th>37342</th>\n",
       "      <td>206086</td>\n",
       "      <td>46</td>\n",
       "      <td>0.825131</td>\n",
       "      <td>0.596859</td>\n",
       "      <td>0</td>\n",
       "      <td>296139</td>\n",
       "    </tr>\n",
       "    <tr>\n",
       "      <th>37347</th>\n",
       "      <td>206118</td>\n",
       "      <td>23</td>\n",
       "      <td>0.644068</td>\n",
       "      <td>0.000000</td>\n",
       "      <td>0</td>\n",
       "      <td>598274</td>\n",
       "    </tr>\n",
       "    <tr>\n",
       "      <th>37366</th>\n",
       "      <td>206201</td>\n",
       "      <td>31</td>\n",
       "      <td>0.563776</td>\n",
       "      <td>0.466837</td>\n",
       "      <td>0</td>\n",
       "      <td>550775</td>\n",
       "    </tr>\n",
       "  </tbody>\n",
       "</table>\n",
       "<p>7508 rows × 6 columns</p>\n",
       "</div>"
      ],
      "text/plain": [
       "       user_id  orders  reordered       tip  tip_last_order  last_order_id\n",
       "5           28      23   0.416667  0.303571               1         351338\n",
       "22         118      27   0.703030  0.721212               1         221600\n",
       "26         138      32   0.628378  0.533784               0          80767\n",
       "27         140      76   0.735882  0.537793               0         454907\n",
       "35         175      23   0.284615  0.000000               0         267244\n",
       "...        ...     ...        ...       ...             ...            ...\n",
       "37333   206030      37   0.702550  0.526912               0         340421\n",
       "37335   206045      32   0.551807  0.407229               1         566792\n",
       "37342   206086      46   0.825131  0.596859               0         296139\n",
       "37347   206118      23   0.644068  0.000000               0         598274\n",
       "37366   206201      31   0.563776  0.466837               0         550775\n",
       "\n",
       "[7508 rows x 6 columns]"
      ]
     },
     "execution_count": 326,
     "metadata": {},
     "output_type": "execute_result"
    }
   ],
   "source": [
    "df_userh.loc[df_userh.orders >= df_userh.orders.quantile(0.8)]"
   ]
  },
  {
   "cell_type": "code",
   "execution_count": 327,
   "metadata": {},
   "outputs": [],
   "source": [
    "list_bins = [1, 10, 20, 30, 40, 50, 60, 70, 80, 90, 100]\n",
    "df_userh[\"orders_cut\"] = pd.cut(df_userh[\"orders\"], bins= list_bins, include_lowest= True)"
   ]
  },
  {
   "cell_type": "code",
   "execution_count": 328,
   "metadata": {},
   "outputs": [
    {
     "data": {
      "text/html": [
       "<div>\n",
       "<style scoped>\n",
       "    .dataframe tbody tr th:only-of-type {\n",
       "        vertical-align: middle;\n",
       "    }\n",
       "\n",
       "    .dataframe tbody tr th {\n",
       "        vertical-align: top;\n",
       "    }\n",
       "\n",
       "    .dataframe thead th {\n",
       "        text-align: right;\n",
       "    }\n",
       "</style>\n",
       "<table border=\"1\" class=\"dataframe\">\n",
       "  <thead>\n",
       "    <tr style=\"text-align: right;\">\n",
       "      <th></th>\n",
       "      <th>user_id</th>\n",
       "      <th>orders</th>\n",
       "      <th>reordered</th>\n",
       "      <th>tip</th>\n",
       "      <th>tip_last_order</th>\n",
       "      <th>last_order_id</th>\n",
       "      <th>orders_cut</th>\n",
       "    </tr>\n",
       "  </thead>\n",
       "  <tbody>\n",
       "    <tr>\n",
       "      <th>0</th>\n",
       "      <td>3</td>\n",
       "      <td>11</td>\n",
       "      <td>0.597561</td>\n",
       "      <td>0.829268</td>\n",
       "      <td>1</td>\n",
       "      <td>248921</td>\n",
       "      <td>(10.0, 20.0]</td>\n",
       "    </tr>\n",
       "    <tr>\n",
       "      <th>1</th>\n",
       "      <td>7</td>\n",
       "      <td>20</td>\n",
       "      <td>0.669903</td>\n",
       "      <td>0.621359</td>\n",
       "      <td>1</td>\n",
       "      <td>93090</td>\n",
       "      <td>(10.0, 20.0]</td>\n",
       "    </tr>\n",
       "    <tr>\n",
       "      <th>2</th>\n",
       "      <td>14</td>\n",
       "      <td>13</td>\n",
       "      <td>0.323810</td>\n",
       "      <td>0.533333</td>\n",
       "      <td>0</td>\n",
       "      <td>411382</td>\n",
       "      <td>(10.0, 20.0]</td>\n",
       "    </tr>\n",
       "    <tr>\n",
       "      <th>3</th>\n",
       "      <td>23</td>\n",
       "      <td>4</td>\n",
       "      <td>0.100000</td>\n",
       "      <td>0.000000</td>\n",
       "      <td>0</td>\n",
       "      <td>603547</td>\n",
       "      <td>(0.999, 10.0]</td>\n",
       "    </tr>\n",
       "    <tr>\n",
       "      <th>4</th>\n",
       "      <td>25</td>\n",
       "      <td>2</td>\n",
       "      <td>0.066667</td>\n",
       "      <td>0.266667</td>\n",
       "      <td>1</td>\n",
       "      <td>45667</td>\n",
       "      <td>(0.999, 10.0]</td>\n",
       "    </tr>\n",
       "    <tr>\n",
       "      <th>...</th>\n",
       "      <td>...</td>\n",
       "      <td>...</td>\n",
       "      <td>...</td>\n",
       "      <td>...</td>\n",
       "      <td>...</td>\n",
       "      <td>...</td>\n",
       "      <td>...</td>\n",
       "    </tr>\n",
       "    <tr>\n",
       "      <th>37362</th>\n",
       "      <td>206186</td>\n",
       "      <td>3</td>\n",
       "      <td>0.281250</td>\n",
       "      <td>0.687500</td>\n",
       "      <td>0</td>\n",
       "      <td>28440</td>\n",
       "      <td>(0.999, 10.0]</td>\n",
       "    </tr>\n",
       "    <tr>\n",
       "      <th>37363</th>\n",
       "      <td>206189</td>\n",
       "      <td>5</td>\n",
       "      <td>0.457143</td>\n",
       "      <td>0.142857</td>\n",
       "      <td>1</td>\n",
       "      <td>345993</td>\n",
       "      <td>(0.999, 10.0]</td>\n",
       "    </tr>\n",
       "    <tr>\n",
       "      <th>37364</th>\n",
       "      <td>206192</td>\n",
       "      <td>13</td>\n",
       "      <td>0.618557</td>\n",
       "      <td>0.237113</td>\n",
       "      <td>0</td>\n",
       "      <td>111678</td>\n",
       "      <td>(10.0, 20.0]</td>\n",
       "    </tr>\n",
       "    <tr>\n",
       "      <th>37365</th>\n",
       "      <td>206195</td>\n",
       "      <td>19</td>\n",
       "      <td>0.432836</td>\n",
       "      <td>0.149254</td>\n",
       "      <td>0</td>\n",
       "      <td>530219</td>\n",
       "      <td>(10.0, 20.0]</td>\n",
       "    </tr>\n",
       "    <tr>\n",
       "      <th>37366</th>\n",
       "      <td>206201</td>\n",
       "      <td>31</td>\n",
       "      <td>0.563776</td>\n",
       "      <td>0.466837</td>\n",
       "      <td>0</td>\n",
       "      <td>550775</td>\n",
       "      <td>(30.0, 40.0]</td>\n",
       "    </tr>\n",
       "  </tbody>\n",
       "</table>\n",
       "<p>37367 rows × 7 columns</p>\n",
       "</div>"
      ],
      "text/plain": [
       "       user_id  orders  reordered       tip  tip_last_order  last_order_id  \\\n",
       "0            3      11   0.597561  0.829268               1         248921   \n",
       "1            7      20   0.669903  0.621359               1          93090   \n",
       "2           14      13   0.323810  0.533333               0         411382   \n",
       "3           23       4   0.100000  0.000000               0         603547   \n",
       "4           25       2   0.066667  0.266667               1          45667   \n",
       "...        ...     ...        ...       ...             ...            ...   \n",
       "37362   206186       3   0.281250  0.687500               0          28440   \n",
       "37363   206189       5   0.457143  0.142857               1         345993   \n",
       "37364   206192      13   0.618557  0.237113               0         111678   \n",
       "37365   206195      19   0.432836  0.149254               0         530219   \n",
       "37366   206201      31   0.563776  0.466837               0         550775   \n",
       "\n",
       "          orders_cut  \n",
       "0       (10.0, 20.0]  \n",
       "1       (10.0, 20.0]  \n",
       "2       (10.0, 20.0]  \n",
       "3      (0.999, 10.0]  \n",
       "4      (0.999, 10.0]  \n",
       "...              ...  \n",
       "37362  (0.999, 10.0]  \n",
       "37363  (0.999, 10.0]  \n",
       "37364   (10.0, 20.0]  \n",
       "37365   (10.0, 20.0]  \n",
       "37366   (30.0, 40.0]  \n",
       "\n",
       "[37367 rows x 7 columns]"
      ]
     },
     "execution_count": 328,
     "metadata": {},
     "output_type": "execute_result"
    }
   ],
   "source": [
    "df_userh"
   ]
  },
  {
   "cell_type": "code",
   "execution_count": 329,
   "metadata": {},
   "outputs": [
    {
     "data": {
      "text/html": [
       "<div>\n",
       "<style scoped>\n",
       "    .dataframe tbody tr th:only-of-type {\n",
       "        vertical-align: middle;\n",
       "    }\n",
       "\n",
       "    .dataframe tbody tr th {\n",
       "        vertical-align: top;\n",
       "    }\n",
       "\n",
       "    .dataframe thead th {\n",
       "        text-align: right;\n",
       "    }\n",
       "</style>\n",
       "<table border=\"1\" class=\"dataframe\">\n",
       "  <thead>\n",
       "    <tr style=\"text-align: right;\">\n",
       "      <th></th>\n",
       "      <th>orders_cut</th>\n",
       "      <th>orders</th>\n",
       "      <th>reordered</th>\n",
       "      <th>tip</th>\n",
       "    </tr>\n",
       "  </thead>\n",
       "  <tbody>\n",
       "    <tr>\n",
       "      <th>0</th>\n",
       "      <td>(0.999, 10.0]</td>\n",
       "      <td>112339</td>\n",
       "      <td>0.298360</td>\n",
       "      <td>0.273098</td>\n",
       "    </tr>\n",
       "    <tr>\n",
       "      <th>1</th>\n",
       "      <td>(10.0, 20.0]</td>\n",
       "      <td>119855</td>\n",
       "      <td>0.502436</td>\n",
       "      <td>0.369598</td>\n",
       "    </tr>\n",
       "    <tr>\n",
       "      <th>2</th>\n",
       "      <td>(20.0, 30.0]</td>\n",
       "      <td>89244</td>\n",
       "      <td>0.600599</td>\n",
       "      <td>0.464372</td>\n",
       "    </tr>\n",
       "    <tr>\n",
       "      <th>3</th>\n",
       "      <td>(30.0, 40.0]</td>\n",
       "      <td>67886</td>\n",
       "      <td>0.653653</td>\n",
       "      <td>0.520055</td>\n",
       "    </tr>\n",
       "    <tr>\n",
       "      <th>4</th>\n",
       "      <td>(40.0, 50.0]</td>\n",
       "      <td>52614</td>\n",
       "      <td>0.693452</td>\n",
       "      <td>0.547952</td>\n",
       "    </tr>\n",
       "    <tr>\n",
       "      <th>5</th>\n",
       "      <td>(50.0, 60.0]</td>\n",
       "      <td>38822</td>\n",
       "      <td>0.714454</td>\n",
       "      <td>0.532735</td>\n",
       "    </tr>\n",
       "    <tr>\n",
       "      <th>6</th>\n",
       "      <td>(60.0, 70.0]</td>\n",
       "      <td>25258</td>\n",
       "      <td>0.712583</td>\n",
       "      <td>0.517715</td>\n",
       "    </tr>\n",
       "    <tr>\n",
       "      <th>7</th>\n",
       "      <td>(70.0, 80.0]</td>\n",
       "      <td>18421</td>\n",
       "      <td>0.735522</td>\n",
       "      <td>0.462543</td>\n",
       "    </tr>\n",
       "    <tr>\n",
       "      <th>8</th>\n",
       "      <td>(80.0, 90.0]</td>\n",
       "      <td>11926</td>\n",
       "      <td>0.765044</td>\n",
       "      <td>0.477205</td>\n",
       "    </tr>\n",
       "    <tr>\n",
       "      <th>9</th>\n",
       "      <td>(90.0, 100.0]</td>\n",
       "      <td>33183</td>\n",
       "      <td>0.759181</td>\n",
       "      <td>0.410179</td>\n",
       "    </tr>\n",
       "  </tbody>\n",
       "</table>\n",
       "</div>"
      ],
      "text/plain": [
       "      orders_cut  orders  reordered       tip\n",
       "0  (0.999, 10.0]  112339   0.298360  0.273098\n",
       "1   (10.0, 20.0]  119855   0.502436  0.369598\n",
       "2   (20.0, 30.0]   89244   0.600599  0.464372\n",
       "3   (30.0, 40.0]   67886   0.653653  0.520055\n",
       "4   (40.0, 50.0]   52614   0.693452  0.547952\n",
       "5   (50.0, 60.0]   38822   0.714454  0.532735\n",
       "6   (60.0, 70.0]   25258   0.712583  0.517715\n",
       "7   (70.0, 80.0]   18421   0.735522  0.462543\n",
       "8   (80.0, 90.0]   11926   0.765044  0.477205\n",
       "9  (90.0, 100.0]   33183   0.759181  0.410179"
      ]
     },
     "execution_count": 329,
     "metadata": {},
     "output_type": "execute_result"
    }
   ],
   "source": [
    "df_userh1 = df_userh.groupby(\"orders_cut\", as_index= False).agg(orders= (\"orders\", \"sum\"), reordered= (\"reordered\", \"mean\"), tip= (\"tip\", \"mean\"))\n",
    "df_userh1"
   ]
  },
  {
   "cell_type": "code",
   "execution_count": 330,
   "metadata": {},
   "outputs": [],
   "source": [
    "df_userh1[\"orders_cut\"] = df_userh1[\"orders_cut\"].astype(\"str\")"
   ]
  },
  {
   "cell_type": "code",
   "execution_count": 331,
   "metadata": {},
   "outputs": [
    {
     "data": {
      "application/vnd.plotly.v1+json": {
       "config": {
        "plotlyServerURL": "https://plot.ly"
       },
       "data": [
        {
         "alignmentgroup": "True",
         "hovertemplate": "orders_cut=%{x}<br>tip=%{y}<extra></extra>",
         "legendgroup": "",
         "marker": {
          "color": "#636efa",
          "pattern": {
           "shape": ""
          }
         },
         "name": "",
         "offsetgroup": "",
         "orientation": "v",
         "showlegend": false,
         "textposition": "auto",
         "type": "bar",
         "x": [
          "(0.999, 10.0]",
          "(10.0, 20.0]",
          "(20.0, 30.0]",
          "(30.0, 40.0]",
          "(40.0, 50.0]",
          "(50.0, 60.0]",
          "(60.0, 70.0]",
          "(70.0, 80.0]",
          "(80.0, 90.0]",
          "(90.0, 100.0]"
         ],
         "xaxis": "x",
         "y": [
          0.27309755609275255,
          0.3695982057988783,
          0.4643722827724755,
          0.5200550165269971,
          0.5479515906805815,
          0.5327347498949232,
          0.5177149613298168,
          0.4625429211925084,
          0.47720489063974764,
          0.4101786357944936
         ],
         "yaxis": "y"
        }
       ],
       "layout": {
        "barmode": "relative",
        "legend": {
         "tracegroupgap": 0
        },
        "margin": {
         "t": 60
        },
        "template": {
         "data": {
          "bar": [
           {
            "error_x": {
             "color": "#2a3f5f"
            },
            "error_y": {
             "color": "#2a3f5f"
            },
            "marker": {
             "line": {
              "color": "#E5ECF6",
              "width": 0.5
             },
             "pattern": {
              "fillmode": "overlay",
              "size": 10,
              "solidity": 0.2
             }
            },
            "type": "bar"
           }
          ],
          "barpolar": [
           {
            "marker": {
             "line": {
              "color": "#E5ECF6",
              "width": 0.5
             },
             "pattern": {
              "fillmode": "overlay",
              "size": 10,
              "solidity": 0.2
             }
            },
            "type": "barpolar"
           }
          ],
          "carpet": [
           {
            "aaxis": {
             "endlinecolor": "#2a3f5f",
             "gridcolor": "white",
             "linecolor": "white",
             "minorgridcolor": "white",
             "startlinecolor": "#2a3f5f"
            },
            "baxis": {
             "endlinecolor": "#2a3f5f",
             "gridcolor": "white",
             "linecolor": "white",
             "minorgridcolor": "white",
             "startlinecolor": "#2a3f5f"
            },
            "type": "carpet"
           }
          ],
          "choropleth": [
           {
            "colorbar": {
             "outlinewidth": 0,
             "ticks": ""
            },
            "type": "choropleth"
           }
          ],
          "contour": [
           {
            "colorbar": {
             "outlinewidth": 0,
             "ticks": ""
            },
            "colorscale": [
             [
              0,
              "#0d0887"
             ],
             [
              0.1111111111111111,
              "#46039f"
             ],
             [
              0.2222222222222222,
              "#7201a8"
             ],
             [
              0.3333333333333333,
              "#9c179e"
             ],
             [
              0.4444444444444444,
              "#bd3786"
             ],
             [
              0.5555555555555556,
              "#d8576b"
             ],
             [
              0.6666666666666666,
              "#ed7953"
             ],
             [
              0.7777777777777778,
              "#fb9f3a"
             ],
             [
              0.8888888888888888,
              "#fdca26"
             ],
             [
              1,
              "#f0f921"
             ]
            ],
            "type": "contour"
           }
          ],
          "contourcarpet": [
           {
            "colorbar": {
             "outlinewidth": 0,
             "ticks": ""
            },
            "type": "contourcarpet"
           }
          ],
          "heatmap": [
           {
            "colorbar": {
             "outlinewidth": 0,
             "ticks": ""
            },
            "colorscale": [
             [
              0,
              "#0d0887"
             ],
             [
              0.1111111111111111,
              "#46039f"
             ],
             [
              0.2222222222222222,
              "#7201a8"
             ],
             [
              0.3333333333333333,
              "#9c179e"
             ],
             [
              0.4444444444444444,
              "#bd3786"
             ],
             [
              0.5555555555555556,
              "#d8576b"
             ],
             [
              0.6666666666666666,
              "#ed7953"
             ],
             [
              0.7777777777777778,
              "#fb9f3a"
             ],
             [
              0.8888888888888888,
              "#fdca26"
             ],
             [
              1,
              "#f0f921"
             ]
            ],
            "type": "heatmap"
           }
          ],
          "heatmapgl": [
           {
            "colorbar": {
             "outlinewidth": 0,
             "ticks": ""
            },
            "colorscale": [
             [
              0,
              "#0d0887"
             ],
             [
              0.1111111111111111,
              "#46039f"
             ],
             [
              0.2222222222222222,
              "#7201a8"
             ],
             [
              0.3333333333333333,
              "#9c179e"
             ],
             [
              0.4444444444444444,
              "#bd3786"
             ],
             [
              0.5555555555555556,
              "#d8576b"
             ],
             [
              0.6666666666666666,
              "#ed7953"
             ],
             [
              0.7777777777777778,
              "#fb9f3a"
             ],
             [
              0.8888888888888888,
              "#fdca26"
             ],
             [
              1,
              "#f0f921"
             ]
            ],
            "type": "heatmapgl"
           }
          ],
          "histogram": [
           {
            "marker": {
             "pattern": {
              "fillmode": "overlay",
              "size": 10,
              "solidity": 0.2
             }
            },
            "type": "histogram"
           }
          ],
          "histogram2d": [
           {
            "colorbar": {
             "outlinewidth": 0,
             "ticks": ""
            },
            "colorscale": [
             [
              0,
              "#0d0887"
             ],
             [
              0.1111111111111111,
              "#46039f"
             ],
             [
              0.2222222222222222,
              "#7201a8"
             ],
             [
              0.3333333333333333,
              "#9c179e"
             ],
             [
              0.4444444444444444,
              "#bd3786"
             ],
             [
              0.5555555555555556,
              "#d8576b"
             ],
             [
              0.6666666666666666,
              "#ed7953"
             ],
             [
              0.7777777777777778,
              "#fb9f3a"
             ],
             [
              0.8888888888888888,
              "#fdca26"
             ],
             [
              1,
              "#f0f921"
             ]
            ],
            "type": "histogram2d"
           }
          ],
          "histogram2dcontour": [
           {
            "colorbar": {
             "outlinewidth": 0,
             "ticks": ""
            },
            "colorscale": [
             [
              0,
              "#0d0887"
             ],
             [
              0.1111111111111111,
              "#46039f"
             ],
             [
              0.2222222222222222,
              "#7201a8"
             ],
             [
              0.3333333333333333,
              "#9c179e"
             ],
             [
              0.4444444444444444,
              "#bd3786"
             ],
             [
              0.5555555555555556,
              "#d8576b"
             ],
             [
              0.6666666666666666,
              "#ed7953"
             ],
             [
              0.7777777777777778,
              "#fb9f3a"
             ],
             [
              0.8888888888888888,
              "#fdca26"
             ],
             [
              1,
              "#f0f921"
             ]
            ],
            "type": "histogram2dcontour"
           }
          ],
          "mesh3d": [
           {
            "colorbar": {
             "outlinewidth": 0,
             "ticks": ""
            },
            "type": "mesh3d"
           }
          ],
          "parcoords": [
           {
            "line": {
             "colorbar": {
              "outlinewidth": 0,
              "ticks": ""
             }
            },
            "type": "parcoords"
           }
          ],
          "pie": [
           {
            "automargin": true,
            "type": "pie"
           }
          ],
          "scatter": [
           {
            "fillpattern": {
             "fillmode": "overlay",
             "size": 10,
             "solidity": 0.2
            },
            "type": "scatter"
           }
          ],
          "scatter3d": [
           {
            "line": {
             "colorbar": {
              "outlinewidth": 0,
              "ticks": ""
             }
            },
            "marker": {
             "colorbar": {
              "outlinewidth": 0,
              "ticks": ""
             }
            },
            "type": "scatter3d"
           }
          ],
          "scattercarpet": [
           {
            "marker": {
             "colorbar": {
              "outlinewidth": 0,
              "ticks": ""
             }
            },
            "type": "scattercarpet"
           }
          ],
          "scattergeo": [
           {
            "marker": {
             "colorbar": {
              "outlinewidth": 0,
              "ticks": ""
             }
            },
            "type": "scattergeo"
           }
          ],
          "scattergl": [
           {
            "marker": {
             "colorbar": {
              "outlinewidth": 0,
              "ticks": ""
             }
            },
            "type": "scattergl"
           }
          ],
          "scattermapbox": [
           {
            "marker": {
             "colorbar": {
              "outlinewidth": 0,
              "ticks": ""
             }
            },
            "type": "scattermapbox"
           }
          ],
          "scatterpolar": [
           {
            "marker": {
             "colorbar": {
              "outlinewidth": 0,
              "ticks": ""
             }
            },
            "type": "scatterpolar"
           }
          ],
          "scatterpolargl": [
           {
            "marker": {
             "colorbar": {
              "outlinewidth": 0,
              "ticks": ""
             }
            },
            "type": "scatterpolargl"
           }
          ],
          "scatterternary": [
           {
            "marker": {
             "colorbar": {
              "outlinewidth": 0,
              "ticks": ""
             }
            },
            "type": "scatterternary"
           }
          ],
          "surface": [
           {
            "colorbar": {
             "outlinewidth": 0,
             "ticks": ""
            },
            "colorscale": [
             [
              0,
              "#0d0887"
             ],
             [
              0.1111111111111111,
              "#46039f"
             ],
             [
              0.2222222222222222,
              "#7201a8"
             ],
             [
              0.3333333333333333,
              "#9c179e"
             ],
             [
              0.4444444444444444,
              "#bd3786"
             ],
             [
              0.5555555555555556,
              "#d8576b"
             ],
             [
              0.6666666666666666,
              "#ed7953"
             ],
             [
              0.7777777777777778,
              "#fb9f3a"
             ],
             [
              0.8888888888888888,
              "#fdca26"
             ],
             [
              1,
              "#f0f921"
             ]
            ],
            "type": "surface"
           }
          ],
          "table": [
           {
            "cells": {
             "fill": {
              "color": "#EBF0F8"
             },
             "line": {
              "color": "white"
             }
            },
            "header": {
             "fill": {
              "color": "#C8D4E3"
             },
             "line": {
              "color": "white"
             }
            },
            "type": "table"
           }
          ]
         },
         "layout": {
          "annotationdefaults": {
           "arrowcolor": "#2a3f5f",
           "arrowhead": 0,
           "arrowwidth": 1
          },
          "autotypenumbers": "strict",
          "coloraxis": {
           "colorbar": {
            "outlinewidth": 0,
            "ticks": ""
           }
          },
          "colorscale": {
           "diverging": [
            [
             0,
             "#8e0152"
            ],
            [
             0.1,
             "#c51b7d"
            ],
            [
             0.2,
             "#de77ae"
            ],
            [
             0.3,
             "#f1b6da"
            ],
            [
             0.4,
             "#fde0ef"
            ],
            [
             0.5,
             "#f7f7f7"
            ],
            [
             0.6,
             "#e6f5d0"
            ],
            [
             0.7,
             "#b8e186"
            ],
            [
             0.8,
             "#7fbc41"
            ],
            [
             0.9,
             "#4d9221"
            ],
            [
             1,
             "#276419"
            ]
           ],
           "sequential": [
            [
             0,
             "#0d0887"
            ],
            [
             0.1111111111111111,
             "#46039f"
            ],
            [
             0.2222222222222222,
             "#7201a8"
            ],
            [
             0.3333333333333333,
             "#9c179e"
            ],
            [
             0.4444444444444444,
             "#bd3786"
            ],
            [
             0.5555555555555556,
             "#d8576b"
            ],
            [
             0.6666666666666666,
             "#ed7953"
            ],
            [
             0.7777777777777778,
             "#fb9f3a"
            ],
            [
             0.8888888888888888,
             "#fdca26"
            ],
            [
             1,
             "#f0f921"
            ]
           ],
           "sequentialminus": [
            [
             0,
             "#0d0887"
            ],
            [
             0.1111111111111111,
             "#46039f"
            ],
            [
             0.2222222222222222,
             "#7201a8"
            ],
            [
             0.3333333333333333,
             "#9c179e"
            ],
            [
             0.4444444444444444,
             "#bd3786"
            ],
            [
             0.5555555555555556,
             "#d8576b"
            ],
            [
             0.6666666666666666,
             "#ed7953"
            ],
            [
             0.7777777777777778,
             "#fb9f3a"
            ],
            [
             0.8888888888888888,
             "#fdca26"
            ],
            [
             1,
             "#f0f921"
            ]
           ]
          },
          "colorway": [
           "#636efa",
           "#EF553B",
           "#00cc96",
           "#ab63fa",
           "#FFA15A",
           "#19d3f3",
           "#FF6692",
           "#B6E880",
           "#FF97FF",
           "#FECB52"
          ],
          "font": {
           "color": "#2a3f5f"
          },
          "geo": {
           "bgcolor": "white",
           "lakecolor": "white",
           "landcolor": "#E5ECF6",
           "showlakes": true,
           "showland": true,
           "subunitcolor": "white"
          },
          "hoverlabel": {
           "align": "left"
          },
          "hovermode": "closest",
          "mapbox": {
           "style": "light"
          },
          "paper_bgcolor": "white",
          "plot_bgcolor": "#E5ECF6",
          "polar": {
           "angularaxis": {
            "gridcolor": "white",
            "linecolor": "white",
            "ticks": ""
           },
           "bgcolor": "#E5ECF6",
           "radialaxis": {
            "gridcolor": "white",
            "linecolor": "white",
            "ticks": ""
           }
          },
          "scene": {
           "xaxis": {
            "backgroundcolor": "#E5ECF6",
            "gridcolor": "white",
            "gridwidth": 2,
            "linecolor": "white",
            "showbackground": true,
            "ticks": "",
            "zerolinecolor": "white"
           },
           "yaxis": {
            "backgroundcolor": "#E5ECF6",
            "gridcolor": "white",
            "gridwidth": 2,
            "linecolor": "white",
            "showbackground": true,
            "ticks": "",
            "zerolinecolor": "white"
           },
           "zaxis": {
            "backgroundcolor": "#E5ECF6",
            "gridcolor": "white",
            "gridwidth": 2,
            "linecolor": "white",
            "showbackground": true,
            "ticks": "",
            "zerolinecolor": "white"
           }
          },
          "shapedefaults": {
           "line": {
            "color": "#2a3f5f"
           }
          },
          "ternary": {
           "aaxis": {
            "gridcolor": "white",
            "linecolor": "white",
            "ticks": ""
           },
           "baxis": {
            "gridcolor": "white",
            "linecolor": "white",
            "ticks": ""
           },
           "bgcolor": "#E5ECF6",
           "caxis": {
            "gridcolor": "white",
            "linecolor": "white",
            "ticks": ""
           }
          },
          "title": {
           "x": 0.05
          },
          "xaxis": {
           "automargin": true,
           "gridcolor": "white",
           "linecolor": "white",
           "ticks": "",
           "title": {
            "standoff": 15
           },
           "zerolinecolor": "white",
           "zerolinewidth": 2
          },
          "yaxis": {
           "automargin": true,
           "gridcolor": "white",
           "linecolor": "white",
           "ticks": "",
           "title": {
            "standoff": 15
           },
           "zerolinecolor": "white",
           "zerolinewidth": 2
          }
         }
        },
        "xaxis": {
         "anchor": "y",
         "domain": [
          0,
          1
         ],
         "title": {
          "text": "orders_cut"
         }
        },
        "yaxis": {
         "anchor": "x",
         "domain": [
          0,
          1
         ],
         "title": {
          "text": "tip"
         }
        }
       }
      }
     },
     "metadata": {},
     "output_type": "display_data"
    }
   ],
   "source": [
    "px.bar(df_userh1, x= \"orders_cut\", y= \"tip\")"
   ]
  }
 ],
 "metadata": {
  "kernelspec": {
   "display_name": "Python 3",
   "language": "python",
   "name": "python3"
  },
  "language_info": {
   "codemirror_mode": {
    "name": "ipython",
    "version": 3
   },
   "file_extension": ".py",
   "mimetype": "text/x-python",
   "name": "python",
   "nbconvert_exporter": "python",
   "pygments_lexer": "ipython3",
   "version": "3.9.7"
  },
  "orig_nbformat": 4,
  "vscode": {
   "interpreter": {
    "hash": "aee8b7b246df8f9039afb4144a1f6fd8d2ca17a180786b69acc140d282b71a49"
   }
  }
 },
 "nbformat": 4,
 "nbformat_minor": 2
}
