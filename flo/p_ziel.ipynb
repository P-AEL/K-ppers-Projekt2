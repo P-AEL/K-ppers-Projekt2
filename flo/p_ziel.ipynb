{
 "cells": [
  {
   "attachments": {},
   "cell_type": "markdown",
   "metadata": {},
   "source": [
    "feature importance auf modell ohne feature engineering\n"
   ]
  },
  {
   "cell_type": "code",
   "execution_count": 1,
   "metadata": {},
   "outputs": [],
   "source": [
    "import pandas as pd\n",
    "import numpy as np\n",
    "import plotly.express as px\n",
    "from sklearn.model_selection import train_test_split\n",
    "from sklearn.tree import DecisionTreeClassifier\n",
    "from sklearn.model_selection import GridSearchCV\n",
    "from sklearn.metrics import accuracy_score, recall_score, precision_score\n",
    "from sklearn.ensemble import HistGradientBoostingClassifier\n",
    "from sklearn.pipeline import make_pipeline\n",
    "from sklearn.linear_model import LogisticRegression\n",
    "from sklearn.preprocessing import StandardScaler"
   ]
  },
  {
   "cell_type": "code",
   "execution_count": 2,
   "metadata": {},
   "outputs": [],
   "source": [
    "def print_evaluation(pipeline_or_model: str, X_train, X_test, y_train, y_test, y_train_pred, y_test_pred):\n",
    "    accurary_train = accuracy_score(y_train, y_train_pred)\n",
    "    recall_train = recall_score(y_train, y_train_pred)\n",
    "    precision_train = precision_score(y_train, y_train_pred)\n",
    "\n",
    "    accurary_test = accuracy_score(y_test, y_test_pred)\n",
    "    recall_test = recall_score(y_test, y_test_pred)\n",
    "    precision_test = precision_score(y_test, y_test_pred)\n",
    "    \n",
    "    print(\n",
    "        f\"{pipeline_or_model} Evaluation:\\n\"\n",
    "        f\"{'':6} {'ACC':>10} | {'REC':>14} | {'PRE':>10} | {'rows':>8} | {'columns':>8}\\n\"\n",
    "        f\"{'Train':6} {accurary_train:10.5f} | {recall_train:14.5f} | {precision_train:10.5f} | {X_train.shape[0]:8} | {X_train.shape[1]:8}\\n\"\n",
    "        f\"{'Test':6} {accurary_test:10.5f} | {recall_test:14.5f} | {precision_test:10.5f} | {X_test.shape[0]:8} | {X_test.shape[1]:8}\\n\"\n",
    "    )"
   ]
  },
  {
   "cell_type": "code",
   "execution_count": 3,
   "metadata": {},
   "outputs": [],
   "source": [
    "df = pd.read_parquet(\"DSCB310 - UE2 - Shopping Carts.parquet\")"
   ]
  },
  {
   "cell_type": "code",
   "execution_count": 4,
   "metadata": {},
   "outputs": [],
   "source": [
    "df = df.reset_index(drop= True)\n",
    "df = df.fillna(0)"
   ]
  },
  {
   "cell_type": "code",
   "execution_count": 5,
   "metadata": {},
   "outputs": [],
   "source": [
    "df_sample = df.sample(frac= 0.1)"
   ]
  },
  {
   "cell_type": "code",
   "execution_count": 17,
   "metadata": {},
   "outputs": [],
   "source": [
    "df_tip = df_sample.groupby([\"user_id\", \"order_id\", \"order_number\"], as_index= False).agg(tip = (\"tip\", \"mean\")).sort_values(by= [\"user_id\", \"order_number\"], ascending= True)\n",
    "df_tip[\"tip_cumsum\"] = df_tip.groupby(\"user_id\", as_index= False)[\"tip\"].cumsum()\n",
    "df_tip[\"user_tip_ratio\"] = df_tip.tip_cumsum / df_tip.order_number\n",
    "\n",
    "df_tip_merge = df_tip[[\"user_id\", \"order_id\", \"order_number\", \"user_tip_ratio\"]]\n",
    "df_sample = df_sample.merge(df_tip_merge, on = [\"user_id\", \"order_id\", \"order_number\"], how= \"right\")"
   ]
  },
  {
   "cell_type": "code",
   "execution_count": 6,
   "metadata": {},
   "outputs": [],
   "source": [
    "df_classifier = df_sample.copy()"
   ]
  },
  {
   "cell_type": "code",
   "execution_count": 7,
   "metadata": {},
   "outputs": [],
   "source": [
    "df_classifier = pd.get_dummies(df_classifier, columns= [\"county\"])"
   ]
  },
  {
   "cell_type": "code",
   "execution_count": 8,
   "metadata": {},
   "outputs": [
    {
     "data": {
      "text/html": [
       "<div>\n",
       "<style scoped>\n",
       "    .dataframe tbody tr th:only-of-type {\n",
       "        vertical-align: middle;\n",
       "    }\n",
       "\n",
       "    .dataframe tbody tr th {\n",
       "        vertical-align: top;\n",
       "    }\n",
       "\n",
       "    .dataframe thead th {\n",
       "        text-align: right;\n",
       "    }\n",
       "</style>\n",
       "<table border=\"1\" class=\"dataframe\">\n",
       "  <thead>\n",
       "    <tr style=\"text-align: right;\">\n",
       "      <th></th>\n",
       "      <th>order_id</th>\n",
       "      <th>product_id</th>\n",
       "      <th>add_to_cart_order</th>\n",
       "      <th>reordered</th>\n",
       "      <th>user_id</th>\n",
       "      <th>order_number</th>\n",
       "      <th>order_dow</th>\n",
       "      <th>order_hour_of_day</th>\n",
       "      <th>days_since_prior_order</th>\n",
       "      <th>tip</th>\n",
       "      <th>...</th>\n",
       "      <th>county_Sonoma</th>\n",
       "      <th>county_Stanislaus</th>\n",
       "      <th>county_Sutter</th>\n",
       "      <th>county_Tehama</th>\n",
       "      <th>county_Trinity</th>\n",
       "      <th>county_Tulare</th>\n",
       "      <th>county_Tuolumne</th>\n",
       "      <th>county_Ventura</th>\n",
       "      <th>county_Yolo</th>\n",
       "      <th>county_Yuba</th>\n",
       "    </tr>\n",
       "  </thead>\n",
       "  <tbody>\n",
       "    <tr>\n",
       "      <th>5863555</th>\n",
       "      <td>580393</td>\n",
       "      <td>38772</td>\n",
       "      <td>8</td>\n",
       "      <td>0</td>\n",
       "      <td>69665</td>\n",
       "      <td>3</td>\n",
       "      <td>5</td>\n",
       "      <td>7</td>\n",
       "      <td>30.0</td>\n",
       "      <td>0</td>\n",
       "      <td>...</td>\n",
       "      <td>0</td>\n",
       "      <td>0</td>\n",
       "      <td>0</td>\n",
       "      <td>0</td>\n",
       "      <td>0</td>\n",
       "      <td>0</td>\n",
       "      <td>0</td>\n",
       "      <td>1</td>\n",
       "      <td>0</td>\n",
       "      <td>0</td>\n",
       "    </tr>\n",
       "    <tr>\n",
       "      <th>1086931</th>\n",
       "      <td>107526</td>\n",
       "      <td>21614</td>\n",
       "      <td>8</td>\n",
       "      <td>1</td>\n",
       "      <td>153491</td>\n",
       "      <td>14</td>\n",
       "      <td>2</td>\n",
       "      <td>14</td>\n",
       "      <td>8.0</td>\n",
       "      <td>1</td>\n",
       "      <td>...</td>\n",
       "      <td>0</td>\n",
       "      <td>0</td>\n",
       "      <td>0</td>\n",
       "      <td>0</td>\n",
       "      <td>0</td>\n",
       "      <td>0</td>\n",
       "      <td>0</td>\n",
       "      <td>1</td>\n",
       "      <td>0</td>\n",
       "      <td>0</td>\n",
       "    </tr>\n",
       "    <tr>\n",
       "      <th>4288610</th>\n",
       "      <td>424405</td>\n",
       "      <td>33568</td>\n",
       "      <td>8</td>\n",
       "      <td>1</td>\n",
       "      <td>182332</td>\n",
       "      <td>13</td>\n",
       "      <td>6</td>\n",
       "      <td>9</td>\n",
       "      <td>7.0</td>\n",
       "      <td>0</td>\n",
       "      <td>...</td>\n",
       "      <td>0</td>\n",
       "      <td>0</td>\n",
       "      <td>0</td>\n",
       "      <td>0</td>\n",
       "      <td>0</td>\n",
       "      <td>0</td>\n",
       "      <td>0</td>\n",
       "      <td>0</td>\n",
       "      <td>0</td>\n",
       "      <td>0</td>\n",
       "    </tr>\n",
       "    <tr>\n",
       "      <th>2117404</th>\n",
       "      <td>209670</td>\n",
       "      <td>2326</td>\n",
       "      <td>4</td>\n",
       "      <td>0</td>\n",
       "      <td>193584</td>\n",
       "      <td>1</td>\n",
       "      <td>3</td>\n",
       "      <td>10</td>\n",
       "      <td>0.0</td>\n",
       "      <td>1</td>\n",
       "      <td>...</td>\n",
       "      <td>0</td>\n",
       "      <td>0</td>\n",
       "      <td>0</td>\n",
       "      <td>0</td>\n",
       "      <td>0</td>\n",
       "      <td>0</td>\n",
       "      <td>0</td>\n",
       "      <td>0</td>\n",
       "      <td>0</td>\n",
       "      <td>0</td>\n",
       "    </tr>\n",
       "    <tr>\n",
       "      <th>3848263</th>\n",
       "      <td>380764</td>\n",
       "      <td>10794</td>\n",
       "      <td>34</td>\n",
       "      <td>0</td>\n",
       "      <td>192073</td>\n",
       "      <td>4</td>\n",
       "      <td>5</td>\n",
       "      <td>0</td>\n",
       "      <td>10.0</td>\n",
       "      <td>0</td>\n",
       "      <td>...</td>\n",
       "      <td>0</td>\n",
       "      <td>0</td>\n",
       "      <td>0</td>\n",
       "      <td>0</td>\n",
       "      <td>0</td>\n",
       "      <td>0</td>\n",
       "      <td>0</td>\n",
       "      <td>0</td>\n",
       "      <td>0</td>\n",
       "      <td>0</td>\n",
       "    </tr>\n",
       "    <tr>\n",
       "      <th>...</th>\n",
       "      <td>...</td>\n",
       "      <td>...</td>\n",
       "      <td>...</td>\n",
       "      <td>...</td>\n",
       "      <td>...</td>\n",
       "      <td>...</td>\n",
       "      <td>...</td>\n",
       "      <td>...</td>\n",
       "      <td>...</td>\n",
       "      <td>...</td>\n",
       "      <td>...</td>\n",
       "      <td>...</td>\n",
       "      <td>...</td>\n",
       "      <td>...</td>\n",
       "      <td>...</td>\n",
       "      <td>...</td>\n",
       "      <td>...</td>\n",
       "      <td>...</td>\n",
       "      <td>...</td>\n",
       "      <td>...</td>\n",
       "      <td>...</td>\n",
       "    </tr>\n",
       "    <tr>\n",
       "      <th>3178836</th>\n",
       "      <td>314216</td>\n",
       "      <td>27086</td>\n",
       "      <td>3</td>\n",
       "      <td>1</td>\n",
       "      <td>75979</td>\n",
       "      <td>9</td>\n",
       "      <td>0</td>\n",
       "      <td>12</td>\n",
       "      <td>14.0</td>\n",
       "      <td>0</td>\n",
       "      <td>...</td>\n",
       "      <td>0</td>\n",
       "      <td>0</td>\n",
       "      <td>0</td>\n",
       "      <td>0</td>\n",
       "      <td>0</td>\n",
       "      <td>0</td>\n",
       "      <td>0</td>\n",
       "      <td>0</td>\n",
       "      <td>0</td>\n",
       "      <td>0</td>\n",
       "    </tr>\n",
       "    <tr>\n",
       "      <th>4772363</th>\n",
       "      <td>472288</td>\n",
       "      <td>44471</td>\n",
       "      <td>6</td>\n",
       "      <td>1</td>\n",
       "      <td>158869</td>\n",
       "      <td>18</td>\n",
       "      <td>1</td>\n",
       "      <td>9</td>\n",
       "      <td>2.0</td>\n",
       "      <td>1</td>\n",
       "      <td>...</td>\n",
       "      <td>0</td>\n",
       "      <td>0</td>\n",
       "      <td>0</td>\n",
       "      <td>0</td>\n",
       "      <td>0</td>\n",
       "      <td>0</td>\n",
       "      <td>0</td>\n",
       "      <td>0</td>\n",
       "      <td>0</td>\n",
       "      <td>0</td>\n",
       "    </tr>\n",
       "    <tr>\n",
       "      <th>210715</th>\n",
       "      <td>20844</td>\n",
       "      <td>1408</td>\n",
       "      <td>19</td>\n",
       "      <td>1</td>\n",
       "      <td>198872</td>\n",
       "      <td>3</td>\n",
       "      <td>0</td>\n",
       "      <td>9</td>\n",
       "      <td>30.0</td>\n",
       "      <td>1</td>\n",
       "      <td>...</td>\n",
       "      <td>0</td>\n",
       "      <td>0</td>\n",
       "      <td>0</td>\n",
       "      <td>0</td>\n",
       "      <td>0</td>\n",
       "      <td>0</td>\n",
       "      <td>0</td>\n",
       "      <td>0</td>\n",
       "      <td>0</td>\n",
       "      <td>0</td>\n",
       "    </tr>\n",
       "    <tr>\n",
       "      <th>4728493</th>\n",
       "      <td>467985</td>\n",
       "      <td>6150</td>\n",
       "      <td>11</td>\n",
       "      <td>0</td>\n",
       "      <td>2415</td>\n",
       "      <td>3</td>\n",
       "      <td>6</td>\n",
       "      <td>22</td>\n",
       "      <td>7.0</td>\n",
       "      <td>1</td>\n",
       "      <td>...</td>\n",
       "      <td>0</td>\n",
       "      <td>0</td>\n",
       "      <td>0</td>\n",
       "      <td>0</td>\n",
       "      <td>0</td>\n",
       "      <td>0</td>\n",
       "      <td>0</td>\n",
       "      <td>0</td>\n",
       "      <td>0</td>\n",
       "      <td>0</td>\n",
       "    </tr>\n",
       "    <tr>\n",
       "      <th>1719777</th>\n",
       "      <td>170393</td>\n",
       "      <td>4374</td>\n",
       "      <td>1</td>\n",
       "      <td>1</td>\n",
       "      <td>71644</td>\n",
       "      <td>5</td>\n",
       "      <td>4</td>\n",
       "      <td>13</td>\n",
       "      <td>7.0</td>\n",
       "      <td>1</td>\n",
       "      <td>...</td>\n",
       "      <td>0</td>\n",
       "      <td>0</td>\n",
       "      <td>0</td>\n",
       "      <td>0</td>\n",
       "      <td>0</td>\n",
       "      <td>0</td>\n",
       "      <td>0</td>\n",
       "      <td>0</td>\n",
       "      <td>0</td>\n",
       "      <td>0</td>\n",
       "    </tr>\n",
       "  </tbody>\n",
       "</table>\n",
       "<p>613267 rows × 72 columns</p>\n",
       "</div>"
      ],
      "text/plain": [
       "         order_id  product_id  add_to_cart_order  reordered  user_id  \\\n",
       "5863555    580393       38772                  8          0    69665   \n",
       "1086931    107526       21614                  8          1   153491   \n",
       "4288610    424405       33568                  8          1   182332   \n",
       "2117404    209670        2326                  4          0   193584   \n",
       "3848263    380764       10794                 34          0   192073   \n",
       "...           ...         ...                ...        ...      ...   \n",
       "3178836    314216       27086                  3          1    75979   \n",
       "4772363    472288       44471                  6          1   158869   \n",
       "210715      20844        1408                 19          1   198872   \n",
       "4728493    467985        6150                 11          0     2415   \n",
       "1719777    170393        4374                  1          1    71644   \n",
       "\n",
       "         order_number  order_dow  order_hour_of_day  days_since_prior_order  \\\n",
       "5863555             3          5                  7                    30.0   \n",
       "1086931            14          2                 14                     8.0   \n",
       "4288610            13          6                  9                     7.0   \n",
       "2117404             1          3                 10                     0.0   \n",
       "3848263             4          5                  0                    10.0   \n",
       "...               ...        ...                ...                     ...   \n",
       "3178836             9          0                 12                    14.0   \n",
       "4772363            18          1                  9                     2.0   \n",
       "210715              3          0                  9                    30.0   \n",
       "4728493             3          6                 22                     7.0   \n",
       "1719777             5          4                 13                     7.0   \n",
       "\n",
       "         tip  ... county_Sonoma  county_Stanislaus  county_Sutter  \\\n",
       "5863555    0  ...             0                  0              0   \n",
       "1086931    1  ...             0                  0              0   \n",
       "4288610    0  ...             0                  0              0   \n",
       "2117404    1  ...             0                  0              0   \n",
       "3848263    0  ...             0                  0              0   \n",
       "...      ...  ...           ...                ...            ...   \n",
       "3178836    0  ...             0                  0              0   \n",
       "4772363    1  ...             0                  0              0   \n",
       "210715     1  ...             0                  0              0   \n",
       "4728493    1  ...             0                  0              0   \n",
       "1719777    1  ...             0                  0              0   \n",
       "\n",
       "        county_Tehama county_Trinity  county_Tulare  county_Tuolumne  \\\n",
       "5863555             0              0              0                0   \n",
       "1086931             0              0              0                0   \n",
       "4288610             0              0              0                0   \n",
       "2117404             0              0              0                0   \n",
       "3848263             0              0              0                0   \n",
       "...               ...            ...            ...              ...   \n",
       "3178836             0              0              0                0   \n",
       "4772363             0              0              0                0   \n",
       "210715              0              0              0                0   \n",
       "4728493             0              0              0                0   \n",
       "1719777             0              0              0                0   \n",
       "\n",
       "         county_Ventura  county_Yolo  county_Yuba  \n",
       "5863555               1            0            0  \n",
       "1086931               1            0            0  \n",
       "4288610               0            0            0  \n",
       "2117404               0            0            0  \n",
       "3848263               0            0            0  \n",
       "...                 ...          ...          ...  \n",
       "3178836               0            0            0  \n",
       "4772363               0            0            0  \n",
       "210715                0            0            0  \n",
       "4728493               0            0            0  \n",
       "1719777               0            0            0  \n",
       "\n",
       "[613267 rows x 72 columns]"
      ]
     },
     "execution_count": 8,
     "metadata": {},
     "output_type": "execute_result"
    }
   ],
   "source": [
    "df_classifier"
   ]
  },
  {
   "cell_type": "code",
   "execution_count": 9,
   "metadata": {},
   "outputs": [],
   "source": [
    "X = df_classifier.drop([\"product_name\", \"department\", \"aisle\", \"tip\"], axis= 1)\n",
    "y = df_classifier[\"tip\"]"
   ]
  },
  {
   "cell_type": "code",
   "execution_count": 10,
   "metadata": {},
   "outputs": [],
   "source": [
    "X_train, X_test, y_train, y_test = train_test_split(X, y, test_size= 0.2, random_state=0)"
   ]
  },
  {
   "attachments": {},
   "cell_type": "markdown",
   "metadata": {},
   "source": [
    "#### **HGBC**"
   ]
  },
  {
   "cell_type": "code",
   "execution_count": 11,
   "metadata": {},
   "outputs": [
    {
     "name": "stdout",
     "output_type": "stream",
     "text": [
      "Best param: {'learning_rate': 0.1, 'max_depth': 9, 'max_iter': 100, 'random_state': 0} with acc: 0.6352012738010956\n"
     ]
    }
   ],
   "source": [
    "gs_crss_hgbc = GridSearchCV(\n",
    " estimator= HistGradientBoostingClassifier(),\n",
    " param_grid= dict(max_iter= [100], learning_rate= [0.001, 0.01, 0.1], max_depth= [1,3,5,9], random_state= [0]),\n",
    " scoring= \"accuracy\",\n",
    " n_jobs= -1\n",
    ").fit(X_train, y_train)\n",
    "\n",
    "print(f\"Best param: {gs_crss_hgbc.best_params_} with acc: {gs_crss_hgbc.best_score_}\")"
   ]
  },
  {
   "cell_type": "code",
   "execution_count": 12,
   "metadata": {},
   "outputs": [
    {
     "name": "stdout",
     "output_type": "stream",
     "text": [
      "HGBC Evaluation:\n",
      "              ACC |            REC |        PRE |     rows |  columns\n",
      "Train     0.63496 |        0.47595 |    0.62052 |   490613 |       68\n",
      "Test      0.63202 |        0.46920 |    0.61693 |   122654 |       68\n",
      "\n"
     ]
    }
   ],
   "source": [
    "best_hgbc = HistGradientBoostingClassifier(learning_rate= 0.1, max_depth= 5, max_iter= 100, random_state= 0).fit(X_train, y_train)\n",
    "\n",
    "y_best_train_pred = best_hgbc.predict(X_train)\n",
    "y_best_test_pred = best_hgbc.predict(X_test)\n",
    "\n",
    "print_evaluation(\"HGBC\", X_train, X_test, y_train, y_test, y_best_train_pred, y_best_test_pred)"
   ]
  },
  {
   "cell_type": "code",
   "execution_count": 13,
   "metadata": {},
   "outputs": [
    {
     "data": {
      "image/png": "[encoded data removed]",
      "text/plain": [
       "<Figure size 1440x1080 with 1 Axes>"
      ]
     },
     "metadata": {
      "needs_background": "light"
     },
     "output_type": "display_data"
    }
   ],
   "source": [
    "from sklearn.inspection import permutation_importance\n",
    "\n",
    "result = permutation_importance(best_hgbc, X_test, y_test, n_repeats= 10, random_state= 0, n_jobs= -1)\n",
    "\n",
    "sorted_importances_idx = result.importances_mean.argsort()\n",
    "importances = pd.DataFrame(\n",
    " result.importances[sorted_importances_idx].T,\n",
    " columns= X.columns[sorted_importances_idx]\n",
    ")\n",
    "\n",
    "ax= importances.plot.box(vert= False, whis= 10, figsize= (20, 15))\n",
    "ax.set_title(\"Permutation Importances (test_set)\")\n",
    "ax.axvline(x= 0, color= \"k\", linestyle= \"--\")\n",
    "ax.set_xlabel(\"Decrease in accuracy score\")\n",
    "ax.figure.tight_layout()"
   ]
  },
  {
   "attachments": {},
   "cell_type": "markdown",
   "metadata": {},
   "source": [
    "#### **DTC**"
   ]
  },
  {
   "cell_type": "code",
   "execution_count": 14,
   "metadata": {},
   "outputs": [
    {
     "name": "stdout",
     "output_type": "stream",
     "text": [
      "Best param: {'max_depth': 9, 'min_samples_split': 2, 'random_state': 0} with acc: 0.6153791267999122\n"
     ]
    }
   ],
   "source": [
    "gs_crss_dtc = GridSearchCV(\n",
    " estimator= DecisionTreeClassifier(),\n",
    " param_grid= dict(min_samples_split= [2, 10, 20, 50, 100], max_depth= [1, 3, 5, 9], random_state= [0]),\n",
    " scoring= \"accuracy\",\n",
    " n_jobs= -1\n",
    ").fit(X_train, y_train)\n",
    "\n",
    "print(f\"Best param: {gs_crss_dtc.best_params_} with acc: {gs_crss_dtc.best_score_}\")"
   ]
  },
  {
   "cell_type": "code",
   "execution_count": 15,
   "metadata": {},
   "outputs": [
    {
     "name": "stdout",
     "output_type": "stream",
     "text": [
      "DTC Evaluation:\n",
      "              ACC |            REC |        PRE |     rows |  columns\n",
      "Train     0.62265 |        0.44900 |    0.60626 |   490613 |       68\n",
      "Test      0.61832 |        0.44142 |    0.60009 |   122654 |       68\n",
      "\n"
     ]
    }
   ],
   "source": [
    "best_dtc = DecisionTreeClassifier(max_depth= 9, min_samples_split= 2, random_state= 0).fit(X_train, y_train)\n",
    "\n",
    "y_best_train_pred = best_dtc.predict(X_train)\n",
    "y_best_test_pred = best_dtc.predict(X_test)\n",
    "\n",
    "print_evaluation(\"DTC\", X_train, X_test, y_train, y_test, y_best_train_pred, y_best_test_pred)"
   ]
  },
  {
   "cell_type": "code",
   "execution_count": 16,
   "metadata": {},
   "outputs": [
    {
     "name": "stdout",
     "output_type": "stream",
     "text": [
      "{'order_id': 0.019581176205294853, 'product_id': 0.002537565071532999, 'add_to_cart_order': 0.022761942309562227, 'reordered': 0.006659065878254095, 'user_id': 0.02214895472079787, 'order_number': 0.1447682936353831, 'order_dow': 0.26321289253051317, 'order_hour_of_day': 0.11834175897163453, 'days_since_prior_order': 0.31906231707003263, 'aisle_id': 0.0031052613953845994, 'department_id': 0.04841315012127472, 'county_Alameda': 0.0, 'county_Alpine': 0.002244993863614482, 'county_Amador': 0.0, 'county_Calaveras': 0.0015117222700695514, 'county_Colusa': 0.0, 'county_Contra Costa': 0.0007651771762174871, 'county_Del Norte': 0.0, 'county_El Dorado': 0.0, 'county_Fresno': 0.000432596391538689, 'county_Glenn': 0.0023329571095769734, 'county_Humboldt': 0.0, 'county_Imperial': 0.0008681458648554431, 'county_Inyo': 0.00020955951935235583, 'county_Kern': 0.0004655911828492815, 'county_Kings': 0.0, 'county_Lake': 0.002773278902561399, 'county_Lassen': 0.0006038669201519709, 'county_Los Angeles': 0.0010877974196695464, 'county_Madera': 0.0005976677018938103, 'county_Marin': 0.00017614739317322017, 'county_Mariposa': 0.0013420027792611343, 'county_Mendocino': 0.0, 'county_Merced': 0.00025615400106055824, 'county_Modoc': 0.00090357464340462, 'county_Mono': 0.0, 'county_Monterey': 0.001266731684700204, 'county_Napa': 0.0, 'county_Nevada': 0.00029411021153404206, 'county_Orange': 0.0003888696148226013, 'county_Placer': 0.0, 'county_Plumas': 0.000303057302269114, 'county_Riverside': 0.0007207650247517617, 'county_Sacramento': 0.0, 'county_San Benito': 0.00026914803095814634, 'county_San Bernardino': 0.0, 'county_San Diego': 0.0, 'county_San Francisco': 0.0005689787487601392, 'county_San Joaquin': 0.0, 'county_San Luis Obispo': 0.0, 'county_San Mateo': 0.0, 'county_Santa Barbara': 0.0008208284353404389, 'county_Santa Clara': 0.0002770890873790111, 'county_Santa Cruz': 0.0015993684716935652, 'county_Shasta': 0.0, 'county_Sierra': 0.001637613662359255, 'county_Siskiyou': 0.0010254065302492807, 'county_Solano': 0.0006177408674206354, 'county_Sonoma': 0.000564241248400984, 'county_Stanislaus': 0.0, 'county_Sutter': 0.001813650881865718, 'county_Tehama': 0.0, 'county_Trinity': 0.0, 'county_Tulare': 0.00043237349558691753, 'county_Tuolumne': 0.0, 'county_Ventura': 5.643135438696659e-05, 'county_Yolo': 0.0, 'county_Yuba': 0.00017998429860596656}\n"
     ]
    }
   ],
   "source": [
    "# 'user_tip_ratio': 0.9335026329367192\n",
    "# 'order_dow': 0.031994586879281556\n",
    "# 'order_hour_of_day': 0.015698835635160557\n",
    "print(dict(zip(X.columns, best_dtc.feature_importances_)))"
   ]
  }
 ],
 "metadata": {
  "kernelspec": {
   "display_name": "Python 3",
   "language": "python",
   "name": "python3"
  },
  "language_info": {
   "codemirror_mode": {
    "name": "ipython",
    "version": 3
   },
   "file_extension": ".py",
   "mimetype": "text/x-python",
   "name": "python",
   "nbconvert_exporter": "python",
   "pygments_lexer": "ipython3",
   "version": "3.9.7"
  },
  "orig_nbformat": 4,
  "vscode": {
   "interpreter": {
    "hash": "aee8b7b246df8f9039afb4144a1f6fd8d2ca17a180786b69acc140d282b71a49"
   }
  }
 },
 "nbformat": 4,
 "nbformat_minor": 2
}
