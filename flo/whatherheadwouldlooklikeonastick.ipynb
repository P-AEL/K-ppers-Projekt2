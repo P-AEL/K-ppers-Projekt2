{
 "cells": [
  {
   "cell_type": "code",
   "execution_count": null,
   "metadata": {},
   "outputs": [],
   "source": [
    "# fig= go.Figure()\n",
    "\n",
    "\n",
    "# fig.add_trace(\n",
    "#     go.Bar(\n",
    "#         x= [\"nicht wiederbestellt\"],\n",
    "#         y= df_banana_user[df_banana_user.Banana_orders == 1].count().values[0],\n",
    "#         name= \"nicht wiederbestellt\",\n",
    "#         marker= dict(color= px.colors.sequential.Greys[3]),\n",
    "#         width= 0.5,\n",
    "#         text= df_banana_user[df_banana_user.Banana_orders == 1].count().values[0],      \n",
    "#         hovertemplate = f\"<b>Banana Orders</b><br><br>\" +\n",
    "#                 \"User: %{y}<br>\" +\n",
    "#                 \"<extra></extra>\"\n",
    "#     )\n",
    "# )\n",
    "\n",
    "# fig.add_trace(\n",
    "#     go.Bar(\n",
    "#         x= [\"wiederbestellt\"],\n",
    "#         y= df_banana_user[df_banana_user.Banana_orders != 1].count().values[0],\n",
    "#         name= \"wiederbestellt\",\n",
    "#         marker= dict(color= px.colors.sequential.Purpor[5]),\n",
    "#         width= 0.5,\n",
    "#         text= df_banana_user[df_banana_user.Banana_orders != 1].count().values[0],      \n",
    "#         hovertemplate = f\"<b>Banana Orders</b><br><br>\" +\n",
    "#                 \"User: %{y}<br>\" +\n",
    "#                 \"<extra></extra>\"\n",
    "#     )\n",
    "# )\n",
    "\n",
    "    \n",
    "# \n",
    "# fig.update_layout(title= dict(text= \"<b>Wiederbestellverhalten der einmaligen Bananenkäufer</b>\", font_size= 20, xanchor= \"center\", yanchor= \"top\", y=0.935, x=0.475), legend_title_text = \"<b>Kategorien</b>\", height= 500)\n",
    "# fig.update_xaxes(ticks= \"outside\")\n",
    "# fig.update_yaxes(title_text=\"<b>Anzahl an User</b>\", ticks= \"outside\", showgrid= True, gridcolor= \"grey\", tickvals= [0, 2500, 5000, 7500, 10000])\n",
    "# fig.update_layout(plot_bgcolor= \"white\", xaxis= dict(linecolor= \"black\"), yaxis= dict(linecolor= \"black\"))\n",
    "# fig.show()"
   ]
  }
 ],
 "metadata": {
  "kernelspec": {
   "display_name": "Python 3",
   "language": "python",
   "name": "python3"
  },
  "language_info": {
   "codemirror_mode": {
    "name": "ipython",
    "version": 3
   },
   "file_extension": ".py",
   "mimetype": "text/x-python",
   "name": "python",
   "nbconvert_exporter": "python",
   "pygments_lexer": "ipython3",
   "version": "3.9.7"
  },
  "orig_nbformat": 4,
  "vscode": {
   "interpreter": {
    "hash": "aee8b7b246df8f9039afb4144a1f6fd8d2ca17a180786b69acc140d282b71a49"
   }
  }
 },
 "nbformat": 4,
 "nbformat_minor": 2
}
