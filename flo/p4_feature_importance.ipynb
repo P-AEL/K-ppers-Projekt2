{
 "cells": [
  {
   "attachments": {},
   "cell_type": "markdown",
   "metadata": {},
   "source": [
    "#### **Feature importance um zu belegen, dass die Historie eines Users auschlaggebend für die Tringekeldwahrscheinlichkeit seiner aktullen Bestellung ist**"
   ]
  },
  {
   "cell_type": "code",
   "execution_count": 1,
   "metadata": {},
   "outputs": [],
   "source": [
    "import pandas as pd\n",
    "import plotly.express as px\n",
    "from sklearn.model_selection import train_test_split\n",
    "from sklearn.tree import DecisionTreeClassifier\n",
    "from sklearn.model_selection import GridSearchCV\n",
    "from sklearn.metrics import accuracy_score, recall_score, precision_score"
   ]
  },
  {
   "cell_type": "code",
   "execution_count": 2,
   "metadata": {},
   "outputs": [],
   "source": [
    "def print_evaluation(pipeline_or_model: str, X_train, X_test, y_train, y_test, y_train_pred, y_test_pred):\n",
    "    accurary_train = accuracy_score(y_train, y_train_pred)\n",
    "    recall_train = recall_score(y_train, y_train_pred)\n",
    "    precision_train = precision_score(y_train, y_train_pred)\n",
    "\n",
    "    accurary_test = accuracy_score(y_test, y_test_pred)\n",
    "    recall_test = recall_score(y_test, y_test_pred)\n",
    "    precision_test = precision_score(y_test, y_test_pred)\n",
    "    \n",
    "    print(\n",
    "        f\"{pipeline_or_model} Evaluation:\\n\"\n",
    "        f\"{'':6} {'ACC':>10} | {'REC':>14} | {'PRE':>10} | {'rows':>8} | {'columns':>8}\\n\"\n",
    "        f\"{'Train':6} {accurary_train:10.5f} | {recall_train:14.5f} | {precision_train:10.5f} | {X_train.shape[0]:8} | {X_train.shape[1]:8}\\n\"\n",
    "        f\"{'Test':6} {accurary_test:10.5f} | {recall_test:14.5f} | {precision_test:10.5f} | {X_test.shape[0]:8} | {X_test.shape[1]:8}\\n\"\n",
    "    )"
   ]
  },
  {
   "cell_type": "code",
   "execution_count": 3,
   "metadata": {},
   "outputs": [],
   "source": [
    "df = pd.read_parquet(\"DSCB310 - UE2 - Shopping Carts.parquet\")"
   ]
  },
  {
   "cell_type": "code",
   "execution_count": 4,
   "metadata": {},
   "outputs": [],
   "source": [
    "df = df.reset_index(drop= True)\n",
    "df = df.fillna(0)"
   ]
  },
  {
   "cell_type": "code",
   "execution_count": 5,
   "metadata": {},
   "outputs": [],
   "source": [
    "df_userhh = df.copy()\n",
    "df_userhh = df_userhh.sort_values(by= [\"user_id\", \"order_number\"], ascending= True)\n",
    "df_userh1 = df_userhh.groupby(\"user_id\", as_index= False).agg(orders = (\"order_id\", \"unique\"), reordered= (\"reordered\", \"mean\"), tip= (\"tip\", \"mean\"), order_number= (\"order_number\", \"unique\"))\n",
    "\n",
    "last_orders = []\n",
    "for ind, order in enumerate(df_userh1.orders):\n",
    " last_orders.append(df_userh1.orders[ind][-1])\n",
    "\n",
    "df_userhh.drop(df_userhh.loc[df_userhh.order_id.isin(last_orders)].index, inplace= True)\n",
    "df_userh = df_userhh.groupby(\"user_id\", as_index= False).agg(orders = (\"order_id\", \"nunique\"), reordered= (\"reordered\", \"mean\"), tip= (\"tip\", \"mean\"))\n",
    "df_last_order = df.loc[df.order_id.isin(last_orders)].groupby(\"user_id\").agg(tip_last_order= (\"tip\", \"max\"), last_order_id = (\"order_id\", \"max\")).reset_index()\n",
    "#df_userh = df_userh.merge(df_last_order, how= \"right\", on= \"user_id\")"
   ]
  },
  {
   "cell_type": "code",
   "execution_count": 6,
   "metadata": {},
   "outputs": [],
   "source": [
    "df1 = df.copy()"
   ]
  },
  {
   "cell_type": "code",
   "execution_count": 7,
   "metadata": {},
   "outputs": [],
   "source": [
    "df_last_orders = df1.loc[df1.order_id.isin(last_orders)]"
   ]
  },
  {
   "cell_type": "code",
   "execution_count": 8,
   "metadata": {},
   "outputs": [],
   "source": [
    "df1.drop(df1.loc[df1.order_id.isin(last_orders)].index, inplace= True)"
   ]
  },
  {
   "cell_type": "code",
   "execution_count": 9,
   "metadata": {},
   "outputs": [],
   "source": [
    "df_tip = df1.groupby([\"user_id\"], as_index= False).agg(user_tip_ratio = (\"tip\", \"mean\"))"
   ]
  },
  {
   "cell_type": "code",
   "execution_count": 10,
   "metadata": {},
   "outputs": [],
   "source": [
    "df1 = df1.merge(df_tip, on= \"user_id\", how= \"right\")"
   ]
  },
  {
   "cell_type": "code",
   "execution_count": 17,
   "metadata": {},
   "outputs": [],
   "source": [
    "df_last_orders = df_last_orders.merge(df_tip, on= \"user_id\", how= \"right\")"
   ]
  },
  {
   "cell_type": "code",
   "execution_count": 18,
   "metadata": {},
   "outputs": [],
   "source": [
    "X = df1[[\"order_id\",\t\"product_id\",\t\"add_to_cart_order\",\t\"user_id\",\t\"order_number\",\t\"order_dow\",\t\"order_hour_of_day\",\t\"days_since_prior_order\",\t\"aisle_id\",\t\"department_id\", \"user_tip_ratio\"]]\n",
    "y = df1[\"tip\"]"
   ]
  },
  {
   "cell_type": "code",
   "execution_count": 19,
   "metadata": {},
   "outputs": [],
   "source": [
    "X_train, y_train = X , y"
   ]
  },
  {
   "cell_type": "code",
   "execution_count": 20,
   "metadata": {},
   "outputs": [],
   "source": [
    "X_test, y_test = df_last_orders[[\"order_id\",\t\"product_id\",\t\"add_to_cart_order\",\t\"user_id\",\t\"order_number\",\t\"order_dow\",\t\"order_hour_of_day\",\t\"days_since_prior_order\",\t\"aisle_id\",\t\"department_id\", \"user_tip_ratio\"]], df_last_orders[\"tip\"]"
   ]
  },
  {
   "cell_type": "code",
   "execution_count": 14,
   "metadata": {},
   "outputs": [
    {
     "name": "stdout",
     "output_type": "stream",
     "text": [
      "Best parameters: {'max_depth': 6, 'min_samples_split': 2, 'random_state': 0}, with score: 0.7724332017517882\n"
     ]
    }
   ],
   "source": [
    "gs_crossv = GridSearchCV(\n",
    " estimator= DecisionTreeClassifier(),\n",
    " param_grid= dict(min_samples_split= [2, 10, 20, 50, 100], max_depth= [1, 3, 6, 9], random_state= [0]),\n",
    " scoring = \"accuracy\",\n",
    " n_jobs= -1,\n",
    " cv= 5\n",
    ").fit(X_train, y_train)\n",
    "\n",
    "print(f\"Best parameters: {gs_crossv.best_params_}, with score: {gs_crossv.best_score_}\")"
   ]
  },
  {
   "cell_type": "code",
   "execution_count": 21,
   "metadata": {},
   "outputs": [
    {
     "name": "stdout",
     "output_type": "stream",
     "text": [
      "DTC Evaluation:\n",
      "              ACC |            REC |        PRE |     rows |  columns\n",
      "Train     0.77942 |        0.73144 |    0.77023 |  5740420 |       11\n",
      "Test      0.76509 |        0.64272 |    0.69115 |   392249 |       11\n",
      "\n"
     ]
    }
   ],
   "source": [
    "dtc2 = DecisionTreeClassifier(min_samples_split= 2, max_depth= 6, random_state= 0).fit(X_train, y_train)\n",
    "\n",
    "y_pred_train_best_dtc2 = dtc2.predict(X_train)\n",
    "y_pred_test_best_dtc2 = dtc2.predict(X_test)\n",
    "\n",
    "print_evaluation(\"DTC\", X_train, X_test, y_train, y_test, y_pred_train_best_dtc2, y_pred_test_best_dtc2)"
   ]
  },
  {
   "cell_type": "code",
   "execution_count": 22,
   "metadata": {},
   "outputs": [
    {
     "name": "stdout",
     "output_type": "stream",
     "text": [
      "{'order_id': 6.701943163374691e-05, 'product_id': 0.0, 'add_to_cart_order': 6.541085648993934e-06, 'user_id': 0.0, 'order_number': 0.0, 'order_dow': 0.04376369120058702, 'order_hour_of_day': 0.018309682286576402, 'days_since_prior_order': 0.0, 'aisle_id': 0.0, 'department_id': 0.0, 'user_tip_ratio': 0.9378530659955538}\n"
     ]
    }
   ],
   "source": [
    "print(dict(zip(X.columns, dtc2.feature_importances_)))"
   ]
  },
  {
   "attachments": {},
   "cell_type": "markdown",
   "metadata": {},
   "source": [
    "- feature_importance von user_tip_ratio mit 0.9379 am höchsten\n",
    "- damit ist die Tip-History eines users auschschlag gebend für die Tip-wahrscheinlichkeit bei der aktuellen Bestellung "
   ]
  }
 ],
 "metadata": {
  "kernelspec": {
   "display_name": "Python 3",
   "language": "python",
   "name": "python3"
  },
  "language_info": {
   "codemirror_mode": {
    "name": "ipython",
    "version": 3
   },
   "file_extension": ".py",
   "mimetype": "text/x-python",
   "name": "python",
   "nbconvert_exporter": "python",
   "pygments_lexer": "ipython3",
   "version": "3.9.7 (v3.9.7:1016ef3790, Aug 30 2021, 16:39:15) \n[Clang 6.0 (clang-600.0.57)]"
  },
  "orig_nbformat": 4,
  "vscode": {
   "interpreter": {
    "hash": "aee8b7b246df8f9039afb4144a1f6fd8d2ca17a180786b69acc140d282b71a49"
   }
  }
 },
 "nbformat": 4,
 "nbformat_minor": 2
}
