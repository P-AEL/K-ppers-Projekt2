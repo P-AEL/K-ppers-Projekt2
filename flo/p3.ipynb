{
 "cells": [
  {
   "cell_type": "code",
   "execution_count": 1,
   "metadata": {},
   "outputs": [],
   "source": [
    "import pandas as pd\n",
    "import plotly.express as px\n",
    "import plotly.graph_objects as go\n",
    "from plotly.subplots import make_subplots\n",
    "import plotly.figure_factory as ff"
   ]
  },
  {
   "cell_type": "code",
   "execution_count": 4,
   "metadata": {},
   "outputs": [],
   "source": [
    "df = pd.read_parquet(\"DSCB310 - UE2 - Shopping Carts.parquet\")"
   ]
  },
  {
   "cell_type": "code",
   "execution_count": 5,
   "metadata": {},
   "outputs": [
    {
     "data": {
      "text/html": [
       "<div>\n",
       "<style scoped>\n",
       "    .dataframe tbody tr th:only-of-type {\n",
       "        vertical-align: middle;\n",
       "    }\n",
       "\n",
       "    .dataframe tbody tr th {\n",
       "        vertical-align: top;\n",
       "    }\n",
       "\n",
       "    .dataframe thead th {\n",
       "        text-align: right;\n",
       "    }\n",
       "</style>\n",
       "<table border=\"1\" class=\"dataframe\">\n",
       "  <thead>\n",
       "    <tr style=\"text-align: right;\">\n",
       "      <th></th>\n",
       "      <th>order_id</th>\n",
       "      <th>product_id</th>\n",
       "      <th>add_to_cart_order</th>\n",
       "      <th>reordered</th>\n",
       "      <th>user_id</th>\n",
       "      <th>order_number</th>\n",
       "      <th>order_dow</th>\n",
       "      <th>order_hour_of_day</th>\n",
       "      <th>days_since_prior_order</th>\n",
       "      <th>tip</th>\n",
       "      <th>product_name</th>\n",
       "      <th>aisle_id</th>\n",
       "      <th>department_id</th>\n",
       "      <th>department</th>\n",
       "      <th>aisle</th>\n",
       "      <th>county</th>\n",
       "    </tr>\n",
       "  </thead>\n",
       "  <tbody>\n",
       "    <tr>\n",
       "      <th>0</th>\n",
       "      <td>1</td>\n",
       "      <td>13176</td>\n",
       "      <td>6</td>\n",
       "      <td>0</td>\n",
       "      <td>112108</td>\n",
       "      <td>4</td>\n",
       "      <td>4</td>\n",
       "      <td>10</td>\n",
       "      <td>9.0</td>\n",
       "      <td>1</td>\n",
       "      <td>Bag of Organic Bananas</td>\n",
       "      <td>24</td>\n",
       "      <td>4</td>\n",
       "      <td>produce</td>\n",
       "      <td>fresh fruits</td>\n",
       "      <td>Inyo</td>\n",
       "    </tr>\n",
       "    <tr>\n",
       "      <th>1</th>\n",
       "      <td>1</td>\n",
       "      <td>11109</td>\n",
       "      <td>2</td>\n",
       "      <td>1</td>\n",
       "      <td>112108</td>\n",
       "      <td>4</td>\n",
       "      <td>4</td>\n",
       "      <td>10</td>\n",
       "      <td>9.0</td>\n",
       "      <td>1</td>\n",
       "      <td>Organic 4% Milk Fat Whole Milk Cottage Cheese</td>\n",
       "      <td>108</td>\n",
       "      <td>16</td>\n",
       "      <td>dairy eggs</td>\n",
       "      <td>other creams cheeses</td>\n",
       "      <td>Inyo</td>\n",
       "    </tr>\n",
       "    <tr>\n",
       "      <th>2</th>\n",
       "      <td>1</td>\n",
       "      <td>10246</td>\n",
       "      <td>3</td>\n",
       "      <td>0</td>\n",
       "      <td>112108</td>\n",
       "      <td>4</td>\n",
       "      <td>4</td>\n",
       "      <td>10</td>\n",
       "      <td>9.0</td>\n",
       "      <td>1</td>\n",
       "      <td>Organic Celery Hearts</td>\n",
       "      <td>83</td>\n",
       "      <td>4</td>\n",
       "      <td>produce</td>\n",
       "      <td>fresh vegetables</td>\n",
       "      <td>Inyo</td>\n",
       "    </tr>\n",
       "    <tr>\n",
       "      <th>3</th>\n",
       "      <td>1</td>\n",
       "      <td>22035</td>\n",
       "      <td>8</td>\n",
       "      <td>1</td>\n",
       "      <td>112108</td>\n",
       "      <td>4</td>\n",
       "      <td>4</td>\n",
       "      <td>10</td>\n",
       "      <td>9.0</td>\n",
       "      <td>1</td>\n",
       "      <td>Organic Whole String Cheese</td>\n",
       "      <td>21</td>\n",
       "      <td>16</td>\n",
       "      <td>dairy eggs</td>\n",
       "      <td>packaged cheese</td>\n",
       "      <td>Inyo</td>\n",
       "    </tr>\n",
       "    <tr>\n",
       "      <th>4</th>\n",
       "      <td>1</td>\n",
       "      <td>49683</td>\n",
       "      <td>4</td>\n",
       "      <td>0</td>\n",
       "      <td>112108</td>\n",
       "      <td>4</td>\n",
       "      <td>4</td>\n",
       "      <td>10</td>\n",
       "      <td>9.0</td>\n",
       "      <td>1</td>\n",
       "      <td>Cucumber Kirby</td>\n",
       "      <td>83</td>\n",
       "      <td>4</td>\n",
       "      <td>produce</td>\n",
       "      <td>fresh vegetables</td>\n",
       "      <td>Inyo</td>\n",
       "    </tr>\n",
       "    <tr>\n",
       "      <th>...</th>\n",
       "      <td>...</td>\n",
       "      <td>...</td>\n",
       "      <td>...</td>\n",
       "      <td>...</td>\n",
       "      <td>...</td>\n",
       "      <td>...</td>\n",
       "      <td>...</td>\n",
       "      <td>...</td>\n",
       "      <td>...</td>\n",
       "      <td>...</td>\n",
       "      <td>...</td>\n",
       "      <td>...</td>\n",
       "      <td>...</td>\n",
       "      <td>...</td>\n",
       "      <td>...</td>\n",
       "      <td>...</td>\n",
       "    </tr>\n",
       "    <tr>\n",
       "      <th>6132664</th>\n",
       "      <td>606914</td>\n",
       "      <td>28849</td>\n",
       "      <td>6</td>\n",
       "      <td>1</td>\n",
       "      <td>193225</td>\n",
       "      <td>18</td>\n",
       "      <td>5</td>\n",
       "      <td>13</td>\n",
       "      <td>4.0</td>\n",
       "      <td>1</td>\n",
       "      <td>No Salt Added Black Beans</td>\n",
       "      <td>59</td>\n",
       "      <td>15</td>\n",
       "      <td>canned goods</td>\n",
       "      <td>canned meals beans</td>\n",
       "      <td>Calaveras</td>\n",
       "    </tr>\n",
       "    <tr>\n",
       "      <th>6132665</th>\n",
       "      <td>606915</td>\n",
       "      <td>27966</td>\n",
       "      <td>1</td>\n",
       "      <td>0</td>\n",
       "      <td>107102</td>\n",
       "      <td>1</td>\n",
       "      <td>3</td>\n",
       "      <td>10</td>\n",
       "      <td>NaN</td>\n",
       "      <td>0</td>\n",
       "      <td>Organic Raspberries</td>\n",
       "      <td>123</td>\n",
       "      <td>4</td>\n",
       "      <td>produce</td>\n",
       "      <td>packaged vegetables fruits</td>\n",
       "      <td>Amador</td>\n",
       "    </tr>\n",
       "    <tr>\n",
       "      <th>6132666</th>\n",
       "      <td>606915</td>\n",
       "      <td>27845</td>\n",
       "      <td>4</td>\n",
       "      <td>0</td>\n",
       "      <td>107102</td>\n",
       "      <td>1</td>\n",
       "      <td>3</td>\n",
       "      <td>10</td>\n",
       "      <td>NaN</td>\n",
       "      <td>0</td>\n",
       "      <td>Organic Whole Milk</td>\n",
       "      <td>84</td>\n",
       "      <td>16</td>\n",
       "      <td>dairy eggs</td>\n",
       "      <td>milk</td>\n",
       "      <td>Amador</td>\n",
       "    </tr>\n",
       "    <tr>\n",
       "      <th>6132667</th>\n",
       "      <td>606915</td>\n",
       "      <td>26940</td>\n",
       "      <td>3</td>\n",
       "      <td>0</td>\n",
       "      <td>107102</td>\n",
       "      <td>1</td>\n",
       "      <td>3</td>\n",
       "      <td>10</td>\n",
       "      <td>NaN</td>\n",
       "      <td>0</td>\n",
       "      <td>Organic Large Green Asparagus</td>\n",
       "      <td>83</td>\n",
       "      <td>4</td>\n",
       "      <td>produce</td>\n",
       "      <td>fresh vegetables</td>\n",
       "      <td>Amador</td>\n",
       "    </tr>\n",
       "    <tr>\n",
       "      <th>6132668</th>\n",
       "      <td>606915</td>\n",
       "      <td>45007</td>\n",
       "      <td>2</td>\n",
       "      <td>0</td>\n",
       "      <td>107102</td>\n",
       "      <td>1</td>\n",
       "      <td>3</td>\n",
       "      <td>10</td>\n",
       "      <td>NaN</td>\n",
       "      <td>0</td>\n",
       "      <td>Organic Zucchini</td>\n",
       "      <td>83</td>\n",
       "      <td>4</td>\n",
       "      <td>produce</td>\n",
       "      <td>fresh vegetables</td>\n",
       "      <td>Amador</td>\n",
       "    </tr>\n",
       "  </tbody>\n",
       "</table>\n",
       "<p>6132669 rows × 16 columns</p>\n",
       "</div>"
      ],
      "text/plain": [
       "         order_id  product_id  add_to_cart_order  reordered  user_id  \\\n",
       "0               1       13176                  6          0   112108   \n",
       "1               1       11109                  2          1   112108   \n",
       "2               1       10246                  3          0   112108   \n",
       "3               1       22035                  8          1   112108   \n",
       "4               1       49683                  4          0   112108   \n",
       "...           ...         ...                ...        ...      ...   \n",
       "6132664    606914       28849                  6          1   193225   \n",
       "6132665    606915       27966                  1          0   107102   \n",
       "6132666    606915       27845                  4          0   107102   \n",
       "6132667    606915       26940                  3          0   107102   \n",
       "6132668    606915       45007                  2          0   107102   \n",
       "\n",
       "         order_number  order_dow  order_hour_of_day  days_since_prior_order  \\\n",
       "0                   4          4                 10                     9.0   \n",
       "1                   4          4                 10                     9.0   \n",
       "2                   4          4                 10                     9.0   \n",
       "3                   4          4                 10                     9.0   \n",
       "4                   4          4                 10                     9.0   \n",
       "...               ...        ...                ...                     ...   \n",
       "6132664            18          5                 13                     4.0   \n",
       "6132665             1          3                 10                     NaN   \n",
       "6132666             1          3                 10                     NaN   \n",
       "6132667             1          3                 10                     NaN   \n",
       "6132668             1          3                 10                     NaN   \n",
       "\n",
       "         tip                                   product_name  aisle_id  \\\n",
       "0          1                         Bag of Organic Bananas        24   \n",
       "1          1  Organic 4% Milk Fat Whole Milk Cottage Cheese       108   \n",
       "2          1                          Organic Celery Hearts        83   \n",
       "3          1                    Organic Whole String Cheese        21   \n",
       "4          1                                 Cucumber Kirby        83   \n",
       "...      ...                                            ...       ...   \n",
       "6132664    1                      No Salt Added Black Beans        59   \n",
       "6132665    0                            Organic Raspberries       123   \n",
       "6132666    0                             Organic Whole Milk        84   \n",
       "6132667    0                  Organic Large Green Asparagus        83   \n",
       "6132668    0                               Organic Zucchini        83   \n",
       "\n",
       "         department_id    department                       aisle     county  \n",
       "0                    4       produce                fresh fruits       Inyo  \n",
       "1                   16    dairy eggs        other creams cheeses       Inyo  \n",
       "2                    4       produce            fresh vegetables       Inyo  \n",
       "3                   16    dairy eggs             packaged cheese       Inyo  \n",
       "4                    4       produce            fresh vegetables       Inyo  \n",
       "...                ...           ...                         ...        ...  \n",
       "6132664             15  canned goods          canned meals beans  Calaveras  \n",
       "6132665              4       produce  packaged vegetables fruits     Amador  \n",
       "6132666             16    dairy eggs                        milk     Amador  \n",
       "6132667              4       produce            fresh vegetables     Amador  \n",
       "6132668              4       produce            fresh vegetables     Amador  \n",
       "\n",
       "[6132669 rows x 16 columns]"
      ]
     },
     "execution_count": 5,
     "metadata": {},
     "output_type": "execute_result"
    }
   ],
   "source": [
    "df.reset_index(drop= True)"
   ]
  },
  {
   "attachments": {},
   "cell_type": "markdown",
   "metadata": {},
   "source": [
    "### **P3:** Welche Attribute einer Bestellung wirken sich auf das Trinkgeldverhalten aus?"
   ]
  },
  {
   "cell_type": "code",
   "execution_count": null,
   "metadata": {},
   "outputs": [],
   "source": [
    "# feature engineering von p_ziele mit einbringen\n",
    "# add_to_card_order anschauen\n",
    "\n",
    "# correlation, user_id, add_to_cart_order, product_name, order_dow, order_size machen !"
   ]
  },
  {
   "attachments": {},
   "cell_type": "markdown",
   "metadata": {},
   "source": [
    "#### Correlation"
   ]
  },
  {
   "cell_type": "code",
   "execution_count": null,
   "metadata": {},
   "outputs": [],
   "source": [
    "# nach order_id gruppieren und dann corr()"
   ]
  },
  {
   "cell_type": "code",
   "execution_count": 6,
   "metadata": {},
   "outputs": [
    {
     "data": {
      "text/html": [
       "<div>\n",
       "<style scoped>\n",
       "    .dataframe tbody tr th:only-of-type {\n",
       "        vertical-align: middle;\n",
       "    }\n",
       "\n",
       "    .dataframe tbody tr th {\n",
       "        vertical-align: top;\n",
       "    }\n",
       "\n",
       "    .dataframe thead th {\n",
       "        text-align: right;\n",
       "    }\n",
       "</style>\n",
       "<table border=\"1\" class=\"dataframe\">\n",
       "  <thead>\n",
       "    <tr style=\"text-align: right;\">\n",
       "      <th></th>\n",
       "      <th>index</th>\n",
       "      <th>order_id</th>\n",
       "      <th>product_id</th>\n",
       "      <th>add_to_cart_order</th>\n",
       "      <th>reordered</th>\n",
       "      <th>user_id</th>\n",
       "      <th>order_number</th>\n",
       "      <th>order_dow</th>\n",
       "      <th>order_hour_of_day</th>\n",
       "      <th>days_since_prior_order</th>\n",
       "      <th>tip</th>\n",
       "      <th>product_name</th>\n",
       "      <th>aisle_id</th>\n",
       "      <th>department_id</th>\n",
       "      <th>department</th>\n",
       "      <th>aisle</th>\n",
       "      <th>county</th>\n",
       "    </tr>\n",
       "  </thead>\n",
       "  <tbody>\n",
       "    <tr>\n",
       "      <th>0</th>\n",
       "      <td>5006171</td>\n",
       "      <td>1</td>\n",
       "      <td>13176</td>\n",
       "      <td>6</td>\n",
       "      <td>0</td>\n",
       "      <td>112108</td>\n",
       "      <td>4</td>\n",
       "      <td>4</td>\n",
       "      <td>10</td>\n",
       "      <td>9.0</td>\n",
       "      <td>1</td>\n",
       "      <td>Bag of Organic Bananas</td>\n",
       "      <td>24</td>\n",
       "      <td>4</td>\n",
       "      <td>produce</td>\n",
       "      <td>fresh fruits</td>\n",
       "      <td>Inyo</td>\n",
       "    </tr>\n",
       "    <tr>\n",
       "      <th>1</th>\n",
       "      <td>5006176</td>\n",
       "      <td>1</td>\n",
       "      <td>11109</td>\n",
       "      <td>2</td>\n",
       "      <td>1</td>\n",
       "      <td>112108</td>\n",
       "      <td>4</td>\n",
       "      <td>4</td>\n",
       "      <td>10</td>\n",
       "      <td>9.0</td>\n",
       "      <td>1</td>\n",
       "      <td>Organic 4% Milk Fat Whole Milk Cottage Cheese</td>\n",
       "      <td>108</td>\n",
       "      <td>16</td>\n",
       "      <td>dairy eggs</td>\n",
       "      <td>other creams cheeses</td>\n",
       "      <td>Inyo</td>\n",
       "    </tr>\n",
       "    <tr>\n",
       "      <th>2</th>\n",
       "      <td>5006175</td>\n",
       "      <td>1</td>\n",
       "      <td>10246</td>\n",
       "      <td>3</td>\n",
       "      <td>0</td>\n",
       "      <td>112108</td>\n",
       "      <td>4</td>\n",
       "      <td>4</td>\n",
       "      <td>10</td>\n",
       "      <td>9.0</td>\n",
       "      <td>1</td>\n",
       "      <td>Organic Celery Hearts</td>\n",
       "      <td>83</td>\n",
       "      <td>4</td>\n",
       "      <td>produce</td>\n",
       "      <td>fresh vegetables</td>\n",
       "      <td>Inyo</td>\n",
       "    </tr>\n",
       "    <tr>\n",
       "      <th>3</th>\n",
       "      <td>5006174</td>\n",
       "      <td>1</td>\n",
       "      <td>22035</td>\n",
       "      <td>8</td>\n",
       "      <td>1</td>\n",
       "      <td>112108</td>\n",
       "      <td>4</td>\n",
       "      <td>4</td>\n",
       "      <td>10</td>\n",
       "      <td>9.0</td>\n",
       "      <td>1</td>\n",
       "      <td>Organic Whole String Cheese</td>\n",
       "      <td>21</td>\n",
       "      <td>16</td>\n",
       "      <td>dairy eggs</td>\n",
       "      <td>packaged cheese</td>\n",
       "      <td>Inyo</td>\n",
       "    </tr>\n",
       "    <tr>\n",
       "      <th>4</th>\n",
       "      <td>5006173</td>\n",
       "      <td>1</td>\n",
       "      <td>49683</td>\n",
       "      <td>4</td>\n",
       "      <td>0</td>\n",
       "      <td>112108</td>\n",
       "      <td>4</td>\n",
       "      <td>4</td>\n",
       "      <td>10</td>\n",
       "      <td>9.0</td>\n",
       "      <td>1</td>\n",
       "      <td>Cucumber Kirby</td>\n",
       "      <td>83</td>\n",
       "      <td>4</td>\n",
       "      <td>produce</td>\n",
       "      <td>fresh vegetables</td>\n",
       "      <td>Inyo</td>\n",
       "    </tr>\n",
       "  </tbody>\n",
       "</table>\n",
       "</div>"
      ],
      "text/plain": [
       "     index  order_id  product_id  add_to_cart_order  reordered  user_id  \\\n",
       "0  5006171         1       13176                  6          0   112108   \n",
       "1  5006176         1       11109                  2          1   112108   \n",
       "2  5006175         1       10246                  3          0   112108   \n",
       "3  5006174         1       22035                  8          1   112108   \n",
       "4  5006173         1       49683                  4          0   112108   \n",
       "\n",
       "   order_number  order_dow  order_hour_of_day  days_since_prior_order  tip  \\\n",
       "0             4          4                 10                     9.0    1   \n",
       "1             4          4                 10                     9.0    1   \n",
       "2             4          4                 10                     9.0    1   \n",
       "3             4          4                 10                     9.0    1   \n",
       "4             4          4                 10                     9.0    1   \n",
       "\n",
       "                                    product_name  aisle_id  department_id  \\\n",
       "0                         Bag of Organic Bananas        24              4   \n",
       "1  Organic 4% Milk Fat Whole Milk Cottage Cheese       108             16   \n",
       "2                          Organic Celery Hearts        83              4   \n",
       "3                    Organic Whole String Cheese        21             16   \n",
       "4                                 Cucumber Kirby        83              4   \n",
       "\n",
       "   department                 aisle county  \n",
       "0     produce          fresh fruits   Inyo  \n",
       "1  dairy eggs  other creams cheeses   Inyo  \n",
       "2     produce      fresh vegetables   Inyo  \n",
       "3  dairy eggs       packaged cheese   Inyo  \n",
       "4     produce      fresh vegetables   Inyo  "
      ]
     },
     "execution_count": 6,
     "metadata": {},
     "output_type": "execute_result"
    }
   ],
   "source": [
    "df.head()"
   ]
  },
  {
   "cell_type": "code",
   "execution_count": 11,
   "metadata": {},
   "outputs": [],
   "source": [
    "df_corr = df.groupby(\"order_id\").agg(\n",
    " product_it = (\"product_id\", \"unique\"), \n",
    " order_hour_of_day= (\"order_hour_of_day\", \"mean\"), \n",
    " days_since_prior_order = (\"days_since_prior_order\", \"mean\"), \n",
    " tip = (\"tip\", \"mean\"), \n",
    " department_id = (\"department_id\", \"unique\"), \n",
    " county= (\"county\", \"max\"),\n",
    " aisle_id = (\"aisle_id\", \"unique\"),\n",
    " user_id = (\"user_id\", \"unique\")\n",
    " ).reset_index()"
   ]
  },
  {
   "cell_type": "code",
   "execution_count": 12,
   "metadata": {},
   "outputs": [
    {
     "data": {
      "text/html": [
       "<div>\n",
       "<style scoped>\n",
       "    .dataframe tbody tr th:only-of-type {\n",
       "        vertical-align: middle;\n",
       "    }\n",
       "\n",
       "    .dataframe tbody tr th {\n",
       "        vertical-align: top;\n",
       "    }\n",
       "\n",
       "    .dataframe thead th {\n",
       "        text-align: right;\n",
       "    }\n",
       "</style>\n",
       "<table border=\"1\" class=\"dataframe\">\n",
       "  <thead>\n",
       "    <tr style=\"text-align: right;\">\n",
       "      <th></th>\n",
       "      <th>order_id</th>\n",
       "      <th>order_hour_of_day</th>\n",
       "      <th>days_since_prior_order</th>\n",
       "      <th>tip</th>\n",
       "    </tr>\n",
       "  </thead>\n",
       "  <tbody>\n",
       "    <tr>\n",
       "      <th>order_id</th>\n",
       "      <td>1.000000</td>\n",
       "      <td>0.000546</td>\n",
       "      <td>0.000495</td>\n",
       "      <td>-0.001533</td>\n",
       "    </tr>\n",
       "    <tr>\n",
       "      <th>order_hour_of_day</th>\n",
       "      <td>0.000546</td>\n",
       "      <td>1.000000</td>\n",
       "      <td>0.000152</td>\n",
       "      <td>0.024662</td>\n",
       "    </tr>\n",
       "    <tr>\n",
       "      <th>days_since_prior_order</th>\n",
       "      <td>0.000495</td>\n",
       "      <td>0.000152</td>\n",
       "      <td>1.000000</td>\n",
       "      <td>-0.133145</td>\n",
       "    </tr>\n",
       "    <tr>\n",
       "      <th>tip</th>\n",
       "      <td>-0.001533</td>\n",
       "      <td>0.024662</td>\n",
       "      <td>-0.133145</td>\n",
       "      <td>1.000000</td>\n",
       "    </tr>\n",
       "  </tbody>\n",
       "</table>\n",
       "</div>"
      ],
      "text/plain": [
       "                        order_id  order_hour_of_day  days_since_prior_order  \\\n",
       "order_id                1.000000           0.000546                0.000495   \n",
       "order_hour_of_day       0.000546           1.000000                0.000152   \n",
       "days_since_prior_order  0.000495           0.000152                1.000000   \n",
       "tip                    -0.001533           0.024662               -0.133145   \n",
       "\n",
       "                             tip  \n",
       "order_id               -0.001533  \n",
       "order_hour_of_day       0.024662  \n",
       "days_since_prior_order -0.133145  \n",
       "tip                     1.000000  "
      ]
     },
     "execution_count": 12,
     "metadata": {},
     "output_type": "execute_result"
    }
   ],
   "source": [
    "df_corr.corr()"
   ]
  },
  {
   "cell_type": "code",
   "execution_count": null,
   "metadata": {},
   "outputs": [
    {
     "data": {
      "text/html": [
       "<div>\n",
       "<style scoped>\n",
       "    .dataframe tbody tr th:only-of-type {\n",
       "        vertical-align: middle;\n",
       "    }\n",
       "\n",
       "    .dataframe tbody tr th {\n",
       "        vertical-align: top;\n",
       "    }\n",
       "\n",
       "    .dataframe thead th {\n",
       "        text-align: right;\n",
       "    }\n",
       "</style>\n",
       "<table border=\"1\" class=\"dataframe\">\n",
       "  <thead>\n",
       "    <tr style=\"text-align: right;\">\n",
       "      <th></th>\n",
       "      <th>product_id</th>\n",
       "      <th>reordered</th>\n",
       "      <th>order_dow</th>\n",
       "      <th>order_hour_of_day</th>\n",
       "      <th>days_since_prior_order</th>\n",
       "      <th>tip</th>\n",
       "    </tr>\n",
       "  </thead>\n",
       "  <tbody>\n",
       "    <tr>\n",
       "      <th>product_id</th>\n",
       "      <td>1.000000</td>\n",
       "      <td>0.003051</td>\n",
       "      <td>-0.002709</td>\n",
       "      <td>0.001654</td>\n",
       "      <td>0.000652</td>\n",
       "      <td>-0.001380</td>\n",
       "    </tr>\n",
       "    <tr>\n",
       "      <th>reordered</th>\n",
       "      <td>0.003051</td>\n",
       "      <td>1.000000</td>\n",
       "      <td>-0.011324</td>\n",
       "      <td>-0.022744</td>\n",
       "      <td>-0.130482</td>\n",
       "      <td>0.077467</td>\n",
       "    </tr>\n",
       "    <tr>\n",
       "      <th>order_dow</th>\n",
       "      <td>-0.002709</td>\n",
       "      <td>-0.011324</td>\n",
       "      <td>1.000000</td>\n",
       "      <td>0.009725</td>\n",
       "      <td>-0.030760</td>\n",
       "      <td>-0.114064</td>\n",
       "    </tr>\n",
       "    <tr>\n",
       "      <th>order_hour_of_day</th>\n",
       "      <td>0.001654</td>\n",
       "      <td>-0.022744</td>\n",
       "      <td>0.009725</td>\n",
       "      <td>1.000000</td>\n",
       "      <td>0.004329</td>\n",
       "      <td>0.025336</td>\n",
       "    </tr>\n",
       "    <tr>\n",
       "      <th>days_since_prior_order</th>\n",
       "      <td>0.000652</td>\n",
       "      <td>-0.130482</td>\n",
       "      <td>-0.030760</td>\n",
       "      <td>0.004329</td>\n",
       "      <td>1.000000</td>\n",
       "      <td>-0.143219</td>\n",
       "    </tr>\n",
       "    <tr>\n",
       "      <th>tip</th>\n",
       "      <td>-0.001380</td>\n",
       "      <td>0.077467</td>\n",
       "      <td>-0.114064</td>\n",
       "      <td>0.025336</td>\n",
       "      <td>-0.143219</td>\n",
       "      <td>1.000000</td>\n",
       "    </tr>\n",
       "  </tbody>\n",
       "</table>\n",
       "</div>"
      ],
      "text/plain": [
       "                        product_id  reordered  order_dow  order_hour_of_day  \\\n",
       "product_id                1.000000   0.003051  -0.002709           0.001654   \n",
       "reordered                 0.003051   1.000000  -0.011324          -0.022744   \n",
       "order_dow                -0.002709  -0.011324   1.000000           0.009725   \n",
       "order_hour_of_day         0.001654  -0.022744   0.009725           1.000000   \n",
       "days_since_prior_order    0.000652  -0.130482  -0.030760           0.004329   \n",
       "tip                      -0.001380   0.077467  -0.114064           0.025336   \n",
       "\n",
       "                        days_since_prior_order       tip  \n",
       "product_id                            0.000652 -0.001380  \n",
       "reordered                            -0.130482  0.077467  \n",
       "order_dow                            -0.030760 -0.114064  \n",
       "order_hour_of_day                     0.004329  0.025336  \n",
       "days_since_prior_order                1.000000 -0.143219  \n",
       "tip                                  -0.143219  1.000000  "
      ]
     },
     "metadata": {},
     "output_type": "display_data"
    }
   ],
   "source": [
    "df[[\"product_id\", \"reordered\", \"order_dow\", \"order_hour_of_day\", \"days_since_prior_order\", \"tip\"]].corr()"
   ]
  },
  {
   "cell_type": "code",
   "execution_count": null,
   "metadata": {},
   "outputs": [
    {
     "data": {
      "text/html": [
       "<div>\n",
       "<style scoped>\n",
       "    .dataframe tbody tr th:only-of-type {\n",
       "        vertical-align: middle;\n",
       "    }\n",
       "\n",
       "    .dataframe tbody tr th {\n",
       "        vertical-align: top;\n",
       "    }\n",
       "\n",
       "    .dataframe thead th {\n",
       "        text-align: right;\n",
       "    }\n",
       "</style>\n",
       "<table border=\"1\" class=\"dataframe\">\n",
       "  <thead>\n",
       "    <tr style=\"text-align: right;\">\n",
       "      <th></th>\n",
       "      <th>index</th>\n",
       "      <th>order_id</th>\n",
       "      <th>product_id</th>\n",
       "      <th>add_to_cart_order</th>\n",
       "      <th>reordered</th>\n",
       "      <th>user_id</th>\n",
       "      <th>order_number</th>\n",
       "      <th>order_dow</th>\n",
       "      <th>order_hour_of_day</th>\n",
       "      <th>days_since_prior_order</th>\n",
       "      <th>tip</th>\n",
       "      <th>product_name</th>\n",
       "      <th>aisle_id</th>\n",
       "      <th>department_id</th>\n",
       "      <th>department</th>\n",
       "      <th>aisle</th>\n",
       "      <th>county</th>\n",
       "    </tr>\n",
       "  </thead>\n",
       "  <tbody>\n",
       "    <tr>\n",
       "      <th>0</th>\n",
       "      <td>5006171</td>\n",
       "      <td>1</td>\n",
       "      <td>13176</td>\n",
       "      <td>6</td>\n",
       "      <td>0</td>\n",
       "      <td>112108</td>\n",
       "      <td>4</td>\n",
       "      <td>4</td>\n",
       "      <td>10</td>\n",
       "      <td>9.0</td>\n",
       "      <td>1</td>\n",
       "      <td>Bag of Organic Bananas</td>\n",
       "      <td>24</td>\n",
       "      <td>4</td>\n",
       "      <td>produce</td>\n",
       "      <td>fresh fruits</td>\n",
       "      <td>Inyo</td>\n",
       "    </tr>\n",
       "    <tr>\n",
       "      <th>1</th>\n",
       "      <td>5006176</td>\n",
       "      <td>1</td>\n",
       "      <td>11109</td>\n",
       "      <td>2</td>\n",
       "      <td>1</td>\n",
       "      <td>112108</td>\n",
       "      <td>4</td>\n",
       "      <td>4</td>\n",
       "      <td>10</td>\n",
       "      <td>9.0</td>\n",
       "      <td>1</td>\n",
       "      <td>Organic 4% Milk Fat Whole Milk Cottage Cheese</td>\n",
       "      <td>108</td>\n",
       "      <td>16</td>\n",
       "      <td>dairy eggs</td>\n",
       "      <td>other creams cheeses</td>\n",
       "      <td>Inyo</td>\n",
       "    </tr>\n",
       "    <tr>\n",
       "      <th>2</th>\n",
       "      <td>5006175</td>\n",
       "      <td>1</td>\n",
       "      <td>10246</td>\n",
       "      <td>3</td>\n",
       "      <td>0</td>\n",
       "      <td>112108</td>\n",
       "      <td>4</td>\n",
       "      <td>4</td>\n",
       "      <td>10</td>\n",
       "      <td>9.0</td>\n",
       "      <td>1</td>\n",
       "      <td>Organic Celery Hearts</td>\n",
       "      <td>83</td>\n",
       "      <td>4</td>\n",
       "      <td>produce</td>\n",
       "      <td>fresh vegetables</td>\n",
       "      <td>Inyo</td>\n",
       "    </tr>\n",
       "    <tr>\n",
       "      <th>3</th>\n",
       "      <td>5006174</td>\n",
       "      <td>1</td>\n",
       "      <td>22035</td>\n",
       "      <td>8</td>\n",
       "      <td>1</td>\n",
       "      <td>112108</td>\n",
       "      <td>4</td>\n",
       "      <td>4</td>\n",
       "      <td>10</td>\n",
       "      <td>9.0</td>\n",
       "      <td>1</td>\n",
       "      <td>Organic Whole String Cheese</td>\n",
       "      <td>21</td>\n",
       "      <td>16</td>\n",
       "      <td>dairy eggs</td>\n",
       "      <td>packaged cheese</td>\n",
       "      <td>Inyo</td>\n",
       "    </tr>\n",
       "    <tr>\n",
       "      <th>4</th>\n",
       "      <td>5006173</td>\n",
       "      <td>1</td>\n",
       "      <td>49683</td>\n",
       "      <td>4</td>\n",
       "      <td>0</td>\n",
       "      <td>112108</td>\n",
       "      <td>4</td>\n",
       "      <td>4</td>\n",
       "      <td>10</td>\n",
       "      <td>9.0</td>\n",
       "      <td>1</td>\n",
       "      <td>Cucumber Kirby</td>\n",
       "      <td>83</td>\n",
       "      <td>4</td>\n",
       "      <td>produce</td>\n",
       "      <td>fresh vegetables</td>\n",
       "      <td>Inyo</td>\n",
       "    </tr>\n",
       "  </tbody>\n",
       "</table>\n",
       "</div>"
      ],
      "text/plain": [
       "     index  order_id  product_id  add_to_cart_order  reordered  user_id  \\\n",
       "0  5006171         1       13176                  6          0   112108   \n",
       "1  5006176         1       11109                  2          1   112108   \n",
       "2  5006175         1       10246                  3          0   112108   \n",
       "3  5006174         1       22035                  8          1   112108   \n",
       "4  5006173         1       49683                  4          0   112108   \n",
       "\n",
       "   order_number  order_dow  order_hour_of_day  days_since_prior_order  tip  \\\n",
       "0             4          4                 10                     9.0    1   \n",
       "1             4          4                 10                     9.0    1   \n",
       "2             4          4                 10                     9.0    1   \n",
       "3             4          4                 10                     9.0    1   \n",
       "4             4          4                 10                     9.0    1   \n",
       "\n",
       "                                    product_name  aisle_id  department_id  \\\n",
       "0                         Bag of Organic Bananas        24              4   \n",
       "1  Organic 4% Milk Fat Whole Milk Cottage Cheese       108             16   \n",
       "2                          Organic Celery Hearts        83              4   \n",
       "3                    Organic Whole String Cheese        21             16   \n",
       "4                                 Cucumber Kirby        83              4   \n",
       "\n",
       "   department                 aisle county  \n",
       "0     produce          fresh fruits   Inyo  \n",
       "1  dairy eggs  other creams cheeses   Inyo  \n",
       "2     produce      fresh vegetables   Inyo  \n",
       "3  dairy eggs       packaged cheese   Inyo  \n",
       "4     produce      fresh vegetables   Inyo  "
      ]
     },
     "metadata": {},
     "output_type": "display_data"
    }
   ],
   "source": [
    "df.loc[df.tip == 1].head()"
   ]
  },
  {
   "attachments": {},
   "cell_type": "markdown",
   "metadata": {},
   "source": [
    "#### Order_dow"
   ]
  },
  {
   "cell_type": "code",
   "execution_count": null,
   "metadata": {},
   "outputs": [
    {
     "data": {
      "text/html": [
       "<div>\n",
       "<style scoped>\n",
       "    .dataframe tbody tr th:only-of-type {\n",
       "        vertical-align: middle;\n",
       "    }\n",
       "\n",
       "    .dataframe tbody tr th {\n",
       "        vertical-align: top;\n",
       "    }\n",
       "\n",
       "    .dataframe thead th {\n",
       "        text-align: right;\n",
       "    }\n",
       "</style>\n",
       "<table border=\"1\" class=\"dataframe\">\n",
       "  <thead>\n",
       "    <tr style=\"text-align: right;\">\n",
       "      <th></th>\n",
       "      <th>order_dow</th>\n",
       "      <th>order_id</th>\n",
       "      <th>tip_orders_per_day</th>\n",
       "    </tr>\n",
       "  </thead>\n",
       "  <tbody>\n",
       "    <tr>\n",
       "      <th>0</th>\n",
       "      <td>0</td>\n",
       "      <td>4</td>\n",
       "      <td>1.0</td>\n",
       "    </tr>\n",
       "    <tr>\n",
       "      <th>1</th>\n",
       "      <td>0</td>\n",
       "      <td>6</td>\n",
       "      <td>0.0</td>\n",
       "    </tr>\n",
       "    <tr>\n",
       "      <th>2</th>\n",
       "      <td>0</td>\n",
       "      <td>9</td>\n",
       "      <td>1.0</td>\n",
       "    </tr>\n",
       "    <tr>\n",
       "      <th>3</th>\n",
       "      <td>0</td>\n",
       "      <td>10</td>\n",
       "      <td>0.0</td>\n",
       "    </tr>\n",
       "    <tr>\n",
       "      <th>4</th>\n",
       "      <td>0</td>\n",
       "      <td>19</td>\n",
       "      <td>1.0</td>\n",
       "    </tr>\n",
       "    <tr>\n",
       "      <th>...</th>\n",
       "      <td>...</td>\n",
       "      <td>...</td>\n",
       "      <td>...</td>\n",
       "    </tr>\n",
       "    <tr>\n",
       "      <th>606910</th>\n",
       "      <td>6</td>\n",
       "      <td>606886</td>\n",
       "      <td>1.0</td>\n",
       "    </tr>\n",
       "    <tr>\n",
       "      <th>606911</th>\n",
       "      <td>6</td>\n",
       "      <td>606898</td>\n",
       "      <td>1.0</td>\n",
       "    </tr>\n",
       "    <tr>\n",
       "      <th>606912</th>\n",
       "      <td>6</td>\n",
       "      <td>606904</td>\n",
       "      <td>0.0</td>\n",
       "    </tr>\n",
       "    <tr>\n",
       "      <th>606913</th>\n",
       "      <td>6</td>\n",
       "      <td>606906</td>\n",
       "      <td>1.0</td>\n",
       "    </tr>\n",
       "    <tr>\n",
       "      <th>606914</th>\n",
       "      <td>6</td>\n",
       "      <td>606913</td>\n",
       "      <td>0.0</td>\n",
       "    </tr>\n",
       "  </tbody>\n",
       "</table>\n",
       "<p>606915 rows × 3 columns</p>\n",
       "</div>"
      ],
      "text/plain": [
       "        order_dow  order_id  tip_orders_per_day\n",
       "0               0         4                 1.0\n",
       "1               0         6                 0.0\n",
       "2               0         9                 1.0\n",
       "3               0        10                 0.0\n",
       "4               0        19                 1.0\n",
       "...           ...       ...                 ...\n",
       "606910          6    606886                 1.0\n",
       "606911          6    606898                 1.0\n",
       "606912          6    606904                 0.0\n",
       "606913          6    606906                 1.0\n",
       "606914          6    606913                 0.0\n",
       "\n",
       "[606915 rows x 3 columns]"
      ]
     },
     "metadata": {},
     "output_type": "display_data"
    }
   ],
   "source": [
    "df1 = df.groupby([\"order_dow\", \"order_id\"], as_index= False).agg(tip_orders_per_day = (\"tip\", \"mean\"))\n",
    "df1"
   ]
  },
  {
   "cell_type": "code",
   "execution_count": null,
   "metadata": {},
   "outputs": [
    {
     "data": {
      "text/html": [
       "<div>\n",
       "<style scoped>\n",
       "    .dataframe tbody tr th:only-of-type {\n",
       "        vertical-align: middle;\n",
       "    }\n",
       "\n",
       "    .dataframe tbody tr th {\n",
       "        vertical-align: top;\n",
       "    }\n",
       "\n",
       "    .dataframe thead th {\n",
       "        text-align: right;\n",
       "    }\n",
       "</style>\n",
       "<table border=\"1\" class=\"dataframe\">\n",
       "  <thead>\n",
       "    <tr style=\"text-align: right;\">\n",
       "      <th></th>\n",
       "      <th>order_dow</th>\n",
       "      <th>tip</th>\n",
       "      <th>order_id</th>\n",
       "      <th>tip_norm</th>\n",
       "    </tr>\n",
       "  </thead>\n",
       "  <tbody>\n",
       "    <tr>\n",
       "      <th>0</th>\n",
       "      <td>0</td>\n",
       "      <td>53749.0</td>\n",
       "      <td>106842</td>\n",
       "      <td>0.503070</td>\n",
       "    </tr>\n",
       "    <tr>\n",
       "      <th>1</th>\n",
       "      <td>1</td>\n",
       "      <td>54928.0</td>\n",
       "      <td>104713</td>\n",
       "      <td>0.524558</td>\n",
       "    </tr>\n",
       "    <tr>\n",
       "      <th>2</th>\n",
       "      <td>2</td>\n",
       "      <td>30614.0</td>\n",
       "      <td>83177</td>\n",
       "      <td>0.368058</td>\n",
       "    </tr>\n",
       "    <tr>\n",
       "      <th>3</th>\n",
       "      <td>3</td>\n",
       "      <td>27884.0</td>\n",
       "      <td>77329</td>\n",
       "      <td>0.360589</td>\n",
       "    </tr>\n",
       "    <tr>\n",
       "      <th>4</th>\n",
       "      <td>4</td>\n",
       "      <td>27780.0</td>\n",
       "      <td>75323</td>\n",
       "      <td>0.368812</td>\n",
       "    </tr>\n",
       "    <tr>\n",
       "      <th>5</th>\n",
       "      <td>5</td>\n",
       "      <td>30188.0</td>\n",
       "      <td>80360</td>\n",
       "      <td>0.375660</td>\n",
       "    </tr>\n",
       "    <tr>\n",
       "      <th>6</th>\n",
       "      <td>6</td>\n",
       "      <td>28234.0</td>\n",
       "      <td>79171</td>\n",
       "      <td>0.356620</td>\n",
       "    </tr>\n",
       "  </tbody>\n",
       "</table>\n",
       "</div>"
      ],
      "text/plain": [
       "   order_dow      tip  order_id  tip_norm\n",
       "0          0  53749.0    106842  0.503070\n",
       "1          1  54928.0    104713  0.524558\n",
       "2          2  30614.0     83177  0.368058\n",
       "3          3  27884.0     77329  0.360589\n",
       "4          4  27780.0     75323  0.368812\n",
       "5          5  30188.0     80360  0.375660\n",
       "6          6  28234.0     79171  0.356620"
      ]
     },
     "metadata": {},
     "output_type": "display_data"
    }
   ],
   "source": [
    "df_order_dow= df1.groupby(\"order_dow\", as_index= False).agg(tip = (\"tip_orders_per_day\",\"sum\"), order_id= (\"order_id\", \"nunique\"))\n",
    "df_order_dow[\"tip_norm\"] = df_order_dow.tip / df_order_dow.order_id\n",
    "df_order_dow"
   ]
  },
  {
   "attachments": {},
   "cell_type": "markdown",
   "metadata": {},
   "source": [
    "**Tippwahrscheinlichkeit für jeden Wochentag**"
   ]
  },
  {
   "cell_type": "code",
   "execution_count": null,
   "metadata": {},
   "outputs": [
    {
     "data": {
      "application/vnd.plotly.v1+json": {
       "config": {
        "plotlyServerURL": "https://plot.ly"
       },
       "data": [
        {
         "alignmentgroup": "True",
         "hovertemplate": "order_dow=%{x}<br>tip_norm=%{y}<extra></extra>",
         "legendgroup": "",
         "marker": {
          "color": "#636efa",
          "pattern": {
           "shape": ""
          }
         },
         "name": "",
         "offsetgroup": "",
         "orientation": "v",
         "showlegend": false,
         "textposition": "auto",
         "type": "bar",
         "x": [
          0,
          1,
          2,
          3,
          4,
          5,
          6
         ],
         "xaxis": "x",
         "y": [
          0.5030699537635013,
          0.5245576002979573,
          0.36805847770417305,
          0.36058917094492365,
          0.3688116511556895,
          0.37565953210552516,
          0.35662047972111
         ],
         "yaxis": "y"
        }
       ],
       "layout": {
        "barmode": "relative",
        "legend": {
         "tracegroupgap": 0
        },
        "margin": {
         "t": 60
        },
        "template": {
         "data": {
          "bar": [
           {
            "error_x": {
             "color": "#2a3f5f"
            },
            "error_y": {
             "color": "#2a3f5f"
            },
            "marker": {
             "line": {
              "color": "#E5ECF6",
              "width": 0.5
             },
             "pattern": {
              "fillmode": "overlay",
              "size": 10,
              "solidity": 0.2
             }
            },
            "type": "bar"
           }
          ],
          "barpolar": [
           {
            "marker": {
             "line": {
              "color": "#E5ECF6",
              "width": 0.5
             },
             "pattern": {
              "fillmode": "overlay",
              "size": 10,
              "solidity": 0.2
             }
            },
            "type": "barpolar"
           }
          ],
          "carpet": [
           {
            "aaxis": {
             "endlinecolor": "#2a3f5f",
             "gridcolor": "white",
             "linecolor": "white",
             "minorgridcolor": "white",
             "startlinecolor": "#2a3f5f"
            },
            "baxis": {
             "endlinecolor": "#2a3f5f",
             "gridcolor": "white",
             "linecolor": "white",
             "minorgridcolor": "white",
             "startlinecolor": "#2a3f5f"
            },
            "type": "carpet"
           }
          ],
          "choropleth": [
           {
            "colorbar": {
             "outlinewidth": 0,
             "ticks": ""
            },
            "type": "choropleth"
           }
          ],
          "contour": [
           {
            "colorbar": {
             "outlinewidth": 0,
             "ticks": ""
            },
            "colorscale": [
             [
              0,
              "#0d0887"
             ],
             [
              0.1111111111111111,
              "#46039f"
             ],
             [
              0.2222222222222222,
              "#7201a8"
             ],
             [
              0.3333333333333333,
              "#9c179e"
             ],
             [
              0.4444444444444444,
              "#bd3786"
             ],
             [
              0.5555555555555556,
              "#d8576b"
             ],
             [
              0.6666666666666666,
              "#ed7953"
             ],
             [
              0.7777777777777778,
              "#fb9f3a"
             ],
             [
              0.8888888888888888,
              "#fdca26"
             ],
             [
              1,
              "#f0f921"
             ]
            ],
            "type": "contour"
           }
          ],
          "contourcarpet": [
           {
            "colorbar": {
             "outlinewidth": 0,
             "ticks": ""
            },
            "type": "contourcarpet"
           }
          ],
          "heatmap": [
           {
            "colorbar": {
             "outlinewidth": 0,
             "ticks": ""
            },
            "colorscale": [
             [
              0,
              "#0d0887"
             ],
             [
              0.1111111111111111,
              "#46039f"
             ],
             [
              0.2222222222222222,
              "#7201a8"
             ],
             [
              0.3333333333333333,
              "#9c179e"
             ],
             [
              0.4444444444444444,
              "#bd3786"
             ],
             [
              0.5555555555555556,
              "#d8576b"
             ],
             [
              0.6666666666666666,
              "#ed7953"
             ],
             [
              0.7777777777777778,
              "#fb9f3a"
             ],
             [
              0.8888888888888888,
              "#fdca26"
             ],
             [
              1,
              "#f0f921"
             ]
            ],
            "type": "heatmap"
           }
          ],
          "heatmapgl": [
           {
            "colorbar": {
             "outlinewidth": 0,
             "ticks": ""
            },
            "colorscale": [
             [
              0,
              "#0d0887"
             ],
             [
              0.1111111111111111,
              "#46039f"
             ],
             [
              0.2222222222222222,
              "#7201a8"
             ],
             [
              0.3333333333333333,
              "#9c179e"
             ],
             [
              0.4444444444444444,
              "#bd3786"
             ],
             [
              0.5555555555555556,
              "#d8576b"
             ],
             [
              0.6666666666666666,
              "#ed7953"
             ],
             [
              0.7777777777777778,
              "#fb9f3a"
             ],
             [
              0.8888888888888888,
              "#fdca26"
             ],
             [
              1,
              "#f0f921"
             ]
            ],
            "type": "heatmapgl"
           }
          ],
          "histogram": [
           {
            "marker": {
             "pattern": {
              "fillmode": "overlay",
              "size": 10,
              "solidity": 0.2
             }
            },
            "type": "histogram"
           }
          ],
          "histogram2d": [
           {
            "colorbar": {
             "outlinewidth": 0,
             "ticks": ""
            },
            "colorscale": [
             [
              0,
              "#0d0887"
             ],
             [
              0.1111111111111111,
              "#46039f"
             ],
             [
              0.2222222222222222,
              "#7201a8"
             ],
             [
              0.3333333333333333,
              "#9c179e"
             ],
             [
              0.4444444444444444,
              "#bd3786"
             ],
             [
              0.5555555555555556,
              "#d8576b"
             ],
             [
              0.6666666666666666,
              "#ed7953"
             ],
             [
              0.7777777777777778,
              "#fb9f3a"
             ],
             [
              0.8888888888888888,
              "#fdca26"
             ],
             [
              1,
              "#f0f921"
             ]
            ],
            "type": "histogram2d"
           }
          ],
          "histogram2dcontour": [
           {
            "colorbar": {
             "outlinewidth": 0,
             "ticks": ""
            },
            "colorscale": [
             [
              0,
              "#0d0887"
             ],
             [
              0.1111111111111111,
              "#46039f"
             ],
             [
              0.2222222222222222,
              "#7201a8"
             ],
             [
              0.3333333333333333,
              "#9c179e"
             ],
             [
              0.4444444444444444,
              "#bd3786"
             ],
             [
              0.5555555555555556,
              "#d8576b"
             ],
             [
              0.6666666666666666,
              "#ed7953"
             ],
             [
              0.7777777777777778,
              "#fb9f3a"
             ],
             [
              0.8888888888888888,
              "#fdca26"
             ],
             [
              1,
              "#f0f921"
             ]
            ],
            "type": "histogram2dcontour"
           }
          ],
          "mesh3d": [
           {
            "colorbar": {
             "outlinewidth": 0,
             "ticks": ""
            },
            "type": "mesh3d"
           }
          ],
          "parcoords": [
           {
            "line": {
             "colorbar": {
              "outlinewidth": 0,
              "ticks": ""
             }
            },
            "type": "parcoords"
           }
          ],
          "pie": [
           {
            "automargin": true,
            "type": "pie"
           }
          ],
          "scatter": [
           {
            "fillpattern": {
             "fillmode": "overlay",
             "size": 10,
             "solidity": 0.2
            },
            "type": "scatter"
           }
          ],
          "scatter3d": [
           {
            "line": {
             "colorbar": {
              "outlinewidth": 0,
              "ticks": ""
             }
            },
            "marker": {
             "colorbar": {
              "outlinewidth": 0,
              "ticks": ""
             }
            },
            "type": "scatter3d"
           }
          ],
          "scattercarpet": [
           {
            "marker": {
             "colorbar": {
              "outlinewidth": 0,
              "ticks": ""
             }
            },
            "type": "scattercarpet"
           }
          ],
          "scattergeo": [
           {
            "marker": {
             "colorbar": {
              "outlinewidth": 0,
              "ticks": ""
             }
            },
            "type": "scattergeo"
           }
          ],
          "scattergl": [
           {
            "marker": {
             "colorbar": {
              "outlinewidth": 0,
              "ticks": ""
             }
            },
            "type": "scattergl"
           }
          ],
          "scattermapbox": [
           {
            "marker": {
             "colorbar": {
              "outlinewidth": 0,
              "ticks": ""
             }
            },
            "type": "scattermapbox"
           }
          ],
          "scatterpolar": [
           {
            "marker": {
             "colorbar": {
              "outlinewidth": 0,
              "ticks": ""
             }
            },
            "type": "scatterpolar"
           }
          ],
          "scatterpolargl": [
           {
            "marker": {
             "colorbar": {
              "outlinewidth": 0,
              "ticks": ""
             }
            },
            "type": "scatterpolargl"
           }
          ],
          "scatterternary": [
           {
            "marker": {
             "colorbar": {
              "outlinewidth": 0,
              "ticks": ""
             }
            },
            "type": "scatterternary"
           }
          ],
          "surface": [
           {
            "colorbar": {
             "outlinewidth": 0,
             "ticks": ""
            },
            "colorscale": [
             [
              0,
              "#0d0887"
             ],
             [
              0.1111111111111111,
              "#46039f"
             ],
             [
              0.2222222222222222,
              "#7201a8"
             ],
             [
              0.3333333333333333,
              "#9c179e"
             ],
             [
              0.4444444444444444,
              "#bd3786"
             ],
             [
              0.5555555555555556,
              "#d8576b"
             ],
             [
              0.6666666666666666,
              "#ed7953"
             ],
             [
              0.7777777777777778,
              "#fb9f3a"
             ],
             [
              0.8888888888888888,
              "#fdca26"
             ],
             [
              1,
              "#f0f921"
             ]
            ],
            "type": "surface"
           }
          ],
          "table": [
           {
            "cells": {
             "fill": {
              "color": "#EBF0F8"
             },
             "line": {
              "color": "white"
             }
            },
            "header": {
             "fill": {
              "color": "#C8D4E3"
             },
             "line": {
              "color": "white"
             }
            },
            "type": "table"
           }
          ]
         },
         "layout": {
          "annotationdefaults": {
           "arrowcolor": "#2a3f5f",
           "arrowhead": 0,
           "arrowwidth": 1
          },
          "autotypenumbers": "strict",
          "coloraxis": {
           "colorbar": {
            "outlinewidth": 0,
            "ticks": ""
           }
          },
          "colorscale": {
           "diverging": [
            [
             0,
             "#8e0152"
            ],
            [
             0.1,
             "#c51b7d"
            ],
            [
             0.2,
             "#de77ae"
            ],
            [
             0.3,
             "#f1b6da"
            ],
            [
             0.4,
             "#fde0ef"
            ],
            [
             0.5,
             "#f7f7f7"
            ],
            [
             0.6,
             "#e6f5d0"
            ],
            [
             0.7,
             "#b8e186"
            ],
            [
             0.8,
             "#7fbc41"
            ],
            [
             0.9,
             "#4d9221"
            ],
            [
             1,
             "#276419"
            ]
           ],
           "sequential": [
            [
             0,
             "#0d0887"
            ],
            [
             0.1111111111111111,
             "#46039f"
            ],
            [
             0.2222222222222222,
             "#7201a8"
            ],
            [
             0.3333333333333333,
             "#9c179e"
            ],
            [
             0.4444444444444444,
             "#bd3786"
            ],
            [
             0.5555555555555556,
             "#d8576b"
            ],
            [
             0.6666666666666666,
             "#ed7953"
            ],
            [
             0.7777777777777778,
             "#fb9f3a"
            ],
            [
             0.8888888888888888,
             "#fdca26"
            ],
            [
             1,
             "#f0f921"
            ]
           ],
           "sequentialminus": [
            [
             0,
             "#0d0887"
            ],
            [
             0.1111111111111111,
             "#46039f"
            ],
            [
             0.2222222222222222,
             "#7201a8"
            ],
            [
             0.3333333333333333,
             "#9c179e"
            ],
            [
             0.4444444444444444,
             "#bd3786"
            ],
            [
             0.5555555555555556,
             "#d8576b"
            ],
            [
             0.6666666666666666,
             "#ed7953"
            ],
            [
             0.7777777777777778,
             "#fb9f3a"
            ],
            [
             0.8888888888888888,
             "#fdca26"
            ],
            [
             1,
             "#f0f921"
            ]
           ]
          },
          "colorway": [
           "#636efa",
           "#EF553B",
           "#00cc96",
           "#ab63fa",
           "#FFA15A",
           "#19d3f3",
           "#FF6692",
           "#B6E880",
           "#FF97FF",
           "#FECB52"
          ],
          "font": {
           "color": "#2a3f5f"
          },
          "geo": {
           "bgcolor": "white",
           "lakecolor": "white",
           "landcolor": "#E5ECF6",
           "showlakes": true,
           "showland": true,
           "subunitcolor": "white"
          },
          "hoverlabel": {
           "align": "left"
          },
          "hovermode": "closest",
          "mapbox": {
           "style": "light"
          },
          "paper_bgcolor": "white",
          "plot_bgcolor": "#E5ECF6",
          "polar": {
           "angularaxis": {
            "gridcolor": "white",
            "linecolor": "white",
            "ticks": ""
           },
           "bgcolor": "#E5ECF6",
           "radialaxis": {
            "gridcolor": "white",
            "linecolor": "white",
            "ticks": ""
           }
          },
          "scene": {
           "xaxis": {
            "backgroundcolor": "#E5ECF6",
            "gridcolor": "white",
            "gridwidth": 2,
            "linecolor": "white",
            "showbackground": true,
            "ticks": "",
            "zerolinecolor": "white"
           },
           "yaxis": {
            "backgroundcolor": "#E5ECF6",
            "gridcolor": "white",
            "gridwidth": 2,
            "linecolor": "white",
            "showbackground": true,
            "ticks": "",
            "zerolinecolor": "white"
           },
           "zaxis": {
            "backgroundcolor": "#E5ECF6",
            "gridcolor": "white",
            "gridwidth": 2,
            "linecolor": "white",
            "showbackground": true,
            "ticks": "",
            "zerolinecolor": "white"
           }
          },
          "shapedefaults": {
           "line": {
            "color": "#2a3f5f"
           }
          },
          "ternary": {
           "aaxis": {
            "gridcolor": "white",
            "linecolor": "white",
            "ticks": ""
           },
           "baxis": {
            "gridcolor": "white",
            "linecolor": "white",
            "ticks": ""
           },
           "bgcolor": "#E5ECF6",
           "caxis": {
            "gridcolor": "white",
            "linecolor": "white",
            "ticks": ""
           }
          },
          "title": {
           "x": 0.05
          },
          "xaxis": {
           "automargin": true,
           "gridcolor": "white",
           "linecolor": "white",
           "ticks": "",
           "title": {
            "standoff": 15
           },
           "zerolinecolor": "white",
           "zerolinewidth": 2
          },
          "yaxis": {
           "automargin": true,
           "gridcolor": "white",
           "linecolor": "white",
           "ticks": "",
           "title": {
            "standoff": 15
           },
           "zerolinecolor": "white",
           "zerolinewidth": 2
          }
         }
        },
        "xaxis": {
         "anchor": "y",
         "domain": [
          0,
          1
         ],
         "title": {
          "text": "order_dow"
         }
        },
        "yaxis": {
         "anchor": "x",
         "domain": [
          0,
          1
         ],
         "title": {
          "text": "tip_norm"
         }
        }
       }
      }
     },
     "metadata": {},
     "output_type": "display_data"
    }
   ],
   "source": [
    "px.bar(df_order_dow, x= \"order_dow\", y= \"tip_norm\")"
   ]
  },
  {
   "attachments": {},
   "cell_type": "markdown",
   "metadata": {},
   "source": [
    "#### Order_hour_of_day"
   ]
  },
  {
   "cell_type": "code",
   "execution_count": 6,
   "metadata": {},
   "outputs": [
    {
     "data": {
      "text/html": [
       "<div>\n",
       "<style scoped>\n",
       "    .dataframe tbody tr th:only-of-type {\n",
       "        vertical-align: middle;\n",
       "    }\n",
       "\n",
       "    .dataframe tbody tr th {\n",
       "        vertical-align: top;\n",
       "    }\n",
       "\n",
       "    .dataframe thead th {\n",
       "        text-align: right;\n",
       "    }\n",
       "</style>\n",
       "<table border=\"1\" class=\"dataframe\">\n",
       "  <thead>\n",
       "    <tr style=\"text-align: right;\">\n",
       "      <th></th>\n",
       "      <th>order_hour_of_day</th>\n",
       "      <th>orders</th>\n",
       "      <th>tip</th>\n",
       "      <th>tip_norm</th>\n",
       "      <th>orders_norm</th>\n",
       "    </tr>\n",
       "  </thead>\n",
       "  <tbody>\n",
       "    <tr>\n",
       "      <th>0</th>\n",
       "      <td>0</td>\n",
       "      <td>4072</td>\n",
       "      <td>2079.0</td>\n",
       "      <td>0.510560</td>\n",
       "      <td>0.006709</td>\n",
       "    </tr>\n",
       "    <tr>\n",
       "      <th>1</th>\n",
       "      <td>1</td>\n",
       "      <td>2219</td>\n",
       "      <td>1125.0</td>\n",
       "      <td>0.506985</td>\n",
       "      <td>0.003656</td>\n",
       "    </tr>\n",
       "    <tr>\n",
       "      <th>2</th>\n",
       "      <td>2</td>\n",
       "      <td>1340</td>\n",
       "      <td>694.0</td>\n",
       "      <td>0.517910</td>\n",
       "      <td>0.002208</td>\n",
       "    </tr>\n",
       "    <tr>\n",
       "      <th>3</th>\n",
       "      <td>3</td>\n",
       "      <td>956</td>\n",
       "      <td>477.0</td>\n",
       "      <td>0.498954</td>\n",
       "      <td>0.001575</td>\n",
       "    </tr>\n",
       "    <tr>\n",
       "      <th>4</th>\n",
       "      <td>4</td>\n",
       "      <td>986</td>\n",
       "      <td>510.0</td>\n",
       "      <td>0.517241</td>\n",
       "      <td>0.001625</td>\n",
       "    </tr>\n",
       "    <tr>\n",
       "      <th>5</th>\n",
       "      <td>5</td>\n",
       "      <td>1644</td>\n",
       "      <td>619.0</td>\n",
       "      <td>0.376521</td>\n",
       "      <td>0.002709</td>\n",
       "    </tr>\n",
       "    <tr>\n",
       "      <th>6</th>\n",
       "      <td>6</td>\n",
       "      <td>5461</td>\n",
       "      <td>2146.0</td>\n",
       "      <td>0.392968</td>\n",
       "      <td>0.008998</td>\n",
       "    </tr>\n",
       "    <tr>\n",
       "      <th>7</th>\n",
       "      <td>7</td>\n",
       "      <td>16293</td>\n",
       "      <td>6641.0</td>\n",
       "      <td>0.407598</td>\n",
       "      <td>0.026846</td>\n",
       "    </tr>\n",
       "    <tr>\n",
       "      <th>8</th>\n",
       "      <td>8</td>\n",
       "      <td>31847</td>\n",
       "      <td>13411.0</td>\n",
       "      <td>0.421107</td>\n",
       "      <td>0.052474</td>\n",
       "    </tr>\n",
       "    <tr>\n",
       "      <th>9</th>\n",
       "      <td>9</td>\n",
       "      <td>45728</td>\n",
       "      <td>19502.0</td>\n",
       "      <td>0.426478</td>\n",
       "      <td>0.075345</td>\n",
       "    </tr>\n",
       "    <tr>\n",
       "      <th>10</th>\n",
       "      <td>10</td>\n",
       "      <td>51264</td>\n",
       "      <td>21630.0</td>\n",
       "      <td>0.421934</td>\n",
       "      <td>0.084467</td>\n",
       "    </tr>\n",
       "    <tr>\n",
       "      <th>11</th>\n",
       "      <td>11</td>\n",
       "      <td>50415</td>\n",
       "      <td>20465.0</td>\n",
       "      <td>0.405931</td>\n",
       "      <td>0.083068</td>\n",
       "    </tr>\n",
       "    <tr>\n",
       "      <th>12</th>\n",
       "      <td>12</td>\n",
       "      <td>48469</td>\n",
       "      <td>19409.0</td>\n",
       "      <td>0.400442</td>\n",
       "      <td>0.079861</td>\n",
       "    </tr>\n",
       "    <tr>\n",
       "      <th>13</th>\n",
       "      <td>13</td>\n",
       "      <td>49188</td>\n",
       "      <td>19381.0</td>\n",
       "      <td>0.394019</td>\n",
       "      <td>0.081046</td>\n",
       "    </tr>\n",
       "    <tr>\n",
       "      <th>14</th>\n",
       "      <td>14</td>\n",
       "      <td>49785</td>\n",
       "      <td>19562.0</td>\n",
       "      <td>0.392930</td>\n",
       "      <td>0.082030</td>\n",
       "    </tr>\n",
       "    <tr>\n",
       "      <th>15</th>\n",
       "      <td>15</td>\n",
       "      <td>50217</td>\n",
       "      <td>19685.0</td>\n",
       "      <td>0.391999</td>\n",
       "      <td>0.082741</td>\n",
       "    </tr>\n",
       "    <tr>\n",
       "      <th>16</th>\n",
       "      <td>16</td>\n",
       "      <td>48233</td>\n",
       "      <td>18628.0</td>\n",
       "      <td>0.386209</td>\n",
       "      <td>0.079472</td>\n",
       "    </tr>\n",
       "    <tr>\n",
       "      <th>17</th>\n",
       "      <td>17</td>\n",
       "      <td>40866</td>\n",
       "      <td>15593.0</td>\n",
       "      <td>0.381564</td>\n",
       "      <td>0.067334</td>\n",
       "    </tr>\n",
       "    <tr>\n",
       "      <th>18</th>\n",
       "      <td>18</td>\n",
       "      <td>32452</td>\n",
       "      <td>12156.0</td>\n",
       "      <td>0.374584</td>\n",
       "      <td>0.053470</td>\n",
       "    </tr>\n",
       "    <tr>\n",
       "      <th>19</th>\n",
       "      <td>19</td>\n",
       "      <td>24969</td>\n",
       "      <td>12776.0</td>\n",
       "      <td>0.511674</td>\n",
       "      <td>0.041141</td>\n",
       "    </tr>\n",
       "    <tr>\n",
       "      <th>20</th>\n",
       "      <td>20</td>\n",
       "      <td>18421</td>\n",
       "      <td>9651.0</td>\n",
       "      <td>0.523913</td>\n",
       "      <td>0.030352</td>\n",
       "    </tr>\n",
       "    <tr>\n",
       "      <th>21</th>\n",
       "      <td>21</td>\n",
       "      <td>14082</td>\n",
       "      <td>7695.0</td>\n",
       "      <td>0.546442</td>\n",
       "      <td>0.023203</td>\n",
       "    </tr>\n",
       "    <tr>\n",
       "      <th>22</th>\n",
       "      <td>22</td>\n",
       "      <td>10966</td>\n",
       "      <td>5881.0</td>\n",
       "      <td>0.536294</td>\n",
       "      <td>0.018068</td>\n",
       "    </tr>\n",
       "    <tr>\n",
       "      <th>23</th>\n",
       "      <td>23</td>\n",
       "      <td>7042</td>\n",
       "      <td>3661.0</td>\n",
       "      <td>0.519881</td>\n",
       "      <td>0.011603</td>\n",
       "    </tr>\n",
       "  </tbody>\n",
       "</table>\n",
       "</div>"
      ],
      "text/plain": [
       "    order_hour_of_day  orders      tip  tip_norm  orders_norm\n",
       "0                   0    4072   2079.0  0.510560     0.006709\n",
       "1                   1    2219   1125.0  0.506985     0.003656\n",
       "2                   2    1340    694.0  0.517910     0.002208\n",
       "3                   3     956    477.0  0.498954     0.001575\n",
       "4                   4     986    510.0  0.517241     0.001625\n",
       "5                   5    1644    619.0  0.376521     0.002709\n",
       "6                   6    5461   2146.0  0.392968     0.008998\n",
       "7                   7   16293   6641.0  0.407598     0.026846\n",
       "8                   8   31847  13411.0  0.421107     0.052474\n",
       "9                   9   45728  19502.0  0.426478     0.075345\n",
       "10                 10   51264  21630.0  0.421934     0.084467\n",
       "11                 11   50415  20465.0  0.405931     0.083068\n",
       "12                 12   48469  19409.0  0.400442     0.079861\n",
       "13                 13   49188  19381.0  0.394019     0.081046\n",
       "14                 14   49785  19562.0  0.392930     0.082030\n",
       "15                 15   50217  19685.0  0.391999     0.082741\n",
       "16                 16   48233  18628.0  0.386209     0.079472\n",
       "17                 17   40866  15593.0  0.381564     0.067334\n",
       "18                 18   32452  12156.0  0.374584     0.053470\n",
       "19                 19   24969  12776.0  0.511674     0.041141\n",
       "20                 20   18421   9651.0  0.523913     0.030352\n",
       "21                 21   14082   7695.0  0.546442     0.023203\n",
       "22                 22   10966   5881.0  0.536294     0.018068\n",
       "23                 23    7042   3661.0  0.519881     0.011603"
      ]
     },
     "execution_count": 6,
     "metadata": {},
     "output_type": "execute_result"
    }
   ],
   "source": [
    "df_h = df.groupby([\"order_hour_of_day\", \"order_id\"], as_index= False).agg(tip= (\"tip\", \"mean\"))\n",
    "df_hour = df_h.groupby([\"order_hour_of_day\"], as_index= False).agg(orders= (\"order_id\", \"nunique\"), tip= (\"tip\", \"sum\"))\n",
    "df_hour[\"tip_norm\"] = df_hour.tip / df_hour.orders\n",
    "df_hour[\"orders_norm\"] = df_hour.orders / df_hour.orders.sum()\n",
    "df_hour"
   ]
  },
  {
   "attachments": {},
   "cell_type": "markdown",
   "metadata": {},
   "source": [
    "**Tippwahrscheinlichkeit pro Stunde**"
   ]
  },
  {
   "cell_type": "code",
   "execution_count": 107,
   "metadata": {},
   "outputs": [
    {
     "data": {
      "application/vnd.plotly.v1+json": {
       "config": {
        "plotlyServerURL": "https://plot.ly"
       },
       "data": [
        {
         "base": 0,
         "legendgroup": "0",
         "marker": {
          "color": "#990099"
         },
         "name": "0: 51.06%",
         "showlegend": true,
         "text": [
          0.511
         ],
         "type": "bar",
         "width": 0.8,
         "x": [
          0
         ],
         "xaxis": "x",
         "y": [
          0.5105599214145383
         ],
         "yaxis": "y"
        },
        {
         "base": [
          -0.006709341505812181
         ],
         "legendgroup": "0",
         "marker": {
          "color": "#990099"
         },
         "name": "Orders: 0.671%",
         "showlegend": true,
         "type": "bar",
         "width": 0.8,
         "x": [
          0
         ],
         "xaxis": "x2",
         "y": [
          0.006709341505812181
         ],
         "yaxis": "y2"
        },
        {
         "base": 0,
         "legendgroup": "1",
         "marker": {
          "color": "#990099"
         },
         "name": "1: 50.7%",
         "showlegend": true,
         "text": [
          0.507
         ],
         "type": "bar",
         "width": 0.8,
         "x": [
          1
         ],
         "xaxis": "x",
         "y": [
          0.5069851284362326
         ],
         "yaxis": "y"
        },
        {
         "base": [
          -0.0036561956781427382
         ],
         "legendgroup": "1",
         "marker": {
          "color": "#990099"
         },
         "name": "Orders: 0.366%",
         "showlegend": true,
         "type": "bar",
         "width": 0.8,
         "x": [
          1
         ],
         "xaxis": "x2",
         "y": [
          0.0036561956781427382
         ],
         "yaxis": "y2"
        },
        {
         "base": 0,
         "legendgroup": "2",
         "marker": {
          "color": "#990099"
         },
         "name": "2: 51.79%",
         "showlegend": true,
         "text": [
          0.518
         ],
         "type": "bar",
         "width": 0.8,
         "x": [
          2
         ],
         "xaxis": "x",
         "y": [
          0.517910447761194
         ],
         "yaxis": "y"
        },
        {
         "base": [
          -0.0022078874306945785
         ],
         "legendgroup": "2",
         "marker": {
          "color": "#990099"
         },
         "name": "Orders: 0.221%",
         "showlegend": true,
         "type": "bar",
         "width": 0.8,
         "x": [
          2
         ],
         "xaxis": "x2",
         "y": [
          0.0022078874306945785
         ],
         "yaxis": "y2"
        },
        {
         "base": 0,
         "legendgroup": "3",
         "marker": {
          "color": "rgb(189,189,189)"
         },
         "name": "3: 49.9%",
         "showlegend": true,
         "type": "bar",
         "width": 0.8,
         "x": [
          3
         ],
         "xaxis": "x",
         "y": [
          0.4989539748953975
         ],
         "yaxis": "y"
        },
        {
         "base": [
          -0.001575179390853744
         ],
         "legendgroup": "3",
         "marker": {
          "color": "rgb(189,189,189)"
         },
         "name": "Orders: 0.158%",
         "showlegend": true,
         "type": "bar",
         "width": 0.8,
         "x": [
          3
         ],
         "xaxis": "x2",
         "y": [
          0.001575179390853744
         ],
         "yaxis": "y2"
        },
        {
         "base": 0,
         "legendgroup": "4",
         "marker": {
          "color": "#990099"
         },
         "name": "4: 51.72%",
         "showlegend": true,
         "text": [
          0.517
         ],
         "type": "bar",
         "width": 0.8,
         "x": [
          4
         ],
         "xaxis": "x",
         "y": [
          0.5172413793103449
         ],
         "yaxis": "y"
        },
        {
         "base": [
          -0.001624609706466309
         ],
         "legendgroup": "4",
         "marker": {
          "color": "#990099"
         },
         "name": "Orders: 0.162%",
         "showlegend": true,
         "type": "bar",
         "width": 0.8,
         "x": [
          4
         ],
         "xaxis": "x2",
         "y": [
          0.001624609706466309
         ],
         "yaxis": "y2"
        },
        {
         "base": 0,
         "legendgroup": "5",
         "marker": {
          "color": "rgb(217,217,217)"
         },
         "name": "5: 37.65%",
         "showlegend": true,
         "type": "bar",
         "width": 0.8,
         "x": [
          5
         ],
         "xaxis": "x",
         "y": [
          0.3765206812652068
         ],
         "yaxis": "y"
        },
        {
         "base": [
          -0.002708781295568572
         ],
         "legendgroup": "5",
         "marker": {
          "color": "rgb(217,217,217)"
         },
         "name": "Orders: 0.271%",
         "showlegend": true,
         "type": "bar",
         "width": 0.8,
         "x": [
          5
         ],
         "xaxis": "x2",
         "y": [
          0.002708781295568572
         ],
         "yaxis": "y2"
        },
        {
         "base": 0,
         "legendgroup": "6",
         "marker": {
          "color": "rgb(217,217,217)"
         },
         "name": "6: 39.3%",
         "showlegend": true,
         "type": "bar",
         "width": 0.8,
         "x": [
          6
         ],
         "xaxis": "x",
         "y": [
          0.3929683208203626
         ],
         "yaxis": "y"
        },
        {
         "base": [
          -0.00899796511867395
         ],
         "legendgroup": "6",
         "marker": {
          "color": "rgb(217,217,217)"
         },
         "name": "Orders: 0.9%",
         "showlegend": true,
         "type": "bar",
         "width": 0.8,
         "x": [
          6
         ],
         "xaxis": "x2",
         "y": [
          0.00899796511867395
         ],
         "yaxis": "y2"
        },
        {
         "base": 0,
         "legendgroup": "7",
         "marker": {
          "color": "rgb(189,189,189)"
         },
         "name": "7: 40.76%",
         "showlegend": true,
         "type": "bar",
         "width": 0.8,
         "x": [
          7
         ],
         "xaxis": "x",
         "y": [
          0.40759835512183146
         ],
         "yaxis": "y"
        },
        {
         "base": [
          -0.026845604409184154
         ],
         "legendgroup": "7",
         "marker": {
          "color": "rgb(189,189,189)"
         },
         "name": "Orders: 2.685%",
         "showlegend": true,
         "type": "bar",
         "width": 0.8,
         "x": [
          7
         ],
         "xaxis": "x2",
         "y": [
          0.026845604409184154
         ],
         "yaxis": "y2"
        },
        {
         "base": 0,
         "legendgroup": "8",
         "marker": {
          "color": "rgb(189,189,189)"
         },
         "name": "8: 42.11%",
         "showlegend": true,
         "type": "bar",
         "width": 0.8,
         "x": [
          8
         ],
         "xaxis": "x",
         "y": [
          0.42110716865010833
         ],
         "yaxis": "y"
        },
        {
         "base": [
          -0.052473575377112114
         ],
         "legendgroup": "8",
         "marker": {
          "color": "rgb(189,189,189)"
         },
         "name": "Orders: 5.247%",
         "showlegend": true,
         "type": "bar",
         "width": 0.8,
         "x": [
          8
         ],
         "xaxis": "x2",
         "y": [
          0.052473575377112114
         ],
         "yaxis": "y2"
        },
        {
         "base": 0,
         "legendgroup": "9",
         "marker": {
          "color": "rgb(189,189,189)"
         },
         "name": "9: 42.65%",
         "showlegend": true,
         "type": "bar",
         "width": 0.8,
         "x": [
          9
         ],
         "xaxis": "x",
         "y": [
          0.4264783065080476
         ],
         "yaxis": "y"
        },
        {
         "base": [
          -0.07534498241104602
         ],
         "legendgroup": "9",
         "marker": {
          "color": "rgb(189,189,189)"
         },
         "name": "Orders: 7.534%",
         "showlegend": true,
         "type": "bar",
         "width": 0.8,
         "x": [
          9
         ],
         "xaxis": "x2",
         "y": [
          0.07534498241104602
         ],
         "yaxis": "y2"
        },
        {
         "base": 0,
         "legendgroup": "10",
         "marker": {
          "color": "rgb(189,189,189)"
         },
         "name": "10: 42.19%",
         "showlegend": true,
         "type": "bar",
         "width": 0.8,
         "x": [
          10
         ],
         "xaxis": "x",
         "y": [
          0.42193352059925093
         ],
         "yaxis": "y"
        },
        {
         "base": [
          -0.08446652331875139
         ],
         "legendgroup": "10",
         "marker": {
          "color": "rgb(189,189,189)"
         },
         "name": "Orders: 8.447%",
         "showlegend": true,
         "type": "bar",
         "width": 0.8,
         "x": [
          10
         ],
         "xaxis": "x2",
         "y": [
          0.08446652331875139
         ],
         "yaxis": "y2"
        },
        {
         "base": 0,
         "legendgroup": "11",
         "marker": {
          "color": "rgb(189,189,189)"
         },
         "name": "11: 40.59%",
         "showlegend": true,
         "type": "bar",
         "width": 0.8,
         "x": [
          11
         ],
         "xaxis": "x",
         "y": [
          0.4059307745710602
         ],
         "yaxis": "y"
        },
        {
         "base": [
          -0.0830676453869158
         ],
         "legendgroup": "11",
         "marker": {
          "color": "rgb(189,189,189)"
         },
         "name": "Orders: 8.307%",
         "showlegend": true,
         "type": "bar",
         "width": 0.8,
         "x": [
          11
         ],
         "xaxis": "x2",
         "y": [
          0.0830676453869158
         ],
         "yaxis": "y2"
        },
        {
         "base": 0,
         "legendgroup": "12",
         "marker": {
          "color": "rgb(189,189,189)"
         },
         "name": "12: 40.04%",
         "showlegend": true,
         "type": "bar",
         "width": 0.8,
         "x": [
          12
         ],
         "xaxis": "x",
         "y": [
          0.40044151932162825
         ],
         "yaxis": "y"
        },
        {
         "base": [
          -0.0798612655808474
         ],
         "legendgroup": "12",
         "marker": {
          "color": "rgb(189,189,189)"
         },
         "name": "Orders: 7.986%",
         "showlegend": true,
         "type": "bar",
         "width": 0.8,
         "x": [
          12
         ],
         "xaxis": "x2",
         "y": [
          0.0798612655808474
         ],
         "yaxis": "y2"
        },
        {
         "base": 0,
         "legendgroup": "13",
         "marker": {
          "color": "rgb(217,217,217)"
         },
         "name": "13: 39.4%",
         "showlegend": true,
         "type": "bar",
         "width": 0.8,
         "x": [
          13
         ],
         "xaxis": "x",
         "y": [
          0.39401886639017647
         ],
         "yaxis": "y"
        },
        {
         "base": [
          -0.08104594547836189
         ],
         "legendgroup": "13",
         "marker": {
          "color": "rgb(217,217,217)"
         },
         "name": "Orders: 8.105%",
         "showlegend": true,
         "type": "bar",
         "width": 0.8,
         "x": [
          13
         ],
         "xaxis": "x2",
         "y": [
          0.08104594547836189
         ],
         "yaxis": "y2"
        },
        {
         "base": 0,
         "legendgroup": "14",
         "marker": {
          "color": "rgb(217,217,217)"
         },
         "name": "14: 39.29%",
         "showlegend": true,
         "type": "bar",
         "width": 0.8,
         "x": [
          14
         ],
         "xaxis": "x",
         "y": [
          0.3929295972682535
         ],
         "yaxis": "y"
        },
        {
         "base": [
          -0.08202960875905192
         ],
         "legendgroup": "14",
         "marker": {
          "color": "rgb(217,217,217)"
         },
         "name": "Orders: 8.203%",
         "showlegend": true,
         "type": "bar",
         "width": 0.8,
         "x": [
          14
         ],
         "xaxis": "x2",
         "y": [
          0.08202960875905192
         ],
         "yaxis": "y2"
        },
        {
         "base": 0,
         "legendgroup": "15",
         "marker": {
          "color": "rgb(217,217,217)"
         },
         "name": "15: 39.2%",
         "showlegend": true,
         "type": "bar",
         "width": 0.8,
         "x": [
          15
         ],
         "xaxis": "x",
         "y": [
          0.39199872553119464
         ],
         "yaxis": "y"
        },
        {
         "base": [
          -0.08274140530387286
         ],
         "legendgroup": "15",
         "marker": {
          "color": "rgb(217,217,217)"
         },
         "name": "Orders: 8.274%",
         "showlegend": true,
         "type": "bar",
         "width": 0.8,
         "x": [
          15
         ],
         "xaxis": "x2",
         "y": [
          0.08274140530387286
         ],
         "yaxis": "y2"
        },
        {
         "base": 0,
         "legendgroup": "16",
         "marker": {
          "color": "rgb(217,217,217)"
         },
         "name": "16: 38.62%",
         "showlegend": true,
         "type": "bar",
         "width": 0.8,
         "x": [
          16
         ],
         "xaxis": "x",
         "y": [
          0.3862086123608318
         ],
         "yaxis": "y"
        },
        {
         "base": [
          -0.07947241376469522
         ],
         "legendgroup": "16",
         "marker": {
          "color": "rgb(217,217,217)"
         },
         "name": "Orders: 7.947%",
         "showlegend": true,
         "type": "bar",
         "width": 0.8,
         "x": [
          16
         ],
         "xaxis": "x2",
         "y": [
          0.07947241376469522
         ],
         "yaxis": "y2"
        },
        {
         "base": 0,
         "legendgroup": "17",
         "marker": {
          "color": "rgb(217,217,217)"
         },
         "name": "17: 38.16%",
         "showlegend": true,
         "type": "bar",
         "width": 0.8,
         "x": [
          17
         ],
         "xaxis": "x",
         "y": [
          0.3815641364459453
         ],
         "yaxis": "y"
        },
        {
         "base": [
          -0.0673339759274363
         ],
         "legendgroup": "17",
         "marker": {
          "color": "rgb(217,217,217)"
         },
         "name": "Orders: 6.733%",
         "showlegend": true,
         "type": "bar",
         "width": 0.8,
         "x": [
          17
         ],
         "xaxis": "x2",
         "y": [
          0.0673339759274363
         ],
         "yaxis": "y2"
        },
        {
         "base": 0,
         "legendgroup": "18",
         "marker": {
          "color": "rgb(217,217,217)"
         },
         "name": "18: 37.46%",
         "showlegend": true,
         "type": "bar",
         "width": 0.8,
         "x": [
          18
         ],
         "xaxis": "x",
         "y": [
          0.37458400098607175
         ],
         "yaxis": "y"
        },
        {
         "base": [
          -0.05347042007529885
         ],
         "legendgroup": "18",
         "marker": {
          "color": "rgb(217,217,217)"
         },
         "name": "Orders: 5.347%",
         "showlegend": true,
         "type": "bar",
         "width": 0.8,
         "x": [
          18
         ],
         "xaxis": "x2",
         "y": [
          0.05347042007529885
         ],
         "yaxis": "y2"
        },
        {
         "base": 0,
         "legendgroup": "19",
         "marker": {
          "color": "#990099"
         },
         "name": "19: 51.17%",
         "showlegend": true,
         "text": [
          0.512
         ],
         "type": "bar",
         "width": 0.8,
         "x": [
          19
         ],
         "xaxis": "x",
         "y": [
          0.5116744763506749
         ],
         "yaxis": "y"
        },
        {
         "base": [
          -0.041140851684338
         ],
         "legendgroup": "19",
         "marker": {
          "color": "#990099"
         },
         "name": "Orders: 4.114%",
         "showlegend": true,
         "type": "bar",
         "width": 0.8,
         "x": [
          19
         ],
         "xaxis": "x2",
         "y": [
          0.041140851684338
         ],
         "yaxis": "y2"
        },
        {
         "base": 0,
         "legendgroup": "20",
         "marker": {
          "color": "#990099"
         },
         "name": "20: 52.39%",
         "showlegend": true,
         "text": [
          0.524
         ],
         "type": "bar",
         "width": 0.8,
         "x": [
          20
         ],
         "xaxis": "x",
         "y": [
          0.5239129254655013
         ],
         "yaxis": "y"
        },
        {
         "base": [
          -0.03035186146330211
         ],
         "legendgroup": "20",
         "marker": {
          "color": "#990099"
         },
         "name": "Orders: 3.035%",
         "showlegend": true,
         "type": "bar",
         "width": 0.8,
         "x": [
          20
         ],
         "xaxis": "x2",
         "y": [
          0.03035186146330211
         ],
         "yaxis": "y2"
        },
        {
         "base": 0,
         "legendgroup": "21",
         "marker": {
          "color": "#990099"
         },
         "name": "21: 54.64%",
         "showlegend": true,
         "text": [
          0.546
         ],
         "type": "bar",
         "width": 0.8,
         "x": [
          21
         ],
         "xaxis": "x",
         "y": [
          0.5464422667234767
         ],
         "yaxis": "y"
        },
        {
         "base": [
          -0.023202590148538097
         ],
         "legendgroup": "21",
         "marker": {
          "color": "#990099"
         },
         "name": "Orders: 2.32%",
         "showlegend": true,
         "type": "bar",
         "width": 0.8,
         "x": [
          21
         ],
         "xaxis": "x2",
         "y": [
          0.023202590148538097
         ],
         "yaxis": "y2"
        },
        {
         "base": 0,
         "legendgroup": "22",
         "marker": {
          "color": "#990099"
         },
         "name": "22: 53.63%",
         "showlegend": true,
         "text": [
          0.536
         ],
         "type": "bar",
         "width": 0.8,
         "x": [
          22
         ],
         "xaxis": "x",
         "y": [
          0.5362939996352362
         ],
         "yaxis": "y"
        },
        {
         "base": [
          -0.01806842803357966
         ],
         "legendgroup": "22",
         "marker": {
          "color": "#990099"
         },
         "name": "Orders: 1.807%",
         "showlegend": true,
         "type": "bar",
         "width": 0.8,
         "x": [
          22
         ],
         "xaxis": "x2",
         "y": [
          0.01806842803357966
         ],
         "yaxis": "y2"
        },
        {
         "base": 0,
         "legendgroup": "23",
         "marker": {
          "color": "#990099"
         },
         "name": "23: 51.99%",
         "showlegend": true,
         "text": [
          0.52
         ],
         "type": "bar",
         "width": 0.8,
         "x": [
          23
         ],
         "xaxis": "x",
         "y": [
          0.5198807157057654
         ],
         "yaxis": "y"
        },
        {
         "base": [
          -0.011602942751456135
         ],
         "legendgroup": "23",
         "marker": {
          "color": "#990099"
         },
         "name": "Orders: 1.16%",
         "showlegend": true,
         "type": "bar",
         "width": 0.8,
         "x": [
          23
         ],
         "xaxis": "x2",
         "y": [
          0.011602942751456135
         ],
         "yaxis": "y2"
        }
       ],
       "layout": {
        "height": 500,
        "legend": {
         "title": {
          "text": "<b>Stunden</b>"
         }
        },
        "plot_bgcolor": "white",
        "shapes": [
         {
          "line": {
           "color": "grey",
           "dash": "solid"
          },
          "opacity": 0.3,
          "type": "line",
          "x0": 0,
          "x1": 1,
          "xref": "x domain",
          "y0": 0,
          "y1": 0,
          "yref": "y"
         },
         {
          "line": {
           "color": "grey",
           "dash": "solid"
          },
          "opacity": 0.3,
          "type": "line",
          "x0": 0,
          "x1": 1,
          "xref": "x2 domain",
          "y0": 0,
          "y1": 0,
          "yref": "y2"
         },
         {
          "line": {
           "color": "black",
           "dash": "solid"
          },
          "opacity": 0.8,
          "type": "line",
          "x0": -1,
          "x1": -1,
          "xref": "x2",
          "y0": 0,
          "y1": 1,
          "yref": "y2 domain"
         },
         {
          "line": {
           "color": "black",
           "dash": "solid"
          },
          "opacity": 0.8,
          "type": "line",
          "x0": -1,
          "x1": -1,
          "xref": "x",
          "y0": 0,
          "y1": 1,
          "yref": "y domain"
         },
         {
          "line": {
           "color": "black",
           "dash": "solid"
          },
          "opacity": 0.8,
          "type": "line",
          "x0": 0,
          "x1": 1,
          "xref": "x2 domain",
          "y0": -0.1,
          "y1": -0.1,
          "yref": "y2"
         }
        ],
        "template": {
         "data": {
          "bar": [
           {
            "error_x": {
             "color": "#2a3f5f"
            },
            "error_y": {
             "color": "#2a3f5f"
            },
            "marker": {
             "line": {
              "color": "#E5ECF6",
              "width": 0.5
             },
             "pattern": {
              "fillmode": "overlay",
              "size": 10,
              "solidity": 0.2
             }
            },
            "type": "bar"
           }
          ],
          "barpolar": [
           {
            "marker": {
             "line": {
              "color": "#E5ECF6",
              "width": 0.5
             },
             "pattern": {
              "fillmode": "overlay",
              "size": 10,
              "solidity": 0.2
             }
            },
            "type": "barpolar"
           }
          ],
          "carpet": [
           {
            "aaxis": {
             "endlinecolor": "#2a3f5f",
             "gridcolor": "white",
             "linecolor": "white",
             "minorgridcolor": "white",
             "startlinecolor": "#2a3f5f"
            },
            "baxis": {
             "endlinecolor": "#2a3f5f",
             "gridcolor": "white",
             "linecolor": "white",
             "minorgridcolor": "white",
             "startlinecolor": "#2a3f5f"
            },
            "type": "carpet"
           }
          ],
          "choropleth": [
           {
            "colorbar": {
             "outlinewidth": 0,
             "ticks": ""
            },
            "type": "choropleth"
           }
          ],
          "contour": [
           {
            "colorbar": {
             "outlinewidth": 0,
             "ticks": ""
            },
            "colorscale": [
             [
              0,
              "#0d0887"
             ],
             [
              0.1111111111111111,
              "#46039f"
             ],
             [
              0.2222222222222222,
              "#7201a8"
             ],
             [
              0.3333333333333333,
              "#9c179e"
             ],
             [
              0.4444444444444444,
              "#bd3786"
             ],
             [
              0.5555555555555556,
              "#d8576b"
             ],
             [
              0.6666666666666666,
              "#ed7953"
             ],
             [
              0.7777777777777778,
              "#fb9f3a"
             ],
             [
              0.8888888888888888,
              "#fdca26"
             ],
             [
              1,
              "#f0f921"
             ]
            ],
            "type": "contour"
           }
          ],
          "contourcarpet": [
           {
            "colorbar": {
             "outlinewidth": 0,
             "ticks": ""
            },
            "type": "contourcarpet"
           }
          ],
          "heatmap": [
           {
            "colorbar": {
             "outlinewidth": 0,
             "ticks": ""
            },
            "colorscale": [
             [
              0,
              "#0d0887"
             ],
             [
              0.1111111111111111,
              "#46039f"
             ],
             [
              0.2222222222222222,
              "#7201a8"
             ],
             [
              0.3333333333333333,
              "#9c179e"
             ],
             [
              0.4444444444444444,
              "#bd3786"
             ],
             [
              0.5555555555555556,
              "#d8576b"
             ],
             [
              0.6666666666666666,
              "#ed7953"
             ],
             [
              0.7777777777777778,
              "#fb9f3a"
             ],
             [
              0.8888888888888888,
              "#fdca26"
             ],
             [
              1,
              "#f0f921"
             ]
            ],
            "type": "heatmap"
           }
          ],
          "heatmapgl": [
           {
            "colorbar": {
             "outlinewidth": 0,
             "ticks": ""
            },
            "colorscale": [
             [
              0,
              "#0d0887"
             ],
             [
              0.1111111111111111,
              "#46039f"
             ],
             [
              0.2222222222222222,
              "#7201a8"
             ],
             [
              0.3333333333333333,
              "#9c179e"
             ],
             [
              0.4444444444444444,
              "#bd3786"
             ],
             [
              0.5555555555555556,
              "#d8576b"
             ],
             [
              0.6666666666666666,
              "#ed7953"
             ],
             [
              0.7777777777777778,
              "#fb9f3a"
             ],
             [
              0.8888888888888888,
              "#fdca26"
             ],
             [
              1,
              "#f0f921"
             ]
            ],
            "type": "heatmapgl"
           }
          ],
          "histogram": [
           {
            "marker": {
             "pattern": {
              "fillmode": "overlay",
              "size": 10,
              "solidity": 0.2
             }
            },
            "type": "histogram"
           }
          ],
          "histogram2d": [
           {
            "colorbar": {
             "outlinewidth": 0,
             "ticks": ""
            },
            "colorscale": [
             [
              0,
              "#0d0887"
             ],
             [
              0.1111111111111111,
              "#46039f"
             ],
             [
              0.2222222222222222,
              "#7201a8"
             ],
             [
              0.3333333333333333,
              "#9c179e"
             ],
             [
              0.4444444444444444,
              "#bd3786"
             ],
             [
              0.5555555555555556,
              "#d8576b"
             ],
             [
              0.6666666666666666,
              "#ed7953"
             ],
             [
              0.7777777777777778,
              "#fb9f3a"
             ],
             [
              0.8888888888888888,
              "#fdca26"
             ],
             [
              1,
              "#f0f921"
             ]
            ],
            "type": "histogram2d"
           }
          ],
          "histogram2dcontour": [
           {
            "colorbar": {
             "outlinewidth": 0,
             "ticks": ""
            },
            "colorscale": [
             [
              0,
              "#0d0887"
             ],
             [
              0.1111111111111111,
              "#46039f"
             ],
             [
              0.2222222222222222,
              "#7201a8"
             ],
             [
              0.3333333333333333,
              "#9c179e"
             ],
             [
              0.4444444444444444,
              "#bd3786"
             ],
             [
              0.5555555555555556,
              "#d8576b"
             ],
             [
              0.6666666666666666,
              "#ed7953"
             ],
             [
              0.7777777777777778,
              "#fb9f3a"
             ],
             [
              0.8888888888888888,
              "#fdca26"
             ],
             [
              1,
              "#f0f921"
             ]
            ],
            "type": "histogram2dcontour"
           }
          ],
          "mesh3d": [
           {
            "colorbar": {
             "outlinewidth": 0,
             "ticks": ""
            },
            "type": "mesh3d"
           }
          ],
          "parcoords": [
           {
            "line": {
             "colorbar": {
              "outlinewidth": 0,
              "ticks": ""
             }
            },
            "type": "parcoords"
           }
          ],
          "pie": [
           {
            "automargin": true,
            "type": "pie"
           }
          ],
          "scatter": [
           {
            "fillpattern": {
             "fillmode": "overlay",
             "size": 10,
             "solidity": 0.2
            },
            "type": "scatter"
           }
          ],
          "scatter3d": [
           {
            "line": {
             "colorbar": {
              "outlinewidth": 0,
              "ticks": ""
             }
            },
            "marker": {
             "colorbar": {
              "outlinewidth": 0,
              "ticks": ""
             }
            },
            "type": "scatter3d"
           }
          ],
          "scattercarpet": [
           {
            "marker": {
             "colorbar": {
              "outlinewidth": 0,
              "ticks": ""
             }
            },
            "type": "scattercarpet"
           }
          ],
          "scattergeo": [
           {
            "marker": {
             "colorbar": {
              "outlinewidth": 0,
              "ticks": ""
             }
            },
            "type": "scattergeo"
           }
          ],
          "scattergl": [
           {
            "marker": {
             "colorbar": {
              "outlinewidth": 0,
              "ticks": ""
             }
            },
            "type": "scattergl"
           }
          ],
          "scattermapbox": [
           {
            "marker": {
             "colorbar": {
              "outlinewidth": 0,
              "ticks": ""
             }
            },
            "type": "scattermapbox"
           }
          ],
          "scatterpolar": [
           {
            "marker": {
             "colorbar": {
              "outlinewidth": 0,
              "ticks": ""
             }
            },
            "type": "scatterpolar"
           }
          ],
          "scatterpolargl": [
           {
            "marker": {
             "colorbar": {
              "outlinewidth": 0,
              "ticks": ""
             }
            },
            "type": "scatterpolargl"
           }
          ],
          "scatterternary": [
           {
            "marker": {
             "colorbar": {
              "outlinewidth": 0,
              "ticks": ""
             }
            },
            "type": "scatterternary"
           }
          ],
          "surface": [
           {
            "colorbar": {
             "outlinewidth": 0,
             "ticks": ""
            },
            "colorscale": [
             [
              0,
              "#0d0887"
             ],
             [
              0.1111111111111111,
              "#46039f"
             ],
             [
              0.2222222222222222,
              "#7201a8"
             ],
             [
              0.3333333333333333,
              "#9c179e"
             ],
             [
              0.4444444444444444,
              "#bd3786"
             ],
             [
              0.5555555555555556,
              "#d8576b"
             ],
             [
              0.6666666666666666,
              "#ed7953"
             ],
             [
              0.7777777777777778,
              "#fb9f3a"
             ],
             [
              0.8888888888888888,
              "#fdca26"
             ],
             [
              1,
              "#f0f921"
             ]
            ],
            "type": "surface"
           }
          ],
          "table": [
           {
            "cells": {
             "fill": {
              "color": "#EBF0F8"
             },
             "line": {
              "color": "white"
             }
            },
            "header": {
             "fill": {
              "color": "#C8D4E3"
             },
             "line": {
              "color": "white"
             }
            },
            "type": "table"
           }
          ]
         },
         "layout": {
          "annotationdefaults": {
           "arrowcolor": "#2a3f5f",
           "arrowhead": 0,
           "arrowwidth": 1
          },
          "autotypenumbers": "strict",
          "coloraxis": {
           "colorbar": {
            "outlinewidth": 0,
            "ticks": ""
           }
          },
          "colorscale": {
           "diverging": [
            [
             0,
             "#8e0152"
            ],
            [
             0.1,
             "#c51b7d"
            ],
            [
             0.2,
             "#de77ae"
            ],
            [
             0.3,
             "#f1b6da"
            ],
            [
             0.4,
             "#fde0ef"
            ],
            [
             0.5,
             "#f7f7f7"
            ],
            [
             0.6,
             "#e6f5d0"
            ],
            [
             0.7,
             "#b8e186"
            ],
            [
             0.8,
             "#7fbc41"
            ],
            [
             0.9,
             "#4d9221"
            ],
            [
             1,
             "#276419"
            ]
           ],
           "sequential": [
            [
             0,
             "#0d0887"
            ],
            [
             0.1111111111111111,
             "#46039f"
            ],
            [
             0.2222222222222222,
             "#7201a8"
            ],
            [
             0.3333333333333333,
             "#9c179e"
            ],
            [
             0.4444444444444444,
             "#bd3786"
            ],
            [
             0.5555555555555556,
             "#d8576b"
            ],
            [
             0.6666666666666666,
             "#ed7953"
            ],
            [
             0.7777777777777778,
             "#fb9f3a"
            ],
            [
             0.8888888888888888,
             "#fdca26"
            ],
            [
             1,
             "#f0f921"
            ]
           ],
           "sequentialminus": [
            [
             0,
             "#0d0887"
            ],
            [
             0.1111111111111111,
             "#46039f"
            ],
            [
             0.2222222222222222,
             "#7201a8"
            ],
            [
             0.3333333333333333,
             "#9c179e"
            ],
            [
             0.4444444444444444,
             "#bd3786"
            ],
            [
             0.5555555555555556,
             "#d8576b"
            ],
            [
             0.6666666666666666,
             "#ed7953"
            ],
            [
             0.7777777777777778,
             "#fb9f3a"
            ],
            [
             0.8888888888888888,
             "#fdca26"
            ],
            [
             1,
             "#f0f921"
            ]
           ]
          },
          "colorway": [
           "#636efa",
           "#EF553B",
           "#00cc96",
           "#ab63fa",
           "#FFA15A",
           "#19d3f3",
           "#FF6692",
           "#B6E880",
           "#FF97FF",
           "#FECB52"
          ],
          "font": {
           "color": "#2a3f5f"
          },
          "geo": {
           "bgcolor": "white",
           "lakecolor": "white",
           "landcolor": "#E5ECF6",
           "showlakes": true,
           "showland": true,
           "subunitcolor": "white"
          },
          "hoverlabel": {
           "align": "left"
          },
          "hovermode": "closest",
          "mapbox": {
           "style": "light"
          },
          "paper_bgcolor": "white",
          "plot_bgcolor": "#E5ECF6",
          "polar": {
           "angularaxis": {
            "gridcolor": "white",
            "linecolor": "white",
            "ticks": ""
           },
           "bgcolor": "#E5ECF6",
           "radialaxis": {
            "gridcolor": "white",
            "linecolor": "white",
            "ticks": ""
           }
          },
          "scene": {
           "xaxis": {
            "backgroundcolor": "#E5ECF6",
            "gridcolor": "white",
            "gridwidth": 2,
            "linecolor": "white",
            "showbackground": true,
            "ticks": "",
            "zerolinecolor": "white"
           },
           "yaxis": {
            "backgroundcolor": "#E5ECF6",
            "gridcolor": "white",
            "gridwidth": 2,
            "linecolor": "white",
            "showbackground": true,
            "ticks": "",
            "zerolinecolor": "white"
           },
           "zaxis": {
            "backgroundcolor": "#E5ECF6",
            "gridcolor": "white",
            "gridwidth": 2,
            "linecolor": "white",
            "showbackground": true,
            "ticks": "",
            "zerolinecolor": "white"
           }
          },
          "shapedefaults": {
           "line": {
            "color": "#2a3f5f"
           }
          },
          "ternary": {
           "aaxis": {
            "gridcolor": "white",
            "linecolor": "white",
            "ticks": ""
           },
           "baxis": {
            "gridcolor": "white",
            "linecolor": "white",
            "ticks": ""
           },
           "bgcolor": "#E5ECF6",
           "caxis": {
            "gridcolor": "white",
            "linecolor": "white",
            "ticks": ""
           }
          },
          "title": {
           "x": 0.05
          },
          "xaxis": {
           "automargin": true,
           "gridcolor": "white",
           "linecolor": "white",
           "ticks": "",
           "title": {
            "standoff": 15
           },
           "zerolinecolor": "white",
           "zerolinewidth": 2
          },
          "yaxis": {
           "automargin": true,
           "gridcolor": "white",
           "linecolor": "white",
           "ticks": "",
           "title": {
            "standoff": 15
           },
           "zerolinecolor": "white",
           "zerolinewidth": 2
          }
         }
        },
        "title": {
         "font": {
          "size": 20
         },
         "text": "<b>Tippwahrscheinlichkeit nach Tagesstunden</b>",
         "x": 0.475,
         "xanchor": "center",
         "y": 0.935,
         "yanchor": "top"
        },
        "xaxis": {
         "anchor": "y",
         "domain": [
          0,
          1
         ],
         "linecolor": "black",
         "matches": "x2",
         "showline": false,
         "showticklabels": false
        },
        "xaxis2": {
         "anchor": "y2",
         "domain": [
          0,
          1
         ],
         "ticks": "outside",
         "title": {
          "text": "<b>Stunden</b>"
         }
        },
        "yaxis": {
         "anchor": "x",
         "domain": [
          0.5,
          1
         ],
         "gridcolor": "grey",
         "linecolor": "black",
         "showgrid": true,
         "showline": false,
         "ticks": "outside",
         "title": {
          "text": "<b>Tipp Wshk.</b>"
         }
        },
        "yaxis2": {
         "anchor": "x2",
         "domain": [
          0,
          0.5
         ],
         "gridcolor": "grey",
         "showgrid": true,
         "ticks": "outside",
         "tickvals": [
          0,
          -0.05,
          -0.075,
          -0.1
         ],
         "title": {
          "text": "<b>Order Anteil</b>"
         }
        }
       }
      }
     },
     "metadata": {},
     "output_type": "display_data"
    }
   ],
   "source": [
    "fig1 = make_subplots(cols= 1, rows= 2, shared_xaxes= True, shared_yaxes= False, vertical_spacing= 0)\n",
    "\n",
    "for order_hour_of_day in df_hour.order_hour_of_day:\n",
    "\n",
    " if df_hour[df_hour.order_hour_of_day == order_hour_of_day].tip_norm.values >= 0.5:\n",
    "  color = px.colors.qualitative.G10[4]\n",
    "  text= df_hour.loc[df_hour.order_hour_of_day == order_hour_of_day].tip_norm.values.round(3)\n",
    "\n",
    "  fig1.add_trace(\n",
    "   go.Bar(\n",
    "    x= df_hour.loc[df_hour.order_hour_of_day == order_hour_of_day].order_hour_of_day,\n",
    "    y= df_hour.loc[df_hour.order_hour_of_day == order_hour_of_day].tip_norm,\n",
    "    name= f\"{order_hour_of_day}: {(df_hour.loc[df_hour.order_hour_of_day == order_hour_of_day].tip_norm.values[0] * 100).round(2)}%\",\n",
    "    showlegend= True,\n",
    "    marker= dict(color= color),\n",
    "    width= 0.8,\n",
    "    text= text,\n",
    "    base= 0,\n",
    "    legendgroup= f\"{order_hour_of_day}\" \n",
    "   ),\n",
    "   col= 1,\n",
    "   row= 1\n",
    "  )\n",
    "\n",
    "  fig1.add_trace(\n",
    "   go.Bar(\n",
    "    x= df_hour.loc[df_hour.order_hour_of_day == order_hour_of_day].order_hour_of_day,\n",
    "    y= df_hour.loc[df_hour.order_hour_of_day == order_hour_of_day].orders_norm,\n",
    "    name= f\"Orders: {(df_hour.loc[df_hour.order_hour_of_day == order_hour_of_day].orders_norm.values[0] * 100).round(3)}%\",\n",
    "    base = -df_hour.loc[df_hour.order_hour_of_day == order_hour_of_day].orders_norm,\n",
    "    showlegend= True,\n",
    "    marker= dict(color= color),\n",
    "    width= 0.8,\n",
    "    legendgroup= f\"{order_hour_of_day}\"\n",
    "   ),\n",
    "   col= 1,\n",
    "   row= 2\n",
    "  )\n",
    "\n",
    " elif 0.4 < df_hour.loc[df_hour.order_hour_of_day == order_hour_of_day].tip_norm.values < 0.5:\n",
    "  color= px.colors.sequential.Greys[3]\n",
    "\n",
    "  fig1.add_trace(\n",
    "   go.Bar(\n",
    "    x= df_hour.loc[df_hour.order_hour_of_day == order_hour_of_day].order_hour_of_day,\n",
    "    y= df_hour.loc[df_hour.order_hour_of_day == order_hour_of_day].tip_norm,\n",
    "    name= f\"{order_hour_of_day}: {(df_hour.loc[df_hour.order_hour_of_day == order_hour_of_day].tip_norm.values[0] * 100).round(2)}%\",\n",
    "    showlegend= True,\n",
    "    marker= dict(color= color),\n",
    "    width= 0.8,\n",
    "    base= 0,\n",
    "    legendgroup= f\"{order_hour_of_day}\"\n",
    "   ),\n",
    "   col= 1,\n",
    "   row= 1\n",
    "  )\n",
    "\n",
    "  fig1.add_trace(\n",
    "   go.Bar(\n",
    "    x= df_hour.loc[df_hour.order_hour_of_day == order_hour_of_day].order_hour_of_day,\n",
    "    y= df_hour.loc[df_hour.order_hour_of_day == order_hour_of_day].orders_norm,\n",
    "    name= f\"Orders: {(df_hour.loc[df_hour.order_hour_of_day == order_hour_of_day].orders_norm.values[0] * 100).round(3)}%\",\n",
    "    base = -df_hour.loc[df_hour.order_hour_of_day == order_hour_of_day].orders_norm,\n",
    "    showlegend= True,\n",
    "    marker= dict(color= color),\n",
    "    width= 0.8,\n",
    "    legendgroup= f\"{order_hour_of_day}\"\n",
    "   ),\n",
    "   col= 1,\n",
    "   row= 2\n",
    "  )\n",
    "\n",
    " elif 0.3 < df_hour.loc[df_hour.order_hour_of_day == order_hour_of_day].tip_norm.values < 0.4:\n",
    "  color= px.colors.sequential.Greys[2]\n",
    "\n",
    "  fig1.add_trace(\n",
    "   go.Bar(\n",
    "    x= df_hour.loc[df_hour.order_hour_of_day == order_hour_of_day].order_hour_of_day,\n",
    "    y= df_hour.loc[df_hour.order_hour_of_day == order_hour_of_day].tip_norm,\n",
    "    name= f\"{order_hour_of_day}: {(df_hour.loc[df_hour.order_hour_of_day == order_hour_of_day].tip_norm.values[0] * 100).round(2)}%\",\n",
    "    showlegend= True,\n",
    "    marker= dict(color= color),\n",
    "    width= 0.8,\n",
    "    base= 0,\n",
    "    legendgroup= f\"{order_hour_of_day}\"\n",
    "   ),\n",
    "   col= 1,\n",
    "   row= 1\n",
    "  )\n",
    "\n",
    "  fig1.add_trace(\n",
    "   go.Bar(\n",
    "    x= df_hour.loc[df_hour.order_hour_of_day == order_hour_of_day].order_hour_of_day,\n",
    "    y= df_hour.loc[df_hour.order_hour_of_day == order_hour_of_day].orders_norm,\n",
    "    name= f\"Orders: {(df_hour.loc[df_hour.order_hour_of_day == order_hour_of_day].orders_norm.values[0] * 100).round(3)}%\",\n",
    "    base = -df_hour.loc[df_hour.order_hour_of_day == order_hour_of_day].orders_norm,\n",
    "    showlegend= True,\n",
    "    marker= dict(color= color),\n",
    "    width= 0.8,\n",
    "    legendgroup= f\"{order_hour_of_day}\"\n",
    "   ),\n",
    "   col= 1,\n",
    "   row= 2\n",
    "  )\n",
    "\n",
    "fig1.add_hline(\n",
    " y= 0,\n",
    " opacity= 0.3,\n",
    " line_dash= \"solid\",\n",
    " line_color= \"grey\",\n",
    " col= 1,\n",
    " row= 1\n",
    ")\n",
    "\n",
    "fig1.add_hline(\n",
    " y= 0,\n",
    " opacity= 0.3,\n",
    " line_dash= \"solid\",\n",
    " line_color= \"grey\",\n",
    " col= 1,\n",
    " row= 2\n",
    ")\n",
    "\n",
    "fig1.add_vline(\n",
    " x= -1,\n",
    " opacity= 0.8,\n",
    " line_dash= \"solid\",\n",
    " line_color= \"black\",\n",
    " col= 1,\n",
    " row= 2\n",
    ")\n",
    "\n",
    "fig1.add_vline(\n",
    " x= -1,\n",
    " opacity= 0.8,\n",
    " line_dash= \"solid\",\n",
    " line_color= \"black\",\n",
    " col= 1,\n",
    " row= 1\n",
    ")\n",
    "\n",
    "fig1.add_hline(\n",
    " y= -0.1,\n",
    " opacity= 0.8,\n",
    " line_dash= \"solid\",\n",
    " line_color= \"black\",\n",
    " col= 1,\n",
    " row= 2\n",
    ")\n",
    "\n",
    "fig1.update_annotations(opacity= 0.8)\n",
    "fig1.update_layout(title= dict(text= \"<b>Tippwahrscheinlichkeit nach Tagesstunden</b>\", font_size= 20, xanchor= \"center\", yanchor= \"top\", y=0.935, x=0.475), legend_title_text = \"<b>Stunden</b>\", height= 500)\n",
    "fig1.update_xaxes(title_text=\"<b>Stunden</b>\", ticks= \"outside\", col= 1, row= 2)\n",
    "fig1.update_xaxes(showline= False, col= 1, row= 1)\n",
    "fig1.update_yaxes(title_text=\"<b>Tipp Wshk.</b>\", ticks= \"outside\", showgrid= True, gridcolor= \"grey\", col= 1, row= 1, showline= False)\n",
    "fig1.update_yaxes(title_text=\"<b>Order Anteil</b>\", ticks= \"outside\", showgrid= True, gridcolor= \"grey\", col= 1, row= 2, tickvals= [0, -0.05, -0.075, -0.1])\n",
    "fig1.update_layout(plot_bgcolor= \"white\", xaxis= dict(linecolor= \"black\"), yaxis= dict(linecolor= \"black\"))\n",
    "fig1.show()"
   ]
  },
  {
   "attachments": {},
   "cell_type": "markdown",
   "metadata": {},
   "source": [
    "#### user_id"
   ]
  },
  {
   "cell_type": "code",
   "execution_count": null,
   "metadata": {},
   "outputs": [
    {
     "data": {
      "text/html": [
       "<div>\n",
       "<style scoped>\n",
       "    .dataframe tbody tr th:only-of-type {\n",
       "        vertical-align: middle;\n",
       "    }\n",
       "\n",
       "    .dataframe tbody tr th {\n",
       "        vertical-align: top;\n",
       "    }\n",
       "\n",
       "    .dataframe thead th {\n",
       "        text-align: right;\n",
       "    }\n",
       "</style>\n",
       "<table border=\"1\" class=\"dataframe\">\n",
       "  <thead>\n",
       "    <tr style=\"text-align: right;\">\n",
       "      <th></th>\n",
       "      <th>user_id</th>\n",
       "      <th>tip</th>\n",
       "      <th>orders</th>\n",
       "      <th>tip_norm</th>\n",
       "    </tr>\n",
       "  </thead>\n",
       "  <tbody>\n",
       "    <tr>\n",
       "      <th>0</th>\n",
       "      <td>3</td>\n",
       "      <td>10.0</td>\n",
       "      <td>12</td>\n",
       "      <td>0.833333</td>\n",
       "    </tr>\n",
       "    <tr>\n",
       "      <th>1</th>\n",
       "      <td>7</td>\n",
       "      <td>12.0</td>\n",
       "      <td>21</td>\n",
       "      <td>0.571429</td>\n",
       "    </tr>\n",
       "    <tr>\n",
       "      <th>2</th>\n",
       "      <td>14</td>\n",
       "      <td>8.0</td>\n",
       "      <td>14</td>\n",
       "      <td>0.571429</td>\n",
       "    </tr>\n",
       "    <tr>\n",
       "      <th>3</th>\n",
       "      <td>23</td>\n",
       "      <td>0.0</td>\n",
       "      <td>5</td>\n",
       "      <td>0.000000</td>\n",
       "    </tr>\n",
       "    <tr>\n",
       "      <th>4</th>\n",
       "      <td>25</td>\n",
       "      <td>2.0</td>\n",
       "      <td>3</td>\n",
       "      <td>0.666667</td>\n",
       "    </tr>\n",
       "    <tr>\n",
       "      <th>...</th>\n",
       "      <td>...</td>\n",
       "      <td>...</td>\n",
       "      <td>...</td>\n",
       "      <td>...</td>\n",
       "    </tr>\n",
       "    <tr>\n",
       "      <th>37362</th>\n",
       "      <td>206186</td>\n",
       "      <td>2.0</td>\n",
       "      <td>4</td>\n",
       "      <td>0.500000</td>\n",
       "    </tr>\n",
       "    <tr>\n",
       "      <th>37363</th>\n",
       "      <td>206189</td>\n",
       "      <td>2.0</td>\n",
       "      <td>6</td>\n",
       "      <td>0.333333</td>\n",
       "    </tr>\n",
       "    <tr>\n",
       "      <th>37364</th>\n",
       "      <td>206192</td>\n",
       "      <td>2.0</td>\n",
       "      <td>14</td>\n",
       "      <td>0.142857</td>\n",
       "    </tr>\n",
       "    <tr>\n",
       "      <th>37365</th>\n",
       "      <td>206195</td>\n",
       "      <td>3.0</td>\n",
       "      <td>20</td>\n",
       "      <td>0.150000</td>\n",
       "    </tr>\n",
       "    <tr>\n",
       "      <th>37366</th>\n",
       "      <td>206201</td>\n",
       "      <td>14.0</td>\n",
       "      <td>32</td>\n",
       "      <td>0.437500</td>\n",
       "    </tr>\n",
       "  </tbody>\n",
       "</table>\n",
       "<p>37367 rows × 4 columns</p>\n",
       "</div>"
      ],
      "text/plain": [
       "       user_id   tip  orders  tip_norm\n",
       "0            3  10.0      12  0.833333\n",
       "1            7  12.0      21  0.571429\n",
       "2           14   8.0      14  0.571429\n",
       "3           23   0.0       5  0.000000\n",
       "4           25   2.0       3  0.666667\n",
       "...        ...   ...     ...       ...\n",
       "37362   206186   2.0       4  0.500000\n",
       "37363   206189   2.0       6  0.333333\n",
       "37364   206192   2.0      14  0.142857\n",
       "37365   206195   3.0      20  0.150000\n",
       "37366   206201  14.0      32  0.437500\n",
       "\n",
       "[37367 rows x 4 columns]"
      ]
     },
     "metadata": {},
     "output_type": "display_data"
    }
   ],
   "source": [
    "df_user = df.groupby([\"user_id\", \"order_id\"], as_index= False).agg(user_tip_mean= (\"tip\", \"mean\"))\n",
    "df_user_tip = df_user.groupby(\"user_id\", as_index= False).agg(tip= (\"user_tip_mean\", \"sum\"), orders = (\"order_id\", \"nunique\"))\n",
    "df_user_tip[\"tip_norm\"] = df_user_tip.tip / df_user_tip.orders\n",
    "df_user_tip"
   ]
  },
  {
   "cell_type": "code",
   "execution_count": null,
   "metadata": {},
   "outputs": [],
   "source": [
    "# pd.cut machen und dann als bar plot "
   ]
  },
  {
   "cell_type": "code",
   "execution_count": null,
   "metadata": {},
   "outputs": [],
   "source": [
    "#feature engineering aus p_ziel und mit p4 argumentieren"
   ]
  },
  {
   "attachments": {},
   "cell_type": "markdown",
   "metadata": {},
   "source": [
    "#### product_name"
   ]
  },
  {
   "cell_type": "code",
   "execution_count": null,
   "metadata": {},
   "outputs": [],
   "source": [
    "df_product_tip = df.groupby(\"product_name\", as_index= False).agg(tip_per_product= (\"tip\", \"sum\"), orders= (\"index\", \"count\")).sort_values(by= \"tip_per_product\", ascending= False)"
   ]
  },
  {
   "cell_type": "code",
   "execution_count": null,
   "metadata": {},
   "outputs": [
    {
     "data": {
      "text/html": [
       "<div>\n",
       "<style scoped>\n",
       "    .dataframe tbody tr th:only-of-type {\n",
       "        vertical-align: middle;\n",
       "    }\n",
       "\n",
       "    .dataframe tbody tr th {\n",
       "        vertical-align: top;\n",
       "    }\n",
       "\n",
       "    .dataframe thead th {\n",
       "        text-align: right;\n",
       "    }\n",
       "</style>\n",
       "<table border=\"1\" class=\"dataframe\">\n",
       "  <thead>\n",
       "    <tr style=\"text-align: right;\">\n",
       "      <th></th>\n",
       "      <th>product_name</th>\n",
       "      <th>tip_per_product</th>\n",
       "      <th>orders</th>\n",
       "      <th>tip_rate_per_product</th>\n",
       "    </tr>\n",
       "  </thead>\n",
       "  <tbody>\n",
       "    <tr>\n",
       "      <th>3369</th>\n",
       "      <td>Banana</td>\n",
       "      <td>48084</td>\n",
       "      <td>89127</td>\n",
       "      <td>0.539500</td>\n",
       "    </tr>\n",
       "    <tr>\n",
       "      <th>3177</th>\n",
       "      <td>Bag of Organic Bananas</td>\n",
       "      <td>37468</td>\n",
       "      <td>70283</td>\n",
       "      <td>0.533102</td>\n",
       "    </tr>\n",
       "    <tr>\n",
       "      <th>29385</th>\n",
       "      <td>Organic Strawberries</td>\n",
       "      <td>23033</td>\n",
       "      <td>49961</td>\n",
       "      <td>0.461020</td>\n",
       "    </tr>\n",
       "    <tr>\n",
       "      <th>26443</th>\n",
       "      <td>Organic Baby Spinach</td>\n",
       "      <td>19480</td>\n",
       "      <td>45462</td>\n",
       "      <td>0.428490</td>\n",
       "    </tr>\n",
       "    <tr>\n",
       "      <th>27836</th>\n",
       "      <td>Organic Hass Avocado</td>\n",
       "      <td>18013</td>\n",
       "      <td>39290</td>\n",
       "      <td>0.458463</td>\n",
       "    </tr>\n",
       "    <tr>\n",
       "      <th>26408</th>\n",
       "      <td>Organic Avocado</td>\n",
       "      <td>14419</td>\n",
       "      <td>32896</td>\n",
       "      <td>0.438321</td>\n",
       "    </tr>\n",
       "    <tr>\n",
       "      <th>20554</th>\n",
       "      <td>Large Lemon</td>\n",
       "      <td>12205</td>\n",
       "      <td>28495</td>\n",
       "      <td>0.428321</td>\n",
       "    </tr>\n",
       "    <tr>\n",
       "      <th>29920</th>\n",
       "      <td>Organic Whole Milk</td>\n",
       "      <td>12078</td>\n",
       "      <td>25309</td>\n",
       "      <td>0.477222</td>\n",
       "    </tr>\n",
       "    <tr>\n",
       "      <th>28851</th>\n",
       "      <td>Organic Raspberries</td>\n",
       "      <td>11907</td>\n",
       "      <td>25589</td>\n",
       "      <td>0.465317</td>\n",
       "    </tr>\n",
       "    <tr>\n",
       "      <th>21486</th>\n",
       "      <td>Limes</td>\n",
       "      <td>11608</td>\n",
       "      <td>26443</td>\n",
       "      <td>0.438982</td>\n",
       "    </tr>\n",
       "    <tr>\n",
       "      <th>39490</th>\n",
       "      <td>Strawberries</td>\n",
       "      <td>11291</td>\n",
       "      <td>26849</td>\n",
       "      <td>0.420537</td>\n",
       "    </tr>\n",
       "    <tr>\n",
       "      <th>30007</th>\n",
       "      <td>Organic Yellow Onion</td>\n",
       "      <td>9173</td>\n",
       "      <td>21313</td>\n",
       "      <td>0.430395</td>\n",
       "    </tr>\n",
       "    <tr>\n",
       "      <th>27558</th>\n",
       "      <td>Organic Garlic</td>\n",
       "      <td>8653</td>\n",
       "      <td>20546</td>\n",
       "      <td>0.421153</td>\n",
       "    </tr>\n",
       "    <tr>\n",
       "      <th>30047</th>\n",
       "      <td>Organic Zucchini</td>\n",
       "      <td>8649</td>\n",
       "      <td>19404</td>\n",
       "      <td>0.445733</td>\n",
       "    </tr>\n",
       "    <tr>\n",
       "      <th>26603</th>\n",
       "      <td>Organic Blueberries</td>\n",
       "      <td>8213</td>\n",
       "      <td>18814</td>\n",
       "      <td>0.436537</td>\n",
       "    </tr>\n",
       "    <tr>\n",
       "      <th>27538</th>\n",
       "      <td>Organic Fuji Apple</td>\n",
       "      <td>7845</td>\n",
       "      <td>16538</td>\n",
       "      <td>0.474362</td>\n",
       "    </tr>\n",
       "    <tr>\n",
       "      <th>2392</th>\n",
       "      <td>Apple Honeycrisp Organic</td>\n",
       "      <td>7724</td>\n",
       "      <td>15527</td>\n",
       "      <td>0.497456</td>\n",
       "    </tr>\n",
       "    <tr>\n",
       "      <th>10666</th>\n",
       "      <td>Cucumber Kirby</td>\n",
       "      <td>7557</td>\n",
       "      <td>17659</td>\n",
       "      <td>0.427940</td>\n",
       "    </tr>\n",
       "    <tr>\n",
       "      <th>36559</th>\n",
       "      <td>Seedless Red Grapes</td>\n",
       "      <td>7460</td>\n",
       "      <td>15807</td>\n",
       "      <td>0.471943</td>\n",
       "    </tr>\n",
       "    <tr>\n",
       "      <th>18713</th>\n",
       "      <td>Honeycrisp Apple</td>\n",
       "      <td>7327</td>\n",
       "      <td>15378</td>\n",
       "      <td>0.476460</td>\n",
       "    </tr>\n",
       "    <tr>\n",
       "      <th>28097</th>\n",
       "      <td>Organic Lemon</td>\n",
       "      <td>7130</td>\n",
       "      <td>16428</td>\n",
       "      <td>0.434015</td>\n",
       "    </tr>\n",
       "    <tr>\n",
       "      <th>27687</th>\n",
       "      <td>Organic Grape Tomatoes</td>\n",
       "      <td>7047</td>\n",
       "      <td>15670</td>\n",
       "      <td>0.449713</td>\n",
       "    </tr>\n",
       "    <tr>\n",
       "      <th>38569</th>\n",
       "      <td>Sparkling Water Grapefruit</td>\n",
       "      <td>6912</td>\n",
       "      <td>14763</td>\n",
       "      <td>0.468198</td>\n",
       "    </tr>\n",
       "    <tr>\n",
       "      <th>26419</th>\n",
       "      <td>Organic Baby Carrots</td>\n",
       "      <td>6907</td>\n",
       "      <td>14978</td>\n",
       "      <td>0.461143</td>\n",
       "    </tr>\n",
       "    <tr>\n",
       "      <th>27817</th>\n",
       "      <td>Organic Half &amp; Half</td>\n",
       "      <td>6889</td>\n",
       "      <td>13916</td>\n",
       "      <td>0.495042</td>\n",
       "    </tr>\n",
       "    <tr>\n",
       "      <th>27172</th>\n",
       "      <td>Organic Cucumber</td>\n",
       "      <td>6791</td>\n",
       "      <td>15086</td>\n",
       "      <td>0.450152</td>\n",
       "    </tr>\n",
       "    <tr>\n",
       "      <th>30445</th>\n",
       "      <td>Original Hummus</td>\n",
       "      <td>6750</td>\n",
       "      <td>13466</td>\n",
       "      <td>0.501262</td>\n",
       "    </tr>\n",
       "    <tr>\n",
       "      <th>28080</th>\n",
       "      <td>Organic Large Extra Fancy Fuji Apple</td>\n",
       "      <td>6747</td>\n",
       "      <td>13859</td>\n",
       "      <td>0.486832</td>\n",
       "    </tr>\n",
       "    <tr>\n",
       "      <th>27548</th>\n",
       "      <td>Organic Gala Apples</td>\n",
       "      <td>6695</td>\n",
       "      <td>13798</td>\n",
       "      <td>0.485215</td>\n",
       "    </tr>\n",
       "    <tr>\n",
       "      <th>17515</th>\n",
       "      <td>Half &amp; Half</td>\n",
       "      <td>6101</td>\n",
       "      <td>12597</td>\n",
       "      <td>0.484322</td>\n",
       "    </tr>\n",
       "    <tr>\n",
       "      <th>26414</th>\n",
       "      <td>Organic Baby Arugula</td>\n",
       "      <td>5955</td>\n",
       "      <td>13830</td>\n",
       "      <td>0.430586</td>\n",
       "    </tr>\n",
       "    <tr>\n",
       "      <th>29952</th>\n",
       "      <td>Organic Whole String Cheese</td>\n",
       "      <td>5929</td>\n",
       "      <td>11152</td>\n",
       "      <td>0.531654</td>\n",
       "    </tr>\n",
       "    <tr>\n",
       "      <th>6222</th>\n",
       "      <td>Carrots</td>\n",
       "      <td>5875</td>\n",
       "      <td>13422</td>\n",
       "      <td>0.437714</td>\n",
       "    </tr>\n",
       "    <tr>\n",
       "      <th>29180</th>\n",
       "      <td>Organic Small Bunch Celery</td>\n",
       "      <td>5749</td>\n",
       "      <td>13034</td>\n",
       "      <td>0.441077</td>\n",
       "    </tr>\n",
       "    <tr>\n",
       "      <th>45414</th>\n",
       "      <td>Yellow Onions</td>\n",
       "      <td>5733</td>\n",
       "      <td>13866</td>\n",
       "      <td>0.413457</td>\n",
       "    </tr>\n",
       "    <tr>\n",
       "      <th>14428</th>\n",
       "      <td>Fresh Cauliflower</td>\n",
       "      <td>5722</td>\n",
       "      <td>13449</td>\n",
       "      <td>0.425459</td>\n",
       "    </tr>\n",
       "    <tr>\n",
       "      <th>29696</th>\n",
       "      <td>Organic Unsweetened Almond Milk</td>\n",
       "      <td>5603</td>\n",
       "      <td>11341</td>\n",
       "      <td>0.494048</td>\n",
       "    </tr>\n",
       "    <tr>\n",
       "      <th>2753</th>\n",
       "      <td>Asparagus</td>\n",
       "      <td>5567</td>\n",
       "      <td>13084</td>\n",
       "      <td>0.425482</td>\n",
       "    </tr>\n",
       "    <tr>\n",
       "      <th>26967</th>\n",
       "      <td>Organic Cilantro</td>\n",
       "      <td>5562</td>\n",
       "      <td>12776</td>\n",
       "      <td>0.435348</td>\n",
       "    </tr>\n",
       "    <tr>\n",
       "      <th>28938</th>\n",
       "      <td>Organic Red Onion</td>\n",
       "      <td>5486</td>\n",
       "      <td>12697</td>\n",
       "      <td>0.432071</td>\n",
       "    </tr>\n",
       "    <tr>\n",
       "      <th>23155</th>\n",
       "      <td>Michigan Organic Kale</td>\n",
       "      <td>5466</td>\n",
       "      <td>12656</td>\n",
       "      <td>0.431890</td>\n",
       "    </tr>\n",
       "    <tr>\n",
       "      <th>26577</th>\n",
       "      <td>Organic Blackberries</td>\n",
       "      <td>5208</td>\n",
       "      <td>11424</td>\n",
       "      <td>0.455882</td>\n",
       "    </tr>\n",
       "    <tr>\n",
       "      <th>29592</th>\n",
       "      <td>Organic Tomato Cluster</td>\n",
       "      <td>5147</td>\n",
       "      <td>12102</td>\n",
       "      <td>0.425302</td>\n",
       "    </tr>\n",
       "    <tr>\n",
       "      <th>28631</th>\n",
       "      <td>Organic Peeled Whole Baby Carrots</td>\n",
       "      <td>5100</td>\n",
       "      <td>10625</td>\n",
       "      <td>0.480000</td>\n",
       "    </tr>\n",
       "    <tr>\n",
       "      <th>27679</th>\n",
       "      <td>Organic Granny Smith Apple</td>\n",
       "      <td>5004</td>\n",
       "      <td>11050</td>\n",
       "      <td>0.452851</td>\n",
       "    </tr>\n",
       "    <tr>\n",
       "      <th>430</th>\n",
       "      <td>100% Whole Wheat Bread</td>\n",
       "      <td>4814</td>\n",
       "      <td>10864</td>\n",
       "      <td>0.443115</td>\n",
       "    </tr>\n",
       "    <tr>\n",
       "      <th>28914</th>\n",
       "      <td>Organic Red Bell Pepper</td>\n",
       "      <td>4714</td>\n",
       "      <td>10310</td>\n",
       "      <td>0.457226</td>\n",
       "    </tr>\n",
       "    <tr>\n",
       "      <th>27969</th>\n",
       "      <td>Organic Italian Parsley Bunch</td>\n",
       "      <td>4707</td>\n",
       "      <td>11436</td>\n",
       "      <td>0.411595</td>\n",
       "    </tr>\n",
       "    <tr>\n",
       "      <th>34684</th>\n",
       "      <td>Red Peppers</td>\n",
       "      <td>4546</td>\n",
       "      <td>10535</td>\n",
       "      <td>0.431514</td>\n",
       "    </tr>\n",
       "    <tr>\n",
       "      <th>34229</th>\n",
       "      <td>Raspberries</td>\n",
       "      <td>4530</td>\n",
       "      <td>11071</td>\n",
       "      <td>0.409177</td>\n",
       "    </tr>\n",
       "    <tr>\n",
       "      <th>34738</th>\n",
       "      <td>Red Vine Tomato</td>\n",
       "      <td>4524</td>\n",
       "      <td>10422</td>\n",
       "      <td>0.434082</td>\n",
       "    </tr>\n",
       "    <tr>\n",
       "      <th>17063</th>\n",
       "      <td>Green Bell Pepper</td>\n",
       "      <td>4223</td>\n",
       "      <td>10131</td>\n",
       "      <td>0.416839</td>\n",
       "    </tr>\n",
       "    <tr>\n",
       "      <th>4571</th>\n",
       "      <td>Blueberries</td>\n",
       "      <td>4211</td>\n",
       "      <td>10580</td>\n",
       "      <td>0.398015</td>\n",
       "    </tr>\n",
       "  </tbody>\n",
       "</table>\n",
       "</div>"
      ],
      "text/plain": [
       "                               product_name  tip_per_product  orders  \\\n",
       "3369                                 Banana            48084   89127   \n",
       "3177                 Bag of Organic Bananas            37468   70283   \n",
       "29385                  Organic Strawberries            23033   49961   \n",
       "26443                  Organic Baby Spinach            19480   45462   \n",
       "27836                  Organic Hass Avocado            18013   39290   \n",
       "26408                       Organic Avocado            14419   32896   \n",
       "20554                           Large Lemon            12205   28495   \n",
       "29920                    Organic Whole Milk            12078   25309   \n",
       "28851                   Organic Raspberries            11907   25589   \n",
       "21486                                 Limes            11608   26443   \n",
       "39490                          Strawberries            11291   26849   \n",
       "30007                  Organic Yellow Onion             9173   21313   \n",
       "27558                        Organic Garlic             8653   20546   \n",
       "30047                      Organic Zucchini             8649   19404   \n",
       "26603                   Organic Blueberries             8213   18814   \n",
       "27538                    Organic Fuji Apple             7845   16538   \n",
       "2392               Apple Honeycrisp Organic             7724   15527   \n",
       "10666                        Cucumber Kirby             7557   17659   \n",
       "36559                   Seedless Red Grapes             7460   15807   \n",
       "18713                      Honeycrisp Apple             7327   15378   \n",
       "28097                         Organic Lemon             7130   16428   \n",
       "27687                Organic Grape Tomatoes             7047   15670   \n",
       "38569            Sparkling Water Grapefruit             6912   14763   \n",
       "26419                  Organic Baby Carrots             6907   14978   \n",
       "27817                   Organic Half & Half             6889   13916   \n",
       "27172                      Organic Cucumber             6791   15086   \n",
       "30445                       Original Hummus             6750   13466   \n",
       "28080  Organic Large Extra Fancy Fuji Apple             6747   13859   \n",
       "27548                   Organic Gala Apples             6695   13798   \n",
       "17515                           Half & Half             6101   12597   \n",
       "26414                  Organic Baby Arugula             5955   13830   \n",
       "29952           Organic Whole String Cheese             5929   11152   \n",
       "6222                                Carrots             5875   13422   \n",
       "29180            Organic Small Bunch Celery             5749   13034   \n",
       "45414                         Yellow Onions             5733   13866   \n",
       "14428                     Fresh Cauliflower             5722   13449   \n",
       "29696       Organic Unsweetened Almond Milk             5603   11341   \n",
       "2753                              Asparagus             5567   13084   \n",
       "26967                      Organic Cilantro             5562   12776   \n",
       "28938                     Organic Red Onion             5486   12697   \n",
       "23155                 Michigan Organic Kale             5466   12656   \n",
       "26577                  Organic Blackberries             5208   11424   \n",
       "29592                Organic Tomato Cluster             5147   12102   \n",
       "28631     Organic Peeled Whole Baby Carrots             5100   10625   \n",
       "27679            Organic Granny Smith Apple             5004   11050   \n",
       "430                  100% Whole Wheat Bread             4814   10864   \n",
       "28914               Organic Red Bell Pepper             4714   10310   \n",
       "27969         Organic Italian Parsley Bunch             4707   11436   \n",
       "34684                           Red Peppers             4546   10535   \n",
       "34229                           Raspberries             4530   11071   \n",
       "34738                       Red Vine Tomato             4524   10422   \n",
       "17063                     Green Bell Pepper             4223   10131   \n",
       "4571                            Blueberries             4211   10580   \n",
       "\n",
       "       tip_rate_per_product  \n",
       "3369               0.539500  \n",
       "3177               0.533102  \n",
       "29385              0.461020  \n",
       "26443              0.428490  \n",
       "27836              0.458463  \n",
       "26408              0.438321  \n",
       "20554              0.428321  \n",
       "29920              0.477222  \n",
       "28851              0.465317  \n",
       "21486              0.438982  \n",
       "39490              0.420537  \n",
       "30007              0.430395  \n",
       "27558              0.421153  \n",
       "30047              0.445733  \n",
       "26603              0.436537  \n",
       "27538              0.474362  \n",
       "2392               0.497456  \n",
       "10666              0.427940  \n",
       "36559              0.471943  \n",
       "18713              0.476460  \n",
       "28097              0.434015  \n",
       "27687              0.449713  \n",
       "38569              0.468198  \n",
       "26419              0.461143  \n",
       "27817              0.495042  \n",
       "27172              0.450152  \n",
       "30445              0.501262  \n",
       "28080              0.486832  \n",
       "27548              0.485215  \n",
       "17515              0.484322  \n",
       "26414              0.430586  \n",
       "29952              0.531654  \n",
       "6222               0.437714  \n",
       "29180              0.441077  \n",
       "45414              0.413457  \n",
       "14428              0.425459  \n",
       "29696              0.494048  \n",
       "2753               0.425482  \n",
       "26967              0.435348  \n",
       "28938              0.432071  \n",
       "23155              0.431890  \n",
       "26577              0.455882  \n",
       "29592              0.425302  \n",
       "28631              0.480000  \n",
       "27679              0.452851  \n",
       "430                0.443115  \n",
       "28914              0.457226  \n",
       "27969              0.411595  \n",
       "34684              0.431514  \n",
       "34229              0.409177  \n",
       "34738              0.434082  \n",
       "17063              0.416839  \n",
       "4571               0.398015  "
      ]
     },
     "metadata": {},
     "output_type": "display_data"
    }
   ],
   "source": [
    "df_product_tip[\"tip_rate_per_product\"] = df_product_tip.tip_per_product / df_product_tip.orders\n",
    "df_product_tip.loc[df_product_tip.orders >= 10000]"
   ]
  },
  {
   "cell_type": "code",
   "execution_count": 1,
   "metadata": {},
   "outputs": [],
   "source": [
    "# ploten als bar oder pie"
   ]
  },
  {
   "attachments": {},
   "cell_type": "markdown",
   "metadata": {},
   "source": [
    "#### Order_size"
   ]
  },
  {
   "cell_type": "code",
   "execution_count": null,
   "metadata": {},
   "outputs": [
    {
     "data": {
      "text/html": [
       "<div>\n",
       "<style scoped>\n",
       "    .dataframe tbody tr th:only-of-type {\n",
       "        vertical-align: middle;\n",
       "    }\n",
       "\n",
       "    .dataframe tbody tr th {\n",
       "        vertical-align: top;\n",
       "    }\n",
       "\n",
       "    .dataframe thead th {\n",
       "        text-align: right;\n",
       "    }\n",
       "</style>\n",
       "<table border=\"1\" class=\"dataframe\">\n",
       "  <thead>\n",
       "    <tr style=\"text-align: right;\">\n",
       "      <th></th>\n",
       "      <th>order_id</th>\n",
       "      <th>order_size</th>\n",
       "      <th>tip</th>\n",
       "    </tr>\n",
       "  </thead>\n",
       "  <tbody>\n",
       "    <tr>\n",
       "      <th>0</th>\n",
       "      <td>1</td>\n",
       "      <td>8</td>\n",
       "      <td>1.0</td>\n",
       "    </tr>\n",
       "    <tr>\n",
       "      <th>1</th>\n",
       "      <td>2</td>\n",
       "      <td>3</td>\n",
       "      <td>0.0</td>\n",
       "    </tr>\n",
       "    <tr>\n",
       "      <th>2</th>\n",
       "      <td>3</td>\n",
       "      <td>5</td>\n",
       "      <td>0.0</td>\n",
       "    </tr>\n",
       "    <tr>\n",
       "      <th>3</th>\n",
       "      <td>4</td>\n",
       "      <td>3</td>\n",
       "      <td>1.0</td>\n",
       "    </tr>\n",
       "    <tr>\n",
       "      <th>4</th>\n",
       "      <td>5</td>\n",
       "      <td>2</td>\n",
       "      <td>0.0</td>\n",
       "    </tr>\n",
       "    <tr>\n",
       "      <th>...</th>\n",
       "      <td>...</td>\n",
       "      <td>...</td>\n",
       "      <td>...</td>\n",
       "    </tr>\n",
       "    <tr>\n",
       "      <th>606910</th>\n",
       "      <td>606911</td>\n",
       "      <td>6</td>\n",
       "      <td>0.0</td>\n",
       "    </tr>\n",
       "    <tr>\n",
       "      <th>606911</th>\n",
       "      <td>606912</td>\n",
       "      <td>13</td>\n",
       "      <td>1.0</td>\n",
       "    </tr>\n",
       "    <tr>\n",
       "      <th>606912</th>\n",
       "      <td>606913</td>\n",
       "      <td>19</td>\n",
       "      <td>0.0</td>\n",
       "    </tr>\n",
       "    <tr>\n",
       "      <th>606913</th>\n",
       "      <td>606914</td>\n",
       "      <td>8</td>\n",
       "      <td>1.0</td>\n",
       "    </tr>\n",
       "    <tr>\n",
       "      <th>606914</th>\n",
       "      <td>606915</td>\n",
       "      <td>4</td>\n",
       "      <td>0.0</td>\n",
       "    </tr>\n",
       "  </tbody>\n",
       "</table>\n",
       "<p>606915 rows × 3 columns</p>\n",
       "</div>"
      ],
      "text/plain": [
       "        order_id  order_size  tip\n",
       "0              1           8  1.0\n",
       "1              2           3  0.0\n",
       "2              3           5  0.0\n",
       "3              4           3  1.0\n",
       "4              5           2  0.0\n",
       "...          ...         ...  ...\n",
       "606910    606911           6  0.0\n",
       "606911    606912          13  1.0\n",
       "606912    606913          19  0.0\n",
       "606913    606914           8  1.0\n",
       "606914    606915           4  0.0\n",
       "\n",
       "[606915 rows x 3 columns]"
      ]
     },
     "metadata": {},
     "output_type": "display_data"
    }
   ],
   "source": [
    "df_order_size = df.groupby(\"order_id\", as_index= False).agg(order_size= (\"order_id\", \"count\"), tip= (\"tip\", \"sum\"))\n",
    "df_order_size[\"tip\"] = df_order_size.tip / df_order_size.order_size\n",
    "df_order_size"
   ]
  },
  {
   "cell_type": "code",
   "execution_count": null,
   "metadata": {},
   "outputs": [
    {
     "data": {
      "text/plain": [
       "10.831081747751375"
      ]
     },
     "metadata": {},
     "output_type": "display_data"
    }
   ],
   "source": [
    "df_order_size.loc[df_order_size.tip == 1].order_size.mean()"
   ]
  },
  {
   "cell_type": "code",
   "execution_count": null,
   "metadata": {},
   "outputs": [
    {
     "data": {
      "text/plain": [
       "9.584039056621918"
      ]
     },
     "metadata": {},
     "output_type": "display_data"
    }
   ],
   "source": [
    "df_order_size.loc[df_order_size.tip == 0].order_size.mean()"
   ]
  },
  {
   "cell_type": "code",
   "execution_count": null,
   "metadata": {},
   "outputs": [
    {
     "data": {
      "text/html": [
       "<div>\n",
       "<style scoped>\n",
       "    .dataframe tbody tr th:only-of-type {\n",
       "        vertical-align: middle;\n",
       "    }\n",
       "\n",
       "    .dataframe tbody tr th {\n",
       "        vertical-align: top;\n",
       "    }\n",
       "\n",
       "    .dataframe thead th {\n",
       "        text-align: right;\n",
       "    }\n",
       "</style>\n",
       "<table border=\"1\" class=\"dataframe\">\n",
       "  <thead>\n",
       "    <tr style=\"text-align: right;\">\n",
       "      <th></th>\n",
       "      <th></th>\n",
       "      <th></th>\n",
       "      <th>count</th>\n",
       "    </tr>\n",
       "    <tr>\n",
       "      <th>user_id</th>\n",
       "      <th>order_id</th>\n",
       "      <th>order_number</th>\n",
       "      <th></th>\n",
       "    </tr>\n",
       "  </thead>\n",
       "  <tbody>\n",
       "    <tr>\n",
       "      <th rowspan=\"5\" valign=\"top\">3</th>\n",
       "      <th>78693</th>\n",
       "      <th>2</th>\n",
       "      <td>9</td>\n",
       "    </tr>\n",
       "    <tr>\n",
       "      <th>92370</th>\n",
       "      <th>11</th>\n",
       "      <td>5</td>\n",
       "    </tr>\n",
       "    <tr>\n",
       "      <th>119980</th>\n",
       "      <th>10</th>\n",
       "      <td>6</td>\n",
       "    </tr>\n",
       "    <tr>\n",
       "      <th>244029</th>\n",
       "      <th>1</th>\n",
       "      <td>10</td>\n",
       "    </tr>\n",
       "    <tr>\n",
       "      <th>248921</th>\n",
       "      <th>12</th>\n",
       "      <td>6</td>\n",
       "    </tr>\n",
       "    <tr>\n",
       "      <th>...</th>\n",
       "      <th>...</th>\n",
       "      <th>...</th>\n",
       "      <td>...</td>\n",
       "    </tr>\n",
       "    <tr>\n",
       "      <th rowspan=\"5\" valign=\"top\">206201</th>\n",
       "      <th>488887</th>\n",
       "      <th>13</th>\n",
       "      <td>16</td>\n",
       "    </tr>\n",
       "    <tr>\n",
       "      <th>550775</th>\n",
       "      <th>32</th>\n",
       "      <td>12</td>\n",
       "    </tr>\n",
       "    <tr>\n",
       "      <th>554910</th>\n",
       "      <th>4</th>\n",
       "      <td>14</td>\n",
       "    </tr>\n",
       "    <tr>\n",
       "      <th>575966</th>\n",
       "      <th>16</th>\n",
       "      <td>8</td>\n",
       "    </tr>\n",
       "    <tr>\n",
       "      <th>595676</th>\n",
       "      <th>22</th>\n",
       "      <td>4</td>\n",
       "    </tr>\n",
       "  </tbody>\n",
       "</table>\n",
       "<p>606915 rows × 1 columns</p>\n",
       "</div>"
      ],
      "text/plain": [
       "                               count\n",
       "user_id order_id order_number       \n",
       "3       78693    2                 9\n",
       "        92370    11                5\n",
       "        119980   10                6\n",
       "        244029   1                10\n",
       "        248921   12                6\n",
       "...                              ...\n",
       "206201  488887   13               16\n",
       "        550775   32               12\n",
       "        554910   4                14\n",
       "        575966   16                8\n",
       "        595676   22                4\n",
       "\n",
       "[606915 rows x 1 columns]"
      ]
     },
     "metadata": {},
     "output_type": "display_data"
    }
   ],
   "source": [
    "df.groupby([\"user_id\", \"order_id\", \"order_number\"]).agg(count= (\"order_number\", \"count\"))"
   ]
  },
  {
   "cell_type": "code",
   "execution_count": null,
   "metadata": {},
   "outputs": [
    {
     "data": {
      "text/plain": [
       "18.91474758956022"
      ]
     },
     "metadata": {},
     "output_type": "display_data"
    }
   ],
   "source": [
    "df_order_ = df.groupby(\"order_id\", as_index= False).agg(order_size= (\"order_number\", \"max\"), tip= (\"tip\", \"max\"))\n",
    "df_order_.loc[df_order_.tip == 1].order_size.mean()"
   ]
  },
  {
   "cell_type": "code",
   "execution_count": null,
   "metadata": {},
   "outputs": [
    {
     "data": {
      "text/plain": [
       "15.851800937947264"
      ]
     },
     "metadata": {},
     "output_type": "display_data"
    }
   ],
   "source": [
    "df_order_.loc[df_order_.tip == 0].order_size.mean()"
   ]
  },
  {
   "attachments": {},
   "cell_type": "markdown",
   "metadata": {},
   "source": [
    "#### days_since_prior_order"
   ]
  },
  {
   "cell_type": "code",
   "execution_count": 55,
   "metadata": {},
   "outputs": [
    {
     "data": {
      "text/html": [
       "<div>\n",
       "<style scoped>\n",
       "    .dataframe tbody tr th:only-of-type {\n",
       "        vertical-align: middle;\n",
       "    }\n",
       "\n",
       "    .dataframe tbody tr th {\n",
       "        vertical-align: top;\n",
       "    }\n",
       "\n",
       "    .dataframe thead th {\n",
       "        text-align: right;\n",
       "    }\n",
       "</style>\n",
       "<table border=\"1\" class=\"dataframe\">\n",
       "  <thead>\n",
       "    <tr style=\"text-align: right;\">\n",
       "      <th></th>\n",
       "      <th>days_since_prior_order</th>\n",
       "      <th>tip</th>\n",
       "      <th>orders</th>\n",
       "      <th>tip_norm</th>\n",
       "      <th>orders_norm</th>\n",
       "    </tr>\n",
       "  </thead>\n",
       "  <tbody>\n",
       "    <tr>\n",
       "      <th>0</th>\n",
       "      <td>0.0</td>\n",
       "      <td>5159.0</td>\n",
       "      <td>12005</td>\n",
       "      <td>0.429738</td>\n",
       "      <td>0.021078</td>\n",
       "    </tr>\n",
       "    <tr>\n",
       "      <th>1</th>\n",
       "      <td>1.0</td>\n",
       "      <td>10188.0</td>\n",
       "      <td>26178</td>\n",
       "      <td>0.389182</td>\n",
       "      <td>0.045963</td>\n",
       "    </tr>\n",
       "    <tr>\n",
       "      <th>2</th>\n",
       "      <td>2.0</td>\n",
       "      <td>14490.0</td>\n",
       "      <td>34983</td>\n",
       "      <td>0.414201</td>\n",
       "      <td>0.061422</td>\n",
       "    </tr>\n",
       "    <tr>\n",
       "      <th>3</th>\n",
       "      <td>3.0</td>\n",
       "      <td>17048.0</td>\n",
       "      <td>38541</td>\n",
       "      <td>0.442334</td>\n",
       "      <td>0.067669</td>\n",
       "    </tr>\n",
       "    <tr>\n",
       "      <th>4</th>\n",
       "      <td>4.0</td>\n",
       "      <td>18052.0</td>\n",
       "      <td>39479</td>\n",
       "      <td>0.457256</td>\n",
       "      <td>0.069316</td>\n",
       "    </tr>\n",
       "    <tr>\n",
       "      <th>5</th>\n",
       "      <td>5.0</td>\n",
       "      <td>17911.0</td>\n",
       "      <td>38254</td>\n",
       "      <td>0.468212</td>\n",
       "      <td>0.067166</td>\n",
       "    </tr>\n",
       "    <tr>\n",
       "      <th>6</th>\n",
       "      <td>6.0</td>\n",
       "      <td>21052.0</td>\n",
       "      <td>42605</td>\n",
       "      <td>0.494120</td>\n",
       "      <td>0.074805</td>\n",
       "    </tr>\n",
       "    <tr>\n",
       "      <th>7</th>\n",
       "      <td>7.0</td>\n",
       "      <td>31308.0</td>\n",
       "      <td>57068</td>\n",
       "      <td>0.548609</td>\n",
       "      <td>0.100199</td>\n",
       "    </tr>\n",
       "    <tr>\n",
       "      <th>8</th>\n",
       "      <td>8.0</td>\n",
       "      <td>15924.0</td>\n",
       "      <td>32510</td>\n",
       "      <td>0.489819</td>\n",
       "      <td>0.057080</td>\n",
       "    </tr>\n",
       "    <tr>\n",
       "      <th>9</th>\n",
       "      <td>9.0</td>\n",
       "      <td>9502.0</td>\n",
       "      <td>21219</td>\n",
       "      <td>0.447806</td>\n",
       "      <td>0.037256</td>\n",
       "    </tr>\n",
       "    <tr>\n",
       "      <th>10</th>\n",
       "      <td>10.0</td>\n",
       "      <td>7467.0</td>\n",
       "      <td>16934</td>\n",
       "      <td>0.440947</td>\n",
       "      <td>0.029732</td>\n",
       "    </tr>\n",
       "    <tr>\n",
       "      <th>11</th>\n",
       "      <td>11.0</td>\n",
       "      <td>6162.0</td>\n",
       "      <td>14407</td>\n",
       "      <td>0.427709</td>\n",
       "      <td>0.025295</td>\n",
       "    </tr>\n",
       "    <tr>\n",
       "      <th>12</th>\n",
       "      <td>12.0</td>\n",
       "      <td>5737.0</td>\n",
       "      <td>13591</td>\n",
       "      <td>0.422118</td>\n",
       "      <td>0.023863</td>\n",
       "    </tr>\n",
       "    <tr>\n",
       "      <th>13</th>\n",
       "      <td>13.0</td>\n",
       "      <td>6148.0</td>\n",
       "      <td>14832</td>\n",
       "      <td>0.414509</td>\n",
       "      <td>0.026042</td>\n",
       "    </tr>\n",
       "    <tr>\n",
       "      <th>14</th>\n",
       "      <td>14.0</td>\n",
       "      <td>8078.0</td>\n",
       "      <td>17851</td>\n",
       "      <td>0.452524</td>\n",
       "      <td>0.031342</td>\n",
       "    </tr>\n",
       "    <tr>\n",
       "      <th>15</th>\n",
       "      <td>15.0</td>\n",
       "      <td>4636.0</td>\n",
       "      <td>11690</td>\n",
       "      <td>0.396578</td>\n",
       "      <td>0.020525</td>\n",
       "    </tr>\n",
       "    <tr>\n",
       "      <th>16</th>\n",
       "      <td>16.0</td>\n",
       "      <td>3066.0</td>\n",
       "      <td>8398</td>\n",
       "      <td>0.365087</td>\n",
       "      <td>0.014745</td>\n",
       "    </tr>\n",
       "    <tr>\n",
       "      <th>17</th>\n",
       "      <td>17.0</td>\n",
       "      <td>2594.0</td>\n",
       "      <td>7055</td>\n",
       "      <td>0.367682</td>\n",
       "      <td>0.012387</td>\n",
       "    </tr>\n",
       "    <tr>\n",
       "      <th>18</th>\n",
       "      <td>18.0</td>\n",
       "      <td>2340.0</td>\n",
       "      <td>6340</td>\n",
       "      <td>0.369085</td>\n",
       "      <td>0.011132</td>\n",
       "    </tr>\n",
       "    <tr>\n",
       "      <th>19</th>\n",
       "      <td>19.0</td>\n",
       "      <td>2174.0</td>\n",
       "      <td>6007</td>\n",
       "      <td>0.361911</td>\n",
       "      <td>0.010547</td>\n",
       "    </tr>\n",
       "    <tr>\n",
       "      <th>20</th>\n",
       "      <td>20.0</td>\n",
       "      <td>2438.0</td>\n",
       "      <td>6842</td>\n",
       "      <td>0.356329</td>\n",
       "      <td>0.012013</td>\n",
       "    </tr>\n",
       "    <tr>\n",
       "      <th>21</th>\n",
       "      <td>21.0</td>\n",
       "      <td>3022.0</td>\n",
       "      <td>7950</td>\n",
       "      <td>0.380126</td>\n",
       "      <td>0.013958</td>\n",
       "    </tr>\n",
       "    <tr>\n",
       "      <th>22</th>\n",
       "      <td>22.0</td>\n",
       "      <td>2031.0</td>\n",
       "      <td>5632</td>\n",
       "      <td>0.360618</td>\n",
       "      <td>0.009889</td>\n",
       "    </tr>\n",
       "    <tr>\n",
       "      <th>23</th>\n",
       "      <td>23.0</td>\n",
       "      <td>1358.0</td>\n",
       "      <td>4261</td>\n",
       "      <td>0.318705</td>\n",
       "      <td>0.007481</td>\n",
       "    </tr>\n",
       "    <tr>\n",
       "      <th>24</th>\n",
       "      <td>24.0</td>\n",
       "      <td>1131.0</td>\n",
       "      <td>3577</td>\n",
       "      <td>0.316187</td>\n",
       "      <td>0.006280</td>\n",
       "    </tr>\n",
       "    <tr>\n",
       "      <th>25</th>\n",
       "      <td>25.0</td>\n",
       "      <td>1003.0</td>\n",
       "      <td>3295</td>\n",
       "      <td>0.304401</td>\n",
       "      <td>0.005785</td>\n",
       "    </tr>\n",
       "    <tr>\n",
       "      <th>26</th>\n",
       "      <td>26.0</td>\n",
       "      <td>1019.0</td>\n",
       "      <td>3357</td>\n",
       "      <td>0.303545</td>\n",
       "      <td>0.005894</td>\n",
       "    </tr>\n",
       "    <tr>\n",
       "      <th>27</th>\n",
       "      <td>27.0</td>\n",
       "      <td>1202.0</td>\n",
       "      <td>3888</td>\n",
       "      <td>0.309156</td>\n",
       "      <td>0.006826</td>\n",
       "    </tr>\n",
       "    <tr>\n",
       "      <th>28</th>\n",
       "      <td>28.0</td>\n",
       "      <td>1566.0</td>\n",
       "      <td>4732</td>\n",
       "      <td>0.330938</td>\n",
       "      <td>0.008308</td>\n",
       "    </tr>\n",
       "    <tr>\n",
       "      <th>29</th>\n",
       "      <td>29.0</td>\n",
       "      <td>984.0</td>\n",
       "      <td>3398</td>\n",
       "      <td>0.289582</td>\n",
       "      <td>0.005966</td>\n",
       "    </tr>\n",
       "    <tr>\n",
       "      <th>30</th>\n",
       "      <td>30.0</td>\n",
       "      <td>15512.0</td>\n",
       "      <td>62669</td>\n",
       "      <td>0.247523</td>\n",
       "      <td>0.110033</td>\n",
       "    </tr>\n",
       "  </tbody>\n",
       "</table>\n",
       "</div>"
      ],
      "text/plain": [
       "    days_since_prior_order      tip  orders  tip_norm  orders_norm\n",
       "0                      0.0   5159.0   12005  0.429738     0.021078\n",
       "1                      1.0  10188.0   26178  0.389182     0.045963\n",
       "2                      2.0  14490.0   34983  0.414201     0.061422\n",
       "3                      3.0  17048.0   38541  0.442334     0.067669\n",
       "4                      4.0  18052.0   39479  0.457256     0.069316\n",
       "5                      5.0  17911.0   38254  0.468212     0.067166\n",
       "6                      6.0  21052.0   42605  0.494120     0.074805\n",
       "7                      7.0  31308.0   57068  0.548609     0.100199\n",
       "8                      8.0  15924.0   32510  0.489819     0.057080\n",
       "9                      9.0   9502.0   21219  0.447806     0.037256\n",
       "10                    10.0   7467.0   16934  0.440947     0.029732\n",
       "11                    11.0   6162.0   14407  0.427709     0.025295\n",
       "12                    12.0   5737.0   13591  0.422118     0.023863\n",
       "13                    13.0   6148.0   14832  0.414509     0.026042\n",
       "14                    14.0   8078.0   17851  0.452524     0.031342\n",
       "15                    15.0   4636.0   11690  0.396578     0.020525\n",
       "16                    16.0   3066.0    8398  0.365087     0.014745\n",
       "17                    17.0   2594.0    7055  0.367682     0.012387\n",
       "18                    18.0   2340.0    6340  0.369085     0.011132\n",
       "19                    19.0   2174.0    6007  0.361911     0.010547\n",
       "20                    20.0   2438.0    6842  0.356329     0.012013\n",
       "21                    21.0   3022.0    7950  0.380126     0.013958\n",
       "22                    22.0   2031.0    5632  0.360618     0.009889\n",
       "23                    23.0   1358.0    4261  0.318705     0.007481\n",
       "24                    24.0   1131.0    3577  0.316187     0.006280\n",
       "25                    25.0   1003.0    3295  0.304401     0.005785\n",
       "26                    26.0   1019.0    3357  0.303545     0.005894\n",
       "27                    27.0   1202.0    3888  0.309156     0.006826\n",
       "28                    28.0   1566.0    4732  0.330938     0.008308\n",
       "29                    29.0    984.0    3398  0.289582     0.005966\n",
       "30                    30.0  15512.0   62669  0.247523     0.110033"
      ]
     },
     "execution_count": 55,
     "metadata": {},
     "output_type": "execute_result"
    }
   ],
   "source": [
    "df_days = df.groupby([\"days_since_prior_order\", \"order_id\"], as_index=False).agg(tip_mean= (\"tip\", \"mean\"))\n",
    "df_days_since_prior_order= df_days.groupby(\"days_since_prior_order\", as_index= False).agg(tip= (\"tip_mean\", \"sum\"), orders= (\"order_id\", \"nunique\"))\n",
    "df_days_since_prior_order[\"tip_norm\"] = df_days_since_prior_order.tip / df_days_since_prior_order.orders\n",
    "df_days_since_prior_order[\"orders_norm\"] = df_days_since_prior_order.orders / df_days_since_prior_order.orders.sum()\n",
    "df_days_since_prior_order"
   ]
  },
  {
   "cell_type": "code",
   "execution_count": 99,
   "metadata": {},
   "outputs": [
    {
     "data": {
      "application/vnd.plotly.v1+json": {
       "config": {
        "plotlyServerURL": "https://plot.ly"
       },
       "data": [
        {
         "base": 0,
         "legendgroup": "0.0",
         "marker": {
          "color": "rgb(189,189,189)"
         },
         "name": "0: 42.97%",
         "showlegend": true,
         "type": "bar",
         "width": 0.8,
         "x": [
          0
         ],
         "xaxis": "x",
         "y": [
          0.42973760932944605
         ],
         "yaxis": "y"
        },
        {
         "base": [
          -0.021078118086623077
         ],
         "legendgroup": "0.0",
         "marker": {
          "color": "rgb(189,189,189)"
         },
         "name": "Orders: 2.108%",
         "showlegend": true,
         "type": "bar",
         "width": 0.8,
         "x": [
          0
         ],
         "xaxis": "x2",
         "y": [
          0.021078118086623077
         ],
         "yaxis": "y2"
        },
        {
         "base": 0,
         "legendgroup": "1.0",
         "marker": {
          "color": "rgb(217,217,217)"
         },
         "name": "1: 38.92%",
         "showlegend": true,
         "type": "bar",
         "width": 0.8,
         "x": [
          1
         ],
         "xaxis": "x",
         "y": [
          0.38918175567270225
         ],
         "yaxis": "y"
        },
        {
         "base": [
          -0.045962763454528856
         ],
         "legendgroup": "1.0",
         "marker": {
          "color": "rgb(217,217,217)"
         },
         "name": "Orders: 4.596%",
         "showlegend": true,
         "type": "bar",
         "width": 0.8,
         "x": [
          1
         ],
         "xaxis": "x2",
         "y": [
          0.045962763454528856
         ],
         "yaxis": "y2"
        },
        {
         "base": 0,
         "legendgroup": "2.0",
         "marker": {
          "color": "rgb(189,189,189)"
         },
         "name": "2: 41.42%",
         "showlegend": true,
         "type": "bar",
         "width": 0.8,
         "x": [
          2
         ],
         "xaxis": "x",
         "y": [
          0.41420118343195267
         ],
         "yaxis": "y"
        },
        {
         "base": [
          -0.061422391089074144
         ],
         "legendgroup": "2.0",
         "marker": {
          "color": "rgb(189,189,189)"
         },
         "name": "Orders: 6.142%",
         "showlegend": true,
         "type": "bar",
         "width": 0.8,
         "x": [
          2
         ],
         "xaxis": "x2",
         "y": [
          0.061422391089074144
         ],
         "yaxis": "y2"
        },
        {
         "base": 0,
         "legendgroup": "3.0",
         "marker": {
          "color": "rgb(189,189,189)"
         },
         "name": "3: 44.23%",
         "showlegend": true,
         "type": "bar",
         "width": 0.8,
         "x": [
          3
         ],
         "xaxis": "x",
         "y": [
          0.44233413767157054
         ],
         "yaxis": "y"
        },
        {
         "base": [
          -0.06766945016047814
         ],
         "legendgroup": "3.0",
         "marker": {
          "color": "rgb(189,189,189)"
         },
         "name": "Orders: 6.767%",
         "showlegend": true,
         "type": "bar",
         "width": 0.8,
         "x": [
          3
         ],
         "xaxis": "x2",
         "y": [
          0.06766945016047814
         ],
         "yaxis": "y2"
        },
        {
         "base": 0,
         "legendgroup": "4.0",
         "marker": {
          "color": "rgb(189,189,189)"
         },
         "name": "4: 45.73%",
         "showlegend": true,
         "type": "bar",
         "width": 0.8,
         "x": [
          4
         ],
         "xaxis": "x",
         "y": [
          0.4572557562248284
         ],
         "yaxis": "y"
        },
        {
         "base": [
          -0.06931637017424344
         ],
         "legendgroup": "4.0",
         "marker": {
          "color": "rgb(189,189,189)"
         },
         "name": "Orders: 6.932%",
         "showlegend": true,
         "type": "bar",
         "width": 0.8,
         "x": [
          4
         ],
         "xaxis": "x2",
         "y": [
          0.06931637017424344
         ],
         "yaxis": "y2"
        },
        {
         "base": 0,
         "legendgroup": "5.0",
         "marker": {
          "color": "rgb(189,189,189)"
         },
         "name": "5: 46.82%",
         "showlegend": true,
         "type": "bar",
         "width": 0.8,
         "x": [
          5
         ],
         "xaxis": "x",
         "y": [
          0.4682124745124693
         ],
         "yaxis": "y"
        },
        {
         "base": [
          -0.06716554179805741
         ],
         "legendgroup": "5.0",
         "marker": {
          "color": "rgb(189,189,189)"
         },
         "name": "Orders: 6.717%",
         "showlegend": true,
         "type": "bar",
         "width": 0.8,
         "x": [
          5
         ],
         "xaxis": "x2",
         "y": [
          0.06716554179805741
         ],
         "yaxis": "y2"
        },
        {
         "base": 0,
         "legendgroup": "6.0",
         "marker": {
          "color": "rgb(189,189,189)"
         },
         "name": "6: 49.41%",
         "showlegend": true,
         "type": "bar",
         "width": 0.8,
         "x": [
          6
         ],
         "xaxis": "x",
         "y": [
          0.4941204084027696
         ],
         "yaxis": "y"
        },
        {
         "base": [
          -0.07480493303461692
         ],
         "legendgroup": "6.0",
         "marker": {
          "color": "rgb(189,189,189)"
         },
         "name": "Orders: 7.48%",
         "showlegend": true,
         "type": "bar",
         "width": 0.8,
         "x": [
          6
         ],
         "xaxis": "x2",
         "y": [
          0.07480493303461692
         ],
         "yaxis": "y2"
        },
        {
         "base": 0,
         "legendgroup": "7.0",
         "marker": {
          "color": "#990099"
         },
         "name": "7: 54.86%",
         "showlegend": true,
         "text": [
          0.55
         ],
         "type": "bar",
         "width": 0.8,
         "x": [
          7
         ],
         "xaxis": "x",
         "y": [
          0.5486086773673512
         ],
         "yaxis": "y"
        },
        {
         "base": [
          -0.10019875409974226
         ],
         "legendgroup": "7.0",
         "marker": {
          "color": "#990099"
         },
         "name": "Orders: 10.02%",
         "showlegend": true,
         "type": "bar",
         "width": 0.8,
         "x": [
          7
         ],
         "xaxis": "x2",
         "y": [
          0.10019875409974226
         ],
         "yaxis": "y2"
        },
        {
         "base": 0,
         "legendgroup": "8.0",
         "marker": {
          "color": "rgb(189,189,189)"
         },
         "name": "8: 48.98%",
         "showlegend": true,
         "type": "bar",
         "width": 0.8,
         "x": [
          8
         ],
         "xaxis": "x",
         "y": [
          0.4898185173792679
         ],
         "yaxis": "y"
        },
        {
         "base": [
          -0.057080351436577775
         ],
         "legendgroup": "8.0",
         "marker": {
          "color": "rgb(189,189,189)"
         },
         "name": "Orders: 5.708%",
         "showlegend": true,
         "type": "bar",
         "width": 0.8,
         "x": [
          8
         ],
         "xaxis": "x2",
         "y": [
          0.057080351436577775
         ],
         "yaxis": "y2"
        },
        {
         "base": 0,
         "legendgroup": "9.0",
         "marker": {
          "color": "rgb(189,189,189)"
         },
         "name": "9: 44.78%",
         "showlegend": true,
         "type": "bar",
         "width": 0.8,
         "x": [
          9
         ],
         "xaxis": "x",
         "y": [
          0.4478062114142985
         ],
         "yaxis": "y"
        },
        {
         "base": [
          -0.03725585903207456
         ],
         "legendgroup": "9.0",
         "marker": {
          "color": "rgb(189,189,189)"
         },
         "name": "Orders: 3.726%",
         "showlegend": true,
         "type": "bar",
         "width": 0.8,
         "x": [
          9
         ],
         "xaxis": "x2",
         "y": [
          0.03725585903207456
         ],
         "yaxis": "y2"
        },
        {
         "base": 0,
         "legendgroup": "10.0",
         "marker": {
          "color": "rgb(189,189,189)"
         },
         "name": "10: 44.09%",
         "showlegend": true,
         "type": "bar",
         "width": 0.8,
         "x": [
          10
         ],
         "xaxis": "x",
         "y": [
          0.4409472068028818
         ],
         "yaxis": "y"
        },
        {
         "base": [
          -0.029732349161089144
         ],
         "legendgroup": "10.0",
         "marker": {
          "color": "rgb(189,189,189)"
         },
         "name": "Orders: 2.973%",
         "showlegend": true,
         "type": "bar",
         "width": 0.8,
         "x": [
          10
         ],
         "xaxis": "x2",
         "y": [
          0.029732349161089144
         ],
         "yaxis": "y2"
        },
        {
         "base": 0,
         "legendgroup": "11.0",
         "marker": {
          "color": "rgb(189,189,189)"
         },
         "name": "11: 42.77%",
         "showlegend": true,
         "type": "bar",
         "width": 0.8,
         "x": [
          11
         ],
         "xaxis": "x",
         "y": [
          0.42770875268966474
         ],
         "yaxis": "y"
        },
        {
         "base": [
          -0.025295497482213967
         ],
         "legendgroup": "11.0",
         "marker": {
          "color": "rgb(189,189,189)"
         },
         "name": "Orders: 2.53%",
         "showlegend": true,
         "type": "bar",
         "width": 0.8,
         "x": [
          11
         ],
         "xaxis": "x2",
         "y": [
          0.025295497482213967
         ],
         "yaxis": "y2"
        },
        {
         "base": 0,
         "legendgroup": "12.0",
         "marker": {
          "color": "rgb(189,189,189)"
         },
         "name": "12: 42.21%",
         "showlegend": true,
         "type": "bar",
         "width": 0.8,
         "x": [
          12
         ],
         "xaxis": "x",
         "y": [
          0.42211757780884407
         ],
         "yaxis": "y"
        },
        {
         "base": [
          -0.02386278241693413
         ],
         "legendgroup": "12.0",
         "marker": {
          "color": "rgb(189,189,189)"
         },
         "name": "Orders: 2.386%",
         "showlegend": true,
         "type": "bar",
         "width": 0.8,
         "x": [
          12
         ],
         "xaxis": "x2",
         "y": [
          0.02386278241693413
         ],
         "yaxis": "y2"
        },
        {
         "base": 0,
         "legendgroup": "13.0",
         "marker": {
          "color": "rgb(189,189,189)"
         },
         "name": "13: 41.45%",
         "showlegend": true,
         "type": "bar",
         "width": 0.8,
         "x": [
          13
         ],
         "xaxis": "x",
         "y": [
          0.4145091693635383
         ],
         "yaxis": "y"
        },
        {
         "base": [
          -0.02604170324538055
         ],
         "legendgroup": "13.0",
         "marker": {
          "color": "rgb(189,189,189)"
         },
         "name": "Orders: 2.604%",
         "showlegend": true,
         "type": "bar",
         "width": 0.8,
         "x": [
          13
         ],
         "xaxis": "x2",
         "y": [
          0.02604170324538055
         ],
         "yaxis": "y2"
        },
        {
         "base": 0,
         "legendgroup": "14.0",
         "marker": {
          "color": "rgb(189,189,189)"
         },
         "name": "14: 45.25%",
         "showlegend": true,
         "type": "bar",
         "width": 0.8,
         "x": [
          14
         ],
         "xaxis": "x",
         "y": [
          0.4525236681418408
         ],
         "yaxis": "y"
        },
        {
         "base": [
          -0.031342397831262685
         ],
         "legendgroup": "14.0",
         "marker": {
          "color": "rgb(189,189,189)"
         },
         "name": "Orders: 3.134%",
         "showlegend": true,
         "type": "bar",
         "width": 0.8,
         "x": [
          14
         ],
         "xaxis": "x2",
         "y": [
          0.031342397831262685
         ],
         "yaxis": "y2"
        },
        {
         "base": 0,
         "legendgroup": "15.0",
         "marker": {
          "color": "rgb(217,217,217)"
         },
         "name": "15: 39.66%",
         "showlegend": true,
         "type": "bar",
         "width": 0.8,
         "x": [
          15
         ],
         "xaxis": "x",
         "y": [
          0.39657827202737383
         ],
         "yaxis": "y"
        },
        {
         "base": [
          -0.02052504793274667
         ],
         "legendgroup": "15.0",
         "marker": {
          "color": "rgb(217,217,217)"
         },
         "name": "Orders: 2.053%",
         "showlegend": true,
         "type": "bar",
         "width": 0.8,
         "x": [
          15
         ],
         "xaxis": "x2",
         "y": [
          0.02052504793274667
         ],
         "yaxis": "y2"
        },
        {
         "base": 0,
         "legendgroup": "16.0",
         "marker": {
          "color": "rgb(217,217,217)"
         },
         "name": "16: 36.51%",
         "showlegend": true,
         "type": "bar",
         "width": 0.8,
         "x": [
          16
         ],
         "xaxis": "x",
         "y": [
          0.3650869254584425
         ],
         "yaxis": "y"
        },
        {
         "base": [
          -0.014745025880171644
         ],
         "legendgroup": "16.0",
         "marker": {
          "color": "rgb(217,217,217)"
         },
         "name": "Orders: 1.475%",
         "showlegend": true,
         "type": "bar",
         "width": 0.8,
         "x": [
          16
         ],
         "xaxis": "x2",
         "y": [
          0.014745025880171644
         ],
         "yaxis": "y2"
        },
        {
         "base": 0,
         "legendgroup": "17.0",
         "marker": {
          "color": "rgb(217,217,217)"
         },
         "name": "17: 36.77%",
         "showlegend": true,
         "type": "bar",
         "width": 0.8,
         "x": [
          17
         ],
         "xaxis": "x",
         "y": [
          0.36768249468462083
         ],
         "yaxis": "y"
        },
        {
         "base": [
          -0.012387015668565248
         ],
         "legendgroup": "17.0",
         "marker": {
          "color": "rgb(217,217,217)"
         },
         "name": "Orders: 1.239%",
         "showlegend": true,
         "type": "bar",
         "width": 0.8,
         "x": [
          17
         ],
         "xaxis": "x2",
         "y": [
          0.012387015668565248
         ],
         "yaxis": "y2"
        },
        {
         "base": 0,
         "legendgroup": "18.0",
         "marker": {
          "color": "rgb(217,217,217)"
         },
         "name": "18: 36.91%",
         "showlegend": true,
         "type": "bar",
         "width": 0.8,
         "x": [
          18
         ],
         "xaxis": "x",
         "y": [
          0.36908517350157727
         ],
         "yaxis": "y"
        },
        {
         "base": [
          -0.011131634208179118
         ],
         "legendgroup": "18.0",
         "marker": {
          "color": "rgb(217,217,217)"
         },
         "name": "Orders: 1.113%",
         "showlegend": true,
         "type": "bar",
         "width": 0.8,
         "x": [
          18
         ],
         "xaxis": "x2",
         "y": [
          0.011131634208179118
         ],
         "yaxis": "y2"
        },
        {
         "base": 0,
         "legendgroup": "19.0",
         "marker": {
          "color": "rgb(217,217,217)"
         },
         "name": "19: 36.19%",
         "showlegend": true,
         "type": "bar",
         "width": 0.8,
         "x": [
          19
         ],
         "xaxis": "x",
         "y": [
          0.3619111037123356
         ],
         "yaxis": "y"
        },
        {
         "base": [
          -0.010546960045509772
         ],
         "legendgroup": "19.0",
         "marker": {
          "color": "rgb(217,217,217)"
         },
         "name": "Orders: 1.055%",
         "showlegend": true,
         "type": "bar",
         "width": 0.8,
         "x": [
          19
         ],
         "xaxis": "x2",
         "y": [
          0.010546960045509772
         ],
         "yaxis": "y2"
        },
        {
         "base": 0,
         "legendgroup": "20.0",
         "marker": {
          "color": "rgb(217,217,217)"
         },
         "name": "20: 35.63%",
         "showlegend": true,
         "type": "bar",
         "width": 0.8,
         "x": [
          20
         ],
         "xaxis": "x",
         "y": [
          0.35632855890090614
         ],
         "yaxis": "y"
        },
        {
         "base": [
          -0.01201303489784882
         ],
         "legendgroup": "20.0",
         "marker": {
          "color": "rgb(217,217,217)"
         },
         "name": "Orders: 1.201%",
         "showlegend": true,
         "type": "bar",
         "width": 0.8,
         "x": [
          20
         ],
         "xaxis": "x2",
         "y": [
          0.01201303489784882
         ],
         "yaxis": "y2"
        },
        {
         "base": 0,
         "legendgroup": "21.0",
         "marker": {
          "color": "rgb(217,217,217)"
         },
         "name": "21: 38.01%",
         "showlegend": true,
         "type": "bar",
         "width": 0.8,
         "x": [
          21
         ],
         "xaxis": "x",
         "y": [
          0.380125786163522
         ],
         "yaxis": "y"
        },
        {
         "base": [
          -0.013958437216880755
         ],
         "legendgroup": "21.0",
         "marker": {
          "color": "rgb(217,217,217)"
         },
         "name": "Orders: 1.396%",
         "showlegend": true,
         "type": "bar",
         "width": 0.8,
         "x": [
          21
         ],
         "xaxis": "x2",
         "y": [
          0.013958437216880755
         ],
         "yaxis": "y2"
        },
        {
         "base": 0,
         "legendgroup": "22.0",
         "marker": {
          "color": "rgb(217,217,217)"
         },
         "name": "22: 36.06%",
         "showlegend": true,
         "type": "bar",
         "width": 0.8,
         "x": [
          22
         ],
         "xaxis": "x",
         "y": [
          0.3606178977272727
         ],
         "yaxis": "y"
        },
        {
         "base": [
          -0.009888543195656907
         ],
         "legendgroup": "22.0",
         "marker": {
          "color": "rgb(217,217,217)"
         },
         "name": "Orders: 0.989%",
         "showlegend": true,
         "type": "bar",
         "width": 0.8,
         "x": [
          22
         ],
         "xaxis": "x2",
         "y": [
          0.009888543195656907
         ],
         "yaxis": "y2"
        },
        {
         "base": 0,
         "legendgroup": "23.0",
         "marker": {
          "color": "rgb(217,217,217)"
         },
         "name": "23: 31.87%",
         "showlegend": true,
         "type": "bar",
         "width": 0.8,
         "x": [
          23
         ],
         "xaxis": "x",
         "y": [
          0.31870452945318
         ],
         "yaxis": "y"
        },
        {
         "base": [
          -0.0074813711925948295
         ],
         "legendgroup": "23.0",
         "marker": {
          "color": "rgb(217,217,217)"
         },
         "name": "Orders: 0.748%",
         "showlegend": true,
         "type": "bar",
         "width": 0.8,
         "x": [
          23
         ],
         "xaxis": "x2",
         "y": [
          0.0074813711925948295
         ],
         "yaxis": "y2"
        },
        {
         "base": 0,
         "legendgroup": "24.0",
         "marker": {
          "color": "rgb(217,217,217)"
         },
         "name": "24: 31.62%",
         "showlegend": true,
         "type": "bar",
         "width": 0.8,
         "x": [
          24
         ],
         "xaxis": "x",
         "y": [
          0.3161867486720716
         ],
         "yaxis": "y"
        },
        {
         "base": [
          -0.006280418858463203
         ],
         "legendgroup": "24.0",
         "marker": {
          "color": "rgb(217,217,217)"
         },
         "name": "Orders: 0.628%",
         "showlegend": true,
         "type": "bar",
         "width": 0.8,
         "x": [
          24
         ],
         "xaxis": "x2",
         "y": [
          0.006280418858463203
         ],
         "yaxis": "y2"
        },
        {
         "base": 0,
         "legendgroup": "25.0",
         "marker": {
          "color": "rgb(217,217,217)"
         },
         "name": "25: 30.44%",
         "showlegend": true,
         "type": "bar",
         "width": 0.8,
         "x": [
          25
         ],
         "xaxis": "x",
         "y": [
          0.30440060698027316
         ],
         "yaxis": "y"
        },
        {
         "base": [
          -0.005785289387373847
         ],
         "legendgroup": "25.0",
         "marker": {
          "color": "rgb(217,217,217)"
         },
         "name": "Orders: 0.579%",
         "showlegend": true,
         "type": "bar",
         "width": 0.8,
         "x": [
          25
         ],
         "xaxis": "x2",
         "y": [
          0.005785289387373847
         ],
         "yaxis": "y2"
        },
        {
         "base": 0,
         "legendgroup": "26.0",
         "marker": {
          "color": "rgb(217,217,217)"
         },
         "name": "26: 30.35%",
         "showlegend": true,
         "type": "bar",
         "width": 0.8,
         "x": [
          26
         ],
         "xaxis": "x",
         "y": [
          0.30354483169496577
         ],
         "yaxis": "y"
        },
        {
         "base": [
          -0.005894147639882855
         ],
         "legendgroup": "26.0",
         "marker": {
          "color": "rgb(217,217,217)"
         },
         "name": "Orders: 0.589%",
         "showlegend": true,
         "type": "bar",
         "width": 0.8,
         "x": [
          26
         ],
         "xaxis": "x2",
         "y": [
          0.005894147639882855
         ],
         "yaxis": "y2"
        },
        {
         "base": 0,
         "legendgroup": "27.0",
         "marker": {
          "color": "rgb(217,217,217)"
         },
         "name": "27: 30.92%",
         "showlegend": true,
         "type": "bar",
         "width": 0.8,
         "x": [
          27
         ],
         "xaxis": "x",
         "y": [
          0.30915637860082307
         ],
         "yaxis": "y"
        },
        {
         "base": [
          -0.006826465899274513
         ],
         "legendgroup": "27.0",
         "marker": {
          "color": "rgb(217,217,217)"
         },
         "name": "Orders: 0.683%",
         "showlegend": true,
         "type": "bar",
         "width": 0.8,
         "x": [
          27
         ],
         "xaxis": "x2",
         "y": [
          0.006826465899274513
         ],
         "yaxis": "y2"
        },
        {
         "base": 0,
         "legendgroup": "28.0",
         "marker": {
          "color": "rgb(217,217,217)"
         },
         "name": "28: 33.09%",
         "showlegend": true,
         "type": "bar",
         "width": 0.8,
         "x": [
          28
         ],
         "xaxis": "x",
         "y": [
          0.330938292476754
         ],
         "yaxis": "y"
        },
        {
         "base": [
          -0.008308342756010029
         ],
         "legendgroup": "28.0",
         "marker": {
          "color": "rgb(217,217,217)"
         },
         "name": "Orders: 0.831%",
         "showlegend": true,
         "type": "bar",
         "width": 0.8,
         "x": [
          28
         ],
         "xaxis": "x2",
         "y": [
          0.008308342756010029
         ],
         "yaxis": "y2"
        },
        {
         "base": 0,
         "legendgroup": "29.0",
         "marker": {
          "color": "rgb(240,240,240)"
         },
         "name": "29: 28.96%",
         "showlegend": true,
         "text": [
          0.29
         ],
         "type": "bar",
         "width": 0.8,
         "x": [
          29
         ],
         "xaxis": "x",
         "y": [
          0.28958210712183635
         ],
         "yaxis": "y"
        },
        {
         "base": [
          -0.005966134548800101
         ],
         "legendgroup": "29.0",
         "marker": {
          "color": "rgb(240,240,240)"
         },
         "name": "Orders: 0.597%",
         "showlegend": true,
         "type": "bar",
         "width": 0.8,
         "x": [
          29
         ],
         "xaxis": "x2",
         "y": [
          0.005966134548800101
         ],
         "yaxis": "y2"
        },
        {
         "base": 0,
         "legendgroup": "30.0",
         "marker": {
          "color": "rgb(240,240,240)"
         },
         "name": "30: 24.75%",
         "showlegend": true,
         "text": [
          0.25
         ],
         "type": "bar",
         "width": 0.8,
         "x": [
          30
         ],
         "xaxis": "x",
         "y": [
          0.24752269862292361
         ],
         "yaxis": "y"
        },
        {
         "base": [
          -0.11003286816914465
         ],
         "legendgroup": "30.0",
         "marker": {
          "color": "rgb(240,240,240)"
         },
         "name": "Orders: 11.003%",
         "showlegend": true,
         "type": "bar",
         "width": 0.8,
         "x": [
          30
         ],
         "xaxis": "x2",
         "y": [
          0.11003286816914465
         ],
         "yaxis": "y2"
        }
       ],
       "layout": {
        "height": 700,
        "legend": {
         "title": {
          "text": "<b>Tage</b>"
         }
        },
        "plot_bgcolor": "white",
        "shapes": [
         {
          "line": {
           "color": "grey",
           "dash": "solid"
          },
          "opacity": 0.3,
          "type": "line",
          "x0": 0,
          "x1": 1,
          "xref": "x domain",
          "y0": 0,
          "y1": 0,
          "yref": "y"
         },
         {
          "line": {
           "color": "grey",
           "dash": "solid"
          },
          "opacity": 0.3,
          "type": "line",
          "x0": 0,
          "x1": 1,
          "xref": "x2 domain",
          "y0": 0,
          "y1": 0,
          "yref": "y2"
         },
         {
          "line": {
           "color": "black",
           "dash": "solid"
          },
          "opacity": 0.8,
          "type": "line",
          "x0": -1,
          "x1": -1,
          "xref": "x2",
          "y0": 0,
          "y1": 1,
          "yref": "y2 domain"
         },
         {
          "line": {
           "color": "black",
           "dash": "solid"
          },
          "opacity": 0.8,
          "type": "line",
          "x0": -1,
          "x1": -1,
          "xref": "x",
          "y0": 0,
          "y1": 1,
          "yref": "y domain"
         },
         {
          "line": {
           "color": "black",
           "dash": "solid"
          },
          "opacity": 0.8,
          "type": "line",
          "x0": 0,
          "x1": 1,
          "xref": "x2 domain",
          "y0": -0.18,
          "y1": -0.18,
          "yref": "y2"
         }
        ],
        "template": {
         "data": {
          "bar": [
           {
            "error_x": {
             "color": "#2a3f5f"
            },
            "error_y": {
             "color": "#2a3f5f"
            },
            "marker": {
             "line": {
              "color": "#E5ECF6",
              "width": 0.5
             },
             "pattern": {
              "fillmode": "overlay",
              "size": 10,
              "solidity": 0.2
             }
            },
            "type": "bar"
           }
          ],
          "barpolar": [
           {
            "marker": {
             "line": {
              "color": "#E5ECF6",
              "width": 0.5
             },
             "pattern": {
              "fillmode": "overlay",
              "size": 10,
              "solidity": 0.2
             }
            },
            "type": "barpolar"
           }
          ],
          "carpet": [
           {
            "aaxis": {
             "endlinecolor": "#2a3f5f",
             "gridcolor": "white",
             "linecolor": "white",
             "minorgridcolor": "white",
             "startlinecolor": "#2a3f5f"
            },
            "baxis": {
             "endlinecolor": "#2a3f5f",
             "gridcolor": "white",
             "linecolor": "white",
             "minorgridcolor": "white",
             "startlinecolor": "#2a3f5f"
            },
            "type": "carpet"
           }
          ],
          "choropleth": [
           {
            "colorbar": {
             "outlinewidth": 0,
             "ticks": ""
            },
            "type": "choropleth"
           }
          ],
          "contour": [
           {
            "colorbar": {
             "outlinewidth": 0,
             "ticks": ""
            },
            "colorscale": [
             [
              0,
              "#0d0887"
             ],
             [
              0.1111111111111111,
              "#46039f"
             ],
             [
              0.2222222222222222,
              "#7201a8"
             ],
             [
              0.3333333333333333,
              "#9c179e"
             ],
             [
              0.4444444444444444,
              "#bd3786"
             ],
             [
              0.5555555555555556,
              "#d8576b"
             ],
             [
              0.6666666666666666,
              "#ed7953"
             ],
             [
              0.7777777777777778,
              "#fb9f3a"
             ],
             [
              0.8888888888888888,
              "#fdca26"
             ],
             [
              1,
              "#f0f921"
             ]
            ],
            "type": "contour"
           }
          ],
          "contourcarpet": [
           {
            "colorbar": {
             "outlinewidth": 0,
             "ticks": ""
            },
            "type": "contourcarpet"
           }
          ],
          "heatmap": [
           {
            "colorbar": {
             "outlinewidth": 0,
             "ticks": ""
            },
            "colorscale": [
             [
              0,
              "#0d0887"
             ],
             [
              0.1111111111111111,
              "#46039f"
             ],
             [
              0.2222222222222222,
              "#7201a8"
             ],
             [
              0.3333333333333333,
              "#9c179e"
             ],
             [
              0.4444444444444444,
              "#bd3786"
             ],
             [
              0.5555555555555556,
              "#d8576b"
             ],
             [
              0.6666666666666666,
              "#ed7953"
             ],
             [
              0.7777777777777778,
              "#fb9f3a"
             ],
             [
              0.8888888888888888,
              "#fdca26"
             ],
             [
              1,
              "#f0f921"
             ]
            ],
            "type": "heatmap"
           }
          ],
          "heatmapgl": [
           {
            "colorbar": {
             "outlinewidth": 0,
             "ticks": ""
            },
            "colorscale": [
             [
              0,
              "#0d0887"
             ],
             [
              0.1111111111111111,
              "#46039f"
             ],
             [
              0.2222222222222222,
              "#7201a8"
             ],
             [
              0.3333333333333333,
              "#9c179e"
             ],
             [
              0.4444444444444444,
              "#bd3786"
             ],
             [
              0.5555555555555556,
              "#d8576b"
             ],
             [
              0.6666666666666666,
              "#ed7953"
             ],
             [
              0.7777777777777778,
              "#fb9f3a"
             ],
             [
              0.8888888888888888,
              "#fdca26"
             ],
             [
              1,
              "#f0f921"
             ]
            ],
            "type": "heatmapgl"
           }
          ],
          "histogram": [
           {
            "marker": {
             "pattern": {
              "fillmode": "overlay",
              "size": 10,
              "solidity": 0.2
             }
            },
            "type": "histogram"
           }
          ],
          "histogram2d": [
           {
            "colorbar": {
             "outlinewidth": 0,
             "ticks": ""
            },
            "colorscale": [
             [
              0,
              "#0d0887"
             ],
             [
              0.1111111111111111,
              "#46039f"
             ],
             [
              0.2222222222222222,
              "#7201a8"
             ],
             [
              0.3333333333333333,
              "#9c179e"
             ],
             [
              0.4444444444444444,
              "#bd3786"
             ],
             [
              0.5555555555555556,
              "#d8576b"
             ],
             [
              0.6666666666666666,
              "#ed7953"
             ],
             [
              0.7777777777777778,
              "#fb9f3a"
             ],
             [
              0.8888888888888888,
              "#fdca26"
             ],
             [
              1,
              "#f0f921"
             ]
            ],
            "type": "histogram2d"
           }
          ],
          "histogram2dcontour": [
           {
            "colorbar": {
             "outlinewidth": 0,
             "ticks": ""
            },
            "colorscale": [
             [
              0,
              "#0d0887"
             ],
             [
              0.1111111111111111,
              "#46039f"
             ],
             [
              0.2222222222222222,
              "#7201a8"
             ],
             [
              0.3333333333333333,
              "#9c179e"
             ],
             [
              0.4444444444444444,
              "#bd3786"
             ],
             [
              0.5555555555555556,
              "#d8576b"
             ],
             [
              0.6666666666666666,
              "#ed7953"
             ],
             [
              0.7777777777777778,
              "#fb9f3a"
             ],
             [
              0.8888888888888888,
              "#fdca26"
             ],
             [
              1,
              "#f0f921"
             ]
            ],
            "type": "histogram2dcontour"
           }
          ],
          "mesh3d": [
           {
            "colorbar": {
             "outlinewidth": 0,
             "ticks": ""
            },
            "type": "mesh3d"
           }
          ],
          "parcoords": [
           {
            "line": {
             "colorbar": {
              "outlinewidth": 0,
              "ticks": ""
             }
            },
            "type": "parcoords"
           }
          ],
          "pie": [
           {
            "automargin": true,
            "type": "pie"
           }
          ],
          "scatter": [
           {
            "fillpattern": {
             "fillmode": "overlay",
             "size": 10,
             "solidity": 0.2
            },
            "type": "scatter"
           }
          ],
          "scatter3d": [
           {
            "line": {
             "colorbar": {
              "outlinewidth": 0,
              "ticks": ""
             }
            },
            "marker": {
             "colorbar": {
              "outlinewidth": 0,
              "ticks": ""
             }
            },
            "type": "scatter3d"
           }
          ],
          "scattercarpet": [
           {
            "marker": {
             "colorbar": {
              "outlinewidth": 0,
              "ticks": ""
             }
            },
            "type": "scattercarpet"
           }
          ],
          "scattergeo": [
           {
            "marker": {
             "colorbar": {
              "outlinewidth": 0,
              "ticks": ""
             }
            },
            "type": "scattergeo"
           }
          ],
          "scattergl": [
           {
            "marker": {
             "colorbar": {
              "outlinewidth": 0,
              "ticks": ""
             }
            },
            "type": "scattergl"
           }
          ],
          "scattermapbox": [
           {
            "marker": {
             "colorbar": {
              "outlinewidth": 0,
              "ticks": ""
             }
            },
            "type": "scattermapbox"
           }
          ],
          "scatterpolar": [
           {
            "marker": {
             "colorbar": {
              "outlinewidth": 0,
              "ticks": ""
             }
            },
            "type": "scatterpolar"
           }
          ],
          "scatterpolargl": [
           {
            "marker": {
             "colorbar": {
              "outlinewidth": 0,
              "ticks": ""
             }
            },
            "type": "scatterpolargl"
           }
          ],
          "scatterternary": [
           {
            "marker": {
             "colorbar": {
              "outlinewidth": 0,
              "ticks": ""
             }
            },
            "type": "scatterternary"
           }
          ],
          "surface": [
           {
            "colorbar": {
             "outlinewidth": 0,
             "ticks": ""
            },
            "colorscale": [
             [
              0,
              "#0d0887"
             ],
             [
              0.1111111111111111,
              "#46039f"
             ],
             [
              0.2222222222222222,
              "#7201a8"
             ],
             [
              0.3333333333333333,
              "#9c179e"
             ],
             [
              0.4444444444444444,
              "#bd3786"
             ],
             [
              0.5555555555555556,
              "#d8576b"
             ],
             [
              0.6666666666666666,
              "#ed7953"
             ],
             [
              0.7777777777777778,
              "#fb9f3a"
             ],
             [
              0.8888888888888888,
              "#fdca26"
             ],
             [
              1,
              "#f0f921"
             ]
            ],
            "type": "surface"
           }
          ],
          "table": [
           {
            "cells": {
             "fill": {
              "color": "#EBF0F8"
             },
             "line": {
              "color": "white"
             }
            },
            "header": {
             "fill": {
              "color": "#C8D4E3"
             },
             "line": {
              "color": "white"
             }
            },
            "type": "table"
           }
          ]
         },
         "layout": {
          "annotationdefaults": {
           "arrowcolor": "#2a3f5f",
           "arrowhead": 0,
           "arrowwidth": 1
          },
          "autotypenumbers": "strict",
          "coloraxis": {
           "colorbar": {
            "outlinewidth": 0,
            "ticks": ""
           }
          },
          "colorscale": {
           "diverging": [
            [
             0,
             "#8e0152"
            ],
            [
             0.1,
             "#c51b7d"
            ],
            [
             0.2,
             "#de77ae"
            ],
            [
             0.3,
             "#f1b6da"
            ],
            [
             0.4,
             "#fde0ef"
            ],
            [
             0.5,
             "#f7f7f7"
            ],
            [
             0.6,
             "#e6f5d0"
            ],
            [
             0.7,
             "#b8e186"
            ],
            [
             0.8,
             "#7fbc41"
            ],
            [
             0.9,
             "#4d9221"
            ],
            [
             1,
             "#276419"
            ]
           ],
           "sequential": [
            [
             0,
             "#0d0887"
            ],
            [
             0.1111111111111111,
             "#46039f"
            ],
            [
             0.2222222222222222,
             "#7201a8"
            ],
            [
             0.3333333333333333,
             "#9c179e"
            ],
            [
             0.4444444444444444,
             "#bd3786"
            ],
            [
             0.5555555555555556,
             "#d8576b"
            ],
            [
             0.6666666666666666,
             "#ed7953"
            ],
            [
             0.7777777777777778,
             "#fb9f3a"
            ],
            [
             0.8888888888888888,
             "#fdca26"
            ],
            [
             1,
             "#f0f921"
            ]
           ],
           "sequentialminus": [
            [
             0,
             "#0d0887"
            ],
            [
             0.1111111111111111,
             "#46039f"
            ],
            [
             0.2222222222222222,
             "#7201a8"
            ],
            [
             0.3333333333333333,
             "#9c179e"
            ],
            [
             0.4444444444444444,
             "#bd3786"
            ],
            [
             0.5555555555555556,
             "#d8576b"
            ],
            [
             0.6666666666666666,
             "#ed7953"
            ],
            [
             0.7777777777777778,
             "#fb9f3a"
            ],
            [
             0.8888888888888888,
             "#fdca26"
            ],
            [
             1,
             "#f0f921"
            ]
           ]
          },
          "colorway": [
           "#636efa",
           "#EF553B",
           "#00cc96",
           "#ab63fa",
           "#FFA15A",
           "#19d3f3",
           "#FF6692",
           "#B6E880",
           "#FF97FF",
           "#FECB52"
          ],
          "font": {
           "color": "#2a3f5f"
          },
          "geo": {
           "bgcolor": "white",
           "lakecolor": "white",
           "landcolor": "#E5ECF6",
           "showlakes": true,
           "showland": true,
           "subunitcolor": "white"
          },
          "hoverlabel": {
           "align": "left"
          },
          "hovermode": "closest",
          "mapbox": {
           "style": "light"
          },
          "paper_bgcolor": "white",
          "plot_bgcolor": "#E5ECF6",
          "polar": {
           "angularaxis": {
            "gridcolor": "white",
            "linecolor": "white",
            "ticks": ""
           },
           "bgcolor": "#E5ECF6",
           "radialaxis": {
            "gridcolor": "white",
            "linecolor": "white",
            "ticks": ""
           }
          },
          "scene": {
           "xaxis": {
            "backgroundcolor": "#E5ECF6",
            "gridcolor": "white",
            "gridwidth": 2,
            "linecolor": "white",
            "showbackground": true,
            "ticks": "",
            "zerolinecolor": "white"
           },
           "yaxis": {
            "backgroundcolor": "#E5ECF6",
            "gridcolor": "white",
            "gridwidth": 2,
            "linecolor": "white",
            "showbackground": true,
            "ticks": "",
            "zerolinecolor": "white"
           },
           "zaxis": {
            "backgroundcolor": "#E5ECF6",
            "gridcolor": "white",
            "gridwidth": 2,
            "linecolor": "white",
            "showbackground": true,
            "ticks": "",
            "zerolinecolor": "white"
           }
          },
          "shapedefaults": {
           "line": {
            "color": "#2a3f5f"
           }
          },
          "ternary": {
           "aaxis": {
            "gridcolor": "white",
            "linecolor": "white",
            "ticks": ""
           },
           "baxis": {
            "gridcolor": "white",
            "linecolor": "white",
            "ticks": ""
           },
           "bgcolor": "#E5ECF6",
           "caxis": {
            "gridcolor": "white",
            "linecolor": "white",
            "ticks": ""
           }
          },
          "title": {
           "x": 0.05
          },
          "xaxis": {
           "automargin": true,
           "gridcolor": "white",
           "linecolor": "white",
           "ticks": "",
           "title": {
            "standoff": 15
           },
           "zerolinecolor": "white",
           "zerolinewidth": 2
          },
          "yaxis": {
           "automargin": true,
           "gridcolor": "white",
           "linecolor": "white",
           "ticks": "",
           "title": {
            "standoff": 15
           },
           "zerolinecolor": "white",
           "zerolinewidth": 2
          }
         }
        },
        "title": {
         "font": {
          "size": 20
         },
         "text": "<b>Tippwahrscheinlichkeit von Bestellungen mit Tagen seit der letzten Bestellungen</b>",
         "x": 0.475,
         "xanchor": "center",
         "y": 0.935,
         "yanchor": "top"
        },
        "xaxis": {
         "anchor": "y",
         "domain": [
          0,
          1
         ],
         "linecolor": "black",
         "matches": "x2",
         "showline": false,
         "showticklabels": false
        },
        "xaxis2": {
         "anchor": "y2",
         "domain": [
          0,
          1
         ],
         "ticks": "outside",
         "title": {
          "text": "<b>Tage</b>"
         }
        },
        "yaxis": {
         "anchor": "x",
         "domain": [
          0.5,
          1
         ],
         "gridcolor": "grey",
         "linecolor": "black",
         "showgrid": true,
         "showline": false,
         "ticks": "outside",
         "title": {
          "text": "<b>Tipp Wshk.</b>"
         }
        },
        "yaxis2": {
         "anchor": "x2",
         "domain": [
          0,
          0.5
         ],
         "gridcolor": "grey",
         "showgrid": true,
         "ticks": "outside",
         "title": {
          "text": "<b>Order Anteil</b>"
         }
        }
       }
      }
     },
     "metadata": {},
     "output_type": "display_data"
    }
   ],
   "source": [
    "fig1 = make_subplots(cols= 1, rows= 2, shared_xaxes= True, shared_yaxes= False, vertical_spacing= 0)\n",
    "\n",
    "for days_since_prior_order in df_days_since_prior_order.days_since_prior_order:\n",
    "\n",
    " if df_days_since_prior_order[df_days_since_prior_order.days_since_prior_order == days_since_prior_order].tip_norm.values >= 0.5:\n",
    "  color = px.colors.qualitative.G10[4]\n",
    "  text= df_days_since_prior_order.loc[df_days_since_prior_order.days_since_prior_order == days_since_prior_order].tip_norm.values.round(2)\n",
    "\n",
    "  fig1.add_trace(\n",
    "   go.Bar(\n",
    "    x= df_days_since_prior_order.loc[df_days_since_prior_order.days_since_prior_order == days_since_prior_order].days_since_prior_order,\n",
    "    y= df_days_since_prior_order.loc[df_days_since_prior_order.days_since_prior_order == days_since_prior_order].tip_norm,\n",
    "    name= f\"{int(days_since_prior_order)}: {(df_days_since_prior_order.loc[df_days_since_prior_order.days_since_prior_order == days_since_prior_order].tip_norm.values[0] * 100).round(2)}%\",\n",
    "    showlegend= True,\n",
    "    marker= dict(color= color),\n",
    "    width= 0.8,\n",
    "    text= text,\n",
    "    base= 0,\n",
    "    legendgroup= f\"{days_since_prior_order}\" \n",
    "   ),\n",
    "   col= 1,\n",
    "   row= 1\n",
    "  )\n",
    "\n",
    "  fig1.add_trace(\n",
    "   go.Bar(\n",
    "    x= df_days_since_prior_order.loc[df_days_since_prior_order.days_since_prior_order == days_since_prior_order].days_since_prior_order,\n",
    "    y= df_days_since_prior_order.loc[df_days_since_prior_order.days_since_prior_order == days_since_prior_order].orders_norm,\n",
    "    name= f\"Orders: {(df_days_since_prior_order.loc[df_days_since_prior_order.days_since_prior_order == days_since_prior_order].orders_norm.values[0] * 100).round(3)}%\",\n",
    "    base = -df_days_since_prior_order.loc[df_days_since_prior_order.days_since_prior_order == days_since_prior_order].orders_norm,\n",
    "    showlegend= True,\n",
    "    marker= dict(color= color),\n",
    "    width= 0.8,\n",
    "    legendgroup= f\"{days_since_prior_order}\"\n",
    "   ),\n",
    "   col= 1,\n",
    "   row= 2\n",
    "  )\n",
    "\n",
    " elif 0.4 < df_days_since_prior_order.loc[df_days_since_prior_order.days_since_prior_order == days_since_prior_order].tip_norm.values < 0.5:\n",
    "  color= px.colors.sequential.Greys[3]\n",
    "\n",
    "  fig1.add_trace(\n",
    "   go.Bar(\n",
    "    x= df_days_since_prior_order.loc[df_days_since_prior_order.days_since_prior_order == days_since_prior_order].days_since_prior_order,\n",
    "    y= df_days_since_prior_order.loc[df_days_since_prior_order.days_since_prior_order == days_since_prior_order].tip_norm,\n",
    "    name= f\"{int(days_since_prior_order)}: {(df_days_since_prior_order.loc[df_days_since_prior_order.days_since_prior_order == days_since_prior_order].tip_norm.values[0] * 100).round(2)}%\",\n",
    "    showlegend= True,\n",
    "    marker= dict(color= color),\n",
    "    width= 0.8,\n",
    "    base= 0,\n",
    "    legendgroup= f\"{days_since_prior_order}\"\n",
    "   ),\n",
    "   col= 1,\n",
    "   row= 1\n",
    "  )\n",
    "\n",
    "  fig1.add_trace(\n",
    "   go.Bar(\n",
    "    x= df_days_since_prior_order.loc[df_days_since_prior_order.days_since_prior_order == days_since_prior_order].days_since_prior_order,\n",
    "    y= df_days_since_prior_order.loc[df_days_since_prior_order.days_since_prior_order == days_since_prior_order].orders_norm,\n",
    "    name= f\"Orders: {(df_days_since_prior_order.loc[df_days_since_prior_order.days_since_prior_order == days_since_prior_order].orders_norm.values[0] * 100).round(3)}%\",\n",
    "    base = -df_days_since_prior_order.loc[df_days_since_prior_order.days_since_prior_order == days_since_prior_order].orders_norm,\n",
    "    showlegend= True,\n",
    "    marker= dict(color= color),\n",
    "    width= 0.8,\n",
    "    legendgroup= f\"{days_since_prior_order}\"\n",
    "   ),\n",
    "   col= 1,\n",
    "   row= 2\n",
    "  )\n",
    "\n",
    " elif 0.3 < df_days_since_prior_order.loc[df_days_since_prior_order.days_since_prior_order == days_since_prior_order].tip_norm.values < 0.4:\n",
    "  color= px.colors.sequential.Greys[2]\n",
    "\n",
    "  fig1.add_trace(\n",
    "   go.Bar(\n",
    "    x= df_days_since_prior_order.loc[df_days_since_prior_order.days_since_prior_order == days_since_prior_order].days_since_prior_order,\n",
    "    y= df_days_since_prior_order.loc[df_days_since_prior_order.days_since_prior_order == days_since_prior_order].tip_norm,\n",
    "    name= f\"{int(days_since_prior_order)}: {(df_days_since_prior_order.loc[df_days_since_prior_order.days_since_prior_order == days_since_prior_order].tip_norm.values[0] * 100).round(2)}%\",\n",
    "    showlegend= True,\n",
    "    marker= dict(color= color),\n",
    "    width= 0.8,\n",
    "    base= 0,\n",
    "    legendgroup= f\"{days_since_prior_order}\"\n",
    "   ),\n",
    "   col= 1,\n",
    "   row= 1\n",
    "  )\n",
    "\n",
    "  fig1.add_trace(\n",
    "   go.Bar(\n",
    "    x= df_days_since_prior_order.loc[df_days_since_prior_order.days_since_prior_order == days_since_prior_order].days_since_prior_order,\n",
    "    y= df_days_since_prior_order.loc[df_days_since_prior_order.days_since_prior_order == days_since_prior_order].orders_norm,\n",
    "    name= f\"Orders: {(df_days_since_prior_order.loc[df_days_since_prior_order.days_since_prior_order == days_since_prior_order].orders_norm.values[0] * 100).round(3)}%\",\n",
    "    base = -df_days_since_prior_order.loc[df_days_since_prior_order.days_since_prior_order == days_since_prior_order].orders_norm,\n",
    "    showlegend= True,\n",
    "    marker= dict(color= color),\n",
    "    width= 0.8,\n",
    "    legendgroup= f\"{days_since_prior_order}\"\n",
    "   ),\n",
    "   col= 1,\n",
    "   row= 2\n",
    "  )\n",
    "\n",
    " elif 0.2 < df_days_since_prior_order.loc[df_days_since_prior_order.days_since_prior_order == days_since_prior_order].tip_norm.values < 0.3:\n",
    "  color= px.colors.sequential.Greys[1]\n",
    "  text= df_days_since_prior_order.loc[df_days_since_prior_order.days_since_prior_order == days_since_prior_order].tip_norm.values.round(2)\n",
    "\n",
    "  fig1.add_trace(\n",
    "   go.Bar(\n",
    "    x= df_days_since_prior_order.loc[df_days_since_prior_order.days_since_prior_order == days_since_prior_order].days_since_prior_order,\n",
    "    y= df_days_since_prior_order.loc[df_days_since_prior_order.days_since_prior_order == days_since_prior_order].tip_norm,\n",
    "    name= f\"{int(days_since_prior_order)}: {(df_days_since_prior_order.loc[df_days_since_prior_order.days_since_prior_order == days_since_prior_order].tip_norm.values[0] * 100).round(2)}%\",\n",
    "    showlegend= True,\n",
    "    marker= dict(color= color),\n",
    "    width= 0.8,\n",
    "    text= text,\n",
    "    base= 0,\n",
    "    legendgroup= f\"{days_since_prior_order}\"\n",
    "   ),\n",
    "   col= 1,\n",
    "   row= 1\n",
    "  )\n",
    "\n",
    "  fig1.add_trace(\n",
    "   go.Bar(\n",
    "    x= df_days_since_prior_order.loc[df_days_since_prior_order.days_since_prior_order == days_since_prior_order].days_since_prior_order,\n",
    "    y= df_days_since_prior_order.loc[df_days_since_prior_order.days_since_prior_order == days_since_prior_order].orders_norm,\n",
    "    name= f\"Orders: {(df_days_since_prior_order.loc[df_days_since_prior_order.days_since_prior_order == days_since_prior_order].orders_norm.values[0] * 100).round(3)}%\",\n",
    "    base = -df_days_since_prior_order.loc[df_days_since_prior_order.days_since_prior_order == days_since_prior_order].orders_norm,\n",
    "    showlegend= True,\n",
    "    marker= dict(color= color),\n",
    "    width= 0.8,\n",
    "    legendgroup= f\"{days_since_prior_order}\"\n",
    "   ),\n",
    "   col= 1,\n",
    "   row= 2\n",
    "  )\n",
    "\n",
    "\n",
    "fig1.add_hline(\n",
    " y= 0,\n",
    " opacity= 0.3,\n",
    " line_dash= \"solid\",\n",
    " line_color= \"grey\",\n",
    " col= 1,\n",
    " row= 1\n",
    ")\n",
    "\n",
    "fig1.add_hline(\n",
    " y= 0,\n",
    " opacity= 0.3,\n",
    " line_dash= \"solid\",\n",
    " line_color= \"grey\",\n",
    " col= 1,\n",
    " row= 2\n",
    ")\n",
    "\n",
    "fig1.add_vline(\n",
    " x= -1,\n",
    " opacity= 0.8,\n",
    " line_dash= \"solid\",\n",
    " line_color= \"black\",\n",
    " col= 1,\n",
    " row= 2\n",
    ")\n",
    "\n",
    "fig1.add_vline(\n",
    " x= -1,\n",
    " opacity= 0.8,\n",
    " line_dash= \"solid\",\n",
    " line_color= \"black\",\n",
    " col= 1,\n",
    " row= 1\n",
    ")\n",
    "\n",
    "fig1.add_hline(\n",
    " y= -0.18,\n",
    " opacity= 0.8,\n",
    " line_dash= \"solid\",\n",
    " line_color= \"black\",\n",
    " col= 1,\n",
    " row= 2\n",
    ")\n",
    "\n",
    "fig1.update_annotations(opacity= 0.8)\n",
    "fig1.update_layout(title= dict(text= \"<b>Tippwahrscheinlichkeit von Bestellungen mit Tagen seit der letzten Bestellungen</b>\", font_size= 20, xanchor= \"center\", yanchor= \"top\", y=0.935, x=0.475), legend_title_text = \"<b>Tage</b>\", height= 700)\n",
    "fig1.update_xaxes(title_text=\"<b>Tage</b>\", ticks= \"outside\", col= 1, row= 2)\n",
    "fig1.update_xaxes(showline= False, col= 1, row= 1)\n",
    "fig1.update_yaxes(title_text=\"<b>Tipp Wshk.</b>\", ticks= \"outside\", showgrid= True, gridcolor= \"grey\", col= 1, row= 1, showline= False)\n",
    "fig1.update_yaxes(title_text=\"<b>Order Anteil</b>\", ticks= \"outside\", showgrid= True, gridcolor= \"grey\", col= 1, row= 2)\n",
    "fig1.update_layout(plot_bgcolor= \"white\", xaxis= dict(linecolor= \"black\"), yaxis= dict(linecolor= \"black\"))\n",
    "fig1.show()"
   ]
  },
  {
   "attachments": {},
   "cell_type": "markdown",
   "metadata": {},
   "source": [
    "#### department"
   ]
  },
  {
   "cell_type": "code",
   "execution_count": 46,
   "metadata": {},
   "outputs": [],
   "source": [
    "df_dep = df.groupby([\"department\", \"order_id\"], as_index= False).agg(tip_mean= (\"tip\", \"mean\"), all= (\"order_id\", \"count\"))\n",
    "df_dep1 = df_dep.groupby(\"department\", as_index= False).agg(tip = (\"tip_mean\", \"sum\"), orders= (\"order_id\", \"nunique\"))\n",
    "df_dep1[\"tip_norm\"] = df_dep1.tip / df_dep1.orders\n",
    "df_dep1[\"orders_norm\"] = df_dep1.orders / df_dep1.orders.sum()\n",
    "df_dep2 = df_dep1.sort_values(by= \"tip_norm\", ascending= False)"
   ]
  },
  {
   "cell_type": "code",
   "execution_count": 47,
   "metadata": {},
   "outputs": [
    {
     "data": {
      "text/html": [
       "<div>\n",
       "<style scoped>\n",
       "    .dataframe tbody tr th:only-of-type {\n",
       "        vertical-align: middle;\n",
       "    }\n",
       "\n",
       "    .dataframe tbody tr th {\n",
       "        vertical-align: top;\n",
       "    }\n",
       "\n",
       "    .dataframe thead th {\n",
       "        text-align: right;\n",
       "    }\n",
       "</style>\n",
       "<table border=\"1\" class=\"dataframe\">\n",
       "  <thead>\n",
       "    <tr style=\"text-align: right;\">\n",
       "      <th></th>\n",
       "      <th>department</th>\n",
       "      <th>tip</th>\n",
       "      <th>orders</th>\n",
       "      <th>tip_norm</th>\n",
       "      <th>orders_norm</th>\n",
       "    </tr>\n",
       "  </thead>\n",
       "  <tbody>\n",
       "    <tr>\n",
       "      <th>0</th>\n",
       "      <td>alcohol</td>\n",
       "      <td>12531.0</td>\n",
       "      <td>15569</td>\n",
       "      <td>0.804869</td>\n",
       "      <td>0.005399</td>\n",
       "    </tr>\n",
       "    <tr>\n",
       "      <th>4</th>\n",
       "      <td>breakfast</td>\n",
       "      <td>53783.0</td>\n",
       "      <td>100391</td>\n",
       "      <td>0.535735</td>\n",
       "      <td>0.034813</td>\n",
       "    </tr>\n",
       "    <tr>\n",
       "      <th>1</th>\n",
       "      <td>babies</td>\n",
       "      <td>17786.0</td>\n",
       "      <td>33891</td>\n",
       "      <td>0.524800</td>\n",
       "      <td>0.011753</td>\n",
       "    </tr>\n",
       "    <tr>\n",
       "      <th>5</th>\n",
       "      <td>bulk</td>\n",
       "      <td>3448.0</td>\n",
       "      <td>6618</td>\n",
       "      <td>0.521003</td>\n",
       "      <td>0.002295</td>\n",
       "    </tr>\n",
       "    <tr>\n",
       "      <th>20</th>\n",
       "      <td>snacks</td>\n",
       "      <td>133047.0</td>\n",
       "      <td>263766</td>\n",
       "      <td>0.504413</td>\n",
       "      <td>0.091468</td>\n",
       "    </tr>\n",
       "    <tr>\n",
       "      <th>8</th>\n",
       "      <td>deli</td>\n",
       "      <td>68264.0</td>\n",
       "      <td>146512</td>\n",
       "      <td>0.465928</td>\n",
       "      <td>0.050807</td>\n",
       "    </tr>\n",
       "    <tr>\n",
       "      <th>16</th>\n",
       "      <td>pantry</td>\n",
       "      <td>97742.0</td>\n",
       "      <td>211817</td>\n",
       "      <td>0.461445</td>\n",
       "      <td>0.073453</td>\n",
       "    </tr>\n",
       "    <tr>\n",
       "      <th>12</th>\n",
       "      <td>international</td>\n",
       "      <td>19089.0</td>\n",
       "      <td>41853</td>\n",
       "      <td>0.456096</td>\n",
       "      <td>0.014514</td>\n",
       "    </tr>\n",
       "    <tr>\n",
       "      <th>7</th>\n",
       "      <td>dairy eggs</td>\n",
       "      <td>182203.0</td>\n",
       "      <td>410949</td>\n",
       "      <td>0.443371</td>\n",
       "      <td>0.142508</td>\n",
       "    </tr>\n",
       "    <tr>\n",
       "      <th>15</th>\n",
       "      <td>other</td>\n",
       "      <td>2914.0</td>\n",
       "      <td>6759</td>\n",
       "      <td>0.431129</td>\n",
       "      <td>0.002344</td>\n",
       "    </tr>\n",
       "    <tr>\n",
       "      <th>14</th>\n",
       "      <td>missing</td>\n",
       "      <td>5027.0</td>\n",
       "      <td>11803</td>\n",
       "      <td>0.425909</td>\n",
       "      <td>0.004093</td>\n",
       "    </tr>\n",
       "    <tr>\n",
       "      <th>13</th>\n",
       "      <td>meat seafood</td>\n",
       "      <td>45359.0</td>\n",
       "      <td>107324</td>\n",
       "      <td>0.422636</td>\n",
       "      <td>0.037218</td>\n",
       "    </tr>\n",
       "    <tr>\n",
       "      <th>3</th>\n",
       "      <td>beverages</td>\n",
       "      <td>116397.0</td>\n",
       "      <td>276704</td>\n",
       "      <td>0.420655</td>\n",
       "      <td>0.095955</td>\n",
       "    </tr>\n",
       "    <tr>\n",
       "      <th>19</th>\n",
       "      <td>produce</td>\n",
       "      <td>188955.0</td>\n",
       "      <td>453080</td>\n",
       "      <td>0.417046</td>\n",
       "      <td>0.157118</td>\n",
       "    </tr>\n",
       "    <tr>\n",
       "      <th>2</th>\n",
       "      <td>bakery</td>\n",
       "      <td>69343.0</td>\n",
       "      <td>167504</td>\n",
       "      <td>0.413978</td>\n",
       "      <td>0.058087</td>\n",
       "    </tr>\n",
       "    <tr>\n",
       "      <th>6</th>\n",
       "      <td>canned goods</td>\n",
       "      <td>52668.0</td>\n",
       "      <td>128861</td>\n",
       "      <td>0.408719</td>\n",
       "      <td>0.044686</td>\n",
       "    </tr>\n",
       "    <tr>\n",
       "      <th>9</th>\n",
       "      <td>dry goods pasta</td>\n",
       "      <td>43500.0</td>\n",
       "      <td>113038</td>\n",
       "      <td>0.384826</td>\n",
       "      <td>0.039199</td>\n",
       "    </tr>\n",
       "    <tr>\n",
       "      <th>18</th>\n",
       "      <td>pets</td>\n",
       "      <td>4310.0</td>\n",
       "      <td>11278</td>\n",
       "      <td>0.382160</td>\n",
       "      <td>0.003911</td>\n",
       "    </tr>\n",
       "    <tr>\n",
       "      <th>11</th>\n",
       "      <td>household</td>\n",
       "      <td>33548.0</td>\n",
       "      <td>89819</td>\n",
       "      <td>0.373507</td>\n",
       "      <td>0.031147</td>\n",
       "    </tr>\n",
       "    <tr>\n",
       "      <th>10</th>\n",
       "      <td>frozen</td>\n",
       "      <td>82353.0</td>\n",
       "      <td>225090</td>\n",
       "      <td>0.365867</td>\n",
       "      <td>0.078056</td>\n",
       "    </tr>\n",
       "    <tr>\n",
       "      <th>17</th>\n",
       "      <td>personal care</td>\n",
       "      <td>20999.0</td>\n",
       "      <td>61068</td>\n",
       "      <td>0.343863</td>\n",
       "      <td>0.021177</td>\n",
       "    </tr>\n",
       "  </tbody>\n",
       "</table>\n",
       "</div>"
      ],
      "text/plain": [
       "         department       tip  orders  tip_norm  orders_norm\n",
       "0           alcohol   12531.0   15569  0.804869     0.005399\n",
       "4         breakfast   53783.0  100391  0.535735     0.034813\n",
       "1            babies   17786.0   33891  0.524800     0.011753\n",
       "5              bulk    3448.0    6618  0.521003     0.002295\n",
       "20           snacks  133047.0  263766  0.504413     0.091468\n",
       "8              deli   68264.0  146512  0.465928     0.050807\n",
       "16           pantry   97742.0  211817  0.461445     0.073453\n",
       "12    international   19089.0   41853  0.456096     0.014514\n",
       "7        dairy eggs  182203.0  410949  0.443371     0.142508\n",
       "15            other    2914.0    6759  0.431129     0.002344\n",
       "14          missing    5027.0   11803  0.425909     0.004093\n",
       "13     meat seafood   45359.0  107324  0.422636     0.037218\n",
       "3         beverages  116397.0  276704  0.420655     0.095955\n",
       "19          produce  188955.0  453080  0.417046     0.157118\n",
       "2            bakery   69343.0  167504  0.413978     0.058087\n",
       "6      canned goods   52668.0  128861  0.408719     0.044686\n",
       "9   dry goods pasta   43500.0  113038  0.384826     0.039199\n",
       "18             pets    4310.0   11278  0.382160     0.003911\n",
       "11        household   33548.0   89819  0.373507     0.031147\n",
       "10           frozen   82353.0  225090  0.365867     0.078056\n",
       "17    personal care   20999.0   61068  0.343863     0.021177"
      ]
     },
     "execution_count": 47,
     "metadata": {},
     "output_type": "execute_result"
    }
   ],
   "source": [
    "df_dep2"
   ]
  },
  {
   "cell_type": "code",
   "execution_count": 97,
   "metadata": {},
   "outputs": [
    {
     "data": {
      "application/vnd.plotly.v1+json": {
       "config": {
        "plotlyServerURL": "https://plot.ly"
       },
       "data": [
        {
         "base": 0,
         "legendgroup": "alcohol",
         "marker": {
          "color": "#990099"
         },
         "name": "alcohol: 80.49%",
         "showlegend": true,
         "text": [
          0.805
         ],
         "type": "bar",
         "width": 0.8,
         "x": [
          "alcohol"
         ],
         "xaxis": "x",
         "y": [
          0.8048686492388721
         ],
         "yaxis": "y"
        },
        {
         "base": [
          -0.0053989778388414305
         ],
         "legendgroup": "alcohol",
         "marker": {
          "color": "#990099"
         },
         "name": "Orders: 0.54%",
         "showlegend": true,
         "type": "bar",
         "width": 0.8,
         "x": [
          "alcohol"
         ],
         "xaxis": "x2",
         "y": [
          0.0053989778388414305
         ],
         "yaxis": "y2"
        },
        {
         "base": 0,
         "legendgroup": "breakfast",
         "marker": {
          "color": "#990099"
         },
         "name": "breakfast: 53.57%",
         "showlegend": true,
         "text": [
          0.536
         ],
         "type": "bar",
         "width": 0.8,
         "x": [
          "breakfast"
         ],
         "xaxis": "x",
         "y": [
          0.5357352750744588
         ],
         "yaxis": "y"
        },
        {
         "base": [
          -0.034813333176127566
         ],
         "legendgroup": "breakfast",
         "marker": {
          "color": "#990099"
         },
         "name": "Orders: 3.481%",
         "showlegend": true,
         "type": "bar",
         "width": 0.8,
         "x": [
          "breakfast"
         ],
         "xaxis": "x2",
         "y": [
          0.034813333176127566
         ],
         "yaxis": "y2"
        },
        {
         "base": 0,
         "legendgroup": "babies",
         "marker": {
          "color": "#990099"
         },
         "name": "babies: 52.48%",
         "showlegend": true,
         "text": [
          0.525
         ],
         "type": "bar",
         "width": 0.8,
         "x": [
          "babies"
         ],
         "xaxis": "x",
         "y": [
          0.5248000944203476
         ],
         "yaxis": "y"
        },
        {
         "base": [
          -0.011752633947984772
         ],
         "legendgroup": "babies",
         "marker": {
          "color": "#990099"
         },
         "name": "Orders: 1.175%",
         "showlegend": true,
         "type": "bar",
         "width": 0.8,
         "x": [
          "babies"
         ],
         "xaxis": "x2",
         "y": [
          0.011752633947984772
         ],
         "yaxis": "y2"
        },
        {
         "base": 0,
         "legendgroup": "bulk",
         "marker": {
          "color": "#990099"
         },
         "name": "bulk: 52.1%",
         "showlegend": true,
         "text": [
          0.521
         ],
         "type": "bar",
         "width": 0.8,
         "x": [
          "bulk"
         ],
         "xaxis": "x",
         "y": [
          0.5210033242671502
         ],
         "yaxis": "y"
        },
        {
         "base": [
          -0.0022949730449902104
         ],
         "legendgroup": "bulk",
         "marker": {
          "color": "#990099"
         },
         "name": "Orders: 0.229%",
         "showlegend": true,
         "type": "bar",
         "width": 0.8,
         "x": [
          "bulk"
         ],
         "xaxis": "x2",
         "y": [
          0.0022949730449902104
         ],
         "yaxis": "y2"
        },
        {
         "base": 0,
         "legendgroup": "snacks",
         "marker": {
          "color": "#990099"
         },
         "name": "snacks: 50.44%",
         "showlegend": true,
         "text": [
          0.504
         ],
         "type": "bar",
         "width": 0.8,
         "x": [
          "snacks"
         ],
         "xaxis": "x",
         "y": [
          0.5044130024339756
         ],
         "yaxis": "y"
        },
        {
         "base": [
          -0.09146809612947837
         ],
         "legendgroup": "snacks",
         "marker": {
          "color": "#990099"
         },
         "name": "Orders: 9.147%",
         "showlegend": true,
         "type": "bar",
         "width": 0.8,
         "x": [
          "snacks"
         ],
         "xaxis": "x2",
         "y": [
          0.09146809612947837
         ],
         "yaxis": "y2"
        },
        {
         "base": 0,
         "legendgroup": "deli",
         "marker": {
          "color": "rgb(189,189,189)"
         },
         "name": "deli: 46.59%",
         "showlegend": true,
         "type": "bar",
         "width": 0.8,
         "x": [
          "deli"
         ],
         "xaxis": "x",
         "y": [
          0.4659277055804303
         ],
         "yaxis": "y"
        },
        {
         "base": [
          -0.0508070551174986
         ],
         "legendgroup": "deli",
         "marker": {
          "color": "rgb(189,189,189)"
         },
         "name": "Orders: 5.081%",
         "showlegend": true,
         "type": "bar",
         "width": 0.8,
         "x": [
          "deli"
         ],
         "xaxis": "x2",
         "y": [
          0.0508070551174986
         ],
         "yaxis": "y2"
        },
        {
         "base": 0,
         "legendgroup": "pantry",
         "marker": {
          "color": "rgb(189,189,189)"
         },
         "name": "pantry: 46.14%",
         "showlegend": true,
         "type": "bar",
         "width": 0.8,
         "x": [
          "pantry"
         ],
         "xaxis": "x",
         "y": [
          0.4614454930435234
         ],
         "yaxis": "y"
        },
        {
         "base": [
          -0.07345335531439882
         ],
         "legendgroup": "pantry",
         "marker": {
          "color": "rgb(189,189,189)"
         },
         "name": "Orders: 7.345%",
         "showlegend": true,
         "type": "bar",
         "width": 0.8,
         "x": [
          "pantry"
         ],
         "xaxis": "x2",
         "y": [
          0.07345335531439882
         ],
         "yaxis": "y2"
        },
        {
         "base": 0,
         "legendgroup": "international",
         "marker": {
          "color": "rgb(189,189,189)"
         },
         "name": "international: 45.61%",
         "showlegend": true,
         "type": "bar",
         "width": 0.8,
         "x": [
          "international"
         ],
         "xaxis": "x",
         "y": [
          0.45609633718013043
         ],
         "yaxis": "y"
        },
        {
         "base": [
          -0.014513675861585869
         ],
         "legendgroup": "international",
         "marker": {
          "color": "rgb(189,189,189)"
         },
         "name": "Orders: 1.451%",
         "showlegend": true,
         "type": "bar",
         "width": 0.8,
         "x": [
          "international"
         ],
         "xaxis": "x2",
         "y": [
          0.014513675861585869
         ],
         "yaxis": "y2"
        },
        {
         "base": 0,
         "legendgroup": "dairy eggs",
         "marker": {
          "color": "rgb(189,189,189)"
         },
         "name": "dairy eggs: 44.34%",
         "showlegend": true,
         "type": "bar",
         "width": 0.8,
         "x": [
          "dairy eggs"
         ],
         "xaxis": "x",
         "y": [
          0.44337131858211115
         ],
         "yaxis": "y"
        },
        {
         "base": [
          -0.1425078389038504
         ],
         "legendgroup": "dairy eggs",
         "marker": {
          "color": "rgb(189,189,189)"
         },
         "name": "Orders: 14.251%",
         "showlegend": true,
         "type": "bar",
         "width": 0.8,
         "x": [
          "dairy eggs"
         ],
         "xaxis": "x2",
         "y": [
          0.1425078389038504
         ],
         "yaxis": "y2"
        },
        {
         "base": 0,
         "legendgroup": "other",
         "marker": {
          "color": "rgb(189,189,189)"
         },
         "name": "other: 43.11%",
         "showlegend": true,
         "type": "bar",
         "width": 0.8,
         "x": [
          "other"
         ],
         "xaxis": "x",
         "y": [
          0.43112886521674804
         ],
         "yaxis": "y"
        },
        {
         "base": [
          -0.002343868662902513
         ],
         "legendgroup": "other",
         "marker": {
          "color": "rgb(189,189,189)"
         },
         "name": "Orders: 0.234%",
         "showlegend": true,
         "type": "bar",
         "width": 0.8,
         "x": [
          "other"
         ],
         "xaxis": "x2",
         "y": [
          0.002343868662902513
         ],
         "yaxis": "y2"
        },
        {
         "base": 0,
         "legendgroup": "missing",
         "marker": {
          "color": "rgb(189,189,189)"
         },
         "name": "missing: 42.59%",
         "showlegend": true,
         "type": "bar",
         "width": 0.8,
         "x": [
          "missing"
         ],
         "xaxis": "x",
         "y": [
          0.42590866728797766
         ],
         "yaxis": "y"
        },
        {
         "base": [
          -0.004093014029921344
         ],
         "legendgroup": "missing",
         "marker": {
          "color": "rgb(189,189,189)"
         },
         "name": "Orders: 0.409%",
         "showlegend": true,
         "type": "bar",
         "width": 0.8,
         "x": [
          "missing"
         ],
         "xaxis": "x2",
         "y": [
          0.004093014029921344
         ],
         "yaxis": "y2"
        },
        {
         "base": 0,
         "legendgroup": "meat seafood",
         "marker": {
          "color": "rgb(189,189,189)"
         },
         "name": "meat seafood: 42.26%",
         "showlegend": true,
         "type": "bar",
         "width": 0.8,
         "x": [
          "meat seafood"
         ],
         "xaxis": "x",
         "y": [
          0.4226361298498006
         ],
         "yaxis": "y"
        },
        {
         "base": [
          -0.03721754111219845
         ],
         "legendgroup": "meat seafood",
         "marker": {
          "color": "rgb(189,189,189)"
         },
         "name": "Orders: 3.722%",
         "showlegend": true,
         "type": "bar",
         "width": 0.8,
         "x": [
          "meat seafood"
         ],
         "xaxis": "x2",
         "y": [
          0.03721754111219845
         ],
         "yaxis": "y2"
        },
        {
         "base": 0,
         "legendgroup": "beverages",
         "marker": {
          "color": "rgb(189,189,189)"
         },
         "name": "beverages: 42.07%",
         "showlegend": true,
         "type": "bar",
         "width": 0.8,
         "x": [
          "beverages"
         ],
         "xaxis": "x",
         "y": [
          0.42065528506996647
         ],
         "yaxis": "y"
        },
        {
         "base": [
          -0.09595470254472215
         ],
         "legendgroup": "beverages",
         "marker": {
          "color": "rgb(189,189,189)"
         },
         "name": "Orders: 9.595%",
         "showlegend": true,
         "type": "bar",
         "width": 0.8,
         "x": [
          "beverages"
         ],
         "xaxis": "x2",
         "y": [
          0.09595470254472215
         ],
         "yaxis": "y2"
        },
        {
         "base": 0,
         "legendgroup": "produce",
         "marker": {
          "color": "rgb(189,189,189)"
         },
         "name": "produce: 41.7%",
         "showlegend": true,
         "type": "bar",
         "width": 0.8,
         "x": [
          "produce"
         ],
         "xaxis": "x",
         "y": [
          0.41704555486889733
         ],
         "yaxis": "y"
        },
        {
         "base": [
          -0.15711791889153287
         ],
         "legendgroup": "produce",
         "marker": {
          "color": "rgb(189,189,189)"
         },
         "name": "Orders: 15.712%",
         "showlegend": true,
         "type": "bar",
         "width": 0.8,
         "x": [
          "produce"
         ],
         "xaxis": "x2",
         "y": [
          0.15711791889153287
         ],
         "yaxis": "y2"
        },
        {
         "base": 0,
         "legendgroup": "bakery",
         "marker": {
          "color": "rgb(189,189,189)"
         },
         "name": "bakery: 41.4%",
         "showlegend": true,
         "type": "bar",
         "width": 0.8,
         "x": [
          "bakery"
         ],
         "xaxis": "x",
         "y": [
          0.4139781736555545
         ],
         "yaxis": "y"
        },
        {
         "base": [
          -0.05808660697008767
         ],
         "legendgroup": "bakery",
         "marker": {
          "color": "rgb(189,189,189)"
         },
         "name": "Orders: 5.809%",
         "showlegend": true,
         "type": "bar",
         "width": 0.8,
         "x": [
          "bakery"
         ],
         "xaxis": "x2",
         "y": [
          0.05808660697008767
         ],
         "yaxis": "y2"
        },
        {
         "base": 0,
         "legendgroup": "canned goods",
         "marker": {
          "color": "rgb(189,189,189)"
         },
         "name": "canned goods: 40.87%",
         "showlegend": true,
         "type": "bar",
         "width": 0.8,
         "x": [
          "canned goods"
         ],
         "xaxis": "x",
         "y": [
          0.40871947292043365
         ],
         "yaxis": "y"
        },
        {
         "base": [
          -0.0446860866652287
         ],
         "legendgroup": "canned goods",
         "marker": {
          "color": "rgb(189,189,189)"
         },
         "name": "Orders: 4.469%",
         "showlegend": true,
         "type": "bar",
         "width": 0.8,
         "x": [
          "canned goods"
         ],
         "xaxis": "x2",
         "y": [
          0.0446860866652287
         ],
         "yaxis": "y2"
        },
        {
         "base": 0,
         "legendgroup": "dry goods pasta",
         "marker": {
          "color": "rgb(217,217,217)"
         },
         "name": "dry goods pasta: 38.48%",
         "showlegend": true,
         "type": "bar",
         "width": 0.8,
         "x": [
          "dry goods pasta"
         ],
         "xaxis": "x",
         "y": [
          0.384826341584246
         ],
         "yaxis": "y"
        },
        {
         "base": [
          -0.03919902735865872
         ],
         "legendgroup": "dry goods pasta",
         "marker": {
          "color": "rgb(217,217,217)"
         },
         "name": "Orders: 3.92%",
         "showlegend": true,
         "type": "bar",
         "width": 0.8,
         "x": [
          "dry goods pasta"
         ],
         "xaxis": "x2",
         "y": [
          0.03919902735865872
         ],
         "yaxis": "y2"
        },
        {
         "base": 0,
         "legendgroup": "pets",
         "marker": {
          "color": "rgb(217,217,217)"
         },
         "name": "pets: 38.22%",
         "showlegend": true,
         "type": "bar",
         "width": 0.8,
         "x": [
          "pets"
         ],
         "xaxis": "x",
         "y": [
          0.3821599574392623
         ],
         "yaxis": "y"
        },
        {
         "base": [
          -0.003910955878120217
         ],
         "legendgroup": "pets",
         "marker": {
          "color": "rgb(217,217,217)"
         },
         "name": "Orders: 0.391%",
         "showlegend": true,
         "type": "bar",
         "width": 0.8,
         "x": [
          "pets"
         ],
         "xaxis": "x2",
         "y": [
          0.003910955878120217
         ],
         "yaxis": "y2"
        },
        {
         "base": 0,
         "legendgroup": "household",
         "marker": {
          "color": "rgb(217,217,217)"
         },
         "name": "household: 37.35%",
         "showlegend": true,
         "type": "bar",
         "width": 0.8,
         "x": [
          "household"
         ],
         "xaxis": "x",
         "y": [
          0.3735067190683486
         ],
         "yaxis": "y"
        },
        {
         "base": [
          -0.031147202165000863
         ],
         "legendgroup": "household",
         "marker": {
          "color": "rgb(217,217,217)"
         },
         "name": "Orders: 3.115%",
         "showlegend": true,
         "type": "bar",
         "width": 0.8,
         "x": [
          "household"
         ],
         "xaxis": "x2",
         "y": [
          0.031147202165000863
         ],
         "yaxis": "y2"
        },
        {
         "base": 0,
         "legendgroup": "frozen",
         "marker": {
          "color": "rgb(217,217,217)"
         },
         "name": "frozen: 36.59%",
         "showlegend": true,
         "type": "bar",
         "width": 0.8,
         "x": [
          "frozen"
         ],
         "xaxis": "x",
         "y": [
          0.36586698653871785
         ],
         "yaxis": "y"
        },
        {
         "base": [
          -0.07805613216936333
         ],
         "legendgroup": "frozen",
         "marker": {
          "color": "rgb(217,217,217)"
         },
         "name": "Orders: 7.806%",
         "showlegend": true,
         "type": "bar",
         "width": 0.8,
         "x": [
          "frozen"
         ],
         "xaxis": "x2",
         "y": [
          0.07805613216936333
         ],
         "yaxis": "y2"
        },
        {
         "base": 0,
         "legendgroup": "personal care",
         "marker": {
          "color": "rgb(217,217,217)"
         },
         "name": "personal care: 34.39%",
         "showlegend": true,
         "type": "bar",
         "width": 0.8,
         "x": [
          "personal care"
         ],
         "xaxis": "x",
         "y": [
          0.3438625794196633
         ],
         "yaxis": "y"
        },
        {
         "base": [
          -0.02117700421750713
         ],
         "legendgroup": "personal care",
         "marker": {
          "color": "rgb(217,217,217)"
         },
         "name": "Orders: 2.118%",
         "showlegend": true,
         "type": "bar",
         "width": 0.8,
         "x": [
          "personal care"
         ],
         "xaxis": "x2",
         "y": [
          0.02117700421750713
         ],
         "yaxis": "y2"
        }
       ],
       "layout": {
        "height": 700,
        "legend": {
         "title": {
          "text": "<b>Counties</b>"
         }
        },
        "plot_bgcolor": "white",
        "shapes": [
         {
          "line": {
           "color": "grey",
           "dash": "solid"
          },
          "opacity": 0.3,
          "type": "line",
          "x0": 0,
          "x1": 1,
          "xref": "x domain",
          "y0": 0,
          "y1": 0,
          "yref": "y"
         },
         {
          "line": {
           "color": "grey",
           "dash": "solid"
          },
          "opacity": 0.3,
          "type": "line",
          "x0": 0,
          "x1": 1,
          "xref": "x2 domain",
          "y0": 0,
          "y1": 0,
          "yref": "y2"
         },
         {
          "line": {
           "color": "black",
           "dash": "solid"
          },
          "opacity": 0.8,
          "type": "line",
          "x0": -1,
          "x1": -1,
          "xref": "x2",
          "y0": 0,
          "y1": 1,
          "yref": "y2 domain"
         },
         {
          "line": {
           "color": "black",
           "dash": "solid"
          },
          "opacity": 0.8,
          "type": "line",
          "x0": -1,
          "x1": -1,
          "xref": "x",
          "y0": 0,
          "y1": 1,
          "yref": "y domain"
         },
         {
          "line": {
           "color": "black",
           "dash": "solid"
          },
          "opacity": 0.8,
          "type": "line",
          "x0": 0,
          "x1": 1,
          "xref": "x2 domain",
          "y0": -0.18,
          "y1": -0.18,
          "yref": "y2"
         }
        ],
        "template": {
         "data": {
          "bar": [
           {
            "error_x": {
             "color": "#2a3f5f"
            },
            "error_y": {
             "color": "#2a3f5f"
            },
            "marker": {
             "line": {
              "color": "#E5ECF6",
              "width": 0.5
             },
             "pattern": {
              "fillmode": "overlay",
              "size": 10,
              "solidity": 0.2
             }
            },
            "type": "bar"
           }
          ],
          "barpolar": [
           {
            "marker": {
             "line": {
              "color": "#E5ECF6",
              "width": 0.5
             },
             "pattern": {
              "fillmode": "overlay",
              "size": 10,
              "solidity": 0.2
             }
            },
            "type": "barpolar"
           }
          ],
          "carpet": [
           {
            "aaxis": {
             "endlinecolor": "#2a3f5f",
             "gridcolor": "white",
             "linecolor": "white",
             "minorgridcolor": "white",
             "startlinecolor": "#2a3f5f"
            },
            "baxis": {
             "endlinecolor": "#2a3f5f",
             "gridcolor": "white",
             "linecolor": "white",
             "minorgridcolor": "white",
             "startlinecolor": "#2a3f5f"
            },
            "type": "carpet"
           }
          ],
          "choropleth": [
           {
            "colorbar": {
             "outlinewidth": 0,
             "ticks": ""
            },
            "type": "choropleth"
           }
          ],
          "contour": [
           {
            "colorbar": {
             "outlinewidth": 0,
             "ticks": ""
            },
            "colorscale": [
             [
              0,
              "#0d0887"
             ],
             [
              0.1111111111111111,
              "#46039f"
             ],
             [
              0.2222222222222222,
              "#7201a8"
             ],
             [
              0.3333333333333333,
              "#9c179e"
             ],
             [
              0.4444444444444444,
              "#bd3786"
             ],
             [
              0.5555555555555556,
              "#d8576b"
             ],
             [
              0.6666666666666666,
              "#ed7953"
             ],
             [
              0.7777777777777778,
              "#fb9f3a"
             ],
             [
              0.8888888888888888,
              "#fdca26"
             ],
             [
              1,
              "#f0f921"
             ]
            ],
            "type": "contour"
           }
          ],
          "contourcarpet": [
           {
            "colorbar": {
             "outlinewidth": 0,
             "ticks": ""
            },
            "type": "contourcarpet"
           }
          ],
          "heatmap": [
           {
            "colorbar": {
             "outlinewidth": 0,
             "ticks": ""
            },
            "colorscale": [
             [
              0,
              "#0d0887"
             ],
             [
              0.1111111111111111,
              "#46039f"
             ],
             [
              0.2222222222222222,
              "#7201a8"
             ],
             [
              0.3333333333333333,
              "#9c179e"
             ],
             [
              0.4444444444444444,
              "#bd3786"
             ],
             [
              0.5555555555555556,
              "#d8576b"
             ],
             [
              0.6666666666666666,
              "#ed7953"
             ],
             [
              0.7777777777777778,
              "#fb9f3a"
             ],
             [
              0.8888888888888888,
              "#fdca26"
             ],
             [
              1,
              "#f0f921"
             ]
            ],
            "type": "heatmap"
           }
          ],
          "heatmapgl": [
           {
            "colorbar": {
             "outlinewidth": 0,
             "ticks": ""
            },
            "colorscale": [
             [
              0,
              "#0d0887"
             ],
             [
              0.1111111111111111,
              "#46039f"
             ],
             [
              0.2222222222222222,
              "#7201a8"
             ],
             [
              0.3333333333333333,
              "#9c179e"
             ],
             [
              0.4444444444444444,
              "#bd3786"
             ],
             [
              0.5555555555555556,
              "#d8576b"
             ],
             [
              0.6666666666666666,
              "#ed7953"
             ],
             [
              0.7777777777777778,
              "#fb9f3a"
             ],
             [
              0.8888888888888888,
              "#fdca26"
             ],
             [
              1,
              "#f0f921"
             ]
            ],
            "type": "heatmapgl"
           }
          ],
          "histogram": [
           {
            "marker": {
             "pattern": {
              "fillmode": "overlay",
              "size": 10,
              "solidity": 0.2
             }
            },
            "type": "histogram"
           }
          ],
          "histogram2d": [
           {
            "colorbar": {
             "outlinewidth": 0,
             "ticks": ""
            },
            "colorscale": [
             [
              0,
              "#0d0887"
             ],
             [
              0.1111111111111111,
              "#46039f"
             ],
             [
              0.2222222222222222,
              "#7201a8"
             ],
             [
              0.3333333333333333,
              "#9c179e"
             ],
             [
              0.4444444444444444,
              "#bd3786"
             ],
             [
              0.5555555555555556,
              "#d8576b"
             ],
             [
              0.6666666666666666,
              "#ed7953"
             ],
             [
              0.7777777777777778,
              "#fb9f3a"
             ],
             [
              0.8888888888888888,
              "#fdca26"
             ],
             [
              1,
              "#f0f921"
             ]
            ],
            "type": "histogram2d"
           }
          ],
          "histogram2dcontour": [
           {
            "colorbar": {
             "outlinewidth": 0,
             "ticks": ""
            },
            "colorscale": [
             [
              0,
              "#0d0887"
             ],
             [
              0.1111111111111111,
              "#46039f"
             ],
             [
              0.2222222222222222,
              "#7201a8"
             ],
             [
              0.3333333333333333,
              "#9c179e"
             ],
             [
              0.4444444444444444,
              "#bd3786"
             ],
             [
              0.5555555555555556,
              "#d8576b"
             ],
             [
              0.6666666666666666,
              "#ed7953"
             ],
             [
              0.7777777777777778,
              "#fb9f3a"
             ],
             [
              0.8888888888888888,
              "#fdca26"
             ],
             [
              1,
              "#f0f921"
             ]
            ],
            "type": "histogram2dcontour"
           }
          ],
          "mesh3d": [
           {
            "colorbar": {
             "outlinewidth": 0,
             "ticks": ""
            },
            "type": "mesh3d"
           }
          ],
          "parcoords": [
           {
            "line": {
             "colorbar": {
              "outlinewidth": 0,
              "ticks": ""
             }
            },
            "type": "parcoords"
           }
          ],
          "pie": [
           {
            "automargin": true,
            "type": "pie"
           }
          ],
          "scatter": [
           {
            "fillpattern": {
             "fillmode": "overlay",
             "size": 10,
             "solidity": 0.2
            },
            "type": "scatter"
           }
          ],
          "scatter3d": [
           {
            "line": {
             "colorbar": {
              "outlinewidth": 0,
              "ticks": ""
             }
            },
            "marker": {
             "colorbar": {
              "outlinewidth": 0,
              "ticks": ""
             }
            },
            "type": "scatter3d"
           }
          ],
          "scattercarpet": [
           {
            "marker": {
             "colorbar": {
              "outlinewidth": 0,
              "ticks": ""
             }
            },
            "type": "scattercarpet"
           }
          ],
          "scattergeo": [
           {
            "marker": {
             "colorbar": {
              "outlinewidth": 0,
              "ticks": ""
             }
            },
            "type": "scattergeo"
           }
          ],
          "scattergl": [
           {
            "marker": {
             "colorbar": {
              "outlinewidth": 0,
              "ticks": ""
             }
            },
            "type": "scattergl"
           }
          ],
          "scattermapbox": [
           {
            "marker": {
             "colorbar": {
              "outlinewidth": 0,
              "ticks": ""
             }
            },
            "type": "scattermapbox"
           }
          ],
          "scatterpolar": [
           {
            "marker": {
             "colorbar": {
              "outlinewidth": 0,
              "ticks": ""
             }
            },
            "type": "scatterpolar"
           }
          ],
          "scatterpolargl": [
           {
            "marker": {
             "colorbar": {
              "outlinewidth": 0,
              "ticks": ""
             }
            },
            "type": "scatterpolargl"
           }
          ],
          "scatterternary": [
           {
            "marker": {
             "colorbar": {
              "outlinewidth": 0,
              "ticks": ""
             }
            },
            "type": "scatterternary"
           }
          ],
          "surface": [
           {
            "colorbar": {
             "outlinewidth": 0,
             "ticks": ""
            },
            "colorscale": [
             [
              0,
              "#0d0887"
             ],
             [
              0.1111111111111111,
              "#46039f"
             ],
             [
              0.2222222222222222,
              "#7201a8"
             ],
             [
              0.3333333333333333,
              "#9c179e"
             ],
             [
              0.4444444444444444,
              "#bd3786"
             ],
             [
              0.5555555555555556,
              "#d8576b"
             ],
             [
              0.6666666666666666,
              "#ed7953"
             ],
             [
              0.7777777777777778,
              "#fb9f3a"
             ],
             [
              0.8888888888888888,
              "#fdca26"
             ],
             [
              1,
              "#f0f921"
             ]
            ],
            "type": "surface"
           }
          ],
          "table": [
           {
            "cells": {
             "fill": {
              "color": "#EBF0F8"
             },
             "line": {
              "color": "white"
             }
            },
            "header": {
             "fill": {
              "color": "#C8D4E3"
             },
             "line": {
              "color": "white"
             }
            },
            "type": "table"
           }
          ]
         },
         "layout": {
          "annotationdefaults": {
           "arrowcolor": "#2a3f5f",
           "arrowhead": 0,
           "arrowwidth": 1
          },
          "autotypenumbers": "strict",
          "coloraxis": {
           "colorbar": {
            "outlinewidth": 0,
            "ticks": ""
           }
          },
          "colorscale": {
           "diverging": [
            [
             0,
             "#8e0152"
            ],
            [
             0.1,
             "#c51b7d"
            ],
            [
             0.2,
             "#de77ae"
            ],
            [
             0.3,
             "#f1b6da"
            ],
            [
             0.4,
             "#fde0ef"
            ],
            [
             0.5,
             "#f7f7f7"
            ],
            [
             0.6,
             "#e6f5d0"
            ],
            [
             0.7,
             "#b8e186"
            ],
            [
             0.8,
             "#7fbc41"
            ],
            [
             0.9,
             "#4d9221"
            ],
            [
             1,
             "#276419"
            ]
           ],
           "sequential": [
            [
             0,
             "#0d0887"
            ],
            [
             0.1111111111111111,
             "#46039f"
            ],
            [
             0.2222222222222222,
             "#7201a8"
            ],
            [
             0.3333333333333333,
             "#9c179e"
            ],
            [
             0.4444444444444444,
             "#bd3786"
            ],
            [
             0.5555555555555556,
             "#d8576b"
            ],
            [
             0.6666666666666666,
             "#ed7953"
            ],
            [
             0.7777777777777778,
             "#fb9f3a"
            ],
            [
             0.8888888888888888,
             "#fdca26"
            ],
            [
             1,
             "#f0f921"
            ]
           ],
           "sequentialminus": [
            [
             0,
             "#0d0887"
            ],
            [
             0.1111111111111111,
             "#46039f"
            ],
            [
             0.2222222222222222,
             "#7201a8"
            ],
            [
             0.3333333333333333,
             "#9c179e"
            ],
            [
             0.4444444444444444,
             "#bd3786"
            ],
            [
             0.5555555555555556,
             "#d8576b"
            ],
            [
             0.6666666666666666,
             "#ed7953"
            ],
            [
             0.7777777777777778,
             "#fb9f3a"
            ],
            [
             0.8888888888888888,
             "#fdca26"
            ],
            [
             1,
             "#f0f921"
            ]
           ]
          },
          "colorway": [
           "#636efa",
           "#EF553B",
           "#00cc96",
           "#ab63fa",
           "#FFA15A",
           "#19d3f3",
           "#FF6692",
           "#B6E880",
           "#FF97FF",
           "#FECB52"
          ],
          "font": {
           "color": "#2a3f5f"
          },
          "geo": {
           "bgcolor": "white",
           "lakecolor": "white",
           "landcolor": "#E5ECF6",
           "showlakes": true,
           "showland": true,
           "subunitcolor": "white"
          },
          "hoverlabel": {
           "align": "left"
          },
          "hovermode": "closest",
          "mapbox": {
           "style": "light"
          },
          "paper_bgcolor": "white",
          "plot_bgcolor": "#E5ECF6",
          "polar": {
           "angularaxis": {
            "gridcolor": "white",
            "linecolor": "white",
            "ticks": ""
           },
           "bgcolor": "#E5ECF6",
           "radialaxis": {
            "gridcolor": "white",
            "linecolor": "white",
            "ticks": ""
           }
          },
          "scene": {
           "xaxis": {
            "backgroundcolor": "#E5ECF6",
            "gridcolor": "white",
            "gridwidth": 2,
            "linecolor": "white",
            "showbackground": true,
            "ticks": "",
            "zerolinecolor": "white"
           },
           "yaxis": {
            "backgroundcolor": "#E5ECF6",
            "gridcolor": "white",
            "gridwidth": 2,
            "linecolor": "white",
            "showbackground": true,
            "ticks": "",
            "zerolinecolor": "white"
           },
           "zaxis": {
            "backgroundcolor": "#E5ECF6",
            "gridcolor": "white",
            "gridwidth": 2,
            "linecolor": "white",
            "showbackground": true,
            "ticks": "",
            "zerolinecolor": "white"
           }
          },
          "shapedefaults": {
           "line": {
            "color": "#2a3f5f"
           }
          },
          "ternary": {
           "aaxis": {
            "gridcolor": "white",
            "linecolor": "white",
            "ticks": ""
           },
           "baxis": {
            "gridcolor": "white",
            "linecolor": "white",
            "ticks": ""
           },
           "bgcolor": "#E5ECF6",
           "caxis": {
            "gridcolor": "white",
            "linecolor": "white",
            "ticks": ""
           }
          },
          "title": {
           "x": 0.05
          },
          "xaxis": {
           "automargin": true,
           "gridcolor": "white",
           "linecolor": "white",
           "ticks": "",
           "title": {
            "standoff": 15
           },
           "zerolinecolor": "white",
           "zerolinewidth": 2
          },
          "yaxis": {
           "automargin": true,
           "gridcolor": "white",
           "linecolor": "white",
           "ticks": "",
           "title": {
            "standoff": 15
           },
           "zerolinecolor": "white",
           "zerolinewidth": 2
          }
         }
        },
        "title": {
         "font": {
          "size": 20
         },
         "text": "<b>Tippwahrscheinlichkeit der Departments</b>",
         "x": 0.475,
         "xanchor": "center",
         "y": 0.935,
         "yanchor": "top"
        },
        "xaxis": {
         "anchor": "y",
         "domain": [
          0,
          1
         ],
         "linecolor": "black",
         "matches": "x2",
         "showline": false,
         "showticklabels": false
        },
        "xaxis2": {
         "anchor": "y2",
         "domain": [
          0,
          1
         ],
         "ticks": "outside",
         "title": {
          "text": "<b>Counties</b>"
         }
        },
        "yaxis": {
         "anchor": "x",
         "domain": [
          0.5,
          1
         ],
         "gridcolor": "grey",
         "linecolor": "black",
         "showgrid": true,
         "showline": false,
         "ticks": "outside",
         "title": {
          "text": "<b>Tipp Wshk.</b>"
         }
        },
        "yaxis2": {
         "anchor": "x2",
         "domain": [
          0,
          0.5
         ],
         "gridcolor": "grey",
         "showgrid": true,
         "ticks": "outside",
         "title": {
          "text": "<b>Order Anteil</b>"
         }
        }
       }
      }
     },
     "metadata": {},
     "output_type": "display_data"
    }
   ],
   "source": [
    "fig1 = make_subplots(cols= 1, rows= 2, shared_xaxes= True, shared_yaxes= False, vertical_spacing= 0)\n",
    "\n",
    "for department in df_dep2.department:\n",
    "\n",
    " if df_dep2[df_dep2.department == department].tip_norm.values >= 0.5:\n",
    "  color = px.colors.qualitative.G10[4]\n",
    "  text= df_dep2.loc[df_dep2.department == department].tip_norm.values.round(3)\n",
    "\n",
    "  fig1.add_trace(\n",
    "   go.Bar(\n",
    "    x= df_dep2.loc[df_dep2.department == department].department,\n",
    "    y= df_dep2.loc[df_dep2.department == department].tip_norm,\n",
    "    name= f\"{department}: {(df_dep2.loc[df_dep2.department == department].tip_norm.values[0] * 100).round(2)}%\",\n",
    "    showlegend= True,\n",
    "    marker= dict(color= color),\n",
    "    width= 0.8,\n",
    "    text= text,\n",
    "    base= 0,\n",
    "    legendgroup= f\"{department}\" \n",
    "   ),\n",
    "   col= 1,\n",
    "   row= 1\n",
    "  )\n",
    "\n",
    "  fig1.add_trace(\n",
    "   go.Bar(\n",
    "    x= df_dep2.loc[df_dep2.department == department].department,\n",
    "    y= df_dep2.loc[df_dep2.department == department].orders_norm,\n",
    "    name= f\"Orders: {(df_dep2.loc[df_dep2.department == department].orders_norm.values[0] * 100).round(3)}%\",\n",
    "    base = -df_dep2.loc[df_dep2.department == department].orders_norm,\n",
    "    showlegend= True,\n",
    "    marker= dict(color= color),\n",
    "    width= 0.8,\n",
    "    legendgroup= f\"{department}\"\n",
    "   ),\n",
    "   col= 1,\n",
    "   row= 2\n",
    "  )\n",
    "\n",
    " elif 0.4 < df_dep2.loc[df_dep2.department == department].tip_norm.values < 0.5:\n",
    "  color= px.colors.sequential.Greys[3]\n",
    "\n",
    "  fig1.add_trace(\n",
    "   go.Bar(\n",
    "    x= df_dep2.loc[df_dep2.department == department].department,\n",
    "    y= df_dep2.loc[df_dep2.department == department].tip_norm,\n",
    "    name= f\"{department}: {(df_dep2.loc[df_dep2.department == department].tip_norm.values[0] * 100).round(2)}%\",\n",
    "    showlegend= True,\n",
    "    marker= dict(color= color),\n",
    "    width= 0.8,\n",
    "    base= 0,\n",
    "    legendgroup= f\"{department}\"\n",
    "   ),\n",
    "   col= 1,\n",
    "   row= 1\n",
    "  )\n",
    "\n",
    "  fig1.add_trace(\n",
    "   go.Bar(\n",
    "    x= df_dep2.loc[df_dep2.department == department].department,\n",
    "    y= df_dep2.loc[df_dep2.department == department].orders_norm,\n",
    "    name= f\"Orders: {(df_dep2.loc[df_dep2.department == department].orders_norm.values[0] * 100).round(3)}%\",\n",
    "    base = -df_dep2.loc[df_dep2.department == department].orders_norm,\n",
    "    showlegend= True,\n",
    "    marker= dict(color= color),\n",
    "    width= 0.8,\n",
    "    legendgroup= f\"{department}\"\n",
    "   ),\n",
    "   col= 1,\n",
    "   row= 2\n",
    "  )\n",
    "\n",
    " elif 0.3 < df_dep2.loc[df_dep2.department == department].tip_norm.values < 0.4:\n",
    "  color= px.colors.sequential.Greys[2]\n",
    "\n",
    "  fig1.add_trace(\n",
    "   go.Bar(\n",
    "    x= df_dep2.loc[df_dep2.department == department].department,\n",
    "    y= df_dep2.loc[df_dep2.department == department].tip_norm,\n",
    "    name= f\"{department}: {(df_dep2.loc[df_dep2.department == department].tip_norm.values[0] * 100).round(2)}%\",\n",
    "    showlegend= True,\n",
    "    marker= dict(color= color),\n",
    "    width= 0.8,\n",
    "    base= 0,\n",
    "    legendgroup= f\"{department}\"\n",
    "   ),\n",
    "   col= 1,\n",
    "   row= 1\n",
    "  )\n",
    "\n",
    "  fig1.add_trace(\n",
    "   go.Bar(\n",
    "    x= df_dep2.loc[df_dep2.department == department].department,\n",
    "    y= df_dep2.loc[df_dep2.department == department].orders_norm,\n",
    "    name= f\"Orders: {(df_dep2.loc[df_dep2.department == department].orders_norm.values[0] * 100).round(3)}%\",\n",
    "    base = -df_dep2.loc[df_dep2.department == department].orders_norm,\n",
    "    showlegend= True,\n",
    "    marker= dict(color= color),\n",
    "    width= 0.8,\n",
    "    legendgroup= f\"{department}\"\n",
    "   ),\n",
    "   col= 1,\n",
    "   row= 2\n",
    "  )\n",
    "\n",
    "fig1.add_hline(\n",
    " y= 0,\n",
    " opacity= 0.3,\n",
    " line_dash= \"solid\",\n",
    " line_color= \"grey\",\n",
    " col= 1,\n",
    " row= 1\n",
    ")\n",
    "\n",
    "fig1.add_hline(\n",
    " y= 0,\n",
    " opacity= 0.3,\n",
    " line_dash= \"solid\",\n",
    " line_color= \"grey\",\n",
    " col= 1,\n",
    " row= 2\n",
    ")\n",
    "\n",
    "fig1.add_vline(\n",
    " x= -1,\n",
    " opacity= 0.8,\n",
    " line_dash= \"solid\",\n",
    " line_color= \"black\",\n",
    " col= 1,\n",
    " row= 2\n",
    ")\n",
    "\n",
    "fig1.add_vline(\n",
    " x= -1,\n",
    " opacity= 0.8,\n",
    " line_dash= \"solid\",\n",
    " line_color= \"black\",\n",
    " col= 1,\n",
    " row= 1\n",
    ")\n",
    "\n",
    "fig1.add_hline(\n",
    " y= -0.18,\n",
    " opacity= 0.8,\n",
    " line_dash= \"solid\",\n",
    " line_color= \"black\",\n",
    " col= 1,\n",
    " row= 2\n",
    ")\n",
    "\n",
    "fig1.update_annotations(opacity= 0.8)\n",
    "fig1.update_layout(title= dict(text= \"<b>Tippwahrscheinlichkeit der Departments</b>\", font_size= 20, xanchor= \"center\", yanchor= \"top\", y=0.935, x=0.475), legend_title_text = \"<b>Counties</b>\", height= 700)\n",
    "fig1.update_xaxes(title_text=\"<b>Counties</b>\", ticks= \"outside\", col= 1, row= 2)\n",
    "fig1.update_xaxes(showline= False, col= 1, row= 1)\n",
    "fig1.update_yaxes(title_text=\"<b>Tipp Wshk.</b>\", ticks= \"outside\", showgrid= True, gridcolor= \"grey\", col= 1, row= 1, showline= False)\n",
    "fig1.update_yaxes(title_text=\"<b>Order Anteil</b>\", ticks= \"outside\", showgrid= True, gridcolor= \"grey\", col= 1, row= 2)\n",
    "fig1.update_layout(plot_bgcolor= \"white\", xaxis= dict(linecolor= \"black\"), yaxis= dict(linecolor= \"black\"))\n",
    "fig1.show()"
   ]
  }
 ],
 "metadata": {
  "kernelspec": {
   "display_name": "Python 3",
   "language": "python",
   "name": "python3"
  },
  "language_info": {
   "codemirror_mode": {
    "name": "ipython",
    "version": 3
   },
   "file_extension": ".py",
   "mimetype": "text/x-python",
   "name": "python",
   "nbconvert_exporter": "python",
   "pygments_lexer": "ipython3",
   "version": "3.9.7"
  },
  "orig_nbformat": 4,
  "vscode": {
   "interpreter": {
    "hash": "aee8b7b246df8f9039afb4144a1f6fd8d2ca17a180786b69acc140d282b71a49"
   }
  }
 },
 "nbformat": 4,
 "nbformat_minor": 2
}
