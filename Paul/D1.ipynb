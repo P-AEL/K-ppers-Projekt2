{
 "cells": [
  {
   "cell_type": "code",
   "execution_count": 1,
   "metadata": {},
   "outputs": [],
   "source": [
    "import numpy as np\n",
    "import matplotlib.pyplot as plt\n",
    "import pandas as pd\n",
    "import os \n",
    "import random\n",
    "import plotly.express as px"
   ]
  },
  {
   "cell_type": "code",
   "execution_count": 2,
   "metadata": {},
   "outputs": [],
   "source": [
    "df = pd.read_parquet(\"Shopping Carts.parquet\")\n",
    "df.reset_index(inplace=True)"
   ]
  },
  {
   "cell_type": "markdown",
   "metadata": {},
   "source": [
    "### Prüfen Sie, ob es beim Produkt 13176 auffällige Muster beim Wiederbestellverhalten gibt. "
   ]
  },
  {
   "cell_type": "code",
   "execution_count": 3,
   "metadata": {},
   "outputs": [],
   "source": [
    "df.groupby(\"order_id\").agg(order_size=(\"add_to_cart_order\",\"max\")).reset_index()\n",
    "df = pd.merge(df,df.groupby(\"order_id\").agg(order_size=(\"add_to_cart_order\",\"max\")).reset_index())"
   ]
  },
  {
   "cell_type": "code",
   "execution_count": 4,
   "metadata": {},
   "outputs": [],
   "source": [
    "df_auf1 = df[df.product_id == 13176]"
   ]
  },
  {
   "cell_type": "code",
   "execution_count": 5,
   "metadata": {},
   "outputs": [],
   "source": [
    "liste = df_auf1.groupby(\"user_id\").agg(order_id=(\"order_id\",\"min\")).reset_index().order_id.to_list()\n",
    "df_auf1.loc[df_auf1.order_id.isin(liste),\"reordered\"] = 0"
   ]
  },
  {
   "cell_type": "code",
   "execution_count": 6,
   "metadata": {},
   "outputs": [],
   "source": [
    "user = df_auf1.user_id.unique().tolist()\n",
    "banana_order = df_auf1.order_id.unique().tolist()\n",
    "df_user = df[df.user_id.isin(user)]"
   ]
  },
  {
   "cell_type": "code",
   "execution_count": 7,
   "metadata": {},
   "outputs": [
    {
     "name": "stderr",
     "output_type": "stream",
     "text": [
      "C:\\Users\\paulh\\AppData\\Local\\Temp\\ipykernel_13860\\93905981.py:1: SettingWithCopyWarning: \n",
      "A value is trying to be set on a copy of a slice from a DataFrame.\n",
      "Try using .loc[row_indexer,col_indexer] = value instead\n",
      "\n",
      "See the caveats in the documentation: https://pandas.pydata.org/pandas-docs/stable/user_guide/indexing.html#returning-a-view-versus-a-copy\n",
      "  df_user[\"Banana\"] = False\n"
     ]
    }
   ],
   "source": [
    "df_user[\"Banana\"] = False\n",
    "df_user.loc[df_user.order_id.isin(banana_order),\"Banana\"] = True"
   ]
  },
  {
   "cell_type": "code",
   "execution_count": 8,
   "metadata": {},
   "outputs": [],
   "source": [
    "df_idk = df_user.groupby([\"user_id\",\"order_id\"]).agg(Banana=(\"Banana\",\"max\"),days_since_prior_order = (\"days_since_prior_order\",\"mean\")).reset_index()\n",
    "df_idk[\"Summe\"] = df_idk.days_since_prior_order"
   ]
  },
  {
   "cell_type": "code",
   "execution_count": 9,
   "metadata": {},
   "outputs": [],
   "source": [
    "df_idk[\"Cum\"] = df_idk.Summe.cumsum()"
   ]
  },
  {
   "cell_type": "code",
   "execution_count": 10,
   "metadata": {},
   "outputs": [],
   "source": [
    "df_idk2 = df_idk.loc[df_idk.Banana == True]"
   ]
  },
  {
   "cell_type": "code",
   "execution_count": 11,
   "metadata": {},
   "outputs": [
    {
     "name": "stderr",
     "output_type": "stream",
     "text": [
      "C:\\Users\\paulh\\AppData\\Local\\Temp\\ipykernel_13860\\1643783414.py:1: SettingWithCopyWarning: \n",
      "A value is trying to be set on a copy of a slice from a DataFrame.\n",
      "Try using .loc[row_indexer,col_indexer] = value instead\n",
      "\n",
      "See the caveats in the documentation: https://pandas.pydata.org/pandas-docs/stable/user_guide/indexing.html#returning-a-view-versus-a-copy\n",
      "  df_idk2[\"Cumsum\"] = df_idk2[\"Cum\"].shift()\n"
     ]
    }
   ],
   "source": [
    "df_idk2[\"Cumsum\"] = df_idk2[\"Cum\"].shift()"
   ]
  },
  {
   "cell_type": "code",
   "execution_count": 12,
   "metadata": {},
   "outputs": [
    {
     "name": "stderr",
     "output_type": "stream",
     "text": [
      "C:\\Users\\paulh\\AppData\\Local\\Temp\\ipykernel_13860\\3771161101.py:1: SettingWithCopyWarning: \n",
      "A value is trying to be set on a copy of a slice from a DataFrame.\n",
      "Try using .loc[row_indexer,col_indexer] = value instead\n",
      "\n",
      "See the caveats in the documentation: https://pandas.pydata.org/pandas-docs/stable/user_guide/indexing.html#returning-a-view-versus-a-copy\n",
      "  df_idk2[\"Days\"] = df_idk2.Cum - df_idk2.Cumsum\n"
     ]
    }
   ],
   "source": [
    "df_idk2[\"Days\"] = df_idk2.Cum - df_idk2.Cumsum"
   ]
  },
  {
   "cell_type": "code",
   "execution_count": 14,
   "metadata": {},
   "outputs": [
    {
     "name": "stderr",
     "output_type": "stream",
     "text": [
      "C:\\Users\\paulh\\AppData\\Local\\Temp\\ipykernel_13860\\25003005.py:1: SettingWithCopyWarning: \n",
      "A value is trying to be set on a copy of a slice from a DataFrame.\n",
      "Try using .loc[row_indexer,col_indexer] = value instead\n",
      "\n",
      "See the caveats in the documentation: https://pandas.pydata.org/pandas-docs/stable/user_guide/indexing.html#returning-a-view-versus-a-copy\n",
      "  df_idk2[\"user2\"] = df_idk2.user_id.shift()\n"
     ]
    }
   ],
   "source": [
    "df_idk2[\"user2\"] = df_idk2.user_id.shift()"
   ]
  },
  {
   "cell_type": "code",
   "execution_count": 16,
   "metadata": {},
   "outputs": [],
   "source": [
    "df_idk2.loc[df_idk2.user_id != df_idk2.user2,\"Days\"] = None"
   ]
  },
  {
   "cell_type": "code",
   "execution_count": 17,
   "metadata": {},
   "outputs": [
    {
     "data": {
      "text/html": [
       "<div>\n",
       "<style scoped>\n",
       "    .dataframe tbody tr th:only-of-type {\n",
       "        vertical-align: middle;\n",
       "    }\n",
       "\n",
       "    .dataframe tbody tr th {\n",
       "        vertical-align: top;\n",
       "    }\n",
       "\n",
       "    .dataframe thead th {\n",
       "        text-align: right;\n",
       "    }\n",
       "</style>\n",
       "<table border=\"1\" class=\"dataframe\">\n",
       "  <thead>\n",
       "    <tr style=\"text-align: right;\">\n",
       "      <th></th>\n",
       "      <th>user_id</th>\n",
       "      <th>order_id</th>\n",
       "      <th>Banana</th>\n",
       "      <th>days_since_prior_order</th>\n",
       "      <th>Summe</th>\n",
       "      <th>Cum</th>\n",
       "      <th>Cumsum</th>\n",
       "      <th>Days</th>\n",
       "      <th>user2</th>\n",
       "    </tr>\n",
       "  </thead>\n",
       "  <tbody>\n",
       "    <tr>\n",
       "      <th>18</th>\n",
       "      <td>7</td>\n",
       "      <td>553865</td>\n",
       "      <td>True</td>\n",
       "      <td>2.0</td>\n",
       "      <td>2.0</td>\n",
       "      <td>199.0</td>\n",
       "      <td>NaN</td>\n",
       "      <td>NaN</td>\n",
       "      <td>NaN</td>\n",
       "    </tr>\n",
       "    <tr>\n",
       "      <th>21</th>\n",
       "      <td>40</td>\n",
       "      <td>74936</td>\n",
       "      <td>True</td>\n",
       "      <td>7.0</td>\n",
       "      <td>7.0</td>\n",
       "      <td>216.0</td>\n",
       "      <td>199.0</td>\n",
       "      <td>NaN</td>\n",
       "      <td>7.0</td>\n",
       "    </tr>\n",
       "    <tr>\n",
       "      <th>22</th>\n",
       "      <td>40</td>\n",
       "      <td>200867</td>\n",
       "      <td>True</td>\n",
       "      <td>20.0</td>\n",
       "      <td>20.0</td>\n",
       "      <td>236.0</td>\n",
       "      <td>216.0</td>\n",
       "      <td>20.0</td>\n",
       "      <td>40.0</td>\n",
       "    </tr>\n",
       "    <tr>\n",
       "      <th>23</th>\n",
       "      <td>40</td>\n",
       "      <td>203217</td>\n",
       "      <td>True</td>\n",
       "      <td>14.0</td>\n",
       "      <td>14.0</td>\n",
       "      <td>250.0</td>\n",
       "      <td>236.0</td>\n",
       "      <td>14.0</td>\n",
       "      <td>40.0</td>\n",
       "    </tr>\n",
       "    <tr>\n",
       "      <th>25</th>\n",
       "      <td>40</td>\n",
       "      <td>393331</td>\n",
       "      <td>True</td>\n",
       "      <td>21.0</td>\n",
       "      <td>21.0</td>\n",
       "      <td>283.0</td>\n",
       "      <td>250.0</td>\n",
       "      <td>33.0</td>\n",
       "      <td>40.0</td>\n",
       "    </tr>\n",
       "    <tr>\n",
       "      <th>...</th>\n",
       "      <td>...</td>\n",
       "      <td>...</td>\n",
       "      <td>...</td>\n",
       "      <td>...</td>\n",
       "      <td>...</td>\n",
       "      <td>...</td>\n",
       "      <td>...</td>\n",
       "      <td>...</td>\n",
       "      <td>...</td>\n",
       "    </tr>\n",
       "    <tr>\n",
       "      <th>261994</th>\n",
       "      <td>206162</td>\n",
       "      <td>34456</td>\n",
       "      <td>True</td>\n",
       "      <td>12.0</td>\n",
       "      <td>12.0</td>\n",
       "      <td>2378244.0</td>\n",
       "      <td>2378175.0</td>\n",
       "      <td>NaN</td>\n",
       "      <td>206153.0</td>\n",
       "    </tr>\n",
       "    <tr>\n",
       "      <th>262006</th>\n",
       "      <td>206162</td>\n",
       "      <td>424565</td>\n",
       "      <td>True</td>\n",
       "      <td>27.0</td>\n",
       "      <td>27.0</td>\n",
       "      <td>2378470.0</td>\n",
       "      <td>2378244.0</td>\n",
       "      <td>226.0</td>\n",
       "      <td>206162.0</td>\n",
       "    </tr>\n",
       "    <tr>\n",
       "      <th>262011</th>\n",
       "      <td>206168</td>\n",
       "      <td>109567</td>\n",
       "      <td>True</td>\n",
       "      <td>6.0</td>\n",
       "      <td>6.0</td>\n",
       "      <td>2378507.0</td>\n",
       "      <td>2378470.0</td>\n",
       "      <td>NaN</td>\n",
       "      <td>206162.0</td>\n",
       "    </tr>\n",
       "    <tr>\n",
       "      <th>262017</th>\n",
       "      <td>206168</td>\n",
       "      <td>465130</td>\n",
       "      <td>True</td>\n",
       "      <td>9.0</td>\n",
       "      <td>9.0</td>\n",
       "      <td>2378528.0</td>\n",
       "      <td>2378507.0</td>\n",
       "      <td>21.0</td>\n",
       "      <td>206168.0</td>\n",
       "    </tr>\n",
       "    <tr>\n",
       "      <th>262035</th>\n",
       "      <td>206183</td>\n",
       "      <td>603816</td>\n",
       "      <td>True</td>\n",
       "      <td>15.0</td>\n",
       "      <td>15.0</td>\n",
       "      <td>2378730.0</td>\n",
       "      <td>2378528.0</td>\n",
       "      <td>NaN</td>\n",
       "      <td>206168.0</td>\n",
       "    </tr>\n",
       "  </tbody>\n",
       "</table>\n",
       "<p>70283 rows × 9 columns</p>\n",
       "</div>"
      ],
      "text/plain": [
       "        user_id  order_id  Banana  days_since_prior_order  Summe        Cum  \\\n",
       "18            7    553865    True                     2.0    2.0      199.0   \n",
       "21           40     74936    True                     7.0    7.0      216.0   \n",
       "22           40    200867    True                    20.0   20.0      236.0   \n",
       "23           40    203217    True                    14.0   14.0      250.0   \n",
       "25           40    393331    True                    21.0   21.0      283.0   \n",
       "...         ...       ...     ...                     ...    ...        ...   \n",
       "261994   206162     34456    True                    12.0   12.0  2378244.0   \n",
       "262006   206162    424565    True                    27.0   27.0  2378470.0   \n",
       "262011   206168    109567    True                     6.0    6.0  2378507.0   \n",
       "262017   206168    465130    True                     9.0    9.0  2378528.0   \n",
       "262035   206183    603816    True                    15.0   15.0  2378730.0   \n",
       "\n",
       "           Cumsum   Days     user2  \n",
       "18            NaN    NaN       NaN  \n",
       "21          199.0    NaN       7.0  \n",
       "22          216.0   20.0      40.0  \n",
       "23          236.0   14.0      40.0  \n",
       "25          250.0   33.0      40.0  \n",
       "...           ...    ...       ...  \n",
       "261994  2378175.0    NaN  206153.0  \n",
       "262006  2378244.0  226.0  206162.0  \n",
       "262011  2378470.0    NaN  206162.0  \n",
       "262017  2378507.0   21.0  206168.0  \n",
       "262035  2378528.0    NaN  206168.0  \n",
       "\n",
       "[70283 rows x 9 columns]"
      ]
     },
     "execution_count": 17,
     "metadata": {},
     "output_type": "execute_result"
    }
   ],
   "source": [
    "df_idk2"
   ]
  }
 ],
 "metadata": {
  "kernelspec": {
   "display_name": "Python 3.10.9 64-bit (microsoft store)",
   "language": "python",
   "name": "python3"
  },
  "language_info": {
   "codemirror_mode": {
    "name": "ipython",
    "version": 3
   },
   "file_extension": ".py",
   "mimetype": "text/x-python",
   "name": "python",
   "nbconvert_exporter": "python",
   "pygments_lexer": "ipython3",
   "version": "3.10.9"
  },
  "orig_nbformat": 4,
  "vscode": {
   "interpreter": {
    "hash": "f057ee858b85cb61ebf4db329176c41c101b87ce182c0543c232437d49c5b088"
   }
  }
 },
 "nbformat": 4,
 "nbformat_minor": 2
}
