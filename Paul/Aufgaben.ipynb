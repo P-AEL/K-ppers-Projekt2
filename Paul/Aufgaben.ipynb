{
 "cells": [
  {
   "cell_type": "code",
   "execution_count": 1,
   "metadata": {},
   "outputs": [],
   "source": [
    "import numpy as np\n",
    "import matplotlib.pyplot as plt\n",
    "import pandas as pd\n",
    "import os \n",
    "import random\n",
    "import plotly.express as px"
   ]
  },
  {
   "cell_type": "code",
   "execution_count": 21,
   "metadata": {},
   "outputs": [],
   "source": [
    "df = pd.read_parquet(\"Shopping Carts.parquet\")\n",
    "df.reset_index(inplace=True)"
   ]
  },
  {
   "cell_type": "code",
   "execution_count": 22,
   "metadata": {},
   "outputs": [
    {
     "data": {
      "text/html": [
       "<div>\n",
       "<style scoped>\n",
       "    .dataframe tbody tr th:only-of-type {\n",
       "        vertical-align: middle;\n",
       "    }\n",
       "\n",
       "    .dataframe tbody tr th {\n",
       "        vertical-align: top;\n",
       "    }\n",
       "\n",
       "    .dataframe thead th {\n",
       "        text-align: right;\n",
       "    }\n",
       "</style>\n",
       "<table border=\"1\" class=\"dataframe\">\n",
       "  <thead>\n",
       "    <tr style=\"text-align: right;\">\n",
       "      <th></th>\n",
       "      <th>index</th>\n",
       "      <th>order_id</th>\n",
       "      <th>product_id</th>\n",
       "      <th>add_to_cart_order</th>\n",
       "      <th>reordered</th>\n",
       "      <th>user_id</th>\n",
       "      <th>order_number</th>\n",
       "      <th>order_dow</th>\n",
       "      <th>order_hour_of_day</th>\n",
       "      <th>days_since_prior_order</th>\n",
       "      <th>tip</th>\n",
       "      <th>product_name</th>\n",
       "      <th>aisle_id</th>\n",
       "      <th>department_id</th>\n",
       "      <th>department</th>\n",
       "      <th>aisle</th>\n",
       "      <th>county</th>\n",
       "    </tr>\n",
       "  </thead>\n",
       "  <tbody>\n",
       "    <tr>\n",
       "      <th>0</th>\n",
       "      <td>5006171</td>\n",
       "      <td>1</td>\n",
       "      <td>13176</td>\n",
       "      <td>6</td>\n",
       "      <td>0</td>\n",
       "      <td>112108</td>\n",
       "      <td>4</td>\n",
       "      <td>4</td>\n",
       "      <td>10</td>\n",
       "      <td>9.0</td>\n",
       "      <td>1</td>\n",
       "      <td>Bag of Organic Bananas</td>\n",
       "      <td>24</td>\n",
       "      <td>4</td>\n",
       "      <td>produce</td>\n",
       "      <td>fresh fruits</td>\n",
       "      <td>Inyo</td>\n",
       "    </tr>\n",
       "    <tr>\n",
       "      <th>1</th>\n",
       "      <td>5006176</td>\n",
       "      <td>1</td>\n",
       "      <td>11109</td>\n",
       "      <td>2</td>\n",
       "      <td>1</td>\n",
       "      <td>112108</td>\n",
       "      <td>4</td>\n",
       "      <td>4</td>\n",
       "      <td>10</td>\n",
       "      <td>9.0</td>\n",
       "      <td>1</td>\n",
       "      <td>Organic 4% Milk Fat Whole Milk Cottage Cheese</td>\n",
       "      <td>108</td>\n",
       "      <td>16</td>\n",
       "      <td>dairy eggs</td>\n",
       "      <td>other creams cheeses</td>\n",
       "      <td>Inyo</td>\n",
       "    </tr>\n",
       "    <tr>\n",
       "      <th>2</th>\n",
       "      <td>5006175</td>\n",
       "      <td>1</td>\n",
       "      <td>10246</td>\n",
       "      <td>3</td>\n",
       "      <td>0</td>\n",
       "      <td>112108</td>\n",
       "      <td>4</td>\n",
       "      <td>4</td>\n",
       "      <td>10</td>\n",
       "      <td>9.0</td>\n",
       "      <td>1</td>\n",
       "      <td>Organic Celery Hearts</td>\n",
       "      <td>83</td>\n",
       "      <td>4</td>\n",
       "      <td>produce</td>\n",
       "      <td>fresh vegetables</td>\n",
       "      <td>Inyo</td>\n",
       "    </tr>\n",
       "    <tr>\n",
       "      <th>3</th>\n",
       "      <td>5006174</td>\n",
       "      <td>1</td>\n",
       "      <td>22035</td>\n",
       "      <td>8</td>\n",
       "      <td>1</td>\n",
       "      <td>112108</td>\n",
       "      <td>4</td>\n",
       "      <td>4</td>\n",
       "      <td>10</td>\n",
       "      <td>9.0</td>\n",
       "      <td>1</td>\n",
       "      <td>Organic Whole String Cheese</td>\n",
       "      <td>21</td>\n",
       "      <td>16</td>\n",
       "      <td>dairy eggs</td>\n",
       "      <td>packaged cheese</td>\n",
       "      <td>Inyo</td>\n",
       "    </tr>\n",
       "    <tr>\n",
       "      <th>4</th>\n",
       "      <td>5006173</td>\n",
       "      <td>1</td>\n",
       "      <td>49683</td>\n",
       "      <td>4</td>\n",
       "      <td>0</td>\n",
       "      <td>112108</td>\n",
       "      <td>4</td>\n",
       "      <td>4</td>\n",
       "      <td>10</td>\n",
       "      <td>9.0</td>\n",
       "      <td>1</td>\n",
       "      <td>Cucumber Kirby</td>\n",
       "      <td>83</td>\n",
       "      <td>4</td>\n",
       "      <td>produce</td>\n",
       "      <td>fresh vegetables</td>\n",
       "      <td>Inyo</td>\n",
       "    </tr>\n",
       "    <tr>\n",
       "      <th>...</th>\n",
       "      <td>...</td>\n",
       "      <td>...</td>\n",
       "      <td>...</td>\n",
       "      <td>...</td>\n",
       "      <td>...</td>\n",
       "      <td>...</td>\n",
       "      <td>...</td>\n",
       "      <td>...</td>\n",
       "      <td>...</td>\n",
       "      <td>...</td>\n",
       "      <td>...</td>\n",
       "      <td>...</td>\n",
       "      <td>...</td>\n",
       "      <td>...</td>\n",
       "      <td>...</td>\n",
       "      <td>...</td>\n",
       "      <td>...</td>\n",
       "    </tr>\n",
       "    <tr>\n",
       "      <th>6132664</th>\n",
       "      <td>2493330</td>\n",
       "      <td>606914</td>\n",
       "      <td>28849</td>\n",
       "      <td>6</td>\n",
       "      <td>1</td>\n",
       "      <td>193225</td>\n",
       "      <td>18</td>\n",
       "      <td>5</td>\n",
       "      <td>13</td>\n",
       "      <td>4.0</td>\n",
       "      <td>1</td>\n",
       "      <td>No Salt Added Black Beans</td>\n",
       "      <td>59</td>\n",
       "      <td>15</td>\n",
       "      <td>canned goods</td>\n",
       "      <td>canned meals beans</td>\n",
       "      <td>Calaveras</td>\n",
       "    </tr>\n",
       "    <tr>\n",
       "      <th>6132665</th>\n",
       "      <td>3597250</td>\n",
       "      <td>606915</td>\n",
       "      <td>27966</td>\n",
       "      <td>1</td>\n",
       "      <td>0</td>\n",
       "      <td>107102</td>\n",
       "      <td>1</td>\n",
       "      <td>3</td>\n",
       "      <td>10</td>\n",
       "      <td>NaN</td>\n",
       "      <td>0</td>\n",
       "      <td>Organic Raspberries</td>\n",
       "      <td>123</td>\n",
       "      <td>4</td>\n",
       "      <td>produce</td>\n",
       "      <td>packaged vegetables fruits</td>\n",
       "      <td>Amador</td>\n",
       "    </tr>\n",
       "    <tr>\n",
       "      <th>6132666</th>\n",
       "      <td>3597251</td>\n",
       "      <td>606915</td>\n",
       "      <td>27845</td>\n",
       "      <td>4</td>\n",
       "      <td>0</td>\n",
       "      <td>107102</td>\n",
       "      <td>1</td>\n",
       "      <td>3</td>\n",
       "      <td>10</td>\n",
       "      <td>NaN</td>\n",
       "      <td>0</td>\n",
       "      <td>Organic Whole Milk</td>\n",
       "      <td>84</td>\n",
       "      <td>16</td>\n",
       "      <td>dairy eggs</td>\n",
       "      <td>milk</td>\n",
       "      <td>Amador</td>\n",
       "    </tr>\n",
       "    <tr>\n",
       "      <th>6132667</th>\n",
       "      <td>3597252</td>\n",
       "      <td>606915</td>\n",
       "      <td>26940</td>\n",
       "      <td>3</td>\n",
       "      <td>0</td>\n",
       "      <td>107102</td>\n",
       "      <td>1</td>\n",
       "      <td>3</td>\n",
       "      <td>10</td>\n",
       "      <td>NaN</td>\n",
       "      <td>0</td>\n",
       "      <td>Organic Large Green Asparagus</td>\n",
       "      <td>83</td>\n",
       "      <td>4</td>\n",
       "      <td>produce</td>\n",
       "      <td>fresh vegetables</td>\n",
       "      <td>Amador</td>\n",
       "    </tr>\n",
       "    <tr>\n",
       "      <th>6132668</th>\n",
       "      <td>3597253</td>\n",
       "      <td>606915</td>\n",
       "      <td>45007</td>\n",
       "      <td>2</td>\n",
       "      <td>0</td>\n",
       "      <td>107102</td>\n",
       "      <td>1</td>\n",
       "      <td>3</td>\n",
       "      <td>10</td>\n",
       "      <td>NaN</td>\n",
       "      <td>0</td>\n",
       "      <td>Organic Zucchini</td>\n",
       "      <td>83</td>\n",
       "      <td>4</td>\n",
       "      <td>produce</td>\n",
       "      <td>fresh vegetables</td>\n",
       "      <td>Amador</td>\n",
       "    </tr>\n",
       "  </tbody>\n",
       "</table>\n",
       "<p>6132669 rows × 17 columns</p>\n",
       "</div>"
      ],
      "text/plain": [
       "           index  order_id  product_id  add_to_cart_order  reordered  user_id  \\\n",
       "0        5006171         1       13176                  6          0   112108   \n",
       "1        5006176         1       11109                  2          1   112108   \n",
       "2        5006175         1       10246                  3          0   112108   \n",
       "3        5006174         1       22035                  8          1   112108   \n",
       "4        5006173         1       49683                  4          0   112108   \n",
       "...          ...       ...         ...                ...        ...      ...   \n",
       "6132664  2493330    606914       28849                  6          1   193225   \n",
       "6132665  3597250    606915       27966                  1          0   107102   \n",
       "6132666  3597251    606915       27845                  4          0   107102   \n",
       "6132667  3597252    606915       26940                  3          0   107102   \n",
       "6132668  3597253    606915       45007                  2          0   107102   \n",
       "\n",
       "         order_number  order_dow  order_hour_of_day  days_since_prior_order  \\\n",
       "0                   4          4                 10                     9.0   \n",
       "1                   4          4                 10                     9.0   \n",
       "2                   4          4                 10                     9.0   \n",
       "3                   4          4                 10                     9.0   \n",
       "4                   4          4                 10                     9.0   \n",
       "...               ...        ...                ...                     ...   \n",
       "6132664            18          5                 13                     4.0   \n",
       "6132665             1          3                 10                     NaN   \n",
       "6132666             1          3                 10                     NaN   \n",
       "6132667             1          3                 10                     NaN   \n",
       "6132668             1          3                 10                     NaN   \n",
       "\n",
       "         tip                                   product_name  aisle_id  \\\n",
       "0          1                         Bag of Organic Bananas        24   \n",
       "1          1  Organic 4% Milk Fat Whole Milk Cottage Cheese       108   \n",
       "2          1                          Organic Celery Hearts        83   \n",
       "3          1                    Organic Whole String Cheese        21   \n",
       "4          1                                 Cucumber Kirby        83   \n",
       "...      ...                                            ...       ...   \n",
       "6132664    1                      No Salt Added Black Beans        59   \n",
       "6132665    0                            Organic Raspberries       123   \n",
       "6132666    0                             Organic Whole Milk        84   \n",
       "6132667    0                  Organic Large Green Asparagus        83   \n",
       "6132668    0                               Organic Zucchini        83   \n",
       "\n",
       "         department_id    department                       aisle     county  \n",
       "0                    4       produce                fresh fruits       Inyo  \n",
       "1                   16    dairy eggs        other creams cheeses       Inyo  \n",
       "2                    4       produce            fresh vegetables       Inyo  \n",
       "3                   16    dairy eggs             packaged cheese       Inyo  \n",
       "4                    4       produce            fresh vegetables       Inyo  \n",
       "...                ...           ...                         ...        ...  \n",
       "6132664             15  canned goods          canned meals beans  Calaveras  \n",
       "6132665              4       produce  packaged vegetables fruits     Amador  \n",
       "6132666             16    dairy eggs                        milk     Amador  \n",
       "6132667              4       produce            fresh vegetables     Amador  \n",
       "6132668              4       produce            fresh vegetables     Amador  \n",
       "\n",
       "[6132669 rows x 17 columns]"
      ]
     },
     "execution_count": 22,
     "metadata": {},
     "output_type": "execute_result"
    }
   ],
   "source": [
    "df"
   ]
  },
  {
   "attachments": {},
   "cell_type": "markdown",
   "metadata": {},
   "source": [
    "### Prüfen Sie, ob es beim Produkt 13176 auffällige Muster beim Wiederbestellverhalten gibt. "
   ]
  },
  {
   "cell_type": "code",
   "execution_count": 56,
   "metadata": {},
   "outputs": [],
   "source": [
    "df_auf1 = df[df.product_id == 13176]\n",
    "df_1 = df_auf1[df_auf1.reordered == 1]"
   ]
  },
  {
   "cell_type": "code",
   "execution_count": 57,
   "metadata": {},
   "outputs": [
    {
     "data": {
      "text/plain": [
       "0.8308979411806553"
      ]
     },
     "execution_count": 57,
     "metadata": {},
     "output_type": "execute_result"
    }
   ],
   "source": [
    "df_auf1.reordered.mean()"
   ]
  },
  {
   "cell_type": "code",
   "execution_count": 58,
   "metadata": {},
   "outputs": [
    {
     "data": {
      "text/plain": [
       "0.5891351709997719"
      ]
     },
     "execution_count": 58,
     "metadata": {},
     "output_type": "execute_result"
    }
   ],
   "source": [
    "df.reordered.mean()"
   ]
  },
  {
   "attachments": {},
   "cell_type": "markdown",
   "metadata": {},
   "source": [
    "wurde es öfter wiederbestellt als andere Produkte\n",
    "\n",
    "\n"
   ]
  },
  {
   "attachments": {},
   "cell_type": "markdown",
   "metadata": {},
   "source": [
    "wann wurde es beim wiederbestllen in warenkorb gelegt (relevanz)\n",
    "\n",
    "wann wird es am meisten wiederbestellt\n",
    "\n"
   ]
  },
  {
   "cell_type": "code",
   "execution_count": 59,
   "metadata": {},
   "outputs": [
    {
     "data": {
      "text/plain": [
       "9.753125107024212"
      ]
     },
     "execution_count": 59,
     "metadata": {},
     "output_type": "execute_result"
    }
   ],
   "source": [
    "df_1.days_since_prior_order.mean()"
   ]
  },
  {
   "cell_type": "code",
   "execution_count": 61,
   "metadata": {},
   "outputs": [
    {
     "data": {
      "text/plain": [
       "10.491867219526533"
      ]
     },
     "execution_count": 61,
     "metadata": {},
     "output_type": "execute_result"
    }
   ],
   "source": [
    "df[df.reordered == 1].days_since_prior_order.mean()"
   ]
  },
  {
   "attachments": {},
   "cell_type": "markdown",
   "metadata": {},
   "source": [
    "hängt reordered von anderen Faktoren wie andere Produkte ab (Zeit, ordersize)\n",
    "\n",
    "werden bananen in anderen countys öfters reordered als andere produkte\n",
    "\n",
    "durchschnittliche wiederbestellung pro user oder generell und dann auf produkte vergleichen"
   ]
  },
  {
   "cell_type": "code",
   "execution_count": 5,
   "metadata": {},
   "outputs": [],
   "source": [
    "df_auf1 = df[df.product_id == 13176]"
   ]
  },
  {
   "cell_type": "code",
   "execution_count": 9,
   "metadata": {},
   "outputs": [],
   "source": [
    "df_1 = df_auf1[df_auf1.reordered == 1]"
   ]
  },
  {
   "cell_type": "code",
   "execution_count": 12,
   "metadata": {},
   "outputs": [
    {
     "data": {
      "text/html": [
       "<div>\n",
       "<style scoped>\n",
       "    .dataframe tbody tr th:only-of-type {\n",
       "        vertical-align: middle;\n",
       "    }\n",
       "\n",
       "    .dataframe tbody tr th {\n",
       "        vertical-align: top;\n",
       "    }\n",
       "\n",
       "    .dataframe thead th {\n",
       "        text-align: right;\n",
       "    }\n",
       "</style>\n",
       "<table border=\"1\" class=\"dataframe\">\n",
       "  <thead>\n",
       "    <tr style=\"text-align: right;\">\n",
       "      <th></th>\n",
       "      <th>index</th>\n",
       "      <th>order_id</th>\n",
       "      <th>product_id</th>\n",
       "      <th>add_to_cart_order</th>\n",
       "      <th>reordered</th>\n",
       "      <th>user_id</th>\n",
       "      <th>order_number</th>\n",
       "      <th>order_dow</th>\n",
       "      <th>order_hour_of_day</th>\n",
       "      <th>days_since_prior_order</th>\n",
       "      <th>tip</th>\n",
       "      <th>product_name</th>\n",
       "      <th>aisle_id</th>\n",
       "      <th>department_id</th>\n",
       "      <th>department</th>\n",
       "      <th>aisle</th>\n",
       "      <th>county</th>\n",
       "    </tr>\n",
       "  </thead>\n",
       "  <tbody>\n",
       "    <tr>\n",
       "      <th>23</th>\n",
       "      <td>3482059</td>\n",
       "      <td>6</td>\n",
       "      <td>13176</td>\n",
       "      <td>3</td>\n",
       "      <td>1</td>\n",
       "      <td>89125</td>\n",
       "      <td>11</td>\n",
       "      <td>0</td>\n",
       "      <td>20</td>\n",
       "      <td>3.0</td>\n",
       "      <td>0</td>\n",
       "      <td>Bag of Organic Bananas</td>\n",
       "      <td>24</td>\n",
       "      <td>4</td>\n",
       "      <td>produce</td>\n",
       "      <td>fresh fruits</td>\n",
       "      <td>Sacramento</td>\n",
       "    </tr>\n",
       "    <tr>\n",
       "      <th>134</th>\n",
       "      <td>1726138</td>\n",
       "      <td>18</td>\n",
       "      <td>13176</td>\n",
       "      <td>4</td>\n",
       "      <td>1</td>\n",
       "      <td>56463</td>\n",
       "      <td>41</td>\n",
       "      <td>3</td>\n",
       "      <td>8</td>\n",
       "      <td>14.0</td>\n",
       "      <td>1</td>\n",
       "      <td>Bag of Organic Bananas</td>\n",
       "      <td>24</td>\n",
       "      <td>4</td>\n",
       "      <td>produce</td>\n",
       "      <td>fresh fruits</td>\n",
       "      <td>Calaveras</td>\n",
       "    </tr>\n",
       "    <tr>\n",
       "      <th>296</th>\n",
       "      <td>4560808</td>\n",
       "      <td>29</td>\n",
       "      <td>13176</td>\n",
       "      <td>1</td>\n",
       "      <td>1</td>\n",
       "      <td>103040</td>\n",
       "      <td>12</td>\n",
       "      <td>1</td>\n",
       "      <td>10</td>\n",
       "      <td>7.0</td>\n",
       "      <td>1</td>\n",
       "      <td>Bag of Organic Bananas</td>\n",
       "      <td>24</td>\n",
       "      <td>4</td>\n",
       "      <td>produce</td>\n",
       "      <td>fresh fruits</td>\n",
       "      <td>Yuba</td>\n",
       "    </tr>\n",
       "    <tr>\n",
       "      <th>460</th>\n",
       "      <td>1912128</td>\n",
       "      <td>47</td>\n",
       "      <td>13176</td>\n",
       "      <td>10</td>\n",
       "      <td>1</td>\n",
       "      <td>143768</td>\n",
       "      <td>33</td>\n",
       "      <td>4</td>\n",
       "      <td>23</td>\n",
       "      <td>2.0</td>\n",
       "      <td>0</td>\n",
       "      <td>Bag of Organic Bananas</td>\n",
       "      <td>24</td>\n",
       "      <td>4</td>\n",
       "      <td>produce</td>\n",
       "      <td>fresh fruits</td>\n",
       "      <td>Los Angeles</td>\n",
       "    </tr>\n",
       "    <tr>\n",
       "      <th>494</th>\n",
       "      <td>3818397</td>\n",
       "      <td>51</td>\n",
       "      <td>13176</td>\n",
       "      <td>3</td>\n",
       "      <td>1</td>\n",
       "      <td>198240</td>\n",
       "      <td>30</td>\n",
       "      <td>3</td>\n",
       "      <td>21</td>\n",
       "      <td>5.0</td>\n",
       "      <td>0</td>\n",
       "      <td>Bag of Organic Bananas</td>\n",
       "      <td>24</td>\n",
       "      <td>4</td>\n",
       "      <td>produce</td>\n",
       "      <td>fresh fruits</td>\n",
       "      <td>Kern</td>\n",
       "    </tr>\n",
       "    <tr>\n",
       "      <th>...</th>\n",
       "      <td>...</td>\n",
       "      <td>...</td>\n",
       "      <td>...</td>\n",
       "      <td>...</td>\n",
       "      <td>...</td>\n",
       "      <td>...</td>\n",
       "      <td>...</td>\n",
       "      <td>...</td>\n",
       "      <td>...</td>\n",
       "      <td>...</td>\n",
       "      <td>...</td>\n",
       "      <td>...</td>\n",
       "      <td>...</td>\n",
       "      <td>...</td>\n",
       "      <td>...</td>\n",
       "      <td>...</td>\n",
       "      <td>...</td>\n",
       "    </tr>\n",
       "    <tr>\n",
       "      <th>6132036</th>\n",
       "      <td>3941644</td>\n",
       "      <td>606853</td>\n",
       "      <td>13176</td>\n",
       "      <td>4</td>\n",
       "      <td>1</td>\n",
       "      <td>112206</td>\n",
       "      <td>19</td>\n",
       "      <td>0</td>\n",
       "      <td>8</td>\n",
       "      <td>5.0</td>\n",
       "      <td>1</td>\n",
       "      <td>Bag of Organic Bananas</td>\n",
       "      <td>24</td>\n",
       "      <td>4</td>\n",
       "      <td>produce</td>\n",
       "      <td>fresh fruits</td>\n",
       "      <td>Mariposa</td>\n",
       "    </tr>\n",
       "    <tr>\n",
       "      <th>6132178</th>\n",
       "      <td>800409</td>\n",
       "      <td>606867</td>\n",
       "      <td>13176</td>\n",
       "      <td>6</td>\n",
       "      <td>1</td>\n",
       "      <td>31632</td>\n",
       "      <td>4</td>\n",
       "      <td>0</td>\n",
       "      <td>15</td>\n",
       "      <td>7.0</td>\n",
       "      <td>1</td>\n",
       "      <td>Bag of Organic Bananas</td>\n",
       "      <td>24</td>\n",
       "      <td>4</td>\n",
       "      <td>produce</td>\n",
       "      <td>fresh fruits</td>\n",
       "      <td>Alpine</td>\n",
       "    </tr>\n",
       "    <tr>\n",
       "      <th>6132363</th>\n",
       "      <td>3629290</td>\n",
       "      <td>606885</td>\n",
       "      <td>13176</td>\n",
       "      <td>1</td>\n",
       "      <td>1</td>\n",
       "      <td>32829</td>\n",
       "      <td>2</td>\n",
       "      <td>6</td>\n",
       "      <td>15</td>\n",
       "      <td>11.0</td>\n",
       "      <td>1</td>\n",
       "      <td>Bag of Organic Bananas</td>\n",
       "      <td>24</td>\n",
       "      <td>4</td>\n",
       "      <td>produce</td>\n",
       "      <td>fresh fruits</td>\n",
       "      <td>Siskiyou</td>\n",
       "    </tr>\n",
       "    <tr>\n",
       "      <th>6132372</th>\n",
       "      <td>4211553</td>\n",
       "      <td>606886</td>\n",
       "      <td>13176</td>\n",
       "      <td>4</td>\n",
       "      <td>1</td>\n",
       "      <td>19992</td>\n",
       "      <td>2</td>\n",
       "      <td>6</td>\n",
       "      <td>18</td>\n",
       "      <td>6.0</td>\n",
       "      <td>1</td>\n",
       "      <td>Bag of Organic Bananas</td>\n",
       "      <td>24</td>\n",
       "      <td>4</td>\n",
       "      <td>produce</td>\n",
       "      <td>fresh fruits</td>\n",
       "      <td>Marin</td>\n",
       "    </tr>\n",
       "    <tr>\n",
       "      <th>6132455</th>\n",
       "      <td>3961519</td>\n",
       "      <td>606894</td>\n",
       "      <td>13176</td>\n",
       "      <td>6</td>\n",
       "      <td>1</td>\n",
       "      <td>38426</td>\n",
       "      <td>14</td>\n",
       "      <td>3</td>\n",
       "      <td>18</td>\n",
       "      <td>21.0</td>\n",
       "      <td>0</td>\n",
       "      <td>Bag of Organic Bananas</td>\n",
       "      <td>24</td>\n",
       "      <td>4</td>\n",
       "      <td>produce</td>\n",
       "      <td>fresh fruits</td>\n",
       "      <td>San Mateo</td>\n",
       "    </tr>\n",
       "  </tbody>\n",
       "</table>\n",
       "<p>58398 rows × 17 columns</p>\n",
       "</div>"
      ],
      "text/plain": [
       "           index  order_id  product_id  add_to_cart_order  reordered  user_id  \\\n",
       "23       3482059         6       13176                  3          1    89125   \n",
       "134      1726138        18       13176                  4          1    56463   \n",
       "296      4560808        29       13176                  1          1   103040   \n",
       "460      1912128        47       13176                 10          1   143768   \n",
       "494      3818397        51       13176                  3          1   198240   \n",
       "...          ...       ...         ...                ...        ...      ...   \n",
       "6132036  3941644    606853       13176                  4          1   112206   \n",
       "6132178   800409    606867       13176                  6          1    31632   \n",
       "6132363  3629290    606885       13176                  1          1    32829   \n",
       "6132372  4211553    606886       13176                  4          1    19992   \n",
       "6132455  3961519    606894       13176                  6          1    38426   \n",
       "\n",
       "         order_number  order_dow  order_hour_of_day  days_since_prior_order  \\\n",
       "23                 11          0                 20                     3.0   \n",
       "134                41          3                  8                    14.0   \n",
       "296                12          1                 10                     7.0   \n",
       "460                33          4                 23                     2.0   \n",
       "494                30          3                 21                     5.0   \n",
       "...               ...        ...                ...                     ...   \n",
       "6132036            19          0                  8                     5.0   \n",
       "6132178             4          0                 15                     7.0   \n",
       "6132363             2          6                 15                    11.0   \n",
       "6132372             2          6                 18                     6.0   \n",
       "6132455            14          3                 18                    21.0   \n",
       "\n",
       "         tip            product_name  aisle_id  department_id department  \\\n",
       "23         0  Bag of Organic Bananas        24              4    produce   \n",
       "134        1  Bag of Organic Bananas        24              4    produce   \n",
       "296        1  Bag of Organic Bananas        24              4    produce   \n",
       "460        0  Bag of Organic Bananas        24              4    produce   \n",
       "494        0  Bag of Organic Bananas        24              4    produce   \n",
       "...      ...                     ...       ...            ...        ...   \n",
       "6132036    1  Bag of Organic Bananas        24              4    produce   \n",
       "6132178    1  Bag of Organic Bananas        24              4    produce   \n",
       "6132363    1  Bag of Organic Bananas        24              4    produce   \n",
       "6132372    1  Bag of Organic Bananas        24              4    produce   \n",
       "6132455    0  Bag of Organic Bananas        24              4    produce   \n",
       "\n",
       "                aisle       county  \n",
       "23       fresh fruits   Sacramento  \n",
       "134      fresh fruits    Calaveras  \n",
       "296      fresh fruits         Yuba  \n",
       "460      fresh fruits  Los Angeles  \n",
       "494      fresh fruits         Kern  \n",
       "...               ...          ...  \n",
       "6132036  fresh fruits     Mariposa  \n",
       "6132178  fresh fruits       Alpine  \n",
       "6132363  fresh fruits     Siskiyou  \n",
       "6132372  fresh fruits        Marin  \n",
       "6132455  fresh fruits    San Mateo  \n",
       "\n",
       "[58398 rows x 17 columns]"
      ]
     },
     "execution_count": 12,
     "metadata": {},
     "output_type": "execute_result"
    }
   ],
   "source": [
    "df_1"
   ]
  },
  {
   "cell_type": "code",
   "execution_count": 14,
   "metadata": {},
   "outputs": [
    {
     "data": {
      "text/html": [
       "<div>\n",
       "<style scoped>\n",
       "    .dataframe tbody tr th:only-of-type {\n",
       "        vertical-align: middle;\n",
       "    }\n",
       "\n",
       "    .dataframe tbody tr th {\n",
       "        vertical-align: top;\n",
       "    }\n",
       "\n",
       "    .dataframe thead th {\n",
       "        text-align: right;\n",
       "    }\n",
       "</style>\n",
       "<table border=\"1\" class=\"dataframe\">\n",
       "  <thead>\n",
       "    <tr style=\"text-align: right;\">\n",
       "      <th></th>\n",
       "      <th>order_hour_of_day</th>\n",
       "      <th>coun</th>\n",
       "    </tr>\n",
       "  </thead>\n",
       "  <tbody>\n",
       "    <tr>\n",
       "      <th>0</th>\n",
       "      <td>0</td>\n",
       "      <td>416</td>\n",
       "    </tr>\n",
       "    <tr>\n",
       "      <th>1</th>\n",
       "      <td>1</td>\n",
       "      <td>208</td>\n",
       "    </tr>\n",
       "    <tr>\n",
       "      <th>2</th>\n",
       "      <td>2</td>\n",
       "      <td>102</td>\n",
       "    </tr>\n",
       "    <tr>\n",
       "      <th>3</th>\n",
       "      <td>3</td>\n",
       "      <td>90</td>\n",
       "    </tr>\n",
       "    <tr>\n",
       "      <th>4</th>\n",
       "      <td>4</td>\n",
       "      <td>93</td>\n",
       "    </tr>\n",
       "    <tr>\n",
       "      <th>5</th>\n",
       "      <td>5</td>\n",
       "      <td>185</td>\n",
       "    </tr>\n",
       "    <tr>\n",
       "      <th>6</th>\n",
       "      <td>6</td>\n",
       "      <td>570</td>\n",
       "    </tr>\n",
       "    <tr>\n",
       "      <th>7</th>\n",
       "      <td>7</td>\n",
       "      <td>1839</td>\n",
       "    </tr>\n",
       "    <tr>\n",
       "      <th>8</th>\n",
       "      <td>8</td>\n",
       "      <td>3482</td>\n",
       "    </tr>\n",
       "    <tr>\n",
       "      <th>9</th>\n",
       "      <td>9</td>\n",
       "      <td>4683</td>\n",
       "    </tr>\n",
       "    <tr>\n",
       "      <th>10</th>\n",
       "      <td>10</td>\n",
       "      <td>4982</td>\n",
       "    </tr>\n",
       "    <tr>\n",
       "      <th>11</th>\n",
       "      <td>11</td>\n",
       "      <td>4847</td>\n",
       "    </tr>\n",
       "    <tr>\n",
       "      <th>12</th>\n",
       "      <td>12</td>\n",
       "      <td>4550</td>\n",
       "    </tr>\n",
       "    <tr>\n",
       "      <th>13</th>\n",
       "      <td>13</td>\n",
       "      <td>4661</td>\n",
       "    </tr>\n",
       "    <tr>\n",
       "      <th>14</th>\n",
       "      <td>14</td>\n",
       "      <td>4708</td>\n",
       "    </tr>\n",
       "    <tr>\n",
       "      <th>15</th>\n",
       "      <td>15</td>\n",
       "      <td>4732</td>\n",
       "    </tr>\n",
       "    <tr>\n",
       "      <th>16</th>\n",
       "      <td>16</td>\n",
       "      <td>4455</td>\n",
       "    </tr>\n",
       "    <tr>\n",
       "      <th>17</th>\n",
       "      <td>17</td>\n",
       "      <td>3583</td>\n",
       "    </tr>\n",
       "    <tr>\n",
       "      <th>18</th>\n",
       "      <td>18</td>\n",
       "      <td>2873</td>\n",
       "    </tr>\n",
       "    <tr>\n",
       "      <th>19</th>\n",
       "      <td>19</td>\n",
       "      <td>2284</td>\n",
       "    </tr>\n",
       "    <tr>\n",
       "      <th>20</th>\n",
       "      <td>20</td>\n",
       "      <td>1752</td>\n",
       "    </tr>\n",
       "    <tr>\n",
       "      <th>21</th>\n",
       "      <td>21</td>\n",
       "      <td>1451</td>\n",
       "    </tr>\n",
       "    <tr>\n",
       "      <th>22</th>\n",
       "      <td>22</td>\n",
       "      <td>1154</td>\n",
       "    </tr>\n",
       "    <tr>\n",
       "      <th>23</th>\n",
       "      <td>23</td>\n",
       "      <td>698</td>\n",
       "    </tr>\n",
       "  </tbody>\n",
       "</table>\n",
       "</div>"
      ],
      "text/plain": [
       "    order_hour_of_day  coun\n",
       "0                   0   416\n",
       "1                   1   208\n",
       "2                   2   102\n",
       "3                   3    90\n",
       "4                   4    93\n",
       "5                   5   185\n",
       "6                   6   570\n",
       "7                   7  1839\n",
       "8                   8  3482\n",
       "9                   9  4683\n",
       "10                 10  4982\n",
       "11                 11  4847\n",
       "12                 12  4550\n",
       "13                 13  4661\n",
       "14                 14  4708\n",
       "15                 15  4732\n",
       "16                 16  4455\n",
       "17                 17  3583\n",
       "18                 18  2873\n",
       "19                 19  2284\n",
       "20                 20  1752\n",
       "21                 21  1451\n",
       "22                 22  1154\n",
       "23                 23   698"
      ]
     },
     "execution_count": 14,
     "metadata": {},
     "output_type": "execute_result"
    }
   ],
   "source": [
    "df_1.groupby(\"order_hour_of_day\").agg(coun=(\"order_hour_of_day\",\"count\")).reset_index()"
   ]
  },
  {
   "cell_type": "code",
   "execution_count": 15,
   "metadata": {},
   "outputs": [
    {
     "data": {
      "application/vnd.plotly.v1+json": {
       "config": {
        "plotlyServerURL": "https://plot.ly"
       },
       "data": [
        {
         "hovertemplate": "variable=order_hour_of_day<br>index=%{x}<br>value=%{y}<extra></extra>",
         "legendgroup": "order_hour_of_day",
         "marker": {
          "color": "#636efa",
          "symbol": "circle"
         },
         "mode": "markers",
         "name": "order_hour_of_day",
         "orientation": "v",
         "showlegend": true,
         "type": "scatter",
         "x": [
          0,
          1,
          2,
          3,
          4,
          5,
          6,
          7,
          8,
          9,
          10,
          11,
          12,
          13,
          14,
          15,
          16,
          17,
          18,
          19,
          20,
          21,
          22,
          23
         ],
         "xaxis": "x",
         "y": [
          0,
          1,
          2,
          3,
          4,
          5,
          6,
          7,
          8,
          9,
          10,
          11,
          12,
          13,
          14,
          15,
          16,
          17,
          18,
          19,
          20,
          21,
          22,
          23
         ],
         "yaxis": "y"
        },
        {
         "hovertemplate": "variable=coun<br>index=%{x}<br>value=%{y}<extra></extra>",
         "legendgroup": "coun",
         "marker": {
          "color": "#EF553B",
          "symbol": "circle"
         },
         "mode": "markers",
         "name": "coun",
         "orientation": "v",
         "showlegend": true,
         "type": "scatter",
         "x": [
          0,
          1,
          2,
          3,
          4,
          5,
          6,
          7,
          8,
          9,
          10,
          11,
          12,
          13,
          14,
          15,
          16,
          17,
          18,
          19,
          20,
          21,
          22,
          23
         ],
         "xaxis": "x",
         "y": [
          416,
          208,
          102,
          90,
          93,
          185,
          570,
          1839,
          3482,
          4683,
          4982,
          4847,
          4550,
          4661,
          4708,
          4732,
          4455,
          3583,
          2873,
          2284,
          1752,
          1451,
          1154,
          698
         ],
         "yaxis": "y"
        }
       ],
       "layout": {
        "legend": {
         "title": {
          "text": "variable"
         },
         "tracegroupgap": 0
        },
        "margin": {
         "t": 60
        },
        "template": {
         "data": {
          "bar": [
           {
            "error_x": {
             "color": "#2a3f5f"
            },
            "error_y": {
             "color": "#2a3f5f"
            },
            "marker": {
             "line": {
              "color": "#E5ECF6",
              "width": 0.5
             },
             "pattern": {
              "fillmode": "overlay",
              "size": 10,
              "solidity": 0.2
             }
            },
            "type": "bar"
           }
          ],
          "barpolar": [
           {
            "marker": {
             "line": {
              "color": "#E5ECF6",
              "width": 0.5
             },
             "pattern": {
              "fillmode": "overlay",
              "size": 10,
              "solidity": 0.2
             }
            },
            "type": "barpolar"
           }
          ],
          "carpet": [
           {
            "aaxis": {
             "endlinecolor": "#2a3f5f",
             "gridcolor": "white",
             "linecolor": "white",
             "minorgridcolor": "white",
             "startlinecolor": "#2a3f5f"
            },
            "baxis": {
             "endlinecolor": "#2a3f5f",
             "gridcolor": "white",
             "linecolor": "white",
             "minorgridcolor": "white",
             "startlinecolor": "#2a3f5f"
            },
            "type": "carpet"
           }
          ],
          "choropleth": [
           {
            "colorbar": {
             "outlinewidth": 0,
             "ticks": ""
            },
            "type": "choropleth"
           }
          ],
          "contour": [
           {
            "colorbar": {
             "outlinewidth": 0,
             "ticks": ""
            },
            "colorscale": [
             [
              0,
              "#0d0887"
             ],
             [
              0.1111111111111111,
              "#46039f"
             ],
             [
              0.2222222222222222,
              "#7201a8"
             ],
             [
              0.3333333333333333,
              "#9c179e"
             ],
             [
              0.4444444444444444,
              "#bd3786"
             ],
             [
              0.5555555555555556,
              "#d8576b"
             ],
             [
              0.6666666666666666,
              "#ed7953"
             ],
             [
              0.7777777777777778,
              "#fb9f3a"
             ],
             [
              0.8888888888888888,
              "#fdca26"
             ],
             [
              1,
              "#f0f921"
             ]
            ],
            "type": "contour"
           }
          ],
          "contourcarpet": [
           {
            "colorbar": {
             "outlinewidth": 0,
             "ticks": ""
            },
            "type": "contourcarpet"
           }
          ],
          "heatmap": [
           {
            "colorbar": {
             "outlinewidth": 0,
             "ticks": ""
            },
            "colorscale": [
             [
              0,
              "#0d0887"
             ],
             [
              0.1111111111111111,
              "#46039f"
             ],
             [
              0.2222222222222222,
              "#7201a8"
             ],
             [
              0.3333333333333333,
              "#9c179e"
             ],
             [
              0.4444444444444444,
              "#bd3786"
             ],
             [
              0.5555555555555556,
              "#d8576b"
             ],
             [
              0.6666666666666666,
              "#ed7953"
             ],
             [
              0.7777777777777778,
              "#fb9f3a"
             ],
             [
              0.8888888888888888,
              "#fdca26"
             ],
             [
              1,
              "#f0f921"
             ]
            ],
            "type": "heatmap"
           }
          ],
          "heatmapgl": [
           {
            "colorbar": {
             "outlinewidth": 0,
             "ticks": ""
            },
            "colorscale": [
             [
              0,
              "#0d0887"
             ],
             [
              0.1111111111111111,
              "#46039f"
             ],
             [
              0.2222222222222222,
              "#7201a8"
             ],
             [
              0.3333333333333333,
              "#9c179e"
             ],
             [
              0.4444444444444444,
              "#bd3786"
             ],
             [
              0.5555555555555556,
              "#d8576b"
             ],
             [
              0.6666666666666666,
              "#ed7953"
             ],
             [
              0.7777777777777778,
              "#fb9f3a"
             ],
             [
              0.8888888888888888,
              "#fdca26"
             ],
             [
              1,
              "#f0f921"
             ]
            ],
            "type": "heatmapgl"
           }
          ],
          "histogram": [
           {
            "marker": {
             "pattern": {
              "fillmode": "overlay",
              "size": 10,
              "solidity": 0.2
             }
            },
            "type": "histogram"
           }
          ],
          "histogram2d": [
           {
            "colorbar": {
             "outlinewidth": 0,
             "ticks": ""
            },
            "colorscale": [
             [
              0,
              "#0d0887"
             ],
             [
              0.1111111111111111,
              "#46039f"
             ],
             [
              0.2222222222222222,
              "#7201a8"
             ],
             [
              0.3333333333333333,
              "#9c179e"
             ],
             [
              0.4444444444444444,
              "#bd3786"
             ],
             [
              0.5555555555555556,
              "#d8576b"
             ],
             [
              0.6666666666666666,
              "#ed7953"
             ],
             [
              0.7777777777777778,
              "#fb9f3a"
             ],
             [
              0.8888888888888888,
              "#fdca26"
             ],
             [
              1,
              "#f0f921"
             ]
            ],
            "type": "histogram2d"
           }
          ],
          "histogram2dcontour": [
           {
            "colorbar": {
             "outlinewidth": 0,
             "ticks": ""
            },
            "colorscale": [
             [
              0,
              "#0d0887"
             ],
             [
              0.1111111111111111,
              "#46039f"
             ],
             [
              0.2222222222222222,
              "#7201a8"
             ],
             [
              0.3333333333333333,
              "#9c179e"
             ],
             [
              0.4444444444444444,
              "#bd3786"
             ],
             [
              0.5555555555555556,
              "#d8576b"
             ],
             [
              0.6666666666666666,
              "#ed7953"
             ],
             [
              0.7777777777777778,
              "#fb9f3a"
             ],
             [
              0.8888888888888888,
              "#fdca26"
             ],
             [
              1,
              "#f0f921"
             ]
            ],
            "type": "histogram2dcontour"
           }
          ],
          "mesh3d": [
           {
            "colorbar": {
             "outlinewidth": 0,
             "ticks": ""
            },
            "type": "mesh3d"
           }
          ],
          "parcoords": [
           {
            "line": {
             "colorbar": {
              "outlinewidth": 0,
              "ticks": ""
             }
            },
            "type": "parcoords"
           }
          ],
          "pie": [
           {
            "automargin": true,
            "type": "pie"
           }
          ],
          "scatter": [
           {
            "fillpattern": {
             "fillmode": "overlay",
             "size": 10,
             "solidity": 0.2
            },
            "type": "scatter"
           }
          ],
          "scatter3d": [
           {
            "line": {
             "colorbar": {
              "outlinewidth": 0,
              "ticks": ""
             }
            },
            "marker": {
             "colorbar": {
              "outlinewidth": 0,
              "ticks": ""
             }
            },
            "type": "scatter3d"
           }
          ],
          "scattercarpet": [
           {
            "marker": {
             "colorbar": {
              "outlinewidth": 0,
              "ticks": ""
             }
            },
            "type": "scattercarpet"
           }
          ],
          "scattergeo": [
           {
            "marker": {
             "colorbar": {
              "outlinewidth": 0,
              "ticks": ""
             }
            },
            "type": "scattergeo"
           }
          ],
          "scattergl": [
           {
            "marker": {
             "colorbar": {
              "outlinewidth": 0,
              "ticks": ""
             }
            },
            "type": "scattergl"
           }
          ],
          "scattermapbox": [
           {
            "marker": {
             "colorbar": {
              "outlinewidth": 0,
              "ticks": ""
             }
            },
            "type": "scattermapbox"
           }
          ],
          "scatterpolar": [
           {
            "marker": {
             "colorbar": {
              "outlinewidth": 0,
              "ticks": ""
             }
            },
            "type": "scatterpolar"
           }
          ],
          "scatterpolargl": [
           {
            "marker": {
             "colorbar": {
              "outlinewidth": 0,
              "ticks": ""
             }
            },
            "type": "scatterpolargl"
           }
          ],
          "scatterternary": [
           {
            "marker": {
             "colorbar": {
              "outlinewidth": 0,
              "ticks": ""
             }
            },
            "type": "scatterternary"
           }
          ],
          "surface": [
           {
            "colorbar": {
             "outlinewidth": 0,
             "ticks": ""
            },
            "colorscale": [
             [
              0,
              "#0d0887"
             ],
             [
              0.1111111111111111,
              "#46039f"
             ],
             [
              0.2222222222222222,
              "#7201a8"
             ],
             [
              0.3333333333333333,
              "#9c179e"
             ],
             [
              0.4444444444444444,
              "#bd3786"
             ],
             [
              0.5555555555555556,
              "#d8576b"
             ],
             [
              0.6666666666666666,
              "#ed7953"
             ],
             [
              0.7777777777777778,
              "#fb9f3a"
             ],
             [
              0.8888888888888888,
              "#fdca26"
             ],
             [
              1,
              "#f0f921"
             ]
            ],
            "type": "surface"
           }
          ],
          "table": [
           {
            "cells": {
             "fill": {
              "color": "#EBF0F8"
             },
             "line": {
              "color": "white"
             }
            },
            "header": {
             "fill": {
              "color": "#C8D4E3"
             },
             "line": {
              "color": "white"
             }
            },
            "type": "table"
           }
          ]
         },
         "layout": {
          "annotationdefaults": {
           "arrowcolor": "#2a3f5f",
           "arrowhead": 0,
           "arrowwidth": 1
          },
          "autotypenumbers": "strict",
          "coloraxis": {
           "colorbar": {
            "outlinewidth": 0,
            "ticks": ""
           }
          },
          "colorscale": {
           "diverging": [
            [
             0,
             "#8e0152"
            ],
            [
             0.1,
             "#c51b7d"
            ],
            [
             0.2,
             "#de77ae"
            ],
            [
             0.3,
             "#f1b6da"
            ],
            [
             0.4,
             "#fde0ef"
            ],
            [
             0.5,
             "#f7f7f7"
            ],
            [
             0.6,
             "#e6f5d0"
            ],
            [
             0.7,
             "#b8e186"
            ],
            [
             0.8,
             "#7fbc41"
            ],
            [
             0.9,
             "#4d9221"
            ],
            [
             1,
             "#276419"
            ]
           ],
           "sequential": [
            [
             0,
             "#0d0887"
            ],
            [
             0.1111111111111111,
             "#46039f"
            ],
            [
             0.2222222222222222,
             "#7201a8"
            ],
            [
             0.3333333333333333,
             "#9c179e"
            ],
            [
             0.4444444444444444,
             "#bd3786"
            ],
            [
             0.5555555555555556,
             "#d8576b"
            ],
            [
             0.6666666666666666,
             "#ed7953"
            ],
            [
             0.7777777777777778,
             "#fb9f3a"
            ],
            [
             0.8888888888888888,
             "#fdca26"
            ],
            [
             1,
             "#f0f921"
            ]
           ],
           "sequentialminus": [
            [
             0,
             "#0d0887"
            ],
            [
             0.1111111111111111,
             "#46039f"
            ],
            [
             0.2222222222222222,
             "#7201a8"
            ],
            [
             0.3333333333333333,
             "#9c179e"
            ],
            [
             0.4444444444444444,
             "#bd3786"
            ],
            [
             0.5555555555555556,
             "#d8576b"
            ],
            [
             0.6666666666666666,
             "#ed7953"
            ],
            [
             0.7777777777777778,
             "#fb9f3a"
            ],
            [
             0.8888888888888888,
             "#fdca26"
            ],
            [
             1,
             "#f0f921"
            ]
           ]
          },
          "colorway": [
           "#636efa",
           "#EF553B",
           "#00cc96",
           "#ab63fa",
           "#FFA15A",
           "#19d3f3",
           "#FF6692",
           "#B6E880",
           "#FF97FF",
           "#FECB52"
          ],
          "font": {
           "color": "#2a3f5f"
          },
          "geo": {
           "bgcolor": "white",
           "lakecolor": "white",
           "landcolor": "#E5ECF6",
           "showlakes": true,
           "showland": true,
           "subunitcolor": "white"
          },
          "hoverlabel": {
           "align": "left"
          },
          "hovermode": "closest",
          "mapbox": {
           "style": "light"
          },
          "paper_bgcolor": "white",
          "plot_bgcolor": "#E5ECF6",
          "polar": {
           "angularaxis": {
            "gridcolor": "white",
            "linecolor": "white",
            "ticks": ""
           },
           "bgcolor": "#E5ECF6",
           "radialaxis": {
            "gridcolor": "white",
            "linecolor": "white",
            "ticks": ""
           }
          },
          "scene": {
           "xaxis": {
            "backgroundcolor": "#E5ECF6",
            "gridcolor": "white",
            "gridwidth": 2,
            "linecolor": "white",
            "showbackground": true,
            "ticks": "",
            "zerolinecolor": "white"
           },
           "yaxis": {
            "backgroundcolor": "#E5ECF6",
            "gridcolor": "white",
            "gridwidth": 2,
            "linecolor": "white",
            "showbackground": true,
            "ticks": "",
            "zerolinecolor": "white"
           },
           "zaxis": {
            "backgroundcolor": "#E5ECF6",
            "gridcolor": "white",
            "gridwidth": 2,
            "linecolor": "white",
            "showbackground": true,
            "ticks": "",
            "zerolinecolor": "white"
           }
          },
          "shapedefaults": {
           "line": {
            "color": "#2a3f5f"
           }
          },
          "ternary": {
           "aaxis": {
            "gridcolor": "white",
            "linecolor": "white",
            "ticks": ""
           },
           "baxis": {
            "gridcolor": "white",
            "linecolor": "white",
            "ticks": ""
           },
           "bgcolor": "#E5ECF6",
           "caxis": {
            "gridcolor": "white",
            "linecolor": "white",
            "ticks": ""
           }
          },
          "title": {
           "x": 0.05
          },
          "xaxis": {
           "automargin": true,
           "gridcolor": "white",
           "linecolor": "white",
           "ticks": "",
           "title": {
            "standoff": 15
           },
           "zerolinecolor": "white",
           "zerolinewidth": 2
          },
          "yaxis": {
           "automargin": true,
           "gridcolor": "white",
           "linecolor": "white",
           "ticks": "",
           "title": {
            "standoff": 15
           },
           "zerolinecolor": "white",
           "zerolinewidth": 2
          }
         }
        },
        "xaxis": {
         "anchor": "y",
         "domain": [
          0,
          1
         ],
         "title": {
          "text": "index"
         }
        },
        "yaxis": {
         "anchor": "x",
         "domain": [
          0,
          1
         ],
         "title": {
          "text": "value"
         }
        }
       }
      }
     },
     "metadata": {},
     "output_type": "display_data"
    }
   ],
   "source": [
    "px.scatter(df_1.groupby(\"order_hour_of_day\").agg(coun=(\"order_hour_of_day\",\"count\")).reset_index())"
   ]
  },
  {
   "cell_type": "code",
   "execution_count": 16,
   "metadata": {},
   "outputs": [
    {
     "data": {
      "application/vnd.plotly.v1+json": {
       "config": {
        "plotlyServerURL": "https://plot.ly"
       },
       "data": [
        {
         "hovertemplate": "variable=days_since_prior_order<br>index=%{x}<br>value=%{y}<extra></extra>",
         "legendgroup": "days_since_prior_order",
         "marker": {
          "color": "#636efa",
          "symbol": "circle"
         },
         "mode": "markers",
         "name": "days_since_prior_order",
         "orientation": "v",
         "showlegend": true,
         "type": "scatter",
         "x": [
          0,
          1,
          2,
          3,
          4,
          5,
          6,
          7,
          8,
          9,
          10,
          11,
          12,
          13,
          14,
          15,
          16,
          17,
          18,
          19,
          20,
          21,
          22,
          23,
          24,
          25,
          26,
          27,
          28,
          29,
          30
         ],
         "xaxis": "x",
         "y": [
          0,
          1,
          2,
          3,
          4,
          5,
          6,
          7,
          8,
          9,
          10,
          11,
          12,
          13,
          14,
          15,
          16,
          17,
          18,
          19,
          20,
          21,
          22,
          23,
          24,
          25,
          26,
          27,
          28,
          29,
          30
         ],
         "yaxis": "y"
        },
        {
         "hovertemplate": "variable=coun<br>index=%{x}<br>value=%{y}<extra></extra>",
         "legendgroup": "coun",
         "marker": {
          "color": "#EF553B",
          "symbol": "circle"
         },
         "mode": "markers",
         "name": "coun",
         "orientation": "v",
         "showlegend": true,
         "type": "scatter",
         "x": [
          0,
          1,
          2,
          3,
          4,
          5,
          6,
          7,
          8,
          9,
          10,
          11,
          12,
          13,
          14,
          15,
          16,
          17,
          18,
          19,
          20,
          21,
          22,
          23,
          24,
          25,
          26,
          27,
          28,
          29,
          30
         ],
         "xaxis": "x",
         "y": [
          842,
          1669,
          3331,
          4549,
          4987,
          4757,
          5273,
          7173,
          3896,
          2354,
          1782,
          1531,
          1390,
          1431,
          1773,
          1156,
          827,
          639,
          606,
          499,
          617,
          664,
          538,
          376,
          295,
          244,
          260,
          288,
          348,
          259,
          4044
         ],
         "yaxis": "y"
        }
       ],
       "layout": {
        "legend": {
         "title": {
          "text": "variable"
         },
         "tracegroupgap": 0
        },
        "margin": {
         "t": 60
        },
        "template": {
         "data": {
          "bar": [
           {
            "error_x": {
             "color": "#2a3f5f"
            },
            "error_y": {
             "color": "#2a3f5f"
            },
            "marker": {
             "line": {
              "color": "#E5ECF6",
              "width": 0.5
             },
             "pattern": {
              "fillmode": "overlay",
              "size": 10,
              "solidity": 0.2
             }
            },
            "type": "bar"
           }
          ],
          "barpolar": [
           {
            "marker": {
             "line": {
              "color": "#E5ECF6",
              "width": 0.5
             },
             "pattern": {
              "fillmode": "overlay",
              "size": 10,
              "solidity": 0.2
             }
            },
            "type": "barpolar"
           }
          ],
          "carpet": [
           {
            "aaxis": {
             "endlinecolor": "#2a3f5f",
             "gridcolor": "white",
             "linecolor": "white",
             "minorgridcolor": "white",
             "startlinecolor": "#2a3f5f"
            },
            "baxis": {
             "endlinecolor": "#2a3f5f",
             "gridcolor": "white",
             "linecolor": "white",
             "minorgridcolor": "white",
             "startlinecolor": "#2a3f5f"
            },
            "type": "carpet"
           }
          ],
          "choropleth": [
           {
            "colorbar": {
             "outlinewidth": 0,
             "ticks": ""
            },
            "type": "choropleth"
           }
          ],
          "contour": [
           {
            "colorbar": {
             "outlinewidth": 0,
             "ticks": ""
            },
            "colorscale": [
             [
              0,
              "#0d0887"
             ],
             [
              0.1111111111111111,
              "#46039f"
             ],
             [
              0.2222222222222222,
              "#7201a8"
             ],
             [
              0.3333333333333333,
              "#9c179e"
             ],
             [
              0.4444444444444444,
              "#bd3786"
             ],
             [
              0.5555555555555556,
              "#d8576b"
             ],
             [
              0.6666666666666666,
              "#ed7953"
             ],
             [
              0.7777777777777778,
              "#fb9f3a"
             ],
             [
              0.8888888888888888,
              "#fdca26"
             ],
             [
              1,
              "#f0f921"
             ]
            ],
            "type": "contour"
           }
          ],
          "contourcarpet": [
           {
            "colorbar": {
             "outlinewidth": 0,
             "ticks": ""
            },
            "type": "contourcarpet"
           }
          ],
          "heatmap": [
           {
            "colorbar": {
             "outlinewidth": 0,
             "ticks": ""
            },
            "colorscale": [
             [
              0,
              "#0d0887"
             ],
             [
              0.1111111111111111,
              "#46039f"
             ],
             [
              0.2222222222222222,
              "#7201a8"
             ],
             [
              0.3333333333333333,
              "#9c179e"
             ],
             [
              0.4444444444444444,
              "#bd3786"
             ],
             [
              0.5555555555555556,
              "#d8576b"
             ],
             [
              0.6666666666666666,
              "#ed7953"
             ],
             [
              0.7777777777777778,
              "#fb9f3a"
             ],
             [
              0.8888888888888888,
              "#fdca26"
             ],
             [
              1,
              "#f0f921"
             ]
            ],
            "type": "heatmap"
           }
          ],
          "heatmapgl": [
           {
            "colorbar": {
             "outlinewidth": 0,
             "ticks": ""
            },
            "colorscale": [
             [
              0,
              "#0d0887"
             ],
             [
              0.1111111111111111,
              "#46039f"
             ],
             [
              0.2222222222222222,
              "#7201a8"
             ],
             [
              0.3333333333333333,
              "#9c179e"
             ],
             [
              0.4444444444444444,
              "#bd3786"
             ],
             [
              0.5555555555555556,
              "#d8576b"
             ],
             [
              0.6666666666666666,
              "#ed7953"
             ],
             [
              0.7777777777777778,
              "#fb9f3a"
             ],
             [
              0.8888888888888888,
              "#fdca26"
             ],
             [
              1,
              "#f0f921"
             ]
            ],
            "type": "heatmapgl"
           }
          ],
          "histogram": [
           {
            "marker": {
             "pattern": {
              "fillmode": "overlay",
              "size": 10,
              "solidity": 0.2
             }
            },
            "type": "histogram"
           }
          ],
          "histogram2d": [
           {
            "colorbar": {
             "outlinewidth": 0,
             "ticks": ""
            },
            "colorscale": [
             [
              0,
              "#0d0887"
             ],
             [
              0.1111111111111111,
              "#46039f"
             ],
             [
              0.2222222222222222,
              "#7201a8"
             ],
             [
              0.3333333333333333,
              "#9c179e"
             ],
             [
              0.4444444444444444,
              "#bd3786"
             ],
             [
              0.5555555555555556,
              "#d8576b"
             ],
             [
              0.6666666666666666,
              "#ed7953"
             ],
             [
              0.7777777777777778,
              "#fb9f3a"
             ],
             [
              0.8888888888888888,
              "#fdca26"
             ],
             [
              1,
              "#f0f921"
             ]
            ],
            "type": "histogram2d"
           }
          ],
          "histogram2dcontour": [
           {
            "colorbar": {
             "outlinewidth": 0,
             "ticks": ""
            },
            "colorscale": [
             [
              0,
              "#0d0887"
             ],
             [
              0.1111111111111111,
              "#46039f"
             ],
             [
              0.2222222222222222,
              "#7201a8"
             ],
             [
              0.3333333333333333,
              "#9c179e"
             ],
             [
              0.4444444444444444,
              "#bd3786"
             ],
             [
              0.5555555555555556,
              "#d8576b"
             ],
             [
              0.6666666666666666,
              "#ed7953"
             ],
             [
              0.7777777777777778,
              "#fb9f3a"
             ],
             [
              0.8888888888888888,
              "#fdca26"
             ],
             [
              1,
              "#f0f921"
             ]
            ],
            "type": "histogram2dcontour"
           }
          ],
          "mesh3d": [
           {
            "colorbar": {
             "outlinewidth": 0,
             "ticks": ""
            },
            "type": "mesh3d"
           }
          ],
          "parcoords": [
           {
            "line": {
             "colorbar": {
              "outlinewidth": 0,
              "ticks": ""
             }
            },
            "type": "parcoords"
           }
          ],
          "pie": [
           {
            "automargin": true,
            "type": "pie"
           }
          ],
          "scatter": [
           {
            "fillpattern": {
             "fillmode": "overlay",
             "size": 10,
             "solidity": 0.2
            },
            "type": "scatter"
           }
          ],
          "scatter3d": [
           {
            "line": {
             "colorbar": {
              "outlinewidth": 0,
              "ticks": ""
             }
            },
            "marker": {
             "colorbar": {
              "outlinewidth": 0,
              "ticks": ""
             }
            },
            "type": "scatter3d"
           }
          ],
          "scattercarpet": [
           {
            "marker": {
             "colorbar": {
              "outlinewidth": 0,
              "ticks": ""
             }
            },
            "type": "scattercarpet"
           }
          ],
          "scattergeo": [
           {
            "marker": {
             "colorbar": {
              "outlinewidth": 0,
              "ticks": ""
             }
            },
            "type": "scattergeo"
           }
          ],
          "scattergl": [
           {
            "marker": {
             "colorbar": {
              "outlinewidth": 0,
              "ticks": ""
             }
            },
            "type": "scattergl"
           }
          ],
          "scattermapbox": [
           {
            "marker": {
             "colorbar": {
              "outlinewidth": 0,
              "ticks": ""
             }
            },
            "type": "scattermapbox"
           }
          ],
          "scatterpolar": [
           {
            "marker": {
             "colorbar": {
              "outlinewidth": 0,
              "ticks": ""
             }
            },
            "type": "scatterpolar"
           }
          ],
          "scatterpolargl": [
           {
            "marker": {
             "colorbar": {
              "outlinewidth": 0,
              "ticks": ""
             }
            },
            "type": "scatterpolargl"
           }
          ],
          "scatterternary": [
           {
            "marker": {
             "colorbar": {
              "outlinewidth": 0,
              "ticks": ""
             }
            },
            "type": "scatterternary"
           }
          ],
          "surface": [
           {
            "colorbar": {
             "outlinewidth": 0,
             "ticks": ""
            },
            "colorscale": [
             [
              0,
              "#0d0887"
             ],
             [
              0.1111111111111111,
              "#46039f"
             ],
             [
              0.2222222222222222,
              "#7201a8"
             ],
             [
              0.3333333333333333,
              "#9c179e"
             ],
             [
              0.4444444444444444,
              "#bd3786"
             ],
             [
              0.5555555555555556,
              "#d8576b"
             ],
             [
              0.6666666666666666,
              "#ed7953"
             ],
             [
              0.7777777777777778,
              "#fb9f3a"
             ],
             [
              0.8888888888888888,
              "#fdca26"
             ],
             [
              1,
              "#f0f921"
             ]
            ],
            "type": "surface"
           }
          ],
          "table": [
           {
            "cells": {
             "fill": {
              "color": "#EBF0F8"
             },
             "line": {
              "color": "white"
             }
            },
            "header": {
             "fill": {
              "color": "#C8D4E3"
             },
             "line": {
              "color": "white"
             }
            },
            "type": "table"
           }
          ]
         },
         "layout": {
          "annotationdefaults": {
           "arrowcolor": "#2a3f5f",
           "arrowhead": 0,
           "arrowwidth": 1
          },
          "autotypenumbers": "strict",
          "coloraxis": {
           "colorbar": {
            "outlinewidth": 0,
            "ticks": ""
           }
          },
          "colorscale": {
           "diverging": [
            [
             0,
             "#8e0152"
            ],
            [
             0.1,
             "#c51b7d"
            ],
            [
             0.2,
             "#de77ae"
            ],
            [
             0.3,
             "#f1b6da"
            ],
            [
             0.4,
             "#fde0ef"
            ],
            [
             0.5,
             "#f7f7f7"
            ],
            [
             0.6,
             "#e6f5d0"
            ],
            [
             0.7,
             "#b8e186"
            ],
            [
             0.8,
             "#7fbc41"
            ],
            [
             0.9,
             "#4d9221"
            ],
            [
             1,
             "#276419"
            ]
           ],
           "sequential": [
            [
             0,
             "#0d0887"
            ],
            [
             0.1111111111111111,
             "#46039f"
            ],
            [
             0.2222222222222222,
             "#7201a8"
            ],
            [
             0.3333333333333333,
             "#9c179e"
            ],
            [
             0.4444444444444444,
             "#bd3786"
            ],
            [
             0.5555555555555556,
             "#d8576b"
            ],
            [
             0.6666666666666666,
             "#ed7953"
            ],
            [
             0.7777777777777778,
             "#fb9f3a"
            ],
            [
             0.8888888888888888,
             "#fdca26"
            ],
            [
             1,
             "#f0f921"
            ]
           ],
           "sequentialminus": [
            [
             0,
             "#0d0887"
            ],
            [
             0.1111111111111111,
             "#46039f"
            ],
            [
             0.2222222222222222,
             "#7201a8"
            ],
            [
             0.3333333333333333,
             "#9c179e"
            ],
            [
             0.4444444444444444,
             "#bd3786"
            ],
            [
             0.5555555555555556,
             "#d8576b"
            ],
            [
             0.6666666666666666,
             "#ed7953"
            ],
            [
             0.7777777777777778,
             "#fb9f3a"
            ],
            [
             0.8888888888888888,
             "#fdca26"
            ],
            [
             1,
             "#f0f921"
            ]
           ]
          },
          "colorway": [
           "#636efa",
           "#EF553B",
           "#00cc96",
           "#ab63fa",
           "#FFA15A",
           "#19d3f3",
           "#FF6692",
           "#B6E880",
           "#FF97FF",
           "#FECB52"
          ],
          "font": {
           "color": "#2a3f5f"
          },
          "geo": {
           "bgcolor": "white",
           "lakecolor": "white",
           "landcolor": "#E5ECF6",
           "showlakes": true,
           "showland": true,
           "subunitcolor": "white"
          },
          "hoverlabel": {
           "align": "left"
          },
          "hovermode": "closest",
          "mapbox": {
           "style": "light"
          },
          "paper_bgcolor": "white",
          "plot_bgcolor": "#E5ECF6",
          "polar": {
           "angularaxis": {
            "gridcolor": "white",
            "linecolor": "white",
            "ticks": ""
           },
           "bgcolor": "#E5ECF6",
           "radialaxis": {
            "gridcolor": "white",
            "linecolor": "white",
            "ticks": ""
           }
          },
          "scene": {
           "xaxis": {
            "backgroundcolor": "#E5ECF6",
            "gridcolor": "white",
            "gridwidth": 2,
            "linecolor": "white",
            "showbackground": true,
            "ticks": "",
            "zerolinecolor": "white"
           },
           "yaxis": {
            "backgroundcolor": "#E5ECF6",
            "gridcolor": "white",
            "gridwidth": 2,
            "linecolor": "white",
            "showbackground": true,
            "ticks": "",
            "zerolinecolor": "white"
           },
           "zaxis": {
            "backgroundcolor": "#E5ECF6",
            "gridcolor": "white",
            "gridwidth": 2,
            "linecolor": "white",
            "showbackground": true,
            "ticks": "",
            "zerolinecolor": "white"
           }
          },
          "shapedefaults": {
           "line": {
            "color": "#2a3f5f"
           }
          },
          "ternary": {
           "aaxis": {
            "gridcolor": "white",
            "linecolor": "white",
            "ticks": ""
           },
           "baxis": {
            "gridcolor": "white",
            "linecolor": "white",
            "ticks": ""
           },
           "bgcolor": "#E5ECF6",
           "caxis": {
            "gridcolor": "white",
            "linecolor": "white",
            "ticks": ""
           }
          },
          "title": {
           "x": 0.05
          },
          "xaxis": {
           "automargin": true,
           "gridcolor": "white",
           "linecolor": "white",
           "ticks": "",
           "title": {
            "standoff": 15
           },
           "zerolinecolor": "white",
           "zerolinewidth": 2
          },
          "yaxis": {
           "automargin": true,
           "gridcolor": "white",
           "linecolor": "white",
           "ticks": "",
           "title": {
            "standoff": 15
           },
           "zerolinecolor": "white",
           "zerolinewidth": 2
          }
         }
        },
        "xaxis": {
         "anchor": "y",
         "domain": [
          0,
          1
         ],
         "title": {
          "text": "index"
         }
        },
        "yaxis": {
         "anchor": "x",
         "domain": [
          0,
          1
         ],
         "title": {
          "text": "value"
         }
        }
       }
      }
     },
     "metadata": {},
     "output_type": "display_data"
    }
   ],
   "source": [
    "px.scatter(df_1.groupby(\"days_since_prior_order\").agg(coun=(\"days_since_prior_order\",\"count\")).reset_index())"
   ]
  },
  {
   "cell_type": "code",
   "execution_count": 17,
   "metadata": {},
   "outputs": [
    {
     "data": {
      "application/vnd.plotly.v1+json": {
       "config": {
        "plotlyServerURL": "https://plot.ly"
       },
       "data": [
        {
         "hovertemplate": "variable=add_to_cart_order<br>index=%{x}<br>value=%{y}<extra></extra>",
         "legendgroup": "add_to_cart_order",
         "marker": {
          "color": "#636efa",
          "symbol": "circle"
         },
         "mode": "markers",
         "name": "add_to_cart_order",
         "orientation": "v",
         "showlegend": true,
         "type": "scatter",
         "x": [
          0,
          1,
          2,
          3,
          4,
          5,
          6,
          7,
          8,
          9,
          10,
          11,
          12,
          13,
          14,
          15,
          16,
          17,
          18,
          19,
          20,
          21,
          22,
          23,
          24,
          25,
          26,
          27,
          28,
          29,
          30,
          31,
          32,
          33,
          34,
          35,
          36,
          37,
          38,
          39,
          40,
          41,
          42,
          43,
          44,
          45,
          46,
          47,
          48,
          49,
          50,
          51,
          52
         ],
         "xaxis": "x",
         "y": [
          1,
          2,
          3,
          4,
          5,
          6,
          7,
          8,
          9,
          10,
          11,
          12,
          13,
          14,
          15,
          16,
          17,
          18,
          19,
          20,
          21,
          22,
          23,
          24,
          25,
          26,
          27,
          28,
          29,
          30,
          31,
          32,
          33,
          34,
          35,
          36,
          37,
          38,
          39,
          40,
          41,
          42,
          43,
          44,
          45,
          47,
          49,
          50,
          52,
          58,
          64,
          67,
          71
         ],
         "yaxis": "y"
        },
        {
         "hovertemplate": "variable=coun<br>index=%{x}<br>value=%{y}<extra></extra>",
         "legendgroup": "coun",
         "marker": {
          "color": "#EF553B",
          "symbol": "circle"
         },
         "mode": "markers",
         "name": "coun",
         "orientation": "v",
         "showlegend": true,
         "type": "scatter",
         "x": [
          0,
          1,
          2,
          3,
          4,
          5,
          6,
          7,
          8,
          9,
          10,
          11,
          12,
          13,
          14,
          15,
          16,
          17,
          18,
          19,
          20,
          21,
          22,
          23,
          24,
          25,
          26,
          27,
          28,
          29,
          30,
          31,
          32,
          33,
          34,
          35,
          36,
          37,
          38,
          39,
          40,
          41,
          42,
          43,
          44,
          45,
          46,
          47,
          48,
          49,
          50,
          51,
          52
         ],
         "xaxis": "x",
         "y": [
          12952,
          10149,
          7544,
          5774,
          4417,
          3376,
          2641,
          2127,
          1648,
          1411,
          1204,
          878,
          726,
          598,
          508,
          420,
          344,
          316,
          235,
          208,
          144,
          142,
          112,
          93,
          70,
          53,
          61,
          48,
          32,
          30,
          24,
          21,
          14,
          11,
          15,
          9,
          5,
          9,
          5,
          2,
          3,
          4,
          1,
          2,
          1,
          1,
          1,
          1,
          2,
          1,
          1,
          1,
          3
         ],
         "yaxis": "y"
        }
       ],
       "layout": {
        "legend": {
         "title": {
          "text": "variable"
         },
         "tracegroupgap": 0
        },
        "margin": {
         "t": 60
        },
        "template": {
         "data": {
          "bar": [
           {
            "error_x": {
             "color": "#2a3f5f"
            },
            "error_y": {
             "color": "#2a3f5f"
            },
            "marker": {
             "line": {
              "color": "#E5ECF6",
              "width": 0.5
             },
             "pattern": {
              "fillmode": "overlay",
              "size": 10,
              "solidity": 0.2
             }
            },
            "type": "bar"
           }
          ],
          "barpolar": [
           {
            "marker": {
             "line": {
              "color": "#E5ECF6",
              "width": 0.5
             },
             "pattern": {
              "fillmode": "overlay",
              "size": 10,
              "solidity": 0.2
             }
            },
            "type": "barpolar"
           }
          ],
          "carpet": [
           {
            "aaxis": {
             "endlinecolor": "#2a3f5f",
             "gridcolor": "white",
             "linecolor": "white",
             "minorgridcolor": "white",
             "startlinecolor": "#2a3f5f"
            },
            "baxis": {
             "endlinecolor": "#2a3f5f",
             "gridcolor": "white",
             "linecolor": "white",
             "minorgridcolor": "white",
             "startlinecolor": "#2a3f5f"
            },
            "type": "carpet"
           }
          ],
          "choropleth": [
           {
            "colorbar": {
             "outlinewidth": 0,
             "ticks": ""
            },
            "type": "choropleth"
           }
          ],
          "contour": [
           {
            "colorbar": {
             "outlinewidth": 0,
             "ticks": ""
            },
            "colorscale": [
             [
              0,
              "#0d0887"
             ],
             [
              0.1111111111111111,
              "#46039f"
             ],
             [
              0.2222222222222222,
              "#7201a8"
             ],
             [
              0.3333333333333333,
              "#9c179e"
             ],
             [
              0.4444444444444444,
              "#bd3786"
             ],
             [
              0.5555555555555556,
              "#d8576b"
             ],
             [
              0.6666666666666666,
              "#ed7953"
             ],
             [
              0.7777777777777778,
              "#fb9f3a"
             ],
             [
              0.8888888888888888,
              "#fdca26"
             ],
             [
              1,
              "#f0f921"
             ]
            ],
            "type": "contour"
           }
          ],
          "contourcarpet": [
           {
            "colorbar": {
             "outlinewidth": 0,
             "ticks": ""
            },
            "type": "contourcarpet"
           }
          ],
          "heatmap": [
           {
            "colorbar": {
             "outlinewidth": 0,
             "ticks": ""
            },
            "colorscale": [
             [
              0,
              "#0d0887"
             ],
             [
              0.1111111111111111,
              "#46039f"
             ],
             [
              0.2222222222222222,
              "#7201a8"
             ],
             [
              0.3333333333333333,
              "#9c179e"
             ],
             [
              0.4444444444444444,
              "#bd3786"
             ],
             [
              0.5555555555555556,
              "#d8576b"
             ],
             [
              0.6666666666666666,
              "#ed7953"
             ],
             [
              0.7777777777777778,
              "#fb9f3a"
             ],
             [
              0.8888888888888888,
              "#fdca26"
             ],
             [
              1,
              "#f0f921"
             ]
            ],
            "type": "heatmap"
           }
          ],
          "heatmapgl": [
           {
            "colorbar": {
             "outlinewidth": 0,
             "ticks": ""
            },
            "colorscale": [
             [
              0,
              "#0d0887"
             ],
             [
              0.1111111111111111,
              "#46039f"
             ],
             [
              0.2222222222222222,
              "#7201a8"
             ],
             [
              0.3333333333333333,
              "#9c179e"
             ],
             [
              0.4444444444444444,
              "#bd3786"
             ],
             [
              0.5555555555555556,
              "#d8576b"
             ],
             [
              0.6666666666666666,
              "#ed7953"
             ],
             [
              0.7777777777777778,
              "#fb9f3a"
             ],
             [
              0.8888888888888888,
              "#fdca26"
             ],
             [
              1,
              "#f0f921"
             ]
            ],
            "type": "heatmapgl"
           }
          ],
          "histogram": [
           {
            "marker": {
             "pattern": {
              "fillmode": "overlay",
              "size": 10,
              "solidity": 0.2
             }
            },
            "type": "histogram"
           }
          ],
          "histogram2d": [
           {
            "colorbar": {
             "outlinewidth": 0,
             "ticks": ""
            },
            "colorscale": [
             [
              0,
              "#0d0887"
             ],
             [
              0.1111111111111111,
              "#46039f"
             ],
             [
              0.2222222222222222,
              "#7201a8"
             ],
             [
              0.3333333333333333,
              "#9c179e"
             ],
             [
              0.4444444444444444,
              "#bd3786"
             ],
             [
              0.5555555555555556,
              "#d8576b"
             ],
             [
              0.6666666666666666,
              "#ed7953"
             ],
             [
              0.7777777777777778,
              "#fb9f3a"
             ],
             [
              0.8888888888888888,
              "#fdca26"
             ],
             [
              1,
              "#f0f921"
             ]
            ],
            "type": "histogram2d"
           }
          ],
          "histogram2dcontour": [
           {
            "colorbar": {
             "outlinewidth": 0,
             "ticks": ""
            },
            "colorscale": [
             [
              0,
              "#0d0887"
             ],
             [
              0.1111111111111111,
              "#46039f"
             ],
             [
              0.2222222222222222,
              "#7201a8"
             ],
             [
              0.3333333333333333,
              "#9c179e"
             ],
             [
              0.4444444444444444,
              "#bd3786"
             ],
             [
              0.5555555555555556,
              "#d8576b"
             ],
             [
              0.6666666666666666,
              "#ed7953"
             ],
             [
              0.7777777777777778,
              "#fb9f3a"
             ],
             [
              0.8888888888888888,
              "#fdca26"
             ],
             [
              1,
              "#f0f921"
             ]
            ],
            "type": "histogram2dcontour"
           }
          ],
          "mesh3d": [
           {
            "colorbar": {
             "outlinewidth": 0,
             "ticks": ""
            },
            "type": "mesh3d"
           }
          ],
          "parcoords": [
           {
            "line": {
             "colorbar": {
              "outlinewidth": 0,
              "ticks": ""
             }
            },
            "type": "parcoords"
           }
          ],
          "pie": [
           {
            "automargin": true,
            "type": "pie"
           }
          ],
          "scatter": [
           {
            "fillpattern": {
             "fillmode": "overlay",
             "size": 10,
             "solidity": 0.2
            },
            "type": "scatter"
           }
          ],
          "scatter3d": [
           {
            "line": {
             "colorbar": {
              "outlinewidth": 0,
              "ticks": ""
             }
            },
            "marker": {
             "colorbar": {
              "outlinewidth": 0,
              "ticks": ""
             }
            },
            "type": "scatter3d"
           }
          ],
          "scattercarpet": [
           {
            "marker": {
             "colorbar": {
              "outlinewidth": 0,
              "ticks": ""
             }
            },
            "type": "scattercarpet"
           }
          ],
          "scattergeo": [
           {
            "marker": {
             "colorbar": {
              "outlinewidth": 0,
              "ticks": ""
             }
            },
            "type": "scattergeo"
           }
          ],
          "scattergl": [
           {
            "marker": {
             "colorbar": {
              "outlinewidth": 0,
              "ticks": ""
             }
            },
            "type": "scattergl"
           }
          ],
          "scattermapbox": [
           {
            "marker": {
             "colorbar": {
              "outlinewidth": 0,
              "ticks": ""
             }
            },
            "type": "scattermapbox"
           }
          ],
          "scatterpolar": [
           {
            "marker": {
             "colorbar": {
              "outlinewidth": 0,
              "ticks": ""
             }
            },
            "type": "scatterpolar"
           }
          ],
          "scatterpolargl": [
           {
            "marker": {
             "colorbar": {
              "outlinewidth": 0,
              "ticks": ""
             }
            },
            "type": "scatterpolargl"
           }
          ],
          "scatterternary": [
           {
            "marker": {
             "colorbar": {
              "outlinewidth": 0,
              "ticks": ""
             }
            },
            "type": "scatterternary"
           }
          ],
          "surface": [
           {
            "colorbar": {
             "outlinewidth": 0,
             "ticks": ""
            },
            "colorscale": [
             [
              0,
              "#0d0887"
             ],
             [
              0.1111111111111111,
              "#46039f"
             ],
             [
              0.2222222222222222,
              "#7201a8"
             ],
             [
              0.3333333333333333,
              "#9c179e"
             ],
             [
              0.4444444444444444,
              "#bd3786"
             ],
             [
              0.5555555555555556,
              "#d8576b"
             ],
             [
              0.6666666666666666,
              "#ed7953"
             ],
             [
              0.7777777777777778,
              "#fb9f3a"
             ],
             [
              0.8888888888888888,
              "#fdca26"
             ],
             [
              1,
              "#f0f921"
             ]
            ],
            "type": "surface"
           }
          ],
          "table": [
           {
            "cells": {
             "fill": {
              "color": "#EBF0F8"
             },
             "line": {
              "color": "white"
             }
            },
            "header": {
             "fill": {
              "color": "#C8D4E3"
             },
             "line": {
              "color": "white"
             }
            },
            "type": "table"
           }
          ]
         },
         "layout": {
          "annotationdefaults": {
           "arrowcolor": "#2a3f5f",
           "arrowhead": 0,
           "arrowwidth": 1
          },
          "autotypenumbers": "strict",
          "coloraxis": {
           "colorbar": {
            "outlinewidth": 0,
            "ticks": ""
           }
          },
          "colorscale": {
           "diverging": [
            [
             0,
             "#8e0152"
            ],
            [
             0.1,
             "#c51b7d"
            ],
            [
             0.2,
             "#de77ae"
            ],
            [
             0.3,
             "#f1b6da"
            ],
            [
             0.4,
             "#fde0ef"
            ],
            [
             0.5,
             "#f7f7f7"
            ],
            [
             0.6,
             "#e6f5d0"
            ],
            [
             0.7,
             "#b8e186"
            ],
            [
             0.8,
             "#7fbc41"
            ],
            [
             0.9,
             "#4d9221"
            ],
            [
             1,
             "#276419"
            ]
           ],
           "sequential": [
            [
             0,
             "#0d0887"
            ],
            [
             0.1111111111111111,
             "#46039f"
            ],
            [
             0.2222222222222222,
             "#7201a8"
            ],
            [
             0.3333333333333333,
             "#9c179e"
            ],
            [
             0.4444444444444444,
             "#bd3786"
            ],
            [
             0.5555555555555556,
             "#d8576b"
            ],
            [
             0.6666666666666666,
             "#ed7953"
            ],
            [
             0.7777777777777778,
             "#fb9f3a"
            ],
            [
             0.8888888888888888,
             "#fdca26"
            ],
            [
             1,
             "#f0f921"
            ]
           ],
           "sequentialminus": [
            [
             0,
             "#0d0887"
            ],
            [
             0.1111111111111111,
             "#46039f"
            ],
            [
             0.2222222222222222,
             "#7201a8"
            ],
            [
             0.3333333333333333,
             "#9c179e"
            ],
            [
             0.4444444444444444,
             "#bd3786"
            ],
            [
             0.5555555555555556,
             "#d8576b"
            ],
            [
             0.6666666666666666,
             "#ed7953"
            ],
            [
             0.7777777777777778,
             "#fb9f3a"
            ],
            [
             0.8888888888888888,
             "#fdca26"
            ],
            [
             1,
             "#f0f921"
            ]
           ]
          },
          "colorway": [
           "#636efa",
           "#EF553B",
           "#00cc96",
           "#ab63fa",
           "#FFA15A",
           "#19d3f3",
           "#FF6692",
           "#B6E880",
           "#FF97FF",
           "#FECB52"
          ],
          "font": {
           "color": "#2a3f5f"
          },
          "geo": {
           "bgcolor": "white",
           "lakecolor": "white",
           "landcolor": "#E5ECF6",
           "showlakes": true,
           "showland": true,
           "subunitcolor": "white"
          },
          "hoverlabel": {
           "align": "left"
          },
          "hovermode": "closest",
          "mapbox": {
           "style": "light"
          },
          "paper_bgcolor": "white",
          "plot_bgcolor": "#E5ECF6",
          "polar": {
           "angularaxis": {
            "gridcolor": "white",
            "linecolor": "white",
            "ticks": ""
           },
           "bgcolor": "#E5ECF6",
           "radialaxis": {
            "gridcolor": "white",
            "linecolor": "white",
            "ticks": ""
           }
          },
          "scene": {
           "xaxis": {
            "backgroundcolor": "#E5ECF6",
            "gridcolor": "white",
            "gridwidth": 2,
            "linecolor": "white",
            "showbackground": true,
            "ticks": "",
            "zerolinecolor": "white"
           },
           "yaxis": {
            "backgroundcolor": "#E5ECF6",
            "gridcolor": "white",
            "gridwidth": 2,
            "linecolor": "white",
            "showbackground": true,
            "ticks": "",
            "zerolinecolor": "white"
           },
           "zaxis": {
            "backgroundcolor": "#E5ECF6",
            "gridcolor": "white",
            "gridwidth": 2,
            "linecolor": "white",
            "showbackground": true,
            "ticks": "",
            "zerolinecolor": "white"
           }
          },
          "shapedefaults": {
           "line": {
            "color": "#2a3f5f"
           }
          },
          "ternary": {
           "aaxis": {
            "gridcolor": "white",
            "linecolor": "white",
            "ticks": ""
           },
           "baxis": {
            "gridcolor": "white",
            "linecolor": "white",
            "ticks": ""
           },
           "bgcolor": "#E5ECF6",
           "caxis": {
            "gridcolor": "white",
            "linecolor": "white",
            "ticks": ""
           }
          },
          "title": {
           "x": 0.05
          },
          "xaxis": {
           "automargin": true,
           "gridcolor": "white",
           "linecolor": "white",
           "ticks": "",
           "title": {
            "standoff": 15
           },
           "zerolinecolor": "white",
           "zerolinewidth": 2
          },
          "yaxis": {
           "automargin": true,
           "gridcolor": "white",
           "linecolor": "white",
           "ticks": "",
           "title": {
            "standoff": 15
           },
           "zerolinecolor": "white",
           "zerolinewidth": 2
          }
         }
        },
        "xaxis": {
         "anchor": "y",
         "domain": [
          0,
          1
         ],
         "title": {
          "text": "index"
         }
        },
        "yaxis": {
         "anchor": "x",
         "domain": [
          0,
          1
         ],
         "title": {
          "text": "value"
         }
        }
       }
      }
     },
     "metadata": {},
     "output_type": "display_data"
    }
   ],
   "source": [
    "px.scatter(df_1.groupby(\"add_to_cart_order\").agg(coun=(\"add_to_cart_order\",\"count\")).reset_index())"
   ]
  },
  {
   "attachments": {},
   "cell_type": "markdown",
   "metadata": {},
   "source": [
    "### Spielen die Artikel aus dem Department „produce“ in allen Counties eine gleich große Rolle?"
   ]
  },
  {
   "attachments": {},
   "cell_type": "markdown",
   "metadata": {},
   "source": [
    "orders gegrouped by county\n",
    "\n",
    "Anteil von Departments pro der anzahl in counties (oder auf Produkte von Produce)\n",
    "\n",
    "vielleicht auf lineare regression auf unterschiedliche counties (einzelnd nach county)"
   ]
  },
  {
   "cell_type": "code",
   "execution_count": 55,
   "metadata": {},
   "outputs": [],
   "source": [
    "df[df.department == \"produce\"].product_name.to_clipboard()"
   ]
  },
  {
   "attachments": {},
   "cell_type": "markdown",
   "metadata": {},
   "source": [
    "department produce besteht aus früchten und gemüse"
   ]
  },
  {
   "cell_type": "code",
   "execution_count": 46,
   "metadata": {},
   "outputs": [],
   "source": [
    "df_2 = df.groupby([\"county\",\"department\"]).agg(anzahl=(\"department\",\"count\")).reset_index()"
   ]
  },
  {
   "cell_type": "code",
   "execution_count": 51,
   "metadata": {},
   "outputs": [
    {
     "data": {
      "text/html": [
       "<div>\n",
       "<style scoped>\n",
       "    .dataframe tbody tr th:only-of-type {\n",
       "        vertical-align: middle;\n",
       "    }\n",
       "\n",
       "    .dataframe tbody tr th {\n",
       "        vertical-align: top;\n",
       "    }\n",
       "\n",
       "    .dataframe thead th {\n",
       "        text-align: right;\n",
       "    }\n",
       "</style>\n",
       "<table border=\"1\" class=\"dataframe\">\n",
       "  <thead>\n",
       "    <tr style=\"text-align: right;\">\n",
       "      <th></th>\n",
       "      <th>county</th>\n",
       "      <th>department</th>\n",
       "      <th>anzahl</th>\n",
       "      <th>rank</th>\n",
       "    </tr>\n",
       "  </thead>\n",
       "  <tbody>\n",
       "    <tr>\n",
       "      <th>0</th>\n",
       "      <td>Alameda</td>\n",
       "      <td>alcohol</td>\n",
       "      <td>170</td>\n",
       "      <td>15</td>\n",
       "    </tr>\n",
       "    <tr>\n",
       "      <th>1</th>\n",
       "      <td>Alameda</td>\n",
       "      <td>babies</td>\n",
       "      <td>40</td>\n",
       "      <td>16</td>\n",
       "    </tr>\n",
       "    <tr>\n",
       "      <th>2</th>\n",
       "      <td>Alameda</td>\n",
       "      <td>bakery</td>\n",
       "      <td>500</td>\n",
       "      <td>7</td>\n",
       "    </tr>\n",
       "    <tr>\n",
       "      <th>3</th>\n",
       "      <td>Alameda</td>\n",
       "      <td>beverages</td>\n",
       "      <td>2294</td>\n",
       "      <td>3</td>\n",
       "    </tr>\n",
       "    <tr>\n",
       "      <th>4</th>\n",
       "      <td>Alameda</td>\n",
       "      <td>breakfast</td>\n",
       "      <td>351</td>\n",
       "      <td>10</td>\n",
       "    </tr>\n",
       "    <tr>\n",
       "      <th>...</th>\n",
       "      <td>...</td>\n",
       "      <td>...</td>\n",
       "      <td>...</td>\n",
       "      <td>...</td>\n",
       "    </tr>\n",
       "    <tr>\n",
       "      <th>1168</th>\n",
       "      <td>Yuba</td>\n",
       "      <td>pantry</td>\n",
       "      <td>3244</td>\n",
       "      <td>10</td>\n",
       "    </tr>\n",
       "    <tr>\n",
       "      <th>1169</th>\n",
       "      <td>Yuba</td>\n",
       "      <td>personal care</td>\n",
       "      <td>3078</td>\n",
       "      <td>11</td>\n",
       "    </tr>\n",
       "    <tr>\n",
       "      <th>1170</th>\n",
       "      <td>Yuba</td>\n",
       "      <td>pets</td>\n",
       "      <td>552</td>\n",
       "      <td>18</td>\n",
       "    </tr>\n",
       "    <tr>\n",
       "      <th>1171</th>\n",
       "      <td>Yuba</td>\n",
       "      <td>produce</td>\n",
       "      <td>30046</td>\n",
       "      <td>1</td>\n",
       "    </tr>\n",
       "    <tr>\n",
       "      <th>1172</th>\n",
       "      <td>Yuba</td>\n",
       "      <td>snacks</td>\n",
       "      <td>20799</td>\n",
       "      <td>4</td>\n",
       "    </tr>\n",
       "  </tbody>\n",
       "</table>\n",
       "<p>1173 rows × 4 columns</p>\n",
       "</div>"
      ],
      "text/plain": [
       "       county     department  anzahl  rank\n",
       "0     Alameda        alcohol     170    15\n",
       "1     Alameda         babies      40    16\n",
       "2     Alameda         bakery     500     7\n",
       "3     Alameda      beverages    2294     3\n",
       "4     Alameda      breakfast     351    10\n",
       "...       ...            ...     ...   ...\n",
       "1168     Yuba         pantry    3244    10\n",
       "1169     Yuba  personal care    3078    11\n",
       "1170     Yuba           pets     552    18\n",
       "1171     Yuba        produce   30046     1\n",
       "1172     Yuba         snacks   20799     4\n",
       "\n",
       "[1173 rows x 4 columns]"
      ]
     },
     "execution_count": 51,
     "metadata": {},
     "output_type": "execute_result"
    }
   ],
   "source": [
    "df_2"
   ]
  },
  {
   "cell_type": "code",
   "execution_count": 48,
   "metadata": {},
   "outputs": [],
   "source": [
    "df_2[\"rank\"] = 0"
   ]
  },
  {
   "cell_type": "code",
   "execution_count": 49,
   "metadata": {},
   "outputs": [],
   "source": [
    "counties = df_2.county.unique().tolist()"
   ]
  },
  {
   "cell_type": "code",
   "execution_count": 50,
   "metadata": {},
   "outputs": [],
   "source": [
    "for i in counties:\n",
    "    df_2.loc[df_2[\"county\"] == i,\"rank\"] = df_2.loc[df_2[\"county\"] == i].anzahl.rank(method=\"min\",ascending=False)"
   ]
  },
  {
   "cell_type": "code",
   "execution_count": 52,
   "metadata": {},
   "outputs": [
    {
     "data": {
      "text/html": [
       "<div>\n",
       "<style scoped>\n",
       "    .dataframe tbody tr th:only-of-type {\n",
       "        vertical-align: middle;\n",
       "    }\n",
       "\n",
       "    .dataframe tbody tr th {\n",
       "        vertical-align: top;\n",
       "    }\n",
       "\n",
       "    .dataframe thead th {\n",
       "        text-align: right;\n",
       "    }\n",
       "</style>\n",
       "<table border=\"1\" class=\"dataframe\">\n",
       "  <thead>\n",
       "    <tr style=\"text-align: right;\">\n",
       "      <th></th>\n",
       "      <th>county</th>\n",
       "      <th>department</th>\n",
       "      <th>anzahl</th>\n",
       "      <th>rank</th>\n",
       "    </tr>\n",
       "  </thead>\n",
       "  <tbody>\n",
       "    <tr>\n",
       "      <th>19</th>\n",
       "      <td>Alameda</td>\n",
       "      <td>produce</td>\n",
       "      <td>5072</td>\n",
       "      <td>1</td>\n",
       "    </tr>\n",
       "    <tr>\n",
       "      <th>40</th>\n",
       "      <td>Alpine</td>\n",
       "      <td>produce</td>\n",
       "      <td>33453</td>\n",
       "      <td>1</td>\n",
       "    </tr>\n",
       "    <tr>\n",
       "      <th>61</th>\n",
       "      <td>Amador</td>\n",
       "      <td>produce</td>\n",
       "      <td>41772</td>\n",
       "      <td>1</td>\n",
       "    </tr>\n",
       "    <tr>\n",
       "      <th>82</th>\n",
       "      <td>Calaveras</td>\n",
       "      <td>produce</td>\n",
       "      <td>144011</td>\n",
       "      <td>1</td>\n",
       "    </tr>\n",
       "    <tr>\n",
       "      <th>103</th>\n",
       "      <td>Colusa</td>\n",
       "      <td>produce</td>\n",
       "      <td>11451</td>\n",
       "      <td>1</td>\n",
       "    </tr>\n",
       "    <tr>\n",
       "      <th>124</th>\n",
       "      <td>Contra Costa</td>\n",
       "      <td>produce</td>\n",
       "      <td>25817</td>\n",
       "      <td>1</td>\n",
       "    </tr>\n",
       "    <tr>\n",
       "      <th>145</th>\n",
       "      <td>Del Norte</td>\n",
       "      <td>produce</td>\n",
       "      <td>4010</td>\n",
       "      <td>2</td>\n",
       "    </tr>\n",
       "    <tr>\n",
       "      <th>165</th>\n",
       "      <td>El Dorado</td>\n",
       "      <td>produce</td>\n",
       "      <td>4157</td>\n",
       "      <td>1</td>\n",
       "    </tr>\n",
       "    <tr>\n",
       "      <th>186</th>\n",
       "      <td>Fresno</td>\n",
       "      <td>produce</td>\n",
       "      <td>109085</td>\n",
       "      <td>1</td>\n",
       "    </tr>\n",
       "    <tr>\n",
       "      <th>207</th>\n",
       "      <td>Glenn</td>\n",
       "      <td>produce</td>\n",
       "      <td>97957</td>\n",
       "      <td>1</td>\n",
       "    </tr>\n",
       "    <tr>\n",
       "      <th>228</th>\n",
       "      <td>Humboldt</td>\n",
       "      <td>produce</td>\n",
       "      <td>1179</td>\n",
       "      <td>1</td>\n",
       "    </tr>\n",
       "    <tr>\n",
       "      <th>249</th>\n",
       "      <td>Imperial</td>\n",
       "      <td>produce</td>\n",
       "      <td>47752</td>\n",
       "      <td>1</td>\n",
       "    </tr>\n",
       "    <tr>\n",
       "      <th>270</th>\n",
       "      <td>Inyo</td>\n",
       "      <td>produce</td>\n",
       "      <td>16509</td>\n",
       "      <td>1</td>\n",
       "    </tr>\n",
       "    <tr>\n",
       "      <th>291</th>\n",
       "      <td>Kern</td>\n",
       "      <td>produce</td>\n",
       "      <td>96742</td>\n",
       "      <td>1</td>\n",
       "    </tr>\n",
       "    <tr>\n",
       "      <th>312</th>\n",
       "      <td>Kings</td>\n",
       "      <td>produce</td>\n",
       "      <td>10140</td>\n",
       "      <td>1</td>\n",
       "    </tr>\n",
       "    <tr>\n",
       "      <th>333</th>\n",
       "      <td>Lake</td>\n",
       "      <td>produce</td>\n",
       "      <td>44237</td>\n",
       "      <td>1</td>\n",
       "    </tr>\n",
       "    <tr>\n",
       "      <th>354</th>\n",
       "      <td>Lassen</td>\n",
       "      <td>produce</td>\n",
       "      <td>4932</td>\n",
       "      <td>1</td>\n",
       "    </tr>\n",
       "    <tr>\n",
       "      <th>375</th>\n",
       "      <td>Los Angeles</td>\n",
       "      <td>produce</td>\n",
       "      <td>44082</td>\n",
       "      <td>1</td>\n",
       "    </tr>\n",
       "    <tr>\n",
       "      <th>396</th>\n",
       "      <td>Madera</td>\n",
       "      <td>produce</td>\n",
       "      <td>36394</td>\n",
       "      <td>1</td>\n",
       "    </tr>\n",
       "    <tr>\n",
       "      <th>417</th>\n",
       "      <td>Marin</td>\n",
       "      <td>produce</td>\n",
       "      <td>18051</td>\n",
       "      <td>1</td>\n",
       "    </tr>\n",
       "    <tr>\n",
       "      <th>438</th>\n",
       "      <td>Mariposa</td>\n",
       "      <td>produce</td>\n",
       "      <td>66013</td>\n",
       "      <td>1</td>\n",
       "    </tr>\n",
       "    <tr>\n",
       "      <th>459</th>\n",
       "      <td>Mendocino</td>\n",
       "      <td>produce</td>\n",
       "      <td>16364</td>\n",
       "      <td>1</td>\n",
       "    </tr>\n",
       "    <tr>\n",
       "      <th>480</th>\n",
       "      <td>Merced</td>\n",
       "      <td>produce</td>\n",
       "      <td>42878</td>\n",
       "      <td>1</td>\n",
       "    </tr>\n",
       "    <tr>\n",
       "      <th>501</th>\n",
       "      <td>Modoc</td>\n",
       "      <td>produce</td>\n",
       "      <td>20148</td>\n",
       "      <td>1</td>\n",
       "    </tr>\n",
       "    <tr>\n",
       "      <th>521</th>\n",
       "      <td>Mono</td>\n",
       "      <td>produce</td>\n",
       "      <td>9413</td>\n",
       "      <td>1</td>\n",
       "    </tr>\n",
       "    <tr>\n",
       "      <th>542</th>\n",
       "      <td>Monterey</td>\n",
       "      <td>produce</td>\n",
       "      <td>70904</td>\n",
       "      <td>1</td>\n",
       "    </tr>\n",
       "    <tr>\n",
       "      <th>563</th>\n",
       "      <td>Napa</td>\n",
       "      <td>produce</td>\n",
       "      <td>3911</td>\n",
       "      <td>1</td>\n",
       "    </tr>\n",
       "    <tr>\n",
       "      <th>584</th>\n",
       "      <td>Nevada</td>\n",
       "      <td>produce</td>\n",
       "      <td>17533</td>\n",
       "      <td>1</td>\n",
       "    </tr>\n",
       "    <tr>\n",
       "      <th>605</th>\n",
       "      <td>Orange</td>\n",
       "      <td>produce</td>\n",
       "      <td>112803</td>\n",
       "      <td>1</td>\n",
       "    </tr>\n",
       "    <tr>\n",
       "      <th>619</th>\n",
       "      <td>Placer</td>\n",
       "      <td>produce</td>\n",
       "      <td>98</td>\n",
       "      <td>1</td>\n",
       "    </tr>\n",
       "    <tr>\n",
       "      <th>640</th>\n",
       "      <td>Plumas</td>\n",
       "      <td>produce</td>\n",
       "      <td>19718</td>\n",
       "      <td>1</td>\n",
       "    </tr>\n",
       "    <tr>\n",
       "      <th>661</th>\n",
       "      <td>Riverside</td>\n",
       "      <td>produce</td>\n",
       "      <td>12117</td>\n",
       "      <td>1</td>\n",
       "    </tr>\n",
       "    <tr>\n",
       "      <th>682</th>\n",
       "      <td>Sacramento</td>\n",
       "      <td>produce</td>\n",
       "      <td>38146</td>\n",
       "      <td>1</td>\n",
       "    </tr>\n",
       "    <tr>\n",
       "      <th>703</th>\n",
       "      <td>San Benito</td>\n",
       "      <td>produce</td>\n",
       "      <td>24929</td>\n",
       "      <td>1</td>\n",
       "    </tr>\n",
       "    <tr>\n",
       "      <th>715</th>\n",
       "      <td>San Bernardino</td>\n",
       "      <td>produce</td>\n",
       "      <td>19</td>\n",
       "      <td>3</td>\n",
       "    </tr>\n",
       "    <tr>\n",
       "      <th>736</th>\n",
       "      <td>San Diego</td>\n",
       "      <td>produce</td>\n",
       "      <td>4633</td>\n",
       "      <td>1</td>\n",
       "    </tr>\n",
       "    <tr>\n",
       "      <th>757</th>\n",
       "      <td>San Francisco</td>\n",
       "      <td>produce</td>\n",
       "      <td>48118</td>\n",
       "      <td>1</td>\n",
       "    </tr>\n",
       "    <tr>\n",
       "      <th>778</th>\n",
       "      <td>San Joaquin</td>\n",
       "      <td>produce</td>\n",
       "      <td>2415</td>\n",
       "      <td>1</td>\n",
       "    </tr>\n",
       "    <tr>\n",
       "      <th>799</th>\n",
       "      <td>San Luis Obispo</td>\n",
       "      <td>produce</td>\n",
       "      <td>8842</td>\n",
       "      <td>1</td>\n",
       "    </tr>\n",
       "    <tr>\n",
       "      <th>819</th>\n",
       "      <td>San Mateo</td>\n",
       "      <td>produce</td>\n",
       "      <td>31647</td>\n",
       "      <td>1</td>\n",
       "    </tr>\n",
       "    <tr>\n",
       "      <th>840</th>\n",
       "      <td>Santa Barbara</td>\n",
       "      <td>produce</td>\n",
       "      <td>60914</td>\n",
       "      <td>1</td>\n",
       "    </tr>\n",
       "    <tr>\n",
       "      <th>861</th>\n",
       "      <td>Santa Clara</td>\n",
       "      <td>produce</td>\n",
       "      <td>23649</td>\n",
       "      <td>1</td>\n",
       "    </tr>\n",
       "    <tr>\n",
       "      <th>882</th>\n",
       "      <td>Santa Cruz</td>\n",
       "      <td>produce</td>\n",
       "      <td>52390</td>\n",
       "      <td>1</td>\n",
       "    </tr>\n",
       "    <tr>\n",
       "      <th>903</th>\n",
       "      <td>Shasta</td>\n",
       "      <td>produce</td>\n",
       "      <td>11091</td>\n",
       "      <td>1</td>\n",
       "    </tr>\n",
       "    <tr>\n",
       "      <th>924</th>\n",
       "      <td>Sierra</td>\n",
       "      <td>produce</td>\n",
       "      <td>5133</td>\n",
       "      <td>2</td>\n",
       "    </tr>\n",
       "    <tr>\n",
       "      <th>945</th>\n",
       "      <td>Siskiyou</td>\n",
       "      <td>produce</td>\n",
       "      <td>22394</td>\n",
       "      <td>1</td>\n",
       "    </tr>\n",
       "    <tr>\n",
       "      <th>966</th>\n",
       "      <td>Solano</td>\n",
       "      <td>produce</td>\n",
       "      <td>10236</td>\n",
       "      <td>1</td>\n",
       "    </tr>\n",
       "    <tr>\n",
       "      <th>987</th>\n",
       "      <td>Sonoma</td>\n",
       "      <td>produce</td>\n",
       "      <td>5446</td>\n",
       "      <td>1</td>\n",
       "    </tr>\n",
       "    <tr>\n",
       "      <th>1008</th>\n",
       "      <td>Stanislaus</td>\n",
       "      <td>produce</td>\n",
       "      <td>8695</td>\n",
       "      <td>1</td>\n",
       "    </tr>\n",
       "    <tr>\n",
       "      <th>1029</th>\n",
       "      <td>Sutter</td>\n",
       "      <td>produce</td>\n",
       "      <td>87854</td>\n",
       "      <td>1</td>\n",
       "    </tr>\n",
       "    <tr>\n",
       "      <th>1050</th>\n",
       "      <td>Tehama</td>\n",
       "      <td>produce</td>\n",
       "      <td>1548</td>\n",
       "      <td>2</td>\n",
       "    </tr>\n",
       "    <tr>\n",
       "      <th>1067</th>\n",
       "      <td>Trinity</td>\n",
       "      <td>produce</td>\n",
       "      <td>495</td>\n",
       "      <td>1</td>\n",
       "    </tr>\n",
       "    <tr>\n",
       "      <th>1087</th>\n",
       "      <td>Tulare</td>\n",
       "      <td>produce</td>\n",
       "      <td>5380</td>\n",
       "      <td>1</td>\n",
       "    </tr>\n",
       "    <tr>\n",
       "      <th>1108</th>\n",
       "      <td>Tuolumne</td>\n",
       "      <td>produce</td>\n",
       "      <td>9217</td>\n",
       "      <td>1</td>\n",
       "    </tr>\n",
       "    <tr>\n",
       "      <th>1129</th>\n",
       "      <td>Ventura</td>\n",
       "      <td>produce</td>\n",
       "      <td>67083</td>\n",
       "      <td>1</td>\n",
       "    </tr>\n",
       "    <tr>\n",
       "      <th>1150</th>\n",
       "      <td>Yolo</td>\n",
       "      <td>produce</td>\n",
       "      <td>24880</td>\n",
       "      <td>1</td>\n",
       "    </tr>\n",
       "    <tr>\n",
       "      <th>1171</th>\n",
       "      <td>Yuba</td>\n",
       "      <td>produce</td>\n",
       "      <td>30046</td>\n",
       "      <td>1</td>\n",
       "    </tr>\n",
       "  </tbody>\n",
       "</table>\n",
       "</div>"
      ],
      "text/plain": [
       "               county department  anzahl  rank\n",
       "19            Alameda    produce    5072     1\n",
       "40             Alpine    produce   33453     1\n",
       "61             Amador    produce   41772     1\n",
       "82          Calaveras    produce  144011     1\n",
       "103            Colusa    produce   11451     1\n",
       "124      Contra Costa    produce   25817     1\n",
       "145         Del Norte    produce    4010     2\n",
       "165         El Dorado    produce    4157     1\n",
       "186            Fresno    produce  109085     1\n",
       "207             Glenn    produce   97957     1\n",
       "228          Humboldt    produce    1179     1\n",
       "249          Imperial    produce   47752     1\n",
       "270              Inyo    produce   16509     1\n",
       "291              Kern    produce   96742     1\n",
       "312             Kings    produce   10140     1\n",
       "333              Lake    produce   44237     1\n",
       "354            Lassen    produce    4932     1\n",
       "375       Los Angeles    produce   44082     1\n",
       "396            Madera    produce   36394     1\n",
       "417             Marin    produce   18051     1\n",
       "438          Mariposa    produce   66013     1\n",
       "459         Mendocino    produce   16364     1\n",
       "480            Merced    produce   42878     1\n",
       "501             Modoc    produce   20148     1\n",
       "521              Mono    produce    9413     1\n",
       "542          Monterey    produce   70904     1\n",
       "563              Napa    produce    3911     1\n",
       "584            Nevada    produce   17533     1\n",
       "605            Orange    produce  112803     1\n",
       "619            Placer    produce      98     1\n",
       "640            Plumas    produce   19718     1\n",
       "661         Riverside    produce   12117     1\n",
       "682        Sacramento    produce   38146     1\n",
       "703        San Benito    produce   24929     1\n",
       "715    San Bernardino    produce      19     3\n",
       "736         San Diego    produce    4633     1\n",
       "757     San Francisco    produce   48118     1\n",
       "778       San Joaquin    produce    2415     1\n",
       "799   San Luis Obispo    produce    8842     1\n",
       "819         San Mateo    produce   31647     1\n",
       "840     Santa Barbara    produce   60914     1\n",
       "861       Santa Clara    produce   23649     1\n",
       "882        Santa Cruz    produce   52390     1\n",
       "903            Shasta    produce   11091     1\n",
       "924            Sierra    produce    5133     2\n",
       "945          Siskiyou    produce   22394     1\n",
       "966            Solano    produce   10236     1\n",
       "987            Sonoma    produce    5446     1\n",
       "1008       Stanislaus    produce    8695     1\n",
       "1029           Sutter    produce   87854     1\n",
       "1050           Tehama    produce    1548     2\n",
       "1067          Trinity    produce     495     1\n",
       "1087           Tulare    produce    5380     1\n",
       "1108         Tuolumne    produce    9217     1\n",
       "1129          Ventura    produce   67083     1\n",
       "1150             Yolo    produce   24880     1\n",
       "1171             Yuba    produce   30046     1"
      ]
     },
     "execution_count": 52,
     "metadata": {},
     "output_type": "execute_result"
    }
   ],
   "source": [
    "df_2[df_2.department == \"produce\"]"
   ]
  },
  {
   "attachments": {},
   "cell_type": "markdown",
   "metadata": {},
   "source": [
    "### Welche Counties sind sich ähnlich in Hinblick auf die jeweiligen „Top 10“-Produkte?"
   ]
  },
  {
   "attachments": {},
   "cell_type": "markdown",
   "metadata": {},
   "source": [
    "was sind die Top Produkte also entweder meist verkauften oder die mit der besten tipratio oder höchsten reordered ratio"
   ]
  },
  {
   "attachments": {},
   "cell_type": "markdown",
   "metadata": {},
   "source": [
    "ähnlichkeit anhand von produkten oder oder departments\n"
   ]
  },
  {
   "cell_type": "code",
   "execution_count": 25,
   "metadata": {},
   "outputs": [],
   "source": [
    "df_3 = df.groupby([\"county\",\"product_name\"]).agg(anzahl=(\"product_name\",\"count\")).reset_index()"
   ]
  },
  {
   "cell_type": "code",
   "execution_count": 27,
   "metadata": {},
   "outputs": [],
   "source": [
    "df_3[\"rank\"] = 0"
   ]
  },
  {
   "cell_type": "code",
   "execution_count": 32,
   "metadata": {},
   "outputs": [
    {
     "data": {
      "text/html": [
       "<div>\n",
       "<style scoped>\n",
       "    .dataframe tbody tr th:only-of-type {\n",
       "        vertical-align: middle;\n",
       "    }\n",
       "\n",
       "    .dataframe tbody tr th {\n",
       "        vertical-align: top;\n",
       "    }\n",
       "\n",
       "    .dataframe thead th {\n",
       "        text-align: right;\n",
       "    }\n",
       "</style>\n",
       "<table border=\"1\" class=\"dataframe\">\n",
       "  <thead>\n",
       "    <tr style=\"text-align: right;\">\n",
       "      <th></th>\n",
       "      <th>county</th>\n",
       "      <th>product_name</th>\n",
       "      <th>anzahl</th>\n",
       "      <th>rank</th>\n",
       "    </tr>\n",
       "  </thead>\n",
       "  <tbody>\n",
       "    <tr>\n",
       "      <th>0</th>\n",
       "      <td>Alameda</td>\n",
       "      <td>0% Fat Free Organic Milk</td>\n",
       "      <td>3</td>\n",
       "      <td>0</td>\n",
       "    </tr>\n",
       "    <tr>\n",
       "      <th>1</th>\n",
       "      <td>Alameda</td>\n",
       "      <td>0% Greek Strained Yogurt</td>\n",
       "      <td>120</td>\n",
       "      <td>0</td>\n",
       "    </tr>\n",
       "    <tr>\n",
       "      <th>2</th>\n",
       "      <td>Alameda</td>\n",
       "      <td>1% Low Fat Milk</td>\n",
       "      <td>7</td>\n",
       "      <td>0</td>\n",
       "    </tr>\n",
       "    <tr>\n",
       "      <th>3</th>\n",
       "      <td>Alameda</td>\n",
       "      <td>1% Milkfat Low Fat Vitamin A &amp; D Milk</td>\n",
       "      <td>1</td>\n",
       "      <td>0</td>\n",
       "    </tr>\n",
       "    <tr>\n",
       "      <th>4</th>\n",
       "      <td>Alameda</td>\n",
       "      <td>100 Calorie  Per Bag Popcorn</td>\n",
       "      <td>12</td>\n",
       "      <td>0</td>\n",
       "    </tr>\n",
       "    <tr>\n",
       "      <th>...</th>\n",
       "      <td>...</td>\n",
       "      <td>...</td>\n",
       "      <td>...</td>\n",
       "      <td>...</td>\n",
       "    </tr>\n",
       "    <tr>\n",
       "      <th>579229</th>\n",
       "      <td>Yuba</td>\n",
       "      <td>with Olive Oil Mayonnaise</td>\n",
       "      <td>1</td>\n",
       "      <td>0</td>\n",
       "    </tr>\n",
       "    <tr>\n",
       "      <th>579230</th>\n",
       "      <td>Yuba</td>\n",
       "      <td>with Olive Oil Mayonnaise Dressing</td>\n",
       "      <td>1</td>\n",
       "      <td>0</td>\n",
       "    </tr>\n",
       "    <tr>\n",
       "      <th>579231</th>\n",
       "      <td>Yuba</td>\n",
       "      <td>with Twist Ties Sandwich &amp; Storage Bags</td>\n",
       "      <td>4</td>\n",
       "      <td>0</td>\n",
       "    </tr>\n",
       "    <tr>\n",
       "      <th>579232</th>\n",
       "      <td>Yuba</td>\n",
       "      <td>with Xylitol Original Flavor 18 Sticks Sugar F...</td>\n",
       "      <td>6</td>\n",
       "      <td>0</td>\n",
       "    </tr>\n",
       "    <tr>\n",
       "      <th>579233</th>\n",
       "      <td>Yuba</td>\n",
       "      <td>with a Splash of Pineapple Coconut Water</td>\n",
       "      <td>1</td>\n",
       "      <td>0</td>\n",
       "    </tr>\n",
       "  </tbody>\n",
       "</table>\n",
       "<p>579234 rows × 4 columns</p>\n",
       "</div>"
      ],
      "text/plain": [
       "         county                                       product_name  anzahl  \\\n",
       "0       Alameda                           0% Fat Free Organic Milk       3   \n",
       "1       Alameda                           0% Greek Strained Yogurt     120   \n",
       "2       Alameda                                    1% Low Fat Milk       7   \n",
       "3       Alameda              1% Milkfat Low Fat Vitamin A & D Milk       1   \n",
       "4       Alameda                       100 Calorie  Per Bag Popcorn      12   \n",
       "...         ...                                                ...     ...   \n",
       "579229     Yuba                          with Olive Oil Mayonnaise       1   \n",
       "579230     Yuba                 with Olive Oil Mayonnaise Dressing       1   \n",
       "579231     Yuba            with Twist Ties Sandwich & Storage Bags       4   \n",
       "579232     Yuba  with Xylitol Original Flavor 18 Sticks Sugar F...       6   \n",
       "579233     Yuba           with a Splash of Pineapple Coconut Water       1   \n",
       "\n",
       "        rank  \n",
       "0          0  \n",
       "1          0  \n",
       "2          0  \n",
       "3          0  \n",
       "4          0  \n",
       "...      ...  \n",
       "579229     0  \n",
       "579230     0  \n",
       "579231     0  \n",
       "579232     0  \n",
       "579233     0  \n",
       "\n",
       "[579234 rows x 4 columns]"
      ]
     },
     "execution_count": 32,
     "metadata": {},
     "output_type": "execute_result"
    }
   ],
   "source": [
    "df_3"
   ]
  },
  {
   "cell_type": "code",
   "execution_count": 30,
   "metadata": {},
   "outputs": [],
   "source": [
    "counties = df_3.county.unique().tolist()"
   ]
  },
  {
   "cell_type": "code",
   "execution_count": 31,
   "metadata": {},
   "outputs": [
    {
     "data": {
      "text/plain": [
       "['Alameda',\n",
       " 'Alpine',\n",
       " 'Amador',\n",
       " 'Calaveras',\n",
       " 'Colusa',\n",
       " 'Contra Costa',\n",
       " 'Del Norte',\n",
       " 'El Dorado',\n",
       " 'Fresno',\n",
       " 'Glenn',\n",
       " 'Humboldt',\n",
       " 'Imperial',\n",
       " 'Inyo',\n",
       " 'Kern',\n",
       " 'Kings',\n",
       " 'Lake',\n",
       " 'Lassen',\n",
       " 'Los Angeles',\n",
       " 'Madera',\n",
       " 'Marin',\n",
       " 'Mariposa',\n",
       " 'Mendocino',\n",
       " 'Merced',\n",
       " 'Modoc',\n",
       " 'Mono',\n",
       " 'Monterey',\n",
       " 'Napa',\n",
       " 'Nevada',\n",
       " 'Orange',\n",
       " 'Placer',\n",
       " 'Plumas',\n",
       " 'Riverside',\n",
       " 'Sacramento',\n",
       " 'San Benito',\n",
       " 'San Bernardino',\n",
       " 'San Diego',\n",
       " 'San Francisco',\n",
       " 'San Joaquin',\n",
       " 'San Luis Obispo',\n",
       " 'San Mateo',\n",
       " 'Santa Barbara',\n",
       " 'Santa Clara',\n",
       " 'Santa Cruz',\n",
       " 'Shasta',\n",
       " 'Sierra',\n",
       " 'Siskiyou',\n",
       " 'Solano',\n",
       " 'Sonoma',\n",
       " 'Stanislaus',\n",
       " 'Sutter',\n",
       " 'Tehama',\n",
       " 'Trinity',\n",
       " 'Tulare',\n",
       " 'Tuolumne',\n",
       " 'Ventura',\n",
       " 'Yolo',\n",
       " 'Yuba']"
      ]
     },
     "execution_count": 31,
     "metadata": {},
     "output_type": "execute_result"
    }
   ],
   "source": [
    "counties"
   ]
  },
  {
   "cell_type": "code",
   "execution_count": 35,
   "metadata": {},
   "outputs": [],
   "source": [
    "for i in counties:\n",
    "    df_3.loc[df_3[\"county\"] == i,\"rank\"] = df_3.loc[df_3[\"county\"] == i].anzahl.rank(method=\"min\",ascending=False)"
   ]
  },
  {
   "cell_type": "code",
   "execution_count": 36,
   "metadata": {},
   "outputs": [
    {
     "data": {
      "text/html": [
       "<div>\n",
       "<style scoped>\n",
       "    .dataframe tbody tr th:only-of-type {\n",
       "        vertical-align: middle;\n",
       "    }\n",
       "\n",
       "    .dataframe tbody tr th {\n",
       "        vertical-align: top;\n",
       "    }\n",
       "\n",
       "    .dataframe thead th {\n",
       "        text-align: right;\n",
       "    }\n",
       "</style>\n",
       "<table border=\"1\" class=\"dataframe\">\n",
       "  <thead>\n",
       "    <tr style=\"text-align: right;\">\n",
       "      <th></th>\n",
       "      <th>county</th>\n",
       "      <th>product_name</th>\n",
       "      <th>anzahl</th>\n",
       "      <th>rank</th>\n",
       "    </tr>\n",
       "  </thead>\n",
       "  <tbody>\n",
       "    <tr>\n",
       "      <th>0</th>\n",
       "      <td>Alameda</td>\n",
       "      <td>0% Fat Free Organic Milk</td>\n",
       "      <td>3</td>\n",
       "      <td>993.0</td>\n",
       "    </tr>\n",
       "    <tr>\n",
       "      <th>1</th>\n",
       "      <td>Alameda</td>\n",
       "      <td>0% Greek Strained Yogurt</td>\n",
       "      <td>120</td>\n",
       "      <td>8.0</td>\n",
       "    </tr>\n",
       "    <tr>\n",
       "      <th>2</th>\n",
       "      <td>Alameda</td>\n",
       "      <td>1% Low Fat Milk</td>\n",
       "      <td>7</td>\n",
       "      <td>457.0</td>\n",
       "    </tr>\n",
       "    <tr>\n",
       "      <th>3</th>\n",
       "      <td>Alameda</td>\n",
       "      <td>1% Milkfat Low Fat Vitamin A &amp; D Milk</td>\n",
       "      <td>1</td>\n",
       "      <td>1930.0</td>\n",
       "    </tr>\n",
       "    <tr>\n",
       "      <th>4</th>\n",
       "      <td>Alameda</td>\n",
       "      <td>100 Calorie  Per Bag Popcorn</td>\n",
       "      <td>12</td>\n",
       "      <td>259.0</td>\n",
       "    </tr>\n",
       "    <tr>\n",
       "      <th>...</th>\n",
       "      <td>...</td>\n",
       "      <td>...</td>\n",
       "      <td>...</td>\n",
       "      <td>...</td>\n",
       "    </tr>\n",
       "    <tr>\n",
       "      <th>579229</th>\n",
       "      <td>Yuba</td>\n",
       "      <td>with Olive Oil Mayonnaise</td>\n",
       "      <td>1</td>\n",
       "      <td>10261.0</td>\n",
       "    </tr>\n",
       "    <tr>\n",
       "      <th>579230</th>\n",
       "      <td>Yuba</td>\n",
       "      <td>with Olive Oil Mayonnaise Dressing</td>\n",
       "      <td>1</td>\n",
       "      <td>10261.0</td>\n",
       "    </tr>\n",
       "    <tr>\n",
       "      <th>579231</th>\n",
       "      <td>Yuba</td>\n",
       "      <td>with Twist Ties Sandwich &amp; Storage Bags</td>\n",
       "      <td>4</td>\n",
       "      <td>5618.0</td>\n",
       "    </tr>\n",
       "    <tr>\n",
       "      <th>579232</th>\n",
       "      <td>Yuba</td>\n",
       "      <td>with Xylitol Original Flavor 18 Sticks Sugar F...</td>\n",
       "      <td>6</td>\n",
       "      <td>4318.0</td>\n",
       "    </tr>\n",
       "    <tr>\n",
       "      <th>579233</th>\n",
       "      <td>Yuba</td>\n",
       "      <td>with a Splash of Pineapple Coconut Water</td>\n",
       "      <td>1</td>\n",
       "      <td>10261.0</td>\n",
       "    </tr>\n",
       "  </tbody>\n",
       "</table>\n",
       "<p>579234 rows × 4 columns</p>\n",
       "</div>"
      ],
      "text/plain": [
       "         county                                       product_name  anzahl  \\\n",
       "0       Alameda                           0% Fat Free Organic Milk       3   \n",
       "1       Alameda                           0% Greek Strained Yogurt     120   \n",
       "2       Alameda                                    1% Low Fat Milk       7   \n",
       "3       Alameda              1% Milkfat Low Fat Vitamin A & D Milk       1   \n",
       "4       Alameda                       100 Calorie  Per Bag Popcorn      12   \n",
       "...         ...                                                ...     ...   \n",
       "579229     Yuba                          with Olive Oil Mayonnaise       1   \n",
       "579230     Yuba                 with Olive Oil Mayonnaise Dressing       1   \n",
       "579231     Yuba            with Twist Ties Sandwich & Storage Bags       4   \n",
       "579232     Yuba  with Xylitol Original Flavor 18 Sticks Sugar F...       6   \n",
       "579233     Yuba           with a Splash of Pineapple Coconut Water       1   \n",
       "\n",
       "           rank  \n",
       "0         993.0  \n",
       "1           8.0  \n",
       "2         457.0  \n",
       "3        1930.0  \n",
       "4         259.0  \n",
       "...         ...  \n",
       "579229  10261.0  \n",
       "579230  10261.0  \n",
       "579231   5618.0  \n",
       "579232   4318.0  \n",
       "579233  10261.0  \n",
       "\n",
       "[579234 rows x 4 columns]"
      ]
     },
     "execution_count": 36,
     "metadata": {},
     "output_type": "execute_result"
    }
   ],
   "source": [
    "df_3"
   ]
  },
  {
   "cell_type": "code",
   "execution_count": 41,
   "metadata": {},
   "outputs": [],
   "source": [
    "df_4 = df_3[df_3[\"rank\"].isin(range(11))]"
   ]
  },
  {
   "cell_type": "code",
   "execution_count": 44,
   "metadata": {},
   "outputs": [
    {
     "data": {
      "text/html": [
       "<div>\n",
       "<style scoped>\n",
       "    .dataframe tbody tr th:only-of-type {\n",
       "        vertical-align: middle;\n",
       "    }\n",
       "\n",
       "    .dataframe tbody tr th {\n",
       "        vertical-align: top;\n",
       "    }\n",
       "\n",
       "    .dataframe thead th {\n",
       "        text-align: right;\n",
       "    }\n",
       "</style>\n",
       "<table border=\"1\" class=\"dataframe\">\n",
       "  <thead>\n",
       "    <tr style=\"text-align: right;\">\n",
       "      <th></th>\n",
       "      <th>county</th>\n",
       "      <th>product_name</th>\n",
       "      <th>anzahl</th>\n",
       "      <th>rank</th>\n",
       "    </tr>\n",
       "  </thead>\n",
       "  <tbody>\n",
       "    <tr>\n",
       "      <th>1</th>\n",
       "      <td>Alameda</td>\n",
       "      <td>0% Greek Strained Yogurt</td>\n",
       "      <td>120</td>\n",
       "      <td>8.0</td>\n",
       "    </tr>\n",
       "    <tr>\n",
       "      <th>165</th>\n",
       "      <td>Alameda</td>\n",
       "      <td>Apples</td>\n",
       "      <td>122</td>\n",
       "      <td>7.0</td>\n",
       "    </tr>\n",
       "    <tr>\n",
       "      <th>218</th>\n",
       "      <td>Alameda</td>\n",
       "      <td>Bag of Organic Bananas</td>\n",
       "      <td>269</td>\n",
       "      <td>2.0</td>\n",
       "    </tr>\n",
       "    <tr>\n",
       "      <th>233</th>\n",
       "      <td>Alameda</td>\n",
       "      <td>Banana</td>\n",
       "      <td>352</td>\n",
       "      <td>1.0</td>\n",
       "    </tr>\n",
       "    <tr>\n",
       "      <th>654</th>\n",
       "      <td>Alameda</td>\n",
       "      <td>Clementines</td>\n",
       "      <td>177</td>\n",
       "      <td>3.0</td>\n",
       "    </tr>\n",
       "    <tr>\n",
       "      <th>1219</th>\n",
       "      <td>Alameda</td>\n",
       "      <td>Granny Smith Apples</td>\n",
       "      <td>139</td>\n",
       "      <td>5.0</td>\n",
       "    </tr>\n",
       "    <tr>\n",
       "      <th>2106</th>\n",
       "      <td>Alameda</td>\n",
       "      <td>Organic Granny Smith Apple</td>\n",
       "      <td>102</td>\n",
       "      <td>10.0</td>\n",
       "    </tr>\n",
       "    <tr>\n",
       "      <th>2124</th>\n",
       "      <td>Alameda</td>\n",
       "      <td>Organic Half &amp; Half</td>\n",
       "      <td>102</td>\n",
       "      <td>10.0</td>\n",
       "    </tr>\n",
       "    <tr>\n",
       "      <th>2351</th>\n",
       "      <td>Alameda</td>\n",
       "      <td>Organic Strawberries</td>\n",
       "      <td>168</td>\n",
       "      <td>4.0</td>\n",
       "    </tr>\n",
       "    <tr>\n",
       "      <th>3047</th>\n",
       "      <td>Alameda</td>\n",
       "      <td>Soda</td>\n",
       "      <td>106</td>\n",
       "      <td>9.0</td>\n",
       "    </tr>\n",
       "    <tr>\n",
       "      <th>3083</th>\n",
       "      <td>Alameda</td>\n",
       "      <td>Sparkling Mineral Water</td>\n",
       "      <td>130</td>\n",
       "      <td>6.0</td>\n",
       "    </tr>\n",
       "    <tr>\n",
       "      <th>4518</th>\n",
       "      <td>Alpine</td>\n",
       "      <td>Bag of Organic Bananas</td>\n",
       "      <td>1364</td>\n",
       "      <td>2.0</td>\n",
       "    </tr>\n",
       "    <tr>\n",
       "      <th>4580</th>\n",
       "      <td>Alpine</td>\n",
       "      <td>Banana</td>\n",
       "      <td>1379</td>\n",
       "      <td>1.0</td>\n",
       "    </tr>\n",
       "    <tr>\n",
       "      <th>11166</th>\n",
       "      <td>Alpine</td>\n",
       "      <td>Organic Baby Spinach</td>\n",
       "      <td>872</td>\n",
       "      <td>4.0</td>\n",
       "    </tr>\n",
       "    <tr>\n",
       "      <th>11823</th>\n",
       "      <td>Alpine</td>\n",
       "      <td>Organic Hass Avocado</td>\n",
       "      <td>834</td>\n",
       "      <td>5.0</td>\n",
       "    </tr>\n",
       "    <tr>\n",
       "      <th>12298</th>\n",
       "      <td>Alpine</td>\n",
       "      <td>Organic Raspberries</td>\n",
       "      <td>572</td>\n",
       "      <td>6.0</td>\n",
       "    </tr>\n",
       "    <tr>\n",
       "      <th>12561</th>\n",
       "      <td>Alpine</td>\n",
       "      <td>Organic Strawberries</td>\n",
       "      <td>1012</td>\n",
       "      <td>3.0</td>\n",
       "    </tr>\n",
       "    <tr>\n",
       "      <th>12820</th>\n",
       "      <td>Alpine</td>\n",
       "      <td>Organic Whole Milk</td>\n",
       "      <td>550</td>\n",
       "      <td>7.0</td>\n",
       "    </tr>\n",
       "    <tr>\n",
       "      <th>12864</th>\n",
       "      <td>Alpine</td>\n",
       "      <td>Organic Yellow Onion</td>\n",
       "      <td>475</td>\n",
       "      <td>10.0</td>\n",
       "    </tr>\n",
       "    <tr>\n",
       "      <th>12882</th>\n",
       "      <td>Alpine</td>\n",
       "      <td>Organic Zucchini</td>\n",
       "      <td>481</td>\n",
       "      <td>9.0</td>\n",
       "    </tr>\n",
       "    <tr>\n",
       "      <th>15534</th>\n",
       "      <td>Alpine</td>\n",
       "      <td>Strawberries</td>\n",
       "      <td>498</td>\n",
       "      <td>8.0</td>\n",
       "    </tr>\n",
       "    <tr>\n",
       "      <th>18156</th>\n",
       "      <td>Amador</td>\n",
       "      <td>Bag of Organic Bananas</td>\n",
       "      <td>1954</td>\n",
       "      <td>1.0</td>\n",
       "    </tr>\n",
       "    <tr>\n",
       "      <th>18206</th>\n",
       "      <td>Amador</td>\n",
       "      <td>Banana</td>\n",
       "      <td>1686</td>\n",
       "      <td>2.0</td>\n",
       "    </tr>\n",
       "    <tr>\n",
       "      <th>19569</th>\n",
       "      <td>Amador</td>\n",
       "      <td>Clementines</td>\n",
       "      <td>604</td>\n",
       "      <td>8.0</td>\n",
       "    </tr>\n",
       "    <tr>\n",
       "      <th>22579</th>\n",
       "      <td>Amador</td>\n",
       "      <td>Large Lemon</td>\n",
       "      <td>589</td>\n",
       "      <td>9.0</td>\n",
       "    </tr>\n",
       "    <tr>\n",
       "      <th>24089</th>\n",
       "      <td>Amador</td>\n",
       "      <td>Organic Avocado</td>\n",
       "      <td>565</td>\n",
       "      <td>10.0</td>\n",
       "    </tr>\n",
       "    <tr>\n",
       "      <th>24109</th>\n",
       "      <td>Amador</td>\n",
       "      <td>Organic Baby Spinach</td>\n",
       "      <td>1010</td>\n",
       "      <td>4.0</td>\n",
       "    </tr>\n",
       "    <tr>\n",
       "      <th>24700</th>\n",
       "      <td>Amador</td>\n",
       "      <td>Organic Hass Avocado</td>\n",
       "      <td>742</td>\n",
       "      <td>6.0</td>\n",
       "    </tr>\n",
       "    <tr>\n",
       "      <th>25347</th>\n",
       "      <td>Amador</td>\n",
       "      <td>Organic Strawberries</td>\n",
       "      <td>994</td>\n",
       "      <td>5.0</td>\n",
       "    </tr>\n",
       "    <tr>\n",
       "      <th>26813</th>\n",
       "      <td>Amador</td>\n",
       "      <td>Raspberries</td>\n",
       "      <td>661</td>\n",
       "      <td>7.0</td>\n",
       "    </tr>\n",
       "    <tr>\n",
       "      <th>28061</th>\n",
       "      <td>Amador</td>\n",
       "      <td>Strawberries</td>\n",
       "      <td>1017</td>\n",
       "      <td>3.0</td>\n",
       "    </tr>\n",
       "    <tr>\n",
       "      <th>31281</th>\n",
       "      <td>Calaveras</td>\n",
       "      <td>Bag of Organic Bananas</td>\n",
       "      <td>5192</td>\n",
       "      <td>2.0</td>\n",
       "    </tr>\n",
       "    <tr>\n",
       "      <th>31399</th>\n",
       "      <td>Calaveras</td>\n",
       "      <td>Banana</td>\n",
       "      <td>7381</td>\n",
       "      <td>1.0</td>\n",
       "    </tr>\n",
       "    <tr>\n",
       "      <th>40238</th>\n",
       "      <td>Calaveras</td>\n",
       "      <td>Large Lemon</td>\n",
       "      <td>2312</td>\n",
       "      <td>7.0</td>\n",
       "    </tr>\n",
       "    <tr>\n",
       "      <th>40737</th>\n",
       "      <td>Calaveras</td>\n",
       "      <td>Limes</td>\n",
       "      <td>2251</td>\n",
       "      <td>8.0</td>\n",
       "    </tr>\n",
       "    <tr>\n",
       "      <th>43233</th>\n",
       "      <td>Calaveras</td>\n",
       "      <td>Organic Avocado</td>\n",
       "      <td>2937</td>\n",
       "      <td>6.0</td>\n",
       "    </tr>\n",
       "    <tr>\n",
       "      <th>43256</th>\n",
       "      <td>Calaveras</td>\n",
       "      <td>Organic Baby Spinach</td>\n",
       "      <td>3839</td>\n",
       "      <td>4.0</td>\n",
       "    </tr>\n",
       "    <tr>\n",
       "      <th>44197</th>\n",
       "      <td>Calaveras</td>\n",
       "      <td>Organic Hass Avocado</td>\n",
       "      <td>3542</td>\n",
       "      <td>5.0</td>\n",
       "    </tr>\n",
       "    <tr>\n",
       "      <th>44890</th>\n",
       "      <td>Calaveras</td>\n",
       "      <td>Organic Raspberries</td>\n",
       "      <td>2137</td>\n",
       "      <td>10.0</td>\n",
       "    </tr>\n",
       "    <tr>\n",
       "      <th>45259</th>\n",
       "      <td>Calaveras</td>\n",
       "      <td>Organic Strawberries</td>\n",
       "      <td>4177</td>\n",
       "      <td>3.0</td>\n",
       "    </tr>\n",
       "    <tr>\n",
       "      <th>50558</th>\n",
       "      <td>Calaveras</td>\n",
       "      <td>Strawberries</td>\n",
       "      <td>2140</td>\n",
       "      <td>9.0</td>\n",
       "    </tr>\n",
       "    <tr>\n",
       "      <th>54097</th>\n",
       "      <td>Colusa</td>\n",
       "      <td>Bag of Organic Bananas</td>\n",
       "      <td>571</td>\n",
       "      <td>1.0</td>\n",
       "    </tr>\n",
       "    <tr>\n",
       "      <th>54123</th>\n",
       "      <td>Colusa</td>\n",
       "      <td>Banana</td>\n",
       "      <td>556</td>\n",
       "      <td>2.0</td>\n",
       "    </tr>\n",
       "    <tr>\n",
       "      <th>54701</th>\n",
       "      <td>Colusa</td>\n",
       "      <td>Clementines</td>\n",
       "      <td>171</td>\n",
       "      <td>9.0</td>\n",
       "    </tr>\n",
       "    <tr>\n",
       "      <th>56459</th>\n",
       "      <td>Colusa</td>\n",
       "      <td>Organic Avocado</td>\n",
       "      <td>223</td>\n",
       "      <td>6.0</td>\n",
       "    </tr>\n",
       "    <tr>\n",
       "      <th>56471</th>\n",
       "      <td>Colusa</td>\n",
       "      <td>Organic Baby Spinach</td>\n",
       "      <td>237</td>\n",
       "      <td>4.0</td>\n",
       "    </tr>\n",
       "    <tr>\n",
       "      <th>56841</th>\n",
       "      <td>Colusa</td>\n",
       "      <td>Organic Hass Avocado</td>\n",
       "      <td>201</td>\n",
       "      <td>7.0</td>\n",
       "    </tr>\n",
       "    <tr>\n",
       "      <th>57250</th>\n",
       "      <td>Colusa</td>\n",
       "      <td>Organic Strawberries</td>\n",
       "      <td>302</td>\n",
       "      <td>3.0</td>\n",
       "    </tr>\n",
       "    <tr>\n",
       "      <th>57388</th>\n",
       "      <td>Colusa</td>\n",
       "      <td>Organic Whole Milk</td>\n",
       "      <td>228</td>\n",
       "      <td>5.0</td>\n",
       "    </tr>\n",
       "    <tr>\n",
       "      <th>57903</th>\n",
       "      <td>Colusa</td>\n",
       "      <td>Raspberries</td>\n",
       "      <td>171</td>\n",
       "      <td>9.0</td>\n",
       "    </tr>\n",
       "  </tbody>\n",
       "</table>\n",
       "</div>"
      ],
      "text/plain": [
       "          county                product_name  anzahl  rank\n",
       "1        Alameda    0% Greek Strained Yogurt     120   8.0\n",
       "165      Alameda                      Apples     122   7.0\n",
       "218      Alameda      Bag of Organic Bananas     269   2.0\n",
       "233      Alameda                      Banana     352   1.0\n",
       "654      Alameda                 Clementines     177   3.0\n",
       "1219     Alameda         Granny Smith Apples     139   5.0\n",
       "2106     Alameda  Organic Granny Smith Apple     102  10.0\n",
       "2124     Alameda         Organic Half & Half     102  10.0\n",
       "2351     Alameda        Organic Strawberries     168   4.0\n",
       "3047     Alameda                        Soda     106   9.0\n",
       "3083     Alameda     Sparkling Mineral Water     130   6.0\n",
       "4518      Alpine      Bag of Organic Bananas    1364   2.0\n",
       "4580      Alpine                      Banana    1379   1.0\n",
       "11166     Alpine        Organic Baby Spinach     872   4.0\n",
       "11823     Alpine        Organic Hass Avocado     834   5.0\n",
       "12298     Alpine         Organic Raspberries     572   6.0\n",
       "12561     Alpine        Organic Strawberries    1012   3.0\n",
       "12820     Alpine          Organic Whole Milk     550   7.0\n",
       "12864     Alpine        Organic Yellow Onion     475  10.0\n",
       "12882     Alpine            Organic Zucchini     481   9.0\n",
       "15534     Alpine                Strawberries     498   8.0\n",
       "18156     Amador      Bag of Organic Bananas    1954   1.0\n",
       "18206     Amador                      Banana    1686   2.0\n",
       "19569     Amador                 Clementines     604   8.0\n",
       "22579     Amador                 Large Lemon     589   9.0\n",
       "24089     Amador             Organic Avocado     565  10.0\n",
       "24109     Amador        Organic Baby Spinach    1010   4.0\n",
       "24700     Amador        Organic Hass Avocado     742   6.0\n",
       "25347     Amador        Organic Strawberries     994   5.0\n",
       "26813     Amador                 Raspberries     661   7.0\n",
       "28061     Amador                Strawberries    1017   3.0\n",
       "31281  Calaveras      Bag of Organic Bananas    5192   2.0\n",
       "31399  Calaveras                      Banana    7381   1.0\n",
       "40238  Calaveras                 Large Lemon    2312   7.0\n",
       "40737  Calaveras                       Limes    2251   8.0\n",
       "43233  Calaveras             Organic Avocado    2937   6.0\n",
       "43256  Calaveras        Organic Baby Spinach    3839   4.0\n",
       "44197  Calaveras        Organic Hass Avocado    3542   5.0\n",
       "44890  Calaveras         Organic Raspberries    2137  10.0\n",
       "45259  Calaveras        Organic Strawberries    4177   3.0\n",
       "50558  Calaveras                Strawberries    2140   9.0\n",
       "54097     Colusa      Bag of Organic Bananas     571   1.0\n",
       "54123     Colusa                      Banana     556   2.0\n",
       "54701     Colusa                 Clementines     171   9.0\n",
       "56459     Colusa             Organic Avocado     223   6.0\n",
       "56471     Colusa        Organic Baby Spinach     237   4.0\n",
       "56841     Colusa        Organic Hass Avocado     201   7.0\n",
       "57250     Colusa        Organic Strawberries     302   3.0\n",
       "57388     Colusa          Organic Whole Milk     228   5.0\n",
       "57903     Colusa                 Raspberries     171   9.0"
      ]
     },
     "execution_count": 44,
     "metadata": {},
     "output_type": "execute_result"
    }
   ],
   "source": [
    "df_4.head(50)"
   ]
  },
  {
   "attachments": {},
   "cell_type": "markdown",
   "metadata": {},
   "source": [
    "simililarity noch nen problem\n"
   ]
  }
 ],
 "metadata": {
  "kernelspec": {
   "display_name": "Python 3",
   "language": "python",
   "name": "python3"
  },
  "language_info": {
   "codemirror_mode": {
    "name": "ipython",
    "version": 3
   },
   "file_extension": ".py",
   "mimetype": "text/x-python",
   "name": "python",
   "nbconvert_exporter": "python",
   "pygments_lexer": "ipython3",
   "version": "3.10.9"
  },
  "orig_nbformat": 4,
  "vscode": {
   "interpreter": {
    "hash": "f057ee858b85cb61ebf4db329176c41c101b87ce182c0543c232437d49c5b088"
   }
  }
 },
 "nbformat": 4,
 "nbformat_minor": 2
}
