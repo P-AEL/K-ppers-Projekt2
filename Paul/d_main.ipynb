{
 "cells": [
  {
   "attachments": {},
   "cell_type": "markdown",
   "metadata": {},
   "source": [
    "hopa1029, klfl1012    \n",
    "\n",
    "# Übungsblatt 2 - Dispostion\n",
    "__________________________________________________________________________________________________________________________________________________________________________________________________________________\n",
    "\n",
    "**DSCB310 – Datenanalyse und Business Intelligence 1**  \n",
    "\n",
    "Wintersemester 22/23"
   ]
  },
  {
   "attachments": {},
   "cell_type": "markdown",
   "metadata": {},
   "source": [
    "##### Gliederung des Notebooks:"
   ]
  },
  {
   "attachments": {},
   "cell_type": "markdown",
   "metadata": {},
   "source": [
    "1. Ziel der Datenanalyse für die Disposition\n",
    "   \n",
    "2. Fragestellungen:\n",
    "\n",
    "   - D1: Prüfen Sie, ob es beim Produkt 13176 auffällige Muster beim Wiederbestellverhalten gibt.\n",
    "  \n",
    "   - D2: Spielen die Artikel aus dem Department „produce“ in allen Counties eine gleich große Rolle?\n",
    "  \n",
    "   - D3: Welche Counties sind sich ähnlich in Hinblick auf die jeweiligen „Top 10“-Produkte?\n",
    "  \n",
    "3. Zusätzliche Fragestellungen"
   ]
  },
  {
   "attachments": {},
   "cell_type": "markdown",
   "metadata": {},
   "source": [
    "##### Import des Datensatz: "
   ]
  },
  {
   "attachments": {},
   "cell_type": "markdown",
   "metadata": {},
   "source": [
    "**Imports:**"
   ]
  },
  {
   "cell_type": "code",
   "execution_count": 4,
   "metadata": {},
   "outputs": [],
   "source": [
    "import pandas as pd\n",
    "import plotly.express as px\n",
    "import numpy as np\n",
    "import matplotlib.pyplot as plt\n",
    "import pandas as pd\n",
    "import os \n",
    "import random\n",
    "import plotly.express as px\n",
    "from plotly.subplots import make_subplots"
   ]
  },
  {
   "attachments": {},
   "cell_type": "markdown",
   "metadata": {},
   "source": [
    "**Datensatz:**"
   ]
  },
  {
   "attachments": {},
   "cell_type": "markdown",
   "metadata": {},
   "source": [
    "-- erklärung der einzelnen attribute --"
   ]
  },
  {
   "cell_type": "code",
   "execution_count": null,
   "metadata": {},
   "outputs": [],
   "source": [
    "df = pd.read_parquet(\"DSCB310 - UE2 - Shopping Carts.parquet\")"
   ]
  },
  {
   "cell_type": "code",
   "execution_count": null,
   "metadata": {},
   "outputs": [],
   "source": [
    "df.reset_index(inplace=True)\n",
    "df.groupby(\"order_id\").agg(order_size=(\"add_to_cart_order\",\"max\")).reset_index()\n",
    "df = pd.merge(df,df.groupby(\"order_id\").agg(order_size=(\"add_to_cart_order\",\"max\")).reset_index())"
   ]
  },
  {
   "attachments": {},
   "cell_type": "markdown",
   "metadata": {},
   "source": [
    "wir fügen noch ein weiteres Attribut welche die order_size beschreibt hinzu"
   ]
  },
  {
   "cell_type": "code",
   "execution_count": null,
   "metadata": {},
   "outputs": [],
   "source": [
    "df.head()"
   ]
  },
  {
   "attachments": {},
   "cell_type": "markdown",
   "metadata": {},
   "source": [
    "##  Ziel der Datenanalyse für die Disposition:"
   ]
  },
  {
   "attachments": {},
   "cell_type": "markdown",
   "metadata": {},
   "source": [
    "#### Aufgabestellung"
   ]
  },
  {
   "cell_type": "markdown",
   "metadata": {},
   "source": [
    "Erkenntnisse über die regionalen Unterschiede im \n",
    "Kaufverhalten der Kunden. Im Fokus sollten dabei die räumlichen Unterschiede des Absatzes bspw. in \n",
    "Bezug  auf  die  Produktkategorien,  die  „Gänge“ oder umsatzstarke Produkte stehen.  Die  Disposition \n",
    "erhofft sich dadurch eine bessere Versorgung der einzelnen Counties.\n",
    "\n",
    "Die Disponenten, die für die \n",
    "Belieferung  der  Zentren  verantwortlich  sind,  wünschen  sich  Informationen  darüber,  welche  Produkte \n",
    "(bzw. Kategorien oder „Gänge“) in welchem County stärker, schwächer oder eher durchschnittlich \n",
    "nachgefragt  werden.  Auf  dieser  Basis  soll  die  Belieferung  der  Distributionszentren  optimiert  werden."
   ]
  },
  {
   "attachments": {},
   "cell_type": "markdown",
   "metadata": {},
   "source": [
    "Uns sind alle counties in californien gegeben außer butte"
   ]
  },
  {
   "attachments": {},
   "cell_type": "markdown",
   "metadata": {},
   "source": [
    "### 1. Grundlegende Erkenntnisse"
   ]
  },
  {
   "attachments": {},
   "cell_type": "markdown",
   "metadata": {},
   "source": [
    "Die stärksten und schwächsten Regionen"
   ]
  },
  {
   "cell_type": "code",
   "execution_count": null,
   "metadata": {},
   "outputs": [],
   "source": []
  },
  {
   "cell_type": "code",
   "execution_count": null,
   "metadata": {},
   "outputs": [],
   "source": []
  },
  {
   "attachments": {},
   "cell_type": "markdown",
   "metadata": {},
   "source": [
    "### 2. Fragestellungen:"
   ]
  },
  {
   "attachments": {},
   "cell_type": "markdown",
   "metadata": {},
   "source": [
    "##### **D1:** Prüfen Sie, ob es beim Produkt 13176 auffällige Muster beim Wiederbestellverhalten gibt."
   ]
  },
  {
   "attachments": {},
   "cell_type": "markdown",
   "metadata": {},
   "source": [
    "##### **D2:** Spielen die Artikel aus dem Department „produce“ in allen Counties eine gleich große Rolle?"
   ]
  },
  {
   "cell_type": "code",
   "execution_count": null,
   "metadata": {},
   "outputs": [],
   "source": [
    "df_d2 = df.groupby([\"county\",\"department\"]).agg(anzahl=(\"department\",\"count\")).reset_index()"
   ]
  },
  {
   "cell_type": "code",
   "execution_count": null,
   "metadata": {},
   "outputs": [],
   "source": [
    "counties = df_d2.county.unique().tolist()\n",
    "for i in counties:\n",
    "    df_d2.loc[df_d2[\"county\"] == i,\"rank\"] = df_d2.loc[df_d2[\"county\"] == i].anzahl.rank(method=\"min\",ascending=False)"
   ]
  },
  {
   "attachments": {},
   "cell_type": "markdown",
   "metadata": {},
   "source": [
    "Annahme: \n",
    "\n",
    "Gleiche Rolle bedeutet welchen Platz das department im Vergleich zu den anderen departments in dem county besitzt, basierend auf den Absatzzahlen"
   ]
  },
  {
   "cell_type": "code",
   "execution_count": null,
   "metadata": {},
   "outputs": [],
   "source": [
    "df_d2[df_d2.department == \"produce\"]"
   ]
  },
  {
   "attachments": {},
   "cell_type": "markdown",
   "metadata": {},
   "source": [
    "wie man sieht ist das departmen produce, welches aus obst und gemüseprodukten besteht in jedem county außer 4 ausnahmen das Umsatzstärkste"
   ]
  },
  {
   "attachments": {},
   "cell_type": "markdown",
   "metadata": {},
   "source": [
    "Die Ausnahmen enthalten die counties Del Norte, Sierra, San Bernardino\tund Tehama"
   ]
  },
  {
   "attachments": {},
   "cell_type": "markdown",
   "metadata": {},
   "source": [
    "San Bernardino bestitz wegen seinen niedrigen ausleihzahlen, verglichen zum rest nur wenig statistische signifikanz"
   ]
  },
  {
   "attachments": {},
   "cell_type": "markdown",
   "metadata": {},
   "source": [
    "##### **D3:** Welche Counties sind sich ähnlich in Hinblick auf die jeweiligen „Top 10“-Produkte?"
   ]
  },
  {
   "cell_type": "code",
   "execution_count": null,
   "metadata": {},
   "outputs": [],
   "source": [
    "df_d3 = df.groupby([\"county\",\"product_name\"]).agg(anzahl=(\"product_name\",\"count\")).reset_index()\n",
    "counties = df_d3.county.unique().tolist()\n",
    "for i in counties:\n",
    "    df_d3.loc[df_d3[\"county\"] == i,\"rank\"] = df_d3.loc[df_d3[\"county\"] == i].anzahl.rank(method=\"min\",ascending=False)"
   ]
  },
  {
   "cell_type": "code",
   "execution_count": null,
   "metadata": {},
   "outputs": [],
   "source": [
    "df_4 = df_d3[df_d3[\"rank\"].isin(range(11))]\n",
    "df_4 = df_4.sort_values([\"county\",\"rank\"])"
   ]
  },
  {
   "attachments": {},
   "cell_type": "markdown",
   "metadata": {},
   "source": [
    "Wir nehmen die Top 10 Produkte je county basierend auf den Absatzzahlen"
   ]
  },
  {
   "cell_type": "code",
   "execution_count": null,
   "metadata": {},
   "outputs": [],
   "source": [
    "df_13 = df_4.groupby(\"county\").agg(coun=(\"county\",\"count\")).reset_index()\n",
    "df_13[\">10\"] = df_13.coun > 10\n",
    "df_4 = pd.merge(df_4,df_13)"
   ]
  },
  {
   "cell_type": "code",
   "execution_count": null,
   "metadata": {},
   "outputs": [],
   "source": [
    "fehler = df_4[df_4[\">10\"] == True].county.unique()\n",
    "for i in fehler:\n",
    "    df_4.drop(df_4[df_4.county == i].tail(df_4[df_4.county == i].coun.values[0]-10).index,inplace=True)"
   ]
  },
  {
   "attachments": {},
   "cell_type": "markdown",
   "metadata": {},
   "source": [
    "Da es manchmal vorkommt, dass Produkte die gleiche Anzahl an Bestellung innerhalb der Top 10 Produkte eines counties besitzen, lösen wir das Problem indem wir den Dataframe um so viel Zeilen in dem county entfernen, die es mehr als 10 sind. Wir verändern jedoch hierbei nicht den Rang eines Produkts wodurch es totzdem noch zu doppelungen des Rangs innerhalb eines countys vorkommen kann."
   ]
  },
  {
   "cell_type": "code",
   "execution_count": null,
   "metadata": {},
   "outputs": [],
   "source": [
    "ableitung = []\n",
    "test2 = []\n",
    "for i in counties:\n",
    "    \n",
    "    for j in counties:\n",
    "        score = 0\n",
    "        \n",
    "        for o in df_4.loc[df_4.county == i,(\"product_name\",\"rank\")].values:\n",
    "            for z in df_4.loc[df_4.county == j,(\"product_name\",\"rank\")].values:\n",
    "                if o[0] == z[0]:\n",
    "                    score = score+1\n",
    "                    if o[1] == z[1]:\n",
    "                        score = score+1\n",
    "        if score < 20:\n",
    "        \n",
    "         test2.append(i+j)\n",
    "         if not(i+j in test2 and j+i in test2):\n",
    "          ableitung.append([score,i,j])"
   ]
  },
  {
   "attachments": {},
   "cell_type": "markdown",
   "metadata": {},
   "source": [
    "Die ähnlichkeit zwischen counties prüfen wir in dem wir jeden Produkteintrag eines countys mit alledn Produkten des anderesn countys vergleichen.\n",
    "\n",
    "Falls des Produkt enthalten ist erhöhen wir den unseren score um 1 und wenn das Produkt noch den gleichen Rang besitzt erhöhen wir den Rang ein weiteres mal um 1.\n",
    "\n",
    "Damit ergibt sich ein Top score von 20(wenn man die gleichen counties vergleichen würde) und eine genauere Ähnlichkeit als wenn man nur auf die verschiedenen Produkte schauen würde und diese beispielsweise mit einer cosinus_similiarity abbilden würde."
   ]
  },
  {
   "cell_type": "code",
   "execution_count": null,
   "metadata": {},
   "outputs": [],
   "source": [
    "ableitung.sort(reverse=True)"
   ]
  },
  {
   "cell_type": "code",
   "execution_count": null,
   "metadata": {},
   "outputs": [],
   "source": [
    "pd.DataFrame(ableitung,columns=[\"score\",\"county1\",\"county2\"])"
   ]
  },
  {
   "attachments": {},
   "cell_type": "markdown",
   "metadata": {},
   "source": [
    "### 3. Zusätzliche Fragestellungen:"
   ]
  },
  {
   "attachments": {},
   "cell_type": "markdown",
   "metadata": {},
   "source": [
    "Welche Produkte, Gänge, Kategorien in welchen counties unter-, über- und nur durchschnittlich vertreten sind"
   ]
  },
  {
   "cell_type": "code",
   "execution_count": null,
   "metadata": {},
   "outputs": [],
   "source": [
    "df_3 = df.groupby([\"county\",\"aisle\"]).agg(anzahl=(\"aisle\",\"count\")).reset_index()\n",
    "counties = df_3.county.unique().tolist()\n",
    "for i in counties:\n",
    "    df_3.loc[df_3[\"county\"] == i,\"rank\"] = df_3.loc[df_3[\"county\"] == i].anzahl.rank(method=\"min\",ascending=False)"
   ]
  },
  {
   "cell_type": "code",
   "execution_count": null,
   "metadata": {},
   "outputs": [],
   "source": [
    "df_5 = df_3.groupby(\"aisle\").agg(rank_mean=(\"rank\",\"mean\")).reset_index()\n",
    "df_6 = pd.merge(df_3,df_5)"
   ]
  },
  {
   "cell_type": "code",
   "execution_count": null,
   "metadata": {},
   "outputs": [],
   "source": [
    "df_8 = df_6.loc[(df_6[\"rank\"] > df_6.rank_mean * 1.5)]\n",
    "df_9 = df_6.loc[(df_6[\"rank\"] < df_6.rank_mean * 0.5)]"
   ]
  },
  {
   "cell_type": "code",
   "execution_count": null,
   "metadata": {},
   "outputs": [],
   "source": [
    "df_2 = df.copy()\n",
    "relevant = []\n",
    "for i in df_9.values:\n",
    "    \n",
    "    df_11 = df_2[df_2.aisle == i[1]].groupby(\"county\")[[\"aisle\"]].count().reset_index()\n",
    "    merged = df_2[~(df_2.index.isin(df_2[df_2.aisle == i[1]].index))]\n",
    "    df_test = pd.merge(df_11,merged.groupby(\"county\").agg(not_aisle=(\"aisle\",\"count\")).reset_index())\n",
    "    df_test.loc[df_test.county != i[0],[\"aisle\",\"not_aisle\"]] = df_test.loc[df_test.county != i[0]].aisle.sum(),df_test.loc[df_test.county != i[0]].not_aisle.sum()\n",
    "    \n",
    "    ch2, p, dof, expected = chi2_contingency(df_test.loc[(df_test.county == np.delete(df_test.county.unique(),np.where(df_test.county.unique() == i[0]))[-1]) | (df_test.county ==i[0]) ].set_index(\"county\"))\n",
    "    if p < 0.05:\n",
    "        relevant.append(i)"
   ]
  },
  {
   "cell_type": "code",
   "execution_count": null,
   "metadata": {},
   "outputs": [],
   "source": [
    "df_2 = df.copy()\n",
    "relevant2 = []\n",
    "for i in df_8.values:\n",
    "    \n",
    "    df_11 = df_2[df_2.aisle == i[1]].groupby(\"county\")[[\"aisle\"]].count().reset_index()\n",
    "    merged = df_2[~(df_2.index.isin(df_2[df_2.aisle == i[1]].index))]\n",
    "    df_test = pd.merge(df_11,merged.groupby(\"county\").agg(not_aisle=(\"aisle\",\"count\")).reset_index())\n",
    "    df_test.loc[df_test.county != i[0],[\"aisle\",\"not_aisle\"]] = df_test.loc[df_test.county != i[0]].aisle.sum(),df_test.loc[df_test.county != i[0]].not_aisle.sum()\n",
    "    \n",
    "    ch2, p, dof, expected = chi2_contingency(df_test.loc[(df_test.county == np.delete(df_test.county.unique(),np.where(df_test.county.unique() == \"Alameda\"))[-1]) | (df_test.county ==i[0]) ].set_index(\"county\"))\n",
    "    if p < 0.05:\n",
    "        relevant2.append(i)"
   ]
  },
  {
   "cell_type": "code",
   "execution_count": null,
   "metadata": {},
   "outputs": [],
   "source": [
    "df_tes1 = pd.DataFrame(relevant,columns=df_9.columns)"
   ]
  },
  {
   "cell_type": "code",
   "execution_count": null,
   "metadata": {},
   "outputs": [],
   "source": [
    "df_tes2 = pd.DataFrame(relevant2,columns=df_9.columns)"
   ]
  }
 ],
 "metadata": {
  "kernelspec": {
   "display_name": "Python 3.10.9 64-bit (microsoft store)",
   "language": "python",
   "name": "python3"
  },
  "language_info": {
   "codemirror_mode": {
    "name": "ipython",
    "version": 3
   },
   "file_extension": ".py",
   "mimetype": "text/x-python",
   "name": "python",
   "nbconvert_exporter": "python",
   "pygments_lexer": "ipython3",
   "version": "3.10.9 (tags/v3.10.9:1dd9be6, Dec  6 2022, 20:01:21) [MSC v.1934 64 bit (AMD64)]"
  },
  "orig_nbformat": 4,
  "vscode": {
   "interpreter": {
    "hash": "f057ee858b85cb61ebf4db329176c41c101b87ce182c0543c232437d49c5b088"
   }
  }
 },
 "nbformat": 4,
 "nbformat_minor": 2
}
