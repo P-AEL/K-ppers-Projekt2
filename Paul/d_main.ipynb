{
 "cells": [
  {
   "attachments": {},
   "cell_type": "markdown",
   "metadata": {},
   "source": [
    "hopa1029, klfl1012    \n",
    "\n",
    "# Übungsblatt 2 - Dispostion\n",
    "__________________________________________________________________________________________________________________________________________________________________________________________________________________\n",
    "\n",
    "**DSCB310 – Datenanalyse und Business Intelligence 1**  \n",
    "\n",
    "Wintersemester 22/23"
   ]
  },
  {
   "attachments": {},
   "cell_type": "markdown",
   "metadata": {},
   "source": [
    "##### Gliederung des Notebooks:"
   ]
  },
  {
   "attachments": {},
   "cell_type": "markdown",
   "metadata": {},
   "source": [
    "1. Ziel der Datenanalyse für die Disposition\n",
    "   \n",
    "2. Fragestellungen:\n",
    "\n",
    "   - D1: Prüfen Sie, ob es beim Produkt 13176 auffällige Muster beim Wiederbestellverhalten gibt.\n",
    "  \n",
    "   - D2: Spielen die Artikel aus dem Department „produce“ in allen Counties eine gleich große Rolle?\n",
    "  \n",
    "   - D3: Welche Counties sind sich ähnlich in Hinblick auf die jeweiligen „Top 10“-Produkte?\n",
    "  \n",
    "3. Zusätzliche Fragestellungen"
   ]
  },
  {
   "attachments": {},
   "cell_type": "markdown",
   "metadata": {},
   "source": [
    "##### Import des Datensatz: "
   ]
  },
  {
   "attachments": {},
   "cell_type": "markdown",
   "metadata": {},
   "source": [
    "**Imports:**"
   ]
  },
  {
   "cell_type": "code",
   "execution_count": 4,
   "metadata": {},
   "outputs": [],
   "source": [
    "import pandas as pd\n",
    "import plotly.express as px"
   ]
  },
  {
   "attachments": {},
   "cell_type": "markdown",
   "metadata": {},
   "source": [
    "**Datensatz:**"
   ]
  },
  {
   "attachments": {},
   "cell_type": "markdown",
   "metadata": {},
   "source": [
    "-- erklärung der einzelnen attribute --"
   ]
  },
  {
   "cell_type": "code",
   "execution_count": null,
   "metadata": {},
   "outputs": [],
   "source": [
    "df = pd.read_parquet(\"DSCB310 - UE2 - Shopping Carts.parquet\")"
   ]
  },
  {
   "cell_type": "code",
   "execution_count": null,
   "metadata": {},
   "outputs": [],
   "source": [
    "df.reset_index(inplace=True)\n",
    "df.groupby(\"order_id\").agg(order_size=(\"add_to_cart_order\",\"max\")).reset_index()\n",
    "df = pd.merge(df,df.groupby(\"order_id\").agg(order_size=(\"add_to_cart_order\",\"max\")).reset_index())"
   ]
  },
  {
   "cell_type": "code",
   "execution_count": null,
   "metadata": {},
   "outputs": [],
   "source": [
    "df.head()"
   ]
  },
  {
   "attachments": {},
   "cell_type": "markdown",
   "metadata": {},
   "source": [
    "## 1. Ziel der Datenanalyse für die Disposition:"
   ]
  },
  {
   "cell_type": "markdown",
   "metadata": {},
   "source": [
    "Erkenntnisse über die regionalen Unterschiede im \n",
    "Kaufverhalten der Kunden. Im Fokus sollten dabei die räumlichen Unterschiede des Absatzes bspw. in \n",
    "Bezug  auf  die  Produktkategorien,  die  „Gänge“ oder umsatzstarke Produkte stehen.  Die  Disposition \n",
    "erhofft sich dadurch eine bessere Versorgung der einzelnen Counties.\n",
    "\n",
    "Die Disponenten, die für die \n",
    "Belieferung  der  Zentren  verantwortlich  sind,  wünschen  sich  Informationen  darüber,  welche  Produkte \n",
    "(bzw. Kategorien oder „Gänge“) in welchem County stärker, schwächer oder eher durchschnittlich \n",
    "nachgefragt  werden.  Auf  dieser  Basis  soll  die  Belieferung  der  Distributionszentren  optimiert  werden."
   ]
  },
  {
   "attachments": {},
   "cell_type": "markdown",
   "metadata": {},
   "source": [
    "## 2. Fragestellungen:"
   ]
  },
  {
   "attachments": {},
   "cell_type": "markdown",
   "metadata": {},
   "source": [
    "#### **D1:** Prüfen Sie, ob es beim Produkt 13176 auffällige Muster beim Wiederbestellverhalten gibt."
   ]
  },
  {
   "attachments": {},
   "cell_type": "markdown",
   "metadata": {},
   "source": [
    "#### **D2:** Spielen die Artikel aus dem Department „produce“ in allen Counties eine gleich große Rolle?"
   ]
  },
  {
   "cell_type": "code",
   "execution_count": null,
   "metadata": {},
   "outputs": [],
   "source": [
    "df_d2 = df.groupby([\"county\",\"department\"]).agg(anzahl=(\"department\",\"count\")).reset_index()"
   ]
  },
  {
   "cell_type": "code",
   "execution_count": null,
   "metadata": {},
   "outputs": [],
   "source": [
    "counties = df_d2.county.unique().tolist()\n",
    "for i in counties:\n",
    "    df_d2.loc[df_d2[\"county\"] == i,\"rank\"] = df_d2.loc[df_d2[\"county\"] == i].anzahl.rank(method=\"min\",ascending=False)"
   ]
  },
  {
   "cell_type": "code",
   "execution_count": null,
   "metadata": {},
   "outputs": [],
   "source": [
    "df_d2[df_d2.department == \"produce\"]"
   ]
  },
  {
   "attachments": {},
   "cell_type": "markdown",
   "metadata": {},
   "source": [
    "wie man sieht ist das departmen produce, welches aus obst und gemüseprodukten besteht in jedem county außer 4 ausnahmen das Umsatzstärkste"
   ]
  },
  {
   "attachments": {},
   "cell_type": "markdown",
   "metadata": {},
   "source": [
    "Die Ausnahmen enthalten die counties Del Norte, Sierra, San Bernardino\tund Tehama"
   ]
  },
  {
   "attachments": {},
   "cell_type": "markdown",
   "metadata": {},
   "source": [
    "San Bernardino bestitz wegen seinen niedrigen ausleihzahlen, verglichen zum rest nur wenig statistische signifikanz"
   ]
  },
  {
   "attachments": {},
   "cell_type": "markdown",
   "metadata": {},
   "source": [
    "#### **D3:** Welche Counties sind sich ähnlich in Hinblick auf die jeweiligen „Top 10“-Produkte?"
   ]
  },
  {
   "attachments": {},
   "cell_type": "markdown",
   "metadata": {},
   "source": [
    "## 3. Zusätzliche Fragestellungen:"
   ]
  }
 ],
 "metadata": {
  "kernelspec": {
   "display_name": "Python 3.10.9 64-bit (microsoft store)",
   "language": "python",
   "name": "python3"
  },
  "language_info": {
   "codemirror_mode": {
    "name": "ipython",
    "version": 3
   },
   "file_extension": ".py",
   "mimetype": "text/x-python",
   "name": "python",
   "nbconvert_exporter": "python",
   "pygments_lexer": "ipython3",
   "version": "3.10.9 (tags/v3.10.9:1dd9be6, Dec  6 2022, 20:01:21) [MSC v.1934 64 bit (AMD64)]"
  },
  "orig_nbformat": 4,
  "vscode": {
   "interpreter": {
    "hash": "f057ee858b85cb61ebf4db329176c41c101b87ce182c0543c232437d49c5b088"
   }
  }
 },
 "nbformat": 4,
 "nbformat_minor": 2
}
