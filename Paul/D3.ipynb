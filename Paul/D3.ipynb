{
 "cells": [
  {
   "cell_type": "code",
   "execution_count": 1,
   "metadata": {},
   "outputs": [],
   "source": [
    "import numpy as np\n",
    "import matplotlib.pyplot as plt\n",
    "import pandas as pd\n",
    "import os \n",
    "import random\n",
    "import plotly.express as px"
   ]
  },
  {
   "cell_type": "code",
   "execution_count": 6,
   "metadata": {},
   "outputs": [],
   "source": [
    "from sklearn.metrics.pairwise import cosine_similarity"
   ]
  },
  {
   "cell_type": "code",
   "execution_count": 2,
   "metadata": {},
   "outputs": [],
   "source": [
    "df = pd.read_parquet(\"Shopping Carts.parquet\")\n",
    "df.reset_index(inplace=True)"
   ]
  },
  {
   "cell_type": "code",
   "execution_count": 3,
   "metadata": {},
   "outputs": [],
   "source": [
    "df.groupby(\"order_id\").agg(order_size=(\"add_to_cart_order\",\"max\")).reset_index()\n",
    "df = pd.merge(df,df.groupby(\"order_id\").agg(order_size=(\"add_to_cart_order\",\"max\")).reset_index())"
   ]
  },
  {
   "cell_type": "markdown",
   "metadata": {},
   "source": [
    "### Welche Counties sind sich ähnlich in Hinblick auf die jeweiligen „Top 10“-Produkte?"
   ]
  },
  {
   "cell_type": "code",
   "execution_count": 4,
   "metadata": {},
   "outputs": [],
   "source": [
    "df_3 = df.groupby([\"county\",\"product_name\"]).agg(anzahl=(\"product_name\",\"count\")).reset_index()"
   ]
  },
  {
   "cell_type": "code",
   "execution_count": 5,
   "metadata": {},
   "outputs": [],
   "source": [
    "counties = df_3.county.unique().tolist()\n",
    "for i in counties:\n",
    "    df_3.loc[df_3[\"county\"] == i,\"rank\"] = df_3.loc[df_3[\"county\"] == i].anzahl.rank(method=\"min\",ascending=False)"
   ]
  },
  {
   "cell_type": "code",
   "execution_count": 7,
   "metadata": {},
   "outputs": [],
   "source": [
    "df_4 = df_3[df_3[\"rank\"].isin(range(11))]\n",
    "df_4 = df_4.sort_values([\"county\",\"rank\"])"
   ]
  },
  {
   "cell_type": "code",
   "execution_count": 8,
   "metadata": {},
   "outputs": [],
   "source": [
    "idk = {}\n",
    "for i in counties:\n",
    "    idk.update({f\"{i}\":1})"
   ]
  },
  {
   "cell_type": "code",
   "execution_count": 9,
   "metadata": {},
   "outputs": [
    {
     "name": "stdout",
     "output_type": "stream",
     "text": [
      "7 {'Alpine': 5, 'Amador': 4, 'Calaveras': 5, 'Colusa': 4, 'Contra Costa': 3, 'Del Norte': 3, 'El Dorado': 5, 'Fresno': 5, 'Glenn': 5, 'Humboldt': 2, 'Imperial': 5, 'Inyo': 6, 'Kern': 6, 'Kings': 3, 'Lake': 6, 'Lassen': 3, 'Los Angeles': 3, 'Madera': 6, 'Marin': 3, 'Mariposa': 5, 'Mendocino': 7, 'Merced': 5, 'Modoc': 5, 'Mono': 5, 'Monterey': 6, 'Napa': 8, 'Nevada': 4, 'Orange': 5, 'Placer': 1, 'Plumas': 3, 'Riverside': 5, 'Sacramento': 6, 'San Benito': 5, 'San Bernardino': 0, 'San Diego': 3, 'San Francisco': 6, 'San Joaquin': 3, 'San Luis Obispo': 6, 'San Mateo': 3, 'Santa Barbara': 3, 'Santa Clara': 5, 'Santa Cruz': 5, 'Shasta': 5, 'Sierra': 6, 'Siskiyou': 5, 'Solano': 5, 'Sonoma': 6, 'Stanislaus': 6, 'Sutter': 5, 'Tehama': 2, 'Trinity': 1, 'Tulare': 5, 'Tuolumne': 4, 'Ventura': 5, 'Yolo': 4, 'Yuba': 7}\n",
      "10 {'Alameda': 5, 'Amador': 7, 'Calaveras': 12, 'Colusa': 10, 'Contra Costa': 8, 'Del Norte': 5, 'El Dorado': 7, 'Fresno': 13, 'Glenn': 12, 'Humboldt': 2, 'Imperial': 10, 'Inyo': 11, 'Kern': 10, 'Kings': 9, 'Lake': 9, 'Lassen': 2, 'Los Angeles': 9, 'Madera': 9, 'Marin': 8, 'Mariposa': 12, 'Mendocino': 10, 'Merced': 14, 'Modoc': 10, 'Mono': 13, 'Monterey': 10, 'Napa': 9, 'Nevada': 8, 'Orange': 12, 'Placer': 2, 'Plumas': 10, 'Riverside': 11, 'Sacramento': 9, 'San Benito': 15, 'San Bernardino': 0, 'San Diego': 4, 'San Francisco': 8, 'San Joaquin': 6, 'San Luis Obispo': 9, 'San Mateo': 8, 'Santa Barbara': 10, 'Santa Clara': 10, 'Santa Cruz': 12, 'Shasta': 8, 'Sierra': 10, 'Siskiyou': 11, 'Solano': 12, 'Sonoma': 8, 'Stanislaus': 9, 'Sutter': 13, 'Tehama': 3, 'Trinity': 4, 'Tulare': 9, 'Tuolumne': 9, 'Ventura': 11, 'Yolo': 6, 'Yuba': 10}\n",
      "6 {'Alameda': 4, 'Alpine': 7, 'Calaveras': 9, 'Colusa': 12, 'Contra Costa': 9, 'Del Norte': 8, 'El Dorado': 4, 'Fresno': 8, 'Glenn': 9, 'Humboldt': 3, 'Imperial': 8, 'Inyo': 7, 'Kern': 8, 'Kings': 9, 'Lake': 9, 'Lassen': 3, 'Los Angeles': 9, 'Madera': 9, 'Marin': 12, 'Mariposa': 9, 'Mendocino': 9, 'Merced': 6, 'Modoc': 6, 'Mono': 8, 'Monterey': 8, 'Napa': 7, 'Nevada': 7, 'Orange': 8, 'Placer': 2, 'Plumas': 11, 'Riverside': 8, 'Sacramento': 8, 'San Benito': 9, 'San Bernardino': 0, 'San Diego': 5, 'San Francisco': 8, 'San Joaquin': 6, 'San Luis Obispo': 9, 'San Mateo': 9, 'Santa Barbara': 10, 'Santa Clara': 8, 'Santa Cruz': 10, 'Shasta': 8, 'Sierra': 8, 'Siskiyou': 8, 'Solano': 8, 'Sonoma': 7, 'Stanislaus': 8, 'Sutter': 8, 'Tehama': 3, 'Trinity': 2, 'Tulare': 8, 'Tuolumne': 8, 'Ventura': 9, 'Yolo': 9, 'Yuba': 6}\n",
      "9 {'Alameda': 5, 'Alpine': 12, 'Amador': 9, 'Colusa': 10, 'Contra Costa': 11, 'Del Norte': 9, 'El Dorado': 7, 'Fresno': 16, 'Glenn': 18, 'Humboldt': 2, 'Imperial': 13, 'Inyo': 11, 'Kern': 16, 'Kings': 8, 'Lake': 13, 'Lassen': 3, 'Los Angeles': 10, 'Madera': 12, 'Marin': 11, 'Mariposa': 14, 'Mendocino': 10, 'Merced': 10, 'Modoc': 11, 'Mono': 13, 'Monterey': 16, 'Napa': 9, 'Nevada': 10, 'Orange': 18, 'Placer': 2, 'Plumas': 16, 'Riverside': 12, 'Sacramento': 13, 'San Benito': 15, 'San Bernardino': 0, 'San Diego': 6, 'San Francisco': 11, 'San Joaquin': 9, 'San Luis Obispo': 12, 'San Mateo': 8, 'Santa Barbara': 12, 'Santa Clara': 15, 'Santa Cruz': 14, 'Shasta': 11, 'Sierra': 11, 'Siskiyou': 16, 'Solano': 11, 'Sonoma': 9, 'Stanislaus': 12, 'Sutter': 16, 'Tehama': 4, 'Trinity': 4, 'Tulare': 11, 'Tuolumne': 9, 'Ventura': 13, 'Yolo': 9, 'Yuba': 9}\n",
      "8 {'Alameda': 4, 'Alpine': 10, 'Amador': 12, 'Calaveras': 10, 'Contra Costa': 9, 'Del Norte': 8, 'El Dorado': 4, 'Fresno': 10, 'Glenn': 10, 'Humboldt': 4, 'Imperial': 9, 'Inyo': 10, 'Kern': 8, 'Kings': 8, 'Lake': 8, 'Lassen': 1, 'Los Angeles': 11, 'Madera': 10, 'Marin': 11, 'Mariposa': 10, 'Mendocino': 8, 'Merced': 8, 'Modoc': 8, 'Mono': 9, 'Monterey': 9, 'Napa': 8, 'Nevada': 9, 'Orange': 10, 'Placer': 2, 'Plumas': 12, 'Riverside': 7, 'Sacramento': 8, 'San Benito': 11, 'San Bernardino': 0, 'San Diego': 3, 'San Francisco': 8, 'San Joaquin': 5, 'San Luis Obispo': 7, 'San Mateo': 8, 'Santa Barbara': 12, 'Santa Clara': 8, 'Santa Cruz': 10, 'Shasta': 8, 'Sierra': 10, 'Siskiyou': 10, 'Solano': 9, 'Sonoma': 7, 'Stanislaus': 10, 'Sutter': 9, 'Tehama': 3, 'Trinity': 3, 'Tulare': 8, 'Tuolumne': 8, 'Ventura': 10, 'Yolo': 8, 'Yuba': 8}\n",
      "7 {'Alameda': 3, 'Alpine': 8, 'Amador': 9, 'Calaveras': 11, 'Colusa': 9, 'Del Norte': 10, 'El Dorado': 4, 'Fresno': 10, 'Glenn': 10, 'Humboldt': 2, 'Imperial': 13, 'Inyo': 6, 'Kern': 9, 'Kings': 10, 'Lake': 8, 'Lassen': 2, 'Los Angeles': 14, 'Madera': 8, 'Marin': 11, 'Mariposa': 9, 'Mendocino': 8, 'Merced': 11, 'Modoc': 9, 'Mono': 8, 'Monterey': 8, 'Napa': 5, 'Nevada': 8, 'Orange': 11, 'Placer': 2, 'Plumas': 11, 'Riverside': 10, 'Sacramento': 11, 'San Benito': 9, 'San Bernardino': 0, 'San Diego': 4, 'San Francisco': 8, 'San Joaquin': 6, 'San Luis Obispo': 9, 'San Mateo': 12, 'Santa Barbara': 11, 'Santa Clara': 15, 'Santa Cruz': 10, 'Shasta': 9, 'Sierra': 7, 'Siskiyou': 14, 'Solano': 9, 'Sonoma': 6, 'Stanislaus': 7, 'Sutter': 12, 'Tehama': 5, 'Trinity': 3, 'Tulare': 9, 'Tuolumne': 9, 'Ventura': 11, 'Yolo': 10, 'Yuba': 7}\n",
      "8 {'Alameda': 3, 'Alpine': 5, 'Amador': 8, 'Calaveras': 9, 'Colusa': 8, 'Contra Costa': 10, 'El Dorado': 6, 'Fresno': 9, 'Glenn': 8, 'Humboldt': 2, 'Imperial': 8, 'Inyo': 5, 'Kern': 8, 'Kings': 7, 'Lake': 8, 'Lassen': 2, 'Los Angeles': 9, 'Madera': 7, 'Marin': 9, 'Mariposa': 8, 'Mendocino': 6, 'Merced': 6, 'Modoc': 7, 'Mono': 6, 'Monterey': 8, 'Napa': 4, 'Nevada': 7, 'Orange': 9, 'Placer': 1, 'Plumas': 11, 'Riverside': 7, 'Sacramento': 8, 'San Benito': 7, 'San Bernardino': 0, 'San Diego': 4, 'San Francisco': 9, 'San Joaquin': 6, 'San Luis Obispo': 7, 'San Mateo': 8, 'Santa Barbara': 9, 'Santa Clara': 8, 'Santa Cruz': 7, 'Shasta': 7, 'Sierra': 7, 'Siskiyou': 8, 'Solano': 6, 'Sonoma': 6, 'Stanislaus': 7, 'Sutter': 8, 'Tehama': 3, 'Trinity': 1, 'Tulare': 7, 'Tuolumne': 6, 'Ventura': 7, 'Yolo': 9, 'Yuba': 8}\n",
      "7 {'Alameda': 5, 'Alpine': 7, 'Amador': 4, 'Calaveras': 7, 'Colusa': 4, 'Contra Costa': 4, 'Del Norte': 6, 'Fresno': 7, 'Glenn': 7, 'Humboldt': 2, 'Imperial': 6, 'Inyo': 7, 'Kern': 7, 'Kings': 4, 'Lake': 6, 'Lassen': 2, 'Los Angeles': 4, 'Madera': 6, 'Marin': 5, 'Mariposa': 7, 'Mendocino': 6, 'Merced': 7, 'Modoc': 6, 'Mono': 7, 'Monterey': 7, 'Napa': 5, 'Nevada': 5, 'Orange': 7, 'Placer': 1, 'Plumas': 5, 'Riverside': 7, 'Sacramento': 6, 'San Benito': 7, 'San Bernardino': 0, 'San Diego': 3, 'San Francisco': 6, 'San Joaquin': 3, 'San Luis Obispo': 6, 'San Mateo': 4, 'Santa Barbara': 5, 'Santa Clara': 6, 'Santa Cruz': 6, 'Shasta': 6, 'Sierra': 7, 'Siskiyou': 6, 'Solano': 7, 'Sonoma': 5, 'Stanislaus': 6, 'Sutter': 7, 'Tehama': 2, 'Trinity': 1, 'Tulare': 6, 'Tuolumne': 5, 'Ventura': 6, 'Yolo': 5, 'Yuba': 7}\n",
      "8 {'Alameda': 5, 'Alpine': 13, 'Amador': 8, 'Calaveras': 16, 'Colusa': 10, 'Contra Costa': 10, 'Del Norte': 9, 'El Dorado': 7, 'Glenn': 15, 'Humboldt': 2, 'Imperial': 12, 'Inyo': 11, 'Kern': 15, 'Kings': 9, 'Lake': 12, 'Lassen': 3, 'Los Angeles': 12, 'Madera': 12, 'Marin': 9, 'Mariposa': 14, 'Mendocino': 11, 'Merced': 12, 'Modoc': 11, 'Mono': 13, 'Monterey': 14, 'Napa': 8, 'Nevada': 10, 'Orange': 17, 'Placer': 2, 'Plumas': 13, 'Riverside': 12, 'Sacramento': 11, 'San Benito': 15, 'San Bernardino': 0, 'San Diego': 5, 'San Francisco': 12, 'San Joaquin': 8, 'San Luis Obispo': 9, 'San Mateo': 8, 'Santa Barbara': 14, 'Santa Clara': 12, 'Santa Cruz': 13, 'Shasta': 11, 'Sierra': 10, 'Siskiyou': 13, 'Solano': 12, 'Sonoma': 9, 'Stanislaus': 11, 'Sutter': 15, 'Tehama': 3, 'Trinity': 3, 'Tulare': 11, 'Tuolumne': 11, 'Ventura': 13, 'Yolo': 9, 'Yuba': 8}\n",
      "9 {'Alameda': 5, 'Alpine': 12, 'Amador': 9, 'Calaveras': 18, 'Colusa': 10, 'Contra Costa': 10, 'Del Norte': 8, 'El Dorado': 7, 'Fresno': 15, 'Humboldt': 2, 'Imperial': 13, 'Inyo': 11, 'Kern': 15, 'Kings': 8, 'Lake': 12, 'Lassen': 3, 'Los Angeles': 10, 'Madera': 13, 'Marin': 11, 'Mariposa': 15, 'Mendocino': 10, 'Merced': 10, 'Modoc': 11, 'Mono': 13, 'Monterey': 15, 'Napa': 9, 'Nevada': 9, 'Orange': 16, 'Placer': 2, 'Plumas': 15, 'Riverside': 12, 'Sacramento': 12, 'San Benito': 15, 'San Bernardino': 0, 'San Diego': 6, 'San Francisco': 10, 'San Joaquin': 8, 'San Luis Obispo': 12, 'San Mateo': 8, 'Santa Barbara': 13, 'Santa Clara': 14, 'Santa Cruz': 13, 'Shasta': 11, 'Sierra': 11, 'Siskiyou': 15, 'Solano': 11, 'Sonoma': 9, 'Stanislaus': 12, 'Sutter': 17, 'Tehama': 3, 'Trinity': 3, 'Tulare': 12, 'Tuolumne': 9, 'Ventura': 14, 'Yolo': 9, 'Yuba': 9}\n",
      "2 {'Alameda': 2, 'Alpine': 2, 'Amador': 3, 'Calaveras': 2, 'Colusa': 4, 'Contra Costa': 2, 'Del Norte': 2, 'El Dorado': 2, 'Fresno': 2, 'Glenn': 2, 'Imperial': 2, 'Inyo': 2, 'Kern': 2, 'Kings': 2, 'Lake': 2, 'Lassen': 2, 'Los Angeles': 2, 'Madera': 2, 'Marin': 2, 'Mariposa': 2, 'Mendocino': 2, 'Merced': 2, 'Modoc': 2, 'Mono': 2, 'Monterey': 2, 'Napa': 2, 'Nevada': 2, 'Orange': 2, 'Placer': 2, 'Plumas': 2, 'Riverside': 2, 'Sacramento': 2, 'San Benito': 2, 'San Bernardino': 0, 'San Diego': 2, 'San Francisco': 2, 'San Joaquin': 3, 'San Luis Obispo': 3, 'San Mateo': 2, 'Santa Barbara': 2, 'Santa Clara': 2, 'Santa Cruz': 2, 'Shasta': 2, 'Sierra': 2, 'Siskiyou': 2, 'Solano': 2, 'Sonoma': 2, 'Stanislaus': 2, 'Sutter': 2, 'Tehama': 2, 'Trinity': 1, 'Tulare': 2, 'Tuolumne': 2, 'Ventura': 2, 'Yolo': 2, 'Yuba': 2}\n",
      "10 {'Alameda': 5, 'Alpine': 10, 'Amador': 8, 'Calaveras': 13, 'Colusa': 9, 'Contra Costa': 13, 'Del Norte': 8, 'El Dorado': 6, 'Fresno': 12, 'Glenn': 13, 'Humboldt': 2, 'Inyo': 10, 'Kern': 11, 'Kings': 7, 'Lake': 14, 'Lassen': 3, 'Los Angeles': 11, 'Madera': 12, 'Marin': 10, 'Mariposa': 13, 'Mendocino': 12, 'Merced': 12, 'Modoc': 12, 'Mono': 11, 'Monterey': 14, 'Napa': 8, 'Nevada': 11, 'Orange': 12, 'Placer': 2, 'Plumas': 11, 'Riverside': 10, 'Sacramento': 11, 'San Benito': 11, 'San Bernardino': 0, 'San Diego': 7, 'San Francisco': 11, 'San Joaquin': 8, 'San Luis Obispo': 11, 'San Mateo': 8, 'Santa Barbara': 9, 'Santa Clara': 18, 'Santa Cruz': 12, 'Shasta': 11, 'Sierra': 12, 'Siskiyou': 14, 'Solano': 10, 'Sonoma': 10, 'Stanislaus': 11, 'Sutter': 11, 'Tehama': 2, 'Trinity': 3, 'Tulare': 10, 'Tuolumne': 12, 'Ventura': 15, 'Yolo': 8, 'Yuba': 10}\n",
      "9 {'Alameda': 6, 'Alpine': 11, 'Amador': 7, 'Calaveras': 11, 'Colusa': 10, 'Contra Costa': 6, 'Del Norte': 5, 'El Dorado': 7, 'Fresno': 11, 'Glenn': 11, 'Humboldt': 2, 'Imperial': 10, 'Kern': 13, 'Kings': 5, 'Lake': 12, 'Lassen': 2, 'Los Angeles': 8, 'Madera': 13, 'Marin': 8, 'Mariposa': 12, 'Mendocino': 12, 'Merced': 9, 'Modoc': 8, 'Mono': 11, 'Monterey': 14, 'Napa': 7, 'Nevada': 9, 'Orange': 12, 'Placer': 3, 'Plumas': 9, 'Riverside': 8, 'Sacramento': 11, 'San Benito': 12, 'San Bernardino': 0, 'San Diego': 4, 'San Francisco': 11, 'San Joaquin': 7, 'San Luis Obispo': 11, 'San Mateo': 7, 'Santa Barbara': 10, 'Santa Clara': 9, 'Santa Cruz': 11, 'Shasta': 8, 'Sierra': 10, 'Siskiyou': 11, 'Solano': 10, 'Sonoma': 11, 'Stanislaus': 13, 'Sutter': 10, 'Tehama': 2, 'Trinity': 3, 'Tulare': 8, 'Tuolumne': 9, 'Ventura': 11, 'Yolo': 9, 'Yuba': 9}\n",
      "8 {'Alameda': 6, 'Alpine': 10, 'Amador': 8, 'Calaveras': 16, 'Colusa': 8, 'Contra Costa': 9, 'Del Norte': 8, 'El Dorado': 7, 'Fresno': 15, 'Glenn': 15, 'Humboldt': 2, 'Imperial': 11, 'Inyo': 13, 'Kings': 8, 'Lake': 14, 'Lassen': 3, 'Los Angeles': 9, 'Madera': 14, 'Marin': 9, 'Mariposa': 12, 'Mendocino': 12, 'Merced': 9, 'Modoc': 11, 'Mono': 11, 'Monterey': 17, 'Napa': 7, 'Nevada': 11, 'Orange': 15, 'Placer': 2, 'Plumas': 13, 'Riverside': 10, 'Sacramento': 14, 'San Benito': 13, 'San Bernardino': 0, 'San Diego': 6, 'San Francisco': 13, 'San Joaquin': 10, 'San Luis Obispo': 13, 'San Mateo': 9, 'Santa Barbara': 10, 'Santa Clara': 12, 'Santa Cruz': 11, 'Shasta': 10, 'Sierra': 9, 'Siskiyou': 14, 'Solano': 9, 'Sonoma': 10, 'Stanislaus': 15, 'Sutter': 14, 'Tehama': 3, 'Trinity': 3, 'Tulare': 10, 'Tuolumne': 9, 'Ventura': 12, 'Yolo': 11, 'Yuba': 8}\n",
      "5 {'Alameda': 3, 'Alpine': 9, 'Amador': 9, 'Calaveras': 8, 'Colusa': 8, 'Contra Costa': 10, 'Del Norte': 7, 'El Dorado': 4, 'Fresno': 9, 'Glenn': 8, 'Humboldt': 2, 'Imperial': 7, 'Inyo': 5, 'Kern': 8, 'Lake': 6, 'Lassen': 1, 'Los Angeles': 9, 'Madera': 6, 'Marin': 8, 'Mariposa': 7, 'Mendocino': 5, 'Merced': 7, 'Modoc': 6, 'Mono': 7, 'Monterey': 6, 'Napa': 5, 'Nevada': 6, 'Orange': 8, 'Placer': 2, 'Plumas': 10, 'Riverside': 8, 'Sacramento': 7, 'San Benito': 8, 'San Bernardino': 0, 'San Diego': 4, 'San Francisco': 6, 'San Joaquin': 5, 'San Luis Obispo': 6, 'San Mateo': 11, 'Santa Barbara': 9, 'Santa Clara': 8, 'Santa Cruz': 7, 'Shasta': 7, 'Sierra': 5, 'Siskiyou': 7, 'Solano': 7, 'Sonoma': 4, 'Stanislaus': 5, 'Sutter': 9, 'Tehama': 4, 'Trinity': 2, 'Tulare': 8, 'Tuolumne': 5, 'Ventura': 6, 'Yolo': 8, 'Yuba': 5}\n",
      "8 {'Alameda': 6, 'Alpine': 9, 'Amador': 9, 'Calaveras': 13, 'Colusa': 8, 'Contra Costa': 8, 'Del Norte': 8, 'El Dorado': 6, 'Fresno': 12, 'Glenn': 12, 'Humboldt': 2, 'Imperial': 14, 'Inyo': 12, 'Kern': 14, 'Kings': 6, 'Lassen': 3, 'Los Angeles': 8, 'Madera': 14, 'Marin': 9, 'Mariposa': 13, 'Mendocino': 13, 'Merced': 9, 'Modoc': 10, 'Mono': 10, 'Monterey': 17, 'Napa': 7, 'Nevada': 12, 'Orange': 12, 'Placer': 2, 'Plumas': 11, 'Riverside': 9, 'Sacramento': 13, 'San Benito': 10, 'San Bernardino': 0, 'San Diego': 6, 'San Francisco': 14, 'San Joaquin': 10, 'San Luis Obispo': 14, 'San Mateo': 8, 'Santa Barbara': 8, 'Santa Clara': 12, 'Santa Cruz': 13, 'Shasta': 11, 'Sierra': 13, 'Siskiyou': 11, 'Solano': 9, 'Sonoma': 11, 'Stanislaus': 13, 'Sutter': 10, 'Tehama': 2, 'Trinity': 3, 'Tulare': 9, 'Tuolumne': 10, 'Ventura': 12, 'Yolo': 11, 'Yuba': 8}\n",
      "3 {'Alameda': 3, 'Alpine': 2, 'Amador': 3, 'Calaveras': 3, 'Colusa': 1, 'Contra Costa': 2, 'Del Norte': 2, 'El Dorado': 2, 'Fresno': 3, 'Glenn': 3, 'Humboldt': 2, 'Imperial': 3, 'Inyo': 2, 'Kern': 3, 'Kings': 1, 'Lake': 3, 'Los Angeles': 2, 'Madera': 4, 'Marin': 2, 'Mariposa': 3, 'Mendocino': 4, 'Merced': 2, 'Modoc': 3, 'Mono': 3, 'Monterey': 3, 'Napa': 2, 'Nevada': 2, 'Orange': 3, 'Placer': 0, 'Plumas': 2, 'Riverside': 4, 'Sacramento': 3, 'San Benito': 3, 'San Bernardino': 1, 'San Diego': 7, 'San Francisco': 4, 'San Joaquin': 4, 'San Luis Obispo': 4, 'San Mateo': 1, 'Santa Barbara': 2, 'Santa Clara': 3, 'Santa Cruz': 3, 'Shasta': 5, 'Sierra': 2, 'Siskiyou': 3, 'Solano': 2, 'Sonoma': 3, 'Stanislaus': 3, 'Sutter': 3, 'Tehama': 1, 'Trinity': 1, 'Tulare': 3, 'Tuolumne': 3, 'Ventura': 4, 'Yolo': 2, 'Yuba': 3}\n",
      "7 {'Alameda': 3, 'Alpine': 9, 'Amador': 9, 'Calaveras': 10, 'Colusa': 11, 'Contra Costa': 14, 'Del Norte': 9, 'El Dorado': 4, 'Fresno': 12, 'Glenn': 10, 'Humboldt': 2, 'Imperial': 11, 'Inyo': 8, 'Kern': 9, 'Kings': 9, 'Lake': 8, 'Lassen': 2, 'Madera': 10, 'Marin': 10, 'Mariposa': 9, 'Mendocino': 8, 'Merced': 12, 'Modoc': 9, 'Mono': 10, 'Monterey': 9, 'Napa': 5, 'Nevada': 8, 'Orange': 11, 'Placer': 2, 'Plumas': 11, 'Riverside': 8, 'Sacramento': 8, 'San Benito': 12, 'San Bernardino': 0, 'San Diego': 3, 'San Francisco': 8, 'San Joaquin': 5, 'San Luis Obispo': 8, 'San Mateo': 12, 'Santa Barbara': 14, 'Santa Clara': 11, 'Santa Cruz': 10, 'Shasta': 7, 'Sierra': 8, 'Siskiyou': 12, 'Solano': 9, 'Sonoma': 7, 'Stanislaus': 9, 'Sutter': 11, 'Tehama': 4, 'Trinity': 3, 'Tulare': 8, 'Tuolumne': 11, 'Ventura': 13, 'Yolo': 9, 'Yuba': 7}\n",
      "8 {'Alameda': 6, 'Alpine': 9, 'Amador': 9, 'Calaveras': 12, 'Colusa': 10, 'Contra Costa': 8, 'Del Norte': 7, 'El Dorado': 6, 'Fresno': 12, 'Glenn': 13, 'Humboldt': 2, 'Imperial': 12, 'Inyo': 13, 'Kern': 14, 'Kings': 6, 'Lake': 14, 'Lassen': 4, 'Los Angeles': 10, 'Marin': 9, 'Mariposa': 13, 'Mendocino': 15, 'Merced': 9, 'Modoc': 12, 'Mono': 10, 'Monterey': 15, 'Napa': 8, 'Nevada': 10, 'Orange': 12, 'Placer': 2, 'Plumas': 10, 'Riverside': 10, 'Sacramento': 14, 'San Benito': 11, 'San Bernardino': 0, 'San Diego': 7, 'San Francisco': 15, 'San Joaquin': 9, 'San Luis Obispo': 12, 'San Mateo': 8, 'Santa Barbara': 9, 'Santa Clara': 11, 'Santa Cruz': 12, 'Shasta': 11, 'Sierra': 10, 'Siskiyou': 12, 'Solano': 9, 'Sonoma': 11, 'Stanislaus': 14, 'Sutter': 11, 'Tehama': 2, 'Trinity': 3, 'Tulare': 10, 'Tuolumne': 10, 'Ventura': 13, 'Yolo': 10, 'Yuba': 8}\n",
      "7 {'Alameda': 3, 'Alpine': 8, 'Amador': 12, 'Calaveras': 11, 'Colusa': 11, 'Contra Costa': 11, 'Del Norte': 9, 'El Dorado': 5, 'Fresno': 9, 'Glenn': 11, 'Humboldt': 2, 'Imperial': 10, 'Inyo': 8, 'Kern': 9, 'Kings': 8, 'Lake': 9, 'Lassen': 2, 'Los Angeles': 10, 'Madera': 9, 'Mariposa': 10, 'Mendocino': 10, 'Merced': 7, 'Modoc': 7, 'Mono': 9, 'Monterey': 9, 'Napa': 8, 'Nevada': 7, 'Orange': 10, 'Placer': 3, 'Plumas': 13, 'Riverside': 8, 'Sacramento': 8, 'San Benito': 10, 'San Bernardino': 0, 'San Diego': 4, 'San Francisco': 7, 'San Joaquin': 6, 'San Luis Obispo': 10, 'San Mateo': 8, 'Santa Barbara': 11, 'Santa Clara': 10, 'Santa Cruz': 12, 'Shasta': 9, 'Sierra': 9, 'Siskiyou': 10, 'Solano': 8, 'Sonoma': 9, 'Stanislaus': 9, 'Sutter': 10, 'Tehama': 3, 'Trinity': 2, 'Tulare': 8, 'Tuolumne': 8, 'Ventura': 9, 'Yolo': 9, 'Yuba': 7}\n",
      "9 {'Alameda': 5, 'Alpine': 12, 'Amador': 9, 'Calaveras': 14, 'Colusa': 10, 'Contra Costa': 9, 'Del Norte': 8, 'El Dorado': 7, 'Fresno': 14, 'Glenn': 15, 'Humboldt': 2, 'Imperial': 13, 'Inyo': 12, 'Kern': 12, 'Kings': 7, 'Lake': 13, 'Lassen': 3, 'Los Angeles': 9, 'Madera': 13, 'Marin': 10, 'Mendocino': 11, 'Merced': 10, 'Modoc': 11, 'Mono': 16, 'Monterey': 13, 'Napa': 9, 'Nevada': 11, 'Orange': 15, 'Placer': 2, 'Plumas': 12, 'Riverside': 12, 'Sacramento': 13, 'San Benito': 13, 'San Bernardino': 0, 'San Diego': 6, 'San Francisco': 11, 'San Joaquin': 8, 'San Luis Obispo': 10, 'San Mateo': 7, 'Santa Barbara': 12, 'Santa Clara': 12, 'Santa Cruz': 16, 'Shasta': 11, 'Sierra': 12, 'Siskiyou': 12, 'Solano': 12, 'Sonoma': 12, 'Stanislaus': 11, 'Sutter': 13, 'Tehama': 2, 'Trinity': 3, 'Tulare': 10, 'Tuolumne': 11, 'Ventura': 12, 'Yolo': 11, 'Yuba': 9}\n",
      "9 {'Alameda': 7, 'Alpine': 10, 'Amador': 9, 'Calaveras': 10, 'Colusa': 8, 'Contra Costa': 8, 'Del Norte': 6, 'El Dorado': 6, 'Fresno': 11, 'Glenn': 10, 'Humboldt': 2, 'Imperial': 12, 'Inyo': 12, 'Kern': 12, 'Kings': 5, 'Lake': 13, 'Lassen': 4, 'Los Angeles': 8, 'Madera': 15, 'Marin': 10, 'Mariposa': 11, 'Merced': 10, 'Modoc': 9, 'Mono': 10, 'Monterey': 13, 'Napa': 8, 'Nevada': 9, 'Orange': 10, 'Placer': 2, 'Plumas': 8, 'Riverside': 9, 'Sacramento': 12, 'San Benito': 10, 'San Bernardino': 0, 'San Diego': 6, 'San Francisco': 13, 'San Joaquin': 8, 'San Luis Obispo': 12, 'San Mateo': 7, 'Santa Barbara': 8, 'Santa Clara': 11, 'Santa Cruz': 12, 'Shasta': 10, 'Sierra': 11, 'Siskiyou': 10, 'Solano': 9, 'Sonoma': 11, 'Stanislaus': 13, 'Sutter': 9, 'Tehama': 2, 'Trinity': 3, 'Tulare': 9, 'Tuolumne': 11, 'Ventura': 12, 'Yolo': 9, 'Yuba': 9}\n",
      "9 {'Alameda': 5, 'Alpine': 14, 'Amador': 6, 'Calaveras': 10, 'Colusa': 8, 'Contra Costa': 11, 'Del Norte': 6, 'El Dorado': 7, 'Fresno': 12, 'Glenn': 10, 'Humboldt': 2, 'Imperial': 12, 'Inyo': 9, 'Kern': 9, 'Kings': 7, 'Lake': 9, 'Lassen': 2, 'Los Angeles': 12, 'Madera': 9, 'Marin': 7, 'Mariposa': 10, 'Mendocino': 10, 'Modoc': 9, 'Mono': 10, 'Monterey': 9, 'Napa': 7, 'Nevada': 10, 'Orange': 11, 'Placer': 2, 'Plumas': 7, 'Riverside': 9, 'Sacramento': 9, 'San Benito': 10, 'San Bernardino': 0, 'San Diego': 3, 'San Francisco': 9, 'San Joaquin': 5, 'San Luis Obispo': 9, 'San Mateo': 11, 'Santa Barbara': 9, 'Santa Clara': 12, 'Santa Cruz': 11, 'Shasta': 8, 'Sierra': 10, 'Siskiyou': 12, 'Solano': 11, 'Sonoma': 8, 'Stanislaus': 9, 'Sutter': 12, 'Tehama': 3, 'Trinity': 3, 'Tulare': 9, 'Tuolumne': 12, 'Ventura': 13, 'Yolo': 6, 'Yuba': 9}\n",
      "8 {'Alameda': 5, 'Alpine': 10, 'Amador': 6, 'Calaveras': 11, 'Colusa': 8, 'Contra Costa': 9, 'Del Norte': 7, 'El Dorado': 6, 'Fresno': 11, 'Glenn': 11, 'Humboldt': 2, 'Imperial': 12, 'Inyo': 8, 'Kern': 11, 'Kings': 6, 'Lake': 10, 'Lassen': 3, 'Los Angeles': 9, 'Madera': 12, 'Marin': 7, 'Mariposa': 11, 'Mendocino': 9, 'Merced': 9, 'Mono': 11, 'Monterey': 10, 'Napa': 7, 'Nevada': 9, 'Orange': 11, 'Placer': 1, 'Plumas': 8, 'Riverside': 9, 'Sacramento': 11, 'San Benito': 10, 'San Bernardino': 0, 'San Diego': 6, 'San Francisco': 10, 'San Joaquin': 6, 'San Luis Obispo': 8, 'San Mateo': 6, 'Santa Barbara': 8, 'Santa Clara': 12, 'Santa Cruz': 11, 'Shasta': 9, 'Sierra': 9, 'Siskiyou': 11, 'Solano': 8, 'Sonoma': 8, 'Stanislaus': 10, 'Sutter': 10, 'Tehama': 3, 'Trinity': 4, 'Tulare': 10, 'Tuolumne': 8, 'Ventura': 11, 'Yolo': 6, 'Yuba': 8}\n",
      "9 {'Alameda': 5, 'Alpine': 13, 'Amador': 8, 'Calaveras': 13, 'Colusa': 9, 'Contra Costa': 8, 'Del Norte': 6, 'El Dorado': 7, 'Fresno': 13, 'Glenn': 13, 'Humboldt': 2, 'Imperial': 11, 'Inyo': 11, 'Kern': 11, 'Kings': 7, 'Lake': 10, 'Lassen': 3, 'Los Angeles': 10, 'Madera': 10, 'Marin': 9, 'Mariposa': 16, 'Mendocino': 10, 'Merced': 10, 'Modoc': 11, 'Monterey': 11, 'Napa': 9, 'Nevada': 8, 'Orange': 14, 'Placer': 2, 'Plumas': 10, 'Riverside': 11, 'Sacramento': 12, 'San Benito': 14, 'San Bernardino': 0, 'San Diego': 5, 'San Francisco': 9, 'San Joaquin': 6, 'San Luis Obispo': 9, 'San Mateo': 7, 'Santa Barbara': 12, 'Santa Clara': 11, 'Santa Cruz': 15, 'Shasta': 9, 'Sierra': 10, 'Siskiyou': 11, 'Solano': 11, 'Sonoma': 11, 'Stanislaus': 10, 'Sutter': 12, 'Tehama': 3, 'Trinity': 4, 'Tulare': 10, 'Tuolumne': 10, 'Ventura': 12, 'Yolo': 10, 'Yuba': 9}\n",
      "8 {'Alameda': 6, 'Alpine': 10, 'Amador': 8, 'Calaveras': 16, 'Colusa': 9, 'Contra Costa': 8, 'Del Norte': 8, 'El Dorado': 7, 'Fresno': 14, 'Glenn': 15, 'Humboldt': 2, 'Imperial': 14, 'Inyo': 14, 'Kern': 17, 'Kings': 6, 'Lake': 17, 'Lassen': 3, 'Los Angeles': 9, 'Madera': 15, 'Marin': 9, 'Mariposa': 13, 'Mendocino': 13, 'Merced': 9, 'Modoc': 10, 'Mono': 11, 'Napa': 7, 'Nevada': 11, 'Orange': 15, 'Placer': 2, 'Plumas': 14, 'Riverside': 10, 'Sacramento': 13, 'San Benito': 12, 'San Bernardino': 0, 'San Diego': 6, 'San Francisco': 14, 'San Joaquin': 10, 'San Luis Obispo': 14, 'San Mateo': 8, 'Santa Barbara': 10, 'Santa Clara': 12, 'Santa Cruz': 11, 'Shasta': 10, 'Sierra': 11, 'Siskiyou': 13, 'Solano': 10, 'Sonoma': 11, 'Stanislaus': 15, 'Sutter': 13, 'Tehama': 2, 'Trinity': 3, 'Tulare': 9, 'Tuolumne': 10, 'Ventura': 13, 'Yolo': 11, 'Yuba': 8}\n",
      "9 {'Alameda': 8, 'Alpine': 9, 'Amador': 7, 'Calaveras': 9, 'Colusa': 8, 'Contra Costa': 5, 'Del Norte': 4, 'El Dorado': 5, 'Fresno': 8, 'Glenn': 9, 'Humboldt': 2, 'Imperial': 8, 'Inyo': 7, 'Kern': 7, 'Kings': 5, 'Lake': 7, 'Lassen': 2, 'Los Angeles': 5, 'Madera': 8, 'Marin': 8, 'Mariposa': 9, 'Mendocino': 8, 'Merced': 7, 'Modoc': 7, 'Mono': 9, 'Monterey': 7, 'Nevada': 6, 'Orange': 8, 'Placer': 2, 'Plumas': 7, 'Riverside': 8, 'Sacramento': 7, 'San Benito': 9, 'San Bernardino': 0, 'San Diego': 4, 'San Francisco': 6, 'San Joaquin': 5, 'San Luis Obispo': 7, 'San Mateo': 4, 'Santa Barbara': 6, 'Santa Clara': 8, 'Santa Cruz': 10, 'Shasta': 7, 'Sierra': 8, 'Siskiyou': 8, 'Solano': 8, 'Sonoma': 7, 'Stanislaus': 7, 'Sutter': 8, 'Tehama': 2, 'Trinity': 2, 'Tulare': 7, 'Tuolumne': 6, 'Ventura': 8, 'Yolo': 4, 'Yuba': 9}\n",
      "7 {'Alameda': 4, 'Alpine': 8, 'Amador': 7, 'Calaveras': 10, 'Colusa': 9, 'Contra Costa': 8, 'Del Norte': 7, 'El Dorado': 5, 'Fresno': 10, 'Glenn': 9, 'Humboldt': 2, 'Imperial': 11, 'Inyo': 9, 'Kern': 11, 'Kings': 6, 'Lake': 12, 'Lassen': 2, 'Los Angeles': 8, 'Madera': 10, 'Marin': 7, 'Mariposa': 11, 'Mendocino': 9, 'Merced': 10, 'Modoc': 9, 'Mono': 8, 'Monterey': 11, 'Napa': 6, 'Orange': 10, 'Placer': 2, 'Plumas': 9, 'Riverside': 7, 'Sacramento': 9, 'San Benito': 8, 'San Bernardino': 0, 'San Diego': 5, 'San Francisco': 10, 'San Joaquin': 9, 'San Luis Obispo': 8, 'San Mateo': 8, 'Santa Barbara': 7, 'Santa Clara': 10, 'Santa Cruz': 10, 'Shasta': 8, 'Sierra': 11, 'Siskiyou': 10, 'Solano': 8, 'Sonoma': 8, 'Stanislaus': 11, 'Sutter': 8, 'Tehama': 2, 'Trinity': 3, 'Tulare': 8, 'Tuolumne': 12, 'Ventura': 10, 'Yolo': 8, 'Yuba': 7}\n",
      "8 {'Alameda': 5, 'Alpine': 12, 'Amador': 8, 'Calaveras': 18, 'Colusa': 10, 'Contra Costa': 11, 'Del Norte': 9, 'El Dorado': 7, 'Fresno': 17, 'Glenn': 16, 'Humboldt': 2, 'Imperial': 12, 'Inyo': 12, 'Kern': 15, 'Kings': 8, 'Lake': 12, 'Lassen': 3, 'Los Angeles': 11, 'Madera': 12, 'Marin': 10, 'Mariposa': 15, 'Mendocino': 10, 'Merced': 11, 'Modoc': 11, 'Mono': 14, 'Monterey': 15, 'Napa': 8, 'Nevada': 10, 'Placer': 2, 'Plumas': 14, 'Riverside': 12, 'Sacramento': 12, 'San Benito': 14, 'San Bernardino': 0, 'San Diego': 5, 'San Francisco': 12, 'San Joaquin': 8, 'San Luis Obispo': 10, 'San Mateo': 8, 'Santa Barbara': 14, 'Santa Clara': 13, 'Santa Cruz': 15, 'Shasta': 11, 'Sierra': 10, 'Siskiyou': 15, 'Solano': 12, 'Sonoma': 9, 'Stanislaus': 12, 'Sutter': 16, 'Tehama': 4, 'Trinity': 4, 'Tulare': 11, 'Tuolumne': 9, 'Ventura': 13, 'Yolo': 9, 'Yuba': 8}\n",
      "2 {'Alameda': 1, 'Alpine': 2, 'Amador': 2, 'Calaveras': 2, 'Colusa': 2, 'Contra Costa': 2, 'Del Norte': 1, 'El Dorado': 1, 'Fresno': 2, 'Glenn': 2, 'Humboldt': 2, 'Imperial': 2, 'Inyo': 3, 'Kern': 2, 'Kings': 2, 'Lake': 2, 'Lassen': 0, 'Los Angeles': 2, 'Madera': 2, 'Marin': 3, 'Mariposa': 2, 'Mendocino': 2, 'Merced': 2, 'Modoc': 1, 'Mono': 2, 'Monterey': 2, 'Napa': 2, 'Nevada': 2, 'Orange': 2, 'Plumas': 2, 'Riverside': 2, 'Sacramento': 2, 'San Benito': 2, 'San Bernardino': 0, 'San Diego': 1, 'San Francisco': 2, 'San Joaquin': 2, 'San Luis Obispo': 2, 'San Mateo': 2, 'Santa Barbara': 2, 'Santa Clara': 2, 'Santa Cruz': 2, 'Shasta': 2, 'Sierra': 2, 'Siskiyou': 2, 'Solano': 2, 'Sonoma': 3, 'Stanislaus': 2, 'Sutter': 2, 'Tehama': 1, 'Trinity': 0, 'Tulare': 2, 'Tuolumne': 2, 'Ventura': 2, 'Yolo': 2, 'Yuba': 2}\n",
      "7 {'Alameda': 3, 'Alpine': 10, 'Amador': 11, 'Calaveras': 16, 'Colusa': 12, 'Contra Costa': 11, 'Del Norte': 11, 'El Dorado': 5, 'Fresno': 13, 'Glenn': 15, 'Humboldt': 2, 'Imperial': 11, 'Inyo': 9, 'Kern': 13, 'Kings': 10, 'Lake': 11, 'Lassen': 2, 'Los Angeles': 11, 'Madera': 10, 'Marin': 13, 'Mariposa': 12, 'Mendocino': 8, 'Merced': 7, 'Modoc': 8, 'Mono': 10, 'Monterey': 14, 'Napa': 7, 'Nevada': 9, 'Orange': 14, 'Placer': 2, 'Riverside': 10, 'Sacramento': 9, 'San Benito': 13, 'San Bernardino': 0, 'San Diego': 5, 'San Francisco': 9, 'San Joaquin': 10, 'San Luis Obispo': 10, 'San Mateo': 9, 'Santa Barbara': 13, 'Santa Clara': 11, 'Santa Cruz': 10, 'Shasta': 9, 'Sierra': 9, 'Siskiyou': 12, 'Solano': 9, 'Sonoma': 7, 'Stanislaus': 10, 'Sutter': 13, 'Tehama': 3, 'Trinity': 2, 'Tulare': 8, 'Tuolumne': 8, 'Ventura': 10, 'Yolo': 11, 'Yuba': 7}\n",
      "8 {'Alameda': 5, 'Alpine': 11, 'Amador': 8, 'Calaveras': 12, 'Colusa': 7, 'Contra Costa': 10, 'Del Norte': 7, 'El Dorado': 7, 'Fresno': 12, 'Glenn': 12, 'Humboldt': 2, 'Imperial': 10, 'Inyo': 8, 'Kern': 10, 'Kings': 8, 'Lake': 9, 'Lassen': 4, 'Los Angeles': 8, 'Madera': 10, 'Marin': 8, 'Mariposa': 12, 'Mendocino': 9, 'Merced': 9, 'Modoc': 9, 'Mono': 11, 'Monterey': 10, 'Napa': 8, 'Nevada': 7, 'Orange': 12, 'Placer': 2, 'Plumas': 10, 'Sacramento': 9, 'San Benito': 11, 'San Bernardino': 0, 'San Diego': 6, 'San Francisco': 11, 'San Joaquin': 6, 'San Luis Obispo': 10, 'San Mateo': 10, 'Santa Barbara': 10, 'Santa Clara': 10, 'Santa Cruz': 10, 'Shasta': 10, 'Sierra': 8, 'Siskiyou': 10, 'Solano': 13, 'Sonoma': 7, 'Stanislaus': 10, 'Sutter': 13, 'Tehama': 2, 'Trinity': 1, 'Tulare': 9, 'Tuolumne': 7, 'Ventura': 10, 'Yolo': 10, 'Yuba': 8}\n",
      "8 {'Alameda': 6, 'Alpine': 9, 'Amador': 8, 'Calaveras': 13, 'Colusa': 8, 'Contra Costa': 11, 'Del Norte': 8, 'El Dorado': 6, 'Fresno': 11, 'Glenn': 12, 'Humboldt': 2, 'Imperial': 11, 'Inyo': 11, 'Kern': 14, 'Kings': 7, 'Lake': 13, 'Lassen': 3, 'Los Angeles': 8, 'Madera': 14, 'Marin': 8, 'Mariposa': 13, 'Mendocino': 12, 'Merced': 9, 'Modoc': 11, 'Mono': 12, 'Monterey': 13, 'Napa': 7, 'Nevada': 9, 'Orange': 12, 'Placer': 2, 'Plumas': 9, 'Riverside': 9, 'San Benito': 11, 'San Bernardino': 0, 'San Diego': 6, 'San Francisco': 14, 'San Joaquin': 9, 'San Luis Obispo': 13, 'San Mateo': 9, 'Santa Barbara': 8, 'Santa Clara': 13, 'Santa Cruz': 13, 'Shasta': 11, 'Sierra': 9, 'Siskiyou': 14, 'Solano': 8, 'Sonoma': 13, 'Stanislaus': 12, 'Sutter': 12, 'Tehama': 4, 'Trinity': 4, 'Tulare': 12, 'Tuolumne': 10, 'Ventura': 11, 'Yolo': 11, 'Yuba': 8}\n",
      "10 {'Alameda': 5, 'Alpine': 15, 'Amador': 9, 'Calaveras': 15, 'Colusa': 11, 'Contra Costa': 9, 'Del Norte': 7, 'El Dorado': 7, 'Fresno': 15, 'Glenn': 15, 'Humboldt': 2, 'Imperial': 11, 'Inyo': 12, 'Kern': 13, 'Kings': 8, 'Lake': 10, 'Lassen': 3, 'Los Angeles': 12, 'Madera': 11, 'Marin': 10, 'Mariposa': 13, 'Mendocino': 10, 'Merced': 10, 'Modoc': 10, 'Mono': 14, 'Monterey': 12, 'Napa': 9, 'Nevada': 8, 'Orange': 14, 'Placer': 2, 'Plumas': 13, 'Riverside': 11, 'Sacramento': 11, 'San Bernardino': 0, 'San Diego': 5, 'San Francisco': 9, 'San Joaquin': 8, 'San Luis Obispo': 10, 'San Mateo': 8, 'Santa Barbara': 13, 'Santa Clara': 12, 'Santa Cruz': 13, 'Shasta': 10, 'Sierra': 10, 'Siskiyou': 14, 'Solano': 11, 'Sonoma': 9, 'Stanislaus': 11, 'Sutter': 14, 'Tehama': 3, 'Trinity': 3, 'Tulare': 11, 'Tuolumne': 10, 'Ventura': 13, 'Yolo': 8, 'Yuba': 10}\n",
      "0 {'Alameda': 0, 'Alpine': 0, 'Amador': 0, 'Calaveras': 0, 'Colusa': 0, 'Contra Costa': 0, 'Del Norte': 0, 'El Dorado': 0, 'Fresno': 0, 'Glenn': 0, 'Humboldt': 0, 'Imperial': 0, 'Inyo': 0, 'Kern': 0, 'Kings': 0, 'Lake': 0, 'Lassen': 1, 'Los Angeles': 0, 'Madera': 0, 'Marin': 0, 'Mariposa': 0, 'Mendocino': 0, 'Merced': 0, 'Modoc': 0, 'Mono': 0, 'Monterey': 0, 'Napa': 0, 'Nevada': 0, 'Orange': 0, 'Placer': 0, 'Plumas': 0, 'Riverside': 0, 'Sacramento': 0, 'San Benito': 0, 'San Diego': 0, 'San Francisco': 0, 'San Joaquin': 0, 'San Luis Obispo': 0, 'San Mateo': 0, 'Santa Barbara': 0, 'Santa Clara': 0, 'Santa Cruz': 0, 'Shasta': 0, 'Sierra': 0, 'Siskiyou': 0, 'Solano': 0, 'Sonoma': 0, 'Stanislaus': 0, 'Sutter': 0, 'Tehama': 0, 'Trinity': 0, 'Tulare': 0, 'Tuolumne': 0, 'Ventura': 0, 'Yolo': 0, 'Yuba': 0}\n",
      "5 {'Alameda': 3, 'Alpine': 4, 'Amador': 5, 'Calaveras': 6, 'Colusa': 3, 'Contra Costa': 4, 'Del Norte': 4, 'El Dorado': 3, 'Fresno': 5, 'Glenn': 6, 'Humboldt': 2, 'Imperial': 7, 'Inyo': 4, 'Kern': 6, 'Kings': 4, 'Lake': 6, 'Lassen': 7, 'Los Angeles': 3, 'Madera': 7, 'Marin': 4, 'Mariposa': 6, 'Mendocino': 6, 'Merced': 3, 'Modoc': 6, 'Mono': 5, 'Monterey': 6, 'Napa': 4, 'Nevada': 5, 'Orange': 5, 'Placer': 1, 'Plumas': 5, 'Riverside': 6, 'Sacramento': 6, 'San Benito': 5, 'San Bernardino': 0, 'San Francisco': 6, 'San Joaquin': 6, 'San Luis Obispo': 5, 'San Mateo': 3, 'Santa Barbara': 3, 'Santa Clara': 7, 'Santa Cruz': 5, 'Shasta': 6, 'Sierra': 4, 'Siskiyou': 6, 'Solano': 3, 'Sonoma': 5, 'Stanislaus': 5, 'Sutter': 5, 'Tehama': 3, 'Trinity': 2, 'Tulare': 4, 'Tuolumne': 5, 'Ventura': 6, 'Yolo': 4, 'Yuba': 5}\n",
      "7 {'Alameda': 6, 'Alpine': 8, 'Amador': 8, 'Calaveras': 11, 'Colusa': 8, 'Contra Costa': 8, 'Del Norte': 9, 'El Dorado': 6, 'Fresno': 12, 'Glenn': 10, 'Humboldt': 2, 'Imperial': 11, 'Inyo': 11, 'Kern': 13, 'Kings': 6, 'Lake': 14, 'Lassen': 4, 'Los Angeles': 8, 'Madera': 15, 'Marin': 7, 'Mariposa': 11, 'Mendocino': 13, 'Merced': 9, 'Modoc': 10, 'Mono': 9, 'Monterey': 14, 'Napa': 6, 'Nevada': 10, 'Orange': 12, 'Placer': 2, 'Plumas': 9, 'Riverside': 11, 'Sacramento': 14, 'San Benito': 9, 'San Bernardino': 0, 'San Diego': 6, 'San Joaquin': 9, 'San Luis Obispo': 12, 'San Mateo': 9, 'Santa Barbara': 9, 'Santa Clara': 10, 'Santa Cruz': 10, 'Shasta': 11, 'Sierra': 9, 'Siskiyou': 10, 'Solano': 11, 'Sonoma': 11, 'Stanislaus': 13, 'Sutter': 10, 'Tehama': 2, 'Trinity': 2, 'Tulare': 11, 'Tuolumne': 9, 'Ventura': 11, 'Yolo': 11, 'Yuba': 7}\n",
      "5 {'Alameda': 3, 'Alpine': 6, 'Amador': 6, 'Calaveras': 9, 'Colusa': 5, 'Contra Costa': 6, 'Del Norte': 6, 'El Dorado': 3, 'Fresno': 8, 'Glenn': 8, 'Humboldt': 3, 'Imperial': 8, 'Inyo': 7, 'Kern': 10, 'Kings': 5, 'Lake': 10, 'Lassen': 4, 'Los Angeles': 5, 'Madera': 9, 'Marin': 6, 'Mariposa': 8, 'Mendocino': 8, 'Merced': 5, 'Modoc': 6, 'Mono': 6, 'Monterey': 10, 'Napa': 5, 'Nevada': 9, 'Orange': 8, 'Placer': 2, 'Plumas': 10, 'Riverside': 6, 'Sacramento': 9, 'San Benito': 8, 'San Bernardino': 0, 'San Diego': 6, 'San Francisco': 9, 'San Luis Obispo': 9, 'San Mateo': 6, 'Santa Barbara': 5, 'Santa Clara': 8, 'Santa Cruz': 7, 'Shasta': 7, 'Sierra': 6, 'Siskiyou': 8, 'Solano': 5, 'Sonoma': 7, 'Stanislaus': 8, 'Sutter': 7, 'Tehama': 2, 'Trinity': 3, 'Tulare': 6, 'Tuolumne': 8, 'Ventura': 8, 'Yolo': 7, 'Yuba': 5}\n",
      "8 {'Alameda': 6, 'Alpine': 9, 'Amador': 9, 'Calaveras': 12, 'Colusa': 7, 'Contra Costa': 9, 'Del Norte': 7, 'El Dorado': 6, 'Fresno': 9, 'Glenn': 12, 'Humboldt': 3, 'Imperial': 11, 'Inyo': 11, 'Kern': 13, 'Kings': 6, 'Lake': 14, 'Lassen': 4, 'Los Angeles': 8, 'Madera': 12, 'Marin': 10, 'Mariposa': 10, 'Mendocino': 12, 'Merced': 9, 'Modoc': 8, 'Mono': 9, 'Monterey': 14, 'Napa': 7, 'Nevada': 8, 'Orange': 10, 'Placer': 2, 'Plumas': 10, 'Riverside': 10, 'Sacramento': 13, 'San Benito': 10, 'San Bernardino': 0, 'San Diego': 5, 'San Francisco': 12, 'San Joaquin': 9, 'San Mateo': 8, 'Santa Barbara': 7, 'Santa Clara': 11, 'Santa Cruz': 11, 'Shasta': 9, 'Sierra': 11, 'Siskiyou': 11, 'Solano': 10, 'Sonoma': 11, 'Stanislaus': 13, 'Sutter': 11, 'Tehama': 2, 'Trinity': 2, 'Tulare': 10, 'Tuolumne': 9, 'Ventura': 10, 'Yolo': 9, 'Yuba': 8}\n",
      "5 {'Alameda': 3, 'Alpine': 8, 'Amador': 9, 'Calaveras': 8, 'Colusa': 8, 'Contra Costa': 12, 'Del Norte': 8, 'El Dorado': 4, 'Fresno': 8, 'Glenn': 8, 'Humboldt': 2, 'Imperial': 8, 'Inyo': 7, 'Kern': 9, 'Kings': 11, 'Lake': 8, 'Lassen': 1, 'Los Angeles': 12, 'Madera': 8, 'Marin': 8, 'Mariposa': 7, 'Mendocino': 7, 'Merced': 11, 'Modoc': 6, 'Mono': 7, 'Monterey': 8, 'Napa': 4, 'Nevada': 8, 'Orange': 8, 'Placer': 2, 'Plumas': 9, 'Riverside': 10, 'Sacramento': 9, 'San Benito': 8, 'San Bernardino': 0, 'San Diego': 3, 'San Francisco': 9, 'San Joaquin': 6, 'San Luis Obispo': 8, 'Santa Barbara': 10, 'Santa Clara': 9, 'Santa Cruz': 7, 'Shasta': 7, 'Sierra': 6, 'Siskiyou': 9, 'Solano': 8, 'Sonoma': 5, 'Stanislaus': 9, 'Sutter': 10, 'Tehama': 4, 'Trinity': 2, 'Tulare': 7, 'Tuolumne': 8, 'Ventura': 8, 'Yolo': 12, 'Yuba': 5}\n",
      "6 {'Alameda': 3, 'Alpine': 10, 'Amador': 10, 'Calaveras': 12, 'Colusa': 12, 'Contra Costa': 11, 'Del Norte': 9, 'El Dorado': 5, 'Fresno': 14, 'Glenn': 13, 'Humboldt': 2, 'Imperial': 9, 'Inyo': 10, 'Kern': 10, 'Kings': 9, 'Lake': 8, 'Lassen': 2, 'Los Angeles': 14, 'Madera': 9, 'Marin': 11, 'Mariposa': 12, 'Mendocino': 8, 'Merced': 9, 'Modoc': 8, 'Mono': 12, 'Monterey': 10, 'Napa': 6, 'Nevada': 7, 'Orange': 14, 'Placer': 2, 'Plumas': 13, 'Riverside': 10, 'Sacramento': 8, 'San Benito': 13, 'San Bernardino': 0, 'San Diego': 3, 'San Francisco': 9, 'San Joaquin': 5, 'San Luis Obispo': 7, 'San Mateo': 10, 'Santa Clara': 9, 'Santa Cruz': 12, 'Shasta': 8, 'Sierra': 8, 'Siskiyou': 10, 'Solano': 11, 'Sonoma': 7, 'Stanislaus': 10, 'Sutter': 13, 'Tehama': 4, 'Trinity': 3, 'Tulare': 10, 'Tuolumne': 9, 'Ventura': 12, 'Yolo': 11, 'Yuba': 6}\n",
      "10 {'Alameda': 5, 'Alpine': 10, 'Amador': 8, 'Calaveras': 15, 'Colusa': 8, 'Contra Costa': 15, 'Del Norte': 8, 'El Dorado': 6, 'Fresno': 12, 'Glenn': 14, 'Humboldt': 2, 'Imperial': 18, 'Inyo': 9, 'Kern': 12, 'Kings': 8, 'Lake': 12, 'Lassen': 3, 'Los Angeles': 11, 'Madera': 11, 'Marin': 10, 'Mariposa': 12, 'Mendocino': 11, 'Merced': 12, 'Modoc': 12, 'Mono': 11, 'Monterey': 12, 'Napa': 8, 'Nevada': 10, 'Orange': 13, 'Placer': 2, 'Plumas': 11, 'Riverside': 10, 'Sacramento': 13, 'San Benito': 12, 'San Bernardino': 0, 'San Diego': 7, 'San Francisco': 10, 'San Joaquin': 8, 'San Luis Obispo': 11, 'San Mateo': 9, 'Santa Barbara': 9, 'Santa Cruz': 13, 'Shasta': 11, 'Sierra': 11, 'Siskiyou': 16, 'Solano': 9, 'Sonoma': 9, 'Stanislaus': 10, 'Sutter': 12, 'Tehama': 4, 'Trinity': 4, 'Tulare': 11, 'Tuolumne': 11, 'Ventura': 14, 'Yolo': 8, 'Yuba': 10}\n",
      "9 {'Alameda': 5, 'Alpine': 12, 'Amador': 10, 'Calaveras': 14, 'Colusa': 10, 'Contra Costa': 10, 'Del Norte': 7, 'El Dorado': 6, 'Fresno': 13, 'Glenn': 13, 'Humboldt': 2, 'Imperial': 12, 'Inyo': 11, 'Kern': 11, 'Kings': 7, 'Lake': 13, 'Lassen': 3, 'Los Angeles': 10, 'Madera': 12, 'Marin': 12, 'Mariposa': 16, 'Mendocino': 12, 'Merced': 11, 'Modoc': 11, 'Mono': 15, 'Monterey': 11, 'Napa': 10, 'Nevada': 10, 'Orange': 15, 'Placer': 2, 'Plumas': 10, 'Riverside': 10, 'Sacramento': 13, 'San Benito': 13, 'San Bernardino': 0, 'San Diego': 5, 'San Francisco': 10, 'San Joaquin': 7, 'San Luis Obispo': 11, 'San Mateo': 7, 'Santa Barbara': 12, 'Santa Clara': 13, 'Shasta': 10, 'Sierra': 13, 'Siskiyou': 13, 'Solano': 11, 'Sonoma': 11, 'Stanislaus': 11, 'Sutter': 12, 'Tehama': 4, 'Trinity': 5, 'Tulare': 11, 'Tuolumne': 10, 'Ventura': 13, 'Yolo': 9, 'Yuba': 9}\n",
      "7 {'Alameda': 5, 'Alpine': 8, 'Amador': 8, 'Calaveras': 11, 'Colusa': 8, 'Contra Costa': 9, 'Del Norte': 7, 'El Dorado': 6, 'Fresno': 11, 'Glenn': 11, 'Humboldt': 2, 'Imperial': 11, 'Inyo': 8, 'Kern': 10, 'Kings': 7, 'Lake': 11, 'Lassen': 5, 'Los Angeles': 7, 'Madera': 11, 'Marin': 9, 'Mariposa': 11, 'Mendocino': 10, 'Merced': 8, 'Modoc': 9, 'Mono': 9, 'Monterey': 10, 'Napa': 7, 'Nevada': 8, 'Orange': 11, 'Placer': 2, 'Plumas': 9, 'Riverside': 10, 'Sacramento': 11, 'San Benito': 10, 'San Bernardino': 0, 'San Diego': 6, 'San Francisco': 11, 'San Joaquin': 7, 'San Luis Obispo': 9, 'San Mateo': 7, 'Santa Barbara': 8, 'Santa Clara': 11, 'Santa Cruz': 10, 'Sierra': 8, 'Siskiyou': 10, 'Solano': 9, 'Sonoma': 8, 'Stanislaus': 9, 'Sutter': 11, 'Tehama': 2, 'Trinity': 1, 'Tulare': 11, 'Tuolumne': 8, 'Ventura': 9, 'Yolo': 8, 'Yuba': 7}\n",
      "11 {'Alameda': 6, 'Alpine': 10, 'Amador': 8, 'Calaveras': 11, 'Colusa': 10, 'Contra Costa': 7, 'Del Norte': 7, 'El Dorado': 7, 'Fresno': 10, 'Glenn': 11, 'Humboldt': 2, 'Imperial': 12, 'Inyo': 10, 'Kern': 9, 'Kings': 5, 'Lake': 13, 'Lassen': 2, 'Los Angeles': 8, 'Madera': 10, 'Marin': 9, 'Mariposa': 12, 'Mendocino': 11, 'Merced': 10, 'Modoc': 9, 'Mono': 10, 'Monterey': 11, 'Napa': 8, 'Nevada': 11, 'Orange': 10, 'Placer': 2, 'Plumas': 9, 'Riverside': 8, 'Sacramento': 9, 'San Benito': 10, 'San Bernardino': 0, 'San Diego': 4, 'San Francisco': 9, 'San Joaquin': 6, 'San Luis Obispo': 11, 'San Mateo': 6, 'Santa Barbara': 8, 'Santa Clara': 11, 'Santa Cruz': 13, 'Shasta': 8, 'Siskiyou': 10, 'Solano': 10, 'Sonoma': 9, 'Stanislaus': 11, 'Sutter': 9, 'Tehama': 2, 'Trinity': 3, 'Tulare': 8, 'Tuolumne': 9, 'Ventura': 11, 'Yolo': 7, 'Yuba': 11}\n",
      "11 {'Alameda': 5, 'Alpine': 11, 'Amador': 8, 'Calaveras': 16, 'Colusa': 10, 'Contra Costa': 14, 'Del Norte': 8, 'El Dorado': 6, 'Fresno': 13, 'Glenn': 15, 'Humboldt': 2, 'Imperial': 14, 'Inyo': 11, 'Kern': 14, 'Kings': 7, 'Lake': 11, 'Lassen': 3, 'Los Angeles': 12, 'Madera': 12, 'Marin': 10, 'Mariposa': 12, 'Mendocino': 10, 'Merced': 12, 'Modoc': 11, 'Mono': 11, 'Monterey': 13, 'Napa': 8, 'Nevada': 10, 'Orange': 15, 'Placer': 2, 'Plumas': 12, 'Riverside': 10, 'Sacramento': 14, 'San Benito': 14, 'San Bernardino': 0, 'San Diego': 6, 'San Francisco': 10, 'San Joaquin': 8, 'San Luis Obispo': 11, 'San Mateo': 9, 'Santa Barbara': 10, 'Santa Clara': 16, 'Santa Cruz': 13, 'Shasta': 10, 'Sierra': 10, 'Solano': 9, 'Sonoma': 9, 'Stanislaus': 12, 'Sutter': 15, 'Tehama': 4, 'Trinity': 4, 'Tulare': 10, 'Tuolumne': 11, 'Ventura': 15, 'Yolo': 8, 'Yuba': 11}\n",
      "8 {'Alameda': 5, 'Alpine': 12, 'Amador': 8, 'Calaveras': 11, 'Colusa': 9, 'Contra Costa': 9, 'Del Norte': 6, 'El Dorado': 7, 'Fresno': 12, 'Glenn': 11, 'Humboldt': 2, 'Imperial': 10, 'Inyo': 10, 'Kern': 9, 'Kings': 7, 'Lake': 9, 'Lassen': 2, 'Los Angeles': 9, 'Madera': 9, 'Marin': 8, 'Mariposa': 12, 'Mendocino': 9, 'Merced': 11, 'Modoc': 8, 'Mono': 11, 'Monterey': 10, 'Napa': 8, 'Nevada': 8, 'Orange': 12, 'Placer': 2, 'Plumas': 9, 'Riverside': 13, 'Sacramento': 8, 'San Benito': 11, 'San Bernardino': 0, 'San Diego': 3, 'San Francisco': 11, 'San Joaquin': 5, 'San Luis Obispo': 10, 'San Mateo': 8, 'Santa Barbara': 11, 'Santa Clara': 9, 'Santa Cruz': 11, 'Shasta': 9, 'Sierra': 10, 'Siskiyou': 9, 'Sonoma': 8, 'Stanislaus': 10, 'Sutter': 12, 'Tehama': 2, 'Trinity': 2, 'Tulare': 9, 'Tuolumne': 8, 'Ventura': 10, 'Yolo': 9, 'Yuba': 8}\n",
      "7 {'Alameda': 6, 'Alpine': 8, 'Amador': 7, 'Calaveras': 9, 'Colusa': 7, 'Contra Costa': 6, 'Del Norte': 6, 'El Dorado': 5, 'Fresno': 9, 'Glenn': 9, 'Humboldt': 2, 'Imperial': 10, 'Inyo': 11, 'Kern': 10, 'Kings': 4, 'Lake': 11, 'Lassen': 3, 'Los Angeles': 7, 'Madera': 11, 'Marin': 9, 'Mariposa': 12, 'Mendocino': 11, 'Merced': 8, 'Modoc': 8, 'Mono': 11, 'Monterey': 11, 'Napa': 7, 'Nevada': 8, 'Orange': 9, 'Placer': 3, 'Plumas': 7, 'Riverside': 7, 'Sacramento': 13, 'San Benito': 9, 'San Bernardino': 0, 'San Diego': 5, 'San Francisco': 11, 'San Joaquin': 7, 'San Luis Obispo': 11, 'San Mateo': 5, 'Santa Barbara': 7, 'Santa Clara': 9, 'Santa Cruz': 11, 'Shasta': 8, 'Sierra': 9, 'Siskiyou': 9, 'Solano': 8, 'Stanislaus': 11, 'Sutter': 8, 'Tehama': 2, 'Trinity': 3, 'Tulare': 9, 'Tuolumne': 10, 'Ventura': 10, 'Yolo': 8, 'Yuba': 7}\n",
      "9 {'Alameda': 6, 'Alpine': 9, 'Amador': 8, 'Calaveras': 12, 'Colusa': 10, 'Contra Costa': 7, 'Del Norte': 7, 'El Dorado': 6, 'Fresno': 11, 'Glenn': 12, 'Humboldt': 2, 'Imperial': 11, 'Inyo': 13, 'Kern': 15, 'Kings': 5, 'Lake': 13, 'Lassen': 3, 'Los Angeles': 9, 'Madera': 14, 'Marin': 9, 'Mariposa': 11, 'Mendocino': 13, 'Merced': 9, 'Modoc': 10, 'Mono': 10, 'Monterey': 15, 'Napa': 7, 'Nevada': 11, 'Orange': 12, 'Placer': 2, 'Plumas': 10, 'Riverside': 10, 'Sacramento': 12, 'San Benito': 11, 'San Bernardino': 0, 'San Diego': 5, 'San Francisco': 13, 'San Joaquin': 8, 'San Luis Obispo': 13, 'San Mateo': 9, 'Santa Barbara': 10, 'Santa Clara': 10, 'Santa Cruz': 11, 'Shasta': 9, 'Sierra': 11, 'Siskiyou': 12, 'Solano': 10, 'Sonoma': 11, 'Sutter': 11, 'Tehama': 2, 'Trinity': 3, 'Tulare': 9, 'Tuolumne': 10, 'Ventura': 12, 'Yolo': 10, 'Yuba': 9}\n",
      "8 {'Alameda': 5, 'Alpine': 13, 'Amador': 8, 'Calaveras': 16, 'Colusa': 9, 'Contra Costa': 12, 'Del Norte': 8, 'El Dorado': 7, 'Fresno': 15, 'Glenn': 17, 'Humboldt': 2, 'Imperial': 11, 'Inyo': 10, 'Kern': 14, 'Kings': 9, 'Lake': 10, 'Lassen': 3, 'Los Angeles': 11, 'Madera': 11, 'Marin': 10, 'Mariposa': 13, 'Mendocino': 9, 'Merced': 12, 'Modoc': 10, 'Mono': 12, 'Monterey': 13, 'Napa': 8, 'Nevada': 8, 'Orange': 16, 'Placer': 2, 'Plumas': 13, 'Riverside': 13, 'Sacramento': 12, 'San Benito': 14, 'San Bernardino': 0, 'San Diego': 5, 'San Francisco': 10, 'San Joaquin': 7, 'San Luis Obispo': 11, 'San Mateo': 10, 'Santa Barbara': 13, 'Santa Clara': 12, 'Santa Cruz': 12, 'Shasta': 11, 'Sierra': 9, 'Siskiyou': 15, 'Solano': 12, 'Sonoma': 8, 'Stanislaus': 11, 'Tehama': 3, 'Trinity': 2, 'Tulare': 12, 'Tuolumne': 8, 'Ventura': 13, 'Yolo': 9, 'Yuba': 8}\n",
      "2 {'Alameda': 2, 'Alpine': 3, 'Amador': 3, 'Calaveras': 4, 'Colusa': 3, 'Contra Costa': 5, 'Del Norte': 3, 'El Dorado': 2, 'Fresno': 3, 'Glenn': 3, 'Humboldt': 2, 'Imperial': 2, 'Inyo': 2, 'Kern': 3, 'Kings': 4, 'Lake': 2, 'Lassen': 1, 'Los Angeles': 4, 'Madera': 2, 'Marin': 3, 'Mariposa': 2, 'Mendocino': 2, 'Merced': 3, 'Modoc': 3, 'Mono': 3, 'Monterey': 2, 'Napa': 2, 'Nevada': 2, 'Orange': 4, 'Placer': 1, 'Plumas': 3, 'Riverside': 2, 'Sacramento': 4, 'San Benito': 3, 'San Bernardino': 0, 'San Diego': 3, 'San Francisco': 2, 'San Joaquin': 2, 'San Luis Obispo': 2, 'San Mateo': 4, 'Santa Barbara': 4, 'Santa Clara': 4, 'Santa Cruz': 4, 'Shasta': 2, 'Sierra': 2, 'Siskiyou': 4, 'Solano': 2, 'Sonoma': 2, 'Stanislaus': 2, 'Sutter': 3, 'Trinity': 3, 'Tulare': 3, 'Tuolumne': 2, 'Ventura': 3, 'Yolo': 3, 'Yuba': 2}\n",
      "2 {'Alameda': 1, 'Alpine': 4, 'Amador': 2, 'Calaveras': 4, 'Colusa': 3, 'Contra Costa': 3, 'Del Norte': 1, 'El Dorado': 1, 'Fresno': 3, 'Glenn': 3, 'Humboldt': 1, 'Imperial': 3, 'Inyo': 3, 'Kern': 3, 'Kings': 2, 'Lake': 3, 'Lassen': 1, 'Los Angeles': 3, 'Madera': 3, 'Marin': 2, 'Mariposa': 3, 'Mendocino': 3, 'Merced': 3, 'Modoc': 4, 'Mono': 4, 'Monterey': 3, 'Napa': 2, 'Nevada': 3, 'Orange': 4, 'Placer': 0, 'Plumas': 2, 'Riverside': 1, 'Sacramento': 4, 'San Benito': 3, 'San Bernardino': 0, 'San Diego': 2, 'San Francisco': 2, 'San Joaquin': 3, 'San Luis Obispo': 2, 'San Mateo': 2, 'Santa Barbara': 3, 'Santa Clara': 4, 'Santa Cruz': 5, 'Shasta': 1, 'Sierra': 3, 'Siskiyou': 4, 'Solano': 2, 'Sonoma': 3, 'Stanislaus': 3, 'Sutter': 2, 'Tehama': 3, 'Tulare': 2, 'Tuolumne': 3, 'Ventura': 5, 'Yolo': 1, 'Yuba': 2}\n",
      "7 {'Alameda': 5, 'Alpine': 9, 'Amador': 8, 'Calaveras': 11, 'Colusa': 8, 'Contra Costa': 9, 'Del Norte': 7, 'El Dorado': 6, 'Fresno': 11, 'Glenn': 12, 'Humboldt': 2, 'Imperial': 10, 'Inyo': 8, 'Kern': 10, 'Kings': 8, 'Lake': 9, 'Lassen': 3, 'Los Angeles': 8, 'Madera': 10, 'Marin': 8, 'Mariposa': 10, 'Mendocino': 9, 'Merced': 9, 'Modoc': 10, 'Mono': 10, 'Monterey': 9, 'Napa': 7, 'Nevada': 8, 'Orange': 11, 'Placer': 2, 'Plumas': 8, 'Riverside': 9, 'Sacramento': 12, 'San Benito': 11, 'San Bernardino': 0, 'San Diego': 4, 'San Francisco': 11, 'San Joaquin': 6, 'San Luis Obispo': 10, 'San Mateo': 7, 'Santa Barbara': 10, 'Santa Clara': 11, 'Santa Cruz': 11, 'Shasta': 11, 'Sierra': 8, 'Siskiyou': 10, 'Solano': 9, 'Sonoma': 9, 'Stanislaus': 9, 'Sutter': 12, 'Tehama': 3, 'Trinity': 2, 'Tuolumne': 9, 'Ventura': 11, 'Yolo': 7, 'Yuba': 7}\n",
      "8 {'Alameda': 4, 'Alpine': 9, 'Amador': 8, 'Calaveras': 9, 'Colusa': 8, 'Contra Costa': 9, 'Del Norte': 6, 'El Dorado': 5, 'Fresno': 11, 'Glenn': 9, 'Humboldt': 2, 'Imperial': 12, 'Inyo': 9, 'Kern': 9, 'Kings': 5, 'Lake': 10, 'Lassen': 3, 'Los Angeles': 11, 'Madera': 10, 'Marin': 8, 'Mariposa': 11, 'Mendocino': 11, 'Merced': 12, 'Modoc': 8, 'Mono': 10, 'Monterey': 10, 'Napa': 6, 'Nevada': 12, 'Orange': 9, 'Placer': 2, 'Plumas': 8, 'Riverside': 7, 'Sacramento': 10, 'San Benito': 10, 'San Bernardino': 0, 'San Diego': 5, 'San Francisco': 9, 'San Joaquin': 8, 'San Luis Obispo': 9, 'San Mateo': 8, 'Santa Barbara': 9, 'Santa Clara': 11, 'Santa Cruz': 10, 'Shasta': 8, 'Sierra': 9, 'Siskiyou': 11, 'Solano': 8, 'Sonoma': 10, 'Stanislaus': 10, 'Sutter': 8, 'Tehama': 2, 'Trinity': 3, 'Tulare': 9, 'Ventura': 12, 'Yolo': 7, 'Yuba': 8}\n",
      "10 {'Alameda': 5, 'Alpine': 11, 'Amador': 9, 'Calaveras': 13, 'Colusa': 10, 'Contra Costa': 11, 'Del Norte': 7, 'El Dorado': 6, 'Fresno': 13, 'Glenn': 14, 'Humboldt': 2, 'Imperial': 15, 'Inyo': 11, 'Kern': 12, 'Kings': 6, 'Lake': 12, 'Lassen': 4, 'Los Angeles': 13, 'Madera': 13, 'Marin': 9, 'Mariposa': 12, 'Mendocino': 12, 'Merced': 13, 'Modoc': 11, 'Mono': 12, 'Monterey': 13, 'Napa': 8, 'Nevada': 10, 'Orange': 13, 'Placer': 2, 'Plumas': 10, 'Riverside': 10, 'Sacramento': 11, 'San Benito': 13, 'San Bernardino': 0, 'San Diego': 6, 'San Francisco': 11, 'San Joaquin': 8, 'San Luis Obispo': 10, 'San Mateo': 8, 'Santa Barbara': 12, 'Santa Clara': 14, 'Santa Cruz': 13, 'Shasta': 9, 'Sierra': 11, 'Siskiyou': 15, 'Solano': 10, 'Sonoma': 10, 'Stanislaus': 12, 'Sutter': 13, 'Tehama': 3, 'Trinity': 5, 'Tulare': 11, 'Tuolumne': 12, 'Yolo': 7, 'Yuba': 10}\n",
      "5 {'Alameda': 4, 'Alpine': 6, 'Amador': 9, 'Calaveras': 9, 'Colusa': 8, 'Contra Costa': 10, 'Del Norte': 9, 'El Dorado': 5, 'Fresno': 9, 'Glenn': 9, 'Humboldt': 2, 'Imperial': 8, 'Inyo': 9, 'Kern': 11, 'Kings': 8, 'Lake': 11, 'Lassen': 2, 'Los Angeles': 9, 'Madera': 10, 'Marin': 9, 'Mariposa': 11, 'Mendocino': 9, 'Merced': 6, 'Modoc': 6, 'Mono': 10, 'Monterey': 11, 'Napa': 4, 'Nevada': 8, 'Orange': 9, 'Placer': 2, 'Plumas': 11, 'Riverside': 10, 'Sacramento': 11, 'San Benito': 8, 'San Bernardino': 0, 'San Diego': 4, 'San Francisco': 11, 'San Joaquin': 7, 'San Luis Obispo': 9, 'San Mateo': 12, 'Santa Barbara': 11, 'Santa Clara': 8, 'Santa Cruz': 9, 'Shasta': 8, 'Sierra': 7, 'Siskiyou': 8, 'Solano': 9, 'Sonoma': 8, 'Stanislaus': 10, 'Sutter': 9, 'Tehama': 3, 'Trinity': 1, 'Tulare': 7, 'Tuolumne': 7, 'Ventura': 7, 'Yuba': 5}\n",
      "20 {'Alameda': 7, 'Alpine': 10, 'Amador': 6, 'Calaveras': 9, 'Colusa': 8, 'Contra Costa': 7, 'Del Norte': 8, 'El Dorado': 7, 'Fresno': 8, 'Glenn': 9, 'Humboldt': 2, 'Imperial': 10, 'Inyo': 9, 'Kern': 8, 'Kings': 5, 'Lake': 8, 'Lassen': 3, 'Los Angeles': 7, 'Madera': 8, 'Marin': 7, 'Mariposa': 9, 'Mendocino': 9, 'Merced': 9, 'Modoc': 8, 'Mono': 9, 'Monterey': 8, 'Napa': 9, 'Nevada': 7, 'Orange': 8, 'Placer': 2, 'Plumas': 7, 'Riverside': 8, 'Sacramento': 8, 'San Benito': 10, 'San Bernardino': 0, 'San Diego': 5, 'San Francisco': 7, 'San Joaquin': 5, 'San Luis Obispo': 8, 'San Mateo': 5, 'Santa Barbara': 6, 'Santa Clara': 10, 'Santa Cruz': 9, 'Shasta': 7, 'Sierra': 11, 'Siskiyou': 11, 'Solano': 8, 'Sonoma': 7, 'Stanislaus': 9, 'Sutter': 8, 'Tehama': 2, 'Trinity': 2, 'Tulare': 7, 'Tuolumne': 8, 'Ventura': 10, 'Yolo': 5}\n"
     ]
    }
   ],
   "source": [
    "for i in idk:\n",
    "    test = {}\n",
    "    for j in idk:\n",
    "        score = 0\n",
    "        \n",
    "        for o in df_4.loc[df_4.county == i,(\"product_name\",\"rank\")].values:\n",
    "            for z in df_4.loc[df_4.county == j,(\"product_name\",\"rank\")].values:\n",
    "                if o[0] == z[0]:\n",
    "                    score = score+1\n",
    "                    if o[1] == z[1]:\n",
    "                        score = score+1\n",
    "        if score < 20:\n",
    "         test.update({f\"{j}\":score})\n",
    "                \n",
    "    print(score, test)\n",
    "    idk.update({i:test})\n",
    "         "
   ]
  },
  {
   "cell_type": "code",
   "execution_count": 10,
   "metadata": {},
   "outputs": [
    {
     "data": {
      "text/plain": [
       "{'Alameda': 5,\n",
       " 'Amador': 7,\n",
       " 'Calaveras': 12,\n",
       " 'Colusa': 10,\n",
       " 'Contra Costa': 8,\n",
       " 'Del Norte': 5,\n",
       " 'El Dorado': 7,\n",
       " 'Fresno': 13,\n",
       " 'Glenn': 12,\n",
       " 'Humboldt': 2,\n",
       " 'Imperial': 10,\n",
       " 'Inyo': 11,\n",
       " 'Kern': 10,\n",
       " 'Kings': 9,\n",
       " 'Lake': 9,\n",
       " 'Lassen': 2,\n",
       " 'Los Angeles': 9,\n",
       " 'Madera': 9,\n",
       " 'Marin': 8,\n",
       " 'Mariposa': 12,\n",
       " 'Mendocino': 10,\n",
       " 'Merced': 14,\n",
       " 'Modoc': 10,\n",
       " 'Mono': 13,\n",
       " 'Monterey': 10,\n",
       " 'Napa': 9,\n",
       " 'Nevada': 8,\n",
       " 'Orange': 12,\n",
       " 'Placer': 2,\n",
       " 'Plumas': 10,\n",
       " 'Riverside': 11,\n",
       " 'Sacramento': 9,\n",
       " 'San Benito': 15,\n",
       " 'San Bernardino': 0,\n",
       " 'San Diego': 4,\n",
       " 'San Francisco': 8,\n",
       " 'San Joaquin': 6,\n",
       " 'San Luis Obispo': 9,\n",
       " 'San Mateo': 8,\n",
       " 'Santa Barbara': 10,\n",
       " 'Santa Clara': 10,\n",
       " 'Santa Cruz': 12,\n",
       " 'Shasta': 8,\n",
       " 'Sierra': 10,\n",
       " 'Siskiyou': 11,\n",
       " 'Solano': 12,\n",
       " 'Sonoma': 8,\n",
       " 'Stanislaus': 9,\n",
       " 'Sutter': 13,\n",
       " 'Tehama': 3,\n",
       " 'Trinity': 4,\n",
       " 'Tulare': 9,\n",
       " 'Tuolumne': 9,\n",
       " 'Ventura': 11,\n",
       " 'Yolo': 6,\n",
       " 'Yuba': 10}"
      ]
     },
     "execution_count": 10,
     "metadata": {},
     "output_type": "execute_result"
    }
   ],
   "source": [
    "idk[\"Alpine\"]"
   ]
  }
 ],
 "metadata": {
  "kernelspec": {
   "display_name": "Python 3.10.9 64-bit (microsoft store)",
   "language": "python",
   "name": "python3"
  },
  "language_info": {
   "codemirror_mode": {
    "name": "ipython",
    "version": 3
   },
   "file_extension": ".py",
   "mimetype": "text/x-python",
   "name": "python",
   "nbconvert_exporter": "python",
   "pygments_lexer": "ipython3",
   "version": "3.10.9"
  },
  "orig_nbformat": 4,
  "vscode": {
   "interpreter": {
    "hash": "f057ee858b85cb61ebf4db329176c41c101b87ce182c0543c232437d49c5b088"
   }
  }
 },
 "nbformat": 4,
 "nbformat_minor": 2
}
